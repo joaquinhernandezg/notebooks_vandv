{
 "cells": [
  {
   "cell_type": "markdown",
   "id": "37d877cb-bc15-42af-b769-e76854feece7",
   "metadata": {},
   "source": [
    "### The following notebook requires the summit_utils module which is available here: https://github.com/lsst-sitcom/summit_utils.git, be sure to check out branch tickets/DM-31175.\n",
    "\n",
    "### As of November 3, one needs to run version w_2022_44 of lsst_distrib."
   ]
  },
  {
   "cell_type": "code",
   "execution_count": 5,
   "id": "a34f15c4-9cfb-4800-ae62-72c74690a6ea",
   "metadata": {},
   "outputs": [
    {
     "name": "stdout",
     "output_type": "stream",
     "text": [
      "You are running w_2022_44 of lsst_distrib\n",
      "\n",
      "Locally setup packages:\n",
      "-----------------------\n",
      "summit_utils at /home/a/adriansh/software/summit_utils\n"
     ]
    }
   ],
   "source": [
    "from lsst.summit.utils.utils import checkStackSetup, getExpPositionOffset\n",
    "import os\n",
    "from natsort import natsorted\n",
    "import matplotlib.pyplot as plt\n",
    "import numpy as np\n",
    "from lsst.summit.utils.blindSolving import blindSolve, chuckHeaderToWcs, headerToWcs, runImchar\n",
    "import lsst.afw.image as afwImage\n",
    "import glob\n",
    "%matplotlib inline\n",
    "checkStackSetup()"
   ]
  },
  {
   "cell_type": "code",
   "execution_count": 6,
   "id": "055e349a-2b2e-45e2-8890-5e37d0728966",
   "metadata": {},
   "outputs": [
    {
     "name": "stdout",
     "output_type": "stream",
     "text": [
      "Found 99 files\n"
     ]
    }
   ],
   "source": [
    "tmaTestsPath = '/home/a/adriansh/data/StarTracker/tmaTests/' # Adrian at USDF\n",
    "imageDir = 'procFits'\n",
    "wcsDir = 'wcsFits'\n",
    "imagePath = os.path.join(tmaTestsPath, imageDir, '*.fits') \n",
    "wcsPath = os.path.join(tmaTestsPath, wcsDir)\n",
    "passPath = os.path.join(wcsPath, 'pass')\n",
    "failPath = os.path.join(wcsPath, 'fail')\n",
    "files = glob.glob(imagePath)\n",
    "files = natsorted(files)\n",
    "print(f\"Found {len(files)} files\")"
   ]
  },
  {
   "cell_type": "markdown",
   "id": "0caa4557-1cdb-4c18-924b-f4a0fa5b8fa9",
   "metadata": {},
   "source": [
    "### Loop over files, solving for the wcs using astrometry.net. Inspect and verify by eye that the images do not appear saturated. Write WCSs to pass or fail directory"
   ]
  },
  {
   "cell_type": "code",
   "execution_count": null,
   "id": "dff755fc-7f58-490c-8674-f11c5789ab1d",
   "metadata": {
    "tags": []
   },
   "outputs": [
    {
     "data": {
      "text/html": [
       "<pre style=\"margin: 0.1em;\n",
       "padding-left: 0.25em;\n",
       "border-left-style: solid;\n",
       "font-family: var(--jp-code-font-family);\n",
       "font-size: var(--jp-code-font-size);\n",
       "line-height: var(--jp-code-line-height);\n",
       "\"><span style=\"color: var(--jp-warn-color2)\">lsst.afw.image.MaskedImageFitsReader</span> <span style=\"color: var(--jp-warn-color0)\">WARNING</span>: Expected extension type not found: IMAGE</pre>"
      ],
      "text/plain": [
       "<IPython.core.display.HTML object>"
      ]
     },
     "metadata": {},
     "output_type": "display_data"
    },
    {
     "data": {
      "text/html": [
       "<pre style=\"margin: 0.1em;\n",
       "padding-left: 0.25em;\n",
       "border-left-style: solid;\n",
       "font-family: var(--jp-code-font-family);\n",
       "font-size: var(--jp-code-font-size);\n",
       "line-height: var(--jp-code-line-height);\n",
       "\"><span style=\"color: var(--jp-warn-color2)\">lsst.characterizeImage</span> <span style=\"color: var(--jp-info-color0)\">INFO</span>: CharacterizeImageTask initialized with &#x27;simple&#x27; PSF.</pre>"
      ],
      "text/plain": [
       "<IPython.core.display.HTML object>"
      ]
     },
     "metadata": {},
     "output_type": "display_data"
    },
    {
     "data": {
      "text/html": [
       "<pre style=\"margin: 0.1em;\n",
       "padding-left: 0.25em;\n",
       "border-left-style: solid;\n",
       "font-family: var(--jp-code-font-family);\n",
       "font-size: var(--jp-code-font-size);\n",
       "line-height: var(--jp-code-line-height);\n",
       "\"><span style=\"color: var(--jp-warn-color2)\">lsst.characterizeImage.detection</span> <span style=\"color: var(--jp-info-color0)\">INFO</span>: Detected 220 positive peaks in 200 footprints and 0 negative peaks in 0 footprints to 50 sigma</pre>"
      ],
      "text/plain": [
       "<IPython.core.display.HTML object>"
      ]
     },
     "metadata": {},
     "output_type": "display_data"
    },
    {
     "data": {
      "text/html": [
       "<pre style=\"margin: 0.1em;\n",
       "padding-left: 0.25em;\n",
       "border-left-style: solid;\n",
       "font-family: var(--jp-code-font-family);\n",
       "font-size: var(--jp-code-font-size);\n",
       "line-height: var(--jp-code-line-height);\n",
       "\"><span style=\"color: var(--jp-warn-color2)\">lsst.characterizeImage.detection</span> <span style=\"color: var(--jp-info-color0)\">INFO</span>: Resubtracting the background after object detection</pre>"
      ],
      "text/plain": [
       "<IPython.core.display.HTML object>"
      ]
     },
     "metadata": {},
     "output_type": "display_data"
    },
    {
     "data": {
      "text/html": [
       "<pre style=\"margin: 0.1em;\n",
       "padding-left: 0.25em;\n",
       "border-left-style: solid;\n",
       "font-family: var(--jp-code-font-family);\n",
       "font-size: var(--jp-code-font-size);\n",
       "line-height: var(--jp-code-line-height);\n",
       "\"><span style=\"color: var(--jp-warn-color2)\">lsst.characterizeImage.measurement</span> <span style=\"color: var(--jp-info-color0)\">INFO</span>: Measuring 200 sources (200 parents, 0 children) </pre>"
      ],
      "text/plain": [
       "<IPython.core.display.HTML object>"
      ]
     },
     "metadata": {},
     "output_type": "display_data"
    },
    {
     "data": {
      "text/html": [
       "<pre style=\"margin: 0.1em;\n",
       "padding-left: 0.25em;\n",
       "border-left-style: solid;\n",
       "font-family: var(--jp-code-font-family);\n",
       "font-size: var(--jp-code-font-size);\n",
       "line-height: var(--jp-code-line-height);\n",
       "\"><span style=\"color: var(--jp-warn-color2)\">lsst.characterizeImage</span> <span style=\"color: var(--jp-info-color0)\">INFO</span>: iter 1; PSF sigma=1.50, dimensions=(11, 11); median background=29233.69</pre>"
      ],
      "text/plain": [
       "<IPython.core.display.HTML object>"
      ]
     },
     "metadata": {},
     "output_type": "display_data"
    },
    {
     "data": {
      "text/html": [
       "<pre style=\"margin: 0.1em;\n",
       "padding-left: 0.25em;\n",
       "border-left-style: solid;\n",
       "font-family: var(--jp-code-font-family);\n",
       "font-size: var(--jp-code-font-size);\n",
       "line-height: var(--jp-code-line-height);\n",
       "\"><span style=\"color: var(--jp-warn-color2)\">lsst.characterizeImage.measurement</span> <span style=\"color: var(--jp-info-color0)\">INFO</span>: Measuring 200 sources (200 parents, 0 children) </pre>"
      ],
      "text/plain": [
       "<IPython.core.display.HTML object>"
      ]
     },
     "metadata": {},
     "output_type": "display_data"
    },
    {
     "name": "stdout",
     "output_type": "stream",
     "text": [
      "Found 200 sources, 200 bright sources\n",
      "Brightest centroid at (2502.8355475245676, 15.424371417540591)\n",
      "Got nan for ra/dec from visitInfo, using ra/dec from wcs...\n",
      "Solving........"
     ]
    }
   ],
   "source": [
    "stopImage = 1\n",
    "for filename in files[:stopImage]:\n",
    "    stemName = os.path.basename(filename).split('.')[0]\n",
    "    imageAcceptable = True\n",
    "    exp = afwImage.ExposureF(filename)\n",
    "    nominalWcs = chuckHeaderToWcs(exp)\n",
    "    exp.setWcs(nominalWcs)\n",
    "    result = blindSolve(exp, radiusInDegrees=30)\n",
    "    mean = np.mean(exp.image.array)\n",
    "    std = np.std(exp.image.array)\n",
    "    plt.figure(figsize=(14, 14))\n",
    "\n",
    "    while True:\n",
    "        plt.imshow(exp.image.array, vmin=mean-2*std, vmax=mean+2*std)\n",
    "        plt.colorbar(shrink=0.72)\n",
    "        plt.show()\n",
    "        saturatedStars = input('Do any sources look saturated? (y/n)')\n",
    "        if saturatedStars == 'y':\n",
    "            imageAcceptable = False\n",
    "            break\n",
    "        elif saturatedStars == 'n':\n",
    "            break\n",
    "        else:\n",
    "            print('Invalid input. (y/n)')\n",
    "            continue\n",
    "\n",
    "    if imageAcceptable:\n",
    "        writeTo = os.path.join(passPath, f'{stemName}.fits')\n",
    "        print('Image acceptable. Proceed.')\n",
    "    else:\n",
    "        print('Image unacceptable. Stop and explain failure')\n",
    "        writeTo = os.path.join(failPath, f'{stemName}.fits')\n",
    "    \n",
    "    exp.writeFits(writeTo)\n",
    "    print(f'Wrote {writeTo}')"
   ]
  },
  {
   "cell_type": "code",
   "execution_count": null,
   "id": "a65dd3c7-295e-434f-9208-667ad0f7669a",
   "metadata": {},
   "outputs": [],
   "source": []
  }
 ],
 "metadata": {
  "kernelspec": {
   "display_name": "LSST",
   "language": "python",
   "name": "lsst"
  },
  "language_info": {
   "codemirror_mode": {
    "name": "ipython",
    "version": 3
   },
   "file_extension": ".py",
   "mimetype": "text/x-python",
   "name": "python",
   "nbconvert_exporter": "python",
   "pygments_lexer": "ipython3",
   "version": "3.10.5"
  }
 },
 "nbformat": 4,
 "nbformat_minor": 5
}
