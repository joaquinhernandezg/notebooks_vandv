{
 "cells": [
  {
   "cell_type": "markdown",
   "id": "cff92e66-8d7e-46a0-92a5-bede9f097f62",
   "metadata": {},
   "source": [
    "# M2 AOS duration test\n",
    "\n",
    "Using the CSC and the Jupiter Notebook LVV-T1789-M2_aos_duration_test.ipynb select 5 bending modes and it applies each bending mode with positive and negative sign, one by one, holds each bending mode for 39 second and repeats sequence of the bending mode application for 3 times.    \n"
   ]
  },
  {
   "cell_type": "markdown",
   "id": "630e8dca-6fb4-4e9e-9ecf-494928cefbb2",
   "metadata": {},
   "source": [
    "## Import Modules"
   ]
  },
  {
   "cell_type": "code",
   "execution_count": null,
   "id": "6945ae01-c911-44cb-98bf-0399914c4da0",
   "metadata": {
    "tags": []
   },
   "outputs": [],
   "source": [
    "import asyncio\n",
    "import yaml\n",
    "import numpy as np\n",
    "from datetime import datetime\n",
    "from lsst.ts import salobj\n",
    "from lsst.ts.m2com import NUM_ACTUATOR, NUM_TANGENT_LINK\n",
    "from lsst.ts.ofc.utils import get_config_dir as get_config_dir_ofc"
   ]
  },
  {
   "cell_type": "markdown",
   "id": "ac412f2b-b4fa-418f-aba6-2e667819a78c",
   "metadata": {},
   "source": [
    "## Declaration of User-defined Functions"
   ]
  },
  {
   "cell_type": "code",
   "execution_count": null,
   "id": "fb7190c4-6405-4a17-99ed-4046cbe6191c",
   "metadata": {
    "tags": []
   },
   "outputs": [],
   "source": [
    "def get_bending_mode():\n",
    "    \"\"\"Get the bending mode.\n",
    "\n",
    "    Returns\n",
    "    -------\n",
    "    bending_mode : `numpy.ndarray`\n",
    "        Bending mode.\n",
    "    \"\"\"\n",
    "    bending_mode_file = get_config_dir_ofc() / \"M2\" / \"M2_1um_72_force.yaml\"\n",
    "    with open(bending_mode_file, \"r\") as yaml_file:\n",
    "        bending_mode = np.array(yaml.safe_load(yaml_file))\n",
    "\n",
    "    \n",
    "    return bending_mode"
   ]
  },
  {
   "cell_type": "code",
   "execution_count": null,
   "id": "9f36eb15-92cf-4e14-bef2-72954d46cfe8",
   "metadata": {
    "tags": []
   },
   "outputs": [],
   "source": [
    "def get_bending_mode_forces(bending_mode, idx_bending_mode, amplitude):\n",
    "    \"\"\"Plot the forces of bending mode.\n",
    "    \n",
    "    Parameters\n",
    "    ----------\n",
    "    bending_mode : `numpy.ndarray`\n",
    "        Bending mode data.\n",
    "    idx_bending_mode : `int`\n",
    "        Index of bending mode (1-20).\n",
    "    amplitude : `float`\n",
    "        Amplitude of bending mode in um.\n",
    "        \n",
    "    Returns\n",
    "    -------\n",
    "    `numpy.ndarray`\n",
    "        Actuator forces in Newton.\n",
    "    \"\"\"\n",
    "\n",
    "    # Column 0-2 are the actuator ID, x and y position of actuator\n",
    "    return amplitude * bending_mode[:, 2+idx_bending_mode]"
   ]
  },
  {
   "cell_type": "code",
   "execution_count": null,
   "id": "c52a3f6a-1c35-4a0f-8753-65e929284b79",
   "metadata": {
    "tags": []
   },
   "outputs": [],
   "source": [
    "async def apply_force_cycle_axial(csc, forces, time_forces=5, time_reset=5):\n",
    "    \"\"\"Apply the force cycle to axial actuators. The cycle will be positive force, clear,\n",
    "    negative force, clear.\n",
    "\n",
    "    Parameters\n",
    "    ----------\n",
    "    csc : `lsst.ts.salobj.remote.Remote`\n",
    "        Remote object of the M2 CSC.\n",
    "    forces : `numpy.ndarray`\n",
    "        Axial forces to apply (Newton).\n",
    "    time_forces : `float`, optional\n",
    "        Time to apply the forces in second. (the default is 5.0) \n",
    "    time_reset : `float`, optional\n",
    "        Time to reset the forces in second. (the default is 5.0)\n",
    "    \"\"\"\n",
    "    \n",
    "    # Do the positive direction first\n",
    "    print(f\"Apply the force: {forces} N.\")\n",
    "    await csc.cmd_applyForces.set_start(axial=forces.tolist())\n",
    "    await asyncio.sleep(time_forces)\n",
    "\n",
    "    # Put back to origin\n",
    "    print(\"Reset the force.\")\n",
    "    await csc.cmd_resetForceOffsets.set_start()\n",
    "    await asyncio.sleep(time_reset)\n",
    "\n",
    "    # Do the Negative direction\n",
    "    forces_negative = -forces\n",
    "\n",
    "    print(f\"Apply the force: {forces_negative} N.\")\n",
    "    await csc.cmd_applyForces.set_start(axial=forces_negative.tolist())\n",
    "    await asyncio.sleep(time_forces)\n",
    "\n",
    "    # Put back to origin\n",
    "    print(\"Reset the force.\")\n",
    "    await csc.cmd_resetForceOffsets.set_start()\n",
    "    await asyncio.sleep(time_reset)"
   ]
  },
  {
   "cell_type": "markdown",
   "id": "50a825e1-91b3-4dd4-ad90-e27154001a50",
   "metadata": {
    "execution": {
     "iopub.execute_input": "2023-02-15T12:53:11.930901Z",
     "iopub.status.busy": "2023-02-15T12:53:11.930612Z",
     "iopub.status.idle": "2023-02-15T12:53:11.933205Z",
     "shell.execute_reply": "2023-02-15T12:53:11.932768Z",
     "shell.execute_reply.started": "2023-02-15T12:53:11.930883Z"
    }
   },
   "source": [
    "## Prepare the M2 CSC and put to Enabled state"
   ]
  },
  {
   "cell_type": "code",
   "execution_count": null,
   "id": "6a4b25c7-5665-4fd7-b362-2fadb93218d8",
   "metadata": {
    "tags": []
   },
   "outputs": [],
   "source": [
    "domain = salobj.Domain()\n",
    "m2 = salobj.Remote(domain, \"MTM2\")\n",
    "await m2.start_task\n",
    "await m2.cmd_setLogLevel.set_start(level=10)"
   ]
  },
  {
   "cell_type": "code",
   "execution_count": null,
   "id": "9fa72572-caf0-4e0e-a378-4909bd0b66c6",
   "metadata": {
    "tags": []
   },
   "outputs": [],
   "source": [
    "# get status\n",
    "\n",
    "state = m2.evt_summaryState.get()\n",
    "print(state)"
   ]
  },
  {
   "cell_type": "code",
   "execution_count": null,
   "id": "f82c6a69-800d-4b70-8ad4-1e55abb2089f",
   "metadata": {},
   "outputs": [],
   "source": [
    "# Standby  -->  Disable\n",
    "await m2.cmd_start.set_start(timeout=60)"
   ]
  },
  {
   "cell_type": "code",
   "execution_count": null,
   "id": "680b4ad4-8b6f-4fbc-b476-3e916a5c2b12",
   "metadata": {
    "tags": []
   },
   "outputs": [],
   "source": [
    "# Disable  -->  Enabled\n",
    "await m2.cmd_enable.set_start(timeout=200)"
   ]
  },
  {
   "cell_type": "code",
   "execution_count": null,
   "id": "6ea0f917-f965-4f25-8caa-ec9d266d5bcd",
   "metadata": {
    "tags": []
   },
   "outputs": [],
   "source": [
    "# Enabled  -->  Disable\n",
    "await m2.cmd_disable.set_start(timeout=30)"
   ]
  },
  {
   "cell_type": "code",
   "execution_count": null,
   "id": "5ee736cd-783a-41b8-9b35-c08385d4c262",
   "metadata": {},
   "outputs": [],
   "source": [
    "#Disable  -->  Standby\n",
    "await m2.cmd_standby.set_start(timeout=30)"
   ]
  },
  {
   "cell_type": "code",
   "execution_count": null,
   "id": "6ef537a3-e7d7-4938-82c7-e8d1c37a1c0b",
   "metadata": {},
   "outputs": [],
   "source": [
    "#Fault --> Standby\n",
    "await m2.cmd_standby.set_start(timeout=30)"
   ]
  },
  {
   "cell_type": "markdown",
   "id": "6344b357-b846-475b-b8e6-487b9676027a",
   "metadata": {},
   "source": [
    "## Looping over 5 bending modes \n",
    "Loop over 5 bending modes with positive and negative signs for three times. "
   ]
  },
  {
   "cell_type": "code",
   "execution_count": null,
   "id": "114ab86c-670a-43c7-a0ae-9fa799a31a3c",
   "metadata": {
    "tags": []
   },
   "outputs": [],
   "source": [
    "bending_mode = get_bending_mode()"
   ]
  },
  {
   "cell_type": "code",
   "execution_count": null,
   "id": "2322d410-b397-466b-a5a4-b06d6a7d89dd",
   "metadata": {
    "tags": []
   },
   "outputs": [],
   "source": [
    "# array definition\n",
    "\n",
    "# bending modes scaling factors\n",
    "amplitude = np.array([1, 0.1])"
   ]
  },
  {
   "cell_type": "code",
   "execution_count": null,
   "id": "9a23c730-90ba-42d2-a70f-4394578943b0",
   "metadata": {
    "tags": []
   },
   "outputs": [],
   "source": [
    "time_start = datetime.now()\n",
    "print(f\"UTC time to is {time_start} now.\")\n",
    "\n",
    "\n",
    "idx = 0\n",
    "\n",
    "for idx in range(1,4):\n",
    "\n",
    "        # apply 5 bending modes(+/-) in sequence and hold each mode for 39 seconds\n",
    "\n",
    "        print(f\"Status of advancement: Bending mode {5}, mode amplitude {amplitude[0]}\")\n",
    "        forces = get_bending_mode_forces(bending_mode, 5, amplitude[0])\n",
    "        # apply single +/- bending mode \n",
    "        await apply_force_cycle_axial(m2, forces, time_forces = 39, time_reset=5)\n",
    "\n",
    "\n",
    "        print(f\"Status of advancement: Bending mode {7}, mode amplitude {amplitude[0]}\")\n",
    "        forces = get_bending_mode_forces(bending_mode, 7, amplitude[0])\n",
    "        # apply single +/- bending mode \n",
    "        await apply_force_cycle_axial(m2, forces, time_forces = 39, time_reset=5)\n",
    "\n",
    "\n",
    "        print(f\"Status of advancement: Bending mode {10}, mode amplitude {amplitude[0]}\")\n",
    "        forces = get_bending_mode_forces(bending_mode, 10, amplitude[0])\n",
    "        # apply single +/- bending mode \n",
    "        await apply_force_cycle_axial(m2, forces, time_forces = 39, time_reset=5)\n",
    "\n",
    "        \n",
    "        print(f\"Status of advancement: Bending mode {15}, mode amplitude {amplitude[1]}\")\n",
    "        forces = get_bending_mode_forces(bending_mode, 15, amplitude[1])\n",
    "        # apply single +/- bending mode \n",
    "        await apply_force_cycle_axial(m2, forces, time_forces = 39, time_reset=5)\n",
    "        \n",
    "\n",
    "        print(f\"Status of advancement: Bending mode {20}, mode amplitude {amplitude[1]}\")\n",
    "        forces = get_bending_mode_forces(bending_mode, 20, amplitude[1])\n",
    "        # apply single +/- bending mode \n",
    "        await apply_force_cycle_axial(m2, forces, time_forces = 39, time_reset=5)\n",
    "\n",
    "        \n",
    "time_end = datetime.now()\n",
    "print(f\"UTC time to is {time_end} now.\")"
   ]
  }
 ],
 "metadata": {
  "kernelspec": {
   "display_name": "LSST",
   "language": "python",
   "name": "lsst"
  },
  "language_info": {
   "codemirror_mode": {
    "name": "ipython",
    "version": 3
   },
   "file_extension": ".py",
   "mimetype": "text/x-python",
   "name": "python",
   "nbconvert_exporter": "python",
   "pygments_lexer": "ipython3",
   "version": "3.10.10"
  }
 },
 "nbformat": 4,
 "nbformat_minor": 5
}
