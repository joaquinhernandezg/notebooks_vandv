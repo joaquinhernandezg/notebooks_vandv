{
 "cells": [
  {
   "cell_type": "markdown",
   "id": "d6ff33ef-591f-4da7-b957-1ead52e9ff6f",
   "metadata": {},
   "source": [
    "# M2 Force balance system test through a bump sequence - tangent actuators\n",
    "\n",
    "This Jupyter notebook is to run the bump test of M2 to verify that the M2 force balance system works as expected in closed-loop.\n",
    "The A2 tangent actuator is issued with a fixed force of 300 N with pull/push (+/-) movement one by one."
   ]
  },
  {
   "cell_type": "markdown",
   "id": "96c70ef4-1d6c-480d-bd6d-f96a977c2f2a",
   "metadata": {},
   "source": [
    "## Import Modules"
   ]
  },
  {
   "cell_type": "code",
   "execution_count": 1,
   "id": "e06db634-83dd-4a0d-ba1b-d6a4eaa3faa6",
   "metadata": {
    "execution": {
     "iopub.execute_input": "2023-07-06T03:14:12.910254Z",
     "iopub.status.busy": "2023-07-06T03:14:12.910102Z",
     "iopub.status.idle": "2023-07-06T03:14:14.700495Z",
     "shell.execute_reply": "2023-07-06T03:14:14.699804Z",
     "shell.execute_reply.started": "2023-07-06T03:14:12.910239Z"
    },
    "tags": []
   },
   "outputs": [
    {
     "data": {
      "text/html": [
       "<pre style=\"margin: 0.1em;\n",
       "padding-left: 0.25em;\n",
       "border-left-style: solid;\n",
       "font-family: var(--jp-code-font-family);\n",
       "font-size: var(--jp-code-font-size);\n",
       "line-height: var(--jp-code-line-height);\n",
       "\"><span style=\"color: var(--jp-warn-color2)\">lsst.ts.utils.tai</span> <span style=\"color: var(--jp-info-color0)\">INFO</span>: Update leap second table</pre>"
      ],
      "text/plain": [
       "<IPython.core.display.HTML object>"
      ]
     },
     "metadata": {},
     "output_type": "display_data"
    },
    {
     "data": {
      "text/html": [
       "<pre style=\"margin: 0.1em;\n",
       "padding-left: 0.25em;\n",
       "border-left-style: solid;\n",
       "font-family: var(--jp-code-font-family);\n",
       "font-size: var(--jp-code-font-size);\n",
       "line-height: var(--jp-code-line-height);\n",
       "\"><span style=\"color: var(--jp-warn-color2)\">lsst.ts.utils.tai</span> <span style=\"color: var(--jp-info-color0)\">INFO</span>: current_tai uses the system TAI clock</pre>"
      ],
      "text/plain": [
       "<IPython.core.display.HTML object>"
      ]
     },
     "metadata": {},
     "output_type": "display_data"
    }
   ],
   "source": [
    "import asyncio\n",
    "import numpy as np\n",
    "from datetime import datetime\n",
    "from lsst.ts import salobj\n",
    "from lsst.ts.m2com import NUM_ACTUATOR, NUM_TANGENT_LINK"
   ]
  },
  {
   "cell_type": "markdown",
   "id": "ec65b561-487c-43c6-942d-f9507179de71",
   "metadata": {},
   "source": [
    "## Declaration of User-defined Functions"
   ]
  },
  {
   "cell_type": "code",
   "execution_count": 2,
   "id": "29fbdc49-f583-4e35-987f-384c816d149d",
   "metadata": {
    "execution": {
     "iopub.execute_input": "2023-07-06T03:14:14.706250Z",
     "iopub.status.busy": "2023-07-06T03:14:14.706108Z",
     "iopub.status.idle": "2023-07-06T03:14:14.710195Z",
     "shell.execute_reply": "2023-07-06T03:14:14.709678Z",
     "shell.execute_reply.started": "2023-07-06T03:14:14.706235Z"
    },
    "tags": []
   },
   "outputs": [],
   "source": [
    "async def injectForce_tangent_actuator(csc, actuators, force, sleep_time=5):\n",
    "    \"\"\"inject a force to the axial actuator.\n",
    "    \n",
    "    Parameters\n",
    "    ----------\n",
    "    csc : lsst.ts.salobj.remote.Remote\n",
    "        Remote object of the M2 CSC.\n",
    "    actuators : list of actuators.\n",
    "    force : list of forces\n",
    "        Force to apply (Newton).\n",
    "    sleep_time : float, optional\n",
    "        Sleep time. (the default is 5.0)\n",
    "    \"\"\"\n",
    "\n",
    "    forces = [0.] * NUM_TANGENT_LINK\n",
    "    \n",
    "    for idx in range(len(actuators)):\n",
    "        print(f\"idx: {idx}.\")\n",
    "        index = actuators[idx]\n",
    "        forces[index] = force\n",
    "        print(f\"Apply the force: {force} N. to actuator: {index}\")\n",
    "    await csc.cmd_applyForces.set_start(tangent=forces)\n",
    "    await asyncio.sleep(sleep_time)\n"
   ]
  },
  {
   "cell_type": "markdown",
   "id": "79c53e71-d4dc-4e40-b856-b0af2a045b4d",
   "metadata": {
    "tags": []
   },
   "source": [
    "## Prepare the M2 CSC and put to Enabled state"
   ]
  },
  {
   "cell_type": "code",
   "execution_count": 3,
   "id": "146c08d7-48a0-4d41-b512-419bb6bb87d0",
   "metadata": {
    "execution": {
     "iopub.execute_input": "2023-07-06T03:14:14.712424Z",
     "iopub.status.busy": "2023-07-06T03:14:14.712285Z",
     "iopub.status.idle": "2023-07-06T03:14:16.102811Z",
     "shell.execute_reply": "2023-07-06T03:14:16.102244Z",
     "shell.execute_reply.started": "2023-07-06T03:14:14.712410Z"
    },
    "tags": []
   },
   "outputs": [
    {
     "data": {
      "text/html": [
       "<pre style=\"margin: 0.1em;\n",
       "padding-left: 0.25em;\n",
       "border-left-style: solid;\n",
       "font-family: var(--jp-code-font-family);\n",
       "font-size: var(--jp-code-font-size);\n",
       "line-height: var(--jp-code-line-height);\n",
       "\"><span style=\"color: var(--jp-warn-color2)\">MTM2</span> <span style=\"color: var(--jp-info-color0)\">INFO</span>: Disabling authlist-based command authorization</pre>"
      ],
      "text/plain": [
       "<IPython.core.display.HTML object>"
      ]
     },
     "metadata": {},
     "output_type": "display_data"
    },
    {
     "data": {
      "text/html": [
       "<pre style=\"margin: 0.1em;\n",
       "padding-left: 0.25em;\n",
       "border-left-style: solid;\n",
       "font-family: var(--jp-code-font-family);\n",
       "font-size: var(--jp-code-font-size);\n",
       "line-height: var(--jp-code-line-height);\n",
       "\"><span style=\"color: var(--jp-warn-color2)\">MTM2</span> <span style=\"color: var(--jp-info-color0)\">INFO</span>: Read historical data in 0.00 sec</pre>"
      ],
      "text/plain": [
       "<IPython.core.display.HTML object>"
      ]
     },
     "metadata": {},
     "output_type": "display_data"
    },
    {
     "data": {
      "text/plain": [
       "<ddsutil.MTM2_ackcmd_b60441f4 at 0x7fb4f638d9c0>"
      ]
     },
     "execution_count": 3,
     "metadata": {},
     "output_type": "execute_result"
    }
   ],
   "source": [
    "domain = salobj.Domain()\n",
    "m2 = salobj.Remote(domain, \"MTM2\")\n",
    "await m2.start_task\n",
    "await m2.cmd_setLogLevel.set_start(level=10)"
   ]
  },
  {
   "cell_type": "code",
   "execution_count": 14,
   "id": "52d5e668-c259-4642-9144-5fafdf723bea",
   "metadata": {
    "execution": {
     "iopub.execute_input": "2023-07-06T03:33:11.557077Z",
     "iopub.status.busy": "2023-07-06T03:33:11.556814Z",
     "iopub.status.idle": "2023-07-06T03:33:11.559827Z",
     "shell.execute_reply": "2023-07-06T03:33:11.559445Z",
     "shell.execute_reply.started": "2023-07-06T03:33:11.557061Z"
    },
    "tags": []
   },
   "outputs": [
    {
     "name": "stdout",
     "output_type": "stream",
     "text": [
      "private_revCode: 0ebebdcc, private_sndStamp: 1688613950.199437, private_rcvStamp: 1688613950.1996267, private_seqNum: 8, private_identity: MTM2, private_origin: 56731, summaryState: 3\n"
     ]
    }
   ],
   "source": [
    "# get status\n",
    "\n",
    "state = m2.evt_summaryState.get()\n",
    "print(state)"
   ]
  },
  {
   "cell_type": "code",
   "execution_count": 5,
   "id": "6d9d9c6b-0fcf-4f66-8566-1a9e658dcadc",
   "metadata": {
    "execution": {
     "iopub.execute_input": "2023-07-06T03:14:26.727096Z",
     "iopub.status.busy": "2023-07-06T03:14:26.726825Z",
     "iopub.status.idle": "2023-07-06T03:14:26.938338Z",
     "shell.execute_reply": "2023-07-06T03:14:26.937940Z",
     "shell.execute_reply.started": "2023-07-06T03:14:26.727078Z"
    },
    "tags": []
   },
   "outputs": [
    {
     "data": {
      "text/plain": [
       "<ddsutil.MTM2_ackcmd_b60441f4 at 0x7fb4e3c95e10>"
      ]
     },
     "execution_count": 5,
     "metadata": {},
     "output_type": "execute_result"
    }
   ],
   "source": [
    "# Standby  -->  Disable\n",
    "await m2.cmd_start.set_start(timeout=60)"
   ]
  },
  {
   "cell_type": "code",
   "execution_count": 7,
   "id": "4403c45f-535c-4ac5-a5e7-ed2a25bf9649",
   "metadata": {
    "execution": {
     "iopub.execute_input": "2023-07-06T03:14:36.965286Z",
     "iopub.status.busy": "2023-07-06T03:14:36.965023Z",
     "iopub.status.idle": "2023-07-06T03:14:46.985870Z",
     "shell.execute_reply": "2023-07-06T03:14:46.985281Z",
     "shell.execute_reply.started": "2023-07-06T03:14:36.965270Z"
    },
    "tags": []
   },
   "outputs": [
    {
     "data": {
      "text/plain": [
       "<ddsutil.MTM2_ackcmd_b60441f4 at 0x7fb4e333b8e0>"
      ]
     },
     "execution_count": 7,
     "metadata": {},
     "output_type": "execute_result"
    }
   ],
   "source": [
    "# Disable  -->  Enabled\n",
    "await m2.cmd_enable.set_start(timeout=200)"
   ]
  },
  {
   "cell_type": "code",
   "execution_count": 13,
   "id": "e3aade32-76b0-400b-8f07-0c859de3a7c1",
   "metadata": {
    "execution": {
     "iopub.execute_input": "2023-07-06T03:24:56.567984Z",
     "iopub.status.busy": "2023-07-06T03:24:56.567629Z",
     "iopub.status.idle": "2023-07-06T03:24:59.575908Z",
     "shell.execute_reply": "2023-07-06T03:24:59.575350Z",
     "shell.execute_reply.started": "2023-07-06T03:24:56.567966Z"
    },
    "tags": []
   },
   "outputs": [
    {
     "data": {
      "text/plain": [
       "<ddsutil.MTM2_ackcmd_b60441f4 at 0x7fb4e3cb7610>"
      ]
     },
     "execution_count": 13,
     "metadata": {},
     "output_type": "execute_result"
    }
   ],
   "source": [
    "# Enabled  -->  Disable\n",
    "await m2.cmd_disable.set_start(timeout=30)"
   ]
  },
  {
   "cell_type": "code",
   "execution_count": null,
   "id": "0653625e-d98c-41dd-8b4f-df3a1e0212ae",
   "metadata": {},
   "outputs": [],
   "source": [
    "#Disable  -->  Standby\n",
    "await m2.cmd_standby.set_start(timeout=30)"
   ]
  },
  {
   "cell_type": "code",
   "execution_count": null,
   "id": "028ea1f5-a5e2-4d15-bfbb-17eef10900ac",
   "metadata": {
    "tags": []
   },
   "outputs": [],
   "source": [
    "#Fault --> Standby\n",
    "await m2.cmd_standby.set_start(timeout=30)"
   ]
  },
  {
   "cell_type": "markdown",
   "id": "5961eb58-cbbb-48b6-bdc7-e6518faebb3a",
   "metadata": {},
   "source": [
    "## Do the force actuator limit Test"
   ]
  },
  {
   "cell_type": "code",
   "execution_count": 9,
   "id": "c7a822c6-a4ce-438e-9b1c-287a4186906e",
   "metadata": {
    "execution": {
     "iopub.execute_input": "2023-07-06T03:17:10.033860Z",
     "iopub.status.busy": "2023-07-06T03:17:10.033559Z",
     "iopub.status.idle": "2023-07-06T03:17:10.038299Z",
     "shell.execute_reply": "2023-07-06T03:17:10.037718Z",
     "shell.execute_reply.started": "2023-07-06T03:17:10.033841Z"
    },
    "tags": []
   },
   "outputs": [],
   "source": [
    "# set actuator number\n",
    "actuators = [1]\n",
    "n_act = 1#NUM_TANGENT_LINK\n",
    "\n",
    "\n",
    "# set tangent actuator forces\n",
    "f_Delta = 300\n",
    "forces = f_Delta"
   ]
  },
  {
   "cell_type": "code",
   "execution_count": 11,
   "id": "0395bfec-094c-4f5e-a101-cea9e2f58666",
   "metadata": {
    "execution": {
     "iopub.execute_input": "2023-07-06T03:20:44.886420Z",
     "iopub.status.busy": "2023-07-06T03:20:44.886052Z",
     "iopub.status.idle": "2023-07-06T03:23:32.409636Z",
     "shell.execute_reply": "2023-07-06T03:23:32.408960Z",
     "shell.execute_reply.started": "2023-07-06T03:20:44.886400Z"
    },
    "tags": []
   },
   "outputs": [
    {
     "name": "stdout",
     "output_type": "stream",
     "text": [
      "UTC time to is 2023-07-06 03:20:44.887822 now.\n",
      "idx: 0.\n",
      "Apply the force: 300 N. to actuator: 1\n",
      "idx: 0.\n",
      "Apply the force: -300 N. to actuator: 1\n",
      "UTC time to is 2023-07-06 03:23:32.407059 now.\n"
     ]
    }
   ],
   "source": [
    "time_start = datetime.now()\n",
    "print(f\"UTC time to is {time_start} now.\")\n",
    "\n",
    "await m2.cmd_resetForceOffsets.set_start()\n",
    "await asyncio.sleep(5)\n",
    "\n",
    "\n",
    "#apply force to A2\n",
    "await injectForce_tangent_actuator(m2, actuators, f_Delta, sleep_time=60)\n",
    "await asyncio.sleep(10)\n",
    "await m2.cmd_resetForceOffsets.set_start()\n",
    "await asyncio.sleep(10)\n",
    "\n",
    "await injectForce_tangent_actuator(m2, actuators, -f_Delta, sleep_time=60)\n",
    "await asyncio.sleep(10)\n",
    "await m2.cmd_resetForceOffsets.set_start()\n",
    "await asyncio.sleep(10)\n",
    "\n",
    "time_end = datetime.now()\n",
    "print(f\"UTC time to is {time_end} now.\")"
   ]
  },
  {
   "cell_type": "code",
   "execution_count": null,
   "id": "c9cb6baa-fa5b-4975-abeb-71d0f2a69654",
   "metadata": {},
   "outputs": [],
   "source": []
  }
 ],
 "metadata": {
  "kernelspec": {
   "display_name": "LSST",
   "language": "python",
   "name": "lsst"
  },
  "language_info": {
   "codemirror_mode": {
    "name": "ipython",
    "version": 3
   },
   "file_extension": ".py",
   "mimetype": "text/x-python",
   "name": "python",
   "nbconvert_exporter": "python",
   "pygments_lexer": "ipython3",
   "version": "3.10.10"
  }
 },
 "nbformat": 4,
 "nbformat_minor": 5
}
