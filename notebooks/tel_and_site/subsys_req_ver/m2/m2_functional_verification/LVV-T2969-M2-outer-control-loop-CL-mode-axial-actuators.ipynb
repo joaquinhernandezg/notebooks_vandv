{
 "cells": [
  {
   "cell_type": "code",
   "execution_count": 1,
   "id": "ef907d15-30cb-4576-b304-acc11e19f9dc",
   "metadata": {
    "execution": {
     "iopub.execute_input": "2023-11-07T18:53:39.817224Z",
     "iopub.status.busy": "2023-11-07T18:53:39.817097Z",
     "iopub.status.idle": "2023-11-07T18:53:40.917259Z",
     "shell.execute_reply": "2023-11-07T18:53:40.916490Z",
     "shell.execute_reply.started": "2023-11-07T18:53:39.817210Z"
    },
    "tags": []
   },
   "outputs": [
    {
     "data": {
      "text/html": [
       "<pre style=\"margin: 0.1em;\n",
       "padding-left: 0.25em;\n",
       "border-left-style: solid;\n",
       "font-family: var(--jp-code-font-family);\n",
       "font-size: var(--jp-code-font-size);\n",
       "line-height: var(--jp-code-line-height);\n",
       "\"><span style=\"color: var(--jp-warn-color2)\">lsst.ts.utils.tai</span> <span style=\"color: var(--jp-info-color0)\">INFO</span>: Update leap second table</pre>"
      ],
      "text/plain": [
       "<IPython.core.display.HTML object>"
      ]
     },
     "metadata": {},
     "output_type": "display_data"
    },
    {
     "data": {
      "text/html": [
       "<pre style=\"margin: 0.1em;\n",
       "padding-left: 0.25em;\n",
       "border-left-style: solid;\n",
       "font-family: var(--jp-code-font-family);\n",
       "font-size: var(--jp-code-font-size);\n",
       "line-height: var(--jp-code-line-height);\n",
       "\"><span style=\"color: var(--jp-warn-color2)\">lsst.ts.utils.tai</span> <span style=\"color: var(--jp-info-color0)\">INFO</span>: current_tai uses the system TAI clock</pre>"
      ],
      "text/plain": [
       "<IPython.core.display.HTML object>"
      ]
     },
     "metadata": {},
     "output_type": "display_data"
    }
   ],
   "source": [
    "import asyncio\n",
    "import numpy as np\n",
    "from datetime import datetime\n",
    "from lsst.ts import salobj\n",
    "from lsst.ts.m2com import NUM_ACTUATOR, NUM_TANGENT_LINK"
   ]
  },
  {
   "cell_type": "code",
   "execution_count": 2,
   "id": "15bca4f4-7d68-4658-b8ad-ec077f83a5c5",
   "metadata": {
    "execution": {
     "iopub.execute_input": "2023-11-07T18:54:14.006340Z",
     "iopub.status.busy": "2023-11-07T18:54:14.005829Z",
     "iopub.status.idle": "2023-11-07T18:54:14.014257Z",
     "shell.execute_reply": "2023-11-07T18:54:14.013404Z",
     "shell.execute_reply.started": "2023-11-07T18:54:14.006309Z"
    },
    "tags": []
   },
   "outputs": [],
   "source": [
    "async def run_bump_test(csc, sleep_time=5.0):\n",
    "    \"\"\"Run the bump test.\n",
    "\n",
    "    Parameters\n",
    "    ----------\n",
    "    csc : lsst.ts.salobj.remote.Remote\n",
    "        Remote object of the M2 CSC.\n",
    "    force : float\n",
    "        Force to apply (Newton).\n",
    "    sleep_time : float, optional\n",
    "        Sleep time. (the default is 5.0)\n",
    "    \"\"\"\n",
    "\n",
    "    # Print the information of inclinometer\n",
    "    zenithAngle = csc.tel_zenithAngle.get()\n",
    "    print(f\"Measured zenith angle: {zenithAngle.measured:0.2f} degree.\")\n",
    "    print(f\"Raw inclinometer angle: {zenithAngle.inclinometerRaw:0.2f} degree.\")\n",
    "    print(f\"Processed inclinometer angle: {zenithAngle.inclinometerProcessed:0.2f} degree.\")\n",
    "\n",
    "    num_axial_actuator = np.array([9, 32, 70])\n",
    "    force = [-150, -100, -50, +50, +100, +150]\n",
    "\n",
    "    \n",
    "    for idx in num_axial_actuator:\n",
    "        print(f\"Do the bump test of actuator: {idx}.\")\n",
    "        for f in force:\n",
    "            await bump_axial_actuator(csc, idx, f, sleep_time=sleep_time)\n"
   ]
  },
  {
   "cell_type": "code",
   "execution_count": 3,
   "id": "cfd07591-eef9-4742-ae08-caf97fdaa63b",
   "metadata": {
    "execution": {
     "iopub.execute_input": "2023-11-07T18:54:16.134170Z",
     "iopub.status.busy": "2023-11-07T18:54:16.133663Z",
     "iopub.status.idle": "2023-11-07T18:54:16.141230Z",
     "shell.execute_reply": "2023-11-07T18:54:16.140418Z",
     "shell.execute_reply.started": "2023-11-07T18:54:16.134141Z"
    },
    "tags": []
   },
   "outputs": [],
   "source": [
    "async def bump_axial_actuator(csc, idx_actuator, force, sleep_time=5):\n",
    "    \"\"\"Bump the axial actuator.\n",
    "    \n",
    "    Parameters\n",
    "    ----------\n",
    "    csc : lsst.ts.salobj.remote.Remote\n",
    "        Remote object of the M2 CSC.\n",
    "    idx_actuator : int\n",
    "        Index of actuator.\n",
    "    force : float\n",
    "        Force to apply (Newton).\n",
    "    sleep_time : float, optional\n",
    "        Sleep time. (the default is 5.0)\n",
    "    \"\"\"\n",
    "\n",
    "    num_axial_actuator = NUM_ACTUATOR - NUM_TANGENT_LINK\n",
    "    forces = [0] * num_axial_actuator\n",
    "    forces[idx_actuator] = force\n",
    "\n",
    "    # Put back to origin\n",
    "    print(\"Reset the force.\")\n",
    "    await csc.cmd_resetForceOffsets.set_start()\n",
    "    await asyncio.sleep(sleep_time)\n",
    "\n",
    "    \n",
    "    print(f\"Apply the force: {force} N.\")\n",
    "    await csc.cmd_applyForces.set_start(axial=forces)\n",
    "    await asyncio.sleep(sleep_time)\n",
    "\n",
    "    # Put back to origin\n",
    "    print(\"Reset the force.\")\n",
    "    await csc.cmd_resetForceOffsets.set_start()\n",
    "    await asyncio.sleep(sleep_time)\n"
   ]
  },
  {
   "cell_type": "code",
   "execution_count": 4,
   "id": "51ba1f2f-c824-4c30-bd34-3b338423bedf",
   "metadata": {
    "execution": {
     "iopub.execute_input": "2023-11-07T18:54:18.860104Z",
     "iopub.status.busy": "2023-11-07T18:54:18.859206Z",
     "iopub.status.idle": "2023-11-07T18:54:19.180673Z",
     "shell.execute_reply": "2023-11-07T18:54:19.179410Z",
     "shell.execute_reply.started": "2023-11-07T18:54:18.860071Z"
    }
   },
   "outputs": [
    {
     "data": {
      "text/html": [
       "<pre style=\"margin: 0.1em;\n",
       "padding-left: 0.25em;\n",
       "border-left-style: solid;\n",
       "font-family: var(--jp-code-font-family);\n",
       "font-size: var(--jp-code-font-size);\n",
       "line-height: var(--jp-code-line-height);\n",
       "\"><span style=\"color: var(--jp-warn-color2)\">MTM2</span> <span style=\"color: var(--jp-info-color0)\">INFO</span>: Disabling authlist-based command authorization</pre>"
      ],
      "text/plain": [
       "<IPython.core.display.HTML object>"
      ]
     },
     "metadata": {},
     "output_type": "display_data"
    },
    {
     "data": {
      "text/html": [
       "<pre style=\"margin: 0.1em;\n",
       "padding-left: 0.25em;\n",
       "border-left-style: solid;\n",
       "font-family: var(--jp-code-font-family);\n",
       "font-size: var(--jp-code-font-size);\n",
       "line-height: var(--jp-code-line-height);\n",
       "\"><span style=\"color: var(--jp-warn-color2)\">MTM2</span> <span style=\"color: var(--jp-info-color0)\">INFO</span>: Read historical data in 0.00 sec</pre>"
      ],
      "text/plain": [
       "<IPython.core.display.HTML object>"
      ]
     },
     "metadata": {},
     "output_type": "display_data"
    },
    {
     "data": {
      "text/plain": [
       "<ddsutil.MTM2_ackcmd_b60441f4 at 0x7f1b164bba10>"
      ]
     },
     "execution_count": 4,
     "metadata": {},
     "output_type": "execute_result"
    }
   ],
   "source": [
    "domain = salobj.Domain()\n",
    "m2 = salobj.Remote(domain, \"MTM2\")\n",
    "await m2.start_task\n",
    "await m2.cmd_setLogLevel.set_start(level=10)"
   ]
  },
  {
   "cell_type": "code",
   "execution_count": 5,
   "id": "93f19bc8-b340-42d6-84f0-d8a2246c8ccd",
   "metadata": {
    "execution": {
     "iopub.execute_input": "2023-11-07T18:54:20.768698Z",
     "iopub.status.busy": "2023-11-07T18:54:20.768111Z",
     "iopub.status.idle": "2023-11-07T18:54:20.773185Z",
     "shell.execute_reply": "2023-11-07T18:54:20.772378Z",
     "shell.execute_reply.started": "2023-11-07T18:54:20.768667Z"
    },
    "tags": []
   },
   "outputs": [],
   "source": [
    "state_m2 = m2.evt_summaryState.get()\n",
    "if state_m2.summaryState != salobj.State.ENABLED:\n",
    "    await salobj.set_summary_state(m2, salobj.State.ENABLED, timeout=60)"
   ]
  },
  {
   "cell_type": "code",
   "execution_count": null,
   "id": "00bcabe3-3fa6-46fb-a15d-f6a6ffcfc332",
   "metadata": {
    "tags": []
   },
   "outputs": [],
   "source": [
    "time_start = datetime.now()\n",
    "print(f\"UTC time to is {time_start} now.\")"
   ]
  },
  {
   "cell_type": "code",
   "execution_count": 6,
   "id": "45054edb-f42e-4142-8ca1-7de0fb5e7df1",
   "metadata": {
    "execution": {
     "iopub.execute_input": "2023-11-07T18:54:23.061937Z",
     "iopub.status.busy": "2023-11-07T18:54:23.061398Z",
     "iopub.status.idle": "2023-11-07T18:59:20.315441Z",
     "shell.execute_reply": "2023-11-07T18:59:20.314517Z",
     "shell.execute_reply.started": "2023-11-07T18:54:23.061905Z"
    },
    "tags": []
   },
   "outputs": [
    {
     "name": "stdout",
     "output_type": "stream",
     "text": [
      "Measured zenith angle: 0.07 degree.\n",
      "Raw inclinometer angle: 89.93 degree.\n",
      "Processed inclinometer angle: 89.13 degree.\n",
      "Do the bump test of actuator: 9.\n",
      "Reset the force.\n",
      "Apply the force: -150 N.\n",
      "Reset the force.\n",
      "Reset the force.\n",
      "Apply the force: -100 N.\n",
      "Reset the force.\n",
      "Reset the force.\n",
      "Apply the force: -50 N.\n",
      "Reset the force.\n",
      "Reset the force.\n",
      "Apply the force: 50 N.\n",
      "Reset the force.\n",
      "Reset the force.\n",
      "Apply the force: 100 N.\n",
      "Reset the force.\n",
      "Reset the force.\n",
      "Apply the force: 150 N.\n",
      "Reset the force.\n",
      "Do the bump test of actuator: 32.\n",
      "Reset the force.\n",
      "Apply the force: -150 N.\n",
      "Reset the force.\n",
      "Reset the force.\n",
      "Apply the force: -100 N.\n",
      "Reset the force.\n",
      "Reset the force.\n",
      "Apply the force: -50 N.\n",
      "Reset the force.\n",
      "Reset the force.\n",
      "Apply the force: 50 N.\n",
      "Reset the force.\n",
      "Reset the force.\n",
      "Apply the force: 100 N.\n",
      "Reset the force.\n",
      "Reset the force.\n",
      "Apply the force: 150 N.\n",
      "Reset the force.\n",
      "Do the bump test of actuator: 70.\n",
      "Reset the force.\n",
      "Apply the force: -150 N.\n",
      "Reset the force.\n",
      "Reset the force.\n",
      "Apply the force: -100 N.\n",
      "Reset the force.\n",
      "Reset the force.\n",
      "Apply the force: -50 N.\n",
      "Reset the force.\n",
      "Reset the force.\n",
      "Apply the force: 50 N.\n",
      "Reset the force.\n",
      "Reset the force.\n",
      "Apply the force: 100 N.\n",
      "Reset the force.\n",
      "Reset the force.\n",
      "Apply the force: 150 N.\n",
      "Reset the force.\n"
     ]
    }
   ],
   "source": [
    "# bump actuators with linear sequence of forces\n",
    "\n",
    "await run_bump_test(m2, sleep_time=5)"
   ]
  },
  {
   "cell_type": "code",
   "execution_count": null,
   "id": "d41dd37a-82d2-4b2f-8746-2e08739bd3c5",
   "metadata": {},
   "outputs": [],
   "source": [
    "time_end = datetime.now()\n",
    "print(f\"UTC time to is {time_end} now.\")"
   ]
  }
 ],
 "metadata": {
  "kernelspec": {
   "display_name": "LSST",
   "language": "python",
   "name": "lsst"
  },
  "language_info": {
   "codemirror_mode": {
    "name": "ipython",
    "version": 3
   },
   "file_extension": ".py",
   "mimetype": "text/x-python",
   "name": "python",
   "nbconvert_exporter": "python",
   "pygments_lexer": "ipython3",
   "version": "3.11.4"
  }
 },
 "nbformat": 4,
 "nbformat_minor": 5
}
