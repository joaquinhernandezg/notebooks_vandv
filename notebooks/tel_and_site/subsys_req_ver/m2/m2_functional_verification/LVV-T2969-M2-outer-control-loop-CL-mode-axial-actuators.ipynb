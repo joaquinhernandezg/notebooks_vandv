{
 "cells": [
  {
   "cell_type": "code",
   "execution_count": null,
   "id": "ef907d15-30cb-4576-b304-acc11e19f9dc",
   "metadata": {
    "tags": []
   },
   "outputs": [],
   "source": [
    "import asyncio\n",
    "import numpy as np\n",
    "from datetime import datetime\n",
    "from lsst.ts import salobj\n",
    "from lsst.ts.m2com import NUM_ACTUATOR, NUM_TANGENT_LINK"
   ]
  },
  {
   "cell_type": "code",
   "execution_count": null,
   "id": "15bca4f4-7d68-4658-b8ad-ec077f83a5c5",
   "metadata": {
    "tags": []
   },
   "outputs": [],
   "source": [
    "async def run_bump_test(csc, sleep_time=5.0):\n",
    "    \"\"\"Run the bump test.\n",
    "\n",
    "    Parameters\n",
    "    ----------\n",
    "    csc : lsst.ts.salobj.remote.Remote\n",
    "        Remote object of the M2 CSC.\n",
    "    force : float\n",
    "        Force to apply (Newton).\n",
    "    sleep_time : float, optional\n",
    "        Sleep time. (the default is 5.0)\n",
    "    \"\"\"\n",
    "\n",
    "    # Print the information of inclinometer\n",
    "    zenithAngle = csc.tel_zenithAngle.get()\n",
    "    print(f\"Measured zenith angle: {zenithAngle.measured:0.2f} degree.\")\n",
    "    print(f\"Raw inclinometer angle: {zenithAngle.inclinometerRaw:0.2f} degree.\")\n",
    "    print(f\"Processed inclinometer angle: {zenithAngle.inclinometerProcessed:0.2f} degree.\")\n",
    "\n",
    "    num_axial_actuator = np.array([9, 32, 70])\n",
    "    force = [-150, -100, -50, +50, +100, +150]\n",
    "\n",
    "    \n",
    "    for idx in num_axial_actuator:\n",
    "        print(f\"Do the bump test of actuator: {idx}.\")\n",
    "        for f in force:\n",
    "            await bump_axial_actuator(csc, idx, f, sleep_time=sleep_time)\n"
   ]
  },
  {
   "cell_type": "code",
   "execution_count": null,
   "id": "cfd07591-eef9-4742-ae08-caf97fdaa63b",
   "metadata": {
    "tags": []
   },
   "outputs": [],
   "source": [
    "async def bump_axial_actuator(csc, idx_actuator, force, sleep_time=5):\n",
    "    \"\"\"Bump the axial actuator.\n",
    "    \n",
    "    Parameters\n",
    "    ----------\n",
    "    csc : lsst.ts.salobj.remote.Remote\n",
    "        Remote object of the M2 CSC.\n",
    "    idx_actuator : int\n",
    "        Index of actuator.\n",
    "    force : float\n",
    "        Force to apply (Newton).\n",
    "    sleep_time : float, optional\n",
    "        Sleep time. (the default is 5.0)\n",
    "    \"\"\"\n",
    "\n",
    "    num_axial_actuator = NUM_ACTUATOR - NUM_TANGENT_LINK\n",
    "    forces = [0] * num_axial_actuator\n",
    "    forces[idx_actuator] = force\n",
    "\n",
    "    # Put back to origin\n",
    "    print(\"Reset the force.\")\n",
    "    await csc.cmd_resetForceOffsets.set_start()\n",
    "    await asyncio.sleep(sleep_time)\n",
    "\n",
    "    \n",
    "    print(f\"Apply the force: {force} N.\")\n",
    "    await csc.cmd_applyForces.set_start(axial=forces)\n",
    "    await asyncio.sleep(sleep_time)\n",
    "\n",
    "    # Put back to origin\n",
    "    print(\"Reset the force.\")\n",
    "    await csc.cmd_resetForceOffsets.set_start()\n",
    "    await asyncio.sleep(sleep_time)\n"
   ]
  },
  {
   "cell_type": "code",
   "execution_count": null,
   "id": "51ba1f2f-c824-4c30-bd34-3b338423bedf",
   "metadata": {},
   "outputs": [],
   "source": [
    "domain = salobj.Domain()\n",
    "m2 = salobj.Remote(domain, \"MTM2\")\n",
    "await m2.start_task\n",
    "await m2.cmd_setLogLevel.set_start(level=10)"
   ]
  },
  {
   "cell_type": "code",
   "execution_count": null,
   "id": "93f19bc8-b340-42d6-84f0-d8a2246c8ccd",
   "metadata": {
    "tags": []
   },
   "outputs": [],
   "source": [
    "state_m2 = m2.evt_summaryState.get()\n",
    "if state_m2.summaryState != salobj.State.ENABLED:\n",
    "    await salobj.set_summary_state(m2, salobj.State.ENABLED, timeout=60)"
   ]
  },
  {
   "cell_type": "code",
   "execution_count": null,
   "id": "00bcabe3-3fa6-46fb-a15d-f6a6ffcfc332",
   "metadata": {
    "tags": []
   },
   "outputs": [],
   "source": [
    "time_start = datetime.now()\n",
    "print(f\"UTC time to is {time_start} now.\")"
   ]
  },
  {
   "cell_type": "code",
   "execution_count": null,
   "id": "45054edb-f42e-4142-8ca1-7de0fb5e7df1",
   "metadata": {
    "tags": []
   },
   "outputs": [],
   "source": [
    "# bump actuators with linear sequence of forces\n",
    "\n",
    "await run_bump_test(m2, sleep_time=5)"
   ]
  },
  {
   "cell_type": "code",
   "execution_count": null,
   "id": "d41dd37a-82d2-4b2f-8746-2e08739bd3c5",
   "metadata": {},
   "outputs": [],
   "source": [
    "time_end = datetime.now()\n",
    "print(f\"UTC time to is {time_end} now.\")"
   ]
  }
 ],
 "metadata": {
  "kernelspec": {
   "display_name": "LSST",
   "language": "python",
   "name": "lsst"
  },
  "language_info": {
   "codemirror_mode": {
    "name": "ipython",
    "version": 3
   },
   "file_extension": ".py",
   "mimetype": "text/x-python",
   "name": "python",
   "nbconvert_exporter": "python",
   "pygments_lexer": "ipython3",
   "version": "3.11.4"
  }
 },
 "nbformat": 4,
 "nbformat_minor": 5
}
