{
 "cells": [
  {
   "cell_type": "markdown",
   "id": "630e8dca-6fb4-4e9e-9ecf-494928cefbb2",
   "metadata": {},
   "source": [
    "## Import Modules"
   ]
  },
  {
   "cell_type": "markdown",
   "id": "cff92e66-8d7e-46a0-92a5-bede9f097f62",
   "metadata": {},
   "source": [
    "# M2 Rigid Body Position\n",
    " \n",
    "This Jupyter notebook performs the Rigid Body Position (RBP) repeatability test of the M2.\n",
    "Each M2 RBP Degree of Freedom (DoF) is actuated individually with a sequence of 7 commands of different amplitude.\n",
    "Each commanded position is hold for 37s and each sequence of commands for a specific DoF is repeated for 7 times. "
   ]
  },
  {
   "cell_type": "code",
   "execution_count": null,
   "id": "6945ae01-c911-44cb-98bf-0399914c4da0",
   "metadata": {
    "tags": []
   },
   "outputs": [],
   "source": [
    "import asyncio\n",
    "import yaml\n",
    "import numpy as np\n",
    "from datetime import datetime\n",
    "from lsst.ts import salobj\n",
    "from lsst.ts.m2com import NUM_ACTUATOR, NUM_TANGENT_LINK\n",
    "from lsst.ts.ofc.utils import get_config_dir as get_config_dir_ofc"
   ]
  },
  {
   "cell_type": "markdown",
   "id": "ac412f2b-b4fa-418f-aba6-2e667819a78c",
   "metadata": {},
   "source": [
    "## Declaration of User-defined Functions"
   ]
  },
  {
   "cell_type": "code",
   "execution_count": null,
   "id": "c52a3f6a-1c35-4a0f-8753-65e929284b79",
   "metadata": {
    "tags": []
   },
   "outputs": [],
   "source": [
    "async def RBP_linear_displacement(csc, axis, value, linear_motion_time, time_hold_position=37):\n",
    "    \"\"\"Apply the RBP linear displacement to X, Y, Z DoFs\n",
    "\n",
    "    Parameters\n",
    "    ----------\n",
    "    csc : `lsst.ts.salobj.remote.Remote`\n",
    "        Remote object of the M2 CSC.\n",
    "    axis : `string`\n",
    "        axis of RBP selected.\n",
    "    value : `numpy.ndarray`\n",
    "        RBP displacement to apply (micron).\n",
    "    motion_time : `float`\n",
    "        Time to reach position in second, to be fine tuned empirically\n",
    "    time_hold_position : `float`, optional\n",
    "        Time to apply the hold the position in second. (the default is 5.0)\"\"\" \n",
    " \n",
    "\n",
    "    \n",
    "    print(f\"Apply the RBP linear displacement: {displacement} micron.\")\n",
    "    if axis == \"x\":\n",
    "        await csc.cmd_positionMirror.set_start(x=value)\n",
    "    elif axis == \"y\":\n",
    "        await csc.cmd_positionMirror.set_start(y=value)\n",
    "    elif axis == \"z\":\n",
    "        await csc.cmd_positionMirror.set_start(z=value)\n",
    "    await asyncio.sleep(linear_motion_time)\n",
    "    await asyncio.sleep(time_hold_position)\n",
    "    "
   ]
  },
  {
   "cell_type": "code",
   "execution_count": null,
   "id": "1dcf3cf4-5765-48f0-95f1-bc6f734530f5",
   "metadata": {
    "tags": []
   },
   "outputs": [],
   "source": [
    "async def RBP_angular_displacement(csc, axis, value, angular_motion_time, time_hold_position=37):\n",
    "    \"\"\"Apply the RBP angular displacement to RX, RY, RZ DoFs\n",
    "\n",
    "    Parameters\n",
    "    ----------\n",
    "    csc : `lsst.ts.salobj.remote.Remote`\n",
    "        Remote object of the M2 CSC.\n",
    "    axis : `string`\n",
    "        axis of RBP selected.\n",
    "    value : `numpy.ndarray`\n",
    "        RBP angular displacement to apply (arcsec).\n",
    "    motion_time : `float`\n",
    "        Time to reach position in second, to be fine tuned empirically\n",
    "    time_hold_position : `float`, optional\n",
    "        Time to apply the hold the position in second. (the default is 5.0)\"\"\" \n",
    " \n",
    "\n",
    "    \n",
    "    print(f\"Apply the RBP angular displacement: {angular_displacement} arcsec.\")\n",
    "    if axis == \"xRot\":\n",
    "        await csc.cmd_positionMirror.set_start(xRot=value)\n",
    "    elif axis == \"yRot\":\n",
    "        await csc.cmd_positionMirror.set_start(yRot=value)\n",
    "    elif axis == \"zRot\":\n",
    "        await csc.cmd_positionMirror.set_start(zRot=value)\n",
    "    await asyncio.sleep(angular_motion_time)\n",
    "    await asyncio.sleep(time_hold_position)\n",
    "    \n",
    "    "
   ]
  },
  {
   "cell_type": "markdown",
   "id": "50a825e1-91b3-4dd4-ad90-e27154001a50",
   "metadata": {
    "execution": {
     "iopub.execute_input": "2023-02-15T12:53:11.930901Z",
     "iopub.status.busy": "2023-02-15T12:53:11.930612Z",
     "iopub.status.idle": "2023-02-15T12:53:11.933205Z",
     "shell.execute_reply": "2023-02-15T12:53:11.932768Z",
     "shell.execute_reply.started": "2023-02-15T12:53:11.930883Z"
    }
   },
   "source": [
    "## Prepare the M2 CSC and put to Enabled state"
   ]
  },
  {
   "cell_type": "code",
   "execution_count": null,
   "id": "6a4b25c7-5665-4fd7-b362-2fadb93218d8",
   "metadata": {
    "tags": []
   },
   "outputs": [],
   "source": [
    "domain = salobj.Domain()\n",
    "m2 = salobj.Remote(domain, \"MTM2\")\n",
    "await m2.start_task\n",
    "await m2.cmd_setLogLevel.set_start(level=10)"
   ]
  },
  {
   "cell_type": "code",
   "execution_count": null,
   "id": "67c85328-a6f8-49af-a010-ad702ba81f58",
   "metadata": {
    "tags": []
   },
   "outputs": [],
   "source": [
    "state_m2 = m2.evt_summaryState.get()\n",
    "if state_m2.summaryState != salobj.State.ENABLED:\n",
    "    await salobj.set_summary_state(m2, salobj.State.ENABLED, timeout=60)"
   ]
  },
  {
   "cell_type": "markdown",
   "id": "9ed6b490-16d1-43cc-99e7-69c5bc5d4d85",
   "metadata": {},
   "source": [
    "## RBP linear displacement"
   ]
  },
  {
   "cell_type": "code",
   "execution_count": null,
   "id": "987322d4-4cc8-47f5-b771-6381592d983d",
   "metadata": {
    "tags": []
   },
   "outputs": [],
   "source": [
    "# displacement times to reach linear RBP in sec\n",
    "\n",
    "linear_motion_time = np.array((65, 35, 20, 35, 35, 20, 30, 65))\n",
    "print(linear_motion_time)"
   ]
  },
  {
   "cell_type": "code",
   "execution_count": null,
   "id": "1080496d-b924-43ec-9e84-6b7e996ac2ad",
   "metadata": {},
   "outputs": [],
   "source": [
    "# RBP linear displacement in microns applied to X Y Z DoFs including homing position\n",
    "\n",
    "displacement = np.array((-250, -150, -100, 0, 100, 150, 250, 0))\n",
    "print(displacement)"
   ]
  },
  {
   "cell_type": "code",
   "execution_count": null,
   "id": "6eba4b8f-29d6-4100-9635-9d3171901e5a",
   "metadata": {
    "tags": []
   },
   "outputs": [],
   "source": [
    "# displacement times to reach angular RBP in sec\n",
    "\n",
    "angular_motion_time = np.array((20, 15, 10, 10, 10, 15, 20, 20))\n",
    "print(angular_motion_time)"
   ]
  },
  {
   "cell_type": "code",
   "execution_count": null,
   "id": "c7d69cbd-4fb8-4d00-afdb-f48d492c769f",
   "metadata": {},
   "outputs": [],
   "source": [
    "# RBP angular displacement in acrsec applied to RX RY RZ DoFs including homing position\n",
    "\n",
    "angular_displacement = np.array((-15, -10, -5, 0, 5, 10, 15, 0))\n",
    "print(angular_displacement)"
   ]
  },
  {
   "cell_type": "markdown",
   "id": "a8333b56-41eb-43b5-b49c-f9f4eeb910c6",
   "metadata": {},
   "source": [
    "## Apply linear displacement sequence of RBP"
   ]
  },
  {
   "cell_type": "code",
   "execution_count": null,
   "id": "68d1d4b8-eeb4-4fe1-8140-f2e2b20bf575",
   "metadata": {},
   "outputs": [],
   "source": [
    "# Try first one move on one DoF\n",
    "\n",
    "time_start = datetime.now()\n",
    "print(f\"UTC time to is {time_start} now.\")\n",
    "\n",
    "\n",
    "positions_dof = 1\n",
    "repetition = 1\n",
    "\n",
    "#*********************#\n",
    "#                     #\n",
    "#        X DOF        #\n",
    "#                     #\n",
    "#*********************#\n",
    "\n",
    "axis = \"x\"\n",
    "# repeat the DoFs command sequence for 1 times\n",
    "for jdx in range(repetition):\n",
    "    print(f\"Repetition sequence number: {jdx+1} -------------------------------------\")\n",
    "\n",
    "# first DoF move of RBP commands\n",
    "    for idx in range(positions_dof):\n",
    "        #print(f\"DoF: {idx}.\")\n",
    "        print(f\"Status of advancement: DoF {axis}, Sequence:{jdx+1}, Commanded position micron: {displacement[idx]}\")\n",
    "        await RBP_linear_displacement(csc, \"x\", displacement[idx], linear_motion_time[idx], time_hold_position=37)\n",
    "     \n",
    "    \n",
    "positions_dof = 1\n",
    "\n",
    "# repeat the DoFs command sequence for 1 time\n",
    "for jdx in range(repetition):\n",
    "    print(f\"Repetition sequence number: {jdx+1} -------------------------------------\")\n",
    "\n",
    "# come back from first DoF move of RBP commands\n",
    "    for idx in range(7,8,positions_dof):\n",
    "        #print(f\"DoF: {idx}.\")\n",
    "        print(f\"Status of advancement: DoF {axis}, Sequence:{jdx+1}, Commanded position micron: {displacement[idx]}\")\n",
    "        await RBP_linear_displacement(csc, \"x\", displacement[idx], linear_motion_time[idx], time_hold_position=37)\n",
    "      \n",
    "    \n",
    "time_end = datetime.now()\n",
    "print(f\"UTC time to is {time_end} now.\")    "
   ]
  },
  {
   "cell_type": "code",
   "execution_count": null,
   "id": "69c36567-d4a8-4548-a5fe-9fd3f1d5a510",
   "metadata": {},
   "outputs": [],
   "source": [
    "#apply linear displacement sequence to X-DOF\n",
    "\n",
    "time_start = datetime.now()\n",
    "print(f\"UTC time to is {time_start} now.\")\n",
    "\n",
    "\n",
    "positions_dof = 8\n",
    "repetition = 5\n",
    "\n",
    "#*********************#\n",
    "#                     #\n",
    "#        X DOF        #\n",
    "#                     #\n",
    "#*********************#\n",
    "\n",
    "axis = \"x\"\n",
    "# repeat the DoFs command sequence for 5 times\n",
    "for jdx in range(repetition):\n",
    "    print(f\"Repetition sequence number: {jdx+1}, -------------------------------------\")\n",
    "\n",
    "# DoF positions of RBP commands\n",
    "    for idx in range(positions_dof):\n",
    "        #print(f\"DoF: {idx}.\")\n",
    "        print(f\"Status of advancement: motion time, {linear_motion_time[idx]}, DoF {axis}, Sequence:{jdx+1}, Commanded position micron: {displacement[idx]}\")\n",
    "        await RBP_linear_displacement(csc, \"x\", displacement[idx], linear_motion_time[idx], time_hold_position=37)\n",
    "        \n",
    "        \n",
    "time_end = datetime.now()\n",
    "print(f\"UTC time to is {time_end} now.\")        "
   ]
  },
  {
   "cell_type": "code",
   "execution_count": null,
   "id": "7ee93634-234a-4013-8e62-cd299285eeba",
   "metadata": {},
   "outputs": [],
   "source": [
    "#apply linear displacement sequence Y-DOF\n",
    "     \n",
    "time_start = datetime.now()\n",
    "print(f\"UTC time to is {time_start} now.\")\n",
    "\n",
    "\n",
    "positions_dof = 8\n",
    "repetition = 5\n",
    "\n",
    "#*********************#\n",
    "#                     #\n",
    "#        Y DOF        #\n",
    "#                     #\n",
    "#*********************#\n",
    "\n",
    "axis = \"y\"\n",
    "# repeat the DoFs command sequence for 5 times\n",
    "for jdx in range(repetition):\n",
    "    print(f\"Repetition sequence number: {jdx+1} -------------------------------------\")\n",
    "\n",
    "# DoF positions of RBP commands\n",
    "    for idx in range(positions_dof):\n",
    "        print(f\"Status of advancement: DoF {axis}, Sequence:{jdx+1}, Commanded position micron: {displacement[idx]}\")\n",
    "        await RBP_linear_displacement(csc, \"y\", displacement[idx], linear_motion_time[idx], time_hold_position=37)\n",
    "        \n",
    "        \n",
    "time_end = datetime.now()\n",
    "print(f\"UTC time to is {time_end} now.\")        "
   ]
  },
  {
   "cell_type": "code",
   "execution_count": null,
   "id": "633f8e61-f6dc-4f76-a116-2cfb752b3332",
   "metadata": {},
   "outputs": [],
   "source": [
    "#apply linear displacement sequence Z-DOF\n",
    "\n",
    "time_start = datetime.now()\n",
    "print(f\"UTC time to is {time_start} now.\")\n",
    "\n",
    "positions_dof = 8\n",
    "repetition = 5\n",
    "\n",
    "#*********************#\n",
    "#                     #\n",
    "#        Z DOF        #\n",
    "#                     #\n",
    "#*********************#\n",
    "\n",
    "axis = \"z\"\n",
    "# repeat the DoFs command sequence for 5 times\n",
    "for jdx in range(repetition):\n",
    "    print(f\"Repetition sequence number: {jdx+1} -------------------------------------\")\n",
    "\n",
    "# DoF positions of RBP commands\n",
    "    for idx in range(positions_dof):\n",
    "        print(f\"Status of advancement: DoF {axis}, Sequence:{jdx+1}, Commanded position micron: {displacement[idx]}\")\n",
    "        await RBP_linear_displacement(csc, \"z\", displacement[idx], linear_motion_time[idx], time_hold_position=37)\n",
    "\n",
    "        \n",
    "time_end = datetime.now()\n",
    "print(f\"UTC time to is {time_end} now.\")        "
   ]
  },
  {
   "cell_type": "markdown",
   "id": "4ead3e47-9fb8-45e3-8777-e98764b4f7ce",
   "metadata": {},
   "source": [
    "## Apply angular displacement sequence of RBP"
   ]
  },
  {
   "cell_type": "code",
   "execution_count": null,
   "id": "938d34bf-f3b1-447a-8b5e-d19021f05688",
   "metadata": {},
   "outputs": [],
   "source": [
    "#apply angular displacement sequence RX-DOF\n",
    "\n",
    "time_start = datetime.now()\n",
    "print(f\"UTC time to is {time_start} now.\")\n",
    "\n",
    "\n",
    "positions_dof = 8\n",
    "repetition = 5\n",
    "\n",
    "\n",
    "#*********************#\n",
    "#                     #\n",
    "#       RX DOF        #\n",
    "#                     #\n",
    "#*********************#\n",
    "\n",
    "axis = \"xRot\"\n",
    "# repeat the DoFs command sequence for 5 times\n",
    "for jdx in range(repetition):\n",
    "    print(f\"Repetition sequence number: {jdx+1} -------------------------------------\")\n",
    "\n",
    "# DoF positions of RBP commands\n",
    "    for idx in range(positions_dof):\n",
    "        #print(f\"DoF: {idx}.\")\n",
    "        print(f\"Status of advancement: DoF {axis}, Sequence:{jdx+1}, Commanded position arcsec: {angular_displacement[idx]}\")\n",
    "        await RBP_angular_displacement(csc, \"xRot\", angular_displacement[idx], angular_motion_time[idx], time_hold_position=37)\n",
    "\n",
    "time_end = datetime.now()\n",
    "print(f\"UTC time to is {time_end} now.\")"
   ]
  },
  {
   "cell_type": "code",
   "execution_count": null,
   "id": "0893226d-7449-4e9e-bf7d-d37f49a16e74",
   "metadata": {},
   "outputs": [],
   "source": [
    "#apply angular displacement sequence RY-DOF\n",
    "\n",
    "\n",
    "time_start = datetime.now()\n",
    "print(f\"UTC time to is {time_start} now.\")\n",
    "\n",
    "\n",
    "positions_dof = 8\n",
    "repetition = 5\n",
    "\n",
    "        \n",
    "#*********************#\n",
    "#                     #\n",
    "#       RY DOF        #\n",
    "#                     #\n",
    "#*********************#\n",
    "\n",
    "axis = \"yRot\"\n",
    "# repeat the DoFs command sequence for 5 times\n",
    "for jdx in range(repetition):\n",
    "    print(f\"Repetition sequence number: {jdx+1} -------------------------------------\")\n",
    "\n",
    "# DoF positions of RBP commands\n",
    "    for idx in range(positions_dof):\n",
    "        print(f\"Status of advancement: DoF {axis}, Sequence:{jdx+1}, Commanded position arcsec: {angular_displacement[idx]}\")\n",
    "        await RBP_angular_displacement(csc, \"yRot\", angular_displacement[idx], angular_motion_time[idx], time_hold_position=37)\n",
    "    \n",
    "    \n",
    "time_end = datetime.now()\n",
    "print(f\"UTC time to is {time_end} now.\")    "
   ]
  },
  {
   "cell_type": "code",
   "execution_count": null,
   "id": "7470556f-5efc-43ac-b386-0fa4779be3dd",
   "metadata": {},
   "outputs": [],
   "source": [
    "#apply angular displacement sequence RZ-DOF\n",
    "\n",
    "\n",
    "time_start = datetime.now()\n",
    "print(f\"UTC time to is {time_start} now.\")\n",
    "\n",
    "\n",
    "positions_dof = 8\n",
    "repetition = 5\n",
    "\n",
    "\n",
    "#*********************#\n",
    "#                     #\n",
    "#       RZ DOF        #\n",
    "#                     #\n",
    "#*********************#\n",
    "\n",
    "axis = \"zRot\"\n",
    "# repeat the DoFs command sequence for 5 times\n",
    "for jdx in range(repetition):\n",
    "    print(f\"Repetition sequence number: {jdx+1} -------------------------------------\")\n",
    "\n",
    "# DoF positions of RBP commands\n",
    "    for idx in range(positions_dof):\n",
    "        print(f\"Status of advancement: DoF {axis}, Sequence:{jdx+1}, Commanded position arcsec: {angular_displacement[idx]}\")\n",
    "        await RBP_angular_displacement(csc, \"zRot\", angular_displacement[idx], angular_motion_time[idx], time_hold_position=37)\n",
    "\n",
    "        \n",
    "time_end = datetime.now()\n",
    "print(f\"UTC time to is {time_end} now.\")        "
   ]
  }
 ],
 "metadata": {
  "kernelspec": {
   "display_name": "LSST",
   "language": "python",
   "name": "lsst"
  },
  "language_info": {
   "codemirror_mode": {
    "name": "ipython",
    "version": 3
   },
   "file_extension": ".py",
   "mimetype": "text/x-python",
   "name": "python",
   "nbconvert_exporter": "python",
   "pygments_lexer": "ipython3",
   "version": "3.10.10"
  }
 },
 "nbformat": 4,
 "nbformat_minor": 5
}
