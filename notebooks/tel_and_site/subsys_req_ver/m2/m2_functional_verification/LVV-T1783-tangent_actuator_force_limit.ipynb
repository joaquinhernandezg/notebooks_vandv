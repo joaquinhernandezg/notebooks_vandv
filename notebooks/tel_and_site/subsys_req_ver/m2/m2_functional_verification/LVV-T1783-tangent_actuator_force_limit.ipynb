{
 "cells": [
  {
   "cell_type": "markdown",
   "id": "d6ff33ef-591f-4da7-b957-1ead52e9ff6f",
   "metadata": {},
   "source": [
    "# M2 tangent Actuator force limit\n",
    "\n",
    "This Jupyter notebook is to run the M2 test for the software limit for the tangent actuators\n",
    "A tangent actuator will be issued with a force over the software limit and check that the command will be rejected by the CSCejected by the CSC. This script shall be run with the M2 cell standing vertically (TMA pointing at the horizon)."
   ]
  },
  {
   "cell_type": "markdown",
   "id": "96c70ef4-1d6c-480d-bd6d-f96a977c2f2a",
   "metadata": {},
   "source": [
    "## Import Modules"
   ]
  },
  {
   "cell_type": "code",
   "execution_count": null,
   "id": "e06db634-83dd-4a0d-ba1b-d6a4eaa3faa6",
   "metadata": {
    "tags": []
   },
   "outputs": [],
   "source": [
    "import asyncio\n",
    "import numpy as np\n",
    "from datetime import datetime\n",
    "from lsst.ts import salobj\n",
    "from lsst.ts.m2com import NUM_ACTUATOR, NUM_TANGENT_LINK"
   ]
  },
  {
   "cell_type": "markdown",
   "id": "ec65b561-487c-43c6-942d-f9507179de71",
   "metadata": {},
   "source": [
    "## Declaration of User-defined Functions"
   ]
  },
  {
   "cell_type": "code",
   "execution_count": null,
   "id": "29fbdc49-f583-4e35-987f-384c816d149d",
   "metadata": {
    "tags": []
   },
   "outputs": [],
   "source": [
    "async def injectForce_tangent_actuator(csc, actuators, force, sleep_time=5):\n",
    "    \"\"\"inject a force to the axial actuator.\n",
    "    \n",
    "    Parameters\n",
    "    ----------\n",
    "    csc : lsst.ts.salobj.remote.Remote\n",
    "        Remote object of the M2 CSC.\n",
    "    actuators : list of actuators.\n",
    "    force : list of forces\n",
    "        Force to apply (Newton).\n",
    "    sleep_time : float, optional\n",
    "        Sleep time. (the default is 5.0)\n",
    "    \"\"\"\n",
    "\n",
    "    forces = [0.] * NUM_TANGENT_LINK\n",
    "    \n",
    "    for idx in range(len(actuators)):\n",
    "        print(f\"idx: {idx}.\")\n",
    "        index = actuators[idx]\n",
    "        forces[index] = force[idx]\n",
    "        print(f\"Apply the force: {force[index]} N. to actuator: {index}\")\n",
    "    await csc.cmd_applyForces.set_start(tangent=forces)\n",
    "    await asyncio.sleep(sleep_time)\n"
   ]
  },
  {
   "cell_type": "markdown",
   "id": "79c53e71-d4dc-4e40-b856-b0af2a045b4d",
   "metadata": {
    "tags": []
   },
   "source": [
    "## Prepare the M2 CSC and put to Enabled state"
   ]
  },
  {
   "cell_type": "code",
   "execution_count": null,
   "id": "146c08d7-48a0-4d41-b512-419bb6bb87d0",
   "metadata": {
    "tags": []
   },
   "outputs": [],
   "source": [
    "domain = salobj.Domain()\n",
    "m2 = salobj.Remote(domain, \"MTM2\")\n",
    "await m2.start_task\n",
    "await m2.cmd_setLogLevel.set_start(level=10)"
   ]
  },
  {
   "cell_type": "code",
   "execution_count": null,
   "id": "52d5e668-c259-4642-9144-5fafdf723bea",
   "metadata": {
    "tags": []
   },
   "outputs": [],
   "source": [
    "# get status\n",
    "\n",
    "state = m2.evt_summaryState.get()\n",
    "print(state)"
   ]
  },
  {
   "cell_type": "code",
   "execution_count": null,
   "id": "6d9d9c6b-0fcf-4f66-8566-1a9e658dcadc",
   "metadata": {
    "tags": []
   },
   "outputs": [],
   "source": [
    "# Standby  -->  Disable\n",
    "await m2.cmd_start.set_start(timeout=60)"
   ]
  },
  {
   "cell_type": "code",
   "execution_count": null,
   "id": "4403c45f-535c-4ac5-a5e7-ed2a25bf9649",
   "metadata": {},
   "outputs": [],
   "source": [
    "# Disable  -->  Enabled\n",
    "await m2.cmd_enable.set_start(timeout=200)"
   ]
  },
  {
   "cell_type": "code",
   "execution_count": null,
   "id": "e3aade32-76b0-400b-8f07-0c859de3a7c1",
   "metadata": {},
   "outputs": [],
   "source": [
    "# Enabled  -->  Disable\n",
    "await m2.cmd_disable.set_start(timeout=30)"
   ]
  },
  {
   "cell_type": "code",
   "execution_count": null,
   "id": "0653625e-d98c-41dd-8b4f-df3a1e0212ae",
   "metadata": {},
   "outputs": [],
   "source": [
    "#Disable  -->  Standby\n",
    "await m2.cmd_standby.set_start(timeout=30)"
   ]
  },
  {
   "cell_type": "code",
   "execution_count": null,
   "id": "028ea1f5-a5e2-4d15-bfbb-17eef10900ac",
   "metadata": {
    "tags": []
   },
   "outputs": [],
   "source": [
    "#Fault --> Standby\n",
    "await m2.cmd_standby.set_start(timeout=30)"
   ]
  },
  {
   "cell_type": "markdown",
   "id": "5961eb58-cbbb-48b6-bdc7-e6518faebb3a",
   "metadata": {},
   "source": [
    "## Do the force actuator limit Test"
   ]
  },
  {
   "cell_type": "code",
   "execution_count": null,
   "id": "87537214-5f5f-4f41-aadf-0cb26df49b1f",
   "metadata": {
    "tags": []
   },
   "outputs": [],
   "source": [
    "time_start = datetime.now()\n",
    "print(f\"UTC time to is {time_start} now.\")"
   ]
  },
  {
   "cell_type": "code",
   "execution_count": null,
   "id": "c0796ee0-d662-4e0b-bae2-73695957a7a4",
   "metadata": {
    "tags": []
   },
   "outputs": [],
   "source": [
    "# set actuators number\n",
    "actuators = [0,1,2,3,4,5]\n",
    "n_act = NUM_TANGENT_LINK\n",
    "\n",
    "\n",
    "# set tangent actuator forces\n",
    "f_Delta = np.array(f_Delta, float)\n",
    "f_Delta[1] = -300.\n",
    "f_Delta[4] = +300.\n",
    "forces = f_Delta"
   ]
  },
  {
   "cell_type": "code",
   "execution_count": null,
   "id": "42cd8e73-785c-4d66-829e-dd4645bb662d",
   "metadata": {
    "tags": []
   },
   "outputs": [],
   "source": [
    "# reset applied forces to tangent links\n",
    "\n",
    "for idx in range(n_act):\n",
    "    force = forces[idx]\n",
    "await m2.cmd_resetForceOffsets.set_start()\n",
    "await asyncio.sleep(5)"
   ]
  },
  {
   "cell_type": "code",
   "execution_count": null,
   "id": "0395bfec-094c-4f5e-a101-cea9e2f58666",
   "metadata": {
    "tags": []
   },
   "outputs": [],
   "source": [
    "#apply forces to the diametrally opposed tangent links to keep minimized the force momentum\n",
    "\n",
    "for idx in range(n_act):\n",
    "    force = forces[idx]\n",
    "    \n",
    "await injectForce_tangent_actuator(m2, actuators, f_Delta, sleep_time=5)\n",
    "await asyncio.sleep(5)"
   ]
  },
  {
   "cell_type": "code",
   "execution_count": null,
   "id": "d3d84159-2425-4d31-acb3-457d600cba3b",
   "metadata": {
    "tags": []
   },
   "outputs": [],
   "source": [
    "# reset applied forces to tangent links\n",
    "\n",
    "for idx in range(n_act):\n",
    "    force = forces[idx]\n",
    "await m2.cmd_resetForceOffsets.set_start()\n",
    "await asyncio.sleep(5)"
   ]
  }
 ],
 "metadata": {
  "kernelspec": {
   "display_name": "LSST",
   "language": "python",
   "name": "lsst"
  },
  "language_info": {
   "codemirror_mode": {
    "name": "ipython",
    "version": 3
   },
   "file_extension": ".py",
   "mimetype": "text/x-python",
   "name": "python",
   "nbconvert_exporter": "python",
   "pygments_lexer": "ipython3",
   "version": "3.10.10"
  }
 },
 "nbformat": 4,
 "nbformat_minor": 5
}
