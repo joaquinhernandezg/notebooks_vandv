{
 "cells": [
  {
   "cell_type": "markdown",
   "id": "cff92e66-8d7e-46a0-92a5-bede9f097f62",
   "metadata": {},
   "source": [
    "# M2 Rigid Body Position Small range\n",
    " \n",
    "This Jupyter notebook performs the Rigid Body Position (RBP) test of the M2 in the context of the M2 minimum functionality check.\n",
    "Each M2 RBP Degree of Freedom (DoF) is actuated individually with RBP command of small amplitude and the evolution of the measured forces is observed. A conditional loop ensures that the maximum forces and related errors remain below the fault threshold."
   ]
  },
  {
   "cell_type": "markdown",
   "id": "630e8dca-6fb4-4e9e-9ecf-494928cefbb2",
   "metadata": {},
   "source": [
    "## Import Modules"
   ]
  },
  {
   "cell_type": "code",
   "execution_count": null,
   "id": "6945ae01-c911-44cb-98bf-0399914c4da0",
   "metadata": {
    "tags": []
   },
   "outputs": [],
   "source": [
    "import asyncio\n",
    "import yaml\n",
    "import numpy as np\n",
    "import pandas as pd\n",
    "import sys\n",
    "import select\n",
    "from datetime import datetime\n",
    "from lsst.ts import salobj\n",
    "from lsst.ts.m2com import NUM_ACTUATOR, NUM_TANGENT_LINK\n",
    "from lsst.ts.ofc.utils import get_config_dir as get_config_dir_ofc\n",
    "from lsst.ts.aos.utils import DiagnosticsM2, EfdName\n",
    "import time"
   ]
  },
  {
   "cell_type": "markdown",
   "id": "50a825e1-91b3-4dd4-ad90-e27154001a50",
   "metadata": {
    "execution": {
     "iopub.execute_input": "2023-02-15T12:53:11.930901Z",
     "iopub.status.busy": "2023-02-15T12:53:11.930612Z",
     "iopub.status.idle": "2023-02-15T12:53:11.933205Z",
     "shell.execute_reply": "2023-02-15T12:53:11.932768Z",
     "shell.execute_reply.started": "2023-02-15T12:53:11.930883Z"
    }
   },
   "source": [
    "## Prepare the M2 CSC and put to Enabled state"
   ]
  },
  {
   "cell_type": "code",
   "execution_count": null,
   "id": "845bb53a-a792-48ce-8765-d3144311a8cb",
   "metadata": {
    "tags": []
   },
   "outputs": [],
   "source": [
    "domain = salobj.Domain()\n",
    "m2 = salobj.Remote(domain, \"MTM2\")"
   ]
  },
  {
   "cell_type": "code",
   "execution_count": null,
   "id": "c6679c96-f1b3-4d15-a220-355d33f72f5e",
   "metadata": {
    "tags": []
   },
   "outputs": [],
   "source": [
    "await m2.start_task\n",
    "await m2.cmd_setLogLevel.set_start(level=10)"
   ]
  },
  {
   "cell_type": "markdown",
   "id": "12b0a81a-77d1-473b-bf72-bce6717d9972",
   "metadata": {},
   "source": [
    "# SYSTEM STATUS LEGEND    \n",
    "1. DISABLED = 1\n",
    "2. ENABLED = 2\n",
    "3. FAULT = 3\n",
    "4. OFFLINE = 4\n",
    "5. STANDBY = 5\n",
    "\n",
    "Standby  -->  Disable  -->  Enabled\n",
    "\n",
    "await m2.cmd_start.set_start(timeout=30)\n",
    "await m2.cmd_enable.set_start(timeout=200)\n",
    "\n",
    "To Stop, do this:    Enabled  -->  Disable  -->  Standby\n",
    "\n",
    "await m2.cmd_disable.set_start(timeout=30)\n",
    "await m2.cmd_standby.set_start(timeout=30) "
   ]
  },
  {
   "cell_type": "code",
   "execution_count": null,
   "id": "add9094e-4451-42d1-b8e1-dee22f2f6ad8",
   "metadata": {
    "tags": []
   },
   "outputs": [],
   "source": [
    "# get status\n",
    "state = m2.evt_summaryState.get()\n",
    "print(f'{time.strftime(\"%Y-%m-%dT%H:%M:%S\",time.gmtime())} System Status: {state.summaryState}')"
   ]
  },
  {
   "cell_type": "code",
   "execution_count": null,
   "id": "0970c2d2-431c-44ae-9333-2afb221f0e03",
   "metadata": {},
   "outputs": [],
   "source": [
    "# Standby  -->  Disable\n",
    "await m2.cmd_start.set_start(timeout=30)"
   ]
  },
  {
   "cell_type": "markdown",
   "id": "dc7d5f73-7fce-4027-98ed-5d93a119f3b9",
   "metadata": {},
   "source": [
    "## LUT FILES\n",
    "1. Configurable_File_Description_20180831T091922_M2_optical.csv\n",
    "2. Configurable_File_Description_20180831T092326_M2_handling.csv\n",
    "3. Configurable_File_Description_20180831T092423_surrogate_optical.csv\n",
    "4. Configurable_File_Description_20180831T092556_surrogate_handling.csv"
   ]
  },
  {
   "cell_type": "code",
   "execution_count": null,
   "id": "44235efb-4977-4281-8273-b958f5573206",
   "metadata": {
    "tags": []
   },
   "outputs": [],
   "source": [
    "#Setting the right LUT ***ONLY IN DISABLE STATE ***\n",
    "ccfile = m2.evt_config.get().get_vars()['configuration']\n",
    "\n",
    "if 'surrogate_optical' not in ccfile:\n",
    "    config_files = m2.evt_configurationFiles.get().get_vars()['files'].split(',')\n",
    "    ncfile = [el for el in config_files if 'surrogate_optical' in el][0]\n",
    "    await m2.cmd_setConfigurationFile.set_start(file=ncfile)\n",
    "\n",
    "print(f'{time.strftime(\"%Y-%m-%dT%H:%M:%S\",time.gmtime())} Current config file: {m2.evt_config.get().get_vars()[\"configuration\"]}')"
   ]
  },
  {
   "cell_type": "code",
   "execution_count": null,
   "id": "dd540ee9-0337-4e3b-8d2b-e1d1a426454b",
   "metadata": {},
   "outputs": [],
   "source": [
    "# Disable  -->  Enabled\n",
    "await m2.cmd_enable.set_start(timeout=450)"
   ]
  },
  {
   "cell_type": "code",
   "execution_count": null,
   "id": "891af92c-0566-4897-8ada-3db8c58727bf",
   "metadata": {},
   "outputs": [],
   "source": [
    "# Enabled  -->  Disable\n",
    "await m2.cmd_disable.set_start(timeout=30)"
   ]
  },
  {
   "cell_type": "code",
   "execution_count": null,
   "id": "de0f6504-1b6e-4e3c-8824-643fcb973c9a",
   "metadata": {},
   "outputs": [],
   "source": [
    "#Disable  -->  Standby\n",
    "await m2.cmd_standby.set_start(timeout=30)"
   ]
  },
  {
   "cell_type": "code",
   "execution_count": null,
   "id": "a54560cf-9d0e-405b-866c-08d74eda9153",
   "metadata": {},
   "outputs": [],
   "source": [
    "#Fault --> Standby\n",
    "await m2.cmd_standby.set_start(timeout=30)"
   ]
  },
  {
   "cell_type": "code",
   "execution_count": null,
   "id": "67c85328-a6f8-49af-a010-ad702ba81f58",
   "metadata": {
    "tags": []
   },
   "outputs": [],
   "source": [
    "state_m2 = m2.evt_summaryState.get()\n",
    "if state_m2.summaryState != salobj.State.ENABLED:\n",
    "    await salobj.set_summary_state(m2, salobj.State.ENABLED, timeout=460)"
   ]
  },
  {
   "cell_type": "markdown",
   "id": "ee00175e-f2dd-4703-bd3a-7a928628254f",
   "metadata": {},
   "source": [
    "## Command RBP displacement"
   ]
  },
  {
   "cell_type": "code",
   "execution_count": null,
   "id": "a471dc86-2e41-41b0-89a6-a0054f0f76ef",
   "metadata": {},
   "outputs": [],
   "source": [
    "async def move_m2_rbp(axis: str):\n",
    "\n",
    "    start = await asyncio.to_thread(input, 'Start')\n",
    "    match start:\n",
    "        case 'y':\n",
    "            pass\n",
    "        case _:\n",
    "            return\n",
    "            \n",
    "    position = await asyncio.to_thread(input, 'Position')\n",
    "    if len(position) == 0:\n",
    "        return\n",
    "    position = float(position)    \n",
    "\n",
    "    # ABSOLUTE position displacement\n",
    "    match axis:\n",
    "        case 'x': \n",
    "            await m2.cmd_positionMirror.set_start(x=position)\n",
    "        case 'y': \n",
    "            await m2.cmd_positionMirror.set_start(y=position)\n",
    "        case 'z': \n",
    "            await m2.cmd_positionMirror.set_start(z=position)\n",
    "        case _: \n",
    "            raise ValueError\n",
    "        \n",
    "   \n",
    "    #awaiting until the position is stable\n",
    "    interval = 5.0\n",
    "    threshold = 2.0\n",
    "    mirror_is_moving = True\n",
    "    while mirror_is_moving:\n",
    "       \n",
    "        dof_meas = list()\n",
    "        ti = time.perf_counter()\n",
    "        while(time.perf_counter() - ti < interval):\n",
    "            match axis:\n",
    "                case 'x':\n",
    "                    dof_meas.append(m2.tel_position.get().x)\n",
    "                case 'y':\n",
    "                    dof_meas.append(m2.tel_position.get().y)\n",
    "                case 'z':\n",
    "                    dof_meas.append(m2.tel_position.get().z)\n",
    "                case _:\n",
    "                    raise ValueError\n",
    "               \n",
    "        if abs(max(dof_meas)-min(dof_meas)) < threshold:\n",
    "            mirror_is_moving = False\n",
    "        await asyncio.sleep(5.0)\n",
    "\n",
    "\n",
    "    # force threshold checks\n",
    "    tangent_force_error = m2.tel_forceErrorTangent.get().force\n",
    "    measured_tangent = m2.tel_tangentForce.get().measured\n",
    "    measured_axial = m2.tel_axialForce.get().measured\n",
    "\n",
    "    \n",
    "    tangent_force_error = np.abs(np.array(tangent_force_error)).max()\n",
    "    measured_tangent = np.abs(np.array(measured_tangent)).max()\n",
    "    measured_axial = np.abs(np.array(measured_axial)).max()\n",
    "\n",
    "    sum_force = abs(m2.tel_forceErrorTangent.get().sum)\n",
    "    weight_force = abs(m2.tel_forceErrorTangent.get().weight)\n",
    "\n",
    "    # if the threshold is exceeded, then break\n",
    "    if (tangent_force_error > 950 or measured_tangent > 4870 or\n",
    "    sum_force > 950 or weight_force > 1900 or measured_axial > 420):\n",
    "        print('Some limit reached:')\n",
    "        print(f'{time.strftime(\"%Y-%m-%dT%H:%M:%S\",time.gmtime())}\\nFmeasured: {measured_tangent} \\nError_tangent: {tangent_force_error} \\nSum: {sum_force} \\nWeight: {weight_force} \\nMeasured_axial: {measured_axial}')\n",
    "        return\n",
    "        \n",
    "    print(f'{time.strftime(\"%Y-%m-%dT%H:%M:%S\",time.gmtime())} \\nFmeasured: {measured_tangent} \\nError_tangent: {tangent_force_error} \\nSum: {sum_force} \\nWeight: {weight_force} \\nMeasured_axial: {measured_axial}')\n",
    "    print('*** MOVEMENT DONE ***')\n",
    "    await move_m2_rbp(axis)"
   ]
  },
  {
   "cell_type": "code",
   "execution_count": null,
   "id": "16819c8a-0207-4b2d-8e97-2b368a5fa072",
   "metadata": {},
   "outputs": [],
   "source": [
    "#Tiemout coroutine\n",
    "async def timeout(timeout: float):\n",
    "    await asyncio.sleep(timeout)\n",
    "    return"
   ]
  },
  {
   "cell_type": "code",
   "execution_count": null,
   "id": "2e0dac51-f2e9-45e3-ac05-d47fffdba078",
   "metadata": {},
   "outputs": [],
   "source": [
    "async def main(axis):\n",
    "    t = 60.0\n",
    "\n",
    "    task1 = asyncio.create_task(timeout(t))\n",
    "    task2 = asyncio.create_task(move_m2_rbp(axis))\n",
    "\n",
    "    done, pending = await asyncio.wait([task1, task2], return_when=asyncio.FIRST_COMPLETED)"
   ]
  },
  {
   "cell_type": "code",
   "execution_count": null,
   "id": "586294a7-d612-4ee6-b677-855eb87b2194",
   "metadata": {},
   "outputs": [],
   "source": [
    "# X-DOF\n",
    "\n",
    "axis='x'\n",
    "\n",
    "await m2.cmd_positionMirror.set_start() #Restoring Zero position\n",
    "await main(axis)"
   ]
  },
  {
   "cell_type": "code",
   "execution_count": null,
   "id": "f25238a7-6869-4f91-a95d-100d520c1676",
   "metadata": {},
   "outputs": [],
   "source": [
    "# Y-DOF\n",
    "\n",
    "axis='y'\n",
    "\n",
    "await m2.cmd_positionMirror.set_start() #Restoring Zero position\n",
    "await main(axis)"
   ]
  },
  {
   "cell_type": "code",
   "execution_count": null,
   "id": "d98a5712-caf7-496c-93c1-b6fabdb297b0",
   "metadata": {},
   "outputs": [],
   "source": [
    "# Z-DOF\n",
    "\n",
    "axis='z'\n",
    "\n",
    "await m2.cmd_positionMirror.set_start() #Restoring Zero position\n",
    "await main(axis)"
   ]
  }
 ],
 "metadata": {
  "kernelspec": {
   "display_name": "LSST",
   "language": "python",
   "name": "lsst"
  },
  "language_info": {
   "codemirror_mode": {
    "name": "ipython",
    "version": 3
   },
   "file_extension": ".py",
   "mimetype": "text/x-python",
   "name": "python",
   "nbconvert_exporter": "python",
   "pygments_lexer": "ipython3",
   "version": "3.11.4"
  }
 },
 "nbformat": 4,
 "nbformat_minor": 5
}
