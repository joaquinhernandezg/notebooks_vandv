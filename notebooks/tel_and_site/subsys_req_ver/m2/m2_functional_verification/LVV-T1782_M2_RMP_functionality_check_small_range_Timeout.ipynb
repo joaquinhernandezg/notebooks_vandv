{
 "cells": [
  {
   "cell_type": "markdown",
   "id": "cff92e66-8d7e-46a0-92a5-bede9f097f62",
   "metadata": {},
   "source": [
    "# M2 Rigid Body Position Small range\n",
    " \n",
    "This Jupyter notebook performs Rigid Body Position (RBP) displacements of the M2 and verify how the force on the axial and tangent actuators change.\n",
    "Each M2 RBP Degree of Freedom (DoF) is actuated individually with a progressive movements, the stop positions and the increment are user defined.\n",
    "\n",
    "For each DoF the 'Start' input is query to the user (response either y (yes) or n (no)).\n",
    "\n",
    "The `move_m2_rbp` defined below move the M2 as rigid body using the `m2.cmd_positionMirror.set_start` function and controlling new telemetry using the `seqNum` attribute, an integer number in the telemetry call attributes that increment only when new telemetry data are retrived.\n",
    "\n",
    "The first check is on the M2 settle condition after the movement, checking the steps value of the hardpoints, retrieved by the function `get_hardpoint_steps` defined below.\n",
    "\n",
    "After the displacement another check is perfomed on the forces of all actuators, using the following telemetry calls:\n",
    "\n",
    "    - m2.tel_forceErrorTangent.get().force\n",
    "    - m2.tel_tangentForce.get().measured\n",
    "    - m2.tel_axialForce.get().measured\n",
    "    - m2.tel_forceErrorTangent.get().sum\n",
    "    - m2.tel_forceErrorTangent.get().weight\n",
    "\n",
    "The log of this script is managed by the `my_logger` Class that send the output both at the screen and into a [isoTdatetime]_logfile.txt\n",
    "\n",
    "# Important: \n",
    "In this script the function `m2.cmd_positionMirror.set_start` is used to move the M2. Any D.O.F that is not declared will be set to the home position (e.g. using `m2.cmd_positionMirror.set_start()` the M2 is moved to the home position, `m2.cmd_positionMirror.set_start(x=position)` will move the M2 along the x-axis of `position` and the other axis will set at the home position).  "
   ]
  },
  {
   "cell_type": "markdown",
   "id": "630e8dca-6fb4-4e9e-9ecf-494928cefbb2",
   "metadata": {},
   "source": [
    "## Import Modules"
   ]
  },
  {
   "cell_type": "code",
   "execution_count": 31,
   "id": "6945ae01-c911-44cb-98bf-0399914c4da0",
   "metadata": {
    "execution": {
     "iopub.execute_input": "2023-11-12T18:15:45.727988Z",
     "iopub.status.busy": "2023-11-12T18:15:45.727660Z",
     "iopub.status.idle": "2023-11-12T18:15:45.732515Z",
     "shell.execute_reply": "2023-11-12T18:15:45.731726Z",
     "shell.execute_reply.started": "2023-11-12T18:15:45.727962Z"
    },
    "tags": []
   },
   "outputs": [],
   "source": [
    "import asyncio\n",
    "import numpy as np\n",
    "from datetime import datetime\n",
    "from lsst.ts import salobj\n",
    "import logging"
   ]
  },
  {
   "cell_type": "markdown",
   "id": "911c13b6",
   "metadata": {},
   "source": [
    "# LOGGER CLASS\n",
    "This class uses the `logging.Logger` module to create a log using the `%(asctime)s - %(levelname)s - %(message)s` format. Two Handlers are added into it, in order to flow the log both ad the screen (`StreamHandler`) and into a log file (`FileHandler`). The log file is called [isoTdatetime]_testlog.txt"
   ]
  },
  {
   "cell_type": "code",
   "execution_count": 32,
   "id": "e6bd97f6-e66f-4818-856a-5dcfd40e00f0",
   "metadata": {
    "execution": {
     "iopub.execute_input": "2023-11-12T18:15:50.038869Z",
     "iopub.status.busy": "2023-11-12T18:15:50.038208Z",
     "iopub.status.idle": "2023-11-12T18:15:50.049181Z",
     "shell.execute_reply": "2023-11-12T18:15:50.048456Z",
     "shell.execute_reply.started": "2023-11-12T18:15:50.038841Z"
    }
   },
   "outputs": [],
   "source": [
    "class my_logger:\n",
    "    def __init__(self):\n",
    "        self.log_file = f'{datetime.now().isoformat()}_testlog.txt'\n",
    "        self.formatter = logging.Formatter('%(asctime)s - %(levelname)s - %(message)s')\n",
    "        self.logger = logging.Logger(__name__)\n",
    "        self.logger.setLevel(logging.INFO)\n",
    "        \n",
    "        log_to_file = logging.FileHandler(self.log_file)\n",
    "        log_to_file.setFormatter(self.formatter)\n",
    "        \n",
    "        log_to_screen = logging.StreamHandler()\n",
    "        log_to_screen.setFormatter(self.formatter)\n",
    "        \n",
    "        self.logger.addHandler(log_to_file)\n",
    "        self.logger.addHandler(log_to_screen)\n",
    "        \n",
    "    def info(self, msg: str):\n",
    "        self.logger.info(msg)\n",
    "        \n",
    "    def warning(self, msg: str):\n",
    "        self.logger.warning(msg)\n",
    "\n",
    "    def error(self, msg: str):\n",
    "            self.logger.error(msg, exc_info=True)\n",
    "\n",
    "    def critical(self, msg: str):\n",
    "            self.logger.critical(msg, exc_info=True)\n",
    "\n",
    "logger = my_logger()     "
   ]
  },
  {
   "cell_type": "markdown",
   "id": "50a825e1-91b3-4dd4-ad90-e27154001a50",
   "metadata": {
    "execution": {
     "iopub.execute_input": "2023-02-15T12:53:11.930901Z",
     "iopub.status.busy": "2023-02-15T12:53:11.930612Z",
     "iopub.status.idle": "2023-02-15T12:53:11.933205Z",
     "shell.execute_reply": "2023-02-15T12:53:11.932768Z",
     "shell.execute_reply.started": "2023-02-15T12:53:11.930883Z"
    }
   },
   "source": [
    "## Prepare the M2 CSC and put to Enabled state"
   ]
  },
  {
   "cell_type": "code",
   "execution_count": 33,
   "id": "845bb53a-a792-48ce-8765-d3144311a8cb",
   "metadata": {
    "execution": {
     "iopub.execute_input": "2023-11-12T18:15:56.817640Z",
     "iopub.status.busy": "2023-11-12T18:15:56.816794Z",
     "iopub.status.idle": "2023-11-12T18:15:57.115105Z",
     "shell.execute_reply": "2023-11-12T18:15:57.114411Z",
     "shell.execute_reply.started": "2023-11-12T18:15:56.817607Z"
    },
    "tags": []
   },
   "outputs": [
    {
     "data": {
      "text/html": [
       "<pre style=\"margin: 0.1em;\n",
       "padding-left: 0.25em;\n",
       "border-left-style: solid;\n",
       "font-family: var(--jp-code-font-family);\n",
       "font-size: var(--jp-code-font-size);\n",
       "line-height: var(--jp-code-line-height);\n",
       "\"><span style=\"color: var(--jp-warn-color2)\">MTM2</span> <span style=\"color: var(--jp-info-color0)\">INFO</span>: Disabling authlist-based command authorization</pre>"
      ],
      "text/plain": [
       "<IPython.core.display.HTML object>"
      ]
     },
     "metadata": {},
     "output_type": "display_data"
    }
   ],
   "source": [
    "domain = salobj.Domain()\n",
    "m2 = salobj.Remote(domain, \"MTM2\")"
   ]
  },
  {
   "cell_type": "code",
   "execution_count": 34,
   "id": "c6679c96-f1b3-4d15-a220-355d33f72f5e",
   "metadata": {
    "execution": {
     "iopub.execute_input": "2023-11-12T18:15:58.928252Z",
     "iopub.status.busy": "2023-11-12T18:15:58.927892Z",
     "iopub.status.idle": "2023-11-12T18:15:58.936103Z",
     "shell.execute_reply": "2023-11-12T18:15:58.935344Z",
     "shell.execute_reply.started": "2023-11-12T18:15:58.928222Z"
    },
    "tags": []
   },
   "outputs": [
    {
     "data": {
      "text/plain": [
       "<ddsutil.MTM2_ackcmd_b60441f4 at 0x7febfb05e050>"
      ]
     },
     "execution_count": 34,
     "metadata": {},
     "output_type": "execute_result"
    }
   ],
   "source": [
    "await m2.start_task\n",
    "await m2.cmd_setLogLevel.set_start(level=10)"
   ]
  },
  {
   "cell_type": "markdown",
   "id": "12b0a81a-77d1-473b-bf72-bce6717d9972",
   "metadata": {},
   "source": [
    "# SYSTEM STATUS LEGEND    \n",
    "1. DISABLED = 1\n",
    "2. ENABLED = 2\n",
    "3. FAULT = 3\n",
    "4. OFFLINE = 4\n",
    "5. STANDBY = 5\n",
    "\n",
    "**Fault restoring cycle**\n",
    "\n",
    "Fault --> Standby  -->  Disable  -->  Enabled\n",
    "\n",
    "**To Stop**\n",
    "\n",
    "Enabled  -->  Disable  -->  Standby"
   ]
  },
  {
   "cell_type": "code",
   "execution_count": 39,
   "id": "add9094e-4451-42d1-b8e1-dee22f2f6ad8",
   "metadata": {
    "execution": {
     "iopub.execute_input": "2023-11-12T18:17:24.120987Z",
     "iopub.status.busy": "2023-11-12T18:17:24.120498Z",
     "iopub.status.idle": "2023-11-12T18:17:24.126272Z",
     "shell.execute_reply": "2023-11-12T18:17:24.125472Z",
     "shell.execute_reply.started": "2023-11-12T18:17:24.120957Z"
    },
    "tags": []
   },
   "outputs": [
    {
     "name": "stderr",
     "output_type": "stream",
     "text": [
      "2023-11-12 18:17:24,122 - INFO - System Status: 2\n"
     ]
    }
   ],
   "source": [
    "#Get system status\n",
    "state = m2.evt_summaryState.get()\n",
    "logger.info(f'System Status: {state.summaryState}')"
   ]
  },
  {
   "cell_type": "markdown",
   "id": "4f7e7431",
   "metadata": {},
   "source": [
    "# Fault Restoring Cycle"
   ]
  },
  {
   "cell_type": "code",
   "execution_count": 36,
   "id": "ea1fd767",
   "metadata": {
    "execution": {
     "iopub.execute_input": "2023-11-12T18:16:22.594855Z",
     "iopub.status.busy": "2023-11-12T18:16:22.594526Z",
     "iopub.status.idle": "2023-11-12T18:16:35.216533Z",
     "shell.execute_reply": "2023-11-12T18:16:35.215759Z",
     "shell.execute_reply.started": "2023-11-12T18:16:22.594829Z"
    }
   },
   "outputs": [
    {
     "data": {
      "text/plain": [
       "<ddsutil.MTM2_ackcmd_b60441f4 at 0x7febfbbedb10>"
      ]
     },
     "execution_count": 36,
     "metadata": {},
     "output_type": "execute_result"
    }
   ],
   "source": [
    "#Fault --> Standby\n",
    "await m2.cmd_standby.set_start(timeout=30)"
   ]
  },
  {
   "cell_type": "code",
   "execution_count": 37,
   "id": "0970c2d2-431c-44ae-9333-2afb221f0e03",
   "metadata": {
    "execution": {
     "iopub.execute_input": "2023-11-12T18:16:39.445046Z",
     "iopub.status.busy": "2023-11-12T18:16:39.444232Z",
     "iopub.status.idle": "2023-11-12T18:16:46.064648Z",
     "shell.execute_reply": "2023-11-12T18:16:46.063818Z",
     "shell.execute_reply.started": "2023-11-12T18:16:39.445011Z"
    },
    "tags": []
   },
   "outputs": [
    {
     "data": {
      "text/plain": [
       "<ddsutil.MTM2_ackcmd_b60441f4 at 0x7febf9891f90>"
      ]
     },
     "execution_count": 37,
     "metadata": {},
     "output_type": "execute_result"
    }
   ],
   "source": [
    "# Standby  -->  Disable\n",
    "await m2.cmd_start.set_start(timeout=30)"
   ]
  },
  {
   "cell_type": "code",
   "execution_count": 38,
   "id": "02a7bb70",
   "metadata": {
    "execution": {
     "iopub.execute_input": "2023-11-12T18:16:48.464564Z",
     "iopub.status.busy": "2023-11-12T18:16:48.463474Z",
     "iopub.status.idle": "2023-11-12T18:17:21.018112Z",
     "shell.execute_reply": "2023-11-12T18:17:21.017308Z",
     "shell.execute_reply.started": "2023-11-12T18:16:48.464527Z"
    }
   },
   "outputs": [
    {
     "data": {
      "text/html": [
       "<pre style=\"margin: 0.1em;\n",
       "padding-left: 0.25em;\n",
       "border-left-style: solid;\n",
       "font-family: var(--jp-code-font-family);\n",
       "font-size: var(--jp-code-font-size);\n",
       "line-height: var(--jp-code-line-height);\n",
       "\"><span style=\"color: var(--jp-warn-color2)\">MTM2.logevent_logMessage</span> <span style=\"color: var(--jp-warn-color0)\">WARNING</span>: evt_logMessage DDS read queue is filling: 10 of 100 elements</pre>"
      ],
      "text/plain": [
       "<IPython.core.display.HTML object>"
      ]
     },
     "metadata": {},
     "output_type": "display_data"
    },
    {
     "data": {
      "text/html": [
       "<pre style=\"margin: 0.1em;\n",
       "padding-left: 0.25em;\n",
       "border-left-style: solid;\n",
       "font-family: var(--jp-code-font-family);\n",
       "font-size: var(--jp-code-font-size);\n",
       "line-height: var(--jp-code-line-height);\n",
       "\"><span style=\"color: var(--jp-warn-color2)\">MTM2.logevent_logMessage</span> <span style=\"color: var(--jp-warn-color0)\">WARNING</span>: evt_logMessage DDS read queue is filling: 10 of 100 elements</pre>"
      ],
      "text/plain": [
       "<IPython.core.display.HTML object>"
      ]
     },
     "metadata": {},
     "output_type": "display_data"
    },
    {
     "data": {
      "text/plain": [
       "<ddsutil.MTM2_ackcmd_b60441f4 at 0x7febfb077610>"
      ]
     },
     "execution_count": 38,
     "metadata": {},
     "output_type": "execute_result"
    }
   ],
   "source": [
    "# Disable  -->  Enabled\n",
    "await m2.cmd_enable.set_start(timeout=450)"
   ]
  },
  {
   "cell_type": "markdown",
   "id": "dee7922b",
   "metadata": {},
   "source": [
    "# Stop Cycle"
   ]
  },
  {
   "cell_type": "code",
   "execution_count": null,
   "id": "4a849787",
   "metadata": {},
   "outputs": [],
   "source": [
    "# Enabled  -->  Disable\n",
    "await m2.cmd_disable.set_start(timeout=30)"
   ]
  },
  {
   "cell_type": "code",
   "execution_count": null,
   "id": "a971d92c",
   "metadata": {},
   "outputs": [],
   "source": [
    "#Disable  -->  Standby\n",
    "await m2.cmd_standby.set_start(timeout=30)"
   ]
  },
  {
   "cell_type": "markdown",
   "id": "dc7d5f73-7fce-4027-98ed-5d93a119f3b9",
   "metadata": {},
   "source": [
    "## LUT FILES\n",
    "1. Configurable_File_Description_20180831T091922_M2_optical.csv\n",
    "2. Configurable_File_Description_20180831T092326_M2_handling.csv\n",
    "3. Configurable_File_Description_20180831T092423_surrogate_optical.csv\n",
    "4. Configurable_File_Description_20180831T092556_surrogate_handling.csv"
   ]
  },
  {
   "cell_type": "code",
   "execution_count": null,
   "id": "44235efb-4977-4281-8273-b958f5573206",
   "metadata": {
    "tags": []
   },
   "outputs": [],
   "source": [
    "#Setting the right LUT ***ONLY IN DISABLE STATE ***\n",
    "ccfile = m2.evt_config.get().get_vars()['configuration']\n",
    "\n",
    "if 'surrogate_optical' not in ccfile:\n",
    "    config_files = m2.evt_configurationFiles.get().get_vars()['files'].split(',')\n",
    "    ncfile = [el for el in config_files if 'surrogate_optical' in el][0]\n",
    "    await m2.cmd_setConfigurationFile.set_start(file=ncfile)\n",
    "    logger.info(f'Current config file (switch to enable state to make the change effective): {m2.evt_config.get().get_vars()[\"configuration\"]}')"
   ]
  },
  {
   "cell_type": "code",
   "execution_count": null,
   "id": "413b61ac-d231-4a0f-b9bf-5aebc780807e",
   "metadata": {
    "tags": []
   },
   "outputs": [],
   "source": [
    "#Debug cell\n",
    "print(m2.evt_interlock.get())\n",
    "print(m2.evt_innerLoopControlMode.get())\n",
    "print(m2.evt_errorCode.get())\n",
    "print(m2.evt_forceBalanceSystemStatus.get())"
   ]
  },
  {
   "cell_type": "code",
   "execution_count": null,
   "id": "67c85328-a6f8-49af-a010-ad702ba81f58",
   "metadata": {
    "tags": []
   },
   "outputs": [],
   "source": [
    "# state_m2 = m2.evt_summaryState.get()\n",
    "# if state_m2.summaryState != salobj.State.ENABLED:\n",
    "#     await salobj.set_summary_state(m2, salobj.State.ENABLED, timeout=460)"
   ]
  },
  {
   "cell_type": "markdown",
   "id": "ee00175e-f2dd-4703-bd3a-7a928628254f",
   "metadata": {},
   "source": [
    "# Retrieve Hardpoint Step Position"
   ]
  },
  {
   "cell_type": "code",
   "execution_count": 40,
   "id": "5734533b-cddb-44b3-b5f6-48d4d32e3709",
   "metadata": {
    "execution": {
     "iopub.execute_input": "2023-11-12T18:17:33.152653Z",
     "iopub.status.busy": "2023-11-12T18:17:33.152312Z",
     "iopub.status.idle": "2023-11-12T18:17:33.164442Z",
     "shell.execute_reply": "2023-11-12T18:17:33.163529Z",
     "shell.execute_reply.started": "2023-11-12T18:17:33.152626Z"
    }
   },
   "outputs": [],
   "source": [
    "async def get_hardpoint_steps():\n",
    "    #Hardpoint Ids (!! Starting from 1 !!)\n",
    "    hardpoint_id = m2.evt_hardpointList.get().actuators\n",
    "\n",
    "    #Actuator steps lists (both axial and tangent)\n",
    "    axial_steps = m2.tel_axialActuatorSteps.get().steps\n",
    "    tangent_steps = m2.tel_tangentActuatorSteps.get().steps\n",
    "\n",
    "    #Constructing the hardpoint dictionary (e.g. {ids: setp_value})\n",
    "    hardpoint = dict()\n",
    "    NUM_AXIAL_ACTUATOR = 72\n",
    "    for i, key in enumerate(hardpoint_id):\n",
    "        if i < 3:\n",
    "            hardpoint[key] = axial_steps[key-1]\n",
    "        else:\n",
    "            hardpoint[key] = tangent_steps[key-NUM_AXIAL_ACTUATOR-1]\n",
    "    return hardpoint"
   ]
  },
  {
   "cell_type": "markdown",
   "id": "d075f983",
   "metadata": {},
   "source": [
    "# Command RBP displacement"
   ]
  },
  {
   "cell_type": "code",
   "execution_count": 41,
   "id": "a471dc86-2e41-41b0-89a6-a0054f0f76ef",
   "metadata": {
    "execution": {
     "iopub.execute_input": "2023-11-12T18:17:36.365857Z",
     "iopub.status.busy": "2023-11-12T18:17:36.365516Z",
     "iopub.status.idle": "2023-11-12T18:17:36.394858Z",
     "shell.execute_reply": "2023-11-12T18:17:36.394106Z",
     "shell.execute_reply.started": "2023-11-12T18:17:36.365829Z"
    },
    "tags": []
   },
   "outputs": [],
   "source": [
    "async def move_m2_rbp(axis: str, position: float, logger: logging.Logger):\n",
    "\n",
    "    logger.info(f'Moving to {position} micron along {axis}-axis')\n",
    "\n",
    "    # ABSOLUTE position displacement\n",
    "    # Try to move or catch the Exception (i.e. it is in FAULT state)\n",
    "    # If incorrect axis is provided then raise a ValueError exception\n",
    "    match axis:\n",
    "        case 'x':\n",
    "            try:\n",
    "                await m2.cmd_positionMirror.set_start(x=position)\n",
    "            except Exception as e:\n",
    "                logger.error('EXCEPTION OCCURRED')\n",
    "        case 'y': \n",
    "            try:\n",
    "                await m2.cmd_positionMirror.set_start(y=position)\n",
    "            except Exception as e:\n",
    "                logger.error('EXCEPTION OCCURRED')\n",
    "        case 'z': \n",
    "            try:\n",
    "                await m2.cmd_positionMirror.set_start(z=position)\n",
    "            except Exception as e:\n",
    "                logger.error('EXCEPTION OCCURRED')\n",
    "        case _: \n",
    "            raise ValueError('Unrecognized axis')\n",
    "        \n",
    "    \n",
    "    # Wait until settle block.\n",
    "    # Looking at the hardpoints step positions (check the seqNum for the streaming of new data)\n",
    "    # When at least 'safety_counter_threshold' hardpoints measurements are equal then\n",
    "    # the M2 is considered settled\n",
    "    logger.info('Waiting the mirror to settle')\n",
    "    mirror_is_moving = True\n",
    "    wait_telemetry = 0.2\n",
    "    settle_time = 10.0\n",
    "\n",
    "    init_seqnum = m2.tel_axialActuatorSteps.get().private_seqNum\n",
    "    init_hardpoint = await get_hardpoint_steps()\n",
    "    logger.info(f'Starting hardpoint condition: \\n{init_hardpoint}')\n",
    "    safety_counter = 0\n",
    "    safety_counter_threshold = 5\n",
    "\n",
    "    while mirror_is_moving:\n",
    "        await asyncio.sleep(wait_telemetry)\n",
    "        eval_seqnum = m2.tel_axialActuatorSteps.get().private_seqNum\n",
    "        if eval_seqnum == init_seqnum:\n",
    "            # Means no new telemetry is flowing so skip the rest\n",
    "            # of the loop and wait.\n",
    "            continue\n",
    "\n",
    "        hardpoint = await get_hardpoint_steps()\n",
    "        logger.info(f'New hardpoint telemetry data: \\n{hardpoint}')\n",
    "        \n",
    "        # If the new telemtry is different from the previous one \n",
    "        # means that M2 is still moving\n",
    "        if hardpoint != init_hardpoint:\n",
    "            #setting the current telemetry as the \"previous\" for the next cycle\n",
    "            #Skip the rest of the loop\n",
    "            init_hardpoint = hardpoint \n",
    "            continue\n",
    "        \n",
    "        # If the previous condition is not met it means that \n",
    "        # the hardpoints are settled so the mirror as well. \n",
    "        # As a further safety precaution this has to happen safety_counter_threshold times\n",
    "        init_hardpoint = hardpoint\n",
    "        safety_counter += 1\n",
    "\n",
    "        if safety_counter > safety_counter_threshold:\n",
    "            logger.info('Position reached')\n",
    "            mirror_is_moving = False\n",
    "\n",
    "    # Wait an additional settle time\n",
    "    await asyncio.sleep(settle_time) \n",
    "\n",
    "    # Start checking all the actuator forces. \n",
    "    # The logic of this block is to gather at least 'min_force_sample' new telemetry measurements, \n",
    "    # select the maximum reading and check if it is reaching the force limit. \n",
    "    # In both case (Limit reached or not) the actual force status is logged\n",
    "    min_force_sample = 10\n",
    "\n",
    "    #Initialize the force list\n",
    "    tangent_force_error = list()\n",
    "    tangent_force = list()\n",
    "    axial_force = list()\n",
    "    sum_tangent_force_error = list()\n",
    "    weight_tangent_force_error = list()\n",
    "\n",
    "    wait_force_telemetry = 1.0\n",
    "\n",
    "    logger.info('Checking the forces')\n",
    "    initial_seqnum = m2.tel_forceErrorTangent.get().private_seqNum\n",
    "    \n",
    "    #Loop until the force lists have at least 'min_force_sample' elements\n",
    "    while (len(tangent_force) < min_force_sample):\n",
    "        eval_seqnum = m2.tel_forceErrorTangent.get().private_seqNum\n",
    "        if eval_seqnum == initial_seqnum:\n",
    "            # Means no new telemtry is flowing so skip the rest\n",
    "            # of the loop and wait.\n",
    "            await asyncio.sleep(wait_force_telemetry)\n",
    "            continue\n",
    "        \n",
    "        initial_seqnum = eval_seqnum\n",
    "\n",
    "        #Here means that new telemtry is flowing, so store the measurement in the force lists  \n",
    "        #Lists of lists\n",
    "        tangent_force_error.append(m2.tel_forceErrorTangent.get().force)\n",
    "        tangent_force.append(m2.tel_tangentForce.get().measured)\n",
    "        axial_force.append(m2.tel_axialForce.get().measured)\n",
    "\n",
    "        #Lists of floats\n",
    "        sum_tangent_force_error.append(abs(m2.tel_forceErrorTangent.get().sum))\n",
    "        weight_tangent_force_error.append(abs(m2.tel_forceErrorTangent.get().weight))\n",
    "\n",
    "        await asyncio.sleep(wait_force_telemetry)\n",
    "\n",
    "    logger.info('Force telemetry data acquisition done')\n",
    "\n",
    "    # Get the maximum value of each list and save also its index. \n",
    "    # By means it is possible to log the measurement of all forces, containing the maximum.\n",
    "    max_tangent_force_error = [np.unravel_index(np.abs(np.array(tangent_force_error)).argmax(), np.array(tangent_force_error).shape),\n",
    "                               np.abs(np.array(tangent_force_error)).max()]\n",
    "    max_tangent_force = [np.unravel_index(np.abs(np.array(tangent_force)).argmax(), np.array(tangent_force).shape),\n",
    "                         np.abs(np.array(tangent_force)).max()]\n",
    "    max_axial_force = [np.unravel_index(np.abs(np.array(axial_force)).argmax(), np.array(axial_force).shape),\n",
    "                       np.abs(np.array(axial_force)).max()]\n",
    "    max_sum_tangent_force_error = [np.unravel_index(np.abs(np.array(sum_tangent_force_error)).argmax(), np.array(sum_tangent_force_error).shape),\n",
    "                                  np.abs(np.array(sum_tangent_force_error)).max()]\n",
    "    max_weight_tangent_force_error = [np.unravel_index(np.abs(np.array(weight_tangent_force_error)).argmax(), np.array(weight_tangent_force_error).shape),\n",
    "                                  np.abs(np.array(weight_tangent_force_error)).max()]\n",
    "    \n",
    "    # Controlling if the maximum exceed the Threshold. \n",
    "    # N.B. The threshold setted here are below the real force threshold\n",
    "    limit_reach = True\n",
    "    max_id = -1\n",
    "\n",
    "    if max_tangent_force_error[1] > 950:\n",
    "        max_id = max_tangent_force_error[0][0]\n",
    "\n",
    "    elif max_tangent_force[1] > 4870:\n",
    "        max_id = max_tangent_force[0][0]\n",
    "\n",
    "    elif max_sum_tangent_force_error[1] > 950:\n",
    "        max_id = sum_tangent_force_error[0][0]\n",
    "\n",
    "    elif max_weight_tangent_force_error[1] > 1900:\n",
    "        max_id = weight_tangent_force_error[0][0]\n",
    "\n",
    "    elif max_axial_force[1] > 420:\n",
    "        max_id = max_axial_force[0][0]\n",
    "\n",
    "    else:\n",
    "        limit_reach = False\n",
    "\n",
    "    # If some limit is reached then log the force measurement containing it.\n",
    "    # The values are rounded at two significative values\n",
    "    if limit_reach:\n",
    "        log = (f'LIMIT REACHED:'\n",
    "               f'\\nMeasured tangent force(<4893): {[round(el,2) for el in tangent_force[max_id]]}'\n",
    "               f'\\nForce tangent error (<1000): {[round(el,2) for el in tangent_force_error[max_id]]}'\n",
    "               f'\\nSum tangent force error(<1000): {sum_tangent_force_error[max_id]:.2f}'\n",
    "               f'\\nWeight tangent force error(<2000): {weight_tangent_force_error[max_id]:.2f}'\n",
    "               f'\\nMax measured axial force(<489): {max_axial_force[max_id]:.2f}'\n",
    "               f'\\n{datetime.now().isoformat()} M2 LAST POSITION:'\n",
    "               f'\\nX: {m2.tel_position.get().x:.2f}'\n",
    "               f'\\nY: {m2.tel_position.get().y:.2f}'\n",
    "               f'\\nZ: {m2.tel_position.get().z:.2f}'\n",
    "               f'\\nXROT: {m2.tel_position.get().xRot:.2f}'\n",
    "               f'\\nYROT: {m2.tel_position.get().yRot:.2f}'\n",
    "               f'\\nZROT: {m2.tel_position.get().zRot:.2f}')\n",
    "        \n",
    "        logger.warning(log)\n",
    "        return\n",
    "    \n",
    "    # Otherwise just log the last measurement\n",
    "    # The values are rounded at two significative values\n",
    "    log = (f'CURRENT STATUS:'\n",
    "           f'\\nMeasured tangent force(<4893): {[round(el,2) for el in tangent_force[max_id]]}'\n",
    "           f'\\nForce tangent error (<1000): {[round(el,2) for el in tangent_force_error[max_id]]}'\n",
    "           f'\\nSum tangent force error(<1000): {sum_tangent_force_error[max_id]:.2f}'\n",
    "           f'\\nWeight tangent force error(<2000): {weight_tangent_force_error[max_id]:.2f}'\n",
    "           f'\\nMax measured axial force(<489): {max_axial_force[max_id]:.2f}'\n",
    "           f'\\n{datetime.now().isoformat()} M2 LAST POSITION:'\n",
    "           f'\\nX: {m2.tel_position.get().x:.2f}'\n",
    "           f'\\nY: {m2.tel_position.get().y:.2f}'\n",
    "           f'\\nZ: {m2.tel_position.get().z:.2f}'\n",
    "           f'\\nXROT: {m2.tel_position.get().xRot:.2f}'\n",
    "           f'\\nYROT: {m2.tel_position.get().yRot:.2f}'\n",
    "           f'\\nZROT: {m2.tel_position.get().zRot:.2f}')\n",
    "        \n",
    "    logger.info(log)"
   ]
  },
  {
   "cell_type": "code",
   "execution_count": 42,
   "id": "16819c8a-0207-4b2d-8e97-2b368a5fa072",
   "metadata": {
    "execution": {
     "iopub.execute_input": "2023-11-12T18:17:39.094297Z",
     "iopub.status.busy": "2023-11-12T18:17:39.093925Z",
     "iopub.status.idle": "2023-11-12T18:17:39.103545Z",
     "shell.execute_reply": "2023-11-12T18:17:39.102808Z",
     "shell.execute_reply.started": "2023-11-12T18:17:39.094269Z"
    },
    "tags": []
   },
   "outputs": [],
   "source": [
    "#Timeout coroutine\n",
    "async def timeout(timeout: float):\n",
    "    await asyncio.sleep(timeout)\n",
    "    return\n",
    "\n",
    "#Function for query to user the intention to start (yes or no)\n",
    "async def start_m2_move():\n",
    "    start = await asyncio.to_thread(input, 'Start (y or n)')\n",
    "    match start:\n",
    "        case 'y':\n",
    "            return True\n",
    "        case _:\n",
    "            return False\n",
    "\n",
    "# Main Coroutine that call into two different threads the timeout coroutine and the Start query function.\n",
    "# This function return as soon as one of the two coroutine ends.\n",
    "# This implement a timeout for the Start query function.\n",
    "async def main(axis: str, max_position: float, increment: float, logger: logging.Logger):\n",
    "    t = 5.0\n",
    "\n",
    "    task1 = asyncio.create_task(timeout(t), name='Timeout')\n",
    "    task2 = asyncio.create_task(start_m2_move(), name='M2 movement')\n",
    "\n",
    "    done, pending = await asyncio.wait([task1, task2], return_when=asyncio.FIRST_COMPLETED)\n",
    "\n",
    "    task_done = None\n",
    "    res = None\n",
    "    \n",
    "    for el in done:\n",
    "        task_done = el.get_name()\n",
    "        res = el.result()\n",
    "    \n",
    "    for el in pending:\n",
    "        el.cancel()\n",
    "\n",
    "    if task_done == 'M2 movement' and res:\n",
    "        print('Start M2 RBP Position')\n",
    "        for position in np.arange(0, max_position, increment):\n",
    "            if position == 0:\n",
    "                continue\n",
    "            await move_m2_rbp(axis, position, logger)"
   ]
  },
  {
   "cell_type": "code",
   "execution_count": 43,
   "id": "586294a7-d612-4ee6-b677-855eb87b2194",
   "metadata": {
    "execution": {
     "iopub.execute_input": "2023-11-12T18:17:46.885060Z",
     "iopub.status.busy": "2023-11-12T18:17:46.884056Z",
     "iopub.status.idle": "2023-11-12T18:19:23.043811Z",
     "shell.execute_reply": "2023-11-12T18:19:23.043096Z",
     "shell.execute_reply.started": "2023-11-12T18:17:46.885027Z"
    },
    "tags": []
   },
   "outputs": [
    {
     "name": "stderr",
     "output_type": "stream",
     "text": [
      "2023-11-12 18:17:46,887 - INFO - ** STARTING MOVING ON x-axis**\n",
      "2023-11-12T18:17:46.887467 M2 POSITION:\n",
      "X: -5.52\n",
      "Y: -23.04\n",
      "Z: -4.88\n",
      "XROT: -2.16\n",
      "YROT: 3.43\n",
      "ZROT: 5.04\n"
     ]
    },
    {
     "name": "stdin",
     "output_type": "stream",
     "text": [
      "Start (y or n) y\n"
     ]
    },
    {
     "name": "stderr",
     "output_type": "stream",
     "text": [
      "2023-11-12 18:17:51,313 - INFO - Moving to 5.0 micron along x-axis\n"
     ]
    },
    {
     "name": "stdout",
     "output_type": "stream",
     "text": [
      "Start M2 RBP Position\n"
     ]
    },
    {
     "name": "stderr",
     "output_type": "stream",
     "text": [
      "2023-11-12 18:17:51,817 - INFO - Waiting the mirror to settle\n",
      "2023-11-12 18:17:51,818 - INFO - Starting hardpoint condition: \n",
      "{6: -82995, 16: -325210, 26: -543923, 74: -85262, 76: -164017, 78: -144481}\n",
      "2023-11-12 18:17:52,019 - INFO - New hardpoint telemetry data: \n",
      "{6: -82995, 16: -325210, 26: -543923, 74: -85262, 76: -164017, 78: -144481}\n",
      "2023-11-12 18:17:52,221 - INFO - New hardpoint telemetry data: \n",
      "{6: -82995, 16: -325210, 26: -543923, 74: -85262, 76: -164017, 78: -144481}\n",
      "2023-11-12 18:17:52,422 - INFO - New hardpoint telemetry data: \n",
      "{6: -82995, 16: -325210, 26: -543923, 74: -85262, 76: -164017, 78: -144481}\n",
      "2023-11-12 18:17:52,623 - INFO - New hardpoint telemetry data: \n",
      "{6: -82995, 16: -325210, 26: -543923, 74: -85262, 76: -164017, 78: -144481}\n",
      "2023-11-12 18:17:52,826 - INFO - New hardpoint telemetry data: \n",
      "{6: -81503, 16: -325459, 26: -544968, 74: -86506, 76: -164358, 78: -145469}\n",
      "2023-11-12 18:17:53,028 - INFO - New hardpoint telemetry data: \n",
      "{6: -81503, 16: -325459, 26: -544968, 74: -86506, 76: -164358, 78: -145469}\n",
      "2023-11-12 18:17:53,229 - INFO - New hardpoint telemetry data: \n",
      "{6: -81503, 16: -325459, 26: -544968, 74: -86506, 76: -164358, 78: -145469}\n",
      "2023-11-12 18:17:53,230 - INFO - Position reached\n",
      "2023-11-12 18:18:03,231 - INFO - Checking the forces\n",
      "2023-11-12 18:18:14,242 - INFO - Force telemetry data acquisition done\n",
      "2023-11-12 18:18:14,243 - INFO - CURRENT STATUS:\n",
      "Measured tangent force(<4893): [113.06, -180.45, 30.3, -116.26, 50.49, -55.88]\n",
      "Force tangent error (<1000): [113.06, -156.28, 26.24, -116.26, 43.72, -48.39]\n",
      "Sum tangent force error(<1000): 158.75\n",
      "Weight tangent force error(<2000): 125.37\n",
      "Max measured axial force(<489): 334.68\n",
      "2023-11-12T18:18:14.243617 M2 LAST POSITION:\n",
      "X: -7.87\n",
      "Y: -29.26\n",
      "Z: -9.28\n",
      "XROT: -4.08\n",
      "YROT: 4.62\n",
      "ZROT: 8.63\n",
      "2023-11-12 18:18:14,244 - INFO - Moving to 10.0 micron along x-axis\n",
      "2023-11-12 18:18:14,748 - INFO - Waiting the mirror to settle\n",
      "2023-11-12 18:18:14,749 - INFO - Starting hardpoint condition: \n",
      "{6: -81786, 16: -325619, 26: -543902, 74: -86685, 76: -164878, 78: -146468}\n",
      "2023-11-12 18:18:14,950 - INFO - New hardpoint telemetry data: \n",
      "{6: -81786, 16: -325619, 26: -543902, 74: -86685, 76: -164878, 78: -146468}\n",
      "2023-11-12 18:18:15,152 - INFO - New hardpoint telemetry data: \n",
      "{6: -81786, 16: -325619, 26: -543902, 74: -86685, 76: -164878, 78: -146468}\n",
      "2023-11-12 18:18:15,354 - INFO - New hardpoint telemetry data: \n",
      "{6: -81786, 16: -325619, 26: -543902, 74: -86685, 76: -164878, 78: -146468}\n",
      "2023-11-12 18:18:15,556 - INFO - New hardpoint telemetry data: \n",
      "{6: -81786, 16: -325619, 26: -543902, 74: -86685, 76: -164878, 78: -146468}\n",
      "2023-11-12 18:18:15,757 - INFO - New hardpoint telemetry data: \n",
      "{6: -80820, 16: -325391, 26: -543765, 74: -87347, 76: -165095, 78: -146582}\n",
      "2023-11-12 18:18:15,958 - INFO - New hardpoint telemetry data: \n",
      "{6: -80820, 16: -325391, 26: -543765, 74: -87347, 76: -165095, 78: -146582}\n",
      "2023-11-12 18:18:16,160 - INFO - New hardpoint telemetry data: \n",
      "{6: -80820, 16: -325391, 26: -543765, 74: -87347, 76: -165095, 78: -146582}\n",
      "2023-11-12 18:18:16,161 - INFO - Position reached\n",
      "2023-11-12 18:18:26,162 - INFO - Checking the forces\n",
      "2023-11-12 18:18:37,174 - INFO - Force telemetry data acquisition done\n",
      "2023-11-12 18:18:37,175 - INFO - CURRENT STATUS:\n",
      "Measured tangent force(<4893): [113.24, -178.13, 30.5, -114.93, 50.48, -54.76]\n",
      "Force tangent error (<1000): [113.24, -154.26, 26.41, -114.93, 43.72, -47.42]\n",
      "Sum tangent force error(<1000): 153.60\n",
      "Weight tangent force error(<2000): 124.15\n",
      "Max measured axial force(<489): 333.76\n",
      "2023-11-12T18:18:37.175778 M2 LAST POSITION:\n",
      "X: -2.22\n",
      "Y: -29.94\n",
      "Z: 4.03\n",
      "XROT: -1.57\n",
      "YROT: 1.87\n",
      "ZROT: 4.05\n",
      "2023-11-12 18:18:37,176 - INFO - Moving to 15.0 micron along x-axis\n",
      "2023-11-12 18:18:37,680 - INFO - Waiting the mirror to settle\n",
      "2023-11-12 18:18:37,682 - INFO - Starting hardpoint condition: \n",
      "{6: -83866, 16: -325311, 26: -544130, 74: -84661, 76: -162933, 78: -144502}\n",
      "2023-11-12 18:18:37,883 - INFO - New hardpoint telemetry data: \n",
      "{6: -83866, 16: -325311, 26: -544130, 74: -84661, 76: -162933, 78: -144502}\n",
      "2023-11-12 18:18:38,084 - INFO - New hardpoint telemetry data: \n",
      "{6: -83866, 16: -325311, 26: -544130, 74: -84661, 76: -162933, 78: -144502}\n",
      "2023-11-12 18:18:38,286 - INFO - New hardpoint telemetry data: \n",
      "{6: -83866, 16: -325311, 26: -544130, 74: -84661, 76: -162933, 78: -144502}\n",
      "2023-11-12 18:18:38,488 - INFO - New hardpoint telemetry data: \n",
      "{6: -83866, 16: -325311, 26: -544130, 74: -84661, 76: -162933, 78: -144502}\n",
      "2023-11-12 18:18:38,690 - INFO - New hardpoint telemetry data: \n",
      "{6: -83866, 16: -325311, 26: -544130, 74: -84661, 76: -162933, 78: -144502}\n",
      "2023-11-12 18:18:38,892 - INFO - New hardpoint telemetry data: \n",
      "{6: -84291, 16: -325186, 26: -543945, 74: -83616, 76: -162810, 78: -143944}\n",
      "2023-11-12 18:18:39,093 - INFO - New hardpoint telemetry data: \n",
      "{6: -84291, 16: -325186, 26: -543945, 74: -83616, 76: -162810, 78: -143944}\n",
      "2023-11-12 18:18:39,094 - INFO - Position reached\n",
      "2023-11-12 18:18:49,096 - INFO - Checking the forces\n",
      "2023-11-12 18:19:00,107 - INFO - Force telemetry data acquisition done\n",
      "2023-11-12 18:19:00,108 - INFO - CURRENT STATUS:\n",
      "Measured tangent force(<4893): [113.53, -176.74, 30.54, -114.85, 50.81, -54.7]\n",
      "Force tangent error (<1000): [113.53, -153.06, 26.45, -114.85, 44.0, -47.37]\n",
      "Sum tangent force error(<1000): 151.41\n",
      "Weight tangent force error(<2000): 123.24\n",
      "Max measured axial force(<489): 335.79\n",
      "2023-11-12T18:19:00.108681 M2 LAST POSITION:\n",
      "X: 11.52\n",
      "Y: -35.39\n",
      "Z: 4.65\n",
      "XROT: 0.04\n",
      "YROT: -1.54\n",
      "ZROT: 1.76\n",
      "2023-11-12 18:19:00,109 - INFO - Moving to 20.0 micron along x-axis\n",
      "2023-11-12 18:19:00,612 - INFO - Waiting the mirror to settle\n",
      "2023-11-12 18:19:00,613 - INFO - Starting hardpoint condition: \n",
      "{6: -85357, 16: -324715, 26: -543328, 74: -83216, 76: -162381, 78: -143530}\n",
      "2023-11-12 18:19:00,815 - INFO - New hardpoint telemetry data: \n",
      "{6: -85357, 16: -324715, 26: -543328, 74: -83216, 76: -162381, 78: -143530}\n",
      "2023-11-12 18:19:01,017 - INFO - New hardpoint telemetry data: \n",
      "{6: -85357, 16: -324715, 26: -543328, 74: -83216, 76: -162381, 78: -143530}\n",
      "2023-11-12 18:19:01,218 - INFO - New hardpoint telemetry data: \n",
      "{6: -85357, 16: -324715, 26: -543328, 74: -83216, 76: -162381, 78: -143530}\n",
      "2023-11-12 18:19:01,420 - INFO - New hardpoint telemetry data: \n",
      "{6: -85357, 16: -324715, 26: -543328, 74: -83216, 76: -162381, 78: -143530}\n",
      "2023-11-12 18:19:01,622 - INFO - New hardpoint telemetry data: \n",
      "{6: -85357, 16: -324715, 26: -543328, 74: -83216, 76: -162381, 78: -143530}\n",
      "2023-11-12 18:19:01,823 - INFO - New hardpoint telemetry data: \n",
      "{6: -86230, 16: -324670, 26: -543554, 74: -82600, 76: -162295, 78: -142957}\n",
      "2023-11-12 18:19:02,024 - INFO - New hardpoint telemetry data: \n",
      "{6: -86230, 16: -324670, 26: -543554, 74: -82600, 76: -162295, 78: -142957}\n",
      "2023-11-12 18:19:02,025 - INFO - Position reached\n",
      "2023-11-12 18:19:12,027 - INFO - Checking the forces\n",
      "2023-11-12 18:19:23,039 - INFO - Force telemetry data acquisition done\n",
      "2023-11-12 18:19:23,040 - INFO - CURRENT STATUS:\n",
      "Measured tangent force(<4893): [113.12, -176.83, 30.35, -117.14, 50.47, -54.87]\n",
      "Force tangent error (<1000): [113.12, -153.14, 26.28, -117.14, 43.71, -47.52]\n",
      "Sum tangent force error(<1000): 154.90\n",
      "Weight tangent force error(<2000): 123.04\n",
      "Max measured axial force(<489): 335.78\n",
      "2023-11-12T18:19:23.040801 M2 LAST POSITION:\n",
      "X: 33.67\n",
      "Y: -47.40\n",
      "Z: -9.74\n",
      "XROT: -0.29\n",
      "YROT: -2.99\n",
      "ZROT: 3.68\n"
     ]
    }
   ],
   "source": [
    "# X-DOF\n",
    "\n",
    "axis='x'\n",
    "\n",
    "log = (f'** STARTING MOVING ON {axis}-axis**'\n",
    "       f'\\n{datetime.now().isoformat()} M2 POSITION:'\n",
    "       f'\\nX: {m2.tel_position.get().x:.2f}'\n",
    "       f'\\nY: {m2.tel_position.get().y:.2f}'\n",
    "       f'\\nZ: {m2.tel_position.get().z:.2f}'\n",
    "       f'\\nXROT: {m2.tel_position.get().xRot:.2f}'\n",
    "       f'\\nYROT: {m2.tel_position.get().yRot:.2f}'\n",
    "       f'\\nZROT: {m2.tel_position.get().zRot:.2f}')\n",
    "\n",
    "logger.info(log)\n",
    "\n",
    "max_position = 20.0\n",
    "increment = 5.0\n",
    "await m2.cmd_positionMirror.set_start() #Restoring Zero position\n",
    "await main(axis, max_position+increment, increment, logger)"
   ]
  },
  {
   "cell_type": "code",
   "execution_count": null,
   "id": "f25238a7-6869-4f91-a95d-100d520c1676",
   "metadata": {},
   "outputs": [],
   "source": [
    "# Y-DOF\n",
    "\n",
    "axis='y'\n",
    "\n",
    "log = (f'** STARTING MOVING ON {axis}-axis**'\n",
    "       f'\\n{datetime.now().isoformat()} M2 POSITION:'\n",
    "       f'\\nX: {m2.tel_position.get().x:.2f}'\n",
    "       f'\\nY: {m2.tel_position.get().y:.2f}'\n",
    "       f'\\nZ: {m2.tel_position.get().z:.2f}'\n",
    "       f'\\nXROT: {m2.tel_position.get().xRot:.2f}'\n",
    "       f'\\nYROT: {m2.tel_position.get().yRot:.2f}'\n",
    "       f'\\nZROT: {m2.tel_position.get().zRot:.2f}')\n",
    "\n",
    "logger.info(log)\n",
    "\n",
    "max_position = 20.0\n",
    "increment = 2.0\n",
    "await m2.cmd_positionMirror.set_start() #Restoring Zero position\n",
    "await main(axis, max_position+increment, increment, logger)"
   ]
  },
  {
   "cell_type": "code",
   "execution_count": null,
   "id": "d98a5712-caf7-496c-93c1-b6fabdb297b0",
   "metadata": {},
   "outputs": [],
   "source": [
    "# Z-DOF\n",
    "\n",
    "axis='z'\n",
    "\n",
    "log = (f'** STARTING MOVING ON {axis}-axis**'\n",
    "       f'\\n{datetime.now().isoformat()} M2 POSITION:'\n",
    "       f'\\nX: {m2.tel_position.get().x:.2f}'\n",
    "       f'\\nY: {m2.tel_position.get().y:.2f}'\n",
    "       f'\\nZ: {m2.tel_position.get().z:.2f}'\n",
    "       f'\\nXROT: {m2.tel_position.get().xRot:.2f}'\n",
    "       f'\\nYROT: {m2.tel_position.get().yRot:.2f}'\n",
    "       f'\\nZROT: {m2.tel_position.get().zRot:.2f}')\n",
    "\n",
    "logger.info(log)\n",
    "\n",
    "max_position = 20.0\n",
    "increment = 2.0\n",
    "await m2.cmd_positionMirror.set_start() #Restoring Zero position\n",
    "await main(axis, max_position+increment, increment, logger)"
   ]
  }
 ],
 "metadata": {
  "kernelspec": {
   "display_name": "LSST",
   "language": "python",
   "name": "lsst"
  },
  "language_info": {
   "codemirror_mode": {
    "name": "ipython",
    "version": 3
   },
   "file_extension": ".py",
   "mimetype": "text/x-python",
   "name": "python",
   "nbconvert_exporter": "python",
   "pygments_lexer": "ipython3",
   "version": "3.11.4"
  }
 },
 "nbformat": 4,
 "nbformat_minor": 5
}
