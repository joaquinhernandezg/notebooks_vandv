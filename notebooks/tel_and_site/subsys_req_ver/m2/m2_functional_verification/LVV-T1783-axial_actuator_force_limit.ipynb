{
 "cells": [
  {
   "cell_type": "markdown",
   "id": "d6ff33ef-591f-4da7-b957-1ead52e9ff6f",
   "metadata": {},
   "source": [
    "# M2 axial Actuator force limit\n",
    "\n",
    "This Jupyter notebook is to run the M2 test for the software limit for the axial actuators\n",
    "An axial actuator will be issued with a force over the software limit and check that the command will be rejected by the CSCejected by the CSC."
   ]
  },
  {
   "cell_type": "markdown",
   "id": "96c70ef4-1d6c-480d-bd6d-f96a977c2f2a",
   "metadata": {},
   "source": [
    "## Import Modules"
   ]
  },
  {
   "cell_type": "code",
   "execution_count": 1,
   "id": "e06db634-83dd-4a0d-ba1b-d6a4eaa3faa6",
   "metadata": {
    "execution": {
     "iopub.execute_input": "2023-06-29T20:52:31.870443Z",
     "iopub.status.busy": "2023-06-29T20:52:31.870002Z",
     "iopub.status.idle": "2023-06-29T20:52:32.545283Z",
     "shell.execute_reply": "2023-06-29T20:52:32.544197Z",
     "shell.execute_reply.started": "2023-06-29T20:52:31.870410Z"
    },
    "tags": []
   },
   "outputs": [
    {
     "data": {
      "text/html": [
       "<pre style=\"margin: 0.1em;\n",
       "padding-left: 0.25em;\n",
       "border-left-style: solid;\n",
       "font-family: var(--jp-code-font-family);\n",
       "font-size: var(--jp-code-font-size);\n",
       "line-height: var(--jp-code-line-height);\n",
       "\"><span style=\"color: var(--jp-warn-color2)\">lsst.ts.utils.tai</span> <span style=\"color: var(--jp-info-color0)\">INFO</span>: Update leap second table</pre>"
      ],
      "text/plain": [
       "<IPython.core.display.HTML object>"
      ]
     },
     "metadata": {},
     "output_type": "display_data"
    },
    {
     "data": {
      "text/html": [
       "<pre style=\"margin: 0.1em;\n",
       "padding-left: 0.25em;\n",
       "border-left-style: solid;\n",
       "font-family: var(--jp-code-font-family);\n",
       "font-size: var(--jp-code-font-size);\n",
       "line-height: var(--jp-code-line-height);\n",
       "\"><span style=\"color: var(--jp-warn-color2)\">lsst.ts.utils.tai</span> <span style=\"color: var(--jp-info-color0)\">INFO</span>: current_tai uses the system TAI clock</pre>"
      ],
      "text/plain": [
       "<IPython.core.display.HTML object>"
      ]
     },
     "metadata": {},
     "output_type": "display_data"
    }
   ],
   "source": [
    "import asyncio\n",
    "from datetime import datetime\n",
    "from lsst.ts import salobj\n",
    "from lsst.ts.m2com import NUM_ACTUATOR, NUM_TANGENT_LINK"
   ]
  },
  {
   "cell_type": "markdown",
   "id": "ec65b561-487c-43c6-942d-f9507179de71",
   "metadata": {},
   "source": [
    "## Declaration of User-defined Functions"
   ]
  },
  {
   "cell_type": "code",
   "execution_count": 2,
   "id": "29fbdc49-f583-4e35-987f-384c816d149d",
   "metadata": {
    "execution": {
     "iopub.execute_input": "2023-06-29T20:52:34.390157Z",
     "iopub.status.busy": "2023-06-29T20:52:34.389757Z",
     "iopub.status.idle": "2023-06-29T20:52:34.396171Z",
     "shell.execute_reply": "2023-06-29T20:52:34.395469Z",
     "shell.execute_reply.started": "2023-06-29T20:52:34.390124Z"
    },
    "tags": []
   },
   "outputs": [],
   "source": [
    "async def injectForce_axial_actuator(csc, actuators, force, sleep_time=5):\n",
    "    \"\"\"inject a force to the axial actuator.\n",
    "    \n",
    "    Parameters\n",
    "    ----------\n",
    "    csc : lsst.ts.salobj.remote.Remote\n",
    "        Remote object of the M2 CSC.\n",
    "    actuators : list of actuators.\n",
    "    force : list of forces\n",
    "        Force to apply (Newton).\n",
    "    sleep_time : float, optional\n",
    "        Sleep time. (the default is 5.0)\n",
    "    \"\"\"\n",
    "\n",
    "    num_axial_actuator = NUM_ACTUATOR - NUM_TANGENT_LINK\n",
    "    forces = [0.] * num_axial_actuator\n",
    "    \n",
    "    for idx in range(len(actuators)):\n",
    "        print(f\"idx: {idx}.\")\n",
    "        index = actuators[idx]\n",
    "        forces[index] = force\n",
    "        print(f\"Apply the force: {abs(force)} N. to actuator: {index}\")\n",
    "    await csc.cmd_applyForces.set_start(axial=forces)\n",
    "    await asyncio.sleep(sleep_time)\n"
   ]
  },
  {
   "cell_type": "markdown",
   "id": "79c53e71-d4dc-4e40-b856-b0af2a045b4d",
   "metadata": {
    "tags": []
   },
   "source": [
    "## Prepare the M2 CSC and put to Enabled state"
   ]
  },
  {
   "cell_type": "code",
   "execution_count": 3,
   "id": "146c08d7-48a0-4d41-b512-419bb6bb87d0",
   "metadata": {
    "execution": {
     "iopub.execute_input": "2023-06-29T20:52:38.293182Z",
     "iopub.status.busy": "2023-06-29T20:52:38.292582Z",
     "iopub.status.idle": "2023-06-29T20:52:38.507361Z",
     "shell.execute_reply": "2023-06-29T20:52:38.506408Z",
     "shell.execute_reply.started": "2023-06-29T20:52:38.293147Z"
    },
    "tags": []
   },
   "outputs": [
    {
     "data": {
      "text/html": [
       "<pre style=\"margin: 0.1em;\n",
       "padding-left: 0.25em;\n",
       "border-left-style: solid;\n",
       "font-family: var(--jp-code-font-family);\n",
       "font-size: var(--jp-code-font-size);\n",
       "line-height: var(--jp-code-line-height);\n",
       "\"><span style=\"color: var(--jp-warn-color2)\">MTM2</span> <span style=\"color: var(--jp-info-color0)\">INFO</span>: Disabling authlist-based command authorization</pre>"
      ],
      "text/plain": [
       "<IPython.core.display.HTML object>"
      ]
     },
     "metadata": {},
     "output_type": "display_data"
    },
    {
     "data": {
      "text/html": [
       "<pre style=\"margin: 0.1em;\n",
       "padding-left: 0.25em;\n",
       "border-left-style: solid;\n",
       "font-family: var(--jp-code-font-family);\n",
       "font-size: var(--jp-code-font-size);\n",
       "line-height: var(--jp-code-line-height);\n",
       "\"><span style=\"color: var(--jp-warn-color2)\">MTM2</span> <span style=\"color: var(--jp-info-color0)\">INFO</span>: Read historical data in 0.00 sec</pre>"
      ],
      "text/plain": [
       "<IPython.core.display.HTML object>"
      ]
     },
     "metadata": {},
     "output_type": "display_data"
    },
    {
     "data": {
      "text/plain": [
       "<ddsutil.MTM2_ackcmd_b60441f4 at 0x7f7a46cf79d0>"
      ]
     },
     "execution_count": 3,
     "metadata": {},
     "output_type": "execute_result"
    }
   ],
   "source": [
    "domain = salobj.Domain()\n",
    "m2 = salobj.Remote(domain, \"MTM2\")\n",
    "await m2.start_task\n",
    "await m2.cmd_setLogLevel.set_start(level=10)"
   ]
  },
  {
   "cell_type": "code",
   "execution_count": null,
   "id": "52d5e668-c259-4642-9144-5fafdf723bea",
   "metadata": {
    "tags": []
   },
   "outputs": [],
   "source": [
    "# get status\n",
    "\n",
    "state = m2.evt_summaryState.get()\n",
    "print(state)"
   ]
  },
  {
   "cell_type": "code",
   "execution_count": null,
   "id": "6d9d9c6b-0fcf-4f66-8566-1a9e658dcadc",
   "metadata": {},
   "outputs": [],
   "source": [
    "# Standby  -->  Disable\n",
    "await m2.cmd_start.set_start(timeout=60)"
   ]
  },
  {
   "cell_type": "code",
   "execution_count": null,
   "id": "4403c45f-535c-4ac5-a5e7-ed2a25bf9649",
   "metadata": {},
   "outputs": [],
   "source": [
    "# Disable  -->  Enabled\n",
    "await m2.cmd_enable.set_start(timeout=200)"
   ]
  },
  {
   "cell_type": "code",
   "execution_count": null,
   "id": "e3aade32-76b0-400b-8f07-0c859de3a7c1",
   "metadata": {},
   "outputs": [],
   "source": [
    "# Enabled  -->  Disable\n",
    "await m2.cmd_disable.set_start(timeout=30)"
   ]
  },
  {
   "cell_type": "code",
   "execution_count": null,
   "id": "0653625e-d98c-41dd-8b4f-df3a1e0212ae",
   "metadata": {},
   "outputs": [],
   "source": [
    "#Disable  -->  Standby\n",
    "await m2.cmd_standby.set_start(timeout=30)"
   ]
  },
  {
   "cell_type": "code",
   "execution_count": null,
   "id": "028ea1f5-a5e2-4d15-bfbb-17eef10900ac",
   "metadata": {},
   "outputs": [],
   "source": [
    "#Fault --> Standby\n",
    "await m2.cmd_standby.set_start(timeout=30)"
   ]
  },
  {
   "cell_type": "markdown",
   "id": "5961eb58-cbbb-48b6-bdc7-e6518faebb3a",
   "metadata": {},
   "source": [
    "## Do the force actuator limit Test"
   ]
  },
  {
   "cell_type": "code",
   "execution_count": null,
   "id": "87537214-5f5f-4f41-aadf-0cb26df49b1f",
   "metadata": {
    "tags": []
   },
   "outputs": [],
   "source": [
    "time_start = datetime.now()\n",
    "print(f\"UTC time to is {time_start} now.\")"
   ]
  },
  {
   "cell_type": "code",
   "execution_count": 8,
   "id": "2ce3bd00-1e07-4efb-b741-9beb611140e4",
   "metadata": {
    "execution": {
     "iopub.execute_input": "2023-06-29T20:54:54.182716Z",
     "iopub.status.busy": "2023-06-29T20:54:54.182293Z",
     "iopub.status.idle": "2023-06-29T20:54:59.691972Z",
     "shell.execute_reply": "2023-06-29T20:54:59.690839Z",
     "shell.execute_reply.started": "2023-06-29T20:54:54.182682Z"
    },
    "tags": []
   },
   "outputs": [],
   "source": [
    "# reset applied forces to axial actuators\n",
    "\n",
    "num_axial_actuator = NUM_ACTUATOR - NUM_TANGENT_LINK\n",
    "forces = [0.] * num_axial_actuator\n",
    "\n",
    "for idx in range(num_axial_actuator):\n",
    "    force = forces[idx]\n",
    "await m2.cmd_resetForceOffsets.set_start()\n",
    "await asyncio.sleep(5)"
   ]
  },
  {
   "cell_type": "code",
   "execution_count": 6,
   "id": "8a9380fb-5c00-422e-9aae-32793598caab",
   "metadata": {
    "execution": {
     "iopub.execute_input": "2023-06-29T20:53:43.513912Z",
     "iopub.status.busy": "2023-06-29T20:53:43.513482Z",
     "iopub.status.idle": "2023-06-29T20:53:49.025304Z",
     "shell.execute_reply": "2023-06-29T20:53:49.024341Z",
     "shell.execute_reply.started": "2023-06-29T20:53:43.513880Z"
    },
    "tags": []
   },
   "outputs": [
    {
     "name": "stdout",
     "output_type": "stream",
     "text": [
      "idx: 0.\n",
      "Apply the force: 45 N. to actuator: 15\n"
     ]
    }
   ],
   "source": [
    "force = 45\n",
    "actuators = [15]\n",
    "await injectForce_axial_actuator(m2, actuators, force, sleep_time=5)"
   ]
  },
  {
   "cell_type": "code",
   "execution_count": null,
   "id": "2017c3d5-bdc9-43d3-828a-54435b18b211",
   "metadata": {
    "tags": []
   },
   "outputs": [],
   "source": [
    "force = 200\n",
    "actuators = [15]\n",
    "await injectForce_axial_actuator(m2, actuators, force, sleep_time=5)"
   ]
  },
  {
   "cell_type": "code",
   "execution_count": null,
   "id": "023f43b2-bbd4-4786-938f-99b7cbdb442c",
   "metadata": {
    "tags": []
   },
   "outputs": [],
   "source": [
    "# command a force beyond the force limit that we expect to be rejected by the CSC \n",
    "\n",
    "force = 400\n",
    "actuators = [15]\n",
    "await injectForce_axial_actuator(m2, actuators, force, sleep_time=5)"
   ]
  }
 ],
 "metadata": {
  "kernelspec": {
   "display_name": "LSST",
   "language": "python",
   "name": "lsst"
  },
  "language_info": {
   "codemirror_mode": {
    "name": "ipython",
    "version": 3
   },
   "file_extension": ".py",
   "mimetype": "text/x-python",
   "name": "python",
   "nbconvert_exporter": "python",
   "pygments_lexer": "ipython3",
   "version": "3.10.10"
  }
 },
 "nbformat": 4,
 "nbformat_minor": 5
}
