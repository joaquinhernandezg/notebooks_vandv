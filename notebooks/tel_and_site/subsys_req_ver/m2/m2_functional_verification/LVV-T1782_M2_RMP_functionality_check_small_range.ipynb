{
 "cells": [
  {
   "cell_type": "markdown",
   "id": "cff92e66-8d7e-46a0-92a5-bede9f097f62",
   "metadata": {},
   "source": [
    "# M2 Rigid Body Position small range\n",
    " \n",
    "This Jupyter notebook performs the Rigid Body Position (RBP) test of the M2 in the context of the M2 minimum functionality check.\n",
    "Each M2 RBP Degree of Freedom (DoF) is actuated individually with RBP command of small amplitude and the evolution of the measured forces is observed. A conditional loop ensures that the maximum forces and related errors remain below the fault threshold."
   ]
  },
  {
   "cell_type": "markdown",
   "id": "630e8dca-6fb4-4e9e-9ecf-494928cefbb2",
   "metadata": {},
   "source": [
    "## Import Modules"
   ]
  },
  {
   "cell_type": "code",
   "execution_count": null,
   "id": "6945ae01-c911-44cb-98bf-0399914c4da0",
   "metadata": {
    "tags": []
   },
   "outputs": [],
   "source": [
    "import asyncio\n",
    "import yaml\n",
    "import numpy as np\n",
    "import pandas as pd\n",
    "import sys\n",
    "import select\n",
    "from datetime import datetime\n",
    "from lsst.ts import salobj\n",
    "from lsst.ts.m2com import NUM_ACTUATOR, NUM_TANGENT_LINK\n",
    "from lsst.ts.ofc.utils import get_config_dir as get_config_dir_ofc\n",
    "\n",
    "from lsst.ts.aos.utils import DiagnosticsM2, EfdName"
   ]
  },
  {
   "cell_type": "markdown",
   "id": "50a825e1-91b3-4dd4-ad90-e27154001a50",
   "metadata": {
    "execution": {
     "iopub.execute_input": "2023-02-15T12:53:11.930901Z",
     "iopub.status.busy": "2023-02-15T12:53:11.930612Z",
     "iopub.status.idle": "2023-02-15T12:53:11.933205Z",
     "shell.execute_reply": "2023-02-15T12:53:11.932768Z",
     "shell.execute_reply.started": "2023-02-15T12:53:11.930883Z"
    }
   },
   "source": [
    "## Prepare the M2 CSC and put to Enabled state"
   ]
  },
  {
   "cell_type": "code",
   "execution_count": null,
   "id": "6a4b25c7-5665-4fd7-b362-2fadb93218d8",
   "metadata": {
    "tags": []
   },
   "outputs": [],
   "source": [
    "domain = salobj.Domain()\n",
    "m2 = salobj.Remote(domain, \"MTM2\")\n",
    "await m2.start_task\n",
    "await m2.cmd_setLogLevel.set_start(level=10)"
   ]
  },
  {
   "cell_type": "code",
   "execution_count": null,
   "id": "f00cc030-1803-4cc1-a495-0709c2578879",
   "metadata": {},
   "outputs": [],
   "source": [
    "\"\"\"    \n",
    "DISABLED = 1\n",
    "ENABLED = 2\n",
    "FAULT = 3\n",
    "OFFLINE = 4\n",
    "STANDBY = 5\n",
    "\n",
    "Standby  -->  Disable  -->  Enabled\n",
    "\n",
    "await m2.cmd_start.set_start(timeout=30)\n",
    "await m2.cmd_enable.set_start(timeout=200)\n",
    "\n",
    "3) To Stop, do this:    Enabled  -->  Disable  -->  Standby\n",
    "\n",
    "await m2.cmd_disable.set_start(timeout=30)\n",
    "await m2.cmd_standby.set_start(timeout=30) \"\"\" "
   ]
  },
  {
   "cell_type": "code",
   "execution_count": null,
   "id": "add9094e-4451-42d1-b8e1-dee22f2f6ad8",
   "metadata": {},
   "outputs": [],
   "source": [
    "# get status\n",
    "state = m2.evt_summaryState.get()\n",
    "print(state)"
   ]
  },
  {
   "cell_type": "code",
   "execution_count": null,
   "id": "0970c2d2-431c-44ae-9333-2afb221f0e03",
   "metadata": {},
   "outputs": [],
   "source": [
    "# Standby  -->  Disable\n",
    "await m2.cmd_start.set_start(timeout=30)"
   ]
  },
  {
   "cell_type": "code",
   "execution_count": null,
   "id": "dd540ee9-0337-4e3b-8d2b-e1d1a426454b",
   "metadata": {},
   "outputs": [],
   "source": [
    "# Disable  -->  Enabled\n",
    "await m2.cmd_enable.set_start(timeout=450)"
   ]
  },
  {
   "cell_type": "code",
   "execution_count": null,
   "id": "891af92c-0566-4897-8ada-3db8c58727bf",
   "metadata": {},
   "outputs": [],
   "source": [
    "# Enabled  -->  Disable\n",
    "await m2.cmd_disable.set_start(timeout=30)"
   ]
  },
  {
   "cell_type": "code",
   "execution_count": null,
   "id": "de0f6504-1b6e-4e3c-8824-643fcb973c9a",
   "metadata": {},
   "outputs": [],
   "source": [
    "#Disable  -->  Standby\n",
    "await m2.cmd_standby.set_start(timeout=30)"
   ]
  },
  {
   "cell_type": "code",
   "execution_count": null,
   "id": "a54560cf-9d0e-405b-866c-08d74eda9153",
   "metadata": {},
   "outputs": [],
   "source": [
    "#Fault --> Standby\n",
    "await m2.cmd_standby.set_start(timeout=30)"
   ]
  },
  {
   "cell_type": "code",
   "execution_count": null,
   "id": "67c85328-a6f8-49af-a010-ad702ba81f58",
   "metadata": {
    "tags": []
   },
   "outputs": [],
   "source": [
    "state_m2 = m2.evt_summaryState.get()\n",
    "if state_m2.summaryState != salobj.State.ENABLED:\n",
    "    await salobj.set_summary_state(m2, salobj.State.ENABLED, timeout=460)"
   ]
  },
  {
   "cell_type": "markdown",
   "id": "ee00175e-f2dd-4703-bd3a-7a928628254f",
   "metadata": {},
   "source": [
    "## Command RBP displacement"
   ]
  },
  {
   "cell_type": "code",
   "execution_count": null,
   "id": "a471dc86-2e41-41b0-89a6-a0054f0f76ef",
   "metadata": {},
   "outputs": [],
   "source": [
    "import time\n",
    "\n",
    "async def move_m2_rbp(axis: str):\n",
    "    start = input('Start?')\n",
    "    if start != 'y':\n",
    "        return\n",
    "    \n",
    "    position = input('Position?')\n",
    "    if len(position) == 0:\n",
    "        return\n",
    "    position = int(position)    \n",
    "\n",
    "    # ABSOLUTE position displacement\n",
    "    if axis == 'x':\n",
    "        await m2.cmd_positionMirror.set_start(x=position)\n",
    "    elif axis == 'y':\n",
    "        await m2.cmd_positionMirror.set_start(y=position)\n",
    "    elif axis == 'z':\n",
    "        await m2.cmd_positionMirror.set_start(z=position)\n",
    "   \n",
    "    #awaiting until the position is stable\n",
    "    interval = 5.0\n",
    "    threshold = 2.0\n",
    "    in_loop = True\n",
    "    while in_loop:\n",
    "       \n",
    "        dof_meas = list()\n",
    "        ti = time.time()\n",
    "        while(time.time()-ti < interval):\n",
    "            if axis == 'x':\n",
    "                dof_meas.append(m2.tel_position.get().x)\n",
    "            elif axis == 'y':\n",
    "                dof_meas.append(m2.tel_position.get().y)\n",
    "            elif axis == 'z':\n",
    "                dof_meas.append(m2.tel_position.get().z)\n",
    "               \n",
    "        if abs(max(dof_meas)-min(dof_meas)) < threshold:\n",
    "            in_loop = False\n",
    "        await asyncio.sleep(5.0)\n",
    "\n",
    "\n",
    "    # force threshold checks\n",
    "    tangent_force_error = m2.tel_forceErrorTangent.get().force\n",
    "    max_tangent = m2.tel_tangentForce.get().measured\n",
    "    max_axial = m2.tel_axialForce.get().measured\n",
    "\n",
    "    tangent_force_error = [abs(round(el, 2)) for el in tangent_force_error]\n",
    "    max_tangent = [abs(round(el, 2)) for el in max_tangent]\n",
    "    max_axial = [abs(round(el, 2)) for el in max_axial]\n",
    "\n",
    "    sum_force = abs(m2.tel_forceErrorTangent.get().sum)\n",
    "    weight_force = abs(m2.tel_forceErrorTangent.get().weight)\n",
    "\n",
    "    # if the threshold is exceeded, then break\n",
    "    if (max(tangent_force_error) > 950 or max(max_tangent) > 4870 or\n",
    "    sum_force > 950 or weight_force > 1900 or max(max_axial) > 420):\n",
    "        print('Some limit reached:')\n",
    "        print(f'\\nFmeasured: {str(max_tangent)} \\nerror_tangent: {str(tangent_force_error)} \\nsum: {str(sum_force)} \\nweight: {str(weight_force)} \\nmax_axial: {str(max(max_axial))}')\n",
    "        return\n",
    "    \n",
    "    print(f'\\nFmeasured: {str(max_tangent)} \\nerror_tangent: {str(tangent_force_error)} \\nsum: {str(sum_force)} \\nweight: {str(weight_force)} \\nmax_axial: {str(max(max_axial))}')\n",
    "    \n",
    "    await move_m2_rbp(axis)\n"
   ]
  },
  {
   "cell_type": "code",
   "execution_count": null,
   "id": "586294a7-d612-4ee6-b677-855eb87b2194",
   "metadata": {},
   "outputs": [],
   "source": [
    "# X-DOF\n",
    "\n",
    "axis='x'\n",
    "\n",
    "await m2.cmd_positionMirror.set_start() #Restoring Zero position\n",
    "await move_m2_rbp(axis)"
   ]
  },
  {
   "cell_type": "code",
   "execution_count": null,
   "id": "f25238a7-6869-4f91-a95d-100d520c1676",
   "metadata": {},
   "outputs": [],
   "source": [
    "# Y-DOF\n",
    "\n",
    "axis='y'\n",
    "\n",
    "await m2.cmd_positionMirror.set_start() #Restoring Zero position\n",
    "await move_m2_rbp(axis)"
   ]
  },
  {
   "cell_type": "code",
   "execution_count": null,
   "id": "d98a5712-caf7-496c-93c1-b6fabdb297b0",
   "metadata": {},
   "outputs": [],
   "source": [
    "# Z-DOF\n",
    "\n",
    "axis='z'\n",
    "\n",
    "await m2.cmd_positionMirror.set_start() #Restoring Zero position\n",
    "await move_m2_rbp(axis)"
   ]
  }
 ],
 "metadata": {
  "kernelspec": {
   "display_name": "LSST",
   "language": "python",
   "name": "lsst"
  },
  "language_info": {
   "codemirror_mode": {
    "name": "ipython",
    "version": 3
   },
   "file_extension": ".py",
   "mimetype": "text/x-python",
   "name": "python",
   "nbconvert_exporter": "python",
   "pygments_lexer": "ipython3",
   "version": "3.11.4"
  }
 },
 "nbformat": 4,
 "nbformat_minor": 5
}
