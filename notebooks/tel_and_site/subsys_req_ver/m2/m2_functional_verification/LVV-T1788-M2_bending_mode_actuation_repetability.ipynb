{
 "cells": [
  {
   "cell_type": "markdown",
   "id": "cff92e66-8d7e-46a0-92a5-bede9f097f62",
   "metadata": {},
   "source": [
    "# M2 Bending Mode Test\n",
    "\n",
    "This Jupyter notebook is to run the bending mode test of M2.\n",
    "Each axial actuator will be issued with an additional force according to specific bending mode (there are 69 in total).\n",
    "The target is to understand the mirror supporting system can hold the specific shape based on bending mode or not.\n",
    "\n",
    "IMPORTANT NOTE: the bending mode dataset starts from index 0."
   ]
  },
  {
   "cell_type": "markdown",
   "id": "630e8dca-6fb4-4e9e-9ecf-494928cefbb2",
   "metadata": {},
   "source": [
    "## Import Modules"
   ]
  },
  {
   "cell_type": "code",
   "execution_count": null,
   "id": "6945ae01-c911-44cb-98bf-0399914c4da0",
   "metadata": {
    "tags": []
   },
   "outputs": [],
   "source": [
    "import asyncio\n",
    "import yaml\n",
    "import numpy as np\n",
    "from datetime import datetime\n",
    "from lsst.ts import salobj\n",
    "from lsst.ts.m2com import NUM_ACTUATOR, NUM_TANGENT_LINK\n",
    "from lsst.ts.ofc.utils import get_config_dir as get_config_dir_ofc"
   ]
  },
  {
   "cell_type": "markdown",
   "id": "ac412f2b-b4fa-418f-aba6-2e667819a78c",
   "metadata": {},
   "source": [
    "## Declaration of User-defined Functions"
   ]
  },
  {
   "cell_type": "code",
   "execution_count": null,
   "id": "fb7190c4-6405-4a17-99ed-4046cbe6191c",
   "metadata": {
    "tags": []
   },
   "outputs": [],
   "source": [
    "def get_bending_mode():\n",
    "    \"\"\"Get the bending mode.\n",
    "\n",
    "    Returns\n",
    "    -------\n",
    "    bending_mode : `numpy.ndarray`\n",
    "        Bending mode.\n",
    "    \"\"\"\n",
    "    bending_mode_file = get_config_dir_ofc() / \"M2\" / \"M2_1um_72_force.yaml\"\n",
    "    with open(bending_mode_file, \"r\") as yaml_file:\n",
    "        bending_mode = np.array(yaml.safe_load(yaml_file))\n",
    "\n",
    "    \n",
    "    return bending_mode"
   ]
  },
  {
   "cell_type": "code",
   "execution_count": null,
   "id": "9f36eb15-92cf-4e14-bef2-72954d46cfe8",
   "metadata": {
    "tags": []
   },
   "outputs": [],
   "source": [
    "def get_bending_mode_forces(bending_mode, idx_bending_mode, amplitude):\n",
    "    \"\"\"Plot the forces of bending mode.\n",
    "    \n",
    "    Parameters\n",
    "    ----------\n",
    "    bending_mode : `numpy.ndarray`\n",
    "        Bending mode data.\n",
    "    idx_bending_mode : `int`\n",
    "        Index of bending mode (1-20).\n",
    "    amplitude : `float`\n",
    "        Amplitude of bending mode in um.\n",
    "        \n",
    "    Returns\n",
    "    -------\n",
    "    `numpy.ndarray`\n",
    "        Actuator forces in Newton.\n",
    "    \"\"\"\n",
    "\n",
    "    # Column 0-2 are the actuator ID, x and y position of actuator\n",
    "    return amplitude * bending_mode[:, 2+idx_bending_mode]"
   ]
  },
  {
   "cell_type": "code",
   "execution_count": null,
   "id": "c52a3f6a-1c35-4a0f-8753-65e929284b79",
   "metadata": {
    "tags": []
   },
   "outputs": [],
   "source": [
    "async def apply_force_cycle_axial(csc, forces, time_forces=5, time_reset=5):\n",
    "    \"\"\"Apply the force cycle to axial actuators. The cycle will be positive force, clear,\n",
    "    negative force, clear.\n",
    "\n",
    "    Parameters\n",
    "    ----------\n",
    "    csc : `lsst.ts.salobj.remote.Remote`\n",
    "        Remote object of the M2 CSC.\n",
    "    forces : `numpy.ndarray`\n",
    "        Axial forces to apply (Newton).\n",
    "    time_forces : `float`, optional\n",
    "        Time to apply the forces in second. (the default is 5.0) \n",
    "    time_reset : `float`, optional\n",
    "        Time to reset the forces in second. (the default is 5.0)\n",
    "    \"\"\"\n",
    "    \n",
    "    # Do the positive direction first\n",
    "    print(f\"Apply the force: {forces} N.\")\n",
    "    await csc.cmd_applyForces.set_start(axial=forces.tolist())\n",
    "    await asyncio.sleep(time_forces)\n",
    "\n",
    "    # Put back to origin\n",
    "    print(\"Reset the force.\")\n",
    "    await csc.cmd_resetForceOffsets.set_start()\n",
    "    await asyncio.sleep(time_reset)\n",
    "\n",
    "    # Do the Negative direction\n",
    "    forces_negative = -forces\n",
    "\n",
    "    print(f\"Apply the force: {forces_negative} N.\")\n",
    "    await csc.cmd_applyForces.set_start(axial=forces_negative.tolist())\n",
    "    await asyncio.sleep(time_forces)\n",
    "\n",
    "    # Put back to origin\n",
    "    print(\"Reset the force.\")\n",
    "    await csc.cmd_resetForceOffsets.set_start()\n",
    "    await asyncio.sleep(time_reset)"
   ]
  },
  {
   "cell_type": "markdown",
   "id": "50a825e1-91b3-4dd4-ad90-e27154001a50",
   "metadata": {
    "execution": {
     "iopub.execute_input": "2023-02-15T12:53:11.930901Z",
     "iopub.status.busy": "2023-02-15T12:53:11.930612Z",
     "iopub.status.idle": "2023-02-15T12:53:11.933205Z",
     "shell.execute_reply": "2023-02-15T12:53:11.932768Z",
     "shell.execute_reply.started": "2023-02-15T12:53:11.930883Z"
    }
   },
   "source": [
    "## Prepare the M2 CSC and put to Enabled state"
   ]
  },
  {
   "cell_type": "code",
   "execution_count": null,
   "id": "6a4b25c7-5665-4fd7-b362-2fadb93218d8",
   "metadata": {
    "tags": []
   },
   "outputs": [],
   "source": [
    "domain = salobj.Domain()\n",
    "m2 = salobj.Remote(domain, \"MTM2\")\n",
    "await m2.start_task\n",
    "await m2.cmd_setLogLevel.set_start(level=10)"
   ]
  },
  {
   "cell_type": "code",
   "execution_count": 1,
   "id": "9fa72572-caf0-4e0e-a378-4909bd0b66c6",
   "metadata": {
    "execution": {
     "iopub.execute_input": "2023-07-06T03:24:44.626928Z",
     "iopub.status.busy": "2023-07-06T03:24:44.626588Z",
     "iopub.status.idle": "2023-07-06T03:24:44.824289Z",
     "shell.execute_reply": "2023-07-06T03:24:44.823609Z",
     "shell.execute_reply.started": "2023-07-06T03:24:44.626908Z"
    },
    "tags": []
   },
   "outputs": [
    {
     "ename": "NameError",
     "evalue": "name 'm2' is not defined",
     "output_type": "error",
     "traceback": [
      "\u001b[0;31m---------------------------------------------------------------------------\u001b[0m",
      "\u001b[0;31mNameError\u001b[0m                                 Traceback (most recent call last)",
      "Input \u001b[0;32mIn [1]\u001b[0m, in \u001b[0;36m<cell line: 3>\u001b[0;34m()\u001b[0m\n\u001b[1;32m      1\u001b[0m \u001b[38;5;66;03m# get status\u001b[39;00m\n\u001b[0;32m----> 3\u001b[0m state \u001b[38;5;241m=\u001b[39m \u001b[43mm2\u001b[49m\u001b[38;5;241m.\u001b[39mevt_summaryState\u001b[38;5;241m.\u001b[39mget()\n\u001b[1;32m      4\u001b[0m \u001b[38;5;28mprint\u001b[39m(state)\n",
      "\u001b[0;31mNameError\u001b[0m: name 'm2' is not defined"
     ]
    }
   ],
   "source": [
    "# get status\n",
    "\n",
    "state = m2.evt_summaryState.get()\n",
    "print(state)"
   ]
  },
  {
   "cell_type": "code",
   "execution_count": null,
   "id": "f82c6a69-800d-4b70-8ad4-1e55abb2089f",
   "metadata": {
    "tags": []
   },
   "outputs": [],
   "source": [
    "# Standby  -->  Disable\n",
    "await m2.cmd_start.set_start(timeout=60)"
   ]
  },
  {
   "cell_type": "code",
   "execution_count": null,
   "id": "680b4ad4-8b6f-4fbc-b476-3e916a5c2b12",
   "metadata": {
    "tags": []
   },
   "outputs": [],
   "source": [
    "# Disable  -->  Enabled\n",
    "await m2.cmd_enable.set_start(timeout=200)"
   ]
  },
  {
   "cell_type": "code",
   "execution_count": null,
   "id": "6ea0f917-f965-4f25-8caa-ec9d266d5bcd",
   "metadata": {
    "tags": []
   },
   "outputs": [],
   "source": [
    "# Enabled  -->  Disable\n",
    "await m2.cmd_disable.set_start(timeout=30)"
   ]
  },
  {
   "cell_type": "code",
   "execution_count": null,
   "id": "5ee736cd-783a-41b8-9b35-c08385d4c262",
   "metadata": {},
   "outputs": [],
   "source": [
    "#Disable  -->  Standby\n",
    "await m2.cmd_standby.set_start(timeout=30)"
   ]
  },
  {
   "cell_type": "code",
   "execution_count": null,
   "id": "6ef537a3-e7d7-4938-82c7-e8d1c37a1c0b",
   "metadata": {},
   "outputs": [],
   "source": [
    "#Fault --> Standby\n",
    "await m2.cmd_standby.set_start(timeout=30)"
   ]
  },
  {
   "cell_type": "markdown",
   "id": "9ed6b490-16d1-43cc-99e7-69c5bc5d4d85",
   "metadata": {
    "tags": []
   },
   "source": [
    "## Apply one Bending Modes to fine tune the amplitude/scaling factor\n",
    "\n",
    "The fine tuning of the bending mode scaling factor is done for groups of 10 bending modes at the time. This step can be skipped if the scaling factors are already defined."
   ]
  },
  {
   "cell_type": "code",
   "execution_count": null,
   "id": "39977b6f-0cac-4d07-8de1-71300fe8d135",
   "metadata": {
    "tags": []
   },
   "outputs": [],
   "source": [
    "bending_mode = get_bending_mode()"
   ]
  },
  {
   "cell_type": "code",
   "execution_count": null,
   "id": "591d6163-47e6-4ae4-8817-b765587f0db6",
   "metadata": {
    "tags": []
   },
   "outputs": [],
   "source": [
    "# bending modes vector indexes\n",
    "decina = 0 #Select the tens-order of the bending mode, from 0 to 6  \n",
    "idx = 0 #Select the bending mode inside the tens-order, from 0 to 9\n",
    "\n",
    "# genereate a vector of 10 elements to be populated with the ascending bending mode order \n",
    "idx_bending_mode = [0] * 10\n",
    "for idx in range(10):\n",
    "    idx_bending_mode[idx] = idx + decina*10\n",
    "    \n",
    "print(idx_bending_mode)\n",
    "# bending mode scaling factors, to be fine tuned, applied force shall be around 10 N to get 500 nm RMS surface deformation\n",
    "amplitude = np.array([1, 0.1, 0.1, 0.05, 0.025, 0.01, 0.01])\n"
   ]
  },
  {
   "cell_type": "code",
   "execution_count": null,
   "id": "980e168a-a70c-4b73-ad24-85c5d92050b4",
   "metadata": {
    "tags": []
   },
   "outputs": [],
   "source": [
    "# bending mode number from 0 to 9\n",
    "\n",
    "print(f\"Bending mode is {idx_bending_mode[idx]} and amplitude is {amplitude[decina]}\")\n",
    "forces = get_bending_mode_forces(bending_mode, idx_bending_mode[idx]+1, amplitude[0])\n",
    "\n",
    "# apply single bending mode\n",
    "await apply_force_cycle_axial(m2, forces, time_forces=5, time_reset=5)"
   ]
  },
  {
   "cell_type": "markdown",
   "id": "6344b357-b846-475b-b8e6-487b9676027a",
   "metadata": {},
   "source": [
    "## Looping over multiple bending modes \n",
    "Loop over multiple bending modes with positive and negative signs at groups of 10 bending modes. "
   ]
  },
  {
   "cell_type": "code",
   "execution_count": null,
   "id": "114ab86c-670a-43c7-a0ae-9fa799a31a3c",
   "metadata": {
    "tags": []
   },
   "outputs": [],
   "source": [
    "bending_mode = get_bending_mode()"
   ]
  },
  {
   "cell_type": "code",
   "execution_count": null,
   "id": "2322d410-b397-466b-a5a4-b06d6a7d89dd",
   "metadata": {
    "tags": []
   },
   "outputs": [],
   "source": [
    "# array definition\n",
    "\n",
    "# bending modes scaling factors\n",
    "amplitude = np.array([1, 0.1, 0.1, 0.05, 0.025, 0.01, 0.01])"
   ]
  },
  {
   "cell_type": "code",
   "execution_count": null,
   "id": "9a23c730-90ba-42d2-a70f-4394578943b0",
   "metadata": {
    "tags": []
   },
   "outputs": [],
   "source": [
    "time_start = datetime.now()\n",
    "print(f\"UTC time to is {time_start} now.\")\n",
    "\n",
    "\n",
    "# bending modes from 1 to 10\n",
    "\n",
    "for idx in range(0,10):\n",
    "    print(f\"Status of advancement: Bending mode {idx+1}, mode amplitude {amplitude[0]}\")\n",
    "    forces = get_bending_mode_forces(bending_mode, idx+1, amplitude[0])\n",
    "    # apply single +/- bending mode \n",
    "    await apply_force_cycle_axial(m2, forces, time_forces=5, time_reset=5)\n",
    "        \n",
    "time_end = datetime.now()\n",
    "print(f\"UTC time to is {time_end} now.\")"
   ]
  },
  {
   "cell_type": "code",
   "execution_count": null,
   "id": "a93acb66-0baa-465c-a294-e66a2c780927",
   "metadata": {
    "tags": []
   },
   "outputs": [],
   "source": [
    "time_start = datetime.now()\n",
    "print(f\"UTC time to is {time_start} now.\")\n",
    "\n",
    "# bending modes from 11 to 20\n",
    "\n",
    "for idx in range(10,20):\n",
    "        print(f\"Status of advancement: Bending mode {idx+1}, mode amplitude {amplitude[1]}\")\n",
    "        forces = get_bending_mode_forces(bending_mode, idx+1, amplitude[1])\n",
    "        # apply single +/- bending mode \n",
    "        await apply_force_cycle_axial(m2, forces, time_forces=5, time_reset=5)\n",
    "        \n",
    "time_end = datetime.now()\n",
    "print(f\"UTC time to is {time_end} now.\")"
   ]
  },
  {
   "cell_type": "code",
   "execution_count": null,
   "id": "40dfa9a3-99e1-4342-abaf-e803a33c19cd",
   "metadata": {
    "tags": []
   },
   "outputs": [],
   "source": [
    "time_start = datetime.now()\n",
    "print(f\"UTC time to is {time_start} now.\")\n",
    "\n",
    "# bending modes from 21 to 30\n",
    "\n",
    "for idx in range(20,30):\n",
    "        print(f\"Status of advancement: Bending mode {idx+1}, mode amplitude {amplitude[2]}\")\n",
    "        forces = get_bending_mode_forces(bending_mode, idx+1, amplitude[2])\n",
    "        # apply single +/- bending mode \n",
    "        await apply_force_cycle_axial(m2, forces, time_forces=5, time_reset=5)\n",
    "        \n",
    "time_end = datetime.now()\n",
    "print(f\"UTC time to is {time_end} now.\")"
   ]
  },
  {
   "cell_type": "code",
   "execution_count": null,
   "id": "c62dbf0a-3287-4fd2-b53e-e645faa40396",
   "metadata": {
    "tags": []
   },
   "outputs": [],
   "source": [
    "time_start = datetime.now()\n",
    "print(f\"UTC time to is {time_start} now.\")\n",
    "\n",
    "# bending modes from 31 to 40\n",
    "\n",
    "for idx in range(30,40):\n",
    "        print(f\"Status of advancement: Bending mode {idx+1}, mode amplitude {amplitude[3]}\")\n",
    "        forces = get_bending_mode_forces(bending_mode, idx+1, amplitude[3])\n",
    "        # apply single +/- bending mode \n",
    "        await apply_force_cycle_axial(m2, forces, time_forces=5, time_reset=5)\n",
    "        \n",
    "time_end = datetime.now()\n",
    "print(f\"UTC time to is {time_end} now.\")"
   ]
  },
  {
   "cell_type": "code",
   "execution_count": null,
   "id": "36982f58-a827-4044-bd44-a1184b9ec7c5",
   "metadata": {
    "tags": []
   },
   "outputs": [],
   "source": [
    "time_start = datetime.now()\n",
    "print(f\"UTC time to is {time_start} now.\")\n",
    "\n",
    "# bending modes from 41 to 50\n",
    "\n",
    "for idx in range(40,50):\n",
    "        print(f\"Status of advancement: Bending mode {idx+1}, mode amplitude {amplitude[4]}\")\n",
    "        forces = get_bending_mode_forces(bending_mode, idx+1, amplitude[4])\n",
    "        # apply single +/- bending mode \n",
    "        await apply_force_cycle_axial(m2, forces, time_forces=5, time_reset=5)\n",
    "        \n",
    "time_end = datetime.now()\n",
    "print(f\"UTC time to is {time_end} now.\")"
   ]
  },
  {
   "cell_type": "code",
   "execution_count": null,
   "id": "b6ee1c96-c77d-40ab-9fe4-e35818784cc7",
   "metadata": {
    "tags": []
   },
   "outputs": [],
   "source": [
    "time_start = datetime.now()\n",
    "print(f\"UTC time to is {time_start} now.\")\n",
    "\n",
    "# bending modes from 51 to 60\n",
    "\n",
    "for idx in range(50,60):\n",
    "        print(f\"Status of advancement: Bending mode {idx+1}, mode amplitude {amplitude[5]}\")\n",
    "        forces = get_bending_mode_forces(bending_mode, idx+1, amplitude[5])\n",
    "        # apply single +/- bending mode \n",
    "        await apply_force_cycle_axial(m2, forces, time_forces=5, time_reset=5)\n",
    "        \n",
    "time_end = datetime.now()\n",
    "print(f\"UTC time to is {time_end} now.\")"
   ]
  },
  {
   "cell_type": "code",
   "execution_count": null,
   "id": "d8df98bf-3cfe-435a-b391-21829af97f4e",
   "metadata": {
    "tags": []
   },
   "outputs": [],
   "source": [
    "time_start = datetime.now()\n",
    "print(f\"UTC time to is {time_start} now.\")\n",
    "\n",
    "# bending modes from 61 to 69\n",
    "\n",
    "for idx in range(60,68):\n",
    "        print(f\"Status of advancement: Bending mode {idx+1}, mode amplitude {amplitude[6]}\")\n",
    "        forces = get_bending_mode_forces(bending_mode, idx+1, amplitude[6])\n",
    "        # apply single +/- bending mode \n",
    "        await apply_force_cycle_axial(m2, forces, time_forces=5, time_reset=5)\n",
    "        \n",
    "time_end = datetime.now()\n",
    "print(f\"UTC time to is {time_end} now.\")"
   ]
  },
  {
   "cell_type": "markdown",
   "id": "8d92fd97-6e4a-444e-b8fd-541c82cc52e8",
   "metadata": {},
   "source": [
    "## Bending modes repeatability\n",
    "Apply for 3 times the same bending mode with positive and negative sign"
   ]
  },
  {
   "cell_type": "code",
   "execution_count": null,
   "id": "53fa7282-da62-45ae-bc53-bd311a1917fa",
   "metadata": {
    "tags": []
   },
   "outputs": [],
   "source": [
    "time_start = datetime.now()\n",
    "print(f\"UTC time to is {time_start} now.\")\n",
    "\n",
    "# bending mode 15 repeatability x3 times\n",
    "\n",
    "for repetition in range(0,3):\n",
    "        print(f\"Status of advancement: Bending mode {15}, mode amplitude {amplitude[1]}\")\n",
    "        forces = get_bending_mode_forces(bending_mode, 15, amplitude[1])\n",
    "        # apply single +/- bending mode \n",
    "        await apply_force_cycle_axial(m2, forces, time_forces=5, time_reset=5)\n",
    "        \n",
    "time_end = datetime.now()\n",
    "print(f\"UTC time to is {time_end} now.\")"
   ]
  },
  {
   "cell_type": "code",
   "execution_count": null,
   "id": "1e2cbdc9-4734-462e-96d6-04dc30d4f48e",
   "metadata": {},
   "outputs": [],
   "source": []
  }
 ],
 "metadata": {
  "kernelspec": {
   "display_name": "LSST",
   "language": "python",
   "name": "lsst"
  },
  "language_info": {
   "codemirror_mode": {
    "name": "ipython",
    "version": 3
   },
   "file_extension": ".py",
   "mimetype": "text/x-python",
   "name": "python",
   "nbconvert_exporter": "python",
   "pygments_lexer": "ipython3",
   "version": "3.10.10"
  }
 },
 "nbformat": 4,
 "nbformat_minor": 5
}
