{
 "cells": [
  {
   "cell_type": "markdown",
   "id": "d6ff33ef-591f-4da7-b957-1ead52e9ff6f",
   "metadata": {},
   "source": [
    "# M2 Force balance system test through a bump sequence - axial actuators\n",
    "\n",
    "This Jupyter notebook is to run the bump test of M2 to verify that the M2 force balance system works as expected in closed-loop.\n",
    "Three axial actuators are issued with a fixed force of 100 N with pull/push (+/-) movement one by one."
   ]
  },
  {
   "cell_type": "markdown",
   "id": "96c70ef4-1d6c-480d-bd6d-f96a977c2f2a",
   "metadata": {},
   "source": [
    "## Import Modules"
   ]
  },
  {
   "cell_type": "code",
   "execution_count": 1,
   "id": "e06db634-83dd-4a0d-ba1b-d6a4eaa3faa6",
   "metadata": {
    "execution": {
     "iopub.execute_input": "2023-07-06T02:25:59.207285Z",
     "iopub.status.busy": "2023-07-06T02:25:59.206918Z",
     "iopub.status.idle": "2023-07-06T02:25:59.846944Z",
     "shell.execute_reply": "2023-07-06T02:25:59.846291Z",
     "shell.execute_reply.started": "2023-07-06T02:25:59.207266Z"
    },
    "tags": []
   },
   "outputs": [
    {
     "data": {
      "text/html": [
       "<pre style=\"margin: 0.1em;\n",
       "padding-left: 0.25em;\n",
       "border-left-style: solid;\n",
       "font-family: var(--jp-code-font-family);\n",
       "font-size: var(--jp-code-font-size);\n",
       "line-height: var(--jp-code-line-height);\n",
       "\"><span style=\"color: var(--jp-warn-color2)\">lsst.ts.utils.tai</span> <span style=\"color: var(--jp-info-color0)\">INFO</span>: Update leap second table</pre>"
      ],
      "text/plain": [
       "<IPython.core.display.HTML object>"
      ]
     },
     "metadata": {},
     "output_type": "display_data"
    },
    {
     "data": {
      "text/html": [
       "<pre style=\"margin: 0.1em;\n",
       "padding-left: 0.25em;\n",
       "border-left-style: solid;\n",
       "font-family: var(--jp-code-font-family);\n",
       "font-size: var(--jp-code-font-size);\n",
       "line-height: var(--jp-code-line-height);\n",
       "\"><span style=\"color: var(--jp-warn-color2)\">lsst.ts.utils.tai</span> <span style=\"color: var(--jp-info-color0)\">INFO</span>: current_tai uses the system TAI clock</pre>"
      ],
      "text/plain": [
       "<IPython.core.display.HTML object>"
      ]
     },
     "metadata": {},
     "output_type": "display_data"
    }
   ],
   "source": [
    "import asyncio\n",
    "from datetime import datetime\n",
    "from lsst.ts import salobj\n",
    "from lsst.ts.m2com import NUM_ACTUATOR, NUM_TANGENT_LINK"
   ]
  },
  {
   "cell_type": "markdown",
   "id": "ec65b561-487c-43c6-942d-f9507179de71",
   "metadata": {},
   "source": [
    "## Declaration of User-defined Functions"
   ]
  },
  {
   "cell_type": "code",
   "execution_count": 2,
   "id": "29fbdc49-f583-4e35-987f-384c816d149d",
   "metadata": {
    "execution": {
     "iopub.execute_input": "2023-07-06T02:25:59.848653Z",
     "iopub.status.busy": "2023-07-06T02:25:59.848141Z",
     "iopub.status.idle": "2023-07-06T02:25:59.852611Z",
     "shell.execute_reply": "2023-07-06T02:25:59.852123Z",
     "shell.execute_reply.started": "2023-07-06T02:25:59.848635Z"
    },
    "tags": []
   },
   "outputs": [],
   "source": [
    "async def run_bump_test(csc, force, sleep_time=5.0):\n",
    "    \"\"\"Run the bump test.\n",
    "\n",
    "    Parameters\n",
    "    ----------\n",
    "    csc : lsst.ts.salobj.remote.Remote\n",
    "        Remote object of the M2 CSC.\n",
    "    force : float\n",
    "        Force to apply (Newton).\n",
    "    sleep_time : float, optional\n",
    "        Sleep time. (the default is 5.0)\n",
    "    \"\"\"\n",
    "\n",
    "    # Print the information of inclinometer\n",
    "    zenithAngle = csc.tel_zenithAngle.get()\n",
    "    print(f\"Measured zenith angle: {zenithAngle.measured:0.2f} degree.\")\n",
    "    print(f\"Raw inclinometer angle: {zenithAngle.inclinometerRaw:0.2f} degree.\")\n",
    "    print(f\"Processed inclinometer angle: {zenithAngle.inclinometerProcessed:0.2f} degree.\")\n",
    "\n",
    "    # select 3 actuators ring C\n",
    "    for idx in range(33,54,10):\n",
    "        print(f\"Do the bump test of actuator: {idx}.\")\n",
    "        await bump_axial_actuator(csc, idx, force, sleep_time=sleep_time)"
   ]
  },
  {
   "cell_type": "code",
   "execution_count": 3,
   "id": "25cdec12-3ebf-40cf-9682-cd881be9cd52",
   "metadata": {
    "execution": {
     "iopub.execute_input": "2023-07-06T02:26:00.573044Z",
     "iopub.status.busy": "2023-07-06T02:26:00.572669Z",
     "iopub.status.idle": "2023-07-06T02:26:00.577599Z",
     "shell.execute_reply": "2023-07-06T02:26:00.577113Z",
     "shell.execute_reply.started": "2023-07-06T02:26:00.573027Z"
    },
    "tags": []
   },
   "outputs": [],
   "source": [
    "async def bump_axial_actuator(csc, idx_actuator, force, sleep_time=5):\n",
    "    \"\"\"Bump the axial actuator.\n",
    "    \n",
    "    Parameters\n",
    "    ----------\n",
    "    csc : lsst.ts.salobj.remote.Remote\n",
    "        Remote object of the M2 CSC.\n",
    "    idx_actuator : int\n",
    "        Index of actuator.\n",
    "    force : float\n",
    "        Force to apply (Newton).\n",
    "    sleep_time : float, optional\n",
    "        Sleep time. (the default is 5.0)\n",
    "    \"\"\"\n",
    "\n",
    "    # Do the positive direction first\n",
    "    num_axial_actuator = NUM_ACTUATOR - NUM_TANGENT_LINK\n",
    "    forces = [0] * num_axial_actuator\n",
    "    forces[idx_actuator] = abs(force)\n",
    "\n",
    "    print(f\"Apply the force: {abs(force)} N.\")\n",
    "    await csc.cmd_applyForces.set_start(axial=forces)\n",
    "    await asyncio.sleep(sleep_time)\n",
    "\n",
    "    # Put back to origin\n",
    "    print(\"Reset the force.\")\n",
    "    await csc.cmd_resetForceOffsets.set_start()\n",
    "    await asyncio.sleep(sleep_time)\n",
    "\n",
    "    # Do the Negative direction\n",
    "    forces[idx_actuator] = -abs(force)\n",
    "\n",
    "    print(f\"Apply the force: {-abs(force)} N.\")\n",
    "    await csc.cmd_applyForces.set_start(axial=forces)\n",
    "    await asyncio.sleep(sleep_time)\n",
    "\n",
    "    # Put back to origin\n",
    "    print(\"Reset the force.\")\n",
    "    await csc.cmd_resetForceOffsets.set_start()\n",
    "    await asyncio.sleep(sleep_time)"
   ]
  },
  {
   "cell_type": "markdown",
   "id": "79c53e71-d4dc-4e40-b856-b0af2a045b4d",
   "metadata": {},
   "source": [
    "## Prepare the M2 CSC and put to Enabled state"
   ]
  },
  {
   "cell_type": "code",
   "execution_count": 4,
   "id": "146c08d7-48a0-4d41-b512-419bb6bb87d0",
   "metadata": {
    "execution": {
     "iopub.execute_input": "2023-07-06T02:26:02.199337Z",
     "iopub.status.busy": "2023-07-06T02:26:02.198978Z",
     "iopub.status.idle": "2023-07-06T02:26:02.404293Z",
     "shell.execute_reply": "2023-07-06T02:26:02.403835Z",
     "shell.execute_reply.started": "2023-07-06T02:26:02.199320Z"
    },
    "tags": []
   },
   "outputs": [
    {
     "data": {
      "text/html": [
       "<pre style=\"margin: 0.1em;\n",
       "padding-left: 0.25em;\n",
       "border-left-style: solid;\n",
       "font-family: var(--jp-code-font-family);\n",
       "font-size: var(--jp-code-font-size);\n",
       "line-height: var(--jp-code-line-height);\n",
       "\"><span style=\"color: var(--jp-warn-color2)\">MTM2</span> <span style=\"color: var(--jp-info-color0)\">INFO</span>: Disabling authlist-based command authorization</pre>"
      ],
      "text/plain": [
       "<IPython.core.display.HTML object>"
      ]
     },
     "metadata": {},
     "output_type": "display_data"
    },
    {
     "data": {
      "text/html": [
       "<pre style=\"margin: 0.1em;\n",
       "padding-left: 0.25em;\n",
       "border-left-style: solid;\n",
       "font-family: var(--jp-code-font-family);\n",
       "font-size: var(--jp-code-font-size);\n",
       "line-height: var(--jp-code-line-height);\n",
       "\"><span style=\"color: var(--jp-warn-color2)\">MTM2</span> <span style=\"color: var(--jp-info-color0)\">INFO</span>: Read historical data in 0.00 sec</pre>"
      ],
      "text/plain": [
       "<IPython.core.display.HTML object>"
      ]
     },
     "metadata": {},
     "output_type": "display_data"
    },
    {
     "data": {
      "text/plain": [
       "<ddsutil.MTM2_ackcmd_b60441f4 at 0x7f8836c128c0>"
      ]
     },
     "execution_count": 4,
     "metadata": {},
     "output_type": "execute_result"
    }
   ],
   "source": [
    "domain = salobj.Domain()\n",
    "m2 = salobj.Remote(domain, \"MTM2\")\n",
    "await m2.start_task\n",
    "await m2.cmd_setLogLevel.set_start(level=10)"
   ]
  },
  {
   "cell_type": "code",
   "execution_count": null,
   "id": "fffd6ad9-6f0f-40c3-b00a-3655bf5a6a1c",
   "metadata": {},
   "outputs": [],
   "source": [
    "state_m2 = m2.evt_summaryState.get()\n",
    "if state_m2.summaryState != salobj.State.ENABLED:\n",
    "    await salobj.set_summary_state(m2, salobj.State.ENABLED, timeout=10)"
   ]
  },
  {
   "cell_type": "markdown",
   "id": "5961eb58-cbbb-48b6-bdc7-e6518faebb3a",
   "metadata": {},
   "source": [
    "## Do the Bump Test"
   ]
  },
  {
   "cell_type": "code",
   "execution_count": 6,
   "id": "8a9380fb-5c00-422e-9aae-32793598caab",
   "metadata": {
    "execution": {
     "iopub.execute_input": "2023-07-06T02:32:33.649544Z",
     "iopub.status.busy": "2023-07-06T02:32:33.649252Z",
     "iopub.status.idle": "2023-07-06T02:38:39.696595Z",
     "shell.execute_reply": "2023-07-06T02:38:39.696156Z",
     "shell.execute_reply.started": "2023-07-06T02:32:33.649527Z"
    },
    "tags": []
   },
   "outputs": [
    {
     "name": "stdout",
     "output_type": "stream",
     "text": [
      "UTC time to is 2023-07-06 02:32:33.652147 now.\n",
      "Measured zenith angle: 359.95 degree.\n",
      "Raw inclinometer angle: 89.01 degree.\n",
      "Processed inclinometer angle: -269.95 degree.\n",
      "Do the bump test of actuator: 33.\n",
      "Apply the force: 100 N.\n",
      "Reset the force.\n",
      "Apply the force: -100 N.\n",
      "Reset the force.\n",
      "Do the bump test of actuator: 43.\n",
      "Apply the force: 100 N.\n",
      "Reset the force.\n",
      "Apply the force: -100 N.\n",
      "Reset the force.\n",
      "Do the bump test of actuator: 53.\n",
      "Apply the force: 100 N.\n",
      "Reset the force.\n",
      "Apply the force: -100 N.\n",
      "Reset the force.\n",
      "UTC time to is 2023-07-06 02:38:39.694661 now.\n"
     ]
    }
   ],
   "source": [
    "time_start = datetime.now()\n",
    "print(f\"UTC time to is {time_start} now.\")\n",
    "\n",
    "force = 100\n",
    "await run_bump_test(m2, force, sleep_time=30)\n",
    "\n",
    "time_end = datetime.now()\n",
    "print(f\"UTC time to is {time_end} now.\")"
   ]
  },
  {
   "cell_type": "code",
   "execution_count": null,
   "id": "6e49008b-5e09-4721-a290-59c3e1c7eb91",
   "metadata": {},
   "outputs": [],
   "source": []
  }
 ],
 "metadata": {
  "kernelspec": {
   "display_name": "LSST",
   "language": "python",
   "name": "lsst"
  },
  "language_info": {
   "codemirror_mode": {
    "name": "ipython",
    "version": 3
   },
   "file_extension": ".py",
   "mimetype": "text/x-python",
   "name": "python",
   "nbconvert_exporter": "python",
   "pygments_lexer": "ipython3",
   "version": "3.10.10"
  }
 },
 "nbformat": 4,
 "nbformat_minor": 5
}
