{
 "cells": [
  {
   "cell_type": "markdown",
   "metadata": {},
   "source": [
    "# TMA Analysis code supporting technote SITCOMTN-057\n",
    "Craig Lage - 15-Nov-23  Updated 18-Dec-23 to use TMAEvents.\n",
    "\n",
    "This notebook characterizes several things associated with the TMA: \n",
    "\n",
    "1. Slew and Settle times\n",
    "2. Mount jitter\n"
   ]
  },
  {
   "cell_type": "markdown",
   "metadata": {},
   "source": [
    "# Prepare the notebook"
   ]
  },
  {
   "cell_type": "code",
   "execution_count": 1,
   "metadata": {
    "execution": {
     "iopub.execute_input": "2023-12-20T11:52:22.719207Z",
     "iopub.status.busy": "2023-12-20T11:52:22.718929Z",
     "iopub.status.idle": "2023-12-20T11:52:22.722555Z",
     "shell.execute_reply": "2023-12-20T11:52:22.722133Z",
     "shell.execute_reply.started": "2023-12-20T11:52:22.719188Z"
    },
    "tags": []
   },
   "outputs": [],
   "source": [
    "# Directory to store the data\n",
    "from pathlib import Path\n",
    "dataDir = Path(\"./plots\")\n",
    "dataDir.mkdir(exist_ok=True, parents=True)\n",
    "\n",
    "# You can include a list of different days and blocks,\n",
    "# including more than one block on the same day, if desired\n",
    "# You can also create a loop to build this list.\n",
    "dayBlockPairs = [[20231214, 146], [20231215, 146]]\n",
    "\n",
    "# For the jitter tests, the parameters below allow you to add\n",
    "# a delay after the start of the tracking event, or before the\n",
    "# end of the tracking event\n",
    "delayAfterStart = 0.0 # This will give some time to settle before evaluating the jitter\n",
    "delayBeforeEnd = 1.0 # This is needed to prevent th start of the next slew from impacting the jitter"
   ]
  },
  {
   "cell_type": "code",
   "execution_count": 2,
   "metadata": {
    "execution": {
     "iopub.execute_input": "2023-12-20T11:52:25.282285Z",
     "iopub.status.busy": "2023-12-20T11:52:25.282071Z",
     "iopub.status.idle": "2023-12-20T11:52:32.363588Z",
     "shell.execute_reply": "2023-12-20T11:52:32.363111Z",
     "shell.execute_reply.started": "2023-12-20T11:52:25.282270Z"
    },
    "tags": []
   },
   "outputs": [],
   "source": [
    "import sys, time, os, asyncio, glob\n",
    "from datetime import datetime\n",
    "import numpy as np\n",
    "import matplotlib.pyplot as plt\n",
    "from matplotlib.ticker import FuncFormatter\n",
    "import matplotlib.dates as mdates\n",
    "from matplotlib.backends.backend_pdf import PdfPages\n",
    "import pickle as pkl\n",
    "from astropy.time import Time, TimeDelta\n",
    "from scipy.interpolate import UnivariateSpline\n",
    "from lsst_efd_client import EfdClient\n",
    "from lsst.summit.utils import getCurrentDayObs_int, dayObsIntToString\n",
    "from lsst.summit.utils.tmaUtils import TMAEventMaker\n",
    "from lsst.summit.utils.blockUtils import BlockParser\n",
    "from lsst.summit.utils.efdUtils import getEfdData"
   ]
  },
  {
   "cell_type": "code",
   "execution_count": 6,
   "metadata": {
    "execution": {
     "iopub.execute_input": "2023-12-20T11:53:40.830682Z",
     "iopub.status.busy": "2023-12-20T11:53:40.830413Z",
     "iopub.status.idle": "2023-12-20T11:53:42.033596Z",
     "shell.execute_reply": "2023-12-20T11:53:42.033101Z",
     "shell.execute_reply.started": "2023-12-20T11:53:40.830669Z"
    },
    "scrolled": true
   },
   "outputs": [],
   "source": [
    "client = EfdClient(\"idf_efd\")\n",
    "eventMaker = TMAEventMaker()"
   ]
  },
  {
   "cell_type": "markdown",
   "metadata": {},
   "source": [
    "# These functions will be part of summit_utils once DM-42039 merges.  After that, we can just import them, but for now they are here."
   ]
  },
  {
   "cell_type": "code",
   "execution_count": 19,
   "metadata": {
    "execution": {
     "iopub.execute_input": "2023-12-20T12:13:25.788519Z",
     "iopub.status.busy": "2023-12-20T12:13:25.788163Z",
     "iopub.status.idle": "2023-12-20T12:13:25.803389Z",
     "shell.execute_reply": "2023-12-20T12:13:25.802984Z",
     "shell.execute_reply.started": "2023-12-20T12:13:25.788504Z"
    }
   },
   "outputs": [],
   "source": [
    "def getAzimuthElevationDataForEvent(client, event, prePadding=0, postPadding=0):\n",
    "    \"\"\"Get the data for the az/el telemetry topics for a given TMAEvent.\n",
    "\n",
    "    Parameters\n",
    "    ----------\n",
    "    client : `lsst_efd_client.efd_helper.EfdClient`\n",
    "        The EFD client to use.\n",
    "    event : `lsst.summit.utils.tmaUtils.TMAEvent`\n",
    "        The event to get the data for.\n",
    "    prePadding : `float`, optional\n",
    "        The amount of time to pad the event with before the start time, in\n",
    "        seconds.\n",
    "    postPadding : `float`, optional\n",
    "        The amount of time to pad the event with after the end time, in\n",
    "        seconds.\n",
    "\n",
    "    Returns\n",
    "    -------\n",
    "    azimuthData : `pd.DataFrame`\n",
    "        The azimuth data for the specified event.\n",
    "    elevationData : `pd.DataFrame`\n",
    "        The elevation data for the specified event.\n",
    "    \"\"\"\n",
    "    azimuthData = getEfdData(client,\n",
    "                             'lsst.sal.MTMount.azimuth',\n",
    "                             event=event,\n",
    "                             prePadding=prePadding,\n",
    "                             postPadding=postPadding)\n",
    "    elevationData = getEfdData(client,\n",
    "                               'lsst.sal.MTMount.elevation',\n",
    "                               event=event,\n",
    "                               prePadding=prePadding,\n",
    "                               postPadding=postPadding)\n",
    "    print(event.type.name, event.seqNum, azimuthData.columns)\n",
    "    print(elevationData.columns)\n",
    "    if event.type.name == 'TRACKING':\n",
    "        # Need to pad this data for the interpolation to work right\n",
    "        pointingData = getEfdData(client,\n",
    "                                  'lsst.sal.MTPtg.currentTargetStatus',\n",
    "                                  event=event,\n",
    "                                  prePadding=1.0,\n",
    "                                  postPadding=1.0)\n",
    "\n",
    "        azTimes = azimuthData['timestamp'].values\n",
    "        elTimes = elevationData['timestamp'].values\n",
    "        ptgTimes = pointingData['timestamp'].values\n",
    "        azValues = azimuthData['actualPosition'].values\n",
    "        elValues = elevationData['actualPosition'].values\n",
    "        # Need to interpolate because demand and actual data streams\n",
    "        # have different lengths\n",
    "        azDemandInterp = np.interp(azTimes, ptgTimes, pointingData['demandAz'])\n",
    "        elDemandInterp = np.interp(elTimes, ptgTimes, pointingData['demandEl'])\n",
    "        azError = (azValues - azDemandInterp) * 3600\n",
    "        elError = (elValues - elDemandInterp) * 3600\n",
    "        # Because of small timebase errors, there can be an offset in the\n",
    "        # errors. I take this out by subtracting the median of the errors.\n",
    "        # This is a fudge, but I think better than the polynomial fit.\n",
    "        azError -= np.median(azError)\n",
    "        elError -= np.median(elError)\n",
    "        azimuthData['azError'] = azError\n",
    "        elevationData['elError'] = elError\n",
    "\n",
    "    return azimuthData, elevationData\n",
    "\n",
    "\n",
    "def plotEvent(client, event, fig=None, prePadding=0, postPadding=0, commands={},\n",
    "              azimuthData=None, elevationData=None):\n",
    "    \"\"\"Plot the TMA axis positions over the course of a given TMAEvent.\n",
    "\n",
    "    Plots the axis motion profiles for the given event, with optional padding\n",
    "    at the start and end of the event. If the data is provided via the\n",
    "    azimuthData and elevationData parameters, it will be used, otherwise it\n",
    "    will be queried from the EFD.\n",
    "\n",
    "    Optionally plots any commands issued during or around the event, if these\n",
    "    are supplied. Commands are supplied as a dictionary of the command topic\n",
    "    strings, with values as astro.time.Time objects at which the command was\n",
    "    issued.\n",
    "\n",
    "    Parameters\n",
    "    ----------\n",
    "    client : `lsst_efd_client.efd_helper.EfdClient`\n",
    "        The EFD client to use.\n",
    "    event : `lsst.summit.utils.tmaUtils.TMAEvent`\n",
    "        The event to plot.\n",
    "    fig : `matplotlib.figure.Figure`, optional\n",
    "        The figure to plot on. If not specified, a new figure will be created.\n",
    "    prePadding : `float`, optional\n",
    "        The amount of time to pad the event with before the start time, in\n",
    "        seconds.\n",
    "    postPadding : `float`, optional\n",
    "        The amount of time to pad the event with after the end time, in\n",
    "        seconds.\n",
    "    commands : `dict` of `str` : `astropy.time.Time`, optional\n",
    "        A dictionary of commands to plot on the figure. The keys are the topic\n",
    "        names, and the values are the times at which the commands were sent.\n",
    "    azimuthData : `pd.DataFrame`, optional\n",
    "        The azimuth data to plot. If not specified, it will be queried from the\n",
    "        EFD.\n",
    "    elevationData : `pd.DataFrame`, optional\n",
    "        The elevation data to plot. If not specified, it will be queried from\n",
    "        the EFD.\n",
    "\n",
    "    Returns\n",
    "    -------\n",
    "    fig : `matplotlib.figure.Figure`\n",
    "        The figure on which the plot was made.\n",
    "    \"\"\"\n",
    "    def tickFormatter(value, tick_number):\n",
    "        # Convert the value to a string without subtracting large numbers\n",
    "        # tick_number is unused.\n",
    "        return f\"{value:.2f}\"\n",
    "\n",
    "    # plot any commands we might have\n",
    "    if not isinstance(commands, dict):\n",
    "        raise TypeError('commands must be a dict of command names with values as'\n",
    "                        ' astropy.time.Time values')\n",
    "\n",
    "    if fig is None:\n",
    "        fig = plt.figure(figsize=(10, 8))\n",
    "        log = logging.getLogger(__name__)\n",
    "        log.warning(\"Making new matplotlib figure - if this is in a loop you're going to have a bad time.\"\n",
    "                    \" Pass in a figure with fig = plt.figure(figsize=(10, 8)) to avoid this warning.\")\n",
    "\n",
    "    fig.clear()\n",
    "    if event.type.name == 'TRACKING':\n",
    "        ax1, ax1p5, ax2 = fig.subplots(3,\n",
    "                                       sharex=True,\n",
    "                                       gridspec_kw={'wspace': 0,\n",
    "                                                    'hspace': 0,\n",
    "                                                    'height_ratios': [2.5, 1, 1]})\n",
    "    else:\n",
    "        ax1, ax2 = fig.subplots(2,\n",
    "                                sharex=True,\n",
    "                                gridspec_kw={'wspace': 0,\n",
    "                                             'hspace': 0,\n",
    "                                             'height_ratios': [2.5, 1]})\n",
    "\n",
    "    if azimuthData is None or elevationData is None:\n",
    "        azimuthData, elevationData = getAzimuthElevationDataForEvent(client,\n",
    "                                                                     event,\n",
    "                                                                     prePadding=prePadding,\n",
    "                                                                     postPadding=postPadding)\n",
    "\n",
    "    # Use the native color cycle for the lines. Because they're on different\n",
    "    # axes they don't cycle by themselves\n",
    "    lineColors = [p['color'] for p in plt.rcParams['axes.prop_cycle']]\n",
    "    colorCounter = 0\n",
    "\n",
    "    ax1.plot(azimuthData['actualPosition'], label='Azimuth position', c=lineColors[colorCounter])\n",
    "    colorCounter += 1\n",
    "    ax1.yaxis.set_major_formatter(FuncFormatter(tickFormatter))\n",
    "    ax1.set_ylabel('Azimuth (degrees)')\n",
    "\n",
    "    ax1_twin = ax1.twinx()\n",
    "    ax1_twin.plot(elevationData['actualPosition'], label='Elevation position', c=lineColors[colorCounter])\n",
    "    colorCounter += 1\n",
    "    ax1_twin.yaxis.set_major_formatter(FuncFormatter(tickFormatter))\n",
    "    ax1_twin.set_ylabel('Elevation (degrees)')\n",
    "    ax1.set_xticks([])  # remove x tick labels on the hidden upper x-axis\n",
    "\n",
    "    ax2_twin = ax2.twinx()\n",
    "    ax2.plot(azimuthData['actualTorque'], label='Azimuth torque', c=lineColors[colorCounter])\n",
    "    colorCounter += 1\n",
    "    ax2_twin.plot(elevationData['actualTorque'], label='Elevation torque', c=lineColors[colorCounter])\n",
    "    colorCounter += 1\n",
    "    ax2.set_ylabel('Azimuth torque (Nm)')\n",
    "    ax2_twin.set_ylabel('Elevation torque (Nm)')\n",
    "    ax2.set_xlabel('Time (UTC)')  # yes, it really is UTC, matplotlib converts this automatically!\n",
    "\n",
    "    # put the ticks at an angle, and right align with the tick marks\n",
    "    ax2.set_xticks(ax2.get_xticks())  # needed to supress a user warning\n",
    "    xlabels = ax2.get_xticks()\n",
    "    ax2.set_xticklabels(xlabels, rotation=40, ha='right')\n",
    "    ax2.xaxis.set_major_locator(mdates.AutoDateLocator())\n",
    "    ax2.xaxis.set_major_formatter(mdates.DateFormatter('%H:%M:%S'))\n",
    "\n",
    "    if event.type.name == 'TRACKING':\n",
    "        # Calculate RMS\n",
    "        azValues = azimuthData['azError'].values\n",
    "        elValues = elevationData['elError'].values\n",
    "        azRms = np.sqrt(np.mean(azValues * azValues))\n",
    "        elRms = np.sqrt(np.mean(elValues * elValues))\n",
    "\n",
    "        # Calculate Image impact RMS\n",
    "        # We are less sensitive to Az errors near the zenith\n",
    "        imageAzRms = azRms * np.cos(elValues[0] * np.pi / 180.0)\n",
    "        imageElRms = elRms\n",
    "\n",
    "        ax1p5.plot(azimuthData['azError'], label='Azimuth error', c=lineColors[colorCounter])\n",
    "        colorCounter += 1\n",
    "        ax1p5.plot(elevationData['elError'], label='Elevation error', c=lineColors[colorCounter])\n",
    "        colorCounter += 1\n",
    "        ax1p5.yaxis.set_major_formatter(FuncFormatter(tickFormatter))\n",
    "        ax1p5.set_ylabel('Tracking error (arcsec)')\n",
    "        ax1p5.set_xticks([])  # remove x tick labels on the hidden upper x-axis\n",
    "        ax1p5.set_ylim(-0.5, 0.5)\n",
    "        ax1p5.set_yticks([-0.25, 0.0, 0.25])\n",
    "        ax1p5.legend()\n",
    "        ax1p5.text(0.2, 0.9,\n",
    "                   f'Az image RMS = {imageAzRms:.3f} arcsec,   El image RMS = {imageElRms:.3f} arcsec',\n",
    "                   transform=ax1p5.transAxes)\n",
    "\n",
    "    if prePadding or postPadding:\n",
    "        # note the conversion to utc because the x-axis from the dataframe\n",
    "        # already got automagically converted when plotting before, so this is\n",
    "        # necessary for things to line up\n",
    "        ax1_twin.axvline(event.begin.utc.datetime, c='k', ls='--', alpha=0.5, label='Event begin/end')\n",
    "        ax1_twin.axvline(event.end.utc.datetime, c='k', ls='--', alpha=0.5)\n",
    "        # extend lines down across lower plot, but do not re-add label\n",
    "        ax2_twin.axvline(event.begin.utc.datetime, c='k', ls='--', alpha=0.5)\n",
    "        ax2_twin.axvline(event.end.utc.datetime, c='k', ls='--', alpha=0.5)\n",
    "\n",
    "    for command, commandTime in commands.items():\n",
    "        # if commands weren't found, the item is set to None. This is common\n",
    "        # for events so handle it gracefully and silently. The command finding\n",
    "        # code logs about lack of commands found so no need to mention here.\n",
    "        if commandTime is None:\n",
    "            continue\n",
    "        ax1_twin.axvline(commandTime.utc.datetime, c=lineColors[colorCounter],\n",
    "                         ls='--', alpha=0.75, label=f'{command}')\n",
    "        # extend lines down across lower plot, but do not re-add label\n",
    "        ax2_twin.axvline(commandTime.utc.datetime, c=lineColors[colorCounter],\n",
    "                         ls='--', alpha=0.75)\n",
    "        colorCounter += 1\n",
    "\n",
    "    # combine the legends and put inside the plot\n",
    "    handles1a, labels1a = ax1.get_legend_handles_labels()\n",
    "    handles1b, labels1b = ax1_twin.get_legend_handles_labels()\n",
    "    handles2a, labels2a = ax2.get_legend_handles_labels()\n",
    "    handles2b, labels2b = ax2_twin.get_legend_handles_labels()\n",
    "\n",
    "    handles = handles1a + handles1b + handles2a + handles2b\n",
    "    labels = labels1a + labels1b + labels2a + labels2b\n",
    "    # ax2 is \"in front\" of ax1 because it has the vlines plotted on it, and\n",
    "    # vlines are on ax2 so that they appear at the bottom of the legend, so\n",
    "    # make sure to plot the legend on ax2, otherwise the vlines will go on top\n",
    "    # of the otherwise-opaque legend.\n",
    "    ax1_twin.legend(handles, labels, facecolor='white', framealpha=1)\n",
    "\n",
    "    # Add title with the event name, type etc\n",
    "    dayObsStr = dayObsIntToString(event.dayObs)\n",
    "    title = (f\"{dayObsStr} - seqNum {event.seqNum} (version {event.version})\"  # top line, rest below\n",
    "             f\"\\nDuration = {event.duration:.2f}s\"\n",
    "             f\" Event type: {event.type.name}\"\n",
    "             f\" End reason: {event.endReason.name}\"\n",
    "             )\n",
    "    ax1_twin.set_title(title)\n",
    "    if event.type.name == 'TRACKING':\n",
    "        return fig, imageAzRms, imageElRms\n",
    "    else:\n",
    "        return fig\n",
    "\n",
    "\n"
   ]
  },
  {
   "cell_type": "markdown",
   "metadata": {},
   "source": [
    "# Cycle through the events plotting the tracking errors, and getting the data for the slew time histogram and the jitter error histograms."
   ]
  },
  {
   "cell_type": "code",
   "execution_count": 20,
   "metadata": {
    "execution": {
     "iopub.execute_input": "2023-12-20T12:13:31.029569Z",
     "iopub.status.busy": "2023-12-20T12:13:31.029272Z",
     "iopub.status.idle": "2023-12-20T12:13:40.118057Z",
     "shell.execute_reply": "2023-12-20T12:13:40.117561Z",
     "shell.execute_reply.started": "2023-12-20T12:13:31.029555Z"
    },
    "tags": []
   },
   "outputs": [
    {
     "name": "stdout",
     "output_type": "stream",
     "text": [
      "TRACKING 123 Index(['actualPosition', 'actualTorque', 'actualVelocity', 'demandPosition',\n",
      "       'demandVelocity', 'private_efdStamp', 'private_identity',\n",
      "       'private_kafkaStamp', 'private_origin', 'private_rcvStamp',\n",
      "       'private_revCode', 'private_seqNum', 'private_sndStamp', 'timestamp'],\n",
      "      dtype='object')\n",
      "Index(['actualPosition', 'actualTorque', 'actualVelocity', 'demandPosition',\n",
      "       'demandVelocity', 'private_efdStamp', 'private_identity',\n",
      "       'private_kafkaStamp', 'private_origin', 'private_rcvStamp',\n",
      "       'private_revCode', 'private_seqNum', 'private_sndStamp', 'timestamp'],\n",
      "      dtype='object')\n",
      "TRACKING 125 Index(['actualPosition', 'actualTorque', 'actualVelocity', 'demandPosition',\n",
      "       'demandVelocity', 'private_efdStamp', 'private_identity',\n",
      "       'private_kafkaStamp', 'private_origin', 'private_rcvStamp',\n",
      "       'private_revCode', 'private_seqNum', 'private_sndStamp', 'timestamp'],\n",
      "      dtype='object')\n",
      "Index(['actualPosition', 'actualTorque', 'actualVelocity', 'demandPosition',\n",
      "       'demandVelocity', 'private_efdStamp', 'private_identity',\n",
      "       'private_kafkaStamp', 'private_origin', 'private_rcvStamp',\n",
      "       'private_revCode', 'private_seqNum', 'private_sndStamp', 'timestamp'],\n",
      "      dtype='object')\n",
      "TRACKING 127 Index(['actualPosition', 'actualTorque', 'actualVelocity', 'demandPosition',\n",
      "       'demandVelocity', 'private_efdStamp', 'private_identity',\n",
      "       'private_kafkaStamp', 'private_origin', 'private_rcvStamp',\n",
      "       'private_revCode', 'private_seqNum', 'private_sndStamp', 'timestamp'],\n",
      "      dtype='object')\n",
      "Index(['actualPosition', 'actualTorque', 'actualVelocity', 'demandPosition',\n",
      "       'demandVelocity', 'private_efdStamp', 'private_identity',\n",
      "       'private_kafkaStamp', 'private_origin', 'private_rcvStamp',\n",
      "       'private_revCode', 'private_seqNum', 'private_sndStamp', 'timestamp'],\n",
      "      dtype='object')\n"
     ]
    },
    {
     "data": {
      "text/html": [
       "<pre style=\"margin: 0.1em;\n",
       "padding-left: 0.25em;\n",
       "border-left-style: solid;\n",
       "font-family: var(--jp-code-font-family);\n",
       "font-size: var(--jp-code-font-size);\n",
       "line-height: var(--jp-code-line-height);\n",
       "\"><span style=\"color: var(--jp-warn-color2)\">lsst.summit.utils.efdUtils</span> <span style=\"color: var(--jp-warn-color0)\">WARNING</span>: Topic lsst.sal.MTMount.azimuth is in the schema, but no data was returned by the query for the specified time range</pre>"
      ],
      "text/plain": [
       "<IPython.core.display.HTML object>"
      ]
     },
     "metadata": {},
     "output_type": "display_data"
    },
    {
     "data": {
      "text/html": [
       "<pre style=\"margin: 0.1em;\n",
       "padding-left: 0.25em;\n",
       "border-left-style: solid;\n",
       "font-family: var(--jp-code-font-family);\n",
       "font-size: var(--jp-code-font-size);\n",
       "line-height: var(--jp-code-line-height);\n",
       "\"><span style=\"color: var(--jp-warn-color2)\">lsst.summit.utils.efdUtils</span> <span style=\"color: var(--jp-warn-color0)\">WARNING</span>: Topic lsst.sal.MTMount.elevation is in the schema, but no data was returned by the query for the specified time range</pre>"
      ],
      "text/plain": [
       "<IPython.core.display.HTML object>"
      ]
     },
     "metadata": {},
     "output_type": "display_data"
    },
    {
     "name": "stdout",
     "output_type": "stream",
     "text": [
      "TRACKING 136 RangeIndex(start=0, stop=0, step=1)\n",
      "RangeIndex(start=0, stop=0, step=1)\n"
     ]
    },
    {
     "ename": "KeyError",
     "evalue": "'timestamp'",
     "output_type": "error",
     "traceback": [
      "\u001b[0;31m---------------------------------------------------------------------------\u001b[0m",
      "\u001b[0;31mKeyError\u001b[0m                                  Traceback (most recent call last)",
      "Cell \u001b[0;32mIn[20], line 35\u001b[0m\n\u001b[1;32m     32\u001b[0m         slewTimes\u001b[38;5;241m.\u001b[39mappend(event\u001b[38;5;241m.\u001b[39mduration)\n\u001b[1;32m     34\u001b[0m \u001b[38;5;28;01melif\u001b[39;00m event\u001b[38;5;241m.\u001b[39mtype\u001b[38;5;241m.\u001b[39mname \u001b[38;5;241m==\u001b[39m \u001b[38;5;124m'\u001b[39m\u001b[38;5;124mTRACKING\u001b[39m\u001b[38;5;124m'\u001b[39m:\n\u001b[0;32m---> 35\u001b[0m     fig, imageAzRms, imageElRms \u001b[38;5;241m=\u001b[39m \u001b[43mplotEvent\u001b[49m\u001b[43m(\u001b[49m\u001b[43mclient\u001b[49m\u001b[43m,\u001b[49m\u001b[43m \u001b[49m\u001b[43mevent\u001b[49m\u001b[43m,\u001b[49m\u001b[43m \u001b[49m\u001b[43mfig\u001b[49m\u001b[38;5;241;43m=\u001b[39;49m\u001b[43mfig\u001b[49m\u001b[43m,\u001b[49m\u001b[43m \u001b[49m\n\u001b[1;32m     36\u001b[0m \u001b[43m            \u001b[49m\u001b[43mprePadding\u001b[49m\u001b[38;5;241;43m=\u001b[39;49m\u001b[43mdelayAfterStart\u001b[49m\u001b[43m,\u001b[49m\u001b[43m \u001b[49m\u001b[43mpostPadding\u001b[49m\u001b[38;5;241;43m=\u001b[39;49m\u001b[38;5;241;43m-\u001b[39;49m\u001b[43mdelayBeforeEnd\u001b[49m\u001b[43m,\u001b[49m\u001b[43m \u001b[49m\u001b[43mcommands\u001b[49m\u001b[38;5;241;43m=\u001b[39;49m\u001b[43m{\u001b[49m\u001b[43m}\u001b[49m\u001b[43m,\u001b[49m\n\u001b[1;32m     37\u001b[0m \u001b[43m            \u001b[49m\u001b[43mazimuthData\u001b[49m\u001b[38;5;241;43m=\u001b[39;49m\u001b[38;5;28;43;01mNone\u001b[39;49;00m\u001b[43m,\u001b[49m\u001b[43m \u001b[49m\u001b[43melevationData\u001b[49m\u001b[38;5;241;43m=\u001b[39;49m\u001b[38;5;28;43;01mNone\u001b[39;49;00m\u001b[43m)\u001b[49m\n\u001b[1;32m     38\u001b[0m     azRmsVals\u001b[38;5;241m.\u001b[39mappend(imageAzRms)\n\u001b[1;32m     39\u001b[0m     elRmsVals\u001b[38;5;241m.\u001b[39mappend(imageElRms)\n",
      "Cell \u001b[0;32mIn[19], line 140\u001b[0m, in \u001b[0;36mplotEvent\u001b[0;34m(client, event, fig, prePadding, postPadding, commands, azimuthData, elevationData)\u001b[0m\n\u001b[1;32m    133\u001b[0m     ax1, ax2 \u001b[38;5;241m=\u001b[39m fig\u001b[38;5;241m.\u001b[39msubplots(\u001b[38;5;241m2\u001b[39m,\n\u001b[1;32m    134\u001b[0m                             sharex\u001b[38;5;241m=\u001b[39m\u001b[38;5;28;01mTrue\u001b[39;00m,\n\u001b[1;32m    135\u001b[0m                             gridspec_kw\u001b[38;5;241m=\u001b[39m{\u001b[38;5;124m'\u001b[39m\u001b[38;5;124mwspace\u001b[39m\u001b[38;5;124m'\u001b[39m: \u001b[38;5;241m0\u001b[39m,\n\u001b[1;32m    136\u001b[0m                                          \u001b[38;5;124m'\u001b[39m\u001b[38;5;124mhspace\u001b[39m\u001b[38;5;124m'\u001b[39m: \u001b[38;5;241m0\u001b[39m,\n\u001b[1;32m    137\u001b[0m                                          \u001b[38;5;124m'\u001b[39m\u001b[38;5;124mheight_ratios\u001b[39m\u001b[38;5;124m'\u001b[39m: [\u001b[38;5;241m2.5\u001b[39m, \u001b[38;5;241m1\u001b[39m]})\n\u001b[1;32m    139\u001b[0m \u001b[38;5;28;01mif\u001b[39;00m azimuthData \u001b[38;5;129;01mis\u001b[39;00m \u001b[38;5;28;01mNone\u001b[39;00m \u001b[38;5;129;01mor\u001b[39;00m elevationData \u001b[38;5;129;01mis\u001b[39;00m \u001b[38;5;28;01mNone\u001b[39;00m:\n\u001b[0;32m--> 140\u001b[0m     azimuthData, elevationData \u001b[38;5;241m=\u001b[39m \u001b[43mgetAzimuthElevationDataForEvent\u001b[49m\u001b[43m(\u001b[49m\u001b[43mclient\u001b[49m\u001b[43m,\u001b[49m\n\u001b[1;32m    141\u001b[0m \u001b[43m                                                                 \u001b[49m\u001b[43mevent\u001b[49m\u001b[43m,\u001b[49m\n\u001b[1;32m    142\u001b[0m \u001b[43m                                                                 \u001b[49m\u001b[43mprePadding\u001b[49m\u001b[38;5;241;43m=\u001b[39;49m\u001b[43mprePadding\u001b[49m\u001b[43m,\u001b[49m\n\u001b[1;32m    143\u001b[0m \u001b[43m                                                                 \u001b[49m\u001b[43mpostPadding\u001b[49m\u001b[38;5;241;43m=\u001b[39;49m\u001b[43mpostPadding\u001b[49m\u001b[43m)\u001b[49m\n\u001b[1;32m    145\u001b[0m \u001b[38;5;66;03m# Use the native color cycle for the lines. Because they're on different\u001b[39;00m\n\u001b[1;32m    146\u001b[0m \u001b[38;5;66;03m# axes they don't cycle by themselves\u001b[39;00m\n\u001b[1;32m    147\u001b[0m lineColors \u001b[38;5;241m=\u001b[39m [p[\u001b[38;5;124m'\u001b[39m\u001b[38;5;124mcolor\u001b[39m\u001b[38;5;124m'\u001b[39m] \u001b[38;5;28;01mfor\u001b[39;00m p \u001b[38;5;129;01min\u001b[39;00m plt\u001b[38;5;241m.\u001b[39mrcParams[\u001b[38;5;124m'\u001b[39m\u001b[38;5;124maxes.prop_cycle\u001b[39m\u001b[38;5;124m'\u001b[39m]]\n",
      "Cell \u001b[0;32mIn[19], line 44\u001b[0m, in \u001b[0;36mgetAzimuthElevationDataForEvent\u001b[0;34m(client, event, prePadding, postPadding)\u001b[0m\n\u001b[1;32m     36\u001b[0m \u001b[38;5;28;01mif\u001b[39;00m event\u001b[38;5;241m.\u001b[39mtype\u001b[38;5;241m.\u001b[39mname \u001b[38;5;241m==\u001b[39m \u001b[38;5;124m'\u001b[39m\u001b[38;5;124mTRACKING\u001b[39m\u001b[38;5;124m'\u001b[39m:\n\u001b[1;32m     37\u001b[0m     \u001b[38;5;66;03m# Need to pad this data for the interpolation to work right\u001b[39;00m\n\u001b[1;32m     38\u001b[0m     pointingData \u001b[38;5;241m=\u001b[39m getEfdData(client,\n\u001b[1;32m     39\u001b[0m                               \u001b[38;5;124m'\u001b[39m\u001b[38;5;124mlsst.sal.MTPtg.currentTargetStatus\u001b[39m\u001b[38;5;124m'\u001b[39m,\n\u001b[1;32m     40\u001b[0m                               event\u001b[38;5;241m=\u001b[39mevent,\n\u001b[1;32m     41\u001b[0m                               prePadding\u001b[38;5;241m=\u001b[39m\u001b[38;5;241m1.0\u001b[39m,\n\u001b[1;32m     42\u001b[0m                               postPadding\u001b[38;5;241m=\u001b[39m\u001b[38;5;241m1.0\u001b[39m)\n\u001b[0;32m---> 44\u001b[0m     azTimes \u001b[38;5;241m=\u001b[39m \u001b[43mazimuthData\u001b[49m\u001b[43m[\u001b[49m\u001b[38;5;124;43m'\u001b[39;49m\u001b[38;5;124;43mtimestamp\u001b[39;49m\u001b[38;5;124;43m'\u001b[39;49m\u001b[43m]\u001b[49m\u001b[38;5;241m.\u001b[39mvalues\n\u001b[1;32m     45\u001b[0m     elTimes \u001b[38;5;241m=\u001b[39m elevationData[\u001b[38;5;124m'\u001b[39m\u001b[38;5;124mtimestamp\u001b[39m\u001b[38;5;124m'\u001b[39m]\u001b[38;5;241m.\u001b[39mvalues\n\u001b[1;32m     46\u001b[0m     ptgTimes \u001b[38;5;241m=\u001b[39m pointingData[\u001b[38;5;124m'\u001b[39m\u001b[38;5;124mtimestamp\u001b[39m\u001b[38;5;124m'\u001b[39m]\u001b[38;5;241m.\u001b[39mvalues\n",
      "File \u001b[0;32m/opt/lsst/software/stack/conda/miniconda3-py38_4.9.2/envs/lsst-scipipe-7.0.1/lib/python3.11/site-packages/pandas/core/frame.py:3761\u001b[0m, in \u001b[0;36mDataFrame.__getitem__\u001b[0;34m(self, key)\u001b[0m\n\u001b[1;32m   3759\u001b[0m \u001b[38;5;28;01mif\u001b[39;00m \u001b[38;5;28mself\u001b[39m\u001b[38;5;241m.\u001b[39mcolumns\u001b[38;5;241m.\u001b[39mnlevels \u001b[38;5;241m>\u001b[39m \u001b[38;5;241m1\u001b[39m:\n\u001b[1;32m   3760\u001b[0m     \u001b[38;5;28;01mreturn\u001b[39;00m \u001b[38;5;28mself\u001b[39m\u001b[38;5;241m.\u001b[39m_getitem_multilevel(key)\n\u001b[0;32m-> 3761\u001b[0m indexer \u001b[38;5;241m=\u001b[39m \u001b[38;5;28;43mself\u001b[39;49m\u001b[38;5;241;43m.\u001b[39;49m\u001b[43mcolumns\u001b[49m\u001b[38;5;241;43m.\u001b[39;49m\u001b[43mget_loc\u001b[49m\u001b[43m(\u001b[49m\u001b[43mkey\u001b[49m\u001b[43m)\u001b[49m\n\u001b[1;32m   3762\u001b[0m \u001b[38;5;28;01mif\u001b[39;00m is_integer(indexer):\n\u001b[1;32m   3763\u001b[0m     indexer \u001b[38;5;241m=\u001b[39m [indexer]\n",
      "File \u001b[0;32m/opt/lsst/software/stack/conda/miniconda3-py38_4.9.2/envs/lsst-scipipe-7.0.1/lib/python3.11/site-packages/pandas/core/indexes/range.py:349\u001b[0m, in \u001b[0;36mRangeIndex.get_loc\u001b[0;34m(self, key)\u001b[0m\n\u001b[1;32m    347\u001b[0m         \u001b[38;5;28;01mraise\u001b[39;00m \u001b[38;5;167;01mKeyError\u001b[39;00m(key) \u001b[38;5;28;01mfrom\u001b[39;00m \u001b[38;5;21;01merr\u001b[39;00m\n\u001b[1;32m    348\u001b[0m \u001b[38;5;28;01mif\u001b[39;00m \u001b[38;5;28misinstance\u001b[39m(key, Hashable):\n\u001b[0;32m--> 349\u001b[0m     \u001b[38;5;28;01mraise\u001b[39;00m \u001b[38;5;167;01mKeyError\u001b[39;00m(key)\n\u001b[1;32m    350\u001b[0m \u001b[38;5;28mself\u001b[39m\u001b[38;5;241m.\u001b[39m_check_indexing_error(key)\n\u001b[1;32m    351\u001b[0m \u001b[38;5;28;01mraise\u001b[39;00m \u001b[38;5;167;01mKeyError\u001b[39;00m(key)\n",
      "\u001b[0;31mKeyError\u001b[0m: 'timestamp'"
     ]
    }
   ],
   "source": [
    "# These are for plotting the slew time distributions\n",
    "slewTimes = []\n",
    "slewDist = []\n",
    "\n",
    "# These are for plotting the jitter distributions\n",
    "azRmsVals = []\n",
    "elRmsVals = []\n",
    "imRmsVals = []\n",
    "\n",
    "pdf = PdfPages(str(dataDir / \"Mount_Jitter_Plots.pdf\"))\n",
    "fig = plt.figure(figsize=(10, 8))\n",
    "for i, [dayObs, blockNum] in enumerate(dayBlockPairs):\n",
    "    events = eventMaker.getEvents(dayObs)\n",
    "    blockParser = BlockParser(dayObs)  # get the info for the day\n",
    "    seqNums = blockParser.getSeqNums(blockNum)  # get the seqNums for the specified block\n",
    "\n",
    "    for seqNum in seqNums[120:125]:\n",
    "            #try:\n",
    "            event = events[seqNum]\n",
    "            if event.type.name == 'SLEWING':\n",
    "                continue\n",
    "                azimuthData, elevationData = getAzimuthElevationDataForEvent(\n",
    "                    client, event, prePadding=0, postPadding=0)\n",
    "                azValues = azimuthData['actualPosition'].values\n",
    "                elValues = elevationData['actualPosition'].values\n",
    "                azShift = abs(azValues[0] - azValues[-1])\n",
    "                elShift = abs(elValues[0] - elValues[-1])\n",
    "                azShiftMod = azShift * np.cos(elValues[0]*np.pi/180.0)\n",
    "                shift = np.sqrt(elShift*elShift + azShiftMod*azShiftMod)\n",
    "                if shift > 0.2 and shift < 10.0:\n",
    "                    slewDist.append(shift)\n",
    "                    slewTimes.append(event.duration)\n",
    "\n",
    "            elif event.type.name == 'TRACKING':\n",
    "                fig, imageAzRms, imageElRms = plotEvent(client, event, fig=fig, \n",
    "                        prePadding=delayAfterStart, postPadding=-delayBeforeEnd, commands={},\n",
    "                        azimuthData=None, elevationData=None)\n",
    "                azRmsVals.append(imageAzRms)\n",
    "                elRmsVals.append(imageElRms)\n",
    "                imRmsVals.append(np.sqrt(imageAzRms**2 + imageElRms**2))\n",
    "                pdf.savefig(fig)  # saves the current figure into a pdf page\n",
    "                plt.clf()\n",
    "            else:\n",
    "                continue\n",
    "            #except:\n",
    "            #continue\n",
    "pdf.close()"
   ]
  },
  {
   "cell_type": "code",
   "execution_count": null,
   "metadata": {},
   "outputs": [],
   "source": [
    "%matplotlib inline\n",
    "plt.subplots_adjust(wspace=0.5)\n",
    "plt.subplot(1,2,1)\n",
    "plt.hist(slewTimes, bins=50, range=(0,50))\n",
    "plt.xlabel(\"Slew and settle time (seconds)\")\n",
    "plt.xlim(0.0, 10.0)\n",
    "plt.subplot(1,2,2)\n",
    "plt.scatter(slewDist, slewTimes)\n",
    "plt.ylabel(\"Slew and settle time(sec)\")\n",
    "plt.xlabel(\"Slew distance (degrees)\")\n",
    "plt.plot([3.5,3.5],[0,10], ls='--', color='black')\n",
    "plt.plot([0,10],[4.0,4.0], ls='--', color='black')\n",
    "plt.xlim(0,10)\n",
    "plt.ylim(0,10)\n",
    "plt.savefig(str(dataDir / \"Slew_Settle_Times.pdf\"))"
   ]
  },
  {
   "cell_type": "markdown",
   "metadata": {},
   "source": [
    "# This plots histograms of the tracking jitter."
   ]
  },
  {
   "cell_type": "code",
   "execution_count": null,
   "metadata": {
    "tags": []
   },
   "outputs": [],
   "source": [
    "fig = plt.figure(figsize=(16,8))\n",
    "plt.suptitle(\"MT Mount RMS Jitter - 20220126\", fontsize = 18)\n",
    "azRmsVals = mount_data['azRmsVals']\n",
    "elRmsVals = mount_data['elRmsVals']\n",
    "imRmsVals = mount_data['imRmsVals']\n",
    "azMed = np.median(azRmsVals)\n",
    "elMed = np.median(elRmsVals)\n",
    "imMed = np.median(imRmsVals)\n",
    "plt.subplots_adjust(wspace=0.2)\n",
    "plt.subplot(1,3,1)\n",
    "plt.title(f\"Azimuth RMS, N={len(azRmsVals)}\")\n",
    "plt.hist(azRmsVals, range=(0,0.2))\n",
    "plt.text(0.1,120, f\"Median={azMed:.3f}\", fontsize=12)\n",
    "plt.xlim(0,0.2)\n",
    "plt.xlabel(\"RMS Jitter (arcseconds)\")\n",
    "plt.subplot(1,3,2)\n",
    "plt.title(f\"Elevation RMS, N={len(azRmsVals)}\")\n",
    "plt.hist(elRmsVals, range=(0,0.2))\n",
    "plt.text(0.1,120, f\"Median={elMed:.3f}\", fontsize=12)\n",
    "plt.xlim(0,0.2)\n",
    "plt.xlabel(\"RMS Jitter (arcseconds)\")\n",
    "plt.subplot(1,3,3)\n",
    "plt.title(f\"Image Impact RMS, N={len(azRmsVals)}\")\n",
    "plt.hist(imRmsVals, range=(0,0.2))\n",
    "plt.text(0.1,120, f\"Median={imMed:.3f}\", fontsize=12)\n",
    "plt.xlim(0,0.2)\n",
    "plt.xlabel(\"RMS Jitter (arcseconds)\")\n",
    "plt.savefig(str(dataDir / \"Jitter_Summary_Corrected.pdf\"))"
   ]
  },
  {
   "cell_type": "markdown",
   "metadata": {},
   "source": [
    "# This is just to plot an example of the slews and tracks.  It is not needed for the analysis."
   ]
  },
  {
   "cell_type": "code",
   "execution_count": 15,
   "metadata": {
    "execution": {
     "iopub.execute_input": "2023-12-19T19:14:04.433839Z",
     "iopub.status.busy": "2023-12-19T19:14:04.433623Z",
     "iopub.status.idle": "2023-12-19T19:14:09.476155Z",
     "shell.execute_reply": "2023-12-19T19:14:09.475658Z",
     "shell.execute_reply.started": "2023-12-19T19:14:04.433823Z"
    },
    "tags": []
   },
   "outputs": [
    {
     "name": "stdout",
     "output_type": "stream",
     "text": [
      "On 20231214, there are 283 events associated with block 146\n"
     ]
    }
   ],
   "source": [
    "%matplotlib inline\n",
    "[dayObs, blockNum] = dayBlockPairs[0]\n",
    "events = eventMaker.getEvents(dayObs)\n",
    "blockParser = BlockParser(dayObs)  # get the info for the day\n",
    "seqNums = blockParser.getSeqNums(blockNum)  # get the seqNums for the specified block\n",
    "print(f\"On {dayObs}, there are {len(seqNums)} events associated with block {blockNum}\")\n",
    "\n",
    "medianSeqNum = int((seqNums[0] + seqNums[-1]) / 2)\n",
    "firstEvent = medianSeqNum - 4\n",
    "lastEvent = medianSeqNum + 4\n",
    "start = events[firstEvent].begin\n",
    "end = events[lastEvent].end\n",
    "az = await client.select_time_series('lsst.sal.MTMount.azimuth', \\\n",
    "                                        ['*'],  start, end)\n",
    "plt.subplot(1,1,1)\n",
    "plt.title(f\"Azimuth Slew and Tracking {dayObs}\")\n",
    "ax1 = az['actualPosition'].plot(color='red')\n",
    "for i in range(firstEvent, lastEvent+1):\n",
    "    if events[i].type.name != 'SLEWING':\n",
    "        continue\n",
    "    ssTime = events[i].begin.isot  \n",
    "    ax1.axvline(ss_time, color=\"black\", linestyle=\"--\")\n",
    "    ipTime = events[i].end.isot  \n",
    "    ax1.axvline(ip_time, color=\"blue\", linestyle=\"--\")\n",
    "#ax1.set_xlim(start.isot, end.isot)\n",
    "ax1.axvline(ssTime, color=\"black\", linestyle=\"--\", label=\"Start slew\")\n",
    "ax1.axvline(ipTime, color=\"blue\", linestyle=\"--\", label=\"InPosition\")\n",
    "ax1.set_ylabel(\"Azimuth(degrees)\")\n",
    "ax1.legend()\n",
    "plt.savefig(str(dataDir / f\"Slew_Track_Example_{dayObs}.pdf\"))"
   ]
  },
  {
   "cell_type": "code",
   "execution_count": 15,
   "metadata": {
    "execution": {
     "iopub.execute_input": "2023-12-20T12:09:07.764508Z",
     "iopub.status.busy": "2023-12-20T12:09:07.763920Z",
     "iopub.status.idle": "2023-12-20T12:09:13.357707Z",
     "shell.execute_reply": "2023-12-20T12:09:13.357241Z",
     "shell.execute_reply.started": "2023-12-20T12:09:07.764493Z"
    }
   },
   "outputs": [
    {
     "data": {
      "text/html": [
       "<pre style=\"margin: 0.1em;\n",
       "padding-left: 0.25em;\n",
       "border-left-style: solid;\n",
       "font-family: var(--jp-code-font-family);\n",
       "font-size: var(--jp-code-font-size);\n",
       "line-height: var(--jp-code-line-height);\n",
       "\"><span style=\"color: var(--jp-warn-color2)\">asyncio</span> <span style=\"color: var(--jp-error-color2)\">ERROR</span>: Unclosed client session\n",
       "client_session: &lt;aiohttp.client.ClientSession object at 0x7f212e1ecfd0&gt;</pre>"
      ],
      "text/plain": [
       "<IPython.core.display.HTML object>"
      ]
     },
     "metadata": {},
     "output_type": "display_data"
    },
    {
     "name": "stdout",
     "output_type": "stream",
     "text": [
      "Index(['actualPosition', 'actualTorque', 'actualVelocity', 'demandPosition',\n",
      "       'demandVelocity', 'private_efdStamp', 'private_identity',\n",
      "       'private_kafkaStamp', 'private_origin', 'private_rcvStamp',\n",
      "       'private_revCode', 'private_seqNum', 'private_sndStamp', 'timestamp'],\n",
      "      dtype='object')\n",
      "Index(['actualPosition', 'actualTorque', 'actualVelocity', 'demandPosition',\n",
      "       'demandVelocity', 'private_efdStamp', 'private_identity',\n",
      "       'private_kafkaStamp', 'private_origin', 'private_rcvStamp',\n",
      "       'private_revCode', 'private_seqNum', 'private_sndStamp', 'timestamp'],\n",
      "      dtype='object')\n"
     ]
    }
   ],
   "source": [
    "[dayObs, blockNum] = dayBlockPairs[0]\n",
    "events = eventMaker.getEvents(dayObs)\n",
    "blockParser = BlockParser(dayObs)  # get the info for the day\n",
    "seqNums = blockParser.getSeqNums(blockNum)  # get the seqNums for the specified block\n",
    "event = events[121]\n",
    "fig, imageAzRms, imageElRms = plotEvent(client, event, fig=fig, \n",
    "                        prePadding=delayAfterStart, postPadding=-delayBeforeEnd, commands={},\n",
    "                        azimuthData=None, elevationData=None)\n"
   ]
  },
  {
   "cell_type": "code",
   "execution_count": 16,
   "metadata": {
    "execution": {
     "iopub.execute_input": "2023-12-20T12:09:18.314845Z",
     "iopub.status.busy": "2023-12-20T12:09:18.314331Z",
     "iopub.status.idle": "2023-12-20T12:09:18.317764Z",
     "shell.execute_reply": "2023-12-20T12:09:18.317407Z",
     "shell.execute_reply.started": "2023-12-20T12:09:18.314830Z"
    }
   },
   "outputs": [
    {
     "data": {
      "text/plain": [
       "TMAState.TRACKING"
      ]
     },
     "execution_count": 16,
     "metadata": {},
     "output_type": "execute_result"
    }
   ],
   "source": [
    "event.type"
   ]
  },
  {
   "cell_type": "code",
   "execution_count": null,
   "metadata": {},
   "outputs": [],
   "source": []
  }
 ],
 "metadata": {
  "kernelspec": {
   "display_name": "LSST",
   "language": "python",
   "name": "lsst"
  },
  "language_info": {
   "codemirror_mode": {
    "name": "ipython",
    "version": 3
   },
   "file_extension": ".py",
   "mimetype": "text/x-python",
   "name": "python",
   "nbconvert_exporter": "python",
   "pygments_lexer": "ipython3",
   "version": "3.11.4"
  }
 },
 "nbformat": 4,
 "nbformat_minor": 4
}
