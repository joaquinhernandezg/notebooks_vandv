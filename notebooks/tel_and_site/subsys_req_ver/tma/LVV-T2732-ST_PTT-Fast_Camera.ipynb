{
 "cells": [
  {
   "cell_type": "markdown",
   "id": "0a3f99fb-8b55-4426-a6f1-5c02cbe4f3ce",
   "metadata": {},
   "source": [
    "# [LVV-T2732] - StarTracker Pointing and Tracking Test - Slew and Settle - TMA Tracking Jitter Validation\n",
    "\n",
    "**Requirements:**\n",
    " - All the MT components should be enabled.\n",
    " - Need the `notebooks_vandv` module installed.\n",
    "\n",
    "Please, see the [README] file for the requirements to run this notebook.  \n",
    "\n",
    "[README]: https://github.com/lsst-sitcom/notebooks_vandv/blob/develop/README.md\n",
    "[LVV-T2730]: https://jira.lsstcorp.org/secure/Tests.jspa#/testCase/LVV-T2730"
   ]
  },
  {
   "cell_type": "markdown",
   "id": "4dcbd2d1-e698-478d-9c26-fdedc022541f",
   "metadata": {
    "tags": []
   },
   "source": [
    "## Setup"
   ]
  },
  {
   "cell_type": "code",
   "execution_count": null,
   "id": "1acfa6f7-8575-4d9e-8228-f6e03f0308bc",
   "metadata": {
    "tags": []
   },
   "outputs": [],
   "source": [
    "test_case = \"LVV-T2732\"\n",
    "test_exec = \"LVV-EXXXX\"\n",
    "\n",
    "# az_grid = [225, 135, 45, -45]\n",
    "# el_grid = [25, 35, 45, 55, 65, 75]\n",
    "\n",
    "az_grid = [135, 45, -45, -135]\n",
    "el_grid = [25, 35, 45, 55, 65, 75]\n",
    "\n",
    "# 101 - Wide Camera\n",
    "# 102 - Narrow Camera\n",
    "# 103 - Fast Camera (DIMM)\n",
    "camera_sal_indexes = [101, 102, 103]\n",
    "exposure_times = [5., 4., 6.]  # s\n",
    "base_msg = f\"{test_case} {test_exec}:\"\n",
    "\n",
    "number_of_exposures = 5\n",
    "n_offsets = 5\n",
    "offset_size = 3.5 # degrees\n",
    "track_time = 60. \n",
    "\n",
    "sleep_time= 4. #Time sleeping in each offset position"
   ]
  },
  {
   "cell_type": "markdown",
   "id": "7724453e-0b6d-49e5-9a35-a0a3cef39326",
   "metadata": {
    "tags": []
   },
   "source": [
    "### Prepare Notebook\n",
    "\n",
    "Start with importing libraries:"
   ]
  },
  {
   "cell_type": "code",
   "execution_count": null,
   "id": "8e237202-1e4d-4aa0-8647-6c2942ddc547",
   "metadata": {
    "tags": []
   },
   "outputs": [],
   "source": [
    "%load_ext autoreload\n",
    "%autoreload 2\n",
    "\n",
    "import asyncio\n",
    "import logging\n",
    "import numpy as np\n",
    "import sys\n",
    "import yaml\n",
    "\n",
    "from astropy import units as u\n",
    "from astropy.coordinates import SkyCoord\n",
    "from astropy.time import Time\n",
    "\n",
    "from lsst.ts import salobj\n",
    "from lsst.ts.idl.enums.MTDome import SubSystemId\n",
    "from lsst.ts.idl.enums.Script import ScriptState\n",
    "from lsst.ts.observatory.control import RotType\n",
    "from lsst.ts.observatory.control.maintel import MTCS, ComCam\n",
    "from lsst.ts.observatory.control.generic_camera import GenericCamera\n",
    "\n",
    "from lsst.sitcom import vandv"
   ]
  },
  {
   "cell_type": "markdown",
   "id": "16e0c07d-90b0-42ed-8627-37a7f7d00642",
   "metadata": {},
   "source": [
    "---\n",
    "Print out the execution info for future reference."
   ]
  },
  {
   "cell_type": "code",
   "execution_count": null,
   "id": "6a909cb6-5bc8-480a-9766-3a0483d88eeb",
   "metadata": {
    "tags": []
   },
   "outputs": [],
   "source": [
    "exec_info = vandv.ExecutionInfo()\n",
    "print(exec_info)"
   ]
  },
  {
   "cell_type": "markdown",
   "id": "cb5b8029-f1ae-4873-bda9-a34425cc3a2f",
   "metadata": {},
   "source": [
    "---\n",
    "Setup the logger, the Domain, and the remote for the telescope control."
   ]
  },
  {
   "cell_type": "code",
   "execution_count": null,
   "id": "4d8be9f3-c15a-4f84-82d2-0ac28567c9e4",
   "metadata": {
    "tags": []
   },
   "outputs": [],
   "source": [
    "logging.basicConfig(format=\"%(asctime)s %(name)s: %(message)s\", level=logging.DEBUG)\n",
    "log = logging.getLogger(f\"{test_case}\")"
   ]
  },
  {
   "cell_type": "code",
   "execution_count": null,
   "id": "16984334-3408-4840-b3a7-b349d8aaf8b3",
   "metadata": {
    "tags": []
   },
   "outputs": [],
   "source": [
    "os.environ[\"LSST_DDS_HISTORYSYNC\"] = \"200\"\n",
    "domain = salobj.Domain()\n",
    "print(f\"My user_host is {domain.user_host!r}\\n\")"
   ]
  },
  {
   "cell_type": "markdown",
   "id": "60009800-8892-4d76-9585-8dc12f9e0c59",
   "metadata": {},
   "source": [
    "---\n",
    "The `Script` CSC is used to record test checkpoints and allow to easy search in the EFD."
   ]
  },
  {
   "cell_type": "code",
   "execution_count": null,
   "id": "2f1bdc63-bcf3-42cf-a4d4-54aac4c0e283",
   "metadata": {
    "tags": []
   },
   "outputs": [],
   "source": [
    "script = salobj.Controller(\"Script\", index=199)\n",
    "await script.start_task\n",
    "\n",
    "script.log.info(\"Testing Log\")"
   ]
  },
  {
   "cell_type": "markdown",
   "id": "73948eaa-cffa-47f9-bad4-f161fa12b2e2",
   "metadata": {},
   "source": [
    "Instanciate the MTCS."
   ]
  },
  {
   "cell_type": "code",
   "execution_count": null,
   "id": "2fb2580c-4e11-49d3-a96e-c973a9718d3f",
   "metadata": {
    "tags": []
   },
   "outputs": [],
   "source": [
    "mtcs = MTCS(domain=domain, log=script.log)\n",
    "vandv.logger.add_filter_to_mtcs()\n",
    "await mtcs.start_task"
   ]
  },
  {
   "cell_type": "markdown",
   "id": "9c819a6d-e478-4b79-98fe-43b8a19163d2",
   "metadata": {},
   "source": [
    "--- \n",
    "Initialize the GenericCameras.  \n",
    "You might need to modify the cell below. "
   ]
  },
  {
   "cell_type": "code",
   "execution_count": null,
   "id": "f72d8e4d-09d0-4042-b545-7cd6e7a50335",
   "metadata": {
    "tags": []
   },
   "outputs": [],
   "source": [
    "camera_list = []\n",
    "\n",
    "for index in camera_sal_indexes:\n",
    "\n",
    "    gencam = GenericCamera(domain=domain, index=index, log=script.log)\n",
    "    await gencam.start_task\n",
    "    #await gencam.enable()\n",
    "\n",
    "    camera_list.append(gencam)"
   ]
  },
  {
   "cell_type": "code",
   "execution_count": null,
   "id": "138753a9-373a-4afe-a6d8-81b7bbb81722",
   "metadata": {},
   "outputs": [],
   "source": [
    "print(camera_list)"
   ]
  },
  {
   "cell_type": "markdown",
   "id": "7b5772b8-156a-4d17-8e05-4f2d3f467d86",
   "metadata": {
    "tags": []
   },
   "source": [
    "### Check CSC Status"
   ]
  },
  {
   "cell_type": "code",
   "execution_count": null,
   "id": "15d710b8-68bd-4f55-97cd-1c883f99ff0f",
   "metadata": {
    "tags": []
   },
   "outputs": [],
   "source": [
    "# Ignore (set check to False) the following components:\n",
    "list_of_cscs = [\n",
    "    \"mtaos\",\n",
    "    \"mtdome\",\n",
    "    \"mtdometrajectory\",\n",
    "    \"mthexapod_1\",\n",
    "    \"mthexapod_2\",\n",
    "    \"mtm1m3\",\n",
    "    \"mtm2\",\n",
    "    \"mtrotator\",\n",
    "]\n",
    "\n",
    "for csc in list_of_cscs:\n",
    "    script.log.info(f\"Setting {csc} check to False\")\n",
    "    setattr(mtcs.check, csc, False)"
   ]
  },
  {
   "cell_type": "code",
   "execution_count": null,
   "id": "d1fba668-9ea5-42d4-9e2d-cfda05cf844f",
   "metadata": {
    "tags": []
   },
   "outputs": [],
   "source": [
    "await mtcs.set_state(\n",
    "    salobj.State.DISABLED, \n",
    "    components=[\n",
    "        \"mtmount\", \n",
    "        #\"mtrotator\",\n",
    "        #\"mtptg\",\n",
    "    ]\n",
    ")"
   ]
  },
  {
   "cell_type": "code",
   "execution_count": null,
   "id": "b6c6220e-c850-49d4-bbd2-6576df7f7051",
   "metadata": {
    "tags": []
   },
   "outputs": [],
   "source": [
    "await mtcs.set_state(\n",
    "    salobj.State.ENABLED, \n",
    "    components=[\n",
    "        \"mtmount\",\n",
    "        # \"mtrotator\", # Enable this only if using the Rotator Hardware\n",
    "        \"mtptg\",\n",
    "    ]\n",
    ")"
   ]
  },
  {
   "cell_type": "code",
   "execution_count": null,
   "id": "02411652-faf1-4052-ae3c-be7adccf985c",
   "metadata": {
    "tags": []
   },
   "outputs": [],
   "source": [
    "## Increase MTMount Log Verbosity\n",
    "await mtcs.rem.mtmount.cmd_setLogLevel.set_start(level=15)"
   ]
  },
  {
   "cell_type": "code",
   "execution_count": null,
   "id": "634d60e7-9640-44db-ba73-f25d873b26b5",
   "metadata": {
    "tags": []
   },
   "outputs": [],
   "source": [
    "## Comment this line if you want the CCW to follow the Rotator\n",
    "await mtcs.enable_ccw_following()"
   ]
  },
  {
   "cell_type": "code",
   "execution_count": null,
   "id": "7e164e50-ab34-4ea6-8391-e8646b6f19d3",
   "metadata": {
    "tags": []
   },
   "outputs": [],
   "source": [
    "## Home MTMount Main Axes\n",
    "await mtcs.rem.mtmount.cmd_homeBothAxes.start(timeout=300)"
   ]
  },
  {
   "cell_type": "code",
   "execution_count": null,
   "id": "18ba96b4-07f1-4b0c-b9c8-13cd34fc482e",
   "metadata": {},
   "outputs": [],
   "source": [
    "await mtcs.assert_liveliness()\n",
    "\n",
    "## Enable this only if all the MT CSCs are enabled\n",
    "# await mtcs.assert_all_enabled()"
   ]
  },
  {
   "cell_type": "code",
   "execution_count": null,
   "id": "f5d0cb14-e352-4167-8c85-9ae6b36796b0",
   "metadata": {},
   "outputs": [],
   "source": [
    "for cam in camera_list:\n",
    "    await cam.assert_liveliness()\n",
    "    await cam.assert_all_enabled()"
   ]
  },
  {
   "cell_type": "markdown",
   "id": "a9443c16-7d8a-4c5d-a8d5-77e73afdbe5d",
   "metadata": {},
   "source": [
    "### Confirm take image each camera"
   ]
  },
  {
   "cell_type": "code",
   "execution_count": null,
   "id": "ddb585cd-36c6-41d6-9b03-37bb5de09de5",
   "metadata": {
    "tags": []
   },
   "outputs": [],
   "source": [
    "reason = \"header_check\"\n",
    "\n",
    "await camera_list[0].take_object(exptime=1., reason=reason)\n",
    "await camera_list[1].take_object(exptime=1., reason=reason)\n",
    "await camera_list[2].take_object(exptime=1., reason=reason)"
   ]
  },
  {
   "cell_type": "code",
   "execution_count": null,
   "id": "38d87713-dac0-4f7d-9d7c-ff71d6aa6139",
   "metadata": {},
   "outputs": [],
   "source": [
    "await camera_list[2].take_object(exptime=1., reason=\"Sync\")"
   ]
  },
  {
   "cell_type": "markdown",
   "id": "c6f1de9d-4155-4c7f-ae47-4e0dd3a100e5",
   "metadata": {},
   "source": [
    "### Confirm Take Images in Sync"
   ]
  },
  {
   "cell_type": "code",
   "execution_count": null,
   "id": "adcebc97-8f01-4484-b390-3409364e06e1",
   "metadata": {
    "tags": []
   },
   "outputs": [],
   "source": [
    "res = (number_of_exposures) * len(camera_list)\n",
    "for n in range(number_of_exposures):\n",
    "    tasks = [asyncio.create_task(cam.take_object(exptime, reason=base_msg[:-1])) \n",
    "             for (cam, exptime) in zip(camera_list, exposure_times)]\n",
    "    await asyncio.gather(*tasks)"
   ]
  },
  {
   "cell_type": "markdown",
   "id": "b4c2c5f0-256a-41ce-9074-f55eb74c9830",
   "metadata": {
    "jp-MarkdownHeadingCollapsed": true,
    "tags": []
   },
   "source": [
    "### Other preparation\n",
    "\n",
    "- LVV-T2713 (1.0) Establish TMA - StarTracker Axis Angle Reference"
   ]
  },
  {
   "cell_type": "markdown",
   "id": "3b1f19b4-f2f0-47c9-8e97-63d2efe93821",
   "metadata": {},
   "source": [
    "## Helper Functions"
   ]
  },
  {
   "cell_type": "code",
   "execution_count": null,
   "id": "5e62e08b-dae8-4836-9c82-3cc357a60f12",
   "metadata": {},
   "outputs": [],
   "source": [
    "async def wait_for_dome_in_position():\n",
    "    \"\"\"Wait until the dome is in position\"\"\"\n",
    "    await asyncio.sleep(20)\n",
    "    azMotion = await mtcs.rem.mtdome.evt_azMotion.aget()\n",
    "\n",
    "    while not azMotion.inPosition:\n",
    "        azMotion = await mtcs.rem.mtdome.evt_azMotion.aget()\n",
    "        await asyncio.sleep(5.)\n",
    "        \n",
    "    if azMotion.state == 1.:\n",
    "        await mtcs.rem.mtdome.cmd_exitFault.set_start()"
   ]
  },
  {
   "cell_type": "code",
   "execution_count": null,
   "id": "0603dc9d-a3e5-4a26-98b7-aeb34457b5ce",
   "metadata": {
    "tags": []
   },
   "outputs": [],
   "source": [
    "async def take_images_in_sync(_camera_list, _exposure_times, _number_of_exposures, _reason, total_time): \n",
    "    \"\"\"\n",
    "    Take images in sync, which means keeping the images ID the same. \n",
    "    This will increase overhead on the camera with shorter exposure time.\n",
    "    \n",
    "    Parameters\n",
    "    ----------\n",
    "    _camera_list : list of `GenericCamera`\n",
    "        A list containing the `GenericCamera` for each Camera.\n",
    "    _exposure_times : list of float \n",
    "        A list containing the exposure time used on each camera.\n",
    "    _reason : str \n",
    "        Reason that goes to the metadata in each image.\n",
    "    _number_of_exposures : float\n",
    "        Total number of exposures for each camera.\n",
    "    total_time : float\n",
    "        Minimum time we should spend taking images (to keep tracking in a fixed position).\n",
    "    \"\"\"\n",
    "    assert len(_camera_list) == len(_exposure_times)\n",
    "\n",
    "    wait_time = asyncio.create_task(asyncio.sleep(total_time))\n",
    "    \n",
    "    for n in range(_number_of_exposures):\n",
    "        tasks = [asyncio.create_task(cam.take_object(exptime, reason=_reason)) \n",
    "                 for (cam, exptime) in zip(_camera_list, _exposure_times)]\n",
    "        \n",
    "        # Wait until all the tasks are complete\n",
    "        await asyncio.gather(*tasks)\n",
    "        \n",
    "    await wait_time"
   ]
  },
  {
   "cell_type": "markdown",
   "id": "cda271b5-ac7d-40d5-8925-dc7f60cefa2a",
   "metadata": {},
   "source": [
    "## Data Acquisition"
   ]
  },
  {
   "cell_type": "markdown",
   "id": "2d904dab-ab69-419b-bac1-c11ad77d1f78",
   "metadata": {},
   "source": [
    "### Find target at defined az and el"
   ]
  },
  {
   "cell_type": "code",
   "execution_count": null,
   "id": "d9edeb87-ee1b-4ef9-98bd-15ad07e3b460",
   "metadata": {},
   "outputs": [],
   "source": [
    "az_target = \n",
    "el_target = "
   ]
  },
  {
   "cell_type": "code",
   "execution_count": null,
   "id": "92b65950-dc6c-4315-bfcc-c3456659f95c",
   "metadata": {},
   "outputs": [],
   "source": [
    "# Center fast camera"
   ]
  },
  {
   "cell_type": "code",
   "execution_count": null,
   "id": "dec73b35-8cff-4dcb-9fcf-d239c26e1396",
   "metadata": {
    "tags": []
   },
   "outputs": [],
   "source": [
    "target = await mtcs.find_target(az=az_target,el=el_target, mag_limit=2, radius=10)\n",
    "print(target)"
   ]
  },
  {
   "cell_type": "code",
   "execution_count": null,
   "id": "4bc88288-8246-49ee-aa4f-b3700864fdfe",
   "metadata": {
    "tags": []
   },
   "outputs": [],
   "source": [
    "radec = await mtcs.slew_object(target, rot=0, rot_type=RotType.Physical)\n",
    "print(f'Slew to target. The radec is {radec}')"
   ]
  },
  {
   "cell_type": "code",
   "execution_count": null,
   "id": "8c5c8582-a8bf-4369-8047-d29fdcd5ebfb",
   "metadata": {
    "tags": []
   },
   "outputs": [],
   "source": [
    "azel= mtcs.azel_from_radec(radec[0].ra, radec[0].dec)\n",
    "az = azel.az\n",
    "el = azel.alt\n",
    "print(f'The azel of the target is {az.deg}, {el.deg}')"
   ]
  },
  {
   "cell_type": "markdown",
   "id": "4910c30d-a035-41a5-a9f9-5e1d8677c525",
   "metadata": {},
   "source": [
    "###  Move Dome to the required AZ"
   ]
  },
  {
   "cell_type": "code",
   "execution_count": null,
   "id": "b959fef3-6303-49b8-95b8-deca59e1ccbf",
   "metadata": {
    "tags": []
   },
   "outputs": [],
   "source": [
    "await mtcs.rem.mtdome.cmd_moveAz.set_start(position=az, velocity=0)"
   ]
  },
  {
   "cell_type": "code",
   "execution_count": null,
   "id": "96c5b393-23bb-4d50-9ebc-0d0bcdd4e656",
   "metadata": {
    "tags": []
   },
   "outputs": [],
   "source": [
    "# Wait untin dome settles and engage breaks. \n",
    "sub_system_ids = SubSystemId.AMCS\n",
    "await mtcs.rem.mtdome.cmd_stop.set_start(engageBrakes=True, subSystemIds=sub_system_ids)"
   ]
  },
  {
   "cell_type": "code",
   "execution_count": null,
   "id": "23b37705-23ec-4f98-97c8-8825bb440c90",
   "metadata": {},
   "outputs": [],
   "source": [
    "await mtcs.rem.mtdome.cmd_exitFault.set_start()"
   ]
  },
  {
   "cell_type": "markdown",
   "id": "07d7537d-b3d4-46d6-b080-c9351ded30ac",
   "metadata": {},
   "source": [
    "### Offset the telescope to center bright start on Fast Camera"
   ]
  },
  {
   "cell_type": "code",
   "execution_count": null,
   "id": "51711c08-d3fa-4696-841d-287eb78a831c",
   "metadata": {
    "tags": []
   },
   "outputs": [],
   "source": [
    "# Standard fixed offset \n",
    "await mtcs.offset_azel(az=208, el=508)"
   ]
  },
  {
   "cell_type": "code",
   "execution_count": null,
   "id": "efa79619-3f31-4b52-9f88-7bba9de35eba",
   "metadata": {
    "tags": []
   },
   "outputs": [],
   "source": [
    "# Additional offset? \n",
    "await mtcs.offset_azel(az=0, el=60)"
   ]
  },
  {
   "cell_type": "markdown",
   "id": "44e6b6ab-c7ce-45a8-a3a7-4ad5f0d829bf",
   "metadata": {
    "tags": []
   },
   "source": [
    "### Take images inSync"
   ]
  },
  {
   "cell_type": "code",
   "execution_count": null,
   "id": "d4e97a3f-292a-4c0b-9e1c-f55d44d8bdd0",
   "metadata": {},
   "outputs": [],
   "source": [
    "number_of_exposures = 1"
   ]
  },
  {
   "cell_type": "code",
   "execution_count": null,
   "id": "8271d0fc-5eb7-4c64-9a2d-26375b5596f3",
   "metadata": {
    "tags": []
   },
   "outputs": [],
   "source": [
    "for n in range(number_of_exposures):\n",
    "    tasks = [asyncio.create_task(cam.take_object(exptime, reason=base_msg[:-1])) \n",
    "             for (cam, exptime) in zip(camera_list, exposure_times)]\n",
    "    await asyncio.gather(*tasks)"
   ]
  },
  {
   "cell_type": "markdown",
   "id": "a2ef75c0-764d-4532-9b7e-87d2f92fdb72",
   "metadata": {},
   "source": [
    "### Declare original ra and dec for the centered target (Target radec plus add positional offsets) "
   ]
  },
  {
   "cell_type": "code",
   "execution_count": null,
   "id": "39d233e2-7837-439b-9b3e-6620bfd2ab29",
   "metadata": {
    "tags": []
   },
   "outputs": [],
   "source": [
    "ra_orig_plusoffset = mtcs.rem.mtptg.tel_mountPosition.get().ra\n",
    "dec_orig_plusoffset = mtcs.rem.mtptg.tel_mountPosition.get().declination\n",
    "print(f'The original radec for the centered target {ra_orig_plusoffset}, {dec_orig_plusoffset}')\n",
    "# await mtcs.slew_icrs(ra=ra_orig*u.deg,dec=dectest*u.deg,rot=0,rot_type=RotType.Physical)"
   ]
  },
  {
   "cell_type": "markdown",
   "id": "e016b1c1-7f8a-4070-9d0e-ea0bc64682c4",
   "metadata": {},
   "source": [
    "### Random 3.5 deg offset "
   ]
  },
  {
   "cell_type": "code",
   "execution_count": null,
   "id": "642dab23-6e63-4165-be05-9407ee3758f8",
   "metadata": {
    "tags": []
   },
   "outputs": [],
   "source": [
    "script.log.info(f\"{base_msg} Streaming  - Start\")\n",
    "# Wait sleep time\n",
    "await asyncio.sleep(sleep_time)\n",
    "\n",
    "script.log.info(f\"{base_msg} Apply random offsets - Start\")\n",
    "\n",
    "random_angle = 2 * np.pi * np.random.rand()\n",
    "offset_dec = offset_size * np.cos(random_angle)\n",
    "\n",
    "sign = 1 if np.random.rand() < 0.5 else -1\n",
    "offset_ra = sign * np.sqrt(offset_size ** 2 - offset_dec ** 2) / np.cos(radec[0].dec.rad)\n",
    "\n",
    "script.log.info(f\"{base_msg} Offset # - ra = {offset_ra:.5f}, dec = {offset_dec:.5f} - Start\")\n",
    "\n",
    "# Random offset\n",
    "await mtcs.slew_icrs(\n",
    "    ra=ra_orig_plusoffset*u.deg + offset_ra * u.deg, \n",
    "    dec=dec_orig_plusoffset*u.deg + offset_dec * u.deg,\n",
    "    rot=0, \n",
    "    rot_type=RotType.Physical\n",
    ")\n",
    "script.log.info(f\"{base_msg} Offset #- ra = {offset_ra:.5f}, dec = {offset_dec:.5f} - Done\")\n",
    "\n",
    "await asyncio.sleep(sleep_time)\n",
    "\n",
    "#Back to the original position\n",
    "script.log.info(f\"{base_msg} Slew back to original sky position - Start\")\n",
    "await mtcs.slew_icrs(ra=ra_orig_plusoffset*u.deg, dec=dec_orig_plusoffset*u.deg, rot=0, rot_type=RotType.Physical)\n",
    "script.log.info(f\"{base_msg} Slew back to original sky position - Done\")\n",
    "\n",
    "await asyncio.sleep(sleep_time)\n",
    "script.log.info(f\"{base_msg} Streaming - Done\")\n",
    "    \n",
    "script.log.info(f\"{base_msg} Apply random offset - Done\")"
   ]
  },
  {
   "cell_type": "markdown",
   "id": "6f708ec4-f2f2-41a0-a8f7-fca8a11990d2",
   "metadata": {},
   "source": [
    "## Dome Commands"
   ]
  },
  {
   "cell_type": "markdown",
   "id": "c89fba1c-d0e4-4862-a72c-7585ef1b4ae8",
   "metadata": {},
   "source": [
    "The following commands allow to control the Dome. However, make sure it is in ENABLED state. Use LOVE to change its state."
   ]
  },
  {
   "cell_type": "markdown",
   "id": "731387e8-1fba-4ed7-8628-5c6221e1f2f6",
   "metadata": {},
   "source": [
    "### Move to position"
   ]
  },
  {
   "cell_type": "code",
   "execution_count": null,
   "id": "4f046175-b4ea-42dd-89e3-0dcd5b2d945d",
   "metadata": {
    "tags": []
   },
   "outputs": [],
   "source": [
    "await mtcs.rem.mtdome.cmd_moveAz.set_start(position=81, velocity=0)"
   ]
  },
  {
   "cell_type": "markdown",
   "id": "244e87eb-0056-4375-8111-359413355878",
   "metadata": {},
   "source": [
    "### Stop the Dome"
   ]
  },
  {
   "cell_type": "code",
   "execution_count": null,
   "id": "f088418a-27cb-41ee-9977-93a6fdbef22d",
   "metadata": {},
   "outputs": [],
   "source": [
    "sub_system_ids = SubSystemId.AMCS\n",
    "await dome.cmd_stop.set_start(engageBrakes=True, subSystemIds=sub_system_ids)"
   ]
  },
  {
   "cell_type": "markdown",
   "id": "281a7103-3b12-45a0-9b4b-eeef51fe53ed",
   "metadata": {},
   "source": [
    "### Recover from fault when stopping"
   ]
  },
  {
   "cell_type": "code",
   "execution_count": null,
   "id": "87a171f0-4d95-4aeb-bd6e-47fdeb54f2e8",
   "metadata": {
    "tags": []
   },
   "outputs": [],
   "source": [
    "await mtcs.rem.mtdome.cmd_exitFault.set_start()"
   ]
  }
 ],
 "metadata": {
  "kernelspec": {
   "display_name": "LSST",
   "language": "python",
   "name": "lsst"
  },
  "language_info": {
   "codemirror_mode": {
    "name": "ipython",
    "version": 3
   },
   "file_extension": ".py",
   "mimetype": "text/x-python",
   "name": "python",
   "nbconvert_exporter": "python",
   "pygments_lexer": "ipython3",
   "version": "3.10.9"
  }
 },
 "nbformat": 4,
 "nbformat_minor": 5
}
