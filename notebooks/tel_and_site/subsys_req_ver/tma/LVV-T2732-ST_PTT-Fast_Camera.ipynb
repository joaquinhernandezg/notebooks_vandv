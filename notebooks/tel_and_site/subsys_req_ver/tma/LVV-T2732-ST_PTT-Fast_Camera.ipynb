{
 "cells": [
  {
   "cell_type": "markdown",
   "id": "0a3f99fb-8b55-4426-a6f1-5c02cbe4f3ce",
   "metadata": {},
   "source": [
    "# [LVV-T2732] - StarTracker Pointing and Tracking Test - Slew and Settle - TMA Tracking Jitter Validation\n",
    "\n",
    "**Requirements:**\n",
    " - All the MT components should be enabled.\n",
    " - Need the `notebooks_vandv` module installed.\n",
    "\n",
    "Please, see the [README] file for the requirements to run this notebook.  \n",
    "\n",
    "[README]: https://github.com/lsst-sitcom/notebooks_vandv/blob/develop/README.md\n",
    "[LVV-T2730]: https://jira.lsstcorp.org/secure/Tests.jspa#/testCase/LVV-T2730"
   ]
  },
  {
   "cell_type": "markdown",
   "id": "4dcbd2d1-e698-478d-9c26-fdedc022541f",
   "metadata": {
    "tags": []
   },
   "source": [
    "## Setup"
   ]
  },
  {
   "cell_type": "code",
   "execution_count": 152,
   "id": "1acfa6f7-8575-4d9e-8228-f6e03f0308bc",
   "metadata": {
    "execution": {
     "iopub.execute_input": "2023-03-25T01:14:35.652673Z",
     "iopub.status.busy": "2023-03-25T01:14:35.652394Z",
     "iopub.status.idle": "2023-03-25T01:14:35.729762Z",
     "shell.execute_reply": "2023-03-25T01:14:35.729187Z",
     "shell.execute_reply.started": "2023-03-25T01:14:35.652654Z"
    },
    "tags": []
   },
   "outputs": [],
   "source": [
    "test_case = \"LVV-T2732\"\n",
    "test_exec = \"LVV-EXXXX\"\n",
    "\n",
    "# az_grid = [225, 135, 45, -45]\n",
    "# el_grid = [25, 35, 45, 55, 65, 75]\n",
    "\n",
    "az_grid = [135, 45, -45, -135]\n",
    "el_grid = [25, 35, 45, 55, 65, 75]\n",
    "\n",
    "# 101 - Wide Camera\n",
    "# 102 - Narrow Camera\n",
    "# 103 - Fast Camera (DIMM)\n",
    "camera_sal_indexes = [101, 102, 103]\n",
    "exposure_times = [5., 4., 6.]  # s\n",
    "base_msg = f\"{test_case} {test_exec}:\"\n",
    "\n",
    "number_of_exposures = 5\n",
    "n_offsets = 5\n",
    "offset_size = 3.5 # degrees\n",
    "track_time = 60. \n",
    "\n",
    "sleep_time= 4. #Time sleeping in each offset position"
   ]
  },
  {
   "cell_type": "markdown",
   "id": "7724453e-0b6d-49e5-9a35-a0a3cef39326",
   "metadata": {
    "tags": []
   },
   "source": [
    "### Prepare Notebook\n",
    "\n",
    "Start with importing libraries:"
   ]
  },
  {
   "cell_type": "code",
   "execution_count": 153,
   "id": "8e237202-1e4d-4aa0-8647-6c2942ddc547",
   "metadata": {
    "execution": {
     "iopub.execute_input": "2023-03-25T01:14:38.917651Z",
     "iopub.status.busy": "2023-03-25T01:14:38.917367Z",
     "iopub.status.idle": "2023-03-25T01:14:38.980470Z",
     "shell.execute_reply": "2023-03-25T01:14:38.979865Z",
     "shell.execute_reply.started": "2023-03-25T01:14:38.917633Z"
    },
    "tags": []
   },
   "outputs": [
    {
     "name": "stdout",
     "output_type": "stream",
     "text": [
      "The autoreload extension is already loaded. To reload it, use:\n",
      "  %reload_ext autoreload\n"
     ]
    }
   ],
   "source": [
    "%load_ext autoreload\n",
    "%autoreload 2\n",
    "\n",
    "import asyncio\n",
    "import logging\n",
    "import numpy as np\n",
    "import sys\n",
    "import yaml\n",
    "\n",
    "from astropy import units as u\n",
    "from astropy.coordinates import SkyCoord\n",
    "from astropy.time import Time\n",
    "\n",
    "from lsst.ts import salobj\n",
    "from lsst.ts.idl.enums.MTDome import SubSystemId\n",
    "from lsst.ts.idl.enums.Script import ScriptState\n",
    "from lsst.ts.observatory.control import RotType\n",
    "from lsst.ts.observatory.control.maintel import MTCS, ComCam\n",
    "from lsst.ts.observatory.control.generic_camera import GenericCamera\n",
    "\n",
    "from lsst.sitcom import vandv"
   ]
  },
  {
   "cell_type": "markdown",
   "id": "16e0c07d-90b0-42ed-8627-37a7f7d00642",
   "metadata": {},
   "source": [
    "---\n",
    "Print out the execution info for future reference."
   ]
  },
  {
   "cell_type": "code",
   "execution_count": 3,
   "id": "6a909cb6-5bc8-480a-9766-3a0483d88eeb",
   "metadata": {
    "execution": {
     "iopub.execute_input": "2023-03-24T21:50:12.636786Z",
     "iopub.status.busy": "2023-03-24T21:50:12.636595Z",
     "iopub.status.idle": "2023-03-24T21:50:12.718085Z",
     "shell.execute_reply": "2023-03-24T21:50:12.717608Z",
     "shell.execute_reply.started": "2023-03-24T21:50:12.636770Z"
    },
    "tags": []
   },
   "outputs": [
    {
     "name": "stdout",
     "output_type": "stream",
     "text": [
      "\n",
      "Executed by isotuela on 2023-03-24T21:50:49.685.\n",
      "  Running in yagan02 at summit\n",
      "\n"
     ]
    }
   ],
   "source": [
    "exec_info = vandv.ExecutionInfo()\n",
    "print(exec_info)"
   ]
  },
  {
   "cell_type": "markdown",
   "id": "cb5b8029-f1ae-4873-bda9-a34425cc3a2f",
   "metadata": {},
   "source": [
    "---\n",
    "Setup the logger, the Domain, and the remote for the telescope control."
   ]
  },
  {
   "cell_type": "code",
   "execution_count": 5,
   "id": "4d8be9f3-c15a-4f84-82d2-0ac28567c9e4",
   "metadata": {
    "execution": {
     "iopub.execute_input": "2023-03-24T21:50:35.904419Z",
     "iopub.status.busy": "2023-03-24T21:50:35.904151Z",
     "iopub.status.idle": "2023-03-24T21:50:35.963347Z",
     "shell.execute_reply": "2023-03-24T21:50:35.962803Z",
     "shell.execute_reply.started": "2023-03-24T21:50:35.904402Z"
    },
    "tags": []
   },
   "outputs": [],
   "source": [
    "logging.basicConfig(format=\"%(asctime)s %(name)s: %(message)s\", level=logging.DEBUG)\n",
    "log = logging.getLogger(f\"{test_case}\")"
   ]
  },
  {
   "cell_type": "code",
   "execution_count": 7,
   "id": "16984334-3408-4840-b3a7-b349d8aaf8b3",
   "metadata": {
    "execution": {
     "iopub.execute_input": "2023-03-24T21:50:55.268534Z",
     "iopub.status.busy": "2023-03-24T21:50:55.268272Z",
     "iopub.status.idle": "2023-03-24T21:50:55.330632Z",
     "shell.execute_reply": "2023-03-24T21:50:55.330172Z",
     "shell.execute_reply.started": "2023-03-24T21:50:55.268517Z"
    },
    "tags": []
   },
   "outputs": [
    {
     "name": "stdout",
     "output_type": "stream",
     "text": [
      "My user_host is 'isotuela@nb-isotuela'\n",
      "\n"
     ]
    }
   ],
   "source": [
    "os.environ[\"LSST_DDS_HISTORYSYNC\"] = \"200\"\n",
    "domain = salobj.Domain()\n",
    "print(f\"My user_host is {domain.user_host!r}\\n\")"
   ]
  },
  {
   "cell_type": "markdown",
   "id": "60009800-8892-4d76-9585-8dc12f9e0c59",
   "metadata": {},
   "source": [
    "---\n",
    "The `Script` CSC is used to record test checkpoints and allow to easy search in the EFD."
   ]
  },
  {
   "cell_type": "code",
   "execution_count": 8,
   "id": "2f1bdc63-bcf3-42cf-a4d4-54aac4c0e283",
   "metadata": {
    "execution": {
     "iopub.execute_input": "2023-03-24T21:51:08.290079Z",
     "iopub.status.busy": "2023-03-24T21:51:08.289820Z",
     "iopub.status.idle": "2023-03-24T21:51:08.518498Z",
     "shell.execute_reply": "2023-03-24T21:51:08.517858Z",
     "shell.execute_reply.started": "2023-03-24T21:51:08.290062Z"
    },
    "tags": []
   },
   "outputs": [
    {
     "data": {
      "text/html": [
       "<pre style=\"margin: 0.1em;\n",
       "padding-left: 0.25em;\n",
       "border-left-style: solid;\n",
       "font-family: var(--jp-code-font-family);\n",
       "font-size: var(--jp-code-font-size);\n",
       "line-height: var(--jp-code-line-height);\n",
       "\"><span style=\"color: var(--jp-warn-color2)\">Script</span> <span style=\"color: var(--jp-info-color0)\">INFO</span>: Disabling authlist-based command authorization</pre>"
      ],
      "text/plain": [
       "<IPython.core.display.HTML object>"
      ]
     },
     "metadata": {},
     "output_type": "display_data"
    },
    {
     "data": {
      "text/html": [
       "<pre style=\"margin: 0.1em;\n",
       "padding-left: 0.25em;\n",
       "border-left-style: solid;\n",
       "font-family: var(--jp-code-font-family);\n",
       "font-size: var(--jp-code-font-size);\n",
       "line-height: var(--jp-code-line-height);\n",
       "\"><span style=\"color: var(--jp-warn-color2)\">Script</span> <span style=\"color: var(--jp-info-color0)\">INFO</span>: Read historical data in 0.00 sec</pre>"
      ],
      "text/plain": [
       "<IPython.core.display.HTML object>"
      ]
     },
     "metadata": {},
     "output_type": "display_data"
    },
    {
     "data": {
      "text/html": [
       "<pre style=\"margin: 0.1em;\n",
       "padding-left: 0.25em;\n",
       "border-left-style: solid;\n",
       "font-family: var(--jp-code-font-family);\n",
       "font-size: var(--jp-code-font-size);\n",
       "line-height: var(--jp-code-line-height);\n",
       "\"><span style=\"color: var(--jp-warn-color2)\">Script</span> <span style=\"color: var(--jp-info-color0)\">INFO</span>: Testing Log</pre>"
      ],
      "text/plain": [
       "<IPython.core.display.HTML object>"
      ]
     },
     "metadata": {},
     "output_type": "display_data"
    }
   ],
   "source": [
    "script = salobj.Controller(\"Script\", index=199)\n",
    "await script.start_task\n",
    "\n",
    "script.log.info(\"Testing Log\")"
   ]
  },
  {
   "cell_type": "markdown",
   "id": "73948eaa-cffa-47f9-bad4-f161fa12b2e2",
   "metadata": {},
   "source": [
    "Instanciate the MTCS."
   ]
  },
  {
   "cell_type": "code",
   "execution_count": 9,
   "id": "2fb2580c-4e11-49d3-a96e-c973a9718d3f",
   "metadata": {
    "execution": {
     "iopub.execute_input": "2023-03-24T21:52:55.206682Z",
     "iopub.status.busy": "2023-03-24T21:52:55.206417Z",
     "iopub.status.idle": "2023-03-24T21:52:57.278582Z",
     "shell.execute_reply": "2023-03-24T21:52:57.252199Z",
     "shell.execute_reply.started": "2023-03-24T21:52:55.206664Z"
    },
    "tags": []
   },
   "outputs": [
    {
     "data": {
      "text/html": [
       "<pre style=\"margin: 0.1em;\n",
       "padding-left: 0.25em;\n",
       "border-left-style: solid;\n",
       "font-family: var(--jp-code-font-family);\n",
       "font-size: var(--jp-code-font-size);\n",
       "line-height: var(--jp-code-line-height);\n",
       "\"><span style=\"color: var(--jp-warn-color2)\">MTMount</span> <span style=\"color: var(--jp-info-color0)\">INFO</span>: Disabling authlist-based command authorization</pre>"
      ],
      "text/plain": [
       "<IPython.core.display.HTML object>"
      ]
     },
     "metadata": {},
     "output_type": "display_data"
    },
    {
     "data": {
      "text/html": [
       "<pre style=\"margin: 0.1em;\n",
       "padding-left: 0.25em;\n",
       "border-left-style: solid;\n",
       "font-family: var(--jp-code-font-family);\n",
       "font-size: var(--jp-code-font-size);\n",
       "line-height: var(--jp-code-line-height);\n",
       "\"><span style=\"color: var(--jp-warn-color2)\">MTPtg</span> <span style=\"color: var(--jp-info-color0)\">INFO</span>: Disabling authlist-based command authorization</pre>"
      ],
      "text/plain": [
       "<IPython.core.display.HTML object>"
      ]
     },
     "metadata": {},
     "output_type": "display_data"
    },
    {
     "data": {
      "text/html": [
       "<pre style=\"margin: 0.1em;\n",
       "padding-left: 0.25em;\n",
       "border-left-style: solid;\n",
       "font-family: var(--jp-code-font-family);\n",
       "font-size: var(--jp-code-font-size);\n",
       "line-height: var(--jp-code-line-height);\n",
       "\"><span style=\"color: var(--jp-warn-color2)\">MTAOS</span> <span style=\"color: var(--jp-info-color0)\">INFO</span>: Disabling authlist-based command authorization</pre>"
      ],
      "text/plain": [
       "<IPython.core.display.HTML object>"
      ]
     },
     "metadata": {},
     "output_type": "display_data"
    },
    {
     "data": {
      "text/html": [
       "<pre style=\"margin: 0.1em;\n",
       "padding-left: 0.25em;\n",
       "border-left-style: solid;\n",
       "font-family: var(--jp-code-font-family);\n",
       "font-size: var(--jp-code-font-size);\n",
       "line-height: var(--jp-code-line-height);\n",
       "\"><span style=\"color: var(--jp-warn-color2)\">MTM1M3</span> <span style=\"color: var(--jp-info-color0)\">INFO</span>: Disabling authlist-based command authorization</pre>"
      ],
      "text/plain": [
       "<IPython.core.display.HTML object>"
      ]
     },
     "metadata": {},
     "output_type": "display_data"
    },
    {
     "data": {
      "text/html": [
       "<pre style=\"margin: 0.1em;\n",
       "padding-left: 0.25em;\n",
       "border-left-style: solid;\n",
       "font-family: var(--jp-code-font-family);\n",
       "font-size: var(--jp-code-font-size);\n",
       "line-height: var(--jp-code-line-height);\n",
       "\"><span style=\"color: var(--jp-warn-color2)\">MTM2</span> <span style=\"color: var(--jp-info-color0)\">INFO</span>: Disabling authlist-based command authorization</pre>"
      ],
      "text/plain": [
       "<IPython.core.display.HTML object>"
      ]
     },
     "metadata": {},
     "output_type": "display_data"
    },
    {
     "data": {
      "text/html": [
       "<pre style=\"margin: 0.1em;\n",
       "padding-left: 0.25em;\n",
       "border-left-style: solid;\n",
       "font-family: var(--jp-code-font-family);\n",
       "font-size: var(--jp-code-font-size);\n",
       "line-height: var(--jp-code-line-height);\n",
       "\"><span style=\"color: var(--jp-warn-color2)\">MTHexapod</span> <span style=\"color: var(--jp-info-color0)\">INFO</span>: Disabling authlist-based command authorization</pre>"
      ],
      "text/plain": [
       "<IPython.core.display.HTML object>"
      ]
     },
     "metadata": {},
     "output_type": "display_data"
    },
    {
     "data": {
      "text/html": [
       "<pre style=\"margin: 0.1em;\n",
       "padding-left: 0.25em;\n",
       "border-left-style: solid;\n",
       "font-family: var(--jp-code-font-family);\n",
       "font-size: var(--jp-code-font-size);\n",
       "line-height: var(--jp-code-line-height);\n",
       "\"><span style=\"color: var(--jp-warn-color2)\">MTHexapod</span> <span style=\"color: var(--jp-info-color0)\">INFO</span>: Disabling authlist-based command authorization</pre>"
      ],
      "text/plain": [
       "<IPython.core.display.HTML object>"
      ]
     },
     "metadata": {},
     "output_type": "display_data"
    },
    {
     "data": {
      "text/html": [
       "<pre style=\"margin: 0.1em;\n",
       "padding-left: 0.25em;\n",
       "border-left-style: solid;\n",
       "font-family: var(--jp-code-font-family);\n",
       "font-size: var(--jp-code-font-size);\n",
       "line-height: var(--jp-code-line-height);\n",
       "\"><span style=\"color: var(--jp-warn-color2)\">MTRotator</span> <span style=\"color: var(--jp-info-color0)\">INFO</span>: Disabling authlist-based command authorization</pre>"
      ],
      "text/plain": [
       "<IPython.core.display.HTML object>"
      ]
     },
     "metadata": {},
     "output_type": "display_data"
    },
    {
     "data": {
      "text/html": [
       "<pre style=\"margin: 0.1em;\n",
       "padding-left: 0.25em;\n",
       "border-left-style: solid;\n",
       "font-family: var(--jp-code-font-family);\n",
       "font-size: var(--jp-code-font-size);\n",
       "line-height: var(--jp-code-line-height);\n",
       "\"><span style=\"color: var(--jp-warn-color2)\">MTDome</span> <span style=\"color: var(--jp-info-color0)\">INFO</span>: Disabling authlist-based command authorization</pre>"
      ],
      "text/plain": [
       "<IPython.core.display.HTML object>"
      ]
     },
     "metadata": {},
     "output_type": "display_data"
    },
    {
     "data": {
      "text/html": [
       "<pre style=\"margin: 0.1em;\n",
       "padding-left: 0.25em;\n",
       "border-left-style: solid;\n",
       "font-family: var(--jp-code-font-family);\n",
       "font-size: var(--jp-code-font-size);\n",
       "line-height: var(--jp-code-line-height);\n",
       "\"><span style=\"color: var(--jp-warn-color2)\">MTDomeTrajectory</span> <span style=\"color: var(--jp-info-color0)\">INFO</span>: Disabling authlist-based command authorization</pre>"
      ],
      "text/plain": [
       "<IPython.core.display.HTML object>"
      ]
     },
     "metadata": {},
     "output_type": "display_data"
    },
    {
     "data": {
      "text/plain": [
       "[None, None, None, None, None, None, None, None, None, None]"
      ]
     },
     "execution_count": 9,
     "metadata": {},
     "output_type": "execute_result"
    }
   ],
   "source": [
    "mtcs = MTCS(domain=domain, log=script.log)\n",
    "vandv.logger.add_filter_to_mtcs()\n",
    "await mtcs.start_task"
   ]
  },
  {
   "cell_type": "markdown",
   "id": "9c819a6d-e478-4b79-98fe-43b8a19163d2",
   "metadata": {},
   "source": [
    "--- \n",
    "Initialize the GenericCameras.  \n",
    "You might need to modify the cell below. "
   ]
  },
  {
   "cell_type": "code",
   "execution_count": 46,
   "id": "f72d8e4d-09d0-4042-b545-7cd6e7a50335",
   "metadata": {
    "execution": {
     "iopub.execute_input": "2023-03-24T23:26:13.753566Z",
     "iopub.status.busy": "2023-03-24T23:26:13.753212Z",
     "iopub.status.idle": "2023-03-24T23:26:14.197910Z",
     "shell.execute_reply": "2023-03-24T23:26:14.196521Z",
     "shell.execute_reply.started": "2023-03-24T23:26:13.753548Z"
    },
    "tags": []
   },
   "outputs": [
    {
     "data": {
      "text/html": [
       "<pre style=\"margin: 0.1em;\n",
       "padding-left: 0.25em;\n",
       "border-left-style: solid;\n",
       "font-family: var(--jp-code-font-family);\n",
       "font-size: var(--jp-code-font-size);\n",
       "line-height: var(--jp-code-line-height);\n",
       "\"><span style=\"color: var(--jp-warn-color2)\">GenericCamera</span> <span style=\"color: var(--jp-info-color0)\">INFO</span>: Disabling authlist-based command authorization</pre>"
      ],
      "text/plain": [
       "<IPython.core.display.HTML object>"
      ]
     },
     "metadata": {},
     "output_type": "display_data"
    },
    {
     "data": {
      "text/html": [
       "<pre style=\"margin: 0.1em;\n",
       "padding-left: 0.25em;\n",
       "border-left-style: solid;\n",
       "font-family: var(--jp-code-font-family);\n",
       "font-size: var(--jp-code-font-size);\n",
       "line-height: var(--jp-code-line-height);\n",
       "\"><span style=\"color: var(--jp-warn-color2)\">GenericCamera</span> <span style=\"color: var(--jp-info-color0)\">INFO</span>: Read historical data in 0.01 sec</pre>"
      ],
      "text/plain": [
       "<IPython.core.display.HTML object>"
      ]
     },
     "metadata": {},
     "output_type": "display_data"
    },
    {
     "data": {
      "text/html": [
       "<pre style=\"margin: 0.1em;\n",
       "padding-left: 0.25em;\n",
       "border-left-style: solid;\n",
       "font-family: var(--jp-code-font-family);\n",
       "font-size: var(--jp-code-font-size);\n",
       "line-height: var(--jp-code-line-height);\n",
       "\"><span style=\"color: var(--jp-warn-color2)\">GenericCamera</span> <span style=\"color: var(--jp-info-color0)\">INFO</span>: Disabling authlist-based command authorization</pre>"
      ],
      "text/plain": [
       "<IPython.core.display.HTML object>"
      ]
     },
     "metadata": {},
     "output_type": "display_data"
    },
    {
     "data": {
      "text/html": [
       "<pre style=\"margin: 0.1em;\n",
       "padding-left: 0.25em;\n",
       "border-left-style: solid;\n",
       "font-family: var(--jp-code-font-family);\n",
       "font-size: var(--jp-code-font-size);\n",
       "line-height: var(--jp-code-line-height);\n",
       "\"><span style=\"color: var(--jp-warn-color2)\">GenericCamera</span> <span style=\"color: var(--jp-info-color0)\">INFO</span>: Read historical data in 0.01 sec</pre>"
      ],
      "text/plain": [
       "<IPython.core.display.HTML object>"
      ]
     },
     "metadata": {},
     "output_type": "display_data"
    },
    {
     "data": {
      "text/html": [
       "<pre style=\"margin: 0.1em;\n",
       "padding-left: 0.25em;\n",
       "border-left-style: solid;\n",
       "font-family: var(--jp-code-font-family);\n",
       "font-size: var(--jp-code-font-size);\n",
       "line-height: var(--jp-code-line-height);\n",
       "\"><span style=\"color: var(--jp-warn-color2)\">GenericCamera</span> <span style=\"color: var(--jp-info-color0)\">INFO</span>: Disabling authlist-based command authorization</pre>"
      ],
      "text/plain": [
       "<IPython.core.display.HTML object>"
      ]
     },
     "metadata": {},
     "output_type": "display_data"
    },
    {
     "data": {
      "text/html": [
       "<pre style=\"margin: 0.1em;\n",
       "padding-left: 0.25em;\n",
       "border-left-style: solid;\n",
       "font-family: var(--jp-code-font-family);\n",
       "font-size: var(--jp-code-font-size);\n",
       "line-height: var(--jp-code-line-height);\n",
       "\"><span style=\"color: var(--jp-warn-color2)\">GenericCamera</span> <span style=\"color: var(--jp-info-color0)\">INFO</span>: Read historical data in 0.01 sec</pre>"
      ],
      "text/plain": [
       "<IPython.core.display.HTML object>"
      ]
     },
     "metadata": {},
     "output_type": "display_data"
    }
   ],
   "source": [
    "camera_list = []\n",
    "\n",
    "for index in camera_sal_indexes:\n",
    "\n",
    "    gencam = GenericCamera(domain=domain, index=index, log=script.log)\n",
    "    await gencam.start_task\n",
    "    #await gencam.enable()\n",
    "\n",
    "    camera_list.append(gencam)"
   ]
  },
  {
   "cell_type": "code",
   "execution_count": 47,
   "id": "138753a9-373a-4afe-a6d8-81b7bbb81722",
   "metadata": {
    "execution": {
     "iopub.execute_input": "2023-03-24T23:26:34.485127Z",
     "iopub.status.busy": "2023-03-24T23:26:34.484776Z",
     "iopub.status.idle": "2023-03-24T23:26:34.537549Z",
     "shell.execute_reply": "2023-03-24T23:26:34.536932Z",
     "shell.execute_reply.started": "2023-03-24T23:26:34.485107Z"
    }
   },
   "outputs": [
    {
     "name": "stdout",
     "output_type": "stream",
     "text": [
      "[<lsst.ts.observatory.control.generic_camera.GenericCamera object at 0x7f896ec406a0>, <lsst.ts.observatory.control.generic_camera.GenericCamera object at 0x7f896f263c10>, <lsst.ts.observatory.control.generic_camera.GenericCamera object at 0x7f896f373730>]\n"
     ]
    }
   ],
   "source": [
    "print(camera_list)"
   ]
  },
  {
   "cell_type": "markdown",
   "id": "7b5772b8-156a-4d17-8e05-4f2d3f467d86",
   "metadata": {
    "tags": []
   },
   "source": [
    "### Check CSC Status"
   ]
  },
  {
   "cell_type": "code",
   "execution_count": 154,
   "id": "15d710b8-68bd-4f55-97cd-1c883f99ff0f",
   "metadata": {
    "execution": {
     "iopub.execute_input": "2023-03-25T01:15:03.437593Z",
     "iopub.status.busy": "2023-03-25T01:15:03.437221Z",
     "iopub.status.idle": "2023-03-25T01:15:03.495983Z",
     "shell.execute_reply": "2023-03-25T01:15:03.495581Z",
     "shell.execute_reply.started": "2023-03-25T01:15:03.437574Z"
    },
    "tags": []
   },
   "outputs": [
    {
     "data": {
      "text/html": [
       "<pre style=\"margin: 0.1em;\n",
       "padding-left: 0.25em;\n",
       "border-left-style: solid;\n",
       "font-family: var(--jp-code-font-family);\n",
       "font-size: var(--jp-code-font-size);\n",
       "line-height: var(--jp-code-line-height);\n",
       "\"><span style=\"color: var(--jp-warn-color2)\">Script</span> <span style=\"color: var(--jp-info-color0)\">INFO</span>: Setting mtaos check to False</pre>"
      ],
      "text/plain": [
       "<IPython.core.display.HTML object>"
      ]
     },
     "metadata": {},
     "output_type": "display_data"
    },
    {
     "data": {
      "text/html": [
       "<pre style=\"margin: 0.1em;\n",
       "padding-left: 0.25em;\n",
       "border-left-style: solid;\n",
       "font-family: var(--jp-code-font-family);\n",
       "font-size: var(--jp-code-font-size);\n",
       "line-height: var(--jp-code-line-height);\n",
       "\"><span style=\"color: var(--jp-warn-color2)\">Script</span> <span style=\"color: var(--jp-info-color0)\">INFO</span>: Setting mtdome check to False</pre>"
      ],
      "text/plain": [
       "<IPython.core.display.HTML object>"
      ]
     },
     "metadata": {},
     "output_type": "display_data"
    },
    {
     "data": {
      "text/html": [
       "<pre style=\"margin: 0.1em;\n",
       "padding-left: 0.25em;\n",
       "border-left-style: solid;\n",
       "font-family: var(--jp-code-font-family);\n",
       "font-size: var(--jp-code-font-size);\n",
       "line-height: var(--jp-code-line-height);\n",
       "\"><span style=\"color: var(--jp-warn-color2)\">Script</span> <span style=\"color: var(--jp-info-color0)\">INFO</span>: Setting mtdometrajectory check to False</pre>"
      ],
      "text/plain": [
       "<IPython.core.display.HTML object>"
      ]
     },
     "metadata": {},
     "output_type": "display_data"
    },
    {
     "data": {
      "text/html": [
       "<pre style=\"margin: 0.1em;\n",
       "padding-left: 0.25em;\n",
       "border-left-style: solid;\n",
       "font-family: var(--jp-code-font-family);\n",
       "font-size: var(--jp-code-font-size);\n",
       "line-height: var(--jp-code-line-height);\n",
       "\"><span style=\"color: var(--jp-warn-color2)\">Script</span> <span style=\"color: var(--jp-info-color0)\">INFO</span>: Setting mthexapod_1 check to False</pre>"
      ],
      "text/plain": [
       "<IPython.core.display.HTML object>"
      ]
     },
     "metadata": {},
     "output_type": "display_data"
    },
    {
     "data": {
      "text/html": [
       "<pre style=\"margin: 0.1em;\n",
       "padding-left: 0.25em;\n",
       "border-left-style: solid;\n",
       "font-family: var(--jp-code-font-family);\n",
       "font-size: var(--jp-code-font-size);\n",
       "line-height: var(--jp-code-line-height);\n",
       "\"><span style=\"color: var(--jp-warn-color2)\">Script</span> <span style=\"color: var(--jp-info-color0)\">INFO</span>: Setting mthexapod_2 check to False</pre>"
      ],
      "text/plain": [
       "<IPython.core.display.HTML object>"
      ]
     },
     "metadata": {},
     "output_type": "display_data"
    },
    {
     "data": {
      "text/html": [
       "<pre style=\"margin: 0.1em;\n",
       "padding-left: 0.25em;\n",
       "border-left-style: solid;\n",
       "font-family: var(--jp-code-font-family);\n",
       "font-size: var(--jp-code-font-size);\n",
       "line-height: var(--jp-code-line-height);\n",
       "\"><span style=\"color: var(--jp-warn-color2)\">Script</span> <span style=\"color: var(--jp-info-color0)\">INFO</span>: Setting mtm1m3 check to False</pre>"
      ],
      "text/plain": [
       "<IPython.core.display.HTML object>"
      ]
     },
     "metadata": {},
     "output_type": "display_data"
    },
    {
     "data": {
      "text/html": [
       "<pre style=\"margin: 0.1em;\n",
       "padding-left: 0.25em;\n",
       "border-left-style: solid;\n",
       "font-family: var(--jp-code-font-family);\n",
       "font-size: var(--jp-code-font-size);\n",
       "line-height: var(--jp-code-line-height);\n",
       "\"><span style=\"color: var(--jp-warn-color2)\">Script</span> <span style=\"color: var(--jp-info-color0)\">INFO</span>: Setting mtm2 check to False</pre>"
      ],
      "text/plain": [
       "<IPython.core.display.HTML object>"
      ]
     },
     "metadata": {},
     "output_type": "display_data"
    },
    {
     "data": {
      "text/html": [
       "<pre style=\"margin: 0.1em;\n",
       "padding-left: 0.25em;\n",
       "border-left-style: solid;\n",
       "font-family: var(--jp-code-font-family);\n",
       "font-size: var(--jp-code-font-size);\n",
       "line-height: var(--jp-code-line-height);\n",
       "\"><span style=\"color: var(--jp-warn-color2)\">Script</span> <span style=\"color: var(--jp-info-color0)\">INFO</span>: Setting mtrotator check to False</pre>"
      ],
      "text/plain": [
       "<IPython.core.display.HTML object>"
      ]
     },
     "metadata": {},
     "output_type": "display_data"
    }
   ],
   "source": [
    "# Ignore (set check to False) the following components:\n",
    "list_of_cscs = [\n",
    "    \"mtaos\",\n",
    "    \"mtdome\",\n",
    "    \"mtdometrajectory\",\n",
    "    \"mthexapod_1\",\n",
    "    \"mthexapod_2\",\n",
    "    \"mtm1m3\",\n",
    "    \"mtm2\",\n",
    "    \"mtrotator\",\n",
    "]\n",
    "\n",
    "for csc in list_of_cscs:\n",
    "    script.log.info(f\"Setting {csc} check to False\")\n",
    "    setattr(mtcs.check, csc, False)"
   ]
  },
  {
   "cell_type": "code",
   "execution_count": 13,
   "id": "d1fba668-9ea5-42d4-9e2d-cfda05cf844f",
   "metadata": {
    "execution": {
     "iopub.execute_input": "2023-03-24T21:58:20.550551Z",
     "iopub.status.busy": "2023-03-24T21:58:20.550189Z",
     "iopub.status.idle": "2023-03-24T21:58:20.637586Z",
     "shell.execute_reply": "2023-03-24T21:58:20.637008Z",
     "shell.execute_reply.started": "2023-03-24T21:58:20.550531Z"
    },
    "tags": []
   },
   "outputs": [
    {
     "data": {
      "text/html": [
       "<pre style=\"margin: 0.1em;\n",
       "padding-left: 0.25em;\n",
       "border-left-style: solid;\n",
       "font-family: var(--jp-code-font-family);\n",
       "font-size: var(--jp-code-font-size);\n",
       "line-height: var(--jp-code-line-height);\n",
       "\"><span style=\"color: var(--jp-warn-color2)\">Script.MTCS</span> <span style=\"color: var(--jp-info-color0)\">INFO</span>: All components in &lt;State.DISABLED: 1&gt;.</pre>"
      ],
      "text/plain": [
       "<IPython.core.display.HTML object>"
      ]
     },
     "metadata": {},
     "output_type": "display_data"
    }
   ],
   "source": [
    "await mtcs.set_state(\n",
    "    salobj.State.DISABLED, \n",
    "    components=[\n",
    "        \"mtmount\", \n",
    "        #\"mtrotator\",\n",
    "        #\"mtptg\",\n",
    "    ]\n",
    ")"
   ]
  },
  {
   "cell_type": "code",
   "execution_count": 14,
   "id": "b6c6220e-c850-49d4-bbd2-6576df7f7051",
   "metadata": {
    "execution": {
     "iopub.execute_input": "2023-03-24T22:00:22.238871Z",
     "iopub.status.busy": "2023-03-24T22:00:22.238509Z",
     "iopub.status.idle": "2023-03-24T22:01:16.579632Z",
     "shell.execute_reply": "2023-03-24T22:01:16.579118Z",
     "shell.execute_reply.started": "2023-03-24T22:00:22.238851Z"
    },
    "tags": []
   },
   "outputs": [
    {
     "data": {
      "text/html": [
       "<pre style=\"margin: 0.1em;\n",
       "padding-left: 0.25em;\n",
       "border-left-style: solid;\n",
       "font-family: var(--jp-code-font-family);\n",
       "font-size: var(--jp-code-font-size);\n",
       "line-height: var(--jp-code-line-height);\n",
       "\"><span style=\"color: var(--jp-warn-color2)\">Script.MTCS</span> <span style=\"color: var(--jp-info-color0)\">INFO</span>: All components in &lt;State.ENABLED: 2&gt;.</pre>"
      ],
      "text/plain": [
       "<IPython.core.display.HTML object>"
      ]
     },
     "metadata": {},
     "output_type": "display_data"
    }
   ],
   "source": [
    "await mtcs.set_state(\n",
    "    salobj.State.ENABLED, \n",
    "    components=[\n",
    "        \"mtmount\",\n",
    "        # \"mtrotator\", # Enable this only if using the Rotator Hardware\n",
    "        \"mtptg\",\n",
    "    ]\n",
    ")"
   ]
  },
  {
   "cell_type": "code",
   "execution_count": 15,
   "id": "02411652-faf1-4052-ae3c-be7adccf985c",
   "metadata": {
    "execution": {
     "iopub.execute_input": "2023-03-24T22:03:54.642882Z",
     "iopub.status.busy": "2023-03-24T22:03:54.635224Z",
     "iopub.status.idle": "2023-03-24T22:03:54.729460Z",
     "shell.execute_reply": "2023-03-24T22:03:54.728922Z",
     "shell.execute_reply.started": "2023-03-24T22:03:54.642860Z"
    },
    "tags": []
   },
   "outputs": [
    {
     "data": {
      "text/plain": [
       "<ddsutil.MTMount_ackcmd_d68fb318 at 0x7f89887d3a30>"
      ]
     },
     "execution_count": 15,
     "metadata": {},
     "output_type": "execute_result"
    }
   ],
   "source": [
    "## Increase MTMount Log Verbosity\n",
    "await mtcs.rem.mtmount.cmd_setLogLevel.set_start(level=15)"
   ]
  },
  {
   "cell_type": "code",
   "execution_count": 155,
   "id": "634d60e7-9640-44db-ba73-f25d873b26b5",
   "metadata": {
    "execution": {
     "iopub.execute_input": "2023-03-25T01:15:17.842394Z",
     "iopub.status.busy": "2023-03-25T01:15:17.842028Z",
     "iopub.status.idle": "2023-03-25T01:15:17.903766Z",
     "shell.execute_reply": "2023-03-25T01:15:17.903245Z",
     "shell.execute_reply.started": "2023-03-25T01:15:17.842375Z"
    },
    "tags": []
   },
   "outputs": [
    {
     "data": {
      "text/html": [
       "<pre style=\"margin: 0.1em;\n",
       "padding-left: 0.25em;\n",
       "border-left-style: solid;\n",
       "font-family: var(--jp-code-font-family);\n",
       "font-size: var(--jp-code-font-size);\n",
       "line-height: var(--jp-code-line-height);\n",
       "\"><span style=\"color: var(--jp-warn-color2)\">Script.MTCS</span> <span style=\"color: var(--jp-info-color0)\">INFO</span>: Enabling CCW following.</pre>"
      ],
      "text/plain": [
       "<IPython.core.display.HTML object>"
      ]
     },
     "metadata": {},
     "output_type": "display_data"
    }
   ],
   "source": [
    "## Comment this line if you want the CCW to follow the Rotator\n",
    "await mtcs.enable_ccw_following()"
   ]
  },
  {
   "cell_type": "code",
   "execution_count": 158,
   "id": "7e164e50-ab34-4ea6-8391-e8646b6f19d3",
   "metadata": {
    "execution": {
     "iopub.execute_input": "2023-03-25T01:15:33.586263Z",
     "iopub.status.busy": "2023-03-25T01:15:33.585884Z",
     "iopub.status.idle": "2023-03-25T01:16:17.931624Z",
     "shell.execute_reply": "2023-03-25T01:16:17.931197Z",
     "shell.execute_reply.started": "2023-03-25T01:15:33.586243Z"
    },
    "tags": []
   },
   "outputs": [
    {
     "data": {
      "text/plain": [
       "<ddsutil.MTMount_ackcmd_d68fb318 at 0x7f8988a87580>"
      ]
     },
     "execution_count": 158,
     "metadata": {},
     "output_type": "execute_result"
    }
   ],
   "source": [
    "## Home MTMount Main Axes\n",
    "await mtcs.rem.mtmount.cmd_homeBothAxes.start(timeout=300)"
   ]
  },
  {
   "cell_type": "code",
   "execution_count": 159,
   "id": "18ba96b4-07f1-4b0c-b9c8-13cd34fc482e",
   "metadata": {
    "execution": {
     "iopub.execute_input": "2023-03-25T01:16:18.012716Z",
     "iopub.status.busy": "2023-03-25T01:16:18.012491Z",
     "iopub.status.idle": "2023-03-25T01:16:18.787119Z",
     "shell.execute_reply": "2023-03-25T01:16:18.786622Z",
     "shell.execute_reply.started": "2023-03-25T01:16:18.012699Z"
    }
   },
   "outputs": [],
   "source": [
    "await mtcs.assert_liveliness()\n",
    "\n",
    "## Enable this only if all the MT CSCs are enabled\n",
    "# await mtcs.assert_all_enabled()"
   ]
  },
  {
   "cell_type": "code",
   "execution_count": 160,
   "id": "f5d0cb14-e352-4167-8c85-9ae6b36796b0",
   "metadata": {
    "execution": {
     "iopub.execute_input": "2023-03-25T01:17:43.143584Z",
     "iopub.status.busy": "2023-03-25T01:17:43.143229Z",
     "iopub.status.idle": "2023-03-25T01:17:44.997013Z",
     "shell.execute_reply": "2023-03-25T01:17:44.996385Z",
     "shell.execute_reply.started": "2023-03-25T01:17:43.143564Z"
    }
   },
   "outputs": [],
   "source": [
    "for cam in camera_list:\n",
    "    await cam.assert_liveliness()\n",
    "    await cam.assert_all_enabled()"
   ]
  },
  {
   "cell_type": "markdown",
   "id": "a9443c16-7d8a-4c5d-a8d5-77e73afdbe5d",
   "metadata": {},
   "source": [
    "### Confirm take image each camera"
   ]
  },
  {
   "cell_type": "code",
   "execution_count": null,
   "id": "ddb585cd-36c6-41d6-9b03-37bb5de09de5",
   "metadata": {
    "tags": []
   },
   "outputs": [],
   "source": [
    "reason = \"header_check\"\n",
    "\n",
    "await camera_list[0].take_object(exptime=1., reason=reason)\n",
    "await camera_list[1].take_object(exptime=1., reason=reason)\n",
    "await camera_list[2].take_object(exptime=1., reason=reason)"
   ]
  },
  {
   "cell_type": "code",
   "execution_count": 115,
   "id": "38d87713-dac0-4f7d-9d7c-ff71d6aa6139",
   "metadata": {
    "execution": {
     "iopub.execute_input": "2023-03-25T00:28:42.355875Z",
     "iopub.status.busy": "2023-03-25T00:28:42.355503Z",
     "iopub.status.idle": "2023-03-25T00:28:46.536711Z",
     "shell.execute_reply": "2023-03-25T00:28:46.536152Z",
     "shell.execute_reply.started": "2023-03-25T00:28:42.355856Z"
    }
   },
   "outputs": [
    {
     "data": {
      "text/plain": [
       "[2023032400077]"
      ]
     },
     "execution_count": 115,
     "metadata": {},
     "output_type": "execute_result"
    }
   ],
   "source": [
    "await camera_list[2].take_object(exptime=1., reason=\"Sync\")"
   ]
  },
  {
   "cell_type": "markdown",
   "id": "c6f1de9d-4155-4c7f-ae47-4e0dd3a100e5",
   "metadata": {},
   "source": [
    "### Confirm Take Images in Sync"
   ]
  },
  {
   "cell_type": "code",
   "execution_count": null,
   "id": "adcebc97-8f01-4484-b390-3409364e06e1",
   "metadata": {
    "tags": []
   },
   "outputs": [],
   "source": [
    "res = (number_of_exposures) * len(camera_list)\n",
    "for n in range(number_of_exposures):\n",
    "    tasks = [asyncio.create_task(cam.take_object(exptime, reason=base_msg[:-1])) \n",
    "             for (cam, exptime) in zip(camera_list, exposure_times)]\n",
    "    await asyncio.gather(*tasks)"
   ]
  },
  {
   "cell_type": "markdown",
   "id": "b4c2c5f0-256a-41ce-9074-f55eb74c9830",
   "metadata": {
    "jp-MarkdownHeadingCollapsed": true,
    "tags": []
   },
   "source": [
    "### Other preparation\n",
    "\n",
    "- LVV-T2713 (1.0) Establish TMA - StarTracker Axis Angle Reference"
   ]
  },
  {
   "cell_type": "markdown",
   "id": "3b1f19b4-f2f0-47c9-8e97-63d2efe93821",
   "metadata": {},
   "source": [
    "## Helper Functions"
   ]
  },
  {
   "cell_type": "code",
   "execution_count": 23,
   "id": "5e62e08b-dae8-4836-9c82-3cc357a60f12",
   "metadata": {
    "execution": {
     "iopub.execute_input": "2023-03-24T23:03:46.711615Z",
     "iopub.status.busy": "2023-03-24T23:03:46.711251Z",
     "iopub.status.idle": "2023-03-24T23:03:46.793670Z",
     "shell.execute_reply": "2023-03-24T23:03:46.793042Z",
     "shell.execute_reply.started": "2023-03-24T23:03:46.711596Z"
    }
   },
   "outputs": [],
   "source": [
    "async def wait_for_dome_in_position():\n",
    "    \"\"\"Wait until the dome is in position\"\"\"\n",
    "    await asyncio.sleep(20)\n",
    "    azMotion = await mtcs.rem.mtdome.evt_azMotion.aget()\n",
    "\n",
    "    while not azMotion.inPosition:\n",
    "        azMotion = await mtcs.rem.mtdome.evt_azMotion.aget()\n",
    "        await asyncio.sleep(5.)\n",
    "        \n",
    "    if azMotion.state == 1.:\n",
    "        await mtcs.rem.mtdome.cmd_exitFault.set_start()"
   ]
  },
  {
   "cell_type": "code",
   "execution_count": 162,
   "id": "0603dc9d-a3e5-4a26-98b7-aeb34457b5ce",
   "metadata": {
    "execution": {
     "iopub.execute_input": "2023-03-25T01:18:29.274903Z",
     "iopub.status.busy": "2023-03-25T01:18:29.274544Z",
     "iopub.status.idle": "2023-03-25T01:18:29.340173Z",
     "shell.execute_reply": "2023-03-25T01:18:29.339582Z",
     "shell.execute_reply.started": "2023-03-25T01:18:29.274884Z"
    },
    "tags": []
   },
   "outputs": [],
   "source": [
    "async def take_images_in_sync(_camera_list, _exposure_times, _number_of_exposures, _reason, total_time): \n",
    "    \"\"\"\n",
    "    Take images in sync, which means keeping the images ID the same. \n",
    "    This will increase overhead on the camera with shorter exposure time.\n",
    "    \n",
    "    Parameters\n",
    "    ----------\n",
    "    _camera_list : list of `GenericCamera`\n",
    "        A list containing the `GenericCamera` for each Camera.\n",
    "    _exposure_times : list of float \n",
    "        A list containing the exposure time used on each camera.\n",
    "    _reason : str \n",
    "        Reason that goes to the metadata in each image.\n",
    "    _number_of_exposures : float\n",
    "        Total number of exposures for each camera.\n",
    "    total_time : float\n",
    "        Minimum time we should spend taking images (to keep tracking in a fixed position).\n",
    "    \"\"\"\n",
    "    assert len(_camera_list) == len(_exposure_times)\n",
    "\n",
    "    wait_time = asyncio.create_task(asyncio.sleep(total_time))\n",
    "    \n",
    "    for n in range(_number_of_exposures):\n",
    "        tasks = [asyncio.create_task(cam.take_object(exptime, reason=_reason)) \n",
    "                 for (cam, exptime) in zip(_camera_list, _exposure_times)]\n",
    "        \n",
    "        # Wait until all the tasks are complete\n",
    "        await asyncio.gather(*tasks)\n",
    "        \n",
    "    await wait_time"
   ]
  },
  {
   "cell_type": "markdown",
   "id": "cda271b5-ac7d-40d5-8925-dc7f60cefa2a",
   "metadata": {},
   "source": [
    "## Data Acquisition"
   ]
  },
  {
   "cell_type": "markdown",
   "id": "2d904dab-ab69-419b-bac1-c11ad77d1f78",
   "metadata": {},
   "source": [
    "### Find target at defined az and el"
   ]
  },
  {
   "cell_type": "code",
   "execution_count": null,
   "id": "d9edeb87-ee1b-4ef9-98bd-15ad07e3b460",
   "metadata": {},
   "outputs": [],
   "source": [
    "az_target = \n",
    "el_target = "
   ]
  },
  {
   "cell_type": "code",
   "execution_count": null,
   "id": "92b65950-dc6c-4315-bfcc-c3456659f95c",
   "metadata": {},
   "outputs": [],
   "source": [
    "# Center fast camera"
   ]
  },
  {
   "cell_type": "code",
   "execution_count": 137,
   "id": "dec73b35-8cff-4dcb-9fcf-d239c26e1396",
   "metadata": {
    "execution": {
     "iopub.execute_input": "2023-03-25T00:57:01.838710Z",
     "iopub.status.busy": "2023-03-25T00:57:01.838358Z",
     "iopub.status.idle": "2023-03-25T00:57:16.262934Z",
     "shell.execute_reply": "2023-03-25T00:57:16.262398Z",
     "shell.execute_reply.started": "2023-03-25T00:57:01.838690Z"
    },
    "tags": []
   },
   "outputs": [
    {
     "data": {
      "text/html": [
       "<pre style=\"margin: 0.1em;\n",
       "padding-left: 0.25em;\n",
       "border-left-style: solid;\n",
       "font-family: var(--jp-code-font-family);\n",
       "font-size: var(--jp-code-font-size);\n",
       "line-height: var(--jp-code-line-height);\n",
       "\"><span style=\"color: var(--jp-warn-color2)\">Script.MTCS</span> <span style=\"color: var(--jp-warn-color0)\">WARNING</span>: * alf Lep already in the object list.</pre>"
      ],
      "text/plain": [
       "<IPython.core.display.HTML object>"
      ]
     },
     "metadata": {},
     "output_type": "display_data"
    }
   ],
   "source": [
    "target = await mtcs.find_target(az=az_target,el=el_target, mag_limit=2, radius=10)\n",
    "print(target)"
   ]
  },
  {
   "cell_type": "code",
   "execution_count": 139,
   "id": "4bc88288-8246-49ee-aa4f-b3700864fdfe",
   "metadata": {
    "execution": {
     "iopub.execute_input": "2023-03-25T00:57:20.309406Z",
     "iopub.status.busy": "2023-03-25T00:57:20.309025Z",
     "iopub.status.idle": "2023-03-25T00:57:35.048123Z",
     "shell.execute_reply": "2023-03-25T00:57:35.047649Z",
     "shell.execute_reply.started": "2023-03-25T00:57:20.309386Z"
    },
    "tags": []
   },
   "outputs": [
    {
     "data": {
      "text/html": [
       "<pre style=\"margin: 0.1em;\n",
       "padding-left: 0.25em;\n",
       "border-left-style: solid;\n",
       "font-family: var(--jp-code-font-family);\n",
       "font-size: var(--jp-code-font-size);\n",
       "line-height: var(--jp-code-line-height);\n",
       "\"><span style=\"color: var(--jp-warn-color2)\">Script.MTCS</span> <span style=\"color: var(--jp-info-color0)\">INFO</span>: Slewing to * alf Lep: 83d10m57.2415s -17d49m20.241s</pre>"
      ],
      "text/plain": [
       "<IPython.core.display.HTML object>"
      ]
     },
     "metadata": {},
     "output_type": "display_data"
    },
    {
     "data": {
      "text/html": [
       "<pre style=\"margin: 0.1em;\n",
       "padding-left: 0.25em;\n",
       "border-left-style: solid;\n",
       "font-family: var(--jp-code-font-family);\n",
       "font-size: var(--jp-code-font-size);\n",
       "line-height: var(--jp-code-line-height);\n",
       "\"><span style=\"color: var(--jp-warn-color2)\">Script.MTCS</span> <span style=\"color: var(--jp-info-color0)\">INFO</span>: MTMount azimuth in position: False.</pre>"
      ],
      "text/plain": [
       "<IPython.core.display.HTML object>"
      ]
     },
     "metadata": {},
     "output_type": "display_data"
    },
    {
     "data": {
      "text/html": [
       "<pre style=\"margin: 0.1em;\n",
       "padding-left: 0.25em;\n",
       "border-left-style: solid;\n",
       "font-family: var(--jp-code-font-family);\n",
       "font-size: var(--jp-code-font-size);\n",
       "line-height: var(--jp-code-line-height);\n",
       "\"><span style=\"color: var(--jp-warn-color2)\">Script.MTCS</span> <span style=\"color: var(--jp-info-color0)\">INFO</span>: MTMount elevation in position: False.</pre>"
      ],
      "text/plain": [
       "<IPython.core.display.HTML object>"
      ]
     },
     "metadata": {},
     "output_type": "display_data"
    },
    {
     "data": {
      "text/html": [
       "<pre style=\"margin: 0.1em;\n",
       "padding-left: 0.25em;\n",
       "border-left-style: solid;\n",
       "font-family: var(--jp-code-font-family);\n",
       "font-size: var(--jp-code-font-size);\n",
       "line-height: var(--jp-code-line-height);\n",
       "\"><span style=\"color: var(--jp-warn-color2)\">Script.MTCS</span> <span style=\"color: var(--jp-info-color0)\">INFO</span>: MTMount elevation in position: True.</pre>"
      ],
      "text/plain": [
       "<IPython.core.display.HTML object>"
      ]
     },
     "metadata": {},
     "output_type": "display_data"
    },
    {
     "data": {
      "text/html": [
       "<pre style=\"margin: 0.1em;\n",
       "padding-left: 0.25em;\n",
       "border-left-style: solid;\n",
       "font-family: var(--jp-code-font-family);\n",
       "font-size: var(--jp-code-font-size);\n",
       "line-height: var(--jp-code-line-height);\n",
       "\"><span style=\"color: var(--jp-warn-color2)\">Script.MTCS</span> <span style=\"color: var(--jp-info-color0)\">INFO</span>: MTMount azimuth in position: True.</pre>"
      ],
      "text/plain": [
       "<IPython.core.display.HTML object>"
      ]
     },
     "metadata": {},
     "output_type": "display_data"
    },
    {
     "name": "stdout",
     "output_type": "stream",
     "text": [
      "(<ICRS Coordinate: (ra, dec) in deg\n",
      "    (83.18256708, -17.82228917)>, <Angle 0. deg>)\n"
     ]
    }
   ],
   "source": [
    "radec = await mtcs.slew_object(target, rot=0, rot_type=RotType.Physical)\n",
    "print(f'Slew to target. The radec is {radec}')"
   ]
  },
  {
   "cell_type": "code",
   "execution_count": 140,
   "id": "8c5c8582-a8bf-4369-8047-d29fdcd5ebfb",
   "metadata": {
    "execution": {
     "iopub.execute_input": "2023-03-25T00:57:40.288798Z",
     "iopub.status.busy": "2023-03-25T00:57:40.288425Z",
     "iopub.status.idle": "2023-03-25T00:57:40.347742Z",
     "shell.execute_reply": "2023-03-25T00:57:40.346904Z",
     "shell.execute_reply.started": "2023-03-25T00:57:40.288780Z"
    },
    "tags": []
   },
   "outputs": [
    {
     "name": "stdout",
     "output_type": "stream",
     "text": [
      "277.92711783037714 49.52859260475941\n"
     ]
    }
   ],
   "source": [
    "azel= mtcs.azel_from_radec(radec[0].ra, radec[0].dec)\n",
    "az = azel.az\n",
    "el = azel.alt\n",
    "print(f'The azel of the target is {az.deg}, {el.deg}')"
   ]
  },
  {
   "cell_type": "markdown",
   "id": "4910c30d-a035-41a5-a9f9-5e1d8677c525",
   "metadata": {},
   "source": [
    "###  Move Dome to the required AZ"
   ]
  },
  {
   "cell_type": "code",
   "execution_count": 141,
   "id": "b959fef3-6303-49b8-95b8-deca59e1ccbf",
   "metadata": {
    "execution": {
     "iopub.execute_input": "2023-03-25T00:57:47.616863Z",
     "iopub.status.busy": "2023-03-25T00:57:47.616365Z",
     "iopub.status.idle": "2023-03-25T00:57:47.690689Z",
     "shell.execute_reply": "2023-03-25T00:57:47.690081Z",
     "shell.execute_reply.started": "2023-03-25T00:57:47.616843Z"
    },
    "tags": []
   },
   "outputs": [
    {
     "data": {
      "text/plain": [
       "<ddsutil.MTDome_ackcmd_1a9f9506 at 0x7f89887b4a00>"
      ]
     },
     "execution_count": 141,
     "metadata": {},
     "output_type": "execute_result"
    }
   ],
   "source": [
    "await mtcs.rem.mtdome.cmd_moveAz.set_start(position=az, velocity=0)"
   ]
  },
  {
   "cell_type": "code",
   "execution_count": 142,
   "id": "96c5b393-23bb-4d50-9ebc-0d0bcdd4e656",
   "metadata": {
    "execution": {
     "iopub.execute_input": "2023-03-25T01:00:32.869081Z",
     "iopub.status.busy": "2023-03-25T01:00:32.868729Z",
     "iopub.status.idle": "2023-03-25T01:00:32.980537Z",
     "shell.execute_reply": "2023-03-25T01:00:32.979872Z",
     "shell.execute_reply.started": "2023-03-25T01:00:32.869061Z"
    },
    "tags": []
   },
   "outputs": [
    {
     "data": {
      "text/plain": [
       "<ddsutil.MTDome_ackcmd_1a9f9506 at 0x7f89887d3e50>"
      ]
     },
     "execution_count": 142,
     "metadata": {},
     "output_type": "execute_result"
    }
   ],
   "source": [
    "# Wait untin dome settles and engage breaks. \n",
    "sub_system_ids = SubSystemId.AMCS\n",
    "await mtcs.rem.mtdome.cmd_stop.set_start(engageBrakes=True, subSystemIds=sub_system_ids)"
   ]
  },
  {
   "cell_type": "code",
   "execution_count": null,
   "id": "23b37705-23ec-4f98-97c8-8825bb440c90",
   "metadata": {},
   "outputs": [],
   "source": [
    "await mtcs.rem.mtdome.cmd_exitFault.set_start()"
   ]
  },
  {
   "cell_type": "markdown",
   "id": "07d7537d-b3d4-46d6-b080-c9351ded30ac",
   "metadata": {},
   "source": [
    "### Offset the telescope to center bright start on Fast Camera"
   ]
  },
  {
   "cell_type": "code",
   "execution_count": 143,
   "id": "51711c08-d3fa-4696-841d-287eb78a831c",
   "metadata": {
    "execution": {
     "iopub.execute_input": "2023-03-25T01:00:36.304595Z",
     "iopub.status.busy": "2023-03-25T01:00:36.304235Z",
     "iopub.status.idle": "2023-03-25T01:00:44.600916Z",
     "shell.execute_reply": "2023-03-25T01:00:44.600439Z",
     "shell.execute_reply.started": "2023-03-25T01:00:36.304576Z"
    },
    "tags": []
   },
   "outputs": [
    {
     "data": {
      "text/html": [
       "<pre style=\"margin: 0.1em;\n",
       "padding-left: 0.25em;\n",
       "border-left-style: solid;\n",
       "font-family: var(--jp-code-font-family);\n",
       "font-size: var(--jp-code-font-size);\n",
       "line-height: var(--jp-code-line-height);\n",
       "\"><span style=\"color: var(--jp-warn-color2)\">Script.MTCS</span> <span style=\"color: var(--jp-info-color0)\">INFO</span>: MTMount elevation in position: False.</pre>"
      ],
      "text/plain": [
       "<IPython.core.display.HTML object>"
      ]
     },
     "metadata": {},
     "output_type": "display_data"
    },
    {
     "data": {
      "text/html": [
       "<pre style=\"margin: 0.1em;\n",
       "padding-left: 0.25em;\n",
       "border-left-style: solid;\n",
       "font-family: var(--jp-code-font-family);\n",
       "font-size: var(--jp-code-font-size);\n",
       "line-height: var(--jp-code-line-height);\n",
       "\"><span style=\"color: var(--jp-warn-color2)\">Script.MTCS</span> <span style=\"color: var(--jp-info-color0)\">INFO</span>: MTMount azimuth in position: False.</pre>"
      ],
      "text/plain": [
       "<IPython.core.display.HTML object>"
      ]
     },
     "metadata": {},
     "output_type": "display_data"
    },
    {
     "data": {
      "text/html": [
       "<pre style=\"margin: 0.1em;\n",
       "padding-left: 0.25em;\n",
       "border-left-style: solid;\n",
       "font-family: var(--jp-code-font-family);\n",
       "font-size: var(--jp-code-font-size);\n",
       "line-height: var(--jp-code-line-height);\n",
       "\"><span style=\"color: var(--jp-warn-color2)\">Script.MTCS</span> <span style=\"color: var(--jp-info-color0)\">INFO</span>: MTMount azimuth in position: True.</pre>"
      ],
      "text/plain": [
       "<IPython.core.display.HTML object>"
      ]
     },
     "metadata": {},
     "output_type": "display_data"
    },
    {
     "data": {
      "text/html": [
       "<pre style=\"margin: 0.1em;\n",
       "padding-left: 0.25em;\n",
       "border-left-style: solid;\n",
       "font-family: var(--jp-code-font-family);\n",
       "font-size: var(--jp-code-font-size);\n",
       "line-height: var(--jp-code-line-height);\n",
       "\"><span style=\"color: var(--jp-warn-color2)\">Script.MTCS</span> <span style=\"color: var(--jp-info-color0)\">INFO</span>: MTMount elevation in position: True.</pre>"
      ],
      "text/plain": [
       "<IPython.core.display.HTML object>"
      ]
     },
     "metadata": {},
     "output_type": "display_data"
    }
   ],
   "source": [
    "# Standard fixed offset \n",
    "await mtcs.offset_azel(az=208, el=508)"
   ]
  },
  {
   "cell_type": "code",
   "execution_count": 145,
   "id": "efa79619-3f31-4b52-9f88-7bba9de35eba",
   "metadata": {
    "execution": {
     "iopub.execute_input": "2023-03-25T01:01:26.716512Z",
     "iopub.status.busy": "2023-03-25T01:01:26.716127Z",
     "iopub.status.idle": "2023-03-25T01:01:35.816664Z",
     "shell.execute_reply": "2023-03-25T01:01:35.816185Z",
     "shell.execute_reply.started": "2023-03-25T01:01:26.716492Z"
    },
    "tags": []
   },
   "outputs": [
    {
     "data": {
      "text/html": [
       "<pre style=\"margin: 0.1em;\n",
       "padding-left: 0.25em;\n",
       "border-left-style: solid;\n",
       "font-family: var(--jp-code-font-family);\n",
       "font-size: var(--jp-code-font-size);\n",
       "line-height: var(--jp-code-line-height);\n",
       "\"><span style=\"color: var(--jp-warn-color2)\">Script.MTCS</span> <span style=\"color: var(--jp-info-color0)\">INFO</span>: MTMount elevation in position: False.</pre>"
      ],
      "text/plain": [
       "<IPython.core.display.HTML object>"
      ]
     },
     "metadata": {},
     "output_type": "display_data"
    },
    {
     "data": {
      "text/html": [
       "<pre style=\"margin: 0.1em;\n",
       "padding-left: 0.25em;\n",
       "border-left-style: solid;\n",
       "font-family: var(--jp-code-font-family);\n",
       "font-size: var(--jp-code-font-size);\n",
       "line-height: var(--jp-code-line-height);\n",
       "\"><span style=\"color: var(--jp-warn-color2)\">Script.MTCS</span> <span style=\"color: var(--jp-info-color0)\">INFO</span>: MTMount elevation in position: True.</pre>"
      ],
      "text/plain": [
       "<IPython.core.display.HTML object>"
      ]
     },
     "metadata": {},
     "output_type": "display_data"
    }
   ],
   "source": [
    "# Additional offset? \n",
    "await mtcs.offset_azel(az=0, el=60)"
   ]
  },
  {
   "cell_type": "markdown",
   "id": "44e6b6ab-c7ce-45a8-a3a7-4ad5f0d829bf",
   "metadata": {
    "tags": []
   },
   "source": [
    "### Take images inSync"
   ]
  },
  {
   "cell_type": "code",
   "execution_count": 49,
   "id": "d4e97a3f-292a-4c0b-9e1c-f55d44d8bdd0",
   "metadata": {
    "execution": {
     "iopub.execute_input": "2023-03-24T23:33:08.304050Z",
     "iopub.status.busy": "2023-03-24T23:33:08.303686Z",
     "iopub.status.idle": "2023-03-24T23:33:08.380639Z",
     "shell.execute_reply": "2023-03-24T23:33:08.380016Z",
     "shell.execute_reply.started": "2023-03-24T23:33:08.304030Z"
    }
   },
   "outputs": [],
   "source": [
    "number_of_exposures = 1"
   ]
  },
  {
   "cell_type": "code",
   "execution_count": 146,
   "id": "8271d0fc-5eb7-4c64-9a2d-26375b5596f3",
   "metadata": {
    "execution": {
     "iopub.execute_input": "2023-03-25T01:01:35.897068Z",
     "iopub.status.busy": "2023-03-25T01:01:35.896816Z",
     "iopub.status.idle": "2023-03-25T01:01:44.990386Z",
     "shell.execute_reply": "2023-03-25T01:01:44.989883Z",
     "shell.execute_reply.started": "2023-03-25T01:01:35.897051Z"
    },
    "tags": []
   },
   "outputs": [],
   "source": [
    "for n in range(number_of_exposures):\n",
    "    tasks = [asyncio.create_task(cam.take_object(exptime, reason=base_msg[:-1])) \n",
    "             for (cam, exptime) in zip(camera_list, exposure_times)]\n",
    "    await asyncio.gather(*tasks)"
   ]
  },
  {
   "cell_type": "markdown",
   "id": "a2ef75c0-764d-4532-9b7e-87d2f92fdb72",
   "metadata": {},
   "source": [
    "### Declare original ra and dec for the centered target (Target radec plus add positional offsets) "
   ]
  },
  {
   "cell_type": "code",
   "execution_count": 147,
   "id": "39d233e2-7837-439b-9b3e-6620bfd2ab29",
   "metadata": {
    "execution": {
     "iopub.execute_input": "2023-03-25T01:02:04.490333Z",
     "iopub.status.busy": "2023-03-25T01:02:04.489961Z",
     "iopub.status.idle": "2023-03-25T01:02:04.546252Z",
     "shell.execute_reply": "2023-03-25T01:02:04.545383Z",
     "shell.execute_reply.started": "2023-03-25T01:02:04.490314Z"
    },
    "tags": []
   },
   "outputs": [
    {
     "name": "stdout",
     "output_type": "stream",
     "text": [
      "83.30608184452312 -17.943110689618248\n"
     ]
    }
   ],
   "source": [
    "ra_orig_plusoffset = mtcs.rem.mtptg.tel_mountPosition.get().ra\n",
    "dec_orig_plusoffset = mtcs.rem.mtptg.tel_mountPosition.get().declination\n",
    "print(f'The original radec for the centered target {ra_orig_plusoffset}, {dec_orig_plusoffset}')\n",
    "# await mtcs.slew_icrs(ra=ra_orig*u.deg,dec=dectest*u.deg,rot=0,rot_type=RotType.Physical)"
   ]
  },
  {
   "cell_type": "markdown",
   "id": "e016b1c1-7f8a-4070-9d0e-ea0bc64682c4",
   "metadata": {},
   "source": [
    "### Random 3.5 deg offset "
   ]
  },
  {
   "cell_type": "code",
   "execution_count": 151,
   "id": "642dab23-6e63-4165-be05-9407ee3758f8",
   "metadata": {
    "execution": {
     "iopub.execute_input": "2023-03-25T01:10:27.878740Z",
     "iopub.status.busy": "2023-03-25T01:10:27.878396Z",
     "iopub.status.idle": "2023-03-25T01:10:53.459092Z",
     "shell.execute_reply": "2023-03-25T01:10:53.458576Z",
     "shell.execute_reply.started": "2023-03-25T01:10:27.878721Z"
    },
    "tags": []
   },
   "outputs": [
    {
     "data": {
      "text/html": [
       "<pre style=\"margin: 0.1em;\n",
       "padding-left: 0.25em;\n",
       "border-left-style: solid;\n",
       "font-family: var(--jp-code-font-family);\n",
       "font-size: var(--jp-code-font-size);\n",
       "line-height: var(--jp-code-line-height);\n",
       "\"><span style=\"color: var(--jp-warn-color2)\">Script</span> <span style=\"color: var(--jp-info-color0)\">INFO</span>: LVV-T2732 LVV-EXXXX: Streaming  - Start</pre>"
      ],
      "text/plain": [
       "<IPython.core.display.HTML object>"
      ]
     },
     "metadata": {},
     "output_type": "display_data"
    },
    {
     "data": {
      "text/html": [
       "<pre style=\"margin: 0.1em;\n",
       "padding-left: 0.25em;\n",
       "border-left-style: solid;\n",
       "font-family: var(--jp-code-font-family);\n",
       "font-size: var(--jp-code-font-size);\n",
       "line-height: var(--jp-code-line-height);\n",
       "\"><span style=\"color: var(--jp-warn-color2)\">Script</span> <span style=\"color: var(--jp-info-color0)\">INFO</span>: LVV-T2732 LVV-EXXXX: Apply random offsets - Start</pre>"
      ],
      "text/plain": [
       "<IPython.core.display.HTML object>"
      ]
     },
     "metadata": {},
     "output_type": "display_data"
    },
    {
     "data": {
      "text/html": [
       "<pre style=\"margin: 0.1em;\n",
       "padding-left: 0.25em;\n",
       "border-left-style: solid;\n",
       "font-family: var(--jp-code-font-family);\n",
       "font-size: var(--jp-code-font-size);\n",
       "line-height: var(--jp-code-line-height);\n",
       "\"><span style=\"color: var(--jp-warn-color2)\">Script</span> <span style=\"color: var(--jp-info-color0)\">INFO</span>: LVV-T2732 LVV-EXXXX: Offset # - ra = -2.01914, dec = -2.92489 - Start</pre>"
      ],
      "text/plain": [
       "<IPython.core.display.HTML object>"
      ]
     },
     "metadata": {},
     "output_type": "display_data"
    },
    {
     "data": {
      "text/html": [
       "<pre style=\"margin: 0.1em;\n",
       "padding-left: 0.25em;\n",
       "border-left-style: solid;\n",
       "font-family: var(--jp-code-font-family);\n",
       "font-size: var(--jp-code-font-size);\n",
       "line-height: var(--jp-code-line-height);\n",
       "\"><span style=\"color: var(--jp-warn-color2)\">Script.MTCS</span> <span style=\"color: var(--jp-info-color0)\">INFO</span>: MTMount elevation in position: False.</pre>"
      ],
      "text/plain": [
       "<IPython.core.display.HTML object>"
      ]
     },
     "metadata": {},
     "output_type": "display_data"
    },
    {
     "data": {
      "text/html": [
       "<pre style=\"margin: 0.1em;\n",
       "padding-left: 0.25em;\n",
       "border-left-style: solid;\n",
       "font-family: var(--jp-code-font-family);\n",
       "font-size: var(--jp-code-font-size);\n",
       "line-height: var(--jp-code-line-height);\n",
       "\"><span style=\"color: var(--jp-warn-color2)\">Script.MTCS</span> <span style=\"color: var(--jp-info-color0)\">INFO</span>: MTMount azimuth in position: False.</pre>"
      ],
      "text/plain": [
       "<IPython.core.display.HTML object>"
      ]
     },
     "metadata": {},
     "output_type": "display_data"
    },
    {
     "data": {
      "text/html": [
       "<pre style=\"margin: 0.1em;\n",
       "padding-left: 0.25em;\n",
       "border-left-style: solid;\n",
       "font-family: var(--jp-code-font-family);\n",
       "font-size: var(--jp-code-font-size);\n",
       "line-height: var(--jp-code-line-height);\n",
       "\"><span style=\"color: var(--jp-warn-color2)\">Script.MTCS</span> <span style=\"color: var(--jp-info-color0)\">INFO</span>: MTMount elevation in position: True.</pre>"
      ],
      "text/plain": [
       "<IPython.core.display.HTML object>"
      ]
     },
     "metadata": {},
     "output_type": "display_data"
    },
    {
     "data": {
      "text/html": [
       "<pre style=\"margin: 0.1em;\n",
       "padding-left: 0.25em;\n",
       "border-left-style: solid;\n",
       "font-family: var(--jp-code-font-family);\n",
       "font-size: var(--jp-code-font-size);\n",
       "line-height: var(--jp-code-line-height);\n",
       "\"><span style=\"color: var(--jp-warn-color2)\">Script.MTCS</span> <span style=\"color: var(--jp-info-color0)\">INFO</span>: MTMount azimuth in position: True.</pre>"
      ],
      "text/plain": [
       "<IPython.core.display.HTML object>"
      ]
     },
     "metadata": {},
     "output_type": "display_data"
    },
    {
     "data": {
      "text/html": [
       "<pre style=\"margin: 0.1em;\n",
       "padding-left: 0.25em;\n",
       "border-left-style: solid;\n",
       "font-family: var(--jp-code-font-family);\n",
       "font-size: var(--jp-code-font-size);\n",
       "line-height: var(--jp-code-line-height);\n",
       "\"><span style=\"color: var(--jp-warn-color2)\">Script</span> <span style=\"color: var(--jp-info-color0)\">INFO</span>: LVV-T2732 LVV-EXXXX: Offset #- ra = -2.01914, dec = -2.92489 - Done</pre>"
      ],
      "text/plain": [
       "<IPython.core.display.HTML object>"
      ]
     },
     "metadata": {},
     "output_type": "display_data"
    },
    {
     "data": {
      "text/html": [
       "<pre style=\"margin: 0.1em;\n",
       "padding-left: 0.25em;\n",
       "border-left-style: solid;\n",
       "font-family: var(--jp-code-font-family);\n",
       "font-size: var(--jp-code-font-size);\n",
       "line-height: var(--jp-code-line-height);\n",
       "\"><span style=\"color: var(--jp-warn-color2)\">Script</span> <span style=\"color: var(--jp-info-color0)\">INFO</span>: LVV-T2732 LVV-EXXXX: Slew back to original sky position - Start</pre>"
      ],
      "text/plain": [
       "<IPython.core.display.HTML object>"
      ]
     },
     "metadata": {},
     "output_type": "display_data"
    },
    {
     "data": {
      "text/html": [
       "<pre style=\"margin: 0.1em;\n",
       "padding-left: 0.25em;\n",
       "border-left-style: solid;\n",
       "font-family: var(--jp-code-font-family);\n",
       "font-size: var(--jp-code-font-size);\n",
       "line-height: var(--jp-code-line-height);\n",
       "\"><span style=\"color: var(--jp-warn-color2)\">Script.MTCS</span> <span style=\"color: var(--jp-info-color0)\">INFO</span>: MTMount elevation in position: False.</pre>"
      ],
      "text/plain": [
       "<IPython.core.display.HTML object>"
      ]
     },
     "metadata": {},
     "output_type": "display_data"
    },
    {
     "data": {
      "text/html": [
       "<pre style=\"margin: 0.1em;\n",
       "padding-left: 0.25em;\n",
       "border-left-style: solid;\n",
       "font-family: var(--jp-code-font-family);\n",
       "font-size: var(--jp-code-font-size);\n",
       "line-height: var(--jp-code-line-height);\n",
       "\"><span style=\"color: var(--jp-warn-color2)\">Script.MTCS</span> <span style=\"color: var(--jp-info-color0)\">INFO</span>: MTMount azimuth in position: False.</pre>"
      ],
      "text/plain": [
       "<IPython.core.display.HTML object>"
      ]
     },
     "metadata": {},
     "output_type": "display_data"
    },
    {
     "data": {
      "text/html": [
       "<pre style=\"margin: 0.1em;\n",
       "padding-left: 0.25em;\n",
       "border-left-style: solid;\n",
       "font-family: var(--jp-code-font-family);\n",
       "font-size: var(--jp-code-font-size);\n",
       "line-height: var(--jp-code-line-height);\n",
       "\"><span style=\"color: var(--jp-warn-color2)\">Script.MTCS</span> <span style=\"color: var(--jp-info-color0)\">INFO</span>: MTMount elevation in position: True.</pre>"
      ],
      "text/plain": [
       "<IPython.core.display.HTML object>"
      ]
     },
     "metadata": {},
     "output_type": "display_data"
    },
    {
     "data": {
      "text/html": [
       "<pre style=\"margin: 0.1em;\n",
       "padding-left: 0.25em;\n",
       "border-left-style: solid;\n",
       "font-family: var(--jp-code-font-family);\n",
       "font-size: var(--jp-code-font-size);\n",
       "line-height: var(--jp-code-line-height);\n",
       "\"><span style=\"color: var(--jp-warn-color2)\">Script.MTCS</span> <span style=\"color: var(--jp-info-color0)\">INFO</span>: MTMount azimuth in position: True.</pre>"
      ],
      "text/plain": [
       "<IPython.core.display.HTML object>"
      ]
     },
     "metadata": {},
     "output_type": "display_data"
    },
    {
     "data": {
      "text/html": [
       "<pre style=\"margin: 0.1em;\n",
       "padding-left: 0.25em;\n",
       "border-left-style: solid;\n",
       "font-family: var(--jp-code-font-family);\n",
       "font-size: var(--jp-code-font-size);\n",
       "line-height: var(--jp-code-line-height);\n",
       "\"><span style=\"color: var(--jp-warn-color2)\">Script</span> <span style=\"color: var(--jp-info-color0)\">INFO</span>: LVV-T2732 LVV-EXXXX: Slew back to original sky position - Done</pre>"
      ],
      "text/plain": [
       "<IPython.core.display.HTML object>"
      ]
     },
     "metadata": {},
     "output_type": "display_data"
    },
    {
     "data": {
      "text/html": [
       "<pre style=\"margin: 0.1em;\n",
       "padding-left: 0.25em;\n",
       "border-left-style: solid;\n",
       "font-family: var(--jp-code-font-family);\n",
       "font-size: var(--jp-code-font-size);\n",
       "line-height: var(--jp-code-line-height);\n",
       "\"><span style=\"color: var(--jp-warn-color2)\">Script</span> <span style=\"color: var(--jp-info-color0)\">INFO</span>: LVV-T2732 LVV-EXXXX: Streaming - Done</pre>"
      ],
      "text/plain": [
       "<IPython.core.display.HTML object>"
      ]
     },
     "metadata": {},
     "output_type": "display_data"
    },
    {
     "data": {
      "text/html": [
       "<pre style=\"margin: 0.1em;\n",
       "padding-left: 0.25em;\n",
       "border-left-style: solid;\n",
       "font-family: var(--jp-code-font-family);\n",
       "font-size: var(--jp-code-font-size);\n",
       "line-height: var(--jp-code-line-height);\n",
       "\"><span style=\"color: var(--jp-warn-color2)\">Script</span> <span style=\"color: var(--jp-info-color0)\">INFO</span>: LVV-T2732 LVV-EXXXX: Apply random offset - Done</pre>"
      ],
      "text/plain": [
       "<IPython.core.display.HTML object>"
      ]
     },
     "metadata": {},
     "output_type": "display_data"
    }
   ],
   "source": [
    "script.log.info(f\"{base_msg} Streaming  - Start\")\n",
    "# Wait sleep time\n",
    "await asyncio.sleep(sleep_time)\n",
    "\n",
    "script.log.info(f\"{base_msg} Apply random offsets - Start\")\n",
    "\n",
    "random_angle = 2 * np.pi * np.random.rand()\n",
    "offset_dec = offset_size * np.cos(random_angle)\n",
    "\n",
    "sign = 1 if np.random.rand() < 0.5 else -1\n",
    "offset_ra = sign * np.sqrt(offset_size ** 2 - offset_dec ** 2) / np.cos(radec[0].dec.rad)\n",
    "\n",
    "script.log.info(f\"{base_msg} Offset # - ra = {offset_ra:.5f}, dec = {offset_dec:.5f} - Start\")\n",
    "\n",
    "# Random offset\n",
    "await mtcs.slew_icrs(\n",
    "    ra=ra_orig_plusoffset*u.deg + offset_ra * u.deg, \n",
    "    dec=dec_orig_plusoffset*u.deg + offset_dec * u.deg,\n",
    "    rot=0, \n",
    "    rot_type=RotType.Physical\n",
    ")\n",
    "script.log.info(f\"{base_msg} Offset #- ra = {offset_ra:.5f}, dec = {offset_dec:.5f} - Done\")\n",
    "\n",
    "await asyncio.sleep(sleep_time)\n",
    "\n",
    "#Back to the original position\n",
    "script.log.info(f\"{base_msg} Slew back to original sky position - Start\")\n",
    "await mtcs.slew_icrs(ra=ra_orig_plusoffset*u.deg, dec=dec_orig_plusoffset*u.deg, rot=0, rot_type=RotType.Physical)\n",
    "script.log.info(f\"{base_msg} Slew back to original sky position - Done\")\n",
    "\n",
    "await asyncio.sleep(sleep_time)\n",
    "script.log.info(f\"{base_msg} Streaming - Done\")\n",
    "    \n",
    "script.log.info(f\"{base_msg} Apply random offset - Done\")"
   ]
  },
  {
   "cell_type": "markdown",
   "id": "6f708ec4-f2f2-41a0-a8f7-fca8a11990d2",
   "metadata": {},
   "source": [
    "## Dome Commands"
   ]
  },
  {
   "cell_type": "markdown",
   "id": "c89fba1c-d0e4-4862-a72c-7585ef1b4ae8",
   "metadata": {},
   "source": [
    "The following commands allow to control the Dome. However, make sure it is in ENABLED state. Use LOVE to change its state."
   ]
  },
  {
   "cell_type": "markdown",
   "id": "731387e8-1fba-4ed7-8628-5c6221e1f2f6",
   "metadata": {},
   "source": [
    "### Move to position"
   ]
  },
  {
   "cell_type": "code",
   "execution_count": 39,
   "id": "4f046175-b4ea-42dd-89e3-0dcd5b2d945d",
   "metadata": {
    "execution": {
     "iopub.execute_input": "2023-03-24T23:22:25.635237Z",
     "iopub.status.busy": "2023-03-24T23:22:25.634883Z",
     "iopub.status.idle": "2023-03-24T23:22:25.723917Z",
     "shell.execute_reply": "2023-03-24T23:22:25.723383Z",
     "shell.execute_reply.started": "2023-03-24T23:22:25.635218Z"
    },
    "tags": []
   },
   "outputs": [
    {
     "data": {
      "text/plain": [
       "<ddsutil.MTDome_ackcmd_1a9f9506 at 0x7f89887d2260>"
      ]
     },
     "execution_count": 39,
     "metadata": {},
     "output_type": "execute_result"
    }
   ],
   "source": [
    "await mtcs.rem.mtdome.cmd_moveAz.set_start(position=81, velocity=0)"
   ]
  },
  {
   "cell_type": "markdown",
   "id": "244e87eb-0056-4375-8111-359413355878",
   "metadata": {},
   "source": [
    "### Stop the Dome"
   ]
  },
  {
   "cell_type": "code",
   "execution_count": null,
   "id": "f088418a-27cb-41ee-9977-93a6fdbef22d",
   "metadata": {},
   "outputs": [],
   "source": [
    "sub_system_ids = SubSystemId.AMCS\n",
    "await dome.cmd_stop.set_start(engageBrakes=True, subSystemIds=sub_system_ids)"
   ]
  },
  {
   "cell_type": "markdown",
   "id": "281a7103-3b12-45a0-9b4b-eeef51fe53ed",
   "metadata": {},
   "source": [
    "### Recover from fault when stopping"
   ]
  },
  {
   "cell_type": "code",
   "execution_count": 164,
   "id": "87a171f0-4d95-4aeb-bd6e-47fdeb54f2e8",
   "metadata": {
    "execution": {
     "iopub.execute_input": "2023-03-25T01:18:56.303434Z",
     "iopub.status.busy": "2023-03-25T01:18:56.303059Z",
     "iopub.status.idle": "2023-03-25T01:18:56.385550Z",
     "shell.execute_reply": "2023-03-25T01:18:56.385025Z",
     "shell.execute_reply.started": "2023-03-25T01:18:56.303415Z"
    },
    "tags": []
   },
   "outputs": [
    {
     "data": {
      "text/plain": [
       "<ddsutil.MTDome_ackcmd_1a9f9506 at 0x7f89724da470>"
      ]
     },
     "execution_count": 164,
     "metadata": {},
     "output_type": "execute_result"
    }
   ],
   "source": [
    "await mtcs.rem.mtdome.cmd_exitFault.set_start()"
   ]
  }
 ],
 "metadata": {
  "kernelspec": {
   "display_name": "LSST",
   "language": "python",
   "name": "lsst"
  },
  "language_info": {
   "codemirror_mode": {
    "name": "ipython",
    "version": 3
   },
   "file_extension": ".py",
   "mimetype": "text/x-python",
   "name": "python",
   "nbconvert_exporter": "python",
   "pygments_lexer": "ipython3",
   "version": "3.10.9"
  }
 },
 "nbformat": 4,
 "nbformat_minor": 5
}
