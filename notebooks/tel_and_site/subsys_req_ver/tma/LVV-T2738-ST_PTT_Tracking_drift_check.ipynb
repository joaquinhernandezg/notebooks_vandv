{
 "cells": [
  {
   "cell_type": "markdown",
   "metadata": {},
   "source": [
    "## StarTracker Tracking drift check - 15-Mar-23\n",
    "\n",
    "HyeYun Park - checking calibrated ra and dec during tracking"
   ]
  },
  {
   "cell_type": "code",
   "execution_count": null,
   "metadata": {
    "tags": []
   },
   "outputs": [],
   "source": [
    "import pandas as pd\n",
    "import matplotlib.pyplot as plt\n",
    "import numpy as np\n",
    "from astropy.time import Time, TimeDelta\n",
    "from astropy.coordinates import AltAz, ICRS, EarthLocation, Angle, FK5, SkyCoord\n",
    "import astropy.units as u\n",
    "import time\n",
    "from datetime import datetime\n",
    "from matplotlib.ticker import (MultipleLocator,\n",
    "                               FormatStrFormatter,\n",
    "                               AutoMinorLocator)"
   ]
  },
  {
   "cell_type": "code",
   "execution_count": null,
   "metadata": {
    "tags": []
   },
   "outputs": [],
   "source": [
    "# function to read in the metadata that has been downloaded\n",
    "def read_rubintv(fname):\n",
    "    df = pd.read_json(fname).T\n",
    "    df = df.dropna()\n",
    "    times = df[['UTC','UTC wide']]\n",
    "    \n",
    "    df = df.drop(columns=['UTC','UTC wide'])\n",
    "    df = df.astype(float)\n",
    "    \n",
    "    # set time vectors\n",
    "    timenew = (today+'T'+ times['UTC'].to_numpy()).astype(np.datetime64)\n",
    "    timenew2= (today+'T'+ times['UTC wide'].to_numpy()).astype(np.datetime64)\n",
    "    \n",
    "    df['UTC'] = pd.Series(timenew, index=df.index)\n",
    "    df['UTC wide'] = pd.Series(timenew2, index=df.index)\n",
    "    df['seq_num'] = df.index\n",
    "    \n",
    "    return df"
   ]
  },
  {
   "cell_type": "code",
   "execution_count": null,
   "metadata": {
    "tags": []
   },
   "outputs": [],
   "source": [
    "# read in dataframe\n",
    "today = '2023-03-09'\n",
    "fname = '~/data/startracker_%s.json'%today\n",
    "df = read_rubintv(fname)"
   ]
  },
  {
   "cell_type": "code",
   "execution_count": null,
   "metadata": {
    "tags": []
   },
   "outputs": [],
   "source": [
    "time = Time(df['MJD'], format='mjd', scale='utc')"
   ]
  },
  {
   "cell_type": "code",
   "execution_count": null,
   "metadata": {
    "tags": []
   },
   "outputs": [],
   "source": [
    "data = df.iloc[:].reset_index() "
   ]
  },
  {
   "cell_type": "code",
   "execution_count": null,
   "metadata": {
    "tags": []
   },
   "outputs": [],
   "source": [
    "#plotting whole range of calculated ra narrow and ra wide in the file.\n",
    "\n",
    "fig, (ax1, ax2) = plt.subplots(2,1, figsize=(5,10))\n",
    "ax1.plot(data.index,data['Calculated Ra'],color='lightgrey')\n",
    "ax1.scatter(data.index, data['Calculated Ra'], cmap='tab20_r')\n",
    "\n",
    "ax1.set_ylabel('Ra narrow', fontsize=16)\n",
    "ax1.set_xlabel('Seq Number', fontsize=16)\n",
    "\n",
    "ax2.plot(data.index,data['Calculated Ra wide'],color='lightgrey')\n",
    "ax2.scatter(data.index, data['Calculated Ra wide'], cmap='tab20_r')\n",
    "\n",
    "ax2.set_ylabel('Ra wide', fontsize=16)\n",
    "ax2.set_xlabel('Seq Number', fontsize=16)\n"
   ]
  },
  {
   "cell_type": "code",
   "execution_count": null,
   "metadata": {
    "tags": []
   },
   "outputs": [],
   "source": [
    "#plotting ra and dec vs time with linear fit \n",
    "def ra_dec_time_plot(data, start_seq, end_seq):\n",
    "    #Selecting range of seq number of one tracking\n",
    "    tracking_seq_number_start=start_seq\n",
    "    tracking_seq_number_end=end_seq\n",
    "    calculated_ra=data['Calculated Ra'][tracking_seq_number_start:tracking_seq_number_end]\n",
    "    calculated_dec=data['Calculated Dec'][tracking_seq_number_start:tracking_seq_number_end]\n",
    "    time_mjd=Time(data['MJD'][tracking_seq_number_start:tracking_seq_number_end], format='mjd', scale='utc')\n",
    "    time_mjd.format='fits'\n",
    "    date=time_mjd.strftime('%Y %b %d')[0]\n",
    "    time_time=time_mjd.strftime('%H:%M:%S') #%d %b %Y')\n",
    "    time_mjd.format='mjd'\n",
    "    time_float=time_mjd.to_value('mjd', 'float')\n",
    "    \n",
    "    #making linear fit for ra vs time, dec vs time\n",
    "    coef= np.polyfit(np.array(time_float), np.array(calculated_ra), 1)\n",
    "    poly1d_fn = np.poly1d(coef) \n",
    "    slope=coef[0] * 1/24 * 1/60 * 1/60\n",
    "    coef_dec=np.polyfit(np.array(time_float), np.array(calculated_dec), 1)\n",
    "    poly1d_fn_dec=np.poly1d(coef_dec) \n",
    "    slope_dec=coef_dec[0] * 1/24 * 1/60 * 1/60\n",
    "    \n",
    "    \n",
    "    #plotting\n",
    "    plt.set_loglevel('WARNING')\n",
    "    fig, (ax1, ax2,ax3) = plt.subplots(3,1, figsize=(10,25))\n",
    "    #fig.subplots_adjust(wspace=0.)\n",
    "\n",
    "    ax1.scatter(np.array(time_time),np.array(calculated_ra),  s=25)\n",
    "    ax2.scatter(np.array(time_time),np.array(calculated_dec), s=25)\n",
    "\n",
    "    ax1.set_ylabel('Calculated Ra',fontsize=14)\n",
    "    ax1.set_xlabel('Time (utc)',fontsize=14)\n",
    "    ax1.xaxis.set_major_locator(plt.MaxNLocator(15))\n",
    "    ax1.plot(np.array(time_time), poly1d_fn(np.array(time_float)), '--k')\n",
    "    #ax1.set_ylim(np.min(calculated_ra)-0.001,np.max(calculated_ra)+0.001)\n",
    "    ax1.tick_params(axis='x', labelrotation=30)\n",
    "    ax1.text(x=time_time[len(time_time)//5], y=np.median(calculated_ra), s=\"slope=%.4e (deg/sec)\"%slope, bbox=dict(facecolor='white', alpha=0.5))\n",
    "    ax1.yaxis.set_major_formatter(FormatStrFormatter('%.4f'))\n",
    "    \n",
    "    ax2.set_ylabel('Calculated Dec',fontsize=14)\n",
    "    ax2.set_xlabel('Time (utc)',fontsize=14)\n",
    "    ax2.xaxis.set_major_locator(plt.MaxNLocator(15))\n",
    "    ax2.plot(np.array(time_time), poly1d_fn_dec(np.array(time_float)), '--k')\n",
    "    ax2.tick_params(axis='x', labelrotation=30)\n",
    "    ax2.text(x=time_time[len(time_time)//5], y=np.max(calculated_dec), s=\"slope=%.4e (deg/sec)\"%slope_dec, bbox=dict(facecolor='white', alpha=0.5))\n",
    "    ax2.yaxis.set_major_formatter(FormatStrFormatter('%.4f'))\n",
    "    \n",
    "    ax3.plot(np.array(calculated_ra), np.array(calculated_dec))\n",
    "    ax3.scatter(np.array(calculated_ra), np.array(calculated_dec), color='r')\n",
    "    ax3.set_ylabel('Calculated Dec',fontsize=14)\n",
    "    ax3.set_xlabel('Calculated Ra',fontsize=14)\n",
    "    ax3.yaxis.set_major_formatter(FormatStrFormatter('%.4f'))\n",
    "    ax3.xaxis.set_major_formatter(FormatStrFormatter('%.4f'))\n",
    "    fig.suptitle(f'Calculated Ra&Dec {date}, seq num {start_seq}~{end_seq} ',fontsize=16)\n",
    "    plt.show()\n"
   ]
  },
  {
   "cell_type": "markdown",
   "metadata": {},
   "source": [
    "picking the seq number based on the night log \n",
    "https://confluence.lsstcorp.org/display/LSSTCOM/23.03.09+StarTracker+Night+Log"
   ]
  },
  {
   "cell_type": "code",
   "execution_count": null,
   "metadata": {
    "tags": []
   },
   "outputs": [],
   "source": [
    "ra_dec_time_plot(data,2,112)"
   ]
  },
  {
   "cell_type": "code",
   "execution_count": null,
   "metadata": {
    "tags": []
   },
   "outputs": [],
   "source": [
    "#for seq number 113~230\n",
    "ra_dec_time_plot(data,113,230)"
   ]
  },
  {
   "cell_type": "code",
   "execution_count": null,
   "metadata": {
    "tags": []
   },
   "outputs": [],
   "source": [
    "#for seq number 249~573\n",
    "ra_dec_time_plot(data,249,573)"
   ]
  },
  {
   "cell_type": "code",
   "execution_count": null,
   "metadata": {},
   "outputs": [],
   "source": []
  }
 ],
 "metadata": {
  "kernelspec": {
   "display_name": "LSST",
   "language": "python",
   "name": "lsst"
  },
  "language_info": {
   "codemirror_mode": {
    "name": "ipython",
    "version": 3
   },
   "file_extension": ".py",
   "mimetype": "text/x-python",
   "name": "python",
   "nbconvert_exporter": "python",
   "pygments_lexer": "ipython3",
   "version": "3.10.9"
  }
 },
 "nbformat": 4,
 "nbformat_minor": 4
}
