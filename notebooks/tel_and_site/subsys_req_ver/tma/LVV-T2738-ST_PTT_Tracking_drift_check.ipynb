{
 "cells": [
  {
   "cell_type": "markdown",
   "metadata": {},
   "source": [
    "## StarTracker Tracking drift check - 15-Mar-23\n",
    "\n",
    "HyeYun Park - checking calibrated ra and dec during tracking"
   ]
  },
  {
   "cell_type": "code",
   "execution_count": null,
   "metadata": {
    "tags": []
   },
   "outputs": [],
   "source": [
    "import pandas as pd\n",
    "import matplotlib.pyplot as plt\n",
    "import numpy as np\n",
    "from astropy.time import Time, TimeDelta\n",
    "from astropy.coordinates import AltAz, ICRS, EarthLocation, Angle, FK5, SkyCoord\n",
    "import astropy.units as u"
   ]
  },
  {
   "cell_type": "code",
   "execution_count": null,
   "metadata": {
    "tags": []
   },
   "outputs": [],
   "source": [
    "# function to read in the metadata that has been downloaded\n",
    "def read_rubintv(fname):\n",
    "    df = pd.read_json(fname).T\n",
    "    df = df.dropna()\n",
    "    times = df[['UTC','UTC wide']]\n",
    "    \n",
    "    df = df.drop(columns=['UTC','UTC wide'])\n",
    "    df = df.astype(float)\n",
    "    \n",
    "    # set time vectors\n",
    "    timenew = (today+'T'+ times['UTC'].to_numpy()).astype(np.datetime64)\n",
    "    timenew2= (today+'T'+ times['UTC wide'].to_numpy()).astype(np.datetime64)\n",
    "    \n",
    "    df['UTC'] = pd.Series(timenew, index=df.index)\n",
    "    df['UTC wide'] = pd.Series(timenew2, index=df.index)\n",
    "    df['seq_num'] = df.index\n",
    "    \n",
    "    return df"
   ]
  },
  {
   "cell_type": "code",
   "execution_count": null,
   "metadata": {
    "tags": []
   },
   "outputs": [],
   "source": [
    "# read in dataframe\n",
    "today = '2023-03-09'\n",
    "fname = '~/data/startracker_%s.json'%today\n",
    "df = read_rubintv(fname)"
   ]
  },
  {
   "cell_type": "code",
   "execution_count": null,
   "metadata": {
    "tags": []
   },
   "outputs": [],
   "source": [
    "df.columns"
   ]
  },
  {
   "cell_type": "code",
   "execution_count": null,
   "metadata": {
    "tags": []
   },
   "outputs": [],
   "source": [
    "df['Calculated Dec']*u.deg"
   ]
  },
  {
   "cell_type": "code",
   "execution_count": null,
   "metadata": {},
   "outputs": [],
   "source": [
    "df['Calculated Dec wide']*u.deg"
   ]
  },
  {
   "cell_type": "code",
   "execution_count": null,
   "metadata": {
    "tags": []
   },
   "outputs": [],
   "source": [
    "df['MJD']"
   ]
  },
  {
   "cell_type": "code",
   "execution_count": null,
   "metadata": {
    "tags": []
   },
   "outputs": [],
   "source": [
    "time = Time(df['MJD'], format='mjd', scale='utc')"
   ]
  },
  {
   "cell_type": "code",
   "execution_count": null,
   "metadata": {
    "tags": []
   },
   "outputs": [],
   "source": [
    "data = df.iloc[:].reset_index() "
   ]
  },
  {
   "cell_type": "code",
   "execution_count": null,
   "metadata": {
    "tags": []
   },
   "outputs": [],
   "source": [
    "data['Calculated Ra wide'].plot(color='lightgray')\n",
    "plt.scatter(data.index, data['Calculated Ra wide'], cmap='tab20_r')\n",
    "\n",
    "plt.ylabel('Ra', fontsize=16)\n",
    "plt.xlabel('Seq Number', fontsize=16)\n",
    "plt.savefig('pointing_ra.png',dpi=100)"
   ]
  },
  {
   "cell_type": "code",
   "execution_count": null,
   "metadata": {
    "tags": []
   },
   "outputs": [],
   "source": [
    "tracking_seq_number_start=2 #113 #249\n",
    "tracking_seq_number_end=112 #230 #573\n",
    "calculated_ra=data['Calculated Ra'][tracking_seq_number_start:tracking_seq_number_end]\n",
    "calculated_dec=data['Calculated Dec'][tracking_seq_number_start:tracking_seq_number_end]\n",
    "time_mjd=Time(data['MJD'][tracking_seq_number_start:tracking_seq_number_end], format='mjd', scale='utc')"
   ]
  },
  {
   "cell_type": "code",
   "execution_count": null,
   "metadata": {
    "tags": []
   },
   "outputs": [],
   "source": [
    "print (time_mjd.utc[0])"
   ]
  },
  {
   "cell_type": "code",
   "execution_count": null,
   "metadata": {
    "tags": []
   },
   "outputs": [],
   "source": [
    "print (time_mjd[0])"
   ]
  },
  {
   "cell_type": "code",
   "execution_count": null,
   "metadata": {
    "tags": []
   },
   "outputs": [],
   "source": [
    "time_mjd.format='fits'"
   ]
  },
  {
   "cell_type": "code",
   "execution_count": null,
   "metadata": {
    "tags": []
   },
   "outputs": [],
   "source": [
    "date=time_mjd.strftime('%Y %b %d')[0]\n",
    "time=time_mjd.strftime('%H:%M:%S') #%d %b %Y')"
   ]
  },
  {
   "cell_type": "code",
   "execution_count": null,
   "metadata": {
    "tags": []
   },
   "outputs": [],
   "source": [
    "time_mjd.format='mjd'"
   ]
  },
  {
   "cell_type": "code",
   "execution_count": null,
   "metadata": {
    "tags": []
   },
   "outputs": [],
   "source": [
    "time_float=time_mjd.to_value('mjd', 'float')"
   ]
  },
  {
   "cell_type": "code",
   "execution_count": null,
   "metadata": {
    "tags": []
   },
   "outputs": [],
   "source": [
    "coef= np.polyfit(np.array(time_float), np.array(calculated_ra), 1)\n",
    "poly1d_fn = np.poly1d(coef) \n",
    "coef_dec=np.polyfit(np.array(time_float), np.array(calculated_dec), 1)\n",
    "poly1d_fn_dec=np.poly1d(coef_dec) "
   ]
  },
  {
   "cell_type": "code",
   "execution_count": null,
   "metadata": {
    "tags": []
   },
   "outputs": [],
   "source": [
    "fig, (ax1, ax2,ax3) = plt.subplots(3,1, figsize=(10,20))\n",
    "fig.subplots_adjust(wspace=0.)\n",
    "\n",
    "ax1.scatter(np.array(time),np.array(calculated_ra),  s=25)\n",
    "ax2.scatter(np.array(time),np.array(calculated_dec), s=25)\n",
    "\n",
    "ax1.set_ylabel('Calculated Ra',fontsize=14)\n",
    "ax1.set_xlabel('Time (utc)',fontsize=14)\n",
    "ax1.xaxis.set_major_locator(plt.MaxNLocator(10))\n",
    "ax1.plot(np.array(time), poly1d_fn(np.array(time_float)), '--k')\n",
    "#ax1.set_ylim(np.min(calculated_ra)-0.001,np.max(calculated_ra)+0.001)\n",
    "ax1.tick_params(axis='x', labelrotation=30)\n",
    "\n",
    "ax2.set_ylabel('Calculated Dec',fontsize=14)\n",
    "ax2.set_xlabel('Time (utc)',fontsize=14)\n",
    "ax2.xaxis.set_major_locator(plt.MaxNLocator(10))\n",
    "ax2.plot(np.array(time), poly1d_fn_dec(np.array(time_float)), '--k')\n",
    "ax2.tick_params(axis='x', labelrotation=30)\n",
    "#ax2.set_ylim(np.min(calculated_dec)-0.001,np.max(calculated_dec)+0.001)\n",
    "\n",
    "ax3.plot(np.array(calculated_ra), np.array(calculated_dec))\n",
    "ax3.scatter(np.array(calculated_ra), np.array(calculated_dec), color='r')\n",
    "ax3.set_ylabel('Calculated Dec',fontsize=14)\n",
    "ax3.set_xlabel('Calculated Ra',fontsize=14)\n",
    "\n",
    "fig.suptitle('Calculated Ra&Dec %s'%date,fontsize=16)\n",
    "\n"
   ]
  },
  {
   "cell_type": "code",
   "execution_count": null,
   "metadata": {
    "tags": []
   },
   "outputs": [],
   "source": [
    "df.columns"
   ]
  },
  {
   "cell_type": "code",
   "execution_count": null,
   "metadata": {},
   "outputs": [],
   "source": []
  }
 ],
 "metadata": {
  "kernelspec": {
   "display_name": "LSST",
   "language": "python",
   "name": "lsst"
  },
  "language_info": {
   "codemirror_mode": {
    "name": "ipython",
    "version": 3
   },
   "file_extension": ".py",
   "mimetype": "text/x-python",
   "name": "python",
   "nbconvert_exporter": "python",
   "pygments_lexer": "ipython3",
   "version": "3.10.9"
  }
 },
 "nbformat": 4,
 "nbformat_minor": 4
}
