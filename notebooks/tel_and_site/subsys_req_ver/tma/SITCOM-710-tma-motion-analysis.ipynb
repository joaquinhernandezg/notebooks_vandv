{
 "cells": [
  {
   "cell_type": "code",
   "execution_count": 1,
   "id": "ef4f079a-9fc5-422f-b9e5-a1dad8422b60",
   "metadata": {
    "execution": {
     "iopub.execute_input": "2023-09-08T18:51:39.647810Z",
     "iopub.status.busy": "2023-09-08T18:51:39.647675Z",
     "iopub.status.idle": "2023-09-08T18:51:42.790547Z",
     "shell.execute_reply": "2023-09-08T18:51:42.790105Z",
     "shell.execute_reply.started": "2023-09-08T18:51:39.647797Z"
    },
    "tags": []
   },
   "outputs": [
    {
     "data": {
      "text/html": [
       "<pre style=\"margin: 0.1em;\n",
       "padding-left: 0.25em;\n",
       "border-left-style: solid;\n",
       "font-family: var(--jp-code-font-family);\n",
       "font-size: var(--jp-code-font-size);\n",
       "line-height: var(--jp-code-line-height);\n",
       "\"><span style=\"color: var(--jp-warn-color2)\">lsst.ts.utils.tai</span> <span style=\"color: var(--jp-info-color0)\">INFO</span>: Update leap second table</pre>"
      ],
      "text/plain": [
       "<IPython.core.display.HTML object>"
      ]
     },
     "metadata": {},
     "output_type": "display_data"
    },
    {
     "data": {
      "text/html": [
       "<pre style=\"margin: 0.1em;\n",
       "padding-left: 0.25em;\n",
       "border-left-style: solid;\n",
       "font-family: var(--jp-code-font-family);\n",
       "font-size: var(--jp-code-font-size);\n",
       "line-height: var(--jp-code-line-height);\n",
       "\"><span style=\"color: var(--jp-warn-color2)\">lsst.ts.utils.tai</span> <span style=\"color: var(--jp-info-color0)\">INFO</span>: current_tai uses the system TAI clock</pre>"
      ],
      "text/plain": [
       "<IPython.core.display.HTML object>"
      ]
     },
     "metadata": {},
     "output_type": "display_data"
    }
   ],
   "source": [
    "import time\n",
    "import numpy as np\n",
    "import scipy as sp\n",
    "import matplotlib.pyplot as plt\n",
    "import pandas as pd\n",
    "from scipy.interpolate import UnivariateSpline\n",
    "from scipy.interpolate import interp1d\n",
    "from scipy.signal import find_peaks\n",
    "from scipy.signal import savgol_filter\n",
    "\n",
    "%matplotlib inline\n",
    "\n",
    "from astropy.time import Time, TimeDelta\n",
    "# import astropy.units as u\n",
    "\n",
    "from lsst.summit.utils.tmaUtils import TMAEventMaker, getSlewsFromEventList\n",
    "from lsst.summit.utils.efdUtils import makeEfdClient, getEfdData\n",
    "from lsst.sitcom.vandv.mount import get_slew_from_mtmount, get_slew_pairs\n",
    "\n",
    "from lsst.sitcom import vandv\n",
    "from lsst_efd_client import EfdClient"
   ]
  },
  {
   "cell_type": "code",
   "execution_count": 2,
   "id": "a4c939d8-1e2f-4192-831d-5ab3787c0e59",
   "metadata": {
    "execution": {
     "iopub.execute_input": "2023-09-08T18:51:42.792611Z",
     "iopub.status.busy": "2023-09-08T18:51:42.792475Z",
     "iopub.status.idle": "2023-09-08T18:51:42.794730Z",
     "shell.execute_reply": "2023-09-08T18:51:42.794350Z",
     "shell.execute_reply.started": "2023-09-08T18:51:42.792597Z"
    },
    "tags": []
   },
   "outputs": [],
   "source": [
    "# imports that might be useful later but not currently\n",
    "# import sys, os, asyncio, glob\n",
    "# from datetime import datetime\n",
    "# import subprocess\n",
    "# import pickle as pkl"
   ]
  },
  {
   "cell_type": "code",
   "execution_count": 3,
   "id": "e17aaaf1-c751-44b1-a1d7-07f42ae61aa5",
   "metadata": {
    "execution": {
     "iopub.execute_input": "2023-09-08T18:51:42.795417Z",
     "iopub.status.busy": "2023-09-08T18:51:42.795283Z",
     "iopub.status.idle": "2023-09-08T18:51:42.806271Z",
     "shell.execute_reply": "2023-09-08T18:51:42.805864Z",
     "shell.execute_reply.started": "2023-09-08T18:51:42.795404Z"
    },
    "tags": []
   },
   "outputs": [],
   "source": [
    "def get_univariate_splines(times, positions, velocities, interpPoints, kernel, smoothingFactor):\n",
    "    try:\n",
    "        posSpline = UnivariateSpline(times, position, s=0)\n",
    "    except:\n",
    "        #if there are duplicate time measurements remove them  (this occured on \n",
    "        # 23/11/22-23 and 21-22)\n",
    "        times, indexes=np.unique(times, return_index=True)\n",
    "        positions=positions[indexes]\n",
    "        velocities=velocities[indexes]\n",
    "        \n",
    "        posSpline = UnivariateSpline(times, positions, s=0)\n",
    "        velSpline1  = UnivariateSpline(times, velocities, s=0) \n",
    "            \n",
    "    # Now smooth the derivative before differentiating again\n",
    "    smoothedVel = np.convolve(velSpline1(interpPoints), kernel, mode='same')\n",
    "    velSpline = UnivariateSpline(interpPoints, smoothedVel, s=smoothingFactor)\n",
    "    accSpline1 = velSpline.derivative(n=1)\n",
    "    smoothedAcc = np.convolve(accSpline1(interpPoints), kernel, mode='same')\n",
    "    # Now smooth the derivative before differentiating again\n",
    "    accSpline = UnivariateSpline(interpPoints, smoothedAcc, s=smoothingFactor)\n",
    "    jerkSpline = accSpline.derivative(n=1)\n",
    "    return posSpline(interpPoints), velSpline(interpPoints), accSpline(interpPoints), jerkSpline(interpPoints)"
   ]
  },
  {
   "cell_type": "code",
   "execution_count": 4,
   "id": "e0685520-2504-4b7c-a300-c940794cbd24",
   "metadata": {
    "execution": {
     "iopub.execute_input": "2023-09-08T18:51:42.806991Z",
     "iopub.status.busy": "2023-09-08T18:51:42.806825Z",
     "iopub.status.idle": "2023-09-08T18:51:42.812642Z",
     "shell.execute_reply": "2023-09-08T18:51:42.812240Z",
     "shell.execute_reply.started": "2023-09-08T18:51:42.806977Z"
    },
    "tags": []
   },
   "outputs": [],
   "source": [
    "# define the savgol filter first\n",
    "def savgolFilter(times, positions,interpPoints, window=200, deriv=1, smoothingFactor = 0.01): \n",
    "    positionSpline = UnivariateSpline(times, positions, s=smoothingFactor)(interpPoints) \n",
    "    derivativePoints = savgol_filter(positionSpline, window_length=window, mode=\"mirror\",\n",
    "                                    deriv=deriv, polyorder=3, delta=(interpPoints[1]-interpPoints[0])) \n",
    "    return derivativePoints#interp1d(times,derivativePoints)(interpPoints)\n",
    "\n",
    "def get_savgol_splines(times, positions, interpPoints):\n",
    "    posSpline = UnivariateSpline(times, positions, s=0)(interpPoints)\n",
    "    velSpline = savgolFilter(times, positions, interpPoints, window=200, deriv=1, smoothingFactor=0.01)\n",
    "    accSpline = savgolFilter(times, positions, interpPoints, window=200, deriv=2, smoothingFactor=0.01)\n",
    "    jerkSpline = savgolFilter(times, positions, interpPoints, window=200, deriv=3, smoothingFactor=0.01)\n",
    "    return posSpline, velSpline, accSpline, jerkSpline"
   ]
  },
  {
   "cell_type": "code",
   "execution_count": 5,
   "id": "f75edcff-2c7b-4e35-926c-ccde32b75002",
   "metadata": {
    "execution": {
     "iopub.execute_input": "2023-09-08T18:51:42.813532Z",
     "iopub.status.busy": "2023-09-08T18:51:42.813211Z",
     "iopub.status.idle": "2023-09-08T18:51:42.818231Z",
     "shell.execute_reply": "2023-09-08T18:51:42.817834Z",
     "shell.execute_reply.started": "2023-09-08T18:51:42.813517Z"
    },
    "tags": []
   },
   "outputs": [],
   "source": [
    "def get_spline_frame(dayObs, index, spline_method, fullAzTimestamp, fullElTimestamp, az_position, az_velocity, el_position, el_velocity):\n",
    "    npoints = int(np.max([np.round((fullAzTimestamp[-1]-fullAzTimestamp[0])/0.01/1e3,0)*1e3, 4000])) # clarify what this is doing\n",
    "    plotAzXs = np.linspace(fullAzTimestamp[0], fullAzTimestamp[-1], npoints)\n",
    "    plotElXs = np.linspace(fullElTimestamp[0], fullElTimestamp[-1], npoints)\n",
    "    \n",
    "    kernel_size = len(fullAzTimestamp)\n",
    "    kernel = np.ones(kernel_size)/kernel_size\n",
    "    s = 0 # smoothing factor\n",
    "    \n",
    "    if spline_method == \"spline\":\n",
    "        # input: times, positions, velocities, interpPoints, kernel, smoothing factor\n",
    "        azPosSpline, azVelSpline, azAccSpline, azJerkSpline = get_univariate_splines(fullAzTimestamp, az_position, az_velocity, plotAzXs, kernel, s) \n",
    "        elPosSpline, elVelSpline, elAccSpline, elJerkSpline = get_univariate_splines(fullElTimestamp, el_position, el_velocity, plotElXs, kernel, s)\n",
    "    elif spline_method == \"savgol\":\n",
    "        azPosSpline, azVelSpline, azAccSpline, azJerkSpline = get_savgol_splines(fullAzTimestamp, az_position, plotAzXs)\n",
    "        elPosSpline, elVelSpline, elAccSpline, elJerkSpline = get_savgol_splines(fullElTimestamp, el_position, plotElXs)\n",
    "    else:\n",
    "        assert False, spline_method + \" is not a valid spline method. Use either \\\"spline\\\" or \\\"savgol\\\".\"\n",
    "    \n",
    "    # try replacing az_timestamp.values[0] with fullAzTimestamp[0]\n",
    "    spline_frame=pd.DataFrame({\n",
    "                \"slew_index\":index,\n",
    "                \"day\":dayObs, # TO-DO: confirm this is correct usage. Is another format necessary?\n",
    "                \"azZeroTime\":fullAzTimestamp.values[0],\n",
    "                \"elZeroTime\":fullElTimestamp.values[0],\n",
    "                \"azTime\":plotAzXs,\n",
    "                \"azPosition\":azPosSpline,\n",
    "                \"azVelocity\":azVelSpline,          \n",
    "                \"azAcceleration\":azAccSpline,\n",
    "                \"azJerk\":azJerkSpline,\n",
    "                \"elTime\":plotElXs,\n",
    "                \"elPosition\":elPosSpline,\n",
    "                \"elVelocity\":elVelSpline,          \n",
    "                \"elAcceleration\":elAccSpline,\n",
    "                \"elJerk\":elJerkSpline}\n",
    "    )\n",
    "    \n",
    "    return spline_frame"
   ]
  },
  {
   "cell_type": "code",
   "execution_count": 6,
   "id": "3812c02f-c915-447e-b7f1-835edae8f47b",
   "metadata": {
    "execution": {
     "iopub.execute_input": "2023-09-08T18:51:42.818906Z",
     "iopub.status.busy": "2023-09-08T18:51:42.818765Z",
     "iopub.status.idle": "2023-09-08T18:51:43.278318Z",
     "shell.execute_reply": "2023-09-08T18:51:43.277788Z",
     "shell.execute_reply.started": "2023-09-08T18:51:42.818889Z"
    },
    "tags": []
   },
   "outputs": [],
   "source": [
    "# define start and end date for the query\n",
    "# TO-DO: actually implement this in the query\n",
    "t_start = Time(\"2023-06-02T03:20:00\")\n",
    "t_end =  Time(\"2023-06-02T10:00:00\")\n",
    "\n",
    "# generate the client that will interact with the EFD\n",
    "client = EfdClient('usdf_efd')"
   ]
  },
  {
   "cell_type": "raw",
   "id": "12636213-51b5-47f3-bd66-ea9439ac9100",
   "metadata": {
    "tags": []
   },
   "source": [
    "# query parameters (stolen from max_slew_rates notebook for now)\n",
    "query_duration = 24 # hours\n",
    "slew_identification = 1 # reccomended 1 use log events to identify slews\n",
    "fit_method = \"splines\"\n",
    "force = False\n",
    "\n",
    "date_min=59876 # this takes you to begining of november 2022\n",
    "date_max=60033.0\n",
    "mjds=np.arange(date_max,date_min, -1)\n",
    "days=[Time(i, format='mjd', scale=\"utc\").iso[:10] for i in mjds]"
   ]
  },
  {
   "cell_type": "raw",
   "id": "33f76459-4e9f-47ec-8942-4e628ebb4267",
   "metadata": {
    "tags": []
   },
   "source": [
    "# to only run quieries on the days with known data uncomment this portion\n",
    "days=[\n",
    "   # '2022-11-03',\n",
    "   #  '2022-11-09',\n",
    "   #  '2022-11-10',\n",
    "   #  '2022-11-21',\n",
    "   #  '2022-11-22',\n",
    "   #  '2022-11-24',\n",
    "    '2023-01-30',\n",
    "    '2023-01-31',\n",
    "    '2023-03-15',\n",
    "    '2023-03-16',\n",
    "    '2023-03-17',\n",
    "    '2023-03-20',\n",
    "    '2023-03-21',\n",
    "    '2023-03-22',\n",
    "    '2023-03-23',\n",
    "    '2023-03-24',\n",
    "    '2023-03-27',\n",
    "    '2023-03-28',]"
   ]
  },
  {
   "cell_type": "markdown",
   "id": "f0598173-be2e-41e8-ba24-355539771535",
   "metadata": {},
   "source": [
    "Identify the slews using Merlin's summit_utils"
   ]
  },
  {
   "cell_type": "code",
   "execution_count": 7,
   "id": "1175b030-ef6b-4844-adea-5bea3b22d893",
   "metadata": {
    "execution": {
     "iopub.execute_input": "2023-09-08T18:51:43.279310Z",
     "iopub.status.busy": "2023-09-08T18:51:43.279163Z",
     "iopub.status.idle": "2023-09-08T18:52:34.022309Z",
     "shell.execute_reply": "2023-09-08T18:52:34.021736Z",
     "shell.execute_reply.started": "2023-09-08T18:51:43.279296Z"
    },
    "tags": []
   },
   "outputs": [
    {
     "data": {
      "text/html": [
       "<pre style=\"margin: 0.1em;\n",
       "padding-left: 0.25em;\n",
       "border-left-style: solid;\n",
       "font-family: var(--jp-code-font-family);\n",
       "font-size: var(--jp-code-font-size);\n",
       "line-height: var(--jp-code-line-height);\n",
       "\"><span style=\"color: var(--jp-warn-color2)\">lsst.summit.utils.tmaUtils</span> <span style=\"color: var(--jp-info-color0)\">INFO</span>: Retrieving mount data for 20230621 from the EFD</pre>"
      ],
      "text/plain": [
       "<IPython.core.display.HTML object>"
      ]
     },
     "metadata": {},
     "output_type": "display_data"
    },
    {
     "name": "stdout",
     "output_type": "stream",
     "text": [
      "Found 53 events for day=20230621\n",
      "Found 47 slews for day=20230621\n",
      "done: length of data is 178\n",
      "done: length of data is 507\n",
      "done: length of data is 784\n",
      "done: length of data is 25875\n",
      "done: length of data is 547\n",
      "done: length of data is 2077\n",
      "done: length of data is 559\n",
      "done: length of data is 1685\n",
      "done: length of data is 172\n",
      "done: length of data is 440\n",
      "done: length of data is 14616\n",
      "done: length of data is 14390\n",
      "done: length of data is 29611\n",
      "done: length of data is 29527\n",
      "done: length of data is 29613\n",
      "done: length of data is 27959\n",
      "done: length of data is 1674\n"
     ]
    },
    {
     "data": {
      "text/html": [
       "<pre style=\"margin: 0.1em;\n",
       "padding-left: 0.25em;\n",
       "border-left-style: solid;\n",
       "font-family: var(--jp-code-font-family);\n",
       "font-size: var(--jp-code-font-size);\n",
       "line-height: var(--jp-code-line-height);\n",
       "\"><span style=\"color: var(--jp-warn-color2)\">lsst.summit.utils.efdUtils</span> <span style=\"color: var(--jp-warn-color0)\">WARNING</span>: Topic lsst.sal.MTMount.azimuth is in the schema, but no data was returned by the query for the specified time range</pre>"
      ],
      "text/plain": [
       "<IPython.core.display.HTML object>"
      ]
     },
     "metadata": {},
     "output_type": "display_data"
    },
    {
     "data": {
      "text/html": [
       "<pre style=\"margin: 0.1em;\n",
       "padding-left: 0.25em;\n",
       "border-left-style: solid;\n",
       "font-family: var(--jp-code-font-family);\n",
       "font-size: var(--jp-code-font-size);\n",
       "line-height: var(--jp-code-line-height);\n",
       "\"><span style=\"color: var(--jp-warn-color2)\">lsst.summit.utils.efdUtils</span> <span style=\"color: var(--jp-warn-color0)\">WARNING</span>: Topic lsst.sal.MTMount.elevation is in the schema, but no data was returned by the query for the specified time range</pre>"
      ],
      "text/plain": [
       "<IPython.core.display.HTML object>"
      ]
     },
     "metadata": {},
     "output_type": "display_data"
    },
    {
     "data": {
      "text/html": [
       "<pre style=\"margin: 0.1em;\n",
       "padding-left: 0.25em;\n",
       "border-left-style: solid;\n",
       "font-family: var(--jp-code-font-family);\n",
       "font-size: var(--jp-code-font-size);\n",
       "line-height: var(--jp-code-line-height);\n",
       "\"><span style=\"color: var(--jp-warn-color2)\">lsst.summit.utils.efdUtils</span> <span style=\"color: var(--jp-warn-color0)\">WARNING</span>: Topic lsst.sal.MTMount.azimuth is in the schema, but no data was returned by the query for the specified time range</pre>"
      ],
      "text/plain": [
       "<IPython.core.display.HTML object>"
      ]
     },
     "metadata": {},
     "output_type": "display_data"
    },
    {
     "data": {
      "text/html": [
       "<pre style=\"margin: 0.1em;\n",
       "padding-left: 0.25em;\n",
       "border-left-style: solid;\n",
       "font-family: var(--jp-code-font-family);\n",
       "font-size: var(--jp-code-font-size);\n",
       "line-height: var(--jp-code-line-height);\n",
       "\"><span style=\"color: var(--jp-warn-color2)\">lsst.summit.utils.efdUtils</span> <span style=\"color: var(--jp-warn-color0)\">WARNING</span>: Topic lsst.sal.MTMount.elevation is in the schema, but no data was returned by the query for the specified time range</pre>"
      ],
      "text/plain": [
       "<IPython.core.display.HTML object>"
      ]
     },
     "metadata": {},
     "output_type": "display_data"
    },
    {
     "name": "stdout",
     "output_type": "stream",
     "text": [
      "done: length of data is 335\n",
      "done: length of data is 698\n",
      "done: length of data is 601\n",
      "done: length of data is 457\n",
      "done: length of data is 2792\n"
     ]
    },
    {
     "data": {
      "text/html": [
       "<pre style=\"margin: 0.1em;\n",
       "padding-left: 0.25em;\n",
       "border-left-style: solid;\n",
       "font-family: var(--jp-code-font-family);\n",
       "font-size: var(--jp-code-font-size);\n",
       "line-height: var(--jp-code-line-height);\n",
       "\"><span style=\"color: var(--jp-warn-color2)\">lsst.summit.utils.efdUtils</span> <span style=\"color: var(--jp-warn-color0)\">WARNING</span>: Topic lsst.sal.MTMount.azimuth is in the schema, but no data was returned by the query for the specified time range</pre>"
      ],
      "text/plain": [
       "<IPython.core.display.HTML object>"
      ]
     },
     "metadata": {},
     "output_type": "display_data"
    },
    {
     "data": {
      "text/html": [
       "<pre style=\"margin: 0.1em;\n",
       "padding-left: 0.25em;\n",
       "border-left-style: solid;\n",
       "font-family: var(--jp-code-font-family);\n",
       "font-size: var(--jp-code-font-size);\n",
       "line-height: var(--jp-code-line-height);\n",
       "\"><span style=\"color: var(--jp-warn-color2)\">lsst.summit.utils.efdUtils</span> <span style=\"color: var(--jp-warn-color0)\">WARNING</span>: Topic lsst.sal.MTMount.elevation is in the schema, but no data was returned by the query for the specified time range</pre>"
      ],
      "text/plain": [
       "<IPython.core.display.HTML object>"
      ]
     },
     "metadata": {},
     "output_type": "display_data"
    },
    {
     "data": {
      "text/html": [
       "<pre style=\"margin: 0.1em;\n",
       "padding-left: 0.25em;\n",
       "border-left-style: solid;\n",
       "font-family: var(--jp-code-font-family);\n",
       "font-size: var(--jp-code-font-size);\n",
       "line-height: var(--jp-code-line-height);\n",
       "\"><span style=\"color: var(--jp-warn-color2)\">lsst.summit.utils.efdUtils</span> <span style=\"color: var(--jp-warn-color0)\">WARNING</span>: Topic lsst.sal.MTMount.azimuth is in the schema, but no data was returned by the query for the specified time range</pre>"
      ],
      "text/plain": [
       "<IPython.core.display.HTML object>"
      ]
     },
     "metadata": {},
     "output_type": "display_data"
    },
    {
     "data": {
      "text/html": [
       "<pre style=\"margin: 0.1em;\n",
       "padding-left: 0.25em;\n",
       "border-left-style: solid;\n",
       "font-family: var(--jp-code-font-family);\n",
       "font-size: var(--jp-code-font-size);\n",
       "line-height: var(--jp-code-line-height);\n",
       "\"><span style=\"color: var(--jp-warn-color2)\">lsst.summit.utils.efdUtils</span> <span style=\"color: var(--jp-warn-color0)\">WARNING</span>: Topic lsst.sal.MTMount.elevation is in the schema, but no data was returned by the query for the specified time range</pre>"
      ],
      "text/plain": [
       "<IPython.core.display.HTML object>"
      ]
     },
     "metadata": {},
     "output_type": "display_data"
    },
    {
     "name": "stdout",
     "output_type": "stream",
     "text": [
      "done: length of data is 420\n",
      "done: length of data is 691\n",
      "done: length of data is 682\n",
      "done: length of data is 3810\n",
      "done: length of data is 29433\n",
      "done: length of data is 29466\n",
      "done: length of data is 29628\n",
      "done: length of data is 29611\n",
      "done: length of data is 2003\n"
     ]
    },
    {
     "data": {
      "text/html": [
       "<pre style=\"margin: 0.1em;\n",
       "padding-left: 0.25em;\n",
       "border-left-style: solid;\n",
       "font-family: var(--jp-code-font-family);\n",
       "font-size: var(--jp-code-font-size);\n",
       "line-height: var(--jp-code-line-height);\n",
       "\"><span style=\"color: var(--jp-warn-color2)\">lsst.summit.utils.efdUtils</span> <span style=\"color: var(--jp-warn-color0)\">WARNING</span>: Topic lsst.sal.MTMount.azimuth is in the schema, but no data was returned by the query for the specified time range</pre>"
      ],
      "text/plain": [
       "<IPython.core.display.HTML object>"
      ]
     },
     "metadata": {},
     "output_type": "display_data"
    },
    {
     "data": {
      "text/html": [
       "<pre style=\"margin: 0.1em;\n",
       "padding-left: 0.25em;\n",
       "border-left-style: solid;\n",
       "font-family: var(--jp-code-font-family);\n",
       "font-size: var(--jp-code-font-size);\n",
       "line-height: var(--jp-code-line-height);\n",
       "\"><span style=\"color: var(--jp-warn-color2)\">lsst.summit.utils.efdUtils</span> <span style=\"color: var(--jp-warn-color0)\">WARNING</span>: Topic lsst.sal.MTMount.elevation is in the schema, but no data was returned by the query for the specified time range</pre>"
      ],
      "text/plain": [
       "<IPython.core.display.HTML object>"
      ]
     },
     "metadata": {},
     "output_type": "display_data"
    },
    {
     "data": {
      "text/html": [
       "<pre style=\"margin: 0.1em;\n",
       "padding-left: 0.25em;\n",
       "border-left-style: solid;\n",
       "font-family: var(--jp-code-font-family);\n",
       "font-size: var(--jp-code-font-size);\n",
       "line-height: var(--jp-code-line-height);\n",
       "\"><span style=\"color: var(--jp-warn-color2)\">lsst.summit.utils.efdUtils</span> <span style=\"color: var(--jp-warn-color0)\">WARNING</span>: Topic lsst.sal.MTMount.azimuth is in the schema, but no data was returned by the query for the specified time range</pre>"
      ],
      "text/plain": [
       "<IPython.core.display.HTML object>"
      ]
     },
     "metadata": {},
     "output_type": "display_data"
    },
    {
     "data": {
      "text/html": [
       "<pre style=\"margin: 0.1em;\n",
       "padding-left: 0.25em;\n",
       "border-left-style: solid;\n",
       "font-family: var(--jp-code-font-family);\n",
       "font-size: var(--jp-code-font-size);\n",
       "line-height: var(--jp-code-line-height);\n",
       "\"><span style=\"color: var(--jp-warn-color2)\">lsst.summit.utils.efdUtils</span> <span style=\"color: var(--jp-warn-color0)\">WARNING</span>: Topic lsst.sal.MTMount.elevation is in the schema, but no data was returned by the query for the specified time range</pre>"
      ],
      "text/plain": [
       "<IPython.core.display.HTML object>"
      ]
     },
     "metadata": {},
     "output_type": "display_data"
    },
    {
     "name": "stdout",
     "output_type": "stream",
     "text": [
      "done: length of data is 485\n",
      "done: length of data is 689\n",
      "done: length of data is 770\n",
      "done: length of data is 2545\n",
      "done: length of data is 172\n",
      "done: length of data is 444\n",
      "done: length of data is 472\n",
      "done: length of data is 168\n",
      "done: length of data is 524\n",
      "done: length of data is 29438\n"
     ]
    }
   ],
   "source": [
    "# TO-DO: add ways to offer a range of time to look using these tools\n",
    "\n",
    "# create a list for multiple days\n",
    "days = [\n",
    "    20230621\n",
    "    # 20230622,\n",
    "    # 20230623,\n",
    "    # 20230627,\n",
    "    # 20230628,\n",
    "    # 20230629]\n",
    "]\n",
    "\n",
    "# why does 20230620 raise block ID errors?\n",
    "\n",
    "eventMaker = TMAEventMaker()\n",
    "# replace client with eventMaker.client()\n",
    "\n",
    "topic_az = \"lsst.sal.MTMount.azimuth\"\n",
    "topic_el = \"lsst.sal.MTMount.elevation\"\n",
    "\n",
    "spline_frame = pd.DataFrame()\n",
    "\n",
    "# query for all days\n",
    "for day in days:\n",
    "    dayEvents = eventMaker.getEvents(day)\n",
    "    print(f'Found {len(dayEvents)} events for {day=}')\n",
    "    \n",
    "    # filter only slew events from the event list\n",
    "    slew_events = getSlewsFromEventList(dayEvents)\n",
    "    print(f'Found {len(slew_events)} slews for {day=}')\n",
    "    \n",
    "    for i in range(len(slew_events)):\n",
    "        data_az = getEfdData(client, topic_az, event=slew_events[i])\n",
    "        data_el = getEfdData(client, topic_el, event=slew_events[i])\n",
    "        \n",
    "        # only pull data from slew event if the event has data\n",
    "        if data_az.shape[0] != 0:\n",
    "        \n",
    "            az_position = data_az[\"actualPosition\"]\n",
    "            az_velocity = data_az[\"actualVelocity\"]\n",
    "            az_timestamp = data_az[\"timestamp\"]\n",
    "            # az_timestamp_relative = az_timestamp - az_timestamp[0]\n",
    "\n",
    "            el_position = data_el[\"actualPosition\"]\n",
    "            el_velocity = data_el[\"actualVelocity\"]\n",
    "            el_timestamp = data_el[\"timestamp\"]\n",
    "            # el_timestamp_relative = el_timestamp - el_timestamp[0]\n",
    "            print('done: length of data is ' + str(len(az_position)))\n",
    "\n",
    "            spline_frame_single = get_spline_frame(day, i, \"spline\", az_timestamp, el_timestamp, az_position, az_velocity, el_position, el_velocity)\n",
    "            spline_frame = pd.concat([spline_frame, spline_frame_single], ignore_index=False) #True"
   ]
  },
  {
   "cell_type": "code",
   "execution_count": 8,
   "id": "308be377-466c-4d56-a8e8-f45e5cf6e9f3",
   "metadata": {
    "execution": {
     "iopub.execute_input": "2023-09-08T18:52:34.023177Z",
     "iopub.status.busy": "2023-09-08T18:52:34.023004Z",
     "iopub.status.idle": "2023-09-08T18:52:34.036072Z",
     "shell.execute_reply": "2023-09-08T18:52:34.035623Z",
     "shell.execute_reply.started": "2023-09-08T18:52:34.023163Z"
    },
    "tags": []
   },
   "outputs": [
    {
     "name": "stdout",
     "output_type": "stream",
     "text": [
      "Shape of final frame: (2129000, 14)\n",
      "      slew_index       day    azZeroTime    elZeroTime        azTime   \n",
      "0              2  20230621  1.687389e+09  1.687389e+09  1.687389e+09  \\\n",
      "1              2  20230621  1.687389e+09  1.687389e+09  1.687389e+09   \n",
      "2              2  20230621  1.687389e+09  1.687389e+09  1.687389e+09   \n",
      "3              2  20230621  1.687389e+09  1.687389e+09  1.687389e+09   \n",
      "4              2  20230621  1.687389e+09  1.687389e+09  1.687389e+09   \n",
      "...          ...       ...           ...           ...           ...   \n",
      "4995           2  20230621  1.687389e+09  1.687389e+09  1.687389e+09   \n",
      "4996           2  20230621  1.687389e+09  1.687389e+09  1.687389e+09   \n",
      "4997           2  20230621  1.687389e+09  1.687389e+09  1.687389e+09   \n",
      "4998           2  20230621  1.687389e+09  1.687389e+09  1.687389e+09   \n",
      "4999           2  20230621  1.687389e+09  1.687389e+09  1.687389e+09   \n",
      "\n",
      "      azPosition  azVelocity  azAcceleration        azJerk        elTime   \n",
      "0     151.913587    0.011532    4.704242e-07 -2.377310e-06  1.687389e+09  \\\n",
      "1     151.913587    0.011531    4.317337e-07 -5.113108e-06  1.687389e+09   \n",
      "2     151.913587    0.011531    3.846611e-07 -4.134185e-06  1.687389e+09   \n",
      "3     151.913587    0.011531    3.556110e-07 -2.283306e-06  1.687389e+09   \n",
      "4     151.913586    0.011531    3.399196e-07 -7.995380e-07  1.687389e+09   \n",
      "...          ...         ...             ...           ...           ...   \n",
      "4995  152.000000   -0.000020    8.786153e-07  4.823933e-06  1.687389e+09   \n",
      "4996  152.000000   -0.000020    9.233195e-07  4.503956e-06  1.687389e+09   \n",
      "4997  152.000000   -0.000019    9.643165e-07  4.105013e-06  1.687389e+09   \n",
      "4998  152.000000   -0.000019    1.001848e-06  3.765818e-06  1.687389e+09   \n",
      "4999  152.000000   -0.000019    1.036262e-06  3.451455e-06  1.687389e+09   \n",
      "\n",
      "      elPosition  elVelocity  elAcceleration    elJerk  \n",
      "0      88.314218   -0.019180       -0.003342 -0.000899  \n",
      "1      88.314218   -0.019242       -0.003350 -0.000901  \n",
      "2      88.314217   -0.019304       -0.003359 -0.000898  \n",
      "3      88.314217   -0.019366       -0.003367 -0.000895  \n",
      "4      88.314217   -0.019428       -0.003376 -0.000894  \n",
      "...          ...         ...             ...       ...  \n",
      "4995   86.000391   -0.021546        0.003383 -0.000859  \n",
      "4996   86.000370   -0.021481        0.003375 -0.000863  \n",
      "4997   86.000349   -0.021417        0.003366 -0.000866  \n",
      "4998   86.000329   -0.021352        0.003358 -0.000869  \n",
      "4999   86.000309   -0.021288        0.003350 -0.000873  \n",
      "\n",
      "[5000 rows x 14 columns]\n"
     ]
    }
   ],
   "source": [
    "print(\"Shape of final frame: \" + str(spline_frame.shape))\n",
    "# print(spline_frame)\n",
    "spline_test = spline_frame.loc[((spline_frame['day']==20230621) & (spline_frame['slew_index']==2))]\n",
    "print(spline_test)"
   ]
  },
  {
   "cell_type": "markdown",
   "id": "7ddedcb5-a14a-4229-aee7-34956110e1cb",
   "metadata": {},
   "source": [
    "Identify maxmimum kinematic values and compare to values expected in current system design"
   ]
  },
  {
   "cell_type": "code",
   "execution_count": 9,
   "id": "85405199-cced-4d6d-8faa-b1b94aad4570",
   "metadata": {
    "execution": {
     "iopub.execute_input": "2023-09-08T18:52:34.036821Z",
     "iopub.status.busy": "2023-09-08T18:52:34.036675Z",
     "iopub.status.idle": "2023-09-08T18:52:34.343221Z",
     "shell.execute_reply": "2023-09-08T18:52:34.342638Z",
     "shell.execute_reply.started": "2023-09-08T18:52:34.036807Z"
    },
    "tags": []
   },
   "outputs": [],
   "source": [
    "slew_num = []\n",
    "day_num = []\n",
    "slew_time = [] # final time\n",
    "\n",
    "az_vel_max = []\n",
    "el_vel_max = []\n",
    "\n",
    "az_acc_max = []\n",
    "el_acc_max = []\n",
    "\n",
    "az_jerk_max = []\n",
    "el_jerk_max = []\n",
    "\n",
    "for i in np.unique(spline_frame['day']):\n",
    "    slew_day = (spline_frame['day']==i) # list of booleans for when day is equal to i\n",
    "    for j in np.unique(spline_frame['slew_index'][slew_day]):\n",
    "        slew_id = slew_day & (spline_frame['slew_index']==j)\n",
    "        \n",
    "        az_vel_max.append(abs(spline_frame.loc[slew_id,\"azVelocity\"]).max())\n",
    "        el_vel_max.append(abs(spline_frame.loc[slew_id,\"elVelocity\"]).max())\n",
    "        \n",
    "        az_acc_max.append(abs(spline_frame.loc[slew_id,\"azAcceleration\"]).max())\n",
    "        el_acc_max.append(abs(spline_frame.loc[slew_id,\"elAcceleration\"]).max())\n",
    "\n",
    "        az_jerk_max.append(abs(spline_frame.loc[slew_id,\"azJerk\"]).max())\n",
    "        el_jerk_max.append(abs(spline_frame.loc[slew_id,\"elJerk\"]).max())\n",
    "        \n",
    "        slew_num.append(j)\n",
    "        day_num.append(i)\n",
    "        \n",
    "        slew_time.append(np.max([spline_frame.loc[slew_id,\"azTime\"].max(),spline_frame.loc[slew_id,\"elTime\"].max()]))\n",
    "\n",
    "max_frame=pd.DataFrame({\n",
    "    \"day\":day_num,\n",
    "    \"slew\":slew_num,\n",
    "    \"az_vel\":az_vel_max,\n",
    "    \"az_acc\":az_acc_max,\n",
    "    \"az_jerk\":az_jerk_max,\n",
    "    \"el_vel\":el_vel_max,\n",
    "    \"el_acc\":el_acc_max,\n",
    "    \"el_jerk\":el_jerk_max})"
   ]
  },
  {
   "cell_type": "markdown",
   "id": "f3a43cc6-1938-41e7-a172-ef7ab8a4e16b",
   "metadata": {},
   "source": [
    "Graphs Galore"
   ]
  },
  {
   "cell_type": "code",
   "execution_count": 10,
   "id": "8359d3ca-ff27-42ad-8191-c23c0b9e05ec",
   "metadata": {
    "execution": {
     "iopub.execute_input": "2023-09-08T18:52:34.344129Z",
     "iopub.status.busy": "2023-09-08T18:52:34.343957Z",
     "iopub.status.idle": "2023-09-08T18:52:34.350305Z",
     "shell.execute_reply": "2023-09-08T18:52:34.349851Z",
     "shell.execute_reply.started": "2023-09-08T18:52:34.344108Z"
    },
    "tags": []
   },
   "outputs": [],
   "source": [
    "# generate histograms for max slews\n",
    "def plot_max_hist(spline_frame, limitsBool):\n",
    "\n",
    "    fig,axs = plt.subplots(3, 2, dpi=175, figsize=(10,5), sharex=False)\n",
    "    plt.subplots_adjust(wspace=0.3, hspace=0.5)\n",
    "    # TO-DO: add start time and date to title\n",
    "    plt.suptitle(\"Maximums\", fontsize = 14)\n",
    "\n",
    "    # make it easier to change variables across subplots\n",
    "    velbins=np.linspace(0, 1, 100)\n",
    "    accbins=np.linspace(0, 1, 100)\n",
    "    jerkbins=np.linspace(0, 2, 100)\n",
    "    \n",
    "    plt.subplot(3,2,1)\n",
    "    plt.hist(max_frame[\"az_vel\"], color=\"tab:blue\", bins=velbins)\n",
    "    plt.title(f\"Azimuth\")\n",
    "    plt.ylabel(\"Velcoity Count\")\n",
    "\n",
    "    plt.subplot(3,2,2)\n",
    "    plt.hist(max_frame[\"el_vel\"], color=\"tab:blue\", bins=velbins)\n",
    "    plt.title(f\"Elevation\")\n",
    "\n",
    "    plt.subplot(3,2,3)\n",
    "    plt.hist(max_frame[\"az_acc\"], color=\"tab:blue\", bins=accbins)\n",
    "    if limitsBool == True:\n",
    "        plotAzDesignlim(\"design_velocity\", \"max_velocity\", azRelativeTimes[0], azRelativeTimes.iloc[[-1]], design_color, max_color)\n",
    "    plt.ylabel(\"Acceleration Count\")\n",
    "\n",
    "    plt.subplot(3,2,4)\n",
    "    plt.hist(max_frame[\"el_acc\"], color=\"tab:blue\", bins=accbins)\n",
    "    if limitsBool == True:\n",
    "        plotElDesignlim(\"design_velocity\", \"max_velocity\", elRelativeTimes[0], elRelativeTimes.iloc[[-1]], design_color, max_color)\n",
    "\n",
    "    plt.subplot(3,2,5)\n",
    "    plt.hist(max_frame[\"az_jerk\"], color=\"tab:blue\", bins=jerkbins)\n",
    "    if limitsBool == True:\n",
    "        plotAzDesignlim(\"design_acceleration\", \"max_acceleration\", azRelativeTimes[0], azRelativeTimes.iloc[[-1]], design_color, max_color)\n",
    "    plt.ylabel(\"Jerk Count\")\n",
    "\n",
    "    plt.subplot(3,2,6)\n",
    "    plt.hist(max_frame[\"az_jerk\"], color=\"tab:blue\", bins=jerkbins)\n",
    "    if limitsBool == True:\n",
    "        plotElDesignlim(\"design_acceleration\", \"max_acceleration\", elRelativeTimes[0], elRelativeTimes.iloc[[-1]], design_color, max_color)\n",
    "\n",
    "    plt.show()"
   ]
  },
  {
   "cell_type": "code",
   "execution_count": 11,
   "id": "5c078819-f919-4a40-a366-f5d64e18e8d6",
   "metadata": {
    "execution": {
     "iopub.execute_input": "2023-09-08T18:52:34.351097Z",
     "iopub.status.busy": "2023-09-08T18:52:34.350954Z",
     "iopub.status.idle": "2023-09-08T18:52:34.449115Z",
     "shell.execute_reply": "2023-09-08T18:52:34.448348Z",
     "shell.execute_reply.started": "2023-09-08T18:52:34.351084Z"
    },
    "tags": []
   },
   "outputs": [
    {
     "ename": "NameError",
     "evalue": "name 'slew_spline' is not defined",
     "output_type": "error",
     "traceback": [
      "\u001b[0;31m---------------------------------------------------------------------------\u001b[0m",
      "\u001b[0;31mNameError\u001b[0m                                 Traceback (most recent call last)",
      "Input \u001b[0;32mIn [11]\u001b[0m, in \u001b[0;36m<cell line: 1>\u001b[0;34m()\u001b[0m\n\u001b[0;32m----> 1\u001b[0m plot_max_hist(\u001b[43mslew_spline\u001b[49m, \u001b[38;5;28;01mFalse\u001b[39;00m)\n",
      "\u001b[0;31mNameError\u001b[0m: name 'slew_spline' is not defined"
     ]
    }
   ],
   "source": [
    "plot_max_hist(slew_spline, False)"
   ]
  },
  {
   "cell_type": "code",
   "execution_count": null,
   "id": "455cb13d-8baa-4b7f-aa20-38be9530083f",
   "metadata": {
    "execution": {
     "iopub.status.busy": "2023-09-08T18:52:34.449613Z",
     "iopub.status.idle": "2023-09-08T18:52:34.449801Z",
     "shell.execute_reply": "2023-09-08T18:52:34.449713Z",
     "shell.execute_reply.started": "2023-09-08T18:52:34.449704Z"
    },
    "jupyter": {
     "source_hidden": true
    },
    "tags": []
   },
   "outputs": [],
   "source": [
    "# define limits from science requirements document for plotting\n",
    "# units in deg/s - deg/s^2 - deg/s^3\n",
    "el_limit_dict={\n",
    "    \"max_velocity\": 5.25,\n",
    "    \"max_acceleration\": 5.25,\n",
    "    \"max_jerk\": 21,\n",
    "    \"design_velocity\": 3.5,\n",
    "    \"design_acceleration\": 3.5,\n",
    "    \"design_jerk\": 14,\n",
    "}\n",
    "az_limit_dict={\n",
    "    \"max_velocity\": 10.5,\n",
    "    \"max_acceleration\": 10.5,\n",
    "    \"max_jerk\": 42,\n",
    "    \"design_velocity\": 7,\n",
    "    \"design_acceleration\": 7,\n",
    "    \"design_jerk\": 28,\n",
    "}"
   ]
  },
  {
   "cell_type": "code",
   "execution_count": null,
   "id": "1ce061f5-e617-4b16-a02f-415b20b0f536",
   "metadata": {
    "execution": {
     "iopub.status.busy": "2023-09-08T18:52:34.450554Z",
     "iopub.status.idle": "2023-09-08T18:52:34.450731Z",
     "shell.execute_reply": "2023-09-08T18:52:34.450648Z",
     "shell.execute_reply.started": "2023-09-08T18:52:34.450639Z"
    },
    "jupyter": {
     "source_hidden": true
    },
    "tags": []
   },
   "outputs": [],
   "source": [
    "# define functions to add limits to slew profile for neatness\n",
    "def plotAzDesignlim(design_input, max_input, xmin, xmax, design_color, max_color):\n",
    "    plt.hlines(az_limit_dict[design_input], xmin=xmin, xmax=xmax, color = design_color)\n",
    "    plt.hlines(-az_limit_dict[design_input], xmin=xmin, xmax=xmax, color = design_color)\n",
    "    plt.hlines(az_limit_dict[max_input], xmin=xmin, xmax=xmax, color = max_color)\n",
    "    plt.hlines(-az_limit_dict[max_input], xmin=xmin, xmax=xmax, color = max_color)\n",
    "    \n",
    "def plotElDesignlim(design_input, max_input, xmin, xmax, design_color, max_color):\n",
    "    plt.hlines(el_limit_dict[design_input], xmin=xmin, xmax=xmax, color = design_color)\n",
    "    plt.hlines(-el_limit_dict[design_input], xmin=xmin, xmax=xmax, color = design_color)\n",
    "    plt.hlines(el_limit_dict[max_input], xmin=xmin, xmax=xmax, color = max_color)\n",
    "    plt.hlines(-el_limit_dict[max_input], xmin=xmin, xmax=xmax, color = max_color)"
   ]
  },
  {
   "cell_type": "code",
   "execution_count": null,
   "id": "4852e78a-885d-4ef1-89e3-34b41412b8c4",
   "metadata": {
    "execution": {
     "iopub.status.busy": "2023-09-08T18:52:34.451179Z",
     "iopub.status.idle": "2023-09-08T18:52:34.451359Z",
     "shell.execute_reply": "2023-09-08T18:52:34.451274Z",
     "shell.execute_reply.started": "2023-09-08T18:52:34.451266Z"
    },
    "tags": []
   },
   "outputs": [],
   "source": [
    "# pick a slew to show a single slew motion analysis\n",
    "# loc[((df['col1'] == 'A') & (df['col2'] == 'G'))]\n",
    "slew_spline = spline_frame.loc[((spline_frame['day']==20230621) & (spline_frame['slew_index']==2))]\n",
    "print(slew_spline)"
   ]
  },
  {
   "cell_type": "code",
   "execution_count": null,
   "id": "c5598ea8-f766-4661-9242-995501696303",
   "metadata": {
    "execution": {
     "iopub.status.busy": "2023-09-08T18:52:34.451994Z",
     "iopub.status.idle": "2023-09-08T18:52:34.452193Z",
     "shell.execute_reply": "2023-09-08T18:52:34.452093Z",
     "shell.execute_reply.started": "2023-09-08T18:52:34.452084Z"
    },
    "tags": []
   },
   "outputs": [],
   "source": [
    "# Generate plots for a slew profile in both azimuth and elevation\n",
    "# Position, velocity, acceleration, and jerk\n",
    "# limitsBool when set to true adds spec limits to graph\n",
    "# TO-DO: add bool to offer choice between showing plot or saving plot to a file\n",
    "\n",
    "def slew_profile_plot(spline_frame, limitsBool):\n",
    "    # get the relative times for the x-axis\n",
    "    azRelativeTimes = spline_frame['azTime'] - spline_frame['azZeroTime']\n",
    "    elRelativeTimes = spline_frame['elTime'] - spline_frame['elZeroTime']\n",
    "\n",
    "    fig,axs = plt.subplots(4, 2, dpi=175, figsize=(10,5), sharex=True)\n",
    "    plt.subplots_adjust(wspace=0.3, hspace=0.5)\n",
    "    # TO-DO: add start time and date to title\n",
    "    plt.suptitle(\"MT Mount Slew Example\", fontsize = 14)\n",
    "\n",
    "    # make it easier to change variables across subplots\n",
    "    mark = \"x\"\n",
    "    mark_color = \"purple\"\n",
    "    mark_size = 30\n",
    "    line_width = 2\n",
    "    az_color = \"red\"\n",
    "    el_color = \"blue\"\n",
    "    design_color = \"green\"\n",
    "    max_color = \"orange\"\n",
    "    opacity = 0.5\n",
    "    \n",
    "    plt.subplot(4,2,1)\n",
    "    plt.plot(azRelativeTimes, spline_frame['azPosition'], lw=line_width, color=az_color, label='Spline fit')\n",
    "    plt.scatter(azRelativeTimes, spline_frame['azPosition'], marker=mark, color=mark_color,alpha=opacity, s=mark_size, label='Measured points')\n",
    "    plt.title(f\"Azimuth\")\n",
    "    plt.ylabel(\"Degrees\")\n",
    "\n",
    "    plt.subplot(4,2,2)\n",
    "    plt.plot(elRelativeTimes, spline_frame['elPosition'], lw=line_width, color=el_color, label='Spline fit')\n",
    "    plt.scatter(elRelativeTimes, spline_frame['elPosition'], marker=mark, color=mark_color,alpha=opacity, s=mark_size, label='Measured points')\n",
    "    plt.title(f\"Elevation\")\n",
    "\n",
    "    plt.subplot(4,2,3)\n",
    "    plt.plot(azRelativeTimes, spline_frame['azVelocity'], lw=line_width, color=az_color, label='Spline fit')\n",
    "    plt.scatter(azRelativeTimes, spline_frame['azVelocity'], marker=mark, color=mark_color,alpha=opacity, s=mark_size, label='Measured points')\n",
    "    if limitsBool == True:\n",
    "        plotAzDesignlim(\"design_velocity\", \"max_velocity\", azRelativeTimes[0], azRelativeTimes.iloc[[-1]], design_color, max_color)\n",
    "    plt.ylabel(\"Degrees/sec\")\n",
    "\n",
    "    plt.subplot(4,2,4)\n",
    "    plt.plot(elRelativeTimes, spline_frame['elVelocity'], lw=line_width, color=el_color, label='Spline fit')\n",
    "    plt.scatter(elRelativeTimes, spline_frame['elVelocity'], marker=mark, color=mark_color,alpha=opacity, s=mark_size, label='Measured points')\n",
    "    if limitsBool == True:\n",
    "        plotElDesignlim(\"design_velocity\", \"max_velocity\", elRelativeTimes[0], elRelativeTimes.iloc[[-1]], design_color, max_color)\n",
    "\n",
    "    plt.subplot(4,2,5)\n",
    "    plt.plot(azRelativeTimes, spline_frame['azAcceleration'], lw=line_width, color=az_color, label='Spline fit')\n",
    "    if limitsBool == True:\n",
    "        plotAzDesignlim(\"design_acceleration\", \"max_acceleration\", azRelativeTimes[0], azRelativeTimes.iloc[[-1]], design_color, max_color)\n",
    "    plt.ylabel(\"Degrees/sec^2\")\n",
    "\n",
    "    plt.subplot(4,2,6)\n",
    "    plt.plot(elRelativeTimes, spline_frame['elAcceleration'], lw=line_width, color=el_color, label='Spline fit')\n",
    "    if limitsBool == True:\n",
    "        plotElDesignlim(\"design_acceleration\", \"max_acceleration\", elRelativeTimes[0], elRelativeTimes.iloc[[-1]], design_color, max_color)\n",
    "\n",
    "    plt.subplot(4,2,7)\n",
    "    plt.plot(azRelativeTimes, spline_frame['azJerk'], lw=line_width, color=az_color, label='Spline fit')\n",
    "    if limitsBool == True:\n",
    "        plotAzDesignlim(\"design_jerk\", \"max_jerk\", azRelativeTimes[0], azRelativeTimes.iloc[[-1]], design_color, max_color)\n",
    "    plt.ylabel(\"Degrees/sec^3\")\n",
    "\n",
    "    plt.subplot(4,2,8)\n",
    "    plt.plot(elRelativeTimes, spline_frame['elJerk'], lw=line_width, color=el_color, label='Spline fit')\n",
    "    if limitsBool == True:\n",
    "        plotElDesignlim(\"design_jerk\", \"max_jerk\", elRelativeTimes[0], elRelativeTimes.iloc[[-1]], design_color, max_color)\n",
    "\n",
    "    plt.show()"
   ]
  },
  {
   "cell_type": "code",
   "execution_count": null,
   "id": "420831c4-ceda-4b2d-b0a3-1c2fb07aa886",
   "metadata": {
    "execution": {
     "iopub.status.busy": "2023-09-08T18:52:34.452693Z",
     "iopub.status.idle": "2023-09-08T18:52:34.452869Z",
     "shell.execute_reply": "2023-09-08T18:52:34.452787Z",
     "shell.execute_reply.started": "2023-09-08T18:52:34.452778Z"
    },
    "tags": []
   },
   "outputs": [],
   "source": [
    "slew_profile_plot(slew_spline, True)"
   ]
  },
  {
   "cell_type": "code",
   "execution_count": null,
   "id": "ac590f20-840a-4036-8973-c8ff33279f74",
   "metadata": {
    "execution": {
     "iopub.status.busy": "2023-09-08T18:52:34.453503Z",
     "iopub.status.idle": "2023-09-08T18:52:34.453675Z",
     "shell.execute_reply": "2023-09-08T18:52:34.453593Z",
     "shell.execute_reply.started": "2023-09-08T18:52:34.453585Z"
    },
    "tags": []
   },
   "outputs": [],
   "source": [
    "fig.clear()"
   ]
  },
  {
   "cell_type": "code",
   "execution_count": null,
   "id": "98ef799c-1737-4130-9573-62a96d127739",
   "metadata": {
    "execution": {
     "iopub.status.busy": "2023-09-08T18:52:34.454183Z",
     "iopub.status.idle": "2023-09-08T18:52:34.454352Z",
     "shell.execute_reply": "2023-09-08T18:52:34.454272Z",
     "shell.execute_reply.started": "2023-09-08T18:52:34.454264Z"
    },
    "tags": []
   },
   "outputs": [],
   "source": [
    "# create alerts for slews that don't behave. Definition of not behaving tbd. "
   ]
  },
  {
   "cell_type": "code",
   "execution_count": null,
   "id": "6d7a4bed-d4af-4542-99dc-4e5dd26da695",
   "metadata": {},
   "outputs": [],
   "source": []
  }
 ],
 "metadata": {
  "kernelspec": {
   "display_name": "LSST",
   "language": "python",
   "name": "lsst"
  },
  "language_info": {
   "codemirror_mode": {
    "name": "ipython",
    "version": 3
   },
   "file_extension": ".py",
   "mimetype": "text/x-python",
   "name": "python",
   "nbconvert_exporter": "python",
   "pygments_lexer": "ipython3",
   "version": "3.10.10"
  }
 },
 "nbformat": 4,
 "nbformat_minor": 5
}
