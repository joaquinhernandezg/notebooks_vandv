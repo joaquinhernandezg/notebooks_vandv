{
 "cells": [
  {
   "cell_type": "markdown",
   "id": "21d5b16e-712b-4edd-a41d-f43e7cec3a2d",
   "metadata": {},
   "source": [
    "## SITCOM-710: Analysis of TMA velocity, acceleration, and jerk\n",
    "\n",
    "This notebook is designed to analyze the velocity, acceleration, and jerk of TMA slews.\n",
    "\n",
    "Current plots:\n",
    "- The velocity, acceleration, and jerk over the time period of a single slew for both azimuth and elevation\n",
    "- Histogram of maximums (velocity, acceleration, and jerk) of each of the slews within a choosen range of dayObs\n"
   ]
  },
  {
   "cell_type": "code",
   "execution_count": 1,
   "id": "ef4f079a-9fc5-422f-b9e5-a1dad8422b60",
   "metadata": {
    "execution": {
     "iopub.execute_input": "2023-11-13T13:19:41.324688Z",
     "iopub.status.busy": "2023-11-13T13:19:41.324289Z",
     "iopub.status.idle": "2023-11-13T13:19:47.932766Z",
     "shell.execute_reply": "2023-11-13T13:19:47.932186Z",
     "shell.execute_reply.started": "2023-11-13T13:19:41.324674Z"
    },
    "tags": []
   },
   "outputs": [
    {
     "ename": "ModuleNotFoundError",
     "evalue": "No module named 'lsst.ts.criopy.M1M3FATable'",
     "output_type": "error",
     "traceback": [
      "\u001b[0;31m---------------------------------------------------------------------------\u001b[0m",
      "\u001b[0;31mModuleNotFoundError\u001b[0m                       Traceback (most recent call last)",
      "Cell \u001b[0;32mIn[1], line 13\u001b[0m\n\u001b[1;32m     11\u001b[0m \u001b[38;5;28;01mfrom\u001b[39;00m \u001b[38;5;21;01mlsst\u001b[39;00m\u001b[38;5;21;01m.\u001b[39;00m\u001b[38;5;21;01msummit\u001b[39;00m\u001b[38;5;21;01m.\u001b[39;00m\u001b[38;5;21;01mutils\u001b[39;00m\u001b[38;5;21;01m.\u001b[39;00m\u001b[38;5;21;01mtmaUtils\u001b[39;00m \u001b[38;5;28;01mimport\u001b[39;00m TMAEventMaker, getSlewsFromEventList\n\u001b[1;32m     12\u001b[0m \u001b[38;5;28;01mfrom\u001b[39;00m \u001b[38;5;21;01mlsst\u001b[39;00m\u001b[38;5;21;01m.\u001b[39;00m\u001b[38;5;21;01msummit\u001b[39;00m\u001b[38;5;21;01m.\u001b[39;00m\u001b[38;5;21;01mutils\u001b[39;00m\u001b[38;5;21;01m.\u001b[39;00m\u001b[38;5;21;01mefdUtils\u001b[39;00m \u001b[38;5;28;01mimport\u001b[39;00m getEfdData, calcNextDay\n\u001b[0;32m---> 13\u001b[0m \u001b[38;5;28;01mfrom\u001b[39;00m \u001b[38;5;21;01mlsst\u001b[39;00m\u001b[38;5;21;01m.\u001b[39;00m\u001b[38;5;21;01msitcom\u001b[39;00m \u001b[38;5;28;01mimport\u001b[39;00m vandv\n\u001b[1;32m     14\u001b[0m \u001b[38;5;28;01mimport\u001b[39;00m \u001b[38;5;21;01mlsst\u001b[39;00m\u001b[38;5;21;01m.\u001b[39;00m\u001b[38;5;21;01msitcom\u001b[39;00m\u001b[38;5;21;01m.\u001b[39;00m\u001b[38;5;21;01mvandv\u001b[39;00m\u001b[38;5;21;01m.\u001b[39;00m\u001b[38;5;21;01mtma\u001b[39;00m\u001b[38;5;21;01m.\u001b[39;00m\u001b[38;5;21;01msitcom710\u001b[39;00m \u001b[38;5;28;01mas\u001b[39;00m \u001b[38;5;21;01msitcom710\u001b[39;00m\n",
      "File \u001b[0;32m~/u/repos/lsst_sitcom/notebooks_vandv/python/lsst/sitcom/vandv/__init__.py:5\u001b[0m\n\u001b[1;32m      3\u001b[0m \u001b[38;5;28;01mfrom\u001b[39;00m \u001b[38;5;21;01m.\u001b[39;00m \u001b[38;5;28;01mimport\u001b[39;00m hexapod\n\u001b[1;32m      4\u001b[0m \u001b[38;5;28;01mfrom\u001b[39;00m \u001b[38;5;21;01m.\u001b[39;00m \u001b[38;5;28;01mimport\u001b[39;00m logger\n\u001b[0;32m----> 5\u001b[0m \u001b[38;5;28;01mfrom\u001b[39;00m \u001b[38;5;21;01m.\u001b[39;00m \u001b[38;5;28;01mimport\u001b[39;00m m1m3\n\u001b[1;32m      6\u001b[0m \u001b[38;5;28;01mfrom\u001b[39;00m \u001b[38;5;21;01m.\u001b[39;00m \u001b[38;5;28;01mimport\u001b[39;00m m2\n\u001b[1;32m      7\u001b[0m \u001b[38;5;28;01mfrom\u001b[39;00m \u001b[38;5;21;01m.\u001b[39;00m \u001b[38;5;28;01mimport\u001b[39;00m mount\n",
      "File \u001b[0;32m~/u/repos/lsst_sitcom/notebooks_vandv/python/lsst/sitcom/vandv/m1m3.py:11\u001b[0m\n\u001b[1;32m      8\u001b[0m \u001b[38;5;28;01mimport\u001b[39;00m \u001b[38;5;21;01mnumpy\u001b[39;00m \u001b[38;5;28;01mas\u001b[39;00m \u001b[38;5;21;01mnp\u001b[39;00m\n\u001b[1;32m      9\u001b[0m \u001b[38;5;28;01mimport\u001b[39;00m \u001b[38;5;21;01mpandas\u001b[39;00m \u001b[38;5;28;01mas\u001b[39;00m \u001b[38;5;21;01mpd\u001b[39;00m\n\u001b[0;32m---> 11\u001b[0m \u001b[38;5;28;01mfrom\u001b[39;00m \u001b[38;5;21;01mlsst\u001b[39;00m\u001b[38;5;21;01m.\u001b[39;00m\u001b[38;5;21;01mts\u001b[39;00m\u001b[38;5;21;01m.\u001b[39;00m\u001b[38;5;21;01mcriopy\u001b[39;00m\u001b[38;5;21;01m.\u001b[39;00m\u001b[38;5;21;01mM1M3FATable\u001b[39;00m \u001b[38;5;28;01mimport\u001b[39;00m FATABLE\n\u001b[1;32m     13\u001b[0m \u001b[38;5;28;01mfrom\u001b[39;00m \u001b[38;5;21;01m.\u001b[39;00m\u001b[38;5;21;01mefd\u001b[39;00m \u001b[38;5;28;01mimport\u001b[39;00m query_last_n\n\u001b[1;32m     16\u001b[0m \u001b[38;5;28;01mdef\u001b[39;00m \u001b[38;5;21mget_rms\u001b[39m(s):\n",
      "\u001b[0;31mModuleNotFoundError\u001b[0m: No module named 'lsst.ts.criopy.M1M3FATable'"
     ]
    }
   ],
   "source": [
    "import numpy as np\n",
    "import scipy as sp\n",
    "import matplotlib.pyplot as plt\n",
    "import pandas as pd\n",
    "from astropy.time import Time\n",
    "from scipy.interpolate import UnivariateSpline\n",
    "from scipy.interpolate import interp1d\n",
    "from scipy.signal import find_peaks\n",
    "from scipy.signal import savgol_filter\n",
    "\n",
    "from lsst.summit.utils.tmaUtils import TMAEventMaker, getSlewsFromEventList\n",
    "from lsst.summit.utils.efdUtils import getEfdData, calcNextDay\n",
    "from lsst.sitcom import vandv\n",
    "import lsst.sitcom.vandv.tma.sitcom710 as sitcom710"
   ]
  },
  {
   "cell_type": "markdown",
   "id": "67de3d0d-9f48-4a26-8c87-d44fd231a118",
   "metadata": {},
   "source": [
    "## Main Class"
   ]
  },
  {
   "cell_type": "code",
   "execution_count": null,
   "id": "c721ae5f-2766-42ff-ad74-9c31bc558a21",
   "metadata": {
    "tags": []
   },
   "outputs": [],
   "source": []
  },
  {
   "cell_type": "markdown",
   "id": "e6b4e357-871a-48f0-96f3-23a38172e4e6",
   "metadata": {},
   "source": [
    "### Functions for plotting"
   ]
  },
  {
   "cell_type": "code",
   "execution_count": null,
   "id": "8359d3ca-ff27-42ad-8191-c23c0b9e05ec",
   "metadata": {
    "tags": []
   },
   "outputs": [],
   "source": [
    "# generate histograms for max values during slews\n",
    "def plot_max_hist(max_frame, limitsBool, logBool, fit, padding):\n",
    "    padding = str(padding)\n",
    "    num_slews= str(max_frame.shape[0])\n",
    "    design_color = \"green\"\n",
    "    max_color = \"orange\"\n",
    "    \n",
    "    first_day = max_frame['day'].min()\n",
    "    last_day = max_frame['day'].max()\n",
    "\n",
    "    fig,axs = plt.subplots(3, 2, dpi=175, figsize=(10,5), sharex=False)\n",
    "    plt.subplots_adjust(wspace=0.3, hspace=0.5)\n",
    "    if len(np.unique(max_frame['day'])) > 1:\n",
    "        if logBool:\n",
    "            plt.suptitle(f\"Maximums for {first_day} - {last_day} -- Slews: \" + num_slews + \"\\nLog Count -- Fit: \" + fit + \" -- Padding: \" + padding, fontsize = 11)\n",
    "        else:\n",
    "            plt.suptitle(f\"Maximums for {first_day} - {last_day} -- Slews: \" + num_slews + \"\\n Fit: \" + fit + \" -- Padding: \" + padding, fontsize = 14)\n",
    "    else:\n",
    "        if logBool:\n",
    "            plt.suptitle(f\"Maximums for {first_day} -- Slews: \" + num_slews + \"\\nLog Count -- Fit: \" + fit + \" -- Padding: \" + padding, fontsize = 11)\n",
    "        else:\n",
    "            plt.suptitle(f\"Maximums for {first_day} -- Slews: \" + num_slews + \"\\nFit: \" + fit + \" -- Padding: \" + padding, fontsize = 14)\n",
    "\n",
    "    # bins for each type. The middle parameter is based on the max spec limit\n",
    "    velbins = np.linspace(0, az_limit_dict[\"max_velocity\"], 100) \n",
    "    accbins = np.linspace(0, az_limit_dict[\"max_acceleration\"], 100)\n",
    "    jerkbins = np.linspace(0, az_limit_dict[\"max_jerk\"], 100)\n",
    "    \n",
    "    plt.subplot(3,2,1)\n",
    "    plt.hist(max_frame[\"az_vel\"], log=logBool, color=\"tab:blue\", bins=velbins)\n",
    "    if limitsBool:\n",
    "        # only require counts output from plt.hist\n",
    "        counts, bins, patches = plt.hist(max_frame[\"az_vel\"], color=\"tab:blue\", bins=velbins)\n",
    "        plotHistAzDesignLim(\"design_velocity\", \"max_velocity\", 0, np.max(counts), design_color, max_color)\n",
    "    plt.title(f\"Azimuth\")\n",
    "    plt.ylabel(\"Velcoity Count\")\n",
    "    plt.xlabel(\"deg/s\")\n",
    "\n",
    "    plt.subplot(3,2,2)\n",
    "    plt.hist(max_frame[\"el_vel\"], log=logBool, color=\"tab:blue\", bins=velbins)\n",
    "    if limitsBool == True:\n",
    "        counts, bins, patches = plt.hist(max_frame[\"el_vel\"], color=\"tab:blue\", bins=velbins)\n",
    "        plotHistElDesignLim(\"design_velocity\", \"max_velocity\", 0, np.max(counts), design_color, max_color)\n",
    "    plt.title(f\"Elevation\")\n",
    "    plt.xlabel(\"deg/s\")\n",
    "\n",
    "    plt.subplot(3,2,3)\n",
    "    plt.hist(max_frame[\"az_acc\"], log=logBool, color=\"tab:blue\", bins=accbins)\n",
    "    if limitsBool == True:\n",
    "        counts, bins, patches = plt.hist(max_frame[\"az_acc\"], color=\"tab:blue\", bins=accbins)\n",
    "        plotHistAzDesignLim(\"design_acceleration\", \"max_acceleration\", 0, np.max(counts), design_color, max_color)\n",
    "    plt.ylabel(\"Acceleration Count\")\n",
    "    plt.xlabel(\"deg/s^2\")\n",
    "\n",
    "    plt.subplot(3,2,4)\n",
    "    plt.hist(max_frame[\"el_acc\"], log=logBool, color=\"tab:blue\", bins=accbins)\n",
    "    if limitsBool == True:\n",
    "        counts, bins, patches = plt.hist(max_frame[\"el_acc\"], color=\"tab:blue\", bins=accbins)\n",
    "        plotHistElDesignLim(\"design_acceleration\", \"max_acceleration\", 0, np.max(counts), design_color, max_color)\n",
    "    plt.xlabel(\"deg/s^2\")\n",
    "\n",
    "    plt.subplot(3,2,5)\n",
    "    plt.hist(max_frame[\"az_jerk\"], log=logBool, color=\"tab:blue\", bins=jerkbins)\n",
    "    if limitsBool == True:\n",
    "        counts, bins, patches = plt.hist(max_frame[\"az_jerk\"], color=\"tab:blue\", bins=jerkbins)\n",
    "        plotHistAzDesignLim(\"design_jerk\", \"max_jerk\", 0, np.max(counts), design_color, max_color)\n",
    "    plt.ylabel(\"Jerk Count\")\n",
    "    plt.xlabel(\"deg/s^3\")\n",
    "\n",
    "    plt.subplot(3,2,6)\n",
    "    plt.hist(max_frame[\"el_jerk\"], log=logBool, color=\"tab:blue\", bins=jerkbins)\n",
    "    if limitsBool == True:\n",
    "        counts, bins, patches = plt.hist(max_frame[\"el_jerk\"], color=\"tab:blue\", bins=jerkbins)\n",
    "        plotHistElDesignLim(\"design_jerk\", \"max_jerk\", 0, np.max(counts), design_color, max_color)\n",
    "    plt.xlabel(\"deg/s^3\")\n",
    "\n",
    "    plt.show()"
   ]
  },
  {
   "cell_type": "code",
   "execution_count": null,
   "id": "1ce061f5-e617-4b16-a02f-415b20b0f536",
   "metadata": {
    "tags": []
   },
   "outputs": [],
   "source": [
    "# define functions to add limits to slew profile for neatness\n",
    "def plotAzDesignlim(design_input, max_input, xmin, xmax, design_color, max_color):\n",
    "    plt.hlines(az_limit_dict[design_input], xmin=xmin, xmax=xmax, color = design_color)\n",
    "    plt.hlines(-az_limit_dict[design_input], xmin=xmin, xmax=xmax, color = design_color)\n",
    "    plt.hlines(az_limit_dict[max_input], xmin=xmin, xmax=xmax, color = max_color)\n",
    "    plt.hlines(-az_limit_dict[max_input], xmin=xmin, xmax=xmax, color = max_color)\n",
    "    \n",
    "def plotElDesignlim(design_input, max_input, xmin, xmax, design_color, max_color):\n",
    "    plt.hlines(el_limit_dict[design_input], xmin=xmin, xmax=xmax, color = design_color)\n",
    "    plt.hlines(-el_limit_dict[design_input], xmin=xmin, xmax=xmax, color = design_color)\n",
    "    plt.hlines(el_limit_dict[max_input], xmin=xmin, xmax=xmax, color = max_color)\n",
    "    plt.hlines(-el_limit_dict[max_input], xmin=xmin, xmax=xmax, color = max_color)\n",
    "\n",
    "def plotHistAzDesignLim(design_input, max_input, ymin, ymax, design_color, max_color):\n",
    "    plt.vlines(az_limit_dict[design_input], ymin=ymin, ymax=ymax, color = design_color)\n",
    "    plt.vlines(az_limit_dict[max_input], ymin=ymin, ymax=ymax, color = max_color)\n",
    "    \n",
    "def plotHistElDesignLim(design_input, max_input, ymin, ymax, design_color, max_color):\n",
    "    plt.vlines(el_limit_dict[design_input], ymin=ymin, ymax=ymax, color = design_color)\n",
    "    plt.vlines(el_limit_dict[max_input], ymin=ymin, ymax=ymax, color = max_color)"
   ]
  },
  {
   "cell_type": "code",
   "execution_count": null,
   "id": "c5598ea8-f766-4661-9242-995501696303",
   "metadata": {
    "tags": []
   },
   "outputs": [],
   "source": [
    "# Generate plots for a slew profile in both azimuth and elevation\n",
    "# for position, velocity, acceleration, and jerk\n",
    "# limitsBool when set to true adds spec limits to graphs\n",
    "# TO-DO: add bool to offer choice between showing plot or saving plot to a file\n",
    "# TO-DO: add legend to indicate fit data vs real data\n",
    "\n",
    "def slew_profile_plot(spline_frame, dayObs, slew_index, limitsBool):\n",
    "    # create a spline frame for a single slew\n",
    "    slew_frame = spline_frame.loc[((spline_frame['day']==dayObs) & (spline_frame['slew_index']==slew_index))]\n",
    "    \n",
    "    if len(slew_frame) == 0:\n",
    "        assert False, f\"There is no data for slew {slew_index} of dayObs {dayObs}\"\n",
    "    \n",
    "    # format time used in the title\n",
    "    title_time = Time(slew_frame['azZeroTime'].iloc[[0]], format = 'unix').iso\n",
    "    \n",
    "    # get the relative times for the x-axis\n",
    "    azRelativeTimes = slew_frame['azTime'] - slew_frame['azZeroTime']\n",
    "    elRelativeTimes = slew_frame['elTime'] - slew_frame['elZeroTime']\n",
    "\n",
    "    fig,axs = plt.subplots(4, 2, dpi=175, figsize=(10,5), sharex=True)\n",
    "    plt.subplots_adjust(wspace=0.3, hspace=0.5)\n",
    "    plt.suptitle(f\"TMA Slew Number {slew_index} \\n Time: {title_time}\", fontsize = 12, y = 1.00)\n",
    "\n",
    "    # make it easier to change variables across subplots\n",
    "    mark = \"x\"\n",
    "    mark_color = \"purple\"\n",
    "    mark_size = 30\n",
    "    line_width = 2\n",
    "    az_color = \"red\"\n",
    "    el_color = \"blue\"\n",
    "    design_color = \"green\"\n",
    "    max_color = \"orange\"\n",
    "    opacity = 0.5\n",
    "    \n",
    "    plt.subplot(4,2,1)\n",
    "    plt.plot(azRelativeTimes, slew_frame['azPosition'], lw=line_width, color=az_color, label='Spline fit')\n",
    "    plt.scatter(azRelativeTimes, slew_frame['azPosition'], marker=mark, color=mark_color,alpha=opacity, s=mark_size, label='Measured points')\n",
    "    plt.title(f\"Azimuth\")\n",
    "    plt.ylabel(\"Degrees\")\n",
    "\n",
    "    plt.subplot(4,2,2)\n",
    "    plt.plot(elRelativeTimes, slew_frame['elPosition'], lw=line_width, color=el_color, label='Spline fit')\n",
    "    plt.scatter(elRelativeTimes, slew_frame['elPosition'], marker=mark, color=mark_color,alpha=opacity, s=mark_size, label='Measured points')\n",
    "    plt.title(f\"Elevation\")\n",
    "\n",
    "    plt.subplot(4,2,3)\n",
    "    plt.plot(azRelativeTimes, slew_frame['azVelocity'], lw=line_width, color=az_color, label='Spline fit')\n",
    "    plt.scatter(azRelativeTimes, slew_frame['azVelocity'], marker=mark, color=mark_color,alpha=opacity, s=mark_size, label='Measured points')\n",
    "    if limitsBool == True:\n",
    "        plotAzDesignlim(\"design_velocity\", \"max_velocity\", azRelativeTimes.iloc[[0]], azRelativeTimes.iloc[[-1]], design_color, max_color)\n",
    "    plt.ylabel(\"Deg/sec\")\n",
    "\n",
    "    plt.subplot(4,2,4)\n",
    "    plt.plot(elRelativeTimes, slew_frame['elVelocity'], lw=line_width, color=el_color, label='Spline fit')\n",
    "    plt.scatter(elRelativeTimes, slew_frame['elVelocity'], marker=mark, color=mark_color,alpha=opacity, s=mark_size, label='Measured points')\n",
    "    if limitsBool == True:\n",
    "        plotElDesignlim(\"design_velocity\", \"max_velocity\", elRelativeTimes.iloc[[0]], elRelativeTimes.iloc[[-1]], design_color, max_color)\n",
    "\n",
    "    plt.subplot(4,2,5)\n",
    "    plt.plot(azRelativeTimes, slew_frame['azAcceleration'], lw=line_width, color=az_color, label='Spline fit')\n",
    "    if limitsBool == True:\n",
    "        plotAzDesignlim(\"design_acceleration\", \"max_acceleration\", azRelativeTimes.iloc[[0]], azRelativeTimes.iloc[[-1]], design_color, max_color)\n",
    "    plt.ylabel(\"Deg/sec^2\")\n",
    "\n",
    "    plt.subplot(4,2,6)\n",
    "    plt.plot(elRelativeTimes, slew_frame['elAcceleration'], lw=line_width, color=el_color, label='Spline fit')\n",
    "    if limitsBool == True:\n",
    "        plotElDesignlim(\"design_acceleration\", \"max_acceleration\", elRelativeTimes.iloc[[0]], elRelativeTimes.iloc[[-1]], design_color, max_color)\n",
    "\n",
    "    plt.subplot(4,2,7)\n",
    "    plt.plot(azRelativeTimes, slew_frame['azJerk'], lw=line_width, color=az_color, label='Spline fit')\n",
    "    if limitsBool == True:\n",
    "        plotAzDesignlim(\"design_jerk\", \"max_jerk\", azRelativeTimes.iloc[[0]], azRelativeTimes.iloc[[-1]], design_color, max_color)\n",
    "    plt.ylabel(\"Deg/sec^3\")\n",
    "    plt.xlabel(\"seconds\")\n",
    "\n",
    "    plt.subplot(4,2,8)\n",
    "    plt.plot(elRelativeTimes, slew_frame['elJerk'], lw=line_width, color=el_color, label='Spline fit')\n",
    "    if limitsBool == True:\n",
    "        plotElDesignlim(\"design_jerk\", \"max_jerk\", elRelativeTimes.iloc[[0]], elRelativeTimes.iloc[[-1]], design_color, max_color)\n",
    "    plt.xlabel(\"seconds\")\n",
    "\n",
    "    plt.show()"
   ]
  },
  {
   "cell_type": "markdown",
   "id": "ebea9457-ead5-40e6-901c-0a92d49b65a1",
   "metadata": {},
   "source": [
    "## Defining parameters"
   ]
  },
  {
   "cell_type": "code",
   "execution_count": null,
   "id": "798722cc-7fe5-441d-a652-e0a5440e24e5",
   "metadata": {
    "tags": []
   },
   "outputs": [],
   "source": [
    "# define limits from science requirements document (LTS-103 2.2.2) for plotting\n",
    "# units in deg/s - deg/s^2 - deg/s^3\n",
    "el_limit_dict={\n",
    "    \"max_velocity\": 5.25,\n",
    "    \"max_acceleration\": 5.25,\n",
    "    \"max_jerk\": 21,\n",
    "    \"design_velocity\": 3.5,\n",
    "    \"design_acceleration\": 3.5,\n",
    "    \"design_jerk\": 14,\n",
    "}\n",
    "az_limit_dict={\n",
    "    \"max_velocity\": 10.5,\n",
    "    \"max_acceleration\": 10.5,\n",
    "    \"max_jerk\": 42,\n",
    "    \"design_velocity\": 7,\n",
    "    \"design_acceleration\": 7,\n",
    "    \"design_jerk\": 28,\n",
    "}"
   ]
  },
  {
   "cell_type": "code",
   "execution_count": null,
   "id": "6b2f9b47-9d07-4b8c-ab0b-0f10735a79f1",
   "metadata": {
    "tags": []
   },
   "outputs": [],
   "source": [
    "# spline fit type, can be either \"spline\" for univariate (the default) or \"savgol\"\n",
    "spline_filter = \"spline\""
   ]
  },
  {
   "cell_type": "code",
   "execution_count": null,
   "id": "562f37e0-030c-42aa-875f-3367ce11365b",
   "metadata": {
    "tags": []
   },
   "outputs": [],
   "source": [
    "padding = 0"
   ]
  },
  {
   "cell_type": "markdown",
   "id": "7df60f6b-28ed-414a-ac40-2c1154c07fef",
   "metadata": {},
   "source": [
    "## Plots"
   ]
  },
  {
   "cell_type": "markdown",
   "id": "b77b384a-4789-4df6-9bbb-17abf4828608",
   "metadata": {},
   "source": [
    "Store all queried data in a single variable from the days defined above"
   ]
  },
  {
   "cell_type": "code",
   "execution_count": null,
   "id": "948f2d57-d544-476f-a17b-2918ecf9adef",
   "metadata": {
    "tags": []
   },
   "outputs": [],
   "source": [
    "event_maker = TMAEventMaker()\n",
    "data = SlewData(20230501, 20230831, event_maker, spline_filter, padding=padding)"
   ]
  },
  {
   "cell_type": "markdown",
   "id": "17f842ab-f239-4330-9337-f823fcca7164",
   "metadata": {},
   "source": [
    "Identify the maximums of the velocity, acceleration, and jerk of each slew and plot statistics"
   ]
  },
  {
   "cell_type": "code",
   "execution_count": null,
   "id": "90681436-3ee8-4182-b5bf-5beebc21839a",
   "metadata": {
    "tags": []
   },
   "outputs": [],
   "source": [
    "%matplotlib inline"
   ]
  },
  {
   "cell_type": "code",
   "execution_count": null,
   "id": "bb823617-57f3-41fe-8e44-9674f84a7b27",
   "metadata": {
    "tags": []
   },
   "outputs": [],
   "source": [
    "print(\"Final number of slews: \" + str(data.max_data.shape[0]))"
   ]
  },
  {
   "cell_type": "code",
   "execution_count": null,
   "id": "5c078819-f919-4a40-a366-f5d64e18e8d6",
   "metadata": {
    "tags": []
   },
   "outputs": [],
   "source": [
    "plot_max_hist(data.max_data, True, True, spline_filter, padding)"
   ]
  },
  {
   "cell_type": "markdown",
   "id": "610a3d54-6606-4a87-a82d-22b0a9ebc70d",
   "metadata": {},
   "source": [
    "Pick a slew to show a single slew motion analysis plot"
   ]
  },
  {
   "cell_type": "code",
   "execution_count": null,
   "id": "420831c4-ceda-4b2d-b0a3-1c2fb07aa886",
   "metadata": {
    "tags": []
   },
   "outputs": [],
   "source": [
    "slew_profile_plot(data.all_data, 20230731, 3, False)"
   ]
  },
  {
   "cell_type": "code",
   "execution_count": null,
   "id": "e6c9f5ed-5b33-4b29-9bbe-7e8cb51a5ba0",
   "metadata": {},
   "outputs": [],
   "source": []
  }
 ],
 "metadata": {
  "kernelspec": {
   "display_name": "LSST",
   "language": "python",
   "name": "lsst"
  },
  "language_info": {
   "codemirror_mode": {
    "name": "ipython",
    "version": 3
   },
   "file_extension": ".py",
   "mimetype": "text/x-python",
   "name": "python",
   "nbconvert_exporter": "python",
   "pygments_lexer": "ipython3",
   "version": "3.11.4"
  }
 },
 "nbformat": 4,
 "nbformat_minor": 5
}
