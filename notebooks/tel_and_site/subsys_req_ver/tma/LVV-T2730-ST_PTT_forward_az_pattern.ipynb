{
 "cells": [
  {
   "cell_type": "markdown",
   "id": "0a3f99fb-8b55-4426-a6f1-5c02cbe4f3ce",
   "metadata": {},
   "source": [
    "# [LVV-T2730] - StarTracker Pointing and Tracking Test - Forward Azimuth Pattern\n",
    "\n",
    "Collect data with the StarTracker following the azimuth pattern -270, -180, -90, 0, 90, 180, 270 deg.  \n",
    "Nominal at four elevation angle 15, 45, 75, 86.5 deg.  \n",
    "Minimum at the three angle: 15, 45, 86.5 deg.  \n",
    "\n",
    "This test is forseen the first of four tests takes about one summer night (7 hours) in full version and a bit more than 5hours in the shortened version.  \n",
    "\n",
    "Can we track for 10 min without moving the dome?\n",
    "\n",
    "**Requirements:**\n",
    " - All the MT components should be enabled.\n",
    " - Need the `notebooks_vandv` module installed.\n",
    "\n",
    "Please, see the [README] file for the requirements to run this notebook.  \n",
    "The log messages printed in this notebook are stored in the EFD Script using the `-TTTTMMDD` format, where `TTTT` are the four last digits of the test case, `MM` is the 0-padded month, and `DD` is the 0-padded day of execution.\n",
    "\n",
    "[README]: https://github.com/lsst-sitcom/notebooks_vandv/blob/develop/README.md\n",
    "[LVV-T2730]: https://jira.lsstcorp.org/secure/Tests.jspa#/testCase/LVV-T2730"
   ]
  },
  {
   "cell_type": "markdown",
   "id": "4dcbd2d1-e698-478d-9c26-fdedc022541f",
   "metadata": {
    "tags": []
   },
   "source": [
    "## Setup"
   ]
  },
  {
   "cell_type": "code",
   "execution_count": 1,
   "id": "1acfa6f7-8575-4d9e-8228-f6e03f0308bc",
   "metadata": {
    "execution": {
     "iopub.execute_input": "2023-03-16T04:06:08.935436Z",
     "iopub.status.busy": "2023-03-16T04:06:08.935289Z",
     "iopub.status.idle": "2023-03-16T04:06:08.939628Z",
     "shell.execute_reply": "2023-03-16T04:06:08.938696Z",
     "shell.execute_reply.started": "2023-03-16T04:06:08.935422Z"
    },
    "tags": []
   },
   "outputs": [],
   "source": [
    "test_case = \"LVV-T2730\"\n",
    "test_exec = \"LVV-EXXXX\"\n",
    "\n",
    "# az_grid = [180, 150, 120, 90, 60, 30, 0, -30, -60, -90, -120, -150]\n",
    "# el_grid = [20, 45, 60, 75] \n",
    "\n",
    "az_grid = [225, 135, 45, -45]\n",
    "el_grid = [25, 35, 45, 55, 65, 75]\n",
    "\n",
    "# 101 - Wide Camera\n",
    "# 102 - Narrow Camera\n",
    "# 103 - Fast Camera (DIMM)\n",
    "camera_sal_indexes = [101, 102, 103]\n",
    "exposure_times = [5., 4., 6.]  # s\n",
    "base_msg = f\"{test_case} {test_exec}:\"\n",
    "\n",
    "track_time = 45. \n",
    "sleep_time = 1.5"
   ]
  },
  {
   "cell_type": "markdown",
   "id": "7724453e-0b6d-49e5-9a35-a0a3cef39326",
   "metadata": {
    "tags": []
   },
   "source": [
    "### Prepare Notebook\n",
    "\n",
    "Start with importing libraries:"
   ]
  },
  {
   "cell_type": "code",
   "execution_count": 2,
   "id": "8e237202-1e4d-4aa0-8647-6c2942ddc547",
   "metadata": {
    "execution": {
     "iopub.execute_input": "2023-03-16T04:06:08.942740Z",
     "iopub.status.busy": "2023-03-16T04:06:08.942462Z",
     "iopub.status.idle": "2023-03-16T04:06:09.930560Z",
     "shell.execute_reply": "2023-03-16T04:06:09.930050Z",
     "shell.execute_reply.started": "2023-03-16T04:06:08.942724Z"
    },
    "tags": []
   },
   "outputs": [
    {
     "data": {
      "text/html": [
       "<pre style=\"margin: 0.1em;\n",
       "padding-left: 0.25em;\n",
       "border-left-style: solid;\n",
       "font-family: var(--jp-code-font-family);\n",
       "font-size: var(--jp-code-font-size);\n",
       "line-height: var(--jp-code-line-height);\n",
       "\"><span style=\"color: var(--jp-warn-color2)\">lsst.ts.utils.tai</span> <span style=\"color: var(--jp-info-color0)\">INFO</span>: Update leap second table</pre>"
      ],
      "text/plain": [
       "<IPython.core.display.HTML object>"
      ]
     },
     "metadata": {},
     "output_type": "display_data"
    },
    {
     "data": {
      "text/html": [
       "<pre style=\"margin: 0.1em;\n",
       "padding-left: 0.25em;\n",
       "border-left-style: solid;\n",
       "font-family: var(--jp-code-font-family);\n",
       "font-size: var(--jp-code-font-size);\n",
       "line-height: var(--jp-code-line-height);\n",
       "\"><span style=\"color: var(--jp-warn-color2)\">lsst.ts.utils.tai</span> <span style=\"color: var(--jp-info-color0)\">INFO</span>: current_tai uses the system TAI clock</pre>"
      ],
      "text/plain": [
       "<IPython.core.display.HTML object>"
      ]
     },
     "metadata": {},
     "output_type": "display_data"
    }
   ],
   "source": [
    "%load_ext autoreload\n",
    "%autoreload 2\n",
    "\n",
    "import asyncio\n",
    "import logging\n",
    "import sys\n",
    "import yaml\n",
    "\n",
    "from astropy import units as u\n",
    "from astropy.coordinates import SkyCoord\n",
    "from astropy.time import Time\n",
    "\n",
    "from lsst.ts import salobj\n",
    "from lsst.ts.idl.enums.MTDome import SubSystemId\n",
    "from lsst.ts.idl.enums.Script import ScriptState\n",
    "from lsst.ts.observatory.control import RotType\n",
    "from lsst.ts.observatory.control.maintel import MTCS, ComCam\n",
    "from lsst.ts.observatory.control.generic_camera import GenericCamera\n",
    "\n",
    "from lsst.sitcom import vandv"
   ]
  },
  {
   "cell_type": "markdown",
   "id": "16e0c07d-90b0-42ed-8627-37a7f7d00642",
   "metadata": {},
   "source": [
    "---\n",
    "Print out the execution info for future reference."
   ]
  },
  {
   "cell_type": "code",
   "execution_count": 3,
   "id": "6a909cb6-5bc8-480a-9766-3a0483d88eeb",
   "metadata": {
    "execution": {
     "iopub.execute_input": "2023-03-16T04:06:09.932788Z",
     "iopub.status.busy": "2023-03-16T04:06:09.932539Z",
     "iopub.status.idle": "2023-03-16T04:06:09.990581Z",
     "shell.execute_reply": "2023-03-16T04:06:09.989992Z",
     "shell.execute_reply.started": "2023-03-16T04:06:09.932773Z"
    }
   },
   "outputs": [
    {
     "name": "stdout",
     "output_type": "stream",
     "text": [
      "\n",
      "Executed by b1quint on 2023-03-16T04:06:46.962.\n",
      "  Running in yagan02 at summit\n",
      "\n"
     ]
    }
   ],
   "source": [
    "exec_info = vandv.ExecutionInfo()\n",
    "print(exec_info)"
   ]
  },
  {
   "cell_type": "markdown",
   "id": "cb5b8029-f1ae-4873-bda9-a34425cc3a2f",
   "metadata": {},
   "source": [
    "---\n",
    "Use the `maintel/setup_mtcs.py` script in LOVE or the [LVV-T2344] to test case and notebook to setup all the main telescope components.  \n",
    "This includes simulators as well as real hardware when available (this will depend on when the test is conducted at TTS or on level 3 or on the telescope):  \n",
    "\n",
    "- pointing  \n",
    "- mount ( with the CCW)  \n",
    "- rotator  \n",
    "- ready M1M3: raise mirror, turn on FB, clear forces. Note that if used at level 3, we need to have M1M3 LUT use mount telemetry  \n",
    "- ready M2: turn on FB, clear forces. Note that if used at level 3, we need to have M2 LUT use mount telemetry  \n",
    "- Get cam hex Ready: check config; make sure LUT is on and has valid inputs; make sure hex is at LUT position  \n",
    "- Get M2 hex (simulator) Ready: check config; make sure LUT is on and has valid inputs; make sure hex is at LUT position  \n",
    "- Finally, get the MTAOS CSC ready  \n",
    "\n",
    "[LVV-T2344]: https://jira.lsstcorp.org/secure/Tests.jspa#/testCase/LVV-T2344\n",
    "\n",
    "---\n",
    "Setup the logger, the Domain, and the remote for the telescope control."
   ]
  },
  {
   "cell_type": "code",
   "execution_count": 4,
   "id": "4d8be9f3-c15a-4f84-82d2-0ac28567c9e4",
   "metadata": {
    "execution": {
     "iopub.execute_input": "2023-03-16T04:06:09.995711Z",
     "iopub.status.busy": "2023-03-16T04:06:09.995569Z",
     "iopub.status.idle": "2023-03-16T04:06:10.030196Z",
     "shell.execute_reply": "2023-03-16T04:06:10.029613Z",
     "shell.execute_reply.started": "2023-03-16T04:06:09.995696Z"
    },
    "tags": []
   },
   "outputs": [],
   "source": [
    "logging.basicConfig(format=\"%(asctime)s %(name)s: %(message)s\", level=logging.DEBUG)\n",
    "log = logging.getLogger(f\"{test_case}\")"
   ]
  },
  {
   "cell_type": "code",
   "execution_count": 5,
   "id": "16984334-3408-4840-b3a7-b349d8aaf8b3",
   "metadata": {
    "execution": {
     "iopub.execute_input": "2023-03-16T04:06:10.032586Z",
     "iopub.status.busy": "2023-03-16T04:06:10.032428Z",
     "iopub.status.idle": "2023-03-16T04:06:10.100769Z",
     "shell.execute_reply": "2023-03-16T04:06:10.100137Z",
     "shell.execute_reply.started": "2023-03-16T04:06:10.032571Z"
    },
    "tags": []
   },
   "outputs": [
    {
     "name": "stdout",
     "output_type": "stream",
     "text": [
      "My user_host is 'b1quint@nb-b1quint'\n",
      "\n"
     ]
    }
   ],
   "source": [
    "os.environ[\"LSST_DDS_HISTORYSYNC\"] = \"200\"\n",
    "domain = salobj.Domain()\n",
    "print(f\"My user_host is {domain.user_host!r}\\n\")"
   ]
  },
  {
   "cell_type": "markdown",
   "id": "60009800-8892-4d76-9585-8dc12f9e0c59",
   "metadata": {},
   "source": [
    "---\n",
    "The `Script` CSC is used to record test checkpoints and allow to easy search in the EFD."
   ]
  },
  {
   "cell_type": "code",
   "execution_count": 6,
   "id": "2f1bdc63-bcf3-42cf-a4d4-54aac4c0e283",
   "metadata": {
    "execution": {
     "iopub.execute_input": "2023-03-16T04:06:10.103263Z",
     "iopub.status.busy": "2023-03-16T04:06:10.103105Z",
     "iopub.status.idle": "2023-03-16T04:06:10.212921Z",
     "shell.execute_reply": "2023-03-16T04:06:10.212413Z",
     "shell.execute_reply.started": "2023-03-16T04:06:10.103247Z"
    },
    "tags": []
   },
   "outputs": [
    {
     "data": {
      "text/html": [
       "<pre style=\"margin: 0.1em;\n",
       "padding-left: 0.25em;\n",
       "border-left-style: solid;\n",
       "font-family: var(--jp-code-font-family);\n",
       "font-size: var(--jp-code-font-size);\n",
       "line-height: var(--jp-code-line-height);\n",
       "\"><span style=\"color: var(--jp-warn-color2)\">Script</span> <span style=\"color: var(--jp-info-color0)\">INFO</span>: Disabling authlist-based command authorization</pre>"
      ],
      "text/plain": [
       "<IPython.core.display.HTML object>"
      ]
     },
     "metadata": {},
     "output_type": "display_data"
    },
    {
     "data": {
      "text/html": [
       "<pre style=\"margin: 0.1em;\n",
       "padding-left: 0.25em;\n",
       "border-left-style: solid;\n",
       "font-family: var(--jp-code-font-family);\n",
       "font-size: var(--jp-code-font-size);\n",
       "line-height: var(--jp-code-line-height);\n",
       "\"><span style=\"color: var(--jp-warn-color2)\">Script</span> <span style=\"color: var(--jp-info-color0)\">INFO</span>: Read historical data in 0.00 sec</pre>"
      ],
      "text/plain": [
       "<IPython.core.display.HTML object>"
      ]
     },
     "metadata": {},
     "output_type": "display_data"
    },
    {
     "data": {
      "text/html": [
       "<pre style=\"margin: 0.1em;\n",
       "padding-left: 0.25em;\n",
       "border-left-style: solid;\n",
       "font-family: var(--jp-code-font-family);\n",
       "font-size: var(--jp-code-font-size);\n",
       "line-height: var(--jp-code-line-height);\n",
       "\"><span style=\"color: var(--jp-warn-color2)\">Script</span> <span style=\"color: var(--jp-info-color0)\">INFO</span>: Testing Log</pre>"
      ],
      "text/plain": [
       "<IPython.core.display.HTML object>"
      ]
     },
     "metadata": {},
     "output_type": "display_data"
    }
   ],
   "source": [
    "script = salobj.Controller(\"Script\", index=199)\n",
    "await script.start_task\n",
    "\n",
    "script.log.info(\"Testing Log\")"
   ]
  },
  {
   "cell_type": "markdown",
   "id": "73948eaa-cffa-47f9-bad4-f161fa12b2e2",
   "metadata": {},
   "source": [
    "Instanciate the MTCS."
   ]
  },
  {
   "cell_type": "code",
   "execution_count": 7,
   "id": "2fb2580c-4e11-49d3-a96e-c973a9718d3f",
   "metadata": {
    "execution": {
     "iopub.execute_input": "2023-03-16T04:09:17.611084Z",
     "iopub.status.busy": "2023-03-16T04:09:17.610784Z",
     "iopub.status.idle": "2023-03-16T04:09:20.639278Z",
     "shell.execute_reply": "2023-03-16T04:09:20.618753Z",
     "shell.execute_reply.started": "2023-03-16T04:09:17.611066Z"
    },
    "tags": []
   },
   "outputs": [
    {
     "data": {
      "text/html": [
       "<pre style=\"margin: 0.1em;\n",
       "padding-left: 0.25em;\n",
       "border-left-style: solid;\n",
       "font-family: var(--jp-code-font-family);\n",
       "font-size: var(--jp-code-font-size);\n",
       "line-height: var(--jp-code-line-height);\n",
       "\"><span style=\"color: var(--jp-warn-color2)\">MTMount</span> <span style=\"color: var(--jp-info-color0)\">INFO</span>: Disabling authlist-based command authorization</pre>"
      ],
      "text/plain": [
       "<IPython.core.display.HTML object>"
      ]
     },
     "metadata": {},
     "output_type": "display_data"
    },
    {
     "data": {
      "text/html": [
       "<pre style=\"margin: 0.1em;\n",
       "padding-left: 0.25em;\n",
       "border-left-style: solid;\n",
       "font-family: var(--jp-code-font-family);\n",
       "font-size: var(--jp-code-font-size);\n",
       "line-height: var(--jp-code-line-height);\n",
       "\"><span style=\"color: var(--jp-warn-color2)\">MTPtg</span> <span style=\"color: var(--jp-info-color0)\">INFO</span>: Disabling authlist-based command authorization</pre>"
      ],
      "text/plain": [
       "<IPython.core.display.HTML object>"
      ]
     },
     "metadata": {},
     "output_type": "display_data"
    },
    {
     "data": {
      "text/html": [
       "<pre style=\"margin: 0.1em;\n",
       "padding-left: 0.25em;\n",
       "border-left-style: solid;\n",
       "font-family: var(--jp-code-font-family);\n",
       "font-size: var(--jp-code-font-size);\n",
       "line-height: var(--jp-code-line-height);\n",
       "\"><span style=\"color: var(--jp-warn-color2)\">MTAOS</span> <span style=\"color: var(--jp-info-color0)\">INFO</span>: Disabling authlist-based command authorization</pre>"
      ],
      "text/plain": [
       "<IPython.core.display.HTML object>"
      ]
     },
     "metadata": {},
     "output_type": "display_data"
    },
    {
     "data": {
      "text/html": [
       "<pre style=\"margin: 0.1em;\n",
       "padding-left: 0.25em;\n",
       "border-left-style: solid;\n",
       "font-family: var(--jp-code-font-family);\n",
       "font-size: var(--jp-code-font-size);\n",
       "line-height: var(--jp-code-line-height);\n",
       "\"><span style=\"color: var(--jp-warn-color2)\">MTM1M3</span> <span style=\"color: var(--jp-info-color0)\">INFO</span>: Disabling authlist-based command authorization</pre>"
      ],
      "text/plain": [
       "<IPython.core.display.HTML object>"
      ]
     },
     "metadata": {},
     "output_type": "display_data"
    },
    {
     "data": {
      "text/html": [
       "<pre style=\"margin: 0.1em;\n",
       "padding-left: 0.25em;\n",
       "border-left-style: solid;\n",
       "font-family: var(--jp-code-font-family);\n",
       "font-size: var(--jp-code-font-size);\n",
       "line-height: var(--jp-code-line-height);\n",
       "\"><span style=\"color: var(--jp-warn-color2)\">MTM2</span> <span style=\"color: var(--jp-info-color0)\">INFO</span>: Disabling authlist-based command authorization</pre>"
      ],
      "text/plain": [
       "<IPython.core.display.HTML object>"
      ]
     },
     "metadata": {},
     "output_type": "display_data"
    },
    {
     "data": {
      "text/html": [
       "<pre style=\"margin: 0.1em;\n",
       "padding-left: 0.25em;\n",
       "border-left-style: solid;\n",
       "font-family: var(--jp-code-font-family);\n",
       "font-size: var(--jp-code-font-size);\n",
       "line-height: var(--jp-code-line-height);\n",
       "\"><span style=\"color: var(--jp-warn-color2)\">MTHexapod</span> <span style=\"color: var(--jp-info-color0)\">INFO</span>: Disabling authlist-based command authorization</pre>"
      ],
      "text/plain": [
       "<IPython.core.display.HTML object>"
      ]
     },
     "metadata": {},
     "output_type": "display_data"
    },
    {
     "data": {
      "text/html": [
       "<pre style=\"margin: 0.1em;\n",
       "padding-left: 0.25em;\n",
       "border-left-style: solid;\n",
       "font-family: var(--jp-code-font-family);\n",
       "font-size: var(--jp-code-font-size);\n",
       "line-height: var(--jp-code-line-height);\n",
       "\"><span style=\"color: var(--jp-warn-color2)\">MTHexapod</span> <span style=\"color: var(--jp-info-color0)\">INFO</span>: Disabling authlist-based command authorization</pre>"
      ],
      "text/plain": [
       "<IPython.core.display.HTML object>"
      ]
     },
     "metadata": {},
     "output_type": "display_data"
    },
    {
     "data": {
      "text/html": [
       "<pre style=\"margin: 0.1em;\n",
       "padding-left: 0.25em;\n",
       "border-left-style: solid;\n",
       "font-family: var(--jp-code-font-family);\n",
       "font-size: var(--jp-code-font-size);\n",
       "line-height: var(--jp-code-line-height);\n",
       "\"><span style=\"color: var(--jp-warn-color2)\">MTRotator</span> <span style=\"color: var(--jp-info-color0)\">INFO</span>: Disabling authlist-based command authorization</pre>"
      ],
      "text/plain": [
       "<IPython.core.display.HTML object>"
      ]
     },
     "metadata": {},
     "output_type": "display_data"
    },
    {
     "data": {
      "text/html": [
       "<pre style=\"margin: 0.1em;\n",
       "padding-left: 0.25em;\n",
       "border-left-style: solid;\n",
       "font-family: var(--jp-code-font-family);\n",
       "font-size: var(--jp-code-font-size);\n",
       "line-height: var(--jp-code-line-height);\n",
       "\"><span style=\"color: var(--jp-warn-color2)\">MTDome</span> <span style=\"color: var(--jp-info-color0)\">INFO</span>: Disabling authlist-based command authorization</pre>"
      ],
      "text/plain": [
       "<IPython.core.display.HTML object>"
      ]
     },
     "metadata": {},
     "output_type": "display_data"
    },
    {
     "data": {
      "text/html": [
       "<pre style=\"margin: 0.1em;\n",
       "padding-left: 0.25em;\n",
       "border-left-style: solid;\n",
       "font-family: var(--jp-code-font-family);\n",
       "font-size: var(--jp-code-font-size);\n",
       "line-height: var(--jp-code-line-height);\n",
       "\"><span style=\"color: var(--jp-warn-color2)\">MTDomeTrajectory</span> <span style=\"color: var(--jp-info-color0)\">INFO</span>: Disabling authlist-based command authorization</pre>"
      ],
      "text/plain": [
       "<IPython.core.display.HTML object>"
      ]
     },
     "metadata": {},
     "output_type": "display_data"
    },
    {
     "data": {
      "text/plain": [
       "[None, None, None, None, None, None, None, None, None, None]"
      ]
     },
     "execution_count": 7,
     "metadata": {},
     "output_type": "execute_result"
    }
   ],
   "source": [
    "mtcs = MTCS(domain=domain, log=script.log)\n",
    "vandv.logger.add_filter_to_mtcs()\n",
    "await mtcs.start_task"
   ]
  },
  {
   "cell_type": "markdown",
   "id": "9c819a6d-e478-4b79-98fe-43b8a19163d2",
   "metadata": {},
   "source": [
    "--- \n",
    "Initialize the GenericCamera and ComCam.  \n",
    "The ComCam is used to ensure that we can take exposures using two cameras at the same time.  \n",
    "You might need to modify the cell below. "
   ]
  },
  {
   "cell_type": "code",
   "execution_count": 8,
   "id": "f72d8e4d-09d0-4042-b545-7cd6e7a50335",
   "metadata": {
    "execution": {
     "iopub.execute_input": "2023-03-16T04:11:34.226049Z",
     "iopub.status.busy": "2023-03-16T04:11:34.225613Z",
     "iopub.status.idle": "2023-03-16T04:11:35.332497Z",
     "shell.execute_reply": "2023-03-16T04:11:35.325372Z",
     "shell.execute_reply.started": "2023-03-16T04:11:34.226030Z"
    },
    "tags": []
   },
   "outputs": [
    {
     "data": {
      "text/html": [
       "<pre style=\"margin: 0.1em;\n",
       "padding-left: 0.25em;\n",
       "border-left-style: solid;\n",
       "font-family: var(--jp-code-font-family);\n",
       "font-size: var(--jp-code-font-size);\n",
       "line-height: var(--jp-code-line-height);\n",
       "\"><span style=\"color: var(--jp-warn-color2)\">GenericCamera</span> <span style=\"color: var(--jp-info-color0)\">INFO</span>: Disabling authlist-based command authorization</pre>"
      ],
      "text/plain": [
       "<IPython.core.display.HTML object>"
      ]
     },
     "metadata": {},
     "output_type": "display_data"
    },
    {
     "data": {
      "text/html": [
       "<pre style=\"margin: 0.1em;\n",
       "padding-left: 0.25em;\n",
       "border-left-style: solid;\n",
       "font-family: var(--jp-code-font-family);\n",
       "font-size: var(--jp-code-font-size);\n",
       "line-height: var(--jp-code-line-height);\n",
       "\"><span style=\"color: var(--jp-warn-color2)\">GenericCamera</span> <span style=\"color: var(--jp-info-color0)\">INFO</span>: Read historical data in 0.12 sec</pre>"
      ],
      "text/plain": [
       "<IPython.core.display.HTML object>"
      ]
     },
     "metadata": {},
     "output_type": "display_data"
    },
    {
     "data": {
      "text/html": [
       "<pre style=\"margin: 0.1em;\n",
       "padding-left: 0.25em;\n",
       "border-left-style: solid;\n",
       "font-family: var(--jp-code-font-family);\n",
       "font-size: var(--jp-code-font-size);\n",
       "line-height: var(--jp-code-line-height);\n",
       "\"><span style=\"color: var(--jp-warn-color2)\">GenericCamera</span> <span style=\"color: var(--jp-info-color0)\">INFO</span>: Disabling authlist-based command authorization</pre>"
      ],
      "text/plain": [
       "<IPython.core.display.HTML object>"
      ]
     },
     "metadata": {},
     "output_type": "display_data"
    },
    {
     "data": {
      "text/html": [
       "<pre style=\"margin: 0.1em;\n",
       "padding-left: 0.25em;\n",
       "border-left-style: solid;\n",
       "font-family: var(--jp-code-font-family);\n",
       "font-size: var(--jp-code-font-size);\n",
       "line-height: var(--jp-code-line-height);\n",
       "\"><span style=\"color: var(--jp-warn-color2)\">GenericCamera</span> <span style=\"color: var(--jp-info-color0)\">INFO</span>: Read historical data in 0.09 sec</pre>"
      ],
      "text/plain": [
       "<IPython.core.display.HTML object>"
      ]
     },
     "metadata": {},
     "output_type": "display_data"
    },
    {
     "data": {
      "text/html": [
       "<pre style=\"margin: 0.1em;\n",
       "padding-left: 0.25em;\n",
       "border-left-style: solid;\n",
       "font-family: var(--jp-code-font-family);\n",
       "font-size: var(--jp-code-font-size);\n",
       "line-height: var(--jp-code-line-height);\n",
       "\"><span style=\"color: var(--jp-warn-color2)\">GenericCamera</span> <span style=\"color: var(--jp-info-color0)\">INFO</span>: Disabling authlist-based command authorization</pre>"
      ],
      "text/plain": [
       "<IPython.core.display.HTML object>"
      ]
     },
     "metadata": {},
     "output_type": "display_data"
    },
    {
     "data": {
      "text/html": [
       "<pre style=\"margin: 0.1em;\n",
       "padding-left: 0.25em;\n",
       "border-left-style: solid;\n",
       "font-family: var(--jp-code-font-family);\n",
       "font-size: var(--jp-code-font-size);\n",
       "line-height: var(--jp-code-line-height);\n",
       "\"><span style=\"color: var(--jp-warn-color2)\">GenericCamera</span> <span style=\"color: var(--jp-info-color0)\">INFO</span>: Read historical data in 0.12 sec</pre>"
      ],
      "text/plain": [
       "<IPython.core.display.HTML object>"
      ]
     },
     "metadata": {},
     "output_type": "display_data"
    }
   ],
   "source": [
    "camera_list = []\n",
    "\n",
    "for index in camera_sal_indexes:\n",
    "\n",
    "    gencam = GenericCamera(domain=domain, index=index, log=script.log)\n",
    "    await gencam.start_task\n",
    "    # await gencam.enable()\n",
    "\n",
    "    camera_list.append(gencam)"
   ]
  },
  {
   "cell_type": "code",
   "execution_count": 11,
   "id": "6580323d-9006-42f2-a0d5-17452fea326a",
   "metadata": {
    "execution": {
     "iopub.execute_input": "2023-03-16T04:11:55.274977Z",
     "iopub.status.busy": "2023-03-16T04:11:55.274683Z",
     "iopub.status.idle": "2023-03-16T04:11:55.311905Z",
     "shell.execute_reply": "2023-03-16T04:11:55.311466Z",
     "shell.execute_reply.started": "2023-03-16T04:11:55.274959Z"
    },
    "tags": []
   },
   "outputs": [
    {
     "data": {
      "text/plain": [
       "Remote(name=GenericCamera, index=101)"
      ]
     },
     "execution_count": 11,
     "metadata": {},
     "output_type": "execute_result"
    }
   ],
   "source": [
    "camera_list[0].camera"
   ]
  },
  {
   "cell_type": "markdown",
   "id": "70586862-68c5-40b5-8d4e-c1cf28bab51d",
   "metadata": {},
   "source": [
    "Run the cell below to hide all the messages related to the DDS and have a cleaner notebook."
   ]
  },
  {
   "cell_type": "code",
   "execution_count": null,
   "id": "5957d088-f2ce-4118-aea5-debc106e0633",
   "metadata": {
    "tags": []
   },
   "outputs": [],
   "source": [
    "vandv.logger.add_filter_to_mtcs()"
   ]
  },
  {
   "cell_type": "markdown",
   "id": "61c4bf74-79b1-407a-a9cd-fafb2fe5cf44",
   "metadata": {},
   "source": [
    "Default wait time in the steps."
   ]
  },
  {
   "cell_type": "code",
   "execution_count": null,
   "id": "cd0aeadd-925b-4bd7-9dbb-76c8e86fa1ee",
   "metadata": {},
   "outputs": [],
   "source": [
    "STDWAIT = 20"
   ]
  },
  {
   "cell_type": "markdown",
   "id": "7b5772b8-156a-4d17-8e05-4f2d3f467d86",
   "metadata": {
    "tags": []
   },
   "source": [
    "### Check CSC Status"
   ]
  },
  {
   "cell_type": "code",
   "execution_count": null,
   "id": "d1fba668-9ea5-42d4-9e2d-cfda05cf844f",
   "metadata": {
    "tags": []
   },
   "outputs": [],
   "source": [
    "await mtcs.set_state(\n",
    "    salobj.State.DISABLED, \n",
    "    components=[\n",
    "        \"mtmount\", \n",
    "        \"mtrotator\",\n",
    "        \"mtptg\",\n",
    "    ]\n",
    ")"
   ]
  },
  {
   "cell_type": "code",
   "execution_count": null,
   "id": "05089d0f-db6b-43dc-9331-0aa4f9b90743",
   "metadata": {
    "tags": []
   },
   "outputs": [],
   "source": [
    "await mtcs.set_state(\n",
    "    salobj.State.ENABLED, \n",
    "    components=[\n",
    "        \"mtmount\",\n",
    "        # \"mtrotator\", # Enable this only if using the Rotator Hardware\n",
    "        \"mtptg\",\n",
    "    ]\n",
    ")\n",
    "\n",
    "## Increase MTMount Log Verbosity\n",
    "await mtcs.rem.mtmount.cmd_setLogLevel.set_start(level=15)"
   ]
  },
  {
   "cell_type": "code",
   "execution_count": null,
   "id": "a9c9af23-4ed5-4075-91ad-0d9ca99328ed",
   "metadata": {
    "tags": []
   },
   "outputs": [],
   "source": [
    "## Comment this line if you want the CCW to follow the Rotator\n",
    "await mtcs.enable_ccw_following()"
   ]
  },
  {
   "cell_type": "code",
   "execution_count": null,
   "id": "733af036-7dc2-4e5c-b571-b5e2e5e42a54",
   "metadata": {
    "tags": []
   },
   "outputs": [],
   "source": [
    "## Home MTMount Main Axes\n",
    "await mtcs.rem.mtmount.cmd_homeBothAxes.start(timeout=300)"
   ]
  },
  {
   "cell_type": "code",
   "execution_count": null,
   "id": "15d710b8-68bd-4f55-97cd-1c883f99ff0f",
   "metadata": {
    "tags": []
   },
   "outputs": [],
   "source": [
    "# Ignore (set check to False) the following components:\n",
    "list_of_cscs = [\n",
    "    \"mtaos\",\n",
    "    \"mtdome\",\n",
    "    \"mtdometrajectory\",\n",
    "    \"mthexapod_1\",\n",
    "    \"mthexapod_2\",\n",
    "    \"mtm1m3\",\n",
    "    \"mtm2\",\n",
    "    \"mtrotator\",\n",
    "]\n",
    "\n",
    "for csc in list_of_cscs:\n",
    "    script.log.info(f\"Setting {csc} check to False\")\n",
    "    setattr(mtcs.check, csc, False)"
   ]
  },
  {
   "cell_type": "code",
   "execution_count": null,
   "id": "18ba96b4-07f1-4b0c-b9c8-13cd34fc482e",
   "metadata": {},
   "outputs": [],
   "source": [
    "await mtcs.assert_liveliness()\n",
    "\n",
    "## Enable this only if all the MT CSCs are enabled\n",
    "# await mtcs.assert_all_enabled()"
   ]
  },
  {
   "cell_type": "code",
   "execution_count": null,
   "id": "f5d0cb14-e352-4167-8c85-9ae6b36796b0",
   "metadata": {},
   "outputs": [],
   "source": [
    "for cam in camera_list:\n",
    "    await cam.assert_liveliness()\n",
    "    await cam.assert_all_enabled()"
   ]
  },
  {
   "cell_type": "markdown",
   "id": "a9443c16-7d8a-4c5d-a8d5-77e73afdbe5d",
   "metadata": {},
   "source": [
    "### Confirm take image each camera"
   ]
  },
  {
   "cell_type": "code",
   "execution_count": null,
   "id": "ddb585cd-36c6-41d6-9b03-37bb5de09de5",
   "metadata": {
    "tags": []
   },
   "outputs": [],
   "source": [
    "reason = \"header_check\"\n",
    "await camera_list[0].take_object(exptime=1., reason=reason)\n",
    "await camera_list[1].take_object(exptime=1., reason=reason)\n",
    "await camera_list[2].take_object(exptime=1., reason=reason)"
   ]
  },
  {
   "cell_type": "markdown",
   "id": "c6f1de9d-4155-4c7f-ae47-4e0dd3a100e5",
   "metadata": {},
   "source": [
    "### Confirm Take Images in Sync"
   ]
  },
  {
   "cell_type": "code",
   "execution_count": null,
   "id": "1eda82b9-4b27-4b96-b361-c4312c22d16b",
   "metadata": {
    "tags": []
   },
   "outputs": [],
   "source": [
    "await vandv.slew_and_track.take_images_in_sync_for_time(\n",
    "    camera_list, \n",
    "    exposure_times, \n",
    "    reason=\"test_take_images_in_sync\", \n",
    "    tracktime=60,\n",
    "    sleep=sleep_time,\n",
    ")"
   ]
  },
  {
   "cell_type": "markdown",
   "id": "b4c2c5f0-256a-41ce-9074-f55eb74c9830",
   "metadata": {
    "tags": []
   },
   "source": [
    "### Other preparation\n",
    "\n",
    "- LVV-T2713 (1.0) Establish TMA - StarTracker Axis Angle Reference"
   ]
  },
  {
   "cell_type": "markdown",
   "id": "07ee5aca-a99b-4848-8022-7111e90bc69d",
   "metadata": {},
   "source": [
    "## Helper functions\n",
    "\n",
    "We moved all the helper functions in this notebook to [`lsst.sitcom.vandv.slew_and_track`].  \n",
    "The interesting ones for this notebook are:\n",
    "\n",
    "* `vandv.slew_and_track.generate_azel_sequence`\n",
    "* `vandv.slew_and_track.take_images_in_sync_for_time`\n",
    "\n",
    "[`lsst.sitcom.vandv.slew_and_track`]: https://github.com/lsst-sitcom/notebooks_vandv/blob/develop/python/lsst/sitcom/vandv/slew_and_track.py"
   ]
  },
  {
   "cell_type": "markdown",
   "id": "cda271b5-ac7d-40d5-8925-dc7f60cefa2a",
   "metadata": {},
   "source": [
    "## Data Acquisition"
   ]
  },
  {
   "cell_type": "markdown",
   "id": "e3ef9f4a-f004-4a16-9b0f-00d25cfe5dc4",
   "metadata": {},
   "source": [
    "### Loop without TMA tracking and without Dome Following"
   ]
  },
  {
   "cell_type": "markdown",
   "id": "a247c385-bc3b-4a8b-b198-0194af559228",
   "metadata": {},
   "source": [
    "The following cell is isolated to allow continuing the grid from a point where you stopped. "
   ]
  },
  {
   "cell_type": "code",
   "execution_count": null,
   "id": "cbd68403-9a42-4654-baf9-cdb12ed855bd",
   "metadata": {
    "tags": []
   },
   "outputs": [],
   "source": [
    "azel_raw = [(az, el) for az, el in vandv.slew_and_track.generate_azel_sequence(az_grid, el_grid, el_limit=90.)]\n",
    "\n",
    "## Uncomment this to run backward azimuth grid\n",
    "# azel_raw = azel_raw[::-1]\n",
    "\n",
    "for i, (az, el) in enumerate(azel_raw):\n",
    "    print(i, az, el)"
   ]
  },
  {
   "cell_type": "markdown",
   "id": "fd67f7fc-f2c3-4d78-b1db-9bf893d25dfb",
   "metadata": {},
   "source": [
    "---\n",
    "Uncomment and edit the lines below if you need a smaller grid for now."
   ]
  },
  {
   "cell_type": "code",
   "execution_count": null,
   "id": "83080e4d-9824-427d-8ca8-0c2cadc24ef7",
   "metadata": {
    "tags": []
   },
   "outputs": [],
   "source": [
    "# az_grid_tiny = [130]\n",
    "# el_grid_tiny = [40]\n",
    "# azel_raw = [(az, el) for az, el in generate_azel_sequence(az_grid_tiny, el_grid_tiny)]"
   ]
  },
  {
   "cell_type": "markdown",
   "id": "1df2b6ac-749a-4846-8525-330bbb008db9",
   "metadata": {},
   "source": [
    "---\n",
    "Uncomment the line bellow and replace i with the position index from the loop below"
   ]
  },
  {
   "cell_type": "code",
   "execution_count": null,
   "id": "1ba0974d-c4eb-438e-8353-5afc46703c32",
   "metadata": {
    "tags": []
   },
   "outputs": [],
   "source": [
    "recover_index = 0\n",
    "azel = azel_raw[recover_index::]\n",
    "print(azel)"
   ]
  },
  {
   "cell_type": "markdown",
   "id": "53004102-6101-4a84-935c-23be5da7c236",
   "metadata": {},
   "source": [
    "---\n",
    "This is the main loop. See comments in the code for details."
   ]
  },
  {
   "cell_type": "code",
   "execution_count": null,
   "id": "48b33ccc-41c1-43c8-94f3-d2cbcb579a90",
   "metadata": {
    "tags": []
   },
   "outputs": [],
   "source": [
    "script.log.info(f\"{base_msg} Serpent Walk Backward - Continue\")\n",
    "\n",
    "# Initialize current_az to protect the Dome. \n",
    "# We only send move commands if we are going to a different az.\n",
    "current_az = 0\n",
    "\n",
    "for i, (az, el) in enumerate(azel):\n",
    "    \n",
    "    ## All of the following steps should be included in the point_azel command\n",
    "    ## - Point the Dome\n",
    "    ## - Wait the Dome to arrive    \n",
    "    ## - Point the TMA\n",
    "    ## - Wait the TMA to arrive\n",
    "    script.log.info(f\"{base_msg} Data acquisition #{i + recover_index} at az={az} and el={el} - Start\")\n",
    "    \n",
    "    ## Disable dome following for now\n",
    "    script.log.info(f\"{base_msg} Dome following - Disable\")\n",
    "    # await mtcs.disable_dome_following()    \n",
    "    mtcs.check.mtdometrajectory = False\n",
    "    \n",
    "    ## Start moving the Dome (only if we are going to a new Az)\n",
    "    if az != current_az:\n",
    "        script.log.info(f\"{base_msg} Moving Dome to az={az} - START\")\n",
    "        await mtcs.rem.mtdome.cmd_exitFault.set_start()\n",
    "        await asyncio.sleep(5)\n",
    "        await mtcs.rem.mtdome.cmd_moveAz.set_start(position=az, velocity=0)\n",
    "        dome_task = asyncio.create_task(wait_for_dome_in_position())\n",
    "    else:\n",
    "        script.log.info(f\"{base_msg} Keep Dome at az={az}\")\n",
    "    \n",
    "    ## Point Az/El\n",
    "    script.log.info(f\"{base_msg} Point to az={az}, el={el} - Start\")\n",
    "    radec = mtcs.radec_from_azel(az, el)\n",
    "    await mtcs.slew_icrs(ra=radec.ra, dec=radec.dec, rot=0, rot_type=RotType.Physical)\n",
    "    script.log.info(f\"{base_msg} Point to az={az}, el={el} - Done\")    \n",
    "    \n",
    "    ## Wait until dome in position\n",
    "    if az != current_az:\n",
    "        await dome_task\n",
    "        script.log.info(f\"{base_msg} Moving Dome to az={az} - DONE\")\n",
    "\n",
    "    ## Sleep and engage dome breaks\n",
    "    script.log.info(f\"{base_msg} Dome Brakes - Start\")\n",
    "    await asyncio.sleep(10)\n",
    "    sub_system_ids = SubSystemId.AMCS\n",
    "    await mtcs.rem.mtdome.cmd_stop.set_start(engageBrakes=True, subSystemIds=sub_system_ids)\n",
    "    script.log.info(f\"{base_msg} Dome Brakes - Done\")\n",
    "    \n",
    "    ## Take images in sync - this will increase overhead on the camera with shorter exposure time.\n",
    "    script.log.info(f\"{base_msg} Take image(s) - Start\")\n",
    "    await vandv.slew_and_track.take_images_in_sync_for_time(camera_list, \n",
    "                                                            exposure_times,\n",
    "                                                            reason=f\"{base_msg[:-1]}_{i:03d}\", \n",
    "                                                            tracktime=track_time,\n",
    "                                                            sleep=sleep_time)\n",
    "    script.log.info(f\"{base_msg} Take image(s) - Done\")\n",
    "\n",
    "    script.log.info(f\"{base_msg} Data acquisition #{i + recover_index} at az={az} and el={el} - Done\")\n",
    "    \n",
    "    # Store current az to avoid sending dome to same place\n",
    "    current_az = az\n",
    "    \n",
    "    # ExitFault just in case\n",
    "    await mtcs.rem.mtdome.cmd_exitFault.set_start()\n",
    "    \n",
    "script.log.info(f\"{base_msg} Serpent Walk Backward - Done\")"
   ]
  },
  {
   "cell_type": "markdown",
   "id": "50ebb454-6448-44d7-be9d-e555c963f6fe",
   "metadata": {},
   "source": [
    "## Slew and track a single target using Ra/Dec"
   ]
  },
  {
   "cell_type": "markdown",
   "id": "3e458ef1-884c-4715-84e6-ceb2095a5c8f",
   "metadata": {},
   "source": [
    "Read Ra/Dec and convert to Az/El:"
   ]
  },
  {
   "cell_type": "code",
   "execution_count": null,
   "id": "d80de3df-5084-4a63-bd41-7d9fed4f6073",
   "metadata": {
    "tags": []
   },
   "outputs": [],
   "source": [
    "coord = SkyCoord(\"05h23m27.4s -69°43'59.5\", unit=(u.hourangle, u.deg), frame=\"icrs\")\n",
    "script.log.info(\"Slew and track single target - Sky coordinate:\", coord)\n",
    "\n",
    "azel = mtcs.azel_from_radec(coord.ra, coord.dec)\n",
    "az, el = azel.az.deg, azel.alt.deg\n",
    "script.log.info(\"Slew and track single target - Local coordinates:\", az, el)"
   ]
  },
  {
   "cell_type": "code",
   "execution_count": null,
   "id": "db89d523-9a8e-4122-9318-1455e6c48132",
   "metadata": {
    "tags": []
   },
   "outputs": [],
   "source": [
    "script.log.info(\"Slew and track single target - START\")\n",
    "\n",
    "## Disable dome following for now\n",
    "script.log.info(f\"{base_msg} Dome following - Disable\")\n",
    "await mtcs.disable_dome_following()    \n",
    "mtcs.check.mtdometrajectory = False\n",
    "\n",
    "## Start moving the Dome\n",
    "script.log.info(f\"{base_msg} Moving Dome to az={az} - START\")\n",
    "await mtcs.rem.mtdome.cmd_exitFault.set_start()\n",
    "await asyncio.sleep(5)\n",
    "await mtcs.rem.mtdome.cmd_moveAz.set_start(position=az, velocity=0)\n",
    "dome_task = asyncio.create_task(wait_for_dome_in_position())\n",
    "\n",
    "## Point Az/El\n",
    "script.log.info(f\"{base_msg} Point to az={az}, el={el} - Start\")\n",
    "radec = mtcs.radec_from_azel(az, el)\n",
    "await mtcs.slew_icrs(ra=radec.ra, dec=radec.dec, rot=0, rot_type=RotType.Physical)\n",
    "script.log.info(f\"{base_msg} Point to az={az}, el={el} - Done\")\n",
    "\n",
    "## Wait until dome in position\n",
    "await dome_task\n",
    "script.log.info(f\"{base_msg} Moving Dome to az={az} - DONE\")\n",
    "\n",
    "## Sleep and engage dome breaks\n",
    "script.log.info(f\"{base_msg} Dome Brakes - Start\")\n",
    "await asyncio.sleep(10)\n",
    "sub_system_ids = SubSystemId.AMCS\n",
    "await mtcs.rem.mtdome.cmd_stop.set_start(engageBrakes=True, subSystemIds=sub_system_ids)\n",
    "script.log.info(f\"{base_msg} Dome Brakes - Done\")\n",
    "\n",
    "await vandv.slew_and_track.take_images_in_sync_for_time(camera_list, \n",
    "                                                        exposure_times,\n",
    "                                                        reason=f\"{base_msg[:-1]}_single\", \n",
    "                                                        tracktime=track_time,\n",
    "                                                        sleep=sleep_time)\n",
    "script.log.info(f\"{base_msg} Take image(s) - Done\")    \n",
    "script.log.info(f\"{base_msg} Data acquisition #{i} at az={az} and el={el} - Done\")\n",
    "await mtcs.rem.mtdome.cmd_exitFault.set_start()\n",
    "\n",
    "script.log.info(\"Slew and track single target - Done\")"
   ]
  },
  {
   "cell_type": "markdown",
   "id": "a19b5c3a-491f-4d04-99e8-4d855fe1eaa0",
   "metadata": {},
   "source": [
    "## Slew and Long Track using Alt/Az"
   ]
  },
  {
   "cell_type": "code",
   "execution_count": null,
   "id": "cae8116f-8a8e-49a4-b78a-e111850da310",
   "metadata": {},
   "outputs": [],
   "source": [
    "az = 270\n",
    "el = 25\n",
    "script.log.info(f\"Slew and track single target - Local coordinates: {az}, {el}\")"
   ]
  },
  {
   "cell_type": "code",
   "execution_count": null,
   "id": "28d901d0-b851-4772-a1ed-3129b5ec718d",
   "metadata": {},
   "outputs": [],
   "source": [
    "## Move TMA\n",
    "radec = mtcs.radec_from_azel(az, el)\n",
    "await mtcs.slew_icrs(ra=radec.ra, dec=radec.dec, rot=0, rot_type=RotType.Physical)"
   ]
  },
  {
   "cell_type": "code",
   "execution_count": null,
   "id": "79814551-ea71-443f-baae-40e39c6bbf34",
   "metadata": {},
   "outputs": [],
   "source": [
    "## Move the Dome to the start posiiton and a bit (1 deg) off to give more slew to telescope\n",
    "await mtcs.rem.mtdome.cmd_moveAz.set_start(position=az-1, velocity=0.0)"
   ]
  },
  {
   "cell_type": "code",
   "execution_count": null,
   "id": "19e9b430-4527-4349-9164-d1626fa3450f",
   "metadata": {},
   "outputs": [],
   "source": [
    "await vandv.slew_and_track.take_images_in_sync_for_time(camera_list, \n",
    "                                                        exposure_times,\n",
    "                                                        reason=f\"{base_msg[:-1]}_{i:03d}\", \n",
    "                                                        tracktime=track_time,\n",
    "                                                        sleep=sleep_time)"
   ]
  },
  {
   "cell_type": "markdown",
   "id": "6f708ec4-f2f2-41a0-a8f7-fca8a11990d2",
   "metadata": {},
   "source": [
    "## Dome Commands"
   ]
  },
  {
   "cell_type": "markdown",
   "id": "c89fba1c-d0e4-4862-a72c-7585ef1b4ae8",
   "metadata": {},
   "source": [
    "The following commands allow to control the Dome. However, make sure it is in ENABLED state. Use LOVE to change its state."
   ]
  },
  {
   "cell_type": "markdown",
   "id": "731387e8-1fba-4ed7-8628-5c6221e1f2f6",
   "metadata": {},
   "source": [
    "### Move to position"
   ]
  },
  {
   "cell_type": "code",
   "execution_count": null,
   "id": "4f046175-b4ea-42dd-89e3-0dcd5b2d945d",
   "metadata": {},
   "outputs": [],
   "source": [
    "await mtcs.rem.mtdome.cmd_moveAz.set_start(position=186, velocity=0)"
   ]
  },
  {
   "cell_type": "markdown",
   "id": "244e87eb-0056-4375-8111-359413355878",
   "metadata": {},
   "source": [
    "### Stop the Dome"
   ]
  },
  {
   "cell_type": "code",
   "execution_count": null,
   "id": "f088418a-27cb-41ee-9977-93a6fdbef22d",
   "metadata": {},
   "outputs": [],
   "source": [
    "sub_system_ids = SubSystemId.AMCS\n",
    "await dome.cmd_stop.set_start(engageBrakes=True, subSystemIds=sub_system_ids)"
   ]
  },
  {
   "cell_type": "markdown",
   "id": "281a7103-3b12-45a0-9b4b-eeef51fe53ed",
   "metadata": {},
   "source": [
    "### Recover from fault when stopping"
   ]
  },
  {
   "cell_type": "code",
   "execution_count": null,
   "id": "87a171f0-4d95-4aeb-bd6e-47fdeb54f2e8",
   "metadata": {},
   "outputs": [],
   "source": [
    "await mtcs.rem.mtdome.cmd_exitFault.set_start()"
   ]
  }
 ],
 "metadata": {
  "kernelspec": {
   "display_name": "LSST",
   "language": "python",
   "name": "lsst"
  },
  "language_info": {
   "codemirror_mode": {
    "name": "ipython",
    "version": 3
   },
   "file_extension": ".py",
   "mimetype": "text/x-python",
   "name": "python",
   "nbconvert_exporter": "python",
   "pygments_lexer": "ipython3",
   "version": "3.10.9"
  }
 },
 "nbformat": 4,
 "nbformat_minor": 5
}
