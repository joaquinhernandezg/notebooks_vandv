{
 "cells": [
  {
   "cell_type": "code",
   "execution_count": 2,
   "id": "f5fb3007-339d-4b0b-bfda-f2a03f237eba",
   "metadata": {
    "execution": {
     "iopub.execute_input": "2023-08-29T16:49:34.046032Z",
     "iopub.status.busy": "2023-08-29T16:49:34.045418Z",
     "iopub.status.idle": "2023-08-29T16:49:34.086196Z",
     "shell.execute_reply": "2023-08-29T16:49:34.085775Z",
     "shell.execute_reply.started": "2023-08-29T16:49:34.046012Z"
    },
    "tags": []
   },
   "outputs": [
    {
     "name": "stdout",
     "output_type": "stream",
     "text": [
      "The autoreload extension is already loaded. To reload it, use:\n",
      "  %reload_ext autoreload\n"
     ]
    }
   ],
   "source": [
    "import pandas as pd\n",
    "import matplotlib.pyplot as plt\n",
    "import numpy as np\n",
    "\n",
    "from astropy.time import Time, TimezoneInfo, TimeDelta\n",
    "from statsmodels.tsa.stattools import adfuller\n",
    "\n",
    "from lsst.sitcom import vandv\n",
    "from lsst.ts.idl.enums import MTM1M3\n",
    "\n",
    "from lsst.summit.utils.tmaUtils import TMAEventMaker, TMAState\n",
    "from lsst.summit.utils.efdUtils import getEfdData, makeEfdClient, clipDataToEvent, calcNextDay\n",
    "from lsst_efd_client import EfdClient\n",
    "from tqdm import tqdm\n",
    "%matplotlib inline\n",
    "%load_ext autoreload\n",
    "%autoreload 2"
   ]
  },
  {
   "cell_type": "markdown",
   "id": "c8e0dccb-c7cb-4dd3-9d6e-0be4d0e73144",
   "metadata": {},
   "source": [
    "### For each slew:\n",
    " 1. start and end position elevation/azimuth\n",
    " 2. check if lsst.sal.MTM1M3.appliedVelocityForces and lsst.sal.MTM1M3.appliedAccelerationForces are zero \n",
    " 3. get velocity configuration from maxCmdVelocity/maxMoveVelocity\n",
    "\n",
    " "
   ]
  },
  {
   "cell_type": "code",
   "execution_count": 3,
   "id": "85079117-da92-44b4-aa45-bbd18f315ff7",
   "metadata": {
    "execution": {
     "iopub.execute_input": "2023-08-29T16:49:35.062126Z",
     "iopub.status.busy": "2023-08-29T16:49:35.061494Z",
     "iopub.status.idle": "2023-08-29T16:49:35.099093Z",
     "shell.execute_reply": "2023-08-29T16:49:35.098653Z",
     "shell.execute_reply.started": "2023-08-29T16:49:35.062110Z"
    },
    "tags": []
   },
   "outputs": [],
   "source": [
    "def get_data(begin, end, client):\n",
    "    \"Extract all the MTMount data from the EFD and add to dict\"\n",
    "    query_dict={}\n",
    "\n",
    "    query_dict[\"el\"] = getEfdData(\n",
    "                client,\n",
    "                \"lsst.sal.MTMount.elevation\",\n",
    "                columns=[\"private_sndStamp\", \"private_efdStamp\", \"actualPosition\", \"actualVelocity\", \"actualTorque\"],\n",
    "                begin=begin,\n",
    "                end=end,\n",
    "                prePadding=10,\n",
    "                postPadding=10,\n",
    "                warn=False,\n",
    "            )\n",
    "    query_dict[\"az\"] = getEfdData(\n",
    "                client,\n",
    "                \"lsst.sal.MTMount.azimuth\",\n",
    "                columns=[\"private_sndStamp\", \"private_efdStamp\", \"actualPosition\", \"actualVelocity\", \"actualTorque\"],\n",
    "                begin=begin,\n",
    "                end=end,\n",
    "                prePadding=10,\n",
    "                postPadding=10,\n",
    "                warn=False,\n",
    "            )\n",
    "    return query_dict\n",
    "\n",
    "def check_for_forces(event, client):\n",
    "    appliedVelocityForces = getEfdData(\n",
    "                client,\n",
    "                \"lsst.sal.MTM1M3.appliedVelocityForces\",\n",
    "                #columns=[\"private_sndStamp\", \"\"],\n",
    "                event=event,\n",
    "                prePadding=0,\n",
    "                postPadding=0,\n",
    "                warn=False,\n",
    "            )\n",
    "    appliedAccelerationForces = getEfdData(\n",
    "                client,\n",
    "                \"lsst.sal.MTM1M3.appliedAccelerationForces\",\n",
    "                #columns=[\"private_sndStamp\", \"\"],\n",
    "                event=event,\n",
    "                prePadding=0,\n",
    "                postPadding=0,\n",
    "                warn=False,\n",
    "            )\n",
    "    \n",
    "    \n",
    "    ret_bool = appliedVelocityForces[[c for c in appliedVelocityForces.columns if \"Forces\" in c]].eq(0).all().eq(True).all()\n",
    "    ret_bool &= appliedAccelerationForces[[c for c in appliedAccelerationForces.columns if \"Forces\" in c]].eq(0).all().eq(True).all()\n",
    "    return ret_bool"
   ]
  },
  {
   "cell_type": "code",
   "execution_count": 4,
   "id": "624c1d51-8919-4673-8c7c-af0d9a5e4983",
   "metadata": {
    "execution": {
     "iopub.execute_input": "2023-08-29T16:49:35.952113Z",
     "iopub.status.busy": "2023-08-29T16:49:35.951784Z",
     "iopub.status.idle": "2023-08-29T16:49:35.990787Z",
     "shell.execute_reply": "2023-08-29T16:49:35.990392Z",
     "shell.execute_reply.started": "2023-08-29T16:49:35.952099Z"
    },
    "tags": []
   },
   "outputs": [],
   "source": [
    "state_dict={TMAState.TRACKING:\"tracking\",TMAState.SLEWING:\"slewing\"}\n",
    "def characterize_slews(dayObs, client):\n",
    "    # Select data from a given date\n",
    "    eventMaker = TMAEventMaker()\n",
    "    events = eventMaker.getEvents(dayObs)\n",
    "\n",
    "    # Get lists of slew and track events\n",
    "    events_list = [e for e in events if (e.type==TMAState.SLEWING) | (e.type==TMAState.TRACKING)]\n",
    "    print(len(events_list))\n",
    "    event_dict={\n",
    "        \"day_obs\":[],\n",
    "        \"seq_num\":[],\n",
    "        \"state\":[],\n",
    "        \"time_begin\":[],\n",
    "        \"time_end\":[],\n",
    "        \"duration\":[],\n",
    "        \"az_begin\":[],\n",
    "        \"az_end\":[],\n",
    "        \"az_max_vel\":[],\n",
    "        \"el_begin\":[],\n",
    "        \"el_end\":[],\n",
    "        \"el_max_vel\":[],\n",
    "        \"inertial_compensation\":[],\n",
    "        \n",
    "    }\n",
    "    if len(events_list) < 1:\n",
    "        return event_dict\n",
    "    query_dict= get_data(events_list[0].begin,events_list[-1].end, client)\n",
    "    print(\"data queried\")\n",
    "    \n",
    "    for event in tqdm(events_list):\n",
    "        event_dict[\"day_obs\"].append(dayObs)\n",
    "        event_dict[\"seq_num\"].append(event.seqNum)\n",
    "        event_dict[\"state\"].append(state_dict[event.type])\n",
    "        event_dict[\"time_begin\"].append(event.begin.unix)\n",
    "        event_dict[\"time_end\"].append(event.end.unix)\n",
    "        event_dict[\"duration\"].append(event.duration)\n",
    "        for axis in [\"az\",\"el\"]:\n",
    "            subdat=clipDataToEvent(query_dict[axis], event)\n",
    "            if len(subdat) < 2:\n",
    "                event_dict[f\"{axis}_begin\"].append(np.nan) \n",
    "                event_dict[f\"{axis}_end\"].append(np.nan)\n",
    "                event_dict[f\"{axis}_max_vel\"].append(np.nan)\n",
    "            else:\n",
    "                event_dict[f\"{axis}_begin\"].append(subdat[\"actualPosition\"][0])\n",
    "                event_dict[f\"{axis}_end\"].append(subdat[\"actualPosition\"][-1])\n",
    "                event_dict[f\"{axis}_max_vel\"].append(max(subdat[\"actualVelocity\"], key=abs))\n",
    "        event_dict[\"inertial_compensation\"].append(check_for_forces(event, client)==False)\n",
    "    return event_dict"
   ]
  },
  {
   "cell_type": "code",
   "execution_count": 8,
   "id": "d70d717e-0ecf-452c-8f15-7cc937576405",
   "metadata": {
    "execution": {
     "iopub.execute_input": "2023-08-29T16:50:06.220017Z",
     "iopub.status.busy": "2023-08-29T16:50:06.219424Z",
     "iopub.status.idle": "2023-08-29T16:50:06.254320Z",
     "shell.execute_reply": "2023-08-29T16:50:06.253933Z",
     "shell.execute_reply.started": "2023-08-29T16:50:06.220003Z"
    },
    "tags": []
   },
   "outputs": [],
   "source": [
    "begin_day_obs = 20230802\n",
    "end_day_obs = 20230803"
   ]
  },
  {
   "cell_type": "code",
   "execution_count": 11,
   "id": "ca17f868-ec91-40cc-91ae-32a3facdabac",
   "metadata": {
    "execution": {
     "iopub.execute_input": "2023-08-29T16:50:40.269199Z",
     "iopub.status.busy": "2023-08-29T16:50:40.268907Z",
     "iopub.status.idle": "2023-08-29T16:58:40.212901Z",
     "shell.execute_reply": "2023-08-29T16:58:40.212516Z",
     "shell.execute_reply.started": "2023-08-29T16:50:40.269186Z"
    },
    "tags": []
   },
   "outputs": [
    {
     "name": "stdout",
     "output_type": "stream",
     "text": [
      "20230802 already_done\n"
     ]
    },
    {
     "data": {
      "text/html": [
       "<pre style=\"margin: 0.1em;\n",
       "padding-left: 0.25em;\n",
       "border-left-style: solid;\n",
       "font-family: var(--jp-code-font-family);\n",
       "font-size: var(--jp-code-font-size);\n",
       "line-height: var(--jp-code-line-height);\n",
       "\"><span style=\"color: var(--jp-warn-color2)\">lsst.summit.utils.tmaUtils</span> <span style=\"color: var(--jp-info-color0)\">INFO</span>: Retrieving mount data for 20230802 from the EFD</pre>"
      ],
      "text/plain": [
       "<IPython.core.display.HTML object>"
      ]
     },
     "metadata": {},
     "output_type": "display_data"
    },
    {
     "name": "stdout",
     "output_type": "stream",
     "text": [
      "503\n",
      "data queried\n"
     ]
    },
    {
     "name": "stderr",
     "output_type": "stream",
     "text": [
      "100%|██████████| 503/503 [07:36<00:00,  1.10it/s]\n"
     ]
    },
    {
     "name": "stdout",
     "output_type": "stream",
     "text": [
      "20230803 already_done\n"
     ]
    },
    {
     "data": {
      "text/html": [
       "<pre style=\"margin: 0.1em;\n",
       "padding-left: 0.25em;\n",
       "border-left-style: solid;\n",
       "font-family: var(--jp-code-font-family);\n",
       "font-size: var(--jp-code-font-size);\n",
       "line-height: var(--jp-code-line-height);\n",
       "\"><span style=\"color: var(--jp-warn-color2)\">lsst.summit.utils.tmaUtils</span> <span style=\"color: var(--jp-info-color0)\">INFO</span>: Retrieving mount data for 20230803 from the EFD</pre>"
      ],
      "text/plain": [
       "<IPython.core.display.HTML object>"
      ]
     },
     "metadata": {},
     "output_type": "display_data"
    },
    {
     "data": {
      "text/html": [
       "<pre style=\"margin: 0.1em;\n",
       "padding-left: 0.25em;\n",
       "border-left-style: solid;\n",
       "font-family: var(--jp-code-font-family);\n",
       "font-size: var(--jp-code-font-size);\n",
       "line-height: var(--jp-code-line-height);\n",
       "\"><span style=\"color: var(--jp-warn-color2)\">lsst.summit.utils.tmaUtils</span> <span style=\"color: var(--jp-warn-color0)\">WARNING</span>: No EFD data found for dayObs=20230803</pre>"
      ],
      "text/plain": [
       "<IPython.core.display.HTML object>"
      ]
     },
     "metadata": {},
     "output_type": "display_data"
    },
    {
     "name": "stdout",
     "output_type": "stream",
     "text": [
      "0\n"
     ]
    }
   ],
   "source": [
    "current_day_obs = begin_day_obs\n",
    "while int(current_day_obs) <= int(end_day_obs):\n",
    "    next_day_obs = calcNextDay(current_day_obs)\n",
    "    dayObs=current_day_obs\n",
    "    outpath=f\"../data/{dayObs}_slew_characterization.csv\"\n",
    "    if os.path.exists(outpath):\n",
    "        print(f\"{dayObs} already_done\")\n",
    "    else: \n",
    "        print(\"hi\")\n",
    "    client = makeEfdClient()\n",
    "    dat=characterize_slews(dayObs, client)\n",
    "    summary_frame=pd.DataFrame(dat)\n",
    "    summary_frame.to_csv(outpath)\n",
    "        \n",
    "    current_day_obs = next_day_obs"
   ]
  },
  {
   "cell_type": "code",
   "execution_count": null,
   "id": "8e1dcf7a-c8e4-4ca8-b881-d5ebce505e9a",
   "metadata": {},
   "outputs": [],
   "source": []
  }
 ],
 "metadata": {
  "kernelspec": {
   "display_name": "LSST",
   "language": "python",
   "name": "lsst"
  },
  "language_info": {
   "codemirror_mode": {
    "name": "ipython",
    "version": 3
   },
   "file_extension": ".py",
   "mimetype": "text/x-python",
   "name": "python",
   "nbconvert_exporter": "python",
   "pygments_lexer": "ipython3",
   "version": "3.11.4"
  }
 },
 "nbformat": 4,
 "nbformat_minor": 5
}
