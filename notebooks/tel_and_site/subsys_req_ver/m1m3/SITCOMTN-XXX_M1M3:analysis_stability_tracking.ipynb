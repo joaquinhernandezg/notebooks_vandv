{
 "cells": [
  {
   "cell_type": "markdown",
   "id": "4f9debea-aa94-4f87-8d9b-0c74c3d648dd",
   "metadata": {},
   "source": [
    "# [SITCOMTN-XXX] - M1M3 - analyze position and rotation stability throughout a tracking period\n",
    "\n",
    "2023-12-14 Laura\n",
    "\n",
    "This notebook evaluates displacements of M1M3 for X, Y, Z, RX, RY, and RZ during the period beteween slews while tracking (approximately 30 s) and check if they comply with the 2 micron and 2e-5 degree requirement.\n"
   ]
  },
  {
   "cell_type": "code",
   "execution_count": 188,
   "id": "2dbd7a63-897f-4093-b397-3e1c6b145e56",
   "metadata": {
    "execution": {
     "iopub.execute_input": "2023-12-21T16:19:47.699594Z",
     "iopub.status.busy": "2023-12-21T16:19:47.698962Z",
     "iopub.status.idle": "2023-12-21T16:19:47.753417Z",
     "shell.execute_reply": "2023-12-21T16:19:47.752963Z",
     "shell.execute_reply.started": "2023-12-21T16:19:47.699577Z"
    }
   },
   "outputs": [
    {
     "name": "stdout",
     "output_type": "stream",
     "text": [
      "The autoreload extension is already loaded. To reload it, use:\n",
      "  %reload_ext autoreload\n"
     ]
    }
   ],
   "source": [
    "%matplotlib inline\n",
    "%load_ext autoreload\n",
    "%autoreload 2"
   ]
  },
  {
   "cell_type": "code",
   "execution_count": 189,
   "id": "8c1640f9-f391-495f-8267-788011435bc5",
   "metadata": {
    "execution": {
     "iopub.execute_input": "2023-12-21T16:19:49.581648Z",
     "iopub.status.busy": "2023-12-21T16:19:49.581253Z",
     "iopub.status.idle": "2023-12-21T16:19:49.626505Z",
     "shell.execute_reply": "2023-12-21T16:19:49.626117Z",
     "shell.execute_reply.started": "2023-12-21T16:19:49.581632Z"
    }
   },
   "outputs": [],
   "source": [
    "import pandas as pd\n",
    "import matplotlib.pyplot as plt\n",
    "import numpy as np\n",
    "\n",
    "from astropy.time import Time, TimezoneInfo\n",
    "from statsmodels.tsa.stattools import adfuller\n",
    "\n",
    "from lsst.summit.utils.tmaUtils import TMAEventMaker, TMAState\n",
    "from lsst.summit.utils.efdUtils import getEfdData, makeEfdClient\n",
    "\n",
    "from datetime import timedelta, datetime\n",
    "import warnings\n",
    "warnings.filterwarnings('ignore')"
   ]
  },
  {
   "cell_type": "code",
   "execution_count": 190,
   "id": "8e5f2a7a-0924-41ce-863e-1ae9885144f8",
   "metadata": {
    "execution": {
     "iopub.execute_input": "2023-12-21T16:19:52.489611Z",
     "iopub.status.busy": "2023-12-21T16:19:52.489310Z",
     "iopub.status.idle": "2023-12-21T16:19:53.016171Z",
     "shell.execute_reply": "2023-12-21T16:19:53.015715Z",
     "shell.execute_reply.started": "2023-12-21T16:19:52.489595Z"
    }
   },
   "outputs": [],
   "source": [
    "# create a client to retrieve datasets in the EFD database\n",
    "client = makeEfdClient()"
   ]
  },
  {
   "cell_type": "markdown",
   "id": "3a36e392-2395-4980-9018-029f08a4b83f",
   "metadata": {
    "execution": {
     "iopub.execute_input": "2023-12-14T17:20:47.856706Z",
     "iopub.status.busy": "2023-12-14T17:20:47.856507Z",
     "iopub.status.idle": "2023-12-14T17:20:47.902144Z",
     "shell.execute_reply": "2023-12-14T17:20:47.901630Z",
     "shell.execute_reply.started": "2023-12-14T17:20:47.856691Z"
    }
   },
   "source": [
    "### Define relevant settings"
   ]
  },
  {
   "cell_type": "markdown",
   "id": "1c266157-70b8-4a8e-921c-9ca92c88520a",
   "metadata": {},
   "source": [
    "#### Requirements"
   ]
  },
  {
   "cell_type": "code",
   "execution_count": 191,
   "id": "b37c795f-8705-4dd1-9b5a-06084872d61a",
   "metadata": {
    "execution": {
     "iopub.execute_input": "2023-12-21T16:19:57.316111Z",
     "iopub.status.busy": "2023-12-21T16:19:57.315796Z",
     "iopub.status.idle": "2023-12-21T16:19:57.361214Z",
     "shell.execute_reply": "2023-12-21T16:19:57.360830Z",
     "shell.execute_reply.started": "2023-12-21T16:19:57.316096Z"
    }
   },
   "outputs": [],
   "source": [
    "req_rms_position = 2e-3 ## mm, tolerance from repeatability requirement for IMS positional\n",
    "req_rms_rotation = 2e-5 ## degrees, tolerance from repeatability requirement for IMS rotational"
   ]
  },
  {
   "cell_type": "markdown",
   "id": "14c09626-6275-45f7-9c7b-eb5a8ba5faaf",
   "metadata": {},
   "source": [
    "### Define functions"
   ]
  },
  {
   "cell_type": "code",
   "execution_count": 192,
   "id": "c188df94-28fe-43b9-8841-9f622ac0f7a2",
   "metadata": {
    "execution": {
     "iopub.execute_input": "2023-12-21T16:20:24.837654Z",
     "iopub.status.busy": "2023-12-21T16:20:24.837173Z",
     "iopub.status.idle": "2023-12-21T16:20:24.890462Z",
     "shell.execute_reply": "2023-12-21T16:20:24.890050Z",
     "shell.execute_reply.started": "2023-12-21T16:20:24.837636Z"
    }
   },
   "outputs": [],
   "source": [
    "def computeSettleTrack(\n",
    "    df_ims,  # input data frame\n",
    "    referenceTime=\"2023-06-01T06:00:0Z\",  # time for slew start\n",
    "    end_time = \"2023-06-01T06:00:0Z\",  # time for track stop\n",
    "    #lo_delta_t=5,  # in seconds   ****CAMBIAR ESTOS VALORES***\n",
    "    #hi_delta_t=30,  # in seconds\n",
    "    imsColumn=\"xPosition\",  # IMS column\n",
    "    rmsReq=2e-3,  # requirement in appropriate units\n",
    "    #req_delta_t=3,  # time for settling, in seconds\n",
    "    chi2prob=0.999,  # confidence level for IMS variable wrt to long term value and variance to agree\n",
    "    delta_t=5\n",
    "):\n",
    "    if \"Position\" in imsColumn:\n",
    "        units = \"mm\"\n",
    "        ylimMax = rmsReq + 0.005\n",
    "    elif \"Rotation\" in imsColumn:\n",
    "        units = \"deg\"\n",
    "        ylimMax = rmsReq + 0.0001\n",
    "    else:\n",
    "        print(\"Unidentified column\")\n",
    "        return -1\n",
    "  \n",
    "    #for i in range(slews_count - 1):\n",
    "    #    slew_start = slews.index[i]\n",
    "    #    slew_end = slews.index[i + 1]\n",
    "\n",
    "    # Define Times\n",
    "    T0 = pd.to_datetime(referenceTime) - pd.to_timedelta(delta_t, unit=\"s\")\n",
    "    T1 = pd.to_datetime(end_t) + pd.to_timedelta(delta_t, unit=\"s\")\n",
    "    t_track_starts = pd.to_datetime(referenceTime)\n",
    "    t_track_ends = pd.to_datetime(end_t)\n",
    "   \n",
    "    #delta_window = [\n",
    "    #    pd.Timedelta(T0, \"seconds\"),\n",
    "    #    pd.Timedelta(T1, \"seconds\"),\n",
    "    #]\n",
    "    # zoom around the T0 of interest\n",
    "    #TZoom = [T0, T1]\n",
    "    \n",
    "    # targetVariablePlot takes the data frame for the complete plot range\n",
    "    targetVariablePlot = df_ims[imsColumn][T0 : T1]\n",
    "    # targetVariableCheck takes the data from the slew stop, until the end of the plot\n",
    "    targetVariableCheck = df_ims[imsColumn][t_track_starts : t_track_ends]\n",
    "    # targetVariableWindow takes the data from the slew stop, until the end of requirement window\n",
    "    #targetVariableWindow = df_ims[imsColumn][T0:T1]\n",
    "    \n",
    "    idxT0 = df_ims.index[  # index in dataframe closest in time to slew stop\n",
    "        df_ims.index.get_indexer([pd.to_datetime(T0)], method=\"nearest\")\n",
    "    ]\n",
    "    idxT1 = (\n",
    "        df_ims.index[  # index in dataframe closest in time to end of requirement window\n",
    "            df_ims.index.get_indexer([pd.to_datetime(T1)], method=\"nearest\")\n",
    "        ]\n",
    "    )\n",
    "    idxTend = df_ims.index[  # index in dataframe closest in time to end of plot\n",
    "        df_ims.index.get_indexer(\n",
    "            [pd.to_datetime(T0 + delta_window[1])], method=\"nearest\"\n",
    "        )\n",
    "    ]\n",
    "    targetVariableReference = [\n",
    "        float(df_ims[imsColumn][idxT0]),\n",
    "        float(df_ims[imsColumn][idxTend]),\n",
    "    ]\n",
    "    if len(targetVariablePlot.index) == 0:\n",
    "        print(\"Data frame is empty\")\n",
    "        return -1\n",
    "\n",
    "    # it is important that the end of the plot (targetVariableReference[1])\n",
    "    # does not hit another slew or movement, nor at any point in the middle of the window\n",
    "\n",
    "    # correct IMS variable wrt end of plot\n",
    "    correctedVariablePlot = targetVariablePlot - targetVariableReference[1]\n",
    "    correctedVariableCheck = targetVariableCheck - targetVariableReference[1]\n",
    "    correctedVariableCheck2 = np.square(correctedVariableCheck)\n",
    "\n",
    "    # number of values where the chi2 will be computed\n",
    "    rolling = 10  # 50 is approx. 1 s\n",
    "    # chi2 right tail probability for N=rolling dof at chi2prob CL\n",
    "    crit = stats.chi2.ppf(chi2prob, rolling)\n",
    "\n",
    "    rms = correctedVariableCheck.rolling(rolling).std()\n",
    "    var = correctedVariableCheck.rolling(rolling).var()\n",
    "    mean = abs(correctedVariableCheck.rolling(rolling).mean())\n",
    "\n",
    "    # compute the chi2 against the null hypothesis\n",
    "    # the x_i are the measurements in a window (wrt to reference at end of plot)\n",
    "    # the variance is for the same values\n",
    "    # so chi2 = sum_N[(x_i - 0)**2/variance] where N = rolling\n",
    "    sum2 = correctedVariableCheck2.rolling(rolling).sum()\n",
    "    chi2 = sum2 / var\n",
    "    # check the chi2 at each step using rollingCheck as the number of consecutive instances in which\n",
    "    # chi2 has to be under the critical value\n",
    "    # or rms and bias be both already 10% of requirement\n",
    "    PFCheck = (chi2 < crit) | ((rms < 0.1 * rmsReq) & (mean < 0.1 * rmsReq))\n",
    "    # PFCheck = (rms < 0.2 * rmsReq) & (mean < 0.5 * rmsReq)\n",
    "    rollingCheck = 10\n",
    "    stabilityCheck = (\n",
    "        PFCheck.rolling(rollingCheck).apply(lambda s: s.all()) > 0\n",
    "    )  # true if rollingCheck consecutive true values of PFcheck\n",
    "    if len(stabilityCheck[stabilityCheck == True]) < rollingCheck:  ## == 0:\n",
    "        # print(f\"Not settled within {postPadding} s window\")\n",
    "        settleTime = False\n",
    "    elif rms[stabilityCheck[stabilityCheck == True].index[0]] <= rmsReq:\n",
    "        settleTime = stabilityCheck[stabilityCheck == True].index[rollingCheck]\n",
    "    else:\n",
    "        n = 1\n",
    "        while (\n",
    "            rms[stabilityCheck[stabilityCheck == True].index[n + rollingCheck]] > rmsReq\n",
    "        ):\n",
    "            settleTime = stabilityCheck[stabilityCheck == True].index[n + rollingCheck]\n",
    "            n = n + 1\n",
    "        # if settleTime < referenceTime:\n",
    "        #    settleTime = referenceTime\n",
    "    settleInterval = -1\n",
    "    if settleTime:\n",
    "        settleInterval = settleTime - referenceTime\n",
    "        if settleInterval.total_seconds() < 0:\n",
    "            print(f\"Already settled at slew stop\")\n",
    "            settleInterval = 0\n",
    "        else:\n",
    "            settleInterval = settleInterval.total_seconds()\n",
    "\n",
    "    title = imsColumn\n",
    "    fig = plt.figure()\n",
    "    label = \"Corrected \" + imsColumn + \"(\" + units + \") difference wrt end of plot\"\n",
    "    plt.plot(\n",
    "        correctedVariablePlot,\n",
    "        color=\"red\",\n",
    "        ls=\"dashed\",\n",
    "        lw=\"0.5\",\n",
    "        label=label,\n",
    "    )\n",
    "    plt.plot(rms, label=f\"RMS of corrected value, using {rolling} rolling values\")\n",
    "    plt.plot(\n",
    "        mean,\n",
    "        ls=\"dashed\",\n",
    "        label=f\"Bias of corrected value, using {rolling} rolling values\",\n",
    "    )\n",
    "    if settleTime:\n",
    "        plt.arrow(\n",
    "            settleTime,\n",
    "            1.1 * rmsReq,\n",
    "            0.0,\n",
    "            -0.5 * rmsReq,\n",
    "            width=2e-6,\n",
    "            head_length=0.5 * rmsReq,\n",
    "        )\n",
    "        plt.text(\n",
    "            0.5,\n",
    "            0.92,\n",
    "            \"Settle time =\" + \" {:.2f} \".format(settleInterval) + \" s\",\n",
    "            transform=fig.transFigure,\n",
    "        )\n",
    "    plt.axvline(T0, lw=\"1.25\", c=\"k\", ls=\"dashed\", label=\"Slew stop\")\n",
    "    plt.axhline(-rmsReq, lw=\"0.75\", c=\"k\", ls=\"dashed\", label=\"IMS repeatability req.\")\n",
    "    plt.axhline(rmsReq, lw=\"0.75\", c=\"k\", ls=\"dashed\")\n",
    "    plt.xlabel(\"Time [UTC]\")\n",
    "    plt.ylabel(f\"{imsColumn} {units}\")\n",
    "    plt.ylim(-ylimMax, ylimMax)\n",
    "    fig.autofmt_xdate()\n",
    "    plt.legend(loc=\"upper right\", fontsize=\"8\")\n",
    "    fig.tight_layout()\n",
    "\n",
    "    if not settleTime:\n",
    "        return -1\n",
    "\n",
    "    return settleInterval\n"
   ]
  },
  {
   "cell_type": "code",
   "execution_count": 211,
   "id": "80ec2596-7240-428c-8dc1-5781d97e43eb",
   "metadata": {
    "execution": {
     "iopub.execute_input": "2023-12-21T16:26:57.374084Z",
     "iopub.status.busy": "2023-12-21T16:26:57.373555Z",
     "iopub.status.idle": "2023-12-21T16:26:57.437468Z",
     "shell.execute_reply": "2023-12-21T16:26:57.436977Z",
     "shell.execute_reply.started": "2023-12-21T16:26:57.374064Z"
    }
   },
   "outputs": [
    {
     "name": "stdout",
     "output_type": "stream",
     "text": [
      "xPosition\n"
     ]
    },
    {
     "ename": "NameError",
     "evalue": "name 'computeSettleTime' is not defined",
     "output_type": "error",
     "traceback": [
      "\u001b[0;31m---------------------------------------------------------------------------\u001b[0m",
      "\u001b[0;31mNameError\u001b[0m                                 Traceback (most recent call last)",
      "Cell \u001b[0;32mIn[211], line 12\u001b[0m\n\u001b[1;32m     10\u001b[0m \u001b[38;5;28;01melse\u001b[39;00m:\n\u001b[1;32m     11\u001b[0m     req \u001b[38;5;241m=\u001b[39m req_rms_rotation\n\u001b[0;32m---> 12\u001b[0m settle_interval \u001b[38;5;241m=\u001b[39m \u001b[43mcomputeSettleTime\u001b[49m(\n\u001b[1;32m     13\u001b[0m     df_ims\u001b[38;5;241m=\u001b[39mdf_ims,\n\u001b[1;32m     14\u001b[0m     referenceTime\u001b[38;5;241m=\u001b[39mt1,\n\u001b[1;32m     15\u001b[0m     lo_delta_t\u001b[38;5;241m=\u001b[39m\u001b[38;5;241m5\u001b[39m,\n\u001b[1;32m     16\u001b[0m     hi_delta_t\u001b[38;5;241m=\u001b[39mpostPadding,\n\u001b[1;32m     17\u001b[0m     imsColumn\u001b[38;5;241m=\u001b[39mcol,\n\u001b[1;32m     18\u001b[0m     rmsReq\u001b[38;5;241m=\u001b[39mreq,\n\u001b[1;32m     19\u001b[0m     req_delta_t\u001b[38;5;241m=\u001b[39mreq_delta_t,\n\u001b[1;32m     20\u001b[0m     chi2prob\u001b[38;5;241m=\u001b[39m\u001b[38;5;241m0.99\u001b[39m,\n\u001b[1;32m     21\u001b[0m )\n",
      "\u001b[0;31mNameError\u001b[0m: name 'computeSettleTime' is not defined"
     ]
    }
   ],
   "source": [
    "%matplotlib inline\n",
    "\n",
    "settle_intervals = np.empty(6)\n",
    "c = 0\n",
    "\n",
    "for col in all_columns:\n",
    "    print(col)\n",
    "    if col in pos_columns:\n",
    "        req = req_rms_position\n",
    "    else:\n",
    "        req = req_rms_rotation\n",
    "    \n",
    "    settle_interval = computeSettleTrack(\n",
    "        df_ims=df_ims,\n",
    "        referenceTime=t0,\n",
    "        end_time=t1,\n",
    "        #lo_delta_t=5,\n",
    "        #hi_delta_t=postPadding,\n",
    "        imsColumn=col,\n",
    "        rmsReq=req,\n",
    "        #req_delta_t=req_delta_t,\n",
    "        chi2prob=0.99,\n",
    "        delta_t=5\n",
    "    )"
   ]
  },
  {
   "cell_type": "code",
   "execution_count": 187,
   "id": "40585078-34fa-4ef2-a314-5c1a541e8441",
   "metadata": {
    "execution": {
     "iopub.execute_input": "2023-12-20T15:01:35.298645Z",
     "iopub.status.busy": "2023-12-20T15:01:35.298458Z",
     "iopub.status.idle": "2023-12-20T15:01:35.352338Z",
     "shell.execute_reply": "2023-12-20T15:01:35.351925Z",
     "shell.execute_reply.started": "2023-12-20T15:01:35.298632Z"
    }
   },
   "outputs": [],
   "source": [
    "def compareIMSMount(\n",
    "    df_ims,\n",
    "    df_mtmount_ele,\n",
    "    df_mtmount_azi,\n",
    "    referenceTime=\"2023-06-01 06:53:37.326\",\n",
    "    end_t=\"2023-06-01 06:53:37.326\",\n",
    "    delta_t=5\n",
    "):\n",
    "    fig, axs = plt.subplots(5, 1, dpi=125, figsize=(6, 8))\n",
    "    t_start_plot = pd.to_datetime(referenceTime) - pd.to_timedelta(delta_t, unit=\"s\")\n",
    "    t_end_plot = pd.to_datetime(end_t) + pd.to_timedelta(delta_t, unit=\"s\")\n",
    "\n",
    "    ax = axs[0]\n",
    "    actpos_ele = df_mtmount_ele[\"actualPosition\"][t_start_plot:t_end_plot]\n",
    "    ax.plot(actpos_ele, color=\"red\", lw=0.5)  \n",
    "    ax.axvline(pd.to_datetime(referenceTime), lw=1, c=\"k\", ls=\"--\") \n",
    "    ax.axvline(pd.to_datetime(end_t), lw=1, c=\"k\", ls=\"--\")  \n",
    "    ax.set_ylabel(\"Elevation\\nPosition\\n[deg]\")\n",
    "    ax.text(\n",
    "        pd.to_datetime(referenceTime)+ pd.to_timedelta((t_start_plot - referenceTime) / 2),\n",
    "        max(actpos_ele) + 0.01* max(actpos_ele),\n",
    "        \"Slew\",\n",
    "        horizontalalignment=\"center\",\n",
    "        fontsize=8,\n",
    "    )\n",
    "    ax.text(\n",
    "        pd.to_datetime(end_t) - pd.to_timedelta((end_t - t_end_plot) / 2),\n",
    "        max(actpos_ele) + 0.01* max(actpos_ele),\n",
    "        \"Slew\",\n",
    "        horizontalalignment=\"center\",\n",
    "        fontsize=8,\n",
    "    )\n",
    "    ax.text(\n",
    "        pd.to_datetime(referenceTime) + pd.to_timedelta((end_t - referenceTime) / 2),\n",
    "        max(actpos_ele) + 0.01* max(actpos_ele),\n",
    "        \"Tracking\",\n",
    "        horizontalalignment=\"center\",\n",
    "        fontsize=8,\n",
    "    )\n",
    "      \n",
    "    ax = axs[1]\n",
    "    actpos_azi = df_mtmount_azi[\"actualPosition\"][t_start_plot:t_end_plot]\n",
    "    ax.plot(actpos_azi, color=\"red\", lw=0.5)\n",
    "    ax.axvline(pd.to_datetime(referenceTime), lw=1, c=\"k\", ls=\"--\", label=\"Starts Tracking\") \n",
    "    ax.axvline(pd.to_datetime(end_t), lw=1, c=\"k\", ls=\"--\", label=\"End Tracking\")\n",
    "    ax.set_ylabel(\"Azimuth\\nPosition\\n[deg]\")\n",
    "\n",
    "    plotstring = [\"xPosition\", \"yPosition\", \"zPosition\"]\n",
    "    plotrange = np.arange(len(plotstring))\n",
    "    for i in plotrange:\n",
    "        ax = axs[i + 2]\n",
    "        pos = df_ims[plotstring[i]][t_start_plot:t_end_plot]\n",
    "        ax.plot(pos, color=\"red\", lw=\"0.5\")\n",
    "        ax.axvline(pd.to_datetime(referenceTime), lw=1, c=\"k\", ls=\"--\")\n",
    "        ax.axvline(pd.to_datetime(end_t), lw=1, c=\"k\", ls=\"--\")\n",
    "        ax.set_ylabel(plotstring[i] + \" \\n[mm]\")\n",
    "    ax.set_xlabel(\"UTC\")\n",
    "    fig.autofmt_xdate()\n",
    "    fig.subplots_adjust(hspace=1)\n",
    "    fig.suptitle(referenceTime)\n",
    "    fig.legend()\n",
    "    fig.tight_layout()"
   ]
  },
  {
   "cell_type": "markdown",
   "id": "4fff67a7-99b9-4964-8823-77a01672052d",
   "metadata": {},
   "source": [
    "### Definition of case"
   ]
  },
  {
   "cell_type": "markdown",
   "id": "39adbb67-5753-4e64-8a03-2f612d683d13",
   "metadata": {},
   "source": [
    "#### Observation day"
   ]
  },
  {
   "cell_type": "code",
   "execution_count": 193,
   "id": "bea3e21b-b27c-4eb2-814e-726c80b6a0d2",
   "metadata": {
    "execution": {
     "iopub.execute_input": "2023-12-21T16:20:36.881719Z",
     "iopub.status.busy": "2023-12-21T16:20:36.881506Z",
     "iopub.status.idle": "2023-12-21T16:20:36.925910Z",
     "shell.execute_reply": "2023-12-21T16:20:36.925456Z",
     "shell.execute_reply.started": "2023-12-21T16:20:36.881702Z"
    }
   },
   "outputs": [],
   "source": [
    "dayObs = 20231129  #20231128 "
   ]
  },
  {
   "cell_type": "code",
   "execution_count": 194,
   "id": "c2abeac4-89b9-4499-a532-5d8d3bc79e43",
   "metadata": {
    "execution": {
     "iopub.execute_input": "2023-12-21T16:20:38.566260Z",
     "iopub.status.busy": "2023-12-21T16:20:38.566094Z",
     "iopub.status.idle": "2023-12-21T16:20:38.608973Z",
     "shell.execute_reply": "2023-12-21T16:20:38.608529Z",
     "shell.execute_reply.started": "2023-12-21T16:20:38.566245Z"
    }
   },
   "outputs": [],
   "source": [
    "## Define column names\n",
    "all_columns = [\n",
    "    \"xPosition\",\n",
    "    \"yPosition\",\n",
    "    \"zPosition\",\n",
    "    \"xRotation\",\n",
    "    \"yRotation\",\n",
    "    \"zRotation\",\n",
    "]\n",
    "pos_columns = [c for c in all_columns if \"Position\" in c]\n",
    "rot_columns = [c for c in all_columns if \"Rotation\" in c]"
   ]
  },
  {
   "cell_type": "code",
   "execution_count": 195,
   "id": "957f9a12-4d6d-4c27-8f15-12bc33428449",
   "metadata": {
    "execution": {
     "iopub.execute_input": "2023-12-21T16:20:41.162295Z",
     "iopub.status.busy": "2023-12-21T16:20:41.161813Z",
     "iopub.status.idle": "2023-12-21T16:20:41.207207Z",
     "shell.execute_reply": "2023-12-21T16:20:41.206759Z",
     "shell.execute_reply.started": "2023-12-21T16:20:41.162280Z"
    }
   },
   "outputs": [],
   "source": [
    "delta_t = 5"
   ]
  },
  {
   "cell_type": "markdown",
   "id": "59f07df4-ae52-43f9-9e21-d9cac7a6cf83",
   "metadata": {},
   "source": [
    "#### Get slew stops"
   ]
  },
  {
   "cell_type": "code",
   "execution_count": 196,
   "id": "035d7b4f-4b32-4e5e-a927-755dde632735",
   "metadata": {
    "execution": {
     "iopub.execute_input": "2023-12-21T16:20:45.487496Z",
     "iopub.status.busy": "2023-12-21T16:20:45.487014Z",
     "iopub.status.idle": "2023-12-21T16:20:52.790858Z",
     "shell.execute_reply": "2023-12-21T16:20:52.790355Z",
     "shell.execute_reply.started": "2023-12-21T16:20:45.487480Z"
    }
   },
   "outputs": [
    {
     "data": {
      "text/html": [
       "<pre style=\"margin: 0.1em;\n",
       "padding-left: 0.25em;\n",
       "border-left-style: solid;\n",
       "font-family: var(--jp-code-font-family);\n",
       "font-size: var(--jp-code-font-size);\n",
       "line-height: var(--jp-code-line-height);\n",
       "\"><span style=\"color: var(--jp-warn-color2)\">lsst.summit.utils.tmaUtils</span> <span style=\"color: var(--jp-info-color0)\">INFO</span>: Retrieving mount data for 20231129 from the EFD</pre>"
      ],
      "text/plain": [
       "<IPython.core.display.HTML object>"
      ]
     },
     "metadata": {},
     "output_type": "display_data"
    },
    {
     "name": "stdout",
     "output_type": "stream",
     "text": [
      "Found 492 slews and 378 tracks\n"
     ]
    }
   ],
   "source": [
    "# Select data from a given date\n",
    "eventMaker = TMAEventMaker()\n",
    "events = eventMaker.getEvents(dayObs)\n",
    "\n",
    "# Get lists of slew and track events\n",
    "slews = [e for e in events if e.type==TMAState.SLEWING]\n",
    "tracks = [e for e in events if e.type==TMAState.TRACKING]\n",
    "print(f'Found {len(slews)} slews and {len(tracks)} tracks')"
   ]
  },
  {
   "cell_type": "code",
   "execution_count": 197,
   "id": "862dc15a-8d4b-4f66-afff-5dc16e3e046b",
   "metadata": {
    "execution": {
     "iopub.execute_input": "2023-12-21T16:20:52.923835Z",
     "iopub.status.busy": "2023-12-21T16:20:52.923711Z",
     "iopub.status.idle": "2023-12-21T16:20:52.969797Z",
     "shell.execute_reply": "2023-12-21T16:20:52.969405Z",
     "shell.execute_reply.started": "2023-12-21T16:20:52.923823Z"
    }
   },
   "outputs": [
    {
     "name": "stdout",
     "output_type": "stream",
     "text": [
      "Of the 870 events, 750 relate to block 137.\n"
     ]
    }
   ],
   "source": [
    "# Get events related to soak tests (block 137 currently)\n",
    "block137Events = []\n",
    "for event in events:\n",
    "    blockInfos = event.blockInfos\n",
    "    if blockInfos is None:\n",
    "        continue  # no block info attached to event at all\n",
    "\n",
    "    # check if any of the attached blockInfos are for block 137\n",
    "    blockNums = {b.blockNumber for b in blockInfos}\n",
    "    if 137 in blockNums:\n",
    "        block137Events.append(event)\n",
    "\n",
    "print(f\"Of the {len(events)} events, {len(block137Events)} relate to block 137.\")"
   ]
  },
  {
   "cell_type": "code",
   "execution_count": 39,
   "id": "a65e511d-8fbc-4eca-8d64-6f7bbb5826bc",
   "metadata": {
    "execution": {
     "iopub.execute_input": "2023-12-20T10:54:49.584264Z",
     "iopub.status.busy": "2023-12-20T10:54:49.584050Z",
     "iopub.status.idle": "2023-12-20T10:54:49.635072Z",
     "shell.execute_reply": "2023-12-20T10:54:49.634616Z",
     "shell.execute_reply.started": "2023-12-20T10:54:49.584247Z"
    }
   },
   "outputs": [
    {
     "name": "stdout",
     "output_type": "stream",
     "text": [
      "12, 14, 16, 18, 37, 39, 41, 43, 45, 47, 49, 51, 53, 55, 57, 59, 61, 63, 65, 67, 69, 71, 119, 126, 128, 130, 132, 134, 136, 138, 140, 142, 144, 146, 148, 150, 152, 154, 156, 158, 160, 162, 164, 166, 168, 170, 172, 174, 176, 178, 180, 182, 184, 186, 188, 195, 197, 199, 201, 203, 205, 207, 209, 211, 213, 215, 217, 219, 221, 223, 225, 227, 229, 231, 233, 235, 237, 239, 241, 243, 245, 247, 249, 251, 253, 255, 257, 259, 261, 263, 265, 267, 269, 271, 273, 275, 277, 279, 281, 283, 285, 287, 289, 291, 293, 295, 297, 299, 301, 309, 311, 313, 315, 317, 319, 321, 323, 325, 327, 329, 331, 333, 335, 337, 339, 341, 343, 345, 347, 349, 351, 353, 355, 357, 364, 371, 373, 375, 378, 386, 396, 398, 400, 402, 404, 406, 408, 410, 412, 414, 416, 418, 420, 422, 424, 426, 428, 430, 432, 434, 436, 438, 440, 442, 444, 447, 449, 451, 453, 455, 457, 459, 461, 463, 465, 467, 469, 471, 473, 475, 477, 479, 481, 483, 485, 487, 489, 491, 493, 495, 497, 499, 501, 503, 505, 507, 509, 511, 513, 515, 517, 519, 521, 523, 525, 527, 529, 531, 538, 540, 542, 544, 546, 548, 550, 552, 554, 556, 558, 560, 562, 564, 566, 568, 570, 572, 574, 576, 578, 580, 582, 584, 586, 588, 590, 592, 594, 596, 598, 600, 602, 604, 606, 608, 610, 612, 614, 616, 618, 620, 622, 624, 626, 628, 630, 632, 634, 636, 638, 640, 642, 644, 646, 648, 650, 652, 654, 656, 658, 660, 662, 664, 666, 668, 670, 672, 674, 676, 678, 680, 682, 684, 686, 688, 690, 692, 694, 696, 698, 700, 702, 704, 706, 708, 710, 712, 714, 716, 718, 720, 722, 724, 726, 728, 730, 732, 734, 736, 738, 740, 742, 744, 746, 748, 750, 752, 754, 756, 758, 760, 762, 764, 766, 768, 770, 772, 774, 776, 778, 780, 782, 784, 786, 788, 790, 792, 794, 797, 799, 801, 803, 805, 808, 810, 812, 814, 816, 818, 821, 823, 825, 827, 829, 831, 833, 835, 837, 839, 841, 843, 845, 847, 849, 851, 853, 855, 857, 859, 861, 863, "
     ]
    }
   ],
   "source": [
    "# Print out sequential number of events that have certain characteristics\n",
    "t = 0\n",
    "for i in range(len(block137Events)):\n",
    "    if (\n",
    "        block137Events[i].endReason == TMAState.SLEWING\n",
    "        and block137Events[i].type == TMAState.TRACKING\n",
    "    ):\n",
    "        t = t + 1\n",
    "        print(block137Events[i].seqNum, end=\", \")"
   ]
  },
  {
   "cell_type": "code",
   "execution_count": 198,
   "id": "b13bf84c-dda1-45ff-b52d-f02c3da68e2e",
   "metadata": {
    "execution": {
     "iopub.execute_input": "2023-12-21T16:20:52.970445Z",
     "iopub.status.busy": "2023-12-21T16:20:52.970322Z",
     "iopub.status.idle": "2023-12-21T16:20:53.016832Z",
     "shell.execute_reply": "2023-12-21T16:20:53.016454Z",
     "shell.execute_reply.started": "2023-12-21T16:20:52.970434Z"
    }
   },
   "outputs": [
    {
     "name": "stdout",
     "output_type": "stream",
     "text": [
      "Of the 750 events of block 137, 64 are trackings.\n"
     ]
    }
   ],
   "source": [
    "# Number of TRACKING in block 137\n",
    "print(f\"Of the {len(block137Events)} events of block 137, {t} are trackings.\")"
   ]
  },
  {
   "cell_type": "code",
   "execution_count": 205,
   "id": "49a0d236-0d8d-4a7e-abac-c2012b4e2392",
   "metadata": {
    "execution": {
     "iopub.execute_input": "2023-12-21T16:23:21.386291Z",
     "iopub.status.busy": "2023-12-21T16:23:21.385825Z",
     "iopub.status.idle": "2023-12-21T16:23:21.430256Z",
     "shell.execute_reply": "2023-12-21T16:23:21.429862Z",
     "shell.execute_reply.started": "2023-12-21T16:23:21.386277Z"
    }
   },
   "outputs": [],
   "source": [
    "# Select a event of trancking in block 137\n",
    "targetSeqNum = 160"
   ]
  },
  {
   "cell_type": "code",
   "execution_count": 206,
   "id": "872880d4-46d7-4a1f-9c18-82f4ebe0c430",
   "metadata": {
    "execution": {
     "iopub.execute_input": "2023-12-21T16:23:23.203797Z",
     "iopub.status.busy": "2023-12-21T16:23:23.203339Z",
     "iopub.status.idle": "2023-12-21T16:23:23.248478Z",
     "shell.execute_reply": "2023-12-21T16:23:23.248020Z",
     "shell.execute_reply.started": "2023-12-21T16:23:23.203782Z"
    }
   },
   "outputs": [
    {
     "name": "stdout",
     "output_type": "stream",
     "text": [
      "Event with seqNum 160 corresponds to track number 41\n"
     ]
    }
   ],
   "source": [
    "# find the appropriate tracking index that has the sequential number selected above\n",
    "for t, tl in enumerate(tracks):\n",
    "    if tl.seqNum == targetSeqNum:\n",
    "        i_track = t\n",
    "        break\n",
    "print(f\"Event with seqNum {targetSeqNum} corresponds to track number {i_track}\")"
   ]
  },
  {
   "cell_type": "code",
   "execution_count": 207,
   "id": "fce06b1e-2473-4e96-b355-67813e40960e",
   "metadata": {
    "execution": {
     "iopub.execute_input": "2023-12-21T16:23:29.095255Z",
     "iopub.status.busy": "2023-12-21T16:23:29.094702Z",
     "iopub.status.idle": "2023-12-21T16:23:29.140200Z",
     "shell.execute_reply": "2023-12-21T16:23:29.139784Z",
     "shell.execute_reply.started": "2023-12-21T16:23:29.095240Z"
    }
   },
   "outputs": [
    {
     "name": "stdout",
     "output_type": "stream",
     "text": [
      "dayObs: 20231129\n",
      "seqNum: 160\n",
      "type: TRACKING\n",
      "endReason: SLEWING\n",
      "duration: 47.85122537612915\n",
      "begin: <Time object: scale='utc' format='unix' value=1701306790.1843889>\n",
      "end: <Time object: scale='utc' format='unix' value=1701306838.0356143>\n",
      "blockInfos: \n",
      "    dayObs: 20231129\n",
      "    seqNum: 39\n",
      "    blockNumber: 137\n",
      "    blockId: BL137_O_20231129_000039\n",
      "    begin: 2023-11-30T01:13:06.110\n",
      "    end: 2023-11-30T01:13:55.216\n",
      "    salIndices: [102630]\n",
      "    tickets: ['SITCOM-885']\n",
      "    states: \n",
      "       RUNNING @ 2023-11-30T01:13:06.110  \n",
      "       RUNNING @ 2023-11-30T01:13:55.213  \n",
      "        ENDING @ 2023-11-30T01:13:55.215  \n",
      "          DONE @ 2023-11-30T01:13:55.216\n",
      "    dayObs: 20231129\n",
      "    seqNum: 40\n",
      "    blockNumber: 137\n",
      "    blockId: BL137_O_20231129_000040\n",
      "    begin: 2023-11-30T01:13:57.120\n",
      "    end: 2023-11-30T01:14:46.119\n",
      "    salIndices: [102631]\n",
      "    tickets: ['SITCOM-885']\n",
      "    states: \n",
      "       RUNNING @ 2023-11-30T01:13:57.120  \n",
      "       RUNNING @ 2023-11-30T01:14:46.116  \n",
      "        ENDING @ 2023-11-30T01:14:46.118  \n",
      "          DONE @ 2023-11-30T01:14:46.119\n"
     ]
    }
   ],
   "source": [
    "tracks[i_track]   #### COMENTAR CON NACHO. NO VEO TRACK 64"
   ]
  },
  {
   "cell_type": "code",
   "execution_count": 208,
   "id": "bfa46802-991d-42e3-8f15-936e85a4a292",
   "metadata": {
    "execution": {
     "iopub.execute_input": "2023-12-21T16:24:01.300739Z",
     "iopub.status.busy": "2023-12-21T16:24:01.300100Z",
     "iopub.status.idle": "2023-12-21T16:24:01.491496Z",
     "shell.execute_reply": "2023-12-21T16:24:01.491029Z",
     "shell.execute_reply.started": "2023-12-21T16:24:01.300721Z"
    }
   },
   "outputs": [
    {
     "name": "stdout",
     "output_type": "stream",
     "text": [
      "Tracking stop at: 2023-11-30 01:13:58.036000+00:00\n"
     ]
    }
   ],
   "source": [
    "# Select the information during the tracking\n",
    "t0 = Time(tracks[i_track].begin, format=\"isot\", scale=\"utc\")\n",
    "t0 = pd.to_datetime(t0.value, utc=True)  # astropy Time to Timestamp conversion\n",
    "t1 = Time(tracks[i_track].end, format=\"isot\", scale=\"utc\")\n",
    "t1 = pd.to_datetime(t1.value, utc=True)  # astropy Time to Timestamp conversion\n",
    "print(\"Tracking stop at:\", t1)\n",
    "\n",
    "# Get IMS data\n",
    "df_ims = getEfdData(\n",
    "    client, \"lsst.sal.MTM1M3.imsData\", event=tracks[i_track], postPadding=delta_t, prePadding=delta_t)\n",
    "df_ims = df_ims[all_columns]\n",
    "# Convert meter to milimeter\n",
    "df_ims[pos_columns] = df_ims[pos_columns] * 1e3"
   ]
  },
  {
   "cell_type": "code",
   "execution_count": 209,
   "id": "7dd50a16-e560-44f0-bd0c-3f8095788b12",
   "metadata": {
    "execution": {
     "iopub.execute_input": "2023-12-21T16:24:03.532904Z",
     "iopub.status.busy": "2023-12-21T16:24:03.532386Z",
     "iopub.status.idle": "2023-12-21T16:24:03.659017Z",
     "shell.execute_reply": "2023-12-21T16:24:03.658591Z",
     "shell.execute_reply.started": "2023-12-21T16:24:03.532888Z"
    }
   },
   "outputs": [],
   "source": [
    "df_mtmount_ele = getEfdData(\n",
    "    client, \"lsst.sal.MTMount.elevation\", event=tracks[i_track], postPadding=delta_t, prePadding=delta_t)\n",
    "\n",
    "df_mtmount_azi = getEfdData(\n",
    "    client, \"lsst.sal.MTMount.azimuth\", event=tracks[i_track], postPadding=delta_t, prePadding=delta_t)"
   ]
  },
  {
   "cell_type": "markdown",
   "id": "429ecfc0-6b43-4f9e-b839-0de2cf5b6495",
   "metadata": {
    "execution": {
     "iopub.execute_input": "2023-12-20T13:34:11.224949Z",
     "iopub.status.busy": "2023-12-20T13:34:11.224736Z",
     "iopub.status.idle": "2023-12-20T13:34:11.269033Z",
     "shell.execute_reply": "2023-12-20T13:34:11.268627Z",
     "shell.execute_reply.started": "2023-12-20T13:34:11.224933Z"
    }
   },
   "source": [
    "### Look at data"
   ]
  },
  {
   "cell_type": "code",
   "execution_count": 210,
   "id": "e6d1e433-100b-4cf9-bb1a-f766ff76ffeb",
   "metadata": {
    "execution": {
     "iopub.execute_input": "2023-12-21T16:24:06.721362Z",
     "iopub.status.busy": "2023-12-21T16:24:06.720899Z",
     "iopub.status.idle": "2023-12-21T16:24:07.540851Z",
     "shell.execute_reply": "2023-12-21T16:24:07.540391Z",
     "shell.execute_reply.started": "2023-12-21T16:24:06.721347Z"
    }
   },
   "outputs": [
    {
     "data": {
      "image/png": "[encoded data removed]",
      "text/plain": [
       "<Figure size 750x1000 with 5 Axes>"
      ]
     },
     "metadata": {},
     "output_type": "display_data"
    }
   ],
   "source": [
    "%matplotlib inline\n",
    "compareIMSMount(\n",
    "    df_ims,\n",
    "    df_mtmount_ele,\n",
    "    df_mtmount_azi,\n",
    "    t0,\n",
    "    t1,\n",
    "    delta_t\n",
    ")"
   ]
  },
  {
   "cell_type": "code",
   "execution_count": null,
   "id": "747bcd05-c32b-46de-b414-f91c34abb2e1",
   "metadata": {},
   "outputs": [],
   "source": []
  }
 ],
 "metadata": {
  "kernelspec": {
   "display_name": "LSST",
   "language": "python",
   "name": "lsst"
  },
  "language_info": {
   "codemirror_mode": {
    "name": "ipython",
    "version": 3
   },
   "file_extension": ".py",
   "mimetype": "text/x-python",
   "name": "python",
   "nbconvert_exporter": "python",
   "pygments_lexer": "ipython3",
   "version": "3.11.4"
  }
 },
 "nbformat": 4,
 "nbformat_minor": 5
}
