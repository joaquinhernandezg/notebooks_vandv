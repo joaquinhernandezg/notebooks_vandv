{
 "cells": [
  {
   "cell_type": "markdown",
   "metadata": {},
   "source": [
    "# SITCOM-771\n",
    "Craig Lage - 12-May-23 \\\n",
    "\n",
    "Here is what was requested:\n",
    "* How did the force profile change over time?\n",
    "* Find all bump test patterns in the EFD for a given FA.\n",
    "* Select nominal force patterns and average some of them.\n",
    "* Overplot Nomial force pattern to actual force pattern.\n",
    "* Do the subtraction.\n",
    "* Plot the residuals.\n",
    "\n",
    "This notebook does those things\n"
   ]
  },
  {
   "cell_type": "markdown",
   "metadata": {},
   "source": [
    "## Prepare the notebook"
   ]
  },
  {
   "cell_type": "code",
   "execution_count": null,
   "metadata": {
    "execution": {
     "iopub.execute_input": "2023-05-12T13:37:39.795523Z",
     "iopub.status.busy": "2023-05-12T13:37:39.795292Z",
     "iopub.status.idle": "2023-05-12T13:37:39.798228Z",
     "shell.execute_reply": "2023-05-12T13:37:39.797888Z",
     "shell.execute_reply.started": "2023-05-12T13:37:39.795508Z"
    },
    "tags": []
   },
   "outputs": [],
   "source": [
    "# Directory to store the data\n",
    "dataDir = \"/home/c/cslage/u/MTM1M3/data/\"\n",
    "\n",
    "# Times of single bump test\n",
    "singleStart = \"2023-04-17T10:00:00\"\n",
    "singleEnd = \"2023-04-17T11:15:00\"\n",
    "\n",
    "# Times of multiple bump tests\n",
    "multipleStart = \"2020-06-01T00:00:00\"\n",
    "multipleEnd = \"2023-04-20T00:00:00\"\n",
    "\n",
    "# Times of test with bump test residuals\n",
    "residualStart = \"2023-04-28T18:10:00\"\n",
    "residualEnd = \"2023-04-28T19:18:00\""
   ]
  },
  {
   "cell_type": "code",
   "execution_count": null,
   "metadata": {
    "execution": {
     "iopub.execute_input": "2023-05-12T13:37:42.137950Z",
     "iopub.status.busy": "2023-05-12T13:37:42.137626Z",
     "iopub.status.idle": "2023-05-12T13:37:42.639110Z",
     "shell.execute_reply": "2023-05-12T13:37:42.638692Z",
     "shell.execute_reply.started": "2023-05-12T13:37:42.137934Z"
    },
    "tags": []
   },
   "outputs": [],
   "source": [
    "import sys, time, os, asyncio, glob\n",
    "from datetime import datetime\n",
    "import numpy as np\n",
    "import matplotlib.pyplot as plt\n",
    "from matplotlib.backends.backend_pdf import PdfPages\n",
    "import pickle as pkl\n",
    "from astropy.time import Time, TimeDelta\n",
    "import lsst.ts.cRIOpy.M1M3FATable as M1M3FATable\n",
    "from scipy.interpolate import UnivariateSpline\n",
    "from lsst_efd_client import EfdClient"
   ]
  },
  {
   "cell_type": "code",
   "execution_count": null,
   "metadata": {
    "execution": {
     "iopub.execute_input": "2023-05-12T13:37:44.660285Z",
     "iopub.status.busy": "2023-05-12T13:37:44.659931Z",
     "iopub.status.idle": "2023-05-12T13:37:45.132970Z",
     "shell.execute_reply": "2023-05-12T13:37:45.132482Z",
     "shell.execute_reply.started": "2023-05-12T13:37:44.660269Z"
    },
    "tags": []
   },
   "outputs": [],
   "source": [
    "client = EfdClient('usdf_efd')\n",
    "FATABLE = M1M3FATable.FATABLE"
   ]
  },
  {
   "cell_type": "markdown",
   "metadata": {},
   "source": [
    "## Given an actuator ID, this plots the bump test result for a single test"
   ]
  },
  {
   "cell_type": "code",
   "execution_count": null,
   "metadata": {
    "execution": {
     "iopub.execute_input": "2023-05-12T13:37:47.639072Z",
     "iopub.status.busy": "2023-05-12T13:37:47.638477Z",
     "iopub.status.idle": "2023-05-12T13:37:47.647051Z",
     "shell.execute_reply": "2023-05-12T13:37:47.646607Z",
     "shell.execute_reply.started": "2023-05-12T13:37:47.639055Z"
    },
    "tags": []
   },
   "outputs": [],
   "source": [
    "async def plotBumpTestResults(fig, bumps, id):\n",
    "    thisBump = bumps[bumps['actuatorId']==id]\n",
    "    index = M1M3FATable.actuatorIDToIndex(id)\n",
    "    # The pass/fail results are actually in the next test.\n",
    "    lastThisBumpIndex = bumps[bumps['actuatorId']==id].last_valid_index()\n",
    "    passFail = bumps.iloc[bumps.index.get_loc(lastThisBumpIndex)+1]\n",
    "    primaryBump = f\"primaryTest{FATABLE[index][M1M3FATable.FATABLE_ZINDEX]}\"\n",
    "    primaryForce = f\"zForce{FATABLE[index][M1M3FATable.FATABLE_ZINDEX]}\"\n",
    "    if FATABLE[index][M1M3FATable.FATABLE_TYPE] == 'DAA':\n",
    "        if FATABLE[index][M1M3FATable.FATABLE_ORIENTATION] in ['+Y', '-Y']:\n",
    "            secondaryBump = f\"secondaryTest{FATABLE[index][M1M3FATable.FATABLE_SINDEX]}\"\n",
    "            secondaryForce = f\"yForce{FATABLE[index][M1M3FATable.FATABLE_YINDEX]}\"\n",
    "            secondaryName = FATABLE[index][M1M3FATable.FATABLE_ORIENTATION]\n",
    "        else:\n",
    "            secondaryBump = f\"secondaryTest{FATABLE[index][M1M3FATable.FATABLE_SINDEX]}\"\n",
    "            secondaryForce = f\"xForce{FATABLE[index][M1M3FATable.FATABLE_XINDEX]}\"\n",
    "            secondaryName = FATABLE[index][M1M3FATable.FATABLE_ORIENTATION]\n",
    "    else:\n",
    "        secondaryName = None\n",
    "\n",
    "    plt.subplots_adjust(wspace=0.3)\n",
    "    plt.subplot(1,2,1)\n",
    "    plotStart = thisBump[thisBump[primaryBump]==2]['timestamp'].values[0] - 1.0\n",
    "    plotEnd = plotStart + 14.0 #thisBump[thisBump[primaryBump]==5]['timestamp'].values[0] + 2.0\n",
    "    start = Time(plotStart, format='unix_tai', scale='tai')\n",
    "    end = Time(plotEnd, format='unix_tai', scale='tai')\n",
    "    forces = await client.select_time_series(\"lsst.sal.MTM1M3.forceActuatorData\", [primaryForce, 'timestamp'], start.utc, end.utc)\n",
    "    times = forces['timestamp'].values\n",
    "    t0 = times[0]\n",
    "    times -= t0\n",
    "    plotStart -= t0\n",
    "    plotEnd -= t0\n",
    "    plt.title(f\"Primary - Z - ID:{id}\")\n",
    "    plt.plot(times, forces[primaryForce].values)\n",
    "    if passFail[primaryBump] == 6:\n",
    "        plt.text(2.0, 350.0, \"PASSED\", color='g')\n",
    "    elif passFail[primaryBump] == 7:\n",
    "        plt.text(2.0, 350.0, \"FAILED\", color='r')\n",
    "\n",
    "    plt.xlim(plotStart, plotEnd)\n",
    "    plt.ylim(-400,400)\n",
    "    plt.xlabel(\"Time (seconds)\")\n",
    "    plt.ylabel(\"Force (nt)\")\n",
    "    plt.subplot(1,2,2)\n",
    "    if secondaryName is not None:\n",
    "        plt.title(f\"Secondary - {secondaryName} - ID:{id}\")\n",
    "        plotStart = thisBump[thisBump[secondaryBump]==2]['timestamp'].values[0] - 1.0\n",
    "        plotEnd = plotStart + 14.0 #thisBump[thisBump[secondaryBump]==5]['timestamp'].values[0] + 2.0\n",
    "        start = Time(plotStart, format='unix_tai', scale='tai')\n",
    "        end = Time(plotEnd, format='unix_tai', scale='tai')\n",
    "        forces = await client.select_time_series(\"lsst.sal.MTM1M3.forceActuatorData\", [secondaryForce, 'timestamp'], start.utc, end.utc)\n",
    "        times = forces['timestamp'].values\n",
    "        t0 = times[0]\n",
    "        times -= t0\n",
    "        plotStart -= t0\n",
    "        plotEnd -= t0\n",
    "        plt.plot(times, forces[secondaryForce].values)\n",
    "        if passFail[secondaryBump] == 6:\n",
    "            plt.text(2.0, 350.0, \"PASSED\", color='g')\n",
    "        elif passFail[secondaryBump] == 7:\n",
    "            plt.text(2.0, 350.0, \"FAILED\", color='r')\n",
    "        plt.xlim(plotStart, plotEnd)\n",
    "        plt.ylim(-400,400)\n",
    "        plt.xlabel(\"Time (seconds)\")\n",
    "        plt.ylabel(\"Force (nt)\")\n",
    "    else:\n",
    "        plt.title(\"No Secondary\")\n",
    "        plt.xticks([])\n",
    "        plt.yticks([])\n",
    "    return"
   ]
  },
  {
   "cell_type": "markdown",
   "metadata": {},
   "source": [
    "## Now make the plot for a single actuator"
   ]
  },
  {
   "cell_type": "code",
   "execution_count": null,
   "metadata": {
    "execution": {
     "iopub.execute_input": "2023-05-12T13:37:59.334486Z",
     "iopub.status.busy": "2023-05-12T13:37:59.333916Z",
     "iopub.status.idle": "2023-05-12T13:38:00.767553Z",
     "shell.execute_reply": "2023-05-12T13:38:00.767096Z",
     "shell.execute_reply.started": "2023-05-12T13:37:59.334466Z"
    },
    "tags": []
   },
   "outputs": [],
   "source": [
    "bumps = await client.select_time_series(\"lsst.sal.MTM1M3.logevent_forceActuatorBumpTestStatus\", \"*\", \\\n",
    "                                        Time(singleStart, scale='utc'), Time(singleEnd, scale='utc'))\n",
    "timestamp = bumps.index[0].isoformat().split('.')[0].replace('-','').replace(':','')\n",
    "fig = plt.figure(figsize=(10,5))\n",
    "id = 227\n",
    "await plotBumpTestResults(fig, bumps, id)\n",
    "timestamp = bumps.index[0].isoformat().split('.')[0].replace('-','').replace(':','')\n",
    "plt.savefig(dataDir+f\"Bump_Test_{id}_{timestamp}.png\")"
   ]
  },
  {
   "cell_type": "markdown",
   "metadata": {},
   "source": [
    "## This will make a plot of all of the actuators in a given bump test"
   ]
  },
  {
   "cell_type": "code",
   "execution_count": null,
   "metadata": {
    "execution": {
     "iopub.execute_input": "2023-05-12T13:43:50.361720Z",
     "iopub.status.busy": "2023-05-12T13:43:50.361393Z",
     "iopub.status.idle": "2023-05-12T13:44:07.551953Z",
     "shell.execute_reply": "2023-05-12T13:44:07.551430Z",
     "shell.execute_reply.started": "2023-05-12T13:43:50.361703Z"
    },
    "tags": []
   },
   "outputs": [],
   "source": [
    "bumps = await client.select_time_series(\"lsst.sal.MTM1M3.logevent_forceActuatorBumpTestStatus\", \"*\", \\\n",
    "                                        Time(singleStart, scale='utc'), Time(singleEnd, scale='utc'))\n",
    "timestamp = bumps.index[0].isoformat().split('.')[0].replace('-','').replace(':','')\n",
    "pdf = PdfPages(dataDir + f\"Bump_Tests_{timestamp}.pdf\")\n",
    "\n",
    "for index in range(len(FATABLE)):\n",
    "    id = FATABLE[index][M1M3FATable.FATABLE_ID]\n",
    "    fig = plt.figure(figsize=(10,5))\n",
    "    await plotBumpTestResults(fig, bumps, id)\n",
    "    pdf.savefig(fig)  # saves the current figure into a pdf page\n",
    "    plt.close()\n",
    "pdf.close()"
   ]
  },
  {
   "cell_type": "markdown",
   "metadata": {},
   "source": [
    "## Now let's look at the history of many bump tests"
   ]
  },
  {
   "cell_type": "code",
   "execution_count": null,
   "metadata": {
    "execution": {
     "iopub.execute_input": "2023-05-12T13:44:34.662766Z",
     "iopub.status.busy": "2023-05-12T13:44:34.662155Z",
     "iopub.status.idle": "2023-05-12T13:44:34.673559Z",
     "shell.execute_reply": "2023-05-12T13:44:34.673098Z",
     "shell.execute_reply.started": "2023-05-12T13:44:34.662749Z"
    },
    "tags": []
   },
   "outputs": [],
   "source": [
    "async def plotMultipleBumpTestResults(fig, manyBumps, id):\n",
    "    theseBumps = manyBumps[manyBumps['actuatorId']==id]\n",
    "    index = M1M3FATable.actuatorIDToIndex(id)\n",
    "    primaryBump = f\"primaryTest{FATABLE[index][M1M3FATable.FATABLE_ZINDEX]}\"\n",
    "    primaryForce = f\"zForce{FATABLE[index][M1M3FATable.FATABLE_ZINDEX]}\"\n",
    "    if FATABLE[index][M1M3FATable.FATABLE_TYPE] == 'DAA':\n",
    "        if FATABLE[index][M1M3FATable.FATABLE_ORIENTATION] in ['+Y', '-Y']:\n",
    "            secondaryBump = f\"secondaryTest{FATABLE[index][M1M3FATable.FATABLE_SINDEX]}\"\n",
    "            secondaryForce = f\"yForce{FATABLE[index][M1M3FATable.FATABLE_YINDEX]}\"\n",
    "            secondaryName = FATABLE[index][M1M3FATable.FATABLE_ORIENTATION]\n",
    "        else:\n",
    "            secondaryBump = f\"secondaryTest{FATABLE[index][M1M3FATable.FATABLE_SINDEX]}\"\n",
    "            secondaryForce = f\"xForce{FATABLE[index][M1M3FATable.FATABLE_XINDEX]}\"\n",
    "            secondaryName = FATABLE[index][M1M3FATable.FATABLE_ORIENTATION]\n",
    "    else:\n",
    "        secondaryName = None\n",
    "    plt.subplots_adjust(wspace=0.3)\n",
    "    plt.suptitle(f\"Multiple bump tests Actuator ID {id}\", fontsize=18)\n",
    "\n",
    "    # Now find the separate tests\n",
    "    times = theseBumps['timestamp'].values\n",
    "    startTimes = []\n",
    "    endTimes = []\n",
    "    for i, time in enumerate(times):\n",
    "        if i == 0:\n",
    "            startTimes.append(time)\n",
    "            continue\n",
    "        if (time - times[i-1]) > 60.0:\n",
    "            startTimes.append(time)\n",
    "            endTimes.append(times[i-1])\n",
    "    endTimes.append(times[-1])\n",
    "    numPlots = 0\n",
    "    passCount = 0\n",
    "    failCount = 0\n",
    "    for i in range(len(startTimes)):\n",
    "        startTime = startTimes[i]\n",
    "        endTime = endTimes[i]\n",
    "        thisBump = theseBumps[(theseBumps['timestamp'] >= startTime) & (theseBumps['timestamp'] <= endTime)]\n",
    "        try:\n",
    "            numPlots += 1\n",
    "            plt.subplot(1,2,1)\n",
    "            plotStart = thisBump[thisBump[primaryBump]==2]['timestamp'].values[0] - 1.0\n",
    "            plotEnd = plotStart + 14.0\n",
    "            start = Time(plotStart, format='unix_tai', scale='tai')\n",
    "            end = Time(plotEnd, format='unix_tai', scale='tai')\n",
    "            forces = await client.select_time_series(\"lsst.sal.MTM1M3.forceActuatorData\", [primaryForce, 'timestamp'], \\\n",
    "                                                     start.utc, end.utc)\n",
    "            times = forces['timestamp'].values\n",
    "            t0 = times[0]\n",
    "            times -= t0\n",
    "            plotStart -= t0\n",
    "            plotEnd -= t0\n",
    "            lastIndex = bumps[bumps['actuatorId']==id].last_valid_index()\n",
    "            passFail = bumps.iloc[bumps.index.get_loc(lastIndex)+1][primaryBump]\n",
    "            #print(i, passFail)\n",
    "            if passFail == 6:\n",
    "                passCount += 1\n",
    "                #print(\"PASSED\")\n",
    "            elif passFail == 7:\n",
    "                failCount += 1\n",
    "                #print(\"FAILED\")\n",
    "\n",
    "            plt.title(\"Primary   Z\")\n",
    "            plt.plot(times, forces[primaryForce].values)\n",
    "            plt.xlim(plotStart, plotEnd)\n",
    "            plt.ylim(-400,400)\n",
    "            plt.xlabel(\"Time (seconds)\")\n",
    "            plt.ylabel(\"Force (nt)\")\n",
    "            plt.subplot(1,2,2)\n",
    "            if secondaryName is not None:\n",
    "                plt.title(f\"Secondary   {secondaryName}\")\n",
    "                plotStart = thisBump[thisBump[secondaryBump]==2]['timestamp'].values[0] - 1.0\n",
    "                plotEnd = plotStart + 14.0\n",
    "                start = Time(plotStart, format='unix_tai', scale='tai')\n",
    "                end = Time(plotEnd, format='unix_tai', scale='tai')\n",
    "                forces = await client.select_time_series(\"lsst.sal.MTM1M3.forceActuatorData\", [secondaryForce, 'timestamp'], \\\n",
    "                                                         start.utc, end.utc)\n",
    "                times = forces['timestamp'].values\n",
    "                t0 = times[0]\n",
    "                times -= t0\n",
    "                plotStart -= t0\n",
    "                plotEnd -= t0\n",
    "                plt.plot(times, forces[secondaryForce].values)\n",
    "                plt.xlim(plotStart, plotEnd)\n",
    "                plt.ylim(-400,400)\n",
    "                plt.xlabel(\"Time (seconds)\")\n",
    "                plt.ylabel(\"Force (nt)\")\n",
    "            else:\n",
    "                plt.title(\"No Secondary\")\n",
    "                plt.xticks([])\n",
    "                plt.yticks([])\n",
    "        except:\n",
    "            continue\n",
    "            \n",
    "    plt.subplot(1,2,1)\n",
    "    plt.text(2.0, 350, f\"{numPlots} tests, {passCount} passed, {failCount} failed\")\n",
    "    plt.subplot(1,2,2)\n",
    "    plt.text(2.0, 350, f\"{numPlots} tests, {passCount} passed, {failCount} failed\")\n",
    "    return"
   ]
  },
  {
   "cell_type": "markdown",
   "metadata": {},
   "source": [
    "## Now make the history plot for a single actuator"
   ]
  },
  {
   "cell_type": "code",
   "execution_count": null,
   "metadata": {
    "execution": {
     "iopub.execute_input": "2023-05-12T13:44:41.515118Z",
     "iopub.status.busy": "2023-05-12T13:44:41.514740Z",
     "iopub.status.idle": "2023-05-12T13:45:06.611845Z",
     "shell.execute_reply": "2023-05-12T13:45:06.611355Z",
     "shell.execute_reply.started": "2023-05-12T13:44:41.515103Z"
    },
    "tags": []
   },
   "outputs": [],
   "source": [
    "manyBumps = await client.select_time_series(\"lsst.sal.MTM1M3.logevent_forceActuatorBumpTestStatus\", \"*\", \\\n",
    "                                            Time(multipleStart, scale='utc'), Time(multipleEnd, scale='utc'))\n",
    "id = 227\n",
    "fig = plt.figure(figsize=(10,5))\n",
    "await plotMultipleBumpTestResults(fig, manyBumps, id)\n",
    "plt.savefig(dataDir + f\"Bump_Test_{id}_Multiple.png\")"
   ]
  },
  {
   "cell_type": "markdown",
   "metadata": {},
   "source": [
    "## This will make a plot of the histories of all of the actuators"
   ]
  },
  {
   "cell_type": "code",
   "execution_count": null,
   "metadata": {
    "execution": {
     "iopub.execute_input": "2023-05-12T13:43:50.361720Z",
     "iopub.status.busy": "2023-05-12T13:43:50.361393Z",
     "iopub.status.idle": "2023-05-12T13:44:07.551953Z",
     "shell.execute_reply": "2023-05-12T13:44:07.551430Z",
     "shell.execute_reply.started": "2023-05-12T13:43:50.361703Z"
    },
    "tags": []
   },
   "outputs": [],
   "source": [
    "manyBumps = await client.select_time_series(\"lsst.sal.MTM1M3.logevent_forceActuatorBumpTestStatus\", \"*\", \\\n",
    "                                            Time(multipleStart, scale='utc'), Time(multipleEnd, scale='utc'))\n",
    "pdf = PdfPages(dataDir + f\"Bump_Histories.pdf\")\n",
    "\n",
    "for index in range(len(FATABLE)):\n",
    "    id = FATABLE[index][M1M3FATable.FATABLE_ID]\n",
    "    fig = plt.figure(figsize=(10,5))\n",
    "    await plotBumpTestResults(fig, bumps, id)\n",
    "    pdf.savefig(fig)  # saves the current figure into a pdf page\n",
    "    plt.close()\n",
    "pdf.close()"
   ]
  },
  {
   "cell_type": "markdown",
   "metadata": {},
   "source": [
    "## Now generate the dictionary of average splines\n",
    "## This will be used to plot the residuals\n",
    "## Note that this only needs to be done once.  After it is run, the average splines are pickled and can be retrieved for future tests."
   ]
  },
  {
   "cell_type": "code",
   "execution_count": null,
   "metadata": {
    "execution": {
     "iopub.execute_input": "2023-05-12T13:49:20.970083Z",
     "iopub.status.busy": "2023-05-12T13:49:20.969864Z",
     "iopub.status.idle": "2023-05-12T13:49:20.980348Z",
     "shell.execute_reply": "2023-05-12T13:49:20.979858Z",
     "shell.execute_reply.started": "2023-05-12T13:49:20.970068Z"
    },
    "tags": []
   },
   "outputs": [],
   "source": [
    "async def generateAverageBumpTest(manyBumps, averageSplineDict, id):\n",
    "    # Get representative splines to be used to weed out bad runs\n",
    "    [averagePrimarySpline, averageSecondarySpline] = averageSplineDict[999]\n",
    "    theseBumps = manyBumps[manyBumps['actuatorId']==id]\n",
    "    index = M1M3FATable.actuatorIDToIndex(id)\n",
    "    primaryBump = f\"primaryTest{FATABLE[index][M1M3FATable.FATABLE_ZINDEX]}\"\n",
    "    primaryForce = f\"zForce{FATABLE[index][M1M3FATable.FATABLE_ZINDEX]}\"\n",
    "    if FATABLE[index][M1M3FATable.FATABLE_TYPE] == 'DAA':\n",
    "        if FATABLE[index][M1M3FATable.FATABLE_ORIENTATION] in ['+Y', '-Y']:\n",
    "            secondaryBump = f\"secondaryTest{FATABLE[index][M1M3FATable.FATABLE_SINDEX]}\"\n",
    "            secondaryForce = f\"yForce{FATABLE[index][M1M3FATable.FATABLE_YINDEX]}\"\n",
    "            secondaryName = FATABLE[index][M1M3FATable.FATABLE_ORIENTATION]\n",
    "        else:\n",
    "            secondaryBump = f\"secondaryTest{FATABLE[index][M1M3FATable.FATABLE_SINDEX]}\"\n",
    "            secondaryForce = f\"xForce{FATABLE[index][M1M3FATable.FATABLE_XINDEX]}\"\n",
    "            secondaryName = FATABLE[index][M1M3FATable.FATABLE_ORIENTATION]\n",
    "    else:\n",
    "        secondaryName = None\n",
    "\n",
    "    # Now find the separate tests\n",
    "    times = theseBumps['timestamp'].values\n",
    "    startTimes = []\n",
    "    endTimes = []\n",
    "    for i, time in enumerate(times):\n",
    "        if i == 0:\n",
    "            startTimes.append(time)\n",
    "            continue\n",
    "        if (time - times[i-1]) > 60.0:\n",
    "            startTimes.append(time)\n",
    "            endTimes.append(times[i-1])\n",
    "    endTimes.append(times[-1])\n",
    "    numPlots = 0\n",
    "    primarySplines = []\n",
    "    secondarySplines = []\n",
    "    for i in range(len(startTimes)):\n",
    "        startTime = startTimes[i]\n",
    "        endTime = endTimes[i]\n",
    "        thisBump = theseBumps[(theseBumps['timestamp'] >= startTime) & (theseBumps['timestamp'] <= endTime)]\n",
    "        # The pass/fail results are actually in the next test.\n",
    "        lastThisBumpIndex = bumps[bumps['actuatorId']==id].last_valid_index()\n",
    "        passFail = bumps.iloc[bumps.index.get_loc(lastThisBumpIndex)+1]\n",
    "        if passFail[primaryBump] == 7:\n",
    "            # Don't include fails\n",
    "            continue\n",
    "        try:\n",
    "            plotStart = thisBump[thisBump[primaryBump]==2]['timestamp'].values[0] - 1.0\n",
    "            plotEnd = plotStart + 14.0\n",
    "            start = Time(plotStart, format='unix_tai', scale='tai')\n",
    "            end = Time(plotEnd, format='unix_tai', scale='tai')\n",
    "            forces = await client.select_time_series(\"lsst.sal.MTM1M3.forceActuatorData\", [primaryForce, 'timestamp'], start.utc, end.utc)\n",
    "            times = forces['timestamp'].values\n",
    "            t0 = times[0]\n",
    "            times -= t0\n",
    "            primaryForces = forces[primaryForce].values\n",
    "            if averagePrimarySpline is not None:\n",
    "                rmsError = np.sqrt(np.mean((primaryForces-averagePrimarySpline(times))**2))\n",
    "            else:\n",
    "                rmsError = 0.0\n",
    "            if rmsError < 50.0:\n",
    "                # Only include good fits in the average\n",
    "                primarySpline = UnivariateSpline(times, primaryForces, s=0.0)\n",
    "                primarySplines.append(primarySpline)\n",
    "            if secondaryName is not None:\n",
    "                if passFail[secondaryBump] == 7:\n",
    "                    # Don't include fails\n",
    "                    continue\n",
    "                plotStart = thisBump[thisBump[secondaryBump]==2]['timestamp'].values[0] - 1.0\n",
    "                plotEnd = plotStart + 14.0\n",
    "                start = Time(plotStart, format='unix_tai', scale='tai')\n",
    "                end = Time(plotEnd, format='unix_tai', scale='tai')\n",
    "                forces = await client.select_time_series(\"lsst.sal.MTM1M3.forceActuatorData\", [secondaryForce, 'timestamp'], start.utc, end.utc)\n",
    "                times = forces['timestamp'].values\n",
    "                t0 = times[0]\n",
    "                times -= t0\n",
    "                secondaryForces = forces[secondaryForce].values\n",
    "                if averageSecondarySpline is not None:\n",
    "                    rmsError = np.sqrt(np.mean((secondaryForces-averageSecondarySpline(times))**2))\n",
    "                else:\n",
    "                    rmsError = 0.0\n",
    "                if rmsError < 50.0:\n",
    "                    # Only include good fits in the average\n",
    "                    secondarySpline = UnivariateSpline(times, secondaryForces, s=0.0)\n",
    "                    secondarySplines.append(secondarySpline)\n",
    "        except:\n",
    "            continue\n",
    "    # Now calculate the average spline\n",
    "    ts = np.linspace(0,14,5000)\n",
    "    fs = np.zeros_like(ts)\n",
    "    numSplines = 0\n",
    "    for spline in primarySplines:\n",
    "        numSplines += 1\n",
    "        fs += spline(ts)\n",
    "    fs /= numSplines\n",
    "    averagePrimarySpline = UnivariateSpline(ts, fs)\n",
    "    fs = np.zeros_like(ts)\n",
    "    if secondaryName is not None:\n",
    "        numSplines = 0\n",
    "        for spline in secondarySplines:\n",
    "            numSplines += 1\n",
    "            fs += spline(ts)\n",
    "        fs /= numSplines\n",
    "        averageSecondarySpline = UnivariateSpline(ts, fs)\n",
    "    else:\n",
    "        averageSecondarySpline = None\n",
    "    return [averagePrimarySpline, averageSecondarySpline]"
   ]
  },
  {
   "cell_type": "markdown",
   "metadata": {},
   "source": [
    "## This cell generates the dictionary with a set of plots of the average spline"
   ]
  },
  {
   "cell_type": "code",
   "execution_count": null,
   "metadata": {
    "execution": {
     "iopub.execute_input": "2023-05-12T13:49:28.089273Z",
     "iopub.status.busy": "2023-05-12T13:49:28.088885Z",
     "iopub.status.idle": "2023-05-12T13:50:33.682261Z",
     "shell.execute_reply": "2023-05-12T13:50:33.681801Z",
     "shell.execute_reply.started": "2023-05-12T13:49:28.089256Z"
    },
    "jupyter": {
     "outputs_hidden": true
    },
    "tags": []
   },
   "outputs": [],
   "source": [
    "# First seed the averageSplineDict with a typical bump test\n",
    "# This is used to weed out bad tests\n",
    "averageSplineDict = {}\n",
    "averageSplineDict[999] = [None, None]\n",
    "[averagePrimarySpline, averageSecondarySpline] = await generateAverageBumpTest(manyBumps, averageSplineDict, 227)\n",
    "averageSplineDict[999] = [averagePrimarySpline, averageSecondarySpline]\n",
    "# Now run all of the actuators\n",
    "pdf = PdfPages(dataDir + \"Average_Spline_Dict.pdf\")\n",
    "for index in range(len(FATABLE)):\n",
    "    id = FATABLE[index][M1M3FATable.FATABLE_ID]\n",
    "    primaryName = 'Z'\n",
    "    if FATABLE[index][M1M3FATable.FATABLE_TYPE] == 'DAA':\n",
    "        if FATABLE[index][M1M3FATable.FATABLE_ORIENTATION] in ['+Y', '-Y']:\n",
    "            secondaryName = FATABLE[index][M1M3FATable.FATABLE_ORIENTATION]\n",
    "        else:\n",
    "            secondaryName = FATABLE[index][M1M3FATable.FATABLE_ORIENTATION]\n",
    "    else:\n",
    "        secondaryName = None\n",
    "\n",
    "    [averagePrimarySpline, averageSecondarySpline] = await generateAverageBumpTest(manyBumps, averageSplineDict, id)\n",
    "    averageSplineDict[id] = [averagePrimarySpline, averageSecondarySpline]\n",
    "    fig = plt.figure(figsize=(10,5))\n",
    "    ts = np.linspace(0,14,5000)\n",
    "    plt.suptitle(f\"Average Spline bumps for ID = {id}\")\n",
    "    plt.subplot(1,2,1)\n",
    "    plt.title(f\"Primary  {primaryName}\")\n",
    "    plt.plot(ts, averagePrimarySpline(ts))\n",
    "    plt.subplot(1,2,2)\n",
    "    plt.title(f\"Secondary   {secondaryName}\")\n",
    "    if averageSecondarySpline is not None:\n",
    "        plt.plot(ts, averageSecondarySpline(ts))\n",
    "    else:\n",
    "        plt.xticks([])\n",
    "        plt.yticks([])\n",
    "                  \n",
    "    pdf.savefig(fig)  # saves the current figure into a pdf page\n",
    "    plt.clf()\n",
    "pdf.close()\n"
   ]
  },
  {
   "cell_type": "markdown",
   "metadata": {},
   "source": [
    "## Pickle the dictionary for future use"
   ]
  },
  {
   "cell_type": "code",
   "execution_count": null,
   "metadata": {
    "execution": {
     "iopub.execute_input": "2023-05-12T13:51:03.527646Z",
     "iopub.status.busy": "2023-05-12T13:51:03.527290Z",
     "iopub.status.idle": "2023-05-12T13:51:03.601633Z",
     "shell.execute_reply": "2023-05-12T13:51:03.601060Z",
     "shell.execute_reply.started": "2023-05-12T13:51:03.527627Z"
    },
    "tags": []
   },
   "outputs": [],
   "source": [
    "filename = dataDir + 'average_spline_dict.pkl'\n",
    "file = open(filename, 'wb')\n",
    "pkl.dump(averageSplineDict, file)\n",
    "file.close()"
   ]
  },
  {
   "cell_type": "code",
   "execution_count": null,
   "metadata": {
    "execution": {
     "iopub.execute_input": "2023-05-12T13:51:04.682205Z",
     "iopub.status.busy": "2023-05-12T13:51:04.681597Z",
     "iopub.status.idle": "2023-05-12T13:51:04.725323Z",
     "shell.execute_reply": "2023-05-12T13:51:04.724786Z",
     "shell.execute_reply.started": "2023-05-12T13:51:04.682188Z"
    },
    "tags": []
   },
   "outputs": [],
   "source": [
    "filename = dataDir + 'average_spline_dict.pkl'\n",
    "file = open(filename, 'rb')\n",
    "averageSplineDict = pkl.load(file)\n",
    "file.close()"
   ]
  },
  {
   "cell_type": "markdown",
   "metadata": {},
   "source": [
    "## Now plot the residuals against the average"
   ]
  },
  {
   "cell_type": "code",
   "execution_count": null,
   "metadata": {
    "execution": {
     "iopub.execute_input": "2023-05-12T13:51:08.995621Z",
     "iopub.status.busy": "2023-05-12T13:51:08.995255Z",
     "iopub.status.idle": "2023-05-12T13:51:09.008173Z",
     "shell.execute_reply": "2023-05-12T13:51:09.007715Z",
     "shell.execute_reply.started": "2023-05-12T13:51:08.995603Z"
    },
    "tags": []
   },
   "outputs": [],
   "source": [
    "async def plotBumpResultsAndResiduals(fig, bumps, averageSplineDict, id):\n",
    "    [averagePrimarySpline, averageSecondarySpline] = averageSplineDict[id]\n",
    "    thisBump = bumps[bumps['actuatorId']==id]\n",
    "    index = M1M3FATable.actuatorIDToIndex(id)\n",
    "    # The pass/fail results are actually in the next test.\n",
    "    lastThisBumpIndex = bumps[bumps['actuatorId']==id].last_valid_index()\n",
    "    passFail = bumps.iloc[bumps.index.get_loc(lastThisBumpIndex)+1]\n",
    "    primaryBump = f\"primaryTest{FATABLE[index][M1M3FATable.FATABLE_ZINDEX]}\"\n",
    "    primaryForce = f\"zForce{FATABLE[index][M1M3FATable.FATABLE_ZINDEX]}\"\n",
    "    if FATABLE[index][M1M3FATable.FATABLE_TYPE] == 'DAA':\n",
    "        if FATABLE[index][M1M3FATable.FATABLE_ORIENTATION] in ['+Y', '-Y']:\n",
    "            secondaryBump = f\"secondaryTest{FATABLE[index][M1M3FATable.FATABLE_SINDEX]}\"\n",
    "            secondaryForce = f\"yForce{FATABLE[index][M1M3FATable.FATABLE_YINDEX]}\"\n",
    "            secondaryName = FATABLE[index][M1M3FATable.FATABLE_ORIENTATION]\n",
    "        else:\n",
    "            secondaryBump = f\"secondaryTest{FATABLE[index][M1M3FATable.FATABLE_SINDEX]}\"\n",
    "            secondaryForce = f\"xForce{FATABLE[index][M1M3FATable.FATABLE_XINDEX]}\"\n",
    "            secondaryName = FATABLE[index][M1M3FATable.FATABLE_ORIENTATION]\n",
    "    else:\n",
    "        secondaryName = None\n",
    "\n",
    "    plt.subplots_adjust(wspace=0.3)\n",
    "    plt.suptitle(f\"Bump Test with Residuals. Actuator ID {id}\", fontsize=18)\n",
    "    plotStart = thisBump[thisBump[primaryBump]==2]['timestamp'].values[0] - 1.0\n",
    "    plotEnd = plotStart + 14.0 \n",
    "    start = Time(plotStart, format='unix_tai', scale='tai')\n",
    "    end = Time(plotEnd, format='unix_tai', scale='tai')\n",
    "    forces = await client.select_time_series(\"lsst.sal.MTM1M3.forceActuatorData\", [primaryForce, 'timestamp'], start.utc, end.utc)\n",
    "    times = forces['timestamp'].values\n",
    "    t0 = times[0]\n",
    "    times -= t0\n",
    "    primaryForces = forces[primaryForce].values\n",
    "    residuals = primaryForces-averagePrimarySpline(times)\n",
    "    rmsError = np.sqrt(np.mean(residuals**2))\n",
    "    plotStart -= t0\n",
    "    plotEnd -= t0\n",
    "    plt.subplot(2,2,1)\n",
    "    plt.title(\"Primary - Z\")\n",
    "    plt.plot(times, averagePrimarySpline(times), label='Average')\n",
    "    plt.plot(times, primaryForces, label='Data')\n",
    "    if passFail[primaryBump] == 6:\n",
    "        plt.text(2.0, 350.0, \"PASSED\", color='g')\n",
    "    elif passFail[primaryBump] == 7:\n",
    "        plt.text(2.0, 350.0, \"FAILED\", color='r')\n",
    "    plt.xlim(plotStart, plotEnd)\n",
    "    plt.ylim(-400,400)\n",
    "    plt.xlabel(\"Time (seconds)\")\n",
    "    plt.ylabel(\"Force (nt)\")\n",
    "    plt.legend()\n",
    "    plt.subplot(2,2,3)\n",
    "    plt.plot(times, residuals)\n",
    "    if passFail[primaryBump] == 6:\n",
    "        plt.text(2.0, 75.0, f\"RMS = {rmsError:.2f}\", color='g')\n",
    "    elif passFail[primaryBump] == 7:\n",
    "        plt.text(2.0, 75.0, f\"RMS = {rmsError:.2f}\", color='r')\n",
    "    plt.xlim(plotStart, plotEnd)\n",
    "    plt.ylim(-100,100)\n",
    "    plt.xlabel(\"Time (seconds)\")\n",
    "    plt.ylabel(\"Residuals (nt)\")\n",
    "    \n",
    "    if secondaryName is not None:\n",
    "        plotStart = thisBump[thisBump[secondaryBump]==2]['timestamp'].values[0] - 1.0\n",
    "        plotEnd = plotStart + 14.0\n",
    "        start = Time(plotStart, format='unix_tai', scale='tai')\n",
    "        end = Time(plotEnd, format='unix_tai', scale='tai')\n",
    "        forces = await client.select_time_series(\"lsst.sal.MTM1M3.forceActuatorData\", [secondaryForce, 'timestamp'], start.utc, end.utc)\n",
    "        times = forces['timestamp'].values\n",
    "        t0 = times[0]\n",
    "        times -= t0\n",
    "        secondaryForces = forces[secondaryForce].values\n",
    "        residuals = secondaryForces-averageSecondarySpline(times)\n",
    "        rmsError = np.sqrt(np.mean(residuals**2))\n",
    "        plotStart -= t0\n",
    "        plotEnd -= t0\n",
    "        plt.subplot(2,2,2)\n",
    "        plt.title(f\"Secondary - {secondaryName}\")\n",
    "        plt.plot(times, averageSecondarySpline(times), label='Average')\n",
    "        plt.plot(times, secondaryForces, label='Data')\n",
    "        if passFail[primaryBump] == 6:\n",
    "            plt.text(2.0, 350.0, \"PASSED\", color='g')\n",
    "        elif passFail[primaryBump] == 7:\n",
    "            plt.text(2.0, 350.0, \"FAILED\", color='r')\n",
    "        plt.xlim(plotStart, plotEnd)\n",
    "        plt.ylim(-400,400)\n",
    "        plt.xlabel(\"Time (seconds)\")\n",
    "        plt.ylabel(\"Force (nt)\")\n",
    "        plt.legend()\n",
    "        plt.subplot(2,2,4)\n",
    "        plt.plot(times, residuals)\n",
    "        if passFail[primaryBump] == 6:\n",
    "            plt.text(2.0, 75.0, f\"RMS = {rmsError:.2f}\", color='g')\n",
    "        elif passFail[primaryBump] == 7:\n",
    "            plt.text(2.0, 75.0, f\"RMS = {rmsError:.2f}\", color='r')\n",
    "        plt.xlim(plotStart, plotEnd)\n",
    "        plt.ylim(-100,100)\n",
    "        plt.xlabel(\"Time (seconds)\")\n",
    "        plt.ylabel(\"Residuals (nt)\")\n",
    "    else:\n",
    "        plt.subplot(2,2,2)\n",
    "        plt.title(\"No Secondary\")\n",
    "        plt.xticks([])\n",
    "        plt.yticks([])\n",
    "        plt.subplot(2,2,4)\n",
    "        plt.xticks([])\n",
    "        plt.yticks([])\n",
    "    return"
   ]
  },
  {
   "cell_type": "markdown",
   "metadata": {},
   "source": [
    "## This cell will make the residual plots for a single actuator"
   ]
  },
  {
   "cell_type": "code",
   "execution_count": null,
   "metadata": {
    "execution": {
     "iopub.execute_input": "2023-05-12T13:54:51.996110Z",
     "iopub.status.busy": "2023-05-12T13:54:51.995901Z",
     "iopub.status.idle": "2023-05-12T13:54:53.257928Z",
     "shell.execute_reply": "2023-05-12T13:54:53.257309Z",
     "shell.execute_reply.started": "2023-05-12T13:54:51.996095Z"
    },
    "tags": []
   },
   "outputs": [],
   "source": [
    "bumps = await client.select_time_series(\"lsst.sal.MTM1M3.logevent_forceActuatorBumpTestStatus\", \"*\", \\\n",
    "                                        Time(residualStart, scale='utc'), Time(residualEnd, scale='utc'))\n",
    "timestamp = bumps.index[0].isoformat().split('.')[0].replace('-','').replace(':','')\n",
    "id = 324\n",
    "fig = plt.figure(figsize=(10,10))\n",
    "await plotBumpResultsAndResiduals(fig, bumps, averageSplineDict, id)\n",
    "plt.savefig(dataDir + f\"Bump_Test_Residuals_{id}_{timestamp}.png\")"
   ]
  },
  {
   "cell_type": "markdown",
   "metadata": {},
   "source": [
    "## This will make plots of the residuals for the whole bump test"
   ]
  },
  {
   "cell_type": "code",
   "execution_count": null,
   "metadata": {
    "execution": {
     "iopub.execute_input": "2023-05-12T13:57:12.036941Z",
     "iopub.status.busy": "2023-05-12T13:57:12.036606Z",
     "iopub.status.idle": "2023-05-12T13:57:41.538651Z",
     "shell.execute_reply": "2023-05-12T13:57:41.538123Z",
     "shell.execute_reply.started": "2023-05-12T13:57:12.036925Z"
    },
    "tags": []
   },
   "outputs": [],
   "source": [
    "bumps = await client.select_time_series(\"lsst.sal.MTM1M3.logevent_forceActuatorBumpTestStatus\", \"*\", \\\n",
    "                                        Time(residualStart, scale='utc'), Time(residualEnd, scale='utc'))\n",
    "timestamp = bumps.index[0].isoformat().split('.')[0].replace('-','').replace(':','')\n",
    "pdf = PdfPages(f\"/home/c/cslage/u/MTM1M3/data/Bump_Test_Residuals_{timestamp}.pdf\")\n",
    "\n",
    "for index in range(len(FATABLE)):\n",
    "    id = FATABLE[index][M1M3FATable.FATABLE_ID]\n",
    "    fig = plt.figure(figsize=(10,10))\n",
    "    await plotBumpResultsAndResiduals(fig, bumps, averageSplineDict, id)\n",
    "    pdf.savefig(fig)  # saves the current figure into a pdf page\n",
    "    plt.close()\n",
    "pdf.close()\n"
   ]
  },
  {
   "cell_type": "code",
   "execution_count": null,
   "metadata": {},
   "outputs": [],
   "source": []
  }
 ],
 "metadata": {
  "kernelspec": {
   "display_name": "LSST",
   "language": "python",
   "name": "lsst"
  },
  "language_info": {
   "codemirror_mode": {
    "name": "ipython",
    "version": 3
   },
   "file_extension": ".py",
   "mimetype": "text/x-python",
   "name": "python",
   "nbconvert_exporter": "python",
   "pygments_lexer": "ipython3",
   "version": "3.10.10"
  }
 },
 "nbformat": 4,
 "nbformat_minor": 4
}
