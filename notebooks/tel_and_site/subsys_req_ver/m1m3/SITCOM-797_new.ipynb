{
 "cells": [
  {
   "cell_type": "markdown",
   "id": "adfb7800-e9e6-443c-8ae5-6f8a66e2d683",
   "metadata": {},
   "source": [
    "# SITCOM-797\n",
    "\n",
    "Here is what was requested:\n",
    "\n",
    "To analyze the positioning system after a slew, create plots for the mirror\n",
    "\n",
    "- decentering (X and Y)\n",
    "- mirror tilt (RX, RY, RY)\n",
    "- piston\n",
    "- Create a histogram for each parameter for a configurable time period.\n",
    "\n",
    "Include the limits in all plots:\n",
    "\n",
    "* the mirror decenters at less than +/- 6 micrometer\n",
    "* mirror tilt less than +/- 24 e-6 degree\n",
    "* piston less than +/- 1 micrometer\n",
    "\n",
    "\n",
    "### Prepare Notebook"
   ]
  },
  {
   "cell_type": "code",
   "execution_count": 5,
   "id": "d4c89ded-c3ec-4214-a9c9-86ac336eca2d",
   "metadata": {
    "execution": {
     "iopub.execute_input": "2023-06-22T13:54:02.437665Z",
     "iopub.status.busy": "2023-06-22T13:54:02.437424Z",
     "iopub.status.idle": "2023-06-22T13:54:02.481585Z",
     "shell.execute_reply": "2023-06-22T13:54:02.481027Z",
     "shell.execute_reply.started": "2023-06-22T13:54:02.437648Z"
    },
    "tags": []
   },
   "outputs": [],
   "source": [
    "%matplotlib inline\n",
    "%load_ext autoreload\n",
    "%autoreload 2"
   ]
  },
  {
   "cell_type": "code",
   "execution_count": 6,
   "id": "1d51c56a-b3ef-4822-bc43-89cca5e0c08c",
   "metadata": {
    "execution": {
     "iopub.execute_input": "2023-06-22T13:54:02.936058Z",
     "iopub.status.busy": "2023-06-22T13:54:02.935717Z",
     "iopub.status.idle": "2023-06-22T13:54:02.974147Z",
     "shell.execute_reply": "2023-06-22T13:54:02.973690Z",
     "shell.execute_reply.started": "2023-06-22T13:54:02.936042Z"
    },
    "tags": []
   },
   "outputs": [],
   "source": [
    "import pandas as pd\n",
    "import matplotlib.pyplot as plt\n",
    "import numpy as np\n",
    "\n",
    "from lsst.summit.utils.tmaUtils import TMAEventMaker, TMAState\n",
    "from lsst.summit.utils.efdUtils import getEfdData, makeEfdClient"
   ]
  },
  {
   "cell_type": "code",
   "execution_count": 111,
   "id": "08f92d91-f316-4205-8cbe-1e94d75cf252",
   "metadata": {
    "execution": {
     "iopub.execute_input": "2023-06-22T15:53:29.797274Z",
     "iopub.status.busy": "2023-06-22T15:53:29.796928Z",
     "iopub.status.idle": "2023-06-22T15:53:30.531204Z",
     "shell.execute_reply": "2023-06-22T15:53:30.530630Z",
     "shell.execute_reply.started": "2023-06-22T15:53:29.797249Z"
    },
    "tags": []
   },
   "outputs": [
    {
     "data": {
      "text/html": [
       "<pre style=\"margin: 0.1em;\n",
       "padding-left: 0.25em;\n",
       "border-left-style: solid;\n",
       "font-family: var(--jp-code-font-family);\n",
       "font-size: var(--jp-code-font-size);\n",
       "line-height: var(--jp-code-line-height);\n",
       "\"><span style=\"color: var(--jp-warn-color2)\">lsst.summit.utils.tmaUtils</span> <span style=\"color: var(--jp-info-color0)\">INFO</span>: Retrieving mount data for 20230601 from the EFD</pre>"
      ],
      "text/plain": [
       "<IPython.core.display.HTML object>"
      ]
     },
     "metadata": {},
     "output_type": "display_data"
    },
    {
     "name": "stdout",
     "output_type": "stream",
     "text": [
      "Found 157 slews and 43 tracks\n"
     ]
    }
   ],
   "source": [
    "# Select data from a given date\n",
    "dayObs = 20230601\n",
    "eventMaker = TMAEventMaker()\n",
    "events = eventMaker.getEvents(dayObs)\n",
    "\n",
    "# Get lists of slew and track events\n",
    "slews = [e for e in events if e.type==TMAState.SLEWING]\n",
    "tracks = [e for e in events if e.type==TMAState.TRACKING]\n",
    "print(f'Found {len(slews)} slews and {len(tracks)} tracks')"
   ]
  },
  {
   "cell_type": "code",
   "execution_count": 112,
   "id": "a5ebd7f2-8f1e-40ab-9ab5-da61a1cefd30",
   "metadata": {
    "execution": {
     "iopub.execute_input": "2023-06-22T15:53:33.681460Z",
     "iopub.status.busy": "2023-06-22T15:53:33.681069Z",
     "iopub.status.idle": "2023-06-22T15:53:34.191960Z",
     "shell.execute_reply": "2023-06-22T15:53:34.191469Z",
     "shell.execute_reply.started": "2023-06-22T15:53:33.681446Z"
    },
    "tags": []
   },
   "outputs": [],
   "source": [
    "# create a client to retrieve datasets in the EFD database\n",
    "client = makeEfdClient()"
   ]
  },
  {
   "cell_type": "code",
   "execution_count": 9,
   "id": "b63483ad-5aac-408c-9b24-e12f896fd1c0",
   "metadata": {
    "execution": {
     "iopub.execute_input": "2023-06-22T13:54:06.716664Z",
     "iopub.status.busy": "2023-06-22T13:54:06.716305Z",
     "iopub.status.idle": "2023-06-22T13:54:06.753895Z",
     "shell.execute_reply": "2023-06-22T13:54:06.753431Z",
     "shell.execute_reply.started": "2023-06-22T13:54:06.716649Z"
    },
    "tags": []
   },
   "outputs": [],
   "source": [
    "# select one particular slew event\n",
    "i_slew = 3\n",
    "\n",
    "all_columns = [\"xPosition\", \"xRotation\", \"yPosition\", \"yRotation\", \"zPosition\", \"zRotation\"]\n",
    "pos_columns = [c for c in all_columns if \"Position\" in c]\n",
    "rot_columns = [c for c in all_columns if \"Rotation\" in c]"
   ]
  },
  {
   "cell_type": "code",
   "execution_count": 10,
   "id": "cdb59b81-bf23-4401-ba7f-cd107999deb8",
   "metadata": {
    "execution": {
     "iopub.execute_input": "2023-06-22T13:54:08.300861Z",
     "iopub.status.busy": "2023-06-22T13:54:08.300467Z",
     "iopub.status.idle": "2023-06-22T13:54:08.488607Z",
     "shell.execute_reply": "2023-06-22T13:54:08.488107Z",
     "shell.execute_reply.started": "2023-06-22T13:54:08.300844Z"
    },
    "tags": []
   },
   "outputs": [],
   "source": [
    "# Get ims data\n",
    "df_ims = getEfdData(client, 'lsst.sal.MTM1M3.imsData', event=slews[i_slew])\n",
    "df_ims = df_ims[all_columns]\n",
    "\n",
    "# Convert meter to milimeter to make is easier to analyse\n",
    "df_ims[pos_columns] = df_ims[pos_columns] * 1e3"
   ]
  },
  {
   "cell_type": "code",
   "execution_count": 11,
   "id": "56108f6a-6f9f-4a86-8ff2-67ad1cd38892",
   "metadata": {
    "execution": {
     "iopub.execute_input": "2023-06-22T13:54:10.044543Z",
     "iopub.status.busy": "2023-06-22T13:54:10.044078Z",
     "iopub.status.idle": "2023-06-22T13:54:10.103602Z",
     "shell.execute_reply": "2023-06-22T13:54:10.103094Z",
     "shell.execute_reply.started": "2023-06-22T13:54:10.044521Z"
    },
    "tags": []
   },
   "outputs": [],
   "source": [
    "# Get Hard Point states\n",
    "# We should be careful here as getEfdData may return nothing if we pass the event as an argument. We should pass dayObs instead and check the HP state explicitly\n",
    "# for the time frame corresponding to the event\n",
    "df_HPState = getEfdData(client, 'lsst.sal.MTM1M3.logevent_hardpointActuatorState', dayObs = dayObs)"
   ]
  },
  {
   "cell_type": "code",
   "execution_count": 107,
   "id": "795d2114-8d59-46b4-a975-7dd929f63943",
   "metadata": {
    "execution": {
     "iopub.execute_input": "2023-06-22T15:46:19.365406Z",
     "iopub.status.busy": "2023-06-22T15:46:19.365022Z",
     "iopub.status.idle": "2023-06-22T15:46:19.405618Z",
     "shell.execute_reply": "2023-06-22T15:46:19.405167Z",
     "shell.execute_reply.started": "2023-06-22T15:46:19.365392Z"
    },
    "tags": []
   },
   "outputs": [
    {
     "name": "stdout",
     "output_type": "stream",
     "text": [
      "dayObs: 20230601\n",
      "seqNum: 199\n",
      "type: SLEWING\n",
      "endReason: STOPPED\n",
      "duration: 26.065403938293457\n",
      "begin: <Time object: scale='tai' format='unix_tai' value=1685620566.6136448>,\n",
      "end: <Time object: scale='tai' format='unix_tai' value=1685620592.6790488>\n",
      "beginFloat: 1685620566.6136448\n",
      "endFloat: 1685620592.6790488\n"
     ]
    }
   ],
   "source": [
    "slews[i_slew]"
   ]
  },
  {
   "cell_type": "code",
   "execution_count": 108,
   "id": "6f1ca732-5f9a-4b10-ab5c-fe58fcb7a488",
   "metadata": {
    "execution": {
     "iopub.execute_input": "2023-06-22T15:48:16.288578Z",
     "iopub.status.busy": "2023-06-22T15:48:16.288030Z",
     "iopub.status.idle": "2023-06-22T15:48:16.329642Z",
     "shell.execute_reply": "2023-06-22T15:48:16.329199Z",
     "shell.execute_reply.started": "2023-06-22T15:48:16.288563Z"
    },
    "tags": []
   },
   "outputs": [
    {
     "data": {
      "text/plain": [
       "26.065403938293457"
      ]
     },
     "execution_count": 108,
     "metadata": {},
     "output_type": "execute_result"
    }
   ],
   "source": [
    "slews[i_slew].duration"
   ]
  },
  {
   "cell_type": "code",
   "execution_count": 13,
   "id": "21d641be-d85d-48ac-bcf2-509075745b4b",
   "metadata": {
    "execution": {
     "iopub.execute_input": "2023-06-22T13:54:12.764456Z",
     "iopub.status.busy": "2023-06-22T13:54:12.763975Z",
     "iopub.status.idle": "2023-06-22T13:54:12.803608Z",
     "shell.execute_reply": "2023-06-22T13:54:12.803123Z",
     "shell.execute_reply.started": "2023-06-22T13:54:12.764439Z"
    },
    "tags": []
   },
   "outputs": [],
   "source": [
    "#Convert begin and end event time to something compatible with pandas\n",
    "t0 = pd.to_datetime(slews[i_slew].beginFloat, unit=\"s\", utc=True)\n",
    "t1 = pd.to_datetime(slews[i_slew].endFloat, unit=\"s\", utc=True)"
   ]
  },
  {
   "cell_type": "code",
   "execution_count": 14,
   "id": "8c396bb3-635b-4bb6-80eb-c7f999241f4a",
   "metadata": {
    "execution": {
     "iopub.execute_input": "2023-06-22T13:54:13.454410Z",
     "iopub.status.busy": "2023-06-22T13:54:13.453807Z",
     "iopub.status.idle": "2023-06-22T13:54:13.504245Z",
     "shell.execute_reply": "2023-06-22T13:54:13.503630Z",
     "shell.execute_reply.started": "2023-06-22T13:54:13.454388Z"
    },
    "tags": []
   },
   "outputs": [],
   "source": [
    "# Find the closest HP state preceding the event begin time \n",
    "res = df_HPState.index.get_indexer([t0], method='pad')\n",
    "t = df_HPState.index[res[0]]\n",
    "\n",
    "# IF HP is stable then the six motionState values should be equal to 0\n",
    "#df_HPState[t:t]\n",
    "HP_global_state = (df_HPState[t:t][[f\"motionState{j}\" for j in range(6)]] == 0).all(axis=1)\n",
    "if not HP_global_state.values[0]:\n",
    "    print(\"HP is not in a stable state\\n\", (df_HPState[t:t][[f\"motionState{j}\" for j in range(6)]] == 0))"
   ]
  },
  {
   "cell_type": "code",
   "execution_count": 15,
   "id": "5188cc5a-481b-4477-9574-be0777a3927b",
   "metadata": {
    "execution": {
     "iopub.execute_input": "2023-06-22T13:54:13.948441Z",
     "iopub.status.busy": "2023-06-22T13:54:13.948184Z",
     "iopub.status.idle": "2023-06-22T13:54:14.030937Z",
     "shell.execute_reply": "2023-06-22T13:54:14.030459Z",
     "shell.execute_reply.started": "2023-06-22T13:54:13.948426Z"
    },
    "tags": []
   },
   "outputs": [],
   "source": [
    "# Get elevation and azimuth data\n",
    "df_ele = getEfdData(client, 'lsst.sal.MTMount.elevation', event= slews[i_slew])\n",
    "df_azi = getEfdData(client, 'lsst.sal.MTMount.azimuth', event= slews[i_slew])"
   ]
  },
  {
   "cell_type": "code",
   "execution_count": 16,
   "id": "5a0924ec-e886-4530-9038-8beaa8e663ac",
   "metadata": {
    "execution": {
     "iopub.execute_input": "2023-06-22T13:54:14.399993Z",
     "iopub.status.busy": "2023-06-22T13:54:14.399570Z",
     "iopub.status.idle": "2023-06-22T13:54:14.565608Z",
     "shell.execute_reply": "2023-06-22T13:54:14.565139Z",
     "shell.execute_reply.started": "2023-06-22T13:54:14.399974Z"
    },
    "tags": []
   },
   "outputs": [
    {
     "data": {
      "text/plain": [
       "[<matplotlib.lines.Line2D at 0x7ff8d17c35b0>]"
      ]
     },
     "execution_count": 16,
     "metadata": {},
     "output_type": "execute_result"
    },
    {
     "data": {
      "image/png": "[encoded data removed]",
      "text/plain": [
       "<Figure size 640x480 with 1 Axes>"
      ]
     },
     "metadata": {},
     "output_type": "display_data"
    }
   ],
   "source": [
    "plt.plot(df_azi.index, df_azi['actualPosition'])"
   ]
  },
  {
   "cell_type": "code",
   "execution_count": 17,
   "id": "8c713f59-2666-4da7-a4a6-abf40141d5df",
   "metadata": {
    "execution": {
     "iopub.execute_input": "2023-06-22T13:54:15.471608Z",
     "iopub.status.busy": "2023-06-22T13:54:15.471232Z",
     "iopub.status.idle": "2023-06-22T13:54:15.625263Z",
     "shell.execute_reply": "2023-06-22T13:54:15.624779Z",
     "shell.execute_reply.started": "2023-06-22T13:54:15.471592Z"
    },
    "tags": []
   },
   "outputs": [
    {
     "data": {
      "text/plain": [
       "[<matplotlib.lines.Line2D at 0x7ff8d1826bc0>]"
      ]
     },
     "execution_count": 17,
     "metadata": {},
     "output_type": "execute_result"
    },
    {
     "data": {
      "image/png": "[encoded data removed]",
      "text/plain": [
       "<Figure size 640x480 with 1 Axes>"
      ]
     },
     "metadata": {},
     "output_type": "display_data"
    }
   ],
   "source": [
    "plt.plot(df_ims.index, df_ims[\"zPosition\"])"
   ]
  },
  {
   "cell_type": "code",
   "execution_count": 18,
   "id": "8868acce-5cdc-4983-b3f4-c437dc9c9d51",
   "metadata": {
    "execution": {
     "iopub.execute_input": "2023-06-22T13:54:16.511085Z",
     "iopub.status.busy": "2023-06-22T13:54:16.510742Z",
     "iopub.status.idle": "2023-06-22T13:54:16.679175Z",
     "shell.execute_reply": "2023-06-22T13:54:16.678663Z",
     "shell.execute_reply.started": "2023-06-22T13:54:16.511070Z"
    },
    "tags": []
   },
   "outputs": [
    {
     "data": {
      "image/png": "[encoded data removed]",
      "text/plain": [
       "<Figure size 640x480 with 1 Axes>"
      ]
     },
     "metadata": {},
     "output_type": "display_data"
    }
   ],
   "source": [
    "_ = plt.hist(df_ims[\"zPosition\"], bins=50)"
   ]
  },
  {
   "cell_type": "code",
   "execution_count": 19,
   "id": "31b78b9c-24a4-4fb4-91f5-38daa7ee6627",
   "metadata": {
    "execution": {
     "iopub.execute_input": "2023-06-22T13:54:17.377382Z",
     "iopub.status.busy": "2023-06-22T13:54:17.377058Z",
     "iopub.status.idle": "2023-06-22T13:54:17.428573Z",
     "shell.execute_reply": "2023-06-22T13:54:17.428127Z",
     "shell.execute_reply.started": "2023-06-22T13:54:17.377366Z"
    },
    "tags": []
   },
   "outputs": [
    {
     "data": {
      "text/html": [
       "<div>\n",
       "<style scoped>\n",
       "    .dataframe tbody tr th:only-of-type {\n",
       "        vertical-align: middle;\n",
       "    }\n",
       "\n",
       "    .dataframe tbody tr th {\n",
       "        vertical-align: top;\n",
       "    }\n",
       "\n",
       "    .dataframe thead th {\n",
       "        text-align: right;\n",
       "    }\n",
       "</style>\n",
       "<table border=\"1\" class=\"dataframe\">\n",
       "  <thead>\n",
       "    <tr style=\"text-align: right;\">\n",
       "      <th></th>\n",
       "      <th>actualPosition</th>\n",
       "      <th>actualTorque</th>\n",
       "      <th>actualVelocity</th>\n",
       "      <th>demandPosition</th>\n",
       "      <th>demandVelocity</th>\n",
       "      <th>private_efdStamp</th>\n",
       "      <th>private_identity</th>\n",
       "      <th>private_kafkaStamp</th>\n",
       "      <th>private_origin</th>\n",
       "      <th>private_rcvStamp</th>\n",
       "      <th>private_revCode</th>\n",
       "      <th>private_seqNum</th>\n",
       "      <th>private_sndStamp</th>\n",
       "      <th>timestamp</th>\n",
       "    </tr>\n",
       "  </thead>\n",
       "  <tbody>\n",
       "    <tr>\n",
       "      <th>2023-05-31 14:39:28.995524+00:00</th>\n",
       "      <td>89.959044</td>\n",
       "      <td>0</td>\n",
       "      <td>-0.000230</td>\n",
       "      <td>89.977487</td>\n",
       "      <td>0</td>\n",
       "      <td>1.685544e+09</td>\n",
       "      <td>MTMount</td>\n",
       "      <td>1.685544e+09</td>\n",
       "      <td>43965</td>\n",
       "      <td>1.685544e+09</td>\n",
       "      <td>faa4549a</td>\n",
       "      <td>1106075</td>\n",
       "      <td>1.685544e+09</td>\n",
       "      <td>1.685544e+09</td>\n",
       "    </tr>\n",
       "    <tr>\n",
       "      <th>2023-05-31 14:39:29.031703+00:00</th>\n",
       "      <td>89.959044</td>\n",
       "      <td>0</td>\n",
       "      <td>0.000106</td>\n",
       "      <td>89.977487</td>\n",
       "      <td>0</td>\n",
       "      <td>1.685544e+09</td>\n",
       "      <td>MTMount</td>\n",
       "      <td>1.685544e+09</td>\n",
       "      <td>43965</td>\n",
       "      <td>1.685544e+09</td>\n",
       "      <td>faa4549a</td>\n",
       "      <td>1106076</td>\n",
       "      <td>1.685544e+09</td>\n",
       "      <td>1.685544e+09</td>\n",
       "    </tr>\n",
       "    <tr>\n",
       "      <th>2023-05-31 14:39:29.127068+00:00</th>\n",
       "      <td>89.959043</td>\n",
       "      <td>0</td>\n",
       "      <td>0.000124</td>\n",
       "      <td>89.977487</td>\n",
       "      <td>0</td>\n",
       "      <td>1.685544e+09</td>\n",
       "      <td>MTMount</td>\n",
       "      <td>1.685544e+09</td>\n",
       "      <td>43965</td>\n",
       "      <td>1.685544e+09</td>\n",
       "      <td>faa4549a</td>\n",
       "      <td>1106077</td>\n",
       "      <td>1.685544e+09</td>\n",
       "      <td>1.685544e+09</td>\n",
       "    </tr>\n",
       "    <tr>\n",
       "      <th>2023-05-31 14:39:29.171917+00:00</th>\n",
       "      <td>89.959044</td>\n",
       "      <td>0</td>\n",
       "      <td>-0.000468</td>\n",
       "      <td>89.977487</td>\n",
       "      <td>0</td>\n",
       "      <td>1.685544e+09</td>\n",
       "      <td>MTMount</td>\n",
       "      <td>1.685544e+09</td>\n",
       "      <td>43965</td>\n",
       "      <td>1.685544e+09</td>\n",
       "      <td>faa4549a</td>\n",
       "      <td>1106078</td>\n",
       "      <td>1.685544e+09</td>\n",
       "      <td>1.685544e+09</td>\n",
       "    </tr>\n",
       "    <tr>\n",
       "      <th>2023-05-31 14:39:29.283134+00:00</th>\n",
       "      <td>89.959044</td>\n",
       "      <td>0</td>\n",
       "      <td>-0.000005</td>\n",
       "      <td>89.977487</td>\n",
       "      <td>0</td>\n",
       "      <td>1.685544e+09</td>\n",
       "      <td>MTMount</td>\n",
       "      <td>1.685544e+09</td>\n",
       "      <td>43965</td>\n",
       "      <td>1.685544e+09</td>\n",
       "      <td>faa4549a</td>\n",
       "      <td>1106079</td>\n",
       "      <td>1.685544e+09</td>\n",
       "      <td>1.685544e+09</td>\n",
       "    </tr>\n",
       "    <tr>\n",
       "      <th>...</th>\n",
       "      <td>...</td>\n",
       "      <td>...</td>\n",
       "      <td>...</td>\n",
       "      <td>...</td>\n",
       "      <td>...</td>\n",
       "      <td>...</td>\n",
       "      <td>...</td>\n",
       "      <td>...</td>\n",
       "      <td>...</td>\n",
       "      <td>...</td>\n",
       "      <td>...</td>\n",
       "      <td>...</td>\n",
       "      <td>...</td>\n",
       "      <td>...</td>\n",
       "    </tr>\n",
       "    <tr>\n",
       "      <th>2023-05-31 14:40:08.691049+00:00</th>\n",
       "      <td>89.959038</td>\n",
       "      <td>0</td>\n",
       "      <td>0.000146</td>\n",
       "      <td>89.977487</td>\n",
       "      <td>0</td>\n",
       "      <td>1.685544e+09</td>\n",
       "      <td>MTMount</td>\n",
       "      <td>1.685544e+09</td>\n",
       "      <td>43965</td>\n",
       "      <td>1.685544e+09</td>\n",
       "      <td>faa4549a</td>\n",
       "      <td>1106616</td>\n",
       "      <td>1.685544e+09</td>\n",
       "      <td>1.685544e+09</td>\n",
       "    </tr>\n",
       "    <tr>\n",
       "      <th>2023-05-31 14:40:08.776855+00:00</th>\n",
       "      <td>89.959037</td>\n",
       "      <td>0</td>\n",
       "      <td>-0.000608</td>\n",
       "      <td>89.977487</td>\n",
       "      <td>0</td>\n",
       "      <td>1.685544e+09</td>\n",
       "      <td>MTMount</td>\n",
       "      <td>1.685544e+09</td>\n",
       "      <td>43965</td>\n",
       "      <td>1.685544e+09</td>\n",
       "      <td>faa4549a</td>\n",
       "      <td>1106617</td>\n",
       "      <td>1.685544e+09</td>\n",
       "      <td>1.685544e+09</td>\n",
       "    </tr>\n",
       "    <tr>\n",
       "      <th>2023-05-31 14:40:08.833860+00:00</th>\n",
       "      <td>89.959037</td>\n",
       "      <td>0</td>\n",
       "      <td>0.000079</td>\n",
       "      <td>89.977487</td>\n",
       "      <td>0</td>\n",
       "      <td>1.685544e+09</td>\n",
       "      <td>MTMount</td>\n",
       "      <td>1.685544e+09</td>\n",
       "      <td>43965</td>\n",
       "      <td>1.685544e+09</td>\n",
       "      <td>faa4549a</td>\n",
       "      <td>1106618</td>\n",
       "      <td>1.685544e+09</td>\n",
       "      <td>1.685544e+09</td>\n",
       "    </tr>\n",
       "    <tr>\n",
       "      <th>2023-05-31 14:40:08.927341+00:00</th>\n",
       "      <td>89.959037</td>\n",
       "      <td>0</td>\n",
       "      <td>0.000185</td>\n",
       "      <td>89.977487</td>\n",
       "      <td>0</td>\n",
       "      <td>1.685544e+09</td>\n",
       "      <td>MTMount</td>\n",
       "      <td>1.685544e+09</td>\n",
       "      <td>43965</td>\n",
       "      <td>1.685544e+09</td>\n",
       "      <td>faa4549a</td>\n",
       "      <td>1106619</td>\n",
       "      <td>1.685544e+09</td>\n",
       "      <td>1.685544e+09</td>\n",
       "    </tr>\n",
       "    <tr>\n",
       "      <th>2023-05-31 14:40:08.989655+00:00</th>\n",
       "      <td>89.959037</td>\n",
       "      <td>0</td>\n",
       "      <td>-0.000143</td>\n",
       "      <td>89.977487</td>\n",
       "      <td>0</td>\n",
       "      <td>1.685544e+09</td>\n",
       "      <td>MTMount</td>\n",
       "      <td>1.685544e+09</td>\n",
       "      <td>43965</td>\n",
       "      <td>1.685544e+09</td>\n",
       "      <td>faa4549a</td>\n",
       "      <td>1106620</td>\n",
       "      <td>1.685544e+09</td>\n",
       "      <td>1.685544e+09</td>\n",
       "    </tr>\n",
       "  </tbody>\n",
       "</table>\n",
       "<p>546 rows × 14 columns</p>\n",
       "</div>"
      ],
      "text/plain": [
       "                                  actualPosition  actualTorque   \n",
       "2023-05-31 14:39:28.995524+00:00       89.959044             0  \\\n",
       "2023-05-31 14:39:29.031703+00:00       89.959044             0   \n",
       "2023-05-31 14:39:29.127068+00:00       89.959043             0   \n",
       "2023-05-31 14:39:29.171917+00:00       89.959044             0   \n",
       "2023-05-31 14:39:29.283134+00:00       89.959044             0   \n",
       "...                                          ...           ...   \n",
       "2023-05-31 14:40:08.691049+00:00       89.959038             0   \n",
       "2023-05-31 14:40:08.776855+00:00       89.959037             0   \n",
       "2023-05-31 14:40:08.833860+00:00       89.959037             0   \n",
       "2023-05-31 14:40:08.927341+00:00       89.959037             0   \n",
       "2023-05-31 14:40:08.989655+00:00       89.959037             0   \n",
       "\n",
       "                                  actualVelocity  demandPosition   \n",
       "2023-05-31 14:39:28.995524+00:00       -0.000230       89.977487  \\\n",
       "2023-05-31 14:39:29.031703+00:00        0.000106       89.977487   \n",
       "2023-05-31 14:39:29.127068+00:00        0.000124       89.977487   \n",
       "2023-05-31 14:39:29.171917+00:00       -0.000468       89.977487   \n",
       "2023-05-31 14:39:29.283134+00:00       -0.000005       89.977487   \n",
       "...                                          ...             ...   \n",
       "2023-05-31 14:40:08.691049+00:00        0.000146       89.977487   \n",
       "2023-05-31 14:40:08.776855+00:00       -0.000608       89.977487   \n",
       "2023-05-31 14:40:08.833860+00:00        0.000079       89.977487   \n",
       "2023-05-31 14:40:08.927341+00:00        0.000185       89.977487   \n",
       "2023-05-31 14:40:08.989655+00:00       -0.000143       89.977487   \n",
       "\n",
       "                                  demandVelocity  private_efdStamp   \n",
       "2023-05-31 14:39:28.995524+00:00               0      1.685544e+09  \\\n",
       "2023-05-31 14:39:29.031703+00:00               0      1.685544e+09   \n",
       "2023-05-31 14:39:29.127068+00:00               0      1.685544e+09   \n",
       "2023-05-31 14:39:29.171917+00:00               0      1.685544e+09   \n",
       "2023-05-31 14:39:29.283134+00:00               0      1.685544e+09   \n",
       "...                                          ...               ...   \n",
       "2023-05-31 14:40:08.691049+00:00               0      1.685544e+09   \n",
       "2023-05-31 14:40:08.776855+00:00               0      1.685544e+09   \n",
       "2023-05-31 14:40:08.833860+00:00               0      1.685544e+09   \n",
       "2023-05-31 14:40:08.927341+00:00               0      1.685544e+09   \n",
       "2023-05-31 14:40:08.989655+00:00               0      1.685544e+09   \n",
       "\n",
       "                                 private_identity  private_kafkaStamp   \n",
       "2023-05-31 14:39:28.995524+00:00          MTMount        1.685544e+09  \\\n",
       "2023-05-31 14:39:29.031703+00:00          MTMount        1.685544e+09   \n",
       "2023-05-31 14:39:29.127068+00:00          MTMount        1.685544e+09   \n",
       "2023-05-31 14:39:29.171917+00:00          MTMount        1.685544e+09   \n",
       "2023-05-31 14:39:29.283134+00:00          MTMount        1.685544e+09   \n",
       "...                                           ...                 ...   \n",
       "2023-05-31 14:40:08.691049+00:00          MTMount        1.685544e+09   \n",
       "2023-05-31 14:40:08.776855+00:00          MTMount        1.685544e+09   \n",
       "2023-05-31 14:40:08.833860+00:00          MTMount        1.685544e+09   \n",
       "2023-05-31 14:40:08.927341+00:00          MTMount        1.685544e+09   \n",
       "2023-05-31 14:40:08.989655+00:00          MTMount        1.685544e+09   \n",
       "\n",
       "                                  private_origin  private_rcvStamp   \n",
       "2023-05-31 14:39:28.995524+00:00           43965      1.685544e+09  \\\n",
       "2023-05-31 14:39:29.031703+00:00           43965      1.685544e+09   \n",
       "2023-05-31 14:39:29.127068+00:00           43965      1.685544e+09   \n",
       "2023-05-31 14:39:29.171917+00:00           43965      1.685544e+09   \n",
       "2023-05-31 14:39:29.283134+00:00           43965      1.685544e+09   \n",
       "...                                          ...               ...   \n",
       "2023-05-31 14:40:08.691049+00:00           43965      1.685544e+09   \n",
       "2023-05-31 14:40:08.776855+00:00           43965      1.685544e+09   \n",
       "2023-05-31 14:40:08.833860+00:00           43965      1.685544e+09   \n",
       "2023-05-31 14:40:08.927341+00:00           43965      1.685544e+09   \n",
       "2023-05-31 14:40:08.989655+00:00           43965      1.685544e+09   \n",
       "\n",
       "                                 private_revCode  private_seqNum   \n",
       "2023-05-31 14:39:28.995524+00:00        faa4549a         1106075  \\\n",
       "2023-05-31 14:39:29.031703+00:00        faa4549a         1106076   \n",
       "2023-05-31 14:39:29.127068+00:00        faa4549a         1106077   \n",
       "2023-05-31 14:39:29.171917+00:00        faa4549a         1106078   \n",
       "2023-05-31 14:39:29.283134+00:00        faa4549a         1106079   \n",
       "...                                          ...             ...   \n",
       "2023-05-31 14:40:08.691049+00:00        faa4549a         1106616   \n",
       "2023-05-31 14:40:08.776855+00:00        faa4549a         1106617   \n",
       "2023-05-31 14:40:08.833860+00:00        faa4549a         1106618   \n",
       "2023-05-31 14:40:08.927341+00:00        faa4549a         1106619   \n",
       "2023-05-31 14:40:08.989655+00:00        faa4549a         1106620   \n",
       "\n",
       "                                  private_sndStamp     timestamp  \n",
       "2023-05-31 14:39:28.995524+00:00      1.685544e+09  1.685544e+09  \n",
       "2023-05-31 14:39:29.031703+00:00      1.685544e+09  1.685544e+09  \n",
       "2023-05-31 14:39:29.127068+00:00      1.685544e+09  1.685544e+09  \n",
       "2023-05-31 14:39:29.171917+00:00      1.685544e+09  1.685544e+09  \n",
       "2023-05-31 14:39:29.283134+00:00      1.685544e+09  1.685544e+09  \n",
       "...                                            ...           ...  \n",
       "2023-05-31 14:40:08.691049+00:00      1.685544e+09  1.685544e+09  \n",
       "2023-05-31 14:40:08.776855+00:00      1.685544e+09  1.685544e+09  \n",
       "2023-05-31 14:40:08.833860+00:00      1.685544e+09  1.685544e+09  \n",
       "2023-05-31 14:40:08.927341+00:00      1.685544e+09  1.685544e+09  \n",
       "2023-05-31 14:40:08.989655+00:00      1.685544e+09  1.685544e+09  \n",
       "\n",
       "[546 rows x 14 columns]"
      ]
     },
     "execution_count": 19,
     "metadata": {},
     "output_type": "execute_result"
    }
   ],
   "source": [
    "df_ele"
   ]
  },
  {
   "cell_type": "code",
   "execution_count": 20,
   "id": "1654bc11-64b8-4fd3-97dd-9c3e5813fb3e",
   "metadata": {
    "execution": {
     "iopub.execute_input": "2023-06-22T13:54:18.209642Z",
     "iopub.status.busy": "2023-06-22T13:54:18.209347Z",
     "iopub.status.idle": "2023-06-22T13:54:18.257645Z",
     "shell.execute_reply": "2023-06-22T13:54:18.257126Z",
     "shell.execute_reply.started": "2023-06-22T13:54:18.209625Z"
    },
    "tags": []
   },
   "outputs": [
    {
     "data": {
      "text/html": [
       "<div>\n",
       "<style scoped>\n",
       "    .dataframe tbody tr th:only-of-type {\n",
       "        vertical-align: middle;\n",
       "    }\n",
       "\n",
       "    .dataframe tbody tr th {\n",
       "        vertical-align: top;\n",
       "    }\n",
       "\n",
       "    .dataframe thead th {\n",
       "        text-align: right;\n",
       "    }\n",
       "</style>\n",
       "<table border=\"1\" class=\"dataframe\">\n",
       "  <thead>\n",
       "    <tr style=\"text-align: right;\">\n",
       "      <th></th>\n",
       "      <th>actualPosition</th>\n",
       "      <th>actualTorque</th>\n",
       "      <th>actualVelocity</th>\n",
       "      <th>demandPosition</th>\n",
       "      <th>demandVelocity</th>\n",
       "      <th>private_efdStamp</th>\n",
       "      <th>private_identity</th>\n",
       "      <th>private_kafkaStamp</th>\n",
       "      <th>private_origin</th>\n",
       "      <th>private_rcvStamp</th>\n",
       "      <th>private_revCode</th>\n",
       "      <th>private_seqNum</th>\n",
       "      <th>private_sndStamp</th>\n",
       "      <th>timestamp</th>\n",
       "    </tr>\n",
       "  </thead>\n",
       "  <tbody>\n",
       "    <tr>\n",
       "      <th>2023-05-31 14:39:28.994573+00:00</th>\n",
       "      <td>-16.803314</td>\n",
       "      <td>4791.114736</td>\n",
       "      <td>0.000057</td>\n",
       "      <td>-16.803315</td>\n",
       "      <td>0.000000</td>\n",
       "      <td>1.685544e+09</td>\n",
       "      <td>MTMount</td>\n",
       "      <td>1.685544e+09</td>\n",
       "      <td>43965</td>\n",
       "      <td>1.685544e+09</td>\n",
       "      <td>c5f1e359</td>\n",
       "      <td>1106316</td>\n",
       "      <td>1.685544e+09</td>\n",
       "      <td>1.685544e+09</td>\n",
       "    </tr>\n",
       "    <tr>\n",
       "      <th>2023-05-31 14:39:29.031196+00:00</th>\n",
       "      <td>-16.803315</td>\n",
       "      <td>4940.261597</td>\n",
       "      <td>0.000079</td>\n",
       "      <td>-16.803315</td>\n",
       "      <td>0.000000</td>\n",
       "      <td>1.685544e+09</td>\n",
       "      <td>MTMount</td>\n",
       "      <td>1.685544e+09</td>\n",
       "      <td>43965</td>\n",
       "      <td>1.685544e+09</td>\n",
       "      <td>c5f1e359</td>\n",
       "      <td>1106317</td>\n",
       "      <td>1.685544e+09</td>\n",
       "      <td>1.685544e+09</td>\n",
       "    </tr>\n",
       "    <tr>\n",
       "      <th>2023-05-31 14:39:29.125866+00:00</th>\n",
       "      <td>-16.803315</td>\n",
       "      <td>5019.668638</td>\n",
       "      <td>0.000246</td>\n",
       "      <td>-16.803315</td>\n",
       "      <td>0.000000</td>\n",
       "      <td>1.685544e+09</td>\n",
       "      <td>MTMount</td>\n",
       "      <td>1.685544e+09</td>\n",
       "      <td>43965</td>\n",
       "      <td>1.685544e+09</td>\n",
       "      <td>c5f1e359</td>\n",
       "      <td>1106318</td>\n",
       "      <td>1.685544e+09</td>\n",
       "      <td>1.685544e+09</td>\n",
       "    </tr>\n",
       "    <tr>\n",
       "      <th>2023-05-31 14:39:29.171268+00:00</th>\n",
       "      <td>-16.803315</td>\n",
       "      <td>5159.030971</td>\n",
       "      <td>-0.000049</td>\n",
       "      <td>-16.803309</td>\n",
       "      <td>0.000544</td>\n",
       "      <td>1.685544e+09</td>\n",
       "      <td>MTMount</td>\n",
       "      <td>1.685544e+09</td>\n",
       "      <td>43965</td>\n",
       "      <td>1.685544e+09</td>\n",
       "      <td>c5f1e359</td>\n",
       "      <td>1106319</td>\n",
       "      <td>1.685544e+09</td>\n",
       "      <td>1.685544e+09</td>\n",
       "    </tr>\n",
       "    <tr>\n",
       "      <th>2023-05-31 14:39:29.282651+00:00</th>\n",
       "      <td>-16.803266</td>\n",
       "      <td>14212.955201</td>\n",
       "      <td>0.001870</td>\n",
       "      <td>-16.802929</td>\n",
       "      <td>0.008300</td>\n",
       "      <td>1.685544e+09</td>\n",
       "      <td>MTMount</td>\n",
       "      <td>1.685544e+09</td>\n",
       "      <td>43965</td>\n",
       "      <td>1.685544e+09</td>\n",
       "      <td>c5f1e359</td>\n",
       "      <td>1106320</td>\n",
       "      <td>1.685544e+09</td>\n",
       "      <td>1.685544e+09</td>\n",
       "    </tr>\n",
       "    <tr>\n",
       "      <th>...</th>\n",
       "      <td>...</td>\n",
       "      <td>...</td>\n",
       "      <td>...</td>\n",
       "      <td>...</td>\n",
       "      <td>...</td>\n",
       "      <td>...</td>\n",
       "      <td>...</td>\n",
       "      <td>...</td>\n",
       "      <td>...</td>\n",
       "      <td>...</td>\n",
       "      <td>...</td>\n",
       "      <td>...</td>\n",
       "      <td>...</td>\n",
       "      <td>...</td>\n",
       "    </tr>\n",
       "    <tr>\n",
       "      <th>2023-05-31 14:40:08.690340+00:00</th>\n",
       "      <td>-12.912520</td>\n",
       "      <td>6763.560548</td>\n",
       "      <td>0.099979</td>\n",
       "      <td>-12.900015</td>\n",
       "      <td>0.100000</td>\n",
       "      <td>1.685544e+09</td>\n",
       "      <td>MTMount</td>\n",
       "      <td>1.685544e+09</td>\n",
       "      <td>43965</td>\n",
       "      <td>1.685544e+09</td>\n",
       "      <td>c5f1e359</td>\n",
       "      <td>1106857</td>\n",
       "      <td>1.685544e+09</td>\n",
       "      <td>1.685544e+09</td>\n",
       "    </tr>\n",
       "    <tr>\n",
       "      <th>2023-05-31 14:40:08.775601+00:00</th>\n",
       "      <td>-12.907519</td>\n",
       "      <td>6769.757349</td>\n",
       "      <td>0.100613</td>\n",
       "      <td>-12.895015</td>\n",
       "      <td>0.100000</td>\n",
       "      <td>1.685544e+09</td>\n",
       "      <td>MTMount</td>\n",
       "      <td>1.685544e+09</td>\n",
       "      <td>43965</td>\n",
       "      <td>1.685544e+09</td>\n",
       "      <td>c5f1e359</td>\n",
       "      <td>1106858</td>\n",
       "      <td>1.685544e+09</td>\n",
       "      <td>1.685544e+09</td>\n",
       "    </tr>\n",
       "    <tr>\n",
       "      <th>2023-05-31 14:40:08.833360+00:00</th>\n",
       "      <td>-12.897517</td>\n",
       "      <td>6377.324566</td>\n",
       "      <td>0.099762</td>\n",
       "      <td>-12.885015</td>\n",
       "      <td>0.100000</td>\n",
       "      <td>1.685544e+09</td>\n",
       "      <td>MTMount</td>\n",
       "      <td>1.685544e+09</td>\n",
       "      <td>43965</td>\n",
       "      <td>1.685544e+09</td>\n",
       "      <td>c5f1e359</td>\n",
       "      <td>1106859</td>\n",
       "      <td>1.685544e+09</td>\n",
       "      <td>1.685544e+09</td>\n",
       "    </tr>\n",
       "    <tr>\n",
       "      <th>2023-05-31 14:40:08.926129+00:00</th>\n",
       "      <td>-12.892516</td>\n",
       "      <td>6351.727383</td>\n",
       "      <td>0.100639</td>\n",
       "      <td>-12.880015</td>\n",
       "      <td>0.100000</td>\n",
       "      <td>1.685544e+09</td>\n",
       "      <td>MTMount</td>\n",
       "      <td>1.685544e+09</td>\n",
       "      <td>43965</td>\n",
       "      <td>1.685544e+09</td>\n",
       "      <td>c5f1e359</td>\n",
       "      <td>1106860</td>\n",
       "      <td>1.685544e+09</td>\n",
       "      <td>1.685544e+09</td>\n",
       "    </tr>\n",
       "    <tr>\n",
       "      <th>2023-05-31 14:40:08.989000+00:00</th>\n",
       "      <td>-12.887514</td>\n",
       "      <td>6099.860659</td>\n",
       "      <td>0.099722</td>\n",
       "      <td>-12.875015</td>\n",
       "      <td>0.100000</td>\n",
       "      <td>1.685544e+09</td>\n",
       "      <td>MTMount</td>\n",
       "      <td>1.685544e+09</td>\n",
       "      <td>43965</td>\n",
       "      <td>1.685544e+09</td>\n",
       "      <td>c5f1e359</td>\n",
       "      <td>1106861</td>\n",
       "      <td>1.685544e+09</td>\n",
       "      <td>1.685544e+09</td>\n",
       "    </tr>\n",
       "  </tbody>\n",
       "</table>\n",
       "<p>546 rows × 14 columns</p>\n",
       "</div>"
      ],
      "text/plain": [
       "                                  actualPosition  actualTorque   \n",
       "2023-05-31 14:39:28.994573+00:00      -16.803314   4791.114736  \\\n",
       "2023-05-31 14:39:29.031196+00:00      -16.803315   4940.261597   \n",
       "2023-05-31 14:39:29.125866+00:00      -16.803315   5019.668638   \n",
       "2023-05-31 14:39:29.171268+00:00      -16.803315   5159.030971   \n",
       "2023-05-31 14:39:29.282651+00:00      -16.803266  14212.955201   \n",
       "...                                          ...           ...   \n",
       "2023-05-31 14:40:08.690340+00:00      -12.912520   6763.560548   \n",
       "2023-05-31 14:40:08.775601+00:00      -12.907519   6769.757349   \n",
       "2023-05-31 14:40:08.833360+00:00      -12.897517   6377.324566   \n",
       "2023-05-31 14:40:08.926129+00:00      -12.892516   6351.727383   \n",
       "2023-05-31 14:40:08.989000+00:00      -12.887514   6099.860659   \n",
       "\n",
       "                                  actualVelocity  demandPosition   \n",
       "2023-05-31 14:39:28.994573+00:00        0.000057      -16.803315  \\\n",
       "2023-05-31 14:39:29.031196+00:00        0.000079      -16.803315   \n",
       "2023-05-31 14:39:29.125866+00:00        0.000246      -16.803315   \n",
       "2023-05-31 14:39:29.171268+00:00       -0.000049      -16.803309   \n",
       "2023-05-31 14:39:29.282651+00:00        0.001870      -16.802929   \n",
       "...                                          ...             ...   \n",
       "2023-05-31 14:40:08.690340+00:00        0.099979      -12.900015   \n",
       "2023-05-31 14:40:08.775601+00:00        0.100613      -12.895015   \n",
       "2023-05-31 14:40:08.833360+00:00        0.099762      -12.885015   \n",
       "2023-05-31 14:40:08.926129+00:00        0.100639      -12.880015   \n",
       "2023-05-31 14:40:08.989000+00:00        0.099722      -12.875015   \n",
       "\n",
       "                                  demandVelocity  private_efdStamp   \n",
       "2023-05-31 14:39:28.994573+00:00        0.000000      1.685544e+09  \\\n",
       "2023-05-31 14:39:29.031196+00:00        0.000000      1.685544e+09   \n",
       "2023-05-31 14:39:29.125866+00:00        0.000000      1.685544e+09   \n",
       "2023-05-31 14:39:29.171268+00:00        0.000544      1.685544e+09   \n",
       "2023-05-31 14:39:29.282651+00:00        0.008300      1.685544e+09   \n",
       "...                                          ...               ...   \n",
       "2023-05-31 14:40:08.690340+00:00        0.100000      1.685544e+09   \n",
       "2023-05-31 14:40:08.775601+00:00        0.100000      1.685544e+09   \n",
       "2023-05-31 14:40:08.833360+00:00        0.100000      1.685544e+09   \n",
       "2023-05-31 14:40:08.926129+00:00        0.100000      1.685544e+09   \n",
       "2023-05-31 14:40:08.989000+00:00        0.100000      1.685544e+09   \n",
       "\n",
       "                                 private_identity  private_kafkaStamp   \n",
       "2023-05-31 14:39:28.994573+00:00          MTMount        1.685544e+09  \\\n",
       "2023-05-31 14:39:29.031196+00:00          MTMount        1.685544e+09   \n",
       "2023-05-31 14:39:29.125866+00:00          MTMount        1.685544e+09   \n",
       "2023-05-31 14:39:29.171268+00:00          MTMount        1.685544e+09   \n",
       "2023-05-31 14:39:29.282651+00:00          MTMount        1.685544e+09   \n",
       "...                                           ...                 ...   \n",
       "2023-05-31 14:40:08.690340+00:00          MTMount        1.685544e+09   \n",
       "2023-05-31 14:40:08.775601+00:00          MTMount        1.685544e+09   \n",
       "2023-05-31 14:40:08.833360+00:00          MTMount        1.685544e+09   \n",
       "2023-05-31 14:40:08.926129+00:00          MTMount        1.685544e+09   \n",
       "2023-05-31 14:40:08.989000+00:00          MTMount        1.685544e+09   \n",
       "\n",
       "                                  private_origin  private_rcvStamp   \n",
       "2023-05-31 14:39:28.994573+00:00           43965      1.685544e+09  \\\n",
       "2023-05-31 14:39:29.031196+00:00           43965      1.685544e+09   \n",
       "2023-05-31 14:39:29.125866+00:00           43965      1.685544e+09   \n",
       "2023-05-31 14:39:29.171268+00:00           43965      1.685544e+09   \n",
       "2023-05-31 14:39:29.282651+00:00           43965      1.685544e+09   \n",
       "...                                          ...               ...   \n",
       "2023-05-31 14:40:08.690340+00:00           43965      1.685544e+09   \n",
       "2023-05-31 14:40:08.775601+00:00           43965      1.685544e+09   \n",
       "2023-05-31 14:40:08.833360+00:00           43965      1.685544e+09   \n",
       "2023-05-31 14:40:08.926129+00:00           43965      1.685544e+09   \n",
       "2023-05-31 14:40:08.989000+00:00           43965      1.685544e+09   \n",
       "\n",
       "                                 private_revCode  private_seqNum   \n",
       "2023-05-31 14:39:28.994573+00:00        c5f1e359         1106316  \\\n",
       "2023-05-31 14:39:29.031196+00:00        c5f1e359         1106317   \n",
       "2023-05-31 14:39:29.125866+00:00        c5f1e359         1106318   \n",
       "2023-05-31 14:39:29.171268+00:00        c5f1e359         1106319   \n",
       "2023-05-31 14:39:29.282651+00:00        c5f1e359         1106320   \n",
       "...                                          ...             ...   \n",
       "2023-05-31 14:40:08.690340+00:00        c5f1e359         1106857   \n",
       "2023-05-31 14:40:08.775601+00:00        c5f1e359         1106858   \n",
       "2023-05-31 14:40:08.833360+00:00        c5f1e359         1106859   \n",
       "2023-05-31 14:40:08.926129+00:00        c5f1e359         1106860   \n",
       "2023-05-31 14:40:08.989000+00:00        c5f1e359         1106861   \n",
       "\n",
       "                                  private_sndStamp     timestamp  \n",
       "2023-05-31 14:39:28.994573+00:00      1.685544e+09  1.685544e+09  \n",
       "2023-05-31 14:39:29.031196+00:00      1.685544e+09  1.685544e+09  \n",
       "2023-05-31 14:39:29.125866+00:00      1.685544e+09  1.685544e+09  \n",
       "2023-05-31 14:39:29.171268+00:00      1.685544e+09  1.685544e+09  \n",
       "2023-05-31 14:39:29.282651+00:00      1.685544e+09  1.685544e+09  \n",
       "...                                            ...           ...  \n",
       "2023-05-31 14:40:08.690340+00:00      1.685544e+09  1.685544e+09  \n",
       "2023-05-31 14:40:08.775601+00:00      1.685544e+09  1.685544e+09  \n",
       "2023-05-31 14:40:08.833360+00:00      1.685544e+09  1.685544e+09  \n",
       "2023-05-31 14:40:08.926129+00:00      1.685544e+09  1.685544e+09  \n",
       "2023-05-31 14:40:08.989000+00:00      1.685544e+09  1.685544e+09  \n",
       "\n",
       "[546 rows x 14 columns]"
      ]
     },
     "execution_count": 20,
     "metadata": {},
     "output_type": "execute_result"
    }
   ],
   "source": [
    "df_azi"
   ]
  },
  {
   "cell_type": "code",
   "execution_count": null,
   "id": "f343f536-baf5-4236-acec-1b0293c5c518",
   "metadata": {
    "execution": {
     "iopub.execute_input": "2023-06-22T15:53:42.773456Z",
     "iopub.status.busy": "2023-06-22T15:53:42.772899Z"
    },
    "tags": []
   },
   "outputs": [
    {
     "data": {
      "text/html": [
       "<pre style=\"margin: 0.1em;\n",
       "padding-left: 0.25em;\n",
       "border-left-style: solid;\n",
       "font-family: var(--jp-code-font-family);\n",
       "font-size: var(--jp-code-font-size);\n",
       "line-height: var(--jp-code-line-height);\n",
       "\"><span style=\"color: var(--jp-warn-color2)\">lsst.summit.utils.efdUtils</span> <span style=\"color: var(--jp-warn-color0)\">WARNING</span>: Topic lsst.sal.MTM1M3.imsData is in the schema, but no data was returned by the query for the specified time range</pre>"
      ],
      "text/plain": [
       "<IPython.core.display.HTML object>"
      ]
     },
     "metadata": {},
     "output_type": "display_data"
    },
    {
     "name": "stdout",
     "output_type": "stream",
     "text": [
      "No data for slew number: 26\n"
     ]
    },
    {
     "data": {
      "text/html": [
       "<pre style=\"margin: 0.1em;\n",
       "padding-left: 0.25em;\n",
       "border-left-style: solid;\n",
       "font-family: var(--jp-code-font-family);\n",
       "font-size: var(--jp-code-font-size);\n",
       "line-height: var(--jp-code-line-height);\n",
       "\"><span style=\"color: var(--jp-warn-color2)\">lsst.summit.utils.efdUtils</span> <span style=\"color: var(--jp-warn-color0)\">WARNING</span>: Topic lsst.sal.MTM1M3.imsData is in the schema, but no data was returned by the query for the specified time range</pre>"
      ],
      "text/plain": [
       "<IPython.core.display.HTML object>"
      ]
     },
     "metadata": {},
     "output_type": "display_data"
    },
    {
     "name": "stdout",
     "output_type": "stream",
     "text": [
      "No data for slew number: 34\n"
     ]
    },
    {
     "data": {
      "text/html": [
       "<pre style=\"margin: 0.1em;\n",
       "padding-left: 0.25em;\n",
       "border-left-style: solid;\n",
       "font-family: var(--jp-code-font-family);\n",
       "font-size: var(--jp-code-font-size);\n",
       "line-height: var(--jp-code-line-height);\n",
       "\"><span style=\"color: var(--jp-warn-color2)\">lsst.summit.utils.efdUtils</span> <span style=\"color: var(--jp-warn-color0)\">WARNING</span>: Topic lsst.sal.MTM1M3.imsData is in the schema, but no data was returned by the query for the specified time range</pre>"
      ],
      "text/plain": [
       "<IPython.core.display.HTML object>"
      ]
     },
     "metadata": {},
     "output_type": "display_data"
    },
    {
     "name": "stdout",
     "output_type": "stream",
     "text": [
      "No data for slew number: 36\n"
     ]
    },
    {
     "data": {
      "text/html": [
       "<pre style=\"margin: 0.1em;\n",
       "padding-left: 0.25em;\n",
       "border-left-style: solid;\n",
       "font-family: var(--jp-code-font-family);\n",
       "font-size: var(--jp-code-font-size);\n",
       "line-height: var(--jp-code-line-height);\n",
       "\"><span style=\"color: var(--jp-warn-color2)\">lsst.summit.utils.efdUtils</span> <span style=\"color: var(--jp-warn-color0)\">WARNING</span>: Topic lsst.sal.MTM1M3.imsData is in the schema, but no data was returned by the query for the specified time range</pre>"
      ],
      "text/plain": [
       "<IPython.core.display.HTML object>"
      ]
     },
     "metadata": {},
     "output_type": "display_data"
    },
    {
     "name": "stdout",
     "output_type": "stream",
     "text": [
      "No data for slew number: 42\n"
     ]
    },
    {
     "data": {
      "text/html": [
       "<pre style=\"margin: 0.1em;\n",
       "padding-left: 0.25em;\n",
       "border-left-style: solid;\n",
       "font-family: var(--jp-code-font-family);\n",
       "font-size: var(--jp-code-font-size);\n",
       "line-height: var(--jp-code-line-height);\n",
       "\"><span style=\"color: var(--jp-warn-color2)\">lsst.summit.utils.efdUtils</span> <span style=\"color: var(--jp-warn-color0)\">WARNING</span>: Topic lsst.sal.MTM1M3.imsData is in the schema, but no data was returned by the query for the specified time range</pre>"
      ],
      "text/plain": [
       "<IPython.core.display.HTML object>"
      ]
     },
     "metadata": {},
     "output_type": "display_data"
    },
    {
     "name": "stdout",
     "output_type": "stream",
     "text": [
      "No data for slew number: 48\n"
     ]
    },
    {
     "data": {
      "text/html": [
       "<pre style=\"margin: 0.1em;\n",
       "padding-left: 0.25em;\n",
       "border-left-style: solid;\n",
       "font-family: var(--jp-code-font-family);\n",
       "font-size: var(--jp-code-font-size);\n",
       "line-height: var(--jp-code-line-height);\n",
       "\"><span style=\"color: var(--jp-warn-color2)\">lsst.summit.utils.efdUtils</span> <span style=\"color: var(--jp-warn-color0)\">WARNING</span>: Topic lsst.sal.MTM1M3.imsData is in the schema, but no data was returned by the query for the specified time range</pre>"
      ],
      "text/plain": [
       "<IPython.core.display.HTML object>"
      ]
     },
     "metadata": {},
     "output_type": "display_data"
    },
    {
     "name": "stdout",
     "output_type": "stream",
     "text": [
      "No data for slew number: 51\n"
     ]
    },
    {
     "data": {
      "text/html": [
       "<pre style=\"margin: 0.1em;\n",
       "padding-left: 0.25em;\n",
       "border-left-style: solid;\n",
       "font-family: var(--jp-code-font-family);\n",
       "font-size: var(--jp-code-font-size);\n",
       "line-height: var(--jp-code-line-height);\n",
       "\"><span style=\"color: var(--jp-warn-color2)\">lsst.summit.utils.efdUtils</span> <span style=\"color: var(--jp-warn-color0)\">WARNING</span>: Topic lsst.sal.MTM1M3.imsData is in the schema, but no data was returned by the query for the specified time range</pre>"
      ],
      "text/plain": [
       "<IPython.core.display.HTML object>"
      ]
     },
     "metadata": {},
     "output_type": "display_data"
    },
    {
     "name": "stdout",
     "output_type": "stream",
     "text": [
      "No data for slew number: 53\n"
     ]
    },
    {
     "data": {
      "text/html": [
       "<pre style=\"margin: 0.1em;\n",
       "padding-left: 0.25em;\n",
       "border-left-style: solid;\n",
       "font-family: var(--jp-code-font-family);\n",
       "font-size: var(--jp-code-font-size);\n",
       "line-height: var(--jp-code-line-height);\n",
       "\"><span style=\"color: var(--jp-warn-color2)\">lsst.summit.utils.efdUtils</span> <span style=\"color: var(--jp-warn-color0)\">WARNING</span>: Topic lsst.sal.MTM1M3.imsData is in the schema, but no data was returned by the query for the specified time range</pre>"
      ],
      "text/plain": [
       "<IPython.core.display.HTML object>"
      ]
     },
     "metadata": {},
     "output_type": "display_data"
    },
    {
     "name": "stdout",
     "output_type": "stream",
     "text": [
      "No data for slew number: 55\n"
     ]
    },
    {
     "data": {
      "text/html": [
       "<pre style=\"margin: 0.1em;\n",
       "padding-left: 0.25em;\n",
       "border-left-style: solid;\n",
       "font-family: var(--jp-code-font-family);\n",
       "font-size: var(--jp-code-font-size);\n",
       "line-height: var(--jp-code-line-height);\n",
       "\"><span style=\"color: var(--jp-warn-color2)\">lsst.summit.utils.efdUtils</span> <span style=\"color: var(--jp-warn-color0)\">WARNING</span>: Topic lsst.sal.MTM1M3.imsData is in the schema, but no data was returned by the query for the specified time range</pre>"
      ],
      "text/plain": [
       "<IPython.core.display.HTML object>"
      ]
     },
     "metadata": {},
     "output_type": "display_data"
    },
    {
     "name": "stdout",
     "output_type": "stream",
     "text": [
      "No data for slew number: 56\n"
     ]
    },
    {
     "data": {
      "text/html": [
       "<pre style=\"margin: 0.1em;\n",
       "padding-left: 0.25em;\n",
       "border-left-style: solid;\n",
       "font-family: var(--jp-code-font-family);\n",
       "font-size: var(--jp-code-font-size);\n",
       "line-height: var(--jp-code-line-height);\n",
       "\"><span style=\"color: var(--jp-warn-color2)\">lsst.summit.utils.efdUtils</span> <span style=\"color: var(--jp-warn-color0)\">WARNING</span>: Topic lsst.sal.MTM1M3.imsData is in the schema, but no data was returned by the query for the specified time range</pre>"
      ],
      "text/plain": [
       "<IPython.core.display.HTML object>"
      ]
     },
     "metadata": {},
     "output_type": "display_data"
    },
    {
     "name": "stdout",
     "output_type": "stream",
     "text": [
      "No data for slew number: 57\n"
     ]
    },
    {
     "data": {
      "text/html": [
       "<pre style=\"margin: 0.1em;\n",
       "padding-left: 0.25em;\n",
       "border-left-style: solid;\n",
       "font-family: var(--jp-code-font-family);\n",
       "font-size: var(--jp-code-font-size);\n",
       "line-height: var(--jp-code-line-height);\n",
       "\"><span style=\"color: var(--jp-warn-color2)\">lsst.summit.utils.efdUtils</span> <span style=\"color: var(--jp-warn-color0)\">WARNING</span>: Topic lsst.sal.MTM1M3.imsData is in the schema, but no data was returned by the query for the specified time range</pre>"
      ],
      "text/plain": [
       "<IPython.core.display.HTML object>"
      ]
     },
     "metadata": {},
     "output_type": "display_data"
    },
    {
     "name": "stdout",
     "output_type": "stream",
     "text": [
      "No data for slew number: 62\n"
     ]
    },
    {
     "data": {
      "text/html": [
       "<pre style=\"margin: 0.1em;\n",
       "padding-left: 0.25em;\n",
       "border-left-style: solid;\n",
       "font-family: var(--jp-code-font-family);\n",
       "font-size: var(--jp-code-font-size);\n",
       "line-height: var(--jp-code-line-height);\n",
       "\"><span style=\"color: var(--jp-warn-color2)\">lsst.summit.utils.efdUtils</span> <span style=\"color: var(--jp-warn-color0)\">WARNING</span>: Topic lsst.sal.MTM1M3.imsData is in the schema, but no data was returned by the query for the specified time range</pre>"
      ],
      "text/plain": [
       "<IPython.core.display.HTML object>"
      ]
     },
     "metadata": {},
     "output_type": "display_data"
    },
    {
     "name": "stdout",
     "output_type": "stream",
     "text": [
      "No data for slew number: 66\n"
     ]
    },
    {
     "data": {
      "text/html": [
       "<pre style=\"margin: 0.1em;\n",
       "padding-left: 0.25em;\n",
       "border-left-style: solid;\n",
       "font-family: var(--jp-code-font-family);\n",
       "font-size: var(--jp-code-font-size);\n",
       "line-height: var(--jp-code-line-height);\n",
       "\"><span style=\"color: var(--jp-warn-color2)\">lsst.summit.utils.efdUtils</span> <span style=\"color: var(--jp-warn-color0)\">WARNING</span>: Topic lsst.sal.MTM1M3.imsData is in the schema, but no data was returned by the query for the specified time range</pre>"
      ],
      "text/plain": [
       "<IPython.core.display.HTML object>"
      ]
     },
     "metadata": {},
     "output_type": "display_data"
    },
    {
     "name": "stdout",
     "output_type": "stream",
     "text": [
      "No data for slew number: 70\n"
     ]
    },
    {
     "data": {
      "text/html": [
       "<pre style=\"margin: 0.1em;\n",
       "padding-left: 0.25em;\n",
       "border-left-style: solid;\n",
       "font-family: var(--jp-code-font-family);\n",
       "font-size: var(--jp-code-font-size);\n",
       "line-height: var(--jp-code-line-height);\n",
       "\"><span style=\"color: var(--jp-warn-color2)\">lsst.summit.utils.efdUtils</span> <span style=\"color: var(--jp-warn-color0)\">WARNING</span>: Topic lsst.sal.MTM1M3.imsData is in the schema, but no data was returned by the query for the specified time range</pre>"
      ],
      "text/plain": [
       "<IPython.core.display.HTML object>"
      ]
     },
     "metadata": {},
     "output_type": "display_data"
    },
    {
     "name": "stdout",
     "output_type": "stream",
     "text": [
      "No data for slew number: 72\n"
     ]
    },
    {
     "data": {
      "text/html": [
       "<pre style=\"margin: 0.1em;\n",
       "padding-left: 0.25em;\n",
       "border-left-style: solid;\n",
       "font-family: var(--jp-code-font-family);\n",
       "font-size: var(--jp-code-font-size);\n",
       "line-height: var(--jp-code-line-height);\n",
       "\"><span style=\"color: var(--jp-warn-color2)\">lsst.summit.utils.efdUtils</span> <span style=\"color: var(--jp-warn-color0)\">WARNING</span>: Topic lsst.sal.MTM1M3.imsData is in the schema, but no data was returned by the query for the specified time range</pre>"
      ],
      "text/plain": [
       "<IPython.core.display.HTML object>"
      ]
     },
     "metadata": {},
     "output_type": "display_data"
    },
    {
     "name": "stdout",
     "output_type": "stream",
     "text": [
      "No data for slew number: 76\n"
     ]
    },
    {
     "data": {
      "text/html": [
       "<pre style=\"margin: 0.1em;\n",
       "padding-left: 0.25em;\n",
       "border-left-style: solid;\n",
       "font-family: var(--jp-code-font-family);\n",
       "font-size: var(--jp-code-font-size);\n",
       "line-height: var(--jp-code-line-height);\n",
       "\"><span style=\"color: var(--jp-warn-color2)\">lsst.summit.utils.efdUtils</span> <span style=\"color: var(--jp-warn-color0)\">WARNING</span>: Topic lsst.sal.MTM1M3.imsData is in the schema, but no data was returned by the query for the specified time range</pre>"
      ],
      "text/plain": [
       "<IPython.core.display.HTML object>"
      ]
     },
     "metadata": {},
     "output_type": "display_data"
    },
    {
     "name": "stdout",
     "output_type": "stream",
     "text": [
      "No data for slew number: 78\n"
     ]
    },
    {
     "data": {
      "text/html": [
       "<pre style=\"margin: 0.1em;\n",
       "padding-left: 0.25em;\n",
       "border-left-style: solid;\n",
       "font-family: var(--jp-code-font-family);\n",
       "font-size: var(--jp-code-font-size);\n",
       "line-height: var(--jp-code-line-height);\n",
       "\"><span style=\"color: var(--jp-warn-color2)\">lsst.summit.utils.efdUtils</span> <span style=\"color: var(--jp-warn-color0)\">WARNING</span>: Topic lsst.sal.MTM1M3.imsData is in the schema, but no data was returned by the query for the specified time range</pre>"
      ],
      "text/plain": [
       "<IPython.core.display.HTML object>"
      ]
     },
     "metadata": {},
     "output_type": "display_data"
    },
    {
     "name": "stdout",
     "output_type": "stream",
     "text": [
      "No data for slew number: 84\n"
     ]
    },
    {
     "data": {
      "text/html": [
       "<pre style=\"margin: 0.1em;\n",
       "padding-left: 0.25em;\n",
       "border-left-style: solid;\n",
       "font-family: var(--jp-code-font-family);\n",
       "font-size: var(--jp-code-font-size);\n",
       "line-height: var(--jp-code-line-height);\n",
       "\"><span style=\"color: var(--jp-warn-color2)\">lsst.summit.utils.efdUtils</span> <span style=\"color: var(--jp-warn-color0)\">WARNING</span>: Topic lsst.sal.MTM1M3.imsData is in the schema, but no data was returned by the query for the specified time range</pre>"
      ],
      "text/plain": [
       "<IPython.core.display.HTML object>"
      ]
     },
     "metadata": {},
     "output_type": "display_data"
    },
    {
     "name": "stdout",
     "output_type": "stream",
     "text": [
      "No data for slew number: 94\n"
     ]
    },
    {
     "data": {
      "text/html": [
       "<pre style=\"margin: 0.1em;\n",
       "padding-left: 0.25em;\n",
       "border-left-style: solid;\n",
       "font-family: var(--jp-code-font-family);\n",
       "font-size: var(--jp-code-font-size);\n",
       "line-height: var(--jp-code-line-height);\n",
       "\"><span style=\"color: var(--jp-warn-color2)\">lsst.summit.utils.efdUtils</span> <span style=\"color: var(--jp-warn-color0)\">WARNING</span>: Topic lsst.sal.MTM1M3.imsData is in the schema, but no data was returned by the query for the specified time range</pre>"
      ],
      "text/plain": [
       "<IPython.core.display.HTML object>"
      ]
     },
     "metadata": {},
     "output_type": "display_data"
    },
    {
     "name": "stdout",
     "output_type": "stream",
     "text": [
      "No data for slew number: 96\n"
     ]
    },
    {
     "data": {
      "text/html": [
       "<pre style=\"margin: 0.1em;\n",
       "padding-left: 0.25em;\n",
       "border-left-style: solid;\n",
       "font-family: var(--jp-code-font-family);\n",
       "font-size: var(--jp-code-font-size);\n",
       "line-height: var(--jp-code-line-height);\n",
       "\"><span style=\"color: var(--jp-warn-color2)\">lsst.summit.utils.efdUtils</span> <span style=\"color: var(--jp-warn-color0)\">WARNING</span>: Topic lsst.sal.MTM1M3.imsData is in the schema, but no data was returned by the query for the specified time range</pre>"
      ],
      "text/plain": [
       "<IPython.core.display.HTML object>"
      ]
     },
     "metadata": {},
     "output_type": "display_data"
    },
    {
     "name": "stdout",
     "output_type": "stream",
     "text": [
      "No data for slew number: 98\n"
     ]
    },
    {
     "data": {
      "text/html": [
       "<pre style=\"margin: 0.1em;\n",
       "padding-left: 0.25em;\n",
       "border-left-style: solid;\n",
       "font-family: var(--jp-code-font-family);\n",
       "font-size: var(--jp-code-font-size);\n",
       "line-height: var(--jp-code-line-height);\n",
       "\"><span style=\"color: var(--jp-warn-color2)\">lsst.summit.utils.efdUtils</span> <span style=\"color: var(--jp-warn-color0)\">WARNING</span>: Topic lsst.sal.MTM1M3.imsData is in the schema, but no data was returned by the query for the specified time range</pre>"
      ],
      "text/plain": [
       "<IPython.core.display.HTML object>"
      ]
     },
     "metadata": {},
     "output_type": "display_data"
    },
    {
     "name": "stdout",
     "output_type": "stream",
     "text": [
      "No data for slew number: 102\n"
     ]
    },
    {
     "data": {
      "text/html": [
       "<pre style=\"margin: 0.1em;\n",
       "padding-left: 0.25em;\n",
       "border-left-style: solid;\n",
       "font-family: var(--jp-code-font-family);\n",
       "font-size: var(--jp-code-font-size);\n",
       "line-height: var(--jp-code-line-height);\n",
       "\"><span style=\"color: var(--jp-warn-color2)\">lsst.summit.utils.efdUtils</span> <span style=\"color: var(--jp-warn-color0)\">WARNING</span>: Topic lsst.sal.MTM1M3.imsData is in the schema, but no data was returned by the query for the specified time range</pre>"
      ],
      "text/plain": [
       "<IPython.core.display.HTML object>"
      ]
     },
     "metadata": {},
     "output_type": "display_data"
    },
    {
     "name": "stdout",
     "output_type": "stream",
     "text": [
      "No data for slew number: 104\n"
     ]
    },
    {
     "data": {
      "text/html": [
       "<pre style=\"margin: 0.1em;\n",
       "padding-left: 0.25em;\n",
       "border-left-style: solid;\n",
       "font-family: var(--jp-code-font-family);\n",
       "font-size: var(--jp-code-font-size);\n",
       "line-height: var(--jp-code-line-height);\n",
       "\"><span style=\"color: var(--jp-warn-color2)\">lsst.summit.utils.efdUtils</span> <span style=\"color: var(--jp-warn-color0)\">WARNING</span>: Topic lsst.sal.MTM1M3.imsData is in the schema, but no data was returned by the query for the specified time range</pre>"
      ],
      "text/plain": [
       "<IPython.core.display.HTML object>"
      ]
     },
     "metadata": {},
     "output_type": "display_data"
    },
    {
     "name": "stdout",
     "output_type": "stream",
     "text": [
      "No data for slew number: 107\n"
     ]
    },
    {
     "data": {
      "text/html": [
       "<pre style=\"margin: 0.1em;\n",
       "padding-left: 0.25em;\n",
       "border-left-style: solid;\n",
       "font-family: var(--jp-code-font-family);\n",
       "font-size: var(--jp-code-font-size);\n",
       "line-height: var(--jp-code-line-height);\n",
       "\"><span style=\"color: var(--jp-warn-color2)\">lsst.summit.utils.efdUtils</span> <span style=\"color: var(--jp-warn-color0)\">WARNING</span>: Topic lsst.sal.MTM1M3.imsData is in the schema, but no data was returned by the query for the specified time range</pre>"
      ],
      "text/plain": [
       "<IPython.core.display.HTML object>"
      ]
     },
     "metadata": {},
     "output_type": "display_data"
    },
    {
     "name": "stdout",
     "output_type": "stream",
     "text": [
      "No data for slew number: 109\n"
     ]
    },
    {
     "data": {
      "text/html": [
       "<pre style=\"margin: 0.1em;\n",
       "padding-left: 0.25em;\n",
       "border-left-style: solid;\n",
       "font-family: var(--jp-code-font-family);\n",
       "font-size: var(--jp-code-font-size);\n",
       "line-height: var(--jp-code-line-height);\n",
       "\"><span style=\"color: var(--jp-warn-color2)\">lsst.summit.utils.efdUtils</span> <span style=\"color: var(--jp-warn-color0)\">WARNING</span>: Topic lsst.sal.MTM1M3.imsData is in the schema, but no data was returned by the query for the specified time range</pre>"
      ],
      "text/plain": [
       "<IPython.core.display.HTML object>"
      ]
     },
     "metadata": {},
     "output_type": "display_data"
    },
    {
     "name": "stdout",
     "output_type": "stream",
     "text": [
      "No data for slew number: 111\n"
     ]
    },
    {
     "data": {
      "text/html": [
       "<pre style=\"margin: 0.1em;\n",
       "padding-left: 0.25em;\n",
       "border-left-style: solid;\n",
       "font-family: var(--jp-code-font-family);\n",
       "font-size: var(--jp-code-font-size);\n",
       "line-height: var(--jp-code-line-height);\n",
       "\"><span style=\"color: var(--jp-warn-color2)\">lsst.summit.utils.efdUtils</span> <span style=\"color: var(--jp-warn-color0)\">WARNING</span>: Topic lsst.sal.MTM1M3.imsData is in the schema, but no data was returned by the query for the specified time range</pre>"
      ],
      "text/plain": [
       "<IPython.core.display.HTML object>"
      ]
     },
     "metadata": {},
     "output_type": "display_data"
    },
    {
     "name": "stdout",
     "output_type": "stream",
     "text": [
      "No data for slew number: 115\n"
     ]
    },
    {
     "data": {
      "text/html": [
       "<pre style=\"margin: 0.1em;\n",
       "padding-left: 0.25em;\n",
       "border-left-style: solid;\n",
       "font-family: var(--jp-code-font-family);\n",
       "font-size: var(--jp-code-font-size);\n",
       "line-height: var(--jp-code-line-height);\n",
       "\"><span style=\"color: var(--jp-warn-color2)\">lsst.summit.utils.efdUtils</span> <span style=\"color: var(--jp-warn-color0)\">WARNING</span>: Topic lsst.sal.MTM1M3.imsData is in the schema, but no data was returned by the query for the specified time range</pre>"
      ],
      "text/plain": [
       "<IPython.core.display.HTML object>"
      ]
     },
     "metadata": {},
     "output_type": "display_data"
    },
    {
     "name": "stdout",
     "output_type": "stream",
     "text": [
      "No data for slew number: 117\n"
     ]
    }
   ],
   "source": [
    "# Loop over all the slews\n",
    "# Compute mean, sigma and maximum difference w.r.t. the first values\n",
    "# Store results in a dataframe in order to plot them later\n",
    "results = pd.DataFrame(columns=[\"i_slew\", \"duration\", \"x_mean\", \"y_mean\", \"z_mean\", \"x_sigma\", \"y_sigma\", \"z_sigma\", \n",
    "                                \"R_x_mean\", \"R_y_mean\", \"R_z_mean\", \"Rx_sigma\", \"Ry_sigma\", \"Rz_sigma\",\n",
    "                                \"dx_max\", \"dy_max\", \"dz_max\", \"R_dx_max\", \"R_dy_max\", \"R_dz_max\"])\n",
    "\n",
    "for i_slew, slew in enumerate(slews):\n",
    "    #print(i_slew)\n",
    "    # Get ims data\n",
    "    df_ims = getEfdData(client, 'lsst.sal.MTM1M3.imsData', event=slew)\n",
    "    if len(df_ims) == 0:\n",
    "        print(f\"No data for slew number: {i_slew}\")\n",
    "        continue      \n",
    "        \n",
    "    df_ims = df_ims[all_columns]\n",
    "\n",
    "    # Convert meter to milimeter to make is easier to analyse\n",
    "    df_ims[pos_columns] = df_ims[pos_columns] * 1e3\n",
    "    \n",
    "    mean = {}\n",
    "    sigma = {}\n",
    "    max_diff = {}\n",
    "    for col in all_columns:\n",
    "        mean[col] = np.mean(df_ims[col])\n",
    "        sigma[col] = np.std(df_ims[col])\n",
    "        t0 = df_ims.index[0]\n",
    "        max_diff[col] = np.max(np.abs(df_ims[t0:t0][col][0]-df_ims[col]))\n",
    "        \n",
    "    # Store computed values in dataframe\n",
    "    vect = [[i_slew], [slew.duration], [mean[i] for i in pos_columns], [sigma[i] for i in pos_columns], [mean[i] for i in rot_columns], [sigma[i] for i in rot_columns],\n",
    "            [max_diff[i] for i in pos_columns], [max_diff[i] for i in rot_columns]]\n",
    "    flat_vect = [item for sublist in vect for item in sublist]\n",
    "    results = pd.concat([results, pd.DataFrame([flat_vect], columns=results.columns)], ignore_index=True)\n",
    "        "
   ]
  },
  {
   "cell_type": "code",
   "execution_count": 110,
   "id": "3e175ad7-2e5f-44c7-890c-1f71766a384a",
   "metadata": {
    "execution": {
     "iopub.execute_input": "2023-06-22T15:51:08.789239Z",
     "iopub.status.busy": "2023-06-22T15:51:08.788877Z",
     "iopub.status.idle": "2023-06-22T15:51:08.841848Z",
     "shell.execute_reply": "2023-06-22T15:51:08.841464Z",
     "shell.execute_reply.started": "2023-06-22T15:51:08.789222Z"
    },
    "tags": []
   },
   "outputs": [
    {
     "data": {
      "text/html": [
       "<div>\n",
       "<style scoped>\n",
       "    .dataframe tbody tr th:only-of-type {\n",
       "        vertical-align: middle;\n",
       "    }\n",
       "\n",
       "    .dataframe tbody tr th {\n",
       "        vertical-align: top;\n",
       "    }\n",
       "\n",
       "    .dataframe thead th {\n",
       "        text-align: right;\n",
       "    }\n",
       "</style>\n",
       "<table border=\"1\" class=\"dataframe\">\n",
       "  <thead>\n",
       "    <tr style=\"text-align: right;\">\n",
       "      <th></th>\n",
       "      <th>i_slew</th>\n",
       "      <th>duration</th>\n",
       "      <th>x_mean</th>\n",
       "      <th>y_mean</th>\n",
       "      <th>z_mean</th>\n",
       "      <th>x_sigma</th>\n",
       "      <th>y_sigma</th>\n",
       "      <th>z_sigma</th>\n",
       "      <th>R_x_mean</th>\n",
       "      <th>R_y_mean</th>\n",
       "      <th>R_z_mean</th>\n",
       "      <th>Rx_sigma</th>\n",
       "      <th>Ry_sigma</th>\n",
       "      <th>Rz_sigma</th>\n",
       "      <th>dx_max</th>\n",
       "      <th>dy_max</th>\n",
       "      <th>dz_max</th>\n",
       "      <th>R_dx_max</th>\n",
       "      <th>R_dy_max</th>\n",
       "      <th>R_dz_max</th>\n",
       "    </tr>\n",
       "  </thead>\n",
       "  <tbody>\n",
       "    <tr>\n",
       "      <th>0</th>\n",
       "      <td>0</td>\n",
       "      <td>40.068822</td>\n",
       "      <td>-1.467404</td>\n",
       "      <td>5.576672</td>\n",
       "      <td>-1.328467</td>\n",
       "      <td>0.000015</td>\n",
       "      <td>0.000271</td>\n",
       "      <td>0.000212</td>\n",
       "      <td>-0.002572</td>\n",
       "      <td>-0.014285</td>\n",
       "      <td>0.008268</td>\n",
       "      <td>0.000003</td>\n",
       "      <td>1.553150e-06</td>\n",
       "      <td>1.311492e-06</td>\n",
       "      <td>0.000251</td>\n",
       "      <td>0.000758</td>\n",
       "      <td>0.000634</td>\n",
       "      <td>0.000010</td>\n",
       "      <td>0.000006</td>\n",
       "      <td>0.000009</td>\n",
       "    </tr>\n",
       "    <tr>\n",
       "      <th>1</th>\n",
       "      <td>1</td>\n",
       "      <td>40.024595</td>\n",
       "      <td>-1.467441</td>\n",
       "      <td>5.576111</td>\n",
       "      <td>-1.330742</td>\n",
       "      <td>0.000101</td>\n",
       "      <td>0.000099</td>\n",
       "      <td>0.000177</td>\n",
       "      <td>-0.002552</td>\n",
       "      <td>-0.014270</td>\n",
       "      <td>0.008266</td>\n",
       "      <td>0.000002</td>\n",
       "      <td>1.753327e-06</td>\n",
       "      <td>1.347376e-06</td>\n",
       "      <td>0.000256</td>\n",
       "      <td>0.000257</td>\n",
       "      <td>0.000751</td>\n",
       "      <td>0.000007</td>\n",
       "      <td>0.000007</td>\n",
       "      <td>0.000010</td>\n",
       "    </tr>\n",
       "    <tr>\n",
       "      <th>2</th>\n",
       "      <td>2</td>\n",
       "      <td>40.086304</td>\n",
       "      <td>-1.467155</td>\n",
       "      <td>5.575862</td>\n",
       "      <td>-1.334827</td>\n",
       "      <td>0.000093</td>\n",
       "      <td>0.000078</td>\n",
       "      <td>0.000183</td>\n",
       "      <td>-0.002525</td>\n",
       "      <td>-0.014239</td>\n",
       "      <td>0.008266</td>\n",
       "      <td>0.000002</td>\n",
       "      <td>8.188962e-07</td>\n",
       "      <td>1.165252e-06</td>\n",
       "      <td>0.000253</td>\n",
       "      <td>0.000252</td>\n",
       "      <td>0.000733</td>\n",
       "      <td>0.000004</td>\n",
       "      <td>0.000004</td>\n",
       "      <td>0.000009</td>\n",
       "    </tr>\n",
       "    <tr>\n",
       "      <th>3</th>\n",
       "      <td>3</td>\n",
       "      <td>40.079608</td>\n",
       "      <td>-1.467672</td>\n",
       "      <td>5.576642</td>\n",
       "      <td>-1.338569</td>\n",
       "      <td>0.000117</td>\n",
       "      <td>0.000293</td>\n",
       "      <td>0.000275</td>\n",
       "      <td>-0.002489</td>\n",
       "      <td>-0.014211</td>\n",
       "      <td>0.008271</td>\n",
       "      <td>0.000002</td>\n",
       "      <td>2.119050e-06</td>\n",
       "      <td>1.458198e-06</td>\n",
       "      <td>0.000250</td>\n",
       "      <td>0.000746</td>\n",
       "      <td>0.000884</td>\n",
       "      <td>0.000008</td>\n",
       "      <td>0.000005</td>\n",
       "      <td>0.000007</td>\n",
       "    </tr>\n",
       "    <tr>\n",
       "      <th>4</th>\n",
       "      <td>4</td>\n",
       "      <td>42.002171</td>\n",
       "      <td>-1.469667</td>\n",
       "      <td>5.581143</td>\n",
       "      <td>-1.349314</td>\n",
       "      <td>0.000124</td>\n",
       "      <td>0.000177</td>\n",
       "      <td>0.000351</td>\n",
       "      <td>-0.002330</td>\n",
       "      <td>-0.014141</td>\n",
       "      <td>0.008305</td>\n",
       "      <td>0.000005</td>\n",
       "      <td>2.301741e-06</td>\n",
       "      <td>1.666076e-06</td>\n",
       "      <td>0.000252</td>\n",
       "      <td>0.000489</td>\n",
       "      <td>0.001402</td>\n",
       "      <td>0.000019</td>\n",
       "      <td>0.000008</td>\n",
       "      <td>0.000009</td>\n",
       "    </tr>\n",
       "    <tr>\n",
       "      <th>...</th>\n",
       "      <td>...</td>\n",
       "      <td>...</td>\n",
       "      <td>...</td>\n",
       "      <td>...</td>\n",
       "      <td>...</td>\n",
       "      <td>...</td>\n",
       "      <td>...</td>\n",
       "      <td>...</td>\n",
       "      <td>...</td>\n",
       "      <td>...</td>\n",
       "      <td>...</td>\n",
       "      <td>...</td>\n",
       "      <td>...</td>\n",
       "      <td>...</td>\n",
       "      <td>...</td>\n",
       "      <td>...</td>\n",
       "      <td>...</td>\n",
       "      <td>...</td>\n",
       "      <td>...</td>\n",
       "      <td>...</td>\n",
       "    </tr>\n",
       "    <tr>\n",
       "      <th>124</th>\n",
       "      <td>151</td>\n",
       "      <td>401.474373</td>\n",
       "      <td>-1.459037</td>\n",
       "      <td>5.552346</td>\n",
       "      <td>-1.341431</td>\n",
       "      <td>0.000170</td>\n",
       "      <td>0.004010</td>\n",
       "      <td>0.005937</td>\n",
       "      <td>-0.002564</td>\n",
       "      <td>-0.014219</td>\n",
       "      <td>0.008271</td>\n",
       "      <td>0.000035</td>\n",
       "      <td>5.034024e-06</td>\n",
       "      <td>2.320354e-06</td>\n",
       "      <td>0.004241</td>\n",
       "      <td>0.013143</td>\n",
       "      <td>0.019471</td>\n",
       "      <td>0.000122</td>\n",
       "      <td>0.000022</td>\n",
       "      <td>0.000019</td>\n",
       "    </tr>\n",
       "    <tr>\n",
       "      <th>125</th>\n",
       "      <td>152</td>\n",
       "      <td>201.471889</td>\n",
       "      <td>-1.459184</td>\n",
       "      <td>5.555697</td>\n",
       "      <td>-1.334478</td>\n",
       "      <td>0.000144</td>\n",
       "      <td>0.001342</td>\n",
       "      <td>0.002081</td>\n",
       "      <td>-0.002530</td>\n",
       "      <td>-0.014242</td>\n",
       "      <td>0.008263</td>\n",
       "      <td>0.000013</td>\n",
       "      <td>3.179405e-06</td>\n",
       "      <td>2.486173e-06</td>\n",
       "      <td>0.000744</td>\n",
       "      <td>0.005460</td>\n",
       "      <td>0.007296</td>\n",
       "      <td>0.000046</td>\n",
       "      <td>0.000014</td>\n",
       "      <td>0.000009</td>\n",
       "    </tr>\n",
       "    <tr>\n",
       "      <th>126</th>\n",
       "      <td>153</td>\n",
       "      <td>1083.033380</td>\n",
       "      <td>-1.461269</td>\n",
       "      <td>5.565150</td>\n",
       "      <td>-1.325432</td>\n",
       "      <td>0.001520</td>\n",
       "      <td>0.005419</td>\n",
       "      <td>0.005305</td>\n",
       "      <td>-0.002485</td>\n",
       "      <td>-0.014261</td>\n",
       "      <td>0.008269</td>\n",
       "      <td>0.000021</td>\n",
       "      <td>2.058806e-05</td>\n",
       "      <td>3.013652e-06</td>\n",
       "      <td>0.003789</td>\n",
       "      <td>0.017192</td>\n",
       "      <td>0.017959</td>\n",
       "      <td>0.000098</td>\n",
       "      <td>0.000047</td>\n",
       "      <td>0.000016</td>\n",
       "    </tr>\n",
       "    <tr>\n",
       "      <th>127</th>\n",
       "      <td>155</td>\n",
       "      <td>60.649852</td>\n",
       "      <td>-1.463472</td>\n",
       "      <td>5.569058</td>\n",
       "      <td>-1.319684</td>\n",
       "      <td>0.000119</td>\n",
       "      <td>0.000596</td>\n",
       "      <td>0.000104</td>\n",
       "      <td>-0.002479</td>\n",
       "      <td>-0.014283</td>\n",
       "      <td>0.008266</td>\n",
       "      <td>0.000002</td>\n",
       "      <td>1.905852e-06</td>\n",
       "      <td>1.185580e-06</td>\n",
       "      <td>0.000253</td>\n",
       "      <td>0.001751</td>\n",
       "      <td>0.000366</td>\n",
       "      <td>0.000007</td>\n",
       "      <td>0.000007</td>\n",
       "      <td>0.000003</td>\n",
       "    </tr>\n",
       "    <tr>\n",
       "      <th>128</th>\n",
       "      <td>156</td>\n",
       "      <td>26.065404</td>\n",
       "      <td>-1.463405</td>\n",
       "      <td>5.569890</td>\n",
       "      <td>-1.319595</td>\n",
       "      <td>0.000039</td>\n",
       "      <td>0.000323</td>\n",
       "      <td>0.000056</td>\n",
       "      <td>-0.002472</td>\n",
       "      <td>-0.014279</td>\n",
       "      <td>0.008266</td>\n",
       "      <td>0.000002</td>\n",
       "      <td>7.952947e-07</td>\n",
       "      <td>7.568110e-07</td>\n",
       "      <td>0.000247</td>\n",
       "      <td>0.001247</td>\n",
       "      <td>0.000133</td>\n",
       "      <td>0.000004</td>\n",
       "      <td>0.000004</td>\n",
       "      <td>0.000002</td>\n",
       "    </tr>\n",
       "  </tbody>\n",
       "</table>\n",
       "<p>129 rows × 20 columns</p>\n",
       "</div>"
      ],
      "text/plain": [
       "    i_slew     duration    x_mean    y_mean    z_mean   x_sigma   y_sigma   \n",
       "0        0    40.068822 -1.467404  5.576672 -1.328467  0.000015  0.000271  \\\n",
       "1        1    40.024595 -1.467441  5.576111 -1.330742  0.000101  0.000099   \n",
       "2        2    40.086304 -1.467155  5.575862 -1.334827  0.000093  0.000078   \n",
       "3        3    40.079608 -1.467672  5.576642 -1.338569  0.000117  0.000293   \n",
       "4        4    42.002171 -1.469667  5.581143 -1.349314  0.000124  0.000177   \n",
       "..     ...          ...       ...       ...       ...       ...       ...   \n",
       "124    151   401.474373 -1.459037  5.552346 -1.341431  0.000170  0.004010   \n",
       "125    152   201.471889 -1.459184  5.555697 -1.334478  0.000144  0.001342   \n",
       "126    153  1083.033380 -1.461269  5.565150 -1.325432  0.001520  0.005419   \n",
       "127    155    60.649852 -1.463472  5.569058 -1.319684  0.000119  0.000596   \n",
       "128    156    26.065404 -1.463405  5.569890 -1.319595  0.000039  0.000323   \n",
       "\n",
       "      z_sigma  R_x_mean  R_y_mean  R_z_mean  Rx_sigma      Ry_sigma   \n",
       "0    0.000212 -0.002572 -0.014285  0.008268  0.000003  1.553150e-06  \\\n",
       "1    0.000177 -0.002552 -0.014270  0.008266  0.000002  1.753327e-06   \n",
       "2    0.000183 -0.002525 -0.014239  0.008266  0.000002  8.188962e-07   \n",
       "3    0.000275 -0.002489 -0.014211  0.008271  0.000002  2.119050e-06   \n",
       "4    0.000351 -0.002330 -0.014141  0.008305  0.000005  2.301741e-06   \n",
       "..        ...       ...       ...       ...       ...           ...   \n",
       "124  0.005937 -0.002564 -0.014219  0.008271  0.000035  5.034024e-06   \n",
       "125  0.002081 -0.002530 -0.014242  0.008263  0.000013  3.179405e-06   \n",
       "126  0.005305 -0.002485 -0.014261  0.008269  0.000021  2.058806e-05   \n",
       "127  0.000104 -0.002479 -0.014283  0.008266  0.000002  1.905852e-06   \n",
       "128  0.000056 -0.002472 -0.014279  0.008266  0.000002  7.952947e-07   \n",
       "\n",
       "         Rz_sigma    dx_max    dy_max    dz_max  R_dx_max  R_dy_max  R_dz_max  \n",
       "0    1.311492e-06  0.000251  0.000758  0.000634  0.000010  0.000006  0.000009  \n",
       "1    1.347376e-06  0.000256  0.000257  0.000751  0.000007  0.000007  0.000010  \n",
       "2    1.165252e-06  0.000253  0.000252  0.000733  0.000004  0.000004  0.000009  \n",
       "3    1.458198e-06  0.000250  0.000746  0.000884  0.000008  0.000005  0.000007  \n",
       "4    1.666076e-06  0.000252  0.000489  0.001402  0.000019  0.000008  0.000009  \n",
       "..            ...       ...       ...       ...       ...       ...       ...  \n",
       "124  2.320354e-06  0.004241  0.013143  0.019471  0.000122  0.000022  0.000019  \n",
       "125  2.486173e-06  0.000744  0.005460  0.007296  0.000046  0.000014  0.000009  \n",
       "126  3.013652e-06  0.003789  0.017192  0.017959  0.000098  0.000047  0.000016  \n",
       "127  1.185580e-06  0.000253  0.001751  0.000366  0.000007  0.000007  0.000003  \n",
       "128  7.568110e-07  0.000247  0.001247  0.000133  0.000004  0.000004  0.000002  \n",
       "\n",
       "[129 rows x 20 columns]"
      ]
     },
     "execution_count": 110,
     "metadata": {},
     "output_type": "execute_result"
    }
   ],
   "source": [
    "results"
   ]
  },
  {
   "cell_type": "code",
   "execution_count": null,
   "id": "078a3863-a6b8-43b8-a866-e842ec6f2e78",
   "metadata": {},
   "outputs": [],
   "source": []
  }
 ],
 "metadata": {
  "kernelspec": {
   "display_name": "LSST",
   "language": "python",
   "name": "lsst"
  },
  "language_info": {
   "codemirror_mode": {
    "name": "ipython",
    "version": 3
   },
   "file_extension": ".py",
   "mimetype": "text/x-python",
   "name": "python",
   "nbconvert_exporter": "python",
   "pygments_lexer": "ipython3",
   "version": "3.10.10"
  }
 },
 "nbformat": 4,
 "nbformat_minor": 5
}
