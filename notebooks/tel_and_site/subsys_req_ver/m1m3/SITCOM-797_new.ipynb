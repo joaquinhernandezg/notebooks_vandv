{
 "cells": [
  {
   "cell_type": "markdown",
   "id": "adfb7800-e9e6-443c-8ae5-6f8a66e2d683",
   "metadata": {},
   "source": [
    "# SITCOM-797\n",
    "\n",
    "Here is what was requested:\n",
    "\n",
    "To analyze the positioning system after a slew, create plots for the mirror\n",
    "\n",
    "- decentering (X and Y)\n",
    "- mirror tilt (RX, RY, RY)\n",
    "- piston\n",
    "- Create a histogram for each parameter for a configurable time period.\n",
    "\n",
    "Include the limits in all plots:\n",
    "\n",
    "* the mirror decenters at less than +/- 6 micrometer\n",
    "* mirror tilt less than +/- 24 e-6 degree\n",
    "* piston less than +/- 1 micrometer\n",
    "\n",
    "\n",
    "### Prepare Notebook"
   ]
  },
  {
   "cell_type": "code",
   "execution_count": null,
   "id": "d4c89ded-c3ec-4214-a9c9-86ac336eca2d",
   "metadata": {
    "tags": []
   },
   "outputs": [],
   "source": [
    "%matplotlib inline\n",
    "%load_ext autoreload\n",
    "%autoreload 2"
   ]
  },
  {
   "cell_type": "code",
   "execution_count": null,
   "id": "1d51c56a-b3ef-4822-bc43-89cca5e0c08c",
   "metadata": {
    "tags": []
   },
   "outputs": [],
   "source": [
    "import pandas as pd\n",
    "import matplotlib.pyplot as plt\n",
    "import numpy as np\n",
    "\n",
    "from astropy import time\n",
    "from astropy import units as u\n",
    "import matplotlib.dates as mdates\n",
    "\n",
    "from lsst.summit.utils.tmaUtils import TMAEventMaker, TMAState\n",
    "from lsst.summit.utils.efdUtils import getEfdData, makeEfdClient"
   ]
  },
  {
   "cell_type": "code",
   "execution_count": null,
   "id": "08f92d91-f316-4205-8cbe-1e94d75cf252",
   "metadata": {
    "tags": []
   },
   "outputs": [],
   "source": [
    "# Select data from a given date\n",
    "dayObs = 20230627\n",
    "eventMaker = TMAEventMaker()\n",
    "events = eventMaker.getEvents(dayObs)\n",
    "\n",
    "# Get lists of slew and track events\n",
    "slews = [e for e in events if e.type==TMAState.SLEWING]\n",
    "tracks = [e for e in events if e.type==TMAState.TRACKING]\n",
    "print(f'Found {len(slews)} slews and {len(tracks)} tracks')"
   ]
  },
  {
   "cell_type": "code",
   "execution_count": null,
   "id": "a5ebd7f2-8f1e-40ab-9ab5-da61a1cefd30",
   "metadata": {
    "tags": []
   },
   "outputs": [],
   "source": [
    "# create a client to retrieve datasets in the EFD database\n",
    "client = makeEfdClient()"
   ]
  },
  {
   "cell_type": "code",
   "execution_count": null,
   "id": "b63483ad-5aac-408c-9b24-e12f896fd1c0",
   "metadata": {
    "tags": []
   },
   "outputs": [],
   "source": [
    "pos_columns = [a + \"Position\" for a in \"xyz\"]\n",
    "rot_columns = [a + \"Rotation\" for a in \"xyz\"]\n",
    "all_columns = pos_columns + rot_columns"
   ]
  },
  {
   "cell_type": "markdown",
   "id": "32ededba-faf9-472c-8ac4-60c6e4aae5c4",
   "metadata": {
    "execution": {
     "iopub.execute_input": "2023-06-23T12:10:07.060884Z",
     "iopub.status.busy": "2023-06-23T12:10:07.060460Z",
     "iopub.status.idle": "2023-06-23T12:10:07.100328Z",
     "shell.execute_reply": "2023-06-23T12:10:07.099837Z",
     "shell.execute_reply.started": "2023-06-23T12:10:07.060867Z"
    },
    "tags": []
   },
   "source": [
    "## Analysis\n",
    "\n",
    " * Loop over all the slews\n",
    " * Compute mean, sigma and maximum difference w.r.t. the first values\n",
    " * Store results in a dataframe in order to plot them later"
   ]
  },
  {
   "cell_type": "code",
   "execution_count": null,
   "id": "f343f536-baf5-4236-acec-1b0293c5c518",
   "metadata": {
    "tags": []
   },
   "outputs": [],
   "source": [
    "# define small amount of time to check mirror position before and after the slews\n",
    "delta_t = 1\n",
    "dt_begin = time.TimeDelta(-delta_t, format='sec')\n",
    "dt_end = time.TimeDelta(delta_t, format='sec')\n",
    "\n",
    "results = pd.DataFrame(columns=[\"i_slew\", \"duration\", \"x_mean\", \"y_mean\", \"z_mean\", \"x_sigma\", \"y_sigma\", \"z_sigma\", \n",
    "                                \"R_x_mean\", \"R_y_mean\", \"R_z_mean\", \"Rx_sigma\", \"Ry_sigma\", \"Rz_sigma\",\n",
    "                                \"dx_max\", \"dy_max\", \"dz_max\", \"R_dx_max\", \"R_dy_max\", \"R_dz_max\",\n",
    "                                \"x_before\", \"y_before\", \"z_before\", \"R_x_before\", \"R_y_before\", \"R_z_before\",\n",
    "                                \"x_after\", \"y_after\", \"z_after\", \"R_x_after\", \"R_y_after\", \"R_z_after\",\n",
    "                                \"start_ele\", \"end_ele\", \"start_azi\", \"end_azi\", \"speed_ele\"])\n",
    "\n",
    "\n",
    "for i_slew, slew in enumerate(slews):\n",
    "    #print(i_slew)\n",
    "    # Get ims data\n",
    "    df_ims = getEfdData(client, 'lsst.sal.MTM1M3.imsData', event=slew)\n",
    "    if len(df_ims) == 0:\n",
    "        print(f\"No data for slew number: {i_slew}\")\n",
    "        continue \n",
    "        \n",
    "    df_ims = df_ims[all_columns]\n",
    "\n",
    "    # Convert meter to milimeter to make is easier to analyse\n",
    "    df_ims[pos_columns] = df_ims[pos_columns] * 1e3\n",
    "    \n",
    "    # get ims data before and after the slew\n",
    "    df_ims_before = getEfdData(client, 'lsst.sal.MTM1M3.imsData', begin=slew.begin, timespan=dt_begin)\n",
    "    if len(df_ims_before) == 0:\n",
    "        print(f\"No data before slew number: {i_slew}\")\n",
    "        continue \n",
    "    df_ims_before = df_ims_before[all_columns]\n",
    "    df_ims_before[pos_columns] = df_ims_before[pos_columns]*u.m.to(u.mm)\n",
    "    \n",
    "    df_ims_after = getEfdData(client, 'lsst.sal.MTM1M3.imsData', begin=slew.end, timespan=dt_end)\n",
    "    if len(df_ims_before) == 0:\n",
    "        print(f\"No data after slew number: {i_slew}\")\n",
    "        continue \n",
    "    df_ims_after = df_ims_after[all_columns]\n",
    "    df_ims_after[pos_columns] = df_ims_after[pos_columns]*u.m.to(u.mm)\n",
    "    \n",
    "    mean = {}\n",
    "    sigma = {}\n",
    "    max_diff = {}\n",
    "    mean_before={}\n",
    "    mean_after = {}\n",
    "    for col in all_columns:\n",
    "        mean[col] = np.mean(df_ims[col])\n",
    "        sigma[col] = np.std(df_ims[col])\n",
    "        t0 = df_ims.index[0]\n",
    "        max_diff[col] = np.max(np.abs(df_ims[t0:t0][col][0]-df_ims[col]))\n",
    "        \n",
    "        mean_before[col] = np.mean(df_ims_before[col])\n",
    "        mean_after[col] = np.mean(df_ims_after[col])\n",
    "        \n",
    "    # get elevation data\n",
    "    df_ele = getEfdData(client, 'lsst.sal.MTMount.elevation', event= slew)\n",
    "    pos_ele = df_ele[\"actualPosition\"]\n",
    "    start_ele = pos_ele[pos_ele.index[0]]\n",
    "    end_ele = pos_ele[pos_ele.index[len(pos_ele)-1]]\n",
    "    # get speed\n",
    "    speed_ele = np.mean(df_ele[\"demandVelocity\"])\n",
    "    \n",
    "    # get azimuth data\n",
    "    df_azi = getEfdData(client, 'lsst.sal.MTMount.azimuth', event= slew)\n",
    "    pos_azi = df_azi[\"actualPosition\"]\n",
    "    start_azi = pos_azi[pos_azi.index[0]]\n",
    "    end_azi = pos_azi[pos_azi.index[len(pos_azi)-1]]\n",
    "        \n",
    "    # Store computed values in dataframe\n",
    "    vect = [[i_slew], [slew.duration], [mean[i] for i in pos_columns], [sigma[i] for i in pos_columns], [mean[i] for i in rot_columns], [sigma[i] for i in rot_columns],\n",
    "            [max_diff[i] for i in pos_columns], [max_diff[i] for i in rot_columns],\n",
    "            [mean_before[i] for i in pos_columns], [mean_before[i] for i in rot_columns], [mean_after[i] for i in pos_columns], [mean_after[i] for i in rot_columns],\n",
    "            [start_ele], [end_ele], [start_azi], [end_azi], [speed_ele]]\n",
    "    flat_vect = [item for sublist in vect for item in sublist]\n",
    "    results = pd.concat([results, pd.DataFrame([flat_vect], columns=results.columns)], ignore_index=True)\n",
    "        "
   ]
  },
  {
   "cell_type": "code",
   "execution_count": null,
   "id": "3e175ad7-2e5f-44c7-890c-1f71766a384a",
   "metadata": {
    "tags": []
   },
   "outputs": [],
   "source": [
    "results"
   ]
  },
  {
   "cell_type": "code",
   "execution_count": null,
   "id": "fb78e962-503f-4a57-ba67-c0c854baef9d",
   "metadata": {
    "tags": []
   },
   "outputs": [],
   "source": [
    "# Plot results (histograms)\n",
    "%matplotlib inline\n",
    "\n",
    "locator = mdates.AutoDateLocator(minticks=3, maxticks=3)\n",
    "formatter = mdates.ConciseDateFormatter(locator)\n",
    "\n",
    "axes = \"xyz\"\n",
    "\n",
    "# limit on position (micron) or rotation (arcsec) for ouliers\n",
    "out_limit_pos = 100\n",
    "out_limit_rot = 0.55 \n",
    "\n",
    "title = f\"SITCOM-797 Slewing analysis - Positioning - dayObs = {dayObs}\"\n",
    "fig, axs = plt.subplots(num=title, nrows=2, ncols=3, figsize=(12, 8))\n",
    "\n",
    "# Check whether the TMA actually move in elevation\n",
    "mask_move = abs(results[\"speed_ele\"]) > 0.05\n",
    "\n",
    "for i in range(3):\n",
    "    diff = (results[f\"{axes[i]}_after\"] - results[f\"{axes[i]}_before\"])*u.mm.to(u.micron)\n",
    "    mask_out = np.abs(diff) < out_limit_pos\n",
    "    print(f\"Found {len(results)-np.sum(mask_out)} outliers {axes[i]}Position (limit: {out_limit_pos} microns)\")\n",
    "    mask = mask_out & mask_move\n",
    "    axs[0][i].hist(diff[mask], bins=50)\n",
    "    axs[0][i].set_xlabel(f\"Position {axes[i]} after-before (micron)\")\n",
    "    \n",
    "    R_diff = (results[f\"R_{axes[i]}_after\"] - results[f\"R_{axes[i]}_before\"])*u.degree.to(u.arcsec)\n",
    "    mask_out = np.abs(R_diff) < out_limit_rot\n",
    "    print(f\"Found {len(results)-np.sum(mask_out)} outliers {axes[i]}Rotation (limit: {out_limit_rot} arcsec)\")\n",
    "    mask = mask_out & mask_move\n",
    "    axs[1][i].hist(R_diff[mask], bins=50)\n",
    "    axs[1][i].set_xlabel(f\"Rotation {axes[i]} after-before (arcsec)\")\n",
    "    \n",
    "    if axes[i] in [\"x\", \"y\"]:\n",
    "        axs[0][i].axvline(6, color='y')\n",
    "        axs[0][i].axvline(-6, color='y')\n",
    "        axs[1][i].axvline(0.0864, color='y')\n",
    "        axs[1][i].axvline(-0.0864, color='y')\n",
    "    else:\n",
    "        axs[0][i].axvline(1, color='y')\n",
    "        axs[0][i].axvline(-1, color='y')\n",
    "        axs[1][i].axvline(0.0864, color='y')\n",
    "        axs[1][i].axvline(-0.0864, color='y')\n",
    "    \n",
    "fig.suptitle(title + \"\\n\")\n",
    "fig.tight_layout()\n",
    "plt.subplots_adjust(top=0.93)"
   ]
  },
  {
   "cell_type": "code",
   "execution_count": null,
   "id": "43b14eec-37fc-492e-90f9-938b70006b7a",
   "metadata": {
    "tags": []
   },
   "outputs": [],
   "source": [
    "# Plot results (scatter plots)\n",
    "locator = mdates.AutoDateLocator(minticks=3, maxticks=3)\n",
    "formatter = mdates.ConciseDateFormatter(locator)\n",
    "\n",
    "#cm = plt.cm.get_cmap('RdYlBu')\n",
    "cm = plt.cm.get_cmap('Set1')\n",
    "\n",
    "axes = [ \"x\", \"y\", \"z\"]\n",
    "\n",
    "# limit on position (micron) or rotation (arcsec) for ouliers\n",
    "out_limit_pos = 100\n",
    "out_limit_rot = 0.55\n",
    "\n",
    "title = f\"SITCOM-797 Slewing analysis - Positioning - dayObs = {dayObs}\"\n",
    "fig, axs = plt.subplots(num=title, nrows=2, ncols=3, figsize=(15, 8))\n",
    "\n",
    "# Check whether the TMA actually move in elevation\n",
    "#mask_move = abs(results[\"end_ele\"] - results[\"start_ele\"]) > 1\n",
    "mask_move = abs(results[\"speed_ele\"]) > 0.05\n",
    "\n",
    "diff_ele = results[\"end_ele\"] - results[\"start_ele\"]\n",
    "\n",
    "for i in range(3):\n",
    "    diff = (results[f\"{axes[i]}_after\"] - results[f\"{axes[i]}_before\"])*u.mm.to(u.micron)\n",
    "    mask_out = np.abs(diff) < out_limit_pos\n",
    "    print(f\"Found {len(results)-np.sum(mask_out)} outliers {axes[i]}Position (limit: {out_limit_pos} microns)\")\n",
    "    mask = mask_out & mask_move\n",
    "    im = axs[0][i].scatter(diff_ele[mask], diff[mask], c=abs(results[\"speed_ele\"][mask]), s=4, cmap=cm)\n",
    "    axs[0][i].set_xlabel(\"Elevation difference (deg)\")\n",
    "    axs[0][i].set_ylabel(f\"Position {axes[i]} after-before (micron)\")\n",
    "    clb = fig.colorbar(im, ax=axs[0][i])\n",
    "    clb.ax.set_title('Elev. speed')\n",
    "\n",
    "    R_diff = (results[f\"R_{axes[i]}_after\"] - results[f\"R_{axes[i]}_before\"])*u.degree.to(u.arcsec)\n",
    "    mask_out = np.abs(R_diff) < out_limit_rot\n",
    "    print(f\"Found {len(results)-np.sum(mask_out)} outliers {axes[i]}Rotation (limit: {out_limit_rot} arcsec)\")\n",
    "    mask = mask_out & mask_move\n",
    "    im = axs[1][i].scatter(diff_ele[mask], R_diff[mask], c=abs(results[\"speed_ele\"][mask]), s=4, cmap=cm)\n",
    "    axs[1][i].set_xlabel(\"Elevation difference (deg)\")\n",
    "    axs[1][i].set_ylabel(f\"Rotation {axes[i]} after-before (arcsec)\")\n",
    "    clb = fig.colorbar(im, ax=axs[1][i])\n",
    "    clb.ax.set_title('Elev. speed')\n",
    "    \n",
    "    if axes[i] in [\"x\", \"y\"]:\n",
    "        axs[0][i].axhline(6, color='y')\n",
    "        axs[0][i].axhline(-6, color='y')\n",
    "        axs[1][i].axhline(0.0864, color='y')\n",
    "        axs[1][i].axhline(-0.0864, color='y')\n",
    "    else:\n",
    "        axs[0][i].axhline(1, color='y')\n",
    "        axs[0][i].axhline(-1, color='y')\n",
    "        axs[1][i].axhline(0.0864, color='y')\n",
    "        axs[1][i].axhline(-0.0864, color='y')\n",
    "    \n",
    "fig.suptitle(title + \"\\n\")\n",
    "fig.tight_layout()\n",
    "plt.subplots_adjust(top=0.91)"
   ]
  },
  {
   "cell_type": "code",
   "execution_count": null,
   "id": "b301123d-f4a2-469b-9c63-1d3abc8cc813",
   "metadata": {},
   "outputs": [],
   "source": []
  }
 ],
 "metadata": {
  "kernelspec": {
   "display_name": "LSST",
   "language": "python",
   "name": "lsst"
  },
  "language_info": {
   "codemirror_mode": {
    "name": "ipython",
    "version": 3
   },
   "file_extension": ".py",
   "mimetype": "text/x-python",
   "name": "python",
   "nbconvert_exporter": "python",
   "pygments_lexer": "ipython3",
   "version": "3.10.10"
  }
 },
 "nbformat": 4,
 "nbformat_minor": 5
}
