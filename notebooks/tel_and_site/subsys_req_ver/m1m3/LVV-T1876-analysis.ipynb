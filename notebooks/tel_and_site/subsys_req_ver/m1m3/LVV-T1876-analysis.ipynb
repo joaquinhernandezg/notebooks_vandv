{
 "cells": [
  {
   "cell_type": "markdown",
   "id": "7c235e45-d932-432a-b473-f72774f97a37",
   "metadata": {},
   "source": [
    "# [LVV-T1876] - Settling Time After a Slew\n",
    "\n",
    "Notebook containing data analysis for the [LVV-T1876] test case.  \n",
    "~The script used to run this test case can be found in [lsst-ts/ts_m1m3supporttesting/M13T012.py].~\n",
    "\n",
    "\n",
    "[LVV-T1876]: https://jira.lsstcorp.org/secure/Tests.jspa#/testCase/2237\n",
    "[lsst-ts/ts_m1m3supporttesting/M13T012.py]: https://github.com/lsst-ts/ts_m1m3supporttesting/blob/develop/M13T012.py\n",
    "\n",
    "\n",
    "see [LVV-T2732_analysis_mt_encoder_slew_jitter.ipynb] for jitter ideas?\n",
    "\n",
    "[LVV-T2732_analysis_mt_encoder_slew_jitter.ipynb]: https://github.com/lsst-sitcom/notebooks_vandv/blob/develop/notebooks/tel_and_site/subsys_req_ver/tma/LVV-T2732_analysis_mt_encoder_slew_jitter.ipynb\n",
    "\n",
    "\n",
    "My first thought is we:\n",
    "1. identify appropriate slew events (?)\n",
    "2.  Compute rms for time window after 'inPosition' log event\n",
    "3. Define settled when all rms are below some value (not sure what the threshold should be)\n",
    "\n",
    "\n",
    "Worked on\n",
    "\n",
    "## Prepare Notebook"
   ]
  },
  {
   "cell_type": "code",
   "execution_count": null,
   "id": "ca6acb2e-deea-42b4-9364-c449cbc68bbd",
   "metadata": {
    "tags": []
   },
   "outputs": [],
   "source": [
    "test_case = \"LVV-T235\"\n",
    "test_exec = \"LVV-E985\"\n",
    "\n",
    "t_start = \"2023-03-07T18:48:20\" # Exact time clean up initial fault\n",
    "t_end = \"2023-03-07T19:30:00\"\n",
    "\n",
    "delta_t = 2 # seconds"
   ]
  },
  {
   "cell_type": "code",
   "execution_count": null,
   "id": "9627519e-ef49-41c5-9085-1a7373e7b3c0",
   "metadata": {
    "tags": []
   },
   "outputs": [],
   "source": [
    "%matplotlib inline\n",
    "%load_ext autoreload\n",
    "%autoreload 2"
   ]
  },
  {
   "cell_type": "code",
   "execution_count": null,
   "id": "c3d229f3-648a-4ee3-ac70-8e22bd90e53e",
   "metadata": {
    "tags": []
   },
   "outputs": [],
   "source": [
    "import itertools as itt\n",
    "import pandas as pd\n",
    "import matplotlib.dates as mdates\n",
    "import matplotlib.pyplot as plt\n",
    "import numpy as np\n",
    "import seaborn as sns\n",
    "\n",
    "from astropy import units as u\n",
    "from astropy.time import Time, TimezoneInfo\n",
    "\n",
    "from lsst.sitcom import vandv\n",
    "from lsst.ts.idl.enums import MTM1M3"
   ]
  },
  {
   "cell_type": "code",
   "execution_count": null,
   "id": "6fa49a3c-6c77-4d44-939f-b713b1e5ca76",
   "metadata": {
    "tags": []
   },
   "outputs": [],
   "source": [
    "delta_t = pd.Timedelta(delta_t, \"seconds\")\n",
    "delta_z = [pd.Timedelta(1, \"seconds\"),pd.Timedelta(10, \"seconds\")]\n",
    "client = vandv.efd.create_efd_client()"
   ]
  },
  {
   "cell_type": "code",
   "execution_count": null,
   "id": "abe2499e-f4e6-4d97-9bee-daf54d9162dd",
   "metadata": {
    "tags": []
   },
   "outputs": [],
   "source": [
    "## Query Data"
   ]
  },
  {
   "cell_type": "code",
   "execution_count": null,
   "id": "2d073569-8f2b-41b3-8e75-bfcc7d48dd76",
   "metadata": {
    "tags": []
   },
   "outputs": [],
   "source": [
    "all_columns = [\"xPosition\", \"xRotation\", \"yPosition\", \"yRotation\", \"zPosition\", \"zRotation\"]\n",
    "pos_columns = [c for c in all_columns if \"Position\" in c]\n",
    "rot_columns = [c for c in all_columns if \"Rotation\" in c]\n",
    "print(pos_columns, rot_columns)"
   ]
  },
  {
   "cell_type": "code",
   "execution_count": null,
   "id": "37fb0173-c8ba-4e0a-a737-0c465fc1726e",
   "metadata": {
    "tags": []
   },
   "outputs": [],
   "source": [
    "df_ims = await client.select_time_series(\n",
    "    \"lsst.sal.MTM1M3.imsData\", \n",
    "    \"*\", \n",
    "    Time(t_start, format=\"isot\", scale=\"utc\"),\n",
    "    Time(t_end, format=\"isot\", scale=\"utc\"), \n",
    ")\n",
    "\n",
    "df_ims = df_ims.set_index(\"private_rcvStamp\")\n",
    "df_ims.index = pd.to_datetime(df_ims.index, unit=\"s\")\n",
    "df_ims = df_ims[all_columns]\n",
    "\n",
    "# Convert meter to milimeter to make is easier to analyse\n",
    "df_ims[pos_columns] = df_ims[pos_columns] * 1e3\n",
    "\n",
    "# Convert radians to degrees\n",
    "df_ims[rot_columns] = np.rad2deg(df_ims[rot_columns])"
   ]
  },
  {
   "cell_type": "code",
   "execution_count": null,
   "id": "9273d48c-b115-4c54-b3ad-c850a8f4d48d",
   "metadata": {
    "tags": []
   },
   "outputs": [],
   "source": [
    "df_state = await client.select_time_series(\n",
    "    \"lsst.sal.MTM1M3.logevent_detailedState\", \n",
    "    \"*\", \n",
    "    Time(t_start, format=\"isot\", scale=\"utc\"),\n",
    "    Time(t_end, format=\"isot\", scale=\"utc\"), \n",
    ")\n",
    "\n",
    "df_state[\"detailedStateName\"] = \\\n",
    "    df_state[\"detailedState\"].map(lambda x: MTM1M3.DetailedState(x).name)\n",
    "\n",
    "df_state = df_state.set_index(\"private_rcvStamp\")\n",
    "df_state.index = pd.to_datetime(df_state.index, unit=\"s\")"
   ]
  },
  {
   "cell_type": "code",
   "execution_count": null,
   "id": "7bed673f-b2b7-4068-93e2-009e642aa492",
   "metadata": {
    "tags": []
   },
   "outputs": [],
   "source": [
    "df_cmdPos = await client.select_time_series(\n",
    "    \"lsst.sal.MTM1M3.command_positionM1M3\", \n",
    "    \"*\", \n",
    "    Time(t_start, format=\"isot\", scale=\"utc\"),\n",
    "    Time(t_end, format=\"isot\", scale=\"utc\"), \n",
    ")\n",
    "\n",
    "df_cmdPos = df_cmdPos.set_index(\"private_rcvStamp\")\n",
    "df_cmdPos.index = pd.to_datetime(df_cmdPos.index, unit=\"s\")\n",
    "df_cmdPos = df_cmdPos[all_columns]\n",
    "df_cmdPos = df_cmdPos * 1e3 # Convert meter to milimeter to make is easier to analyse"
   ]
  },
  {
   "cell_type": "code",
   "execution_count": null,
   "id": "e57e9d31-f6c7-4305-b425-44d919cecd1b",
   "metadata": {
    "tags": []
   },
   "outputs": [],
   "source": [
    "df_HPState = await client.select_time_series(\n",
    "    \"lsst.sal.MTM1M3.logevent_hardpointActuatorState\", \n",
    "    \"*\", \n",
    "    Time(t_start, format=\"isot\", scale=\"utc\"),\n",
    "    Time(t_end, format=\"isot\", scale=\"utc\"), \n",
    ")\n",
    "\n",
    "df_HPState = df_HPState.set_index(\"private_rcvStamp\")\n",
    "df_HPState.index = pd.to_datetime(df_HPState.index, unit=\"s\")"
   ]
  },
  {
   "cell_type": "markdown",
   "id": "52579903-4673-4627-b2ed-d18b8b6183d4",
   "metadata": {
    "execution": {
     "iopub.execute_input": "2023-05-10T21:04:49.618523Z",
     "iopub.status.busy": "2023-05-10T21:04:49.618295Z",
     "iopub.status.idle": "2023-05-10T21:04:49.620992Z",
     "shell.execute_reply": "2023-05-10T21:04:49.620562Z",
     "shell.execute_reply.started": "2023-05-10T21:04:49.618508Z"
    },
    "tags": []
   },
   "source": [
    "## Initial Data Display "
   ]
  },
  {
   "cell_type": "code",
   "execution_count": null,
   "id": "c7acf9bd-ae6f-4fbd-b844-e967b41a92f3",
   "metadata": {
    "tags": []
   },
   "outputs": [],
   "source": [
    "title = f\"{test_case} {test_exec}\\nData Overview\"\n",
    "fig, axs = plt.subplots(num=title, nrows=3, sharex=True, figsize=(10, 5))\n",
    "\n",
    "when_parked = df_state[df_state[\"detailedStateName\"] == \"PARKED\"].index\n",
    "when_rasing = df_state[df_state[\"detailedStateName\"] == \"RAISINGENGINEERING\"].index\n",
    "when_lowering = df_state[df_state[\"detailedStateName\"] == \"LOWERINGENGINEERING\"].index\n",
    "when_active = df_state[df_state[\"detailedStateName\"] == \"ACTIVEENGINEERING\"].index\n",
    "\n",
    "for i, label in enumerate(pos_columns):\n",
    "    ax = axs[i]\n",
    "    ax.plot(df_ims[label])\n",
    "    \n",
    "    for idx in when_parked:\n",
    "        l1 = ax.axvline(idx, lw=\"0.5\", c=\"k\")\n",
    "        \n",
    "    for idx in when_rasing:\n",
    "        l2 = ax.axvline(idx, lw=\"0.5\", c=\"k\", ls=\"--\")\n",
    "        \n",
    "    for idx in when_lowering:\n",
    "        l3 = ax.axvline(idx, lw=\"0.5\", c=\"k\", ls=\":\")\n",
    "        \n",
    "    for idx in when_active:\n",
    "        l4 = ax.axvline(idx, lw=\"0.5\", c=\"C1\", ls=\"-\")\n",
    "\n",
    "    ax.grid(\":\", lw=0.1)\n",
    "    ax.set_xlabel(\"Time [UTC]\")\n",
    "    ax.set_ylabel(f\"{label} [mm]\")\n",
    "\n",
    "fig.legend(\n",
    "    [l1, l2, l3, l4], \n",
    "    [\"PARKED\", \"RAISINGENGINEERING\", \"LOWERINGENGINEERING\", \"ACTIVEENGINEERING\"], \n",
    "    ncols=4, \n",
    "    loc=\"upper right\", \n",
    "    bbox_to_anchor=(0.93, 0.92)\n",
    ")\n",
    "fig.suptitle(title + \"\\n\")\n",
    "fig.autofmt_xdate()\n",
    "fig.tight_layout()\n",
    "\n",
    "plt.show()"
   ]
  },
  {
   "cell_type": "code",
   "execution_count": null,
   "id": "ae82323f-d135-4ada-a49f-6fa616adb64f",
   "metadata": {
    "tags": []
   },
   "outputs": [],
   "source": [
    "#alternative representation\n",
    "df_ims['xPosition'].plot(color='red', label='xPosition (mm)')\n",
    "df_ims['yPosition'].plot(color='blue', label='yPosition (mm)')\n",
    "df_ims['zPosition'].plot(color='green', label='zPosition (mm)')\n",
    "df_ims['xRotation'].plot(color='red', linestyle='dashed', label='xRotation (degrees)')\n",
    "df_ims['yRotation'].plot(color='blue', linestyle='dashed', label='yRotation (degrees)')\n",
    "df_ims['zRotation'].plot(color='green', linestyle='dashed', label='zRotation (degrees)')\n",
    "plt.legend(ncols=2, loc=\"upper right\", bbox_to_anchor=(0.80, 1.3))\n",
    "plt.xlabel(\"Time [UTC]\")\n",
    "fig.autofmt_xdate()\n",
    "fig.tight_layout()"
   ]
  },
  {
   "cell_type": "code",
   "execution_count": null,
   "id": "3f68c791-07e9-4a6b-952c-653bc3d5a4ca",
   "metadata": {
    "tags": []
   },
   "outputs": [],
   "source": [
    "#Zoomed in version with T0 and delta_t\n",
    "T0 = '2023-03-07T19:00:00'\n",
    "T0 = pd.to_datetime(T0)\n",
    "T1 = T0 + delta_t\n",
    "print(T0,T1)"
   ]
  },
  {
   "cell_type": "code",
   "execution_count": null,
   "id": "60bffc06-b896-49d2-82f0-726cc1cd3e81",
   "metadata": {
    "tags": []
   },
   "outputs": [],
   "source": [
    "fig = plt.figure()\n",
    "TZoom = [T0-delta_z[0], T0+delta_z[1]] \n",
    "df_ims['xPosition'][TZoom[0]:TZoom[1]].plot(color='red', label='xPosition (mm)')\n",
    "df_ims['yPosition'][TZoom[0]:TZoom[1]].plot(color='blue', label='yPosition (mm)')\n",
    "df_ims['zPosition'][TZoom[0]:TZoom[1]].plot(color='green', label='zPosition (mm)')\n",
    "df_ims['xRotation'][TZoom[0]:TZoom[1]].plot(color='red', linestyle='dashed', label='xRotation (degrees)')\n",
    "df_ims['yRotation'][TZoom[0]:TZoom[1]].plot(color='blue', linestyle='dashed', label='yRotation (degrees)')\n",
    "df_ims['zRotation'][TZoom[0]:TZoom[1]].plot(color='green', linestyle='dashed', label='zRotation (degrees)')\n",
    "plt.legend(ncols=2, loc=\"upper right\", bbox_to_anchor=(0.80, 1.3))\n",
    "plt.axvline(T0, lw=\"2\", c=\"k\")\n",
    "plt.axvline(T1, lw=\"0.5\", c=\"k\")\n",
    "plt.axvspan(T0, T1, alpha=0.5, color='red')\n",
    "plt.xlabel(\"Time [UTC]\")\n",
    "fig.autofmt_xdate()\n",
    "fig.tight_layout()"
   ]
  },
  {
   "cell_type": "code",
   "execution_count": null,
   "id": "aaf2376a-622d-4c90-94c5-8b7f24423aab",
   "metadata": {
    "tags": []
   },
   "outputs": [],
   "source": [
    "when_active = df_state[df_state[\"detailedStateName\"] == \"ACTIVEENGINEERING\"].index\n",
    "\n",
    "sub_df = pd.DataFrame(columns=df_ims.columns.to_list())\n",
    "\n",
    "for idx in when_active:\n",
    "    dt = pd.Timedelta(2, \"sec\")\n",
    "    temp = df_ims.loc[idx:idx+dt]\n",
    "    sub_df = pd.concat((sub_df, temp), axis=0)\n",
    "    \n",
    "median_vals = sub_df.median()\n",
    "print(median_vals)\n",
    "df_results = df_ims.copy() \n",
    "\n",
    "for col in pos_columns:\n",
    "    df_results[col] = df_results[col] - median_vals[col]"
   ]
  },
  {
   "cell_type": "code",
   "execution_count": null,
   "id": "b3b4412e-57e6-4a9f-a567-a9eb45e6eb78",
   "metadata": {
    "tags": []
   },
   "outputs": [],
   "source": [
    "title = f\"{test_case} {test_exec}\\nData Overview with Reference Subtracted\"\n",
    "fig, axs = plt.subplots(num=title, nrows=3, sharex=True, figsize=(10, 5))\n",
    "\n",
    "when_parked = df_state[df_state[\"detailedStateName\"] == \"PARKED\"].index\n",
    "\n",
    "for i, label in enumerate([\"xPosition\", \"yPosition\", \"zPosition\"]):\n",
    "    ax = axs[i]\n",
    "    ax.plot(df_results[label])\n",
    "    \n",
    "    for idx in when_parked:\n",
    "        ax.axvline(idx, lw=\"0.5\", c=\"k\")\n",
    "        \n",
    "    for idx in when_rasing:\n",
    "        ax.axvline(idx, lw=\"0.5\", c=\"k\", ls=\"--\")\n",
    "        \n",
    "    for idx in when_lowering:\n",
    "        ax.axvline(idx, lw=\"0.5\", c=\"k\", ls=\":\")\n",
    "        \n",
    "    for idx in when_active:\n",
    "        ax.axvline(idx, lw=\"0.5\", c=\"C1\", ls=\"-\")\n",
    "\n",
    "    ax.grid(\":\", lw=0.1)\n",
    "    ax.set_xlabel(\"Time [UTC]\")\n",
    "    ax.set_ylabel(f\"{label} [mm]\")\n",
    "\n",
    "fig.legend(\n",
    "    [l1, l2, l3, l4], \n",
    "    [\"PARKED\", \"RAISINGENGINEERING\", \"LOWERINGENGINEERING\", \"ACTIVEENGINEERING\"], \n",
    "    ncols=4, \n",
    "    loc=\"upper right\", \n",
    "    bbox_to_anchor=(0.93, 0.92)\n",
    ")\n",
    "    \n",
    "fig.suptitle(title + \"\\n\")\n",
    "fig.autofmt_xdate()\n",
    "fig.tight_layout()\n",
    "\n",
    "plt.show()"
   ]
  },
  {
   "cell_type": "code",
   "execution_count": null,
   "id": "6c61e2bb-c0f3-41d8-9b9c-b9ecc673b6a0",
   "metadata": {
    "tags": []
   },
   "outputs": [],
   "source": [
    "from scipy.interpolate import UnivariateSpline\n",
    "def get_vel(times, positions, interp_times):\n",
    "    position_spline=UnivariateSpline(times, positions, s=1)\n",
    "    velocity_spline=position_spline.derivative(n=1)\n",
    "    return velocity_spline(interp_times)\n",
    "    "
   ]
  },
  {
   "cell_type": "code",
   "execution_count": null,
   "id": "9a5b9f9f-3a32-48fd-933a-4ba924fe9bf1",
   "metadata": {
    "tags": []
   },
   "outputs": [],
   "source": [
    "df_results[\"time\"]=(df_results.index.values-df_results.index.values[0]) / np.timedelta64(1, 's') "
   ]
  },
  {
   "cell_type": "code",
   "execution_count": null,
   "id": "0220bede-e597-4496-9295-3eb1f0cf10f3",
   "metadata": {
    "tags": []
   },
   "outputs": [],
   "source": [
    "df_results[\"time\"].max()"
   ]
  },
  {
   "cell_type": "code",
   "execution_count": null,
   "id": "8c128b87-31d5-4b9a-a501-580fe1710dcc",
   "metadata": {
    "tags": []
   },
   "outputs": [],
   "source": [
    "interp_times=np.linspace(0,df_results[\"time\"].max(),4000)\n",
    "vel=get_vel(df_results[\"time\"], df_results[\"xPosition\"], df_results[\"time\"])"
   ]
  },
  {
   "cell_type": "code",
   "execution_count": null,
   "id": "ce344488-be73-4e21-896d-f98b1050bf48",
   "metadata": {
    "tags": []
   },
   "outputs": [],
   "source": [
    "\n",
    "plt.figure(dpi=175)\n",
    "#plt.plot(df_results[\"time\"], df_results[\"xPosition\"]*vel.max()/df_results[\"xPosition\"].max() )\n",
    "# plt.plot(df_results[\"time\"], vel)\n",
    "# plt.plot(df_results[\"time\"],df_results[\"xPosition\"].rolling(3).std())\n",
    "sel=(vel < 0.01)\n",
    "plt.scatter(df_results[\"time\"][sel],df_results[\"xPosition\"].rolling(3).std()[sel])\n",
    "plt.scatter(df_results[\"time\"][~sel],df_results[\"xPosition\"].rolling(3).std()[~sel])\n"
   ]
  },
  {
   "cell_type": "code",
   "execution_count": null,
   "id": "e2d3b18c-523b-4443-99ab-abbb5742a6af",
   "metadata": {
    "tags": []
   },
   "outputs": [],
   "source": [
    "fig, axs = plt.subplots(num=title, nrows=3, sharex=True, figsize=(10, 5))\n",
    "when_parked = df_state[df_state[\"detailedStateName\"] == \"PARKED\"].index\n",
    "\n",
    "for i, label in enumerate([\"xPosition\", \"yPosition\", \"zPosition\"]):\n",
    "    ax = axs[i]\n",
    "    ax.plot(df_results[label])\n",
    "    \n",
    "    for idx in when_parked:\n",
    "        ax.axvline(idx, lw=\"0.5\", c=\"k\")\n",
    "        \n",
    "    for idx in when_rasing:\n",
    "        ax.axvline(idx, lw=\"0.5\", c=\"k\", ls=\"--\")\n",
    "        \n",
    "    for idx in when_lowering:\n",
    "        ax.axvline(idx, lw=\"0.5\", c=\"k\", ls=\":\")\n",
    "        \n",
    "    for idx in when_active:\n",
    "        ax.axvline(idx, lw=\"0.5\", c=\"C1\", ls=\"-\")\n",
    "\n",
    "    ax.grid(\":\", lw=0.1)\n",
    "    ax.set_xlabel(\"Time [UTC]\")\n",
    "    ax.set_ylabel(f\"{label} [mm]\")\n",
    "fig.suptitle(title + \"\\n\")\n",
    "fig.autofmt_xdate()\n",
    "fig.tight_layout()\n",
    "\n",
    "plt.show()"
   ]
  },
  {
   "cell_type": "code",
   "execution_count": null,
   "id": "865281f5-702a-4d40-b3c8-00412633254d",
   "metadata": {},
   "outputs": [],
   "source": []
  }
 ],
 "metadata": {
  "kernelspec": {
   "display_name": "LSST",
   "language": "python",
   "name": "lsst"
  },
  "language_info": {
   "codemirror_mode": {
    "name": "ipython",
    "version": 3
   },
   "file_extension": ".py",
   "mimetype": "text/x-python",
   "name": "python",
   "nbconvert_exporter": "python",
   "pygments_lexer": "ipython3",
   "version": "3.10.10"
  }
 },
 "nbformat": 4,
 "nbformat_minor": 5
}
