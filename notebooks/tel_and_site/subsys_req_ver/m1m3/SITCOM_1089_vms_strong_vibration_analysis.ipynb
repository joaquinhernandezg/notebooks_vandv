{
 "cells": [
  {
   "cell_type": "markdown",
   "id": "92ea0ba9-1af8-4994-ab76-a7f451787ade",
   "metadata": {},
   "source": [
    "# SITCOM-1089 - Strong Vibration Analysis (VMS data)\n",
    " Analysis incomplete\n",
    "\n",
    "[SITCOM-1089]: https://jira.lsstcorp.org/browse/SITCOM-1089"
   ]
  },
  {
   "cell_type": "code",
   "execution_count": null,
   "id": "39cc7127-349f-473c-b8b5-ba1d175c8e60",
   "metadata": {
    "tags": []
   },
   "outputs": [],
   "source": [
    "import sys, time, os, asyncio\n",
    "import scipy.stats as stats\n",
    "from scipy.signal import find_peaks\n",
    "from scipy import signal\n",
    "import h5py\n",
    "import numpy as np\n",
    "import pandas as pd\n",
    "import matplotlib.pyplot as plt\n",
    "from astropy.time import Time\n",
    "from tqdm import tqdm\n",
    "from lsst.summit.utils.tmaUtils import TMAEventMaker, TMAState\n",
    "from lsst.summit.utils.efdUtils import (\n",
    "    getEfdData,\n",
    "    makeEfdClient,\n",
    "    clipDataToEvent,\n",
    "    calcNextDay,\n",
    ")\n",
    "\n",
    "%matplotlib inline\n",
    "%load_ext lab_black\n",
    "%load_ext autoreload\n",
    "%autoreload 2\n",
    "\n",
    "import sitcom1089"
   ]
  },
  {
   "cell_type": "code",
   "execution_count": null,
   "id": "2b6765ae-19e3-4644-acc9-c6177d700f2e",
   "metadata": {
    "tags": []
   },
   "outputs": [],
   "source": [
    "vms_m1m3_filename = \"/home/p/pferguso/u/scratch/vms_data/M1M3-2023-06-28T00:00.hdf\"\n",
    "\n",
    "begin_time = Time(\"2023-06-28 01:08:00\", format=\"iso\", scale=\"utc\")\n",
    "end_time = Time(\"2023-06-28 01:20:00\", format=\"iso\", scale=\"utc\")\n",
    "raised_begin = Time(\"2023-06-28 01:08:15\", format=\"iso\", scale=\"utc\")\n",
    "raised_end = Time(\"2023-06-28 01:11:55\", format=\"iso\", scale=\"utc\")\n",
    "lowering_end = Time(\"2023-06-28 01:15:15\", format=\"iso\", scale=\"utc\")\n",
    "down_end = Time(\"2023-06-28 01:20:00\", format=\"iso\", scale=\"utc\")\n",
    "\n",
    "time_dict = {}\n",
    "time_dict[\"total\"] = {\"begin\": begin_time, \"end\": end_time}\n",
    "time_dict[\"raised\"] = {\"begin\": begin_time, \"end\": raised_end}\n",
    "time_dict[\"lowering\"] = {\"begin\": raised_end, \"end\": lowering_end}\n",
    "time_dict[\"down\"] = {\"begin\": lowering_end, \"end\": end_time}"
   ]
  },
  {
   "cell_type": "code",
   "execution_count": null,
   "id": "bc0bec52-e3a5-419f-8308-501b83736d77",
   "metadata": {
    "tags": []
   },
   "outputs": [],
   "source": [
    "# client=makeEfdClient()\n",
    "# efd_dict=get_efd_data(begin_time, end_time, client)\n",
    "\n",
    "vms_m1m3_data = sitcom1089.vms_data_to_pandas(\n",
    "    vms_m1m3_filename,\n",
    "    vms_type=\"m1m3\",\n",
    "    begin_time=begin_time.unix,\n",
    "    end_time=end_time.unix,\n",
    ")"
   ]
  },
  {
   "cell_type": "code",
   "execution_count": null,
   "id": "c175e5fb-e307-4941-9389-1ded3565dbd5",
   "metadata": {
    "tags": []
   },
   "outputs": [],
   "source": [
    "vms_m1m3_data"
   ]
  },
  {
   "cell_type": "code",
   "execution_count": null,
   "id": "50f84237-d50c-455e-8a71-6812e153ffbb",
   "metadata": {
    "tags": []
   },
   "outputs": [],
   "source": [
    "fig, ax = plt.subplots(1, dpi=125, sharex=True, figsize=(10, 3))\n",
    "plt.suptitle(\n",
    "    f\"M1M3 VMS\\n{begin_time.iso[:10]} {begin_time.iso[11:19]}-{end_time.iso[11:19]}\\n\",\n",
    "    y=0.99,\n",
    ")\n",
    "\n",
    "for i in np.arange(3):\n",
    "    ax.scatter(\n",
    "        Time(vms_m1m3_data[\"times\"], format=\"unix\").datetime,\n",
    "        vms_m1m3_data[f\"total_{i+1}\"] - 0.01 * i,\n",
    "        label=f\"total channel {i+1} \\noffset = {- 0.002 * i:0.3f}\",\n",
    "        s=1,\n",
    "    )\n",
    "t1 = Time(\"2023-06-28 01:08:15\", format=\"iso\", scale=\"utc\").datetime\n",
    "t2 = Time(\"2023-06-28 01:08:25\", format=\"iso\", scale=\"utc\").datetime\n",
    "ax.set(\n",
    "    xlabel=\"Time\",\n",
    "    ylabel=\"total acceleration [m/s$^2$]\",\n",
    "    ylim=(-0.02, 0.01),\n",
    "    # xlim=(t1,t2)\n",
    ")\n",
    "ax.legend(ncol=3, loc=9, edgecolor=\"white\")"
   ]
  },
  {
   "cell_type": "code",
   "execution_count": null,
   "id": "4cef6029-4d14-43eb-8e54-49e392e2767f",
   "metadata": {
    "tags": []
   },
   "outputs": [],
   "source": [
    "def log_linspace(begin, end, npoints):\n",
    "    return 10 ** np.linspace(np.log10(begin), np.log10(end), npoints)"
   ]
  },
  {
   "cell_type": "code",
   "execution_count": null,
   "id": "51029726-d4ab-4acb-ab82-e4ea7e3d56a1",
   "metadata": {
    "tags": []
   },
   "outputs": [],
   "source": [
    "psd_dict"
   ]
  },
  {
   "cell_type": "code",
   "execution_count": null,
   "id": "63b3b478-4fdf-4615-ba51-d21ce32ef677",
   "metadata": {},
   "outputs": [],
   "source": [
    "psd_dict = {}"
   ]
  },
  {
   "cell_type": "code",
   "execution_count": null,
   "id": "ba8b4839-8754-4d7e-b2f9-9bd6fcb969e6",
   "metadata": {
    "tags": []
   },
   "outputs": [],
   "source": [
    "wtimes = [30e3]  # 5e2,1e3,1.5e3,2e3,3e3,5e3,10e3,15e3,20e3,25e3,30e3\n",
    "for j, i in enumerate(wtimes):\n",
    "    # print(i)\n",
    "    # if i not in psd_dict.keys():\n",
    "    w = (\n",
    "        np.linspace(0.1, 100, int(i)) * 2 * np.pi\n",
    "    )  # convert log_linspace(0.5, 40, int(i)) * 6.28\n",
    "    x = Time(vms_m1m3_data[\"times\"], format=\"unix\").unix\n",
    "    psd_df = pd.DataFrame({\"frequency\": w / (2 * np.pi)})\n",
    "    for k in tqdm(range(3)):\n",
    "        y = vms_m1m3_data[f\"total_{k + 1}\"]\n",
    "        pgram = signal.lombscargle(x, y, w, normalize=True, precenter=True)\n",
    "        psd_df[f\"total_{k + 1}\"] = pgram\n",
    "        psd_df.to_csv(\"./1089_data/psd.csv\", index=False)\n",
    "        # psd_dict[f\"total_{k + 1}\"]={\"x\":w,\"y\":pgram}"
   ]
  },
  {
   "cell_type": "code",
   "execution_count": null,
   "id": "ca92e833-ec15-4f01-942f-1107ff3f225e",
   "metadata": {},
   "outputs": [],
   "source": [
    "pd.DataFrame()"
   ]
  },
  {
   "cell_type": "code",
   "execution_count": null,
   "id": "63ce82a9-d014-41e9-8eb0-5ca516877381",
   "metadata": {
    "tags": []
   },
   "outputs": [],
   "source": [
    "for j,i in enumerate(wtimes):\n",
    "    if i > 3e3:\n",
    "        points_x=get_peak_points(w/6.28, pgram , height=0.0005, )\n",
    "        plt.plot(psd_dict[i][\"x\"]/ 6.28, psd_dict[i][\"y\"] - 0.03 * j, label=i)#, s=0.1)\n",
    "        print(i,points_x)\n",
    "plt.legend()"
   ]
  },
  {
   "cell_type": "code",
   "execution_count": null,
   "id": "3bbcc8cd-03d1-4545-8739-7a114cd26f08",
   "metadata": {
    "tags": []
   },
   "outputs": [],
   "source": [
    "points_x=get_peak_points(w/6.28, pgram, height=0.0005)\n",
    "plt.plot(w/ 6.28, pgram)#, s=0.1)\n",
    "print(points_x)\n",
    "#plt.yscale('log')\n",
    "#plt.xscale('log')"
   ]
  },
  {
   "cell_type": "code",
   "execution_count": null,
   "id": "53bd0f4b-dfc1-4ab6-9bb1-dd80bacf31ae",
   "metadata": {},
   "outputs": [],
   "source": []
  },
  {
   "cell_type": "code",
   "execution_count": null,
   "id": "74f0176d-c1fb-44a5-9106-d858d5171f1a",
   "metadata": {
    "tags": []
   },
   "outputs": [],
   "source": [
    "times=Time(efd_dict[\"ims\"][\"timestamp\"], format=\"unix_tai\", scale=\"utc\").datetime\n",
    "for key in [\"xPosition\",\"yPosition\",\"zPosition\"]:\n",
    "    plt.plot(times, (efd_dict[\"ims\"][key]- efd_dict[\"ims\"][key].mean())* 1e3, label=key)\n",
    "\n",
    "plt.axvline(time_dict[\"raised\"][\"end\"].datetime, label=\"begin lowering\", c=\"k\", ls=\"dashdot\")\n",
    "plt.axvline(time_dict[\"lowering\"][\"end\"].datetime, label=\"end lowering\", c=\"k\", ls=\"dotted\")\n",
    "plt.legend()\n",
    "plt.xlabel(\"Time\")\n",
    "plt.ylabel(\"$\\Delta$ postion [mm]\")\n",
    "plt.title(f\"IMS Position\\n{begin_time.iso[:10]} {begin_time.iso[11:19]}-{end_time.iso[11:19]}\")"
   ]
  },
  {
   "cell_type": "code",
   "execution_count": null,
   "id": "793fa644-7a38-4e0b-89ab-5c43f827ed46",
   "metadata": {
    "tags": []
   },
   "outputs": [],
   "source": [
    "times=Time(efd_dict[\"ims\"][\"timestamp\"], format=\"unix_tai\", scale=\"utc\").datetime\n",
    "for key in [\"xRotation\",\"yRotation\",\"zRotation\"]:\n",
    "    plt.plot(times, np.rad2deg(efd_dict[\"ims\"][key]- efd_dict[\"ims\"][key].mean()), label=key)\n",
    "\n",
    "plt.axvline(time_dict[\"raised\"][\"end\"].datetime, label=\"begin lowering\", c=\"k\", ls=\"dashdot\")\n",
    "plt.axvline(time_dict[\"lowering\"][\"end\"].datetime, label=\"end lowering\", c=\"k\", ls=\"dotted\")\n",
    "plt.legend()\n",
    "plt.xlabel(\"Time\")\n",
    "plt.ylabel(\"$\\Delta$ rotation [deg]\")\n",
    "plt.title(f\"IMS Position\\n{begin_time.iso[:10]} {begin_time.iso[11:19]}-{end_time.iso[11:19]}\")"
   ]
  },
  {
   "cell_type": "code",
   "execution_count": null,
   "id": "e696d822-25da-404e-93ef-742aea3afce1",
   "metadata": {
    "tags": []
   },
   "outputs": [],
   "source": [
    "times=Time(efd_dict[\"el\"][\"timestamp\"], format=\"unix_tai\", scale=\"utc\").datetime\n",
    "plt.figure(dpi=125, figsize=(12,3))\n",
    "for key in [\"actualTorque\"]:\n",
    "    plt.plot(times, np.rad2deg(efd_dict[\"el\"][key]- efd_dict[\"el\"][key].mean()), label=key, lw=0.3)\n",
    "\n",
    "plt.axvline(time_dict[\"raised\"][\"end\"].datetime, label=\"begin lowering\", c=\"k\", ls=\"dashdot\")\n",
    "plt.axvline(time_dict[\"lowering\"][\"end\"].datetime, label=\"end lowering\", c=\"k\", ls=\"dotted\")\n",
    "plt.legend(ncol=3, loc=9)\n",
    "plt.xlabel(\"Time\")\n",
    "plt.ylabel(\"$\\Delta$ rotation [deg]\")\n",
    "plt.title(f\"TMA actualTorque\\n{begin_time.iso[:10]} {begin_time.iso[11:19]}-{end_time.iso[11:19]}\")\n",
    "plt.ylim(-2e7,3e7)"
   ]
  },
  {
   "cell_type": "code",
   "execution_count": null,
   "id": "ec43b74c-8c35-4c88-915e-5bebcae0ff74",
   "metadata": {
    "tags": []
   },
   "outputs": [],
   "source": [
    "dict_key=\"el\"\n",
    "key=\"actualTorque\"\n",
    "times=Time(efd_dict[dict_key][\"timestamp\"], format=\"unix_tai\", scale=\"utc\")\n",
    "fs=1/np.mean(np.diff(times.unix))\n",
    "plt.figure(dpi=125, figsize=(12,4))\n",
    "for time_key in time_dict.keys():\n",
    "    sel=(times > time_dict[time_key][\"begin\"])\n",
    "    sel&=(times <= time_dict[time_key][\"end\"])\n",
    "    vals=efd_dict[dict_key][key][sel]\n",
    "\n",
    "\n",
    "    freq,psd=get_freq_psd(vals, 1/fs)\n",
    "    yvals=pd.DataFrame({\"psd\":psd})[\"psd\"].rolling(30).mean()\n",
    "    plt.plot(freq,yvals, zorder=9, lw=1, label=time_key)\n",
    "plt.yscale('log')\n",
    "plt.ylim(1e11,1e17)\n",
    "plt.legend()\n",
    "plt.xlabel(\"Frequency (Hz)\")\n",
    "plt.ylabel(\"power\")\n",
    "plt.title(f\"TMA Elevation {key}\\nEvent {begin_time.iso[:10]} {begin_time.iso[11:19]}-{end_time.iso[11:19]}\")"
   ]
  },
  {
   "cell_type": "code",
   "execution_count": null,
   "id": "a6bd423b-3501-4330-86aa-6aa708be1bb3",
   "metadata": {
    "tags": []
   },
   "outputs": [],
   "source": [
    "dict_key=\"ims\"\n",
    "fig, axs=plt.subplots(3,1,dpi=125, figsize=(14,10))\n",
    "plt.suptitle(f\"Event {begin_time.iso[:10]} {begin_time.iso[11:19]}-{end_time.iso[11:19]}\", y=0.92)\n",
    "for i,key in enumerate([\"xPosition\",\"yPosition\",\"zPosition\"]):\n",
    "    ax=axs[i]\n",
    "    times=Time(efd_dict[dict_key][\"timestamp\"], format=\"unix_tai\", scale=\"utc\")\n",
    "    fs=1/np.mean(np.diff(times.unix))\n",
    "    for time_key in time_dict.keys():\n",
    "        sel=(times > time_dict[time_key][\"begin\"])\n",
    "        sel&=(times <= time_dict[time_key][\"end\"])\n",
    "        vals=efd_dict[dict_key][key][sel]\n",
    "\n",
    "\n",
    "        freq,psd=get_freq_psd(vals, 1/fs)\n",
    "        yvals=pd.DataFrame({\"psd\":psd})[\"psd\"].rolling(30).mean()\n",
    "        ax.plot(freq,yvals, zorder=9, lw=1, label=time_key)\n",
    "    title_str=f\"IMS {key}\"\n",
    "    ax.set(yscale='log', xlabel=\"Frequency (Hz)\",ylabel=\"power\", title=title_str)\n",
    "    #plt.ylim(1e11,1e17)\n",
    "    ax.legend()\n",
    "plt.subplots_adjust(hspace=0.4)"
   ]
  },
  {
   "cell_type": "code",
   "execution_count": null,
   "id": "0ec25300-521d-4179-834b-8bd5ea345389",
   "metadata": {
    "tags": []
   },
   "outputs": [],
   "source": [
    "dict_key=\"ims\"\n",
    "fig, axs=plt.subplots(3,1,dpi=125, figsize=(14,10))\n",
    "plt.suptitle(f\"Event {begin_time.iso[:10]} {begin_time.iso[11:19]}-{end_time.iso[11:19]}\", y=0.92)\n",
    "for i,key in enumerate([\"xRotation\",\"yRotation\",\"zRotation\"]):\n",
    "    ax=axs[i]\n",
    "    times=Time(efd_dict[dict_key][\"timestamp\"], format=\"unix_tai\", scale=\"utc\")\n",
    "    fs=1/np.mean(np.diff(times.unix))\n",
    "    for time_key in time_dict.keys():\n",
    "        sel=(times > time_dict[time_key][\"begin\"])\n",
    "        sel&=(times <= time_dict[time_key][\"end\"])\n",
    "        vals=efd_dict[dict_key][key][sel]\n",
    "\n",
    "\n",
    "        freq,psd=get_freq_psd(vals, 1/fs)\n",
    "        yvals=pd.DataFrame({\"psd\":psd})[\"psd\"].rolling(30).mean()\n",
    "        ax.plot(freq,yvals, zorder=9, lw=1, label=time_key)\n",
    "    title_str=f\"IMS {key}\"\n",
    "    ax.set(yscale='log', xlabel=\"Frequency (Hz)\",ylabel=\"power\", title=title_str)\n",
    "    #plt.ylim(1e11,1e17)\n",
    "    ax.legend()\n",
    "plt.subplots_adjust(hspace=0.4)"
   ]
  },
  {
   "cell_type": "code",
   "execution_count": null,
   "id": "ab0adf79-a160-4828-bb7f-d6ad4674813d",
   "metadata": {
    "tags": []
   },
   "outputs": [],
   "source": [
    "for i,key in enumerate([i for i in sorted(key_m1m3_dict.values()) if (\"m1m3\" in i)]):\n",
    "    \n",
    "    freq,psd=get_freq_psd(vms_m1m3_data[key], np.mean(np.diff(vms_m1m3_data[\"times\"])))\n",
    "    points_x=get_peak_points(freq, psd)\n",
    "    if points_x is not None:\n",
    "        points_y=np.ones_like(points_x) * i * step * -1\n",
    "        print(f\"{key}: {str([int(i) for i in points_x])[1:-1]} Hz\")\n",
    "    else: \n",
    "        print(f\"{key} no peaks\")\n",
    "    plt.plot(freq,psd - i * step, label=key, zorder=9, lw=1)"
   ]
  },
  {
   "cell_type": "code",
   "execution_count": null,
   "id": "22935890-7767-40a3-b8db-7149d7bf54c7",
   "metadata": {
    "tags": []
   },
   "outputs": [],
   "source": [
    "times"
   ]
  },
  {
   "cell_type": "code",
   "execution_count": null,
   "id": "560da400-ba66-4f64-9ee1-8b4188848b81",
   "metadata": {
    "tags": []
   },
   "outputs": [],
   "source": [
    "fs=1/np.mean(np.diff(times.unix))\n",
    "fs"
   ]
  },
  {
   "cell_type": "code",
   "execution_count": null,
   "id": "bda6d8a5-00ef-4562-9ef0-959bb9b28f6c",
   "metadata": {
    "tags": []
   },
   "outputs": [],
   "source": [
    "ydict={\n",
    "    \"el\":\"actualTorque\",\n",
    "    \"ims\":\n",
    "}\n",
    "fig,axs=plt.subplots(3, dpi=175, figsize=(10,4), sharex=True)\n",
    "plt.suptitle(f\"M1M3\\n{begin_time.iso[:10]} {begin_time.iso[11:19]}-{end_time.iso[11:19]}\", y=0.97)\n",
    "\n",
    "for i, key in enumerate([\"el\",\"ims\"])\n",
    "times=Time(efd_dict[\"el\"][\"timestamp\"], format=\"unix_tai\", scale=\"utc\")\n",
    "fs=1/np.mean(np.diff(times.unix))\n",
    "ax=axs[0]\n",
    "ax.specgram(efd_dict[\"el\"][\"actualTorque\"], Fs=fs, detrend=\"mean\", vmin=-11)\n",
    "ax.set(ylabel=\"Channel 1\\nFreq [hz]\", yticks=np.arange(0,16,25))\n",
    "\n",
    "# ax=axs[1]\n",
    "# ax.specgram(vms_m1m3_data[\"total_2\"] - np.mean(vms_m1m3_data[\"total_2\"]), Fs=fs, detrend=\"mean\", vmin=-110)\n",
    "# ax.set(ylabel=\"Channel 2\\nFreq [hz]\", yticks=np.arange(25,125,25))\n",
    "\n",
    "# ax=axs[2]\n",
    "# ax.specgram(vms_m1m3_data[\"total_3\"] - np.mean(vms_m1m3_data[\"total_3\"]), Fs=fs, detrend=\"mean\", vmin=-110)\n",
    "# ax.set(xlabel=f\"time since {begin_time.iso[11:19]} [s]\", ylabel=\"Channel 3\\nFreq [hz]\", yticks=np.arange(25,125,25))\n",
    "\n",
    "\n",
    "# plt.subplots_adjust(hspace=0.1)\n"
   ]
  },
  {
   "cell_type": "code",
   "execution_count": null,
   "id": "e8fb5f6c-9aaf-402f-9513-ce59f9f9d00e",
   "metadata": {},
   "outputs": [],
   "source": []
  }
 ],
 "metadata": {
  "kernelspec": {
   "display_name": "LSST",
   "language": "python",
   "name": "lsst"
  },
  "language_info": {
   "codemirror_mode": {
    "name": "ipython",
    "version": 3
   },
   "file_extension": ".py",
   "mimetype": "text/x-python",
   "name": "python",
   "nbconvert_exporter": "python",
   "pygments_lexer": "ipython3",
   "version": "3.11.4"
  }
 },
 "nbformat": 4,
 "nbformat_minor": 5
}
