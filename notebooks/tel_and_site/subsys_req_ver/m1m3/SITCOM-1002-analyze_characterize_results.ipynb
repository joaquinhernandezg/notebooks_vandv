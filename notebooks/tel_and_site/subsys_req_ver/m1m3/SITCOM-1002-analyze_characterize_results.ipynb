{
 "cells": [
  {
   "cell_type": "code",
   "execution_count": null,
   "id": "00f97739-ce67-4627-b0e1-3092a23b0a8d",
   "metadata": {
    "tags": []
   },
   "outputs": [],
   "source": [
    "import pandas as pd\n",
    "import matplotlib.pyplot as plt\n",
    "import numpy as np\n",
    "\n",
    "from astropy.time import Time, TimezoneInfo, TimeDelta\n",
    "from statsmodels.tsa.stattools import adfuller\n",
    "\n",
    "from lsst.sitcom import vandv\n",
    "from lsst.ts.idl.enums import MTM1M3\n",
    "\n",
    "from lsst.summit.utils.tmaUtils import TMAEventMaker, TMAState\n",
    "from lsst.summit.utils.efdUtils import getEfdData, makeEfdClient, clipDataToEvent, calcNextDay\n",
    "from lsst_efd_client import EfdClient\n",
    "from tqdm import tqdm\n",
    "%matplotlib inline\n",
    "%load_ext autoreload\n",
    "%autoreload 2"
   ]
  },
  {
   "cell_type": "code",
   "execution_count": null,
   "id": "f1d5d845-6d0a-4a43-9269-d09b123f9210",
   "metadata": {
    "tags": []
   },
   "outputs": [],
   "source": [
    "from glob import glob"
   ]
  },
  {
   "cell_type": "code",
   "execution_count": null,
   "id": "6d6867c4-d8e1-45e5-b262-701a25badb7f",
   "metadata": {
    "tags": []
   },
   "outputs": [],
   "source": [
    "file_list=glob(\"../data/*slew_characterization.csv\")"
   ]
  },
  {
   "cell_type": "code",
   "execution_count": null,
   "id": "b363612f-ae85-4cdf-969a-07c05acce3b1",
   "metadata": {
    "tags": []
   },
   "outputs": [],
   "source": [
    "frame_list=[]\n",
    "for file in file_list:\n",
    "    frame_list.append(pd.read_csv(file))"
   ]
  },
  {
   "cell_type": "code",
   "execution_count": null,
   "id": "b5290ad3-bc09-4772-85ce-18b7c7c50401",
   "metadata": {
    "tags": []
   },
   "outputs": [],
   "source": [
    "total_frame=pd.concat(frame_list).iloc[:,1:]"
   ]
  },
  {
   "cell_type": "code",
   "execution_count": null,
   "id": "ee4c26e9-d445-40a3-8c3f-638fa7b102a9",
   "metadata": {
    "tags": []
   },
   "outputs": [],
   "source": [
    "total_frame.to_csv(\"../data/summary_frame.csv\",index=False)"
   ]
  },
  {
   "cell_type": "code",
   "execution_count": null,
   "id": "ad8ffc8e-2c8d-4d24-a765-eae47c65c7dd",
   "metadata": {
    "tags": []
   },
   "outputs": [],
   "source": [
    "total_frame=total_frame[abs(total_frame[\"el_max_vel\"]) < 100]"
   ]
  },
  {
   "cell_type": "code",
   "execution_count": null,
   "id": "9898940f-12c2-4b15-9464-4de8e46ee6fd",
   "metadata": {
    "tags": []
   },
   "outputs": [],
   "source": [
    "sel=(total_frame[\"inertial_compensation\"]==True)\n",
    "fig,axs=plt.subplots(2,2, dpi=175, figsize=(10,6))\n",
    "ax=axs[0,0]\n",
    "ax.scatter(total_frame[\"el_begin\"][~sel], total_frame[\"el_end\"][~sel], s=0.1, label=\"compensation off\")\n",
    "ax.scatter(total_frame[\"el_begin\"][sel], total_frame[\"el_end\"][sel], s=0.1, label=\"compensation on\")\n",
    "ax.set_xlabel(\"beginning elevation\")\n",
    "ax.set_ylabel(\"ending elevation\")\n",
    "ax.legend()\n",
    "\n",
    "ax=axs[0,1]\n",
    "ax.scatter(total_frame[\"el_begin\"][~sel], total_frame[\"el_max_vel\"][~sel], s=0.1, label=\"compensation off\")\n",
    "ax.scatter(total_frame[\"el_begin\"][sel], total_frame[\"el_max_vel\"][sel], s=0.1, label=\"compensation on\")\n",
    "ax.set_xlabel(\"beginning elevation\")\n",
    "ax.set_ylabel(\"max velocity elevation\\n[deg/s]\")\n",
    "\n",
    "ax=axs[1,0]\n",
    "ax.scatter(Time(total_frame[\"time_begin\"][~sel],format=\"unix\").datetime,total_frame[\"el_begin\"][~sel],  s=0.1, label=\"compensation off\")\n",
    "ax.scatter(Time(total_frame[\"time_begin\"][sel],format=\"unix\").datetime, total_frame[\"el_begin\"][sel], s=0.1, label=\"compensation on\")\n",
    "ax.set_xlabel(\"date\")\n",
    "ax.set_ylabel(\"beginning elevation\")\n",
    "ax.set_xticklabels(labels=ax.get_xticklabels(),rotation=45)\n",
    "\n",
    "axs[1,1].axis('off')"
   ]
  },
  {
   "cell_type": "code",
   "execution_count": null,
   "id": "727c53c4-5931-4579-a4df-c7da53aa29f1",
   "metadata": {},
   "outputs": [],
   "source": []
  }
 ],
 "metadata": {
  "kernelspec": {
   "display_name": "LSST",
   "language": "python",
   "name": "lsst"
  },
  "language_info": {
   "codemirror_mode": {
    "name": "ipython",
    "version": 3
   },
   "file_extension": ".py",
   "mimetype": "text/x-python",
   "name": "python",
   "nbconvert_exporter": "python",
   "pygments_lexer": "ipython3",
   "version": "3.11.4"
  }
 },
 "nbformat": 4,
 "nbformat_minor": 5
}
