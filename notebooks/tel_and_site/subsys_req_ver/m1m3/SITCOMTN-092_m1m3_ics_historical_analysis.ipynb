{
 "cells": [
  {
   "cell_type": "markdown",
   "id": "4f9debea-aa94-4f87-8d9b-0c74c3d648dd",
   "metadata": {},
   "source": [
    "# SITCOM-1062 - M1M3 Inertia Compensation System\n",
    "\n",
    "## Data Summary\n",
    "\n",
    "[20230728] :\n",
    "- BLOCK-82, a set of different slews in azimuth at fixed elevation followed but a set of different slews in elevation at fixed azimuth at 30% maximum motion settings.  \n",
    "- BLOCK-5, use the Scheduler for observation simulations using M1M3 in closed look. Assuming 30% motions settings.\n",
    "\n",
    "[20230802] : \n",
    "- We ran BLOCK-82 with different maximum motion settings.\n",
    "    - 20% max in both axes\n",
    "    - 30% max in both axes\n",
    "    - 30% max in elevation and 40% max in azimuth\n",
    "    - 30% max in elevation and 50% max in azimuth\n",
    "    \n",
    "(!) Why did we go only until 30% max in elevation again? \n",
    "\n",
    "[20230728]: https://confluence.lsstcorp.org/display/LSSTCOM/23.07.28+-+M1M3+Test+Log\n",
    "[20230802]: https://confluence.lsstcorp.org/display/LSSTCOM/23.08.02+-+M1M3+Test+Log"
   ]
  },
  {
   "cell_type": "markdown",
   "id": "1669ee8a-fc22-4a9e-aa92-7a5dbb8ba908",
   "metadata": {},
   "source": [
    "## Prepare Notebook"
   ]
  },
  {
   "cell_type": "markdown",
   "id": "dc9b7d0c-c73a-429f-b956-73e3a6dbc4e1",
   "metadata": {},
   "source": [
    "For this notebook you will need to have `summit_utils` installed and running with the proper version.  \n",
    "The current version for `summit_utils` is `tickets/DM-41232` until that ticket is merged/done.  \n",
    "Otherwise, use `sitcom-performance-analysis` or `develop` branches. "
   ]
  },
  {
   "cell_type": "code",
   "execution_count": null,
   "id": "bee1fe0d-6384-4121-80df-9706bcdb6455",
   "metadata": {
    "tags": []
   },
   "outputs": [],
   "source": [
    "%matplotlib inline\n",
    "%load_ext lab_black\n",
    "%load_ext autoreload\n",
    "%autoreload 2\n",
    "import pandas as pd\n",
    "import re\n",
    "from pathlib import Path\n",
    "\n",
    "from lsst.ts.xml.tables.m1m3 import HP_COUNT\n",
    "\n",
    "from lsst.summit.utils.tmaUtils import TMAEventMaker\n",
    "from lsst.summit.utils.m1m3 import inertia_compensation_system as m1m3_ics\n",
    "from lsst.sitcom.vandv.m1m3.sitcomtn092 import (\n",
    "    correlation_map,\n",
    "    merge_csvs,\n",
    "    multiaxis_plots,\n",
    "    singleaxis_plots,\n",
    ")"
   ]
  },
  {
   "cell_type": "code",
   "execution_count": null,
   "id": "dab82b3f-2673-4b91-a3e4-b0beed85e982",
   "metadata": {
    "tags": []
   },
   "outputs": [],
   "source": [
    "day_obs_list = [\n",
    "    20230728,\n",
    "    20230802,\n",
    "]\n",
    "\n",
    "file_pattern = \"m1m3_ics_{day_obs}.csv\"\n",
    "output_file = Path(\"m1m3_ics.csv\")\n",
    "data_folder = Path(\"./data\")\n",
    "plot_folder = Path(\"./plots\")"
   ]
  },
  {
   "cell_type": "markdown",
   "id": "b8df862c-c851-4fa5-a6dd-6b10d531dab2",
   "metadata": {},
   "source": [
    "## Generate tables with historical data"
   ]
  },
  {
   "cell_type": "code",
   "execution_count": null,
   "id": "0c1bb2eb-a1fc-45f3-963c-e4478602b82b",
   "metadata": {
    "tags": []
   },
   "outputs": [],
   "source": [
    "event_maker = TMAEventMaker()\n",
    "data_folder.mkdir(parents=True, exist_ok=True)\n",
    "plot_folder.mkdir(parents=True, exist_ok=True)"
   ]
  },
  {
   "cell_type": "code",
   "execution_count": null,
   "id": "5931ed42-b3b5-453a-af46-b1c9bf13b714",
   "metadata": {
    "tags": []
   },
   "outputs": [],
   "source": [
    "# The amount of output on this cell might break the plots.\n",
    "# Restart the kernel and run the notebook again to get them displayed.\n",
    "for day_obs in day_obs_list:\n",
    "    file_path = Path(data_folder) / file_pattern.format(day_obs=day_obs)\n",
    "    if file_path.exists():\n",
    "        print(f\"File exists: {file_path}\\n Skipping data processing.\")\n",
    "        continue\n",
    "    else:\n",
    "        temp_df = m1m3_ics.evaluate_m1m3_ics_day_obs(day_obs, event_maker)\n",
    "        temp_df.to_csv(file_path)\n",
    "        del temp_df"
   ]
  },
  {
   "cell_type": "markdown",
   "id": "b1f8f6a3-32af-43aa-b7e3-e76aadec1a31",
   "metadata": {},
   "source": [
    "## Merge datasets into a single one"
   ]
  },
  {
   "cell_type": "code",
   "execution_count": null,
   "id": "6bd48d02-20f4-4934-b9d7-ec8d7009609e",
   "metadata": {
    "tags": []
   },
   "outputs": [],
   "source": [
    "df = merge_csvs(data_folder, file_pattern, day_obs_list)\n",
    "df.to_csv(data_folder / output_file)"
   ]
  },
  {
   "cell_type": "markdown",
   "id": "9573c5bc-9c12-45e1-a38b-c388b761290e",
   "metadata": {},
   "source": [
    "## What data can be correlated with the HP forces?\n",
    "\n",
    "For this, I will start with a correlation map.  \n",
    "This migh give me an idea of what is related to what.  \n",
    "I will start by replacing the boolean values of `ics_enabled` with numerical ones to allow gathering correlation.  \n",
    "Then, I will temporarily drop the columns that I know don't have any correlation with the ICS performance.  \n",
    "Finally, I will display the correlation map that will give us some impressions on the possible correlations.   "
   ]
  },
  {
   "cell_type": "code",
   "execution_count": null,
   "id": "3ac5d672-d71f-42ac-9171-30e551743e46",
   "metadata": {
    "tags": []
   },
   "outputs": [],
   "source": [
    "df[\"ics_enabled\"] = df[\"ics_enabled\"].apply(lambda x: 1 if x else -1)"
   ]
  },
  {
   "cell_type": "code",
   "execution_count": null,
   "id": "00955bb5-44f6-4735-b348-af9828723edd",
   "metadata": {
    "tags": []
   },
   "outputs": [],
   "source": [
    "subset_of_columns = [\n",
    "    \"time_duration\",\n",
    "    \"az_start\",\n",
    "    \"az_end\",\n",
    "    \"az_extreme_vel\",\n",
    "    \"az_extreme_torque\",\n",
    "    \"az_diff\",\n",
    "    \"el_start\",\n",
    "    \"el_end\",\n",
    "    \"el_extreme_vel\",\n",
    "    \"el_extreme_torque\",\n",
    "    \"el_diff\",\n",
    "    \"ics_enabled\",\n",
    "]\n",
    "\n",
    "subset_of_columns.extend([f\"measuredForceMin{hp}\" for hp in range(HP_COUNT)])\n",
    "subset_of_columns.extend([f\"measuredForceMax{hp}\" for hp in range(HP_COUNT)])\n",
    "subset_of_columns.extend([f\"measuredForceMean{hp}\" for hp in range(HP_COUNT)])\n",
    "subset_of_columns.extend([f\"measuredForceStd{hp}\" for hp in range(HP_COUNT)])"
   ]
  },
  {
   "cell_type": "code",
   "execution_count": null,
   "id": "cb9f2bf1-3431-4373-858c-612e8ce29f97",
   "metadata": {
    "tags": []
   },
   "outputs": [],
   "source": [
    "correlation_map(df, subset_of_columns)"
   ]
  },
  {
   "cell_type": "markdown",
   "id": "ddf9cfab-429d-4605-9dde-1dc23c154e0f",
   "metadata": {},
   "source": [
    "From the plot above, here are a few curious points:\n",
    "\n",
    "* ``measuredForceMin3`` and ``measuredForceMin4`` have anti-correlation while all the other ``measuredForceMin`` have direct correlation.  \n",
    "\n",
    "* ``measuredForceMax`` forces are anti-correlated with almost all ``measuredForceMin``, as expected. However, ``measuredForceMin1`` and ``measuredForceMin4`` seem to be flippled.  \n",
    "    \n",
    "* ``el_extreme_vel`` seems to have stronger impact on measured forces than ``az_extreme_vel``  "
   ]
  },
  {
   "cell_type": "markdown",
   "id": "0d13f051-276d-4e0b-87da-ed2ae301b915",
   "metadata": {},
   "source": [
    "## Expected performance during constant speed\n",
    "\n",
    "Ideally, the Inertia Compensation System should offload all the forces from the Hard-Points to the Force Balance System when accelerating or when moving at constant velocity. Let's have a look at the first case first. Let me create a plot of the `measuredForceMean` values versus `az_extreme_torque` and `el_extreme_torque`."
   ]
  },
  {
   "cell_type": "code",
   "execution_count": null,
   "id": "ded65447-bb20-4fdd-8f1f-00d780511ef5",
   "metadata": {
    "tags": []
   },
   "outputs": [],
   "source": [
    "df[\"abs_az_extreme_vel\"] = df[\"az_extreme_vel\"].abs()\n",
    "df[\"abs_az_extreme_torque\"] = df[\"az_extreme_torque\"].abs()\n",
    "df[\"abs_el_extreme_vel\"] = df[\"el_extreme_vel\"].abs()\n",
    "df[\"abs_el_extreme_torque\"] = df[\"el_extreme_torque\"].abs()"
   ]
  },
  {
   "cell_type": "markdown",
   "id": "b7bebc1e-88a1-4aa5-8eb9-a5877cca7f94",
   "metadata": {},
   "source": [
    "During the study, we identified an outlier that had `abs_el_extreme_vel` and `abs_el_extreme_torque` that had values inconsistently high. Since it was a single point, I will ignore it for now:"
   ]
  },
  {
   "cell_type": "code",
   "execution_count": null,
   "id": "b135d0fe-d099-45b0-b243-c9f8503d6de6",
   "metadata": {
    "tags": []
   },
   "outputs": [],
   "source": [
    "print(f\"Data-frame size before filtering: {df.index.size}\")\n",
    "df = df[df[\"abs_el_extreme_vel\"] < 10]\n",
    "print(f\"Data-frame size after filtering: {df.index.size}\")"
   ]
  },
  {
   "cell_type": "code",
   "execution_count": null,
   "id": "78ae11dd-b265-4f61-9f5a-fa6d1d738f24",
   "metadata": {
    "tags": []
   },
   "outputs": [],
   "source": [
    "el_only_df = df[df[\"abs_az_extreme_vel\"] < 0.02]\n",
    "az_only_df = df[df[\"abs_el_extreme_vel\"] < 0.02]\n",
    "\n",
    "print(f\"Total number of slews: {df.index.size}\")\n",
    "print(f\"Number of elevation-only slews: {el_only_df.index.size}\")\n",
    "print(f\"Number of azimuth-only slews: {az_only_df.index.size}\")\n",
    "print(f\"Sum of the two above: {el_only_df.index.size + az_only_df.index.size}\")"
   ]
  },
  {
   "cell_type": "markdown",
   "id": "a884d9c5-fa67-479a-b4a4-0aa5d1b97ed0",
   "metadata": {},
   "source": [
    "## El Only Motion Analysis"
   ]
  },
  {
   "cell_type": "code",
   "execution_count": null,
   "id": "54753ba8-61fe-45d7-ae0a-4def6fdf05ff",
   "metadata": {
    "tags": []
   },
   "outputs": [],
   "source": [
    "multiaxis_plots(el_only_df, \"abs_el_extreme_vel\", \"measuredForceMean\")"
   ]
  },
  {
   "cell_type": "code",
   "execution_count": null,
   "id": "86868194-789a-4b02-b75e-25acf64c57ac",
   "metadata": {
    "tags": []
   },
   "outputs": [],
   "source": [
    "multiaxis_plots(el_only_df, \"abs_el_extreme_torque\", \"measuredForceMax\")"
   ]
  },
  {
   "cell_type": "code",
   "execution_count": null,
   "id": "a98d0780-0615-4a0f-a8c1-936d38b81174",
   "metadata": {
    "tags": []
   },
   "outputs": [],
   "source": [
    "only_ics_enabled = el_only_df[el_only_df[\"ics_enabled\"] > 0]\n",
    "singleaxis_plots(only_ics_enabled, \"abs_el_extreme_torque\", \"measuredForceMax\")"
   ]
  },
  {
   "cell_type": "markdown",
   "id": "b7fef2ec-282e-4f19-ae1d-5ca97b4aac7b",
   "metadata": {},
   "source": [
    "## Az Only Motion Analysis"
   ]
  },
  {
   "cell_type": "code",
   "execution_count": null,
   "id": "564705ad-44de-4f80-9eef-1a8e5dd7c349",
   "metadata": {
    "tags": []
   },
   "outputs": [],
   "source": [
    "multiaxis_plots(az_only_df, \"abs_az_extreme_vel\", \"measuredForceMean\")"
   ]
  },
  {
   "cell_type": "code",
   "execution_count": null,
   "id": "245d7ef1-d486-4dbc-a81e-53a41fd4eba9",
   "metadata": {
    "tags": []
   },
   "outputs": [],
   "source": [
    "multiaxis_plots(az_only_df, \"abs_az_extreme_torque\", \"measuredForceMax\")"
   ]
  },
  {
   "cell_type": "code",
   "execution_count": null,
   "id": "b8f1cc10-ed4c-4be3-b831-368debbf973e",
   "metadata": {
    "tags": []
   },
   "outputs": [],
   "source": [
    "only_ics_enabled = az_only_df[az_only_df[\"ics_enabled\"] > 0]\n",
    "singleaxis_plots(only_ics_enabled, \"abs_az_extreme_torque\", \"measuredForceMax\")"
   ]
  },
  {
   "cell_type": "code",
   "execution_count": null,
   "id": "33e3d7c8-24fa-448a-b05f-13f5169d23eb",
   "metadata": {},
   "outputs": [],
   "source": []
  }
 ],
 "metadata": {
  "kernelspec": {
   "display_name": "LSST",
   "language": "python",
   "name": "lsst"
  },
  "language_info": {
   "codemirror_mode": {
    "name": "ipython",
    "version": 3
   },
   "file_extension": ".py",
   "mimetype": "text/x-python",
   "name": "python",
   "nbconvert_exporter": "python",
   "pygments_lexer": "ipython3",
   "version": "3.11.4"
  }
 },
 "nbformat": 4,
 "nbformat_minor": 5
}
