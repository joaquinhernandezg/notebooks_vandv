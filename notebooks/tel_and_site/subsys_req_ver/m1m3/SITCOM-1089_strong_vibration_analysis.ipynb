{
 "cells": [
  {
   "cell_type": "markdown",
   "id": "3b3955de-fb8c-410a-a1c5-10c064d19e0b",
   "metadata": {},
   "source": [
    "# SITCOM-1089 - Strong Vibration Analysis\n",
    "\n",
    "[SITCOM-1089]: https://jira.lsstcorp.org/browse/SITCOM-1089"
   ]
  },
  {
   "cell_type": "code",
   "execution_count": null,
   "id": "39cc7127-349f-473c-b8b5-ba1d175c8e60",
   "metadata": {
    "tags": []
   },
   "outputs": [],
   "source": [
    "import sys, time, os, asyncio\n",
    "\n",
    "import h5py\n",
    "import matplotlib.pyplot as plt\n",
    "import numpy as np\n",
    "import pandas as pd\n",
    "import scipy.stats as stats\n",
    "\n",
    "from astropy.time import Time\n",
    "from matplotlib.ticker import FormatStrFormatter\n",
    "from scipy import signal\n",
    "from scipy.signal import find_peaks\n",
    "\n",
    "from lsst.summit.utils.tmaUtils import TMAEventMaker, TMAState\n",
    "from lsst.summit.utils.efdUtils import (\n",
    "    getEfdData,\n",
    "    makeEfdClient,\n",
    "    clipDataToEvent,\n",
    "    calcNextDay,\n",
    ")\n",
    "\n",
    "%matplotlib inline\n",
    "%load_ext lab_black\n",
    "%load_ext autoreload\n",
    "%autoreload 2\n",
    "\n",
    "import sitcom1089"
   ]
  },
  {
   "cell_type": "code",
   "execution_count": null,
   "id": "c175e5fb-e307-4941-9389-1ded3565dbd5",
   "metadata": {
    "tags": []
   },
   "outputs": [],
   "source": [
    "begin_time = Time(\"2023-06-28 01:08:00\", format=\"iso\", scale=\"utc\")\n",
    "end_time = Time(\"2023-06-28 01:20:00\", format=\"iso\", scale=\"utc\")\n",
    "raised_begin = Time(\"2023-06-28 01:08:15\", format=\"iso\", scale=\"utc\")\n",
    "raised_end = Time(\"2023-06-28 01:11:55\", format=\"iso\", scale=\"utc\")\n",
    "lowering_end = Time(\"2023-06-28 01:15:15\", format=\"iso\", scale=\"utc\")\n",
    "down_end = Time(\"2023-06-28 01:20:00\", format=\"iso\", scale=\"utc\")\n",
    "\n",
    "time_dict = {}\n",
    "time_dict[\"total\"] = {\"begin\": begin_time, \"end\": end_time}\n",
    "time_dict[\"raised\"] = {\"begin\": begin_time, \"end\": raised_end}\n",
    "time_dict[\"lowering\"] = {\"begin\": raised_end, \"end\": lowering_end}\n",
    "time_dict[\"down\"] = {\"begin\": lowering_end, \"end\": end_time}"
   ]
  },
  {
   "cell_type": "code",
   "execution_count": null,
   "id": "50f84237-d50c-455e-8a71-6812e153ffbb",
   "metadata": {
    "tags": []
   },
   "outputs": [],
   "source": [
    "client = makeEfdClient()\n",
    "\n",
    "efd_dict = sitcom1089.get_efd_data(begin_time, end_time, client)"
   ]
  },
  {
   "cell_type": "code",
   "execution_count": null,
   "id": "74f0176d-c1fb-44a5-9106-d858d5171f1a",
   "metadata": {
    "tags": []
   },
   "outputs": [],
   "source": [
    "times = Time(efd_dict[\"ims\"][\"timestamp\"], format=\"unix_tai\", scale=\"utc\").datetime\n",
    "for key in [\"xPosition\", \"yPosition\", \"zPosition\"]:\n",
    "    plt.plot(\n",
    "        times, (efd_dict[\"ims\"][key] - efd_dict[\"ims\"][key].mean()) * 1e3, label=key\n",
    "    )\n",
    "\n",
    "plt.axvline(\n",
    "    time_dict[\"raised\"][\"end\"].datetime, label=\"begin lowering\", c=\"k\", ls=\"dashdot\"\n",
    ")\n",
    "plt.axvline(\n",
    "    time_dict[\"lowering\"][\"end\"].datetime, label=\"end lowering\", c=\"k\", ls=\"dotted\"\n",
    ")\n",
    "plt.legend()\n",
    "plt.xlabel(\"Time\")\n",
    "plt.ylabel(\"$\\Delta$ postion [mm]\")\n",
    "plt.title(\n",
    "    f\"IMS Position\\n{begin_time.iso[:10]} {begin_time.iso[11:19]}-{end_time.iso[11:19]}\"\n",
    ")"
   ]
  },
  {
   "cell_type": "code",
   "execution_count": null,
   "id": "793fa644-7a38-4e0b-89ab-5c43f827ed46",
   "metadata": {
    "tags": []
   },
   "outputs": [],
   "source": [
    "times = Time(efd_dict[\"ims\"][\"timestamp\"], format=\"unix_tai\", scale=\"utc\").datetime\n",
    "for key in [\"xRotation\", \"yRotation\", \"zRotation\"]:\n",
    "    plt.plot(\n",
    "        times, np.rad2deg(efd_dict[\"ims\"][key] - efd_dict[\"ims\"][key].mean()), label=key\n",
    "    )\n",
    "\n",
    "plt.axvline(\n",
    "    time_dict[\"raised\"][\"end\"].datetime, label=\"begin lowering\", c=\"k\", ls=\"dashdot\"\n",
    ")\n",
    "plt.axvline(\n",
    "    time_dict[\"lowering\"][\"end\"].datetime, label=\"end lowering\", c=\"k\", ls=\"dotted\"\n",
    ")\n",
    "plt.legend()\n",
    "plt.xlabel(\"Time\")\n",
    "plt.ylabel(\"$\\Delta$ rotation [deg]\")\n",
    "plt.title(\n",
    "    f\"IMS Position\\n{begin_time.iso[:10]} {begin_time.iso[11:19]}-{end_time.iso[11:19]}\"\n",
    ")"
   ]
  },
  {
   "cell_type": "code",
   "execution_count": null,
   "id": "e696d822-25da-404e-93ef-742aea3afce1",
   "metadata": {
    "tags": []
   },
   "outputs": [],
   "source": [
    "times = Time(efd_dict[\"el\"][\"timestamp\"], format=\"unix_tai\", scale=\"utc\").datetime\n",
    "plt.figure(dpi=125, figsize=(12, 3))\n",
    "for key in [\"actualTorque\"]:\n",
    "    plt.plot(\n",
    "        times,\n",
    "        np.rad2deg(efd_dict[\"el\"][key] - efd_dict[\"el\"][key].mean()),\n",
    "        label=key,\n",
    "        lw=0.3,\n",
    "    )\n",
    "\n",
    "plt.axvline(\n",
    "    time_dict[\"raised\"][\"end\"].datetime, label=\"begin lowering\", c=\"k\", ls=\"dashdot\"\n",
    ")\n",
    "plt.axvline(\n",
    "    time_dict[\"lowering\"][\"end\"].datetime, label=\"end lowering\", c=\"k\", ls=\"dotted\"\n",
    ")\n",
    "plt.legend(ncol=3, loc=9)\n",
    "plt.xlabel(\"Time\")\n",
    "plt.ylabel(\"$\\Delta$ rotation [deg]\")\n",
    "plt.title(\n",
    "    f\"TMA actualTorque\\n{begin_time.iso[:10]} {begin_time.iso[11:19]}-{end_time.iso[11:19]}\"\n",
    ")\n",
    "plt.ylim(-2e7, 3e7)"
   ]
  },
  {
   "cell_type": "code",
   "execution_count": null,
   "id": "ec43b74c-8c35-4c88-915e-5bebcae0ff74",
   "metadata": {
    "tags": []
   },
   "outputs": [],
   "source": [
    "dict_key = \"el\"\n",
    "key = \"actualTorque\"\n",
    "times = Time(efd_dict[dict_key][\"timestamp\"], format=\"unix_tai\", scale=\"utc\")\n",
    "fs = 1 / np.mean(np.diff(times.unix))\n",
    "plt.figure(dpi=125, figsize=(12, 4))\n",
    "for time_key in time_dict.keys():\n",
    "    sel = times > time_dict[time_key][\"begin\"]\n",
    "    sel &= times <= time_dict[time_key][\"end\"]\n",
    "    vals = efd_dict[dict_key][key][sel]\n",
    "\n",
    "    freq, psd = get_freq_psd(vals, 1 / fs)\n",
    "    yvals = pd.DataFrame({\"psd\": psd})[\"psd\"].rolling(30).mean()\n",
    "    plt.plot(freq, yvals, zorder=9, lw=1, label=time_key)\n",
    "plt.yscale(\"log\")\n",
    "plt.ylim(1e11, 1e17)\n",
    "plt.legend()\n",
    "plt.xlabel(\"Frequency (Hz)\")\n",
    "plt.ylabel(\"power\")\n",
    "plt.title(\n",
    "    f\"TMA Elevation {key}\\nEvent {begin_time.iso[:10]} {begin_time.iso[11:19]}-{end_time.iso[11:19]}\"\n",
    ")"
   ]
  },
  {
   "cell_type": "code",
   "execution_count": null,
   "id": "a6bd423b-3501-4330-86aa-6aa708be1bb3",
   "metadata": {
    "tags": []
   },
   "outputs": [],
   "source": [
    "dict_key = \"ims\"\n",
    "fig, axs = plt.subplots(3, 1, dpi=125, figsize=(14, 10))\n",
    "plt.suptitle(\n",
    "    f\"Event {begin_time.iso[:10]} {begin_time.iso[11:19]}-{end_time.iso[11:19]}\", y=0.92\n",
    ")\n",
    "for i, key in enumerate([\"xPosition\", \"yPosition\", \"zPosition\"]):\n",
    "    ax = axs[i]\n",
    "    times = Time(efd_dict[dict_key][\"timestamp\"], format=\"unix_tai\", scale=\"utc\")\n",
    "    fs = 1 / np.mean(np.diff(times.unix))\n",
    "    for time_key in time_dict.keys():\n",
    "        sel = times > time_dict[time_key][\"begin\"]\n",
    "        sel &= times <= time_dict[time_key][\"end\"]\n",
    "        vals = efd_dict[dict_key][key][sel]\n",
    "\n",
    "        freq, psd = get_freq_psd(vals, 1 / fs)\n",
    "        yvals = pd.DataFrame({\"psd\": psd})[\"psd\"].rolling(30).mean()\n",
    "        ax.plot(freq, yvals, zorder=9, lw=1, label=time_key)\n",
    "    title_str = f\"IMS {key}\"\n",
    "    ax.set(yscale=\"log\", xlabel=\"Frequency (Hz)\", ylabel=\"power\", title=title_str)\n",
    "    # plt.ylim(1e11,1e17)\n",
    "    ax.legend()\n",
    "plt.subplots_adjust(hspace=0.4)"
   ]
  },
  {
   "cell_type": "code",
   "execution_count": null,
   "id": "0ec25300-521d-4179-834b-8bd5ea345389",
   "metadata": {
    "tags": []
   },
   "outputs": [],
   "source": [
    "dict_key = \"ims\"\n",
    "fig, axs = plt.subplots(3, 1, dpi=125, figsize=(14, 10))\n",
    "plt.suptitle(\n",
    "    f\"Event {begin_time.iso[:10]} {begin_time.iso[11:19]}-{end_time.iso[11:19]}\", y=0.92\n",
    ")\n",
    "for i, key in enumerate([\"xRotation\", \"yRotation\", \"zRotation\"]):\n",
    "    ax = axs[i]\n",
    "    times = Time(efd_dict[dict_key][\"timestamp\"], format=\"unix_tai\", scale=\"utc\")\n",
    "    fs = 1 / np.mean(np.diff(times.unix))\n",
    "    for time_key in time_dict.keys():\n",
    "        sel = times > time_dict[time_key][\"begin\"]\n",
    "        sel &= times <= time_dict[time_key][\"end\"]\n",
    "        vals = efd_dict[dict_key][key][sel]\n",
    "\n",
    "        freq, psd = get_freq_psd(vals, 1 / fs)\n",
    "        yvals = pd.DataFrame({\"psd\": psd})[\"psd\"].rolling(30).mean()\n",
    "        ax.plot(freq, yvals, zorder=9, lw=1, label=time_key)\n",
    "    title_str = f\"IMS {key}\"\n",
    "    ax.set(yscale=\"log\", xlabel=\"Frequency (Hz)\", ylabel=\"power\", title=title_str)\n",
    "    # plt.ylim(1e11,1e17)\n",
    "    ax.legend()\n",
    "plt.subplots_adjust(hspace=0.4)"
   ]
  },
  {
   "cell_type": "code",
   "execution_count": null,
   "id": "598c96cf-6398-47b8-a0ee-28dfd3380dfe",
   "metadata": {
    "tags": []
   },
   "outputs": [],
   "source": [
    "times = Time(efd_dict[\"hp\"][\"timestamp\"], format=\"unix_tai\", scale=\"utc\").datetime\n",
    "\n",
    "plt.figure(dpi=125, figsize=(12, 3))\n",
    "for key in measured_forces_topics:\n",
    "    plt.plot(times, efd_dict[\"hp\"][key], label=key, lw=0.3)\n",
    "\n",
    "plt.axvline(\n",
    "    time_dict[\"raised\"][\"end\"].datetime, label=\"begin lowering\", c=\"k\", ls=\"dashdot\"\n",
    ")\n",
    "plt.axvline(\n",
    "    time_dict[\"lowering\"][\"end\"].datetime, label=\"end lowering\", c=\"k\", ls=\"dotted\"\n",
    ")\n",
    "plt.legend(ncol=3, loc=9)\n",
    "plt.xlabel(\"Time\")\n",
    "plt.ylabel(\"HP Measured Forces [N]\")\n",
    "plt.title(\n",
    "    f\"M1M3 HP Measured Forces\\n{begin_time.iso[:10]} {begin_time.iso[11:19]}-{end_time.iso[11:19]}\"\n",
    ")"
   ]
  },
  {
   "cell_type": "code",
   "execution_count": null,
   "id": "bda6d8a5-00ef-4562-9ef0-959bb9b28f6c",
   "metadata": {
    "tags": []
   },
   "outputs": [],
   "source": [
    "ydict={\n",
    "    \"el\":\"actualTorque\",\n",
    "    \"ims\":\n",
    "}\n",
    "fig,axs=plt.subplots(3, dpi=175, figsize=(10,4), sharex=True)\n",
    "plt.suptitle(f\"M1M3\\n{begin_time.iso[:10]} {begin_time.iso[11:19]}-{end_time.iso[11:19]}\", y=0.97)\n",
    "\n",
    "for i, key in enumerate([\"el\",\"ims\"])\n",
    "times=Time(efd_dict[\"el\"][\"timestamp\"], format=\"unix_tai\", scale=\"utc\")\n",
    "fs=1/np.mean(np.diff(times.unix))\n",
    "ax=axs[0]\n",
    "ax.specgram(efd_dict[\"el\"][\"actualTorque\"], Fs=fs, detrend=\"mean\", vmin=-11)\n",
    "ax.set(ylabel=\"Channel 1\\nFreq [hz]\", yticks=np.arange(0,16,25))\n",
    "\n",
    "# ax=axs[1]\n",
    "# ax.specgram(vms_m1m3_data[\"total_2\"] - np.mean(vms_m1m3_data[\"total_2\"]), Fs=fs, detrend=\"mean\", vmin=-110)\n",
    "# ax.set(ylabel=\"Channel 2\\nFreq [hz]\", yticks=np.arange(25,125,25))\n",
    "\n",
    "# ax=axs[2]\n",
    "# ax.specgram(vms_m1m3_data[\"total_3\"] - np.mean(vms_m1m3_data[\"total_3\"]), Fs=fs, detrend=\"mean\", vmin=-110)\n",
    "# ax.set(xlabel=f\"time since {begin_time.iso[11:19]} [s]\", ylabel=\"Channel 3\\nFreq [hz]\", yticks=np.arange(25,125,25))\n",
    "\n",
    "\n",
    "# plt.subplots_adjust(hspace=0.1)\n"
   ]
  },
  {
   "cell_type": "code",
   "execution_count": null,
   "id": "e8fb5f6c-9aaf-402f-9513-ce59f9f9d00e",
   "metadata": {},
   "outputs": [],
   "source": []
  }
 ],
 "metadata": {
  "kernelspec": {
   "display_name": "LSST",
   "language": "python",
   "name": "lsst"
  },
  "language_info": {
   "codemirror_mode": {
    "name": "ipython",
    "version": 3
   },
   "file_extension": ".py",
   "mimetype": "text/x-python",
   "name": "python",
   "nbconvert_exporter": "python",
   "pygments_lexer": "ipython3",
   "version": "3.11.4"
  }
 },
 "nbformat": 4,
 "nbformat_minor": 5
}
