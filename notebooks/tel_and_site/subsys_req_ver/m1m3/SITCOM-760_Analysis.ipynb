{
 "cells": [
  {
   "cell_type": "markdown",
   "id": "ab2599ca-375e-4b90-94af-3215bb826428",
   "metadata": {},
   "source": [
    "## IMS mismatch with M1M3 motion system - SITCOM-760"
   ]
  },
  {
   "cell_type": "code",
   "execution_count": null,
   "id": "c80f073f-5eed-4280-991f-375e359e3644",
   "metadata": {
    "tags": []
   },
   "outputs": [],
   "source": [
    "# Define time frame to retrieve data in the EFD database\n",
    "t_start = \"2023-05-30T04:35:00\"\n",
    "t_end = \"2023-05-30T05:30:00\""
   ]
  },
  {
   "cell_type": "code",
   "execution_count": null,
   "id": "b644b653-571d-4ee4-a013-ed825e16cf63",
   "metadata": {
    "tags": []
   },
   "outputs": [],
   "source": [
    "%matplotlib inline\n",
    "%load_ext autoreload\n",
    "%autoreload 2"
   ]
  },
  {
   "cell_type": "code",
   "execution_count": null,
   "id": "00bbb5e2-748e-493a-b3ec-fd4d8df4a45e",
   "metadata": {
    "tags": []
   },
   "outputs": [],
   "source": [
    "import itertools as itt\n",
    "import pandas as pd\n",
    "import matplotlib.dates as mdates\n",
    "import matplotlib.pyplot as plt\n",
    "import numpy as np\n",
    "import seaborn as sns\n",
    "\n",
    "from astropy import units as u\n",
    "from astropy.time import Time, TimezoneInfo\n",
    "\n",
    "from lsst.sitcom import vandv\n",
    "from lsst.ts.idl.enums import MTM1M3"
   ]
  },
  {
   "cell_type": "code",
   "execution_count": null,
   "id": "d933c046-a1a2-4d66-96a0-8a6b46bff479",
   "metadata": {
    "tags": []
   },
   "outputs": [],
   "source": [
    "# Create client to access the EFD database\n",
    "client = vandv.efd.create_efd_client()"
   ]
  },
  {
   "cell_type": "code",
   "execution_count": null,
   "id": "361fe8dc-295b-4e01-a44a-363a8ab1b428",
   "metadata": {
    "tags": []
   },
   "outputs": [],
   "source": [
    "all_columns = [\"xPosition\", \"xRotation\", \"yPosition\", \"yRotation\", \"zPosition\", \"zRotation\"]\n",
    "pos_columns = [c for c in all_columns if \"Position\" in c]\n",
    "rot_columns = [c for c in all_columns if \"Rotation\" in c]"
   ]
  },
  {
   "cell_type": "code",
   "execution_count": null,
   "id": "c5560a0e-dc1f-403f-a5c4-501133fd0c19",
   "metadata": {
    "tags": []
   },
   "outputs": [],
   "source": [
    "# get IMS data\n",
    "df_ims = await client.select_time_series(\n",
    "    \"lsst.sal.MTM1M3.imsData\", \n",
    "    \"*\", \n",
    "    Time(t_start, format=\"isot\", scale=\"utc\"),\n",
    "    Time(t_end, format=\"isot\", scale=\"utc\"), \n",
    ")\n",
    "\n",
    "df_ims = df_ims.set_index(\"private_rcvStamp\")\n",
    "df_ims.index = pd.to_datetime(df_ims.index, unit=\"s\")\n",
    "\n",
    "df_ims = df_ims[all_columns]\n",
    "\n",
    "# Convert meter to milimeter to make is easier to analyse\n",
    "df_ims[pos_columns] = df_ims[pos_columns] * 1e3"
   ]
  },
  {
   "cell_type": "code",
   "execution_count": null,
   "id": "18319980-a26f-4b80-86e6-dc09ba74b5d2",
   "metadata": {
    "tags": []
   },
   "outputs": [],
   "source": [
    "# get Hard Point state\n",
    "\n",
    "df_HPState = await client.select_time_series(\n",
    "    \"lsst.sal.MTM1M3.logevent_hardpointActuatorState\", \n",
    "    \"*\", \n",
    "    Time(t_start, format=\"isot\", scale=\"utc\"),\n",
    "    Time(t_end, format=\"isot\", scale=\"utc\"), \n",
    ")\n",
    "\n",
    "df_HPState = df_HPState.set_index(\"private_rcvStamp\")\n",
    "df_HPState.index = pd.to_datetime(df_HPState.index, unit=\"s\")"
   ]
  },
  {
   "cell_type": "code",
   "execution_count": null,
   "id": "198b115f-d385-4741-b951-4a071aae787c",
   "metadata": {
    "tags": []
   },
   "outputs": [],
   "source": [
    "# get Hard Point Data\n",
    "df_HPData = await client.select_time_series(\n",
    "    \"lsst.sal.MTM1M3.hardpointActuatorData\", \n",
    "    \"*\", \n",
    "    Time(t_start, format=\"isot\", scale=\"utc\"),\n",
    "    Time(t_end, format=\"isot\", scale=\"utc\"), \n",
    ")\n",
    "\n",
    "df_HPData = df_HPData.set_index(\"private_rcvStamp\")\n",
    "df_HPData.index = pd.to_datetime(df_HPData.index, unit=\"s\")\n",
    "\n",
    "df_HPData = df_HPData[all_columns]\n",
    "\n",
    "# convert positions to mm\n",
    "df_HPData[pos_columns] = df_HPData[pos_columns] * 1e3"
   ]
  },
  {
   "cell_type": "code",
   "execution_count": null,
   "id": "3089d464-b7b5-45ad-bb28-6a03ee0caa8e",
   "metadata": {
    "tags": []
   },
   "outputs": [],
   "source": [
    "# Find all the time windows during which the HP is in Standy state (stable)  \n",
    "mask_HP_stable = (df_HPState[[f\"motionState{j}\" for j in range(1, 6)]] == 0).all(axis=1) \n",
    "\n",
    "delta_t = pd.Timedelta(0.5, \"seconds\")\n",
    "time_stable = []\n",
    "\n",
    "for i, mask in enumerate(mask_HP_stable):\n",
    "    if mask:\n",
    "        if i+1 < len(mask_HP_stable) and not mask_HP_stable[mask_HP_stable.index[i+1]]:\n",
    "            t0 = mask_HP_stable.index[i]\n",
    "            \n",
    "# Remove a small time interval at the end of the time window in order to make sure that HP is in Standy state for any ids timestamp \n",
    "            t1 = mask_HP_stable.index[i+1] - delta_t\n",
    "            time_stable.append([t0, t1])"
   ]
  },
  {
   "cell_type": "markdown",
   "id": "aa336d6f-79f9-4521-a0e9-d39d57b19992",
   "metadata": {
    "execution": {
     "iopub.execute_input": "2023-06-16T13:29:06.255359Z",
     "iopub.status.busy": "2023-06-16T13:29:06.255095Z",
     "iopub.status.idle": "2023-06-16T13:29:06.280831Z",
     "shell.execute_reply": "2023-06-16T13:29:06.280477Z",
     "shell.execute_reply.started": "2023-06-16T13:29:06.255342Z"
    },
    "tags": []
   },
   "source": [
    "## Data analysis\n",
    "\n",
    "### We run the analysis in 2 steps, first the positions and second the rotations"
   ]
  },
  {
   "cell_type": "markdown",
   "id": "befda4ac-8d6a-47a7-8996-8464d970293c",
   "metadata": {},
   "source": [
    "## Position analysis"
   ]
  },
  {
   "cell_type": "code",
   "execution_count": null,
   "id": "277c1200-8b70-4d24-9879-729f99039534",
   "metadata": {
    "tags": []
   },
   "outputs": [],
   "source": [
    "# Store results in a dataframe in order to plot them later\n",
    "results = pd.DataFrame(columns=[\"ids_x_mean\", \"ids_y_mean\", \"ids_z_mean\", \"HP_x_mean\", \"HP_y_mean\", \"HP_z_mean\", \n",
    "                                \"offset_x_mean\", \"offset_y_mean\", \"offset_z_mean\"])\n",
    "\n",
    "for index, time_window in enumerate(time_stable):\n",
    "    t0 = time_window[0]\n",
    "    t1 = time_window[1]\n",
    "    ids_x_mean = np.mean(df_ims[t0:t1]['xPosition'])\n",
    "    ids_y_mean = np.mean(df_ims[t0:t1]['yPosition'])\n",
    "    ids_z_mean = np.mean(df_ims[t0:t1]['zPosition'])\n",
    "    HP_x_mean = np.mean(df_HPData[t0:t1]['xPosition'])\n",
    "    HP_y_mean = np.mean(df_HPData[t0:t1]['yPosition'])\n",
    "    HP_z_mean = np.mean(df_HPData[t0:t1]['zPosition'])\n",
    "    offset_x_mean = ids_x_mean - HP_x_mean\n",
    "    offset_y_mean = ids_y_mean - HP_y_mean\n",
    "    offset_z_mean = ids_z_mean - HP_z_mean\n",
    "    \n",
    "    # Store results in dataframe\n",
    "    row = pd.DataFrame({\"ids_x_mean\":ids_x_mean, \"ids_y_mean\":ids_y_mean, \"ids_z_mean\":ids_y_mean, \n",
    "                        \"HP_x_mean\":HP_x_mean, \"HP_y_mean\":HP_y_mean, \"HP_z_mean\":HP_z_mean,\n",
    "                        \"offset_x_mean\":offset_x_mean, \"offset_y_mean\":offset_y_mean, \"offset_z_mean\": offset_z_mean}, index=[index])\n",
    "    results = pd.concat([results, row])\n",
    "\n",
    "axes = [ \"x\", \"y\", \"z\"]\n",
    "sigma = {}\n",
    "mean = {}\n",
    "\n",
    "for axis in axes:\n",
    "    sigma[axis] = np.std(results[\"offset_\" + axis + \"_mean\"])\n",
    "    mean[axis] = np.mean(results[\"offset_\" + axis + \"_mean\"])"
   ]
  },
  {
   "cell_type": "code",
   "execution_count": null,
   "id": "67b1805c-deeb-4ba4-be9c-172c5fd87a6c",
   "metadata": {
    "tags": []
   },
   "outputs": [],
   "source": [
    "results"
   ]
  },
  {
   "cell_type": "code",
   "execution_count": null,
   "id": "990f34e6-14c8-4e94-a032-cff8298d715b",
   "metadata": {
    "tags": []
   },
   "outputs": [],
   "source": [
    "# Plot results for position analysis\n",
    "locator = mdates.AutoDateLocator(minticks=3, maxticks=3)\n",
    "formatter = mdates.ConciseDateFormatter(locator)\n",
    "\n",
    "title = \"SITCOM-760 - Position Offsets between ims and HP data\"\n",
    "fig, axs = plt.subplots(num=title, nrows=2, ncols=3, figsize=(12, 8))\n",
    "\n",
    "axes = [ \"x\", \"y\", \"z\"]\n",
    "for i in range(3):\n",
    "    max = np.max(results[f\"offset_{axes[i]}_mean\"])\n",
    "    min = np.min(results[f\"offset_{axes[i]}_mean\"])\n",
    "    axs[0][i].hist(results[f\"offset_{axes[i]}_mean\"], bins=50, range=[min-0.1*abs(min), max+0.1*abs(max)])\n",
    "    axs[0][i].set_xlabel(f\"Offset (ids-HP) {axes[i]} axis (mm)\")\n",
    "    val_mean = mean[axes[i]]\n",
    "    val_sigma = sigma[axes[i]]\n",
    "    axs[0][i].set_title(\"mean = %.2f mm \\n sigma = %.2e mm\" %(val_mean, val_sigma))\n",
    "    \n",
    "    axs[1][i].plot(df_ims.index, df_ims[axes[i] + \"Position\"], label=\"ims\")\n",
    "    axs[1][i].plot(df_HPData.index, df_HPData[axes[i] + \"Position\"], label = \"HP\")\n",
    "    axs[1][i].xaxis.set_major_formatter(formatter)\n",
    "    max = np.max([np.max(df_ims[axes[i] + \"Position\"]), np.max(df_HPData[axes[i] + \"Position\"])])\n",
    "    min = np.min([np.min(df_ims[axes[i] + \"Position\"]), np.min(df_HPData[axes[i] + \"Position\"])])\n",
    "    axs[1][i].set_ylim([min-0.2, max+0.2])\n",
    "    axs[1][i].set_xlabel(\"Time\")\n",
    "    axs[1][i].set_ylabel(f\"{axes[i]} Position (mm)\")\n",
    "    axs[1][i].legend()\n",
    "    \n",
    "fig.suptitle(title + \"\\n\")\n",
    "fig.tight_layout()\n",
    "plt.subplots_adjust(top=0.90)"
   ]
  },
  {
   "cell_type": "markdown",
   "id": "9485e82f-d7bc-4ab2-8584-b7d61348bfe6",
   "metadata": {},
   "source": [
    "## Rotations"
   ]
  },
  {
   "cell_type": "code",
   "execution_count": null,
   "id": "75dd8d21-f66a-49e4-9230-853ffe2b415a",
   "metadata": {
    "tags": []
   },
   "outputs": [],
   "source": [
    "# Store results in a dataframe in order to plot them later\n",
    "results_rot = pd.DataFrame(columns=[\"ids_xRot_mean\", \"ids_yRot_mean\", \"ids_zRot_mean\", \"HP_xRot_mean\", \"HP_yRot_mean\", \"HP_zRot_mean\", \n",
    "                                \"offset_xRot_mean\", \"offset_yRot_mean\", \"offset_zRot_mean\"])\n",
    "\n",
    "for index, time_window in enumerate(time_stable):\n",
    "    t0 = time_window[0]\n",
    "    t1 = time_window[1]\n",
    "    ids_xRot_mean = np.mean(df_ims[t0:t1]['xRotation'])\n",
    "    ids_yRot_mean = np.mean(df_ims[t0:t1]['yRotation'])\n",
    "    ids_zRot_mean = np.mean(df_ims[t0:t1]['zRotation'])\n",
    "    HP_xRot_mean = np.mean(df_HPData[t0:t1]['xRotation'])\n",
    "    HP_yRot_mean = np.mean(df_HPData[t0:t1]['yRotation'])\n",
    "    HP_zRot_mean = np.mean(df_HPData[t0:t1]['zRotation'])\n",
    "    offset_xRot_mean = ids_xRot_mean - HP_xRot_mean\n",
    "    offset_yRot_mean = ids_yRot_mean - HP_yRot_mean\n",
    "    offset_zRot_mean = ids_zRot_mean - HP_zRot_mean\n",
    "    \n",
    "    # Store results in dataframe\n",
    "    row = pd.DataFrame({\"ids_xRot_mean\":ids_xRot_mean, \"ids_yRot_mean\":ids_yRot_mean, \"ids_zRot_mean\":ids_yRot_mean, \n",
    "                        \"HP_xRot_mean\":HP_xRot_mean, \"HP_yRot_mean\":HP_yRot_mean, \"HP_zRot_mean\":HP_zRot_mean,\n",
    "                        \"offset_xRot_mean\":offset_xRot_mean, \"offset_yRot_mean\":offset_yRot_mean, \"offset_zRot_mean\": offset_zRot_mean}, index=[index])\n",
    "    results_rot = pd.concat([results_rot, row])\n",
    "\n",
    "axes = [ \"x\", \"y\", \"z\"]\n",
    "sigma_rot = {}\n",
    "mean_rot = {}\n",
    "\n",
    "for axis in axes:\n",
    "    sigma_rot[axis] = np.std(results_rot[\"offset_\" + axis + \"Rot_mean\"])\n",
    "    mean_rot[axis] = np.mean(results_rot[\"offset_\" + axis + \"Rot_mean\"])"
   ]
  },
  {
   "cell_type": "code",
   "execution_count": null,
   "id": "31e17c8d-7639-4ace-afcb-a138bf8ed51b",
   "metadata": {
    "tags": []
   },
   "outputs": [],
   "source": [
    "results_rot"
   ]
  },
  {
   "cell_type": "code",
   "execution_count": null,
   "id": "18164309-cdca-4d05-8e57-3f3665319378",
   "metadata": {
    "tags": []
   },
   "outputs": [],
   "source": [
    "# Plot results for rotation analysis\n",
    "locator = mdates.AutoDateLocator(minticks=3, maxticks=3)\n",
    "formatter = mdates.ConciseDateFormatter(locator)\n",
    "\n",
    "title = \"SITCOM-760 Rotations Offsets between ims and HP data\"\n",
    "fig, axs = plt.subplots(num=title, nrows=2, ncols=3, figsize=(12, 8))\n",
    "\n",
    "axes = [ \"x\", \"y\", \"z\"]\n",
    "for i in range(3):\n",
    "    max = np.max(results_rot[f\"offset_{axes[i]}Rot_mean\"])\n",
    "    min = np.min(results_rot[f\"offset_{axes[i]}Rot_mean\"])\n",
    "    axs[0][i].hist(results_rot[f\"offset_{axes[i]}Rot_mean\"], bins=50, range=[min-0.1*abs(min), max+0.1*abs(max)])\n",
    "    axs[0][i].set_xlabel(f\"Offset (ids-HP) {axes[i]} Rotation (deg)\")\n",
    "    val_mean_rot = mean_rot[axes[i]]\n",
    "    val_sigma_rot = sigma_rot[axes[i]]\n",
    "    axs[0][i].set_title(\"mean = %.4f deg \\n sigma = %.e deg\" %(val_mean_rot, val_sigma_rot))\n",
    "    \n",
    "    axs[1][i].plot(df_ims.index, df_ims[axes[i] + \"Rotation\"], label=\"ims\")\n",
    "    axs[1][i].plot(df_HPData.index, df_HPData[axes[i] + \"Rotation\"], label = \"HP\")\n",
    "    axs[1][i].xaxis.set_major_formatter(formatter)\n",
    "    max = np.max([np.max(df_ims[axes[i] + \"Rotation\"]), np.max(df_HPData[axes[i] + \"Rotation\"])])\n",
    "    min = np.min([np.min(df_ims[axes[i] + \"Rotation\"]), np.min(df_HPData[axes[i] + \"Rotation\"])])\n",
    "    axs[1][i].set_ylim([min-0.015, max+0.015])\n",
    "    axs[1][i].set_xlabel(\"Time\")\n",
    "    axs[1][i].set_ylabel(f\"{axes[i]} Rotation (deg)\")\n",
    "    axs[1][i].legend()\n",
    "    \n",
    "fig.suptitle(title + \"\\n\")\n",
    "fig.tight_layout()\n",
    "plt.subplots_adjust(top=0.90)"
   ]
  }
 ],
 "metadata": {
  "kernelspec": {
   "display_name": "LSST",
   "language": "python",
   "name": "lsst"
  },
  "language_info": {
   "codemirror_mode": {
    "name": "ipython",
    "version": 3
   },
   "file_extension": ".py",
   "mimetype": "text/x-python",
   "name": "python",
   "nbconvert_exporter": "python",
   "pygments_lexer": "ipython3",
   "version": "3.10.10"
  }
 },
 "nbformat": 4,
 "nbformat_minor": 5
}
