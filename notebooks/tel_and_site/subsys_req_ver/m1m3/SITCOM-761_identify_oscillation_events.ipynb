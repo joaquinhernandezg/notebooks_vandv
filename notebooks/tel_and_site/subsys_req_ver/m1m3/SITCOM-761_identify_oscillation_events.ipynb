{
 "cells": [
  {
   "cell_type": "code",
   "execution_count": null,
   "id": "c0727e2c-ade4-47cb-bdbe-1af00a1a119e",
   "metadata": {
    "tags": []
   },
   "outputs": [],
   "source": [
    "import sys, time, os, asyncio\n",
    "import matplotlib.pyplot as plt\n",
    "import pandas as pd\n",
    "import numpy as np\n",
    "from astropy.time import Time, TimeDelta\n",
    "from scipy.interpolate import UnivariateSpline\n",
    "\n",
    "from lsst_efd_client import EfdClient, resample, merge_packed_time_series, rendezvous_dataframes\n",
    "from lsst.ts.idl.enums import MTM1M3\n",
    "\n",
    "from scipy.signal import find_peaks\n",
    "from scipy.interpolate import interp1d"
   ]
  },
  {
   "cell_type": "markdown",
   "id": "005550e7-0815-4609-8acd-e04a7f86268f",
   "metadata": {},
   "source": [
    "# Functions "
   ]
  },
  {
   "cell_type": "code",
   "execution_count": null,
   "id": "da348783-75a1-467f-9dce-488161d87814",
   "metadata": {
    "tags": []
   },
   "outputs": [],
   "source": [
    "def combine_peaks_accross_actuators(peak_frame, window=4):\n",
    "    # takes a set of identified peaks in different actuators and associates nearby \n",
    "    # ones default window is 4 seconds, \n",
    "    # returns 1 peak per window and the max height of peaks in that window as well as the number of \n",
    "    # actuators that saw that peak, only returns peaks seen with more than 3 actuators.\n",
    "    super_heights =[]\n",
    "    super_times = []\n",
    "    super_counts = [] \n",
    "    super_actuators= []\n",
    "    for peak in peak_frame[\"times\"].values:\n",
    "        sel = (abs(peak_frame[\"times\"]-peak) < window)\n",
    "        subframe=peak_frame[sel]\n",
    "        count=len(np.unique(subframe[\"actuators\"]))\n",
    "        if count > 3:\n",
    "            max_height=subframe[\"heights\"].max()\n",
    "            super_counts.append(count)\n",
    "            super_heights.append(max_height)\n",
    "            super_times.append(subframe[\"times\"][subframe[\"heights\"]==max_height].values)\n",
    "            super_actuators.append(subframe[\"actuators\"][subframe[\"heights\"]==max_height].values)\n",
    "    super_times = np.concatenate(super_times)\n",
    "    super_actuators = np.concatenate(super_actuators)\n",
    "    super_heights=np.array(super_heights)\n",
    "    super_counts=np.array(super_counts)\n",
    "    super_times, super_inds=np.unique(super_times, return_index=True)\n",
    "    super_heights=super_heights[super_inds]\n",
    "    super_actuators=super_actuators[super_inds]\n",
    "    super_counts=super_counts[super_inds]\n",
    "    return pd.DataFrame({\"times\":super_times,\"heights\":super_heights,\"counts\":super_counts, \"actuators\":super_actuators})\n",
    "\n",
    "def add_timestamp(data):\n",
    "    # add correct timestamp column in utc\n",
    "    if \"snd_timestamp_utc\" not in data.columns:\n",
    "        data[\"snd_timestamp_utc\"]=Time(data[\"private_sndStamp\"], format = \"unix_tai\").unix\n",
    "    return data"
   ]
  },
  {
   "cell_type": "markdown",
   "id": "2e55c6fa-1b58-49ab-8605-1050bcde8581",
   "metadata": {
    "execution": {
     "iopub.execute_input": "2023-06-16T15:38:44.201974Z",
     "iopub.status.busy": "2023-06-16T15:38:44.201584Z",
     "iopub.status.idle": "2023-06-16T15:38:44.204688Z",
     "shell.execute_reply": "2023-06-16T15:38:44.204219Z",
     "shell.execute_reply.started": "2023-06-16T15:38:44.201956Z"
    },
    "tags": []
   },
   "source": [
    "# Query\n",
    "Need the elevation telemetry and hardpoint measured forces"
   ]
  },
  {
   "cell_type": "code",
   "execution_count": null,
   "id": "4d61b98b-14fa-446e-a66b-dd9ce70bb4c3",
   "metadata": {
    "tags": []
   },
   "outputs": [],
   "source": [
    "# Get EFD client\n",
    "\n",
    "summit_client = False\n",
    "\n",
    "if summit_client:\n",
    "    client = EfdClient('summit_efd')\n",
    "else:\n",
    "    client = EfdClient(\"usdf_efd\")"
   ]
  },
  {
   "cell_type": "code",
   "execution_count": null,
   "id": "f97380cb-a702-4338-a6e6-d4fba8207558",
   "metadata": {
    "tags": []
   },
   "outputs": [],
   "source": [
    "start = Time(\"2023-06-15T21:00:00\", scale='utc')\n",
    "window = TimeDelta(7*60*60, format = 'sec')\n",
    "end = start + window"
   ]
  },
  {
   "cell_type": "code",
   "execution_count": null,
   "id": "61c109e8-a1ef-4610-b2f3-035a2dce3a59",
   "metadata": {
    "tags": []
   },
   "outputs": [],
   "source": [
    "el = await client.select_time_series('lsst.sal.MTMount.elevation', \\\n",
    "                                        ['*'],  start, end)\n",
    "el=add_timestamp(el)\n",
    "\n",
    "hpmf = await client.select_time_series('lsst.sal.MTM1M3.hardpointActuatorData', \\\n",
    "                                        ['private_sndStamp',\n",
    "                                         'measuredForce0', \n",
    "                                         'measuredForce1', \n",
    "                                         'measuredForce2', \n",
    "                                         'measuredForce3',\n",
    "                                         'measuredForce4', \n",
    "                                         'measuredForce5'],  start, end)\n",
    "hpmf = add_timestamp(hpmf)"
   ]
  },
  {
   "cell_type": "markdown",
   "id": "14f828d2-423b-4156-afbd-fffa31f62f89",
   "metadata": {},
   "source": [
    "# Identification of peaks\n",
    "results will be in overall_frame that has the columns ['times', 'heights', 'counts', 'actuators', 'slew_state']"
   ]
  },
  {
   "cell_type": "code",
   "execution_count": null,
   "id": "992027db-2097-4d44-9d2b-5fe8881585a0",
   "metadata": {
    "tags": []
   },
   "outputs": [],
   "source": [
    "# given hp data iterate over all and create a dict with identified peaks as well as their height\n",
    "rolling_std_window = 100  # 100 is ~ 2 second window\n",
    "association_window_1 = 2 # window in seconds to combine peaks in same actuator\n",
    "association_window_2 = 4 # window in seconds to combine peaks accross actuators\n",
    "slew_speed_min = 0.01 # used for identifiying when we are slewing\n",
    "\n",
    "peak_dict={}\n",
    "peak_frame=pd.DataFrame({\"times\":[],\"heights\":[],\"actuators\":[]})\n",
    "\n",
    "\n",
    "for i in range(6):\n",
    "    # this loop identifies rolling std peaks in the measured force\n",
    "    rolling_std_val=hpmf[f\"measuredForce{i}\"].rolling(rolling_std_window).std() # 100 is ~ 2 second window\n",
    "    peak_indicies=find_peaks(rolling_std_val, height=50)[0] \n",
    "    \n",
    "    # keep time and height of peaks\n",
    "    peak_dict[f\"hp_{i}_peak_times\"]=hpmf[\"snd_timestamp_utc\"][peak_indicies].values\n",
    "    peak_dict[f\"hp_{i}_peak_heights\"]= rolling_std_val[peak_indicies].values\n",
    "\n",
    "    # for each peak combine by looking at all peaks within \n",
    "    # a window and keeping the one with the largest height then np.unique that \n",
    "    super_heights=[]\n",
    "    super_times=[]\n",
    "    for j,peak in enumerate(peak_dict[f\"hp_{i}_peak_times\"]):\n",
    "        sel_peaks=(abs(peak_dict[f\"hp_{i}_peak_times\"]-peak) < association_window_1)\n",
    "        max_height=np.max(peak_dict[f\"hp_{i}_peak_heights\"][sel_peaks])\n",
    "        max_time=peak_dict[f\"hp_{i}_peak_times\"][sel_peaks][np.where(peak_dict[f\"hp_{i}_peak_heights\"][sel_peaks]==max_height)]\n",
    "        max_index=np.where(peak_dict[f\"hp_{i}_peak_times\"]==max_time)[0]\n",
    "        super_times.append(peak_dict[f\"hp_{i}_peak_times\"][max_index])\n",
    "        super_heights.append(peak_dict[f\"hp_{i}_peak_heights\"][max_index])\n",
    "    peak_dict[f\"hp_{i}_peak_times\"] = np.unique(super_times)\n",
    "    peak_dict[f\"hp_{i}_peak_heights\"] = np.unique(super_heights)\n",
    "    peak_frame=pd.concat([peak_frame,pd.DataFrame({\"times\":peak_dict[f\"hp_{i}_peak_times\"],\n",
    "                                                   \"heights\":peak_dict[f\"hp_{i}_peak_heights\"],\n",
    "                                                   \"actuators\":i})])\n",
    "peak_frame=peak_frame.sort_values(\"times\")\n",
    "\n",
    "# next we want to combine peaks across actuators\n",
    "overall_frame=combine_peaks_accross_actuators(peak_frame, window=association_window_2)\n",
    "\n",
    "#identify when we are slewing\n",
    "overall_frame[\"slew_state\"]=False\n",
    "slew_speed=interp1d(el[\"snd_timestamp_utc\"],abs(el[\"actualVelocity\"].rolling(10).mean()))\n",
    "sel=(slew_speed(overall_frame[\"times\"]) > slew_speed_min)\n",
    "overall_frame.loc[sel,\"slew_state\"]=True"
   ]
  },
  {
   "cell_type": "code",
   "execution_count": null,
   "id": "7881f8af-2f5e-4144-8e1d-34ab90903c59",
   "metadata": {
    "tags": []
   },
   "outputs": [],
   "source": [
    "fig, ax=plt.subplots(1,dpi=175, figsize=(10,5))\n",
    "ax2=ax.twinx()\n",
    "for i in np.arange(0,6):\n",
    "    ax.scatter(Time(hpmf[\"snd_timestamp_utc\"],format=\"unix\").datetime, \n",
    "               hpmf[f\"measuredForce{i}\"], s=0.05, zorder=10, label=f\"measuredForce{i}\")\n",
    "    #ax.plot(Time(hpmf[\"snd_timestamp_utc\"],hpmf[f\"measuredForce{i}\"] )\n",
    "l3=ax2.plot(Time(el[\"snd_timestamp_utc\"],format=\"unix\").datetime , el[\"actualPosition\"], color=\"tab:orange\", zorder=1, label=\"elevation\")\n",
    "\n",
    "for k, j in enumerate(overall_frame[\"times\"][overall_frame[\"slew_state\"] == True]):\n",
    "    l2=plt.axvline(Time(j, format=\"unix\").datetime, ls=\"dashed\", c=\"k\", label=\"oscillation\")\n",
    "    if k==0:\n",
    "        ax2.legend()\n",
    "# for j in peak_dict[\"slew_peaks\"]:\n",
    "#     plt.axvline(Time(j, format=\"unix\").datetime, ls=\"dashed\", c=\"r\")\n",
    "# #ax2.step(el_axis_motion_state.index, el_axis_motion_state[\"state\"], where=\"post\", ls=\"dashed\", c=\"k\")\n",
    "#ax.set_yscale('log')\n",
    "ax.legend()\n",
    "ax.set_xlabel(\"time\")\n",
    "ax.set_ylabel(\"measured force\")"
   ]
  },
  {
   "cell_type": "code",
   "execution_count": null,
   "id": "c1b74b3e-af16-4c57-8292-d5dc055447c5",
   "metadata": {
    "tags": []
   },
   "outputs": [],
   "source": [
    "fig, ax=plt.subplots(1,dpi=175, figsize=(10,5))\n",
    "ax2=ax.twinx()\n",
    "ax.scatter(Time(el[\"snd_timestamp_utc\"],format=\"unix\").datetime , el[\"actualVelocity\"], color=\"tab:orange\", s=0.08, zorder=1)\n",
    "\n",
    "ax2.scatter(Time(el[\"snd_timestamp_utc\"],format=\"unix\").datetime , el[\"actualPosition\"], color=\"tab:blue\", s=0.08, zorder=1)\n",
    "for j in overall_frame[\"times\"][overall_frame[\"slew_state\"] ==True ]:\n",
    "    ax.axvline(Time(j, format=\"unix\").datetime, ls=\"dashed\", c=\"k\")"
   ]
  },
  {
   "cell_type": "code",
   "execution_count": null,
   "id": "723e6247-bff1-4483-a407-f3b6085daff8",
   "metadata": {},
   "outputs": [],
   "source": []
  }
 ],
 "metadata": {
  "kernelspec": {
   "display_name": "LSST",
   "language": "python",
   "name": "lsst"
  },
  "language_info": {
   "codemirror_mode": {
    "name": "ipython",
    "version": 3
   },
   "file_extension": ".py",
   "mimetype": "text/x-python",
   "name": "python",
   "nbconvert_exporter": "python",
   "pygments_lexer": "ipython3",
   "version": "3.10.10"
  }
 },
 "nbformat": 4,
 "nbformat_minor": 5
}
