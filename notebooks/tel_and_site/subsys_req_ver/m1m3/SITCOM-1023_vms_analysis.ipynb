{
 "cells": [
  {
   "cell_type": "code",
   "execution_count": null,
   "id": "c8799582-f047-4389-91fb-e66295a3be9a",
   "metadata": {
    "tags": []
   },
   "outputs": [],
   "source": [
    "import sys, time, os, asyncio\n",
    "import scipy.stats as stats\n",
    "from scipy.signal import find_peaks\n",
    "from scipy import signal\n",
    "import h5py\n",
    "import numpy as np\n",
    "import pandas as pd\n",
    "import matplotlib.pyplot as plt\n",
    "from astropy.time import Time\n",
    "from lsst.summit.utils.tmaUtils import TMAEventMaker, TMAState\n",
    "from lsst.summit.utils.efdUtils import getEfdData, makeEfdClient, clipDataToEvent, calcNextDay\n",
    "%matplotlib inline\n",
    "%load_ext autoreload\n",
    "%autoreload 2\n"
   ]
  },
  {
   "cell_type": "code",
   "execution_count": null,
   "id": "aa4d64e0-7f1a-4e77-83d7-8c70b492cbb0",
   "metadata": {
    "tags": []
   },
   "outputs": [],
   "source": [
    "def get_freq_psd(vals, timestep):\n",
    "\n",
    "    \"\"\"\n",
    "    Calculates the frequency power spectrum of a signal.\n",
    "\n",
    "    Args:\n",
    "        vals (np.array): The signal values.\n",
    "        timestep (float): The time step between samples.\n",
    "\n",
    "    Returns:\n",
    "        tuple: The frequencies and power spectral density.\n",
    "    \"\"\"\n",
    "\n",
    "    # Remove the mean from the signal.\n",
    "\n",
    "    meanval = np.mean(vals)\n",
    "    signal = vals - meanval\n",
    "\n",
    "    # Calculate the length of the signal.\n",
    "\n",
    "    N = len(signal)\n",
    "\n",
    "    # Calculate the power spectral density.\n",
    "\n",
    "    psd = np.abs(np.fft.rfft(np.array(signal) * 1)) ** 2\n",
    "\n",
    "    # Calculate the frequencies.\n",
    "\n",
    "    frequencies = np.fft.rfftfreq(N, timestep)\n",
    "\n",
    "    return (frequencies, psd)\n",
    "\n",
    "def get_efd_data(begin, end, client):\n",
    "\n",
    "    \"\"\"Extract all the MTMount data from the EFD and add to dict.\n",
    "\n",
    "    Args:\n",
    "        begin (str): The start time of the query.\n",
    "        end (str): The end time of the query.\n",
    "        client (object): influx client\n",
    "\n",
    "    Returns:\n",
    "        dict: A dictionary containing the MTMount data.\n",
    "    \"\"\"\n",
    "\n",
    "    query_dict = {}\n",
    "\n",
    "    query_dict[\"el\"] = getEfdData(\n",
    "        client,\n",
    "        \"lsst.sal.MTMount.elevation\",\n",
    "        columns=[\"private_sndStamp\", \"private_efdStamp\", \"actualPosition\", \"actualVelocity\", \"actualTorque\"],\n",
    "        begin=begin,\n",
    "        end=end,\n",
    "        prePadding=0,\n",
    "        postPadding=0,\n",
    "        warn=False,\n",
    "    )\n",
    "    query_dict[\"az\"] = getEfdData(\n",
    "        client,\n",
    "        \"lsst.sal.MTMount.azimuth\",\n",
    "        columns=[\"private_sndStamp\", \"private_efdStamp\", \"actualPosition\", \"actualVelocity\", \"actualTorque\"],\n",
    "        begin=begin,\n",
    "        end=end,\n",
    "        prePadding=0,\n",
    "        postPadding=0,\n",
    "        warn=False,\n",
    "    )\n",
    "    return query_dict\n",
    "\n",
    "def get_vms_data(filename, begin_time, end_time):\n",
    "\n",
    "    \"\"\"Extract VMS data from a HDF5 file.\n",
    "\n",
    "    Args:\n",
    "        filename (str): The path to the HDF5 file.\n",
    "        begin_time (float): The start time of the query (unix, utc).\n",
    "        end_time (float): The end time of the query (unix, utc).\n",
    "\n",
    "    Returns:\n",
    "        pd.DataFrame: A Pandas DataFrame containing the VMS data.\n",
    "    \"\"\"\n",
    "\n",
    "    f = h5py.File(filename, 'r')\n",
    "    times = f['timestamp'][::1]\n",
    "    mkeys = [1, 2, 3]\n",
    "    dkeys = 'XYZ'\n",
    "    sel = (times > begin_time) & (times < end_time)\n",
    "    data_dict = {}\n",
    "    data_dict['times'] = times[sel]  \n",
    "    for i, m in enumerate(mkeys):\n",
    "        for j, d in enumerate(dkeys):\n",
    "            key = f'{m} {d}'\n",
    "            data_dict[key_dict[key]] = f[key][::1][sel]\n",
    "    data_frame = pd.DataFrame(data_dict)\n",
    "    return data_frame"
   ]
  },
  {
   "cell_type": "code",
   "execution_count": null,
   "id": "f304fcb3-3700-4f53-b50f-0a3516acfff5",
   "metadata": {
    "tags": []
   },
   "outputs": [],
   "source": [
    "key_dict={'1 X': 'm1m3_x', \n",
    "          '1 Y': 'm1m3_y', \n",
    "          '1 Z': 'm1m3_z', \n",
    "          '2 X': 'm2_x', \n",
    "          '2 Y': 'm2_y', \n",
    "          '2 Z': 'm2_z', \n",
    "          '3 X': 'cr_x', \n",
    "          '3 Y': 'cr_y', \n",
    "          '3 Z': 'cr_z'\n",
    "}\n",
    "vms_filename=\"/home/p/pferguso/u/scratch/M1M3-2023-06-28T0000.hdf\""
   ]
  },
  {
   "cell_type": "markdown",
   "id": "021e4b41-7c5d-4480-9211-f2562bc4a4d2",
   "metadata": {},
   "source": [
    "### setup tma events\n",
    "\n",
    "For this test we wanted, force balance on, mirror raised, and no slew\n",
    "for the time range '2023-06-28 00:13:30'- '2023-06-28 00:15:00'\n",
    "\n",
    "- assuming \"lsst.sal.MTM1M3.appliedBalanceForces\" being nonzero means the force balance is on then: https://usdf-rsp.slac.stanford.edu/chronograf/sources/1/chronograf/data-explorer?query=SELECT%20%22fx%22%2C%20%22fy%22%2C%20%22fz%22%20FROM%20%22efd%22.%22autogen%22.%22lsst.sal.MTM1M3.appliedBalanceForces%22%20WHERE%20time%20%3E%20%3AdashboardTime%3A%20AND%20time%20%3C%20%3AupperDashboardTime%3A#\n",
    "- mirror was raised at 06/27/2023 19:39:10 and not lowered according to \"lsst.sal.MTM1M3.command_raiseM1M3\"\n",
    "- telescope was between slews\n",
    "  "
   ]
  },
  {
   "cell_type": "code",
   "execution_count": null,
   "id": "6abd0c6b-841a-4bdb-ae53-39c48825a778",
   "metadata": {
    "tags": []
   },
   "outputs": [],
   "source": [
    "dayObs=20230628\n",
    "eventMaker = TMAEventMaker()\n",
    "events = eventMaker.getEvents(dayObs)\n",
    "slews=[e for e in events if e.type==TMAState.SLEWING]"
   ]
  },
  {
   "cell_type": "markdown",
   "id": "a0f65cde-ec61-45bd-bdd2-20fb79560b66",
   "metadata": {},
   "source": [
    "### query data"
   ]
  },
  {
   "cell_type": "code",
   "execution_count": null,
   "id": "177723f9-f1fe-4637-ab4d-29aff76be100",
   "metadata": {
    "tags": []
   },
   "outputs": [],
   "source": [
    "begin_time=Time('2023-06-28 00:13:30', format=\"iso\", scale=\"utc\")\n",
    "end_time=Time('2023-06-28 00:15:00', format=\"iso\", scale=\"utc\")\n",
    "efd_dict=get_efd_data(begin_time, end_time, eventMaker.client)\n",
    "vms_data=get_vms_data(vms_filename, begin_time.unix, end_time.unix)"
   ]
  },
  {
   "cell_type": "markdown",
   "id": "18c6acc2-2e2a-4c98-b507-1ef4fb6aa905",
   "metadata": {
    "execution": {
     "iopub.execute_input": "2023-08-31T00:19:22.529466Z",
     "iopub.status.busy": "2023-08-31T00:19:22.529104Z",
     "iopub.status.idle": "2023-08-31T00:19:23.853646Z",
     "shell.execute_reply": "2023-08-31T00:19:23.852789Z",
     "shell.execute_reply.started": "2023-08-31T00:19:22.529440Z"
    },
    "tags": []
   },
   "source": [
    "### Plots\n",
    " - First plot is just plotting the vms data (and elevation telemetry)\n",
    " - second plot is spectrograms of the vms data\n",
    " - third plot a psd of all the vms data"
   ]
  },
  {
   "cell_type": "code",
   "execution_count": null,
   "id": "2378942d-99ad-4e38-ba78-cf5199d349ae",
   "metadata": {
    "tags": []
   },
   "outputs": [],
   "source": [
    "fig, ax=plt.subplots(2, dpi=175, sharex=True, figsize=(10,5))\n",
    "plt.suptitle(f\"{begin_time.iso[:10]} {begin_time.iso[11:19]}-{end_time.iso[11:19]}\\nForce Balance on, mirror raised, not slewing\", y=0.97)\n",
    "# ax[0].plot((Time(efd_dict[\"el\"][\"private_sndStamp\"], format=\"unix_tai\", scale=\"utc\")- begin_time).sec,\n",
    "#            efd_dict[\"el\"][\"actualVelocity\"],\n",
    "#            color=\"tab:blue\", label=\"actualVelocity\")\n",
    "# ax[0].legend(edgecolor=\"white\", loc=1)\n",
    "# ax[0].set_ylabel(\"el Velocity [deg/s]\")\n",
    "\n",
    "# ax2=ax[0].twinx()\n",
    "# ax2.plot((Time(efd_dict[\"el\"][\"private_sndStamp\"], format=\"unix_tai\", scale=\"utc\")- begin_time).sec,\n",
    "#          efd_dict[\"el\"][\"actualPosition\"],\n",
    "#          color=\"tab:orange\", label=\"actualPosition\")\n",
    "# ax2.legend(edgecolor=\"white\", loc=2)\n",
    "# ax2.set_ylabel(\"el Torque [Nm]\")\n",
    "\n",
    "ax[0].plot((Time(vms_data[\"times\"], format=\"unix\")- begin_time).sec, \n",
    "           vms_data[\"m1m3_x\"],\n",
    "           label=\"m1m3_x\")\n",
    "ax[0].plot((Time(vms_data[\"times\"], format=\"unix\")- begin_time).sec, \n",
    "           vms_data[\"m1m3_y\"] - 0.002,\n",
    "           label=\"m1m3_y\")\n",
    "ax[0].plot((Time(vms_data[\"times\"], format=\"unix\")- begin_time).sec, \n",
    "           vms_data[\"m1m3_z\"] - 0.004,\n",
    "           label=\"m1m3_z\"\n",
    "          \n",
    "          )\n",
    "ax[0].legend(ncol=3, edgecolor=\"white\", loc=9)\n",
    "ax[0].set_ylabel(\"m1m3\\nacceleration [m/s^2]\")\n",
    "ax[0].set_ylim(-0.005,0.002)\n",
    "\n",
    "ax[1].plot((Time(vms_data[\"times\"], format=\"unix\")- begin_time).sec, \n",
    "           vms_data[\"m2_x\"],\n",
    "           label=\"m2_x\")\n",
    "ax[1].plot((Time(vms_data[\"times\"], format=\"unix\")- begin_time).sec, \n",
    "           vms_data[\"m2_y\"] - 0.002,\n",
    "           label=\"m2_y\")\n",
    "ax[1].plot((Time(vms_data[\"times\"], format=\"unix\")- begin_time).sec, \n",
    "           vms_data[\"m2_z\"] - 0.004,\n",
    "           label=\"m2_z\"\n",
    "          \n",
    "          )\n",
    "ax[1].legend()\n",
    "ax[1].set_ylabel(\"m2\\nacceleration [m/s^2]\")\n",
    "ax[1].legend(ncol=3, edgecolor=\"white\", loc=9)\n",
    "ax[1].set_ylim(-0.005,0.002)\n",
    "plt.subplots_adjust(hspace=0)\n",
    "#plt.savefig(\"./efd_and_vms.png\", facecolor=\"white\")"
   ]
  },
  {
   "cell_type": "code",
   "execution_count": null,
   "id": "0b0fbcc1-47ce-4a1c-83a8-1303e7e74796",
   "metadata": {
    "tags": []
   },
   "outputs": [],
   "source": [
    "fs=1/np.mean(np.diff(vms_data[\"times\"]))\n",
    "fig,axs=plt.subplots(6, dpi=175, figsize=(10,10), sharex=True)\n",
    "plt.suptitle(f\"{begin_time.iso[:10]} {begin_time.iso[11:19]}-{end_time.iso[11:19]}\\nForce Balance on, mirror raised\", y=0.92)\n",
    "for i,key in enumerate([i for i in key_dict.values() if (\"m1m3\" in i) or (\"m2\" in i)]):\n",
    "    ax=axs[i]\n",
    "    ax.specgram(vms_data[key], Fs=fs, detrend=\"mean\", vmin=-110)\n",
    "    ax.set_ylabel(key)\n",
    "    ax.set_yticks(np.arange(25,125,25))\n",
    "\n",
    "ax.set_xlabel(\"Time since slew start\")\n",
    "plt.subplots_adjust(hspace=0.05)\n",
    "fig.text(0.04, 0.5, 'Frequency [HZ]', va='center', rotation='vertical', fontsize=18)\n",
    "plt.savefig(\"./spectrogram_vms.png\", facecolor=\"white\")"
   ]
  },
  {
   "cell_type": "code",
   "execution_count": null,
   "id": "e2a1d878-11e9-4b45-a851-e21120c96153",
   "metadata": {
    "tags": []
   },
   "outputs": [],
   "source": [
    "def get_peak_points(freq, psd):\n",
    "\n",
    "    peaks=freq[find_peaks(psd, height=0.01)[0]]\n",
    "    if len(peaks) < 1:\n",
    "        return None\n",
    "    points=[peaks[0]]\n",
    "    for i, diff in enumerate(np.diff(peaks)):\n",
    "        if diff > 1:\n",
    "            points.append(peaks[i+1])\n",
    "    return np.array(points)"
   ]
  },
  {
   "cell_type": "code",
   "execution_count": null,
   "id": "09a31ba2-5f4c-483b-8d70-7f85f27a603e",
   "metadata": {
    "tags": []
   },
   "outputs": [],
   "source": [
    "plt.figure(dpi=175)\n",
    "plt.suptitle(f\"{begin_time.iso[:10]} {begin_time.iso[11:19]}-{end_time.iso[11:19]}\\nForce Balance on, mirror raised, not slewing\", y=0.97)\n",
    "step=0.1\n",
    "for i,key in enumerate([i for i in key_dict.values() if (\"m1m3\" in i) or (\"m2\" in i)]):\n",
    "    \n",
    "    freq,psd=get_freq_psd(vms_data[key], np.mean(np.diff(vms_data[\"times\"])))\n",
    "    points_x=get_peak_points(freq, psd)\n",
    "    if points_x is not None:\n",
    "        points_y=np.ones_like(points_x) * i * step * -1\n",
    "        print(f\"{key}: {str([int(i) for i in points_x])[1:-1]} Hz\")\n",
    "    else: \n",
    "        print(f\"{key} no peaks\")\n",
    "    #plt.scatter(points_x, points_y, c=\"red\")\n",
    "    if key==\"m2_x\":\n",
    "        plt.plot(freq,psd - i * step, label=key, zorder=1)\n",
    "    else:\n",
    "        plt.plot(freq,psd - i * step, label=key, zorder=9)\n",
    "plt.legend(ncol=3, edgecolor=\"k\", facecolor=\"white\", loc=9, framealpha=1)\n",
    "plt.ylim(-0.05 - i * step, 0.2)\n",
    "plt.xlabel(\"frequency [Hz]\")\n",
    "plt.ylabel(\"psd + offset\")\n",
    "plt.grid(visible=True, axis=\"x\", ls=\"dashed\", alpha=0.4)\n",
    "plt.xticks(np.arange(0,110,10))\n",
    "plt.savefig(\"./psd_vms.png\", facecolor=\"white\")"
   ]
  }
 ],
 "metadata": {
  "kernelspec": {
   "display_name": "LSST",
   "language": "python",
   "name": "lsst"
  },
  "language_info": {
   "codemirror_mode": {
    "name": "ipython",
    "version": 3
   },
   "file_extension": ".py",
   "mimetype": "text/x-python",
   "name": "python",
   "nbconvert_exporter": "python",
   "pygments_lexer": "ipython3",
   "version": "3.11.4"
  }
 },
 "nbformat": 4,
 "nbformat_minor": 5
}
