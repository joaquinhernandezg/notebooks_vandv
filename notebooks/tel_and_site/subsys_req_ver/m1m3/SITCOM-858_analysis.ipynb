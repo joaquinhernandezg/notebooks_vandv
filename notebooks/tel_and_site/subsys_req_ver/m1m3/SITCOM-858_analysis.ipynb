{
 "cells": [
  {
   "cell_type": "markdown",
   "id": "3a8f0152-204e-47c0-9ab8-566fc6ab66d3",
   "metadata": {},
   "source": [
    "# M1M3 LUT Verification\n",
    "\n",
    "We need to verify that M1M3 is applying the correct force balances in different stages of the tests. Part of this verification includes comparing the calculated elevation forces from the Elevation Look-Up Tables with the applied forces.  Remember that comparing this values with the applied forces only if the balance forces are turned off.   \n",
    "\n",
    "## Notebook Setup\n",
    "\n",
    "Setup input variables, import extensions and packages."
   ]
  },
  {
   "cell_type": "code",
   "execution_count": null,
   "id": "b4882f72-6df7-45af-ab4d-8026eb8e1161",
   "metadata": {
    "tags": []
   },
   "outputs": [],
   "source": [
    "elevation_angle = 45."
   ]
  },
  {
   "cell_type": "code",
   "execution_count": null,
   "id": "4cc3e86e-c148-4ac4-8a28-c5b2f4acf7e8",
   "metadata": {
    "tags": []
   },
   "outputs": [],
   "source": [
    "%matplotlib inline\n",
    "%load_ext autoreload\n",
    "%autoreload 2"
   ]
  },
  {
   "cell_type": "code",
   "execution_count": null,
   "id": "412e656e-714b-48e3-aff1-ceb25574e8a3",
   "metadata": {
    "tags": []
   },
   "outputs": [],
   "source": [
    "import matplotlib.pyplot as plt\n",
    "import numpy as np\n",
    "import pandas as pd\n",
    "\n",
    "from pathlib import Path\n",
    "\n",
    "from lsst.ts.cRIOpy import M1M3FATable\n",
    "from lsst.sitcom import vandv"
   ]
  },
  {
   "cell_type": "markdown",
   "id": "e8bc34f1-97c7-43b8-9e1a-d41a42dbef99",
   "metadata": {},
   "source": [
    "## Calculate Elevation Forces "
   ]
  },
  {
   "cell_type": "code",
   "execution_count": null,
   "id": "9b6d6f4f-4366-4699-87f8-855dca11f241",
   "metadata": {
    "tags": []
   },
   "outputs": [],
   "source": [
    "fat = np.array(M1M3FATable.FATABLE)\n",
    "ids = fat[:, M1M3FATable.FATABLE_ID]\n",
    "\n",
    "\n",
    "# Create a Series emulating data format from the EFD\n",
    "lut_elevation_x_forces = pd.Series(\n",
    "    data=vandv.m1m3.lut_elevation_xforces(elevation_angle), \n",
    "    index=[f\"xForces{i}\" for i in range(ids.size)],\n",
    ")\n",
    "\n",
    "lut_elevation_y_forces = pd.Series(\n",
    "    data=vandv.m1m3.lut_elevation_yforces(elevation_angle), \n",
    "    index=[f\"yForces{i}\" for i in range(ids.size)],\n",
    ")\n",
    "\n",
    "lut_elevation_z_forces = pd.Series(\n",
    "    data=vandv.m1m3.lut_elevation_zforces(elevation_angle), \n",
    "    index=[f\"zForces{i}\" for i in range(ids.size)],\n",
    ")"
   ]
  },
  {
   "cell_type": "markdown",
   "id": "1daf82d8-db3b-4c43-aabc-4879b7d91b33",
   "metadata": {},
   "source": [
    "The LUT Elevation X forces should be all zero. "
   ]
  },
  {
   "cell_type": "code",
   "execution_count": null,
   "id": "a67b5648-3ab8-4695-a79a-c0ee1c12de2b",
   "metadata": {
    "tags": []
   },
   "outputs": [],
   "source": [
    "lut_elevation_x_forces.sum()"
   ]
  },
  {
   "cell_type": "markdown",
   "id": "d3b85a79-cdff-4bd4-a593-4a7b4288af4c",
   "metadata": {},
   "source": [
    "## Display Elevation Forces"
   ]
  },
  {
   "cell_type": "code",
   "execution_count": null,
   "id": "b9e9787b-6672-49bc-ad11-7e35b7ff9e9e",
   "metadata": {
    "tags": []
   },
   "outputs": [],
   "source": [
    "fig, axs = plt.subplots(\n",
    "    num=\"Elevation Forces from Look-Up Table\",\n",
    "    nrows=2,\n",
    "    figsize=(6, 12),\n",
    "    dpi=260\n",
    ")\n",
    "\n",
    "vandv.m1m3.snapshot_zforces_overview(axs[0], lut_elevation_y_forces, prefix=\"yForces\")\n",
    "vandv.m1m3.snapshot_zforces_overview(axs[1], lut_elevation_z_forces, prefix=\"zForces\")\n",
    "\n",
    "plt.show()"
   ]
  },
  {
   "cell_type": "code",
   "execution_count": null,
   "id": "a48b991b-33ba-4f44-8d83-8c275e6dca03",
   "metadata": {},
   "outputs": [],
   "source": []
  }
 ],
 "metadata": {
  "kernelspec": {
   "display_name": "LSST",
   "language": "python",
   "name": "lsst"
  },
  "language_info": {
   "codemirror_mode": {
    "name": "ipython",
    "version": 3
   },
   "file_extension": ".py",
   "mimetype": "text/x-python",
   "name": "python",
   "nbconvert_exporter": "python",
   "pygments_lexer": "ipython3",
   "version": "3.10.10"
  }
 },
 "nbformat": 4,
 "nbformat_minor": 5
}
