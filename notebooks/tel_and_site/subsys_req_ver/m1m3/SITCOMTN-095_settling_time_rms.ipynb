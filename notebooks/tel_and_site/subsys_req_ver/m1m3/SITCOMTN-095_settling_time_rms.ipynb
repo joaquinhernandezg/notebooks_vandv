{
 "cells": [
  {
   "cell_type": "markdown",
   "id": "7c235e45-d932-432a-b473-f72774f97a37",
   "metadata": {},
   "source": [
    "# Settling Time After a Slew \n",
    "# (RMS exceed method)\n",
    "\n",
    "This notebook will return a settling time. \n",
    "\n",
    "Method: We will measure the RMS of the displacement values with respect to a long term value of positions and rotations measured by the IMS at M1M3 which shouldn't exceed the IMS repeatability error in 1 sec time range after the slew stop. We will determine the \"settle\" to be the point after the last point that exceeds RMS limit.\n",
    "\n",
    "[LVV-T11258]: https://jira.lsstcorp.org/browse/LVV-11258\n",
    "\n",
    "### Prepare Notebook"
   ]
  },
  {
   "cell_type": "code",
   "execution_count": null,
   "id": "9627519e-ef49-41c5-9085-1a7373e7b3c0",
   "metadata": {
    "tags": []
   },
   "outputs": [],
   "source": [
    "%matplotlib inline\n",
    "%load_ext autoreload\n",
    "%autoreload 2\n",
    "%load_ext lab_black"
   ]
  },
  {
   "cell_type": "code",
   "execution_count": null,
   "id": "c3d229f3-648a-4ee3-ac70-8e22bd90e53e",
   "metadata": {
    "tags": []
   },
   "outputs": [],
   "source": [
    "import pandas as pd\n",
    "import matplotlib.pyplot as plt\n",
    "import numpy as np\n",
    "\n",
    "from astropy.time import Time, TimezoneInfo\n",
    "from scipy import stats\n",
    "\n",
    "from lsst.summit.utils.tmaUtils import TMAEventMaker, TMAState\n",
    "from lsst.summit.utils.efdUtils import getEfdData, makeEfdClient\n",
    "from lsst.summit.utils.blockUtils import BlockParser\n",
    "\n",
    "import warnings\n",
    "\n",
    "warnings.filterwarnings(\"ignore\")"
   ]
  },
  {
   "cell_type": "code",
   "execution_count": null,
   "id": "6fa49a3c-6c77-4d44-939f-b713b1e5ca76",
   "metadata": {
    "tags": []
   },
   "outputs": [],
   "source": [
    "# create a client to retrieve datasets in the EFD database\n",
    "client = makeEfdClient()"
   ]
  },
  {
   "cell_type": "markdown",
   "id": "72fdf187-0dbb-477c-a8dc-6749a9f8c9f8",
   "metadata": {
    "execution": {
     "iopub.execute_input": "2023-11-17T19:22:33.405869Z",
     "iopub.status.busy": "2023-11-17T19:22:33.405680Z",
     "iopub.status.idle": "2023-11-17T19:22:33.440556Z",
     "shell.execute_reply": "2023-11-17T19:22:33.440146Z",
     "shell.execute_reply.started": "2023-11-17T19:22:33.405856Z"
    },
    "tags": []
   },
   "source": [
    "### Define relevant settings"
   ]
  },
  {
   "cell_type": "markdown",
   "id": "ea96e058-b78e-46cf-8091-5b2317e58b99",
   "metadata": {},
   "source": [
    "#### Requirements"
   ]
  },
  {
   "cell_type": "code",
   "execution_count": null,
   "id": "044913db-6728-4b3e-a090-0425f7eb2737",
   "metadata": {
    "tags": []
   },
   "outputs": [],
   "source": [
    "req_delta_t = 1.0  ## seconds after slew\n",
    "req_rms_position = (\n",
    "    2e-3  ## mm, tolerance from repeatability requirement for IMS positional\n",
    ")\n",
    "req_rms_rotation = (\n",
    "    3e-5  ## degrees, tolerance from repeatability requirement for IMS rotational\n",
    ")"
   ]
  },
  {
   "cell_type": "markdown",
   "id": "5a56db2c-4172-46db-9155-3ff63fcbc5b9",
   "metadata": {},
   "source": [
    "#### Observation day"
   ]
  },
  {
   "cell_type": "code",
   "execution_count": null,
   "id": "beda404b-dea9-49ba-9544-be6cbf635a63",
   "metadata": {
    "tags": []
   },
   "outputs": [],
   "source": [
    "## Insert here the dayObs of interest\n",
    "dayObs = 20231129  # 20231122"
   ]
  },
  {
   "cell_type": "markdown",
   "id": "e2f8366b-5a40-4689-9e01-b211f3aa09ed",
   "metadata": {},
   "source": [
    "#### Reference time (padding after slew)"
   ]
  },
  {
   "cell_type": "code",
   "execution_count": null,
   "id": "b7562462-a221-4f69-966b-0f00366b8968",
   "metadata": {
    "tags": []
   },
   "outputs": [],
   "source": [
    "# define time padding after end of slew\n",
    "postPadding = 15  # in seconds, integration time will be 30 s"
   ]
  },
  {
   "cell_type": "markdown",
   "id": "18e9366f-669d-4bc9-9a37-6123ca03020b",
   "metadata": {
    "tags": []
   },
   "source": [
    "#### Define column names"
   ]
  },
  {
   "cell_type": "code",
   "execution_count": null,
   "id": "463c0894-10ba-4d9a-93c0-184577716beb",
   "metadata": {
    "tags": []
   },
   "outputs": [],
   "source": [
    "## Define column names\n",
    "all_columns = [\n",
    "    \"xPosition\",\n",
    "    \"yPosition\",\n",
    "    \"zPosition\",\n",
    "    \"xRotation\",\n",
    "    \"yRotation\",\n",
    "    \"zRotation\",\n",
    "]\n",
    "pos_columns = [c for c in all_columns if \"Position\" in c]\n",
    "rot_columns = [c for c in all_columns if \"Rotation\" in c]"
   ]
  },
  {
   "cell_type": "markdown",
   "id": "58085fea-42ff-43f0-89be-f3a2a1101b42",
   "metadata": {
    "tags": []
   },
   "source": [
    "### Define functions"
   ]
  },
  {
   "cell_type": "markdown",
   "id": "3fa00725-5bff-4894-9892-d67e1368af60",
   "metadata": {
    "tags": []
   },
   "source": [
    "#### measure settling time\n",
    "\n"
   ]
  },
  {
   "cell_type": "code",
   "execution_count": null,
   "id": "35fca784-3adb-4636-a81a-3f305ca492c5",
   "metadata": {
    "tags": []
   },
   "outputs": [],
   "source": [
    "def computeSettleTime(\n",
    "    df_ims,  # input data frame\n",
    "    referenceTime=\"2023-06-01T06:00:0Z\",  # time for slew stop\n",
    "    lo_delta_t=5,  # in seconds\n",
    "    hi_delta_t=30,  # in seconds\n",
    "    imsColumn=\"xPosition\",  # IMS column\n",
    "    rmsReq=2e-3,  # requirement in appropriate units\n",
    "    req_delta_t=3,\n",
    "):  # time for settling, in seconds\n",
    "    # repeatability requirements are 2 microns in position and 30 microdegs in rotation\n",
    "    if \"Position\" in imsColumn:\n",
    "        units = \"mm\"\n",
    "        print(\"rmsReq=%e\" % rmsReq)\n",
    "        ylimMax = rmsReq + 0.001\n",
    "    elif \"Rotation\" in imsColumn:\n",
    "        units = \"deg\"\n",
    "        print(\"rmsReq=%e\" % rmsReq)\n",
    "        ylimMax = rmsReq + 0.00001\n",
    "    else:\n",
    "        print(\"Unidentified column\")\n",
    "        return -1\n",
    "\n",
    "    # T0 and T1 defines the window for requirement to be met\n",
    "    T0 = pd.to_datetime(referenceTime)\n",
    "    T1 = T0 + pd.to_timedelta(req_delta_t, unit=\"s\")\n",
    "\n",
    "    # delta_window is the time window for plot and reference for mean, before and after T0\n",
    "    delta_window = [\n",
    "        pd.Timedelta(lo_delta_t, \"seconds\"),\n",
    "        pd.Timedelta(hi_delta_t, \"seconds\"),\n",
    "    ]\n",
    "    # zoom around the T0 of interest\n",
    "    TZoom = [T0 - delta_window[0], T0 + delta_window[1]]\n",
    "\n",
    "    targetVariablePlot = df_ims[imsColumn][TZoom[0] : TZoom[1]]  # complete plot range\n",
    "    targetVariableWindow = df_ims[imsColumn][\n",
    "        T0:T1\n",
    "    ]  # from slew stop to end of req. window\n",
    "    idxT0 = df_ims.index[\n",
    "        df_ims.index.get_indexer([pd.to_datetime(T0)], method=\"nearest\")\n",
    "    ]\n",
    "    idxT1 = df_ims.index[\n",
    "        df_ims.index.get_indexer([pd.to_datetime(T1)], method=\"nearest\")\n",
    "    ]\n",
    "    idxTend = df_ims.index[\n",
    "        df_ims.index.get_indexer(\n",
    "            [pd.to_datetime(T0 + delta_window[1])], method=\"nearest\"\n",
    "        )\n",
    "    ]\n",
    "    targetVariableReference = [\n",
    "        df_ims[imsColumn][idxT0],\n",
    "        float(df_ims[imsColumn][idxTend]),\n",
    "    ]\n",
    "    # at slew stop and end of plot\n",
    "    # print('At T1',df_ims[imsColumn][idxT1].get_indexer())\n",
    "\n",
    "    if len(targetVariablePlot.index) == 0:\n",
    "        print(\"Data frame is empty\")\n",
    "        return -1\n",
    "\n",
    "    # rms of difference wrt to end of plot, of values within requirement in window\n",
    "    # it is important that the end of the plot (targetVariableReference) does not hit another\n",
    "    # slew or movement, nor at any point in the middle of the window\n",
    "    rms = np.std(targetVariableWindow - targetVariableReference[1])\n",
    "\n",
    "    title = imsColumn\n",
    "    label = imsColumn + \"(\" + units + \") wrt value at slew stop\"\n",
    "\n",
    "    fig = plt.figure()\n",
    "    plt.plot(\n",
    "        targetVariablePlot - targetVariableReference[0][0],\n",
    "        color=\"red\",\n",
    "        lw=\"0.5\",\n",
    "        label=label,\n",
    "    )\n",
    "    plt.axvline(T0, lw=\"1.25\", c=\"k\", ls=\"dashed\", label=\"Slew stop\")\n",
    "    plt.axhline(-rmsReq, lw=\"0.75\", c=\"k\", ls=\"dashed\", label=\"IMS repeatability req.\")\n",
    "    plt.axhline(rmsReq, lw=\"0.75\", c=\"k\", ls=\"dashed\")\n",
    "    plt.xlabel(\"Time [UTC]\")\n",
    "    plt.ylabel(label)\n",
    "\n",
    "    fig.autofmt_xdate()\n",
    "    fig.tight_layout()\n",
    "\n",
    "    ## recomputing RMS for the whole range since T0\n",
    "    rolling = 20\n",
    "    time_array = df_ims.index\n",
    "    slew_stop = Time(referenceTime).unix\n",
    "    iT0 = np.argmin(np.abs((Time(time_array).unix) - slew_stop))\n",
    "    iT1 = np.argmin(np.abs((Time(time_array).unix) - (Time(time_array).unix[iT0] + 1)))\n",
    "    targetVariable = df_ims[imsColumn][iT0:-1]\n",
    "    rms = (targetVariable - targetVariableReference[1]).rolling(rolling).std()\n",
    "    plt.plot(rms, label=\"RMS wrt value at the end of plot,\\n from slew stop\")\n",
    "    plt.axvspan(T0, T1, alpha=0.5, color=\"green\", label=\"1s tolerance window\")\n",
    "    # print(rms)\n",
    "    # rms = rms.dropna()\n",
    "    k = [index for index, x in enumerate(rms) if np.abs(x) >= rmsReq]\n",
    "    if all(x < rmsReq for x in rms[iT1 - iT0 : -1]):\n",
    "        if k == []:\n",
    "            settleTime = 0\n",
    "            k = [0]\n",
    "            print(\"Settling time = 0 sec: Already settled at slew stop\")\n",
    "        else:\n",
    "            settleTime = time_array[iT0 + k[-1]] - time_array[iT1]\n",
    "            settleTime = settleTime.seconds\n",
    "            print(\"settling_time=%.3f sec\" % (settleTime))\n",
    "        print(\"Test PASSED\")\n",
    "    else:\n",
    "        settleTime = time_array[iT0 + k[-1]] - time_array[iT1]\n",
    "        settleTime = settleTime.total_seconds() * 1000\n",
    "        print(\"settling_time=%.3f sec\" % (settleTime / 1000))\n",
    "        print(\"Test FAILED\")\n",
    "\n",
    "    settled_time = time_array[iT0 + k[-1]].strftime(\"%H:%M:%S.%f\")\n",
    "    plt.axvline(time_array[iT1], lw=\"1\", c=\"r\", ls=\"--\", label=\"settling time limit\")\n",
    "    plt.axvline(time_array[iT0 + k[-1]], lw=\"1.25\", c=\"b\", ls=\"-\", label=\"Settled\")\n",
    "\n",
    "    plt.title(\"settling_time=%.3f sec\" % (settleTime / 1000))\n",
    "    plt.legend(loc=\"upper right\", fontsize=\"8\")\n",
    "\n",
    "    fig = plt.figure()"
   ]
  },
  {
   "cell_type": "markdown",
   "id": "c741d971-c0c5-48eb-b99d-553650ccc406",
   "metadata": {
    "tags": []
   },
   "source": [
    "#### compare IMS vs mount data\n",
    "\n",
    "This is an auxiliary function to plot information from the IMS with respect to the elevation and azimuth measurements from the mount."
   ]
  },
  {
   "cell_type": "code",
   "execution_count": null,
   "id": "06e3bbe4-4417-49a4-b471-379dda7babde",
   "metadata": {
    "tags": []
   },
   "outputs": [],
   "source": [
    "def compareIMSMount(\n",
    "    df_ims,\n",
    "    df_mtmount_ele,\n",
    "    df_mtmount_azi,\n",
    "    referenceTime=\"2023-06-01 06:53:37.326\",\n",
    "    lo_delta_t=5,  # in seconds\n",
    "    hi_delta_t=60,  # in seconds\n",
    "):\n",
    "    fig, axs = plt.subplots(5, 1, dpi=125, figsize=(6, 8))\n",
    "    t_start_plot = pd.to_datetime(referenceTime) - pd.to_timedelta(\n",
    "        lo_delta_t, unit=\"s\"\n",
    "    )  ##correcting by hand for TAI, is this correct?\n",
    "    t_end_plot = pd.to_datetime(referenceTime) + pd.to_timedelta(hi_delta_t, unit=\"s\")\n",
    "\n",
    "    ax = axs[0]\n",
    "    actpos_ele = df_mtmount_ele[\"actualPosition\"][t_start_plot:t_end_plot]\n",
    "    ax.plot(actpos_ele, color=\"red\", lw=\"0.5\")\n",
    "    ax.axvline(pd.to_datetime(referenceTime), lw=\"0.5\", c=\"k\")\n",
    "    ax.set_ylabel(\"Elevation \\nPosition\\n[deg]\")\n",
    "\n",
    "    ax = axs[1]\n",
    "    actpos_azi = df_mtmount_azi[\"actualPosition\"][t_start_plot:t_end_plot]\n",
    "    ax.plot(actpos_azi, color=\"red\", lw=\"0.5\")\n",
    "    ax.axvline(pd.to_datetime(referenceTime), lw=\"0.5\", c=\"k\", label=\"Slew stop\")\n",
    "    ax.set_ylabel(\"Azimuth \\nPosition\\n[deg]\")\n",
    "\n",
    "    t_start_plot = pd.to_datetime(referenceTime) - pd.to_timedelta(lo_delta_t, unit=\"s\")\n",
    "    t_end_plot = pd.to_datetime(referenceTime) + pd.to_timedelta(hi_delta_t, unit=\"s\")\n",
    "\n",
    "    plotstring = [\"xPosition\", \"yPosition\", \"zPosition\"]\n",
    "    plotrange = np.arange(len(plotstring))\n",
    "    for i in plotrange:\n",
    "        ax = axs[i + 2]\n",
    "        pos = df_ims[plotstring[i]][t_start_plot:t_end_plot]\n",
    "        ax.plot(pos, color=\"red\", lw=\"0.5\")\n",
    "        ax.axvline(pd.to_datetime(referenceTime), lw=\"0.5\", c=\"k\")\n",
    "        ax.set_ylabel(plotstring[i] + \" \\n[mm]\")\n",
    "    ax.set_xlabel(\"UTC\")\n",
    "    fig.autofmt_xdate()\n",
    "    fig.subplots_adjust(hspace=1)\n",
    "    fig.suptitle(referenceTime)\n",
    "    fig.legend()\n",
    "    fig.tight_layout()\n",
    "    ### TBD: use a delta time wrt slew stop in x-label"
   ]
  },
  {
   "cell_type": "markdown",
   "id": "decee784-6779-4188-84d7-86727cb7cdb8",
   "metadata": {
    "execution": {
     "iopub.execute_input": "2023-05-29T17:26:26.927448Z",
     "iopub.status.busy": "2023-05-29T17:26:26.927223Z",
     "iopub.status.idle": "2023-05-29T17:26:26.953496Z",
     "shell.execute_reply": "2023-05-29T17:26:26.953042Z",
     "shell.execute_reply.started": "2023-05-29T17:26:26.927433Z"
    },
    "tags": []
   },
   "source": [
    "### Load data"
   ]
  },
  {
   "cell_type": "markdown",
   "id": "6499f60c-7943-41ae-af1c-f60c2f52dadd",
   "metadata": {
    "tags": []
   },
   "source": [
    "#### Get slew stops"
   ]
  },
  {
   "cell_type": "code",
   "execution_count": null,
   "id": "b66bab89-b2ef-42ae-a73e-ab34e72ea514",
   "metadata": {
    "tags": []
   },
   "outputs": [],
   "source": [
    "# Select data from a given date\n",
    "eventMaker = TMAEventMaker()\n",
    "events = eventMaker.getEvents(dayObs)\n",
    "\n",
    "# Get lists of slew and track events\n",
    "slews = [e for e in events if e.type == TMAState.SLEWING]\n",
    "tracks = [e for e in events if e.type == TMAState.TRACKING]\n",
    "print(f\"Found {len(slews)} slews and {len(tracks)} tracks\")"
   ]
  },
  {
   "cell_type": "code",
   "execution_count": null,
   "id": "1227994e-c5ec-4585-aa46-1af8be96f7fb",
   "metadata": {
    "tags": []
   },
   "outputs": [],
   "source": [
    "# Get events related to soak tests (block 137 currently)\n",
    "block137Events = []\n",
    "for event in events:\n",
    "    blockInfos = event.blockInfos\n",
    "    if blockInfos is None:\n",
    "        continue  # no block info attached to event at all\n",
    "\n",
    "    # check if any of the attached blockInfos are for block 137\n",
    "    blockNums = {b.blockNumber for b in blockInfos}\n",
    "    if 137 in blockNums:\n",
    "        block137Events.append(event)\n",
    "\n",
    "print(f\"Of the {len(events)} events, {len(block137Events)} relate to block 137.\")"
   ]
  },
  {
   "cell_type": "code",
   "execution_count": null,
   "id": "f5f160c3-7d5c-41be-ba08-3557803c606d",
   "metadata": {
    "tags": []
   },
   "outputs": [],
   "source": [
    "# Print out sequential number of events that have certain characteristics\n",
    "s = 0\n",
    "for i in range(len(block137Events)):\n",
    "    if (\n",
    "        block137Events[i].endReason == TMAState.TRACKING\n",
    "        and block137Events[i].type == TMAState.SLEWING\n",
    "    ):\n",
    "        s = s + 1\n",
    "        print(block137Events[i].seqNum, end=\", \")"
   ]
  },
  {
   "cell_type": "code",
   "execution_count": null,
   "id": "e3605549-062f-4813-b647-b397c492f8ae",
   "metadata": {
    "tags": []
   },
   "outputs": [],
   "source": [
    "targetSeqNum = 290"
   ]
  },
  {
   "cell_type": "code",
   "execution_count": null,
   "id": "2e6d2b7a-07a7-4bd4-8cdc-71c21145ecee",
   "metadata": {
    "tags": []
   },
   "outputs": [],
   "source": [
    "# find the appropriate slews index that has the sequential number selected above\n",
    "for s, sl in enumerate(slews):\n",
    "    if sl.seqNum == targetSeqNum:\n",
    "        i_slew = s\n",
    "        break\n",
    "print(f\"Event with seqNum {targetSeqNum} corresponds to slew number {i_slew}\")"
   ]
  },
  {
   "cell_type": "code",
   "execution_count": null,
   "id": "9048573c-6e49-42f2-a2aa-69db1b434040",
   "metadata": {
    "tags": []
   },
   "outputs": [],
   "source": [
    "t0 = Time(slews[i_slew].begin, format=\"isot\", scale=\"utc\")\n",
    "t0 = pd.to_datetime(t0.value, utc=True)  # astropy Time to Timestamp conversion\n",
    "t1 = Time(slews[i_slew].end, format=\"isot\", scale=\"utc\")\n",
    "t1 = pd.to_datetime(t1.value, utc=True)  # astropy Time to Timestamp conversion\n",
    "t2 = Time(slews[i_slew + 1].begin.isot, format=\"isot\", scale=\"utc\")\n",
    "t2 = pd.to_datetime(t2.value, utc=True)  # astropy Time to Timestamp conversion\n",
    "postPadding = t2 - t1\n",
    "postPadding = postPadding.seconds\n",
    "\n",
    "print(\"Slew stop at:\", t1)\n",
    "# Get IMS data\n",
    "\n",
    "df_ims = getEfdData(\n",
    "    client, \"lsst.sal.MTM1M3.imsData\", event=slews[i_slew], postPadding=postPadding\n",
    ")\n",
    "df_ims = df_ims[all_columns]\n",
    "# Convert meter to milimeter\n",
    "df_ims[pos_columns] = df_ims[pos_columns] * 1e3"
   ]
  },
  {
   "cell_type": "code",
   "execution_count": null,
   "id": "064cdaad-08d1-46a5-b391-862fb96a6dce",
   "metadata": {
    "tags": []
   },
   "outputs": [],
   "source": [
    "# Get mount data\n",
    "df_mtmount_ele = getEfdData(\n",
    "    client, \"lsst.sal.MTMount.elevation\", event=slews[i_slew], postPadding=postPadding\n",
    ")\n",
    "df_mtmount_azi = getEfdData(\n",
    "    client, \"lsst.sal.MTMount.azimuth\", event=slews[i_slew], postPadding=postPadding\n",
    ")"
   ]
  },
  {
   "cell_type": "markdown",
   "id": "b5d91fe4-7273-4fde-babb-ad50fe299d6d",
   "metadata": {
    "tags": []
   },
   "source": [
    "### Look at data\n",
    "\n",
    "This step is not necessary, but useful to get a visual impression of how the IMS data vary with TMA movements."
   ]
  },
  {
   "cell_type": "code",
   "execution_count": null,
   "id": "3552f9c2-2a0b-47cd-9d27-d89b0064219b",
   "metadata": {
    "tags": []
   },
   "outputs": [],
   "source": [
    "%matplotlib inline\n",
    "compareIMSMount(\n",
    "    df_ims,\n",
    "    df_mtmount_ele,\n",
    "    df_mtmount_azi,\n",
    "    t1,\n",
    "    10,\n",
    "    pd.to_timedelta(postPadding, unit=\"s\"),\n",
    ")"
   ]
  },
  {
   "cell_type": "markdown",
   "id": "e608982d-ca62-4968-b83f-c0c7e8bd3022",
   "metadata": {
    "execution": {
     "iopub.execute_input": "2023-05-29T17:28:18.701852Z",
     "iopub.status.busy": "2023-05-29T17:28:18.701639Z",
     "iopub.status.idle": "2023-05-29T17:28:18.728001Z",
     "shell.execute_reply": "2023-05-29T17:28:18.727553Z",
     "shell.execute_reply.started": "2023-05-29T17:28:18.701838Z"
    },
    "tags": []
   },
   "source": [
    "### Run test"
   ]
  },
  {
   "cell_type": "markdown",
   "id": "90d48898-5a5d-440d-8332-80bd19d65b22",
   "metadata": {},
   "source": [
    "Currently the test involves executing the computeSettleTime function, an example is shown below. The test will return a PASS if the rms of the fluctuation of the variable around the value at the end of the set window (set at postPadding above) is always below the requirement, in the required time after the slew stop event. Two plots are shown, the first showing the value and RMS, until the end of the window, the second zooming in on the requirement time period."
   ]
  },
  {
   "cell_type": "code",
   "execution_count": null,
   "id": "d06e1279-5574-4746-b615-533fa59b029d",
   "metadata": {
    "tags": []
   },
   "outputs": [],
   "source": [
    "# this is an example call for a single column of the IMS data frame\n",
    "computeSettleTime(\n",
    "    df_ims=df_ims,\n",
    "    referenceTime=t1,\n",
    "    lo_delta_t=5,\n",
    "    hi_delta_t=postPadding,\n",
    "    imsColumn=\"zRotation\",\n",
    "    rmsReq=req_rms_rotation,\n",
    "    req_delta_t=req_delta_t,\n",
    ")"
   ]
  },
  {
   "cell_type": "code",
   "execution_count": null,
   "id": "99f04e2b-fba0-4800-ae01-d948d4d8635a",
   "metadata": {},
   "outputs": [],
   "source": []
  }
 ],
 "metadata": {
  "kernelspec": {
   "display_name": "LSST",
   "language": "python",
   "name": "lsst"
  },
  "language_info": {
   "codemirror_mode": {
    "name": "ipython",
    "version": 3
   },
   "file_extension": ".py",
   "mimetype": "text/x-python",
   "name": "python",
   "nbconvert_exporter": "python",
   "pygments_lexer": "ipython3",
   "version": "3.11.4"
  }
 },
 "nbformat": 4,
 "nbformat_minor": 5
}
