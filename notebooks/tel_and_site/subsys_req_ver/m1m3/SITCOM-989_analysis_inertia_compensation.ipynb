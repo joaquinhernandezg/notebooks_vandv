{
 "cells": [
  {
   "cell_type": "markdown",
   "id": "5816c9f6-113f-4882-ac8a-2bad48b929cc",
   "metadata": {},
   "source": [
    "# SITCOM-989 - M1M3 Inertia Compensation Performance\n",
    "\n",
    "We need plots and metrics to evaluate the performance of the M1M3 Inertia Compensation System as described in [SITCOM-989].    \n",
    "Examples of plots are:\n",
    "\n",
    "* Hardpoint Load Cell Forces Minima and Maxima during slews as a function of time.\n",
    "* Correlate the plots above with accelerations, velocities, and positions.\n",
    "* (any other ideas?)\n",
    "\n",
    "Petr asked to analyse the data obtained when slewing the telescope around 80 deg in elevation with and without inertia forces. \n",
    "The two datasets below that he used as an example contain movement from -100 deg in azimuth to 100 deg in a single slew. \n",
    "On both cases, we are using 30% motion settings in azimuth. \n",
    "\n",
    "* [M1M3 TMA Inertial forces Chronograph Dashboard on 2023-08-02 22:02 - 2023-08-02 22:04 UTC]\n",
    "* [M1M3 TMA Inertial forces Chronograph Dashboard on 2023-07-28 02:15 - 2023-07-28 02:17 UTC]\n",
    "\n",
    "\n",
    "[SITCOM-989]: https://jira.lsstcorp.org/browse/SITCOM-989\n",
    "\n",
    "\n",
    "[M1M3 TMA Inertial forces Chronograph Dashboard on 2023-08-02 22:02 - 2023-08-02 22:04 UTC]: https://summit-lsp.lsst.codes/chronograf/sources/1/dashboards/252?redirect=%2Flogin%3Fredirect%3D%252Fsources%252F1%252Fdashboards%252F252%253Frefresh%253D30s%2526tempVars%255BDownsample%255D%253DDefault%2526tempVars%255BFunction%255D%253Draw%2526lower%253Dnow%2528%2529%252520-%25252015m%2526zoomedLower%253D2023-08-02T21%25253A23%25253A19.366Z%2526zoomedUpper%253D2023-08-02T21%25253A23%25253A23.843Z&refresh=Paused&tempVars%5BDownsample%5D=Default&tempVars%5BFunction%5D=mean%28%29&lower=2023-08-02T20%3A00%3A00.000Z&upper=2023-08-03T02%3A00%3A00.000Z&zoomedLower=2023-08-02T22%3A02%3A24.799Z&zoomedUpper=2023-08-02T22%3A04%3A02.450Zhttps://summit-lsp.lsst.codes/chronograf/sources/1/dashboards/252?redirect=%2Flogin%3Fredirect%3D%252Fsources%252F1%252Fdashboards%252F252%253Frefresh%253D30s%2526tempVars%255BDownsample%255D%253DDefault%2526tempVars%255BFunction%255D%253Draw%2526lower%253Dnow%2528%2529%252520-%25252015m%2526zoomedLower%253D2023-08-02T21%25253A23%25253A19.366Z%2526zoomedUpper%253D2023-08-02T21%25253A23%25253A23.843Z&refresh=Paused&tempVars%5BDownsample%5D=Default&tempVars%5BFunction%5D=mean%28%29&lower=2023-08-02T20%3A00%3A00.000Z&upper=2023-08-03T02%3A00%3A00.000Z&zoomedLower=2023-08-02T22%3A02%3A24.799Z&zoomedUpper=2023-08-02T22%3A04%3A02.450Z\n",
    "\n",
    "\n",
    "[M1M3 TMA Inertial forces Chronograph Dashboard on 2023-07-28 02:15 - 2023-07-28 02:17 UTC]:https://summit-lsp.lsst.codes/chronograf/sources/1/dashboards/252?redirect=%2Flogin%3Fredirect%3D%252Fsources%252F1%252Fdashboards%252F252%253Frefresh%253D30s%2526tempVars%255BDownsample%255D%253DDefault%2526tempVars%255BFunction%255D%253Draw%2526lower%253Dnow%2528%2529%252520-%25252015m%2526zoomedLower%253D2023-08-02T21%25253A23%25253A19.366Z%2526zoomedUpper%253D2023-08-02T21%25253A23%25253A23.843Z&refresh=Paused&tempVars%5BDownsample%5D=Default&tempVars%5BFunction%5D=mean%28%29&lower=2023-07-28T02%3A00%3A00.000Z&upper=2023-07-28T03%3A30%3A00.000Z&zoomedLower=2023-07-28T02%3A15%3A45.730Z&zoomedUpper=2023-07-28T02%3A17%3A11.966Z"
   ]
  },
  {
   "cell_type": "markdown",
   "id": "fbc394ad-1b3e-45de-b0ee-62732a411ef4",
   "metadata": {},
   "source": [
    "## Notebook Preparation"
   ]
  },
  {
   "cell_type": "code",
   "execution_count": null,
   "id": "6402f4cc-296b-48d8-99cc-9a1f85992c99",
   "metadata": {
    "tags": []
   },
   "outputs": [],
   "source": [
    "%matplotlib inline\n",
    "import matplotlib.cm as cm\n",
    "import matplotlib.pyplot as plt\n",
    "import numpy as np\n",
    "import pandas as pd\n",
    "\n",
    "from astropy.time import Time, TimeDelta\n",
    "from dataclasses import dataclass\n",
    "\n",
    "from lsst.sitcom import vandv"
   ]
  },
  {
   "cell_type": "code",
   "execution_count": null,
   "id": "b2fac6ac-70de-4dcf-a7f9-c27da07795c6",
   "metadata": {
    "tags": []
   },
   "outputs": [],
   "source": [
    "efd_client = vandv.efd.create_efd_client()"
   ]
  },
  {
   "cell_type": "code",
   "execution_count": null,
   "id": "702362d9-9f80-4e23-a8ec-3cb8899491c5",
   "metadata": {
    "tags": []
   },
   "outputs": [],
   "source": [
    "number_of_hardpoints = 6\n",
    "measured_forces_topics = [f\"measuredForce{i}\" for i in range(6)]"
   ]
  },
  {
   "cell_type": "markdown",
   "id": "a7e2aad0-8660-4e26-9b77-4d3c5850f080",
   "metadata": {},
   "source": [
    "### Helper Functions and Classes"
   ]
  },
  {
   "cell_type": "code",
   "execution_count": null,
   "id": "a7f87c6b-60b4-4099-88d0-a8cf961bfdd2",
   "metadata": {
    "tags": []
   },
   "outputs": [],
   "source": [
    "@dataclass\n",
    "class SlewDataSet:\n",
    "    \"\"\"\n",
    "    Hold all the data associated with a slew.\n",
    "    \n",
    "    Attributes\n",
    "    ----------\n",
    "    name : str\n",
    "        Human readable name\n",
    "    start : str\n",
    "        Start date and time in ISO format and in UTC.\n",
    "    end : str \n",
    "        End date and time in ISO format and in UTC.\n",
    "    df : pd.DataFrame | None = None\n",
    "        Pandas DataFrame containg relevant data. \n",
    "    \"\"\"\n",
    "    name : str\n",
    "    start : str\n",
    "    end : str\n",
    "    df : pd.DataFrame | None = None"
   ]
  },
  {
   "cell_type": "code",
   "execution_count": null,
   "id": "b7888dcd-8ded-4c7a-8aec-e35ffd2cf66d",
   "metadata": {
    "tags": []
   },
   "outputs": [],
   "source": [
    "async def query_dataset(start, end):\n",
    "    \"\"\"\n",
    "    Queries all the relevant data, resample them to have the same requency and merge them in a single dataframe.\n",
    "    \n",
    "    Parameters\n",
    "    ----------\n",
    "    start : str\n",
    "        Start date and time in ISO format and in UTC.\n",
    "    end : str \n",
    "        End date and time in ISO format and in UTC.\n",
    "        \n",
    "    Returns\n",
    "    -------\n",
    "    pd.DataFrame\n",
    "    \"\"\"    \n",
    "    hp_measured_forces = await efd_client.select_time_series(\n",
    "        \"lsst.sal.MTM1M3.hardpointActuatorData\", \n",
    "        measured_forces_topics, \n",
    "        Time(start, scale='utc'), \n",
    "        Time(end, scale='utc')\n",
    "    )\n",
    "    hp_measured_forces = hp_measured_forces.resample(\"1s\").mean()\n",
    "    \n",
    "    return hp_measured_forces"
   ]
  },
  {
   "cell_type": "markdown",
   "id": "49cde41d-a015-482d-90be-a62368b45d2f",
   "metadata": {},
   "source": [
    "## Data Collection"
   ]
  },
  {
   "cell_type": "code",
   "execution_count": null,
   "id": "5c510e63-2ef5-4480-a7ff-990749fee22d",
   "metadata": {
    "tags": []
   },
   "outputs": [],
   "source": [
    "# Dataset 1 - Az Slew from -100 to 100 with 80 El, 30% motion settings and Inertia Compensation On\n",
    "start = \"2023-08-02T22:02:30\"\n",
    "end = \"2023-08-02T22:04:00\"\n",
    "\n",
    "dataset1 = SlewDataSet(\n",
    "    name=\"Az Slew from -100 to 100 with 80 El, 30% motion settings and Inertia Compensation On\",\n",
    "    start=start, \n",
    "    end=end\n",
    ")\n",
    "\n",
    "dataset1.df = await query_dataset(dataset1.start, dataset1.end)"
   ]
  },
  {
   "cell_type": "code",
   "execution_count": null,
   "id": "974c2eae-751d-4d85-b115-ca34452f7664",
   "metadata": {
    "tags": []
   },
   "outputs": [],
   "source": [
    "# Dataset 2 - Az Slew from -100 to 100 with 80 El, 30% motion settings and Inertia Compensation On\n",
    "start = \"2023-07-28T02:15:45\"\n",
    "end = \"2023-07-28T02:17:15\"\n",
    "\n",
    "dataset2 = SlewDataSet(\n",
    "    name=\"Az Slew from -100 to 100 with 80 El, 30% motion settings and Inertia Compensation Off\",\n",
    "    start=start, \n",
    "    end=end\n",
    ")\n",
    "\n",
    "dataset2.df = await query_dataset(dataset2.start, dataset2.end)"
   ]
  },
  {
   "cell_type": "markdown",
   "id": "0ca8feb2-0825-4f6d-9533-4ea40ea12863",
   "metadata": {},
   "source": [
    "## Plots and Analysis"
   ]
  },
  {
   "cell_type": "code",
   "execution_count": null,
   "id": "afb1556b-c4dc-44fa-bf74-ed1f134e79d6",
   "metadata": {
    "tags": []
   },
   "outputs": [],
   "source": [
    "def plot_hp_measured_data(df):\n",
    "    \"\"\"\n",
    "    Plots the HP Measured Data as a function of the time.\n",
    "    \n",
    "    Parameters\n",
    "    ----------\n",
    "    df : pd.DataFrame\n",
    "        Table containing the HP measured forces (the columns should be \n",
    "        `measuredForces0`, `measuredForces1`, etc.). The index should be \n",
    "        a timestamp. \n",
    "    \"\"\"                   \n",
    "    fig, ax = plt.subplots(\n",
    "        num=\"HP Measured Forces\",\n",
    "        dpi=120,\n",
    "        figsize=(12, 4)\n",
    "    )\n",
    "\n",
    "    for hp in range(number_of_hardpoints):\n",
    "        topic = measured_forces_topics[hp]\n",
    "\n",
    "        ax.plot(\n",
    "            df[topic], \n",
    "            \"-\",\n",
    "            label=f\"HP{hp+1}\",\n",
    "        )\n",
    "\n",
    "    ax.set_title(f\"HP Measured Data\\n {df.index[0]} - {df.index[-1]}\")\n",
    "    ax.set_xlabel(\"Time [UTC]\")\n",
    "    ax.set_ylabel(\"HP Measured Forces [N]\")\n",
    "    ax.grid(\":\", alpha=0.2)\n",
    "    ax.legend(ncol=3)\n",
    "\n",
    "    plt.show()"
   ]
  },
  {
   "cell_type": "code",
   "execution_count": null,
   "id": "50b9ead6-9628-445f-92f9-cd98cf93b0d7",
   "metadata": {
    "tags": []
   },
   "outputs": [],
   "source": [
    "plot_hp_measured_data(dataset1.df)\n",
    "plot_hp_measured_data(dataset2.df)"
   ]
  },
  {
   "cell_type": "code",
   "execution_count": null,
   "id": "46f56834-19b2-4ed1-b8aa-c05928a7bc44",
   "metadata": {},
   "outputs": [],
   "source": []
  }
 ],
 "metadata": {
  "kernelspec": {
   "display_name": "LSST",
   "language": "python",
   "name": "lsst"
  },
  "language_info": {
   "codemirror_mode": {
    "name": "ipython",
    "version": 3
   },
   "file_extension": ".py",
   "mimetype": "text/x-python",
   "name": "python",
   "nbconvert_exporter": "python",
   "pygments_lexer": "ipython3",
   "version": "3.10.10"
  }
 },
 "nbformat": 4,
 "nbformat_minor": 5
}
