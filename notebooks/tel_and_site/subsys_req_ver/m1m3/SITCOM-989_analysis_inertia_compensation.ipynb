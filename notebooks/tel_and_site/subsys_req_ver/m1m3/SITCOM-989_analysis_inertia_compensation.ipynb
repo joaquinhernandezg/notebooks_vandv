{
 "cells": [
  {
   "cell_type": "markdown",
   "id": "5816c9f6-113f-4882-ac8a-2bad48b929cc",
   "metadata": {},
   "source": [
    "# SITCOM-989 - M1M3 Inertia Compensation Performance\n",
    "\n",
    "We need plots and metrics to evaluate the performance of the M1M3 Inertia Compensation System as described in [SITCOM-989].    \n",
    "Examples of plots are:\n",
    "\n",
    "* Hardpoint Load Cell Forces Minima and Maxima during slews as a function of time.\n",
    "* Correlate the plots above with accelerations, velocities, and positions.\n",
    "* (any other ideas?)\n",
    "\n",
    "Petr asked to analyse the data obtained when slewing the telescope around 80 deg in elevation with and without inertia forces. \n",
    "The two datasets below that he used as an example contain movement from -100 deg in azimuth to 100 deg in a single slew. \n",
    "On both cases, we are using 30% motion settings in azimuth. \n",
    "\n",
    "* [M1M3 TMA Inertial forces Chronograph Dashboard on 2023-08-02 22:02 - 2023-08-02 22:04 UTC]\n",
    "* [M1M3 TMA Inertial forces Chronograph Dashboard on 2023-07-28 02:15 - 2023-07-28 02:17 UTC]\n",
    "\n",
    "\n",
    "[SITCOM-989]: https://jira.lsstcorp.org/browse/SITCOM-989\n",
    "\n",
    "\n",
    "[M1M3 TMA Inertial forces Chronograph Dashboard on 2023-08-02 22:02 - 2023-08-02 22:04 UTC]: https://summit-lsp.lsst.codes/chronograf/sources/1/dashboards/252?redirect=%2Flogin%3Fredirect%3D%252Fsources%252F1%252Fdashboards%252F252%253Frefresh%253D30s%2526tempVars%255BDownsample%255D%253DDefault%2526tempVars%255BFunction%255D%253Draw%2526lower%253Dnow%2528%2529%252520-%25252015m%2526zoomedLower%253D2023-08-02T21%25253A23%25253A19.366Z%2526zoomedUpper%253D2023-08-02T21%25253A23%25253A23.843Z&refresh=Paused&tempVars%5BDownsample%5D=Default&tempVars%5BFunction%5D=mean%28%29&lower=2023-08-02T20%3A00%3A00.000Z&upper=2023-08-03T02%3A00%3A00.000Z&zoomedLower=2023-08-02T22%3A02%3A24.799Z&zoomedUpper=2023-08-02T22%3A04%3A02.450Zhttps://summit-lsp.lsst.codes/chronograf/sources/1/dashboards/252?redirect=%2Flogin%3Fredirect%3D%252Fsources%252F1%252Fdashboards%252F252%253Frefresh%253D30s%2526tempVars%255BDownsample%255D%253DDefault%2526tempVars%255BFunction%255D%253Draw%2526lower%253Dnow%2528%2529%252520-%25252015m%2526zoomedLower%253D2023-08-02T21%25253A23%25253A19.366Z%2526zoomedUpper%253D2023-08-02T21%25253A23%25253A23.843Z&refresh=Paused&tempVars%5BDownsample%5D=Default&tempVars%5BFunction%5D=mean%28%29&lower=2023-08-02T20%3A00%3A00.000Z&upper=2023-08-03T02%3A00%3A00.000Z&zoomedLower=2023-08-02T22%3A02%3A24.799Z&zoomedUpper=2023-08-02T22%3A04%3A02.450Z\n",
    "\n",
    "\n",
    "[M1M3 TMA Inertial forces Chronograph Dashboard on 2023-07-28 02:15 - 2023-07-28 02:17 UTC]:https://summit-lsp.lsst.codes/chronograf/sources/1/dashboards/252?redirect=%2Flogin%3Fredirect%3D%252Fsources%252F1%252Fdashboards%252F252%253Frefresh%253D30s%2526tempVars%255BDownsample%255D%253DDefault%2526tempVars%255BFunction%255D%253Draw%2526lower%253Dnow%2528%2529%252520-%25252015m%2526zoomedLower%253D2023-08-02T21%25253A23%25253A19.366Z%2526zoomedUpper%253D2023-08-02T21%25253A23%25253A23.843Z&refresh=Paused&tempVars%5BDownsample%5D=Default&tempVars%5BFunction%5D=mean%28%29&lower=2023-07-28T02%3A00%3A00.000Z&upper=2023-07-28T03%3A30%3A00.000Z&zoomedLower=2023-07-28T02%3A15%3A45.730Z&zoomedUpper=2023-07-28T02%3A17%3A11.966Z"
   ]
  },
  {
   "cell_type": "markdown",
   "id": "fbc394ad-1b3e-45de-b0ee-62732a411ef4",
   "metadata": {},
   "source": [
    "## Notebook Preparation"
   ]
  },
  {
   "cell_type": "code",
   "execution_count": null,
   "id": "6402f4cc-296b-48d8-99cc-9a1f85992c99",
   "metadata": {
    "tags": []
   },
   "outputs": [],
   "source": [
    "%matplotlib inline\n",
    "import matplotlib.cm as cm\n",
    "import matplotlib.pyplot as plt\n",
    "import numpy as np\n",
    "import pandas as pd\n",
    "\n",
    "from astropy.time import Time, TimeDelta\n",
    "from dataclasses import dataclass\n",
    "\n",
    "from lsst.sitcom import vandv\n",
    "from lsst.sitcom.summit.utils.tmaUtils import TMA"
   ]
  },
  {
   "cell_type": "code",
   "execution_count": null,
   "id": "b2fac6ac-70de-4dcf-a7f9-c27da07795c6",
   "metadata": {
    "tags": []
   },
   "outputs": [],
   "source": [
    "efd_client = vandv.efd.create_efd_client()"
   ]
  },
  {
   "cell_type": "code",
   "execution_count": null,
   "id": "702362d9-9f80-4e23-a8ec-3cb8899491c5",
   "metadata": {
    "tags": []
   },
   "outputs": [],
   "source": [
    "number_of_hardpoints = 6\n",
    "measured_forces_topics = [f\"measuredForce{i}\" for i in range(6)]"
   ]
  },
  {
   "cell_type": "markdown",
   "id": "a7e2aad0-8660-4e26-9b77-4d3c5850f080",
   "metadata": {},
   "source": [
    "### Helper Functions and Classes\n",
    "\n",
    "#### SlewDataSet"
   ]
  },
  {
   "cell_type": "code",
   "execution_count": null,
   "id": "a7f87c6b-60b4-4099-88d0-a8cf961bfdd2",
   "metadata": {
    "tags": []
   },
   "outputs": [],
   "source": [
    "@dataclass\n",
    "class SlewDataSet:\n",
    "    \"\"\"\n",
    "    Hold all the data associated with a slew.\n",
    "    \n",
    "    Attributes\n",
    "    ----------\n",
    "    name : str\n",
    "        Human readable name\n",
    "    start : `astropy.time.Time`\n",
    "        Start date and time in ISO format and in UTC.\n",
    "    end : `astropy.time.Time`\n",
    "        End date and time in ISO format and in UTC.\n",
    "    df : pd.DataFrame | None = None\n",
    "        Pandas DataFrame containg relevant data. \n",
    "    \"\"\"\n",
    "    name : str\n",
    "    start : Time\n",
    "    end : Time\n",
    "    df : pd.DataFrame | None = None"
   ]
  },
  {
   "cell_type": "markdown",
   "id": "9db158a6-16f2-484d-b7a5-54228068fe38",
   "metadata": {},
   "source": [
    "#### query_dataset"
   ]
  },
  {
   "cell_type": "code",
   "execution_count": null,
   "id": "b7888dcd-8ded-4c7a-8aec-e35ffd2cf66d",
   "metadata": {
    "tags": []
   },
   "outputs": [],
   "source": [
    "async def query_dataset(start, end):\n",
    "    \"\"\"\n",
    "    Queries all the relevant data, resample them to have the same requency and merge them in a single dataframe.\n",
    "    \n",
    "    Parameters\n",
    "    ----------\n",
    "    start : str\n",
    "        Start date and time in ISO format and in UTC.\n",
    "    end : str \n",
    "        End date and time in ISO format and in UTC.\n",
    "        \n",
    "    Returns\n",
    "    -------\n",
    "    pd.DataFrame\n",
    "    \"\"\"    \n",
    "    hp_measured_forces = await efd_client.select_time_series(\n",
    "        \"lsst.sal.MTM1M3.hardpointActuatorData\", \n",
    "        measured_forces_topics, \n",
    "        Time(start, scale='utc'), \n",
    "        Time(end, scale='utc')\n",
    "    )\n",
    "    hp_measured_forces = hp_measured_forces.resample(\"1s\").mean()\n",
    "    \n",
    "    return hp_measured_forces"
   ]
  },
  {
   "cell_type": "markdown",
   "id": "1e1743e9-a56b-4a80-ba1a-4e75d117322a",
   "metadata": {},
   "source": [
    "#### get_stats"
   ]
  },
  {
   "cell_type": "code",
   "execution_count": null,
   "id": "bbe61cea-3615-4386-8f1d-d6573b1a92f4",
   "metadata": {
    "tags": []
   },
   "outputs": [],
   "source": [
    "def get_minmax(s):\n",
    "    \"\"\"\n",
    "    Calculate minimum, maximum, and peak-to-peak values for two halves of a given pandas Series.\n",
    "\n",
    "    Parameters\n",
    "    ----------\n",
    "    s : pandas.Series\n",
    "        The input pandas Series containing data.\n",
    "\n",
    "    Returns\n",
    "    -------\n",
    "    pandas.Series\n",
    "        A Series containing the following calculated values for the two halves of the input Series:\n",
    "        - begin_min: Minimum value of the first half of the Series.\n",
    "        - begin_max: Maximum value of the first half of the Series.\n",
    "        - begin_ptp: Peak-to-peak (ptp) value of the first half of the Series (abs(max - min)).\n",
    "        - end_min: Minimum value of the second half of the Series.\n",
    "        - end_max: Maximum value of the second half of the Series.\n",
    "        - end_ptp: Peak-to-peak (ptp) value of the second half of the Series (abs(max - min)).\n",
    "\n",
    "    Notes\n",
    "    -----\n",
    "    This function divides the input Series into two halves and calculates the minimum, maximum, and peak-to-peak values\n",
    "    for each half. The peak-to-peak value is the absolute difference between the maximum and minimum values.\n",
    "\n",
    "    Example\n",
    "    -------\n",
    "    >>> import pandas as pd\n",
    "    >>> data = [1, 2, 3, 4, 5, 6, 7, 8]\n",
    "    >>> series = pd.Series(data, name='example')\n",
    "    >>> minmax_values = get_minmax(series)\n",
    "    \"\"\"\n",
    "\n",
    "    half_timestamp = len(s.index) // 2\n",
    "    first_half = s[:s.index[half_timestamp]]\n",
    "    second_half = s[s.index[half_timestamp:]]\n",
    "\n",
    "    first_half_ptp = abs(first_half.max() - first_half.min())\n",
    "    second_half_ptp = abs(second_half.max() - second_half.min())\n",
    "\n",
    "    result = pd.Series(\n",
    "        data=[\n",
    "            first_half.min(),\n",
    "            first_half.max(),\n",
    "            first_half_ptp,\n",
    "            second_half.min(),\n",
    "            second_half.max(),\n",
    "            second_half_ptp,\n",
    "        ],\n",
    "        index=[\n",
    "            \"begin_min\",\n",
    "            \"begin_max\",\n",
    "            \"begin_ptp\",\n",
    "            \"end_min\",\n",
    "            \"end_max\",\n",
    "            \"end_ptp\",\n",
    "        ],\n",
    "        name=s.name,\n",
    "    )\n",
    "\n",
    "    return result"
   ]
  },
  {
   "cell_type": "markdown",
   "id": "828558fc-1fc0-40d1-a9e5-5fe2137a9a35",
   "metadata": {},
   "source": [
    "#### get_stats"
   ]
  },
  {
   "cell_type": "code",
   "execution_count": null,
   "id": "68529dba-9946-4f10-8bf4-a52821267532",
   "metadata": {
    "jupyter": {
     "source_hidden": true
    },
    "tags": []
   },
   "outputs": [],
   "source": [
    "def get_stats(dataset):\n",
    "    \"\"\"\n",
    "    Calculate statistics for each column in a given dataset.\n",
    "\n",
    "    Parameters\n",
    "    ----------\n",
    "    dataset : SlewDataSet\n",
    "        An instance of the dataset class containing the data to be analyzed.\n",
    "\n",
    "    Returns\n",
    "    -------\n",
    "    pandas.DataFrame\n",
    "        A DataFrame containing calculated statistics for each column in the dataset.\n",
    "        For each column, the statistics include minimum, maximum, and peak-to-peak values.\n",
    "\n",
    "    Notes\n",
    "    -----\n",
    "    This function computes statistics for each column in the provided dataset. It utilizes the `get_minmax` function\n",
    "    to calculate minimum, maximum, and peak-to-peak values for each column's data.\n",
    "    \"\"\"\n",
    "\n",
    "    stats = pd.DataFrame(\n",
    "        data=[get_minmax(dataset.df[col]) for col in dataset.df.columns],\n",
    "        index=dataset.df.columns\n",
    "    )\n",
    "    return stats"
   ]
  },
  {
   "cell_type": "markdown",
   "id": "df39fa21-262a-4446-8520-977d8b2441be",
   "metadata": {},
   "source": [
    "#### get_tma_slew_events"
   ]
  },
  {
   "cell_type": "code",
   "execution_count": null,
   "id": "874a4aac-e211-486f-b824-e038c2195ba1",
   "metadata": {
    "jupyter": {
     "source_hidden": true
    },
    "tags": []
   },
   "outputs": [],
   "source": [
    "def get_tma_slew_events(start : str, end : str, client : EfdClient | None = None):\n",
    "    \"\"\"\n",
    "    Retrieve Telescope Mount Assembly (TMA) slew events within a specified time range.\n",
    "\n",
    "    Parameters\n",
    "    ----------\n",
    "    start : str\n",
    "        The start time of the time range in UTC ISO 8601 format.\n",
    "    end : str\n",
    "        The end time of the time range in UTC ISO 8601 format.\n",
    "    client : EfdClient | None, optional\n",
    "        An instance of EfdClient for connecting to the Event Forwarding Database. Default is None.\n",
    "\n",
    "    Returns\n",
    "    -------\n",
    "    list\n",
    "        A list of TMA slew events that occurred within the specified time range.\n",
    "\n",
    "    Notes\n",
    "    -----\n",
    "    This function retrieves TMA slew events occurring between the specified start and end times.\n",
    "    It uses the TMAEventMaker class to obtain events for the specified day of observation (dayObs).\n",
    "    The events are filtered to include only those that start after 1 second before the specified start time\n",
    "    and end before 1 second after the specified end time.\n",
    "\n",
    "    Example\n",
    "    -------\n",
    "    >>> start_time = \"2023-08-09T00:00:00\"\n",
    "    >>> end_time = \"2023-08-09T23:59:59\"\n",
    "    >>> tma_events = get_tma_slew_events(start_time, end_time)\n",
    "    \"\"\"\n",
    "    start = Time(start, scale='utc')\n",
    "    end = Time(end, scale='utc')\n",
    "    \n",
    "    dayObs = int(start.strftime(\"%Y%m%d\"))\n",
    "    eventMaker = TMAEventMaker()\n",
    "    events = eventMaker.getEvents(dayObs)\n",
    "    events = [e for e in events if (e.begin > start - TimeDelta(1, format=\"sec\")) \n",
    "              & ((e.begin < end + TimeDelta(1, format=\"sec\")))]\n",
    "    \n",
    "    return events"
   ]
  },
  {
   "cell_type": "markdown",
   "id": "49cde41d-a015-482d-90be-a62368b45d2f",
   "metadata": {},
   "source": [
    "## Data Collection"
   ]
  },
  {
   "cell_type": "code",
   "execution_count": null,
   "id": "5c510e63-2ef5-4480-a7ff-990749fee22d",
   "metadata": {
    "tags": []
   },
   "outputs": [],
   "source": [
    "# Dataset 1 - Az Slew from -100 to 100 with 80 El, 30% motion settings and Inertia Compensation On\n",
    "start = \"2023-08-02T22:02:30\"\n",
    "end = \"2023-08-02T22:04:00\"\n",
    "\n",
    "dataset1 = SlewDataSet(\n",
    "    name=\"Az Slew from -100 to 100 with 80 El, 30% motion settings and Inertia Compensation On\",\n",
    "    start=start, \n",
    "    end=end\n",
    ")\n",
    "\n",
    "dataset1.df = await query_dataset(dataset1.start, dataset1.end)\n",
    "dataset1.stats = get_stats(dataset1)"
   ]
  },
  {
   "cell_type": "code",
   "execution_count": null,
   "id": "974c2eae-751d-4d85-b115-ca34452f7664",
   "metadata": {
    "tags": []
   },
   "outputs": [],
   "source": [
    "# Dataset 2 - Az Slew from -100 to 100 with 80 El, 30% motion settings and Inertia Compensation On\n",
    "start = \"2023-07-28T02:15:45\"\n",
    "end = \"2023-07-28T02:17:15\"\n",
    "\n",
    "dataset2 = SlewDataSet(\n",
    "    name=\"Az Slew from -100 to 100 with 80 El, 30% motion settings and Inertia Compensation Off\",\n",
    "    start=start, \n",
    "    end=end\n",
    ")\n",
    "\n",
    "dataset2.df = await query_dataset(dataset2.start, dataset2.end)\n",
    "dataset2.stats = get_stats(dataset2)"
   ]
  },
  {
   "cell_type": "markdown",
   "id": "0ca8feb2-0825-4f6d-9533-4ea40ea12863",
   "metadata": {},
   "source": [
    "## Plots and Analysis"
   ]
  },
  {
   "cell_type": "code",
   "execution_count": null,
   "id": "afb1556b-c4dc-44fa-bf74-ed1f134e79d6",
   "metadata": {
    "tags": []
   },
   "outputs": [],
   "source": [
    "def plot_hp_measured_data(df):\n",
    "    \"\"\"\n",
    "    Plots the HP Measured Data as a function of the time.\n",
    "    \n",
    "    Parameters\n",
    "    ----------\n",
    "    df : pd.DataFrame\n",
    "        Table containing the HP measured forces (the columns should be \n",
    "        `measuredForces0`, `measuredForces1`, etc.). The index should be \n",
    "        a timestamp. \n",
    "    \"\"\"                   \n",
    "    fig, ax = plt.subplots(\n",
    "        num=\"HP Measured Forces\",\n",
    "        dpi=120,\n",
    "        figsize=(12, 4)\n",
    "    )\n",
    "\n",
    "    for hp in range(number_of_hardpoints):\n",
    "        topic = measured_forces_topics[hp]\n",
    "\n",
    "        ax.plot(\n",
    "            df[topic], \n",
    "            \"-\",\n",
    "            label=f\"HP{hp+1}\",\n",
    "        )\n",
    "\n",
    "    ax.set_title(f\"HP Measured Data\\n {df.index[0]} - {df.index[-1]}\")\n",
    "    ax.set_xlabel(\"Time [UTC]\")\n",
    "    ax.set_ylabel(\"HP Measured Forces [N]\")\n",
    "    ax.grid(\":\", alpha=0.2)\n",
    "    ax.legend(ncol=3)\n",
    "\n",
    "    plt.show()"
   ]
  },
  {
   "cell_type": "code",
   "execution_count": null,
   "id": "50b9ead6-9628-445f-92f9-cd98cf93b0d7",
   "metadata": {
    "tags": []
   },
   "outputs": [],
   "source": [
    "plot_hp_measured_data(dataset1.df)\n",
    "plot_hp_measured_data(dataset2.df)"
   ]
  },
  {
   "cell_type": "code",
   "execution_count": null,
   "id": "46f56834-19b2-4ed1-b8aa-c05928a7bc44",
   "metadata": {},
   "outputs": [],
   "source": [
    "dataset1.stats"
   ]
  },
  {
   "cell_type": "code",
   "execution_count": null,
   "id": "3a1c74b7-1a0e-404b-9524-1e52efd9a6b6",
   "metadata": {
    "tags": []
   },
   "outputs": [],
   "source": [
    "dataset2.stats"
   ]
  },
  {
   "cell_type": "code",
   "execution_count": null,
   "id": "592f920c-774d-40a2-9fd8-2c4f20e95052",
   "metadata": {},
   "outputs": [],
   "source": []
  }
 ],
 "metadata": {
  "kernelspec": {
   "display_name": "LSST",
   "language": "python",
   "name": "lsst"
  },
  "language_info": {
   "codemirror_mode": {
    "name": "ipython",
    "version": 3
   },
   "file_extension": ".py",
   "mimetype": "text/x-python",
   "name": "python",
   "nbconvert_exporter": "python",
   "pygments_lexer": "ipython3",
   "version": "3.10.10"
  }
 },
 "nbformat": 4,
 "nbformat_minor": 5
}
