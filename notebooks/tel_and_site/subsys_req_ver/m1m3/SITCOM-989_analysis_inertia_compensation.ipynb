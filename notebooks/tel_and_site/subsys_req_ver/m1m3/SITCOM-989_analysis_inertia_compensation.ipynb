{
 "cells": [
  {
   "cell_type": "markdown",
   "id": "5816c9f6-113f-4882-ac8a-2bad48b929cc",
   "metadata": {},
   "source": [
    "# SITCOM-989 - M1M3 Inertia Compensation Performance\n",
    "\n",
    "We need plots and metrics to evaluate the performance of the M1M3 Inertia Compensation System as described in [SITCOM-989].    \n",
    "Examples of plots are:\n",
    "\n",
    "* Hardpoint Load Cell Forces Minima and Maxima during slews as a function of time.\n",
    "* Correlate the plots above with accelerations, velocities, and positions.\n",
    "* (any other ideas?)\n",
    "\n",
    "Petr asked to analyse the data obtained when slewing the telescope around 80 deg in elevation with and without inertia forces. \n",
    "The two datasets below that he used as an example contain movement from -100 deg in azimuth to 100 deg in a single slew. \n",
    "On both cases, we are using 30% motion settings in azimuth. \n",
    "\n",
    "* [M1M3 TMA Inertial forces Chronograph Dashboard on 2023-08-02 22:02 - 2023-08-02 22:04 UTC]\n",
    "* [M1M3 TMA Inertial forces Chronograph Dashboard on 2023-07-28 02:15 - 2023-07-28 02:17 UTC]\n",
    "\n",
    "Added a new dataset containing similar data but with 50% azimuth motion settinds. \n",
    "\n",
    "* [M1M3 TMA Inertial forces Chronograph Dashboard on 2023-08-03 03:20 - 2023-08-03 03:22 UTC]\n",
    "\n",
    "[SITCOM-989]: https://jira.lsstcorp.org/browse/SITCOM-989\n",
    "\n",
    "\n",
    "[M1M3 TMA Inertial forces Chronograph Dashboard on 2023-08-02 22:02 - 2023-08-02 22:04 UTC]: https://summit-lsp.lsst.codes/chronograf/sources/1/dashboards/252?redirect=%2Flogin%3Fredirect%3D%252Fsources%252F1%252Fdashboards%252F252%253Frefresh%253D30s%2526tempVars%255BDownsample%255D%253DDefault%2526tempVars%255BFunction%255D%253Draw%2526lower%253Dnow%2528%2529%252520-%25252015m%2526zoomedLower%253D2023-08-02T21%25253A23%25253A19.366Z%2526zoomedUpper%253D2023-08-02T21%25253A23%25253A23.843Z&refresh=Paused&tempVars%5BDownsample%5D=Default&tempVars%5BFunction%5D=mean%28%29&lower=2023-08-02T20%3A00%3A00.000Z&upper=2023-08-03T02%3A00%3A00.000Z&zoomedLower=2023-08-02T22%3A02%3A24.799Z&zoomedUpper=2023-08-02T22%3A04%3A02.450Zhttps://summit-lsp.lsst.codes/chronograf/sources/1/dashboards/252?redirect=%2Flogin%3Fredirect%3D%252Fsources%252F1%252Fdashboards%252F252%253Frefresh%253D30s%2526tempVars%255BDownsample%255D%253DDefault%2526tempVars%255BFunction%255D%253Draw%2526lower%253Dnow%2528%2529%252520-%25252015m%2526zoomedLower%253D2023-08-02T21%25253A23%25253A19.366Z%2526zoomedUpper%253D2023-08-02T21%25253A23%25253A23.843Z&refresh=Paused&tempVars%5BDownsample%5D=Default&tempVars%5BFunction%5D=mean%28%29&lower=2023-08-02T20%3A00%3A00.000Z&upper=2023-08-03T02%3A00%3A00.000Z&zoomedLower=2023-08-02T22%3A02%3A24.799Z&zoomedUpper=2023-08-02T22%3A04%3A02.450Z\n",
    "\n",
    "\n",
    "[M1M3 TMA Inertial forces Chronograph Dashboard on 2023-07-28 02:15 - 2023-07-28 02:17 UTC]:https://summit-lsp.lsst.codes/chronograf/sources/1/dashboards/252?redirect=%2Flogin%3Fredirect%3D%252Fsources%252F1%252Fdashboards%252F252%253Frefresh%253D30s%2526tempVars%255BDownsample%255D%253DDefault%2526tempVars%255BFunction%255D%253Draw%2526lower%253Dnow%2528%2529%252520-%25252015m%2526zoomedLower%253D2023-08-02T21%25253A23%25253A19.366Z%2526zoomedUpper%253D2023-08-02T21%25253A23%25253A23.843Z&refresh=Paused&tempVars%5BDownsample%5D=Default&tempVars%5BFunction%5D=mean%28%29&lower=2023-07-28T02%3A00%3A00.000Z&upper=2023-07-28T03%3A30%3A00.000Z&zoomedLower=2023-07-28T02%3A15%3A45.730Z&zoomedUpper=2023-07-28T02%3A17%3A11.966Z\n",
    "\n",
    "[M1M3 TMA Inertial forces Chronograph Dashboard on 2023-08-03 03:20 - 2023-08-03 03:22 UTC]:https://summit-lsp.lsst.codes/chronograf/sources/1/dashboards/252?redirect=%2Flogin%3Fredirect%3D%252Fsources%252F1%252Fdashboards%252F252%253Frefresh%253D30s%2526tempVars%255BDownsample%255D%253DDefault%2526tempVars%255BFunction%255D%253Draw%2526lower%253Dnow%2528%2529%252520-%25252015m%2526zoomedLower%253D2023-08-02T21%25253A23%25253A19.366Z%2526zoomedUpper%253D2023-08-02T21%25253A23%25253A23.843Z&refresh=Paused&tempVars%5BDownsample%5D=5Hz&tempVars%5BFunction%5D=mean%28%29&lower=2023-08-03T03%3A20%3A00.000Z&upper=2023-08-03T03%3A22%3A00.000Z"
   ]
  },
  {
   "cell_type": "markdown",
   "id": "fbc394ad-1b3e-45de-b0ee-62732a411ef4",
   "metadata": {},
   "source": [
    "## Notebook Preparation"
   ]
  },
  {
   "cell_type": "code",
   "execution_count": null,
   "id": "6402f4cc-296b-48d8-99cc-9a1f85992c99",
   "metadata": {
    "tags": []
   },
   "outputs": [],
   "source": [
    "%matplotlib inline\n",
    "import matplotlib.cm as cm\n",
    "import matplotlib.pyplot as plt\n",
    "import numpy as np\n",
    "import pandas as pd\n",
    "\n",
    "from astropy.time import Time, TimeDelta\n",
    "from datetime import timedelta\n",
    "from scipy import integrate\n",
    "\n",
    "from lsst.sitcom import vandv\n",
    "from lsst.summit.utils.efdUtils import EfdClient, getDayObsForTime, makeEfdClient\n",
    "from lsst.summit.utils.tmaUtils import TMAEventMaker, TMAEvent"
   ]
  },
  {
   "cell_type": "code",
   "execution_count": null,
   "id": "b2fac6ac-70de-4dcf-a7f9-c27da07795c6",
   "metadata": {
    "tags": []
   },
   "outputs": [],
   "source": [
    "efd_client = makeEfdClient()"
   ]
  },
  {
   "cell_type": "code",
   "execution_count": null,
   "id": "702362d9-9f80-4e23-a8ec-3cb8899491c5",
   "metadata": {
    "tags": []
   },
   "outputs": [],
   "source": [
    "number_of_hardpoints = 6\n",
    "measured_forces_topics = [f\"measuredForce{i}\" for i in range(6)]"
   ]
  },
  {
   "cell_type": "markdown",
   "id": "a7e2aad0-8660-4e26-9b77-4d3c5850f080",
   "metadata": {
    "tags": []
   },
   "source": [
    "### Helper Functions and Classes"
   ]
  },
  {
   "cell_type": "markdown",
   "id": "91f937b4-5542-4445-922c-d544547d3d23",
   "metadata": {
    "tags": []
   },
   "source": [
    "#### SlewDataSet"
   ]
  },
  {
   "cell_type": "code",
   "execution_count": null,
   "id": "a7f87c6b-60b4-4099-88d0-a8cf961bfdd2",
   "metadata": {
    "tags": []
   },
   "outputs": [],
   "source": [
    "class SlewDataSet:\n",
    "    \"\"\"\n",
    "    Hold all the data associated with a slew.\n",
    "    \n",
    "    Parameters\n",
    "    ----------\n",
    "    name : str\n",
    "        Human readable name\n",
    "    begin : str or `astropy.time.Time`\n",
    "        Start date and time in ISO format and in UTC.\n",
    "    end : str or `astropy.time.Time`\n",
    "        End date and time in ISO format and in UTC.\n",
    "        \n",
    "    Attributes\n",
    "    ----------\n",
    "    df : pd.DataFrame | None = None\n",
    "        Table containing the HP measured forces (the columns should be \n",
    "        `measuredForces0`, `measuredForces1`, etc.). The index should be \n",
    "        a timestamp. \n",
    "    stats : pd.DataFrame | None = None\n",
    "        Table containing the min/max/ptp values for each HP measured forces \n",
    "        in the beginning of a slew and at the end of a slew. \n",
    "    events : list[TMAEvent] | None = None\n",
    "        TMA slew events obtained via TMAEventMaker to have a more exact \n",
    "        timestamp from MTMount.\n",
    "    \"\"\"\n",
    "    def __init__(self, name : str, begin : str | Time, end : str | Time):\n",
    "        self.name = name\n",
    "        self.begin = begin if isinstance(begin, Time) else Time(begin, scale=\"utc\", format=\"isot\")\n",
    "        self.end = end if isinstance(end, Time) else Time(end, scale=\"utc\", format=\"isot\")\n",
    "        \n",
    "    async def start(self):\n",
    "        \"\"\"Performs all the measurements\"\"\"\n",
    "        self.df = await self.query_dataset()\n",
    "        self.stats = self.get_stats()\n",
    "        self.events = self.get_tma_slew_events()\n",
    "        self.integrals = self.get_integral()\n",
    "        \n",
    "    async def query_dataset(self):\n",
    "        \"\"\"\n",
    "        Queries all the relevant data, resample them to have the same requency and merge them in a single dataframe.\n",
    "            \n",
    "        Returns\n",
    "        -------\n",
    "        pd.DataFrame\n",
    "        \"\"\"    \n",
    "        hp_measured_forces = await efd_client.select_time_series(\n",
    "            \"lsst.sal.MTM1M3.hardpointActuatorData\", \n",
    "            measured_forces_topics, \n",
    "            Time(self.begin, scale='utc'), \n",
    "            Time(self.end, scale='utc')\n",
    "        )\n",
    "        return hp_measured_forces\n",
    "    \n",
    "    def get_stats(self):\n",
    "        \"\"\"\n",
    "        Calculate statistics for each column in a given dataset.\n",
    "\n",
    "        Returns\n",
    "        -------\n",
    "        pandas.DataFrame\n",
    "            A DataFrame containing calculated statistics for each column in the dataset.\n",
    "            For each column, the statistics include minimum, maximum, and peak-to-peak values.\n",
    "\n",
    "        Notes\n",
    "        -----\n",
    "        This function computes statistics for each column in the provided dataset. It utilizes the `get_minmax` function\n",
    "        to calculate minimum, maximum, and peak-to-peak values for each column's data.\n",
    "        \"\"\"\n",
    "        stats = pd.DataFrame(\n",
    "            data=[self.get_minmax(self.df[col]) for col in self.df.columns],\n",
    "            index=self.df.columns\n",
    "        )\n",
    "        return stats\n",
    "    \n",
    "    @staticmethod\n",
    "    def get_minmax(s):\n",
    "        \"\"\"\n",
    "        Calculate minimum, maximum, and peak-to-peak values for two halves of a given pandas Series.\n",
    "\n",
    "        Parameters\n",
    "        ----------\n",
    "        s : pandas.Series\n",
    "            The input pandas Series containing data.\n",
    "\n",
    "        Returns\n",
    "        -------\n",
    "        pandas.Series\n",
    "            A Series containing the following calculated values for the two halves of the input Series:\n",
    "            - begin_min: Minimum value of the first half of the Series.\n",
    "            - begin_max: Maximum value of the first half of the Series.\n",
    "            - begin_ptp: Peak-to-peak (ptp) value of the first half of the Series (abs(max - min)).\n",
    "            - end_min: Minimum value of the second half of the Series.\n",
    "            - end_max: Maximum value of the second half of the Series.\n",
    "            - end_ptp: Peak-to-peak (ptp) value of the second half of the Series (abs(max - min)).\n",
    "\n",
    "        Notes\n",
    "        -----\n",
    "        This function divides the input Series into two halves and calculates the minimum, maximum, and peak-to-peak values\n",
    "        for each half. The peak-to-peak value is the absolute difference between the maximum and minimum values.\n",
    "\n",
    "        Example\n",
    "        -------\n",
    "        >>> import pandas as pd\n",
    "        >>> data = [1, 2, 3, 4, 5, 6, 7, 8]\n",
    "        >>> series = pd.Series(data, name='example')\n",
    "        >>> minmax_values = get_minmax(series)\n",
    "        \"\"\"\n",
    "\n",
    "        half_timestamp = len(s.index) // 2\n",
    "        first_half = s[:s.index[half_timestamp]]\n",
    "        second_half = s[s.index[half_timestamp:]]\n",
    "\n",
    "        first_half_ptp = abs(first_half.max() - first_half.min())\n",
    "        second_half_ptp = abs(second_half.max() - second_half.min())\n",
    "\n",
    "        result = pd.Series(\n",
    "            data=[\n",
    "                first_half.min(),\n",
    "                first_half.max(),\n",
    "                first_half_ptp,\n",
    "                second_half.min(),\n",
    "                second_half.max(),\n",
    "                second_half_ptp,\n",
    "            ],\n",
    "            index=[\n",
    "                \"begin_min\",\n",
    "                \"begin_max\",\n",
    "                \"begin_ptp\",\n",
    "                \"end_min\",\n",
    "                \"end_max\",\n",
    "                \"end_ptp\",\n",
    "            ],\n",
    "            name=s.name,\n",
    "        )\n",
    "\n",
    "        return result\n",
    "    \n",
    "    def get_tma_slew_events(self, t_pad : int = 1):\n",
    "        \"\"\"\n",
    "        Retrieve Telescope Mount Assembly (TMA) slew events within a specified time range.\n",
    "\n",
    "        Parameters\n",
    "        ----------\n",
    "        t_pad : int, default=1\n",
    "            Time padding in seconds to be added at the beginning and at the end of a slew event.\n",
    "\n",
    "        Returns\n",
    "        -------\n",
    "        list\n",
    "            A list of TMA slew events that occurred within the specified time range.\n",
    "\n",
    "        Notes\n",
    "        -----\n",
    "        This function retrieves TMA slew events occurring between the specified start and end times.\n",
    "        It uses the TMAEventMaker class to obtain events for the specified day of observation (dayObs).\n",
    "        The events are filtered to include only those that start after 1 second before the specified start time\n",
    "        and end before 1 second after the specified end time.\n",
    "\n",
    "        Example\n",
    "        -------\n",
    "        >>> start_time = \"2023-08-09T00:00:00\"\n",
    "        >>> end_time = \"2023-08-09T23:59:59\"\n",
    "        >>> tma_events = get_tma_slew_events(start_time, end_time)\n",
    "        \"\"\"\n",
    "        dayObs = getDayObsForTime(self.begin)\n",
    "        print(self.begin, dayObs)\n",
    "\n",
    "        eventMaker = TMAEventMaker()\n",
    "        events = eventMaker.getEvents(dayObs)\n",
    "\n",
    "        events = [e for e in events if (Time(e.begin, scale=\"utc\") > self.begin - TimeDelta(t_pad, format=\"sec\"))\n",
    "                  & ((Time(e.end, scale=\"utc\") < self.end + TimeDelta(t_pad, format=\"sec\")))]\n",
    "\n",
    "        return events\n",
    "    \n",
    "    def get_integral(self, t_pad : int = 1.):\n",
    "    \n",
    "        # Slice the region far from the beginning and the end of a slew\n",
    "        evt = self.events[0]\n",
    "        begin = pd.to_datetime(evt.begin.datetime + timedelta(seconds=t_pad), utc=True)\n",
    "        end = pd.to_datetime(evt.end.datetime - timedelta(seconds=t_pad), utc=True)\n",
    "        df = self.df[begin:end]\n",
    "\n",
    "        # Convert pd.DateTimeIndex to a timestamp in seconds\n",
    "        numeric_timestamp = df.index.astype(np.int64) / 1e9\n",
    "\n",
    "        # Calculate the integral using different methods    \n",
    "        standard_sum = [df[col].sum() for col in df]\n",
    "        normalized_sum = [df[col].sum() / abs(numeric_timestamp[-1] - numeric_timestamp[0]) for col in df]\n",
    "        simps_integration = [integrate.simps(df[col], numeric_timestamp) for col in df] \n",
    "        trapz_integration = [integrate.trapz(df[col], numeric_timestamp) for col in df]\n",
    "\n",
    "        # Get Average, Mode and Std within the \"stable\" area\n",
    "        mean = [df[col].mean() for col in df]\n",
    "        median = [df[col].median() for col in df]\n",
    "        std = [df[col].std() for col in df]\n",
    "\n",
    "        integrals = pd.DataFrame(\n",
    "            data=np.array([\n",
    "                standard_sum, \n",
    "                normalized_sum, \n",
    "                simps_integration, \n",
    "                trapz_integration,\n",
    "                mean,\n",
    "                median,\n",
    "                std\n",
    "            ]).T,\n",
    "            columns=[\n",
    "                \"standard_sum\",\n",
    "                \"normalized_sum\",\n",
    "                \"simps_integration\",\n",
    "                \"trapz_integration\",\n",
    "                \"mean\",\n",
    "                \"median\",\n",
    "                \"std\"\n",
    "            ],\n",
    "            index=df.columns,\n",
    "        )\n",
    "\n",
    "        return integrals"
   ]
  },
  {
   "cell_type": "markdown",
   "id": "49cde41d-a015-482d-90be-a62368b45d2f",
   "metadata": {},
   "source": [
    "## Data Collection"
   ]
  },
  {
   "cell_type": "code",
   "execution_count": null,
   "id": "5c510e63-2ef5-4480-a7ff-990749fee22d",
   "metadata": {
    "tags": []
   },
   "outputs": [],
   "source": [
    "# Dataset 1 - Az Slew from -100 to 100 with 80 El, 30% motion settings and Inertia Compensation On\n",
    "begin = \"2023-08-02T22:02:30\"\n",
    "end = \"2023-08-02T22:04:00\"\n",
    "\n",
    "dataset1 = SlewDataSet(\n",
    "    name=\"Az Slew from -100 to 100 with 80 El, 30% motion settings and Inertia Compensation On\",\n",
    "    begin=begin, \n",
    "    end=end,\n",
    ")\n",
    "\n",
    "await dataset1.start()"
   ]
  },
  {
   "cell_type": "code",
   "execution_count": null,
   "id": "974c2eae-751d-4d85-b115-ca34452f7664",
   "metadata": {
    "tags": []
   },
   "outputs": [],
   "source": [
    "# Dataset 2 - Az Slew from -100 to 100 with 80 El, 30% motion settings and Inertia Compensation On\n",
    "begin = \"2023-07-28T02:17:15\" \n",
    "end = \"2023-07-28T02:17:55\"\n",
    "\n",
    "dataset2 = SlewDataSet(\n",
    "    name=\"Az Slew from -100 to 100 with 80 El, 30% motion settings and Inertia Compensation Off\",\n",
    "    begin=begin, \n",
    "    end=end,\n",
    ")\n",
    "\n",
    "await dataset2.start()"
   ]
  },
  {
   "cell_type": "code",
   "execution_count": null,
   "id": "a94ba52b-2e6c-428d-9816-242f406dd86f",
   "metadata": {
    "tags": []
   },
   "outputs": [],
   "source": [
    "# Dataset 3 - Az Slew from -100 to 100 with 80 El, 50% Az motion settings and Inertia Compensation On\n",
    "begin = \"2023-08-03T03:20:30\"\n",
    "end = \"2023-08-03T03:21:20\"\n",
    "\n",
    "dataset3 = SlewDataSet(\n",
    "    name=\"Az Slew from -100 to 100 with 80 El, Az 50% / El 30% motion settings and Inertia Compensation On\",\n",
    "    begin=begin, \n",
    "    end=end,\n",
    ")\n",
    "\n",
    "await dataset3.start()"
   ]
  },
  {
   "cell_type": "markdown",
   "id": "0ca8feb2-0825-4f6d-9533-4ea40ea12863",
   "metadata": {},
   "source": [
    "## Plots and Analysis"
   ]
  },
  {
   "cell_type": "code",
   "execution_count": null,
   "id": "afb1556b-c4dc-44fa-bf74-ed1f134e79d6",
   "metadata": {
    "tags": []
   },
   "outputs": [],
   "source": [
    "def plot_hp_measured_data(dataset):\n",
    "    \"\"\"\n",
    "    Plots the HP Measured Data as a function of the time.\n",
    "    \n",
    "    Parameters\n",
    "    ----------\n",
    "    dataset : SlewDataSet\n",
    "        Dataset containing the timestamps associated with the beginning and the\n",
    "        end of a slew.\n",
    "    \"\"\"                   \n",
    "    fig, ax = plt.subplots(\n",
    "        num=f\"HP Measured Forces - {dataset.name}\",\n",
    "        dpi=120,\n",
    "        figsize=(12, 3)\n",
    "    )\n",
    "\n",
    "    \n",
    "    for hp in range(number_of_hardpoints):\n",
    "        topic = measured_forces_topics[hp]\n",
    "\n",
    "        ax.plot(\n",
    "            dataset.df[topic], \n",
    "            \"-\",\n",
    "            label=f\"HP{hp+1}\",\n",
    "            lw=0.5,\n",
    "        )\n",
    "        \n",
    "    if dataset.events:\n",
    "        t_pad = timedelta(seconds=5)\n",
    "        for e in dataset.events:\n",
    "            l_slew = ax.axvspan(Time(e.begin, scale=\"utc\").datetime, Time(e.end, scale=\"utc\").datetime, ec=None, fc='k', alpha=0.1, label=\"Slew Window\", zorder=-1)\n",
    "            l_integ = ax.axvspan(Time(e.begin, scale=\"utc\").datetime + t_pad, Time(e.end, scale=\"utc\").datetime - t_pad, ec=None, fc='b', alpha=0.1, label=\"Integration Window\", zorder=-1)\n",
    "\n",
    "    t_fmt = \"%Y%m%d %H:%M:%S\"\n",
    "    ax.set_title(f\"HP Measured Data\\n {dataset.df.index[0].strftime(t_fmt)} - {dataset.df.index[-1].strftime(t_fmt)}\")\n",
    "    ax.set_xlabel(\"Time [UTC]\")\n",
    "    ax.set_ylabel(\"HP Measured Forces [N]\")\n",
    "    ax.grid(\":\", alpha=0.2)\n",
    "    ax.legend(ncol=4)\n",
    "\n",
    "    plt.show()"
   ]
  },
  {
   "cell_type": "code",
   "execution_count": null,
   "id": "93d978c9-5058-4ec0-8138-7a402cef21ed",
   "metadata": {
    "tags": []
   },
   "outputs": [],
   "source": [
    "%matplotlib inline"
   ]
  },
  {
   "cell_type": "code",
   "execution_count": null,
   "id": "50b9ead6-9628-445f-92f9-cd98cf93b0d7",
   "metadata": {
    "tags": []
   },
   "outputs": [],
   "source": [
    "plot_hp_measured_data(dataset1)\n",
    "plot_hp_measured_data(dataset2)\n",
    "plot_hp_measured_data(dataset3)"
   ]
  },
  {
   "cell_type": "code",
   "execution_count": null,
   "id": "409fd8f8-cce5-4d5a-beb7-5b4a0f34b79c",
   "metadata": {
    "tags": []
   },
   "outputs": [],
   "source": [
    "print(dataset1.name)\n",
    "dataset1.stats"
   ]
  },
  {
   "cell_type": "code",
   "execution_count": null,
   "id": "2954910d-92b8-4c27-a6e6-0c8936932d13",
   "metadata": {
    "tags": []
   },
   "outputs": [],
   "source": [
    "print(dataset2.name)\n",
    "dataset2.stats"
   ]
  },
  {
   "cell_type": "code",
   "execution_count": null,
   "id": "fd745bbf-dea7-4085-b76e-501141951c68",
   "metadata": {
    "tags": []
   },
   "outputs": [],
   "source": [
    "print(dataset3.name)\n",
    "dataset3.stats"
   ]
  },
  {
   "cell_type": "code",
   "execution_count": null,
   "id": "96185278-9f03-4887-8f52-264be034d978",
   "metadata": {
    "tags": []
   },
   "outputs": [],
   "source": [
    "print(dataset1.name)\n",
    "dataset1.integrals"
   ]
  },
  {
   "cell_type": "code",
   "execution_count": null,
   "id": "b3470019-7081-48a0-a88a-8d2af555197f",
   "metadata": {
    "tags": []
   },
   "outputs": [],
   "source": [
    "print(dataset2.name)\n",
    "dataset2.integrals"
   ]
  },
  {
   "cell_type": "code",
   "execution_count": null,
   "id": "43e4bcca-ec65-4dae-9954-f4a3f962cfbb",
   "metadata": {
    "tags": []
   },
   "outputs": [],
   "source": [
    "print(dataset3.name)\n",
    "dataset3.integrals"
   ]
  },
  {
   "cell_type": "code",
   "execution_count": null,
   "id": "2af26a74-df14-4758-a55d-47298e767a73",
   "metadata": {},
   "outputs": [],
   "source": []
  }
 ],
 "metadata": {
  "kernelspec": {
   "display_name": "LSST",
   "language": "python",
   "name": "lsst"
  },
  "language_info": {
   "codemirror_mode": {
    "name": "ipython",
    "version": 3
   },
   "file_extension": ".py",
   "mimetype": "text/x-python",
   "name": "python",
   "nbconvert_exporter": "python",
   "pygments_lexer": "ipython3",
   "version": "3.10.10"
  }
 },
 "nbformat": 4,
 "nbformat_minor": 5
}
