{
 "cells": [
  {
   "cell_type": "markdown",
   "id": "5816c9f6-113f-4882-ac8a-2bad48b929cc",
   "metadata": {},
   "source": [
    "# SITCOM-989 - M1M3 Inertia Compensation Performance\n",
    "\n",
    "We need plots and metrics to evaluate the performance of the M1M3 Inertia Compensation System as described in [SITCOM-989].    \n",
    "Examples of plots are:\n",
    "\n",
    "* Hardpoint Load Cell Forces Minima and Maxima during slews as a function of time.\n",
    "* Correlate the plots above with accelerations, velocities, and positions.\n",
    "* (any other ideas?)\n",
    "\n",
    "Petr asked to analyse the data obtained when slewing the telescope around 80 deg in elevation with and without inertia forces. \n",
    "The two datasets below that he used as an example contain movement from -100 deg in azimuth to 100 deg in a single slew. \n",
    "On both cases, we are using 30% motion settings in azimuth. \n",
    "\n",
    "* [M1M3 TMA Inertial forces Chronograph Dashboard on 2023-08-02 22:02 - 2023-08-02 22:04 UTC]\n",
    "* [M1M3 TMA Inertial forces Chronograph Dashboard on 2023-07-28 02:15 - 2023-07-28 02:17 UTC]\n",
    "\n",
    "Added a new dataset containing similar data but with 50% azimuth motion settinds. \n",
    "\n",
    "* [M1M3 TMA Inertial forces Chronograph Dashboard on 2023-08-03 03:20 - 2023-08-03 03:22 UTC]\n",
    "\n",
    "[SITCOM-989]: https://jira.lsstcorp.org/browse/SITCOM-989\n",
    "\n",
    "\n",
    "[M1M3 TMA Inertial forces Chronograph Dashboard on 2023-08-02 22:02 - 2023-08-02 22:04 UTC]: https://summit-lsp.lsst.codes/chronograf/sources/1/dashboards/252?redirect=%2Flogin%3Fredirect%3D%252Fsources%252F1%252Fdashboards%252F252%253Frefresh%253D30s%2526tempVars%255BDownsample%255D%253DDefault%2526tempVars%255BFunction%255D%253Draw%2526lower%253Dnow%2528%2529%252520-%25252015m%2526zoomedLower%253D2023-08-02T21%25253A23%25253A19.366Z%2526zoomedUpper%253D2023-08-02T21%25253A23%25253A23.843Z&refresh=Paused&tempVars%5BDownsample%5D=Default&tempVars%5BFunction%5D=mean%28%29&lower=2023-08-02T20%3A00%3A00.000Z&upper=2023-08-03T02%3A00%3A00.000Z&zoomedLower=2023-08-02T22%3A02%3A24.799Z&zoomedUpper=2023-08-02T22%3A04%3A02.450Zhttps://summit-lsp.lsst.codes/chronograf/sources/1/dashboards/252?redirect=%2Flogin%3Fredirect%3D%252Fsources%252F1%252Fdashboards%252F252%253Frefresh%253D30s%2526tempVars%255BDownsample%255D%253DDefault%2526tempVars%255BFunction%255D%253Draw%2526lower%253Dnow%2528%2529%252520-%25252015m%2526zoomedLower%253D2023-08-02T21%25253A23%25253A19.366Z%2526zoomedUpper%253D2023-08-02T21%25253A23%25253A23.843Z&refresh=Paused&tempVars%5BDownsample%5D=Default&tempVars%5BFunction%5D=mean%28%29&lower=2023-08-02T20%3A00%3A00.000Z&upper=2023-08-03T02%3A00%3A00.000Z&zoomedLower=2023-08-02T22%3A02%3A24.799Z&zoomedUpper=2023-08-02T22%3A04%3A02.450Z\n",
    "\n",
    "\n",
    "[M1M3 TMA Inertial forces Chronograph Dashboard on 2023-07-28 02:15 - 2023-07-28 02:17 UTC]:https://summit-lsp.lsst.codes/chronograf/sources/1/dashboards/252?redirect=%2Flogin%3Fredirect%3D%252Fsources%252F1%252Fdashboards%252F252%253Frefresh%253D30s%2526tempVars%255BDownsample%255D%253DDefault%2526tempVars%255BFunction%255D%253Draw%2526lower%253Dnow%2528%2529%252520-%25252015m%2526zoomedLower%253D2023-08-02T21%25253A23%25253A19.366Z%2526zoomedUpper%253D2023-08-02T21%25253A23%25253A23.843Z&refresh=Paused&tempVars%5BDownsample%5D=Default&tempVars%5BFunction%5D=mean%28%29&lower=2023-07-28T02%3A00%3A00.000Z&upper=2023-07-28T03%3A30%3A00.000Z&zoomedLower=2023-07-28T02%3A15%3A45.730Z&zoomedUpper=2023-07-28T02%3A17%3A11.966Z\n",
    "\n",
    "[M1M3 TMA Inertial forces Chronograph Dashboard on 2023-08-03 03:20 - 2023-08-03 03:22 UTC]:https://summit-lsp.lsst.codes/chronograf/sources/1/dashboards/252?redirect=%2Flogin%3Fredirect%3D%252Fsources%252F1%252Fdashboards%252F252%253Frefresh%253D30s%2526tempVars%255BDownsample%255D%253DDefault%2526tempVars%255BFunction%255D%253Draw%2526lower%253Dnow%2528%2529%252520-%25252015m%2526zoomedLower%253D2023-08-02T21%25253A23%25253A19.366Z%2526zoomedUpper%253D2023-08-02T21%25253A23%25253A23.843Z&refresh=Paused&tempVars%5BDownsample%5D=5Hz&tempVars%5BFunction%5D=mean%28%29&lower=2023-08-03T03%3A20%3A00.000Z&upper=2023-08-03T03%3A22%3A00.000Z"
   ]
  },
  {
   "cell_type": "markdown",
   "id": "fbc394ad-1b3e-45de-b0ee-62732a411ef4",
   "metadata": {},
   "source": [
    "## Notebook Preparation"
   ]
  },
  {
   "cell_type": "code",
   "execution_count": null,
   "id": "6402f4cc-296b-48d8-99cc-9a1f85992c99",
   "metadata": {
    "tags": []
   },
   "outputs": [],
   "source": [
    "%load_ext autoreload\n",
    "%autoreload 2\n",
    "import matplotlib.pyplot as plt\n",
    "from astropy.time import Time\n",
    "from lsst.summit.testing.analysis.utils import create_logger\n",
    "from lsst.summit.testing.analysis.m1m3 import inertia_compensation_system as m1m3_ics\n",
    "from lsst.summit.testing.analysis.m1m3.plots import inertia_compensation_system as m1m3_ics_plots\n",
    "from lsst.summit.utils.tmaUtils import TMAEvent, TMAEventMaker"
   ]
  },
  {
   "cell_type": "markdown",
   "id": "49cde41d-a015-482d-90be-a62368b45d2f",
   "metadata": {},
   "source": [
    "## Data Collection"
   ]
  },
  {
   "cell_type": "markdown",
   "id": "4532f599-5201-49b4-8899-4374291d5be5",
   "metadata": {},
   "source": [
    "## Create Event Maker\n",
    "\n",
    "We want to create a single instance of the `TMAEventMaker` object.  \n",
    "Each instance might be quite heavy. "
   ]
  },
  {
   "cell_type": "code",
   "execution_count": null,
   "id": "68db14d4-41c9-4cd7-a606-53cd703d3e43",
   "metadata": {
    "tags": []
   },
   "outputs": [],
   "source": [
    "event_maker = TMAEventMaker()"
   ]
  },
  {
   "cell_type": "markdown",
   "id": "c23f96de-2a96-4500-ae59-c1d3d3054ac4",
   "metadata": {},
   "source": [
    "## Example 1: Analyze M1M3 ICS per Slew Event"
   ]
  },
  {
   "cell_type": "code",
   "execution_count": null,
   "id": "5c510e63-2ef5-4480-a7ff-990749fee22d",
   "metadata": {
    "tags": []
   },
   "outputs": [],
   "source": [
    "# Az Slew from -100 to 100 with 80 El, 30% motion settings and Inertia Compensation On\n",
    "begin = \"2023-08-02T22:02:30\"\n",
    "end = \"2023-08-02T22:04:00\"\n",
    "\n",
    "time_begin = Time(begin, format=\"isot\", scale=\"utc\")\n",
    "time_end = Time(end, format=\"isot\", scale=\"utc\")\n",
    "time_half = time_begin + (time_end - time_begin) * 0.5\n",
    "\n",
    "event = event_maker.findEvent(time_half)\n",
    "print(\n",
    "    f\"Slew happened from {begin=} to {end=} \"\n",
    "    f\"and has sequence number {event.seqNum} \"\n",
    "    f\"and observation day {event.dayObs}\"\n",
    ")\n",
    "\n",
    "dataset1 = m1m3_ics.M1M3ICSAnalysis(event, event_maker.client)\n",
    "fig1 = m1m3_ics_plots.plot_hp_measured_data(dataset1, log=dataset1.log, figsize=(18, 12))"
   ]
  },
  {
   "cell_type": "code",
   "execution_count": null,
   "id": "974c2eae-751d-4d85-b115-ca34452f7664",
   "metadata": {
    "tags": []
   },
   "outputs": [],
   "source": [
    "# Dataset 2 - Az Slew from -100 to 100 with 80 El, 30% motion settings and Inertia Compensation On\n",
    "begin = \"2023-07-28T02:17:15\" \n",
    "end = \"2023-07-28T02:17:55\"\n",
    "\n",
    "time_begin = Time(begin, format=\"isot\", scale=\"utc\")\n",
    "time_end = Time(end, format=\"isot\", scale=\"utc\")\n",
    "time_half = time_begin + (time_end - time_begin) * 0.5\n",
    "\n",
    "event = event_maker.findEvent(time_half)\n",
    "print(\n",
    "    f\"Slew happened from {begin=} to {end=} \"\n",
    "    f\"and has sequence number {event.seqNum} \"\n",
    "    f\"and observation day {event.dayObs}\"\n",
    ")\n",
    "\n",
    "dataset2 = m1m3_ics.M1M3ICSAnalysis(event, event_maker.client)\n",
    "fig2 = m1m3_ics_plots.plot_hp_measured_data(dataset2)"
   ]
  },
  {
   "cell_type": "code",
   "execution_count": null,
   "id": "a94ba52b-2e6c-428d-9816-242f406dd86f",
   "metadata": {
    "tags": []
   },
   "outputs": [],
   "source": [
    "# Dataset 3 - Az Slew from -100 to 100 with 80 El, 50% Az motion settings and Inertia Compensation On\n",
    "begin = \"2023-08-03T03:20:30\"\n",
    "end = \"2023-08-03T03:21:20\"\n",
    "\n",
    "time_begin = Time(begin, format=\"isot\", scale=\"utc\")\n",
    "time_end = Time(end, format=\"isot\", scale=\"utc\")\n",
    "time_half = time_begin + (time_end - time_begin) * 0.5\n",
    "\n",
    "event = event_maker.findEvent(time_half)\n",
    "print(\n",
    "    f\"Slew happened from {begin=} to {end=} \"\n",
    "    f\"and has sequence number {event.seqNum} \"\n",
    "    f\"and observation day {event.dayObs}\"\n",
    ")\n",
    "\n",
    "dataset3 = m1m3_ics.M1M3ICSAnalysis(event, event_maker.client)\n",
    "m1m3_ics_plots.plot_hp_measured_data(dataset3, dpi=120)"
   ]
  },
  {
   "cell_type": "markdown",
   "id": "a3e6d110-2b12-4c3f-8deb-96dd16a86334",
   "metadata": {},
   "source": [
    "## Example 2: Analyze M1M3 ICS per Day Obs "
   ]
  },
  {
   "cell_type": "code",
   "execution_count": null,
   "id": "30f855a4-3da2-485a-84bc-843e50d93056",
   "metadata": {
    "tags": []
   },
   "outputs": [],
   "source": [
    "results = m1m3_ics.evaluate_m1m3_ics_day_obs(20230802, event_maker)"
   ]
  }
 ],
 "metadata": {
  "kernelspec": {
   "display_name": "LSST",
   "language": "python",
   "name": "lsst"
  },
  "language_info": {
   "codemirror_mode": {
    "name": "ipython",
    "version": 3
   },
   "file_extension": ".py",
   "mimetype": "text/x-python",
   "name": "python",
   "nbconvert_exporter": "python",
   "pygments_lexer": "ipython3",
   "version": "3.11.4"
  }
 },
 "nbformat": 4,
 "nbformat_minor": 5
}
