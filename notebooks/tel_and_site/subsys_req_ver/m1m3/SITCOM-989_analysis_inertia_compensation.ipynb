{
 "cells": [
  {
   "cell_type": "markdown",
   "id": "5816c9f6-113f-4882-ac8a-2bad48b929cc",
   "metadata": {},
   "source": [
    "# SITCOM-989 - M1M3 Inertia Compensation Performance"
   ]
  },
  {
   "cell_type": "markdown",
   "id": "fbc394ad-1b3e-45de-b0ee-62732a411ef4",
   "metadata": {},
   "source": [
    "## Notebook Preparation"
   ]
  },
  {
   "cell_type": "markdown",
   "id": "49cde41d-a015-482d-90be-a62368b45d2f",
   "metadata": {},
   "source": [
    "## Data Collection"
   ]
  },
  {
   "cell_type": "markdown",
   "id": "19dba517-d269-4905-9ba3-f476da62c950",
   "metadata": {},
   "source": [
    "## Data Processing"
   ]
  },
  {
   "cell_type": "markdown",
   "id": "0ca8feb2-0825-4f6d-9533-4ea40ea12863",
   "metadata": {},
   "source": [
    "## Plots and Analysis"
   ]
  }
 ],
 "metadata": {
  "kernelspec": {
   "display_name": "LSST",
   "language": "python",
   "name": "lsst"
  },
  "language_info": {
   "codemirror_mode": {
    "name": "ipython",
    "version": 3
   },
   "file_extension": ".py",
   "mimetype": "text/x-python",
   "name": "python",
   "nbconvert_exporter": "python",
   "pygments_lexer": "ipython3",
   "version": "3.10.10"
  }
 },
 "nbformat": 4,
 "nbformat_minor": 5
}
