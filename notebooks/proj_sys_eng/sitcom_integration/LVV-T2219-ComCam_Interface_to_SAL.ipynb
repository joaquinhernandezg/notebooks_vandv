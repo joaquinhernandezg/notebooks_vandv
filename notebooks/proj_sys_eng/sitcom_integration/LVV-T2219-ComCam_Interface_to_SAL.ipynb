{
 "cells": [
  {
   "cell_type": "markdown",
   "metadata": {},
   "source": [
    "# Test Case LVV-T2219\n",
    "The objective of this test case is to verify the ComCam communication interface with SAL by testing the commands, events and telemetry defined by the latest version of the XML. This test case will exercise the functionality of the ComCam on the 3rd level of the Summit and meets the following criteria:\n",
    "\n",
    "    Only requires the ComCam to be operational\n",
    "    Does not require any communication with other subsystems\n",
<<<<<<< HEAD
<<<<<<< HEAD
    "    Does require the use of SAL and the EFD\n",
    "    \n"
   ]
  },
  {
   "cell_type": "code",
   "execution_count": null,
   "metadata": {},
   "outputs": [],
   "source": [
    "from lsst.sitcom import vandv\n",
    "\n",
    "exec_info = vandv.ExecutionInfo()\n",
    "print(exec_info)"
=======
    "    Does require the use of SAL and the EFD"
>>>>>>> 3a47a29 (Initial commit)
=======
    "    Does require the use of SAL and the EFD\n",
    "    \n"
>>>>>>> 51d275c (Add event_name to callback function)
   ]
  },
  {
   "cell_type": "markdown",
   "metadata": {},
   "source": [
    "## Setup"
   ]
  },
  {
   "cell_type": "code",
<<<<<<< HEAD
<<<<<<< HEAD
   "execution_count": 6,
   "metadata": {},
   "outputs": [],
   "source": [
    "import asyncio\n",
    "import logging\n",
    "import os\n",
    "import yaml\n",
    "\n",
    "import astropy.units as u\n",
    "import numpy as np\n",
    "import pandas as pd\n",
    "\n",
    "from astropy.time import Time\n",
    "from datetime import datetime, timedelta\n",
    "from matplotlib import pyplot as plt\n",
    "\n",
    "from lsst.ts.observatory.control.maintel import ComCam\n",
    "from lsst.ts.observing.utilities.decorated_logger import DecoratedLogger\n",
    "from lsst_efd_client import EfdClient\n",
    "from lsst.ts import salobj"
=======
   "execution_count": 7,
=======
   "execution_count": 185,
>>>>>>> 51d275c (Add event_name to callback function)
   "metadata": {},
   "outputs": [
    {
     "name": "stdout",
     "output_type": "stream",
     "text": [
      "\n",
      "Executed by isotuela on 2022-07-08T00:39:47.347.\n",
      "  At the summit? False\n"
     ]
    }
   ],
   "source": [
    "from lsst.ts import utils\n",
    "\n",
    "# Extract your name from the Jupyter Hub\n",
    "__executed_by__ = os.environ[\"JUPYTERHUB_USER\"]  \n",
    "\n",
    "# Extract execution date\n",
    "__executed_on__ = utils.astropy_time_from_tai_unix(utils.current_tai())\n",
    "__executed_on__.format = \"isot\"\n",
    "\n",
    "# This is used later to define where Butler stores the images\n",
    "summit = os.environ[\"LSST_DDS_PARTITION_PREFIX\"] == \"summit\"\n",
    "\n",
    "print(f\"\\nExecuted by {__executed_by__} on {__executed_on__}.\"\n",
    "      f\"\\n  At the summit? {summit}\")"
   ]
  },
  {
   "cell_type": "code",
   "execution_count": 2,
   "metadata": {},
   "outputs": [],
   "source": [
    "from lsst.ts import salobj\n",
    "import logging\n",
    "import asyncio\n",
    "import os\n",
    "import yaml\n",
    "\n",
    "import numpy as np\n",
    "from matplotlib import pyplot as plt\n",
    "from astropy.time import Time\n",
    "from datetime import datetime, timedelta\n",
    "import pandas as pd\n",
    "import astropy.units as u\n",
    "\n",
    "from lsst.ts.observing.utilities.decorated_logger import DecoratedLogger\n",
<<<<<<< HEAD
    "from lsst_efd_client import EfdClient"
>>>>>>> 3a47a29 (Initial commit)
=======
    "from lsst_efd_client import EfdClient\n",
    "\n",
    "from lsst.ts.observatory.control.maintel import ComCam"
>>>>>>> 17e4311 (Add Domain)
   ]
  },
  {
   "cell_type": "markdown",
   "metadata": {},
   "source": [
    "The following block sets the necessary environment variables for setting up the DDS/SAL communication"
   ]
  },
  {
   "cell_type": "code",
<<<<<<< HEAD
<<<<<<< HEAD
   "execution_count": 7,
=======
   "execution_count": 2,
>>>>>>> 3a47a29 (Initial commit)
=======
   "execution_count": 3,
>>>>>>> 51d275c (Add event_name to callback function)
   "metadata": {},
   "outputs": [],
   "source": [
    "os.environ[\"LSST_DDS_HISTORYSYNC\"] = \"30\""
   ]
  },
  {
   "cell_type": "markdown",
   "metadata": {},
   "source": [
    "Setting up logger"
   ]
  },
  {
   "cell_type": "code",
<<<<<<< HEAD
<<<<<<< HEAD
   "execution_count": 8,
=======
   "execution_count": 5,
>>>>>>> 3a47a29 (Initial commit)
=======
   "execution_count": 4,
>>>>>>> 51d275c (Add event_name to callback function)
   "metadata": {},
   "outputs": [],
   "source": [
    "logger = DecoratedLogger.get_decorated_logger()\n",
    "logger.level = logging.DEBUG"
   ]
  },
  {
   "cell_type": "markdown",
   "metadata": {},
   "source": [
    "Getting unique index for Script"
   ]
  },
  {
   "cell_type": "code",
<<<<<<< HEAD
<<<<<<< HEAD
   "execution_count": 9,
=======
   "execution_count": 6,
>>>>>>> 3a47a29 (Initial commit)
=======
   "execution_count": 5,
>>>>>>> 51d275c (Add event_name to callback function)
   "metadata": {},
   "outputs": [
    {
     "data": {
      "text/html": [
       "<pre style=\"margin: 0.1em;\n",
       "padding-left: 0.25em;\n",
       "border-left-style: solid;\n",
       "font-family: var(--jp-code-font-family);\n",
       "font-size: var(--jp-code-font-size);\n",
       "line-height: var(--jp-code-line-height);\n",
       "\"><span style=\"color: var(--jp-warn-color2)\">root</span> <span style=\"color: var(--jp-info-color0)\">INFO</span>: Your UID is 87160242</pre>"
      ],
      "text/plain": [
       "<IPython.core.display.HTML object>"
      ]
     },
     "metadata": {},
     "output_type": "display_data"
    },
    {
     "data": {
      "text/html": [
       "<pre style=\"margin: 0.1em;\n",
       "padding-left: 0.25em;\n",
       "border-left-style: solid;\n",
       "font-family: var(--jp-code-font-family);\n",
       "font-size: var(--jp-code-font-size);\n",
       "line-height: var(--jp-code-line-height);\n",
<<<<<<< HEAD
<<<<<<< HEAD
       "\"><span style=\"color: var(--jp-warn-color2)\">root</span> <span style=\"color: var(--jp-info-color0)\">INFO</span>: The generated index is 871602420</pre>"
=======
       "\"><span style=\"color: var(--jp-warn-color2)\">root</span> <span style=\"color: var(--jp-info-color0)\">INFO</span>: The generated index is 871602423</pre>"
>>>>>>> 3a47a29 (Initial commit)
=======
       "\"><span style=\"color: var(--jp-warn-color2)\">root</span> <span style=\"color: var(--jp-info-color0)\">INFO</span>: The generated index is 871602428</pre>"
>>>>>>> 51d275c (Add event_name to callback function)
      ],
      "text/plain": [
       "<IPython.core.display.HTML object>"
      ]
     },
     "metadata": {},
     "output_type": "display_data"
    }
   ],
   "source": [
    "logger.info(f'Your UID is {os.getuid()}')\n",
    "index = os.getuid() * 10 + np.random.randint(0, 9)\n",
    "\n",
    "logger.info(f'The generated index is {index}')"
   ]
  },
  {
   "cell_type": "markdown",
   "metadata": {},
   "source": [
<<<<<<< HEAD
<<<<<<< HEAD
    "Make sure DDS Daemon is running and startup Domain"
=======
    "Instatiate script for logging into EFD and start script task"
>>>>>>> 3a47a29 (Initial commit)
=======
    "Make sure DDS Daemon is running and startup Domain"
>>>>>>> 51d275c (Add event_name to callback function)
   ]
  },
  {
   "cell_type": "code",
<<<<<<< HEAD
<<<<<<< HEAD
   "execution_count": 6,
   "metadata": {},
   "outputs": [],
   "source": [
    "domain = salobj.Domain()"
   ]
  },
  {
   "cell_type": "markdown",
   "metadata": {},
   "source": [
    "Instantiate script for logging into EFD and start script task"
   ]
  },
  {
   "cell_type": "code",
   "execution_count": 7,
   "metadata": {},
   "outputs": [
    {
     "data": {
      "text/html": [
       "<pre style=\"margin: 0.1em;\n",
       "padding-left: 0.25em;\n",
       "border-left-style: solid;\n",
       "font-family: var(--jp-code-font-family);\n",
       "font-size: var(--jp-code-font-size);\n",
       "line-height: var(--jp-code-line-height);\n",
       "\"><span style=\"color: var(--jp-warn-color2)\">Script</span> <span style=\"color: var(--jp-info-color0)\">INFO</span>: Disabling authlist-based command authorization</pre>"
      ],
      "text/plain": [
       "<IPython.core.display.HTML object>"
      ]
     },
     "metadata": {},
     "output_type": "display_data"
    },
    {
     "data": {
      "text/html": [
       "<pre style=\"margin: 0.1em;\n",
       "padding-left: 0.25em;\n",
       "border-left-style: solid;\n",
       "font-family: var(--jp-code-font-family);\n",
       "font-size: var(--jp-code-font-size);\n",
       "line-height: var(--jp-code-line-height);\n",
       "\"><span style=\"color: var(--jp-warn-color2)\">Script</span> <span style=\"color: var(--jp-info-color0)\">INFO</span>: Read historical data in 0.00 sec</pre>"
      ],
      "text/plain": [
       "<IPython.core.display.HTML object>"
      ]
     },
     "metadata": {},
     "output_type": "display_data"
    }
   ],
   "source": [
    "test_message = \"LVV-T2219 ComCam Interface to SAL\"\n",
=======
   "execution_count": null,
   "metadata": {},
   "outputs": [],
   "source": [
    "test_message = \"ComCam Interface to SAL\"\n",
>>>>>>> 3a47a29 (Initial commit)
=======
   "execution_count": 6,
   "metadata": {},
   "outputs": [],
   "source": [
    "domain = salobj.Domain()"
   ]
  },
  {
   "cell_type": "markdown",
   "metadata": {},
   "source": [
    "Instantiate script for logging into EFD and start script task"
   ]
  },
  {
   "cell_type": "code",
   "execution_count": 7,
   "metadata": {},
   "outputs": [
    {
     "data": {
      "text/html": [
       "<pre style=\"margin: 0.1em;\n",
       "padding-left: 0.25em;\n",
       "border-left-style: solid;\n",
       "font-family: var(--jp-code-font-family);\n",
       "font-size: var(--jp-code-font-size);\n",
       "line-height: var(--jp-code-line-height);\n",
       "\"><span style=\"color: var(--jp-warn-color2)\">Script</span> <span style=\"color: var(--jp-info-color0)\">INFO</span>: Disabling authlist-based command authorization</pre>"
      ],
      "text/plain": [
       "<IPython.core.display.HTML object>"
      ]
     },
     "metadata": {},
     "output_type": "display_data"
    },
    {
     "data": {
      "text/html": [
       "<pre style=\"margin: 0.1em;\n",
       "padding-left: 0.25em;\n",
       "border-left-style: solid;\n",
       "font-family: var(--jp-code-font-family);\n",
       "font-size: var(--jp-code-font-size);\n",
       "line-height: var(--jp-code-line-height);\n",
       "\"><span style=\"color: var(--jp-warn-color2)\">Script</span> <span style=\"color: var(--jp-info-color0)\">INFO</span>: Read historical data in 0.00 sec</pre>"
      ],
      "text/plain": [
       "<IPython.core.display.HTML object>"
      ]
     },
     "metadata": {},
     "output_type": "display_data"
    }
   ],
   "source": [
    "test_message = \"LVV-T2219 ComCam Interface to SAL\"\n",
>>>>>>> 51d275c (Add event_name to callback function)
    "script = salobj.Controller(\"Script\", index=index)\n",
    "await script.start_task"
   ]
  },
  {
   "cell_type": "markdown",
   "metadata": {},
   "source": [
    "EFD setup"
   ]
  },
  {
   "cell_type": "code",
<<<<<<< HEAD
<<<<<<< HEAD
   "execution_count": 31,
   "metadata": {},
   "outputs": [],
   "source": [
    "client = vandv.efd.create_efd_client()"
=======
   "execution_count": null,
=======
   "execution_count": 9,
>>>>>>> 51d275c (Add event_name to callback function)
   "metadata": {},
   "outputs": [
    {
     "data": {
      "text/html": [
       "<pre style=\"margin: 0.1em;\n",
       "padding-left: 0.25em;\n",
       "border-left-style: solid;\n",
       "font-family: var(--jp-code-font-family);\n",
       "font-size: var(--jp-code-font-size);\n",
       "line-height: var(--jp-code-line-height);\n",
       "\"><span style=\"color: var(--jp-warn-color2)\">urllib3.connectionpool</span> <span style=\"color: var(--jp-success-color0)\">DEBUG</span>: Starting new HTTPS connection (1): roundtable.lsst.codes:443</pre>"
      ],
      "text/plain": [
       "<IPython.core.display.HTML object>"
      ]
     },
     "metadata": {},
     "output_type": "display_data"
    },
    {
     "data": {
      "text/html": [
       "<pre style=\"margin: 0.1em;\n",
       "padding-left: 0.25em;\n",
       "border-left-style: solid;\n",
       "font-family: var(--jp-code-font-family);\n",
       "font-size: var(--jp-code-font-size);\n",
       "line-height: var(--jp-code-line-height);\n",
       "\"><span style=\"color: var(--jp-warn-color2)\">urllib3.connectionpool</span> <span style=\"color: var(--jp-success-color0)\">DEBUG</span>: https://roundtable.lsst.codes:443 &quot;GET /segwarides/ HTTP/1.1&quot; 200 253</pre>"
      ],
      "text/plain": [
       "<IPython.core.display.HTML object>"
      ]
     },
     "metadata": {},
     "output_type": "display_data"
    },
    {
     "data": {
      "text/html": [
       "<pre style=\"margin: 0.1em;\n",
       "padding-left: 0.25em;\n",
       "border-left-style: solid;\n",
       "font-family: var(--jp-code-font-family);\n",
       "font-size: var(--jp-code-font-size);\n",
       "line-height: var(--jp-code-line-height);\n",
       "\"><span style=\"color: var(--jp-warn-color2)\">urllib3.connectionpool</span> <span style=\"color: var(--jp-success-color0)\">DEBUG</span>: Starting new HTTPS connection (1): roundtable.lsst.codes:443</pre>"
      ],
      "text/plain": [
       "<IPython.core.display.HTML object>"
      ]
     },
     "metadata": {},
     "output_type": "display_data"
    },
    {
     "data": {
      "text/html": [
       "<pre style=\"margin: 0.1em;\n",
       "padding-left: 0.25em;\n",
       "border-left-style: solid;\n",
       "font-family: var(--jp-code-font-family);\n",
       "font-size: var(--jp-code-font-size);\n",
       "line-height: var(--jp-code-line-height);\n",
       "\"><span style=\"color: var(--jp-warn-color2)\">urllib3.connectionpool</span> <span style=\"color: var(--jp-success-color0)\">DEBUG</span>: https://roundtable.lsst.codes:443 &quot;GET /segwarides/creds/summit_efd HTTP/1.1&quot; 200 177</pre>"
      ],
      "text/plain": [
       "<IPython.core.display.HTML object>"
      ]
     },
     "metadata": {},
     "output_type": "display_data"
    },
    {
     "data": {
      "text/html": [
       "<pre style=\"margin: 0.1em;\n",
       "padding-left: 0.25em;\n",
       "border-left-style: solid;\n",
       "font-family: var(--jp-code-font-family);\n",
       "font-size: var(--jp-code-font-size);\n",
       "line-height: var(--jp-code-line-height);\n",
       "\"><span style=\"color: var(--jp-warn-color2)\">urllib3.connectionpool</span> <span style=\"color: var(--jp-success-color0)\">DEBUG</span>: Starting new HTTPS connection (1): influxdb-summit-efd.lsst.codes:30828</pre>"
      ],
      "text/plain": [
       "<IPython.core.display.HTML object>"
      ]
     },
     "metadata": {},
     "output_type": "display_data"
    },
    {
     "data": {
      "text/html": [
       "<pre style=\"margin: 0.1em;\n",
       "padding-left: 0.25em;\n",
       "border-left-style: solid;\n",
       "font-family: var(--jp-code-font-family);\n",
       "font-size: var(--jp-code-font-size);\n",
       "line-height: var(--jp-code-line-height);\n",
       "\"><span style=\"color: var(--jp-warn-color2)\">urllib3.connectionpool</span> <span style=\"color: var(--jp-success-color0)\">DEBUG</span>: https://influxdb-summit-efd.lsst.codes:30828 &quot;GET /health HTTP/1.1&quot; 200 106</pre>"
      ],
      "text/plain": [
       "<IPython.core.display.HTML object>"
      ]
     },
     "metadata": {},
     "output_type": "display_data"
    }
   ],
   "source": [
    "#client = EfdClient('ncsa_teststand_efd')\n",
    "client = EfdClient('summit_efd')"
>>>>>>> 3a47a29 (Initial commit)
   ]
  },
  {
   "cell_type": "markdown",
   "metadata": {},
   "source": [
    "ComCam Initialization"
   ]
  },
  {
   "cell_type": "code",
<<<<<<< HEAD
<<<<<<< HEAD
   "execution_count": 9,
   "metadata": {},
   "outputs": [
    {
     "data": {
      "text/html": [
       "<pre style=\"margin: 0.1em;\n",
       "padding-left: 0.25em;\n",
       "border-left-style: solid;\n",
       "font-family: var(--jp-code-font-family);\n",
       "font-size: var(--jp-code-font-size);\n",
       "line-height: var(--jp-code-line-height);\n",
       "\"><span style=\"color: var(--jp-warn-color2)\">ComCam</span> <span style=\"color: var(--jp-success-color0)\">DEBUG</span>: cccamera: Adding all resources.</pre>"
      ],
      "text/plain": [
       "<IPython.core.display.HTML object>"
      ]
     },
     "metadata": {},
     "output_type": "display_data"
    },
    {
     "data": {
      "text/html": [
       "<pre style=\"margin: 0.1em;\n",
       "padding-left: 0.25em;\n",
       "border-left-style: solid;\n",
       "font-family: var(--jp-code-font-family);\n",
       "font-size: var(--jp-code-font-size);\n",
       "line-height: var(--jp-code-line-height);\n",
       "\"><span style=\"color: var(--jp-warn-color2)\">CCCamera</span> <span style=\"color: var(--jp-info-color0)\">INFO</span>: Disabling authlist-based command authorization</pre>"
      ],
      "text/plain": [
       "<IPython.core.display.HTML object>"
      ]
     },
     "metadata": {},
     "output_type": "display_data"
    },
    {
     "data": {
      "text/html": [
       "<pre style=\"margin: 0.1em;\n",
       "padding-left: 0.25em;\n",
       "border-left-style: solid;\n",
       "font-family: var(--jp-code-font-family);\n",
       "font-size: var(--jp-code-font-size);\n",
       "line-height: var(--jp-code-line-height);\n",
       "\"><span style=\"color: var(--jp-warn-color2)\">ComCam</span> <span style=\"color: var(--jp-success-color0)\">DEBUG</span>: ccheaderservice: Adding all resources.</pre>"
      ],
      "text/plain": [
       "<IPython.core.display.HTML object>"
      ]
     },
     "metadata": {},
     "output_type": "display_data"
    },
    {
     "data": {
      "text/html": [
       "<pre style=\"margin: 0.1em;\n",
       "padding-left: 0.25em;\n",
       "border-left-style: solid;\n",
       "font-family: var(--jp-code-font-family);\n",
       "font-size: var(--jp-code-font-size);\n",
       "line-height: var(--jp-code-line-height);\n",
       "\"><span style=\"color: var(--jp-warn-color2)\">CCHeaderService</span> <span style=\"color: var(--jp-info-color0)\">INFO</span>: Disabling authlist-based command authorization</pre>"
      ],
      "text/plain": [
       "<IPython.core.display.HTML object>"
      ]
     },
     "metadata": {},
     "output_type": "display_data"
    },
    {
     "data": {
      "text/html": [
       "<pre style=\"margin: 0.1em;\n",
       "padding-left: 0.25em;\n",
       "border-left-style: solid;\n",
       "font-family: var(--jp-code-font-family);\n",
       "font-size: var(--jp-code-font-size);\n",
       "line-height: var(--jp-code-line-height);\n",
       "\"><span style=\"color: var(--jp-warn-color2)\">ComCam</span> <span style=\"color: var(--jp-success-color0)\">DEBUG</span>: ccoods: Adding all resources.</pre>"
      ],
      "text/plain": [
       "<IPython.core.display.HTML object>"
      ]
     },
     "metadata": {},
     "output_type": "display_data"
    },
    {
     "data": {
      "text/html": [
       "<pre style=\"margin: 0.1em;\n",
       "padding-left: 0.25em;\n",
       "border-left-style: solid;\n",
       "font-family: var(--jp-code-font-family);\n",
       "font-size: var(--jp-code-font-size);\n",
       "line-height: var(--jp-code-line-height);\n",
       "\"><span style=\"color: var(--jp-warn-color2)\">CCOODS</span> <span style=\"color: var(--jp-info-color0)\">INFO</span>: Disabling authlist-based command authorization</pre>"
      ],
      "text/plain": [
       "<IPython.core.display.HTML object>"
      ]
     },
     "metadata": {},
     "output_type": "display_data"
    }
   ],
   "source": [
    "comcam = ComCam(domain=domain)\n",
=======
   "execution_count": null,
   "metadata": {},
   "outputs": [],
   "source": [
    "domain = salobj.Domain()"
   ]
  },
  {
   "cell_type": "code",
   "execution_count": 8,
=======
   "execution_count": 10,
>>>>>>> 51d275c (Add event_name to callback function)
   "metadata": {},
   "outputs": [
    {
     "data": {
      "text/html": [
       "<pre style=\"margin: 0.1em;\n",
       "padding-left: 0.25em;\n",
       "border-left-style: solid;\n",
       "font-family: var(--jp-code-font-family);\n",
       "font-size: var(--jp-code-font-size);\n",
       "line-height: var(--jp-code-line-height);\n",
       "\"><span style=\"color: var(--jp-warn-color2)\">ComCam</span> <span style=\"color: var(--jp-success-color0)\">DEBUG</span>: cccamera: Adding all resources.</pre>"
      ],
      "text/plain": [
       "<IPython.core.display.HTML object>"
      ]
     },
     "metadata": {},
     "output_type": "display_data"
    },
    {
     "data": {
      "text/html": [
       "<pre style=\"margin: 0.1em;\n",
       "padding-left: 0.25em;\n",
       "border-left-style: solid;\n",
       "font-family: var(--jp-code-font-family);\n",
       "font-size: var(--jp-code-font-size);\n",
       "line-height: var(--jp-code-line-height);\n",
       "\"><span style=\"color: var(--jp-warn-color2)\">CCCamera</span> <span style=\"color: var(--jp-info-color0)\">INFO</span>: Disabling authlist-based command authorization</pre>"
      ],
      "text/plain": [
       "<IPython.core.display.HTML object>"
      ]
     },
     "metadata": {},
     "output_type": "display_data"
    },
    {
     "data": {
      "text/html": [
       "<pre style=\"margin: 0.1em;\n",
       "padding-left: 0.25em;\n",
       "border-left-style: solid;\n",
       "font-family: var(--jp-code-font-family);\n",
       "font-size: var(--jp-code-font-size);\n",
       "line-height: var(--jp-code-line-height);\n",
       "\"><span style=\"color: var(--jp-warn-color2)\">ComCam</span> <span style=\"color: var(--jp-success-color0)\">DEBUG</span>: ccheaderservice: Adding all resources.</pre>"
      ],
      "text/plain": [
       "<IPython.core.display.HTML object>"
      ]
     },
     "metadata": {},
     "output_type": "display_data"
    },
    {
     "data": {
      "text/html": [
       "<pre style=\"margin: 0.1em;\n",
       "padding-left: 0.25em;\n",
       "border-left-style: solid;\n",
       "font-family: var(--jp-code-font-family);\n",
       "font-size: var(--jp-code-font-size);\n",
       "line-height: var(--jp-code-line-height);\n",
       "\"><span style=\"color: var(--jp-warn-color2)\">CCHeaderService</span> <span style=\"color: var(--jp-info-color0)\">INFO</span>: Disabling authlist-based command authorization</pre>"
      ],
      "text/plain": [
       "<IPython.core.display.HTML object>"
      ]
     },
     "metadata": {},
     "output_type": "display_data"
    },
    {
     "data": {
      "text/html": [
       "<pre style=\"margin: 0.1em;\n",
       "padding-left: 0.25em;\n",
       "border-left-style: solid;\n",
       "font-family: var(--jp-code-font-family);\n",
       "font-size: var(--jp-code-font-size);\n",
       "line-height: var(--jp-code-line-height);\n",
       "\"><span style=\"color: var(--jp-warn-color2)\">ComCam</span> <span style=\"color: var(--jp-success-color0)\">DEBUG</span>: ccoods: Adding all resources.</pre>"
      ],
      "text/plain": [
       "<IPython.core.display.HTML object>"
      ]
     },
     "metadata": {},
     "output_type": "display_data"
    },
    {
     "data": {
      "text/html": [
       "<pre style=\"margin: 0.1em;\n",
       "padding-left: 0.25em;\n",
       "border-left-style: solid;\n",
       "font-family: var(--jp-code-font-family);\n",
       "font-size: var(--jp-code-font-size);\n",
       "line-height: var(--jp-code-line-height);\n",
       "\"><span style=\"color: var(--jp-warn-color2)\">CCOODS</span> <span style=\"color: var(--jp-info-color0)\">INFO</span>: Disabling authlist-based command authorization</pre>"
      ],
      "text/plain": [
       "<IPython.core.display.HTML object>"
      ]
     },
     "metadata": {},
     "output_type": "display_data"
    }
   ],
   "source": [
<<<<<<< HEAD
    "comcam = ComCam(domain=domain, log=log)\n",
>>>>>>> 3a47a29 (Initial commit)
=======
    "comcam = ComCam(domain=domain)\n",
>>>>>>> 51d275c (Add event_name to callback function)
    "comcam.set_rem_loglevel(40)"
   ]
  },
  {
   "cell_type": "code",
<<<<<<< HEAD
<<<<<<< HEAD
   "execution_count": 10,
   "metadata": {},
   "outputs": [
    {
     "data": {
      "text/plain": [
       "[None, None, None]"
      ]
     },
     "execution_count": 10,
     "metadata": {},
     "output_type": "execute_result"
    }
   ],
=======
   "execution_count": null,
   "metadata": {},
   "outputs": [],
>>>>>>> 3a47a29 (Initial commit)
=======
   "execution_count": 11,
   "metadata": {},
   "outputs": [
    {
     "data": {
      "text/plain": [
       "[None, None, None]"
      ]
     },
     "execution_count": 11,
     "metadata": {},
     "output_type": "execute_result"
    }
   ],
>>>>>>> 51d275c (Add event_name to callback function)
   "source": [
    "await comcam.start_task"
   ]
  },
  {
   "cell_type": "code",
<<<<<<< HEAD
<<<<<<< HEAD
   "execution_count": 130,
=======
   "execution_count": 22,
>>>>>>> 51d275c (Add event_name to callback function)
   "metadata": {},
   "outputs": [
    {
     "data": {
      "text/html": [
       "<pre style=\"margin: 0.1em;\n",
       "padding-left: 0.25em;\n",
       "border-left-style: solid;\n",
       "font-family: var(--jp-code-font-family);\n",
       "font-size: var(--jp-code-font-size);\n",
       "line-height: var(--jp-code-line-height);\n",
<<<<<<< HEAD
       "\"><span style=\"color: var(--jp-warn-color2)\">ComCam</span> <span style=\"color: var(--jp-success-color0)\">DEBUG</span>: [cccamera]::[&lt;State.ENABLED: 2&gt;, &lt;State.DISABLED: 1&gt;, &lt;State.STANDBY: 5&gt;]</pre>"
=======
       "\"><span style=\"color: var(--jp-warn-color2)\">ComCam</span> <span style=\"color: var(--jp-info-color0)\">INFO</span>: Enabling all components</pre>"
>>>>>>> 51d275c (Add event_name to callback function)
      ],
      "text/plain": [
       "<IPython.core.display.HTML object>"
      ]
     },
     "metadata": {},
     "output_type": "display_data"
    },
    {
     "data": {
      "text/html": [
       "<pre style=\"margin: 0.1em;\n",
       "padding-left: 0.25em;\n",
       "border-left-style: solid;\n",
       "font-family: var(--jp-code-font-family);\n",
       "font-size: var(--jp-code-font-size);\n",
       "line-height: var(--jp-code-line-height);\n",
<<<<<<< HEAD
       "\"><span style=\"color: var(--jp-warn-color2)\">ComCam</span> <span style=\"color: var(--jp-success-color0)\">DEBUG</span>: [ccheaderservice]::[&lt;State.ENABLED: 2&gt;, &lt;State.DISABLED: 1&gt;, &lt;State.STANDBY: 5&gt;]</pre>"
=======
       "\"><span style=\"color: var(--jp-warn-color2)\">ComCam</span> <span style=\"color: var(--jp-success-color0)\">DEBUG</span>: Expand overrides None</pre>"
>>>>>>> 51d275c (Add event_name to callback function)
      ],
      "text/plain": [
       "<IPython.core.display.HTML object>"
      ]
     },
     "metadata": {},
     "output_type": "display_data"
    },
    {
     "data": {
      "text/html": [
       "<pre style=\"margin: 0.1em;\n",
       "padding-left: 0.25em;\n",
       "border-left-style: solid;\n",
       "font-family: var(--jp-code-font-family);\n",
       "font-size: var(--jp-code-font-size);\n",
       "line-height: var(--jp-code-line-height);\n",
<<<<<<< HEAD
       "\"><span style=\"color: var(--jp-warn-color2)\">ComCam</span> <span style=\"color: var(--jp-success-color0)\">DEBUG</span>: [ccoods]::[&lt;State.ENABLED: 2&gt;, &lt;State.DISABLED: 1&gt;, &lt;State.STANDBY: 5&gt;]</pre>"
=======
       "\"><span style=\"color: var(--jp-warn-color2)\">ComCam</span> <span style=\"color: var(--jp-success-color0)\">DEBUG</span>: Complete overrides: {&#x27;cccamera&#x27;: &#x27;&#x27;, &#x27;ccheaderservice&#x27;: &#x27;&#x27;, &#x27;ccoods&#x27;: &#x27;&#x27;}</pre>"
>>>>>>> 51d275c (Add event_name to callback function)
      ],
      "text/plain": [
       "<IPython.core.display.HTML object>"
      ]
     },
     "metadata": {},
     "output_type": "display_data"
    },
    {
     "data": {
      "text/html": [
       "<pre style=\"margin: 0.1em;\n",
       "padding-left: 0.25em;\n",
       "border-left-style: solid;\n",
       "font-family: var(--jp-code-font-family);\n",
       "font-size: var(--jp-code-font-size);\n",
       "line-height: var(--jp-code-line-height);\n",
<<<<<<< HEAD
       "\"><span style=\"color: var(--jp-warn-color2)\">ComCam</span> <span style=\"color: var(--jp-info-color0)\">INFO</span>: All components in &lt;State.STANDBY: 5&gt;.</pre>"
=======
       "\"><span style=\"color: var(--jp-warn-color2)\">ComCam</span> <span style=\"color: var(--jp-success-color0)\">DEBUG</span>: [cccamera]::[&lt;State.OFFLINE: 4&gt;, &lt;State.STANDBY: 5&gt;, &lt;State.DISABLED: 1&gt;, &lt;State.ENABLED: 2&gt;]</pre>"
      ],
      "text/plain": [
       "<IPython.core.display.HTML object>"
      ]
     },
     "metadata": {},
     "output_type": "display_data"
    },
    {
     "data": {
      "text/html": [
       "<pre style=\"margin: 0.1em;\n",
       "padding-left: 0.25em;\n",
       "border-left-style: solid;\n",
       "font-family: var(--jp-code-font-family);\n",
       "font-size: var(--jp-code-font-size);\n",
       "line-height: var(--jp-code-line-height);\n",
       "\"><span style=\"color: var(--jp-warn-color2)\">ComCam</span> <span style=\"color: var(--jp-success-color0)\">DEBUG</span>: [ccheaderservice]::[&lt;State.ENABLED: 2&gt;]</pre>"
      ],
      "text/plain": [
       "<IPython.core.display.HTML object>"
      ]
     },
     "metadata": {},
     "output_type": "display_data"
    },
    {
     "data": {
      "text/html": [
       "<pre style=\"margin: 0.1em;\n",
       "padding-left: 0.25em;\n",
       "border-left-style: solid;\n",
       "font-family: var(--jp-code-font-family);\n",
       "font-size: var(--jp-code-font-size);\n",
       "line-height: var(--jp-code-line-height);\n",
       "\"><span style=\"color: var(--jp-warn-color2)\">ComCam</span> <span style=\"color: var(--jp-success-color0)\">DEBUG</span>: [ccoods]::[&lt;State.ENABLED: 2&gt;]</pre>"
      ],
      "text/plain": [
       "<IPython.core.display.HTML object>"
      ]
     },
     "metadata": {},
     "output_type": "display_data"
    },
    {
     "data": {
      "text/html": [
       "<pre style=\"margin: 0.1em;\n",
       "padding-left: 0.25em;\n",
       "border-left-style: solid;\n",
       "font-family: var(--jp-code-font-family);\n",
       "font-size: var(--jp-code-font-size);\n",
       "line-height: var(--jp-code-line-height);\n",
       "\"><span style=\"color: var(--jp-warn-color2)\">ComCam</span> <span style=\"color: var(--jp-info-color0)\">INFO</span>: All components in &lt;State.ENABLED: 2&gt;.</pre>"
>>>>>>> 51d275c (Add event_name to callback function)
      ],
      "text/plain": [
       "<IPython.core.display.HTML object>"
      ]
     },
     "metadata": {},
     "output_type": "display_data"
    }
   ],
   "source": [
<<<<<<< HEAD
    "await comcam.standby()"
=======
    "await comcam.enable()"
>>>>>>> 51d275c (Add event_name to callback function)
   ]
  },
  {
   "cell_type": "markdown",
   "metadata": {},
   "source": [
<<<<<<< HEAD
    "Helper functions: Event callback and telemetry check"
=======
    "Helper function evt with timestamp printed callback"
>>>>>>> 51d275c (Add event_name to callback function)
   ]
  },
  {
   "cell_type": "code",
<<<<<<< HEAD
   "execution_count": 33,
=======
   "execution_count": 225,
>>>>>>> 51d275c (Add event_name to callback function)
   "metadata": {},
   "outputs": [],
   "source": [
    "def evt_time_callback(evt):\n",
    "    \"\"\"Print event and time when it is received.\"\"\"\n",
<<<<<<< HEAD
    "    time_evt = datetime.utcfromtimestamp(evt.private_sndStamp-37).strftime(\"%Y-%m-%d %H:%M:%S.%f\")[:-3]\n",
=======
    "    time_evt = datetime.utcfromtimestamp(evt.private_sndStamp).strftime(\"%Y-%m-%d %H:%M:%S.%f\")c\n",
>>>>>>> 51d275c (Add event_name to callback function)
    "    evt_name = str(evt.__class__).split('_')[2]\n",
    "    print(f'\\n {evt_name} logevent at {time_evt} is \\n \\t{evt}')"
   ]
  },
  {
<<<<<<< HEAD
   "cell_type": "code",
   "execution_count": 34,
   "metadata": {},
   "outputs": [],
   "source": [
    "async def check_telemetry(topic):\n",
    "    tel = await client.select_top_n(topic,'*',num=1)\n",
    "    time_tel = datetime.utcfromtimestamp(tel['private_efdStamp'][0]).strftime(\"%Y-%m-%d %H:%M:%S.%f\")[:-3]\n",
    "    print(f'Last {topic} telemetry was at {time_tel} UTC \\n \\tvs time now is {Time.now()}')"
   ]
  },
  {
=======
>>>>>>> 51d275c (Add event_name to callback function)
   "cell_type": "markdown",
   "metadata": {},
   "source": [
    "Publish in the EFD that test is starting"
   ]
  },
  {
   "cell_type": "code",
<<<<<<< HEAD
   "execution_count": 14,
   "metadata": {},
   "outputs": [
    {
     "data": {
      "text/html": [
       "<pre style=\"margin: 0.1em;\n",
       "padding-left: 0.25em;\n",
       "border-left-style: solid;\n",
       "font-family: var(--jp-code-font-family);\n",
       "font-size: var(--jp-code-font-size);\n",
       "line-height: var(--jp-code-line-height);\n",
       "\"><span style=\"color: var(--jp-warn-color2)\">Script</span> <span style=\"color: var(--jp-info-color0)\">INFO</span>: START- LVV-T2219 ComCam Interface to SAL -- at 2022-07-08 18:51:33.699210</pre>"
      ],
      "text/plain": [
       "<IPython.core.display.HTML object>"
      ]
     },
     "metadata": {},
     "output_type": "display_data"
    }
   ],
   "source": [
    "script.log.info(f'START- {test_message} -- at {Time(datetime.now())}')"
=======
=======
>>>>>>> 51d275c (Add event_name to callback function)
   "execution_count": null,
   "metadata": {},
   "outputs": [],
   "source": [
<<<<<<< HEAD
    "await comcam.enable()"
>>>>>>> 3a47a29 (Initial commit)
=======
    "script.log.info(f'START- {test_message} -- at {Time(datetime.now())}')"
>>>>>>> 51d275c (Add event_name to callback function)
   ]
  },
  {
   "cell_type": "markdown",
   "metadata": {},
   "source": [
    "--- \n",
<<<<<<< HEAD
    "## Step 1:\n",
=======
>>>>>>> 3a47a29 (Initial commit)
    "LVV-T2239 (1.0) ComCam Startup Procedure"
   ]
  },
  {
   "cell_type": "markdown",
   "metadata": {},
   "source": [
    "---\n",
<<<<<<< HEAD
<<<<<<< HEAD
    "## Step 2: \n",
=======
>>>>>>> 51d275c (Add event_name to callback function)
    "Verify the CCCamera_logevent_availableFilters event is published to the EFD. \n",
    "Note: During the successful start up of the system, this event will be published automatically."
   ]
  },
  {
   "cell_type": "code",
<<<<<<< HEAD
   "execution_count": 128,
=======
   "execution_count": 231,
>>>>>>> 51d275c (Add event_name to callback function)
   "metadata": {},
   "outputs": [
    {
     "data": {
      "text/html": [
       "<pre style=\"margin: 0.1em;\n",
       "padding-left: 0.25em;\n",
       "border-left-style: solid;\n",
       "font-family: var(--jp-code-font-family);\n",
       "font-size: var(--jp-code-font-size);\n",
       "line-height: var(--jp-code-line-height);\n",
<<<<<<< HEAD
       "\"><span style=\"color: var(--jp-warn-color2)\">root</span> <span style=\"color: var(--jp-info-color0)\">INFO</span>: Available filters at 2022-07-08 18:52:02.178 are i_06:r_03:g_07</pre>"
=======
       "\"><span style=\"color: var(--jp-warn-color2)\">root</span> <span style=\"color: var(--jp-info-color0)\">INFO</span>: Available filters at 2022-07-07 16:27:35.046 are i_06:r_03:g_07</pre>"
>>>>>>> 51d275c (Add event_name to callback function)
      ],
      "text/plain": [
       "<IPython.core.display.HTML object>"
      ]
     },
     "metadata": {},
     "output_type": "display_data"
    }
   ],
   "source": [
    "available_filters= comcam.rem.cccamera.evt_availableFilters.get()\n",
<<<<<<< HEAD
    "time_available_filters=  datetime.fromtimestamp(available_filters.private_sndStamp-37).strftime(\"%Y-%m-%d %H:%M:%S.%f\")[:-3]\n",
=======
    "time_available_filters=  datetime.utcfromtimestamp(available_filters.private_sndStamp).strftime(\"%Y-%m-%d %H:%M:%S.%f\")[:-3]\n",
>>>>>>> 51d275c (Add event_name to callback function)
    "logger.info(f'Available filters at {time_available_filters} are {available_filters.filterNames}')"
   ]
  },
  {
   "cell_type": "markdown",
   "metadata": {},
   "source": [
    "---\n",
<<<<<<< HEAD
    "## Step 3: \n",
    "Initially verify the CCCamera_logevent_ccsCommandState event is publishing to the EFD. As there are no commands at the moment, the CCCamera_logevent_ccsCommandState event publishes IDLE."
=======
    "Initially verify the CCCamera_logevent_ccsCommandState event is publishing to the EFD. As there are no commands at the moment, the CCCamera_logevent_ccsCommandState event publishes IDLE."
   ]
  },
  {
   "cell_type": "code",
   "execution_count": 234,
   "metadata": {},
   "outputs": [
    {
     "data": {
      "text/html": [
       "<pre style=\"margin: 0.1em;\n",
       "padding-left: 0.25em;\n",
       "border-left-style: solid;\n",
       "font-family: var(--jp-code-font-family);\n",
       "font-size: var(--jp-code-font-size);\n",
       "line-height: var(--jp-code-line-height);\n",
       "\"><span style=\"color: var(--jp-warn-color2)\">root</span> <span style=\"color: var(--jp-info-color0)\">INFO</span>: Current Command State Substate at 2022-07-08 00:50:39.279 is \n",
       " private_revCode: d8de8c36, private_sndStamp: 1657241439.2793384, private_rcvStamp: 1657241439.2796059, private_seqNum: 78, private_identity: CCCamera, private_origin: 73277249, substate: 1, timestampTransition: 0.0</pre>"
      ],
      "text/plain": [
       "<IPython.core.display.HTML object>"
      ]
     },
     "metadata": {},
     "output_type": "display_data"
    }
   ],
   "source": [
    "command_state= comcam.rem.cccamera.evt_ccsCommandState.get()\n",
    "time_command_state = datetime.utcfromtimestamp(command_state.private_sndStamp).strftime(\"%Y-%m-%d %H:%M:%S.%f\")[:-3]\n",
    "logger.info(f'Current Command State Substate at {time_command_state} is \\n {command_state}')"
   ]
  },
  {
   "cell_type": "markdown",
   "metadata": {},
   "source": [
    "---\n",
    "While the ccsCommandState is in IDLE, send a CCCamera_command_enableCalibration command.\n",
    "\n",
    "Note: By default, the CalibrationDetailedState should be in DISABLED. If the CalibrationDetailedState is already in ENABLED, this command will not be accepted.\n",
    "\n",
    "    Results:\n",
    "    The CCCamera_logevent_ccsCommandState event publishes BUSY\n",
    "    The CCCamera_logevent_calibrationDetailedState publishes ENABLED.\n",
    "    The The CCCamera_logevent_ccsConfigured event is published to the EFD noting the time at which the state transition occurred. ** This logevent does not exist, instead comcam.rem.cccamera.logevent_configurationApplied"
   ]
  },
  {
   "cell_type": "code",
   "execution_count": 226,
   "metadata": {},
   "outputs": [],
   "source": [
    "comcam.rem.cccamera.evt_calibrationDetailedState.callback = evt_time_callback\n",
    "comcam.rem.cccamera.evt_ccsCommandState.callback = evt_time_callback   "
   ]
  },
  {
   "cell_type": "code",
   "execution_count": 227,
   "metadata": {},
   "outputs": [
    {
     "name": "stdout",
     "output_type": "stream",
     "text": [
      "\n",
      " ccsCommandState logevent at 2022-07-08 00:50:39.277 is \n",
      " \tprivate_revCode: d8de8c36, private_sndStamp: 1657241439.2775526, private_rcvStamp: 1657241439.2785704, private_seqNum: 77, private_identity: CCCamera, private_origin: 73277249, substate: 2, timestampTransition: 0.0\n",
      "\n",
      " ccsCommandState logevent at 2022-07-08 00:50:39.279 is \n",
      " \tprivate_revCode: d8de8c36, private_sndStamp: 1657241439.2793384, private_rcvStamp: 1657241439.2796059, private_seqNum: 78, private_identity: CCCamera, private_origin: 73277249, substate: 1, timestampTransition: 0.0\n",
      "\n",
      " calibrationDetailedState logevent at 2022-07-08 00:50:39.277 is \n",
      " \tprivate_revCode: a610ea82, private_sndStamp: 1657241439.2778826, private_rcvStamp: 1657241439.2786272, private_seqNum: 31, private_identity: CCCamera, private_origin: 73277249, substate: 2, timestampTransition: 0.0\n"
     ]
    },
    {
     "data": {
      "text/plain": [
       "<ddsutil.CCCamera_ackcmd_ff5ef83c at 0x7f5bf3ad00a0>"
      ]
     },
     "execution_count": 227,
     "metadata": {},
     "output_type": "execute_result"
    }
   ],
   "source": [
    "# Enable Calibration\n",
    "await comcam.rem.cccamera.cmd_enableCalibration.set_start()"
   ]
  },
  {
   "cell_type": "code",
   "execution_count": 235,
   "metadata": {},
   "outputs": [
    {
     "data": {
      "text/html": [
       "<pre style=\"margin: 0.1em;\n",
       "padding-left: 0.25em;\n",
       "border-left-style: solid;\n",
       "font-family: var(--jp-code-font-family);\n",
       "font-size: var(--jp-code-font-size);\n",
       "line-height: var(--jp-code-line-height);\n",
       "\"><span style=\"color: var(--jp-warn-color2)\">root</span> <span style=\"color: var(--jp-info-color0)\">INFO</span>: Current configuration Applied at 2022-07-07 16:27:35.079 is \n",
       " private_revCode: d6c3623d, private_sndStamp: 1657211255.0791852, private_rcvStamp: 1657213042.2562873, private_seqNum: 0, private_identity: CCCamera, private_origin: 73277249, configurations: Normal, version: 1, url: https://lsst-camera-dev.slac.stanford.edu/RestFileServer/config/, schemaVersion: UNKNOWN, otherInfo: vacuum_Rtds_DevicesConfiguration,focal_plane_ImageNameService_GeneralConfiguration,bonn_shutter_PeriodicTasks_timersConfiguration,focal_plane_Reb_LimitsConfiguration,quadbox_BFR_DevicesConfiguration,focal_plane_Ccd_LimitsConfiguration,vacuum_Cold2_CryoconConfiguration,vacuum_PeriodicTasks_timersConfiguration,image_handling_ImageHandler_FitsHandlingConfiguration,bonn_shutter_Device_GeneralConfiguration,bonn_shutter_GeneralConfiguration,rebpower_Rebps_GeneralConfiguration,vacuum_Cold1_DevicesConfiguration,focal_plane_Reb_HardwareIdConfiguration,vacuum_Rtds_LimitsConfiguration,vacuum_VacuumConfiguration,quadbox_PDU_48V_DevicesConfiguration,mpm_Pluto_DevicesConfiguration,mpm_PeriodicTasks_timersConfiguration,quadbox_PDU_24VD_QuadboxConfiguration,rebpower_Rebps_buildConfiguration,focal_plane_Segment_LimitsConfiguration,vacuum_Rtds_DeviceConfiguration,fcs_StepperMotor_MotorConfiguration,quadbox_PDU_5V_DevicesConfiguration,vacuum_VQMonitor_DevicesConfiguration,focal_plane_Ccd_HardwareIdConfiguration,rebpower_PeriodicTasks_timersConfiguration,rebpower_Reb_LimitsConfiguration,vacuum_Turbo_DevicesConfiguration,bonn_shutter_Device_DevicesConfiguration,rebpower_Rebps_DevicesConfiguration,bonn_shutter_PeriodicTasks_GeneralConfiguration,rebpower_GeneralConfiguration,focal_plane_Reb_RaftsLimitsConfiguration,fcs_StepperMotor_LimitsConfiguration,focal_plane_Raft_HardwareIdConfiguration,quadbox_REB_Bulk_PS_DevicesConfiguration,focal_plane_InstrumentConfig_InstrumentConfiguration,focal_plane_Reb_RaftsPowerConfiguration,vacuum_IonPumps_LimitsConfiguration,daq_monitor_StoreConfiguration,focal_plane_Raft_RaftTempControlStatusConfiguration,focal_plane_Raft_RaftTempControlConfiguration,image_handling_Reb_FitsHandlingConfiguration,quadbox_PDU_48V_LimitsConfiguration,quadbox_PDU_24VD_LimitsConfiguration,daq_monitor_Store_StoreConfiguration,fcs_StepperMotor_DevicesConfiguration,fcs_LinearEncoder_DevicesConfiguration,focal_plane_WebHooksConfig_VisualizationConfiguration,focal_plane_SequencerConfig_DAQConfiguration,rebpower_EmergencyResponseManager_GeneralConfiguration,rebpower_Reb_GeneralConfiguration,quadbox_BFR_LimitsConfiguration,vacuum_Turbo_LimitsConfiguration,vacuum_VQMonitor_CryoConfiguration,daq_monitor_Store_LimitsConfiguration,vacuum_Cryo_CryoconConfiguration,quadbox_REB_Bulk_PS_QuadboxConfiguration,vacuum_Turbo_GeneralConfiguration,daq_monitor_Store_DevicesConfiguration,focal_plane_PeriodicTasks_GeneralConfiguration,fcs_GeneralConfiguration,daq_monitor_PeriodicTasks_timersConfiguration,focal_plane_Ccd_RaftsConfiguration,image_handling_ImageHandler_CommandsConfiguration,quadbox_PDU_48V_QuadboxConfiguration,quadbox_PDU_5V_LimitsConfiguration,bonn_shutter_Device_LimitsConfiguration,quadbox_PeriodicTasks_GeneralConfiguration,daq_monitor_Stats_StatisticsConfiguration,quadbox_BFR_QuadboxConfiguration,focal_plane_SequencerConfig_SequencerConfiguration,image_handling_PeriodicTasks_GeneralConfiguration,rebpower_Rebps_PowerConfiguration,focal_plane_PeriodicTasks_timersConfiguration,focal_plane_Reb_timersConfiguration,rebpower_Rebps_LimitsConfiguration,vacuum_VacPluto_DeviceConfiguration,vacuum_Cryo_DevicesConfiguration,quadbox_PDU_24VD_DevicesConfiguration,quadbox_PDU_5V_QuadboxConfiguration,quadbox_PeriodicTasks_timersConfiguration,focal_plane_ImageDatabaseService_GeneralConfiguration,vacuum_Cold1_LimitsConfiguration,vacuum_Cold2_LimitsConfiguration,fcs_PeriodicTasks_GeneralConfiguration,image_handling_Reb_GeneralConfiguration,vacuum_Cold2_DevicesConfiguration,fcs_LinearEncoder_GeneralConfiguration,vacuum_IonPumps_CryoConfiguration,mpm_PeriodicTasks_GeneralConfiguration,vacuum_PeriodicTasks_GeneralConfiguration,focal_plane_Reb_DevicesConfiguration,fcs_StepperMotor_GeneralConfiguration,vacuum_VQMonitor_LimitsConfiguration,quadbox_PDU_24VC_LimitsConfiguration,vacuum_Cold1_CryoconConfiguration,focal_plane_RebTotalPower_LimitsConfiguration,quadbox_PDU_24VC_QuadboxConfiguration,daq_monitor_PeriodicTasks_GeneralConfiguration,mpm_Pluto_DeviceConfiguration,fcs_PeriodicTasks_timersConfiguration,vacuum_IonPumps_DevicesConfiguration,fcs_LinearEncoder_LimitsConfiguration,vacuum_VacPluto_DevicesConfiguration,focal_plane_Reb_RaftsConfiguration,image_handling_ImageHandler_DAQConfiguration,image_handling_PeriodicTasks_timersConfiguration,quadbox_PDU_24VC_DevicesConfiguration,vacuum_Cryo_LimitsConfiguration,rebpower_PeriodicTasks_GeneralConfiguration</pre>"
      ],
      "text/plain": [
       "<IPython.core.display.HTML object>"
      ]
     },
     "metadata": {},
     "output_type": "display_data"
    }
   ],
   "source": [
    "configuration_applied = comcam.rem.cccamera.evt_configurationApplied.get()\n",
    "time_configuration_applied = datetime.utcfromtimestamp(configuration_applied.private_sndStamp).strftime(\n",
    "    \"%Y-%m-%d %H:%M:%S.%f\")[:-3]\n",
    "logger.info(f'Current configuration Applied at {time_configuration_applied} is \\n {configuration_applied}')"
   ]
  },
  {
   "cell_type": "code",
   "execution_count": 236,
   "metadata": {},
   "outputs": [],
   "source": [
    "comcam.rem.cccamera.evt_calibrationDetailedState.callback = None\n",
    "comcam.rem.cccamera.evt_ccsCommandState.callback = None   "
   ]
  },
  {
   "cell_type": "markdown",
   "metadata": {},
   "source": [
    "---\n",
    "While the CalibrationDetailedState is in ENABLED,, send a CCCamera_command_clear command.\n",
    "\n",
    "    Results:\n",
    "    The command is accepted\n",
    "    The CCCamera_logevent_RaftsDetailedState event published to the EFD shows it is in the CLEARING state."
   ]
  },
  {
   "cell_type": "code",
   "execution_count": 237,
   "metadata": {},
   "outputs": [],
   "source": [
    "comcam.rem.cccamera.evt_raftsDetailedState.callback = evt_time_callback"
   ]
  },
  {
   "cell_type": "code",
   "execution_count": 238,
   "metadata": {},
   "outputs": [
    {
     "ename": "AckError",
     "evalue": "msg='Command failed', ackcmd=(ackcmd private_seqNum=47224012, ack=<SalRetCode.CMD_FAILED: -302>, error=0, result='Error : Timeout waiting for state: QUIESCENT')",
     "output_type": "error",
     "traceback": [
      "\u001b[0;31m---------------------------------------------------------------------------\u001b[0m",
      "\u001b[0;31mAckError\u001b[0m                                  Traceback (most recent call last)",
      "Input \u001b[0;32mIn [238]\u001b[0m, in \u001b[0;36m<cell line: 1>\u001b[0;34m()\u001b[0m\n\u001b[0;32m----> 1\u001b[0m cmd \u001b[38;5;241m=\u001b[39m \u001b[38;5;28;01mawait\u001b[39;00m comcam\u001b[38;5;241m.\u001b[39mrem\u001b[38;5;241m.\u001b[39mcccamera\u001b[38;5;241m.\u001b[39mcmd_clear\u001b[38;5;241m.\u001b[39mset_start(nClears\u001b[38;5;241m=\u001b[39m\u001b[38;5;241m1\u001b[39m)\n\u001b[1;32m      2\u001b[0m \u001b[38;5;28mprint\u001b[39m(cmd)\n",
      "File \u001b[0;32m/opt/lsst/software/stack/conda/miniconda3-py38_4.9.2/envs/lsst-scipipe-4.0.1/lib/python3.10/site-packages/lsst/ts/salobj/topics/remote_command.py:418\u001b[0m, in \u001b[0;36mRemoteCommand.set_start\u001b[0;34m(self, timeout, wait_done, **kwargs)\u001b[0m\n\u001b[1;32m    377\u001b[0m \u001b[38;5;124;03m\"\"\"Create a new ``self.data``, set zero or more fields,\u001b[39;00m\n\u001b[1;32m    378\u001b[0m \u001b[38;5;124;03mand start the command.\u001b[39;00m\n\u001b[1;32m    379\u001b[0m \n\u001b[0;32m   (...)\u001b[0m\n\u001b[1;32m    415\u001b[0m \u001b[38;5;124;03m    If ``data`` is not None and not an instance of `DataType`.\u001b[39;00m\n\u001b[1;32m    416\u001b[0m \u001b[38;5;124;03m\"\"\"\u001b[39;00m\n\u001b[1;32m    417\u001b[0m \u001b[38;5;28mself\u001b[39m\u001b[38;5;241m.\u001b[39mset(\u001b[38;5;241m*\u001b[39m\u001b[38;5;241m*\u001b[39mkwargs)\n\u001b[0;32m--> 418\u001b[0m \u001b[38;5;28;01mreturn\u001b[39;00m \u001b[38;5;28;01mawait\u001b[39;00m \u001b[38;5;28mself\u001b[39m\u001b[38;5;241m.\u001b[39mstart(timeout\u001b[38;5;241m=\u001b[39mtimeout, wait_done\u001b[38;5;241m=\u001b[39mwait_done)\n",
      "File \u001b[0;32m/opt/lsst/software/stack/conda/miniconda3-py38_4.9.2/envs/lsst-scipipe-4.0.1/lib/python3.10/site-packages/lsst/ts/salobj/topics/remote_command.py:485\u001b[0m, in \u001b[0;36mRemoteCommand.start\u001b[0;34m(self, data, timeout, wait_done)\u001b[0m\n\u001b[1;32m    481\u001b[0m cmd_info \u001b[38;5;241m=\u001b[39m CommandInfo(\n\u001b[1;32m    482\u001b[0m     remote_command\u001b[38;5;241m=\u001b[39m\u001b[38;5;28mself\u001b[39m, seq_num\u001b[38;5;241m=\u001b[39mseq_num, wait_done\u001b[38;5;241m=\u001b[39mwait_done\n\u001b[1;32m    483\u001b[0m )\n\u001b[1;32m    484\u001b[0m \u001b[38;5;28mself\u001b[39m\u001b[38;5;241m.\u001b[39msalinfo\u001b[38;5;241m.\u001b[39m_running_cmds[seq_num] \u001b[38;5;241m=\u001b[39m cmd_info\n\u001b[0;32m--> 485\u001b[0m \u001b[38;5;28;01mreturn\u001b[39;00m \u001b[38;5;28;01mawait\u001b[39;00m cmd_info\u001b[38;5;241m.\u001b[39mnext_ackcmd(timeout\u001b[38;5;241m=\u001b[39mtimeout)\n",
      "File \u001b[0;32m/opt/lsst/software/stack/conda/miniconda3-py38_4.9.2/envs/lsst-scipipe-4.0.1/lib/python3.10/site-packages/lsst/ts/salobj/topics/remote_command.py:195\u001b[0m, in \u001b[0;36mCommandInfo.next_ackcmd\u001b[0;34m(self, timeout)\u001b[0m\n\u001b[1;32m    193\u001b[0m     ackcmd \u001b[38;5;241m=\u001b[39m \u001b[38;5;28;01mawait\u001b[39;00m \u001b[38;5;28mself\u001b[39m\u001b[38;5;241m.\u001b[39m_wait_task\n\u001b[1;32m    194\u001b[0m     \u001b[38;5;28;01mif\u001b[39;00m ackcmd\u001b[38;5;241m.\u001b[39mack \u001b[38;5;129;01min\u001b[39;00m \u001b[38;5;28mself\u001b[39m\u001b[38;5;241m.\u001b[39mfailed_ack_codes:\n\u001b[0;32m--> 195\u001b[0m         \u001b[38;5;28;01mraise\u001b[39;00m base\u001b[38;5;241m.\u001b[39mAckError(msg\u001b[38;5;241m=\u001b[39m\u001b[38;5;124m\"\u001b[39m\u001b[38;5;124mCommand failed\u001b[39m\u001b[38;5;124m\"\u001b[39m, ackcmd\u001b[38;5;241m=\u001b[39mackcmd)\n\u001b[1;32m    196\u001b[0m     \u001b[38;5;28;01mreturn\u001b[39;00m ackcmd\n\u001b[1;32m    197\u001b[0m \u001b[38;5;28;01mexcept\u001b[39;00m asyncio\u001b[38;5;241m.\u001b[39mTimeoutError:\n",
      "\u001b[0;31mAckError\u001b[0m: msg='Command failed', ackcmd=(ackcmd private_seqNum=47224012, ack=<SalRetCode.CMD_FAILED: -302>, error=0, result='Error : Timeout waiting for state: QUIESCENT')"
     ]
    }
   ],
   "source": [
    "cmd = await comcam.rem.cccamera.cmd_clear.set_start(nClears=1)\n",
    "logger.info(cmd)"
   ]
  },
  {
   "cell_type": "code",
   "execution_count": 239,
   "metadata": {},
   "outputs": [],
   "source": [
    "comcam.rem.cccamera.evt_raftsDetailedState.callback = None"
   ]
  },
  {
   "cell_type": "markdown",
   "metadata": {},
   "source": [
    "---\n",
    "Verify the CCCamera_logevent_focalPlaneSummaryInfo event is published to the EFD."
   ]
  },
  {
   "cell_type": "code",
   "execution_count": 240,
   "metadata": {},
   "outputs": [
    {
     "data": {
      "text/html": [
       "<pre style=\"margin: 0.1em;\n",
       "padding-left: 0.25em;\n",
       "border-left-style: solid;\n",
       "font-family: var(--jp-code-font-family);\n",
       "font-size: var(--jp-code-font-size);\n",
       "line-height: var(--jp-code-line-height);\n",
       "\"><span style=\"color: var(--jp-warn-color2)\">root</span> <span style=\"color: var(--jp-info-color0)\">INFO</span>: Focal plane summary at 2022-07-07 16:27:35 is \n",
       " private_revCode: ba53a45d, private_sndStamp: 1657211255.0690117, private_rcvStamp: 1657213042.283751, private_seqNum: 6, private_identity: CCCamera, private_origin: 73277249, ccdLocation: R22S00:R22S01:R22S02:R22S10:R22S11:R22S12:R22S20:R22S21:R22S22, raftBay: R22:R22:R22:R22:R22:R22:R22:R22:R22, ccdSlot: S00:S01:S02:S10:S11:S12:S20:S21:S22, rebSerialNumber: -1:-1:-1:-1:-1:-1:-1:-1:-1, rebLSSTName: LCA-13574-061:LCA-13574-061:LCA-13574-061:LCA-13574-093:LCA-13574-093:LCA-13574-093:LCA-13574-094:LCA-13574-094:LCA-13574-094, ccdLSSTName: ITL-3800C-229:ITL-3800C-251:ITL-3800C-215:ITL-3800C-326:ITL-3800C-283:ITL-3800C-243:ITL-3800C-319:ITL-3800C-209:ITL-3800C-206, raftLSSTName: LCA-11021_RTM-031:LCA-11021_RTM-031:LCA-11021_RTM-031:LCA-11021_RTM-031:LCA-11021_RTM-031:LCA-11021_RTM-031:LCA-11021_RTM-031:LCA-11021_RTM-031:LCA-11021_RTM-031, ccdManSerNum: 23166:23140:22619:23858:22621:22917:24780:23169:22689, ccdManufacturer: ITL:ITL:ITL:ITL:ITL:ITL:ITL:ITL:ITL, ccdType: [2, 2, 2, 2, 2, 2, 2, 2, 2], ccdTempSetPoint: [-100.0, -100.0, -100.0, -100.0, -100.0, -100.0, -100.0, -100.0, -100.0], sequencerKey: FP_ITL_2s_ir2_v26.seq:FP_ITL_2s_ir2_v26.seq:FP_ITL_2s_ir2_v26.seq:FP_ITL_2s_ir2_v26.seq:FP_ITL_2s_ir2_v26.seq:FP_ITL_2s_ir2_v26.seq:FP_ITL_2s_ir2_v26.seq:FP_ITL_2s_ir2_v26.seq:FP_ITL_2s_ir2_v26.seq, sequencerChecksum: 980618532:980618532:980618532:980618532:980618532:980618532:980618532:980618532:980618532</pre>"
      ],
      "text/plain": [
       "<IPython.core.display.HTML object>"
      ]
     },
     "metadata": {},
     "output_type": "display_data"
    }
   ],
   "source": [
    "focal_plane_summary = await comcam.rem.cccamera.evt_focalPlaneSummaryInfo.aget()\n",
    "time_focal_plane_summary = datetime.utcfromtimestamp(focal_plane_summary.private_sndStamp).strftime(\"%Y-%m-%d %H:%M:%S\")\n",
    "logger.info(f'Focal plane summary at {time_focal_plane_summary}' \n",
    "            f' is \\n {focal_plane_summary}')"
   ]
  },
  {
   "cell_type": "markdown",
   "metadata": {},
   "source": [
    "---\n",
    "Image Test\n",
    "While the CalibrationDetailedState is in ENABLED, send a CCCamera_command_startImage command with the following parameters:\n",
    "\n",
    "                        shutter: True\n",
    "                        sensors\n",
    "                        keyValueMap\n",
    "                        obsNote: Any arbitrary string\n",
    "                        timeout: 30s\n",
    "    \n",
    "    \n",
    "    Results: \n",
    "    The CCCamera_logevent_calibrationDetailedState event publishes INTEGRATING\n",
    "    The CCCamera_logevent_shutterDetailedState event publishes to the EFD updating froom CLOSED to OPENING to OPEN\n",
    "    A CCCamera_logevent_endShutterOpen event is published at the time the shutter opens\n",
    "    A CCCamera_logevent_startReadout event is published"
   ]
  },
  {
   "cell_type": "code",
   "execution_count": 241,
   "metadata": {},
   "outputs": [],
   "source": [
    "comcam.rem.cccamera.evt_calibrationDetailedState.callback = evt_time_callback\n",
    "comcam.rem.cccamera.evt_shutterDetailedState.callback = evt_time_callback\n",
    "comcam.rem.cccamera.evt_endShutterOpen.callback = evt_time_callback\n",
    "comcam.rem.cccamera.evt_startReadout.callback = evt_time_callback"
   ]
  },
  {
   "cell_type": "code",
   "execution_count": 242,
   "metadata": {},
   "outputs": [],
   "source": [
    "keyValueMap = f'groupId:{Time.now().isot},imageType:ENGTEST'"
   ]
  },
  {
   "cell_type": "code",
   "execution_count": 243,
   "metadata": {},
   "outputs": [
    {
     "data": {
      "text/plain": [
       "True"
      ]
     },
     "execution_count": 243,
     "metadata": {},
     "output_type": "execute_result"
    }
   ],
   "source": [
    "# Set parameters\n",
    "comcam.rem.cccamera.cmd_startImage.set(shutter=True, keyValueMap=keyValueMap, timeout=30)"
   ]
  },
  {
   "cell_type": "code",
   "execution_count": 244,
   "metadata": {},
   "outputs": [
    {
     "ename": "AckError",
     "evalue": "msg='Command failed', ackcmd=(ackcmd private_seqNum=1876107802, ack=<SalRetCode.CMD_FAILED: -302>, error=0, result='Error : Exception while executing command, fault state entered\\n\\tUsing emulated DAQ but no playlist defined')",
     "output_type": "error",
     "traceback": [
      "\u001b[0;31m---------------------------------------------------------------------------\u001b[0m",
      "\u001b[0;31mAckError\u001b[0m                                  Traceback (most recent call last)",
      "Input \u001b[0;32mIn [244]\u001b[0m, in \u001b[0;36m<cell line: 2>\u001b[0;34m()\u001b[0m\n\u001b[1;32m      1\u001b[0m \u001b[38;5;66;03m# Start image\u001b[39;00m\n\u001b[0;32m----> 2\u001b[0m \u001b[38;5;28;01mawait\u001b[39;00m comcam\u001b[38;5;241m.\u001b[39mrem\u001b[38;5;241m.\u001b[39mcccamera\u001b[38;5;241m.\u001b[39mcmd_startImage\u001b[38;5;241m.\u001b[39mstart()\n",
      "File \u001b[0;32m/opt/lsst/software/stack/conda/miniconda3-py38_4.9.2/envs/lsst-scipipe-4.0.1/lib/python3.10/site-packages/lsst/ts/salobj/topics/remote_command.py:485\u001b[0m, in \u001b[0;36mRemoteCommand.start\u001b[0;34m(self, data, timeout, wait_done)\u001b[0m\n\u001b[1;32m    481\u001b[0m cmd_info \u001b[38;5;241m=\u001b[39m CommandInfo(\n\u001b[1;32m    482\u001b[0m     remote_command\u001b[38;5;241m=\u001b[39m\u001b[38;5;28mself\u001b[39m, seq_num\u001b[38;5;241m=\u001b[39mseq_num, wait_done\u001b[38;5;241m=\u001b[39mwait_done\n\u001b[1;32m    483\u001b[0m )\n\u001b[1;32m    484\u001b[0m \u001b[38;5;28mself\u001b[39m\u001b[38;5;241m.\u001b[39msalinfo\u001b[38;5;241m.\u001b[39m_running_cmds[seq_num] \u001b[38;5;241m=\u001b[39m cmd_info\n\u001b[0;32m--> 485\u001b[0m \u001b[38;5;28;01mreturn\u001b[39;00m \u001b[38;5;28;01mawait\u001b[39;00m cmd_info\u001b[38;5;241m.\u001b[39mnext_ackcmd(timeout\u001b[38;5;241m=\u001b[39mtimeout)\n",
      "File \u001b[0;32m/opt/lsst/software/stack/conda/miniconda3-py38_4.9.2/envs/lsst-scipipe-4.0.1/lib/python3.10/site-packages/lsst/ts/salobj/topics/remote_command.py:195\u001b[0m, in \u001b[0;36mCommandInfo.next_ackcmd\u001b[0;34m(self, timeout)\u001b[0m\n\u001b[1;32m    193\u001b[0m     ackcmd \u001b[38;5;241m=\u001b[39m \u001b[38;5;28;01mawait\u001b[39;00m \u001b[38;5;28mself\u001b[39m\u001b[38;5;241m.\u001b[39m_wait_task\n\u001b[1;32m    194\u001b[0m     \u001b[38;5;28;01mif\u001b[39;00m ackcmd\u001b[38;5;241m.\u001b[39mack \u001b[38;5;129;01min\u001b[39;00m \u001b[38;5;28mself\u001b[39m\u001b[38;5;241m.\u001b[39mfailed_ack_codes:\n\u001b[0;32m--> 195\u001b[0m         \u001b[38;5;28;01mraise\u001b[39;00m base\u001b[38;5;241m.\u001b[39mAckError(msg\u001b[38;5;241m=\u001b[39m\u001b[38;5;124m\"\u001b[39m\u001b[38;5;124mCommand failed\u001b[39m\u001b[38;5;124m\"\u001b[39m, ackcmd\u001b[38;5;241m=\u001b[39mackcmd)\n\u001b[1;32m    196\u001b[0m     \u001b[38;5;28;01mreturn\u001b[39;00m ackcmd\n\u001b[1;32m    197\u001b[0m \u001b[38;5;28;01mexcept\u001b[39;00m asyncio\u001b[38;5;241m.\u001b[39mTimeoutError:\n",
      "\u001b[0;31mAckError\u001b[0m: msg='Command failed', ackcmd=(ackcmd private_seqNum=1876107802, ack=<SalRetCode.CMD_FAILED: -302>, error=0, result='Error : Exception while executing command, fault state entered\\n\\tUsing emulated DAQ but no playlist defined')"
     ]
    }
   ],
   "source": [
    "# Start image\n",
    "await comcam.rem.cccamera.cmd_startImage.start()"
   ]
  },
  {
   "cell_type": "code",
   "execution_count": 245,
   "metadata": {},
   "outputs": [],
   "source": [
    "comcam.rem.cccamera.evt_calibrationDetailedState.callback = None\n",
    "comcam.rem.cccamera.evt_shutterDetailedState.callback = None\n",
    "comcam.rem.cccamera.evt_endShutterOpen.callback = None\n",
    "comcam.rem.cccamera.evt_startReadout.callback = None"
   ]
  },
  {
   "cell_type": "markdown",
   "metadata": {},
   "source": [
    "----\n",
    "While the CalibrationDetailedState is in INTEGRATING, send a CCCamera_command_discardRows command of 2 rows."
   ]
  },
  {
   "cell_type": "code",
   "execution_count": 250,
   "metadata": {},
   "outputs": [
    {
     "data": {
      "text/plain": [
       "\u001b[0;31mType:\u001b[0m        RemoteCommand\n",
       "\u001b[0;31mString form:\u001b[0m RemoteCommand(CCCamera, 0, discardRows)\n",
       "\u001b[0;31mFile:\u001b[0m        /opt/lsst/software/stack/conda/miniconda3-py38_4.9.2/envs/lsst-scipipe-4.0.1/lib/python3.10/site-packages/lsst/ts/salobj/topics/remote_command.py\n",
       "\u001b[0;31mDocstring:\u001b[0m  \n",
       "Issue a specific command topic and wait for acknowldgement.\n",
       "\n",
       "Parameters\n",
       "----------\n",
       "salinfo : `SalInfo`\n",
       "    SAL component information.\n",
       "name : `str`\n",
       "    Command name, with no prefix, e.g. \"start\".\n"
      ]
     },
     "metadata": {},
     "output_type": "display_data"
    }
   ],
   "source": [
    "?cmd = comcam.rem.cccamera.cmd_discardRows(2)\n",
    "logger.info(cmd)"
   ]
  },
  {
   "cell_type": "markdown",
   "metadata": {},
   "source": [
    "--- \n",
    "Before the specified timeout, send a CCCamera_command_endImage command.\n",
    "\n",
    "Note: If the CCCamera_command_endImage command isn't sent before the specified timeout parameter of the previous command, the shutter will close and the command will not be accepted.\n",
    "\n",
    "    Results:\n",
    "    The shutters close \n",
    "    A CCCamera_logevent_imageReadoutParameters event is published\n",
    "    The CCCamera_logevent_shutterDetailedState event publishes to the EFD updating froom OPEN to CLOSING to CLOSED\n",
    "    A CCCamera_logevent_endShutterClose event is published at the time the shutter close\n",
    "    A CCCamera_logevent_endReadout event is published"
>>>>>>> 51d275c (Add event_name to callback function)
   ]
  },
  {
   "cell_type": "code",
   "execution_count": null,
   "metadata": {},
   "outputs": [],
   "source": [
<<<<<<< HEAD
    "command_state= comcam.rem.cccamera.evt_ccsCommandState.get()\n",
    "time_command_state = datetime.fromtimestamp(command_state.private_sndStamp-37).strftime(\"%Y-%m-%d %H:%M:%S.%f\")[:-3]\n",
    "logger.info(f'Current Command State Substate at {time_command_state} is \\n {command_state}')"
   ]
  },
  {
   "cell_type": "markdown",
   "metadata": {},
   "source": [
    "---\n",
    "## Step 4: \n",
    "While the ccsCommandState is in IDLE, send a CCCamera_command_enableCalibration command.\n",
    "\n",
    "Note: By default, the CalibrationDetailedState should be in DISABLED. If the CalibrationDetailedState is already in ENABLED, this command will not be accepted.\n",
    "\n",
    "    Results:\n",
    "    The CCCamera_logevent_ccsCommandState event publishes BUSY\n",
    "    The CCCamera_logevent_calibrationDetailedState publishes ENABLED.\n",
    "    The The CCCamera_logevent_ccsConfigured event is published to the EFD noting the time at which the state transition occurred. ** This logevent does not exist, instead comcam.rem.cccamera.logevent_configurationApplied"
   ]
  },
  {
   "cell_type": "code",
   "execution_count": 18,
   "metadata": {},
   "outputs": [],
   "source": [
    "comcam.rem.cccamera.evt_calibrationDetailedState.callback = evt_time_callback\n",
    "comcam.rem.cccamera.evt_ccsCommandState.callback = evt_time_callback   "
   ]
  },
  {
   "cell_type": "code",
   "execution_count": 19,
   "metadata": {},
   "outputs": [
    {
     "name": "stdout",
     "output_type": "stream",
     "text": [
      "\n",
      " ccsCommandState logevent at 2022-07-08 18:53:10.770 is \n",
      " \tprivate_revCode: d8de8c36, private_sndStamp: 1657306390.770795, private_rcvStamp: 1657306390.7711372, private_seqNum: 17, private_identity: CCCamera, private_origin: 15408733, substate: 2, timestampTransition: 0.0\n",
      "\n",
      " ccsCommandState logevent at 2022-07-08 18:53:10.771 is \n",
      " \tprivate_revCode: d8de8c36, private_sndStamp: 1657306390.7714121, private_rcvStamp: 1657306390.7716272, private_seqNum: 18, private_identity: CCCamera, private_origin: 15408733, substate: 1, timestampTransition: 0.0\n",
      "\n",
      " calibrationDetailedState logevent at 2022-07-08 18:53:10.771 is \n",
      " \tprivate_revCode: a610ea82, private_sndStamp: 1657306390.7710626, private_rcvStamp: 1657306390.7713249, private_seqNum: 1, private_identity: CCCamera, private_origin: 15408733, substate: 2, timestampTransition: 0.0\n"
     ]
    },
    {
     "data": {
      "text/plain": [
       "<ddsutil.CCCamera_ackcmd_ff5ef83c at 0x7fd4c834b970>"
      ]
     },
     "execution_count": 19,
     "metadata": {},
     "output_type": "execute_result"
    }
   ],
   "source": [
    "# Enable Calibration\n",
    "await comcam.rem.cccamera.cmd_enableCalibration.set_start()"
   ]
  },
  {
   "cell_type": "code",
   "execution_count": 20,
   "metadata": {},
   "outputs": [
    {
     "data": {
      "text/html": [
       "<pre style=\"margin: 0.1em;\n",
       "padding-left: 0.25em;\n",
       "border-left-style: solid;\n",
       "font-family: var(--jp-code-font-family);\n",
       "font-size: var(--jp-code-font-size);\n",
       "line-height: var(--jp-code-line-height);\n",
       "\"><span style=\"color: var(--jp-warn-color2)\">root</span> <span style=\"color: var(--jp-info-color0)\">INFO</span>: Current configuration Applied at 2022-07-08 18:52:02.251 is \n",
       " private_revCode: d6c3623d, private_sndStamp: 1657306322.251718, private_rcvStamp: 1657306322.2520657, private_seqNum: 1, private_identity: CCCamera, private_origin: 15408733, configurations: Normal, version: 1, url: https://lsst-camera-dev.slac.stanford.edu/RestFileServer/config/, schemaVersion: UNKNOWN, otherInfo: vacuum_Rtds_DevicesConfiguration,focal_plane_ImageNameService_GeneralConfiguration,bonn_shutter_PeriodicTasks_timersConfiguration,focal_plane_Reb_LimitsConfiguration,quadbox_BFR_DevicesConfiguration,focal_plane_Ccd_LimitsConfiguration,vacuum_Cold2_CryoconConfiguration,vacuum_PeriodicTasks_timersConfiguration,image_handling_ImageHandler_FitsHandlingConfiguration,bonn_shutter_Device_GeneralConfiguration,bonn_shutter_GeneralConfiguration,rebpower_Rebps_GeneralConfiguration,vacuum_Cold1_DevicesConfiguration,focal_plane_Reb_HardwareIdConfiguration,vacuum_Rtds_LimitsConfiguration,vacuum_VacuumConfiguration,quadbox_PDU_48V_DevicesConfiguration,mpm_Pluto_DevicesConfiguration,mpm_PeriodicTasks_timersConfiguration,quadbox_PDU_24VD_QuadboxConfiguration,rebpower_Rebps_buildConfiguration,focal_plane_Segment_LimitsConfiguration,vacuum_Rtds_DeviceConfiguration,fcs_StepperMotor_MotorConfiguration,quadbox_PDU_5V_DevicesConfiguration,vacuum_VQMonitor_DevicesConfiguration,focal_plane_Ccd_HardwareIdConfiguration,rebpower_PeriodicTasks_timersConfiguration,rebpower_Reb_LimitsConfiguration,vacuum_Turbo_DevicesConfiguration,bonn_shutter_Device_DevicesConfiguration,rebpower_Rebps_DevicesConfiguration,bonn_shutter_PeriodicTasks_GeneralConfiguration,rebpower_GeneralConfiguration,focal_plane_Reb_RaftsLimitsConfiguration,fcs_StepperMotor_LimitsConfiguration,focal_plane_Raft_HardwareIdConfiguration,quadbox_REB_Bulk_PS_DevicesConfiguration,focal_plane_InstrumentConfig_InstrumentConfiguration,focal_plane_Reb_RaftsPowerConfiguration,vacuum_IonPumps_LimitsConfiguration,daq_monitor_StoreConfiguration,focal_plane_Raft_RaftTempControlStatusConfiguration,focal_plane_Raft_RaftTempControlConfiguration,image_handling_Reb_FitsHandlingConfiguration,quadbox_PDU_48V_LimitsConfiguration,quadbox_PDU_24VD_LimitsConfiguration,daq_monitor_Store_StoreConfiguration,fcs_StepperMotor_DevicesConfiguration,fcs_LinearEncoder_DevicesConfiguration,focal_plane_WebHooksConfig_VisualizationConfiguration,focal_plane_SequencerConfig_DAQConfiguration,rebpower_EmergencyResponseManager_GeneralConfiguration,rebpower_Reb_GeneralConfiguration,quadbox_BFR_LimitsConfiguration,vacuum_Turbo_LimitsConfiguration,vacuum_VQMonitor_CryoConfiguration,daq_monitor_Store_LimitsConfiguration,vacuum_Cryo_CryoconConfiguration,quadbox_REB_Bulk_PS_QuadboxConfiguration,vacuum_Turbo_GeneralConfiguration,daq_monitor_Store_DevicesConfiguration,focal_plane_PeriodicTasks_GeneralConfiguration,fcs_GeneralConfiguration,daq_monitor_PeriodicTasks_timersConfiguration,focal_plane_Ccd_RaftsConfiguration,image_handling_ImageHandler_CommandsConfiguration,quadbox_PDU_48V_QuadboxConfiguration,quadbox_PDU_5V_LimitsConfiguration,bonn_shutter_Device_LimitsConfiguration,quadbox_PeriodicTasks_GeneralConfiguration,daq_monitor_Stats_StatisticsConfiguration,quadbox_BFR_QuadboxConfiguration,focal_plane_SequencerConfig_SequencerConfiguration,image_handling_PeriodicTasks_GeneralConfiguration,rebpower_Rebps_PowerConfiguration,focal_plane_PeriodicTasks_timersConfiguration,focal_plane_Reb_timersConfiguration,rebpower_Rebps_LimitsConfiguration,vacuum_VacPluto_DeviceConfiguration,vacuum_Cryo_DevicesConfiguration,quadbox_PDU_24VD_DevicesConfiguration,quadbox_PDU_5V_QuadboxConfiguration,quadbox_PeriodicTasks_timersConfiguration,focal_plane_ImageDatabaseService_GeneralConfiguration,vacuum_Cold1_LimitsConfiguration,vacuum_Cold2_LimitsConfiguration,fcs_PeriodicTasks_GeneralConfiguration,image_handling_Reb_GeneralConfiguration,vacuum_Cold2_DevicesConfiguration,fcs_LinearEncoder_GeneralConfiguration,vacuum_IonPumps_CryoConfiguration,mpm_PeriodicTasks_GeneralConfiguration,vacuum_PeriodicTasks_GeneralConfiguration,focal_plane_Reb_DevicesConfiguration,fcs_StepperMotor_GeneralConfiguration,vacuum_VQMonitor_LimitsConfiguration,quadbox_PDU_24VC_LimitsConfiguration,vacuum_Cold1_CryoconConfiguration,focal_plane_RebTotalPower_LimitsConfiguration,quadbox_PDU_24VC_QuadboxConfiguration,daq_monitor_PeriodicTasks_GeneralConfiguration,mpm_Pluto_DeviceConfiguration,fcs_PeriodicTasks_timersConfiguration,vacuum_IonPumps_DevicesConfiguration,fcs_LinearEncoder_LimitsConfiguration,vacuum_VacPluto_DevicesConfiguration,focal_plane_Reb_RaftsConfiguration,image_handling_ImageHandler_DAQConfiguration,image_handling_PeriodicTasks_timersConfiguration,quadbox_PDU_24VC_DevicesConfiguration,vacuum_Cryo_LimitsConfiguration,rebpower_PeriodicTasks_GeneralConfiguration</pre>"
      ],
      "text/plain": [
       "<IPython.core.display.HTML object>"
      ]
     },
     "metadata": {},
     "output_type": "display_data"
    }
   ],
   "source": [
    "configuration_applied = comcam.rem.cccamera.evt_configurationApplied.get()\n",
    "time_configuration_applied = datetime.utcfromtimestamp(configuration_applied.private_sndStamp).strftime(\n",
    "    \"%Y-%m-%d %H:%M:%S.%f\")[:-3]\n",
    "logger.info(f'Current configuration Applied at {time_configuration_applied} is \\n {configuration_applied}')"
   ]
  },
  {
   "cell_type": "code",
   "execution_count": 21,
   "metadata": {},
   "outputs": [],
   "source": [
    "comcam.rem.cccamera.evt_calibrationDetailedState.callback = None\n",
    "comcam.rem.cccamera.evt_ccsCommandState.callback = None   "
   ]
  },
  {
   "cell_type": "markdown",
   "metadata": {},
   "source": [
    "---\n",
    "## Step 5: \n",
    "While the CalibrationDetailedState is in ENABLED,, send a CCCamera_command_clear command.\n",
    "\n",
    "    Results:\n",
    "    The command is accepted\n",
    "    The CCCamera_logevent_RaftsDetailedState event published to the EFD shows it is in the CLEARING state."
   ]
  },
  {
   "cell_type": "code",
   "execution_count": 22,
   "metadata": {},
   "outputs": [],
   "source": [
    "comcam.rem.cccamera.evt_raftsDetailedState.callback = evt_time_callback"
   ]
  },
  {
   "cell_type": "code",
   "execution_count": 24,
   "metadata": {},
   "outputs": [
    {
     "ename": "AckError",
     "evalue": "msg='Command failed', ackcmd=(ackcmd private_seqNum=47224007, ack=<SalRetCode.CMD_FAILED: -302>, error=0, result='Error : Timeout waiting for state: QUIESCENT')",
     "output_type": "error",
     "traceback": [
      "\u001b[0;31m---------------------------------------------------------------------------\u001b[0m",
      "\u001b[0;31mAckError\u001b[0m                                  Traceback (most recent call last)",
      "Input \u001b[0;32mIn [24]\u001b[0m, in \u001b[0;36m<cell line: 1>\u001b[0;34m()\u001b[0m\n\u001b[0;32m----> 1\u001b[0m cmd \u001b[38;5;241m=\u001b[39m \u001b[38;5;28;01mawait\u001b[39;00m comcam\u001b[38;5;241m.\u001b[39mrem\u001b[38;5;241m.\u001b[39mcccamera\u001b[38;5;241m.\u001b[39mcmd_clear\u001b[38;5;241m.\u001b[39mset_start(nClears\u001b[38;5;241m=\u001b[39m\u001b[38;5;241m2\u001b[39m)\n\u001b[1;32m      2\u001b[0m logger\u001b[38;5;241m.\u001b[39minfo(cmd)\n",
      "File \u001b[0;32m/opt/lsst/software/stack/conda/miniconda3-py38_4.9.2/envs/lsst-scipipe-4.0.1/lib/python3.10/site-packages/lsst/ts/salobj/topics/remote_command.py:418\u001b[0m, in \u001b[0;36mRemoteCommand.set_start\u001b[0;34m(self, timeout, wait_done, **kwargs)\u001b[0m\n\u001b[1;32m    377\u001b[0m \u001b[38;5;124;03m\"\"\"Create a new ``self.data``, set zero or more fields,\u001b[39;00m\n\u001b[1;32m    378\u001b[0m \u001b[38;5;124;03mand start the command.\u001b[39;00m\n\u001b[1;32m    379\u001b[0m \n\u001b[0;32m   (...)\u001b[0m\n\u001b[1;32m    415\u001b[0m \u001b[38;5;124;03m    If ``data`` is not None and not an instance of `DataType`.\u001b[39;00m\n\u001b[1;32m    416\u001b[0m \u001b[38;5;124;03m\"\"\"\u001b[39;00m\n\u001b[1;32m    417\u001b[0m \u001b[38;5;28mself\u001b[39m\u001b[38;5;241m.\u001b[39mset(\u001b[38;5;241m*\u001b[39m\u001b[38;5;241m*\u001b[39mkwargs)\n\u001b[0;32m--> 418\u001b[0m \u001b[38;5;28;01mreturn\u001b[39;00m \u001b[38;5;28;01mawait\u001b[39;00m \u001b[38;5;28mself\u001b[39m\u001b[38;5;241m.\u001b[39mstart(timeout\u001b[38;5;241m=\u001b[39mtimeout, wait_done\u001b[38;5;241m=\u001b[39mwait_done)\n",
      "File \u001b[0;32m/opt/lsst/software/stack/conda/miniconda3-py38_4.9.2/envs/lsst-scipipe-4.0.1/lib/python3.10/site-packages/lsst/ts/salobj/topics/remote_command.py:485\u001b[0m, in \u001b[0;36mRemoteCommand.start\u001b[0;34m(self, data, timeout, wait_done)\u001b[0m\n\u001b[1;32m    481\u001b[0m cmd_info \u001b[38;5;241m=\u001b[39m CommandInfo(\n\u001b[1;32m    482\u001b[0m     remote_command\u001b[38;5;241m=\u001b[39m\u001b[38;5;28mself\u001b[39m, seq_num\u001b[38;5;241m=\u001b[39mseq_num, wait_done\u001b[38;5;241m=\u001b[39mwait_done\n\u001b[1;32m    483\u001b[0m )\n\u001b[1;32m    484\u001b[0m \u001b[38;5;28mself\u001b[39m\u001b[38;5;241m.\u001b[39msalinfo\u001b[38;5;241m.\u001b[39m_running_cmds[seq_num] \u001b[38;5;241m=\u001b[39m cmd_info\n\u001b[0;32m--> 485\u001b[0m \u001b[38;5;28;01mreturn\u001b[39;00m \u001b[38;5;28;01mawait\u001b[39;00m cmd_info\u001b[38;5;241m.\u001b[39mnext_ackcmd(timeout\u001b[38;5;241m=\u001b[39mtimeout)\n",
      "File \u001b[0;32m/opt/lsst/software/stack/conda/miniconda3-py38_4.9.2/envs/lsst-scipipe-4.0.1/lib/python3.10/site-packages/lsst/ts/salobj/topics/remote_command.py:195\u001b[0m, in \u001b[0;36mCommandInfo.next_ackcmd\u001b[0;34m(self, timeout)\u001b[0m\n\u001b[1;32m    193\u001b[0m     ackcmd \u001b[38;5;241m=\u001b[39m \u001b[38;5;28;01mawait\u001b[39;00m \u001b[38;5;28mself\u001b[39m\u001b[38;5;241m.\u001b[39m_wait_task\n\u001b[1;32m    194\u001b[0m     \u001b[38;5;28;01mif\u001b[39;00m ackcmd\u001b[38;5;241m.\u001b[39mack \u001b[38;5;129;01min\u001b[39;00m \u001b[38;5;28mself\u001b[39m\u001b[38;5;241m.\u001b[39mfailed_ack_codes:\n\u001b[0;32m--> 195\u001b[0m         \u001b[38;5;28;01mraise\u001b[39;00m base\u001b[38;5;241m.\u001b[39mAckError(msg\u001b[38;5;241m=\u001b[39m\u001b[38;5;124m\"\u001b[39m\u001b[38;5;124mCommand failed\u001b[39m\u001b[38;5;124m\"\u001b[39m, ackcmd\u001b[38;5;241m=\u001b[39mackcmd)\n\u001b[1;32m    196\u001b[0m     \u001b[38;5;28;01mreturn\u001b[39;00m ackcmd\n\u001b[1;32m    197\u001b[0m \u001b[38;5;28;01mexcept\u001b[39;00m asyncio\u001b[38;5;241m.\u001b[39mTimeoutError:\n",
      "\u001b[0;31mAckError\u001b[0m: msg='Command failed', ackcmd=(ackcmd private_seqNum=47224007, ack=<SalRetCode.CMD_FAILED: -302>, error=0, result='Error : Timeout waiting for state: QUIESCENT')"
     ]
    }
   ],
   "source": [
    "cmd = await comcam.rem.cccamera.cmd_clear.set_start(nClears=2)\n",
    "logger.info(cmd)"
   ]
  },
  {
   "cell_type": "code",
   "execution_count": 25,
   "metadata": {},
   "outputs": [],
   "source": [
    "comcam.rem.cccamera.evt_raftsDetailedState.callback = None"
   ]
  },
  {
   "cell_type": "markdown",
   "metadata": {},
   "source": [
    "---\n",
    "## Step 6: \n",
    "Verify the CCCamera_logevent_focalPlaneSummaryInfo event is published to the EFD."
   ]
  },
  {
   "cell_type": "code",
   "execution_count": 26,
   "metadata": {},
   "outputs": [
    {
     "data": {
      "text/html": [
       "<pre style=\"margin: 0.1em;\n",
       "padding-left: 0.25em;\n",
       "border-left-style: solid;\n",
       "font-family: var(--jp-code-font-family);\n",
       "font-size: var(--jp-code-font-size);\n",
       "line-height: var(--jp-code-line-height);\n",
       "\"><span style=\"color: var(--jp-warn-color2)\">root</span> <span style=\"color: var(--jp-info-color0)\">INFO</span>: Focal plane summary at 2022-07-08 18:52:02 is \n",
       " private_revCode: ba53a45d, private_sndStamp: 1657306322.197351, private_rcvStamp: 1657306322.197685, private_seqNum: 15, private_identity: CCCamera, private_origin: 15408733, ccdLocation: R22S00:R22S01:R22S02:R22S10:R22S11:R22S12:R22S20:R22S21:R22S22, raftBay: R22:R22:R22:R22:R22:R22:R22:R22:R22, ccdSlot: S00:S01:S02:S10:S11:S12:S20:S21:S22, rebSerialNumber: 418249883:418249883:418249883:418264390:418264390:418264390:418261055:418261055:418261055, rebLSSTName: LCA-13574-061:LCA-13574-061:LCA-13574-061:LCA-13574-093:LCA-13574-093:LCA-13574-093:LCA-13574-094:LCA-13574-094:LCA-13574-094, ccdLSSTName: ITL-3800C-229:ITL-3800C-251:ITL-3800C-215:ITL-3800C-326:ITL-3800C-283:ITL-3800C-243:ITL-3800C-319:ITL-3800C-209:ITL-3800C-206, raftLSSTName: LCA-11021_RTM-031:LCA-11021_RTM-031:LCA-11021_RTM-031:LCA-11021_RTM-031:LCA-11021_RTM-031:LCA-11021_RTM-031:LCA-11021_RTM-031:LCA-11021_RTM-031:LCA-11021_RTM-031, ccdManSerNum: 23166:23140:22619:23858:22621:22917:24780:23169:22689, ccdManufacturer: ITL:ITL:ITL:ITL:ITL:ITL:ITL:ITL:ITL, ccdType: [2, 2, 2, 2, 2, 2, 2, 2, 2], ccdTempSetPoint: [-100.0, -100.0, -100.0, -100.0, -100.0, -100.0, -100.0, -100.0, -100.0], sequencerKey: FP_ITL_2s_ir2_v26.seq:FP_ITL_2s_ir2_v26.seq:FP_ITL_2s_ir2_v26.seq:FP_ITL_2s_ir2_v26.seq:FP_ITL_2s_ir2_v26.seq:FP_ITL_2s_ir2_v26.seq:FP_ITL_2s_ir2_v26.seq:FP_ITL_2s_ir2_v26.seq:FP_ITL_2s_ir2_v26.seq, sequencerChecksum: 980618532:980618532:980618532:980618532:980618532:980618532:980618532:980618532:980618532</pre>"
      ],
      "text/plain": [
       "<IPython.core.display.HTML object>"
      ]
     },
     "metadata": {},
     "output_type": "display_data"
    }
   ],
   "source": [
    "focal_plane_summary = await comcam.rem.cccamera.evt_focalPlaneSummaryInfo.aget()\n",
    "time_focal_plane_summary = datetime.utcfromtimestamp(focal_plane_summary.private_sndStamp).strftime(\"%Y-%m-%d %H:%M:%S\")\n",
    "logger.info(f'Focal plane summary at {time_focal_plane_summary}' \n",
    "            f' is \\n {focal_plane_summary}')"
   ]
  },
  {
   "cell_type": "markdown",
   "metadata": {},
   "source": [
    "---\n",
    "## Step 7: \n",
    "Image Test\n",
    "While the CalibrationDetailedState is in ENABLED, send a CCCamera_command_startImage command with the following parameters:\n",
    "\n",
    "                        shutter: True\n",
    "                        sensors\n",
    "                        keyValueMap\n",
    "                        obsNote: Any arbitrary string\n",
    "                        timeout: 30s\n",
    "    \n",
    "    \n",
    "    Results: \n",
    "    The CCCamera_logevent_calibrationDetailedState event publishes INTEGRATING\n",
    "    The CCCamera_logevent_shutterDetailedState event publishes to the EFD updating froom CLOSED to OPENING to OPEN\n",
    "    A CCCamera_logevent_endShutterOpen event is published at the time the shutter opens\n",
    "    A CCCamera_logevent_startReadout event is published\n",
    "    \n",
    "Beware: The next two steps (discardRows and endImage) need to be run while the camera is INTEGRATING (30 s timeout)"
   ]
  },
  {
   "cell_type": "code",
   "execution_count": 27,
   "metadata": {},
   "outputs": [],
   "source": [
    "comcam.rem.cccamera.evt_calibrationDetailedState.callback = evt_time_callback\n",
    "comcam.rem.cccamera.evt_shutterDetailedState.callback = evt_time_callback\n",
    "comcam.rem.cccamera.evt_endShutterOpen.callback = evt_time_callback\n",
    "comcam.rem.cccamera.evt_startReadout.callback = evt_time_callback"
   ]
  },
  {
   "cell_type": "code",
   "execution_count": 28,
   "metadata": {},
   "outputs": [],
   "source": [
    "keyValueMap = f'groupId:{Time.now().isot},imageType:ENGTEST'"
   ]
  },
  {
   "cell_type": "code",
   "execution_count": 29,
   "metadata": {},
   "outputs": [
    {
     "data": {
      "text/plain": [
       "True"
      ]
     },
     "execution_count": 29,
     "metadata": {},
     "output_type": "execute_result"
    }
   ],
   "source": [
    "# Set parameters\n",
    "comcam.rem.cccamera.cmd_startImage.set(shutter=True, keyValueMap=keyValueMap, timeout=30, obsNote='Test')"
   ]
  },
  {
   "cell_type": "code",
   "execution_count": 30,
   "metadata": {},
   "outputs": [
    {
     "name": "stdout",
     "output_type": "stream",
     "text": [
      "\n",
      " calibrationDetailedState logevent at 2022-07-08 18:54:06.471 is \n",
      " \tprivate_revCode: a610ea82, private_sndStamp: 1657306446.4717054, private_rcvStamp: 1657306446.4719958, private_seqNum: 2, private_identity: CCCamera, private_origin: 15408733, substate: 3, timestampTransition: 0.0\n"
     ]
    },
    {
     "data": {
      "text/plain": [
       "<ddsutil.CCCamera_ackcmd_ff5ef83c at 0x7fd482c7e380>"
      ]
     },
     "execution_count": 30,
     "metadata": {},
     "output_type": "execute_result"
    },
    {
     "name": "stdout",
     "output_type": "stream",
     "text": [
      "\n",
      " endShutterOpen logevent at 2022-07-08 18:54:06.480 is \n",
      " \tprivate_revCode: dc9d3865, private_sndStamp: 1657306446.4805715, private_rcvStamp: 1657306446.4808192, private_seqNum: 1, private_identity: CCCamera, private_origin: 15408733, timestampTransition: 1657306446.479966\n",
      "\n",
      " shutterDetailedState logevent at 2022-07-08 18:54:06.480 is \n",
      " \tprivate_revCode: 0ebe7cbe, private_sndStamp: 1657306446.4806964, private_rcvStamp: 1657306446.4810045, private_seqNum: 3, private_identity: CCCamera, private_origin: 15408733, substate: 2, timestampTransition: 0.0\n"
     ]
    }
   ],
   "source": [
    "# Start image\n",
    "await comcam.rem.cccamera.cmd_startImage.start()"
   ]
  },
  {
   "cell_type": "markdown",
   "metadata": {},
   "source": [
    "----\n",
    "## Step 8: \n",
    "While the CalibrationDetailedState is in INTEGRATING, send a CCCamera_command_discardRows command of 2 rows."
   ]
  },
  {
   "cell_type": "code",
   "execution_count": 31,
   "metadata": {},
   "outputs": [
    {
     "data": {
      "text/html": [
       "<pre style=\"margin: 0.1em;\n",
       "padding-left: 0.25em;\n",
       "border-left-style: solid;\n",
       "font-family: var(--jp-code-font-family);\n",
       "font-size: var(--jp-code-font-size);\n",
       "line-height: var(--jp-code-line-height);\n",
       "\"><span style=\"color: var(--jp-warn-color2)\">root</span> <span style=\"color: var(--jp-info-color0)\">INFO</span>: private_revCode: ff5ef83c, private_sndStamp: 1657306450.9575324, private_rcvStamp: 1657306450.957771, private_seqNum: 381091692, private_identity: CCCamera, private_origin: 15408733, ack: 303, error: 0, result: Done : OK, identity: isotuela@nb-isotuela, origin: 9677, cmdtype: 0, timeout: 0.0</pre>"
      ],
      "text/plain": [
       "<IPython.core.display.HTML object>"
      ]
     },
     "metadata": {},
     "output_type": "display_data"
    }
   ],
   "source": [
    "cmd = await comcam.rem.cccamera.cmd_discardRows.set_start(2)\n",
    "logger.info(cmd)"
   ]
  },
  {
   "cell_type": "markdown",
   "metadata": {},
   "source": [
    "--- \n",
    "## Step 9: \n",
    "Before the specified timeout, send a CCCamera_command_endImage command.\n",
    "\n",
    "Note: If the CCCamera_command_endImage command isn't sent before the specified timeout parameter of the previous command, the shutter will close and the command will not be accepted.\n",
    "\n",
    "    Results:\n",
    "    The shutters close \n",
    "    A CCCamera_logevent_imageReadoutParameters event is published\n",
    "    The CCCamera_logevent_shutterDetailedState event publishes to the EFD updating froom OPEN to CLOSING to CLOSED\n",
    "    A CCCamera_logevent_endShutterClose event is published at the time the shutter close\n",
    "    A CCCamera_logevent_endReadout event is published"
   ]
  },
  {
   "cell_type": "code",
   "execution_count": 32,
   "metadata": {},
   "outputs": [],
   "source": [
=======
>>>>>>> 51d275c (Add event_name to callback function)
    "comcam.rem.cccamera.evt_imageReadoutParameters.callback = evt_time_callback\n",
    "comcam.rem.cccamera.evt_shutterDetailedState.callback = evt_time_callback\n",
    "comcam.rem.cccamera.evt_endShutterClose.callback = evt_time_callback\n",
    "comcam.rem.cccamera.evt_endReadout.callback = evt_time_callback"
   ]
  },
  {
   "cell_type": "code",
<<<<<<< HEAD
   "execution_count": 33,
   "metadata": {},
   "outputs": [
    {
     "name": "stdout",
     "output_type": "stream",
     "text": [
      "\n",
      " endShutterClose logevent at 2022-07-08 18:54:15.685 is \n",
      " \tprivate_revCode: 1a6c8bc0, private_sndStamp: 1657306455.685034, private_rcvStamp: 1657306455.68532, private_seqNum: 1, private_identity: CCCamera, private_origin: 15408733, timestampTransition: 1657306455.684304\n",
      "\n",
      " shutterDetailedState logevent at 2022-07-08 18:54:15.685 is \n",
      " \tprivate_revCode: 0ebe7cbe, private_sndStamp: 1657306455.6856167, private_rcvStamp: 1657306455.6858428, private_seqNum: 4, private_identity: CCCamera, private_origin: 15408733, substate: 1, timestampTransition: 0.0\n",
      "\n",
      " startReadout logevent at 2022-07-08 18:54:15.704 is \n",
      " \tprivate_revCode: 0bfffb9a, private_sndStamp: 1657306455.7041655, private_rcvStamp: 1657306455.7044468, private_seqNum: 1, private_identity: CCCamera, private_origin: 15408733, additionalKeys: groupId:imageType, additionalValues: 2022-07-08T18\\:53\\:22.810:ENGTEST, imagesInSequence: 1, imageName: CC_O_20220708_000001, imageIndex: 2, imageSource: CC, imageController: O, imageDate: 20220708, imageNumber: 1, timestampAcquisitionStart: 1657285882.7089858, exposureTime: 0.0, timestampStartOfReadout: 1657306455.702046\n",
      "\n",
      " imageReadoutParameters logevent at 2022-07-08 18:54:15.704 is \n",
      " \tprivate_revCode: d096277e, private_sndStamp: 1657306455.704872, private_rcvStamp: 1657306455.705113, private_seqNum: 1, private_identity: CCCamera, private_origin: 15408733, imageName: CC_O_20220708_000001, ccdLocation: R22S00:R22S01:R22S02:R22S10:R22S11:R22S12:R22S20:R22S21:R22S22, raftBay: R22:R22:R22:R22:R22:R22:R22:R22:R22, ccdSlot: S00:S01:S02:S10:S11:S12:S20:S21:S22, ccdType: [2, 2, 2, 2, 2, 2, 2, 2, 2], overRows: [48, 48, 48, 48, 48, 48, 48, 48, 48], overCols: [64, 64, 64, 64, 64, 64, 64, 64, 64], readRows: [2000, 2000, 2000, 2000, 2000, 2000, 2000, 2000, 2000], readCols: [509, 509, 509, 509, 509, 509, 509, 509, 509], readCols2: [0, 0, 0, 0, 0, 0, 0, 0, 0], preCols: [0, 0, 0, 0, 0, 0, 0, 0, 0], preRows: [0, 0, 0, 0, 0, 0, 0, 0, 0], postCols: [0, 0, 0, 0, 0, 0, 0, 0, 0], underCols: [3, 3, 3, 3, 3, 3, 3, 3, 3], daqFolder: raw, daqAnnotation: \n",
      "\n",
      " calibrationDetailedState logevent at 2022-07-08 18:54:15.707 is \n",
      " \tprivate_revCode: a610ea82, private_sndStamp: 1657306455.707764, private_rcvStamp: 1657306455.7080142, private_seqNum: 3, private_identity: CCCamera, private_origin: 15408733, substate: 2, timestampTransition: 0.0\n"
     ]
    },
    {
     "data": {
      "text/plain": [
       "<ddsutil.CCCamera_ackcmd_ff5ef83c at 0x7fd4c838fdc0>"
      ]
     },
     "execution_count": 33,
     "metadata": {},
     "output_type": "execute_result"
    },
    {
     "name": "stdout",
     "output_type": "stream",
     "text": [
      "\n",
      " endReadout logevent at 2022-07-08 18:54:18.115 is \n",
      " \tprivate_revCode: 82211edd, private_sndStamp: 1657306458.1150277, private_rcvStamp: 1657306458.1153355, private_seqNum: 1, private_identity: CCCamera, private_origin: 15408733, additionalKeys: groupId:imageType, additionalValues: 2022-07-08T18\\:53\\:22.810:ENGTEST, imagesInSequence: 1, imageName: CC_O_20220708_000001, imageIndex: 2, imageSource: CC, imageController: O, imageDate: 20220708, imageNumber: 1, timestampAcquisitionStart: 1657285882.7089858, requestedExposureTime: 0.0, timestampEndOfReadout: 1657306458.1139777\n"
     ]
    }
   ],
   "source": [
    "await comcam.rem.cccamera.cmd_endImage.start()"
=======
   "execution_count": null,
   "metadata": {},
   "outputs": [],
   "source": [
    "comcam.rem.cccamera.cmd_endImage.start()"
>>>>>>> 51d275c (Add event_name to callback function)
   ]
  },
  {
   "cell_type": "code",
<<<<<<< HEAD
   "execution_count": 34,
=======
   "execution_count": null,
>>>>>>> 51d275c (Add event_name to callback function)
   "metadata": {},
   "outputs": [],
   "source": [
    "comcam.rem.cccamera.evt_imageReadoutParameters.callback = None\n",
    "comcam.rem.cccamera.evt_shutterDetailedState.callback = None\n",
    "comcam.rem.cccamera.evt_endShutterClose.callback = None\n",
    "comcam.rem.cccamera.evt_endReadout.callback = None"
   ]
  },
  {
<<<<<<< HEAD
   "cell_type": "code",
   "execution_count": 35,
   "metadata": {},
   "outputs": [],
   "source": [
    "# Closing callbacks from startImage.\n",
    "comcam.rem.cccamera.evt_calibrationDetailedState.callback = None\n",
    "comcam.rem.cccamera.evt_shutterDetailedState.callback = None\n",
    "comcam.rem.cccamera.evt_endShutterOpen.callback = None\n",
    "comcam.rem.cccamera.evt_startReadout.callback = None"
   ]
  },
  {
=======
>>>>>>> 51d275c (Add event_name to callback function)
   "cell_type": "markdown",
   "metadata": {},
   "source": [
    "---\n",
<<<<<<< HEAD
    "## Step 10: Set Filter Test\n",
=======
    "Set Filter Test\n",
>>>>>>> 51d275c (Add event_name to callback function)
    "Send a CCCamera_command_setFilter command for positionFilter1.\n",
    "    \n",
    "    Results:\n",
    "    The CCCamera_logevent_startSetFilter event is published to the EFD with the name of the filter being set\n",
    "    The CCCamera_logevent_startLoadFilter event is published to the EFD\n",
    "    The CCCamera_logevent_filterChangerDetailedState event is published to the EFD showing UNLOADED\n",
    "    The CCCamera_logevent_endLoadFilter event is published to the EFD\n",
    "    The CCCamera_logevent_filterChangerDetailedState event is published to the EFD and showing ROTATING\n",
    "    The CCCamera_logevent_startRotateCarousel event is published to the EFD\n",
    "    The CCCamera_logevent_filterChangerDetailedState event is published to the EFD and showing UNLOADED\n",
    "    The CCCamera_logevent_endRotatorCarousel event is published to the EFD\n",
    "    The CCCamera_logevent_filterChangerDetailedState event is published to the EFD and showing LOADING\n",
    "    The CCCamera_logevent_startLoadFilter event is published to the EFD\n",
    "    The CCCamera_logevent_filterChangerDetailedState event is published to the EFD showing LOADED\n",
    "    The CCCamera_logevent_endSetFilter event is published to the EFD"
   ]
  },
  {
   "cell_type": "code",
<<<<<<< HEAD
   "execution_count": 36,
   "metadata": {},
   "outputs": [
    {
     "ename": "RuntimeError",
     "evalue": "Could not determine current filter. Either data was never published or historical data is not working properly.",
     "output_type": "error",
     "traceback": [
      "\u001b[0;31m---------------------------------------------------------------------------\u001b[0m",
      "\u001b[0;31mCancelledError\u001b[0m                            Traceback (most recent call last)",
      "File \u001b[0;32m/opt/lsst/software/stack/conda/miniconda3-py38_4.9.2/envs/lsst-scipipe-4.0.1/lib/python3.10/asyncio/tasks.py:456\u001b[0m, in \u001b[0;36mwait_for\u001b[0;34m(fut, timeout)\u001b[0m\n\u001b[1;32m    455\u001b[0m \u001b[38;5;28;01mtry\u001b[39;00m:\n\u001b[0;32m--> 456\u001b[0m     \u001b[38;5;28;01mreturn\u001b[39;00m \u001b[43mfut\u001b[49m\u001b[38;5;241;43m.\u001b[39;49m\u001b[43mresult\u001b[49m\u001b[43m(\u001b[49m\u001b[43m)\u001b[49m\n\u001b[1;32m    457\u001b[0m \u001b[38;5;28;01mexcept\u001b[39;00m exceptions\u001b[38;5;241m.\u001b[39mCancelledError \u001b[38;5;28;01mas\u001b[39;00m exc:\n",
      "\u001b[0;31mCancelledError\u001b[0m: ",
      "\nThe above exception was the direct cause of the following exception:\n",
      "\u001b[0;31mTimeoutError\u001b[0m                              Traceback (most recent call last)",
      "File \u001b[0;32m~/auto-op-env-packages/ts_observatory_control/python/lsst/ts/observatory/control/maintel/comcam.py:233\u001b[0m, in \u001b[0;36mComCam.get_current_filter\u001b[0;34m(self)\u001b[0m\n\u001b[1;32m    232\u001b[0m \u001b[38;5;28;01mtry\u001b[39;00m:\n\u001b[0;32m--> 233\u001b[0m     end_setFilter \u001b[38;5;241m=\u001b[39m \u001b[38;5;28;01mawait\u001b[39;00m \u001b[38;5;28mself\u001b[39m\u001b[38;5;241m.\u001b[39mrem\u001b[38;5;241m.\u001b[39mcccamera\u001b[38;5;241m.\u001b[39mevt_endSetFilter\u001b[38;5;241m.\u001b[39maget(\n\u001b[1;32m    234\u001b[0m         timeout\u001b[38;5;241m=\u001b[39m\u001b[38;5;28mself\u001b[39m\u001b[38;5;241m.\u001b[39mfast_timeout\n\u001b[1;32m    235\u001b[0m     )\n\u001b[1;32m    236\u001b[0m     \u001b[38;5;28;01mreturn\u001b[39;00m end_setFilter\u001b[38;5;241m.\u001b[39mfilterName\n",
      "File \u001b[0;32m/opt/lsst/software/stack/conda/miniconda3-py38_4.9.2/envs/lsst-scipipe-4.0.1/lib/python3.10/site-packages/lsst/ts/salobj/topics/read_topic.py:532\u001b[0m, in \u001b[0;36mReadTopic.aget\u001b[0;34m(self, timeout)\u001b[0m\n\u001b[1;32m    531\u001b[0m         \u001b[38;5;28mself\u001b[39m\u001b[38;5;241m.\u001b[39m_next_task \u001b[38;5;241m=\u001b[39m asyncio\u001b[38;5;241m.\u001b[39mFuture()\n\u001b[0;32m--> 532\u001b[0m     \u001b[38;5;28;01mawait\u001b[39;00m asyncio\u001b[38;5;241m.\u001b[39mwait_for(\u001b[38;5;28mself\u001b[39m\u001b[38;5;241m.\u001b[39m_next_task, timeout\u001b[38;5;241m=\u001b[39mtimeout)\n\u001b[1;32m    533\u001b[0m \u001b[38;5;28;01massert\u001b[39;00m \u001b[38;5;28mself\u001b[39m\u001b[38;5;241m.\u001b[39m_current_data \u001b[38;5;129;01mis\u001b[39;00m \u001b[38;5;129;01mnot\u001b[39;00m \u001b[38;5;28;01mNone\u001b[39;00m  \u001b[38;5;66;03m# make mypy happy\u001b[39;00m\n",
      "File \u001b[0;32m/opt/lsst/software/stack/conda/miniconda3-py38_4.9.2/envs/lsst-scipipe-4.0.1/lib/python3.10/asyncio/tasks.py:458\u001b[0m, in \u001b[0;36mwait_for\u001b[0;34m(fut, timeout)\u001b[0m\n\u001b[1;32m    457\u001b[0m         \u001b[38;5;28;01mexcept\u001b[39;00m exceptions\u001b[38;5;241m.\u001b[39mCancelledError \u001b[38;5;28;01mas\u001b[39;00m exc:\n\u001b[0;32m--> 458\u001b[0m             \u001b[38;5;28;01mraise\u001b[39;00m exceptions\u001b[38;5;241m.\u001b[39mTimeoutError() \u001b[38;5;28;01mfrom\u001b[39;00m \u001b[38;5;21;01mexc\u001b[39;00m\n\u001b[1;32m    459\u001b[0m \u001b[38;5;28;01mfinally\u001b[39;00m:\n",
      "\u001b[0;31mTimeoutError\u001b[0m: ",
      "\nDuring handling of the above exception, another exception occurred:\n",
      "\u001b[0;31mRuntimeError\u001b[0m                              Traceback (most recent call last)",
      "Input \u001b[0;32mIn [36]\u001b[0m, in \u001b[0;36m<cell line: 1>\u001b[0;34m()\u001b[0m\n\u001b[0;32m----> 1\u001b[0m \u001b[38;5;28;01mawait\u001b[39;00m comcam\u001b[38;5;241m.\u001b[39mget_current_filter()\n",
      "File \u001b[0;32m~/auto-op-env-packages/ts_observatory_control/python/lsst/ts/observatory/control/maintel/comcam.py:238\u001b[0m, in \u001b[0;36mComCam.get_current_filter\u001b[0;34m(self)\u001b[0m\n\u001b[1;32m    236\u001b[0m     \u001b[38;5;28;01mreturn\u001b[39;00m end_setFilter\u001b[38;5;241m.\u001b[39mfilterName\n\u001b[1;32m    237\u001b[0m \u001b[38;5;28;01mexcept\u001b[39;00m asyncio\u001b[38;5;241m.\u001b[39mTimeoutError:\n\u001b[0;32m--> 238\u001b[0m     \u001b[38;5;28;01mraise\u001b[39;00m \u001b[38;5;167;01mRuntimeError\u001b[39;00m(\n\u001b[1;32m    239\u001b[0m         \u001b[38;5;124m\"\u001b[39m\u001b[38;5;124mCould not determine current filter. Either data was never published or historical \u001b[39m\u001b[38;5;124m\"\u001b[39m\n\u001b[1;32m    240\u001b[0m         \u001b[38;5;124m\"\u001b[39m\u001b[38;5;124mdata is not working properly.\u001b[39m\u001b[38;5;124m\"\u001b[39m\n\u001b[1;32m    241\u001b[0m     )\n",
      "\u001b[0;31mRuntimeError\u001b[0m: Could not determine current filter. Either data was never published or historical data is not working properly."
     ]
    }
   ],
   "source": [
    "await comcam.get_current_filter()"
   ]
  },
  {
   "cell_type": "code",
   "execution_count": 37,
=======
   "execution_count": null,
>>>>>>> 51d275c (Add event_name to callback function)
   "metadata": {},
   "outputs": [],
   "source": [
    "comcam.rem.cccamera.evt_startSetFilter.callback = evt_time_callback\n",
    "comcam.rem.cccamera.evt_startLoadFilter.callback = evt_time_callback\n",
    "comcam.rem.cccamera.evt_filterChangerDetailedState.callback = evt_time_callback\n",
    "comcam.rem.cccamera.evt_endLoadFilter.callback = evt_time_callback\n",
    "comcam.rem.cccamera.evt_startRotateCarousel.callback = evt_time_callback\n",
    "comcam.rem.cccamera.evt_endRotateCarousel.callback = evt_time_callback\n",
    "comcam.rem.cccamera.evt_endSetFilter.callback = evt_time_callback"
   ]
  },
  {
   "cell_type": "code",
<<<<<<< HEAD
   "execution_count": 38,
=======
   "execution_count": 129,
>>>>>>> 51d275c (Add event_name to callback function)
   "metadata": {},
   "outputs": [
    {
     "name": "stdout",
     "output_type": "stream",
     "text": [
<<<<<<< HEAD
      "\n",
      " startSetFilter logevent at 2022-07-08 18:55:22.073 is \n",
      " \tprivate_revCode: 031a81c3, private_sndStamp: 1657306522.0733426, private_rcvStamp: 1657306522.0736704, private_seqNum: 0, private_identity: CCCamera, private_origin: 15408733, filterName: r_03, filterType: r\n",
      "\n",
      " startLoadFilter logevent at 2022-07-08 18:55:22.319 is \n",
      " \tprivate_revCode: 13b5a0b1, private_sndStamp: 1657306522.3195674, private_rcvStamp: 1657306522.319904, private_seqNum: 0, private_identity: CCCamera, private_origin: 15408733, timestampTransition: 1657306522.3183548\n",
      "\n",
      " filterChangerDetailedState logevent at 2022-07-08 18:55:22.319 is \n",
      " \tprivate_revCode: 00917c89, private_sndStamp: 1657306522.3197665, private_rcvStamp: 1657306522.3199823, private_seqNum: 1, private_identity: CCCamera, private_origin: 15408733, substate: 2, timestampTransition: 0.0\n"
     ]
    },
    {
     "data": {
      "text/plain": [
       "<ddsutil.CCCamera_ackcmd_ff5ef83c at 0x7fd482c664d0>"
      ]
     },
     "execution_count": 38,
     "metadata": {},
     "output_type": "execute_result"
    },
    {
     "name": "stdout",
     "output_type": "stream",
     "text": [
      "\n",
      " filterChangerDetailedState logevent at 2022-07-08 18:55:38.487 is \n",
      " \tprivate_revCode: 00917c89, private_sndStamp: 1657306538.4877613, private_rcvStamp: 1657306538.4879832, private_seqNum: 2, private_identity: CCCamera, private_origin: 15408733, substate: 3, timestampTransition: 0.0\n",
      "\n",
      " endSetFilter logevent at 2022-07-08 18:55:38.488 is \n",
      " \tprivate_revCode: e836aa38, private_sndStamp: 1657306538.4887848, private_rcvStamp: 1657306538.4890704, private_seqNum: 0, private_identity: CCCamera, private_origin: 15408733, filterName: r_03, filterType: r, filterSlot: 2, filterPosition: 4118.99\n",
      "\n",
      " endLoadFilter logevent at 2022-07-08 18:55:38.487 is \n",
      " \tprivate_revCode: cf037da6, private_sndStamp: 1657306538.487565, private_rcvStamp: 1657306538.487882, private_seqNum: 0, private_identity: CCCamera, private_origin: 15408733, timestampTransition: 1657306538.4855547\n"
=======
      "Object `cccamera.cmd_setFilter` not found.\n"
>>>>>>> 51d275c (Add event_name to callback function)
     ]
    }
   ],
   "source": [
<<<<<<< HEAD
    "await comcam.rem.cccamera.cmd_setFilter.set_start(name = 'r_03')"
=======
    "await comcam.rem.cccamera.cmd_setFilter(positionFilter1)"
>>>>>>> 51d275c (Add event_name to callback function)
   ]
  },
  {
   "cell_type": "code",
<<<<<<< HEAD
   "execution_count": 39,
=======
   "execution_count": null,
>>>>>>> 51d275c (Add event_name to callback function)
   "metadata": {},
   "outputs": [],
   "source": [
    "comcam.rem.cccamera.evt_startSetFilter.callback = None\n",
    "comcam.rem.cccamera.evt_startLoadFilter.callback = None\n",
    "comcam.rem.cccamera.evt_filterChangerDetailedState.callback = None\n",
    "comcam.rem.cccamera.evt_endLoadFilter.callback = None\n",
    "comcam.rem.cccamera.evt_startRotateCarousel.callback = None\n",
    "comcam.rem.cccamera.evt_endRotateCarousel.callback = None\n",
    "comcam.rem.cccamera.evt_endSetFilter.callback = None"
   ]
  },
  {
<<<<<<< HEAD
   "cell_type": "code",
   "execution_count": 40,
   "metadata": {},
   "outputs": [
    {
     "data": {
      "text/plain": [
       "'r_03'"
      ]
     },
     "execution_count": 40,
     "metadata": {},
     "output_type": "execute_result"
    }
   ],
   "source": [
    "await comcam.get_current_filter()"
   ]
  },
  {
=======
>>>>>>> 51d275c (Add event_name to callback function)
   "cell_type": "markdown",
   "metadata": {},
   "source": [
    "---\n",
<<<<<<< HEAD
    "## Step 11: \n",
=======
>>>>>>> 51d275c (Add event_name to callback function)
    "Send a CCCamera_command_setFilter command with NONE.\n",
    "\n",
    "    Results:\n",
    "        The CCCamera_logevent_startSetFilter event is published to the EFD with the name of the filter being set\n",
    "    The CCCamera_logevent_startUnloadFilter event is published to the EFD\n",
    "        The CCCamera_logevent_filterChangerDetailedState event is published to the EFD showing UNLOADING\n",
    "    The CCCamera_logevent_endUnloadFilter event is published to the EFD\n",
    "        The CCCamera_logevent_filterChangerDetailedState event is published to the EFD \n",
    "    The CCCamera_logevent_endSetFilter event is published to the EFD"
   ]
  },
  {
   "cell_type": "code",
<<<<<<< HEAD
   "execution_count": 41,
=======
   "execution_count": null,
>>>>>>> 51d275c (Add event_name to callback function)
   "metadata": {},
   "outputs": [],
   "source": [
    "comcam.rem.cccamera.evt_startSetFilter.callback = evt_time_callback\n",
    "comcam.rem.cccamera.evt_startUnloadFilter.callback = evt_time_callback\n",
    "comcam.rem.cccamera.evt_filterChangerDetailedState.callback = evt_time_callback\n",
    "comcam.rem.cccamera.evt_endSetFilter.callback = evt_time_callback"
   ]
  },
  {
   "cell_type": "code",
<<<<<<< HEAD
   "execution_count": 44,
   "metadata": {},
   "outputs": [
    {
     "ename": "AckError",
     "evalue": "msg='Command failed', ackcmd=(ackcmd private_seqNum=1520055162, ack=<SalRetCode.CMD_NOPERM: -300>, error=0, result='Ack : NO Command rejected: Invalid filter: None')",
     "output_type": "error",
     "traceback": [
      "\u001b[0;31m---------------------------------------------------------------------------\u001b[0m",
      "\u001b[0;31mAckError\u001b[0m                                  Traceback (most recent call last)",
      "Input \u001b[0;32mIn [44]\u001b[0m, in \u001b[0;36m<cell line: 1>\u001b[0;34m()\u001b[0m\n\u001b[0;32m----> 1\u001b[0m \u001b[38;5;28;01mawait\u001b[39;00m comcam\u001b[38;5;241m.\u001b[39mrem\u001b[38;5;241m.\u001b[39mcccamera\u001b[38;5;241m.\u001b[39mcmd_setFilter\u001b[38;5;241m.\u001b[39mset_start(name \u001b[38;5;241m=\u001b[39m \u001b[38;5;124m'\u001b[39m\u001b[38;5;124mNone\u001b[39m\u001b[38;5;124m'\u001b[39m)\n",
      "File \u001b[0;32m/opt/lsst/software/stack/conda/miniconda3-py38_4.9.2/envs/lsst-scipipe-4.0.1/lib/python3.10/site-packages/lsst/ts/salobj/topics/remote_command.py:418\u001b[0m, in \u001b[0;36mRemoteCommand.set_start\u001b[0;34m(self, timeout, wait_done, **kwargs)\u001b[0m\n\u001b[1;32m    377\u001b[0m \u001b[38;5;124;03m\"\"\"Create a new ``self.data``, set zero or more fields,\u001b[39;00m\n\u001b[1;32m    378\u001b[0m \u001b[38;5;124;03mand start the command.\u001b[39;00m\n\u001b[1;32m    379\u001b[0m \n\u001b[0;32m   (...)\u001b[0m\n\u001b[1;32m    415\u001b[0m \u001b[38;5;124;03m    If ``data`` is not None and not an instance of `DataType`.\u001b[39;00m\n\u001b[1;32m    416\u001b[0m \u001b[38;5;124;03m\"\"\"\u001b[39;00m\n\u001b[1;32m    417\u001b[0m \u001b[38;5;28mself\u001b[39m\u001b[38;5;241m.\u001b[39mset(\u001b[38;5;241m*\u001b[39m\u001b[38;5;241m*\u001b[39mkwargs)\n\u001b[0;32m--> 418\u001b[0m \u001b[38;5;28;01mreturn\u001b[39;00m \u001b[38;5;28;01mawait\u001b[39;00m \u001b[38;5;28mself\u001b[39m\u001b[38;5;241m.\u001b[39mstart(timeout\u001b[38;5;241m=\u001b[39mtimeout, wait_done\u001b[38;5;241m=\u001b[39mwait_done)\n",
      "File \u001b[0;32m/opt/lsst/software/stack/conda/miniconda3-py38_4.9.2/envs/lsst-scipipe-4.0.1/lib/python3.10/site-packages/lsst/ts/salobj/topics/remote_command.py:485\u001b[0m, in \u001b[0;36mRemoteCommand.start\u001b[0;34m(self, data, timeout, wait_done)\u001b[0m\n\u001b[1;32m    481\u001b[0m cmd_info \u001b[38;5;241m=\u001b[39m CommandInfo(\n\u001b[1;32m    482\u001b[0m     remote_command\u001b[38;5;241m=\u001b[39m\u001b[38;5;28mself\u001b[39m, seq_num\u001b[38;5;241m=\u001b[39mseq_num, wait_done\u001b[38;5;241m=\u001b[39mwait_done\n\u001b[1;32m    483\u001b[0m )\n\u001b[1;32m    484\u001b[0m \u001b[38;5;28mself\u001b[39m\u001b[38;5;241m.\u001b[39msalinfo\u001b[38;5;241m.\u001b[39m_running_cmds[seq_num] \u001b[38;5;241m=\u001b[39m cmd_info\n\u001b[0;32m--> 485\u001b[0m \u001b[38;5;28;01mreturn\u001b[39;00m \u001b[38;5;28;01mawait\u001b[39;00m cmd_info\u001b[38;5;241m.\u001b[39mnext_ackcmd(timeout\u001b[38;5;241m=\u001b[39mtimeout)\n",
      "File \u001b[0;32m/opt/lsst/software/stack/conda/miniconda3-py38_4.9.2/envs/lsst-scipipe-4.0.1/lib/python3.10/site-packages/lsst/ts/salobj/topics/remote_command.py:195\u001b[0m, in \u001b[0;36mCommandInfo.next_ackcmd\u001b[0;34m(self, timeout)\u001b[0m\n\u001b[1;32m    193\u001b[0m     ackcmd \u001b[38;5;241m=\u001b[39m \u001b[38;5;28;01mawait\u001b[39;00m \u001b[38;5;28mself\u001b[39m\u001b[38;5;241m.\u001b[39m_wait_task\n\u001b[1;32m    194\u001b[0m     \u001b[38;5;28;01mif\u001b[39;00m ackcmd\u001b[38;5;241m.\u001b[39mack \u001b[38;5;129;01min\u001b[39;00m \u001b[38;5;28mself\u001b[39m\u001b[38;5;241m.\u001b[39mfailed_ack_codes:\n\u001b[0;32m--> 195\u001b[0m         \u001b[38;5;28;01mraise\u001b[39;00m base\u001b[38;5;241m.\u001b[39mAckError(msg\u001b[38;5;241m=\u001b[39m\u001b[38;5;124m\"\u001b[39m\u001b[38;5;124mCommand failed\u001b[39m\u001b[38;5;124m\"\u001b[39m, ackcmd\u001b[38;5;241m=\u001b[39mackcmd)\n\u001b[1;32m    196\u001b[0m     \u001b[38;5;28;01mreturn\u001b[39;00m ackcmd\n\u001b[1;32m    197\u001b[0m \u001b[38;5;28;01mexcept\u001b[39;00m asyncio\u001b[38;5;241m.\u001b[39mTimeoutError:\n",
      "\u001b[0;31mAckError\u001b[0m: msg='Command failed', ackcmd=(ackcmd private_seqNum=1520055162, ack=<SalRetCode.CMD_NOPERM: -300>, error=0, result='Ack : NO Command rejected: Invalid filter: None')"
     ]
    }
   ],
   "source": [
    "await comcam.rem.cccamera.cmd_setFilter.set_start(name = 'None')"
=======
   "execution_count": null,
   "metadata": {},
   "outputs": [],
   "source": [
    "await comcam.rem.cccamera.cmd_setFilter(None)"
>>>>>>> 51d275c (Add event_name to callback function)
   ]
  },
  {
   "cell_type": "code",
<<<<<<< HEAD
   "execution_count": 45,
=======
   "execution_count": null,
>>>>>>> 51d275c (Add event_name to callback function)
   "metadata": {},
   "outputs": [],
   "source": [
    "comcam.rem.cccamera.evt_startSetFilter.callback = None\n",
    "comcam.rem.cccamera.evt_startUnloadFilter.callback = None\n",
    "comcam.rem.cccamera.evt_filterChangerDetailedState.callback = None\n",
    "comcam.rem.cccamera.evt_endSetFilter.callback = None"
   ]
  },
  {
   "cell_type": "markdown",
   "metadata": {},
   "source": [
    "--- \n",
<<<<<<< HEAD
    "## Step 12: \n",
=======
>>>>>>> 51d275c (Add event_name to callback function)
    "Take Image Test\n",
    "While in the ENABLED state, send a CCCamera_command_initImage command of 15s.\n",
    "\n",
    "Note: This deltaT value is an estimate of time before sending the CCCamera_command_takeImage command. If the command can be sent sooner/later, adjust the deltaT value.\n",
    "\n",
    "    Results: \n",
    "    The command is accepted\n",
    "    The CCCamera_logevent_ImageReadinesDetailedState event is published to the EFD showing the system transitions into the Getting_Ready state\n",
    "    A CCCamera_logevent_prepareToTakeImage event is published to the EFD at the time of the transition\n",
<<<<<<< HEAD
    "    A CCCamera_logevent_NotReadyToTakeImage event is published before reaching the Ready state.\n",
    "    \n",
    "    \n",
    "**** Not available at EFD `comcam.rem.cccamera.evt_prepareToTakeImage` & `comcam.rem.cccamera.evt_notReadyToTakeImage`"
=======
    "    A CCCamera_logevent_NotReadyToTakeImage event is published before reaching the Ready state."
>>>>>>> 51d275c (Add event_name to callback function)
   ]
  },
  {
   "cell_type": "code",
<<<<<<< HEAD
   "execution_count": 46,
=======
   "execution_count": null,
>>>>>>> 51d275c (Add event_name to callback function)
   "metadata": {},
   "outputs": [],
   "source": [
    "comcam.rem.cccamera.evt_imageReadinessDetailedState.callback = evt_time_callback\n",
    "comcam.rem.cccamera.evt_prepareToTakeImage.callback = evt_time_callback\n",
    "comcam.rem.cccamera.evt_notReadyToTakeImage.callback = evt_time_callback"
   ]
  },
  {
   "cell_type": "code",
<<<<<<< HEAD
   "execution_count": 47,
   "metadata": {},
   "outputs": [
    {
     "name": "stdout",
     "output_type": "stream",
     "text": [
      "\n",
      " imageReadinessDetailedState logevent at 2022-07-08 18:56:34.505 is \n",
      " \tprivate_revCode: 90d66834, private_sndStamp: 1657306594.505893, private_rcvStamp: 1657306594.5061464, private_seqNum: 1, private_identity: CCCamera, private_origin: 15408733, substate: 3, timestampTransition: 0.0\n"
     ]
    },
    {
     "data": {
      "text/plain": [
       "<ddsutil.CCCamera_ackcmd_ff5ef83c at 0x7fd4c9871a20>"
      ]
     },
     "execution_count": 47,
     "metadata": {},
     "output_type": "execute_result"
    }
   ],
   "source": [
    "await comcam.rem.cccamera.cmd_initImage.set_start(deltaT = 15)"
=======
   "execution_count": 149,
   "metadata": {},
   "outputs": [
    {
     "data": {
      "text/plain": [
       "\u001b[0;31mType:\u001b[0m        RemoteCommand\n",
       "\u001b[0;31mString form:\u001b[0m RemoteCommand(CCCamera, 0, initImage)\n",
       "\u001b[0;31mFile:\u001b[0m        /opt/lsst/software/stack/conda/miniconda3-py38_4.9.2/envs/lsst-scipipe-4.0.1/lib/python3.10/site-packages/lsst/ts/salobj/topics/remote_command.py\n",
       "\u001b[0;31mDocstring:\u001b[0m  \n",
       "Issue a specific command topic and wait for acknowldgement.\n",
       "\n",
       "Parameters\n",
       "----------\n",
       "salinfo : `SalInfo`\n",
       "    SAL component information.\n",
       "name : `str`\n",
       "    Command name, with no prefix, e.g. \"start\".\n"
      ]
     },
     "metadata": {},
     "output_type": "display_data"
    }
   ],
   "source": [
    "? await comcam.rem.cccamera.cmd_initImage(15)"
>>>>>>> 51d275c (Add event_name to callback function)
   ]
  },
  {
   "cell_type": "code",
<<<<<<< HEAD
   "execution_count": 48,
=======
   "execution_count": null,
>>>>>>> 51d275c (Add event_name to callback function)
   "metadata": {},
   "outputs": [],
   "source": [
    "comcam.rem.cccamera.evt_imageReadinessDetailedState.callback = None\n",
    "comcam.rem.cccamera.evt_prepareToTakeImage.callback = None\n",
    "comcam.rem.cccamera.evt_notReadyToTakeImage.callback = None"
   ]
  },
  {
   "cell_type": "markdown",
   "metadata": {},
   "source": [
    "---\n",
<<<<<<< HEAD
    "## Step 13: \n",
=======
>>>>>>> 51d275c (Add event_name to callback function)
    "Verify the Camera is ready to take a picture.\n",
    "    \n",
    "    Results:\n",
    "    The CCCamera_logevent_ImageReadinesDetailedState event is published to the EFD showing the system transitions into the Ready state\n",
    "    A CCCamera_logevent_readyToTakeImage event is published to the EFD at the time of the transition\n",
<<<<<<< HEAD
    "    A CCCamera_logevent_endInitializeImage event is published to the EFD at the time of the transition\n",
    "    \n",
    "**** Not available at EFD `comcam.rem.cccamera.evt_readyToTakeImage` & `comcam.rem.cccamera.evt_endInitializeImage`"
=======
    "    A CCCamera_logevent_endInitializeImage event is published to the EFD at the time of the transition"
>>>>>>> 51d275c (Add event_name to callback function)
   ]
  },
  {
   "cell_type": "code",
<<<<<<< HEAD
   "execution_count": 49,
   "metadata": {},
   "outputs": [
    {
     "data": {
      "text/html": [
       "<pre style=\"margin: 0.1em;\n",
       "padding-left: 0.25em;\n",
       "border-left-style: solid;\n",
       "font-family: var(--jp-code-font-family);\n",
       "font-size: var(--jp-code-font-size);\n",
       "line-height: var(--jp-code-line-height);\n",
       "\"><span style=\"color: var(--jp-warn-color2)\">root</span> <span style=\"color: var(--jp-info-color0)\">INFO</span>: Image Readiness Detailed State at 2022-07-08 18:56:34.505 is \n",
       " private_revCode: 90d66834, private_sndStamp: 1657306594.505893, private_rcvStamp: 1657306594.5061464, private_seqNum: 1, private_identity: CCCamera, private_origin: 15408733, substate: 3, timestampTransition: 0.0</pre>"
      ],
      "text/plain": [
       "<IPython.core.display.HTML object>"
      ]
     },
     "metadata": {},
     "output_type": "display_data"
    }
   ],
=======
   "execution_count": null,
   "metadata": {},
   "outputs": [],
>>>>>>> 51d275c (Add event_name to callback function)
   "source": [
    "readiness = comcam.rem.cccamera.evt_imageReadinessDetailedState.get()\n",
    "time_readiness = datetime.utcfromtimestamp(readiness.private_sndStamp).strftime(\"%Y-%m-%d %H:%M:%S.%f\")[:-3]\n",
    "logger.info(f'Image Readiness Detailed State at {time_readiness}' \n",
    "            f' is \\n {readiness}')"
   ]
  },
  {
   "cell_type": "code",
<<<<<<< HEAD
   "execution_count": 50,
   "metadata": {},
   "outputs": [
    {
     "ename": "AttributeError",
     "evalue": "'NoneType' object has no attribute 'private_sndStamp'",
     "output_type": "error",
     "traceback": [
      "\u001b[0;31m---------------------------------------------------------------------------\u001b[0m",
      "\u001b[0;31mAttributeError\u001b[0m                            Traceback (most recent call last)",
      "Input \u001b[0;32mIn [50]\u001b[0m, in \u001b[0;36m<cell line: 2>\u001b[0;34m()\u001b[0m\n\u001b[1;32m      1\u001b[0m ready_to_take_image \u001b[38;5;241m=\u001b[39m comcam\u001b[38;5;241m.\u001b[39mrem\u001b[38;5;241m.\u001b[39mcccamera\u001b[38;5;241m.\u001b[39mevt_readyToTakeImage\u001b[38;5;241m.\u001b[39mget()\n\u001b[0;32m----> 2\u001b[0m time_ready_to_take_image \u001b[38;5;241m=\u001b[39m datetime\u001b[38;5;241m.\u001b[39mutcfromtimestamp(\u001b[43mready_to_take_image\u001b[49m\u001b[38;5;241;43m.\u001b[39;49m\u001b[43mprivate_sndStamp\u001b[49m)\u001b[38;5;241m.\u001b[39mstrftime(\u001b[38;5;124m\"\u001b[39m\u001b[38;5;124m%\u001b[39m\u001b[38;5;124mY-\u001b[39m\u001b[38;5;124m%\u001b[39m\u001b[38;5;124mm-\u001b[39m\u001b[38;5;132;01m%d\u001b[39;00m\u001b[38;5;124m \u001b[39m\u001b[38;5;124m%\u001b[39m\u001b[38;5;124mH:\u001b[39m\u001b[38;5;124m%\u001b[39m\u001b[38;5;124mM:\u001b[39m\u001b[38;5;124m%\u001b[39m\u001b[38;5;124mS.\u001b[39m\u001b[38;5;132;01m%f\u001b[39;00m\u001b[38;5;124m\"\u001b[39m)[:\u001b[38;5;241m-\u001b[39m\u001b[38;5;241m3\u001b[39m]\n\u001b[1;32m      3\u001b[0m logger\u001b[38;5;241m.\u001b[39minfo(\u001b[38;5;124mf\u001b[39m\u001b[38;5;124m'\u001b[39m\u001b[38;5;124mReady to take image at \u001b[39m\u001b[38;5;132;01m{\u001b[39;00mtime_ready_to_take_image\u001b[38;5;132;01m}\u001b[39;00m\u001b[38;5;124m'\u001b[39m \n\u001b[1;32m      4\u001b[0m             \u001b[38;5;124mf\u001b[39m\u001b[38;5;124m'\u001b[39m\u001b[38;5;124m is \u001b[39m\u001b[38;5;130;01m\\n\u001b[39;00m\u001b[38;5;124m \u001b[39m\u001b[38;5;132;01m{\u001b[39;00mready_to_take_image\u001b[38;5;132;01m}\u001b[39;00m\u001b[38;5;124m'\u001b[39m)\n",
      "\u001b[0;31mAttributeError\u001b[0m: 'NoneType' object has no attribute 'private_sndStamp'"
     ]
    }
   ],
=======
   "execution_count": null,
   "metadata": {},
   "outputs": [],
>>>>>>> 51d275c (Add event_name to callback function)
   "source": [
    "ready_to_take_image = comcam.rem.cccamera.evt_readyToTakeImage.get()\n",
    "time_ready_to_take_image = datetime.utcfromtimestamp(ready_to_take_image.private_sndStamp).strftime(\"%Y-%m-%d %H:%M:%S.%f\")[:-3]\n",
    "logger.info(f'Ready to take image at {time_ready_to_take_image}' \n",
<<<<<<< HEAD
    "            f' is \\n {ready_to_take_image}')\n"
=======
    "            f' is \\n {ready_to_take_image}')"
>>>>>>> 51d275c (Add event_name to callback function)
   ]
  },
  {
   "cell_type": "code",
<<<<<<< HEAD
   "execution_count": 51,
   "metadata": {},
   "outputs": [
    {
     "ename": "AttributeError",
     "evalue": "'NoneType' object has no attribute 'private_sndStamp'",
     "output_type": "error",
     "traceback": [
      "\u001b[0;31m---------------------------------------------------------------------------\u001b[0m",
      "\u001b[0;31mAttributeError\u001b[0m                            Traceback (most recent call last)",
      "Input \u001b[0;32mIn [51]\u001b[0m, in \u001b[0;36m<cell line: 2>\u001b[0;34m()\u001b[0m\n\u001b[1;32m      1\u001b[0m end_initialize_image \u001b[38;5;241m=\u001b[39m comcam\u001b[38;5;241m.\u001b[39mrem\u001b[38;5;241m.\u001b[39mcccamera\u001b[38;5;241m.\u001b[39mevt_endInitializeImage\u001b[38;5;241m.\u001b[39mget()\n\u001b[0;32m----> 2\u001b[0m time_end_initialize_image \u001b[38;5;241m=\u001b[39m datetime\u001b[38;5;241m.\u001b[39mutcfromtimestamp(\u001b[43mend_initialize_image\u001b[49m\u001b[38;5;241;43m.\u001b[39;49m\u001b[43mprivate_sndStamp\u001b[49m)\u001b[38;5;241m.\u001b[39mstrftime(\u001b[38;5;124m\"\u001b[39m\u001b[38;5;124m%\u001b[39m\u001b[38;5;124mY-\u001b[39m\u001b[38;5;124m%\u001b[39m\u001b[38;5;124mm-\u001b[39m\u001b[38;5;132;01m%d\u001b[39;00m\u001b[38;5;124m \u001b[39m\u001b[38;5;124m%\u001b[39m\u001b[38;5;124mH:\u001b[39m\u001b[38;5;124m%\u001b[39m\u001b[38;5;124mM:\u001b[39m\u001b[38;5;124m%\u001b[39m\u001b[38;5;124mS.\u001b[39m\u001b[38;5;132;01m%f\u001b[39;00m\u001b[38;5;124m\"\u001b[39m)[:\u001b[38;5;241m-\u001b[39m\u001b[38;5;241m3\u001b[39m]\n\u001b[1;32m      3\u001b[0m logger\u001b[38;5;241m.\u001b[39minfo(\u001b[38;5;124mf\u001b[39m\u001b[38;5;124m'\u001b[39m\u001b[38;5;124mEnd Initialize Image at \u001b[39m\u001b[38;5;132;01m{\u001b[39;00mtime_end_initialize_image\u001b[38;5;132;01m}\u001b[39;00m\u001b[38;5;124m'\u001b[39m \n\u001b[1;32m      4\u001b[0m             \u001b[38;5;124mf\u001b[39m\u001b[38;5;124m'\u001b[39m\u001b[38;5;124m is \u001b[39m\u001b[38;5;130;01m\\n\u001b[39;00m\u001b[38;5;124m \u001b[39m\u001b[38;5;132;01m{\u001b[39;00mend_initialize_image\u001b[38;5;132;01m}\u001b[39;00m\u001b[38;5;124m'\u001b[39m)\n",
      "\u001b[0;31mAttributeError\u001b[0m: 'NoneType' object has no attribute 'private_sndStamp'"
     ]
    }
   ],
=======
   "execution_count": null,
   "metadata": {},
   "outputs": [],
>>>>>>> 51d275c (Add event_name to callback function)
   "source": [
    "end_initialize_image = comcam.rem.cccamera.evt_endInitializeImage.get()\n",
    "time_end_initialize_image = datetime.utcfromtimestamp(end_initialize_image.private_sndStamp).strftime(\"%Y-%m-%d %H:%M:%S.%f\")[:-3]\n",
    "logger.info(f'End Initialize Image at {time_end_initialize_image}' \n",
    "            f' is \\n {end_initialize_image}')"
   ]
  },
  {
   "cell_type": "markdown",
   "metadata": {},
   "source": [
    "---\n",
<<<<<<< HEAD
    "## Step 14: \n",
=======
>>>>>>> 51d275c (Add event_name to callback function)
    "With the Camera ready to take a picture, send the CCCamera_command_takeImages command.\n",
    "\n",
    "    Results:\n",
    "    A CCCamera_logevent_startIntegration event is published to the EFD\n",
    "    A CCCamera_logevent_startShutterOpen event is published to the EFD.\n",
    "    A CCCamera_logevent_endShutterOpen event is published to the EFD.\n",
    "    The Camera publishes a CCCamera_logevent_startShutterClose event as the camera shutter starts to shut\n",
    "    The Camera publishes a CCCamera_logevent_endShutterClose event when the camera shutter is closed\n",
    "    A CCCamera_logevent_startReadout event is published\n",
    "    A CCCamera_logevent_endReadout event is published"
   ]
  },
  {
   "cell_type": "code",
<<<<<<< HEAD
   "execution_count": 52,
=======
   "execution_count": null,
>>>>>>> 51d275c (Add event_name to callback function)
   "metadata": {},
   "outputs": [],
   "source": [
    "comcam.rem.cccamera.evt_startIntegration.callback = evt_time_callback\n",
    "comcam.rem.cccamera.evt_startShutterOpen.callback = evt_time_callback\n",
    "comcam.rem.cccamera.evt_endShutterOpen.callback = evt_time_callback\n",
    "comcam.rem.cccamera.evt_startShutterClose.callback = evt_time_callback\n",
    "comcam.rem.cccamera.evt_endShutterClose.callback = evt_time_callback\n",
    "comcam.rem.cccamera.evt_startReadout.callback = evt_time_callback\n",
    "comcam.rem.cccamera.evt_endReadout.callback = evt_time_callback"
   ]
  },
  {
   "cell_type": "code",
<<<<<<< HEAD
   "execution_count": 53,
   "metadata": {},
   "outputs": [],
   "source": [
    "keyValueMap = f'groupId:{Time.now().isot},imageType:ENGTEST'"
=======
   "execution_count": null,
   "metadata": {},
   "outputs": [],
   "source": [
    "await comcam.rem.cccamera.cmd_takeImages()"
>>>>>>> 51d275c (Add event_name to callback function)
   ]
  },
  {
   "cell_type": "code",
<<<<<<< HEAD
   "execution_count": 54,
   "metadata": {},
   "outputs": [
    {
     "data": {
      "text/plain": [
       "True"
      ]
     },
     "execution_count": 54,
     "metadata": {},
     "output_type": "execute_result"
    }
   ],
   "source": [
    "# Set parameters\n",
    "comcam.rem.cccamera.cmd_takeImages.set(shutter=True, keyValueMap=keyValueMap, numImages=1, expTime=20, obsNote = 'Test')"
   ]
  },
  {
   "cell_type": "code",
   "execution_count": 55,
   "metadata": {},
   "outputs": [
    {
     "name": "stdout",
     "output_type": "stream",
     "text": [
      "\n",
      " startIntegration logevent at 2022-07-08 18:56:58.078 is \n",
      " \tprivate_revCode: ac7ce4ef, private_sndStamp: 1657306618.0782428, private_rcvStamp: 1657306618.0784912, private_seqNum: 2, private_identity: CCCamera, private_origin: 15408733, additionalKeys: groupId:imageType, additionalValues: 2022-07-08T18\\:56\\:17.527:ENGTEST, imagesInSequence: 1, imageName: CC_O_20220708_000002, imageIndex: 1, imageSource: CC, imageController: O, imageDate: 20220708, imageNumber: 2, timestampAcquisitionStart: 1657306458.11317, exposureTime: 20.0, mode: normal, timeout: 20.0\n",
      "\n",
      " endShutterOpen logevent at 2022-07-08 18:56:58.104 is \n",
      " \tprivate_revCode: dc9d3865, private_sndStamp: 1657306618.1047833, private_rcvStamp: 1657306618.1050236, private_seqNum: 2, private_identity: CCCamera, private_origin: 15408733, timestampTransition: 1657306618.1041758\n",
      "\n",
      " endShutterClose logevent at 2022-07-08 18:57:18.505 is \n",
      " \tprivate_revCode: 1a6c8bc0, private_sndStamp: 1657306638.5059187, private_rcvStamp: 1657306638.5062523, private_seqNum: 2, private_identity: CCCamera, private_origin: 15408733, timestampTransition: 1657306638.5049982\n",
      "\n",
      " startReadout logevent at 2022-07-08 18:57:18.518 is \n",
      " \tprivate_revCode: 0bfffb9a, private_sndStamp: 1657306638.5189176, private_rcvStamp: 1657306638.519188, private_seqNum: 2, private_identity: CCCamera, private_origin: 15408733, additionalKeys: groupId:imageType, additionalValues: 2022-07-08T18\\:56\\:17.527:ENGTEST, imagesInSequence: 1, imageName: CC_O_20220708_000002, imageIndex: 1, imageSource: CC, imageController: O, imageDate: 20220708, imageNumber: 2, timestampAcquisitionStart: 1657306458.11317, exposureTime: 20.0, timestampStartOfReadout: 1657306638.517509\n"
     ]
    },
    {
     "data": {
      "text/plain": [
       "<ddsutil.CCCamera_ackcmd_ff5ef83c at 0x7fd481a1bb80>"
      ]
     },
     "execution_count": 55,
     "metadata": {},
     "output_type": "execute_result"
    },
    {
     "name": "stdout",
     "output_type": "stream",
     "text": [
      "\n",
      " endReadout logevent at 2022-07-08 18:57:20.932 is \n",
      " \tprivate_revCode: 82211edd, private_sndStamp: 1657306640.9327023, private_rcvStamp: 1657306640.9329593, private_seqNum: 2, private_identity: CCCamera, private_origin: 15408733, additionalKeys: groupId:imageType, additionalValues: 2022-07-08T18\\:56\\:17.527:ENGTEST, imagesInSequence: 1, imageName: CC_O_20220708_000002, imageIndex: 1, imageSource: CC, imageController: O, imageDate: 20220708, imageNumber: 2, timestampAcquisitionStart: 1657306458.11317, requestedExposureTime: 20.0, timestampEndOfReadout: 1657306640.9318068\n"
     ]
    }
   ],
   "source": [
    "await comcam.rem.cccamera.cmd_takeImages.start()"
   ]
  },
  {
   "cell_type": "code",
   "execution_count": 56,
=======
   "execution_count": null,
>>>>>>> 51d275c (Add event_name to callback function)
   "metadata": {},
   "outputs": [],
   "source": [
    "comcam.rem.cccamera.evt_startIntegration.callback = None\n",
    "comcam.rem.cccamera.evt_startShutterOpen.callback = None\n",
    "comcam.rem.cccamera.evt_endShutterOpen.callback = None\n",
    "comcam.rem.cccamera.evt_startShutterClose.callback = None\n",
    "comcam.rem.cccamera.evt_endShutterClose.callback = None\n",
    "comcam.rem.cccamera.evt_startReadout.callback = None\n",
    "comcam.rem.cccamera.evt_endReadout.callback = None"
   ]
  },
  {
   "cell_type": "markdown",
   "metadata": {},
   "source": [
    "---\n",
<<<<<<< HEAD
    "## Step 15: \n",
=======
>>>>>>> 51d275c (Add event_name to callback function)
    "Verify the Camera is done taking pictures.\n",
    "\n",
    "    Results:\n",
    "    A CCCamera_logevent_endTakeImage event is published to the EFD at the time the state transition occurs.\n",
<<<<<<< HEAD
    "    A CCCamera_logevent_endOfImageTelemetry event is published\n",
    "    \n",
    "**** Not available at EFD `comcam.rem.cccamera.evt_endTakeImage` "
=======
    "    A CCCamera_logevent_endOfImageTelemetry event is published"
>>>>>>> 51d275c (Add event_name to callback function)
   ]
  },
  {
   "cell_type": "code",
<<<<<<< HEAD
   "execution_count": 57,
   "metadata": {},
   "outputs": [
    {
     "ename": "AttributeError",
     "evalue": "'NoneType' object has no attribute 'private_sndStamp'",
     "output_type": "error",
     "traceback": [
      "\u001b[0;31m---------------------------------------------------------------------------\u001b[0m",
      "\u001b[0;31mAttributeError\u001b[0m                            Traceback (most recent call last)",
      "Input \u001b[0;32mIn [57]\u001b[0m, in \u001b[0;36m<cell line: 2>\u001b[0;34m()\u001b[0m\n\u001b[1;32m      1\u001b[0m end_take_image \u001b[38;5;241m=\u001b[39m comcam\u001b[38;5;241m.\u001b[39mrem\u001b[38;5;241m.\u001b[39mcccamera\u001b[38;5;241m.\u001b[39mevt_endTakeImage\u001b[38;5;241m.\u001b[39mget()\n\u001b[0;32m----> 2\u001b[0m time_end_take_image \u001b[38;5;241m=\u001b[39m datetime\u001b[38;5;241m.\u001b[39mutcfromtimestamp(\u001b[43mend_take_image\u001b[49m\u001b[38;5;241;43m.\u001b[39;49m\u001b[43mprivate_sndStamp\u001b[49m)\u001b[38;5;241m.\u001b[39mstrftime(\u001b[38;5;124m\"\u001b[39m\u001b[38;5;124m%\u001b[39m\u001b[38;5;124mY-\u001b[39m\u001b[38;5;124m%\u001b[39m\u001b[38;5;124mm-\u001b[39m\u001b[38;5;132;01m%d\u001b[39;00m\u001b[38;5;124m \u001b[39m\u001b[38;5;124m%\u001b[39m\u001b[38;5;124mH:\u001b[39m\u001b[38;5;124m%\u001b[39m\u001b[38;5;124mM:\u001b[39m\u001b[38;5;124m%\u001b[39m\u001b[38;5;124mS.\u001b[39m\u001b[38;5;132;01m%f\u001b[39;00m\u001b[38;5;124m\"\u001b[39m)[:\u001b[38;5;241m-\u001b[39m\u001b[38;5;241m3\u001b[39m]\n\u001b[1;32m      3\u001b[0m logger\u001b[38;5;241m.\u001b[39minfo(\u001b[38;5;124mf\u001b[39m\u001b[38;5;124m'\u001b[39m\u001b[38;5;124mEnd Take Image at \u001b[39m\u001b[38;5;132;01m{\u001b[39;00mtime_end_take_image\u001b[38;5;132;01m}\u001b[39;00m\u001b[38;5;124m'\u001b[39m \n\u001b[1;32m      4\u001b[0m             \u001b[38;5;124mf\u001b[39m\u001b[38;5;124m'\u001b[39m\u001b[38;5;124m is \u001b[39m\u001b[38;5;130;01m\\n\u001b[39;00m\u001b[38;5;124m \u001b[39m\u001b[38;5;132;01m{\u001b[39;00mend_take_image\u001b[38;5;132;01m}\u001b[39;00m\u001b[38;5;124m'\u001b[39m)\n",
      "\u001b[0;31mAttributeError\u001b[0m: 'NoneType' object has no attribute 'private_sndStamp'"
     ]
    }
   ],
=======
   "execution_count": null,
   "metadata": {},
   "outputs": [],
>>>>>>> 51d275c (Add event_name to callback function)
   "source": [
    "end_take_image = comcam.rem.cccamera.evt_endTakeImage.get()\n",
    "time_end_take_image = datetime.utcfromtimestamp(end_take_image.private_sndStamp).strftime(\"%Y-%m-%d %H:%M:%S.%f\")[:-3]\n",
    "logger.info(f'End Take Image at {time_end_take_image}' \n",
    "            f' is \\n {end_take_image}')"
   ]
  },
  {
   "cell_type": "code",
<<<<<<< HEAD
   "execution_count": 58,
   "metadata": {},
   "outputs": [
    {
     "data": {
      "text/html": [
       "<pre style=\"margin: 0.1em;\n",
       "padding-left: 0.25em;\n",
       "border-left-style: solid;\n",
       "font-family: var(--jp-code-font-family);\n",
       "font-size: var(--jp-code-font-size);\n",
       "line-height: var(--jp-code-line-height);\n",
       "\"><span style=\"color: var(--jp-warn-color2)\">root</span> <span style=\"color: var(--jp-info-color0)\">INFO</span>: End of Image Telemetry at 2022-07-08 18:57:21.233 is \n",
       " private_revCode: 51d5e2ae, private_sndStamp: 1657306641.2330775, private_rcvStamp: 1657306641.2333279, private_seqNum: 2, private_identity: CCCamera, private_origin: 15408733, additionalKeys: groupId:imageType, additionalValues: 2022-07-08T18\\:56\\:17.527:ENGTEST, imagesInSequence: 1, imageName: CC_O_20220708_000002, imageIndex: 1, imageSource: CC, imageController: O, imageDate: 20220708, imageNumber: 2, timestampAcquisitionStart: 1657306618.0758014, exposureTime: 20.0, imageTag: 58f8e872d075aba2, timestampDateObs: 1657306618.0758014, timestampDateEnd: 1657306638.5168033, measuredShutterOpenTime: 20.0, darkTime: 20.441001892089844, emulatedImage: </pre>"
      ],
      "text/plain": [
       "<IPython.core.display.HTML object>"
      ]
     },
     "metadata": {},
     "output_type": "display_data"
    }
   ],
=======
   "execution_count": null,
   "metadata": {},
   "outputs": [],
>>>>>>> 51d275c (Add event_name to callback function)
   "source": [
    "end_of_image_telemetry = comcam.rem.cccamera.evt_endOfImageTelemetry.get()\n",
    "time_end_of_image_telemetry = datetime.utcfromtimestamp(end_of_image_telemetry.private_sndStamp).strftime(\"%Y-%m-%d %H:%M:%S.%f\")[:-3]\n",
    "logger.info(f'End of Image Telemetry at {time_end_of_image_telemetry}' \n",
    "            f' is \\n {end_of_image_telemetry}')"
   ]
  },
  {
   "cell_type": "markdown",
   "metadata": {},
   "source": [
    "---\n",
<<<<<<< HEAD
    "## Step 16: Guiders Image Test\n",
    "\n",
=======
    "Guiders Image Test\n",
>>>>>>> 51d275c (Add event_name to callback function)
    "While in the ENABLED state, send a CCCamera_command_initImage command of 15s.\n",
    "\n",
    "    Results:\n",
    "    The command is accepted\n",
    "    The CCCamera_logevent_ImageReadinesDetailedState event is published to the EFD showing the system transitions into the Getting_Ready state\n",
    "    A CCCamera_logevent_prepareToTakeImage event is published to the EFD at the time of the transition\n",
    "    A CCCamera_logevent_NotReadyToTakeImage event is published before reaching the Ready state."
   ]
  },
  {
   "cell_type": "code",
<<<<<<< HEAD
   "execution_count": 59,
   "metadata": {},
   "outputs": [],
   "source": [
    "comcam.rem.cccamera.evt_imageReadinessDetailedState.callback = evt_time_callback\n",
    "comcam.rem.cccamera.evt_prepareToTakeImage.callback = evt_time_callback\n",
    "comcam.rem.cccamera.evt_notReadyToTakeImage.callback = evt_time_callback"
   ]
  },
  {
   "cell_type": "code",
   "execution_count": 60,
   "metadata": {},
   "outputs": [
    {
     "name": "stdout",
     "output_type": "stream",
     "text": [
      "\n",
      " imageReadinessDetailedState logevent at 2022-07-08 18:58:28.519 is \n",
      " \tprivate_revCode: 90d66834, private_sndStamp: 1657306708.5195973, private_rcvStamp: 1657306708.519818, private_seqNum: 2, private_identity: CCCamera, private_origin: 15408733, substate: 1, timestampTransition: 0.0\n",
      "\n",
      " imageReadinessDetailedState logevent at 2022-07-08 18:58:28.519 is \n",
      " \tprivate_revCode: 90d66834, private_sndStamp: 1657306708.5199895, private_rcvStamp: 1657306708.5201607, private_seqNum: 3, private_identity: CCCamera, private_origin: 15408733, substate: 3, timestampTransition: 0.0\n"
     ]
    },
    {
     "data": {
      "text/plain": [
       "<ddsutil.CCCamera_ackcmd_ff5ef83c at 0x7fd481939120>"
      ]
     },
     "execution_count": 60,
     "metadata": {},
     "output_type": "execute_result"
    }
   ],
   "source": [
    "await comcam.rem.cccamera.cmd_initImage.set_start(deltaT = 15)"
   ]
  },
  {
   "cell_type": "code",
   "execution_count": 61,
   "metadata": {},
   "outputs": [],
   "source": [
    "comcam.rem.cccamera.evt_imageReadinessDetailedState.callback = None\n",
    "comcam.rem.cccamera.evt_prepareToTakeImage.callback = None\n",
    "comcam.rem.cccamera.evt_notReadyToTakeImage.callback = None"
   ]
=======
   "execution_count": null,
   "metadata": {},
   "outputs": [],
   "source": []
>>>>>>> 51d275c (Add event_name to callback function)
  },
  {
   "cell_type": "markdown",
   "metadata": {},
   "source": [
    "---\n",
<<<<<<< HEAD
    "## Step 17: \n",
=======
>>>>>>> 51d275c (Add event_name to callback function)
    "Verify the Camera is ready to take a picture.\n",
    "\n",
    "    Results:\n",
    "    The CCCamera_logevent_ImageReadinesDetailedState event is published to the EFD showing the system transitions into the Ready state\n",
    "    A CCCamera_logevent_readyToTakeImage event is published to the EFD at the time of the transition\n",
    "    A CCCamera_logevent_endInitializeImage event is published to the EFD at the time of the transition"
   ]
  },
  {
   "cell_type": "code",
<<<<<<< HEAD
   "execution_count": 62,
   "metadata": {},
   "outputs": [
    {
     "data": {
      "text/html": [
       "<pre style=\"margin: 0.1em;\n",
       "padding-left: 0.25em;\n",
       "border-left-style: solid;\n",
       "font-family: var(--jp-code-font-family);\n",
       "font-size: var(--jp-code-font-size);\n",
       "line-height: var(--jp-code-line-height);\n",
       "\"><span style=\"color: var(--jp-warn-color2)\">root</span> <span style=\"color: var(--jp-info-color0)\">INFO</span>: Image Readiness Detailed State at 2022-07-08 18:58:28.519 is \n",
       " private_revCode: 90d66834, private_sndStamp: 1657306708.5199895, private_rcvStamp: 1657306708.5201607, private_seqNum: 3, private_identity: CCCamera, private_origin: 15408733, substate: 3, timestampTransition: 0.0</pre>"
      ],
      "text/plain": [
       "<IPython.core.display.HTML object>"
      ]
     },
     "metadata": {},
     "output_type": "display_data"
    }
   ],
   "source": [
    "readiness = comcam.rem.cccamera.evt_imageReadinessDetailedState.get()\n",
    "time_readiness = datetime.utcfromtimestamp(readiness.private_sndStamp).strftime(\"%Y-%m-%d %H:%M:%S.%f\")[:-3]\n",
    "logger.info(f'Image Readiness Detailed State at {time_readiness}' \n",
    "            f' is \\n {readiness}')"
   ]
  },
  {
   "cell_type": "code",
   "execution_count": 63,
   "metadata": {},
   "outputs": [
    {
     "ename": "AttributeError",
     "evalue": "'NoneType' object has no attribute 'private_sndStamp'",
     "output_type": "error",
     "traceback": [
      "\u001b[0;31m---------------------------------------------------------------------------\u001b[0m",
      "\u001b[0;31mAttributeError\u001b[0m                            Traceback (most recent call last)",
      "Input \u001b[0;32mIn [63]\u001b[0m, in \u001b[0;36m<cell line: 2>\u001b[0;34m()\u001b[0m\n\u001b[1;32m      1\u001b[0m ready_to_take_image \u001b[38;5;241m=\u001b[39m comcam\u001b[38;5;241m.\u001b[39mrem\u001b[38;5;241m.\u001b[39mcccamera\u001b[38;5;241m.\u001b[39mevt_readyToTakeImage\u001b[38;5;241m.\u001b[39mget()\n\u001b[0;32m----> 2\u001b[0m time_ready_to_take_image \u001b[38;5;241m=\u001b[39m datetime\u001b[38;5;241m.\u001b[39mutcfromtimestamp(\u001b[43mready_to_take_image\u001b[49m\u001b[38;5;241;43m.\u001b[39;49m\u001b[43mprivate_sndStamp\u001b[49m)\u001b[38;5;241m.\u001b[39mstrftime(\u001b[38;5;124m\"\u001b[39m\u001b[38;5;124m%\u001b[39m\u001b[38;5;124mY-\u001b[39m\u001b[38;5;124m%\u001b[39m\u001b[38;5;124mm-\u001b[39m\u001b[38;5;132;01m%d\u001b[39;00m\u001b[38;5;124m \u001b[39m\u001b[38;5;124m%\u001b[39m\u001b[38;5;124mH:\u001b[39m\u001b[38;5;124m%\u001b[39m\u001b[38;5;124mM:\u001b[39m\u001b[38;5;124m%\u001b[39m\u001b[38;5;124mS.\u001b[39m\u001b[38;5;132;01m%f\u001b[39;00m\u001b[38;5;124m\"\u001b[39m)[:\u001b[38;5;241m-\u001b[39m\u001b[38;5;241m3\u001b[39m]\n\u001b[1;32m      3\u001b[0m logger\u001b[38;5;241m.\u001b[39minfo(\u001b[38;5;124mf\u001b[39m\u001b[38;5;124m'\u001b[39m\u001b[38;5;124mReady to take image at \u001b[39m\u001b[38;5;132;01m{\u001b[39;00mtime_ready_to_take_image\u001b[38;5;132;01m}\u001b[39;00m\u001b[38;5;124m'\u001b[39m \n\u001b[1;32m      4\u001b[0m             \u001b[38;5;124mf\u001b[39m\u001b[38;5;124m'\u001b[39m\u001b[38;5;124m is \u001b[39m\u001b[38;5;130;01m\\n\u001b[39;00m\u001b[38;5;124m \u001b[39m\u001b[38;5;132;01m{\u001b[39;00mready_to_take_image\u001b[38;5;132;01m}\u001b[39;00m\u001b[38;5;124m'\u001b[39m)\n",
      "\u001b[0;31mAttributeError\u001b[0m: 'NoneType' object has no attribute 'private_sndStamp'"
     ]
    }
   ],
   "source": [
    "ready_to_take_image = comcam.rem.cccamera.evt_readyToTakeImage.get()\n",
    "time_ready_to_take_image = datetime.utcfromtimestamp(ready_to_take_image.private_sndStamp).strftime(\"%Y-%m-%d %H:%M:%S.%f\")[:-3]\n",
    "logger.info(f'Ready to take image at {time_ready_to_take_image}' \n",
    "            f' is \\n {ready_to_take_image}')"
   ]
  },
  {
   "cell_type": "code",
   "execution_count": 64,
   "metadata": {},
   "outputs": [
    {
     "ename": "AttributeError",
     "evalue": "'NoneType' object has no attribute 'private_sndStamp'",
     "output_type": "error",
     "traceback": [
      "\u001b[0;31m---------------------------------------------------------------------------\u001b[0m",
      "\u001b[0;31mAttributeError\u001b[0m                            Traceback (most recent call last)",
      "Input \u001b[0;32mIn [64]\u001b[0m, in \u001b[0;36m<cell line: 2>\u001b[0;34m()\u001b[0m\n\u001b[1;32m      1\u001b[0m end_initialize_image \u001b[38;5;241m=\u001b[39m comcam\u001b[38;5;241m.\u001b[39mrem\u001b[38;5;241m.\u001b[39mcccamera\u001b[38;5;241m.\u001b[39mevt_endInitializeImage\u001b[38;5;241m.\u001b[39mget()\n\u001b[0;32m----> 2\u001b[0m time_end_initialize_image \u001b[38;5;241m=\u001b[39m datetime\u001b[38;5;241m.\u001b[39mutcfromtimestamp(\u001b[43mend_initialize_image\u001b[49m\u001b[38;5;241;43m.\u001b[39;49m\u001b[43mprivate_sndStamp\u001b[49m)\u001b[38;5;241m.\u001b[39mstrftime(\u001b[38;5;124m\"\u001b[39m\u001b[38;5;124m%\u001b[39m\u001b[38;5;124mY-\u001b[39m\u001b[38;5;124m%\u001b[39m\u001b[38;5;124mm-\u001b[39m\u001b[38;5;132;01m%d\u001b[39;00m\u001b[38;5;124m \u001b[39m\u001b[38;5;124m%\u001b[39m\u001b[38;5;124mH:\u001b[39m\u001b[38;5;124m%\u001b[39m\u001b[38;5;124mM:\u001b[39m\u001b[38;5;124m%\u001b[39m\u001b[38;5;124mS.\u001b[39m\u001b[38;5;132;01m%f\u001b[39;00m\u001b[38;5;124m\"\u001b[39m)[:\u001b[38;5;241m-\u001b[39m\u001b[38;5;241m3\u001b[39m]\n\u001b[1;32m      3\u001b[0m logger\u001b[38;5;241m.\u001b[39minfo(\u001b[38;5;124mf\u001b[39m\u001b[38;5;124m'\u001b[39m\u001b[38;5;124mEnd Initialize Image at \u001b[39m\u001b[38;5;132;01m{\u001b[39;00mtime_end_initialize_image\u001b[38;5;132;01m}\u001b[39;00m\u001b[38;5;124m'\u001b[39m \n\u001b[1;32m      4\u001b[0m             \u001b[38;5;124mf\u001b[39m\u001b[38;5;124m'\u001b[39m\u001b[38;5;124m is \u001b[39m\u001b[38;5;130;01m\\n\u001b[39;00m\u001b[38;5;124m \u001b[39m\u001b[38;5;132;01m{\u001b[39;00mend_initialize_image\u001b[38;5;132;01m}\u001b[39;00m\u001b[38;5;124m'\u001b[39m)\n",
      "\u001b[0;31mAttributeError\u001b[0m: 'NoneType' object has no attribute 'private_sndStamp'"
     ]
    }
   ],
   "source": [
    "end_initialize_image = comcam.rem.cccamera.evt_endInitializeImage.get()\n",
    "time_end_initialize_image = datetime.utcfromtimestamp(end_initialize_image.private_sndStamp).strftime(\"%Y-%m-%d %H:%M:%S.%f\")[:-3]\n",
    "logger.info(f'End Initialize Image at {time_end_initialize_image}' \n",
    "            f' is \\n {end_initialize_image}')"
   ]
=======
   "execution_count": null,
   "metadata": {},
   "outputs": [],
   "source": []
>>>>>>> 51d275c (Add event_name to callback function)
  },
  {
   "cell_type": "markdown",
   "metadata": {},
   "source": [
    "---\n",
<<<<<<< HEAD
    "## Step 18: \n",
    "Send a CCCamera_command_initGuider command.\n",
    "\n",
    "    Results:\n",
    "    An CCCamera_logevent_endInitializeGuider event is published to the EFD.\n",
    "\n",
    "**** Missing at EFD `comcam.rem.cccamera.evt_endInitializeGuider`"
=======
    "Send a CCCamera_command_initGuider command.\n",
    "\n",
    "    Results:\n",
    "    An CCCamera_logevent_endInitializeGuider event is published to the EFD."
>>>>>>> 51d275c (Add event_name to callback function)
   ]
  },
  {
   "cell_type": "code",
<<<<<<< HEAD
   "execution_count": 65,
   "metadata": {},
   "outputs": [],
   "source": [
    "comcam.rem.cccamera.evt_endInitializeGuider.callback = evt_time_callback"
   ]
  },
  {
   "cell_type": "code",
   "execution_count": 66,
   "metadata": {},
   "outputs": [
    {
     "data": {
      "text/plain": [
       "<ddsutil.CCCamera_ackcmd_ff5ef83c at 0x7fd4819394e0>"
      ]
     },
     "execution_count": 66,
     "metadata": {},
     "output_type": "execute_result"
    }
   ],
   "source": [
    "await comcam.rem.cccamera.cmd_initGuiders.start()"
   ]
  },
  {
   "cell_type": "code",
   "execution_count": 67,
   "metadata": {},
   "outputs": [],
   "source": [
    "comcam.rem.cccamera.evt_endInitializeGuider.callback = None"
   ]
=======
   "execution_count": null,
   "metadata": {},
   "outputs": [],
   "source": []
>>>>>>> 51d275c (Add event_name to callback function)
  },
  {
   "cell_type": "markdown",
   "metadata": {},
   "source": [
    "---\n",
<<<<<<< HEAD
    "## Step 19: \n",
    "With the Camera ready to take a picture, send the CCCamera_command_takeImages command.\n",
    "\n",
    "    Results:\n",
    "    A CCCamera_logevent_startIntegration event is published to the EFD\n",
=======
    "With the Camera ready to take a picture, send the CCCamera_command_takeImages command.\n",
    "\n",
    "    Results:\n",
    "        A CCCamera_logevent_startIntegration event is published to the EFD\n",
>>>>>>> 51d275c (Add event_name to callback function)
    "    A CCCamera_logevent_startShutterOpen event is published to the EFD.\n",
    "    A CCCamera_logevent_endShutterOpen event is published to the EFD.\n",
    "    The Camera publishes a CCCamera_logevent_startShutterClose event as the camera shutter starts to shut\n",
    "    The Camera publishes a CCCamera_logevent_endShutterClose event when the camera shutter is closed\n",
    "    A CCCamera_logevent_startReadout event is published\n",
    "    A CCCamera_logevent_endReadout event is published"
   ]
  },
  {
   "cell_type": "code",
<<<<<<< HEAD
   "execution_count": 68,
   "metadata": {},
   "outputs": [],
   "source": [
    "comcam.rem.cccamera.evt_startIntegration.callback = evt_time_callback\n",
    "comcam.rem.cccamera.evt_startShutterOpen.callback = evt_time_callback\n",
    "comcam.rem.cccamera.evt_endShutterOpen.callback = evt_time_callback\n",
    "comcam.rem.cccamera.evt_startShutterClose.callback = evt_time_callback\n",
    "comcam.rem.cccamera.evt_endShutterClose.callback = evt_time_callback\n",
    "comcam.rem.cccamera.evt_startReadout.callback = evt_time_callback\n",
    "comcam.rem.cccamera.evt_endReadout.callback = evt_time_callback"
   ]
  },
  {
   "cell_type": "code",
   "execution_count": 69,
   "metadata": {},
   "outputs": [],
   "source": [
    "keyValueMap = f'groupId:{Time.now().isot},imageType:ENGTEST'"
   ]
  },
  {
   "cell_type": "code",
   "execution_count": 70,
   "metadata": {},
   "outputs": [
    {
     "data": {
      "text/plain": [
       "True"
      ]
     },
     "execution_count": 70,
     "metadata": {},
     "output_type": "execute_result"
    }
   ],
   "source": [
    "# Set parameters\n",
    "comcam.rem.cccamera.cmd_takeImages.set(shutter=True, keyValueMap=keyValueMap, numImages=1, expTime=20, obsNote= 'test')"
   ]
  },
  {
   "cell_type": "code",
   "execution_count": 71,
   "metadata": {},
   "outputs": [
    {
     "name": "stdout",
     "output_type": "stream",
     "text": [
      "\n",
      " startIntegration logevent at 2022-07-08 18:58:58.134 is \n",
      " \tprivate_revCode: ac7ce4ef, private_sndStamp: 1657306738.13471, private_rcvStamp: 1657306738.1349568, private_seqNum: 3, private_identity: CCCamera, private_origin: 15408733, additionalKeys: groupId:imageType, additionalValues: 2022-07-08T18\\:58\\:17.846:ENGTEST, imagesInSequence: 1, imageName: CC_O_20220708_000003, imageIndex: 1, imageSource: CC, imageController: O, imageDate: 20220708, imageNumber: 3, timestampAcquisitionStart: 1657306640.9310367, exposureTime: 20.0, mode: normal, timeout: 20.0\n",
      "\n",
      " endShutterOpen logevent at 2022-07-08 18:58:58.164 is \n",
      " \tprivate_revCode: dc9d3865, private_sndStamp: 1657306738.164336, private_rcvStamp: 1657306738.1645844, private_seqNum: 3, private_identity: CCCamera, private_origin: 15408733, timestampTransition: 1657306738.1637914\n",
      "\n",
      " endShutterClose logevent at 2022-07-08 18:59:18.565 is \n",
      " \tprivate_revCode: 1a6c8bc0, private_sndStamp: 1657306758.5653222, private_rcvStamp: 1657306758.5656185, private_seqNum: 3, private_identity: CCCamera, private_origin: 15408733, timestampTransition: 1657306758.564501\n",
      "\n",
      " startReadout logevent at 2022-07-08 18:59:18.578 is \n",
      " \tprivate_revCode: 0bfffb9a, private_sndStamp: 1657306758.5783682, private_rcvStamp: 1657306758.5786295, private_seqNum: 3, private_identity: CCCamera, private_origin: 15408733, additionalKeys: groupId:imageType, additionalValues: 2022-07-08T18\\:58\\:17.846:ENGTEST, imagesInSequence: 1, imageName: CC_O_20220708_000003, imageIndex: 1, imageSource: CC, imageController: O, imageDate: 20220708, imageNumber: 3, timestampAcquisitionStart: 1657306640.9310367, exposureTime: 20.0, timestampStartOfReadout: 1657306758.5774689\n"
     ]
    },
    {
     "data": {
      "text/plain": [
       "<ddsutil.CCCamera_ackcmd_ff5ef83c at 0x7fd48193ae60>"
      ]
     },
     "execution_count": 71,
     "metadata": {},
     "output_type": "execute_result"
    },
    {
     "name": "stdout",
     "output_type": "stream",
     "text": [
      "\n",
      " endReadout logevent at 2022-07-08 18:59:20.996 is \n",
      " \tprivate_revCode: 82211edd, private_sndStamp: 1657306760.9968328, private_rcvStamp: 1657306760.9970973, private_seqNum: 3, private_identity: CCCamera, private_origin: 15408733, additionalKeys: groupId:imageType, additionalValues: 2022-07-08T18\\:58\\:17.846:ENGTEST, imagesInSequence: 1, imageName: CC_O_20220708_000003, imageIndex: 1, imageSource: CC, imageController: O, imageDate: 20220708, imageNumber: 3, timestampAcquisitionStart: 1657306640.9310367, requestedExposureTime: 20.0, timestampEndOfReadout: 1657306760.9956555\n"
     ]
    }
   ],
   "source": [
    "await comcam.rem.cccamera.cmd_takeImages.start()"
   ]
  },
  {
   "cell_type": "code",
   "execution_count": 72,
   "metadata": {},
   "outputs": [],
   "source": [
    "comcam.rem.cccamera.evt_startIntegration.callback = None\n",
    "comcam.rem.cccamera.evt_startShutterOpen.callback = None\n",
    "comcam.rem.cccamera.evt_endShutterOpen.callback = None\n",
    "comcam.rem.cccamera.evt_startShutterClose.callback = None\n",
    "comcam.rem.cccamera.evt_endShutterClose.callback = None\n",
    "comcam.rem.cccamera.evt_startReadout.callback = None\n",
    "comcam.rem.cccamera.evt_endReadout.callback = None"
   ]
=======
   "execution_count": null,
   "metadata": {},
   "outputs": [],
   "source": []
>>>>>>> 51d275c (Add event_name to callback function)
  },
  {
   "cell_type": "markdown",
   "metadata": {},
   "source": [
    "---\n",
<<<<<<< HEAD
    "## Step 20: \n",
=======
>>>>>>> 51d275c (Add event_name to callback function)
    "Verify the Camera is done taking pictures.\n",
    "\n",
    "    Results:\n",
    "    A CCCamera_logevent_endTakeImage event is published to the EFD at the time the state transition occurs.\n",
    "    A CCCamera_logevent_endOfImageTelemetry event is published"
   ]
  },
  {
   "cell_type": "code",
<<<<<<< HEAD
   "execution_count": 73,
   "metadata": {},
   "outputs": [
    {
     "ename": "AttributeError",
     "evalue": "'NoneType' object has no attribute 'private_sndStamp'",
     "output_type": "error",
     "traceback": [
      "\u001b[0;31m---------------------------------------------------------------------------\u001b[0m",
      "\u001b[0;31mAttributeError\u001b[0m                            Traceback (most recent call last)",
      "Input \u001b[0;32mIn [73]\u001b[0m, in \u001b[0;36m<cell line: 2>\u001b[0;34m()\u001b[0m\n\u001b[1;32m      1\u001b[0m end_take_image \u001b[38;5;241m=\u001b[39m comcam\u001b[38;5;241m.\u001b[39mrem\u001b[38;5;241m.\u001b[39mcccamera\u001b[38;5;241m.\u001b[39mevt_endTakeImage\u001b[38;5;241m.\u001b[39mget()\n\u001b[0;32m----> 2\u001b[0m time_end_take_image \u001b[38;5;241m=\u001b[39m datetime\u001b[38;5;241m.\u001b[39mutcfromtimestamp(\u001b[43mend_take_image\u001b[49m\u001b[38;5;241;43m.\u001b[39;49m\u001b[43mprivate_sndStamp\u001b[49m)\u001b[38;5;241m.\u001b[39mstrftime(\u001b[38;5;124m\"\u001b[39m\u001b[38;5;124m%\u001b[39m\u001b[38;5;124mY-\u001b[39m\u001b[38;5;124m%\u001b[39m\u001b[38;5;124mm-\u001b[39m\u001b[38;5;132;01m%d\u001b[39;00m\u001b[38;5;124m \u001b[39m\u001b[38;5;124m%\u001b[39m\u001b[38;5;124mH:\u001b[39m\u001b[38;5;124m%\u001b[39m\u001b[38;5;124mM:\u001b[39m\u001b[38;5;124m%\u001b[39m\u001b[38;5;124mS.\u001b[39m\u001b[38;5;132;01m%f\u001b[39;00m\u001b[38;5;124m\"\u001b[39m)[:\u001b[38;5;241m-\u001b[39m\u001b[38;5;241m3\u001b[39m]\n\u001b[1;32m      3\u001b[0m logger\u001b[38;5;241m.\u001b[39minfo(\u001b[38;5;124mf\u001b[39m\u001b[38;5;124m'\u001b[39m\u001b[38;5;124mEnd Take Image at \u001b[39m\u001b[38;5;132;01m{\u001b[39;00mtime_end_take_image\u001b[38;5;132;01m}\u001b[39;00m\u001b[38;5;124m'\u001b[39m \n\u001b[1;32m      4\u001b[0m             \u001b[38;5;124mf\u001b[39m\u001b[38;5;124m'\u001b[39m\u001b[38;5;124m is \u001b[39m\u001b[38;5;130;01m\\n\u001b[39;00m\u001b[38;5;124m \u001b[39m\u001b[38;5;132;01m{\u001b[39;00mend_take_image\u001b[38;5;132;01m}\u001b[39;00m\u001b[38;5;124m'\u001b[39m)\n",
      "\u001b[0;31mAttributeError\u001b[0m: 'NoneType' object has no attribute 'private_sndStamp'"
     ]
    }
   ],
   "source": [
    "end_take_image = comcam.rem.cccamera.evt_endTakeImage.get()\n",
    "time_end_take_image = datetime.utcfromtimestamp(end_take_image.private_sndStamp).strftime(\"%Y-%m-%d %H:%M:%S.%f\")[:-3]\n",
    "logger.info(f'End Take Image at {time_end_take_image}' \n",
    "            f' is \\n {end_take_image}')"
   ]
  },
  {
   "cell_type": "code",
   "execution_count": 74,
   "metadata": {},
   "outputs": [
    {
     "data": {
      "text/html": [
       "<pre style=\"margin: 0.1em;\n",
       "padding-left: 0.25em;\n",
       "border-left-style: solid;\n",
       "font-family: var(--jp-code-font-family);\n",
       "font-size: var(--jp-code-font-size);\n",
       "line-height: var(--jp-code-line-height);\n",
       "\"><span style=\"color: var(--jp-warn-color2)\">root</span> <span style=\"color: var(--jp-info-color0)\">INFO</span>: End of Image Telemetry at 2022-07-08 18:59:21.297 is \n",
       " private_revCode: 51d5e2ae, private_sndStamp: 1657306761.2972872, private_rcvStamp: 1657306761.2975874, private_seqNum: 3, private_identity: CCCamera, private_origin: 15408733, additionalKeys: groupId:imageType, additionalValues: 2022-07-08T18\\:58\\:17.846:ENGTEST, imagesInSequence: 1, imageName: CC_O_20220708_000003, imageIndex: 1, imageSource: CC, imageController: O, imageDate: 20220708, imageNumber: 3, timestampAcquisitionStart: 1657306738.1326535, exposureTime: 20.0, imageTag: b105cea48bb3cd07, timestampDateObs: 1657306738.1326535, timestampDateEnd: 1657306758.5767162, measuredShutterOpenTime: 20.0, darkTime: 20.44406270980835, emulatedImage: </pre>"
      ],
      "text/plain": [
       "<IPython.core.display.HTML object>"
      ]
     },
     "metadata": {},
     "output_type": "display_data"
    }
   ],
   "source": [
    "end_of_image_telemetry = comcam.rem.cccamera.evt_endOfImageTelemetry.get()\n",
    "time_end_of_image_telemetry = datetime.utcfromtimestamp(end_of_image_telemetry.private_sndStamp).strftime(\"%Y-%m-%d %H:%M:%S.%f\")[:-3]\n",
    "logger.info(f'End of Image Telemetry at {time_end_of_image_telemetry}' \n",
    "            f' is \\n {end_of_image_telemetry}')"
   ]
=======
   "execution_count": null,
   "metadata": {},
   "outputs": [],
   "source": []
>>>>>>> 51d275c (Add event_name to callback function)
  },
  {
   "cell_type": "markdown",
   "metadata": {},
   "source": [
    "---\n",
<<<<<<< HEAD
    "## Step 21: \n",
    "Verify the CCCamera_logevent_imageVisualization event is published into the EFD.    "
=======
    "21 Verify the CCCamera_logevent_imageVisualization event is published into the EFD.    "
>>>>>>> 51d275c (Add event_name to callback function)
   ]
  },
  {
   "cell_type": "code",
<<<<<<< HEAD
   "execution_count": 75,
   "metadata": {},
   "outputs": [
    {
     "ename": "AttributeError",
     "evalue": "'NoneType' object has no attribute 'private_sndStamp'",
     "output_type": "error",
     "traceback": [
      "\u001b[0;31m---------------------------------------------------------------------------\u001b[0m",
      "\u001b[0;31mAttributeError\u001b[0m                            Traceback (most recent call last)",
      "Input \u001b[0;32mIn [75]\u001b[0m, in \u001b[0;36m<cell line: 2>\u001b[0;34m()\u001b[0m\n\u001b[1;32m      1\u001b[0m image_visualization \u001b[38;5;241m=\u001b[39m comcam\u001b[38;5;241m.\u001b[39mrem\u001b[38;5;241m.\u001b[39mcccamera\u001b[38;5;241m.\u001b[39mevt_imageVisualization\u001b[38;5;241m.\u001b[39mget()\n\u001b[0;32m----> 2\u001b[0m time_image_visualization \u001b[38;5;241m=\u001b[39m datetime\u001b[38;5;241m.\u001b[39mutcfromtimestamp(\u001b[43mimage_visualization\u001b[49m\u001b[38;5;241;43m.\u001b[39;49m\u001b[43mprivate_sndStamp\u001b[49m)\u001b[38;5;241m.\u001b[39mstrftime(\u001b[38;5;124m\"\u001b[39m\u001b[38;5;124m%\u001b[39m\u001b[38;5;124mY-\u001b[39m\u001b[38;5;124m%\u001b[39m\u001b[38;5;124mm-\u001b[39m\u001b[38;5;132;01m%d\u001b[39;00m\u001b[38;5;124m \u001b[39m\u001b[38;5;124m%\u001b[39m\u001b[38;5;124mH:\u001b[39m\u001b[38;5;124m%\u001b[39m\u001b[38;5;124mM:\u001b[39m\u001b[38;5;124m%\u001b[39m\u001b[38;5;124mS.\u001b[39m\u001b[38;5;132;01m%f\u001b[39;00m\u001b[38;5;124m\"\u001b[39m)[:\u001b[38;5;241m-\u001b[39m\u001b[38;5;241m3\u001b[39m]\n\u001b[1;32m      3\u001b[0m logger\u001b[38;5;241m.\u001b[39minfo(\u001b[38;5;124mf\u001b[39m\u001b[38;5;124m'\u001b[39m\u001b[38;5;124mImage Visualization at \u001b[39m\u001b[38;5;132;01m{\u001b[39;00mtime_image_visualization\u001b[38;5;132;01m}\u001b[39;00m\u001b[38;5;124m'\u001b[39m \n\u001b[1;32m      4\u001b[0m             \u001b[38;5;124mf\u001b[39m\u001b[38;5;124m'\u001b[39m\u001b[38;5;124m is \u001b[39m\u001b[38;5;130;01m\\n\u001b[39;00m\u001b[38;5;124m \u001b[39m\u001b[38;5;132;01m{\u001b[39;00mimage_visualization\u001b[38;5;132;01m}\u001b[39;00m\u001b[38;5;124m'\u001b[39m)\n",
      "\u001b[0;31mAttributeError\u001b[0m: 'NoneType' object has no attribute 'private_sndStamp'"
     ]
    }
   ],
   "source": [
    "image_visualization = comcam.rem.cccamera.evt_imageVisualization.get()\n",
    "time_image_visualization = datetime.utcfromtimestamp(image_visualization.private_sndStamp).strftime(\"%Y-%m-%d %H:%M:%S.%f\")[:-3]\n",
    "logger.info(f'Image Visualization at {time_image_visualization}' \n",
    "            f' is \\n {image_visualization}')"
   ]
=======
   "execution_count": null,
   "metadata": {},
   "outputs": [],
   "source": []
>>>>>>> 51d275c (Add event_name to callback function)
  },
  {
   "cell_type": "markdown",
   "metadata": {},
   "source": [
    "---\n",
<<<<<<< HEAD
    "## Step 22: \n",
=======
>>>>>>> 51d275c (Add event_name to callback function)
    "Verify the CCCamera_logevent_imageStored event is published into the EFD."
   ]
  },
  {
   "cell_type": "code",
<<<<<<< HEAD
   "execution_count": 76,
   "metadata": {},
   "outputs": [
    {
     "ename": "AttributeError",
     "evalue": "'NoneType' object has no attribute 'private_sndStamp'",
     "output_type": "error",
     "traceback": [
      "\u001b[0;31m---------------------------------------------------------------------------\u001b[0m",
      "\u001b[0;31mAttributeError\u001b[0m                            Traceback (most recent call last)",
      "Input \u001b[0;32mIn [76]\u001b[0m, in \u001b[0;36m<cell line: 2>\u001b[0;34m()\u001b[0m\n\u001b[1;32m      1\u001b[0m image_stored \u001b[38;5;241m=\u001b[39m comcam\u001b[38;5;241m.\u001b[39mrem\u001b[38;5;241m.\u001b[39mcccamera\u001b[38;5;241m.\u001b[39mevt_imageStored\u001b[38;5;241m.\u001b[39mget()\n\u001b[0;32m----> 2\u001b[0m time_image_stored \u001b[38;5;241m=\u001b[39m datetime\u001b[38;5;241m.\u001b[39mutcfromtimestamp(\u001b[43mimage_stored\u001b[49m\u001b[38;5;241;43m.\u001b[39;49m\u001b[43mprivate_sndStamp\u001b[49m)\u001b[38;5;241m.\u001b[39mstrftime(\u001b[38;5;124m\"\u001b[39m\u001b[38;5;124m%\u001b[39m\u001b[38;5;124mY-\u001b[39m\u001b[38;5;124m%\u001b[39m\u001b[38;5;124mm-\u001b[39m\u001b[38;5;132;01m%d\u001b[39;00m\u001b[38;5;124m \u001b[39m\u001b[38;5;124m%\u001b[39m\u001b[38;5;124mH:\u001b[39m\u001b[38;5;124m%\u001b[39m\u001b[38;5;124mM:\u001b[39m\u001b[38;5;124m%\u001b[39m\u001b[38;5;124mS.\u001b[39m\u001b[38;5;132;01m%f\u001b[39;00m\u001b[38;5;124m\"\u001b[39m)[:\u001b[38;5;241m-\u001b[39m\u001b[38;5;241m3\u001b[39m]\n\u001b[1;32m      3\u001b[0m logger\u001b[38;5;241m.\u001b[39minfo(\u001b[38;5;124mf\u001b[39m\u001b[38;5;124m'\u001b[39m\u001b[38;5;124mImage Stored at \u001b[39m\u001b[38;5;132;01m{\u001b[39;00mtime_image_stored\u001b[38;5;132;01m}\u001b[39;00m\u001b[38;5;124m'\u001b[39m \n\u001b[1;32m      4\u001b[0m             \u001b[38;5;124mf\u001b[39m\u001b[38;5;124m'\u001b[39m\u001b[38;5;124m is \u001b[39m\u001b[38;5;130;01m\\n\u001b[39;00m\u001b[38;5;124m \u001b[39m\u001b[38;5;132;01m{\u001b[39;00mimage_stored\u001b[38;5;132;01m}\u001b[39;00m\u001b[38;5;124m'\u001b[39m)\n",
      "\u001b[0;31mAttributeError\u001b[0m: 'NoneType' object has no attribute 'private_sndStamp'"
     ]
    }
   ],
   "source": [
    "image_stored = comcam.rem.cccamera.evt_imageStored.get()\n",
    "time_image_stored = datetime.utcfromtimestamp(image_stored.private_sndStamp).strftime(\"%Y-%m-%d %H:%M:%S.%f\")[:-3]\n",
    "logger.info(f'Image Stored at {time_image_stored}' \n",
    "            f' is \\n {image_stored}')"
   ]
=======
   "execution_count": null,
   "metadata": {},
   "outputs": [],
   "source": []
>>>>>>> 51d275c (Add event_name to callback function)
  },
  {
   "cell_type": "markdown",
   "metadata": {},
   "source": [
    "---\n",
<<<<<<< HEAD
    "## Step 23: Stop Command Tests\n",
    "\n",
    "\n",
    "While in the ENABLED state, send CCCamera_command_setFilter command for positionFilter1.\n",
    "    \n",
    "    Results:\n",
    "    The CCCamera_logevent_startSetFilter is published to the EFD with the name of the filter being set\n",
    "    \n",
    "    \n",
    "The next two steps should be run one after another, so the first `setFilter` command can be stopped as it'll be run in the BG. "
=======
    "Stop Command Tests\n",
    "While in the ENABLED state, send CCCamera_command_setFilter command for positionFilter1.\n",
    "    \n",
    "    Results:\n",
    "    The CCCamera_logevent_startSetFilter is published to the EFD with the name of the filter being set"
>>>>>>> 51d275c (Add event_name to callback function)
   ]
  },
  {
   "cell_type": "code",
<<<<<<< HEAD
   "execution_count": 77,
   "metadata": {},
   "outputs": [
    {
     "data": {
      "text/plain": [
       "'r_03'"
      ]
     },
     "execution_count": 77,
     "metadata": {},
     "output_type": "execute_result"
    }
   ],
   "source": [
    "await comcam.get_current_filter()"
   ]
  },
  {
   "cell_type": "code",
   "execution_count": 78,
   "metadata": {},
   "outputs": [],
   "source": [
    "comcam.rem.cccamera.evt_startSetFilter.callback = evt_time_callback\n",
    "comcam.rem.cccamera.evt_endSetFilter.callback = evt_time_callback"
   ]
  },
  {
   "cell_type": "code",
   "execution_count": 79,
   "metadata": {},
   "outputs": [
    {
     "data": {
      "text/plain": [
       "<coroutine object RemoteCommand.set_start at 0x7fd481ac2b90>"
      ]
     },
     "execution_count": 79,
     "metadata": {},
     "output_type": "execute_result"
    }
   ],
   "source": [
    "comcam.rem.cccamera.cmd_setFilter.set_start(name = 'i_06')"
   ]
=======
   "execution_count": null,
   "metadata": {},
   "outputs": [],
   "source": []
>>>>>>> 51d275c (Add event_name to callback function)
  },
  {
   "cell_type": "markdown",
   "metadata": {},
   "source": [
    "---\n",
<<<<<<< HEAD
    "## Step 24: \n",
=======
>>>>>>> 51d275c (Add event_name to callback function)
    "Before an CCCamera_logevent_endSetFilter event is published, send a CCCamera_command_stop command.\n",
    "\n",
    "Note: The CCCamera_command_setFilter command will stop once it is safe to do so. The CCCamera_command_stop command may not stop the filter from being set if the command was given while in an unsafe position.\n",
    "\n",
    "    Results:\n",
    "    The command is accepted\n",
    "    The CCCamera_logevent_endSetFilter event shows that no filter has been set"
   ]
  },
  {
<<<<<<< HEAD
   "cell_type": "code",
   "execution_count": 80,
   "metadata": {},
   "outputs": [
    {
     "data": {
      "text/plain": [
       "RemoteCommand(CCCamera, 0, stop)"
      ]
     },
     "execution_count": 80,
     "metadata": {},
     "output_type": "execute_result"
    }
   ],
   "source": [
    "comcam.rem.cccamera.cmd_stop"
   ]
  },
  {
   "cell_type": "code",
   "execution_count": 81,
   "metadata": {},
   "outputs": [],
   "source": [
    "comcam.rem.cccamera.evt_startSetFilter.callback = None\n",
    "comcam.rem.cccamera.evt_endSetFilter.callback = None"
   ]
  },
  {
   "cell_type": "code",
   "execution_count": 82,
   "metadata": {},
   "outputs": [
    {
     "data": {
      "text/plain": [
       "'r_03'"
      ]
     },
     "execution_count": 82,
     "metadata": {},
     "output_type": "execute_result"
    }
   ],
   "source": [
    "await comcam.get_current_filter()"
   ]
  },
  {
=======
>>>>>>> 51d275c (Add event_name to callback function)
   "cell_type": "markdown",
   "metadata": {},
   "source": [
    "---\n",
<<<<<<< HEAD
    "## Step 25: \n",
=======
>>>>>>> 51d275c (Add event_name to callback function)
    "While the CalibrationDetailedState is in ENABLED, send a CCCamera_command_startImage command with the following parameters:\n",
    "\n",
    "                        shutter: True\n",
    "                        sensors\n",
    "                        keyValueMap\n",
    "                        obsNote: Any arbitrary string\n",
    "                        timeout: 30s\n",
    "    "
   ]
  },
  {
<<<<<<< HEAD
   "cell_type": "code",
   "execution_count": 83,
   "metadata": {},
   "outputs": [
    {
     "data": {
      "text/html": [
       "<pre style=\"margin: 0.1em;\n",
       "padding-left: 0.25em;\n",
       "border-left-style: solid;\n",
       "font-family: var(--jp-code-font-family);\n",
       "font-size: var(--jp-code-font-size);\n",
       "line-height: var(--jp-code-line-height);\n",
       "\"><span style=\"color: var(--jp-warn-color2)\">root</span> <span style=\"color: var(--jp-info-color0)\">INFO</span>: Calibration Detailed State at 2022-07-08 18:54:15.707 are private_revCode: a610ea82, private_sndStamp: 1657306455.707764, private_rcvStamp: 1657306455.7080142, private_seqNum: 3, private_identity: CCCamera, private_origin: 15408733, substate: 2, timestampTransition: 0.0</pre>"
      ],
      "text/plain": [
       "<IPython.core.display.HTML object>"
      ]
     },
     "metadata": {},
     "output_type": "display_data"
    }
   ],
   "source": [
    "# Check CalibrationDetailedState is ENABLED\n",
    "calibration_detailed_state= comcam.rem.cccamera.evt_calibrationDetailedState.get()\n",
    "time_calibration_detailed_state=  datetime.utcfromtimestamp(calibration_detailed_state.private_sndStamp).strftime(\"%Y-%m-%d %H:%M:%S.%f\")[:-3]\n",
    "logger.info(f'Calibration Detailed State at {time_calibration_detailed_state} are {calibration_detailed_state}')"
   ]
  },
  {
   "cell_type": "code",
   "execution_count": 84,
   "metadata": {},
   "outputs": [],
   "source": [
    "keyValueMap = f'groupId:{Time.now().isot},imageType:ENGTEST'"
   ]
  },
  {
   "cell_type": "code",
   "execution_count": 85,
   "metadata": {},
   "outputs": [
    {
     "data": {
      "text/plain": [
       "True"
      ]
     },
     "execution_count": 85,
     "metadata": {},
     "output_type": "execute_result"
    }
   ],
   "source": [
    "# Set parameters\n",
    "comcam.rem.cccamera.cmd_startImage.set(shutter=True, keyValueMap=keyValueMap, timeout=30, obsNote='Test')"
   ]
  },
  {
   "cell_type": "code",
   "execution_count": 86,
   "metadata": {},
   "outputs": [
    {
     "data": {
      "text/plain": [
       "<ddsutil.CCCamera_ackcmd_ff5ef83c at 0x7fd4819dc190>"
      ]
     },
     "execution_count": 86,
     "metadata": {},
     "output_type": "execute_result"
    }
   ],
   "source": [
    "# Start image\n",
    "await comcam.rem.cccamera.cmd_startImage.start()"
   ]
  },
  {
=======
>>>>>>> 51d275c (Add event_name to callback function)
   "cell_type": "markdown",
   "metadata": {},
   "source": [
    "---\n",
<<<<<<< HEAD
    "## Step 26: \n",
=======
>>>>>>> 51d275c (Add event_name to callback function)
    "Before the specified timeout, send a CCCamera_command_stop command.\n",
    "\n",
    "    Results:\n",
    "    The previous CCCamera_command_startImage command is abandoned."
   ]
  },
  {
<<<<<<< HEAD
   "cell_type": "code",
   "execution_count": 89,
   "metadata": {},
   "outputs": [
    {
     "data": {
      "text/html": [
       "<pre style=\"margin: 0.1em;\n",
       "padding-left: 0.25em;\n",
       "border-left-style: solid;\n",
       "font-family: var(--jp-code-font-family);\n",
       "font-size: var(--jp-code-font-size);\n",
       "line-height: var(--jp-code-line-height);\n",
       "\"><span style=\"color: var(--jp-warn-color2)\">root</span> <span style=\"color: var(--jp-info-color0)\">INFO</span>: Start Integration at 2022-07-08 19:00:23.144 are private_revCode: ac7ce4ef, private_sndStamp: 1657306823.14451, private_rcvStamp: 1657306823.1447358, private_seqNum: 4, private_identity: CCCamera, private_origin: 15408733, additionalKeys: groupId:imageType, additionalValues: 2022-07-08T18\\:59\\:37.667:ENGTEST, imagesInSequence: 1, imageName: CC_O_20220708_000004, imageIndex: 2, imageSource: CC, imageController: O, imageDate: 20220708, imageNumber: 4, timestampAcquisitionStart: 1657306760.9948986, exposureTime: 0.0, mode: calibration, timeout: 30.0</pre>"
      ],
      "text/plain": [
       "<IPython.core.display.HTML object>"
      ]
     },
     "metadata": {},
     "output_type": "display_data"
    }
   ],
   "source": [
    "# Check CalibrationDetailedState is ENABLED\n",
    "start_integration= comcam.rem.cccamera.evt_startIntegration.get()\n",
    "time_start_integration=  datetime.utcfromtimestamp(start_integration.private_sndStamp).strftime(\"%Y-%m-%d %H:%M:%S.%f\")[:-3]\n",
    "logger.info(f'Start Integration at {time_start_integration} are {start_integration}')"
   ]
  },
  {
   "cell_type": "code",
   "execution_count": 90,
   "metadata": {},
   "outputs": [
    {
     "data": {
      "text/html": [
       "<pre style=\"margin: 0.1em;\n",
       "padding-left: 0.25em;\n",
       "border-left-style: solid;\n",
       "font-family: var(--jp-code-font-family);\n",
       "font-size: var(--jp-code-font-size);\n",
       "line-height: var(--jp-code-line-height);\n",
       "\"><span style=\"color: var(--jp-warn-color2)\">root</span> <span style=\"color: var(--jp-info-color0)\">INFO</span>: RemoteCommand(CCCamera, 0, stop) at 2022-07-08 19:00:07.474455</pre>"
      ],
      "text/plain": [
       "<IPython.core.display.HTML object>"
      ]
     },
     "metadata": {},
     "output_type": "display_data"
    }
   ],
   "source": [
    "stop = comcam.rem.cccamera.cmd_stop\n",
    "logger.info(f'{stop} at {Time.now()}')"
   ]
  },
  {
   "cell_type": "code",
   "execution_count": 93,
   "metadata": {},
   "outputs": [
    {
     "data": {
      "text/html": [
       "<pre style=\"margin: 0.1em;\n",
       "padding-left: 0.25em;\n",
       "border-left-style: solid;\n",
       "font-family: var(--jp-code-font-family);\n",
       "font-size: var(--jp-code-font-size);\n",
       "line-height: var(--jp-code-line-height);\n",
       "\"><span style=\"color: var(--jp-warn-color2)\">root</span> <span style=\"color: var(--jp-info-color0)\">INFO</span>: End of Image Telemetry at 2022-07-08 19:00:55.893 is \n",
       " private_revCode: 51d5e2ae, private_sndStamp: 1657306855.8935165, private_rcvStamp: 1657306855.8937628, private_seqNum: 4, private_identity: CCCamera, private_origin: 15408733, additionalKeys: groupId:imageType, additionalValues: 2022-07-08T18\\:59\\:37.667:ENGTEST, imagesInSequence: 1, imageName: CC_O_20220708_000004, imageIndex: 2, imageSource: CC, imageController: O, imageDate: 20220708, imageNumber: 4, timestampAcquisitionStart: 1657306823.1422105, exposureTime: 0.0, imageTag: 77ad2699d15ea2dd, timestampDateObs: 1657306823.1422105, timestampDateEnd: 1657306853.1747022, measuredShutterOpenTime: 0.0, darkTime: 30.03249168395996, emulatedImage: </pre>"
      ],
      "text/plain": [
       "<IPython.core.display.HTML object>"
      ]
     },
     "metadata": {},
     "output_type": "display_data"
    }
   ],
   "source": [
    "end_of_image_telemetry = comcam.rem.cccamera.evt_endOfImageTelemetry.get()\n",
    "time_end_of_image_telemetry = datetime.utcfromtimestamp(end_of_image_telemetry.private_sndStamp).strftime(\"%Y-%m-%d %H:%M:%S.%f\")[:-3]\n",
    "logger.info(f'End of Image Telemetry at {time_end_of_image_telemetry}' \n",
    "            f' is \\n {end_of_image_telemetry}')"
   ]
  },
  {
=======
>>>>>>> 51d275c (Add event_name to callback function)
   "cell_type": "markdown",
   "metadata": {},
   "source": [
    "---\n",
<<<<<<< HEAD
    "## Step 27: Playlist Test - only valid when using emulated DAQ\n",
=======
    "Playlist Test - only valid when using emulated DAQ\n",
>>>>>>> 51d275c (Add event_name to callback function)
    "Send a CCCamera_command_playList command of the playlist to be defined and the current folder of where the images exist.\n",
    "\n",
    "    Results:\n",
    "    The command is accepted and a playlist is created."
   ]
  },
  {
   "cell_type": "code",
<<<<<<< HEAD
   "execution_count": 94,
   "metadata": {},
   "outputs": [
    {
     "ename": "AckError",
     "evalue": "msg='Command failed', ackcmd=(ackcmd private_seqNum=1232624188, ack=<SalRetCode.CMD_NOPERM: -300>, error=0, result='Ack : NO Command rejected: Invalid folder: ')",
     "output_type": "error",
     "traceback": [
      "\u001b[0;31m---------------------------------------------------------------------------\u001b[0m",
      "\u001b[0;31mAckError\u001b[0m                                  Traceback (most recent call last)",
      "Input \u001b[0;32mIn [94]\u001b[0m, in \u001b[0;36m<cell line: 1>\u001b[0;34m()\u001b[0m\n\u001b[0;32m----> 1\u001b[0m \u001b[38;5;28;01mawait\u001b[39;00m comcam\u001b[38;5;241m.\u001b[39mrem\u001b[38;5;241m.\u001b[39mcccamera\u001b[38;5;241m.\u001b[39mcmd_playlist\u001b[38;5;241m.\u001b[39mset_start(playlist\u001b[38;5;241m=\u001b[39m\u001b[38;5;124m'\u001b[39m\u001b[38;5;124mtiago-1.playlist\u001b[39m\u001b[38;5;124m'\u001b[39m)\n",
      "File \u001b[0;32m/opt/lsst/software/stack/conda/miniconda3-py38_4.9.2/envs/lsst-scipipe-4.0.1/lib/python3.10/site-packages/lsst/ts/salobj/topics/remote_command.py:418\u001b[0m, in \u001b[0;36mRemoteCommand.set_start\u001b[0;34m(self, timeout, wait_done, **kwargs)\u001b[0m\n\u001b[1;32m    377\u001b[0m \u001b[38;5;124;03m\"\"\"Create a new ``self.data``, set zero or more fields,\u001b[39;00m\n\u001b[1;32m    378\u001b[0m \u001b[38;5;124;03mand start the command.\u001b[39;00m\n\u001b[1;32m    379\u001b[0m \n\u001b[0;32m   (...)\u001b[0m\n\u001b[1;32m    415\u001b[0m \u001b[38;5;124;03m    If ``data`` is not None and not an instance of `DataType`.\u001b[39;00m\n\u001b[1;32m    416\u001b[0m \u001b[38;5;124;03m\"\"\"\u001b[39;00m\n\u001b[1;32m    417\u001b[0m \u001b[38;5;28mself\u001b[39m\u001b[38;5;241m.\u001b[39mset(\u001b[38;5;241m*\u001b[39m\u001b[38;5;241m*\u001b[39mkwargs)\n\u001b[0;32m--> 418\u001b[0m \u001b[38;5;28;01mreturn\u001b[39;00m \u001b[38;5;28;01mawait\u001b[39;00m \u001b[38;5;28mself\u001b[39m\u001b[38;5;241m.\u001b[39mstart(timeout\u001b[38;5;241m=\u001b[39mtimeout, wait_done\u001b[38;5;241m=\u001b[39mwait_done)\n",
      "File \u001b[0;32m/opt/lsst/software/stack/conda/miniconda3-py38_4.9.2/envs/lsst-scipipe-4.0.1/lib/python3.10/site-packages/lsst/ts/salobj/topics/remote_command.py:485\u001b[0m, in \u001b[0;36mRemoteCommand.start\u001b[0;34m(self, data, timeout, wait_done)\u001b[0m\n\u001b[1;32m    481\u001b[0m cmd_info \u001b[38;5;241m=\u001b[39m CommandInfo(\n\u001b[1;32m    482\u001b[0m     remote_command\u001b[38;5;241m=\u001b[39m\u001b[38;5;28mself\u001b[39m, seq_num\u001b[38;5;241m=\u001b[39mseq_num, wait_done\u001b[38;5;241m=\u001b[39mwait_done\n\u001b[1;32m    483\u001b[0m )\n\u001b[1;32m    484\u001b[0m \u001b[38;5;28mself\u001b[39m\u001b[38;5;241m.\u001b[39msalinfo\u001b[38;5;241m.\u001b[39m_running_cmds[seq_num] \u001b[38;5;241m=\u001b[39m cmd_info\n\u001b[0;32m--> 485\u001b[0m \u001b[38;5;28;01mreturn\u001b[39;00m \u001b[38;5;28;01mawait\u001b[39;00m cmd_info\u001b[38;5;241m.\u001b[39mnext_ackcmd(timeout\u001b[38;5;241m=\u001b[39mtimeout)\n",
      "File \u001b[0;32m/opt/lsst/software/stack/conda/miniconda3-py38_4.9.2/envs/lsst-scipipe-4.0.1/lib/python3.10/site-packages/lsst/ts/salobj/topics/remote_command.py:195\u001b[0m, in \u001b[0;36mCommandInfo.next_ackcmd\u001b[0;34m(self, timeout)\u001b[0m\n\u001b[1;32m    193\u001b[0m     ackcmd \u001b[38;5;241m=\u001b[39m \u001b[38;5;28;01mawait\u001b[39;00m \u001b[38;5;28mself\u001b[39m\u001b[38;5;241m.\u001b[39m_wait_task\n\u001b[1;32m    194\u001b[0m     \u001b[38;5;28;01mif\u001b[39;00m ackcmd\u001b[38;5;241m.\u001b[39mack \u001b[38;5;129;01min\u001b[39;00m \u001b[38;5;28mself\u001b[39m\u001b[38;5;241m.\u001b[39mfailed_ack_codes:\n\u001b[0;32m--> 195\u001b[0m         \u001b[38;5;28;01mraise\u001b[39;00m base\u001b[38;5;241m.\u001b[39mAckError(msg\u001b[38;5;241m=\u001b[39m\u001b[38;5;124m\"\u001b[39m\u001b[38;5;124mCommand failed\u001b[39m\u001b[38;5;124m\"\u001b[39m, ackcmd\u001b[38;5;241m=\u001b[39mackcmd)\n\u001b[1;32m    196\u001b[0m     \u001b[38;5;28;01mreturn\u001b[39;00m ackcmd\n\u001b[1;32m    197\u001b[0m \u001b[38;5;28;01mexcept\u001b[39;00m asyncio\u001b[38;5;241m.\u001b[39mTimeoutError:\n",
      "\u001b[0;31mAckError\u001b[0m: msg='Command failed', ackcmd=(ackcmd private_seqNum=1232624188, ack=<SalRetCode.CMD_NOPERM: -300>, error=0, result='Ack : NO Command rejected: Invalid folder: ')"
     ]
    }
   ],
   "source": [
    "await comcam.rem.cccamera.cmd_playlist.set_start(playlist='tiago-1.playlist')"
=======
   "execution_count": 144,
   "metadata": {},
   "outputs": [
    {
     "data": {
      "text/plain": [
       "<coroutine object RemoteCommand.set_start at 0x7f5bf3a034c0>"
      ]
     },
     "execution_count": 144,
     "metadata": {},
     "output_type": "execute_result"
    }
   ],
   "source": [
    "comcam.rem.cccamera.cmd_playlist.set_start('tiago-1.playlist')"
>>>>>>> 51d275c (Add event_name to callback function)
   ]
  },
  {
   "cell_type": "markdown",
   "metadata": {},
   "source": [
    "---\n",
<<<<<<< HEAD
    "## Step 28: \n",
=======
>>>>>>> 51d275c (Add event_name to callback function)
    "Send a CCCamera_command_play coommand of the playlist and an input of true for the repeat parameter.\n",
    "    \n",
    "    Results:\n",
    "    The command is accepted\n",
    "    The playlist is played and repeats"
   ]
  },
  {
   "cell_type": "code",
<<<<<<< HEAD
   "execution_count": 95,
   "metadata": {},
   "outputs": [
    {
     "ename": "AckError",
     "evalue": "msg='Command failed', ackcmd=(ackcmd private_seqNum=1207491629, ack=<SalRetCode.CMD_FAILED: -302>, error=0, result='Error : play command only evailable with emulated DAQ')",
     "output_type": "error",
     "traceback": [
      "\u001b[0;31m---------------------------------------------------------------------------\u001b[0m",
      "\u001b[0;31mAckError\u001b[0m                                  Traceback (most recent call last)",
      "Input \u001b[0;32mIn [95]\u001b[0m, in \u001b[0;36m<cell line: 1>\u001b[0;34m()\u001b[0m\n\u001b[0;32m----> 1\u001b[0m \u001b[38;5;28;01mawait\u001b[39;00m comcam\u001b[38;5;241m.\u001b[39mrem\u001b[38;5;241m.\u001b[39mcccamera\u001b[38;5;241m.\u001b[39mcmd_play\u001b[38;5;241m.\u001b[39mset_start(playlist\u001b[38;5;241m=\u001b[39m\u001b[38;5;124m'\u001b[39m\u001b[38;5;124mtiago-1.playlist\u001b[39m\u001b[38;5;124m'\u001b[39m, repeat \u001b[38;5;241m=\u001b[39m\u001b[38;5;28;01mTrue\u001b[39;00m)\n",
      "File \u001b[0;32m/opt/lsst/software/stack/conda/miniconda3-py38_4.9.2/envs/lsst-scipipe-4.0.1/lib/python3.10/site-packages/lsst/ts/salobj/topics/remote_command.py:418\u001b[0m, in \u001b[0;36mRemoteCommand.set_start\u001b[0;34m(self, timeout, wait_done, **kwargs)\u001b[0m\n\u001b[1;32m    377\u001b[0m \u001b[38;5;124;03m\"\"\"Create a new ``self.data``, set zero or more fields,\u001b[39;00m\n\u001b[1;32m    378\u001b[0m \u001b[38;5;124;03mand start the command.\u001b[39;00m\n\u001b[1;32m    379\u001b[0m \n\u001b[0;32m   (...)\u001b[0m\n\u001b[1;32m    415\u001b[0m \u001b[38;5;124;03m    If ``data`` is not None and not an instance of `DataType`.\u001b[39;00m\n\u001b[1;32m    416\u001b[0m \u001b[38;5;124;03m\"\"\"\u001b[39;00m\n\u001b[1;32m    417\u001b[0m \u001b[38;5;28mself\u001b[39m\u001b[38;5;241m.\u001b[39mset(\u001b[38;5;241m*\u001b[39m\u001b[38;5;241m*\u001b[39mkwargs)\n\u001b[0;32m--> 418\u001b[0m \u001b[38;5;28;01mreturn\u001b[39;00m \u001b[38;5;28;01mawait\u001b[39;00m \u001b[38;5;28mself\u001b[39m\u001b[38;5;241m.\u001b[39mstart(timeout\u001b[38;5;241m=\u001b[39mtimeout, wait_done\u001b[38;5;241m=\u001b[39mwait_done)\n",
      "File \u001b[0;32m/opt/lsst/software/stack/conda/miniconda3-py38_4.9.2/envs/lsst-scipipe-4.0.1/lib/python3.10/site-packages/lsst/ts/salobj/topics/remote_command.py:485\u001b[0m, in \u001b[0;36mRemoteCommand.start\u001b[0;34m(self, data, timeout, wait_done)\u001b[0m\n\u001b[1;32m    481\u001b[0m cmd_info \u001b[38;5;241m=\u001b[39m CommandInfo(\n\u001b[1;32m    482\u001b[0m     remote_command\u001b[38;5;241m=\u001b[39m\u001b[38;5;28mself\u001b[39m, seq_num\u001b[38;5;241m=\u001b[39mseq_num, wait_done\u001b[38;5;241m=\u001b[39mwait_done\n\u001b[1;32m    483\u001b[0m )\n\u001b[1;32m    484\u001b[0m \u001b[38;5;28mself\u001b[39m\u001b[38;5;241m.\u001b[39msalinfo\u001b[38;5;241m.\u001b[39m_running_cmds[seq_num] \u001b[38;5;241m=\u001b[39m cmd_info\n\u001b[0;32m--> 485\u001b[0m \u001b[38;5;28;01mreturn\u001b[39;00m \u001b[38;5;28;01mawait\u001b[39;00m cmd_info\u001b[38;5;241m.\u001b[39mnext_ackcmd(timeout\u001b[38;5;241m=\u001b[39mtimeout)\n",
      "File \u001b[0;32m/opt/lsst/software/stack/conda/miniconda3-py38_4.9.2/envs/lsst-scipipe-4.0.1/lib/python3.10/site-packages/lsst/ts/salobj/topics/remote_command.py:195\u001b[0m, in \u001b[0;36mCommandInfo.next_ackcmd\u001b[0;34m(self, timeout)\u001b[0m\n\u001b[1;32m    193\u001b[0m     ackcmd \u001b[38;5;241m=\u001b[39m \u001b[38;5;28;01mawait\u001b[39;00m \u001b[38;5;28mself\u001b[39m\u001b[38;5;241m.\u001b[39m_wait_task\n\u001b[1;32m    194\u001b[0m     \u001b[38;5;28;01mif\u001b[39;00m ackcmd\u001b[38;5;241m.\u001b[39mack \u001b[38;5;129;01min\u001b[39;00m \u001b[38;5;28mself\u001b[39m\u001b[38;5;241m.\u001b[39mfailed_ack_codes:\n\u001b[0;32m--> 195\u001b[0m         \u001b[38;5;28;01mraise\u001b[39;00m base\u001b[38;5;241m.\u001b[39mAckError(msg\u001b[38;5;241m=\u001b[39m\u001b[38;5;124m\"\u001b[39m\u001b[38;5;124mCommand failed\u001b[39m\u001b[38;5;124m\"\u001b[39m, ackcmd\u001b[38;5;241m=\u001b[39mackcmd)\n\u001b[1;32m    196\u001b[0m     \u001b[38;5;28;01mreturn\u001b[39;00m ackcmd\n\u001b[1;32m    197\u001b[0m \u001b[38;5;28;01mexcept\u001b[39;00m asyncio\u001b[38;5;241m.\u001b[39mTimeoutError:\n",
      "\u001b[0;31mAckError\u001b[0m: msg='Command failed', ackcmd=(ackcmd private_seqNum=1207491629, ack=<SalRetCode.CMD_FAILED: -302>, error=0, result='Error : play command only evailable with emulated DAQ')"
     ]
    }
   ],
   "source": [
    "await comcam.rem.cccamera.cmd_play.set_start(playlist='tiago-1.playlist', repeat =True)"
   ]
=======
   "execution_count": null,
   "metadata": {},
   "outputs": [],
   "source": []
>>>>>>> 51d275c (Add event_name to callback function)
  },
  {
   "cell_type": "markdown",
   "metadata": {},
   "source": [
    "---\n",
<<<<<<< HEAD
    "## Step 29: \n",
=======
>>>>>>> 51d275c (Add event_name to callback function)
    "With the Summary State of the Camera in ENABLED and the CalibrationDetailedState in ENABLED, send a CCCamera_command_disableCalibration command.\n",
    "\n",
    "    Results:\n",
    "    The  CCCamera_logevent_CalibrationDetailedState event publishes DISABLED."
   ]
  },
  {
   "cell_type": "code",
<<<<<<< HEAD
   "execution_count": 96,
   "metadata": {},
   "outputs": [],
   "source": [
    "comcam.rem.cccamera.evt_calibrationDetailedState.callback = evt_time_callback"
   ]
  },
  {
   "cell_type": "code",
   "execution_count": 97,
   "metadata": {},
   "outputs": [
    {
     "name": "stdout",
     "output_type": "stream",
     "text": [
      "\n",
      " calibrationDetailedState logevent at 2022-07-08 19:01:31.694 is \n",
      " \tprivate_revCode: a610ea82, private_sndStamp: 1657306891.6946647, private_rcvStamp: 1657306891.694849, private_seqNum: 6, private_identity: CCCamera, private_origin: 15408733, substate: 1, timestampTransition: 0.0\n"
     ]
    },
    {
     "data": {
      "text/plain": [
       "<ddsutil.CCCamera_ackcmd_ff5ef83c at 0x7fd481824580>"
      ]
     },
     "execution_count": 97,
     "metadata": {},
     "output_type": "execute_result"
    }
   ],
   "source": [
    "await comcam.rem.cccamera.cmd_disableCalibration.set_start()"
   ]
  },
  {
   "cell_type": "code",
   "execution_count": 98,
   "metadata": {},
   "outputs": [],
   "source": [
    "comcam.rem.cccamera.evt_calibrationDetailedState.callback = None"
   ]
=======
   "execution_count": null,
   "metadata": {},
   "outputs": [],
   "source": []
>>>>>>> 51d275c (Add event_name to callback function)
  },
  {
   "cell_type": "markdown",
   "metadata": {},
   "source": [
    "--- \n",
<<<<<<< HEAD
    "Telemetry"
   ]
  },
  {
   "cell_type": "markdown",
   "metadata": {},
   "source": [
    "---\n",
    "## Step 30: \n",
=======
    "Telemetry\n",
    "\n",
    "\n",
>>>>>>> 51d275c (Add event_name to callback function)
    "Verify the CCCamera_fcs telemetry data is being published to the EFD."
   ]
  },
  {
   "cell_type": "code",
<<<<<<< HEAD
   "execution_count": 35,
   "metadata": {},
   "outputs": [
    {
     "data": {
      "text/html": [
       "<pre style=\"margin: 0.1em;\n",
       "padding-left: 0.25em;\n",
       "border-left-style: solid;\n",
       "font-family: var(--jp-code-font-family);\n",
       "font-size: var(--jp-code-font-size);\n",
       "line-height: var(--jp-code-line-height);\n",
       "\"><span style=\"color: var(--jp-warn-color2)\">aioinflux</span> <span style=\"color: var(--jp-success-color0)\">DEBUG</span>: 200: SELECT * FROM &quot;efd&quot;.&quot;autogen&quot;.&quot;lsst.sal.CCCamera.fcs&quot; GROUP BY * ORDER BY DESC LIMIT 1</pre>"
      ],
      "text/plain": [
       "<IPython.core.display.HTML object>"
      ]
     },
     "metadata": {},
     "output_type": "display_data"
    },
    {
     "name": "stdout",
     "output_type": "stream",
     "text": [
      "Last lsst.sal.CCCamera.fcs telemetry was at 2022-07-11 19:00:12.220 UTC \n",
      " \tvs time now is 2022-07-11 19:00:22.869254\n"
     ]
    }
   ],
   "source": [
    "await check_telemetry('lsst.sal.CCCamera.fcs')"
   ]
  },
  {
   "cell_type": "markdown",
   "metadata": {},
   "source": [
    "---\n",
    "## Step 31: \n",
    "Verify the CCCamera_bonn_shutter_Device telemetry data is being published to the EFD."
   ]
  },
  {
   "cell_type": "code",
   "execution_count": 36,
   "metadata": {},
   "outputs": [
    {
     "data": {
      "text/html": [
       "<pre style=\"margin: 0.1em;\n",
       "padding-left: 0.25em;\n",
       "border-left-style: solid;\n",
       "font-family: var(--jp-code-font-family);\n",
       "font-size: var(--jp-code-font-size);\n",
       "line-height: var(--jp-code-line-height);\n",
       "\"><span style=\"color: var(--jp-warn-color2)\">aioinflux</span> <span style=\"color: var(--jp-success-color0)\">DEBUG</span>: 200: SELECT * FROM &quot;efd&quot;.&quot;autogen&quot;.&quot;lsst.sal.CCCamera.bonn_shutter_Device&quot; GROUP BY * ORDER BY DESC LIMIT 1</pre>"
      ],
      "text/plain": [
       "<IPython.core.display.HTML object>"
      ]
     },
     "metadata": {},
     "output_type": "display_data"
    },
    {
     "name": "stdout",
     "output_type": "stream",
     "text": [
      "Last lsst.sal.CCCamera.bonn_shutter_Device telemetry was at 2022-07-11 19:00:24.525 UTC \n",
      " \tvs time now is 2022-07-11 19:00:28.041368\n"
     ]
    }
   ],
   "source": [
    "await check_telemetry('lsst.sal.CCCamera.bonn_shutter_Device')"
   ]
  },
  {
   "cell_type": "markdown",
   "metadata": {},
   "source": [
    "---\n",
    "## Step 32: \n",
    "Verify the CCCamera_daq_monitor_Store telemetry data is being published to the EFD."
   ]
  },
  {
   "cell_type": "code",
   "execution_count": 37,
   "metadata": {},
   "outputs": [
    {
     "data": {
      "text/html": [
       "<pre style=\"margin: 0.1em;\n",
       "padding-left: 0.25em;\n",
       "border-left-style: solid;\n",
       "font-family: var(--jp-code-font-family);\n",
       "font-size: var(--jp-code-font-size);\n",
       "line-height: var(--jp-code-line-height);\n",
       "\"><span style=\"color: var(--jp-warn-color2)\">aioinflux</span> <span style=\"color: var(--jp-success-color0)\">DEBUG</span>: 200: SELECT * FROM &quot;efd&quot;.&quot;autogen&quot;.&quot;lsst.sal.CCCamera.daq_monitor_Store&quot; GROUP BY * ORDER BY DESC LIMIT 1</pre>"
      ],
      "text/plain": [
       "<IPython.core.display.HTML object>"
      ]
     },
     "metadata": {},
     "output_type": "display_data"
    },
    {
     "name": "stdout",
     "output_type": "stream",
     "text": [
      "Last lsst.sal.CCCamera.daq_monitor_Store telemetry was at 2022-07-11 19:00:28.536 UTC \n",
      " \tvs time now is 2022-07-11 19:00:31.690615\n"
     ]
    }
   ],
   "source": [
    "await check_telemetry('lsst.sal.CCCamera.daq_monitor_Store')"
   ]
  },
  {
   "cell_type": "markdown",
   "metadata": {},
   "source": [
    "---\n",
    "## Step 33: \n",
    "Verify the CCCamera_rebpower_Reb telemetry data is being published to the EFD."
   ]
  },
  {
   "cell_type": "code",
   "execution_count": 38,
   "metadata": {},
   "outputs": [
    {
     "data": {
      "text/html": [
       "<pre style=\"margin: 0.1em;\n",
       "padding-left: 0.25em;\n",
       "border-left-style: solid;\n",
       "font-family: var(--jp-code-font-family);\n",
       "font-size: var(--jp-code-font-size);\n",
       "line-height: var(--jp-code-line-height);\n",
       "\"><span style=\"color: var(--jp-warn-color2)\">aioinflux</span> <span style=\"color: var(--jp-success-color0)\">DEBUG</span>: 200: SELECT * FROM &quot;efd&quot;.&quot;autogen&quot;.&quot;lsst.sal.CCCamera.rebpower_Reb&quot; GROUP BY * ORDER BY DESC LIMIT 1</pre>"
      ],
      "text/plain": [
       "<IPython.core.display.HTML object>"
      ]
     },
     "metadata": {},
     "output_type": "display_data"
    },
    {
     "name": "stdout",
     "output_type": "stream",
     "text": [
      "Last lsst.sal.CCCamera.rebpower_Reb telemetry was at 2022-07-11 19:00:31.034 UTC \n",
      " \tvs time now is 2022-07-11 19:00:36.430288\n"
     ]
    }
   ],
   "source": [
    "await check_telemetry('lsst.sal.CCCamera.rebpower_Reb')"
   ]
  },
  {
   "cell_type": "markdown",
   "metadata": {},
   "source": [
    "---\n",
    "## Step 34: \n",
    "Verify the CCCamera_rebpower_Rebps telemetry data is being published to the EFD."
   ]
  },
  {
   "cell_type": "code",
   "execution_count": 39,
   "metadata": {},
   "outputs": [
    {
     "data": {
      "text/html": [
       "<pre style=\"margin: 0.1em;\n",
       "padding-left: 0.25em;\n",
       "border-left-style: solid;\n",
       "font-family: var(--jp-code-font-family);\n",
       "font-size: var(--jp-code-font-size);\n",
       "line-height: var(--jp-code-line-height);\n",
       "\"><span style=\"color: var(--jp-warn-color2)\">aioinflux</span> <span style=\"color: var(--jp-success-color0)\">DEBUG</span>: 200: SELECT * FROM &quot;efd&quot;.&quot;autogen&quot;.&quot;lsst.sal.CCCamera.rebpower_Rebps&quot; GROUP BY * ORDER BY DESC LIMIT 1</pre>"
      ],
      "text/plain": [
       "<IPython.core.display.HTML object>"
      ]
     },
     "metadata": {},
     "output_type": "display_data"
    },
    {
     "name": "stdout",
     "output_type": "stream",
     "text": [
      "Last lsst.sal.CCCamera.rebpower_Rebps telemetry was at 2022-07-06 21:21:56.530 UTC \n",
      " \tvs time now is 2022-07-11 19:00:41.568495\n"
     ]
    }
   ],
   "source": [
    "await check_telemetry('lsst.sal.CCCamera.rebpower_Rebps')"
   ]
  },
  {
   "cell_type": "markdown",
   "metadata": {},
   "source": [
    "---\n",
    "## Step 35: \n",
    "Verify the CCCamera_vacuum_Cold1 telemetry data is being published to the EFD."
   ]
  },
  {
   "cell_type": "code",
   "execution_count": 40,
   "metadata": {},
   "outputs": [
    {
     "data": {
      "text/html": [
       "<pre style=\"margin: 0.1em;\n",
       "padding-left: 0.25em;\n",
       "border-left-style: solid;\n",
       "font-family: var(--jp-code-font-family);\n",
       "font-size: var(--jp-code-font-size);\n",
       "line-height: var(--jp-code-line-height);\n",
       "\"><span style=\"color: var(--jp-warn-color2)\">aioinflux</span> <span style=\"color: var(--jp-success-color0)\">DEBUG</span>: 200: SELECT * FROM &quot;efd&quot;.&quot;autogen&quot;.&quot;lsst.sal.CCCamera.vacuum_Cold1&quot; GROUP BY * ORDER BY DESC LIMIT 1</pre>"
      ],
      "text/plain": [
       "<IPython.core.display.HTML object>"
      ]
     },
     "metadata": {},
     "output_type": "display_data"
    },
    {
     "name": "stdout",
     "output_type": "stream",
     "text": [
      "Last lsst.sal.CCCamera.vacuum_Cold1 telemetry was at 2022-07-11 19:00:44.193 UTC \n",
      " \tvs time now is 2022-07-11 19:00:55.341830\n"
     ]
    }
   ],
   "source": [
    "await check_telemetry('lsst.sal.CCCamera.vacuum_Cold1')"
   ]
  },
  {
   "cell_type": "markdown",
   "metadata": {},
   "source": [
    "---\n",
    "## Step 36: \n",
    "Verify the CCCamera_vacuum_Cold2 telemetry data is being published to the EFD."
   ]
  },
  {
   "cell_type": "code",
   "execution_count": 41,
   "metadata": {},
   "outputs": [
    {
     "data": {
      "text/html": [
       "<pre style=\"margin: 0.1em;\n",
       "padding-left: 0.25em;\n",
       "border-left-style: solid;\n",
       "font-family: var(--jp-code-font-family);\n",
       "font-size: var(--jp-code-font-size);\n",
       "line-height: var(--jp-code-line-height);\n",
       "\"><span style=\"color: var(--jp-warn-color2)\">aioinflux</span> <span style=\"color: var(--jp-success-color0)\">DEBUG</span>: 200: SELECT * FROM &quot;efd&quot;.&quot;autogen&quot;.&quot;lsst.sal.CCCamera.vacuum_Cold2&quot; GROUP BY * ORDER BY DESC LIMIT 1</pre>"
      ],
      "text/plain": [
       "<IPython.core.display.HTML object>"
      ]
     },
     "metadata": {},
     "output_type": "display_data"
    },
    {
     "name": "stdout",
     "output_type": "stream",
     "text": [
      "Last lsst.sal.CCCamera.vacuum_Cold2 telemetry was at 2022-07-11 19:00:56.191 UTC \n",
      " \tvs time now is 2022-07-11 19:00:58.498418\n"
     ]
    }
   ],
   "source": [
    "await check_telemetry('lsst.sal.CCCamera.vacuum_Cold2')"
   ]
  },
  {
   "cell_type": "markdown",
   "metadata": {},
   "source": [
    "---\n",
    "## Step 37: \n",
    "Verify the CCCamera_vacuum_Cryo telemetry data is being published to the EFD."
   ]
  },
  {
   "cell_type": "code",
   "execution_count": 42,
   "metadata": {},
   "outputs": [
    {
     "data": {
      "text/html": [
       "<pre style=\"margin: 0.1em;\n",
       "padding-left: 0.25em;\n",
       "border-left-style: solid;\n",
       "font-family: var(--jp-code-font-family);\n",
       "font-size: var(--jp-code-font-size);\n",
       "line-height: var(--jp-code-line-height);\n",
       "\"><span style=\"color: var(--jp-warn-color2)\">aioinflux</span> <span style=\"color: var(--jp-success-color0)\">DEBUG</span>: 200: SELECT * FROM &quot;efd&quot;.&quot;autogen&quot;.&quot;lsst.sal.CCCamera.vacuum_Cryo&quot; GROUP BY * ORDER BY DESC LIMIT 1</pre>"
      ],
      "text/plain": [
       "<IPython.core.display.HTML object>"
      ]
     },
     "metadata": {},
     "output_type": "display_data"
    },
    {
     "name": "stdout",
     "output_type": "stream",
     "text": [
      "Last lsst.sal.CCCamera.vacuum_Cryo telemetry was at 2022-07-11 19:00:56.191 UTC \n",
      " \tvs time now is 2022-07-11 19:01:03.886106\n"
     ]
    }
   ],
   "source": [
    "await check_telemetry('lsst.sal.CCCamera.vacuum_Cryo')"
   ]
  },
  {
   "cell_type": "markdown",
   "metadata": {},
   "source": [
    "---\n",
    "## Step 38: \n",
    "Verify the CCCamera_vacuum_IonPumps telemetry data is being published to the EFD."
   ]
  },
  {
   "cell_type": "code",
   "execution_count": 43,
   "metadata": {},
   "outputs": [
    {
     "data": {
      "text/html": [
       "<pre style=\"margin: 0.1em;\n",
       "padding-left: 0.25em;\n",
       "border-left-style: solid;\n",
       "font-family: var(--jp-code-font-family);\n",
       "font-size: var(--jp-code-font-size);\n",
       "line-height: var(--jp-code-line-height);\n",
       "\"><span style=\"color: var(--jp-warn-color2)\">aioinflux</span> <span style=\"color: var(--jp-success-color0)\">DEBUG</span>: 200: SELECT * FROM &quot;efd&quot;.&quot;autogen&quot;.&quot;lsst.sal.CCCamera.vacuum_IonPumps&quot; GROUP BY * ORDER BY DESC LIMIT 1</pre>"
      ],
      "text/plain": [
       "<IPython.core.display.HTML object>"
      ]
     },
     "metadata": {},
     "output_type": "display_data"
    },
    {
     "name": "stdout",
     "output_type": "stream",
     "text": [
      "Last lsst.sal.CCCamera.vacuum_IonPumps telemetry was at 2022-07-11 19:01:05.199 UTC \n",
      " \tvs time now is 2022-07-11 19:01:06.816461\n"
     ]
    }
   ],
   "source": [
    "await check_telemetry('lsst.sal.CCCamera.vacuum_IonPumps')"
   ]
  },
  {
   "cell_type": "markdown",
   "metadata": {},
   "source": [
    "---\n",
    "## Step 39: \n",
    "Verify the CCCamera_vacuum_Rtds telemetry data is being published to the EFD."
   ]
  },
  {
   "cell_type": "code",
   "execution_count": 44,
   "metadata": {},
   "outputs": [
    {
     "data": {
      "text/html": [
       "<pre style=\"margin: 0.1em;\n",
       "padding-left: 0.25em;\n",
       "border-left-style: solid;\n",
       "font-family: var(--jp-code-font-family);\n",
       "font-size: var(--jp-code-font-size);\n",
       "line-height: var(--jp-code-line-height);\n",
       "\"><span style=\"color: var(--jp-warn-color2)\">aioinflux</span> <span style=\"color: var(--jp-success-color0)\">DEBUG</span>: 200: SELECT * FROM &quot;efd&quot;.&quot;autogen&quot;.&quot;lsst.sal.CCCamera.vacuum_Rtds&quot; GROUP BY * ORDER BY DESC LIMIT 1</pre>"
      ],
      "text/plain": [
       "<IPython.core.display.HTML object>"
      ]
     },
     "metadata": {},
     "output_type": "display_data"
    },
    {
     "name": "stdout",
     "output_type": "stream",
     "text": [
      "Last lsst.sal.CCCamera.vacuum_Rtds telemetry was at 2022-07-11 19:01:05.198 UTC \n",
      " \tvs time now is 2022-07-11 19:01:10.631661\n"
     ]
    }
   ],
   "source": [
    "await check_telemetry('lsst.sal.CCCamera.vacuum_Rtds')"
   ]
  },
  {
   "cell_type": "markdown",
   "metadata": {},
   "source": [
    "---\n",
    "## Step 40: \n",
    "Verify the CCCamera_vacuum_Turbo telemetry data is being published to the EFD."
   ]
  },
  {
   "cell_type": "code",
   "execution_count": 45,
   "metadata": {},
   "outputs": [
    {
     "data": {
      "text/html": [
       "<pre style=\"margin: 0.1em;\n",
       "padding-left: 0.25em;\n",
       "border-left-style: solid;\n",
       "font-family: var(--jp-code-font-family);\n",
       "font-size: var(--jp-code-font-size);\n",
       "line-height: var(--jp-code-line-height);\n",
       "\"><span style=\"color: var(--jp-warn-color2)\">aioinflux</span> <span style=\"color: var(--jp-success-color0)\">DEBUG</span>: 200: SELECT * FROM &quot;efd&quot;.&quot;autogen&quot;.&quot;lsst.sal.CCCamera.vacuum_Turbo&quot; GROUP BY * ORDER BY DESC LIMIT 1</pre>"
      ],
      "text/plain": [
       "<IPython.core.display.HTML object>"
      ]
     },
     "metadata": {},
     "output_type": "display_data"
    },
    {
     "name": "stdout",
     "output_type": "stream",
     "text": [
      "Last lsst.sal.CCCamera.vacuum_Turbo telemetry was at 2022-07-11 19:01:14.206 UTC \n",
      " \tvs time now is 2022-07-11 19:01:14.401603\n"
     ]
    }
   ],
   "source": [
    "await check_telemetry('lsst.sal.CCCamera.vacuum_Turbo')"
   ]
  },
  {
   "cell_type": "markdown",
   "metadata": {},
   "source": [
    "---\n",
    "## Step 41: \n",
    "Verify the CCCamera_vacuum_VQMonitor telemetry data is being published to the EFD."
   ]
  },
  {
   "cell_type": "code",
   "execution_count": 46,
   "metadata": {},
   "outputs": [
    {
     "data": {
      "text/html": [
       "<pre style=\"margin: 0.1em;\n",
       "padding-left: 0.25em;\n",
       "border-left-style: solid;\n",
       "font-family: var(--jp-code-font-family);\n",
       "font-size: var(--jp-code-font-size);\n",
       "line-height: var(--jp-code-line-height);\n",
       "\"><span style=\"color: var(--jp-warn-color2)\">aioinflux</span> <span style=\"color: var(--jp-success-color0)\">DEBUG</span>: 200: SELECT * FROM &quot;efd&quot;.&quot;autogen&quot;.&quot;lsst.sal.CCCamera.vacuum_VQMonitor&quot; GROUP BY * ORDER BY DESC LIMIT 1</pre>"
      ],
      "text/plain": [
       "<IPython.core.display.HTML object>"
      ]
     },
     "metadata": {},
     "output_type": "display_data"
    },
    {
     "name": "stdout",
     "output_type": "stream",
     "text": [
      "Last lsst.sal.CCCamera.vacuum_VQMonitor telemetry was at 2022-07-11 19:01:14.206 UTC \n",
      " \tvs time now is 2022-07-11 19:01:17.472521\n"
     ]
    }
   ],
   "source": [
    "await check_telemetry('lsst.sal.CCCamera.vacuum_VQMonitor')"
   ]
  },
  {
   "cell_type": "markdown",
   "metadata": {},
   "source": [
    "---\n",
    "## Step 42: \n",
    "Verify the CCCamera_quadbox_BFR telemetry data is being published to the EFD."
   ]
  },
  {
   "cell_type": "code",
   "execution_count": 47,
   "metadata": {},
   "outputs": [
    {
     "data": {
      "text/html": [
       "<pre style=\"margin: 0.1em;\n",
       "padding-left: 0.25em;\n",
       "border-left-style: solid;\n",
       "font-family: var(--jp-code-font-family);\n",
       "font-size: var(--jp-code-font-size);\n",
       "line-height: var(--jp-code-line-height);\n",
       "\"><span style=\"color: var(--jp-warn-color2)\">aioinflux</span> <span style=\"color: var(--jp-success-color0)\">DEBUG</span>: 200: SELECT * FROM &quot;efd&quot;.&quot;autogen&quot;.&quot;lsst.sal.CCCamera.quadbox_BFR&quot; GROUP BY * ORDER BY DESC LIMIT 1</pre>"
      ],
      "text/plain": [
       "<IPython.core.display.HTML object>"
      ]
     },
     "metadata": {},
     "output_type": "display_data"
    },
    {
     "name": "stdout",
     "output_type": "stream",
     "text": [
      "Last lsst.sal.CCCamera.quadbox_BFR telemetry was at 2022-07-11 19:01:17.450 UTC \n",
      " \tvs time now is 2022-07-11 19:01:20.859889\n"
     ]
    }
   ],
   "source": [
    "await check_telemetry('lsst.sal.CCCamera.quadbox_BFR')"
   ]
  },
  {
   "cell_type": "markdown",
   "metadata": {},
   "source": [
    "---\n",
    "## Step 43: \n",
    "Verify the CCCamera_quadbox_PDU_24VD telemetry data is being published to the EFD."
   ]
  },
  {
   "cell_type": "code",
   "execution_count": 48,
   "metadata": {},
   "outputs": [
    {
     "data": {
      "text/html": [
       "<pre style=\"margin: 0.1em;\n",
       "padding-left: 0.25em;\n",
       "border-left-style: solid;\n",
       "font-family: var(--jp-code-font-family);\n",
       "font-size: var(--jp-code-font-size);\n",
       "line-height: var(--jp-code-line-height);\n",
       "\"><span style=\"color: var(--jp-warn-color2)\">aioinflux</span> <span style=\"color: var(--jp-success-color0)\">DEBUG</span>: 200: SELECT * FROM &quot;efd&quot;.&quot;autogen&quot;.&quot;lsst.sal.CCCamera.quadbox_PDU_24VD&quot; GROUP BY * ORDER BY DESC LIMIT 1</pre>"
      ],
      "text/plain": [
       "<IPython.core.display.HTML object>"
      ]
     },
     "metadata": {},
     "output_type": "display_data"
    },
    {
     "name": "stdout",
     "output_type": "stream",
     "text": [
      "Last lsst.sal.CCCamera.quadbox_PDU_24VD telemetry was at 2022-07-11 19:01:17.450 UTC \n",
      " \tvs time now is 2022-07-11 19:01:23.722843\n"
     ]
    }
   ],
   "source": [
    "await check_telemetry('lsst.sal.CCCamera.quadbox_PDU_24VD')"
   ]
  },
  {
   "cell_type": "markdown",
   "metadata": {},
   "source": [
    "---\n",
    "## Step 44: \n",
    "Verify the CCCamera_quadbox_PDU_24VDC telemetry data is being published to the EFD."
   ]
  },
  {
   "cell_type": "code",
   "execution_count": 49,
   "metadata": {},
   "outputs": [
    {
     "data": {
      "text/html": [
       "<pre style=\"margin: 0.1em;\n",
       "padding-left: 0.25em;\n",
       "border-left-style: solid;\n",
       "font-family: var(--jp-code-font-family);\n",
       "font-size: var(--jp-code-font-size);\n",
       "line-height: var(--jp-code-line-height);\n",
       "\"><span style=\"color: var(--jp-warn-color2)\">aioinflux</span> <span style=\"color: var(--jp-success-color0)\">DEBUG</span>: 200: SELECT * FROM &quot;efd&quot;.&quot;autogen&quot;.&quot;lsst.sal.CCCamera.quadbox_PDU_24VC&quot; GROUP BY * ORDER BY DESC LIMIT 1</pre>"
      ],
      "text/plain": [
       "<IPython.core.display.HTML object>"
      ]
     },
     "metadata": {},
     "output_type": "display_data"
    },
    {
     "name": "stdout",
     "output_type": "stream",
     "text": [
      "Last lsst.sal.CCCamera.quadbox_PDU_24VC telemetry was at 2022-07-11 19:01:17.450 UTC \n",
      " \tvs time now is 2022-07-11 19:01:27.300386\n"
     ]
    }
   ],
   "source": [
    "await check_telemetry('lsst.sal.CCCamera.quadbox_PDU_24VC')"
   ]
  },
  {
   "cell_type": "markdown",
   "metadata": {},
   "source": [
    "---\n",
    "## Step 45: \n",
    "Verify the CCCamera_quadbox_PDU_48V telemetry data is being published to the EFD."
   ]
  },
  {
   "cell_type": "code",
   "execution_count": 50,
   "metadata": {},
   "outputs": [
    {
     "data": {
      "text/html": [
       "<pre style=\"margin: 0.1em;\n",
       "padding-left: 0.25em;\n",
       "border-left-style: solid;\n",
       "font-family: var(--jp-code-font-family);\n",
       "font-size: var(--jp-code-font-size);\n",
       "line-height: var(--jp-code-line-height);\n",
       "\"><span style=\"color: var(--jp-warn-color2)\">aioinflux</span> <span style=\"color: var(--jp-success-color0)\">DEBUG</span>: 200: SELECT * FROM &quot;efd&quot;.&quot;autogen&quot;.&quot;lsst.sal.CCCamera.quadbox_PDU_48V&quot; GROUP BY * ORDER BY DESC LIMIT 1</pre>"
      ],
      "text/plain": [
       "<IPython.core.display.HTML object>"
      ]
     },
     "metadata": {},
     "output_type": "display_data"
    },
    {
     "name": "stdout",
     "output_type": "stream",
     "text": [
      "Last lsst.sal.CCCamera.quadbox_PDU_48V telemetry was at 2022-07-11 19:01:27.450 UTC \n",
      " \tvs time now is 2022-07-11 19:01:30.617420\n"
     ]
    }
   ],
   "source": [
    "await check_telemetry('lsst.sal.CCCamera.quadbox_PDU_48V')"
   ]
  },
  {
   "cell_type": "markdown",
   "metadata": {},
   "source": [
    "---\n",
    "## Step 46: \n",
    "Verify the CCCamera_quadbox_PDU_5V telemetry data is being published to the EFD."
   ]
  },
  {
   "cell_type": "code",
   "execution_count": 51,
   "metadata": {},
   "outputs": [
    {
     "data": {
      "text/html": [
       "<pre style=\"margin: 0.1em;\n",
       "padding-left: 0.25em;\n",
       "border-left-style: solid;\n",
       "font-family: var(--jp-code-font-family);\n",
       "font-size: var(--jp-code-font-size);\n",
       "line-height: var(--jp-code-line-height);\n",
       "\"><span style=\"color: var(--jp-warn-color2)\">aioinflux</span> <span style=\"color: var(--jp-success-color0)\">DEBUG</span>: 200: SELECT * FROM &quot;efd&quot;.&quot;autogen&quot;.&quot;lsst.sal.CCCamera.quadbox_PDU_5V&quot; GROUP BY * ORDER BY DESC LIMIT 1</pre>"
      ],
      "text/plain": [
       "<IPython.core.display.HTML object>"
      ]
     },
     "metadata": {},
     "output_type": "display_data"
    },
    {
     "name": "stdout",
     "output_type": "stream",
     "text": [
      "Last lsst.sal.CCCamera.quadbox_PDU_5V telemetry was at 2022-07-11 19:01:27.450 UTC \n",
      " \tvs time now is 2022-07-11 19:01:32.988983\n"
     ]
    }
   ],
   "source": [
    "await check_telemetry('lsst.sal.CCCamera.quadbox_PDU_5V')"
   ]
  },
  {
   "cell_type": "markdown",
   "metadata": {},
   "source": [
    "---\n",
    "## Step 47: \n",
    "Verify the CCCamera_focal_plane_Ccd telemetry data is being published to the EFD."
   ]
  },
  {
   "cell_type": "code",
   "execution_count": 52,
   "metadata": {},
   "outputs": [
    {
     "data": {
      "text/html": [
       "<pre style=\"margin: 0.1em;\n",
       "padding-left: 0.25em;\n",
       "border-left-style: solid;\n",
       "font-family: var(--jp-code-font-family);\n",
       "font-size: var(--jp-code-font-size);\n",
       "line-height: var(--jp-code-line-height);\n",
       "\"><span style=\"color: var(--jp-warn-color2)\">aioinflux</span> <span style=\"color: var(--jp-success-color0)\">DEBUG</span>: 200: SELECT * FROM &quot;efd&quot;.&quot;autogen&quot;.&quot;lsst.sal.CCCamera.focal_plane_Ccd&quot; GROUP BY * ORDER BY DESC LIMIT 1</pre>"
      ],
      "text/plain": [
       "<IPython.core.display.HTML object>"
      ]
     },
     "metadata": {},
     "output_type": "display_data"
    },
    {
     "name": "stdout",
     "output_type": "stream",
     "text": [
      "Last lsst.sal.CCCamera.focal_plane_Ccd telemetry was at 2022-07-11 19:01:34.369 UTC \n",
      " \tvs time now is 2022-07-11 19:01:35.330584\n"
     ]
    }
   ],
   "source": [
    "await check_telemetry('lsst.sal.CCCamera.focal_plane_Ccd')"
   ]
  },
  {
   "cell_type": "markdown",
   "metadata": {},
   "source": [
    "---\n",
    "## Step 48: \n",
    "Verify the CCCamera_focal_plane_Reb telemetry data is being published to the EFD."
   ]
  },
  {
   "cell_type": "code",
   "execution_count": 53,
   "metadata": {},
   "outputs": [
    {
     "data": {
      "text/html": [
       "<pre style=\"margin: 0.1em;\n",
       "padding-left: 0.25em;\n",
       "border-left-style: solid;\n",
       "font-family: var(--jp-code-font-family);\n",
       "font-size: var(--jp-code-font-size);\n",
       "line-height: var(--jp-code-line-height);\n",
       "\"><span style=\"color: var(--jp-warn-color2)\">aioinflux</span> <span style=\"color: var(--jp-success-color0)\">DEBUG</span>: 200: SELECT * FROM &quot;efd&quot;.&quot;autogen&quot;.&quot;lsst.sal.CCCamera.focal_plane_Reb&quot; GROUP BY * ORDER BY DESC LIMIT 1</pre>"
      ],
      "text/plain": [
       "<IPython.core.display.HTML object>"
      ]
     },
     "metadata": {},
     "output_type": "display_data"
    },
    {
     "name": "stdout",
     "output_type": "stream",
     "text": [
      "Last lsst.sal.CCCamera.focal_plane_Reb telemetry was at 2022-07-11 19:01:36.455 UTC \n",
      " \tvs time now is 2022-07-11 19:01:38.333861\n"
     ]
    }
   ],
   "source": [
    "await check_telemetry('lsst.sal.CCCamera.focal_plane_Reb')"
   ]
  },
  {
   "cell_type": "markdown",
   "metadata": {},
   "source": [
    "---\n",
    "## Step 49: \n",
    "Verify the CCCamera_focal_plane_RebTotalPower telemetry data is being published to the EFD."
   ]
  },
  {
   "cell_type": "code",
   "execution_count": 54,
   "metadata": {},
   "outputs": [
    {
     "data": {
      "text/html": [
       "<pre style=\"margin: 0.1em;\n",
       "padding-left: 0.25em;\n",
       "border-left-style: solid;\n",
       "font-family: var(--jp-code-font-family);\n",
       "font-size: var(--jp-code-font-size);\n",
       "line-height: var(--jp-code-line-height);\n",
       "\"><span style=\"color: var(--jp-warn-color2)\">aioinflux</span> <span style=\"color: var(--jp-success-color0)\">DEBUG</span>: 200: SELECT * FROM &quot;efd&quot;.&quot;autogen&quot;.&quot;lsst.sal.CCCamera.focal_plane_RebTotalPower&quot; GROUP BY * ORDER BY DESC LIMIT 1</pre>"
      ],
      "text/plain": [
       "<IPython.core.display.HTML object>"
      ]
     },
     "metadata": {},
     "output_type": "display_data"
    },
    {
     "name": "stdout",
     "output_type": "stream",
     "text": [
      "Last lsst.sal.CCCamera.focal_plane_RebTotalPower telemetry was at 2022-07-11 19:01:35.930 UTC \n",
      " \tvs time now is 2022-07-11 19:01:40.897515\n"
     ]
    }
   ],
   "source": [
    "await check_telemetry('lsst.sal.CCCamera.focal_plane_RebTotalPower')"
   ]
  },
  {
   "cell_type": "markdown",
   "metadata": {},
   "source": [
    "---\n",
    "## Step 50: \n",
    "Verify the CCCamera_focal_plane_Segment telemetry data is being published to the EFD."
   ]
  },
  {
   "cell_type": "code",
   "execution_count": 55,
   "metadata": {},
   "outputs": [
    {
     "data": {
      "text/html": [
       "<pre style=\"margin: 0.1em;\n",
       "padding-left: 0.25em;\n",
       "border-left-style: solid;\n",
       "font-family: var(--jp-code-font-family);\n",
       "font-size: var(--jp-code-font-size);\n",
       "line-height: var(--jp-code-line-height);\n",
       "\"><span style=\"color: var(--jp-warn-color2)\">aioinflux</span> <span style=\"color: var(--jp-success-color0)\">DEBUG</span>: 200: SELECT * FROM &quot;efd&quot;.&quot;autogen&quot;.&quot;lsst.sal.CCCamera.focal_plane_Segment&quot; GROUP BY * ORDER BY DESC LIMIT 1</pre>"
      ],
      "text/plain": [
       "<IPython.core.display.HTML object>"
      ]
     },
     "metadata": {},
     "output_type": "display_data"
    },
    {
     "name": "stdout",
     "output_type": "stream",
     "text": [
      "Last lsst.sal.CCCamera.focal_plane_Segment telemetry was at 2022-07-11 19:01:35.929 UTC \n",
      " \tvs time now is 2022-07-11 19:01:43.961768\n"
     ]
    }
   ],
   "source": [
    "await check_telemetry('lsst.sal.CCCamera.focal_plane_Segment')"
   ]
  },
  {
   "cell_type": "code",
   "execution_count": 117,
   "metadata": {},
   "outputs": [
    {
     "data": {
      "text/html": [
       "<pre style=\"margin: 0.1em;\n",
       "padding-left: 0.25em;\n",
       "border-left-style: solid;\n",
       "font-family: var(--jp-code-font-family);\n",
       "font-size: var(--jp-code-font-size);\n",
       "line-height: var(--jp-code-line-height);\n",
       "\"><span style=\"color: var(--jp-warn-color2)\">Script</span> <span style=\"color: var(--jp-info-color0)\">INFO</span>: STOP- LVV-T2219 ComCam Interface to SAL</pre>"
      ],
      "text/plain": [
       "<IPython.core.display.HTML object>"
      ]
     },
     "metadata": {},
     "output_type": "display_data"
    }
   ],
   "source": [
    "script.log.info(f\"STOP- {test_message}\")"
=======
    "Verify the CCCamera_logevent_availableFilters event is published to the EFD."
>>>>>>> 3a47a29 (Initial commit)
   ]
  },
  {
   "cell_type": "code",
   "execution_count": null,
   "metadata": {},
   "outputs": [],
<<<<<<< HEAD
   "source": []
<<<<<<< HEAD
=======
=======
   "source": [
    "await comcam."
=======
   "execution_count": null,
   "metadata": {},
   "outputs": [],
   "source": []
  },
  {
   "cell_type": "markdown",
   "metadata": {},
   "source": [
    "---\n",
    "Verify the CCCamera_bonn_shutter_Device telemetry data is being published to the EFD."
   ]
  },
  {
   "cell_type": "code",
   "execution_count": null,
   "metadata": {},
   "outputs": [],
   "source": []
  },
  {
   "cell_type": "markdown",
   "metadata": {},
   "source": [
    "---\n",
    "Verify the CCCamera_daq_monitor_Store telemetry data is being published to the EFD."
   ]
  },
  {
   "cell_type": "code",
   "execution_count": null,
   "metadata": {},
   "outputs": [],
   "source": []
  },
  {
   "cell_type": "markdown",
   "metadata": {},
   "source": [
    "---\n",
    "Verify the CCCamera_rebpower_Reb telemetry data is being published to the EFD."
   ]
  },
  {
   "cell_type": "code",
   "execution_count": null,
   "metadata": {},
   "outputs": [],
   "source": []
  },
  {
   "cell_type": "markdown",
   "metadata": {},
   "source": [
    "---\n",
    "Verify the CCCamera_rebpower_Rebps telemetry data is being published to the EFD."
   ]
  },
  {
   "cell_type": "code",
   "execution_count": null,
   "metadata": {},
   "outputs": [],
   "source": []
  },
  {
   "cell_type": "markdown",
   "metadata": {},
   "source": [
    "---\n",
    "Verify the CCCamera_vacuum_Cold1 telemetry data is being published to the EFD."
   ]
  },
  {
   "cell_type": "code",
   "execution_count": null,
   "metadata": {},
   "outputs": [],
   "source": []
  },
  {
   "cell_type": "markdown",
   "metadata": {},
   "source": [
    "---\n",
    "Verify the CCCamera_vacuum_Cold2 telemetry data is being published to the EFD."
   ]
  },
  {
   "cell_type": "code",
   "execution_count": null,
   "metadata": {},
   "outputs": [],
   "source": []
  },
  {
   "cell_type": "markdown",
   "metadata": {},
   "source": [
    "---\n",
    "Verify the CCCamera_vacuum_Cryo telemetry data is being published to the EFD."
   ]
  },
  {
   "cell_type": "code",
   "execution_count": null,
   "metadata": {},
   "outputs": [],
   "source": []
  },
  {
   "cell_type": "markdown",
   "metadata": {},
   "source": [
    "---\n",
    "Verify the CCCamera_vacuum_IonPumps telemetry data is being published to the EFD."
   ]
  },
  {
   "cell_type": "code",
   "execution_count": null,
   "metadata": {},
   "outputs": [],
   "source": []
  },
  {
   "cell_type": "markdown",
   "metadata": {},
   "source": [
    "---\n",
    "Verify the CCCamera_vacuum_Rtds telemetry data is being published to the EFD."
   ]
  },
  {
   "cell_type": "code",
   "execution_count": null,
   "metadata": {},
   "outputs": [],
   "source": []
  },
  {
   "cell_type": "markdown",
   "metadata": {},
   "source": [
    "---\n",
    "Verify the CCCamera_vacuum_Turbo telemetry data is being published to the EFD."
   ]
  },
  {
   "cell_type": "code",
   "execution_count": null,
   "metadata": {},
   "outputs": [],
   "source": []
  },
  {
   "cell_type": "markdown",
   "metadata": {},
   "source": [
    "---\n",
    "Verify the CCCamera_vacuum_VQMonitor telemetry data is being published to the EFD."
   ]
  },
  {
   "cell_type": "code",
   "execution_count": null,
   "metadata": {},
   "outputs": [],
   "source": []
  },
  {
   "cell_type": "markdown",
   "metadata": {},
   "source": [
    "---\n",
    "Verify the CCCamera_quadbox_BFR telemetry data is being published to the EFD."
   ]
  },
  {
   "cell_type": "code",
   "execution_count": null,
   "metadata": {},
   "outputs": [],
   "source": []
  },
  {
   "cell_type": "markdown",
   "metadata": {},
   "source": [
    "---\n",
    "Verify the CCCamera_quadbox_PDU_24VD telemetry data is being published to the EFD."
   ]
  },
  {
   "cell_type": "code",
   "execution_count": null,
   "metadata": {},
   "outputs": [],
   "source": []
  },
  {
   "cell_type": "markdown",
   "metadata": {},
   "source": [
    "---\n",
    "Verify the CCCamera_quadbox_PDU_48V telemetry data is being published to the EFD."
   ]
  },
  {
   "cell_type": "code",
   "execution_count": null,
   "metadata": {},
   "outputs": [],
   "source": []
  },
  {
   "cell_type": "markdown",
   "metadata": {},
   "source": [
    "---\n",
    "Verify the CCCamera_quadbox_PDU_5V telemetry data is being published to the EFD."
   ]
  },
  {
   "cell_type": "code",
   "execution_count": null,
   "metadata": {},
   "outputs": [],
   "source": []
  },
  {
   "cell_type": "markdown",
   "metadata": {},
   "source": [
    "---\n",
    "Verify the CCCamera_focal_plane_Ccd telemetry data is being published to the EFD."
   ]
  },
  {
   "cell_type": "code",
   "execution_count": null,
   "metadata": {},
   "outputs": [],
   "source": []
  },
  {
   "cell_type": "markdown",
   "metadata": {},
   "source": [
    "---\n",
    "Verify the CCCamera_focal_plane_RebTotalPower telemetry data is being published to the EFD."
   ]
  },
  {
   "cell_type": "code",
   "execution_count": null,
   "metadata": {},
   "outputs": [],
   "source": []
  },
  {
   "cell_type": "markdown",
   "metadata": {},
   "source": [
    "---\n",
    "Verify the CCCamera_focal_plane_Segment telemetry data is being published to the EFD."
>>>>>>> 51d275c (Add event_name to callback function)
   ]
>>>>>>> 17e4311 (Add Domain)
  },
  {
   "cell_type": "code",
   "execution_count": null,
   "metadata": {},
   "outputs": [],
   "source": []
  },
  {
   "cell_type": "code",
   "execution_count": null,
   "metadata": {},
   "outputs": [],
   "source": [
    "\n",
    "script.log.info(f\"STOP- {test_message}\")"
   ]
>>>>>>> 3a47a29 (Initial commit)
  }
 ],
 "metadata": {
  "kernelspec": {
   "display_name": "LSST",
   "language": "python",
   "name": "lsst"
  },
  "language_info": {
   "codemirror_mode": {
    "name": "ipython",
    "version": 3
   },
   "file_extension": ".py",
   "mimetype": "text/x-python",
   "name": "python",
   "nbconvert_exporter": "python",
   "pygments_lexer": "ipython3",
   "version": "3.10.4"
  }
 },
 "nbformat": 4,
 "nbformat_minor": 4
}
