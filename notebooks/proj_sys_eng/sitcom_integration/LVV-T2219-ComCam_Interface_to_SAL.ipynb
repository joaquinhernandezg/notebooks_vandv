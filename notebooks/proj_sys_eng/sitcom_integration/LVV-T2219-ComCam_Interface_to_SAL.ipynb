{
 "cells": [
  {
   "cell_type": "markdown",
   "metadata": {},
   "source": [
    "# Test Case LVV-T2219\n",
    "The objective of this test case is to verify the ComCam communication interface with SAL by testing the commands, events and telemetry defined by the latest version of the XML. This test case will exercise the functionality of the ComCam on the 3rd level of the Summit and meets the following criteria:\n",
    "\n",
    "    Only requires the ComCam to be operational\n",
    "    Does not require any communication with other subsystems\n",
    "    Does require the use of SAL and the EFD\n",
    "    \n",
    "\n",
    "The enumeration for the event substates and the fields published for each event/telemetry topic can be found in\n",
    "https://ts-xml.lsst.io/sal_interfaces/CCCamera.html"
   ]
  },
  {
   "cell_type": "code",
   "execution_count": null,
   "metadata": {},
   "outputs": [],
   "source": [
    "test_case = \"LVV-T2219\"\n",
    "test_exec = \"LVV-EXXXX\""
   ]
  },
  {
   "cell_type": "code",
   "execution_count": null,
   "metadata": {},
   "outputs": [],
   "source": [
    "from lsst.sitcom import vandv\n",
    "\n",
    "exec_info = vandv.ExecutionInfo()\n",
    "print(exec_info)"
   ]
  },
  {
   "cell_type": "markdown",
   "metadata": {},
   "source": [
    "# Setup"
   ]
  },
  {
   "cell_type": "code",
   "execution_count": null,
   "metadata": {},
   "outputs": [],
   "source": [
    "import asyncio\n",
    "import logging\n",
    "import os\n",
    "import yaml\n",
    "\n",
    "import astropy.units as u\n",
    "import numpy as np\n",
    "import pandas as pd\n",
    "\n",
    "from astropy.time import Time\n",
    "from datetime import datetime, timedelta\n",
    "from matplotlib import pyplot as plt\n",
    "\n",
    "from lsst.ts.observatory.control.maintel import ComCam\n",
    "from lsst_efd_client import EfdClient\n",
    "from lsst.ts import salobj"
   ]
  },
  {
   "cell_type": "markdown",
   "metadata": {},
   "source": [
    "The following block sets the necessary environment variables for setting up the DDS/SAL communication"
   ]
  },
  {
   "cell_type": "code",
   "execution_count": null,
   "metadata": {},
   "outputs": [],
   "source": [
    "os.environ[\"LSST_DDS_HISTORYSYNC\"] = \"30\""
   ]
  },
  {
   "cell_type": "markdown",
   "metadata": {},
   "source": [
    "Setting up logger"
   ]
  },
  {
   "cell_type": "code",
   "execution_count": null,
   "metadata": {},
   "outputs": [],
   "source": [
    "logger = logging.getLogger(test_case)\n",
    "logger.setLevel(logging.DEBUG)"
   ]
  },
  {
   "cell_type": "markdown",
   "metadata": {},
   "source": [
    "Make sure DDS Daemon is running and startup Domain"
   ]
  },
  {
   "cell_type": "code",
   "execution_count": null,
   "metadata": {},
   "outputs": [],
   "source": [
    "domain = salobj.Domain()"
   ]
  },
  {
   "cell_type": "markdown",
   "metadata": {},
   "source": [
    "Start script task"
   ]
  },
  {
   "cell_type": "code",
   "execution_count": null,
   "metadata": {},
   "outputs": [],
   "source": [
    "script = salobj.Controller(\"Script\", index=vandv.get_index(test_case))\n",
    "await asyncio.sleep(10) \n",
    "\n",
    "script.start_task"
   ]
  },
  {
   "cell_type": "markdown",
   "metadata": {},
   "source": [
    "EFD setup"
   ]
  },
  {
   "cell_type": "code",
   "execution_count": null,
   "metadata": {},
   "outputs": [],
   "source": [
    "client = vandv.efd.create_efd_client()"
   ]
  },
  {
   "cell_type": "markdown",
   "metadata": {},
   "source": [
    "ComCam Initialization"
   ]
  },
  {
   "cell_type": "code",
   "execution_count": null,
   "metadata": {},
   "outputs": [],
   "source": [
    "comcam = ComCam(domain=domain)\n",
    "comcam.set_rem_loglevel(40)"
   ]
  },
  {
   "cell_type": "code",
   "execution_count": null,
   "metadata": {},
   "outputs": [],
   "source": [
    "await comcam.start_task"
   ]
  },
  {
   "cell_type": "code",
   "execution_count": null,
   "metadata": {},
   "outputs": [],
   "source": [
    "await comcam.enable()"
   ]
  },
  {
   "cell_type": "markdown",
   "metadata": {},
   "source": [
    "Helper functions: Event callback and telemetry check"
   ]
  },
  {
   "cell_type": "code",
   "execution_count": null,
   "metadata": {},
   "outputs": [],
   "source": [
    "def evt_time_callback(evt):\n",
    "    \"\"\"Print event and time when callback event is received.\"\"\"\n",
    "    evt_time = Time(evt.private_sndStamp, format=\"unix\", scale=\"tai\")\n",
    "    evt_time.format = \"iso\"\n",
    "    evt_name = str(evt.__class__).split('_')[2]\n",
    "    logger.info(f'\\n {evt_name} logevent at {evt_time} is \\n \\t{evt}')"
   ]
  },
  {
   "cell_type": "code",
   "execution_count": null,
   "metadata": {},
   "outputs": [],
   "source": [
    "async def check_efd(topic):\n",
    "    \"\"\" Prints the last EFD published telemetry/event \"\"\"\n",
    "    try:\n",
    "        tel = await client.select_top_n(topic,'*',num=1)\n",
    "        tel_time = Time(tel.private_efdStamp, format=\"unix\", scale=\"utc\")\n",
    "        tel_time.format = \"iso\"\n",
    "        logger.info(f'Last {topic} telemetry at {tel_time[0]} UTC (time now {Time.now()}) was \\n\\n {tel}')\n",
    "        \n",
    "    except: \n",
    "        logger.info(f'{topic} was NOT found at EFD') "
   ]
  },
  {
   "cell_type": "markdown",
   "metadata": {},
   "source": [
    "Publish in the EFD that test is starting"
   ]
  },
  {
   "cell_type": "code",
   "execution_count": null,
   "metadata": {},
   "outputs": [],
   "source": [
    "script.log.info(f'START- {test_case} -- at {Time(datetime.now())}')"
   ]
  },
  {
   "cell_type": "markdown",
   "metadata": {},
   "source": [
    "# Start Up"
   ]
  },
  {
   "cell_type": "markdown",
   "metadata": {},
   "source": [
    "--- \n",
    "## 1: ComCam Startup Procedure\n",
    "LVV-T2239 (1.0) ComCam Startup Procedure"
   ]
  },
  {
   "cell_type": "markdown",
   "metadata": {},
   "source": [
    "---\n",
    "## 2: Available Filters \n",
    "Verify the CCCamera_logevent_availableFilters event is published to the EFD. \n",
    "Note: During the successful start up of the system, this event will be published automatically."
   ]
  },
  {
   "cell_type": "code",
   "execution_count": null,
   "metadata": {},
   "outputs": [],
   "source": [
    "await check_efd('lsst.sal.CCCamera.logevent_availableFilters')"
   ]
  },
  {
   "cell_type": "markdown",
   "metadata": {},
   "source": [
    "---\n",
    "## 3: CCS Command State \n",
    "Initially verify the CCCamera_logevent_ccsCommandState event is publishing to the EFD. \n",
    "\n",
    "As there are no commands at the moment, the CCCamera_logevent_ccsCommandState event publishes IDLE."
   ]
  },
  {
   "cell_type": "code",
   "execution_count": null,
   "metadata": {},
   "outputs": [],
   "source": [
    "await check_efd('lsst.sal.CCCamera.logevent_ccsCommandState')"
   ]
  },
  {
   "cell_type": "markdown",
   "metadata": {},
   "source": [
    "---\n",
    "## 4: Enable Calibration \n",
    "While the ccsCommandState is in IDLE, send a CCCamera_command_enableCalibration command.\n",
    "\n",
    "Note: By default, the CalibrationDetailedState should be in DISABLED. If the CalibrationDetailedState is already in ENABLED, this command will not be accepted.\n",
    "\n",
    "    Results:\n",
    "    The CCCamera_logevent_ccsCommandState event publishes BUSY\n",
    "    The CCCamera_logevent_calibrationDetailedState publishes ENABLED.\n",
    "    The CCCamera_logevent_ccsConfigured event is published to the EFD noting the time at which the state transition occurred. \n",
    "    \n",
    "<b>**** This CCCamera_logevent_ccsConfigured event does not exist, use instead comcam.rem.cccamera.logevent_configurationApplied<b>"
   ]
  },
  {
   "cell_type": "code",
   "execution_count": null,
   "metadata": {},
   "outputs": [],
   "source": [
    "comcam.rem.cccamera.evt_calibrationDetailedState.callback = evt_time_callback\n",
    "comcam.rem.cccamera.evt_ccsCommandState.callback = evt_time_callback   "
   ]
  },
  {
   "cell_type": "code",
   "execution_count": null,
   "metadata": {},
   "outputs": [],
   "source": [
    "# Enable Calibration\n",
    "await comcam.rem.cccamera.cmd_enableCalibration.set_start()"
   ]
  },
  {
   "cell_type": "code",
   "execution_count": null,
   "metadata": {},
   "outputs": [],
   "source": [
    "await check_efd('lsst.sal.CCCamera.logevent_configurationApplied')"
   ]
  },
  {
   "cell_type": "code",
   "execution_count": null,
   "metadata": {},
   "outputs": [],
   "source": [
    "comcam.rem.cccamera.evt_calibrationDetailedState.callback = None\n",
    "comcam.rem.cccamera.evt_ccsCommandState.callback = None   "
   ]
  },
  {
   "cell_type": "markdown",
   "metadata": {},
   "source": [
    "---\n",
    "## 5: Clear Command\n",
    "While the CalibrationDetailedState is in ENABLED,, send a CCCamera_command_clear command.\n",
    "\n",
    "    Deviation: The CCCamera_command_clear no longer operational as part of the latest XML release (v12.0.0).\n",
    "    The detector is automatically cleared every time exposure is taken. Therefore, no separate clearing is needed and the   CCCamera_logevent_RaftsDetailedState is not expected to be published as a result of this command. This step was left in order to verify that the CCCamera_command_clear will not do anything. The CLEARING state will show up after an exposure is taken (See the Image Test below).\n",
    "\n",
    "\n",
    "    Results:\n",
    "    The command is accepted but publishes no events    "
   ]
  },
  {
   "cell_type": "code",
   "execution_count": null,
   "metadata": {},
   "outputs": [],
   "source": [
    "cmd = await comcam.rem.cccamera.cmd_clear.set_start(nClears=2)\n",
    "logger.info(cmd)"
   ]
  },
  {
   "cell_type": "markdown",
   "metadata": {},
   "source": [
    "---\n",
    "## 6: Focal Plane Summary Info\n",
    "Verify the CCCamera_logevent_focalPlaneSummaryInfo event is published to the EFD."
   ]
  },
  {
   "cell_type": "code",
   "execution_count": null,
   "metadata": {},
   "outputs": [],
   "source": [
    "await check_efd('lsst.sal.CCCamera.logevent_focalPlaneSummaryInfo')"
   ]
  },
  {
   "cell_type": "markdown",
   "metadata": {},
   "source": [
    "# Image Test"
   ]
  },
  {
   "cell_type": "markdown",
   "metadata": {},
   "source": [
    "---\n",
    "## 7: Start Image\n",
    "While the CalibrationDetailedState is in ENABLED, send a CCCamera_command_startImage command with the following parameters:\n",
    "\n",
    "                shutter: True\n",
    "                sensors\n",
    "                keyValueMap:\n",
    "                config/requiredKeywords = [groupId, imageType]\n",
    "                obsNote: Any arbitrary string\n",
    "                timeout: 30s\n",
    "\n",
    "    Results:  \n",
    "    The CCCamera_logevent_calibrationDetailedState event publishes INTEGRATING\n",
    "    The CCCamera_logevent_shutterDetailedState event publishes to the EFD updating froom CLOSED to OPEN\n",
    "    A CCCamera_logevent_endShutterOpen event is published at the time the shutter opens\n",
    "    A CCCamera_logevent_startReadout event is published\n",
    "    The CCCamera_logevent_RaftsDetailedState event published to the EFD shows it is in the CLEARING state.\n",
    "    \n",
    "<b> Beware: The next two steps (discardRows and endImage) need to be run while the camera is INTEGRATING (30 s timeout)<b>"
   ]
  },
  {
   "cell_type": "code",
   "execution_count": null,
   "metadata": {},
   "outputs": [],
   "source": [
    "comcam.rem.cccamera.evt_calibrationDetailedState.callback = evt_time_callback\n",
    "comcam.rem.cccamera.evt_shutterDetailedState.callback = evt_time_callback\n",
    "comcam.rem.cccamera.evt_endShutterOpen.callback = evt_time_callback\n",
    "comcam.rem.cccamera.evt_startReadout.callback = evt_time_callback\n",
    "comcam.rem.cccamera.evt_raftsDetailedState.callback = evt_time_callback"
   ]
  },
  {
   "cell_type": "code",
   "execution_count": null,
   "metadata": {},
   "outputs": [],
   "source": [
    "keyValueMap = f'groupId:{Time.now().isot},imageType:ENGTEST'"
   ]
  },
  {
   "cell_type": "code",
   "execution_count": null,
   "metadata": {},
   "outputs": [],
   "source": [
    "# Set parameters\n",
    "comcam.rem.cccamera.cmd_startImage.set(shutter=True, keyValueMap=keyValueMap, timeout=30, obsNote='Test')"
   ]
  },
  {
   "cell_type": "code",
   "execution_count": null,
   "metadata": {},
   "outputs": [],
   "source": [
    "# Start image\n",
    "await comcam.rem.cccamera.cmd_startImage.start()"
   ]
  },
  {
   "cell_type": "markdown",
   "metadata": {},
   "source": [
    "----\n",
    "## 8: Discard Rows \n",
    "While the CalibrationDetailedState is in INTEGRATING, send a CCCamera_command_discardRows command of 2 rows."
   ]
  },
  {
   "cell_type": "code",
   "execution_count": null,
   "metadata": {},
   "outputs": [],
   "source": [
    "cmd = await comcam.rem.cccamera.cmd_discardRows.set_start(2)\n",
    "logger.info(cmd)"
   ]
  },
  {
   "cell_type": "markdown",
   "metadata": {},
   "source": [
    "--- \n",
    "## 9: End Image \n",
    "Before the specified timeout, send a CCCamera_command_endImage command.\n",
    "\n",
    "Note: If the CCCamera_command_endImage command isn't sent before the specified timeout parameter of the previous command, the shutter will close and the command will not be accepted.\n",
    "\n",
    "    Results:\n",
    "    The shutters close \n",
    "    A CCCamera_logevent_imageReadoutParameters event is published\n",
    "    The CCCamera_logevent_shutterDetailedState event publishes to the EFD updating froom OPEN to CLOSED\n",
    "    A CCCamera_logevent_endShutterClose event is published at the time the shutter close\n",
    "    A CCCamera_logevent_endReadout event is published"
   ]
  },
  {
   "cell_type": "code",
   "execution_count": null,
   "metadata": {},
   "outputs": [],
   "source": [
    "comcam.rem.cccamera.evt_imageReadoutParameters.callback = evt_time_callback\n",
    "comcam.rem.cccamera.evt_shutterDetailedState.callback = evt_time_callback\n",
    "comcam.rem.cccamera.evt_endShutterClose.callback = evt_time_callback\n",
    "comcam.rem.cccamera.evt_endReadout.callback = evt_time_callback"
   ]
  },
  {
   "cell_type": "code",
   "execution_count": null,
   "metadata": {},
   "outputs": [],
   "source": [
    "await comcam.rem.cccamera.cmd_endImage.start()"
   ]
  },
  {
   "cell_type": "code",
   "execution_count": null,
   "metadata": {},
   "outputs": [],
   "source": [
    "comcam.rem.cccamera.evt_imageReadoutParameters.callback = None\n",
    "comcam.rem.cccamera.evt_shutterDetailedState.callback = None\n",
    "comcam.rem.cccamera.evt_endShutterClose.callback = None\n",
    "comcam.rem.cccamera.evt_endReadout.callback = None"
   ]
  },
  {
   "cell_type": "code",
   "execution_count": null,
   "metadata": {},
   "outputs": [],
   "source": [
    "# Closing callbacks from startImage.\n",
    "comcam.rem.cccamera.evt_calibrationDetailedState.callback = None\n",
    "comcam.rem.cccamera.evt_shutterDetailedState.callback = None\n",
    "comcam.rem.cccamera.evt_endShutterOpen.callback = None\n",
    "comcam.rem.cccamera.evt_startReadout.callback = None\n",
    "comcam.rem.cccamera.evt_raftsDetailedState.callback = None"
   ]
  },
  {
   "cell_type": "markdown",
   "metadata": {},
   "source": [
    "# Set Filter Tests"
   ]
  },
  {
   "cell_type": "markdown",
   "metadata": {},
   "source": [
    "---\n",
    "## 10: Set Filter\n",
    "Send a CCCamera_command_setFilter command for positionFilter1.\n",
    "\n",
    "Note: The filter being set must be one that was returned by the CCCamera_logevent_availableFilters event and cannot be the filter that is already set.\n",
    "    \n",
    "    Results:\n",
    "    The CCCamera_logevent_startSetFilter event is published to the EFD with the name of the filter being set\n",
    "    The CCCamera_logevent_startLoadFilter event is published to the EFD\n",
    "    The CCCamera_logevent_filterChangerDetailedState event is published to the EFD showing UNLOADED\n",
    "    The CCCamera_logevent_endLoadFilter event is published to the EFD\n",
    "    The CCCamera_logevent_startRotateCarousel event is published to the EFD\n",
    "    The CCCamera_logevent_endRotatorCarousel event is published to the EFD\n",
    "    The CCCamera_logevent_filterChangerDetailedState event is published to the EFD and showing LOADING\n",
    "    The CCCamera_logevent_startLoadFilter event is published to the EFD\n",
    "    The CCCamera_logevent_filterChangerDetailedState event is published to the EFD showing LOADED\n",
    "    The CCCamera_logevent_endSetFilter event is published to the EFD"
   ]
  },
  {
   "cell_type": "code",
   "execution_count": null,
   "metadata": {},
   "outputs": [],
   "source": [
    "await comcam.get_current_filter()"
   ]
  },
  {
   "cell_type": "code",
   "execution_count": null,
   "metadata": {},
   "outputs": [],
   "source": [
    "comcam.rem.cccamera.evt_startSetFilter.callback = evt_time_callback\n",
    "comcam.rem.cccamera.evt_startLoadFilter.callback = evt_time_callback\n",
    "comcam.rem.cccamera.evt_filterChangerDetailedState.callback = evt_time_callback\n",
    "comcam.rem.cccamera.evt_endLoadFilter.callback = evt_time_callback\n",
    "comcam.rem.cccamera.evt_startRotateCarousel.callback = evt_time_callback\n",
    "comcam.rem.cccamera.evt_endRotateCarousel.callback = evt_time_callback\n",
    "comcam.rem.cccamera.evt_endSetFilter.callback = evt_time_callback"
   ]
  },
  {
   "cell_type": "code",
   "execution_count": null,
   "metadata": {},
   "outputs": [],
   "source": [
    "await comcam.rem.cccamera.cmd_setFilter.set_start(name = 'i_06')"
   ]
  },
  {
   "cell_type": "code",
   "execution_count": null,
   "metadata": {},
   "outputs": [],
   "source": [
    "comcam.rem.cccamera.evt_startSetFilter.callback = None\n",
    "comcam.rem.cccamera.evt_startLoadFilter.callback = None\n",
    "comcam.rem.cccamera.evt_filterChangerDetailedState.callback = None\n",
    "comcam.rem.cccamera.evt_endLoadFilter.callback = None\n",
    "comcam.rem.cccamera.evt_startRotateCarousel.callback = None\n",
    "comcam.rem.cccamera.evt_endRotateCarousel.callback = None\n",
    "comcam.rem.cccamera.evt_endSetFilter.callback = None"
   ]
  },
  {
   "cell_type": "code",
   "execution_count": null,
   "metadata": {},
   "outputs": [],
   "source": [
    "await comcam.get_current_filter()"
   ]
  },
  {
   "cell_type": "markdown",
   "metadata": {},
   "source": [
    "---\n",
    "## 11: Set Filter to None \n",
    "Send a CCCamera_command_setFilter command with NONE.\n",
    "\n",
    "Note: This indicates that the loaded filter should be unloaded. However, this will only work if one of the filter positions is EMPTY. If there are no filter positions that are empty, we expect this step to fail.\n",
    "\n",
    "    Results:\n",
    "    The CCCamera_logevent_startSetFilter event is published to the EFD with the name of the filter being set\n",
    "    The CCCamera_logevent_startUnloadFilter event is published to the EFD\n",
    "    The CCCamera_logevent_filterChangerDetailedState event is published to the EFD showing UNLOADING\n",
    "    The CCCamera_logevent_endUnloadFilter event is published to the EFD\n",
    "    The CCCamera_logevent_filterChangerDetailedState event is published to the EFD \n",
    "    The CCCamera_logevent_endSetFilter event is published to the EFD"
   ]
  },
  {
   "cell_type": "code",
   "execution_count": null,
   "metadata": {},
   "outputs": [],
   "source": [
    "comcam.rem.cccamera.evt_startSetFilter.callback = evt_time_callback\n",
    "comcam.rem.cccamera.evt_startUnloadFilter.callback = evt_time_callback\n",
    "comcam.rem.cccamera.evt_filterChangerDetailedState.callback = evt_time_callback\n",
    "comcam.rem.cccamera.evt_endUnloadFilter.callback = evt_time_callback\n",
    "comcam.rem.cccamera.evt_endSetFilter.callback = evt_time_callback"
   ]
  },
  {
   "cell_type": "code",
   "execution_count": null,
   "metadata": {},
   "outputs": [],
   "source": [
    "await comcam.rem.cccamera.cmd_setFilter.set_start(name = 'None')"
   ]
  },
  {
   "cell_type": "code",
   "execution_count": null,
   "metadata": {},
   "outputs": [],
   "source": [
    "comcam.rem.cccamera.evt_startSetFilter.callback = None\n",
    "comcam.rem.cccamera.evt_startUnloadFilter.callback = None\n",
    "comcam.rem.cccamera.evt_filterChangerDetailedState.callback = None\n",
    "comcam.rem.cccamera.evt_endUnloadFilter.callback = None\n",
    "comcam.rem.cccamera.evt_endSetFilter.callback = None"
   ]
  },
  {
   "cell_type": "markdown",
   "metadata": {},
   "source": [
    "# Take Image test"
   ]
  },
  {
   "cell_type": "markdown",
   "metadata": {},
   "source": [
    "--- \n",
    "## 12: Init Image\n",
    "While in the ENABLED state, send a CCCamera_command_initImage command of 15s.\n",
    "\n",
    "Note: This deltaT value is an estimate of time before sending the CCCamera_command_takeImage command. If the command can be sent sooner/later, adjust the deltaT value.\n",
    "\n",
    "    Results: \n",
    "    The command is accepted\n",
    "    The CCCamera_logevent_ImageReadinesDetailedState event is published to the EFD showing the system transitions into the Getting_Ready state\n",
    "    A CCCamera_logevent_prepareToTakeImage event is published to the EFD at the time of the transition\n",
    "    A CCCamera_logevent_NotReadyToTakeImage event is published before reaching the Ready state.\n",
    "    \n",
    "    \n",
    "<b> **** Not available at EFD `comcam.rem.cccamera.evt_prepareToTakeImage` & `comcam.rem.cccamera.evt_notReadyToTakeImage` <b>"
   ]
  },
  {
   "cell_type": "code",
   "execution_count": null,
   "metadata": {},
   "outputs": [],
   "source": [
    "comcam.rem.cccamera.evt_imageReadinessDetailedState.callback = evt_time_callback\n",
    "comcam.rem.cccamera.evt_prepareToTakeImage.callback = evt_time_callback\n",
    "comcam.rem.cccamera.evt_notReadyToTakeImage.callback = evt_time_callback"
   ]
  },
  {
   "cell_type": "code",
   "execution_count": null,
   "metadata": {},
   "outputs": [],
   "source": [
    "await comcam.rem.cccamera.cmd_initImage.set_start(deltaT = 15)"
   ]
  },
  {
   "cell_type": "code",
   "execution_count": null,
   "metadata": {},
   "outputs": [],
   "source": [
    "comcam.rem.cccamera.evt_imageReadinessDetailedState.callback = None\n",
    "comcam.rem.cccamera.evt_prepareToTakeImage.callback = None\n",
    "comcam.rem.cccamera.evt_notReadyToTakeImage.callback = None"
   ]
  },
  {
   "cell_type": "markdown",
   "metadata": {},
   "source": [
    "---\n",
    "##  13: Ready to take image.  \n",
    "Verify the Camera is ready to take a picture.\n",
    "    \n",
    "    Results:\n",
    "    The CCCamera_logevent_ImageReadinesDetailedState event is published to the EFD showing the system transitions into the Ready state\n",
    "    A CCCamera_logevent_readyToTakeImage event is published to the EFD at the time of the transition\n",
    "    A CCCamera_logevent_endInitializeImage event is published to the EFD at the time of the transition\n",
    "    \n",
    "<b> **** Not available at EFD `comcam.rem.cccamera.evt_readyToTakeImage` & `comcam.rem.cccamera.evt_endInitializeImage` <b>"
   ]
  },
  {
   "cell_type": "code",
   "execution_count": null,
   "metadata": {},
   "outputs": [],
   "source": [
    "await check_efd('lsst.sal.CCCamera.logevent_imageReadinessDetailedState')"
   ]
  },
  {
   "cell_type": "code",
   "execution_count": null,
   "metadata": {},
   "outputs": [],
   "source": [
    "await check_efd('lsst.sal.CCCamera.logevent_readyToTakeImage')"
   ]
  },
  {
   "cell_type": "code",
   "execution_count": null,
   "metadata": {},
   "outputs": [],
   "source": [
    "await check_efd('lsst.sal.CCCamera.logevent_endInitializeImage')"
   ]
  },
  {
   "cell_type": "markdown",
   "metadata": {},
   "source": [
    "---\n",
    "## 14: Take Images\n",
    "With the Camera ready to take a picture, send the CCCamera_command_takeImages command.\n",
    "\n",
    "    Results:\n",
    "    A CCCamera_logevent_startIntegration event is published to the EFD\n",
    "    A CCCamera_logevent_startShutterOpen event is published to the EFD.\n",
    "    A CCCamera_logevent_endShutterOpen event is published to the EFD.\n",
    "    The Camera publishes a CCCamera_logevent_startShutterClose event as the camera shutter starts to shut\n",
    "    The Camera publishes a CCCamera_logevent_endShutterClose event when the camera shutter is closed\n",
    "    A CCCamera_logevent_startReadout event is published\n",
    "    A CCCamera_logevent_endReadout event is published"
   ]
  },
  {
   "cell_type": "code",
   "execution_count": null,
   "metadata": {},
   "outputs": [],
   "source": [
    "comcam.rem.cccamera.evt_startIntegration.callback = evt_time_callback\n",
    "comcam.rem.cccamera.evt_startShutterOpen.callback = evt_time_callback\n",
    "comcam.rem.cccamera.evt_endShutterOpen.callback = evt_time_callback\n",
    "comcam.rem.cccamera.evt_startShutterClose.callback = evt_time_callback\n",
    "comcam.rem.cccamera.evt_endShutterClose.callback = evt_time_callback\n",
    "comcam.rem.cccamera.evt_startReadout.callback = evt_time_callback\n",
    "comcam.rem.cccamera.evt_endReadout.callback = evt_time_callback"
   ]
  },
  {
   "cell_type": "code",
   "execution_count": null,
   "metadata": {},
   "outputs": [],
   "source": [
    "keyValueMap = f'groupId:{Time.now().isot},imageType:ENGTEST'"
   ]
  },
  {
   "cell_type": "code",
   "execution_count": null,
   "metadata": {},
   "outputs": [],
   "source": [
    "# Set parameters\n",
    "comcam.rem.cccamera.cmd_takeImages.set(shutter=True, keyValueMap=keyValueMap, numImages=1, expTime=20, obsNote = 'Test')"
   ]
  },
  {
   "cell_type": "code",
   "execution_count": null,
   "metadata": {},
   "outputs": [],
   "source": [
    "await comcam.rem.cccamera.cmd_takeImages.start()"
   ]
  },
  {
   "cell_type": "code",
   "execution_count": null,
   "metadata": {},
   "outputs": [],
   "source": [
    "comcam.rem.cccamera.evt_startIntegration.callback = None\n",
    "comcam.rem.cccamera.evt_startShutterOpen.callback = None\n",
    "comcam.rem.cccamera.evt_endShutterOpen.callback = None\n",
    "comcam.rem.cccamera.evt_startShutterClose.callback = None\n",
    "comcam.rem.cccamera.evt_endShutterClose.callback = None\n",
    "comcam.rem.cccamera.evt_startReadout.callback = None\n",
    "comcam.rem.cccamera.evt_endReadout.callback = None"
   ]
  },
  {
   "cell_type": "markdown",
   "metadata": {},
   "source": [
    "---\n",
    "## 15: Camera is done taking images \n",
    "Verify the Camera is done taking pictures.\n",
    "\n",
    "    Results:\n",
    "    A CCCamera_logevent_endTakeImage event is published to the EFD at the time the state transition occurs.\n",
    "    A CCCamera_logevent_endOfImageTelemetry event is published\n",
    "    \n",
    "<b> **** Not available at EFD `comcam.rem.cccamera.evt_endTakeImage`  <b>"
   ]
  },
  {
   "cell_type": "code",
   "execution_count": null,
   "metadata": {},
   "outputs": [],
   "source": [
    "await check_efd('lsst.sal.CCCamera.logevent_endTakeImage')"
   ]
  },
  {
   "cell_type": "code",
   "execution_count": null,
   "metadata": {},
   "outputs": [],
   "source": [
    "await check_efd('lsst.sal.CCCamera.logevent_endofImageTelemetry')"
   ]
  },
  {
   "cell_type": "markdown",
   "metadata": {},
   "source": [
    "# Guiders Image Test"
   ]
  },
  {
   "cell_type": "markdown",
   "metadata": {},
   "source": [
    "---\n",
    "## 16: Init Image\n",
    "\n",
    "While in the ENABLED state, send a CCCamera_command_initImage command of 15s.\n",
    "\n",
    "    Results:\n",
    "    The command is accepted\n",
    "    The CCCamera_logevent_ImageReadinesDetailedState event is published to the EFD showing the system transitions into the Getting_Ready state\n",
    "    A CCCamera_logevent_prepareToTakeImage event is published to the EFD at the time of the transition\n",
    "    A CCCamera_logevent_NotReadyToTakeImage event is published before reaching the Ready state."
   ]
  },
  {
   "cell_type": "code",
   "execution_count": null,
   "metadata": {},
   "outputs": [],
   "source": [
    "comcam.rem.cccamera.evt_imageReadinessDetailedState.callback = evt_time_callback\n",
    "comcam.rem.cccamera.evt_prepareToTakeImage.callback = evt_time_callback\n",
    "comcam.rem.cccamera.evt_notReadyToTakeImage.callback = evt_time_callback"
   ]
  },
  {
   "cell_type": "code",
   "execution_count": null,
   "metadata": {},
   "outputs": [],
   "source": [
    "await comcam.rem.cccamera.cmd_initImage.set_start(deltaT = 15)"
   ]
  },
  {
   "cell_type": "code",
   "execution_count": null,
   "metadata": {},
   "outputs": [],
   "source": [
    "comcam.rem.cccamera.evt_imageReadinessDetailedState.callback = None\n",
    "comcam.rem.cccamera.evt_prepareToTakeImage.callback = None\n",
    "comcam.rem.cccamera.evt_notReadyToTakeImage.callback = None"
   ]
  },
  {
   "cell_type": "markdown",
   "metadata": {},
   "source": [
    "---\n",
    "## 17: Ready to take image \n",
    "Verify the Camera is ready to take a picture.\n",
    "\n",
    "    Results:\n",
    "    The CCCamera_logevent_ImageReadinesDetailedState event is published to the EFD showing the system transitions into the Ready state\n",
    "    A CCCamera_logevent_readyToTakeImage event is published to the EFD at the time of the transition\n",
    "    A CCCamera_logevent_endInitializeImage event is published to the EFD at the time of the transition"
   ]
  },
  {
   "cell_type": "code",
   "execution_count": null,
   "metadata": {},
   "outputs": [],
   "source": [
    "await check_efd('lsst.sal.CCCamera.logevent_imageReadinessDetailedState')"
   ]
  },
  {
   "cell_type": "code",
   "execution_count": null,
   "metadata": {},
   "outputs": [],
   "source": [
    "await check_efd('lsst.sal.CCCamera.logevent_readyToTakeImage')"
   ]
  },
  {
   "cell_type": "code",
   "execution_count": null,
   "metadata": {},
   "outputs": [],
   "source": [
    "await check_efd('lsst.sal.CCCamera.logevent_endInitializeImage')"
   ]
  },
  {
   "cell_type": "markdown",
   "metadata": {},
   "source": [
    "---\n",
    "## 18: Init Guider \n",
    "Send a CCCamera_command_initGuider command.\n",
    "\n",
    "Note: Guider Implementation is not complete and so the use of this command at the moment will result in a fail.\n",
    "\n",
    "    Results:\n",
    "    An CCCamera_logevent_endInitializeGuider event is published to the EFD.\n",
    "\n",
    "<b> **** Missing at EFD `comcam.rem.cccamera.evt_endInitializeGuider` <b>"
   ]
  },
  {
   "cell_type": "code",
   "execution_count": null,
   "metadata": {},
   "outputs": [],
   "source": [
    "comcam.rem.cccamera.evt_endInitializeGuider.callback = evt_time_callback"
   ]
  },
  {
   "cell_type": "code",
   "execution_count": null,
   "metadata": {},
   "outputs": [],
   "source": [
    "await comcam.rem.cccamera.cmd_initGuiders.set_start()"
   ]
  },
  {
   "cell_type": "code",
   "execution_count": null,
   "metadata": {},
   "outputs": [],
   "source": [
    "comcam.rem.cccamera.evt_endInitializeGuider.callback = None"
   ]
  },
  {
   "cell_type": "markdown",
   "metadata": {},
   "source": [
    "---\n",
    "## 19: Take Images\n",
    "With the Camera ready to take a picture, send the CCCamera_command_takeImages command.\n",
    "\n",
    "    Results:\n",
    "    A CCCamera_logevent_startIntegration event is published to the EFD\n",
    "    A CCCamera_logevent_startShutterOpen event is published to the EFD.\n",
    "    A CCCamera_logevent_endShutterOpen event is published to the EFD.\n",
    "    The Camera publishes a CCCamera_logevent_startShutterClose event as the camera shutter starts to shut\n",
    "    The Camera publishes a CCCamera_logevent_endShutterClose event when the camera shutter is closed\n",
    "    A CCCamera_logevent_startReadout event is published\n",
    "    A CCCamera_logevent_endReadout event is published"
   ]
  },
  {
   "cell_type": "code",
   "execution_count": null,
   "metadata": {},
   "outputs": [],
   "source": [
    "comcam.rem.cccamera.evt_startIntegration.callback = evt_time_callback\n",
    "comcam.rem.cccamera.evt_startShutterOpen.callback = evt_time_callback\n",
    "comcam.rem.cccamera.evt_endShutterOpen.callback = evt_time_callback\n",
    "comcam.rem.cccamera.evt_startShutterClose.callback = evt_time_callback\n",
    "comcam.rem.cccamera.evt_endShutterClose.callback = evt_time_callback\n",
    "comcam.rem.cccamera.evt_startReadout.callback = evt_time_callback\n",
    "comcam.rem.cccamera.evt_endReadout.callback = evt_time_callback"
   ]
  },
  {
   "cell_type": "code",
   "execution_count": null,
   "metadata": {},
   "outputs": [],
   "source": [
    "keyValueMap = f'groupId:{Time.now().isot},imageType:ENGTEST'"
   ]
  },
  {
   "cell_type": "code",
   "execution_count": null,
   "metadata": {},
   "outputs": [],
   "source": [
    "# Set parameters\n",
    "comcam.rem.cccamera.cmd_takeImages.set(shutter=True, keyValueMap=keyValueMap, numImages=1, expTime=20, obsNote= 'test')"
   ]
  },
  {
   "cell_type": "code",
   "execution_count": null,
   "metadata": {},
   "outputs": [],
   "source": [
    "await comcam.rem.cccamera.cmd_takeImages.start()"
   ]
  },
  {
   "cell_type": "code",
   "execution_count": null,
   "metadata": {},
   "outputs": [],
   "source": [
    "comcam.rem.cccamera.evt_startIntegration.callback = None\n",
    "comcam.rem.cccamera.evt_startShutterOpen.callback = None\n",
    "comcam.rem.cccamera.evt_endShutterOpen.callback = None\n",
    "comcam.rem.cccamera.evt_startShutterClose.callback = None\n",
    "comcam.rem.cccamera.evt_endShutterClose.callback = None\n",
    "comcam.rem.cccamera.evt_startReadout.callback = None\n",
    "comcam.rem.cccamera.evt_endReadout.callback = None"
   ]
  },
  {
   "cell_type": "markdown",
   "metadata": {},
   "source": [
    "---\n",
    "## 20: Camera is done taking images \n",
    "Verify the Camera is done taking pictures.\n",
    "\n",
    "    Results:\n",
    "    A CCCamera_logevent_endTakeImage event is published to the EFD at the time the state transition occurs.\n",
    "    A CCCamera_logevent_endOfImageTelemetry event is published"
   ]
  },
  {
   "cell_type": "code",
   "execution_count": null,
   "metadata": {},
   "outputs": [],
   "source": [
    "await check_efd('lsst.sal.CCCamera.logevent_endTakeImage')"
   ]
  },
  {
   "cell_type": "code",
   "execution_count": null,
   "metadata": {},
   "outputs": [],
   "source": [
    "await check_efd('lsst.sal.CCCamera.logevent_endofImageTelemetry')"
   ]
  },
  {
   "cell_type": "markdown",
   "metadata": {},
   "source": [
    "# Check Events in EFD"
   ]
  },
  {
   "cell_type": "markdown",
   "metadata": {},
   "source": [
    "---\n",
    "## 21: Image Visualization\n",
    "Verify the CCCamera_logevent_imageVisualization event is not published into the EFD.    \n",
    "\n",
    "Note: Although this is defined in the latest XML release, this event is not currently implemented and is not expected to be generated to the EFD."
   ]
  },
  {
   "cell_type": "code",
   "execution_count": null,
   "metadata": {},
   "outputs": [],
   "source": [
    "await check_efd('lsst.sal.CCCamera.logevent_imageVisualization')"
   ]
  },
  {
   "cell_type": "markdown",
   "metadata": {
    "tags": []
   },
   "source": [
    "---\n",
    "## 22: Image Stored \n",
    "Verify the CCCamera_logevent_imageStored event is not published into the EFD.\n",
    "\n",
    "\n",
    "Note: Although this is defined in the latest XML release, this event is not currently implemented and is not expected to be generated to the EFD."
   ]
  },
  {
   "cell_type": "code",
   "execution_count": null,
   "metadata": {},
   "outputs": [],
   "source": [
    "await check_efd('lsst.sal.CCCamera.logevent_imageStored')"
   ]
  },
  {
   "cell_type": "markdown",
   "metadata": {},
   "source": [
    "# Stop Command"
   ]
  },
  {
   "cell_type": "markdown",
   "metadata": {},
   "source": [
    "---\n",
    "## 23: Set Filter\n",
    "\n",
    "\n",
    "While in the ENABLED state, send CCCamera_command_setFilter command for positionFilter1.\n",
    "    \n",
    "    Results:\n",
    "    The CCCamera_logevent_startSetFilter is published to the EFD with the name of the filter being set\n",
    "    \n",
    "    \n",
    "The next step `24: Stop` should be run right after this one, so the first `setFilter` command can be stopped as it'll be run in the BG. "
   ]
  },
  {
   "cell_type": "code",
   "execution_count": null,
   "metadata": {},
   "outputs": [],
   "source": [
    "await comcam.get_current_filter()"
   ]
  },
  {
   "cell_type": "code",
   "execution_count": null,
   "metadata": {},
   "outputs": [],
   "source": [
    "comcam.rem.cccamera.evt_startSetFilter.callback = evt_time_callback\n",
    "comcam.rem.cccamera.evt_endSetFilter.callback = evt_time_callback"
   ]
  },
  {
   "cell_type": "code",
   "execution_count": null,
   "metadata": {},
   "outputs": [],
   "source": [
    "comcam.rem.cccamera.cmd_setFilter.set_start(name = 'r_03')"
   ]
  },
  {
   "cell_type": "markdown",
   "metadata": {},
   "source": [
    "---\n",
    "## 24: Stop \n",
    "Before an CCCamera_logevent_endSetFilter event is published, send a CCCamera_command_stop command.\n",
    "\n",
    "Note: The CCCamera_command_setFilter command will stop once it is safe to do so. The CCCamera_command_stop command may not stop the filter from being set if the command was given while in an unsafe position.\n",
    "\n",
    "    Results:\n",
    "    The command is accepted\n",
    "    The CCCamera_logevent_endSetFilter event shows that no filter has been set"
   ]
  },
  {
   "cell_type": "code",
   "execution_count": null,
   "metadata": {},
   "outputs": [],
   "source": [
    "comcam.rem.cccamera.cmd_stop.set_start()"
   ]
  },
  {
   "cell_type": "code",
   "execution_count": null,
   "metadata": {},
   "outputs": [],
   "source": [
    "comcam.rem.cccamera.evt_startSetFilter.callback = None\n",
    "comcam.rem.cccamera.evt_endSetFilter.callback = None"
   ]
  },
  {
   "cell_type": "code",
   "execution_count": null,
   "metadata": {},
   "outputs": [],
   "source": [
    "await comcam.get_current_filter()"
   ]
  },
  {
   "cell_type": "markdown",
   "metadata": {},
   "source": [
    "---\n",
    "## 25: Start Image\n",
    "While the CalibrationDetailedState is in ENABLED, send a CCCamera_command_startImage command with the following parameters:\n",
    "\n",
    "                        shutter: True\n",
    "                        sensors\n",
    "                        keyValueMap\n",
    "                        obsNote: Any arbitrary string\n",
    "                        timeout: 30s\n",
    "\n",
    "The next step `26: Stop` should be run right after this one, so the first `setFilter` command can be stopped as it'll be run in the BG. "
   ]
  },
  {
   "cell_type": "code",
   "execution_count": null,
   "metadata": {},
   "outputs": [],
   "source": [
    "await check_efd('lsst.sal.CCCamera.logevent_calibrationDetailedState')"
   ]
  },
  {
   "cell_type": "code",
   "execution_count": null,
   "metadata": {},
   "outputs": [],
   "source": [
    "keyValueMap = f'groupId:{Time.now().isot},imageType:ENGTEST'"
   ]
  },
  {
   "cell_type": "code",
   "execution_count": null,
   "metadata": {},
   "outputs": [],
   "source": [
    "# Set parameters\n",
    "comcam.rem.cccamera.cmd_startImage.set(shutter=True, keyValueMap=keyValueMap, timeout=30, obsNote='Test')"
   ]
  },
  {
   "cell_type": "code",
   "execution_count": null,
   "metadata": {},
   "outputs": [],
   "source": [
    "# Start image\n",
    "await comcam.rem.cccamera.cmd_startImage.start()"
   ]
  },
  {
   "cell_type": "markdown",
   "metadata": {},
   "source": [
    "---\n",
    "## 26: Stop \n",
    "Before the specified timeout, send a CCCamera_command_stop command.\n",
    "\n",
    "    Results:\n",
    "    The previous CCCamera_command_startImage command is abandoned."
   ]
  },
  {
   "cell_type": "code",
   "execution_count": null,
   "metadata": {},
   "outputs": [],
   "source": [
    "# Start integration event\n",
    "await check_efd('lsst.sal.CCCamera.logevent_startIntegration')"
   ]
  },
  {
   "cell_type": "code",
   "execution_count": null,
   "metadata": {},
   "outputs": [],
   "source": [
    "stop = comcam.rem.cccamera.cmd_stop.set_start()\n",
    "logger.info(f'{stop} at {Time.now()}')"
   ]
  },
  {
   "cell_type": "code",
   "execution_count": null,
   "metadata": {},
   "outputs": [],
   "source": [
    "await check_efd('lsst.sal.CCCamera.logevent_endOfImageTelemetry')"
   ]
  },
  {
   "cell_type": "markdown",
   "metadata": {},
   "source": [
    "# Playlist Test - only valid when using emulated DAQ"
   ]
  },
  {
   "cell_type": "markdown",
   "metadata": {},
   "source": [
    "---\n",
    "## 27: Create playlist\n",
    "Send a CCCamera_command_playList command of the playlist to be defined and the current folder of where the images exist.\n",
    "\n",
    "    Results:\n",
    "    The command is accepted and a playlist is created.\n",
    "    \n",
    "See more details on the syntax to create a playlist \n",
    "https://ts-xml.lsst.io/sal_interfaces/CCCamera.html "
   ]
  },
  {
   "cell_type": "code",
   "execution_count": null,
   "metadata": {},
   "outputs": [],
   "source": [
    "await comcam.rem.cccamera.cmd_playlist.set_start(playlist='test.playlist', folder =  , images = :)"
   ]
  },
  {
   "cell_type": "markdown",
   "metadata": {},
   "source": [
    "---\n",
    "## 28: Play playlist in repeat \n",
    "Send a CCCamera_command_play coommand of the playlist and an input of true for the repeat parameter.\n",
    "    \n",
    "    Results:\n",
    "    The command is accepted\n",
    "    The playlist is played and repeats"
   ]
  },
  {
   "cell_type": "code",
   "execution_count": null,
   "metadata": {},
   "outputs": [],
   "source": [
    "await comcam.rem.cccamera.cmd_play.set_start(playlist='tiago-1.playlist', repeat =True)"
   ]
  },
  {
   "cell_type": "markdown",
   "metadata": {},
   "source": [
    "# Disable Calibration "
   ]
  },
  {
   "cell_type": "markdown",
   "metadata": {},
   "source": [
    "---\n",
    "##  29: Disable Calibraiton\n",
    "With the Summary State of the Camera in ENABLED and the CalibrationDetailedState in ENABLED, send a CCCamera_command_disableCalibration command.\n",
    "\n",
    "    Results:\n",
    "    The  CCCamera_logevent_CalibrationDetailedState event publishes DISABLED."
   ]
  },
  {
   "cell_type": "code",
   "execution_count": null,
   "metadata": {},
   "outputs": [],
   "source": [
    "comcam.rem.cccamera.evt_calibrationDetailedState.callback = evt_time_callback"
   ]
  },
  {
   "cell_type": "code",
   "execution_count": null,
   "metadata": {},
   "outputs": [],
   "source": [
    "await comcam.rem.cccamera.cmd_disableCalibration.set_start()"
   ]
  },
  {
   "cell_type": "code",
   "execution_count": null,
   "metadata": {},
   "outputs": [],
   "source": [
    "comcam.rem.cccamera.evt_calibrationDetailedState.callback = None"
   ]
  },
  {
   "cell_type": "markdown",
   "metadata": {},
   "source": [
    "--- \n",
    "# EFD Events"
   ]
  },
  {
   "cell_type": "markdown",
   "metadata": {},
   "source": [
    "---\n",
    "## 31: Shutter Blade Motion Profile Event\n",
    "Verify the CCCamera_logevent_ShutterBladeMotionProfile event is not published to the EFD.\n",
    "\n",
    "Note: Although this is defined in the latest XML release, this event is not currently implemented and is not expected to be generated to the EFD."
   ]
  },
  {
   "cell_type": "code",
   "execution_count": null,
   "metadata": {},
   "outputs": [],
   "source": [
    "await check_efd('lsst.sal.CCCamera.evt_shutterBladeMotionProfile')"
   ]
  },
  {
   "cell_type": "markdown",
   "metadata": {},
   "source": [
    "---\n",
    "## 32: Fits Files Written Event\n",
    "Verify the CCCamera_logevent_fitsFilesWritten event is not published to the EFD.\n",
    "\n",
    "Note: Although this is defined in the latest XML release, this event is not currently implemented and is not expected to be generated to the EFD."
   ]
  },
  {
   "cell_type": "code",
   "execution_count": null,
   "metadata": {},
   "outputs": [],
   "source": [
    "await check_efd('lsst.sal.CCCamera.logevent_fitsFilesWritten')"
   ]
  },
  {
   "cell_type": "markdown",
   "metadata": {},
   "source": [
    "---\n",
    "## 32: File Command Execution Event\n",
    "Verify the CCCamera_logevent_FileCommandExecution event is not published to the EFD.\n",
    "\n",
    "Note: Although this is defined in the latest XML release, this event is not currently implemented and is not expected to be generated to the EFD."
   ]
  },
  {
   "cell_type": "code",
   "execution_count": null,
   "metadata": {},
   "outputs": [],
   "source": [
    "await check_efd('lsst.sal.CCCamera.logevent_FileCommandExecution')"
   ]
  },
  {
   "cell_type": "markdown",
   "metadata": {},
   "source": [
    "# EFD Telemetry"
   ]
  },
  {
   "cell_type": "markdown",
   "metadata": {},
   "source": [
    "---\n",
    "## 33: FCS\n",
    "Verify the CCCamera_fcs telemetry data is being published to the EFD."
   ]
  },
  {
   "cell_type": "code",
   "execution_count": null,
   "metadata": {},
   "outputs": [],
   "source": [
    "await check_efd('lsst.sal.CCCamera.fcs')"
   ]
  },
  {
   "cell_type": "markdown",
   "metadata": {},
   "source": [
    "---\n",
    "## 34: Bonn Shutter Device\n",
    "Verify the CCCamera_bonn_shutter_Device telemetry data is being published to the EFD."
   ]
  },
  {
   "cell_type": "code",
   "execution_count": null,
   "metadata": {},
   "outputs": [],
   "source": [
    "await check_efd('lsst.sal.CCCamera.bonn_shutter_Device')"
   ]
  },
  {
   "cell_type": "markdown",
   "metadata": {},
   "source": [
    "---\n",
    "## 35: DAQ Monitor Store\n",
    "Verify the CCCamera_daq_monitor_Store telemetry data is being published to the EFD."
   ]
  },
  {
   "cell_type": "code",
   "execution_count": null,
   "metadata": {},
   "outputs": [],
   "source": [
    "await check_efd('lsst.sal.CCCamera.daq_monitor_Store')"
   ]
  },
  {
   "cell_type": "markdown",
   "metadata": {},
   "source": [
    "---\n",
    "## 36: Rebpower REB\n",
    "Verify the CCCamera_rebpower_Reb telemetry data is being published to the EFD."
   ]
  },
  {
   "cell_type": "code",
   "execution_count": null,
   "metadata": {},
   "outputs": [],
   "source": [
    "await check_efd('lsst.sal.CCCamera.rebpower_Reb')"
   ]
  },
  {
   "cell_type": "markdown",
   "metadata": {},
   "source": [
    "---\n",
    "## 37: Rebpower REBPS \n",
    "Verify the CCCamera_rebpower_Rebps telemetry data is being published to the EFD."
   ]
  },
  {
   "cell_type": "code",
   "execution_count": null,
   "metadata": {},
   "outputs": [],
   "source": [
    "await check_efd('lsst.sal.CCCamera.rebpower_Rebps')"
   ]
  },
  {
   "cell_type": "markdown",
   "metadata": {},
   "source": [
    "---\n",
    "## 38: Vacumm Cold1\n",
    "Verify the CCCamera_vacuum_Cold1 telemetry data is being published to the EFD."
   ]
  },
  {
   "cell_type": "code",
   "execution_count": null,
   "metadata": {},
   "outputs": [],
   "source": [
    "await check_efd('lsst.sal.CCCamera.vacuum_Cold1')"
   ]
  },
  {
   "cell_type": "markdown",
   "metadata": {},
   "source": [
    "---\n",
    "## 39: Vacuum Cold2 \n",
    "Verify the CCCamera_vacuum_Cold2 telemetry data is being published to the EFD."
   ]
  },
  {
   "cell_type": "code",
   "execution_count": null,
   "metadata": {},
   "outputs": [],
   "source": [
    "await check_efd('lsst.sal.CCCamera.vacuum_Cold2')"
   ]
  },
  {
   "cell_type": "markdown",
   "metadata": {},
   "source": [
    "---\n",
    "## 40: Vacuum Cryo \n",
    "Verify the CCCamera_vacuum_Cryo telemetry data is being published to the EFD."
   ]
  },
  {
   "cell_type": "code",
   "execution_count": null,
   "metadata": {},
   "outputs": [],
   "source": [
    "await check_efd('lsst.sal.CCCamera.vacuum_Cryo')"
   ]
  },
  {
   "cell_type": "markdown",
   "metadata": {},
   "source": [
    "---\n",
    "## 41: Vacuum IonPumps\n",
    "Verify the CCCamera_vacuum_IonPumps telemetry data is being published to the EFD."
   ]
  },
  {
   "cell_type": "code",
   "execution_count": null,
   "metadata": {},
   "outputs": [],
   "source": [
    "await check_efd('lsst.sal.CCCamera.vacuum_IonPumps')"
   ]
  },
  {
   "cell_type": "markdown",
   "metadata": {},
   "source": [
    "---\n",
    "## 42: Vacuum RTDS\n",
    "Verify the CCCamera_vacuum_Rtds telemetry data is being published to the EFD."
   ]
  },
  {
   "cell_type": "code",
   "execution_count": null,
   "metadata": {},
   "outputs": [],
   "source": [
    "await check_efd('lsst.sal.CCCamera.vacuum_Rtds')"
   ]
  },
  {
   "cell_type": "markdown",
   "metadata": {},
   "source": [
    "---\n",
    "## 43: Vacuum Turbo\n",
    "Verify the CCCamera_vacuum_Turbo telemetry data is being published to the EFD."
   ]
  },
  {
   "cell_type": "code",
   "execution_count": null,
   "metadata": {},
   "outputs": [],
   "source": [
    "await check_efd('lsst.sal.CCCamera.vacuum_Turbo')"
   ]
  },
  {
   "cell_type": "markdown",
   "metadata": {},
   "source": [
    "---\n",
    "## 44: Vacuum VQMonitor\n",
    "Verify the CCCamera_vacuum_VQMonitor telemetry data is being published to the EFD."
   ]
  },
  {
   "cell_type": "code",
   "execution_count": null,
   "metadata": {},
   "outputs": [],
   "source": [
    "await check_efd('lsst.sal.CCCamera.vacuum_VQMonitor')"
   ]
  },
  {
   "cell_type": "markdown",
   "metadata": {},
   "source": [
    "---\n",
    "## 45: Quadbox BFR\n",
    "Verify the CCCamera_quadbox_BFR telemetry data is being published to the EFD."
   ]
  },
  {
   "cell_type": "code",
   "execution_count": null,
   "metadata": {},
   "outputs": [],
   "source": [
    "await check_efd('lsst.sal.CCCamera.quadbox_BFR')"
   ]
  },
  {
   "cell_type": "markdown",
   "metadata": {},
   "source": [
    "---\n",
    "## 46: Quadbox PDU 24VD \n",
    "Verify the CCCamera_quadbox_PDU_24VD telemetry data is being published to the EFD."
   ]
  },
  {
   "cell_type": "code",
   "execution_count": null,
   "metadata": {},
   "outputs": [],
   "source": [
    "await check_efd('lsst.sal.CCCamera.quadbox_PDU_24VD')"
   ]
  },
  {
   "cell_type": "markdown",
   "metadata": {},
   "source": [
    "---\n",
    "## 47: Quadbox PDF 24VDC\n",
    "Verify the CCCamera_quadbox_PDU_24VDC telemetry data is being published to the EFD."
   ]
  },
  {
   "cell_type": "code",
   "execution_count": null,
   "metadata": {},
   "outputs": [],
   "source": [
    "await check_efd('lsst.sal.CCCamera.quadbox_PDU_24VC')"
   ]
  },
  {
   "cell_type": "markdown",
   "metadata": {},
   "source": [
    "---\n",
    "## 48: Quadbox PDU 48V \n",
    "Verify the CCCamera_quadbox_PDU_48V telemetry data is being published to the EFD."
   ]
  },
  {
   "cell_type": "code",
   "execution_count": null,
   "metadata": {},
   "outputs": [],
   "source": [
    "await check_efd('lsst.sal.CCCamera.quadbox_PDU_48V')"
   ]
  },
  {
   "cell_type": "markdown",
   "metadata": {},
   "source": [
    "---\n",
    "## 49: Quadbox PDU 5V \n",
    "Verify the CCCamera_quadbox_PDU_5V telemetry data is being published to the EFD."
   ]
  },
  {
   "cell_type": "code",
   "execution_count": null,
   "metadata": {},
   "outputs": [],
   "source": [
    "await check_efd('lsst.sal.CCCamera.quadbox_PDU_5V')"
   ]
  },
  {
   "cell_type": "markdown",
   "metadata": {},
   "source": [
    "---\n",
    "## 50: Focal Place CCD \n",
    "Verify the CCCamera_focal_plane_Ccd telemetry data is being published to the EFD."
   ]
  },
  {
   "cell_type": "code",
   "execution_count": null,
   "metadata": {},
   "outputs": [],
   "source": [
    "await check_efd('lsst.sal.CCCamera.focal_plane_Ccd')"
   ]
  },
  {
   "cell_type": "markdown",
   "metadata": {},
   "source": [
    "---\n",
    "## 51: Focal Plane Reb\n",
    "Verify the CCCamera_focal_plane_Reb telemetry data is being published to the EFD."
   ]
  },
  {
   "cell_type": "code",
   "execution_count": null,
   "metadata": {},
   "outputs": [],
   "source": [
    "await check_efd('lsst.sal.CCCamera.focal_plane_Reb')"
   ]
  },
  {
   "cell_type": "markdown",
   "metadata": {},
   "source": [
    "---\n",
    "## 52: Focal Plane Reb Total Power\n",
    "Verify the CCCamera_focal_plane_RebTotalPower telemetry data is being published to the EFD."
   ]
  },
  {
   "cell_type": "code",
   "execution_count": null,
   "metadata": {},
   "outputs": [],
   "source": [
    "await check_efd('lsst.sal.CCCamera.focal_plane_RebTotalPower')"
   ]
  },
  {
   "cell_type": "markdown",
   "metadata": {},
   "source": [
    "---\n",
    "## 53: Focal Plane Segment\n",
    "Verify the CCCamera_focal_plane_Segment telemetry data is being published to the EFD."
   ]
  },
  {
   "cell_type": "code",
   "execution_count": null,
   "metadata": {},
   "outputs": [],
   "source": [
    "await check_efd('lsst.sal.CCCamera.focal_plane_Segment')"
   ]
  },
  {
   "cell_type": "code",
   "execution_count": null,
   "metadata": {},
   "outputs": [],
   "source": [
    "script.log.info(f\"STOP - {test_case}\")"
   ]
  }
 ],
 "metadata": {
  "kernelspec": {
   "display_name": "LSST",
   "language": "python",
   "name": "lsst"
  },
  "language_info": {
   "codemirror_mode": {
    "name": "ipython",
    "version": 3
   },
   "file_extension": ".py",
   "mimetype": "text/x-python",
   "name": "python",
   "nbconvert_exporter": "python",
   "pygments_lexer": "ipython3",
   "version": "3.10.5"
  }
 },
 "nbformat": 4,
 "nbformat_minor": 4
}
