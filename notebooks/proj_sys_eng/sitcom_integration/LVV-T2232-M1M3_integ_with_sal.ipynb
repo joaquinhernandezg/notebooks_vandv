{
 "cells": [
  {
   "cell_type": "markdown",
   "id": "cf98a35e-df78-4181-9350-ce0dd7e7e900",
   "metadata": {},
   "source": [
    "# [LVV-T2232] - M1M3 Integration with SAL\n",
    "\n",
    "The objective of this test case is to verify the latest M1M3 commands, events, and telemetry defined by the latest version of the XML.  \n",
    "This test case will exercise the functionality of the M1M3 on the 3rd level of the Summit and meets the following criteria:\n",
    "- Only requires the most current version of SAL\n",
    "- Only requires the M1M3 surrogate to be loaded on the cell\n",
    "- Requires the use of the DDS and the EFD\n",
    "\n",
    "[LVV-T2232]: https://jira.lsstcorp.org/secure/Tests.jspa#/testCase/LVV-T2232"
   ]
  },
  {
   "cell_type": "code",
   "execution_count": 1,
   "id": "cb1514ae-53c0-4ddd-98cd-296e7c2ea7a2",
   "metadata": {},
   "outputs": [],
   "source": [
    "%load_ext autoreload\n",
    "%autoreload 2"
   ]
  },
  {
   "cell_type": "code",
   "execution_count": 2,
   "id": "f9641ee4-f66c-4c9a-9032-129c07305339",
   "metadata": {},
   "outputs": [
    {
     "data": {
      "text/html": [
       "<pre style=\"margin: 0.1em;\n",
       "padding-left: 0.25em;\n",
       "border-left-style: solid;\n",
       "font-family: var(--jp-code-font-family);\n",
       "font-size: var(--jp-code-font-size);\n",
       "line-height: var(--jp-code-line-height);\n",
       "\"><span style=\"color: var(--jp-warn-color2)\">lsst.ts.utils.tai</span> <span style=\"color: var(--jp-info-color0)\">INFO</span>: Update leap second table</pre>"
      ],
      "text/plain": [
       "<IPython.core.display.HTML object>"
      ]
     },
     "metadata": {},
     "output_type": "display_data"
    },
    {
     "data": {
      "text/html": [
       "<pre style=\"margin: 0.1em;\n",
       "padding-left: 0.25em;\n",
       "border-left-style: solid;\n",
       "font-family: var(--jp-code-font-family);\n",
       "font-size: var(--jp-code-font-size);\n",
       "line-height: var(--jp-code-line-height);\n",
       "\"><span style=\"color: var(--jp-warn-color2)\">lsst.ts.utils.tai</span> <span style=\"color: var(--jp-info-color0)\">INFO</span>: current_tai uses the system TAI clock</pre>"
      ],
      "text/plain": [
       "<IPython.core.display.HTML object>"
      ]
     },
     "metadata": {},
     "output_type": "display_data"
    },
    {
     "name": "stdout",
     "output_type": "stream",
     "text": [
      "\n",
      "Executed by b1quint on 2022-06-14T20:20:59.382.\n",
      "  Running in yagan07 at summit\n",
      "\n"
     ]
    }
   ],
   "source": [
    "from lsst.sitcom import vandv\n",
    "\n",
    "exec_info = vandv.ExecutionInfo()\n",
    "print(exec_info)"
   ]
  },
  {
   "cell_type": "markdown",
   "id": "427b59f9-8dbd-4cad-8d8f-dc191ccb3211",
   "metadata": {},
   "source": [
    "---\n",
    "## LVV-T1996 (1.0) M1M3 DDS Startup Procedure\n",
    "\n",
    "[LVV-T1996 (1.0)]: https://jira.lsstcorp.org/secure/Tests.jspa#/testCase/LVV-T1996"
   ]
  },
  {
   "cell_type": "code",
   "execution_count": 3,
   "id": "f92edceb-392e-4528-9718-b0806ac5a402",
   "metadata": {},
   "outputs": [],
   "source": [
    "import asyncio\n",
    "import os\n",
    "import yaml\n",
    "\n",
    "import astropy.units as u\n",
    "import numpy as np\n",
    "import matplotlib.pyplot as plt\n",
    "import pandas as pd\n",
    "\n",
    "from astropy import time \n",
    "from astropy.coordinates import AltAz, ICRS, EarthLocation, Angle, FK5\n",
    "from datetime import datetime, timedelta\n",
    "\n",
    "from lsst_efd_client import EfdClient\n",
    "from lsst.ts import utils, salobj\n",
    "from lsst.ts.cRIOpy import M1M3FATable\n",
    "from lsst.ts.observatory.control.maintel.mtcs import MTCS, MTCSUsages\n",
    "from lsst.ts.observatory.control import RotType\n",
    "\n",
    "import lsst.sitcom.vandv as vandv"
   ]
  },
  {
   "cell_type": "code",
   "execution_count": 4,
   "id": "702090c1-90c6-44a6-b764-408d1b150bda",
   "metadata": {},
   "outputs": [],
   "source": [
    "logging.basicConfig(format=\"%(name)s:%(message)s\", level=logging.DEBUG)"
   ]
  },
  {
   "cell_type": "code",
   "execution_count": 5,
   "id": "a36de812-1703-4896-a489-21790e422408",
   "metadata": {},
   "outputs": [],
   "source": [
    "log = logging.getLogger(\"setup\")\n",
    "log.level = logging.DEBUG"
   ]
  },
  {
   "cell_type": "code",
   "execution_count": 6,
   "id": "669bd018-a0b8-48b8-870f-08ed46600556",
   "metadata": {},
   "outputs": [],
   "source": [
    "domain = salobj.Domain()"
   ]
  },
  {
   "cell_type": "code",
   "execution_count": 7,
   "id": "8d908f00-44fa-4285-b9e7-fcc11806ad34",
   "metadata": {},
   "outputs": [
    {
     "data": {
      "text/html": [
       "<pre style=\"margin: 0.1em;\n",
       "padding-left: 0.25em;\n",
       "border-left-style: solid;\n",
       "font-family: var(--jp-code-font-family);\n",
       "font-size: var(--jp-code-font-size);\n",
       "line-height: var(--jp-code-line-height);\n",
       "\"><span style=\"color: var(--jp-warn-color2)\">setup.MTCS</span> <span style=\"color: var(--jp-success-color0)\">DEBUG</span>: mtmount: Adding all resources.</pre>"
      ],
      "text/plain": [
       "<IPython.core.display.HTML object>"
      ]
     },
     "metadata": {},
     "output_type": "display_data"
    },
    {
     "data": {
      "text/html": [
       "<pre style=\"margin: 0.1em;\n",
       "padding-left: 0.25em;\n",
       "border-left-style: solid;\n",
       "font-family: var(--jp-code-font-family);\n",
       "font-size: var(--jp-code-font-size);\n",
       "line-height: var(--jp-code-line-height);\n",
       "\"><span style=\"color: var(--jp-warn-color2)\">setup.MTCS</span> <span style=\"color: var(--jp-success-color0)\">DEBUG</span>: mtptg: Adding all resources.</pre>"
      ],
      "text/plain": [
       "<IPython.core.display.HTML object>"
      ]
     },
     "metadata": {},
     "output_type": "display_data"
    },
    {
     "data": {
      "text/html": [
       "<pre style=\"margin: 0.1em;\n",
       "padding-left: 0.25em;\n",
       "border-left-style: solid;\n",
       "font-family: var(--jp-code-font-family);\n",
       "font-size: var(--jp-code-font-size);\n",
       "line-height: var(--jp-code-line-height);\n",
       "\"><span style=\"color: var(--jp-warn-color2)\">setup.MTCS</span> <span style=\"color: var(--jp-success-color0)\">DEBUG</span>: mtaos: Adding all resources.</pre>"
      ],
      "text/plain": [
       "<IPython.core.display.HTML object>"
      ]
     },
     "metadata": {},
     "output_type": "display_data"
    },
    {
     "data": {
      "text/html": [
       "<pre style=\"margin: 0.1em;\n",
       "padding-left: 0.25em;\n",
       "border-left-style: solid;\n",
       "font-family: var(--jp-code-font-family);\n",
       "font-size: var(--jp-code-font-size);\n",
       "line-height: var(--jp-code-line-height);\n",
       "\"><span style=\"color: var(--jp-warn-color2)\">setup.MTCS</span> <span style=\"color: var(--jp-success-color0)\">DEBUG</span>: mtm1m3: Adding all resources.</pre>"
      ],
      "text/plain": [
       "<IPython.core.display.HTML object>"
      ]
     },
     "metadata": {},
     "output_type": "display_data"
    },
    {
     "data": {
      "text/html": [
       "<pre style=\"margin: 0.1em;\n",
       "padding-left: 0.25em;\n",
       "border-left-style: solid;\n",
       "font-family: var(--jp-code-font-family);\n",
       "font-size: var(--jp-code-font-size);\n",
       "line-height: var(--jp-code-line-height);\n",
       "\"><span style=\"color: var(--jp-warn-color2)\">setup.MTCS</span> <span style=\"color: var(--jp-success-color0)\">DEBUG</span>: mtm2: Adding all resources.</pre>"
      ],
      "text/plain": [
       "<IPython.core.display.HTML object>"
      ]
     },
     "metadata": {},
     "output_type": "display_data"
    },
    {
     "data": {
      "text/html": [
       "<pre style=\"margin: 0.1em;\n",
       "padding-left: 0.25em;\n",
       "border-left-style: solid;\n",
       "font-family: var(--jp-code-font-family);\n",
       "font-size: var(--jp-code-font-size);\n",
       "line-height: var(--jp-code-line-height);\n",
       "\"><span style=\"color: var(--jp-warn-color2)\">setup.MTCS</span> <span style=\"color: var(--jp-success-color0)\">DEBUG</span>: mthexapod_1: Adding all resources.</pre>"
      ],
      "text/plain": [
       "<IPython.core.display.HTML object>"
      ]
     },
     "metadata": {},
     "output_type": "display_data"
    },
    {
     "data": {
      "text/html": [
       "<pre style=\"margin: 0.1em;\n",
       "padding-left: 0.25em;\n",
       "border-left-style: solid;\n",
       "font-family: var(--jp-code-font-family);\n",
       "font-size: var(--jp-code-font-size);\n",
       "line-height: var(--jp-code-line-height);\n",
       "\"><span style=\"color: var(--jp-warn-color2)\">setup.MTCS</span> <span style=\"color: var(--jp-success-color0)\">DEBUG</span>: mthexapod_2: Adding all resources.</pre>"
      ],
      "text/plain": [
       "<IPython.core.display.HTML object>"
      ]
     },
     "metadata": {},
     "output_type": "display_data"
    },
    {
     "data": {
      "text/html": [
       "<pre style=\"margin: 0.1em;\n",
       "padding-left: 0.25em;\n",
       "border-left-style: solid;\n",
       "font-family: var(--jp-code-font-family);\n",
       "font-size: var(--jp-code-font-size);\n",
       "line-height: var(--jp-code-line-height);\n",
       "\"><span style=\"color: var(--jp-warn-color2)\">setup.MTCS</span> <span style=\"color: var(--jp-success-color0)\">DEBUG</span>: mtrotator: Adding all resources.</pre>"
      ],
      "text/plain": [
       "<IPython.core.display.HTML object>"
      ]
     },
     "metadata": {},
     "output_type": "display_data"
    },
    {
     "data": {
      "text/html": [
       "<pre style=\"margin: 0.1em;\n",
       "padding-left: 0.25em;\n",
       "border-left-style: solid;\n",
       "font-family: var(--jp-code-font-family);\n",
       "font-size: var(--jp-code-font-size);\n",
       "line-height: var(--jp-code-line-height);\n",
       "\"><span style=\"color: var(--jp-warn-color2)\">setup.MTCS</span> <span style=\"color: var(--jp-success-color0)\">DEBUG</span>: mtdome: Adding all resources.</pre>"
      ],
      "text/plain": [
       "<IPython.core.display.HTML object>"
      ]
     },
     "metadata": {},
     "output_type": "display_data"
    },
    {
     "data": {
      "text/html": [
       "<pre style=\"margin: 0.1em;\n",
       "padding-left: 0.25em;\n",
       "border-left-style: solid;\n",
       "font-family: var(--jp-code-font-family);\n",
       "font-size: var(--jp-code-font-size);\n",
       "line-height: var(--jp-code-line-height);\n",
       "\"><span style=\"color: var(--jp-warn-color2)\">setup.MTCS</span> <span style=\"color: var(--jp-success-color0)\">DEBUG</span>: mtdometrajectory: Adding all resources.</pre>"
      ],
      "text/plain": [
       "<IPython.core.display.HTML object>"
      ]
     },
     "metadata": {},
     "output_type": "display_data"
    },
    {
     "data": {
      "text/html": [
       "<pre style=\"margin: 0.1em;\n",
       "padding-left: 0.25em;\n",
       "border-left-style: solid;\n",
       "font-family: var(--jp-code-font-family);\n",
       "font-size: var(--jp-code-font-size);\n",
       "line-height: var(--jp-code-line-height);\n",
       "\"><span style=\"color: var(--jp-warn-color2)\">MTHexapod</span> <span style=\"color: var(--jp-info-color0)\">INFO</span>: Read historical data in 0.05 sec</pre>"
      ],
      "text/plain": [
       "<IPython.core.display.HTML object>"
      ]
     },
     "metadata": {},
     "output_type": "display_data"
    },
    {
     "data": {
      "text/html": [
       "<pre style=\"margin: 0.1em;\n",
       "padding-left: 0.25em;\n",
       "border-left-style: solid;\n",
       "font-family: var(--jp-code-font-family);\n",
       "font-size: var(--jp-code-font-size);\n",
       "line-height: var(--jp-code-line-height);\n",
       "\"><span style=\"color: var(--jp-warn-color2)\">MTHexapod</span> <span style=\"color: var(--jp-info-color0)\">INFO</span>: Read historical data in 0.08 sec</pre>"
      ],
      "text/plain": [
       "<IPython.core.display.HTML object>"
      ]
     },
     "metadata": {},
     "output_type": "display_data"
    }
   ],
   "source": [
    "mtcs = MTCS(domain=domain, log=log)\n",
    "mtcs.set_rem_loglevel(40)"
   ]
  },
  {
   "cell_type": "code",
   "execution_count": 8,
   "id": "9bd3bd48-1fb4-402c-b8b5-471e805e6c23",
   "metadata": {},
   "outputs": [
    {
     "data": {
      "text/plain": [
       "[None, None, None, None, None, None, None, None, None, None]"
      ]
     },
     "execution_count": 8,
     "metadata": {},
     "output_type": "execute_result"
    }
   ],
   "source": [
    "await mtcs.start_task"
   ]
  },
  {
   "cell_type": "code",
   "execution_count": 9,
   "id": "3ad6dcd7-e547-4536-b8c0-70b769b35dd6",
   "metadata": {},
   "outputs": [
    {
     "data": {
      "text/html": [
       "<pre style=\"margin: 0.1em;\n",
       "padding-left: 0.25em;\n",
       "border-left-style: solid;\n",
       "font-family: var(--jp-code-font-family);\n",
       "font-size: var(--jp-code-font-size);\n",
       "line-height: var(--jp-code-line-height);\n",
       "\"><span style=\"color: var(--jp-warn-color2)\">Script</span> <span style=\"color: var(--jp-info-color0)\">INFO</span>: Read historical data in 0.00 sec</pre>"
      ],
      "text/plain": [
       "<IPython.core.display.HTML object>"
      ]
     },
     "metadata": {},
     "output_type": "display_data"
    }
   ],
   "source": [
    "index = 22321285  # Test Case + Test Execution\n",
    "\n",
    "start_time = datetime.now()\n",
    "script = salobj.Controller(\"Script\", index=index)"
   ]
  },
  {
   "cell_type": "code",
   "execution_count": 10,
   "id": "7d6f7f5d-d0fa-409d-bf0b-f4eefa3335db",
   "metadata": {},
   "outputs": [
    {
     "data": {
      "text/html": [
       "<pre style=\"margin: 0.1em;\n",
       "padding-left: 0.25em;\n",
       "border-left-style: solid;\n",
       "font-family: var(--jp-code-font-family);\n",
       "font-size: var(--jp-code-font-size);\n",
       "line-height: var(--jp-code-line-height);\n",
       "\"><span style=\"color: var(--jp-warn-color2)\">setup.MTCS</span> <span style=\"color: var(--jp-success-color0)\">DEBUG</span>: [mtm1m3]::[&lt;State.STANDBY: 5&gt;, &lt;State.DISABLED: 1&gt;]</pre>"
      ],
      "text/plain": [
       "<IPython.core.display.HTML object>"
      ]
     },
     "metadata": {},
     "output_type": "display_data"
    },
    {
     "data": {
      "text/html": [
       "<pre style=\"margin: 0.1em;\n",
       "padding-left: 0.25em;\n",
       "border-left-style: solid;\n",
       "font-family: var(--jp-code-font-family);\n",
       "font-size: var(--jp-code-font-size);\n",
       "line-height: var(--jp-code-line-height);\n",
       "\"><span style=\"color: var(--jp-warn-color2)\">setup.MTCS</span> <span style=\"color: var(--jp-info-color0)\">INFO</span>: All components in &lt;State.DISABLED: 1&gt;.</pre>"
      ],
      "text/plain": [
       "<IPython.core.display.HTML object>"
      ]
     },
     "metadata": {},
     "output_type": "display_data"
    }
   ],
   "source": [
    "await mtcs.set_state(state=salobj.State.DISABLED, components=[\"mtm1m3\"], overrides={\"mtm1m3\": \"Default\"})"
   ]
  },
  {
   "cell_type": "code",
   "execution_count": 11,
   "id": "6a13098a-7b91-4dd3-9c79-e930d42c8009",
   "metadata": {},
   "outputs": [
    {
     "data": {
      "text/html": [
       "<pre style=\"margin: 0.1em;\n",
       "padding-left: 0.25em;\n",
       "border-left-style: solid;\n",
       "font-family: var(--jp-code-font-family);\n",
       "font-size: var(--jp-code-font-size);\n",
       "line-height: var(--jp-code-line-height);\n",
       "\"><span style=\"color: var(--jp-warn-color2)\">setup.MTCS</span> <span style=\"color: var(--jp-success-color0)\">DEBUG</span>: [mtm1m3]::[&lt;State.DISABLED: 1&gt;, &lt;State.ENABLED: 2&gt;]</pre>"
      ],
      "text/plain": [
       "<IPython.core.display.HTML object>"
      ]
     },
     "metadata": {},
     "output_type": "display_data"
    },
    {
     "data": {
      "text/html": [
       "<pre style=\"margin: 0.1em;\n",
       "padding-left: 0.25em;\n",
       "border-left-style: solid;\n",
       "font-family: var(--jp-code-font-family);\n",
       "font-size: var(--jp-code-font-size);\n",
       "line-height: var(--jp-code-line-height);\n",
       "\"><span style=\"color: var(--jp-warn-color2)\">setup.MTCS</span> <span style=\"color: var(--jp-info-color0)\">INFO</span>: All components in &lt;State.ENABLED: 2&gt;.</pre>"
      ],
      "text/plain": [
       "<IPython.core.display.HTML object>"
      ]
     },
     "metadata": {},
     "output_type": "display_data"
    }
   ],
   "source": [
    "await mtcs.set_state(state=salobj.State.ENABLED, components=[\"mtm1m3\"])"
   ]
  },
  {
   "cell_type": "code",
   "execution_count": 12,
   "id": "56427680-b9dd-41ea-abfa-4dba50d6daca",
   "metadata": {},
   "outputs": [
    {
     "data": {
      "text/html": [
       "<pre style=\"margin: 0.1em;\n",
       "padding-left: 0.25em;\n",
       "border-left-style: solid;\n",
       "font-family: var(--jp-code-font-family);\n",
       "font-size: var(--jp-code-font-size);\n",
       "line-height: var(--jp-code-line-height);\n",
       "\"><span style=\"color: var(--jp-warn-color2)\">Script</span> <span style=\"color: var(--jp-info-color0)\">INFO</span>: LVV-T12232 - LVV-E1285 - Start</pre>"
      ],
      "text/plain": [
       "<IPython.core.display.HTML object>"
      ]
     },
     "metadata": {},
     "output_type": "display_data"
    }
   ],
   "source": [
    "script.log.info(\"LVV-T12232 - LVV-E1285 - Start\")"
   ]
  },
  {
   "cell_type": "markdown",
   "id": "8c52a9a9-fca6-4cf0-91bc-49fe2a85aa3a",
   "metadata": {},
   "source": [
    "---\n",
    "## Telemetry Verification\n",
    "\n",
    "Verify the MTM1M3_forceActuatorData telemetry data is being published to the EFD with the following parameters:\n",
    "\n",
    "- primaryCylinderForce\n",
    "- secondaryCylinderForce\n",
    "- xForce\n",
    "- yForce\n",
    "- zForce\n",
    "- fx\n",
    "- fy\n",
    "- fz\n",
    "- mx\n",
    "- my\n",
    "- mz\n",
    "- timestamp\n",
    "- forceMagnitude\n",
    "\n",
    "Check [Chronograph - M1M3 Status].\n",
    "\n",
    "[Chronograph - M1M3 Status]: https://chronograf-tucson-teststand-efd.lsst.codes/sources/1/dashboards/37?refresh=Paused&lower=now%28%29%20-%205m"
   ]
  },
  {
   "cell_type": "code",
   "execution_count": 15,
   "id": "ef1c779f-e6ae-4210-afa6-fedfa1c00ebd",
   "metadata": {},
   "outputs": [],
   "source": [
    "if exec_info.loc == \"summit\":\n",
    "    client = EfdClient(\"summit_efd\")\n",
    "elif location == \"tucson\":\n",
    "    client = EfdClient(\"tucson_teststand_efd\")\n",
    "else:\n",
    "    raise ValueError(\n",
    "        \"Location does not match any valid options {summit|tucson}\"\n",
    "    )"
   ]
  },
  {
   "cell_type": "code",
   "execution_count": 16,
   "id": "16af3e4a-9488-4def-8033-419c5a234f49",
   "metadata": {},
   "outputs": [],
   "source": [
    "start = time.Time(\"2022-06-14T20:20\", scale=\"utc\", format=\"isot\")\n",
    "end = time.Time(\"2022-06-14T20:30\", scale=\"utc\", format=\"isot\")"
   ]
  },
  {
   "cell_type": "code",
   "execution_count": 19,
   "id": "947c2859-39b4-4bf2-8998-de18ff33561a",
   "metadata": {},
   "outputs": [],
   "source": [
    "df = await client.select_time_series(\n",
    "    \"lsst.sal.MTM1M3.forceActuatorData\", \n",
    "    fields=\"*\", \n",
    "    start=start.utc, \n",
    "    end=end.utc,\n",
    ")"
   ]
  },
  {
   "cell_type": "code",
   "execution_count": 22,
   "id": "9062229f-d890-4e43-8c7c-aa689bac0728",
   "metadata": {},
   "outputs": [
    {
     "data": {
      "text/html": [
       "<div>\n",
       "<style scoped>\n",
       "    .dataframe tbody tr th:only-of-type {\n",
       "        vertical-align: middle;\n",
       "    }\n",
       "\n",
       "    .dataframe tbody tr th {\n",
       "        vertical-align: top;\n",
       "    }\n",
       "\n",
       "    .dataframe thead th {\n",
       "        text-align: right;\n",
       "    }\n",
       "</style>\n",
       "<table border=\"1\" class=\"dataframe\">\n",
       "  <thead>\n",
       "    <tr style=\"text-align: right;\">\n",
       "      <th></th>\n",
       "      <th>forceMagnitude</th>\n",
       "      <th>fx</th>\n",
       "      <th>fy</th>\n",
       "      <th>fz</th>\n",
       "      <th>mx</th>\n",
       "      <th>my</th>\n",
       "      <th>mz</th>\n",
       "      <th>primaryCylinderForce0</th>\n",
       "      <th>primaryCylinderForce1</th>\n",
       "      <th>primaryCylinderForce10</th>\n",
       "      <th>...</th>\n",
       "      <th>zForce90</th>\n",
       "      <th>zForce91</th>\n",
       "      <th>zForce92</th>\n",
       "      <th>zForce93</th>\n",
       "      <th>zForce94</th>\n",
       "      <th>zForce95</th>\n",
       "      <th>zForce96</th>\n",
       "      <th>zForce97</th>\n",
       "      <th>zForce98</th>\n",
       "      <th>zForce99</th>\n",
       "    </tr>\n",
       "  </thead>\n",
       "  <tbody>\n",
       "    <tr>\n",
       "      <th>2022-06-14 20:23:30.431000+00:00</th>\n",
       "      <td>3809.418457</td>\n",
       "      <td>85.224068</td>\n",
       "      <td>-1504.604858</td>\n",
       "      <td>-3498.652588</td>\n",
       "      <td>-715.060120</td>\n",
       "      <td>-201.551117</td>\n",
       "      <td>-71.750298</td>\n",
       "      <td>10.187027</td>\n",
       "      <td>-19.931446</td>\n",
       "      <td>-10.469072</td>\n",
       "      <td>...</td>\n",
       "      <td>-37.499535</td>\n",
       "      <td>-14.496274</td>\n",
       "      <td>-59.257969</td>\n",
       "      <td>-74.290695</td>\n",
       "      <td>-22.195852</td>\n",
       "      <td>-51.223316</td>\n",
       "      <td>-11.185081</td>\n",
       "      <td>-54.310261</td>\n",
       "      <td>-43.609318</td>\n",
       "      <td>-23.358471</td>\n",
       "    </tr>\n",
       "    <tr>\n",
       "      <th>2022-06-14 20:23:30.443000+00:00</th>\n",
       "      <td>3807.615479</td>\n",
       "      <td>84.975540</td>\n",
       "      <td>-1503.668823</td>\n",
       "      <td>-3497.098145</td>\n",
       "      <td>-705.331177</td>\n",
       "      <td>-204.163101</td>\n",
       "      <td>-73.644165</td>\n",
       "      <td>10.089388</td>\n",
       "      <td>-19.931446</td>\n",
       "      <td>-10.469072</td>\n",
       "      <td>...</td>\n",
       "      <td>-37.555645</td>\n",
       "      <td>-14.585337</td>\n",
       "      <td>-59.141220</td>\n",
       "      <td>-74.337372</td>\n",
       "      <td>-22.070658</td>\n",
       "      <td>-51.223316</td>\n",
       "      <td>-11.249735</td>\n",
       "      <td>-54.287102</td>\n",
       "      <td>-43.534378</td>\n",
       "      <td>-23.335596</td>\n",
       "    </tr>\n",
       "    <tr>\n",
       "      <th>2022-06-14 20:23:30.463000+00:00</th>\n",
       "      <td>3811.184814</td>\n",
       "      <td>85.337730</td>\n",
       "      <td>-1504.894043</td>\n",
       "      <td>-3500.448730</td>\n",
       "      <td>-725.897766</td>\n",
       "      <td>-203.434479</td>\n",
       "      <td>-70.273987</td>\n",
       "      <td>10.154481</td>\n",
       "      <td>-20.117722</td>\n",
       "      <td>-10.500606</td>\n",
       "      <td>...</td>\n",
       "      <td>-37.654259</td>\n",
       "      <td>-14.641379</td>\n",
       "      <td>-59.234718</td>\n",
       "      <td>-74.267357</td>\n",
       "      <td>-21.900042</td>\n",
       "      <td>-51.445724</td>\n",
       "      <td>-11.185081</td>\n",
       "      <td>-54.389175</td>\n",
       "      <td>-43.507938</td>\n",
       "      <td>-23.312719</td>\n",
       "    </tr>\n",
       "    <tr>\n",
       "      <th>2022-06-14 20:23:30.483000+00:00</th>\n",
       "      <td>3808.606689</td>\n",
       "      <td>84.858192</td>\n",
       "      <td>-1504.350830</td>\n",
       "      <td>-3497.886719</td>\n",
       "      <td>-707.882690</td>\n",
       "      <td>-201.457596</td>\n",
       "      <td>-73.328827</td>\n",
       "      <td>10.187027</td>\n",
       "      <td>-20.055630</td>\n",
       "      <td>-10.532139</td>\n",
       "      <td>...</td>\n",
       "      <td>-37.654259</td>\n",
       "      <td>-14.417210</td>\n",
       "      <td>-59.180103</td>\n",
       "      <td>-74.304642</td>\n",
       "      <td>-22.061573</td>\n",
       "      <td>-51.190529</td>\n",
       "      <td>-11.152755</td>\n",
       "      <td>-54.329121</td>\n",
       "      <td>-43.312222</td>\n",
       "      <td>-23.368305</td>\n",
       "    </tr>\n",
       "    <tr>\n",
       "      <th>2022-06-14 20:23:30.503000+00:00</th>\n",
       "      <td>3811.266113</td>\n",
       "      <td>85.243378</td>\n",
       "      <td>-1504.893555</td>\n",
       "      <td>-3500.539795</td>\n",
       "      <td>-709.605957</td>\n",
       "      <td>-202.002640</td>\n",
       "      <td>-70.493622</td>\n",
       "      <td>10.154481</td>\n",
       "      <td>-20.148767</td>\n",
       "      <td>-10.374472</td>\n",
       "      <td>...</td>\n",
       "      <td>-37.644630</td>\n",
       "      <td>-14.506272</td>\n",
       "      <td>-59.187920</td>\n",
       "      <td>-74.290695</td>\n",
       "      <td>-21.941431</td>\n",
       "      <td>-51.435753</td>\n",
       "      <td>-11.217408</td>\n",
       "      <td>-54.268242</td>\n",
       "      <td>-43.344841</td>\n",
       "      <td>-23.335596</td>\n",
       "    </tr>\n",
       "    <tr>\n",
       "      <th>...</th>\n",
       "      <td>...</td>\n",
       "      <td>...</td>\n",
       "      <td>...</td>\n",
       "      <td>...</td>\n",
       "      <td>...</td>\n",
       "      <td>...</td>\n",
       "      <td>...</td>\n",
       "      <td>...</td>\n",
       "      <td>...</td>\n",
       "      <td>...</td>\n",
       "      <td>...</td>\n",
       "      <td>...</td>\n",
       "      <td>...</td>\n",
       "      <td>...</td>\n",
       "      <td>...</td>\n",
       "      <td>...</td>\n",
       "      <td>...</td>\n",
       "      <td>...</td>\n",
       "      <td>...</td>\n",
       "      <td>...</td>\n",
       "      <td>...</td>\n",
       "    </tr>\n",
       "    <tr>\n",
       "      <th>2022-06-14 20:29:59.908000+00:00</th>\n",
       "      <td>0.517302</td>\n",
       "      <td>-0.003042</td>\n",
       "      <td>0.423209</td>\n",
       "      <td>0.297466</td>\n",
       "      <td>-3.725654</td>\n",
       "      <td>3.883183</td>\n",
       "      <td>2.852129</td>\n",
       "      <td>-0.162732</td>\n",
       "      <td>0.031046</td>\n",
       "      <td>0.000000</td>\n",
       "      <td>...</td>\n",
       "      <td>0.046486</td>\n",
       "      <td>0.109066</td>\n",
       "      <td>-0.093497</td>\n",
       "      <td>0.079405</td>\n",
       "      <td>0.557271</td>\n",
       "      <td>0.188120</td>\n",
       "      <td>-0.032327</td>\n",
       "      <td>0.009429</td>\n",
       "      <td>0.088158</td>\n",
       "      <td>0.022876</td>\n",
       "    </tr>\n",
       "    <tr>\n",
       "      <th>2022-06-14 20:29:59.929000+00:00</th>\n",
       "      <td>1.844737</td>\n",
       "      <td>-0.073257</td>\n",
       "      <td>-1.232412</td>\n",
       "      <td>-1.370711</td>\n",
       "      <td>-6.511684</td>\n",
       "      <td>0.679224</td>\n",
       "      <td>1.755750</td>\n",
       "      <td>-0.195278</td>\n",
       "      <td>0.093138</td>\n",
       "      <td>0.031533</td>\n",
       "      <td>...</td>\n",
       "      <td>-0.056113</td>\n",
       "      <td>0.076044</td>\n",
       "      <td>-0.124663</td>\n",
       "      <td>0.074845</td>\n",
       "      <td>0.422991</td>\n",
       "      <td>0.390584</td>\n",
       "      <td>-0.064654</td>\n",
       "      <td>-0.042020</td>\n",
       "      <td>0.045838</td>\n",
       "      <td>0.026081</td>\n",
       "    </tr>\n",
       "    <tr>\n",
       "      <th>2022-06-14 20:29:59.949000+00:00</th>\n",
       "      <td>0.405582</td>\n",
       "      <td>0.132096</td>\n",
       "      <td>0.378276</td>\n",
       "      <td>0.062885</td>\n",
       "      <td>-1.638163</td>\n",
       "      <td>5.462717</td>\n",
       "      <td>2.044622</td>\n",
       "      <td>-0.065093</td>\n",
       "      <td>0.031046</td>\n",
       "      <td>0.063067</td>\n",
       "      <td>...</td>\n",
       "      <td>-0.056113</td>\n",
       "      <td>0.030002</td>\n",
       "      <td>-0.077964</td>\n",
       "      <td>0.023339</td>\n",
       "      <td>0.548187</td>\n",
       "      <td>0.357797</td>\n",
       "      <td>0.000000</td>\n",
       "      <td>0.009429</td>\n",
       "      <td>-0.009700</td>\n",
       "      <td>0.098131</td>\n",
       "    </tr>\n",
       "    <tr>\n",
       "      <th>2022-06-14 20:29:59.969000+00:00</th>\n",
       "      <td>1.033179</td>\n",
       "      <td>0.129351</td>\n",
       "      <td>-0.939686</td>\n",
       "      <td>-0.409531</td>\n",
       "      <td>-3.692890</td>\n",
       "      <td>3.253726</td>\n",
       "      <td>1.106678</td>\n",
       "      <td>-0.260371</td>\n",
       "      <td>0.062092</td>\n",
       "      <td>0.094600</td>\n",
       "      <td>...</td>\n",
       "      <td>-0.023243</td>\n",
       "      <td>0.033022</td>\n",
       "      <td>-0.046799</td>\n",
       "      <td>-0.102744</td>\n",
       "      <td>0.483574</td>\n",
       "      <td>0.210935</td>\n",
       "      <td>0.096980</td>\n",
       "      <td>0.088343</td>\n",
       "      <td>0.111077</td>\n",
       "      <td>0.078461</td>\n",
       "    </tr>\n",
       "    <tr>\n",
       "      <th>2022-06-14 20:29:59.989000+00:00</th>\n",
       "      <td>0.916157</td>\n",
       "      <td>0.241840</td>\n",
       "      <td>-0.353054</td>\n",
       "      <td>0.810068</td>\n",
       "      <td>-8.234219</td>\n",
       "      <td>3.662165</td>\n",
       "      <td>3.795131</td>\n",
       "      <td>-0.162732</td>\n",
       "      <td>0.031046</td>\n",
       "      <td>0.031533</td>\n",
       "      <td>...</td>\n",
       "      <td>-0.181955</td>\n",
       "      <td>-0.010001</td>\n",
       "      <td>-0.093597</td>\n",
       "      <td>0.000000</td>\n",
       "      <td>0.539103</td>\n",
       "      <td>0.390584</td>\n",
       "      <td>-0.064654</td>\n",
       "      <td>0.065181</td>\n",
       "      <td>0.045838</td>\n",
       "      <td>0.000000</td>\n",
       "    </tr>\n",
       "  </tbody>\n",
       "</table>\n",
       "<p>19479 rows × 552 columns</p>\n",
       "</div>"
      ],
      "text/plain": [
       "                                  forceMagnitude         fx           fy  \\\n",
       "2022-06-14 20:23:30.431000+00:00     3809.418457  85.224068 -1504.604858   \n",
       "2022-06-14 20:23:30.443000+00:00     3807.615479  84.975540 -1503.668823   \n",
       "2022-06-14 20:23:30.463000+00:00     3811.184814  85.337730 -1504.894043   \n",
       "2022-06-14 20:23:30.483000+00:00     3808.606689  84.858192 -1504.350830   \n",
       "2022-06-14 20:23:30.503000+00:00     3811.266113  85.243378 -1504.893555   \n",
       "...                                          ...        ...          ...   \n",
       "2022-06-14 20:29:59.908000+00:00        0.517302  -0.003042     0.423209   \n",
       "2022-06-14 20:29:59.929000+00:00        1.844737  -0.073257    -1.232412   \n",
       "2022-06-14 20:29:59.949000+00:00        0.405582   0.132096     0.378276   \n",
       "2022-06-14 20:29:59.969000+00:00        1.033179   0.129351    -0.939686   \n",
       "2022-06-14 20:29:59.989000+00:00        0.916157   0.241840    -0.353054   \n",
       "\n",
       "                                           fz          mx          my  \\\n",
       "2022-06-14 20:23:30.431000+00:00 -3498.652588 -715.060120 -201.551117   \n",
       "2022-06-14 20:23:30.443000+00:00 -3497.098145 -705.331177 -204.163101   \n",
       "2022-06-14 20:23:30.463000+00:00 -3500.448730 -725.897766 -203.434479   \n",
       "2022-06-14 20:23:30.483000+00:00 -3497.886719 -707.882690 -201.457596   \n",
       "2022-06-14 20:23:30.503000+00:00 -3500.539795 -709.605957 -202.002640   \n",
       "...                                       ...         ...         ...   \n",
       "2022-06-14 20:29:59.908000+00:00     0.297466   -3.725654    3.883183   \n",
       "2022-06-14 20:29:59.929000+00:00    -1.370711   -6.511684    0.679224   \n",
       "2022-06-14 20:29:59.949000+00:00     0.062885   -1.638163    5.462717   \n",
       "2022-06-14 20:29:59.969000+00:00    -0.409531   -3.692890    3.253726   \n",
       "2022-06-14 20:29:59.989000+00:00     0.810068   -8.234219    3.662165   \n",
       "\n",
       "                                         mz  primaryCylinderForce0  \\\n",
       "2022-06-14 20:23:30.431000+00:00 -71.750298              10.187027   \n",
       "2022-06-14 20:23:30.443000+00:00 -73.644165              10.089388   \n",
       "2022-06-14 20:23:30.463000+00:00 -70.273987              10.154481   \n",
       "2022-06-14 20:23:30.483000+00:00 -73.328827              10.187027   \n",
       "2022-06-14 20:23:30.503000+00:00 -70.493622              10.154481   \n",
       "...                                     ...                    ...   \n",
       "2022-06-14 20:29:59.908000+00:00   2.852129              -0.162732   \n",
       "2022-06-14 20:29:59.929000+00:00   1.755750              -0.195278   \n",
       "2022-06-14 20:29:59.949000+00:00   2.044622              -0.065093   \n",
       "2022-06-14 20:29:59.969000+00:00   1.106678              -0.260371   \n",
       "2022-06-14 20:29:59.989000+00:00   3.795131              -0.162732   \n",
       "\n",
       "                                  primaryCylinderForce1  \\\n",
       "2022-06-14 20:23:30.431000+00:00             -19.931446   \n",
       "2022-06-14 20:23:30.443000+00:00             -19.931446   \n",
       "2022-06-14 20:23:30.463000+00:00             -20.117722   \n",
       "2022-06-14 20:23:30.483000+00:00             -20.055630   \n",
       "2022-06-14 20:23:30.503000+00:00             -20.148767   \n",
       "...                                                 ...   \n",
       "2022-06-14 20:29:59.908000+00:00               0.031046   \n",
       "2022-06-14 20:29:59.929000+00:00               0.093138   \n",
       "2022-06-14 20:29:59.949000+00:00               0.031046   \n",
       "2022-06-14 20:29:59.969000+00:00               0.062092   \n",
       "2022-06-14 20:29:59.989000+00:00               0.031046   \n",
       "\n",
       "                                  primaryCylinderForce10  ...   zForce90  \\\n",
       "2022-06-14 20:23:30.431000+00:00              -10.469072  ... -37.499535   \n",
       "2022-06-14 20:23:30.443000+00:00              -10.469072  ... -37.555645   \n",
       "2022-06-14 20:23:30.463000+00:00              -10.500606  ... -37.654259   \n",
       "2022-06-14 20:23:30.483000+00:00              -10.532139  ... -37.654259   \n",
       "2022-06-14 20:23:30.503000+00:00              -10.374472  ... -37.644630   \n",
       "...                                                  ...  ...        ...   \n",
       "2022-06-14 20:29:59.908000+00:00                0.000000  ...   0.046486   \n",
       "2022-06-14 20:29:59.929000+00:00                0.031533  ...  -0.056113   \n",
       "2022-06-14 20:29:59.949000+00:00                0.063067  ...  -0.056113   \n",
       "2022-06-14 20:29:59.969000+00:00                0.094600  ...  -0.023243   \n",
       "2022-06-14 20:29:59.989000+00:00                0.031533  ...  -0.181955   \n",
       "\n",
       "                                   zForce91   zForce92   zForce93   zForce94  \\\n",
       "2022-06-14 20:23:30.431000+00:00 -14.496274 -59.257969 -74.290695 -22.195852   \n",
       "2022-06-14 20:23:30.443000+00:00 -14.585337 -59.141220 -74.337372 -22.070658   \n",
       "2022-06-14 20:23:30.463000+00:00 -14.641379 -59.234718 -74.267357 -21.900042   \n",
       "2022-06-14 20:23:30.483000+00:00 -14.417210 -59.180103 -74.304642 -22.061573   \n",
       "2022-06-14 20:23:30.503000+00:00 -14.506272 -59.187920 -74.290695 -21.941431   \n",
       "...                                     ...        ...        ...        ...   \n",
       "2022-06-14 20:29:59.908000+00:00   0.109066  -0.093497   0.079405   0.557271   \n",
       "2022-06-14 20:29:59.929000+00:00   0.076044  -0.124663   0.074845   0.422991   \n",
       "2022-06-14 20:29:59.949000+00:00   0.030002  -0.077964   0.023339   0.548187   \n",
       "2022-06-14 20:29:59.969000+00:00   0.033022  -0.046799  -0.102744   0.483574   \n",
       "2022-06-14 20:29:59.989000+00:00  -0.010001  -0.093597   0.000000   0.539103   \n",
       "\n",
       "                                   zForce95   zForce96   zForce97   zForce98  \\\n",
       "2022-06-14 20:23:30.431000+00:00 -51.223316 -11.185081 -54.310261 -43.609318   \n",
       "2022-06-14 20:23:30.443000+00:00 -51.223316 -11.249735 -54.287102 -43.534378   \n",
       "2022-06-14 20:23:30.463000+00:00 -51.445724 -11.185081 -54.389175 -43.507938   \n",
       "2022-06-14 20:23:30.483000+00:00 -51.190529 -11.152755 -54.329121 -43.312222   \n",
       "2022-06-14 20:23:30.503000+00:00 -51.435753 -11.217408 -54.268242 -43.344841   \n",
       "...                                     ...        ...        ...        ...   \n",
       "2022-06-14 20:29:59.908000+00:00   0.188120  -0.032327   0.009429   0.088158   \n",
       "2022-06-14 20:29:59.929000+00:00   0.390584  -0.064654  -0.042020   0.045838   \n",
       "2022-06-14 20:29:59.949000+00:00   0.357797   0.000000   0.009429  -0.009700   \n",
       "2022-06-14 20:29:59.969000+00:00   0.210935   0.096980   0.088343   0.111077   \n",
       "2022-06-14 20:29:59.989000+00:00   0.390584  -0.064654   0.065181   0.045838   \n",
       "\n",
       "                                   zForce99  \n",
       "2022-06-14 20:23:30.431000+00:00 -23.358471  \n",
       "2022-06-14 20:23:30.443000+00:00 -23.335596  \n",
       "2022-06-14 20:23:30.463000+00:00 -23.312719  \n",
       "2022-06-14 20:23:30.483000+00:00 -23.368305  \n",
       "2022-06-14 20:23:30.503000+00:00 -23.335596  \n",
       "...                                     ...  \n",
       "2022-06-14 20:29:59.908000+00:00   0.022876  \n",
       "2022-06-14 20:29:59.929000+00:00   0.026081  \n",
       "2022-06-14 20:29:59.949000+00:00   0.098131  \n",
       "2022-06-14 20:29:59.969000+00:00   0.078461  \n",
       "2022-06-14 20:29:59.989000+00:00   0.000000  \n",
       "\n",
       "[19479 rows x 552 columns]"
      ]
     },
     "execution_count": 22,
     "metadata": {},
     "output_type": "execute_result"
    }
   ],
   "source": [
    "df"
   ]
  },
  {
   "cell_type": "code",
   "execution_count": 20,
   "id": "c9e36428-d407-4001-abae-a92af629e343",
   "metadata": {},
   "outputs": [
    {
     "data": {
      "text/plain": [
       "forceMagnitude    3809.418457\n",
       "fx                  85.224068\n",
       "fy               -1504.604858\n",
       "fz               -3498.652588\n",
       "mx                 -715.06012\n",
       "                     ...     \n",
       "zForce95           -51.223316\n",
       "zForce96           -11.185081\n",
       "zForce97           -54.310261\n",
       "zForce98           -43.609318\n",
       "zForce99           -23.358471\n",
       "Name: 2022-06-14 20:23:30.431000+00:00, Length: 552, dtype: object"
      ]
     },
     "execution_count": 20,
     "metadata": {},
     "output_type": "execute_result"
    },
    {
     "data": {
      "text/html": [
       "<pre style=\"margin: 0.1em;\n",
       "padding-left: 0.25em;\n",
       "border-left-style: solid;\n",
       "font-family: var(--jp-code-font-family);\n",
       "font-size: var(--jp-code-font-size);\n",
       "line-height: var(--jp-code-line-height);\n",
       "\"><span style=\"color: var(--jp-warn-color2)\">MTM1M3.powerSupplyData</span> <span style=\"color: var(--jp-error-color2)\">ERROR</span>: tel_powerSupplyData DDS read queue is full (100 elements); data may be lost</pre>"
      ],
      "text/plain": [
       "<IPython.core.display.HTML object>"
      ]
     },
     "metadata": {},
     "output_type": "display_data"
    },
    {
     "data": {
      "text/html": [
       "<pre style=\"margin: 0.1em;\n",
       "padding-left: 0.25em;\n",
       "border-left-style: solid;\n",
       "font-family: var(--jp-code-font-family);\n",
       "font-size: var(--jp-code-font-size);\n",
       "line-height: var(--jp-code-line-height);\n",
       "\"><span style=\"color: var(--jp-warn-color2)\">MTM1M3.inclinometerData</span> <span style=\"color: var(--jp-error-color2)\">ERROR</span>: tel_inclinometerData DDS read queue is full (100 elements); data may be lost</pre>"
      ],
      "text/plain": [
       "<IPython.core.display.HTML object>"
      ]
     },
     "metadata": {},
     "output_type": "display_data"
    },
    {
     "data": {
      "text/html": [
       "<pre style=\"margin: 0.1em;\n",
       "padding-left: 0.25em;\n",
       "border-left-style: solid;\n",
       "font-family: var(--jp-code-font-family);\n",
       "font-size: var(--jp-code-font-size);\n",
       "line-height: var(--jp-code-line-height);\n",
       "\"><span style=\"color: var(--jp-warn-color2)\">MTM1M3.imsData</span> <span style=\"color: var(--jp-error-color2)\">ERROR</span>: tel_imsData DDS read queue is full (100 elements); data may be lost</pre>"
      ],
      "text/plain": [
       "<IPython.core.display.HTML object>"
      ]
     },
     "metadata": {},
     "output_type": "display_data"
    },
    {
     "data": {
      "text/html": [
       "<pre style=\"margin: 0.1em;\n",
       "padding-left: 0.25em;\n",
       "border-left-style: solid;\n",
       "font-family: var(--jp-code-font-family);\n",
       "font-size: var(--jp-code-font-size);\n",
       "line-height: var(--jp-code-line-height);\n",
       "\"><span style=\"color: var(--jp-warn-color2)\">MTM1M3.hardpointMonitorData</span> <span style=\"color: var(--jp-error-color2)\">ERROR</span>: tel_hardpointMonitorData DDS read queue is full (100 elements); data may be lost</pre>"
      ],
      "text/plain": [
       "<IPython.core.display.HTML object>"
      ]
     },
     "metadata": {},
     "output_type": "display_data"
    },
    {
     "data": {
      "text/html": [
       "<pre style=\"margin: 0.1em;\n",
       "padding-left: 0.25em;\n",
       "border-left-style: solid;\n",
       "font-family: var(--jp-code-font-family);\n",
       "font-size: var(--jp-code-font-size);\n",
       "line-height: var(--jp-code-line-height);\n",
       "\"><span style=\"color: var(--jp-warn-color2)\">MTM1M3.hardpointActuatorData</span> <span style=\"color: var(--jp-error-color2)\">ERROR</span>: tel_hardpointActuatorData DDS read queue is full (100 elements); data may be lost</pre>"
      ],
      "text/plain": [
       "<IPython.core.display.HTML object>"
      ]
     },
     "metadata": {},
     "output_type": "display_data"
    },
    {
     "data": {
      "text/html": [
       "<pre style=\"margin: 0.1em;\n",
       "padding-left: 0.25em;\n",
       "border-left-style: solid;\n",
       "font-family: var(--jp-code-font-family);\n",
       "font-size: var(--jp-code-font-size);\n",
       "line-height: var(--jp-code-line-height);\n",
       "\"><span style=\"color: var(--jp-warn-color2)\">MTM1M3.forceActuatorData</span> <span style=\"color: var(--jp-error-color2)\">ERROR</span>: tel_forceActuatorData DDS read queue is full (100 elements); data may be lost</pre>"
      ],
      "text/plain": [
       "<IPython.core.display.HTML object>"
      ]
     },
     "metadata": {},
     "output_type": "display_data"
    },
    {
     "data": {
      "text/html": [
       "<pre style=\"margin: 0.1em;\n",
       "padding-left: 0.25em;\n",
       "border-left-style: solid;\n",
       "font-family: var(--jp-code-font-family);\n",
       "font-size: var(--jp-code-font-size);\n",
       "line-height: var(--jp-code-line-height);\n",
       "\"><span style=\"color: var(--jp-warn-color2)\">MTM1M3.accelerometerData</span> <span style=\"color: var(--jp-error-color2)\">ERROR</span>: tel_accelerometerData DDS read queue is full (100 elements); data may be lost</pre>"
      ],
      "text/plain": [
       "<IPython.core.display.HTML object>"
      ]
     },
     "metadata": {},
     "output_type": "display_data"
    },
    {
     "data": {
      "text/html": [
       "<pre style=\"margin: 0.1em;\n",
       "padding-left: 0.25em;\n",
       "border-left-style: solid;\n",
       "font-family: var(--jp-code-font-family);\n",
       "font-size: var(--jp-code-font-size);\n",
       "line-height: var(--jp-code-line-height);\n",
       "\"><span style=\"color: var(--jp-warn-color2)\">MTM1M3.logevent_forceActuatorWarning</span> <span style=\"color: var(--jp-error-color2)\">ERROR</span>: evt_forceActuatorWarning DDS read queue is full (100 elements); data may be lost</pre>"
      ],
      "text/plain": [
       "<IPython.core.display.HTML object>"
      ]
     },
     "metadata": {},
     "output_type": "display_data"
    },
    {
     "data": {
      "text/html": [
       "<pre style=\"margin: 0.1em;\n",
       "padding-left: 0.25em;\n",
       "border-left-style: solid;\n",
       "font-family: var(--jp-code-font-family);\n",
       "font-size: var(--jp-code-font-size);\n",
       "line-height: var(--jp-code-line-height);\n",
       "\"><span style=\"color: var(--jp-warn-color2)\">MTM1M3.logevent_appliedForces</span> <span style=\"color: var(--jp-error-color2)\">ERROR</span>: evt_appliedForces DDS read queue is full (100 elements); data may be lost</pre>"
      ],
      "text/plain": [
       "<IPython.core.display.HTML object>"
      ]
     },
     "metadata": {},
     "output_type": "display_data"
    },
    {
     "data": {
      "text/html": [
       "<pre style=\"margin: 0.1em;\n",
       "padding-left: 0.25em;\n",
       "border-left-style: solid;\n",
       "font-family: var(--jp-code-font-family);\n",
       "font-size: var(--jp-code-font-size);\n",
       "line-height: var(--jp-code-line-height);\n",
       "\"><span style=\"color: var(--jp-warn-color2)\">MTM1M3.logevent_appliedCylinderForces</span> <span style=\"color: var(--jp-error-color2)\">ERROR</span>: evt_appliedCylinderForces DDS read queue is full (100 elements); data may be lost</pre>"
      ],
      "text/plain": [
       "<IPython.core.display.HTML object>"
      ]
     },
     "metadata": {},
     "output_type": "display_data"
    }
   ],
   "source": [
    "df.iloc[0]"
   ]
  },
  {
   "cell_type": "markdown",
   "id": "49944cc7-309a-48d5-af99-98e56482c73d",
   "metadata": {},
   "source": [
    "---\n",
    "Verify the MTM1M3_forceActuatorPressure telemetry data is being published to the EFD with the following parameters:\n",
    "- timestamps\n",
    "- primaryCylinderPullPressures\n",
    "- primaryCylinderPushPressures\n",
    "- secondaryCylinderPullPressures\n",
    "- secondaryCylinderPushPressures"
   ]
  },
  {
   "cell_type": "code",
   "execution_count": 23,
   "id": "81eadb8b-b27d-402c-b06d-134beccf43f3",
   "metadata": {},
   "outputs": [],
   "source": [
    "fap_df = await client.select_time_series(\n",
    "    \"lsst.sal.MTM1M3.forceActuatorPressure\", \n",
    "    fields=\"*\", \n",
    "    start=start.utc, \n",
    "    end=end.utc,\n",
    ")"
   ]
  },
  {
   "cell_type": "code",
   "execution_count": 24,
   "id": "0b7fe66f-b657-43b8-b487-6c5c67609a5e",
   "metadata": {},
   "outputs": [
    {
     "data": {
      "text/html": [
       "<div>\n",
       "<style scoped>\n",
       "    .dataframe tbody tr th:only-of-type {\n",
       "        vertical-align: middle;\n",
       "    }\n",
       "\n",
       "    .dataframe tbody tr th {\n",
       "        vertical-align: top;\n",
       "    }\n",
       "\n",
       "    .dataframe thead th {\n",
       "        text-align: right;\n",
       "    }\n",
       "</style>\n",
       "<table border=\"1\" class=\"dataframe\">\n",
       "  <thead>\n",
       "    <tr style=\"text-align: right;\">\n",
       "      <th></th>\n",
       "    </tr>\n",
       "  </thead>\n",
       "  <tbody>\n",
       "  </tbody>\n",
       "</table>\n",
       "</div>"
      ],
      "text/plain": [
       "Empty DataFrame\n",
       "Columns: []\n",
       "Index: []"
      ]
     },
     "execution_count": 24,
     "metadata": {},
     "output_type": "execute_result"
    }
   ],
   "source": [
    "fap_df"
   ]
  },
  {
   "cell_type": "markdown",
   "id": "bc33a8a4-c2a3-4bda-8da9-24988f29ab50",
   "metadata": {},
   "source": [
    "---\n",
    "Verify the MTM1M3_inclinometerDatatelemetry data is being published to the EFD with the following parameters:\n",
    "- timestamp\n",
    "- inclinometerAngle"
   ]
  },
  {
   "cell_type": "code",
   "execution_count": 33,
   "id": "12e7f662-d10c-4c11-a64e-925cf15eebcb",
   "metadata": {},
   "outputs": [],
   "source": [
    "df_id = await client.select_time_series(\n",
    "    \"lsst.sal.MTM1M3.outerLoopData\", \n",
    "    fields=\"*\", \n",
    "    start=start.utc, \n",
    "    end=end.utc,\n",
    ")"
   ]
  },
  {
   "cell_type": "code",
   "execution_count": 34,
   "id": "4b386744-c704-4b2c-80b2-4bfad8fad108",
   "metadata": {},
   "outputs": [
    {
     "data": {
      "text/html": [
       "<div>\n",
       "<style scoped>\n",
       "    .dataframe tbody tr th:only-of-type {\n",
       "        vertical-align: middle;\n",
       "    }\n",
       "\n",
       "    .dataframe tbody tr th {\n",
       "        vertical-align: top;\n",
       "    }\n",
       "\n",
       "    .dataframe thead th {\n",
       "        text-align: right;\n",
       "    }\n",
       "</style>\n",
       "<table border=\"1\" class=\"dataframe\">\n",
       "  <thead>\n",
       "    <tr style=\"text-align: right;\">\n",
       "      <th></th>\n",
       "    </tr>\n",
       "  </thead>\n",
       "  <tbody>\n",
       "  </tbody>\n",
       "</table>\n",
       "</div>"
      ],
      "text/plain": [
       "Empty DataFrame\n",
       "Columns: []\n",
       "Index: []"
      ]
     },
     "execution_count": 34,
     "metadata": {},
     "output_type": "execute_result"
    }
   ],
   "source": [
    "df_id"
   ]
  },
  {
   "cell_type": "code",
   "execution_count": null,
   "id": "8fc6cfaa-e013-4fba-b065-6548ef1703cd",
   "metadata": {},
   "outputs": [],
   "source": [
    "script.log.info(\"LVV-T12232 - LVV-E1285 - END\")"
   ]
  }
 ],
 "metadata": {
  "kernelspec": {
   "display_name": "LSST",
   "language": "python",
   "name": "lsst"
  },
  "language_info": {
   "codemirror_mode": {
    "name": "ipython",
    "version": 3
   },
   "file_extension": ".py",
   "mimetype": "text/x-python",
   "name": "python",
   "nbconvert_exporter": "python",
   "pygments_lexer": "ipython3",
   "version": "3.8.13"
  }
 },
 "nbformat": 4,
 "nbformat_minor": 5
}
