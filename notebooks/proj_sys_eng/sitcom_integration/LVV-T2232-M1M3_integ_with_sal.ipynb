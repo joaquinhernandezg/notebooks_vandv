{
 "cells": [
  {
   "cell_type": "markdown",
   "id": "cf98a35e-df78-4181-9350-ce0dd7e7e900",
   "metadata": {},
   "source": [
    "# [LVV-T2232] - M1M3 Integration with SAL\n",
    "\n",
    "The objective of this test case is to verify the latest M1M3 commands, events, and telemetry defined by the latest version of the XML.  \n",
    "This test case will exercise the functionality of the M1M3 on the 3rd level of the Summit and meets the following criteria:\n",
    "- Only requires the most current version of SAL\n",
    "- Only requires the M1M3 surrogate to be loaded on the cell\n",
    "- Requires the use of the DDS and the EFD\n",
    "\n",
    "[LVV-T2232]: https://jira.lsstcorp.org/secure/Tests.jspa#/testCase/LVV-T2232"
   ]
  },
  {
   "cell_type": "code",
   "execution_count": 1,
   "id": "cb1514ae-53c0-4ddd-98cd-296e7c2ea7a2",
   "metadata": {},
   "outputs": [],
   "source": [
    "%load_ext autoreload\n",
    "%autoreload 2"
   ]
  },
  {
   "cell_type": "code",
   "execution_count": 2,
   "id": "f9641ee4-f66c-4c9a-9032-129c07305339",
   "metadata": {},
   "outputs": [
    {
     "data": {
      "text/html": [
       "<pre style=\"margin: 0.1em;\n",
       "padding-left: 0.25em;\n",
       "border-left-style: solid;\n",
       "font-family: var(--jp-code-font-family);\n",
       "font-size: var(--jp-code-font-size);\n",
       "line-height: var(--jp-code-line-height);\n",
       "\"><span style=\"color: var(--jp-warn-color2)\">lsst.ts.utils.tai</span> <span style=\"color: var(--jp-info-color0)\">INFO</span>: Update leap second table</pre>"
      ],
      "text/plain": [
       "<IPython.core.display.HTML object>"
      ]
     },
     "metadata": {},
     "output_type": "display_data"
    },
    {
     "data": {
      "text/html": [
       "<pre style=\"margin: 0.1em;\n",
       "padding-left: 0.25em;\n",
       "border-left-style: solid;\n",
       "font-family: var(--jp-code-font-family);\n",
       "font-size: var(--jp-code-font-size);\n",
       "line-height: var(--jp-code-line-height);\n",
       "\"><span style=\"color: var(--jp-warn-color2)\">lsst.ts.utils.tai</span> <span style=\"color: var(--jp-info-color0)\">INFO</span>: current_tai uses the system TAI clock</pre>"
      ],
      "text/plain": [
       "<IPython.core.display.HTML object>"
      ]
     },
     "metadata": {},
     "output_type": "display_data"
    },
    {
     "name": "stdout",
     "output_type": "stream",
     "text": [
      "\n",
      "Executed by b1quint on 2022-06-09T00:11:18.025.\n",
      "  Running in pillan03 at tucson\n",
      "\n"
     ]
    }
   ],
   "source": [
    "from lsst.sitcom import vandv\n",
    "\n",
    "exec_info = vandv.ExecutionInfo()\n",
    "print(exec_info)"
   ]
  },
  {
   "cell_type": "markdown",
   "id": "427b59f9-8dbd-4cad-8d8f-dc191ccb3211",
   "metadata": {},
   "source": [
    "---\n",
    "## LVV-T1996 (1.0) M1M3 DDS Startup Procedure\n",
    "\n",
    "[LVV-T1996 (1.0)]: https://jira.lsstcorp.org/secure/Tests.jspa#/testCase/LVV-T1996"
   ]
  },
  {
   "cell_type": "markdown",
   "id": "8c52a9a9-fca6-4cf0-91bc-49fe2a85aa3a",
   "metadata": {},
   "source": [
    "---\n",
    "## Telemetry Verification\n",
    "\n",
    "Verify the MTM1M3_forceActuatorData telemetry data is being published to the EFD with the following parameters:\n",
    "\n",
    "- primaryCylinderForce\n",
    "- secondaryCylinderForce\n",
    "- xForce\n",
    "- yForce\n",
    "- zForce\n",
    "- fx\n",
    "- fy\n",
    "- fz\n",
    "- mx\n",
    "- my\n",
    "- mz\n",
    "- timestamp\n",
    "- forceMagnitude\n",
    "\n",
    "Check [Chronograph - M1M3 Status].\n",
    "\n",
    "[Chronograph - M1M3 Status]: https://chronograf-tucson-teststand-efd.lsst.codes/sources/1/dashboards/37?refresh=Paused&lower=now%28%29%20-%205m"
   ]
  },
  {
   "cell_type": "markdown",
   "id": "49944cc7-309a-48d5-af99-98e56482c73d",
   "metadata": {},
   "source": [
    "---\n",
    "Verify the MTM1M3_forceActuatorPressure telemetry data is being published to the EFD with the following parameters:\n",
    "- timestamps\n",
    "- primaryCylinderPullPressures\n",
    "- primaryCylinderPushPressures\n",
    "- secondaryCylinderPullPressures\n",
    "- secondaryCylinderPushPressures"
   ]
  },
  {
   "cell_type": "markdown",
   "id": "bc33a8a4-c2a3-4bda-8da9-24988f29ab50",
   "metadata": {},
   "source": [
    "---\n",
    "Verify the MTM1M3_inclinometerDatatelemetry data is being published to the EFD with the following parameters:\n",
    "- timestamp\n",
    "- inclinometerAngle"
   ]
  }
 ],
 "metadata": {
  "kernelspec": {
   "display_name": "LSST",
   "language": "python",
   "name": "lsst"
  },
  "language_info": {
   "codemirror_mode": {
    "name": "ipython",
    "version": 3
   },
   "file_extension": ".py",
   "mimetype": "text/x-python",
   "name": "python",
   "nbconvert_exporter": "python",
   "pygments_lexer": "ipython3",
   "version": "3.8.13"
  }
 },
 "nbformat": 4,
 "nbformat_minor": 5
}
