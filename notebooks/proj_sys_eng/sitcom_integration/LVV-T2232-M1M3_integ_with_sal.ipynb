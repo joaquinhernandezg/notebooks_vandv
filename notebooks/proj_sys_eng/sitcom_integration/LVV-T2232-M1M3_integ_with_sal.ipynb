{
 "cells": [
  {
   "cell_type": "markdown",
   "id": "cf98a35e-df78-4181-9350-ce0dd7e7e900",
   "metadata": {},
   "source": [
    "# [LVV-T2232] - M1M3 Integration with SAL\n",
    "\n",
    "The objective of this test case is to verify the latest M1M3 commands, events, and telemetry defined by the latest version of the XML.  \n",
    "This test case will exercise the functionality of the M1M3 on the 3rd level of the Summit and meets the following criteria:\n",
    "- Only requires the most current version of SAL\n",
    "- Only requires the M1M3 surrogate to be loaded on the cell\n",
    "- Requires the use of the DDS and the EFD\n",
    "\n",
    "[LVV-T2232]: https://jira.lsstcorp.org/secure/Tests.jspa#/testCase/LVV-T2232"
   ]
  },
  {
   "cell_type": "code",
   "execution_count": null,
   "id": "cb1514ae-53c0-4ddd-98cd-296e7c2ea7a2",
   "metadata": {},
   "outputs": [],
   "source": [
    "%load_ext autoreload\n",
    "%autoreload 2"
   ]
  },
  {
   "cell_type": "code",
   "execution_count": null,
   "id": "f9641ee4-f66c-4c9a-9032-129c07305339",
   "metadata": {},
   "outputs": [],
   "source": [
    "from lsst.sitcom import vandv\n",
    "\n",
    "exec_info = vandv.ExecutionInfo()\n",
    "print(exec_info)"
   ]
  },
  {
   "cell_type": "code",
   "execution_count": null,
   "id": "2c7d2b7c-e800-4bfe-8053-0b889f71e5e4",
   "metadata": {},
   "outputs": [],
   "source": [
    "test_case = \"LVV-T2232\"\n",
    "test_execution = \"LVV-E1285\""
   ]
  },
  {
   "cell_type": "markdown",
   "id": "427b59f9-8dbd-4cad-8d8f-dc191ccb3211",
   "metadata": {},
   "source": [
    "---\n",
    "## LVV-T1996 (1.0) M1M3 DDS Startup Procedure\n",
    "\n",
    "[LVV-T1996 (1.0)]: https://jira.lsstcorp.org/secure/Tests.jspa#/testCase/LVV-T1996"
   ]
  },
  {
   "cell_type": "code",
   "execution_count": null,
   "id": "f92edceb-392e-4528-9718-b0806ac5a402",
   "metadata": {},
   "outputs": [],
   "source": [
    "import asyncio\n",
    "import os\n",
    "import yaml\n",
    "\n",
    "import astropy.units as u\n",
    "import numpy as np\n",
    "import matplotlib.pyplot as plt\n",
    "import pandas as pd\n",
    "\n",
    "from astropy import time \n",
    "from astropy.coordinates import AltAz, ICRS, EarthLocation, Angle, FK5\n",
    "from datetime import datetime, timedelta\n",
    "\n",
    "from lsst_efd_client import EfdClient\n",
    "from lsst.ts import utils, salobj\n",
    "from lsst.ts.cRIOpy import M1M3FATable\n",
    "from lsst.ts.observatory.control.maintel.mtcs import MTCS, MTCSUsages\n",
    "from lsst.ts.observatory.control import RotType\n",
    "\n",
    "import lsst.sitcom.vandv as vandv"
   ]
  },
  {
   "cell_type": "code",
   "execution_count": null,
   "id": "702090c1-90c6-44a6-b764-408d1b150bda",
   "metadata": {},
   "outputs": [],
   "source": [
    "logging.basicConfig(format=\"%(name)s:%(message)s\", level=logging.DEBUG)"
   ]
  },
  {
   "cell_type": "code",
   "execution_count": null,
   "id": "a36de812-1703-4896-a489-21790e422408",
   "metadata": {},
   "outputs": [],
   "source": [
    "log = logging.getLogger(\"setup\")\n",
    "log.level = logging.DEBUG"
   ]
  },
  {
   "cell_type": "code",
   "execution_count": null,
   "id": "669bd018-a0b8-48b8-870f-08ed46600556",
   "metadata": {},
   "outputs": [],
   "source": [
    "domain = salobj.Domain()"
   ]
  },
  {
   "cell_type": "code",
   "execution_count": null,
   "id": "8d908f00-44fa-4285-b9e7-fcc11806ad34",
   "metadata": {},
   "outputs": [],
   "source": [
    "mtcs = MTCS(domain=domain, log=log)\n",
    "mtcs.set_rem_loglevel(40)"
   ]
  },
  {
   "cell_type": "code",
   "execution_count": null,
   "id": "9bd3bd48-1fb4-402c-b8b5-471e805e6c23",
   "metadata": {},
   "outputs": [],
   "source": [
    "await mtcs.start_task"
   ]
  },
  {
   "cell_type": "code",
   "execution_count": null,
   "id": "3ad6dcd7-e547-4536-b8c0-70b769b35dd6",
   "metadata": {},
   "outputs": [],
   "source": [
    "index = exec_info.get_index(test_case, test_execution)\n",
    "\n",
    "start_time = datetime.now()\n",
    "script = salobj.Controller(\"Script\", index=index)"
   ]
  },
  {
   "cell_type": "code",
   "execution_count": null,
   "id": "7d6f7f5d-d0fa-409d-bf0b-f4eefa3335db",
   "metadata": {},
   "outputs": [],
   "source": [
    "await mtcs.set_state(state=salobj.State.DISABLED, components=[\"mtm1m3\"], overrides={\"mtm1m3\": \"Default\"})"
   ]
  },
  {
   "cell_type": "code",
   "execution_count": null,
   "id": "6a13098a-7b91-4dd3-9c79-e930d42c8009",
   "metadata": {},
   "outputs": [],
   "source": [
    "await mtcs.set_state(state=salobj.State.ENABLED, components=[\"mtm1m3\"])"
   ]
  },
  {
   "cell_type": "code",
   "execution_count": null,
   "id": "56427680-b9dd-41ea-abfa-4dba50d6daca",
   "metadata": {},
   "outputs": [],
   "source": [
    "script.log.info(f\"{test_case} - {test_execution} - Start\")"
   ]
  },
  {
   "cell_type": "markdown",
   "id": "8c52a9a9-fca6-4cf0-91bc-49fe2a85aa3a",
   "metadata": {},
   "source": [
    "---\n",
    "## Telemetry Verification\n",
    "\n",
    "Verify the MTM1M3_forceActuatorData telemetry data is being published to the EFD with the following parameters:\n",
    "\n",
    "```\n",
    "primaryCylinderForce    secondaryCylinderForce    xForce    yForce    zForce\n",
    "fx                      fy                        fz        mx        my\n",
    "mz                      timestamp                 forceMagnitude\n",
    "```\n",
    "\n",
    "Check [Chronograph - M1M3 Status].\n",
    "\n",
    "[Chronograph - M1M3 Status]: https://chronograf-tucson-teststand-efd.lsst.codes/sources/1/dashboards/37?refresh=Paused&lower=now%28%29%20-%205m"
   ]
  },
  {
   "cell_type": "code",
   "execution_count": null,
   "id": "ef1c779f-e6ae-4210-afa6-fedfa1c00ebd",
   "metadata": {},
   "outputs": [],
   "source": [
    "if exec_info.loc == \"summit\":\n",
    "    client = EfdClient(\"summit_efd\")\n",
    "elif location == \"tucson\":\n",
    "    client = EfdClient(\"tucson_teststand_efd\")\n",
    "else:\n",
    "    raise ValueError(\n",
    "        \"Location does not match any valid options {summit|tucson}\"\n",
    "    )"
   ]
  },
  {
   "cell_type": "code",
   "execution_count": null,
   "id": "16af3e4a-9488-4def-8033-419c5a234f49",
   "metadata": {},
   "outputs": [],
   "source": [
    "start = time.Time(\"2022-06-14T20:20\", scale=\"utc\", format=\"isot\")\n",
    "end = time.Time(\"2022-06-14T20:30\", scale=\"utc\", format=\"isot\")"
   ]
  },
  {
   "cell_type": "code",
   "execution_count": null,
   "id": "947c2859-39b4-4bf2-8998-de18ff33561a",
   "metadata": {},
   "outputs": [],
   "source": [
    "df = await client.select_time_series(\n",
    "    \"lsst.sal.MTM1M3.forceActuatorData\", \n",
    "    fields=\"*\", \n",
    "    start=start.utc, \n",
    "    end=end.utc,\n",
    ")"
   ]
  },
  {
   "cell_type": "code",
   "execution_count": null,
   "id": "9062229f-d890-4e43-8c7c-aa689bac0728",
   "metadata": {},
   "outputs": [],
   "source": [
    "df"
   ]
  },
  {
   "cell_type": "code",
   "execution_count": null,
   "id": "c9e36428-d407-4001-abae-a92af629e343",
   "metadata": {},
   "outputs": [],
   "source": [
    "df.iloc[0]"
   ]
  },
  {
   "cell_type": "markdown",
   "id": "49944cc7-309a-48d5-af99-98e56482c73d",
   "metadata": {},
   "source": [
    "---\n",
    "Verify the `MTM1M3_forceActuatorPressure` telemetry data is being published to the EFD with the following parameters:\n",
    "- timestamps\n",
    "- primaryCylinderPullPressures\n",
    "- primaryCylinderPushPressures\n",
    "- secondaryCylinderPullPressures\n",
    "- secondaryCylinderPushPressures"
   ]
  },
  {
   "cell_type": "code",
   "execution_count": null,
   "id": "81eadb8b-b27d-402c-b06d-134beccf43f3",
   "metadata": {},
   "outputs": [],
   "source": [
    "fap_df = await client.select_time_series(\n",
    "    \"lsst.sal.MTM1M3.forceActuatorPressure\", \n",
    "    fields=\"*\", \n",
    "    start=start.utc, \n",
    "    end=end.utc,\n",
    ")"
   ]
  },
  {
   "cell_type": "code",
   "execution_count": null,
   "id": "0b7fe66f-b657-43b8-b487-6c5c67609a5e",
   "metadata": {},
   "outputs": [],
   "source": [
    "fap_df"
   ]
  },
  {
   "cell_type": "markdown",
   "id": "bc33a8a4-c2a3-4bda-8da9-24988f29ab50",
   "metadata": {},
   "source": [
    "---\n",
    "Verify the `MTM1M3_inclinometerDatatelemetry` data is being published to the EFD with the following parameters:\n",
    "- timestamp\n",
    "- inclinometerAngle"
   ]
  },
  {
   "cell_type": "code",
   "execution_count": null,
   "id": "12e7f662-d10c-4c11-a64e-925cf15eebcb",
   "metadata": {},
   "outputs": [],
   "source": [
    "df_id = await client.select_time_series(\n",
    "    \"lsst.sal.MTM1M3.outerLoopData\", \n",
    "    fields=\"*\", \n",
    "    start=start.utc, \n",
    "    end=end.utc,\n",
    ")"
   ]
  },
  {
   "cell_type": "code",
   "execution_count": null,
   "id": "4b386744-c704-4b2c-80b2-4bfad8fad108",
   "metadata": {},
   "outputs": [],
   "source": [
    "df_id"
   ]
  },
  {
   "cell_type": "markdown",
   "id": "23b1eb56-12b4-4018-be5b-75eb4ad25c3f",
   "metadata": {},
   "source": [
    "---\n",
    "Verify the MTM1M3_pidData telemetry data is being published to the EFD with the following parameters:\n",
    "\n",
    "    measuredPID\n",
    "    timestamp\n",
    "    setpoint\n",
    "    error\n",
    "    errorT1\n",
    "    errorT2\n",
    "    control\n",
    "    controlT1\n",
    "    controlT2"
   ]
  },
  {
   "cell_type": "code",
   "execution_count": null,
   "id": "9a2fecb3-596c-4d7a-ac51-1c4587e32288",
   "metadata": {},
   "outputs": [],
   "source": [
    "df_pidData = await client.select_time_series(\n",
    "    \"lsst.sal.MTM1M3.pidData\", \n",
    "    fields=\"*\", \n",
    "    start=start.utc, \n",
    "    end=end.utc,\n",
    ")"
   ]
  },
  {
   "cell_type": "code",
   "execution_count": null,
   "id": "1c3ed6df-d7d3-47ac-8bfb-ec4b954f5ad5",
   "metadata": {},
   "outputs": [],
   "source": [
    "df_pidData"
   ]
  },
  {
   "cell_type": "code",
   "execution_count": null,
   "id": "8fc6cfaa-e013-4fba-b065-6548ef1703cd",
   "metadata": {},
   "outputs": [],
   "source": [
    "script.log.info(\"LVV-T12232 - LVV-E1285 - END\")"
   ]
  },
  {
   "cell_type": "markdown",
   "id": "4cea52a8-e1a9-4bae-af9f-8c14c0386ee0",
   "metadata": {},
   "source": [
    "---\n",
    "## Events Verification\n",
    "Execution Steps 16 to 29.\n",
    "\n",
    "Check logevent event are being published to the EFD. "
   ]
  },
  {
   "cell_type": "code",
   "execution_count": null,
   "id": "ae3f08ae-0210-4714-9a69-134005188765",
   "metadata": {},
   "outputs": [],
   "source": [
    "start = time.Time(\"2022-06-14T20:20\", scale=\"utc\", format=\"isot\")\n",
    "end = time.Time(\"2022-06-14T20:30\", scale=\"utc\", format=\"isot\")"
   ]
  },
  {
   "cell_type": "code",
   "execution_count": null,
   "id": "777d67e4-9901-4a8f-9afd-5b8dbc68f522",
   "metadata": {},
   "outputs": [],
   "source": [
    "events = ['lsst.sal.MTM1M3.logevent_hardpointMonitorInfo', \n",
    "          'lsst.sal.MTM1M3.logevent_forceActuatorInfo', \n",
    "          'lsst.sal.MTM1M3.logevent_forceActuatorState', \n",
    "          'lsst.sal.MTM1M3.logevent_hardpointActuatorSettings', \n",
    "          'lsst.sal.MTM1M3.logevent_displacementSensorSettings', \n",
    "          'lsst.sal.MTM1M3.logevent_pidSettings', \n",
    "          'lsst.sal.MTM1M3.logevent_gyroSettings', \n",
    "          'lsst.sal.MTM1M3.logevent_inclinometerSettings', \n",
    "          'lsst.sal.MTM1M3.logevent_positionControllerSettings', \n",
    "          'lsst.sal.MTM1M3.logevent_forceActuatorSettings', \n",
    "          'lsst.sal.MTM1M3.logevent_accelerometerSettings', \n",
    "          'lsst.sal.MTM1M3.logevent_interlockStatus', \n",
    "          'lsst.sal.MTM1M3.logevent_powerSupplyStatus' ]"
   ]
  },
  {
   "cell_type": "code",
   "execution_count": null,
   "id": "174b754e-4a8b-4791-a0e5-d231d8f3b9f9",
   "metadata": {
    "tags": []
   },
   "outputs": [],
   "source": [
    "for logevent in events:\n",
    "    #print(f'{logevent} between {start} and  {end}') \n",
    "    df = await client.select_time_series(\n",
    "        logevent, \n",
    "        fields=\"*\", \n",
    "        start=start.utc, \n",
    "        end=end.utc,\n",
    "    )\n",
    "    print(logevent.center(120, '*'))\n",
    "    print(f'\\n{df}\\n')\n",
    "    \n",
    "    df.to_csv(f'./logevent/m1m3/lVV-T2232_{logevent}.csv')"
   ]
  },
  {
   "cell_type": "markdown",
   "id": "b8c88e99-26ec-4107-9197-966abbefc1f2",
   "metadata": {},
   "source": [
    "---\n",
    "Warning Events\n",
    "Note: The following steps are meant to verify the warning events are being published to the EFD via SAL, not as a result of an actual warning. \n",
    "Steps 30- 39\n",
    "Check that logevent warnings are being publisht to the EFD. "
   ]
  },
  {
   "cell_type": "code",
   "execution_count": null,
   "id": "da86e852-19aa-4e0b-9ec9-196e577e1a90",
   "metadata": {},
   "outputs": [],
   "source": [
    "warning_events = ['lsst.sal.MTM1M3.logevent_airSupplyWarning',\n",
    "            'lsst.sal.MTM1M3.logevent_ilcWarning',\n",
    "            'lsst.sal.MTM1M3.logevent_forceActuatorWarning',\n",
    "            'lsst.sal.MTM1M3.logevent_interlockWarning',\n",
    "            'lsst.sal.MTM1M3.logevent_displacementSensorWarning',\n",
    "            'lsst.sal.MTM1M3.logevent_inclinometerSensorWarning',\n",
    "            'lsst.sal.MTM1M3.logevent_accelerometerWarning',\n",
    "            'lsst.sal.MTM1M3.logevent_forceSetpointWarning',\n",
    "            'lsst.sal.MTM1M3.logevent_gyroWarning',\n",
    "            'lsst.sal.MTM1M3.logevent_forceActuatorForceWarning']\n",
    "            "
   ]
  },
  {
   "cell_type": "code",
   "execution_count": null,
   "id": "0b04125f-2337-4cf5-a935-73be5a8a62a1",
   "metadata": {},
   "outputs": [],
   "source": [
    "for warning in warning_events:\n",
    "    #print(f'{warning} between {start} and  {end}') \n",
    "    df = await client.select_time_series(\n",
    "        warning, \n",
    "        fields=\"*\", \n",
    "        start=start, \n",
    "        end=end,\n",
    "    )\n",
    "    print(warning.center(120, '*'))\n",
    "    print(f'\\n{df}\\n')\n",
    "    \n",
    "    df.to_csv(f'./logevent/m1m3/lVV-T2232_{warning}.csv')"
   ]
  },
  {
   "cell_type": "markdown",
   "id": "53620a94-22a6-4467-a833-04b275fd9ab8",
   "metadata": {
    "tags": []
   },
   "source": [
    "---\n",
    "## 61 - Engineering Mode Test\n",
    "\n",
    "While the M1M3 is enabled and in the PARKED state, send an `MTM1M3_command_enterEngineering` command. \n",
    "\n",
    "`PARKED` means that it is not raised."
   ]
  },
  {
   "cell_type": "code",
   "execution_count": null,
   "id": "b3af8e30-1361-4590-9b31-0d8e805bbc0b",
   "metadata": {},
   "outputs": [],
   "source": [
    "await mtcs.rem.mtm1m3.cmd_enterEngineering.set_start()"
   ]
  },
  {
   "cell_type": "code",
   "execution_count": null,
   "id": "174bc97e-fe94-43e2-b0e6-7f06582c6e3f",
   "metadata": {},
   "outputs": [],
   "source": [
    "from lsst.ts.idl.enums.MTM1M3 import DetailedState\n",
    "\n",
    "m1m3_dstate = mtcs.rem.mtm1m3.evt_detailedState.get()\n",
    "\n",
    "print(DetailedState.PARKEDENGINEERING == m1m3_dstate.detailedState)"
   ]
  },
  {
   "cell_type": "markdown",
   "id": "643f97b0-614e-4861-a24a-6615b4e253e9",
   "metadata": {},
   "source": [
    "---\n",
    "With the system in the ParkedEngineering state and the M1M3 cell lights off, send an MTM1M3_command_turnLightsOn command."
   ]
  },
  {
   "cell_type": "code",
   "execution_count": null,
   "id": "537a4c0e-d80c-4e73-b5d8-758d1b7e07ec",
   "metadata": {},
   "outputs": [],
   "source": [
    "await mtcs.rem.mtm1m3.cmd_turnLightsOn.set_start()"
   ]
  },
  {
   "cell_type": "code",
   "execution_count": null,
   "id": "034cdfc3-dfa0-4d00-968e-98ef99e46ab1",
   "metadata": {},
   "outputs": [],
   "source": [
    "print( mtcs.rem.mtm1m3.evt_cellLightStatus.get() )"
   ]
  },
  {
   "cell_type": "code",
   "execution_count": null,
   "id": "7039b2a8-8f2d-4b41-a243-c2a1fa8b7f15",
   "metadata": {},
   "outputs": [],
   "source": [
    "print( mtcs.rem.mtm1m3.evt_cellLightWarning.get() )"
   ]
  },
  {
   "cell_type": "markdown",
   "id": "b9f013cc-01c1-4b0c-a47b-274392d6a78a",
   "metadata": {},
   "source": [
    "---\n",
    "With the system in the ParkedEngineering state and the M1M3 cell lights off, send an MTM1M3_command_turnLightsOff command."
   ]
  },
  {
   "cell_type": "code",
   "execution_count": null,
   "id": "6a10b1c8-89c9-405a-8d97-a2c035106d31",
   "metadata": {},
   "outputs": [],
   "source": [
    "await mtcs.rem.mtm1m3.cmd_turnLightsOff.set_start()"
   ]
  },
  {
   "cell_type": "code",
   "execution_count": null,
   "id": "3d0be2cc-a1a2-483b-b5ce-0ccbface62f3",
   "metadata": {},
   "outputs": [],
   "source": [
    "print( mtcs.rem.mtm1m3.evt_cellLightStatus.get() )"
   ]
  },
  {
   "cell_type": "code",
   "execution_count": null,
   "id": "4c7103b0-d3de-46ad-95da-74275e1a8b4a",
   "metadata": {},
   "outputs": [],
   "source": [
    "print( mtcs.rem.mtm1m3.evt_cellLightWarning.get() )"
   ]
  },
  {
   "cell_type": "markdown",
   "id": "dd677325-9163-4d8c-b431-38d3e31d026d",
   "metadata": {},
   "source": [
    "---\n",
    "With the system in the ParkedEngineering state and the telescope is not moving, send an MTM1M3_command_setAirSlewFlag command to open the booster valves."
   ]
  },
  {
   "cell_type": "code",
   "execution_count": null,
   "id": "569ae6ea-ebc7-4ba0-98db-4afbbfa54da6",
   "metadata": {},
   "outputs": [],
   "source": [
    "print( mtcs.rem.mtm1m3.evt_forceActuatorState.get() )"
   ]
  },
  {
   "cell_type": "code",
   "execution_count": null,
   "id": "fe0507ed-8d15-42c6-a465-ece8ed6dd490",
   "metadata": {},
   "outputs": [],
   "source": [
    "await mtcs.rem.mtm1m3.cmd_setAirSlewFlag.set_start()"
   ]
  },
  {
   "cell_type": "code",
   "execution_count": null,
   "id": "600772f2-b634-4f63-8dc7-30fc5a154462",
   "metadata": {},
   "outputs": [],
   "source": [
    "print( mtcs.rem.mtm1m3.evt_forceActuatorState.get() )"
   ]
  },
  {
   "cell_type": "markdown",
   "id": "acdfc4b2-bae1-47af-b51d-db105e7d7189",
   "metadata": {},
   "source": [
    "---\n",
    "In the ParkedEngineering state, send an MTM1M3_command_testHardpoint command."
   ]
  },
  {
   "cell_type": "code",
   "execution_count": null,
   "id": "3e592926-8767-4b05-af8f-b3713327b779",
   "metadata": {},
   "outputs": [],
   "source": [
    "await mtcs.rem.mtm1m3.cmd_testHardpoint.set_start(hardpointActuator=1)"
   ]
  },
  {
   "cell_type": "markdown",
   "id": "ed1d7b33-857a-4ad6-beca-da9e971dcc2f",
   "metadata": {},
   "source": [
    "---\n",
    "In the enabled state, send an MTM1M3_command_moveHardpointActuators command."
   ]
  },
  {
   "cell_type": "code",
   "execution_count": null,
   "id": "6ef729d1-4eb8-46ed-89f4-06f000475bcf",
   "metadata": {},
   "outputs": [],
   "source": [
    "await mtcs.rem.mtm1m3.cmd_moveHardpointActuators.set_start(steps=[1000]*6)"
   ]
  },
  {
   "cell_type": "markdown",
   "id": "25224bb2-5691-4398-8cc8-3bec75781955",
   "metadata": {},
   "source": [
    "---\n",
    "While the M1M3 is still in motion, send an MTM1M3_command_stopHardpointMotion command."
   ]
  },
  {
   "cell_type": "code",
   "execution_count": null,
   "id": "fb376fad-1114-47d5-b193-8d3583d15585",
   "metadata": {},
   "outputs": [],
   "source": [
    "# The range of the actuators is up to 64k \n",
    "await mtcs.rem.mtm1m3.cmd_moveHardpointActuators.set_start(steps=[10000]*6)\n",
    "await asyncio.sleep(3)\n",
    "await mtcs.rem.mtm1m3.cmd_stopHardpointMotion.set_start()"
   ]
  },
  {
   "cell_type": "code",
   "execution_count": null,
   "id": "34da198b-ac9a-4e7d-afc2-e02ee983ce64",
   "metadata": {},
   "outputs": [],
   "source": [
    "# Turned the air on again since I turned it off before by accident\n",
    "await mtcs.rem.mtm1m3.cmd_turnAirOn.set_start()"
   ]
  },
  {
   "cell_type": "markdown",
   "id": "e4034a16-e382-4b81-98c1-c8f5892a1eff",
   "metadata": {},
   "source": [
    "---\n",
    "In the enabled state, send an MTM1M3_command_moveHardpointActuators command."
   ]
  },
  {
   "cell_type": "code",
   "execution_count": null,
   "id": "7c213ccd-30f9-4198-a29b-09eeee2c13f2",
   "metadata": {},
   "outputs": [],
   "source": [
    "await mtcs.rem.mtm1m3.cmd_moveHardpointActuators.set_start(steps=[-10000]*6)"
   ]
  },
  {
   "cell_type": "markdown",
   "id": "63c88749-a786-4fab-a8c6-bc79aa596aa5",
   "metadata": {},
   "source": [
    "---\n",
    "## Enabled Force Actuator Test\n",
    "Verify the MTM1M3_logevent_enabledForceActuators event is published"
   ]
  },
  {
   "cell_type": "code",
   "execution_count": null,
   "id": "d5b5f35f-f4de-4f9d-9112-1965bdd15fc3",
   "metadata": {},
   "outputs": [],
   "source": [
    "await mtcs.rem.mtm1m3.cmd_disableForceActuator.set_start(actuatorId=225)"
   ]
  },
  {
   "cell_type": "code",
   "execution_count": null,
   "id": "a51c0a77-22af-4459-9ea9-0f0016c872ad",
   "metadata": {},
   "outputs": [],
   "source": [
    "print( mtcs.rem.mtm1m3.evt_enabledForceActuators.get().forceActuatorEnabled[60] )"
   ]
  },
  {
   "cell_type": "code",
   "execution_count": null,
   "id": "40a21e01-6124-4923-931c-c844b3dc6965",
   "metadata": {},
   "outputs": [],
   "source": [
    "await mtcs.rem.mtm1m3.cmd_enableForceActuator.set_start(actuatorId=225)"
   ]
  },
  {
   "cell_type": "code",
   "execution_count": null,
   "id": "73f87ea5-28f9-4c6c-885d-88d60150e473",
   "metadata": {},
   "outputs": [],
   "source": [
    "print( mtcs.rem.mtm1m3.evt_enabledForceActuators.get().forceActuatorEnabled[60] )"
   ]
  },
  {
   "cell_type": "markdown",
   "id": "bda98499-8334-4388-bf39-65dfb1385dd8",
   "metadata": {},
   "source": [
    "In the enabled state of the Engineering mode, disable at least two force actuators by sending an MTM1M3_command_disableForceActuator command one at a time.\n",
    "\n",
    "Note: Any Force actuators can be disabled as long as they're not near neighbors or next to near neighbors. The actuators will also need to be disabled one at a time. For example, use force actuators 208 (index 44) and 417 (index 130)."
   ]
  },
  {
   "cell_type": "code",
   "execution_count": null,
   "id": "61970730-a808-40d4-b27c-42086be2b458",
   "metadata": {},
   "outputs": [],
   "source": [
    "await mtcs.rem.mtm1m3.cmd_enableAllForceActuators.set_start()"
   ]
  },
  {
   "cell_type": "code",
   "execution_count": null,
   "id": "dfea4e57-5b7f-400a-9cd3-32799cf174fe",
   "metadata": {},
   "outputs": [],
   "source": [
    "await mtcs.rem.mtm1m3.cmd_disableForceActuator.set_start(actuatorId=208)\n",
    "print( mtcs.rem.mtm1m3.evt_enabledForceActuators.get().forceActuatorEnabled[44] )"
   ]
  },
  {
   "cell_type": "code",
   "execution_count": null,
   "id": "bb230a26-6363-4ebf-bd32-042d80429f57",
   "metadata": {},
   "outputs": [],
   "source": [
    "print( mtcs.rem.mtm1m3.evt_enabledForceActuators.get().forceActuatorEnabled[44] )"
   ]
  },
  {
   "cell_type": "code",
   "execution_count": null,
   "id": "a6882864-b3e2-4733-b8fe-fa8f0b2e8e12",
   "metadata": {},
   "outputs": [],
   "source": [
    "await mtcs.rem.mtm1m3.cmd_disableForceActuator.set_start(actuatorId=417)\n",
    "await asyncio.sleep(0.1)  # This is only to deal with the async behavior\n",
    "print( mtcs.rem.mtm1m3.evt_enabledForceActuators.get().forceActuatorEnabled[130] )"
   ]
  },
  {
   "cell_type": "markdown",
   "id": "d729f854-ff93-4d39-89d7-40e7152392fe",
   "metadata": {},
   "source": [
    "---\n",
    "In the enabled state of the Engineering mode, send an MTM1M3_command_enableAllForceActuators command.\n"
   ]
  },
  {
   "cell_type": "code",
   "execution_count": null,
   "id": "f4c98867-2bbc-4bb9-beb0-b469f7652653",
   "metadata": {},
   "outputs": [],
   "source": [
    "await mtcs.rem.mtm1m3.cmd_enableAllForceActuators.set_start()\n",
    "await asyncio.sleep(0.1)  # This is only to deal with the async behavior\n",
    "print(\"Actuator 208 enabled? \", mtcs.rem.mtm1m3.evt_enabledForceActuators.get().forceActuatorEnabled[44] )\n",
    "print(\"Actuator 417 enabled? \", mtcs.rem.mtm1m3.evt_enabledForceActuators.get().forceActuatorEnabled[130] )\n",
    "print(\"All actuators enabled?\", all(mtcs.rem.mtm1m3.evt_enabledForceActuators.get().forceActuatorEnabled) )"
   ]
  },
  {
   "cell_type": "markdown",
   "id": "5f33f9cd-cf06-4032-92dd-9d4af786f86d",
   "metadata": {},
   "source": [
    "---\n",
    "## Raise M1M3\n",
    "With the M1M3 in the enabled state, send an MTM1M3_command_raiseM1M3 command."
   ]
  },
  {
   "cell_type": "code",
   "execution_count": null,
   "id": "417a2b26-cd0e-4663-b21b-cfaa2c133eb6",
   "metadata": {},
   "outputs": [],
   "source": [
    "await mtcs.rem.mtm1m3.cmd_raiseM1M3.set_start()"
   ]
  },
  {
   "cell_type": "markdown",
   "id": "38dfa992-5630-4be4-98f9-92a3c31f31f9",
   "metadata": {},
   "source": [
    "---\n",
    "Before the M1M3 is fully raised, send an MTM1M3_command_abortRaiseM1M3 command."
   ]
  },
  {
   "cell_type": "code",
   "execution_count": null,
   "id": "61c6085b-47f1-4700-a211-313262d2c493",
   "metadata": {},
   "outputs": [],
   "source": [
    "await mtcs.rem.mtm1m3.cmd_lowerM1M3.set_start()"
   ]
  },
  {
   "cell_type": "code",
   "execution_count": null,
   "id": "4790ca48-9cf6-4f42-b8ac-b4fb118d35de",
   "metadata": {},
   "outputs": [],
   "source": [
    "await mtcs.rem.mtm1m3.cmd_raiseM1M3.set_start()\n",
    "await asyncio.sleep(10)\n",
    "await mtcs.rem.mtm1m3.cmd_abortRaiseM1M3.set_start()"
   ]
  },
  {
   "cell_type": "markdown",
   "id": "f19b3093-58e7-4b9e-8c49-80092844ef4a",
   "metadata": {},
   "source": [
    "---\n",
    "Send an MTM1M3_command_raiseM1M3 command and allow the M1M3 to be fully raised."
   ]
  },
  {
   "cell_type": "code",
   "execution_count": null,
   "id": "4383261c-8318-4dc0-b7c3-bd40f8153daa",
   "metadata": {},
   "outputs": [],
   "source": [
    "await mtcs.rem.mtm1m3.cmd_raiseM1M3.set_start()"
   ]
  },
  {
   "cell_type": "markdown",
   "id": "65a064f7-143e-4912-926f-ab407d2871a3",
   "metadata": {},
   "source": [
    "---\n",
    "With the M1M3 fully raised and the system in the ActiveEngineering state, send an MTM1M3_command_lowerM1M3 command."
   ]
  },
  {
   "cell_type": "code",
   "execution_count": null,
   "id": "ba1cf4ac-05bb-4cf8-b674-beab581d5c67",
   "metadata": {},
   "outputs": [],
   "source": [
    "await mtcs.rem.mtm1m3.cmd_lowerM1M3.set_start()"
   ]
  },
  {
   "cell_type": "markdown",
   "id": "e10b3f91-3b03-4475-8e04-96e7b23df7c7",
   "metadata": {},
   "source": [
    "---\n",
    "With the M1M3 lowered and the system still in the ParkedEngineering state, send an MTM1M3_command_raiseM1M3 command."
   ]
  },
  {
   "cell_type": "code",
   "execution_count": null,
   "id": "c79ad621-fa9b-4d43-9238-f5770a4ac591",
   "metadata": {},
   "outputs": [],
   "source": [
    "await mtcs.rem.mtm1m3.cmd_raiseM1M3.set_start()"
   ]
  },
  {
   "cell_type": "markdown",
   "id": "b508c1ae-ec31-4841-a2d0-35e22bdeaf1b",
   "metadata": {},
   "source": [
    "---\n",
    "While the M1M3 is still being raised, send an MTM1M3_command_disableHardpointChase command."
   ]
  },
  {
   "cell_type": "code",
   "execution_count": null,
   "id": "83eb102b-1dd0-433f-90e8-82768b316e99",
   "metadata": {},
   "outputs": [],
   "source": [
    "await mtcs.rem.mtm1m3.cmd_lowerM1M3.set_start()"
   ]
  },
  {
   "cell_type": "code",
   "execution_count": null,
   "id": "4bdca0fa-80eb-4ab9-84d4-35aaef718f72",
   "metadata": {},
   "outputs": [],
   "source": [
    "await mtcs.rem.mtm1m3.cmd_raiseM1M3.set_start()"
   ]
  },
  {
   "cell_type": "code",
   "execution_count": null,
   "id": "8d16b8fc-9d80-4d70-8f27-3ffbfbe5fef4",
   "metadata": {},
   "outputs": [],
   "source": [
    "await mtcs.rem.mtm1m3.cmd_disableHardpointChase.set_start()"
   ]
  },
  {
   "cell_type": "code",
   "execution_count": null,
   "id": "24683dd2-4667-4c60-8ffa-6137222714c9",
   "metadata": {},
   "outputs": [],
   "source": [
    "await mtcs.rem.mtm1m3.cmd_enableHardpointChase.set_start()"
   ]
  },
  {
   "cell_type": "markdown",
   "id": "dcdfb8a0-e7ab-4920-a7eb-32e18b54b4a6",
   "metadata": {},
   "source": [
    "---\n",
    "With the M1M3 lowered and the system still in the ParkedEngineering state, send an MTM1M3_command_raiseM1M3 command.\n",
    "\n",
    "- The command is accepted and the M1M3 starts to raise.\n",
    "- The MTM1M3_logevent_detailedState event transitions from PARKED to RAISING"
   ]
  },
  {
   "cell_type": "code",
   "execution_count": null,
   "id": "cda611b1-5f8e-49bf-b5c9-539d482f07b8",
   "metadata": {},
   "outputs": [],
   "source": [
    "await mtcs.rem.mtm1m3.cmd_lowerM1M3.set_start()"
   ]
  },
  {
   "cell_type": "code",
   "execution_count": null,
   "id": "d90ee0eb-d99b-44f1-aaf4-7d0476c1638f",
   "metadata": {},
   "outputs": [],
   "source": [
    "await mtcs.rem.mtm1m3.cmd_raiseM1M3.set_start()\n",
    "await asyncio.sleep(5)\n",
    "print( mtcs.rem.mtm1m3.evt_detailedState.get() )"
   ]
  },
  {
   "cell_type": "code",
   "execution_count": null,
   "id": "c0226304-aa47-49ae-8c3d-dece4fc4a6bc",
   "metadata": {},
   "outputs": [],
   "source": [
    "print( mtcs.rem.mtm1m3.evt_detailedState.get() == DetailedState.RAISINGENGINEERING)"
   ]
  },
  {
   "cell_type": "markdown",
   "id": "21d1aad2-fb7e-476b-8eda-cd138562d099",
   "metadata": {},
   "source": [
    "---\n",
    "While the M1M3 is still being raised, send an MTM1M3_command_disableHardpointCorrections command.\n",
    "Wait 10seconds after sending the MTM1M3_command_disableHardpointCorrections command and send the MTM1M3_command_enableHardpointCorrections command while the M1M3 is still being raised."
   ]
  },
  {
   "cell_type": "code",
   "execution_count": null,
   "id": "4b34a11d-c913-4e2f-8ced-960bf887ec72",
   "metadata": {},
   "outputs": [],
   "source": [
    "await mtcs.rem.mtm1m3.cmd_lowerM1M3.set_start()"
   ]
  },
  {
   "cell_type": "code",
   "execution_count": null,
   "id": "5f2e1ffa-a8d2-494f-af79-1617465677cc",
   "metadata": {},
   "outputs": [],
   "source": [
    "await mtcs.rem.mtm1m3.cmd_raiseM1M3.set_start()\n",
    "await asyncio.sleep(10)\n",
    "await mtcs.rem.mtm1m3.cmd_disableHardpointCorrections.set_start()\n",
    "await asyncio.sleep(10)\n",
    "await mtcs.rem.mtm1m3.cmd_enableHardpointCorrections()"
   ]
  },
  {
   "cell_type": "markdown",
   "id": "af3c8ad1-c336-4d8d-a6c7-4a72bea357fc",
   "metadata": {},
   "source": [
    "---\n",
    "In the ACTIVEENGINEERING state, send an MTM1M3_command_updatePID command with the following parameters:\n",
    "- pid: 2 (any number 1-6)\n",
    "- timestep: 0.03s (default is 0.02)\n",
    "- p: 0.02\n",
    "- i: 3.0\n",
    "- d: 0\n",
    "- n: 0"
   ]
  },
  {
   "cell_type": "code",
   "execution_count": null,
   "id": "ef1849f2-dce8-4b93-8e7d-98d4ba85e85d",
   "metadata": {},
   "outputs": [],
   "source": [
    "await mtcs.rem.mtm1m3.cmd_updatePID.set_start(\n",
    "    pid=2, timestep=0.03, p=0.02, i=3.0, d=0, n=0)"
   ]
  },
  {
   "cell_type": "code",
   "execution_count": null,
   "id": "c2b3e746-5771-46ff-876f-5a29643b6890",
   "metadata": {},
   "outputs": [],
   "source": [
    "print( mtcs.rem.mtm1m3.evt_forceActuatorState.get().balanceForcesApplied )"
   ]
  },
  {
   "cell_type": "code",
   "execution_count": null,
   "id": "87fa5fc9-5002-4237-b868-f460d6273ace",
   "metadata": {},
   "outputs": [],
   "source": [
    "print( mtcs.rem.mtm1m3.evt_pidInfo.get() )"
   ]
  },
  {
   "cell_type": "markdown",
   "id": "96db3241-bec5-4904-a6af-9942e766cf09",
   "metadata": {},
   "source": [
    "---\n",
    "In the ACTIVEENGINEERING state, send an MTM1M3_command_resetPID command for 2"
   ]
  },
  {
   "cell_type": "code",
   "execution_count": null,
   "id": "947607ae-f866-4e34-9c7b-8303db294f22",
   "metadata": {},
   "outputs": [],
   "source": [
    "await mtcs.rem.mtm1m3.cmd_resetPID.set_start(pid=2)"
   ]
  },
  {
   "cell_type": "code",
   "execution_count": null,
   "id": "088030a2-8651-4129-b386-699570f9298a",
   "metadata": {},
   "outputs": [],
   "source": [
    "print( mtcs.rem.mtm1m3.evt_forceActuatorState.get().balanceForcesApplied )"
   ]
  },
  {
   "cell_type": "code",
   "execution_count": null,
   "id": "38874529-9f25-4ea5-a7b6-cb0648373e0d",
   "metadata": {},
   "outputs": [],
   "source": [
    "print( mtcs.rem.mtm1m3.evt_pidInfo.get() )"
   ]
  },
  {
   "cell_type": "markdown",
   "id": "2bfd9be0-4d7b-4fe5-82ba-4a9fe6abe0e5",
   "metadata": {},
   "source": [
    "---\n",
    "In the ACTIVEENGINEERING state, send an MTM1M3_command_runMirrorForceProfile command of (10,10,10,10,10,10)"
   ]
  },
  {
   "cell_type": "code",
   "execution_count": null,
   "id": "30cab455-d4d0-4310-b7b6-8572243d8c0a",
   "metadata": {},
   "outputs": [],
   "source": [
    "await mtcs.rem.mtm1m3.cmd_runMirrorForceProfile.set_start(\n",
    "    xForce=[0]*1000, \n",
    "    yForce=10, zForce=10, xMoment=10, yMoment=10, zMoment=10)"
   ]
  },
  {
   "cell_type": "markdown",
   "id": "20a17b0b-91eb-42f2-a8b6-abd9105d4c1d",
   "metadata": {},
   "source": [
    "---\n",
    "Send an MTM1M3_command_abortProfile command."
   ]
  },
  {
   "cell_type": "code",
   "execution_count": null,
   "id": "095d7734-f882-43ff-9165-af07f991e69b",
   "metadata": {},
   "outputs": [],
   "source": [
    "await mtcs.rem.mtm1m3.cmd_abortProfile.set_start()"
   ]
  },
  {
   "cell_type": "markdown",
   "id": "0f3edb5b-9f60-40ac-addb-3f3ade09318a",
   "metadata": {},
   "source": [
    "---\n",
    "Verify the MTM1M3_logevent_forceActuatorBumpTestStatus event is published to the EFD."
   ]
  },
  {
   "cell_type": "code",
   "execution_count": null,
   "id": "67e0afcd-31b7-443d-adb9-773d5663ceef",
   "metadata": {},
   "outputs": [],
   "source": [
    "print( mtcs.rem.mtm1m3.evt_forceActuatorBumpTestStatus.get() )\n",
    "t = time.Time(mtcs.rem.mtm1m3.evt_forceActuatorBumpTestStatus.get().private_sndStamp, format=\"unix\", scale=\"tai\")\n",
    "t.format = \"isot\"\n",
    "print(t)"
   ]
  },
  {
   "cell_type": "code",
   "execution_count": null,
   "id": "e061525a-88d5-473e-a491-5aea3b3b8bf7",
   "metadata": {},
   "outputs": [],
   "source": [
    "await mtcs.lower_m1m3()"
   ]
  },
  {
   "cell_type": "code",
   "execution_count": null,
   "id": "10bf14a4-6c76-4007-a757-c82ba852ab1d",
   "metadata": {},
   "outputs": [],
   "source": [
    "script.log.info(f\"{test_case} - {test_execution} - End\")"
   ]
  }
 ],
 "metadata": {
  "kernelspec": {
   "display_name": "LSST",
   "language": "python",
   "name": "lsst"
  },
  "language_info": {
   "codemirror_mode": {
    "name": "ipython",
    "version": 3
   },
   "file_extension": ".py",
   "mimetype": "text/x-python",
   "name": "python",
   "nbconvert_exporter": "python",
   "pygments_lexer": "ipython3",
   "version": "3.8.13"
  }
 },
 "nbformat": 4,
 "nbformat_minor": 5
}
