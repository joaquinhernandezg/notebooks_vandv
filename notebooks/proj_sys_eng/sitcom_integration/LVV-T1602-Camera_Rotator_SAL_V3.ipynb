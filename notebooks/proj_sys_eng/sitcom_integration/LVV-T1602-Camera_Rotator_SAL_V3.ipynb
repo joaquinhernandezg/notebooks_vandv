{
 "cells": [
  {
   "cell_type": "markdown",
   "id": "47ca6475-ef49-45a3-82c6-c617b389489a",
   "metadata": {},
   "source": [
    "**LVV-T1602: Integration of Camera Rotator with SAL**\n",
    "\n",
    "This notebook runs the test cases in [LVV-1602](https://jira.lsstcorp.org/secure/Tests.jspa#/testCase/LVV-T1602).\n",
    "The objective of this test case is to verify the software requirements of the camera rotator, as defined in LTS-160.\n",
    "The test will be performed on summit with the real hardware.\n",
    "Before that, the Tucson test stand is used to develop the test procedure.\n",
    "The rotator commandable SAL component (CSC) is used to control the rotator hardware.\n",
    "The published event and telemetry are stored in the engineering facility database (EFD).\n",
    "\n",
    "It is noted that the **MTMount** telemetry data is required.\n",
    "Otherwise, the rotator CSC will put the low-level controller into the **Fault** state.\n",
    "\n",
    "The **setup** notebook can be used to bring up rotator and mount the camera cable wrapper (CCW)."
   ]
  },
  {
   "cell_type": "markdown",
   "id": "43947953",
   "metadata": {},
   "source": [
    "**Import Modules**"
   ]
  },
  {
   "cell_type": "code",
   "execution_count": null,
   "id": "0fc2286d",
   "metadata": {},
   "outputs": [],
   "source": [
    "%matplotlib inline\n",
    "%matplotlib widget\n",
    "import asyncio\n",
    "from datetime import datetime\n",
    "import time\n",
    "from astropy.time import Time\n",
    "import pandas as pd\n",
    "import numpy as np\n",
    "import matplotlib.pyplot as plt\n",
    "\n",
    "from lsst.ts import salobj\n",
    "from lsst.ts import simactuators"
   ]
  },
  {
   "cell_type": "markdown",
   "id": "524940d0",
   "metadata": {},
   "source": [
    "**Custom Functions**"
   ]
  },
  {
   "cell_type": "code",
   "execution_count": null,
   "id": "0928c492",
   "metadata": {},
   "outputs": [],
   "source": [
    "def script_log_start(controller_script, test_title, test_detail):\n",
    "    \"\"\"Log the start of test case in script controller.\n",
    "\n",
    "    Parameters\n",
    "    ----------\n",
    "    controller_script : lsst.ts.salobj.controller.Controller\n",
    "        Script controller.\n",
    "    test_title : str\n",
    "        Test title.\n",
    "    test_detail : str\n",
    "        Test detail.\n",
    "\n",
    "    Returns\n",
    "    -------\n",
    "    astropy.time.core.Time\n",
    "        Time object.\n",
    "    \"\"\"\n",
    "\n",
    "    time_now = datetime.now()\n",
    "    controller_script.log.info(f\"START -- {test_title} -- LVV-T1602 -- {test_detail} -- Starting Time: {time_now} UTC\")\n",
    "    return Time(time_now.isoformat(), scale=\"utc\", format=\"isot\")"
   ]
  },
  {
   "cell_type": "code",
   "execution_count": null,
   "id": "fe0c67ce",
   "metadata": {},
   "outputs": [],
   "source": [
    "def script_log_stop(controller_script, test_title, test_detail):\n",
    "    \"\"\"Log the stop of test case in script controller.\n",
    "\n",
    "    Parameters\n",
    "    ----------\n",
    "    controller_script : lsst.ts.salobj.controller.Controller\n",
    "        Script controller.\n",
    "    test_title : str\n",
    "        Test title.\n",
    "    test_detail : str\n",
    "        Test detail.\n",
    "\n",
    "    Returns\n",
    "    -------\n",
    "    astropy.time.core.Time\n",
    "        Time object.\n",
    "    \"\"\"\n",
    "\n",
    "    time_now = datetime.now()\n",
    "    controller_script.log.info(f\"STOP -- {test_title} -- LVV-T1602 -- {test_detail} -- Stopping Time: {time_now} UTC\")\n",
    "    return Time(time_now.isoformat(), scale=\"utc\", format=\"isot\")"
   ]
  },
  {
   "cell_type": "code",
   "execution_count": null,
   "id": "2e3e7ea5",
   "metadata": {},
   "outputs": [],
   "source": [
    "async def track_target_time(csc, start_position, velocity, lasting_time):\n",
    "    \"\"\"Track the target with a lasting time.\n",
    "\n",
    "    Parameters\n",
    "    ----------\n",
    "    csc : lsst.ts.salobj.remote.Remote\n",
    "        Remote object of the rotator CSC.\n",
    "    start_position : float\n",
    "        Starting position of ramp (deg).\n",
    "    velocity : float\n",
    "        Velocity of motion along the ramp (deg/sec).\n",
    "    lasting_time : float or int\n",
    "        Lasting time of tracking target. This value should be >= 0.\n",
    "    \"\"\"\n",
    "\n",
    "    end_position = start_position + velocity * lasting_time\n",
    "    await track_target(csc, start_position, end_position, velocity)"
   ]
  },
  {
   "cell_type": "code",
   "execution_count": null,
   "id": "1136d703",
   "metadata": {},
   "outputs": [],
   "source": [
    "async def track_target(csc, start_position, end_position, velocity):\n",
    "    \"\"\"Track the target.\n",
    "\n",
    "    Parameters\n",
    "    ----------\n",
    "    csc : lsst.ts.salobj.remote.Remote\n",
    "        Remote object of the rotator CSC.\n",
    "    start_position : float\n",
    "        Starting position of ramp (deg).\n",
    "    end_position : float\n",
    "        Ending position of ramp (deg).\n",
    "    velocity : float\n",
    "        Velocity of motion along the ramp (deg/sec).\n",
    "    \"\"\"    \n",
    "\n",
    "    await make_sure_csc_enabled(csc)\n",
    "    \n",
    "    # 20 Hz is 0.05 ms\n",
    "    track_advance_time = 0.05\n",
    "    ramp_generator = simactuators.RampGenerator(\n",
    "        [start_position], [end_position], [velocity], track_advance_time)\n",
    "\n",
    "    await csc.cmd_trackStart.set_start(timeout=15)\n",
    "    await asyncio.sleep(0.15)\n",
    "    for positions, velocities, tai in ramp_generator():\n",
    "        await csc.cmd_track.set_start(\n",
    "            angle=positions[0],\n",
    "            velocity=velocities[0],\n",
    "            tai=tai,\n",
    "            timeout=10,\n",
    "        )\n",
    "        await asyncio.sleep(track_advance_time)\n",
    "\n",
    "    await asyncio.sleep(1)"
   ]
  },
  {
   "cell_type": "code",
   "execution_count": null,
   "id": "6d152d04",
   "metadata": {},
   "outputs": [],
   "source": [
    "async def move_origin(csc):\n",
    "    \"\"\"Move to the origin.\n",
    "\n",
    "    Parameters\n",
    "    ----------\n",
    "    csc : lsst.ts.salobj.remote.Remote\n",
    "        Remote object of the rotator CSC.\n",
    "    \"\"\"\n",
    "\n",
    "    sleep_time = 3\n",
    "    await asyncio.sleep(sleep_time)\n",
    "\n",
    "    await make_sure_csc_enabled(csc)\n",
    "\n",
    "    # Workaround the problem of MOOG state machine to decide a new point-to-point movement\n",
    "    await csc.cmd_move.set_start(position=0.1, timeout=90)\n",
    "    await asyncio.sleep(sleep_time)\n",
    "\n",
    "    await make_sure_csc_enabled(csc)\n",
    "\n",
    "    await csc.cmd_move.set_start(position=0, timeout=90)\n",
    "    await asyncio.sleep(sleep_time)"
   ]
  },
  {
   "cell_type": "code",
   "execution_count": null,
   "id": "1c852e78",
   "metadata": {},
   "outputs": [],
   "source": [
    "async def make_sure_csc_enabled(csc):\n",
    "    \"\"\"Make sure the CSC is enabled.\n",
    "\n",
    "    Parameters\n",
    "    ----------\n",
    "    csc : lsst.ts.salobj.remote.Remote\n",
    "        Remote object of the rotator CSC.\n",
    "    \"\"\"\n",
    "\n",
    "    await asyncio.sleep(3)\n",
    "    data = csc.evt_summaryState.get()\n",
    "    await asyncio.sleep(3)\n",
    "    if data.summaryState != salobj.State.ENABLED:\n",
    "        await salobj.set_summary_state(csc, salobj.State.ENABLED, timeout=90)"
   ]
  },
  {
   "cell_type": "code",
   "execution_count": null,
   "id": "0f6629c8",
   "metadata": {},
   "outputs": [],
   "source": [
    "async def print_summary_state(csc):\n",
    "    \"\"\"\n",
    "    Print the summary state of rotator.\n",
    "\n",
    "    Parameters\n",
    "    ----------\n",
    "    csc : lsst.ts.salobj.remote.Remote\n",
    "        Remote object of the rotator CSC.\n",
    "    \"\"\"\n",
    "\n",
    "    data = csc.evt_summaryState.get()\n",
    "    print(salobj.State(data.summaryState))"
   ]
  },
  {
   "cell_type": "markdown",
   "id": "bd5e547f",
   "metadata": {},
   "source": [
    "**Instantiate the EFD and CSC**\n",
    "\n",
    "Need to make sure the **ospl** is running for the data distribution system (DDS) communication."
   ]
  },
  {
   "cell_type": "code",
   "execution_count": null,
   "id": "3056d18b",
   "metadata": {},
   "outputs": [],
   "source": [
    "domain = salobj.Domain()\n",
    "rotator = salobj.Remote(domain, \"MTRotator\")\n",
    "await rotator.start_task\n",
    "await rotator.cmd_setLogLevel.set_start(level=10)"
   ]
  },
  {
   "cell_type": "markdown",
   "id": "aa16614b",
   "metadata": {},
   "source": [
    "**MTMount** controller is used to run CCW.\n",
    "Put it into the **Enabled** state and follow the rotator."
   ]
  },
  {
   "cell_type": "code",
   "execution_count": null,
   "id": "1f174a72",
   "metadata": {},
   "outputs": [],
   "source": [
    "mtmount = salobj.Remote(domain, \"MTMount\")\n",
    "await mtmount.start_task\n",
    "\n",
    "await make_sure_csc_enabled(mtmount)\n",
    "\n",
    "await mtmount.cmd_enableCameraCableWrapFollowing.set_start()"
   ]
  },
  {
   "cell_type": "markdown",
   "id": "2f189fe9",
   "metadata": {},
   "source": [
    "**Setup the Script**"
   ]
  },
  {
   "cell_type": "code",
   "execution_count": null,
   "id": "65225415",
   "metadata": {},
   "outputs": [],
   "source": [
    "time_start_testcases = datetime.now()\n",
    "test_title = \"Run the LVV-T1602\"\n",
    "script = salobj.Controller(\"Script\", index=10)\n",
    "\n",
    "# Wait 10 second may help with DDS problems; closing all other kernels may help too\n",
    "await asyncio.sleep(10)\n",
    "print(f\"Time to start the test cases is {time_start_testcases}.\")"
   ]
  },
  {
   "cell_type": "markdown",
   "id": "11379045-d4a4-4965-b7fd-a6f237d17fde",
   "metadata": {},
   "source": [
    "**Step 1**\n",
    "\n",
    "Camera Rotator DDS Startup Procedure. Exercise the LVV-T1597 to use the EUI."
   ]
  },
  {
   "cell_type": "code",
   "execution_count": null,
   "id": "352e933d",
   "metadata": {},
   "outputs": [],
   "source": []
  },
  {
   "cell_type": "markdown",
   "id": "0a824299-b55c-4d98-aac2-360f5c6fdbd8",
   "metadata": {},
   "source": [
    "**Step 2**\n",
    "\n",
    "Verify the TCP/IP is connected to the low-level controller."
   ]
  },
  {
   "cell_type": "code",
   "execution_count": null,
   "id": "3e2ff263",
   "metadata": {},
   "outputs": [],
   "source": [
    "time_start_step2 = script_log_start(script, test_title, \"Step 2\")"
   ]
  },
  {
   "cell_type": "markdown",
   "id": "f1b47256",
   "metadata": {},
   "source": [
    "Verify that the **MTRotator_logevent_connected** event is True."
   ]
  },
  {
   "cell_type": "code",
   "execution_count": null,
   "id": "04ea867e-1e9c-4e66-a62d-c55cfd615816",
   "metadata": {},
   "outputs": [],
   "source": [
    "await salobj.set_summary_state(rotator, salobj.State.DISABLED, timeout=10)\n",
    "await asyncio.sleep(2)"
   ]
  },
  {
   "cell_type": "code",
   "execution_count": null,
   "id": "15121568",
   "metadata": {},
   "outputs": [],
   "source": [
    "data = rotator.evt_connected.get()\n",
    "print(data.connected)"
   ]
  },
  {
   "cell_type": "markdown",
   "id": "68403b72",
   "metadata": {},
   "source": [
    "Verify that the **MTRotator_logevent_connected** event is False."
   ]
  },
  {
   "cell_type": "code",
   "execution_count": null,
   "id": "8fd8f595",
   "metadata": {},
   "outputs": [],
   "source": [
    "await salobj.set_summary_state(rotator, salobj.State.STANDBY, timeout=10)\n",
    "await asyncio.sleep(2)"
   ]
  },
  {
   "cell_type": "code",
   "execution_count": null,
   "id": "05850014",
   "metadata": {},
   "outputs": [],
   "source": [
    "data = rotator.evt_connected.get()\n",
    "print(data.connected)"
   ]
  },
  {
   "cell_type": "code",
   "execution_count": null,
   "id": "86790513",
   "metadata": {},
   "outputs": [],
   "source": [
    "time_stop_step2 = script_log_stop(script, test_title, \"Step 2\")"
   ]
  },
  {
   "cell_type": "code",
   "execution_count": null,
   "id": "fb00ce3d",
   "metadata": {},
   "outputs": [],
   "source": []
  },
  {
   "cell_type": "markdown",
   "id": "90d35a25-0e8d-43ea-8df9-c3f3b8c554da",
   "metadata": {},
   "source": [
    "**Step 3**\n",
    "\n",
    "Verify the **MTRotator_logevent_configuration** event."
   ]
  },
  {
   "cell_type": "code",
   "execution_count": null,
   "id": "bdadb708",
   "metadata": {},
   "outputs": [],
   "source": [
    "time_start_step3 = script_log_start(script, test_title, \"Step 3\")"
   ]
  },
  {
   "cell_type": "markdown",
   "id": "abcb234c",
   "metadata": {},
   "source": [
    "Verify the **MTRotator_logevent_configuration** event publishes the data."
   ]
  },
  {
   "cell_type": "code",
   "execution_count": null,
   "id": "3840ce40-b493-489f-95e0-48c82ceba4ef",
   "metadata": {},
   "outputs": [],
   "source": [
    "await salobj.set_summary_state(rotator, salobj.State.DISABLED, timeout=10)\n",
    "await asyncio.sleep(2)"
   ]
  },
  {
   "cell_type": "code",
   "execution_count": null,
   "id": "f6b952e7",
   "metadata": {},
   "outputs": [],
   "source": [
    "data = rotator.evt_configuration.get()\n",
    "print(data)"
   ]
  },
  {
   "cell_type": "markdown",
   "id": "bc2592a5",
   "metadata": {},
   "source": [
    "Need to be in the **ENABLED** state to update the configuration."
   ]
  },
  {
   "cell_type": "code",
   "execution_count": null,
   "id": "2fa8ca16",
   "metadata": {},
   "outputs": [],
   "source": [
    "await make_sure_csc_enabled(rotator)\n",
    "await rotator.cmd_configureVelocity.set_start(vlimit=3.0, timeout=10)\n",
    "await asyncio.sleep(2)"
   ]
  },
  {
   "cell_type": "markdown",
   "id": "68c965e0",
   "metadata": {},
   "source": [
    "Verify the **MTRotator_logevent_configuration** event publishes the changed data."
   ]
  },
  {
   "cell_type": "code",
   "execution_count": null,
   "id": "6d0cb70d",
   "metadata": {},
   "outputs": [],
   "source": [
    "data = rotator.evt_configuration.get()\n",
    "print(data)"
   ]
  },
  {
   "cell_type": "markdown",
   "id": "2c6f3602",
   "metadata": {},
   "source": [
    "Return to the previous configuration."
   ]
  },
  {
   "cell_type": "code",
   "execution_count": null,
   "id": "6b9f7d04",
   "metadata": {},
   "outputs": [],
   "source": [
    "await rotator.cmd_configureVelocity.set_start(vlimit=3.5, timeout=10)\n",
    "await asyncio.sleep(2)\n",
    "\n",
    "await salobj.set_summary_state(rotator, salobj.State.DISABLED, timeout=10)"
   ]
  },
  {
   "cell_type": "markdown",
   "id": "cb7ebe6f",
   "metadata": {},
   "source": [
    "Log to the PXI computer and modify the configuration (maximum acceleration).\n",
    "Need to put the rotator CSC into the **ENABLED** state to read the configuration file."
   ]
  },
  {
   "cell_type": "code",
   "execution_count": null,
   "id": "5577eacd",
   "metadata": {},
   "outputs": [],
   "source": [
    "await make_sure_csc_enabled(rotator)"
   ]
  },
  {
   "cell_type": "markdown",
   "id": "2803b34f",
   "metadata": {},
   "source": [
    "Verify the **MTRotator_logevent_configuration** event publishes the changed data."
   ]
  },
  {
   "cell_type": "code",
   "execution_count": null,
   "id": "1ee053fb",
   "metadata": {},
   "outputs": [],
   "source": [
    "data = rotator.evt_configuration.get()\n",
    "print(data)"
   ]
  },
  {
   "cell_type": "markdown",
   "id": "4953ed6f",
   "metadata": {},
   "source": [
    "Put the rotator to the **DISABLED** state.\n",
    "Log in the PXI controller to modify the configuration back."
   ]
  },
  {
   "cell_type": "code",
   "execution_count": null,
   "id": "560e8e9e",
   "metadata": {},
   "outputs": [],
   "source": [
    "await salobj.set_summary_state(rotator, salobj.State.DISABLED, timeout=10)"
   ]
  },
  {
   "cell_type": "code",
   "execution_count": null,
   "id": "c7cf939c",
   "metadata": {},
   "outputs": [],
   "source": [
    "time_stop_step3 = script_log_stop(script, test_title, \"Step 3\")"
   ]
  },
  {
   "cell_type": "code",
   "execution_count": null,
   "id": "a48ccd29",
   "metadata": {},
   "outputs": [],
   "source": []
  },
  {
   "cell_type": "markdown",
   "id": "bc8e3a81-511c-47ca-8cc5-587bfedc68cf",
   "metadata": {},
   "source": [
    "**Step 4**\n",
    "\n",
    "Verify the **MTRotator_logevent_interlock** event."
   ]
  },
  {
   "cell_type": "code",
   "execution_count": null,
   "id": "4217696a",
   "metadata": {},
   "outputs": [],
   "source": [
    "time_start_step4 = script_log_start(script, test_title, \"Step 4\")"
   ]
  },
  {
   "cell_type": "markdown",
   "id": "9e176e2d",
   "metadata": {},
   "source": [
    "Press the E-Stop."
   ]
  },
  {
   "cell_type": "markdown",
   "id": "50e8cc31",
   "metadata": {},
   "source": [
    "Verify the **MTRotator_logevent_interlock** event is True."
   ]
  },
  {
   "cell_type": "code",
   "execution_count": null,
   "id": "783f993b",
   "metadata": {},
   "outputs": [],
   "source": [
    "await asyncio.sleep(2)\n",
    "\n",
    "data = rotator.evt_interlock.get()\n",
    "print(data.engaged)"
   ]
  },
  {
   "cell_type": "markdown",
   "id": "3ccbd133",
   "metadata": {},
   "source": [
    "Release the E-Stop (contains the CCW EUI part)."
   ]
  },
  {
   "cell_type": "markdown",
   "id": "299e87c9",
   "metadata": {},
   "source": [
    "Verifiy that the CSC is in the **FAULT** state"
   ]
  },
  {
   "cell_type": "code",
   "execution_count": null,
   "id": "9934f2fa",
   "metadata": {},
   "outputs": [],
   "source": [
    "await print_summary_state(rotator)"
   ]
  },
  {
   "cell_type": "code",
   "execution_count": null,
   "id": "9a5df7bb-c083-4df4-9332-c64c8a3801f6",
   "metadata": {},
   "outputs": [],
   "source": [
    "await salobj.set_summary_state(rotator, salobj.State.STANDBY, timeout=10)"
   ]
  },
  {
   "cell_type": "markdown",
   "id": "2e6dab0b",
   "metadata": {},
   "source": [
    "Verify the **MTRotator_logevent_interlock** event is False."
   ]
  },
  {
   "cell_type": "code",
   "execution_count": null,
   "id": "6f2ca60e",
   "metadata": {},
   "outputs": [],
   "source": [
    "await asyncio.sleep(2)\n",
    "\n",
    "data = rotator.evt_interlock.get()\n",
    "print(data.engaged)"
   ]
  },
  {
   "cell_type": "code",
   "execution_count": null,
   "id": "161a9e2d",
   "metadata": {},
   "outputs": [],
   "source": [
    "time_stop_step4 = script_log_stop(script, test_title, \"Step 4\")"
   ]
  },
  {
   "cell_type": "code",
   "execution_count": null,
   "id": "578e9b73",
   "metadata": {},
   "outputs": [],
   "source": []
  },
  {
   "cell_type": "markdown",
   "id": "a8ad89c5-a9de-4d1c-b436-547c1590026f",
   "metadata": {},
   "source": [
    "**Step 5**\n",
    "\n",
    "GUI should be able to take over the control from CSC."
   ]
  },
  {
   "cell_type": "code",
   "execution_count": null,
   "id": "eab3150c",
   "metadata": {},
   "outputs": [],
   "source": [
    "time_start_step5 = script_log_start(script, test_title, \"Step 5\")"
   ]
  },
  {
   "cell_type": "code",
   "execution_count": null,
   "id": "d585ed21",
   "metadata": {},
   "outputs": [],
   "source": [
    "await salobj.set_summary_state(rotator, salobj.State.DISABLED, timeout=10)"
   ]
  },
  {
   "cell_type": "markdown",
   "id": "6c451e53",
   "metadata": {},
   "source": [
    "Verify the **MTRotator_logevent_commandableByDDS** event is True."
   ]
  },
  {
   "cell_type": "code",
   "execution_count": null,
   "id": "2986127c",
   "metadata": {},
   "outputs": [],
   "source": [
    "await asyncio.sleep(2)\n",
    "\n",
    "data = rotator.evt_commandableByDDS.get()\n",
    "print(data.state)"
   ]
  },
  {
   "cell_type": "markdown",
   "id": "dfa20ce5",
   "metadata": {},
   "source": [
    "Use the EUI to do the state transition."
   ]
  },
  {
   "cell_type": "markdown",
   "id": "bfbd1af6",
   "metadata": {},
   "source": [
    "Verify the **MTRotator_logevent_commandableByDDS** event is False."
   ]
  },
  {
   "cell_type": "code",
   "execution_count": null,
   "id": "3c8e0ef1",
   "metadata": {},
   "outputs": [],
   "source": [
    "await asyncio.sleep(2)\n",
    "\n",
    "data = rotator.evt_commandableByDDS.get()\n",
    "print(data.state)"
   ]
  },
  {
   "cell_type": "code",
   "execution_count": null,
   "id": "b97ef45b",
   "metadata": {},
   "outputs": [],
   "source": [
    "time_stop_step5 = script_log_stop(script, test_title, \"Step 5\")"
   ]
  },
  {
   "cell_type": "code",
   "execution_count": null,
   "id": "78e22b12",
   "metadata": {},
   "outputs": [],
   "source": []
  },
  {
   "cell_type": "markdown",
   "id": "981bbd80-f191-4835-bd4f-3ff0402acf59",
   "metadata": {},
   "source": [
    "**Step 6**\n",
    "\n",
    "Back To DDS Mode."
   ]
  },
  {
   "cell_type": "code",
   "execution_count": null,
   "id": "32d5496a",
   "metadata": {},
   "outputs": [],
   "source": [
    "time_start_step6 = script_log_start(script, test_title, \"Step 6\")"
   ]
  },
  {
   "cell_type": "markdown",
   "id": "caad9b00",
   "metadata": {},
   "source": [
    "Use the EUI to change the commander to be DDS.\n",
    "Make sure the controller state is **Offline/Available** state."
   ]
  },
  {
   "cell_type": "markdown",
   "id": "5b4c2f5f",
   "metadata": {},
   "source": [
    "Verify the **MTRotator_logevent_commandableByDDS** event is True."
   ]
  },
  {
   "cell_type": "code",
   "execution_count": null,
   "id": "70651667",
   "metadata": {},
   "outputs": [],
   "source": [
    "await asyncio.sleep(2)\n",
    "\n",
    "data = rotator.evt_commandableByDDS.get()\n",
    "print(data.state)"
   ]
  },
  {
   "cell_type": "code",
   "execution_count": null,
   "id": "36513f7b",
   "metadata": {},
   "outputs": [],
   "source": [
    "time_stop_step6 = script_log_stop(script, test_title, \"Step 6\")"
   ]
  },
  {
   "cell_type": "code",
   "execution_count": null,
   "id": "c7cdbbaa-5221-4c62-9fa0-6d0dcefad1bd",
   "metadata": {},
   "outputs": [],
   "source": []
  },
  {
   "cell_type": "markdown",
   "id": "cac939d1-a393-40c8-a99a-43e4e2366c07",
   "metadata": {},
   "source": [
    "**Step 7**\n",
    "\n",
    "Rotator point-to-point movement."
   ]
  },
  {
   "cell_type": "code",
   "execution_count": null,
   "id": "bf47582c",
   "metadata": {},
   "outputs": [],
   "source": [
    "time_start_step7 = script_log_start(script, test_title, \"Step 7\")"
   ]
  },
  {
   "cell_type": "markdown",
   "id": "68822277",
   "metadata": {},
   "source": [
    "Verify the **MTRotator_ccwFollowingError** telemetry by Chronograph."
   ]
  },
  {
   "cell_type": "code",
   "execution_count": null,
   "id": "ce7af3be-5b98-4817-8dab-204075d2907b",
   "metadata": {},
   "outputs": [],
   "source": [
    "await make_sure_csc_enabled(rotator)"
   ]
  },
  {
   "cell_type": "code",
   "execution_count": null,
   "id": "c6e1ef73",
   "metadata": {},
   "outputs": [],
   "source": [
    "for position in (5, 0):\n",
    "    await rotator.cmd_move.set_start(position=position, timeout=90)\n",
    "    await asyncio.sleep(10)"
   ]
  },
  {
   "cell_type": "markdown",
   "id": "a27c84d5",
   "metadata": {},
   "source": [
    "Verify that **positionError** and **velocityError** in **MTRotator_ccwFollowingError** telemetry different from 0 are recorded by Chronograph."
   ]
  },
  {
   "cell_type": "code",
   "execution_count": null,
   "id": "bfb0b4b3",
   "metadata": {},
   "outputs": [],
   "source": [
    "time_stop_step7 = script_log_stop(script, test_title, \"Step 7\")"
   ]
  },
  {
   "cell_type": "code",
   "execution_count": null,
   "id": "c6185e0a",
   "metadata": {},
   "outputs": [],
   "source": []
  },
  {
   "cell_type": "markdown",
   "id": "19749a16-e101-4391-b873-3908587921b3",
   "metadata": {},
   "source": [
    "**Step 8**\n",
    "\n",
    "Verify the **MTRotator_rotation** telemetry data."
   ]
  },
  {
   "cell_type": "markdown",
   "id": "942dc3d7",
   "metadata": {},
   "source": [
    "Check the rotator data performed at step 7."
   ]
  },
  {
   "cell_type": "code",
   "execution_count": null,
   "id": "597f3031",
   "metadata": {},
   "outputs": [],
   "source": []
  },
  {
   "cell_type": "markdown",
   "id": "7d79a46e-1e35-40c5-81a7-a9d2c6dcd070",
   "metadata": {},
   "source": [
    "**Step 9**\n",
    "\n",
    "Verify the **MTRotator_electrical** telemetry data."
   ]
  },
  {
   "cell_type": "markdown",
   "id": "ccf389ea",
   "metadata": {},
   "source": [
    "Check the rotator data performed at step 7."
   ]
  },
  {
   "cell_type": "code",
   "execution_count": null,
   "id": "2c4c3bb3-c77c-4603-a9de-5d2017711f7a",
   "metadata": {},
   "outputs": [],
   "source": []
  },
  {
   "cell_type": "markdown",
   "id": "d6826306-3f38-41c0-a08d-86b82e0c48ca",
   "metadata": {},
   "source": [
    "**Step 10**\n",
    "\n",
    "Verify the **MTRotator_motors** telemetry."
   ]
  },
  {
   "cell_type": "markdown",
   "id": "997cf061",
   "metadata": {},
   "source": [
    "Check the rotator data performed at step 7."
   ]
  },
  {
   "cell_type": "code",
   "execution_count": null,
   "id": "8fe7c5e9",
   "metadata": {},
   "outputs": [],
   "source": []
  },
  {
   "cell_type": "markdown",
   "id": "9db06cc5-bd7f-4915-83a6-bb9ae717bc41",
   "metadata": {},
   "source": [
    "**Step 11**\n",
    "\n",
    "Run the **Camera Rotator Software Re-verification.ipynb**."
   ]
  },
  {
   "cell_type": "markdown",
   "id": "7c3276b6",
   "metadata": {},
   "source": [
    "Use a Jupyter notebook to execute the tests in this test case:\n",
    "Use the latest version available on GitHub for: **Camera Rotator Software Re-verification.ipynb**."
   ]
  },
  {
   "cell_type": "code",
   "execution_count": null,
   "id": "b03c93e1",
   "metadata": {},
   "outputs": [],
   "source": []
  },
  {
   "cell_type": "markdown",
   "id": "ccc36946-7ea5-418a-95c5-322007c96e57",
   "metadata": {},
   "source": [
    "**Step 12**\n",
    "\n",
    "Test sequence 1 – **move** command."
   ]
  },
  {
   "cell_type": "markdown",
   "id": "5698e376",
   "metadata": {},
   "source": [
    "Record the current position of the rotator by EUI or Chronograph."
   ]
  },
  {
   "cell_type": "code",
   "execution_count": null,
   "id": "06449c25",
   "metadata": {},
   "outputs": [],
   "source": []
  },
  {
   "cell_type": "markdown",
   "id": "bbc0937d-e910-4787-9826-013a05e4bbc8",
   "metadata": {},
   "source": [
    "**Step 13**"
   ]
  },
  {
   "cell_type": "code",
   "execution_count": null,
   "id": "455e8eb1",
   "metadata": {},
   "outputs": [],
   "source": [
    "time_start_step13 = script_log_start(script, test_title, \"Step 13\")"
   ]
  },
  {
   "cell_type": "code",
   "execution_count": null,
   "id": "d1b91731",
   "metadata": {},
   "outputs": [],
   "source": [
    "await make_sure_csc_enabled(rotator)\n",
    "\n",
    "positions = [1, 13, 50, -1, -13, -50]\n",
    "sleep_times = [1, 10, 30, 1, 10, 30]\n",
    "for position, sleep_time in zip(positions, sleep_times):\n",
    "    # Move to position\n",
    "    await rotator.cmd_move.set_start(position=position, timeout=90)\n",
    "    await asyncio.sleep(sleep_time)\n",
    "\n",
    "    # Back to origin\n",
    "    await rotator.cmd_move.set_start(position=0, timeout=90)\n",
    "    await asyncio.sleep(sleep_time)"
   ]
  },
  {
   "cell_type": "code",
   "execution_count": null,
   "id": "a7e587ff",
   "metadata": {},
   "outputs": [],
   "source": [
    "time_stop_step13 = script_log_stop(script, test_title, \"Step 13\")"
   ]
  },
  {
   "cell_type": "code",
   "execution_count": null,
   "id": "828f2ed9",
   "metadata": {},
   "outputs": [],
   "source": []
  },
  {
   "cell_type": "markdown",
   "id": "be08cd13-c41b-4d05-9039-61a5925f3ec9",
   "metadata": {},
   "source": [
    "**Step 14**\n",
    "\n",
    "Verify the **MTRotator_logevent_controllerState** event were generated."
   ]
  },
  {
   "cell_type": "markdown",
   "id": "831a144c",
   "metadata": {},
   "source": [
    "Check the rotator data performed at step 13."
   ]
  },
  {
   "cell_type": "code",
   "execution_count": null,
   "id": "438acfc2-613c-4388-81d6-b004608ff66b",
   "metadata": {},
   "outputs": [],
   "source": []
  },
  {
   "cell_type": "markdown",
   "id": "0b8eafca-2884-4a36-8967-8171e54752be",
   "metadata": {},
   "source": [
    "**Step 15** and **Step 16**\n",
    "\n",
    "Test sequence 2 - **stop** command."
   ]
  },
  {
   "cell_type": "code",
   "execution_count": null,
   "id": "3b22d44c",
   "metadata": {},
   "outputs": [],
   "source": [
    "time_start_step15 = script_log_start(script, test_title, \"Step 15 and 16\")"
   ]
  },
  {
   "cell_type": "code",
   "execution_count": null,
   "id": "b4c81e49-b5d8-4fd0-9bab-8a503380b80d",
   "metadata": {},
   "outputs": [],
   "source": [
    "await rotator.cmd_move.set_start(position=50, timeout=90)\n",
    "await asyncio.sleep(3)\n",
    "\n",
    "await rotator.cmd_stop.set_start(timeout=90)\n",
    "await asyncio.sleep(5)"
   ]
  },
  {
   "cell_type": "code",
   "execution_count": null,
   "id": "467f805c",
   "metadata": {},
   "outputs": [],
   "source": [
    "time_stop_step15 = script_log_stop(script, test_title, \"Step 15 and 16\")"
   ]
  },
  {
   "cell_type": "code",
   "execution_count": null,
   "id": "90188968",
   "metadata": {},
   "outputs": [],
   "source": []
  },
  {
   "cell_type": "markdown",
   "id": "30651b79-caee-4d67-b345-5b5faa5ca62d",
   "metadata": {},
   "source": [
    "**Step 17**"
   ]
  },
  {
   "cell_type": "code",
   "execution_count": null,
   "id": "203873a1",
   "metadata": {},
   "outputs": [],
   "source": [
    "time_start_step17 = script_log_start(script, test_title, \"Step 17\")"
   ]
  },
  {
   "cell_type": "markdown",
   "id": "af7cd3c6",
   "metadata": {},
   "source": [
    "Record the current position of the rotator by EUI or Chronograph."
   ]
  },
  {
   "cell_type": "code",
   "execution_count": null,
   "id": "bcbce862-fe93-4323-8926-c35f3259775f",
   "metadata": {},
   "outputs": [],
   "source": [
    "await rotator.cmd_move.set_start(position=-60, timeout=90)\n",
    "await asyncio.sleep(30)"
   ]
  },
  {
   "cell_type": "markdown",
   "id": "014de546",
   "metadata": {},
   "source": [
    "Move the rotator back to the origin."
   ]
  },
  {
   "cell_type": "code",
   "execution_count": null,
   "id": "5ae42b29",
   "metadata": {},
   "outputs": [],
   "source": [
    "await rotator.cmd_move.set_start(position=0, timeout=90)\n",
    "await asyncio.sleep(30)"
   ]
  },
  {
   "cell_type": "code",
   "execution_count": null,
   "id": "4e2a86aa",
   "metadata": {},
   "outputs": [],
   "source": [
    "time_stop_step17 = script_log_stop(script, test_title, \"Step 17\")"
   ]
  },
  {
   "cell_type": "code",
   "execution_count": null,
   "id": "514f29b2",
   "metadata": {},
   "outputs": [],
   "source": []
  },
  {
   "cell_type": "markdown",
   "id": "68223960-4057-460d-81a8-121ce672dad8",
   "metadata": {},
   "source": [
    "**Step 18**"
   ]
  },
  {
   "cell_type": "markdown",
   "id": "1ae73f0b",
   "metadata": {},
   "source": [
    "Record the corresponding DDS events that were generated."
   ]
  },
  {
   "cell_type": "code",
   "execution_count": null,
   "id": "0ffd6f88-2a1b-43d1-83b9-1cd31e182b1f",
   "metadata": {},
   "outputs": [],
   "source": []
  },
  {
   "cell_type": "markdown",
   "id": "2fa2670c-e9fa-4241-b771-d1d34e09b76f",
   "metadata": {},
   "source": [
    "**Step 19**\n",
    "\n",
    "Test **trackStart** and **track** command"
   ]
  },
  {
   "cell_type": "code",
   "execution_count": null,
   "id": "a8cf96b6",
   "metadata": {},
   "outputs": [],
   "source": [
    "time_start_step19 = script_log_start(script, test_title, \"Step 19\")"
   ]
  },
  {
   "cell_type": "code",
   "execution_count": null,
   "id": "23eca918",
   "metadata": {},
   "outputs": [],
   "source": [
    "await rotator.cmd_trackStart.set_start(timeout=15)\n",
    "await asyncio.sleep(3)\n",
    "\n",
    "await make_sure_csc_enabled(rotator)"
   ]
  },
  {
   "cell_type": "code",
   "execution_count": null,
   "id": "08d70da3",
   "metadata": {},
   "outputs": [],
   "source": [
    "time_stop_step19 = script_log_stop(script, test_title, \"Step 19\")"
   ]
  },
  {
   "cell_type": "code",
   "execution_count": null,
   "id": "68b10886",
   "metadata": {},
   "outputs": [],
   "source": []
  },
  {
   "cell_type": "markdown",
   "id": "c7af2f10-cf21-43ba-92b2-103f9078c157",
   "metadata": {},
   "source": [
    "**Step 20**\n",
    "\n",
    "Test sequence 4 - **track** and **trackStart** commands - positive direction"
   ]
  },
  {
   "cell_type": "code",
   "execution_count": null,
   "id": "d9e9285d",
   "metadata": {},
   "outputs": [],
   "source": [
    "time_start_step20 = script_log_start(script, test_title, \"Step 20\")"
   ]
  },
  {
   "cell_type": "code",
   "execution_count": null,
   "id": "3e7c0097-74ad-4217-860a-abac89fe1100",
   "metadata": {},
   "outputs": [],
   "source": [
    "await move_origin(rotator)\n",
    "await track_target_time(rotator, 10, 0.068, 20)\n",
    "\n",
    "await asyncio.sleep(3)\n",
    "await make_sure_csc_enabled(rotator)"
   ]
  },
  {
   "cell_type": "code",
   "execution_count": null,
   "id": "fb8bd178",
   "metadata": {},
   "outputs": [],
   "source": [
    "time_stop_step20 = script_log_stop(script, test_title, \"Step 20\")"
   ]
  },
  {
   "cell_type": "code",
   "execution_count": null,
   "id": "d6cb6667",
   "metadata": {},
   "outputs": [],
   "source": []
  },
  {
   "cell_type": "markdown",
   "id": "d955a5a5-8426-4640-95b9-0be67e3077bc",
   "metadata": {},
   "source": [
    "**Step 21**"
   ]
  },
  {
   "cell_type": "markdown",
   "id": "eebb286c",
   "metadata": {},
   "source": [
    "Record the **MTRotator_logevent_inPosition** and **MTRotator_logevent_controllerState** events that were generated.\n",
    "This is easier to compare with the movement after the test."
   ]
  },
  {
   "cell_type": "code",
   "execution_count": null,
   "id": "c59cd0db",
   "metadata": {},
   "outputs": [],
   "source": []
  },
  {
   "cell_type": "markdown",
   "id": "f12f32d5-f166-420e-b18c-b54fd899b7ef",
   "metadata": {},
   "source": [
    "**Step 22**\n",
    "\n",
    "Test sequence 4 - **track** and **trackStart** commands - negative direction"
   ]
  },
  {
   "cell_type": "code",
   "execution_count": null,
   "id": "a21c402d",
   "metadata": {},
   "outputs": [],
   "source": [
    "time_start_step22 = script_log_start(script, test_title, \"Step 22\")"
   ]
  },
  {
   "cell_type": "code",
   "execution_count": null,
   "id": "9d26d545-81de-4f9b-9a16-3da648033d20",
   "metadata": {},
   "outputs": [],
   "source": [
    "await move_origin(rotator)\n",
    "await track_target_time(rotator, -10, -0.068, 20)\n",
    "\n",
    "await asyncio.sleep(3)\n",
    "await make_sure_csc_enabled(rotator)"
   ]
  },
  {
   "cell_type": "code",
   "execution_count": null,
   "id": "0a33290a",
   "metadata": {},
   "outputs": [],
   "source": [
    "time_stop_step22 = script_log_stop(script, test_title, \"Step 22\")"
   ]
  },
  {
   "cell_type": "code",
   "execution_count": null,
   "id": "0a3e6397",
   "metadata": {},
   "outputs": [],
   "source": []
  },
  {
   "cell_type": "markdown",
   "id": "7df0f612-7ed9-4285-99f9-7b76e22018e9",
   "metadata": {},
   "source": [
    "**Step 23**"
   ]
  },
  {
   "cell_type": "markdown",
   "id": "8c623af1",
   "metadata": {},
   "source": [
    "Record the **MTRotator_logevent_inPosition** and **MTRotator_logevent_controllerState** events that were generated.\n",
    "This is easier to compare with the movement after the test."
   ]
  },
  {
   "cell_type": "code",
   "execution_count": null,
   "id": "7e90601b-a059-423b-9615-cdad519e61b5",
   "metadata": {},
   "outputs": [],
   "source": []
  },
  {
   "cell_type": "markdown",
   "id": "9b7f04d9-935e-48b5-9892-f09419984972",
   "metadata": {},
   "source": [
    "**Step 24**\n",
    "\n",
    "Test sequence 6 - **configureVelocity** command"
   ]
  },
  {
   "cell_type": "code",
   "execution_count": null,
   "id": "1535bf28",
   "metadata": {},
   "outputs": [],
   "source": [
    "time_start_step24 = script_log_start(script, test_title, \"Step 24\")"
   ]
  },
  {
   "cell_type": "code",
   "execution_count": null,
   "id": "603aa57d-0eda-459a-afe7-0ce9c5b913b8",
   "metadata": {},
   "outputs": [],
   "source": [
    "await rotator.cmd_configureVelocity.set_start(vlimit=4.0, timeout=10)\n",
    "await asyncio.sleep(2)"
   ]
  },
  {
   "cell_type": "code",
   "execution_count": null,
   "id": "b4580038",
   "metadata": {},
   "outputs": [],
   "source": [
    "time_stop_step24 = script_log_stop(script, test_title, \"Step 24\")"
   ]
  },
  {
   "cell_type": "code",
   "execution_count": null,
   "id": "472b945a",
   "metadata": {},
   "outputs": [],
   "source": []
  },
  {
   "cell_type": "markdown",
   "id": "bd025a42-42ba-43a5-921a-209949110446",
   "metadata": {},
   "source": [
    "**Step 25**"
   ]
  },
  {
   "cell_type": "code",
   "execution_count": null,
   "id": "c75c28d5",
   "metadata": {},
   "outputs": [],
   "source": [
    "time_start_step25 = script_log_start(script, test_title, \"Step 25\")"
   ]
  },
  {
   "cell_type": "code",
   "execution_count": null,
   "id": "133bf39c-4bf9-4b84-978a-c0ce4b2c3317",
   "metadata": {},
   "outputs": [],
   "source": [
    "await rotator.cmd_configureVelocity.set_start(vlimit=0.5, timeout=10)\n",
    "await asyncio.sleep(2)"
   ]
  },
  {
   "cell_type": "code",
   "execution_count": null,
   "id": "d5b2dcd9",
   "metadata": {},
   "outputs": [],
   "source": [
    "time_stop_step25 = script_log_stop(script, test_title, \"Step 25\")"
   ]
  },
  {
   "cell_type": "code",
   "execution_count": null,
   "id": "320a0db7",
   "metadata": {},
   "outputs": [],
   "source": []
  },
  {
   "cell_type": "markdown",
   "id": "9ede6d5d-13c9-41f8-8988-c5344a0f72eb",
   "metadata": {},
   "source": [
    "**Step 26**"
   ]
  },
  {
   "cell_type": "code",
   "execution_count": null,
   "id": "6132c29b",
   "metadata": {},
   "outputs": [],
   "source": [
    "time_start_step26 = script_log_start(script, test_title, \"Step 26\")"
   ]
  },
  {
   "cell_type": "code",
   "execution_count": null,
   "id": "dc6566ef-2470-4947-a065-395d25d42e79",
   "metadata": {},
   "outputs": [],
   "source": [
    "await move_origin(rotator)\n",
    "\n",
    "await rotator.cmd_move.set_start(position=10, timeout=90)\n",
    "await asyncio.sleep(35)"
   ]
  },
  {
   "cell_type": "code",
   "execution_count": null,
   "id": "8e7a1abf",
   "metadata": {},
   "outputs": [],
   "source": [
    "# Move back to origin (this will be long)\n",
    "\n",
    "await rotator.cmd_move.set_start(position=0, timeout=90)\n",
    "await asyncio.sleep(35)"
   ]
  },
  {
   "cell_type": "code",
   "execution_count": null,
   "id": "5848f69e",
   "metadata": {},
   "outputs": [],
   "source": [
    "time_stop_step26 = script_log_stop(script, test_title, \"Step 26\")"
   ]
  },
  {
   "cell_type": "code",
   "execution_count": null,
   "id": "0f405149",
   "metadata": {},
   "outputs": [],
   "source": []
  },
  {
   "cell_type": "markdown",
   "id": "d69e13fb-a481-40f9-b1ca-b655c67a8026",
   "metadata": {},
   "source": [
    "**Step 27**"
   ]
  },
  {
   "cell_type": "markdown",
   "id": "5c5c6718",
   "metadata": {},
   "source": [
    "Record the **MTRotator_logevent_inPosition**.\n",
    "This is easier to compare with the movement after the test."
   ]
  },
  {
   "cell_type": "code",
   "execution_count": null,
   "id": "0f934496",
   "metadata": {},
   "outputs": [],
   "source": []
  },
  {
   "cell_type": "markdown",
   "id": "43e61b97-1192-4300-80a6-f6796c14df6a",
   "metadata": {},
   "source": [
    "**Step 28**\n",
    "\n",
    "Test sequence 7 - **configureAcceleration** command"
   ]
  },
  {
   "cell_type": "code",
   "execution_count": null,
   "id": "0c505943",
   "metadata": {},
   "outputs": [],
   "source": [
    "time_start_step28 = script_log_start(script, test_title, \"Step 28\")"
   ]
  },
  {
   "cell_type": "code",
   "execution_count": null,
   "id": "f345a139-8c76-4dbc-994f-ad147f834705",
   "metadata": {},
   "outputs": [],
   "source": [
    "await rotator.cmd_configureAcceleration.set_start(alimit=2.0, timeout=10)\n",
    "await asyncio.sleep(2)"
   ]
  },
  {
   "cell_type": "code",
   "execution_count": null,
   "id": "f6418dab",
   "metadata": {},
   "outputs": [],
   "source": [
    "time_stop_step28 = script_log_stop(script, test_title, \"Step 28\")"
   ]
  },
  {
   "cell_type": "code",
   "execution_count": null,
   "id": "3d0ce119",
   "metadata": {},
   "outputs": [],
   "source": []
  },
  {
   "cell_type": "markdown",
   "id": "d410b3c6-baad-4111-b8a3-448f4168b95a",
   "metadata": {},
   "source": [
    "**Step 29**"
   ]
  },
  {
   "cell_type": "code",
   "execution_count": null,
   "id": "ea7299a1",
   "metadata": {},
   "outputs": [],
   "source": [
    "time_start_step29 = script_log_start(script, test_title, \"Step 29\")"
   ]
  },
  {
   "cell_type": "code",
   "execution_count": null,
   "id": "29126de2-f85e-478a-abcf-4e9044b72730",
   "metadata": {},
   "outputs": [],
   "source": [
    "await rotator.cmd_configureAcceleration.set_start(alimit=0.5, timeout=10)\n",
    "await asyncio.sleep(2)"
   ]
  },
  {
   "cell_type": "code",
   "execution_count": null,
   "id": "609a573e",
   "metadata": {},
   "outputs": [],
   "source": [
    "time_stop_step29 = script_log_stop(script, test_title, \"Step 29\")"
   ]
  },
  {
   "cell_type": "code",
   "execution_count": null,
   "id": "f480e73f",
   "metadata": {},
   "outputs": [],
   "source": []
  },
  {
   "cell_type": "markdown",
   "id": "c1a92fca-9d90-4bc1-b1b4-b0b5e8796a3b",
   "metadata": {},
   "source": [
    "**Step 30**"
   ]
  },
  {
   "cell_type": "code",
   "execution_count": null,
   "id": "24cf4fb3",
   "metadata": {},
   "outputs": [],
   "source": [
    "time_start_step30 = script_log_start(script, test_title, \"Step 30\")"
   ]
  },
  {
   "cell_type": "code",
   "execution_count": null,
   "id": "6618e419-a5d4-48a7-89b0-0abee344700d",
   "metadata": {},
   "outputs": [],
   "source": [
    "await rotator.cmd_move.set_start(position=10, timeout=90)\n",
    "await asyncio.sleep(50)"
   ]
  },
  {
   "cell_type": "code",
   "execution_count": null,
   "id": "a51bbeca",
   "metadata": {},
   "outputs": [],
   "source": [
    "time_stop_step30 = script_log_stop(script, test_title, \"Step 30\")"
   ]
  },
  {
   "cell_type": "markdown",
   "id": "d1613745",
   "metadata": {},
   "source": [
    "Recover the configuration and system."
   ]
  },
  {
   "cell_type": "code",
   "execution_count": null,
   "id": "9b05f2eb",
   "metadata": {},
   "outputs": [],
   "source": [
    "await rotator.cmd_configureAcceleration.set_start(alimit=1.0, timeout=10)\n",
    "await asyncio.sleep(2)\n",
    "\n",
    "await rotator.cmd_configureVelocity.set_start(vlimit=3.5, timeout=10)\n",
    "await asyncio.sleep(2)\n",
    "\n",
    "await move_origin(rotator)"
   ]
  },
  {
   "cell_type": "code",
   "execution_count": null,
   "id": "483063c1",
   "metadata": {},
   "outputs": [],
   "source": []
  },
  {
   "cell_type": "markdown",
   "id": "0be9a929-3476-4254-91f5-a0897b3b19b9",
   "metadata": {},
   "source": [
    "**Step 31**"
   ]
  },
  {
   "cell_type": "markdown",
   "id": "098f7e64",
   "metadata": {},
   "source": [
    "Record the **MTRotator_logevent_inPosition**.\n",
    "This is easier to compare with the movement after the test."
   ]
  },
  {
   "cell_type": "code",
   "execution_count": null,
   "id": "9d6a51d4",
   "metadata": {},
   "outputs": [],
   "source": []
  },
  {
   "cell_type": "markdown",
   "id": "091abb14-0db0-47d5-a899-465dcbdbb922",
   "metadata": {},
   "source": [
    "**Step 32**"
   ]
  },
  {
   "cell_type": "code",
   "execution_count": null,
   "id": "97d9a2a8-41d8-4b4c-8001-a34b020eb750",
   "metadata": {},
   "outputs": [],
   "source": [
    "await salobj.set_summary_state(rotator, salobj.State.STANDBY, timeout=10)"
   ]
  },
  {
   "cell_type": "markdown",
   "id": "af2a1125",
   "metadata": {},
   "source": [
    "Use the EUI to transition the rotator controller into **Offline/PublishOnly** state."
   ]
  },
  {
   "cell_type": "code",
   "execution_count": null,
   "id": "63940671",
   "metadata": {},
   "outputs": [],
   "source": []
  },
  {
   "cell_type": "markdown",
   "id": "d3955298-e74e-4321-b7e2-65da366178c8",
   "metadata": {},
   "source": [
    "**Step 33**\n",
    "\n",
    "Rotator action on state commands"
   ]
  },
  {
   "cell_type": "markdown",
   "id": "14ee6ccf",
   "metadata": {},
   "source": [
    "Transition the low-level controller state machine to **Offline/Available** state using the EUI."
   ]
  },
  {
   "cell_type": "code",
   "execution_count": null,
   "id": "12826920",
   "metadata": {},
   "outputs": [],
   "source": []
  },
  {
   "cell_type": "markdown",
   "id": "ee1f6586-b7fb-47af-a07d-97f5f386778e",
   "metadata": {},
   "source": [
    "**Step 34**"
   ]
  },
  {
   "cell_type": "markdown",
   "id": "12cc6fab",
   "metadata": {},
   "source": [
    "From the EUI, select the DDS button to allow the system to receive commands from DDS."
   ]
  },
  {
   "cell_type": "code",
   "execution_count": null,
   "id": "02ab7358",
   "metadata": {},
   "outputs": [],
   "source": []
  },
  {
   "cell_type": "markdown",
   "id": "a416dd29-d434-45fe-b243-ce6194bce8f3",
   "metadata": {},
   "source": [
    "**Step 35**"
   ]
  },
  {
   "cell_type": "code",
   "execution_count": null,
   "id": "0a89a753",
   "metadata": {},
   "outputs": [],
   "source": [
    "time_start_step35 = script_log_start(script, test_title, \"Step 35\")"
   ]
  },
  {
   "cell_type": "code",
   "execution_count": null,
   "id": "180f8395-37a0-4042-88be-8bf40acb7773",
   "metadata": {},
   "outputs": [],
   "source": [
    "await rotator.cmd_start.set_start(timeout=10)"
   ]
  },
  {
   "cell_type": "code",
   "execution_count": null,
   "id": "94280428",
   "metadata": {},
   "outputs": [],
   "source": [
    "time_stop_step35 = script_log_stop(script, test_title, \"Step 35\")"
   ]
  },
  {
   "cell_type": "code",
   "execution_count": null,
   "id": "7a6ae1ad",
   "metadata": {},
   "outputs": [],
   "source": []
  },
  {
   "cell_type": "markdown",
   "id": "4e3d3cbb-b3fa-4e0c-b0c2-d7d3e924505a",
   "metadata": {},
   "source": [
    "**Step 36**"
   ]
  },
  {
   "cell_type": "code",
   "execution_count": null,
   "id": "6f485a1e",
   "metadata": {},
   "outputs": [],
   "source": [
    "time_start_step36 = script_log_start(script, test_title, \"Step 36\")"
   ]
  },
  {
   "cell_type": "code",
   "execution_count": null,
   "id": "be95a07a-ea87-4830-aa97-e6056f008e52",
   "metadata": {},
   "outputs": [],
   "source": [
    "await rotator.cmd_enable.set_start(timeout=10)"
   ]
  },
  {
   "cell_type": "code",
   "execution_count": null,
   "id": "8375bcbe",
   "metadata": {},
   "outputs": [],
   "source": [
    "time_stop_step36 = script_log_stop(script, test_title, \"Step 36\")"
   ]
  },
  {
   "cell_type": "code",
   "execution_count": null,
   "id": "ee4893f9",
   "metadata": {},
   "outputs": [],
   "source": []
  },
  {
   "cell_type": "markdown",
   "id": "7eb8b6d8-cfe3-44a2-b182-3f88d493b35c",
   "metadata": {},
   "source": [
    "**Step 37**"
   ]
  },
  {
   "cell_type": "code",
   "execution_count": null,
   "id": "14fab77b",
   "metadata": {},
   "outputs": [],
   "source": [
    "time_start_step37 = script_log_start(script, test_title, \"Step 37\")"
   ]
  },
  {
   "cell_type": "code",
   "execution_count": null,
   "id": "9c07898d-55dc-414f-a052-2b332ef39fb7",
   "metadata": {},
   "outputs": [],
   "source": [
    "await rotator.cmd_disable.set_start(timeout=10)"
   ]
  },
  {
   "cell_type": "code",
   "execution_count": null,
   "id": "7b7656a0",
   "metadata": {},
   "outputs": [],
   "source": [
    "time_stop_step37 = script_log_stop(script, test_title, \"Step 37\")"
   ]
  },
  {
   "cell_type": "code",
   "execution_count": null,
   "id": "92a6265d",
   "metadata": {},
   "outputs": [],
   "source": []
  },
  {
   "cell_type": "markdown",
   "id": "2db38c1f-7c50-43be-b389-1dcdaac934ba",
   "metadata": {},
   "source": [
    "**Step 38**"
   ]
  },
  {
   "cell_type": "code",
   "execution_count": null,
   "id": "de6a593a",
   "metadata": {},
   "outputs": [],
   "source": [
    "time_start_step38 = script_log_start(script, test_title, \"Step 38\")"
   ]
  },
  {
   "cell_type": "code",
   "execution_count": null,
   "id": "2673be04-83e2-4d67-9d51-b7e3a1520769",
   "metadata": {},
   "outputs": [],
   "source": [
    "await rotator.cmd_standby.set_start(timeout=10)"
   ]
  },
  {
   "cell_type": "code",
   "execution_count": null,
   "id": "e7af78cf",
   "metadata": {},
   "outputs": [],
   "source": [
    "time_stop_step38 = script_log_stop(script, test_title, \"Step 38\")"
   ]
  },
  {
   "cell_type": "code",
   "execution_count": null,
   "id": "01869389",
   "metadata": {},
   "outputs": [],
   "source": []
  },
  {
   "cell_type": "markdown",
   "id": "962cf9d5-2480-4408-9c13-5f80708d8a4f",
   "metadata": {},
   "source": [
    "**Step 39**\n",
    "\n",
    "Unplug the encoder cable."
   ]
  },
  {
   "cell_type": "code",
   "execution_count": null,
   "id": "861c1fc1",
   "metadata": {},
   "outputs": [],
   "source": [
    "time_start_step39 = script_log_start(script, test_title, \"Step 39\")"
   ]
  },
  {
   "cell_type": "code",
   "execution_count": null,
   "id": "f454f1cc-a6b5-4f12-aabf-7b05606d589b",
   "metadata": {},
   "outputs": [],
   "source": [
    "await make_sure_csc_enabled(rotator)"
   ]
  },
  {
   "cell_type": "markdown",
   "id": "1749bef5",
   "metadata": {},
   "source": [
    "Unplug an encoder cable for one of the rotator motors."
   ]
  },
  {
   "cell_type": "code",
   "execution_count": null,
   "id": "0359ceb7",
   "metadata": {},
   "outputs": [],
   "source": [
    "time_stop_step39 = script_log_stop(script, test_title, \"Step 39\")"
   ]
  },
  {
   "cell_type": "code",
   "execution_count": null,
   "id": "c7968747",
   "metadata": {},
   "outputs": [],
   "source": []
  },
  {
   "cell_type": "markdown",
   "id": "533205aa-2889-4b9a-8391-ce12cc1ffd67",
   "metadata": {},
   "source": [
    "**Step 40**"
   ]
  },
  {
   "cell_type": "code",
   "execution_count": null,
   "id": "ceb94a3e",
   "metadata": {},
   "outputs": [],
   "source": [
    "time_start_step40 = script_log_start(script, test_title, \"Step 40\")"
   ]
  },
  {
   "cell_type": "markdown",
   "id": "9190ca62",
   "metadata": {},
   "source": [
    "Re-plug the encoder cable."
   ]
  },
  {
   "cell_type": "code",
   "execution_count": null,
   "id": "f87f1902",
   "metadata": {},
   "outputs": [],
   "source": [
    "await rotator.cmd_standby.set_start(timeout=10)"
   ]
  },
  {
   "cell_type": "code",
   "execution_count": null,
   "id": "9be07c8c",
   "metadata": {},
   "outputs": [],
   "source": [
    "time_stop_step40 = script_log_stop(script, test_title, \"Step 40\")"
   ]
  },
  {
   "cell_type": "code",
   "execution_count": null,
   "id": "5c19bece",
   "metadata": {},
   "outputs": [],
   "source": []
  },
  {
   "cell_type": "markdown",
   "id": "0fb8bc76-f62d-4954-924c-595c7d3a411a",
   "metadata": {},
   "source": [
    "**Step 41**\n",
    "\n",
    "Unplug the linear encoder cable."
   ]
  },
  {
   "cell_type": "code",
   "execution_count": null,
   "id": "5e6bacce",
   "metadata": {},
   "outputs": [],
   "source": [
    "time_start_step41 = script_log_start(script, test_title, \"Step 41\")"
   ]
  },
  {
   "cell_type": "code",
   "execution_count": null,
   "id": "8fbb6d25-66ad-4403-9a72-252eb25163ba",
   "metadata": {},
   "outputs": [],
   "source": [
    "await make_sure_csc_enabled(rotator)"
   ]
  },
  {
   "cell_type": "markdown",
   "id": "00657298",
   "metadata": {},
   "source": [
    "Unplug a linear encoder cable for the rotator."
   ]
  },
  {
   "cell_type": "markdown",
   "id": "66a3c52e",
   "metadata": {},
   "source": [
    "Replug a linear encoder cable for the rotator."
   ]
  },
  {
   "cell_type": "code",
   "execution_count": null,
   "id": "47979201",
   "metadata": {},
   "outputs": [],
   "source": [
    "await rotator.cmd_standby.set_start(timeout=10)"
   ]
  },
  {
   "cell_type": "code",
   "execution_count": null,
   "id": "49c8d20e",
   "metadata": {},
   "outputs": [],
   "source": [
    "time_stop_step41 = script_log_stop(script, test_title, \"Step 41\")"
   ]
  },
  {
   "cell_type": "code",
   "execution_count": null,
   "id": "48ccd2c1",
   "metadata": {},
   "outputs": [],
   "source": []
  },
  {
   "cell_type": "markdown",
   "id": "c8732ad9-9ed8-42c9-b6db-e29d25f67f7d",
   "metadata": {},
   "source": [
    "**Step 42**"
   ]
  },
  {
   "cell_type": "code",
   "execution_count": null,
   "id": "52ecec7d",
   "metadata": {},
   "outputs": [],
   "source": [
    "time_start_step42 = script_log_start(script, test_title, \"Step 42\")"
   ]
  },
  {
   "cell_type": "markdown",
   "id": "61fe1755",
   "metadata": {},
   "source": [
    "Set the **Following Error Threshold** parameter to a very small value (0.0001 deg or smaller).\n",
    "Adjust this value within the low-controller configuration file."
   ]
  },
  {
   "cell_type": "code",
   "execution_count": null,
   "id": "4c401add",
   "metadata": {},
   "outputs": [],
   "source": [
    "await make_sure_csc_enabled(rotator)"
   ]
  },
  {
   "cell_type": "code",
   "execution_count": null,
   "id": "dbaaefb4",
   "metadata": {},
   "outputs": [],
   "source": [
    "time_stop_step42 = script_log_stop(script, test_title, \"Step 42\")"
   ]
  },
  {
   "cell_type": "code",
   "execution_count": null,
   "id": "83f73044",
   "metadata": {},
   "outputs": [],
   "source": []
  },
  {
   "cell_type": "markdown",
   "id": "2ae225ff-969b-4586-897c-aa416deb0f1b",
   "metadata": {},
   "source": [
    "**Step 43**"
   ]
  },
  {
   "cell_type": "code",
   "execution_count": null,
   "id": "8140f36e",
   "metadata": {},
   "outputs": [],
   "source": [
    "time_start_step43 = script_log_start(script, test_title, \"Step 43\")"
   ]
  },
  {
   "cell_type": "code",
   "execution_count": null,
   "id": "ae6dc9b3-314f-4782-8aee-9ef1a41ecf5f",
   "metadata": {},
   "outputs": [],
   "source": [
    "await rotator.cmd_move.set_start(position=10, timeout=90)\n",
    "await asyncio.sleep(5)"
   ]
  },
  {
   "cell_type": "code",
   "execution_count": null,
   "id": "10816bdc",
   "metadata": {},
   "outputs": [],
   "source": [
    "time_stop_step43 = script_log_stop(script, test_title, \"Step 43\")"
   ]
  },
  {
   "cell_type": "markdown",
   "id": "a9f35a9e",
   "metadata": {},
   "source": [
    "Recover the controller settings."
   ]
  },
  {
   "cell_type": "markdown",
   "id": "6017cb71",
   "metadata": {},
   "source": [
    "Set the **Following Error Threshold** parameter back to the original value."
   ]
  },
  {
   "cell_type": "code",
   "execution_count": null,
   "id": "e4f95906",
   "metadata": {},
   "outputs": [],
   "source": [
    "await rotator.cmd_standby.set_start(timeout=10)"
   ]
  },
  {
   "cell_type": "code",
   "execution_count": null,
   "id": "44bf7ad4",
   "metadata": {},
   "outputs": [],
   "source": []
  },
  {
   "cell_type": "markdown",
   "id": "403c7e0a-e265-44ed-932f-b04f508be06e",
   "metadata": {},
   "source": [
    "**Step 44**\n",
    "\n",
    "Positive software limit test"
   ]
  },
  {
   "cell_type": "code",
   "execution_count": null,
   "id": "04ad0258",
   "metadata": {},
   "outputs": [],
   "source": [
    "time_start_step44 = script_log_start(script, test_title, \"Step 44\")"
   ]
  },
  {
   "cell_type": "markdown",
   "id": "dc497428",
   "metadata": {},
   "source": [
    "Set the positive and negative software limits to 1 and -1 degree.\n",
    "Adjust this value within the low-controller configuration file."
   ]
  },
  {
   "cell_type": "code",
   "execution_count": null,
   "id": "ecd8e05e",
   "metadata": {},
   "outputs": [],
   "source": [
    "await make_sure_csc_enabled(rotator)"
   ]
  },
  {
   "cell_type": "code",
   "execution_count": null,
   "id": "ad0e882d",
   "metadata": {},
   "outputs": [],
   "source": [
    "await track_target(rotator, 0.8, 1.2, 0.068)"
   ]
  },
  {
   "cell_type": "code",
   "execution_count": null,
   "id": "45d255e1",
   "metadata": {},
   "outputs": [],
   "source": [
    "time_stop_step44 = script_log_stop(script, test_title, \"Step 44\")"
   ]
  },
  {
   "cell_type": "markdown",
   "id": "c61fa115",
   "metadata": {},
   "source": [
    "Recover back to origin."
   ]
  },
  {
   "cell_type": "code",
   "execution_count": null,
   "id": "4d2e1532",
   "metadata": {},
   "outputs": [],
   "source": [
    "await make_sure_csc_enabled(rotator)\n",
    "await move_origin(rotator)"
   ]
  },
  {
   "cell_type": "code",
   "execution_count": null,
   "id": "ef37fb87",
   "metadata": {},
   "outputs": [],
   "source": []
  },
  {
   "cell_type": "markdown",
   "id": "74b5b736-57e5-4f58-a322-b60c08a41b64",
   "metadata": {},
   "source": [
    "**Step 45**\n",
    "\n",
    "Negative software limit test"
   ]
  },
  {
   "cell_type": "code",
   "execution_count": null,
   "id": "82abfeb9",
   "metadata": {},
   "outputs": [],
   "source": [
    "time_start_step45 = script_log_start(script, test_title, \"Step 45\")"
   ]
  },
  {
   "cell_type": "code",
   "execution_count": null,
   "id": "f9318338-719a-4e62-8067-116985eaa760",
   "metadata": {},
   "outputs": [],
   "source": [
    "await track_target(rotator, -0.8, -1.2, -0.068)"
   ]
  },
  {
   "cell_type": "code",
   "execution_count": null,
   "id": "5dce0354",
   "metadata": {},
   "outputs": [],
   "source": [
    "time_stop_step45 = script_log_stop(script, test_title, \"Step 45\")"
   ]
  },
  {
   "cell_type": "markdown",
   "id": "bfe07d38",
   "metadata": {},
   "source": [
    "Recover back to origin."
   ]
  },
  {
   "cell_type": "code",
   "execution_count": null,
   "id": "7297d6ad",
   "metadata": {},
   "outputs": [],
   "source": [
    "await make_sure_csc_enabled(rotator)\n",
    "await move_origin(rotator)"
   ]
  },
  {
   "cell_type": "markdown",
   "id": "467da6af",
   "metadata": {},
   "source": [
    "Return to previous configuration."
   ]
  },
  {
   "cell_type": "code",
   "execution_count": null,
   "id": "fa6ff3e9",
   "metadata": {},
   "outputs": [],
   "source": [
    "await salobj.set_summary_state(rotator, salobj.State.STANDBY, timeout=10)"
   ]
  },
  {
   "cell_type": "markdown",
   "id": "515eb3df",
   "metadata": {},
   "source": [
    "Set the positive and negative software limits back to 90 and -90 degree.\n",
    "Adjust this value within the low-controller configuration file."
   ]
  },
  {
   "cell_type": "code",
   "execution_count": null,
   "id": "850054cf",
   "metadata": {},
   "outputs": [],
   "source": []
  },
  {
   "cell_type": "markdown",
   "id": "71919857-0854-4d13-9033-99b2a720c27c",
   "metadata": {},
   "source": [
    "**Step 46**\n",
    "\n",
    "Unplug the EtherCAT cable."
   ]
  },
  {
   "cell_type": "code",
   "execution_count": null,
   "id": "b0c61c51",
   "metadata": {},
   "outputs": [],
   "source": [
    "time_start_step46 = script_log_start(script, test_title, \"Step 46\")"
   ]
  },
  {
   "cell_type": "code",
   "execution_count": null,
   "id": "8e83ce24",
   "metadata": {},
   "outputs": [],
   "source": [
    "await salobj.set_summary_state(rotator, salobj.State.DISABLED, timeout=10)"
   ]
  },
  {
   "cell_type": "markdown",
   "id": "6d026a7c",
   "metadata": {},
   "source": [
    "Unplug the EtherCAT cable."
   ]
  },
  {
   "cell_type": "markdown",
   "id": "b7c4f9ac",
   "metadata": {},
   "source": [
    "Re-plug the EtherCAT cable."
   ]
  },
  {
   "cell_type": "code",
   "execution_count": null,
   "id": "8355cb09",
   "metadata": {},
   "outputs": [],
   "source": [
    "await salobj.set_summary_state(rotator, salobj.State.STANDBY, timeout=10)"
   ]
  },
  {
   "cell_type": "code",
   "execution_count": null,
   "id": "f6fe0d10",
   "metadata": {},
   "outputs": [],
   "source": [
    "time_stop_step46 = script_log_stop(script, test_title, \"Step 46\")"
   ]
  },
  {
   "cell_type": "code",
   "execution_count": null,
   "id": "70327bdc",
   "metadata": {},
   "outputs": [],
   "source": []
  },
  {
   "cell_type": "markdown",
   "id": "d629fbcc-c39d-44ef-8a09-feec2ed62e6b",
   "metadata": {},
   "source": [
    "**Step 47**\n",
    "\n",
    "Transition the rotator into **STANDBY** state."
   ]
  },
  {
   "cell_type": "code",
   "execution_count": null,
   "id": "898acc9d-2984-4ba6-9403-4d8dc7ce9491",
   "metadata": {},
   "outputs": [],
   "source": [
    "await salobj.set_summary_state(rotator, salobj.State.STANDBY, timeout=10)"
   ]
  },
  {
   "cell_type": "code",
   "execution_count": null,
   "id": "48ce3abc",
   "metadata": {},
   "outputs": [],
   "source": []
  }
 ],
 "metadata": {
  "kernelspec": {
   "display_name": "LSST",
   "language": "python",
   "name": "lsst"
  },
  "language_info": {
   "codemirror_mode": {
    "name": "ipython",
    "version": 3
   },
   "file_extension": ".py",
   "mimetype": "text/x-python",
   "name": "python",
   "nbconvert_exporter": "python",
   "pygments_lexer": "ipython3",
   "version": "3.10.4"
  }
 },
 "nbformat": 4,
 "nbformat_minor": 5
}
