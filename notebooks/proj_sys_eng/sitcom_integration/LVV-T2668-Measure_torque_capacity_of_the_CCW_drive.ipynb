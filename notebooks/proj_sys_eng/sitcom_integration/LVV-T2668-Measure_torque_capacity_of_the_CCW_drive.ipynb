{
 "cells": [
  {
   "cell_type": "markdown",
   "id": "f7f8ee52",
   "metadata": {
    "tags": []
   },
   "source": [
    "# [LVV-2668] Measure torque capacity of the CCW drive\n",
    "\n",
    "This notebook is used to measure the torque capacity of the CCW.\n",
    "\n",
    "Requirements\n",
    "* EFD avaliable\n",
    "* Rotator powered on\n",
    "* Thermal sensors attached to the two rotator motors\n",
    "* CSC running\n",
    "* CCW in following mode\n",
    "\n",
    "This test will require manual verification of certain events and telemetry in the summit EFD.\n",
    "Also manual verification of appropriate temperatures by using the chronograph during several steps is required.\n",
    "\n",
    "The first parts of this notebook are copied from LVV-2344 'Startup MT Components for System Spread Integration Tests on Level 3'\n",
    "\n",
    "**Make sure you run this notebook on TTS before running at the summit.**\n",
    "\n",
    "Please, see the [README] file for the requirements to run this notebook.\n",
    "\n",
    "[LVV-2668]: https://jira.lsstcorp.org/secure/Tests.jspa#/testCase/LVV-T2668\n",
    "[README]: https://github.com/lsst-sitcom/notebooks_vandv/blob/develop/README.md"
   ]
  },
  {
   "cell_type": "markdown",
   "id": "d7e7e340-8f8c-4727-afb8-02cce46a7937",
   "metadata": {},
   "source": [
    "## Setting Up Test Environment\n",
    "\n",
    "Before we run the tests, we want to make sure that we have all the libraries imported, remotes connected, etc."
   ]
  },
  {
   "cell_type": "code",
   "execution_count": null,
   "id": "9da0583c-5c38-4852-b7d5-b0677d4f944a",
   "metadata": {},
   "outputs": [],
   "source": [
    "test_message = \"CCW Torque Capacity Test\"\n",
    "test_case = \"LVV-T2668\"\n",
    "test_exec = \"LVV-EXXXX\"\n",
    "\n",
    "# Put date in DDDD\n",
    "script_id = DDDD2688"
   ]
  },
  {
   "cell_type": "code",
   "execution_count": null,
   "id": "5d4cb010",
   "metadata": {},
   "outputs": [],
   "source": [
    "%load_ext autoreload\n",
    "%autoreload 2\n",
    "\n",
    "import os\n",
    "import sys\n",
    "import asyncio\n",
    "import logging\n",
    "\n",
    "import pandas as pd\n",
    "\n",
    "from matplotlib import pyplot as plt\n",
    "\n",
    "from lsst.ts import salobj\n",
    "from lsst.ts.observatory.control.maintel.mtcs import MTCS\n",
    "\n",
    "from lsst.sitcom import vandv"
   ]
  },
  {
   "cell_type": "code",
   "execution_count": null,
   "id": "be1cb83f-0d91-437c-aff2-c94e31cc7b94",
   "metadata": {},
   "outputs": [],
   "source": [
    "exec_info = vandv.ExecutionInfo()\n",
    "print(exec_info)"
   ]
  },
  {
   "cell_type": "markdown",
   "id": "489785f5",
   "metadata": {},
   "source": [
    "### Check environment setup\n",
    "\n",
    "The following cell will print some of the basic DDS configutions."
   ]
  },
  {
   "cell_type": "code",
   "execution_count": null,
   "id": "e0332e1c",
   "metadata": {},
   "outputs": [],
   "source": [
    "print(os.environ[\"OSPL_URI\"])\n",
    "print(os.environ[\"LSST_DDS_PARTITION_PREFIX\"])\n",
    "print(os.environ.get(\"LSST_DDS_DOMAIN_ID\", \"Expected, not set.\"))"
   ]
  },
  {
   "cell_type": "markdown",
   "id": "68270f67",
   "metadata": {},
   "source": [
    "### Setup logging\n",
    "\n",
    "Setup logging in debug mode and create a logger to use on the notebook."
   ]
  },
  {
   "cell_type": "code",
   "execution_count": null,
   "id": "10564a81",
   "metadata": {},
   "outputs": [],
   "source": [
    "logging.basicConfig(format=\"%(name)s:%(message)s\", level=logging.DEBUG)"
   ]
  },
  {
   "cell_type": "code",
   "execution_count": null,
   "id": "2d672a06",
   "metadata": {},
   "outputs": [],
   "source": [
    "log = logging.getLogger(\"setup\")\n",
    "log.level = logging.DEBUG"
   ]
  },
  {
   "cell_type": "markdown",
   "id": "8d28d522",
   "metadata": {},
   "source": [
    "### Starting communication resources\n",
    "\n",
    "We start by creating a domain and later instantiate the MTCS class.\n",
    "We will use the class to startup the components. "
   ]
  },
  {
   "cell_type": "code",
   "execution_count": null,
   "id": "c7dd9df7",
   "metadata": {},
   "outputs": [],
   "source": [
    "domain = salobj.Domain()"
   ]
  },
  {
   "cell_type": "code",
   "execution_count": null,
   "id": "d61145c4",
   "metadata": {},
   "outputs": [],
   "source": [
    "mtcs = MTCS(domain=domain, log=log)\n",
    "mtcs.set_rem_loglevel(40)"
   ]
  },
  {
   "cell_type": "code",
   "execution_count": null,
   "id": "ab646382",
   "metadata": {},
   "outputs": [],
   "source": [
    "await mtcs.start_task"
   ]
  },
  {
   "cell_type": "markdown",
   "id": "8f57ec86",
   "metadata": {},
   "source": [
    "# Starting components\n",
    "\n",
    "From now on we will start the various components of the MTAOS.\n",
    "You may wonder why are we not simply sending all CSCs to ENABLED state in one go, as we usually do on other systems.\n",
    "\n",
    "The answer is that the MTCS components have some initilization dependencies that need to be observed for the components to be enabled properly.\n",
    "We will describe these as we work our way the initialization steps.\n"
   ]
  },
  {
   "cell_type": "markdown",
   "id": "294e7f0e",
   "metadata": {},
   "source": [
    "## Starting MTPtg\n",
    "\n",
    "We start by making sure the pointing component is alive, by waiting for a heartbeat.\n",
    "Next we enable the component using `mtcs.set_state` method.\n",
    "\n",
    "We select to start with the `MTPtg` mainly because, of all components of the `MTCS` it is the only pure-software components.\n",
    "As such the `MTPtg` is pretty independent and can be brought to enabled in any condition.\n",
    "\n",
    "It is also worth noticed that, as a pure-software component, the `MTPtg` does not have a simulation mode.\n",
    "\n",
    "Furthermore, as you will notice below, we are not checking the software version of the `MTPtg`, mainly because the component is currently not sending this information."
   ]
  },
  {
   "cell_type": "code",
   "execution_count": null,
   "id": "56bfe634",
   "metadata": {},
   "outputs": [],
   "source": [
    "await mtcs.next_heartbeat(\"mtptg\")"
   ]
  },
  {
   "cell_type": "code",
   "execution_count": null,
   "id": "a4f92bbe",
   "metadata": {},
   "outputs": [],
   "source": [
    "await mtcs.set_state(salobj.State.ENABLED, components=[\"mtptg\"])"
   ]
  },
  {
   "cell_type": "markdown",
   "id": "b74e14fb",
   "metadata": {},
   "source": [
    "## Starting MTMount\n",
    "\n",
    "This is one case where the initialization order is important. \n",
    "\n",
    "The MTMount needs to be enabled before we enable the MTRotator.\n",
    "The reason is that the MTRotator needs to know the position of the Camera Cable Wrap (CCW), which is provided by the MTMount, before it can be enable. \n",
    "If the MTRotator does not receive the position of the CCW, it will immediatelly activate the breaks and transition to FAULT state."
   ]
  },
  {
   "cell_type": "markdown",
   "id": "9336399e",
   "metadata": {},
   "source": [
    "We start by verifying that the CSC is sending heartbeats."
   ]
  },
  {
   "cell_type": "code",
   "execution_count": null,
   "id": "588d57cb",
   "metadata": {},
   "outputs": [],
   "source": [
    "await mtcs.next_heartbeat(\"mtmount\")"
   ]
  },
  {
   "cell_type": "markdown",
   "id": "e991636b",
   "metadata": {},
   "source": [
    "Now we can enable the CSC."
   ]
  },
  {
   "cell_type": "code",
   "execution_count": null,
   "id": "a633a085",
   "metadata": {},
   "outputs": [],
   "source": [
    "await mtcs.set_state(salobj.State.ENABLED, components=[\"mtmount\"])"
   ]
  },
  {
   "cell_type": "markdown",
   "id": "42aa2672",
   "metadata": {},
   "source": [
    "### Perform some basic checks\n",
    "\n",
    "The following are a couple of sanity checks we routinely perform when starting the MTMount.\n",
    "\n",
    "We check if the CSC is running in simulation mode and then the version of the CSC.\n",
    "\n",
    "Finally, we verify that the camera cable wrap following is enabled."
   ]
  },
  {
   "cell_type": "code",
   "execution_count": null,
   "id": "8b7f77a9",
   "metadata": {},
   "outputs": [],
   "source": [
    "mtmount_simulation_mode = await mtcs.get_simulation_mode([\"mtmount\"])\n",
    "\n",
    "mode = mtmount_simulation_mode[\"mtmount\"].mode\n",
    "timestamp = pd.to_datetime(mtmount_simulation_mode[\"mtmount\"].private_sndStamp, unit='s')\n",
    "\n",
    "log.debug(\n",
    "    f\"MTMount simulation mode: {mode} @ {timestamp}\"\n",
    ")"
   ]
  },
  {
   "cell_type": "code",
   "execution_count": null,
   "id": "488b8ee0",
   "metadata": {},
   "outputs": [],
   "source": [
    "mtmount_software_versions = await mtcs.get_software_versions([\"mtmount\"])\n",
    "\n",
    "csc_version = mtmount_software_versions[\"mtmount\"].cscVersion\n",
    "timestamp = pd.to_datetime(mtmount_software_versions[\"mtmount\"].private_sndStamp, unit='s')\n",
    "\n",
    "log.debug(\n",
    "    f\"MTMount software version: {csc_version} @ {timestamp}\",\n",
    ")"
   ]
  },
  {
   "cell_type": "code",
   "execution_count": null,
   "id": "345f8701",
   "metadata": {},
   "outputs": [],
   "source": [
    "mtmount_ccw_following = await mtcs.rem.mtmount.evt_cameraCableWrapFollowing.aget()\n",
    "\n",
    "timestamp = pd.to_datetime(mtmount_ccw_following.private_sndStamp, unit='s')\n",
    "\n",
    "if mtmount_ccw_following.enabled:\n",
    "    log.debug(f\"CCW following mode enabled: {mtmount_ccw_following.enabled} @ {timestamp}.\")\n",
    "else:\n",
    "    await mtcs.set_state(salobj.State.DISABLED, [\"mtmount\"])\n",
    "    raise RuntimeError(\n",
    "        \"CCW following mode not enabled. Usually this means that the MTMount could \"\n",
    "        \"not see telemetry from the rotator when it was enabled. To correct this condition \"\n",
    "        \"make sure the MTRotator telemetry is being published, then execute the procedure again. \"\n",
    "        \"MTMount CSC will be left in DISABLED state.\"\n",
    "        )\n"
   ]
  },
  {
   "cell_type": "markdown",
   "id": "879e312a",
   "metadata": {},
   "source": [
    "## Starting Rotator"
   ]
  },
  {
   "cell_type": "code",
   "execution_count": null,
   "id": "b8b856d9",
   "metadata": {},
   "outputs": [],
   "source": [
    "await mtcs.next_heartbeat(\"mtrotator\")"
   ]
  },
  {
   "cell_type": "code",
   "execution_count": null,
   "id": "ad5ea0b7",
   "metadata": {},
   "outputs": [],
   "source": [
    "await mtcs.set_state(salobj.State.ENABLED, components=[\"mtrotator\"])"
   ]
  },
  {
   "cell_type": "markdown",
   "id": "b1d0e1b4",
   "metadata": {},
   "source": [
    "### Perform some basic checks\n",
    "\n",
    "The following is a few sanity checks we routinely perform to verify the system integrity at this stage."
   ]
  },
  {
   "cell_type": "code",
   "execution_count": null,
   "id": "5ef8c277",
   "metadata": {},
   "outputs": [],
   "source": [
    "mtrotator_simulation_mode = await mtcs.get_simulation_mode([\"mtrotator\"])\n",
    "\n",
    "mode = mtrotator_simulation_mode[\"mtrotator\"].mode\n",
    "timestamp = pd.to_datetime(mtrotator_simulation_mode[\"mtrotator\"].private_sndStamp, unit='s')\n",
    "\n",
    "log.debug(\n",
    "    f\"MTRotator simulation mode: {mode} @ {timestamp}\"\n",
    ")"
   ]
  },
  {
   "cell_type": "code",
   "execution_count": null,
   "id": "f9c491be",
   "metadata": {},
   "outputs": [],
   "source": [
    "mtrotator_software_versions = await mtcs.get_software_versions([\"mtrotator\"])\n",
    "\n",
    "csc_version = mtrotator_software_versions[\"mtrotator\"].cscVersion\n",
    "timestamp = pd.to_datetime(mtrotator_software_versions[\"mtrotator\"].private_sndStamp, unit='s')\n",
    "\n",
    "log.debug(\n",
    "    f\"MTRotator software version: {csc_version} @ {timestamp}\",\n",
    ")"
   ]
  },
  {
   "cell_type": "code",
   "execution_count": null,
   "id": "95e20a52",
   "metadata": {},
   "outputs": [],
   "source": [
    "elevation = await mtcs.rem.mtmount.tel_elevation.next(flush=True, timeout=5)\n",
    "azimuth = await mtcs.rem.mtmount.tel_azimuth.next(flush=True, timeout=5)\n",
    "ccw = await mtcs.rem.mtmount.tel_cameraCableWrap.next(flush=True, timeout=5)\n",
    "rotator = await mtcs.rem.mtrotator.tel_rotation.next(flush=True, timeout=5)\n",
    "\n",
    "log.info(f\"mount elevation Angle = {elevation.actualPosition}\")\n",
    "log.info(f\"mount azimuth angle = {azimuth.actualPosition}\")\n",
    "log.info(f\"CCW angle = {ccw.actualPosition}. Needs to be within 2.2 deg of rotator angle \")\n",
    "log.info(f\"rot angle = {rotator.actualPosition} diff = {rotator.actualPosition - ccw.actualPosition}\")"
   ]
  },
  {
   "cell_type": "markdown",
   "id": "e1a23c80",
   "metadata": {},
   "source": [
    "### CCW telemetry too old\n",
    "\n",
    "This warning message may appear in the `MTRotator` in a couple different conditions.\n",
    "\n",
    "The most common occurence is when the `MTMount` component is not publishing the CCW telemetry.\n",
    "This should be rectified by enabling the CSC, as we've done on the section above, and is one of the reasons we enable `MTMount` before the `MTRotator`.\n",
    "\n",
    "The less common but more critical condition is when the clock on the `MTMount` controller is out of sync with the observatory clock server.\n",
    "In this case, the `timestamp` attribute, used by the `MTRotator` to determine the relevant time for the published telemetry, will be out of sync and we won't be able to operate the system.\n",
    "\n",
    "You can use the cell below to determine whether this is the case or not.\n",
    "If so, you need to contact IT or someone with knowledge about the `MTMount` low level controller to fix the time synchronization issue.\n",
    "\n"
   ]
  },
  {
   "cell_type": "code",
   "execution_count": null,
   "id": "7b8d52af",
   "metadata": {},
   "outputs": [],
   "source": [
    "ccw = await mtcs.rem.mtmount.tel_cameraCableWrap.next(flush=True, timeout=5)\n",
    "rotator = await mtcs.rem.mtrotator.tel_rotation.next(flush=True, timeout=5)\n",
    "\n",
    "ccw_snd_stamp = pd.to_datetime(ccw.private_sndStamp, unit='s')\n",
    "ccw_timestamp = pd.to_datetime(ccw.timestamp, unit='s')\n",
    "ccw_actual_position = ccw.actualPosition\n",
    "\n",
    "rotator_snd_stamp = pd.to_datetime(rotator.private_sndStamp, unit='s')\n",
    "rotator_timestamp = pd.to_datetime(rotator.timestamp, unit='s')\n",
    "rotator_actual_position = rotator.actualPosition\n",
    "\n",
    "log.info(\n",
    "    f\"CCW:: snd_stamp={ccw_snd_stamp} timestamp={ccw_timestamp} actual position={ccw_actual_position}\"\n",
    "    )\n",
    "log.info(\n",
    "    f\"Rotator:: snd_stamp={rotator_snd_stamp} timestamp={rotator_timestamp} actual position={rotator_actual_position}\"\n",
    "    )\n",
    "\n",
    "ccw_telemetry_maximum_age = pd.to_timedelta(1.0, unit='s')\n",
    "\n",
    "if abs(ccw_snd_stamp - ccw_timestamp) > ccw_telemetry_maximum_age:\n",
    "    log.warning(\n",
    "        f\"CCW timestamp out of sync by {abs(ccw_snd_stamp - ccw_timestamp)}s. \"\n",
    "        \"System may not work. Check clock synchronization in MTMount low level controller.\"\n",
    "        )"
   ]
  },
  {
   "cell_type": "markdown",
   "id": "ee8f02c6",
   "metadata": {},
   "source": [
    "### Clearing error in MTRotator\n",
    "\n",
    "If the MTRotator is in FAULT state, you need to send the `clearError` command before transitioning it back to `ENABLED`.\n",
    "\n",
    "This is a particularity of the `MTRotator` (and `MTHexapod`) that violates our state machine."
   ]
  },
  {
   "cell_type": "code",
   "execution_count": null,
   "id": "2bea664e",
   "metadata": {},
   "outputs": [],
   "source": [
    "if False:\n",
    "    await mtcs.rem.mtrotator.cmd_clearError.set_start()"
   ]
  },
  {
   "cell_type": "markdown",
   "id": "82d63b54",
   "metadata": {},
   "source": [
    "## Starting Camera Hexapod"
   ]
  },
  {
   "cell_type": "code",
   "execution_count": null,
   "id": "4cd84fe4",
   "metadata": {},
   "outputs": [],
   "source": [
    "await mtcs.next_heartbeat(\"mthexapod_1\")"
   ]
  },
  {
   "cell_type": "code",
   "execution_count": null,
   "id": "653e99a0",
   "metadata": {},
   "outputs": [],
   "source": [
    "await mtcs.set_state(\n",
    "    state=salobj.State.ENABLED,\n",
    "    components=[\"mthexapod_1\"]\n",
    "    )"
   ]
  },
  {
   "cell_type": "code",
   "execution_count": null,
   "id": "fb2c6734",
   "metadata": {},
   "outputs": [],
   "source": [
    "mthexapod_1_simulation_mode = await mtcs.get_simulation_mode([\"mthexapod_1\"])\n",
    "\n",
    "mode = mthexapod_1_simulation_mode[\"mthexapod_1\"].mode\n",
    "timestamp = pd.to_datetime(mthexapod_1_simulation_mode[\"mthexapod_1\"].private_sndStamp, unit='s')\n",
    "\n",
    "log.debug(\n",
    "    f\"Camera Hexapod simulation mode: {mode} @ {timestamp}\"\n",
    ")"
   ]
  },
  {
   "cell_type": "code",
   "execution_count": null,
   "id": "aa851b0f",
   "metadata": {},
   "outputs": [],
   "source": [
    "mthexapod_1_software_versions = await mtcs.get_software_versions([\"mthexapod_1\"])\n",
    "\n",
    "csc_version = mthexapod_1_software_versions[\"mthexapod_1\"].cscVersion\n",
    "timestamp = pd.to_datetime(mthexapod_1_software_versions[\"mthexapod_1\"].private_sndStamp, unit='s')\n",
    "\n",
    "log.debug(\n",
    "    f\"Camera Hexapod software version: {csc_version} @ {timestamp}\",\n",
    ")"
   ]
  },
  {
   "cell_type": "code",
   "execution_count": null,
   "id": "0ab0ad77",
   "metadata": {},
   "outputs": [],
   "source": [
    "if False:\n",
    "    await mtcs.rem.mthexapod_1.cmd_clearError.set_start()"
   ]
  },
  {
   "cell_type": "code",
   "execution_count": null,
   "id": "8bba7a59",
   "metadata": {},
   "outputs": [],
   "source": [
    "await mtcs.enable_compensation_mode(component=\"mthexapod_1\")"
   ]
  },
  {
   "cell_type": "code",
   "execution_count": null,
   "id": "5225b012",
   "metadata": {},
   "outputs": [],
   "source": [
    "await mtcs.reset_camera_hexapod_position()"
   ]
  },
  {
   "cell_type": "markdown",
   "id": "aa27a81e-b999-4113-8db5-712367faec00",
   "metadata": {},
   "source": [
    "### Make EFD connection for later"
   ]
  },
  {
   "cell_type": "code",
   "execution_count": null,
   "id": "609ea19e-0e65-4bb0-b2f5-f65acbdee3b3",
   "metadata": {},
   "outputs": [],
   "source": [
    "client = vandv.efd.create_efd_client()"
   ]
  },
  {
   "cell_type": "markdown",
   "id": "412e69df-bfc3-4641-9e18-3dd39246b7da",
   "metadata": {},
   "source": [
    "### Start a script controller for custom log messages to use for later EFD analyses."
   ]
  },
  {
   "cell_type": "code",
   "execution_count": null,
   "id": "f11abd8c-f1aa-445d-89d5-d53a04c6801c",
   "metadata": {},
   "outputs": [],
   "source": [
    "start_time = datetime.now()\n",
    "\n",
    "script = salobj.Controller(\"Script\", index=scriptID)\n",
    "await asyncio.sleep(10) # May help with DDS problems; closing all other kernels may help too\n",
    "print(f\"{test_case} {test_exec} time to start is {datetime.now() - start_time} [s]\")"
   ]
  },
  {
   "cell_type": "markdown",
   "id": "37c73e32-b32d-4642-8cd4-d67b5418ff48",
   "metadata": {},
   "source": [
    "## Begin Tests"
   ]
  },
  {
   "cell_type": "markdown",
   "id": "f1f34fb1-9f55-40b1-9639-f9eedd9980c5",
   "metadata": {},
   "source": [
    "First: verify the MTRotator_logevent_commandableByDDS event is True."
   ]
  },
  {
   "cell_type": "code",
   "execution_count": null,
   "id": "8b8748b0-986f-411a-b8eb-6d2b56ab72cb",
   "metadata": {},
   "outputs": [],
   "source": [
    "await asyncio.sleep(2)\n",
    "\n",
    "data = rotator.evt_commandableByDDS.get()\n",
    "print(data.state)"
   ]
  },
  {
   "cell_type": "markdown",
   "id": "200c2e50-4d11-4d39-96f4-80f62ed2496f",
   "metadata": {},
   "source": [
    "Make sure we start in position zero."
   ]
  },
  {
   "cell_type": "code",
   "execution_count": null,
   "id": "463bd379-4a7a-4f17-8916-b898767099fc",
   "metadata": {
    "tags": []
   },
   "outputs": [],
   "source": [
    "script.log.info(f\"{test_message} -- {test_case} {test_exec} TESTING BEGINS\")\n",
    "\n",
    "script.log.info(f\"START - {test_message} -- {test_case} {test_exec} Reset Position to zero\")\n",
    "await rotator.cmd_move.set_start(position=0, timeout=90)\n",
    "script.log.info(f\"STOP - {test_message} -- {test_case} {test_exec} Reset Position to zero\")"
   ]
  },
  {
   "cell_type": "markdown",
   "id": "e6aa12e6-415e-48d6-84f5-e2435ecaaa84",
   "metadata": {},
   "source": [
    "#### Move from 0 to +88 degrees"
   ]
  },
  {
   "cell_type": "code",
   "execution_count": null,
   "id": "7e51276e-db44-4b1c-8609-adebffed2835",
   "metadata": {
    "tags": []
   },
   "outputs": [],
   "source": [
    "script.log.info(f\"START - {test_message} -- {test_case} {test_exec} 0 to 88 deg\")\n",
    "await rotator.cmd_move.set_start(position=88, timeout=90)\n",
    "script.log.info(f\"STOP - {test_message} -- {test_case} {test_exec} 0 to 88 deg\")"
   ]
  },
  {
   "cell_type": "markdown",
   "id": "9c258f68-5a95-4d52-bbc2-899857df7cda",
   "metadata": {},
   "source": [
    "Cool for close to two minutes and confirm that the rotator temperature is less than 25 degrees by manually checking the chronograph. Note these entries will not exist on the Tucson Test Stand.\n",
    "\n",
    "Look at the lsst.sal.ESS.temperature temperature6 and temperature7 entries.  They correspond to the temperature of the two rotator motors.\n",
    "Enter the values here:\n",
    "\n",
    "|Motor 1 (C)|Motor 2 (C) |\n",
    "|--------------|---------------|\n",
    "| 0 | 0 |"
   ]
  },
  {
   "cell_type": "markdown",
   "id": "e9060d27-4ed4-4a3e-9be1-9ac7c4bea73e",
   "metadata": {},
   "source": [
    "Now confirm that the actualTorquePercentage0 and actualTorquePercentage1 variables from the lsst.sal.MTMount.cameraCableWrap are being published to the EFD.  We will need this for later analysis."
   ]
  },
  {
   "cell_type": "code",
   "execution_count": null,
   "id": "062b5df5-5d85-4fea-bdba-06b9c31ead0f",
   "metadata": {},
   "outputs": [],
   "source": [
    "df = await client.select_top_n(\"lsst.sal.MTMount.cameraCableWrap\", \n",
    "                               fields=['actualTorquePercentage0', 'actualTorquePercentage1'], \n",
    "                               num=10)\n",
    "print(df)"
   ]
  },
  {
   "cell_type": "markdown",
   "id": "5f999c75-d744-4c7d-8082-c121a308a514",
   "metadata": {},
   "source": [
    "#### Move from +88 to +0 degrees"
   ]
  },
  {
   "cell_type": "code",
   "execution_count": null,
   "id": "cdf623d6-45c2-47be-90f8-ed2cbb424526",
   "metadata": {
    "tags": []
   },
   "outputs": [],
   "source": [
    "script.log.info(f\"START - {test_message} -- {test_case} {test_exec} 88 to 0 deg\")\n",
    "await rotator.cmd_move.set_start(position=0, timeout=90)\n",
    "script.log.info(f\"STOP - {test_message} -- {test_case} {test_exec} 88 to 0 deg\")"
   ]
  },
  {
   "cell_type": "markdown",
   "id": "066df14b-152a-433c-8133-32176eaf9a8c",
   "metadata": {
    "tags": []
   },
   "source": [
    "Cool for close to two minutes and confirm that the rotator temperature is less than 25 degrees by manually checking the chronograph and entring the values here:\n",
    "\n",
    "\n",
    "|Motor 1 (C)|Motor 2 (C) |\n",
    "|--------------|---------------|\n",
    "| 0 | 0 |"
   ]
  },
  {
   "cell_type": "markdown",
   "id": "4f747769-8522-4bd4-ab4f-7cc991d9004e",
   "metadata": {},
   "source": [
    "#### Move from 0 to -88 degrees"
   ]
  },
  {
   "cell_type": "code",
   "execution_count": null,
   "id": "20ab6b1b-554a-413b-aeac-67e5028312d9",
   "metadata": {
    "tags": []
   },
   "outputs": [],
   "source": [
    "script.log.info(f\"START - {test_message} -- {test_case} {test_exec} 0 to -88 deg\")\n",
    "await rotator.cmd_move.set_start(position=-88, timeout=90)\n",
    "script.log.info(f\"STOP - {test_message} -- {test_case} {test_exec} 0 to -88 deg\")"
   ]
  },
  {
   "cell_type": "markdown",
   "id": "59fc918f-8491-4bb6-aeaf-b9cb417d1653",
   "metadata": {
    "tags": []
   },
   "source": [
    "Cool for close to two minutes and confirm that the rotator temperature is less than 25 degrees by manually checking the chronograph and entring the values here:\n",
    "\n",
    "\n",
    "|Motor 1 (C)|Motor 2 (C) |\n",
    "|--------------|---------------|\n",
    "| 0 | 0 |"
   ]
  },
  {
   "cell_type": "markdown",
   "id": "9ad3807b-2dc7-4803-89c1-b5ea2b6bf1b8",
   "metadata": {},
   "source": [
    "#### Move from -88 to +88 degrees"
   ]
  },
  {
   "cell_type": "code",
   "execution_count": null,
   "id": "97ae5d48-67b6-413c-95de-fb1ac48ae6bc",
   "metadata": {
    "tags": []
   },
   "outputs": [],
   "source": [
    "script.log.info(f\"START - {test_message} -- {test_case} {test_exec} -88 to 88 deg\")\n",
    "await rotator.cmd_move.set_start(position=88, timeout=90)\n",
    "script.log.info(f\"STOP - {test_message} -- {test_case} {test_exec} -88 to 88 deg\")"
   ]
  },
  {
   "cell_type": "markdown",
   "id": "a944b5af-2662-42be-b8ed-e9ecbd0e576c",
   "metadata": {
    "tags": []
   },
   "source": [
    "Cool for close to two minutes and confirm that the rotator temperature is less than 25 degrees by manually checking the chronograph and entring the values here:\n",
    "\n",
    "\n",
    "|Motor 1 (C)|Motor 2 (C) |\n",
    "|--------------|---------------|\n",
    "| 0 | 0 |"
   ]
  },
  {
   "cell_type": "markdown",
   "id": "367fc802-5710-4f10-b369-ca95f093177e",
   "metadata": {},
   "source": [
    "#### Move from +88 to 0 degrees"
   ]
  },
  {
   "cell_type": "code",
   "execution_count": null,
   "id": "9ce1e4b0-bbbe-4aa1-a3a7-8879fd69d361",
   "metadata": {
    "tags": []
   },
   "outputs": [],
   "source": [
    "script.log.info(f\"START - {test_message} -- {test_case} {test_exec} -88 to 0 deg\")\n",
    "await rotator.cmd_move.set_start(position=0, timeout=90)\n",
    "script.log.info(f\"STOP - {test_message} -- {test_case} {test_exec} -88 to 0 deg\")"
   ]
  },
  {
   "cell_type": "markdown",
   "id": "23d14d07-29bf-4539-a548-4e97b9c317a0",
   "metadata": {
    "tags": []
   },
   "source": [
    "Cool for close to two minutes and confirm that the rotator temperature is less than 25 degrees by manually checking the chronograph and entring the values here:\n",
    "\n",
    "\n",
    "|Motor 1 (C)|Motor 2 (C) |\n",
    "|--------------|---------------|\n",
    "| 0 | 0 |"
   ]
  },
  {
   "cell_type": "markdown",
   "id": "4d9b0efd-e864-4f11-a492-e4fa9b217e87",
   "metadata": {},
   "source": [
    "### End tests"
   ]
  },
  {
   "cell_type": "code",
   "execution_count": null,
   "id": "afc8178a-69e1-4f94-abaf-dd7b05bad1b9",
   "metadata": {
    "tags": []
   },
   "outputs": [],
   "source": [
    "script.log.info(f\"{test_message} -- {test_case} {test_exec} TESTING ENDS\")\n",
    "stop_time = datetime.now()"
   ]
  },
  {
   "cell_type": "markdown",
   "id": "608de409-7609-420e-885d-608384778514",
   "metadata": {},
   "source": [
    "# Make simple analysis plots to confirm the test worked."
   ]
  },
  {
   "cell_type": "code",
   "execution_count": null,
   "id": "820962b1-4c45-4279-a8a3-c85f52e167e0",
   "metadata": {},
   "outputs": [],
   "source": [
    "df_torques = await client.select_time_series('lsst.sal.MTMount.cameraCableWrap', \n",
    "                                             fields=['actualTorquePercentage0', 'actualTorquePercentage1'], \n",
    "                                             start=time_start, end=time_end))\n",
    "\n",
    "df_rotator = await client.select_time_series('lsst.sal.MTRotator.rotation',\n",
    "                                             fields='actualPosition', \n",
    "                                             start=time_start, end=time_end)"
   ]
  },
  {
   "cell_type": "code",
   "execution_count": null,
   "id": "119a9ce7-5fc8-4b56-a827-2fe554e37a80",
   "metadata": {},
   "outputs": [],
   "source": [
    "# Plot to position of the rotator during this time.\n",
    "df_rotator.plot()"
   ]
  },
  {
   "cell_type": "code",
   "execution_count": null,
   "id": "c632a06e-2052-41cf-8543-2ffde0a1dc35",
   "metadata": {},
   "outputs": [],
   "source": [
    "# This should plot both torque percentages \n",
    "df_torques.plot()"
   ]
  },
  {
   "cell_type": "markdown",
   "id": "3384ca19",
   "metadata": {},
   "source": [
    "---\n",
    "# Closing MTCS and Domain\n",
    "\n",
    "You can use the commands below to easily shut-down (send to STANDBY) all the components."
   ]
  },
  {
   "cell_type": "code",
   "execution_count": null,
   "id": "921653e4-4d83-4bde-abb3-1f5b579b5150",
   "metadata": {},
   "outputs": [],
   "source": [
    "await mtcs.standby()"
   ]
  },
  {
   "cell_type": "code",
   "execution_count": null,
   "id": "66bd3b34",
   "metadata": {},
   "outputs": [],
   "source": [
    "await mtcs.close()"
   ]
  },
  {
   "cell_type": "code",
   "execution_count": null,
   "id": "f0f6b648",
   "metadata": {},
   "outputs": [],
   "source": [
    "await domain.close()"
   ]
  }
 ],
 "metadata": {
  "kernelspec": {
   "display_name": "LSST",
   "language": "python",
   "name": "lsst"
  },
  "language_info": {
   "codemirror_mode": {
    "name": "ipython",
    "version": 3
   },
   "file_extension": ".py",
   "mimetype": "text/x-python",
   "name": "python",
   "nbconvert_exporter": "python",
   "pygments_lexer": "ipython3",
   "version": "3.10.4"
  },
  "toc-autonumbering": false,
  "toc-showmarkdowntxt": false
 },
 "nbformat": 4,
 "nbformat_minor": 5
}
