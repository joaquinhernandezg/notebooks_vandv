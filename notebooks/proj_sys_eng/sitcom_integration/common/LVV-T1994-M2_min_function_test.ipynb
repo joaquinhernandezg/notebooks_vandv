{
 "cells": [
  {
   "cell_type": "markdown",
   "metadata": {},
   "source": [
    "# [LVV-T1994 - M2 Minimum Functionality Test]\n",
    "\n",
    "This notebook executes the test case above.  \n",
    "It is used only for data collection.   \n",
    "Please, use the `./LVV-T1991-M2_min_function_test_EFD.ipynb` notebook to analyse the collected data.\n",
    "\n",
    "[LVV-T1994 - M2 Minimum Functionality Test]: https://jira.lsstcorp.org/secure/Tests.jspa#/testCase/LVV-T1994"
   ]
  },
  {
   "cell_type": "code",
   "execution_count": 1,
   "metadata": {},
   "outputs": [
    {
     "data": {
      "text/html": [
       "<pre style=\"margin: 0.1em;\n",
       "padding-left: 0.25em;\n",
       "border-left-style: solid;\n",
       "font-family: var(--jp-code-font-family);\n",
       "font-size: var(--jp-code-font-size);\n",
       "line-height: var(--jp-code-line-height);\n",
       "\"><span style=\"color: var(--jp-warn-color2)\">lsst.ts.utils.tai</span> <span style=\"color: var(--jp-info-color0)\">INFO</span>: Update leap second table</pre>"
      ],
      "text/plain": [
       "<IPython.core.display.HTML object>"
      ]
     },
     "metadata": {},
     "output_type": "display_data"
    },
    {
     "data": {
      "text/html": [
       "<pre style=\"margin: 0.1em;\n",
       "padding-left: 0.25em;\n",
       "border-left-style: solid;\n",
       "font-family: var(--jp-code-font-family);\n",
       "font-size: var(--jp-code-font-size);\n",
       "line-height: var(--jp-code-line-height);\n",
       "\"><span style=\"color: var(--jp-warn-color2)\">lsst.ts.utils.tai</span> <span style=\"color: var(--jp-info-color0)\">INFO</span>: current_tai uses the system TAI clock</pre>"
      ],
      "text/plain": [
       "<IPython.core.display.HTML object>"
      ]
     },
     "metadata": {},
     "output_type": "display_data"
    }
   ],
   "source": [
    "from lsst.ts import salobj\n",
    "import asyncio\n",
    "import os\n",
    "\n",
    "import numpy as np\n",
    "from matplotlib import pyplot as plt\n",
    "from astropy.time import Time\n",
    "from datetime import datetime, timedelta\n",
    "import pandas as pd"
   ]
  },
  {
   "cell_type": "code",
   "execution_count": 2,
   "metadata": {},
   "outputs": [],
   "source": [
    "summit = 1 #use this for summit testing\n",
    "#summit = 0 #use this for NCSA"
   ]
  },
  {
   "cell_type": "code",
   "execution_count": 3,
   "metadata": {},
   "outputs": [
    {
     "name": "stdout",
     "output_type": "stream",
     "text": [
      "file:///home/b1quint/WORK/ts_ddsconfig/config/ospl-shmem.xml\n",
      "summit\n",
      "0\n"
     ]
    }
   ],
   "source": [
    "if summit:\n",
    "    print(os.environ[\"OSPL_URI\"])\n",
    "    print(os.environ[\"LSST_DDS_PARTITION_PREFIX\"])\n",
    "    print(os.environ[\"LSST_DDS_DOMAIN_ID\"])\n",
    "else:\n",
    "    import os\n",
    "    print(os.environ[\"OSPL_URI\"])\n",
    "    if os.environ.get(\"LSST_DDS_ALIGNER\", \"false\") != \"false\":\n",
    "        print(\"LSST_DDS_ALIGNER is mis-configured\")"
   ]
  },
  {
   "cell_type": "code",
   "execution_count": 4,
   "metadata": {},
   "outputs": [
    {
     "name": "stdout",
     "output_type": "stream",
     "text": [
      "time to start is 0:00:00.145021 [s]\n"
     ]
    },
    {
     "data": {
      "text/html": [
       "<pre style=\"margin: 0.1em;\n",
       "padding-left: 0.25em;\n",
       "border-left-style: solid;\n",
       "font-family: var(--jp-code-font-family);\n",
       "font-size: var(--jp-code-font-size);\n",
       "line-height: var(--jp-code-line-height);\n",
       "\"><span style=\"color: var(--jp-warn-color2)\">MTM2</span> <span style=\"color: var(--jp-info-color0)\">INFO</span>: Read historical data in 0.00 sec</pre>"
      ],
      "text/plain": [
       "<IPython.core.display.HTML object>"
      ]
     },
     "metadata": {},
     "output_type": "display_data"
    },
    {
     "data": {
      "text/html": [
       "<pre style=\"margin: 0.1em;\n",
       "padding-left: 0.25em;\n",
       "border-left-style: solid;\n",
       "font-family: var(--jp-code-font-family);\n",
       "font-size: var(--jp-code-font-size);\n",
       "line-height: var(--jp-code-line-height);\n",
       "\"><span style=\"color: var(--jp-warn-color2)\">Script</span> <span style=\"color: var(--jp-info-color0)\">INFO</span>: Read historical data in 0.00 sec</pre>"
      ],
      "text/plain": [
       "<IPython.core.display.HTML object>"
      ]
     },
     "metadata": {},
     "output_type": "display_data"
    }
   ],
   "source": [
    "start_time = datetime.now()\n",
    "script = salobj.Controller(\"Script\", index=1)\n",
    "#await asyncio.sleep(10) #wait 10 second may help with DDS problems; closing all other kernels may help too\n",
    "m2 = salobj.Remote(script.domain, \"MTM2\")\n",
    "print(f'time to start is {datetime.now() - start_time} [s]')\n",
    "\n",
    "await m2.start_task"
   ]
  },
  {
   "cell_type": "code",
   "execution_count": 5,
   "metadata": {},
   "outputs": [
    {
     "data": {
      "text/plain": [
       "<ddsutil.MTM2_logevent_heartbeat_c8b944e6 at 0x7f2d8d378f10>"
      ]
     },
     "execution_count": 5,
     "metadata": {},
     "output_type": "execute_result"
    }
   ],
   "source": [
    "#As long as you get something for the payload its OK. we dont' care about h.heartbeat\n",
    "await m2.evt_heartbeat.next(flush=True, timeout=5)"
   ]
  },
  {
   "cell_type": "code",
   "execution_count": 12,
   "metadata": {},
   "outputs": [
    {
     "name": "stdout",
     "output_type": "stream",
     "text": [
      "starting m2 state 3 2022-05-11 15:49:34.655880704\n",
      "m2 state 2 2022-05-11 15:50:34.486831360\n"
     ]
    }
   ],
   "source": [
    "state = await m2.evt_summaryState.aget(timeout=5)\n",
    "print('starting m2 state', state.summaryState,pd.to_datetime(state.private_sndStamp, unit='s'))\n",
    "if not state.summaryState == 2:\n",
    "    await salobj.set_summary_state(m2, salobj.State.ENABLED) #enable m2\n",
    "    await asyncio.sleep(3)\n",
    "    state = await m2.evt_summaryState.aget(timeout=5)\n",
    "    print('m2 state', state.summaryState,pd.to_datetime(state.private_sndStamp, unit='s'))"
   ]
  },
  {
   "cell_type": "code",
   "execution_count": 13,
   "metadata": {},
   "outputs": [
    {
     "data": {
      "text/plain": [
       "<ddsutil.MTM2_ackcmd_b60441f4 at 0x7f2fbdea53d0>"
      ]
     },
     "execution_count": 13,
     "metadata": {},
     "output_type": "execute_result"
    }
   ],
   "source": [
    "fa = [0]*72\n",
    "ft = [0]*6\n",
    "await m2.cmd_applyForces.set_start(axial=fa, tangent=ft)"
   ]
  },
  {
   "cell_type": "code",
   "execution_count": 14,
   "metadata": {},
   "outputs": [
    {
     "name": "stdout",
     "output_type": "stream",
     "text": [
      "start time:  2022-05-11 15:55:21.646214\n",
      "axial 0: + - 0 axial 1: + - 0 axial 2: + - 0 axial 3: + - 0 axial 4: + - 0 axial 5: + - 0 axial 6: + - 0 axial 7: + - 0 axial 8: + - 0 axial 9: + - 0 axial 10: + - 0 axial 11: + - 0 axial 12: + - 0 axial 13: + - 0 axial 14: + - 0 axial 15: + - 0 axial 16: + - 0 axial 17: + - 0 axial 18: + - 0 axial 19: + - 0 axial 20: + - 0 axial 21: + - 0 axial 22: + - 0 axial 23: + - 0 axial 24: + - 0 axial 25: + - 0 axial 26: + - 0 axial 27: + - 0 axial 28: + - 0 axial 29: + - 0 axial 30: + - 0 axial 31: + - 0 axial 32: + - 0 axial 33: + - 0 axial 34: + - 0 axial 35: + - 0 axial 36: + - 0 axial 37: + - 0 axial 38: + - 0 axial 39: + - 0 axial 40: + - 0 axial 41: + - 0 axial 42: + - 0 axial 43: + - 0 axial 44: + - 0 axial 45: + - 0 axial 46: + - 0 axial 47: + - 0 axial 48: + - 0 axial 49: + - 0 axial 50: + - 0 axial 51: + - 0 axial 52: + - 0 axial 53: + - 0 axial 54: + - 0 axial 55: + - 0 axial 56: + - 0 axial 57: + - 0 axial 58: + - 0 axial 59: + - 0 axial 60: + - 0 axial 61: + - 0 axial 62: + - 0 axial 63: + - 0 axial 64: + - 0 axial 65: + - 0 axial 66: + - 0 axial 67: + - 0 axial 68: + - 0 axial 69: + - 0 axial 70: + - 0 axial 71: + - 0 tangent A0: + - 0 tangent A1: + - 0 tangent A2: + - 0 tangent A3: + - 0 tangent A4: + - 0 tangent A5: + - 0 \n",
      " time elapsed: 0:21:27.740524 [s]\n"
     ]
    }
   ],
   "source": [
    "holdTime = 5 #the M2 simulator publishes telemetry at 1Hz\n",
    "fa = [0]*72\n",
    "ft = [0]*6\n",
    "start_time = datetime.now()\n",
    "print('start time: ', start_time)\n",
    "for i in range(72):\n",
    "    fa[i] = 20\n",
    "    await m2.cmd_applyForces.set_start(axial=fa, tangent=ft)\n",
    "    print('axial %d: +'%i, end='')\n",
    "    await asyncio.sleep(holdTime)\n",
    "    fa[i] = -20\n",
    "    await m2.cmd_applyForces.set_start(axial=fa, tangent=ft)\n",
    "    print(' -', end='')\n",
    "    await asyncio.sleep(holdTime)\n",
    "    fa[i] = 0\n",
    "    await m2.cmd_applyForces.set_start(axial=fa, tangent=ft)\n",
    "    print(' 0 ', end='')\n",
    "    await asyncio.sleep(holdTime)\n",
    "    \n",
    "for i in range(6):\n",
    "    ft[i] = 20\n",
    "    await m2.cmd_applyForces.set_start(axial=fa, tangent=ft)\n",
    "    print('tangent A%d: +'%i, end='')\n",
    "    await asyncio.sleep(holdTime)\n",
    "    ft[i] = -20\n",
    "    await m2.cmd_applyForces.set_start(axial=fa, tangent=ft)\n",
    "    print(' -', end='')\n",
    "    await asyncio.sleep(holdTime)\n",
    "    ft[i] = 0\n",
    "    await m2.cmd_applyForces.set_start(axial=fa, tangent=ft)\n",
    "    print(' 0 ', end='')\n",
    "    await asyncio.sleep(holdTime)    \n",
    "print(f'\\n time elapsed: {datetime.now() - start_time} [s]')"
   ]
  },
  {
   "cell_type": "code",
   "execution_count": 15,
   "metadata": {},
   "outputs": [
    {
     "data": {
      "text/plain": [
       "[<State.ENABLED: 2>, <State.DISABLED: 1>, <State.STANDBY: 5>]"
      ]
     },
     "execution_count": 15,
     "metadata": {},
     "output_type": "execute_result"
    }
   ],
   "source": [
    "#if we started with disabled state, we need to put it back\n",
    "await salobj.set_summary_state(m2, salobj.State.STANDBY) "
   ]
  },
  {
   "cell_type": "code",
   "execution_count": 17,
   "metadata": {},
   "outputs": [
    {
     "name": "stdout",
     "output_type": "stream",
     "text": [
      "time to end is 2022-05-11 16:21:00.977628 [s]\n"
     ]
    }
   ],
   "source": [
    "print(f'time to end is {datetime.now()} [s]')"
   ]
  },
  {
   "cell_type": "code",
   "execution_count": null,
   "metadata": {},
   "outputs": [],
   "source": []
  }
 ],
 "metadata": {
  "kernelspec": {
   "display_name": "LSST",
   "language": "python",
   "name": "lsst"
  },
  "language_info": {
   "codemirror_mode": {
    "name": "ipython",
    "version": 3
   },
   "file_extension": ".py",
   "mimetype": "text/x-python",
   "name": "python",
   "nbconvert_exporter": "python",
   "pygments_lexer": "ipython3",
   "version": "3.8.13"
  }
 },
 "nbformat": 4,
 "nbformat_minor": 4
}
