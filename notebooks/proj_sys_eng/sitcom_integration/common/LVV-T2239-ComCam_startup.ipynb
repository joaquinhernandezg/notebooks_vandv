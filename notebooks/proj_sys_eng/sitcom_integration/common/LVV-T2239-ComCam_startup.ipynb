{
 "cells": [
  {
   "cell_type": "markdown",
   "id": "da4cdaf7-b19c-43a0-b8a5-c66140e35740",
   "metadata": {},
   "source": [
    "# LVV-T2239 (1.0) ComCam Startup Procedure"
   ]
  },
  {
   "cell_type": "code",
   "execution_count": 1,
   "id": "e96336c3-9bf6-4ace-b2d1-0fe2d22abd72",
   "metadata": {},
   "outputs": [],
   "source": [
    "%load_ext autoreload\n",
    "%autoreload 2"
   ]
  },
  {
   "cell_type": "code",
   "execution_count": 2,
   "id": "ea84c48b-8924-4d7d-af3b-f092182c7f42",
   "metadata": {},
   "outputs": [
    {
     "data": {
      "text/html": [
       "<pre style=\"margin: 0.1em;\n",
       "padding-left: 0.25em;\n",
       "border-left-style: solid;\n",
       "font-family: var(--jp-code-font-family);\n",
       "font-size: var(--jp-code-font-size);\n",
       "line-height: var(--jp-code-line-height);\n",
       "\"><span style=\"color: var(--jp-warn-color2)\">lsst.ts.utils.tai</span> <span style=\"color: var(--jp-info-color0)\">INFO</span>: Update leap second table</pre>"
      ],
      "text/plain": [
       "<IPython.core.display.HTML object>"
      ]
     },
     "metadata": {},
     "output_type": "display_data"
    },
    {
     "data": {
      "text/html": [
       "<pre style=\"margin: 0.1em;\n",
       "padding-left: 0.25em;\n",
       "border-left-style: solid;\n",
       "font-family: var(--jp-code-font-family);\n",
       "font-size: var(--jp-code-font-size);\n",
       "line-height: var(--jp-code-line-height);\n",
       "\"><span style=\"color: var(--jp-warn-color2)\">lsst.ts.utils.tai</span> <span style=\"color: var(--jp-info-color0)\">INFO</span>: current_tai uses the system TAI clock</pre>"
      ],
      "text/plain": [
       "<IPython.core.display.HTML object>"
      ]
     },
     "metadata": {},
     "output_type": "display_data"
    },
    {
     "name": "stdout",
     "output_type": "stream",
     "text": [
      "\n",
      "Executed by b1quint on 2022-06-15T19:51:40.647.\n",
      "  Running in yagan07 at summit\n",
      "\n"
     ]
    }
   ],
   "source": [
    "from lsst.sitcom import vandv\n",
    "\n",
    "exec_info = vandv.ExecutionInfo()\n",
    "print(exec_info)"
   ]
  },
  {
   "cell_type": "code",
   "execution_count": 3,
   "id": "4e8e34bb-fcd4-4516-9b25-800bbb6aaa74",
   "metadata": {},
   "outputs": [],
   "source": [
    "test_execution = \"LVV-E1264\""
   ]
  },
  {
   "cell_type": "code",
   "execution_count": 5,
   "id": "724d1981-2098-4877-b9c2-2b0ce66cd9cc",
   "metadata": {},
   "outputs": [],
   "source": [
    "import asyncio\n",
    "import os\n",
    "import yaml\n",
    "\n",
    "import astropy.units as u\n",
    "import numpy as np\n",
    "import matplotlib.pyplot as plt\n",
    "import pandas as pd\n",
    "\n",
    "from astropy import time \n",
    "from astropy.coordinates import AltAz, ICRS, EarthLocation, Angle, FK5\n",
    "from datetime import datetime, timedelta\n",
    "\n",
    "from lsst_efd_client import EfdClient\n",
    "from lsst.ts import utils, salobj\n",
    "from lsst.ts.observatory.control.maintel import ComCam\n",
    "\n",
    "import lsst.sitcom.vandv as vandv"
   ]
  },
  {
   "cell_type": "code",
   "execution_count": 6,
   "id": "0518e21b-6f45-4584-8d5e-7ea93af1383a",
   "metadata": {},
   "outputs": [],
   "source": [
    "logging.basicConfig(format=\"%(name)s:%(message)s\", level=logging.DEBUG)"
   ]
  },
  {
   "cell_type": "code",
   "execution_count": 7,
   "id": "368432f5-0f11-41a6-9a51-d68c2df9fcd6",
   "metadata": {},
   "outputs": [],
   "source": [
    "log = logging.getLogger(\"setup\")\n",
    "log.level = logging.DEBUG"
   ]
  },
  {
   "cell_type": "code",
   "execution_count": 8,
   "id": "649e7c42-c400-4098-acd8-6fea4c24fbe9",
   "metadata": {},
   "outputs": [],
   "source": [
    "domain = salobj.Domain()"
   ]
  },
  {
   "cell_type": "code",
   "execution_count": 9,
   "id": "dc6a6a99-32a5-491a-a5fb-5efd445a5df1",
   "metadata": {},
   "outputs": [
    {
     "data": {
      "text/html": [
       "<pre style=\"margin: 0.1em;\n",
       "padding-left: 0.25em;\n",
       "border-left-style: solid;\n",
       "font-family: var(--jp-code-font-family);\n",
       "font-size: var(--jp-code-font-size);\n",
       "line-height: var(--jp-code-line-height);\n",
       "\"><span style=\"color: var(--jp-warn-color2)\">setup.ComCam</span> <span style=\"color: var(--jp-success-color0)\">DEBUG</span>: cccamera: Adding all resources.</pre>"
      ],
      "text/plain": [
       "<IPython.core.display.HTML object>"
      ]
     },
     "metadata": {},
     "output_type": "display_data"
    },
    {
     "data": {
      "text/html": [
       "<pre style=\"margin: 0.1em;\n",
       "padding-left: 0.25em;\n",
       "border-left-style: solid;\n",
       "font-family: var(--jp-code-font-family);\n",
       "font-size: var(--jp-code-font-size);\n",
       "line-height: var(--jp-code-line-height);\n",
       "\"><span style=\"color: var(--jp-warn-color2)\">setup.ComCam</span> <span style=\"color: var(--jp-success-color0)\">DEBUG</span>: ccheaderservice: Adding all resources.</pre>"
      ],
      "text/plain": [
       "<IPython.core.display.HTML object>"
      ]
     },
     "metadata": {},
     "output_type": "display_data"
    },
    {
     "data": {
      "text/html": [
       "<pre style=\"margin: 0.1em;\n",
       "padding-left: 0.25em;\n",
       "border-left-style: solid;\n",
       "font-family: var(--jp-code-font-family);\n",
       "font-size: var(--jp-code-font-size);\n",
       "line-height: var(--jp-code-line-height);\n",
       "\"><span style=\"color: var(--jp-warn-color2)\">setup.ComCam</span> <span style=\"color: var(--jp-success-color0)\">DEBUG</span>: ccoods: Adding all resources.</pre>"
      ],
      "text/plain": [
       "<IPython.core.display.HTML object>"
      ]
     },
     "metadata": {},
     "output_type": "display_data"
    },
    {
     "data": {
      "text/html": [
       "<pre style=\"margin: 0.1em;\n",
       "padding-left: 0.25em;\n",
       "border-left-style: solid;\n",
       "font-family: var(--jp-code-font-family);\n",
       "font-size: var(--jp-code-font-size);\n",
       "line-height: var(--jp-code-line-height);\n",
       "\"><span style=\"color: var(--jp-warn-color2)\">CCOODS</span> <span style=\"color: var(--jp-info-color0)\">INFO</span>: Read historical data in 0.07 sec</pre>"
      ],
      "text/plain": [
       "<IPython.core.display.HTML object>"
      ]
     },
     "metadata": {},
     "output_type": "display_data"
    },
    {
     "data": {
      "text/html": [
       "<pre style=\"margin: 0.1em;\n",
       "padding-left: 0.25em;\n",
       "border-left-style: solid;\n",
       "font-family: var(--jp-code-font-family);\n",
       "font-size: var(--jp-code-font-size);\n",
       "line-height: var(--jp-code-line-height);\n",
       "\"><span style=\"color: var(--jp-warn-color2)\">CCHeaderService</span> <span style=\"color: var(--jp-info-color0)\">INFO</span>: Read historical data in 0.07 sec</pre>"
      ],
      "text/plain": [
       "<IPython.core.display.HTML object>"
      ]
     },
     "metadata": {},
     "output_type": "display_data"
    },
    {
     "data": {
      "text/html": [
       "<pre style=\"margin: 0.1em;\n",
       "padding-left: 0.25em;\n",
       "border-left-style: solid;\n",
       "font-family: var(--jp-code-font-family);\n",
       "font-size: var(--jp-code-font-size);\n",
       "line-height: var(--jp-code-line-height);\n",
       "\"><span style=\"color: var(--jp-warn-color2)\">CCCamera</span> <span style=\"color: var(--jp-info-color0)\">INFO</span>: Read historical data in 0.08 sec</pre>"
      ],
      "text/plain": [
       "<IPython.core.display.HTML object>"
      ]
     },
     "metadata": {},
     "output_type": "display_data"
    },
    {
     "data": {
      "text/html": [
       "<pre style=\"margin: 0.1em;\n",
       "padding-left: 0.25em;\n",
       "border-left-style: solid;\n",
       "font-family: var(--jp-code-font-family);\n",
       "font-size: var(--jp-code-font-size);\n",
       "line-height: var(--jp-code-line-height);\n",
       "\"><span style=\"color: var(--jp-warn-color2)\">CCCamera.logevent_focal_plane_Reb_HardwareIdConfiguration</span> <span style=\"color: var(--jp-error-color2)\">ERROR</span>: evt_focal_plane_Reb_HardwareIdConfiguration DDS read queue is full (100 elements); data may be lost</pre>"
      ],
      "text/plain": [
       "<IPython.core.display.HTML object>"
      ]
     },
     "metadata": {},
     "output_type": "display_data"
    },
    {
     "data": {
      "text/html": [
       "<pre style=\"margin: 0.1em;\n",
       "padding-left: 0.25em;\n",
       "border-left-style: solid;\n",
       "font-family: var(--jp-code-font-family);\n",
       "font-size: var(--jp-code-font-size);\n",
       "line-height: var(--jp-code-line-height);\n",
       "\"><span style=\"color: var(--jp-warn-color2)\">CCCamera.logevent_focal_plane_PeriodicTasks_timersConfiguration</span> <span style=\"color: var(--jp-warn-color0)\">WARNING</span>: evt_focal_plane_PeriodicTasks_timersConfiguration DDS read queue is filling: 54 of 100 elements</pre>"
      ],
      "text/plain": [
       "<IPython.core.display.HTML object>"
      ]
     },
     "metadata": {},
     "output_type": "display_data"
    },
    {
     "data": {
      "text/html": [
       "<pre style=\"margin: 0.1em;\n",
       "padding-left: 0.25em;\n",
       "border-left-style: solid;\n",
       "font-family: var(--jp-code-font-family);\n",
       "font-size: var(--jp-code-font-size);\n",
       "line-height: var(--jp-code-line-height);\n",
       "\"><span style=\"color: var(--jp-warn-color2)\">CCCamera.logevent_focal_plane_InstrumentConfig_InstrumentConfiguration</span> <span style=\"color: var(--jp-error-color2)\">ERROR</span>: evt_focal_plane_InstrumentConfig_InstrumentConfiguration DDS read queue is full (100 elements); data may be lost</pre>"
      ],
      "text/plain": [
       "<IPython.core.display.HTML object>"
      ]
     },
     "metadata": {},
     "output_type": "display_data"
    },
    {
     "data": {
      "text/html": [
       "<pre style=\"margin: 0.1em;\n",
       "padding-left: 0.25em;\n",
       "border-left-style: solid;\n",
       "font-family: var(--jp-code-font-family);\n",
       "font-size: var(--jp-code-font-size);\n",
       "line-height: var(--jp-code-line-height);\n",
       "\"><span style=\"color: var(--jp-warn-color2)\">CCCamera.logevent_focal_plane_Raft_HardwareIdConfiguration</span> <span style=\"color: var(--jp-warn-color0)\">WARNING</span>: evt_focal_plane_Raft_HardwareIdConfiguration DDS read queue is filling: 29 of 100 elements</pre>"
      ],
      "text/plain": [
       "<IPython.core.display.HTML object>"
      ]
     },
     "metadata": {},
     "output_type": "display_data"
    },
    {
     "data": {
      "text/html": [
       "<pre style=\"margin: 0.1em;\n",
       "padding-left: 0.25em;\n",
       "border-left-style: solid;\n",
       "font-family: var(--jp-code-font-family);\n",
       "font-size: var(--jp-code-font-size);\n",
       "line-height: var(--jp-code-line-height);\n",
       "\"><span style=\"color: var(--jp-warn-color2)\">CCCamera.logevent_focal_plane_Ccd_RaftsConfiguration</span> <span style=\"color: var(--jp-error-color2)\">ERROR</span>: evt_focal_plane_Ccd_RaftsConfiguration DDS read queue is full (100 elements); data may be lost</pre>"
      ],
      "text/plain": [
       "<IPython.core.display.HTML object>"
      ]
     },
     "metadata": {},
     "output_type": "display_data"
    },
    {
     "data": {
      "text/html": [
       "<pre style=\"margin: 0.1em;\n",
       "padding-left: 0.25em;\n",
       "border-left-style: solid;\n",
       "font-family: var(--jp-code-font-family);\n",
       "font-size: var(--jp-code-font-size);\n",
       "line-height: var(--jp-code-line-height);\n",
       "\"><span style=\"color: var(--jp-warn-color2)\">CCCamera.logevent_focal_plane_Raft_RaftTempControlConfiguration</span> <span style=\"color: var(--jp-warn-color0)\">WARNING</span>: evt_focal_plane_Raft_RaftTempControlConfiguration DDS read queue is filling: 21 of 100 elements</pre>"
      ],
      "text/plain": [
       "<IPython.core.display.HTML object>"
      ]
     },
     "metadata": {},
     "output_type": "display_data"
    },
    {
     "data": {
      "text/html": [
       "<pre style=\"margin: 0.1em;\n",
       "padding-left: 0.25em;\n",
       "border-left-style: solid;\n",
       "font-family: var(--jp-code-font-family);\n",
       "font-size: var(--jp-code-font-size);\n",
       "line-height: var(--jp-code-line-height);\n",
       "\"><span style=\"color: var(--jp-warn-color2)\">CCCamera.logevent_focal_plane_Ccd_LimitsConfiguration</span> <span style=\"color: var(--jp-error-color2)\">ERROR</span>: evt_focal_plane_Ccd_LimitsConfiguration DDS read queue is full (100 elements); data may be lost</pre>"
      ],
      "text/plain": [
       "<IPython.core.display.HTML object>"
      ]
     },
     "metadata": {},
     "output_type": "display_data"
    },
    {
     "data": {
      "text/html": [
       "<pre style=\"margin: 0.1em;\n",
       "padding-left: 0.25em;\n",
       "border-left-style: solid;\n",
       "font-family: var(--jp-code-font-family);\n",
       "font-size: var(--jp-code-font-size);\n",
       "line-height: var(--jp-code-line-height);\n",
       "\"><span style=\"color: var(--jp-warn-color2)\">CCCamera.logevent_focal_plane_RebTotalPower_LimitsConfiguration</span> <span style=\"color: var(--jp-error-color2)\">ERROR</span>: evt_focal_plane_RebTotalPower_LimitsConfiguration DDS read queue is full (100 elements); data may be lost</pre>"
      ],
      "text/plain": [
       "<IPython.core.display.HTML object>"
      ]
     },
     "metadata": {},
     "output_type": "display_data"
    },
    {
     "data": {
      "text/html": [
       "<pre style=\"margin: 0.1em;\n",
       "padding-left: 0.25em;\n",
       "border-left-style: solid;\n",
       "font-family: var(--jp-code-font-family);\n",
       "font-size: var(--jp-code-font-size);\n",
       "line-height: var(--jp-code-line-height);\n",
       "\"><span style=\"color: var(--jp-warn-color2)\">CCCamera.logevent_focal_plane_Raft_RaftTempControlStatusConfiguration</span> <span style=\"color: var(--jp-error-color2)\">ERROR</span>: evt_focal_plane_Raft_RaftTempControlStatusConfiguration DDS read queue is full (100 elements); data may be lost</pre>"
      ],
      "text/plain": [
       "<IPython.core.display.HTML object>"
      ]
     },
     "metadata": {},
     "output_type": "display_data"
    },
    {
     "data": {
      "text/html": [
       "<pre style=\"margin: 0.1em;\n",
       "padding-left: 0.25em;\n",
       "border-left-style: solid;\n",
       "font-family: var(--jp-code-font-family);\n",
       "font-size: var(--jp-code-font-size);\n",
       "line-height: var(--jp-code-line-height);\n",
       "\"><span style=\"color: var(--jp-warn-color2)\">CCCamera.logevent_startReadout</span> <span style=\"color: var(--jp-warn-color0)\">WARNING</span>: evt_startReadout DDS read queue is filling: 27 of 100 elements</pre>"
      ],
      "text/plain": [
       "<IPython.core.display.HTML object>"
      ]
     },
     "metadata": {},
     "output_type": "display_data"
    },
    {
     "data": {
      "text/html": [
       "<pre style=\"margin: 0.1em;\n",
       "padding-left: 0.25em;\n",
       "border-left-style: solid;\n",
       "font-family: var(--jp-code-font-family);\n",
       "font-size: var(--jp-code-font-size);\n",
       "line-height: var(--jp-code-line-height);\n",
       "\"><span style=\"color: var(--jp-warn-color2)\">CCCamera.logevent_focal_plane_Ccd_HardwareIdConfiguration</span> <span style=\"color: var(--jp-error-color2)\">ERROR</span>: evt_focal_plane_Ccd_HardwareIdConfiguration DDS read queue is full (100 elements); data may be lost</pre>"
      ],
      "text/plain": [
       "<IPython.core.display.HTML object>"
      ]
     },
     "metadata": {},
     "output_type": "display_data"
    },
    {
     "data": {
      "text/html": [
       "<pre style=\"margin: 0.1em;\n",
       "padding-left: 0.25em;\n",
       "border-left-style: solid;\n",
       "font-family: var(--jp-code-font-family);\n",
       "font-size: var(--jp-code-font-size);\n",
       "line-height: var(--jp-code-line-height);\n",
       "\"><span style=\"color: var(--jp-warn-color2)\">CCCamera.logevent_quadbox_PDU_24VD_LimitsConfiguration</span> <span style=\"color: var(--jp-warn-color0)\">WARNING</span>: evt_quadbox_PDU_24VD_LimitsConfiguration DDS read queue is filling: 37 of 100 elements</pre>"
      ],
      "text/plain": [
       "<IPython.core.display.HTML object>"
      ]
     },
     "metadata": {},
     "output_type": "display_data"
    },
    {
     "data": {
      "text/html": [
       "<pre style=\"margin: 0.1em;\n",
       "padding-left: 0.25em;\n",
       "border-left-style: solid;\n",
       "font-family: var(--jp-code-font-family);\n",
       "font-size: var(--jp-code-font-size);\n",
       "line-height: var(--jp-code-line-height);\n",
       "\"><span style=\"color: var(--jp-warn-color2)\">CCCamera.logevent_focalPlaneSummaryInfo</span> <span style=\"color: var(--jp-error-color2)\">ERROR</span>: evt_focalPlaneSummaryInfo DDS read queue is full (100 elements); data may be lost</pre>"
      ],
      "text/plain": [
       "<IPython.core.display.HTML object>"
      ]
     },
     "metadata": {},
     "output_type": "display_data"
    },
    {
     "data": {
      "text/html": [
       "<pre style=\"margin: 0.1em;\n",
       "padding-left: 0.25em;\n",
       "border-left-style: solid;\n",
       "font-family: var(--jp-code-font-family);\n",
       "font-size: var(--jp-code-font-size);\n",
       "line-height: var(--jp-code-line-height);\n",
       "\"><span style=\"color: var(--jp-warn-color2)\">CCCamera.logevent_quadbox_PDU_24VD_QuadboxConfiguration</span> <span style=\"color: var(--jp-warn-color0)\">WARNING</span>: evt_quadbox_PDU_24VD_QuadboxConfiguration DDS read queue is filling: 54 of 100 elements</pre>"
      ],
      "text/plain": [
       "<IPython.core.display.HTML object>"
      ]
     },
     "metadata": {},
     "output_type": "display_data"
    },
    {
     "data": {
      "text/html": [
       "<pre style=\"margin: 0.1em;\n",
       "padding-left: 0.25em;\n",
       "border-left-style: solid;\n",
       "font-family: var(--jp-code-font-family);\n",
       "font-size: var(--jp-code-font-size);\n",
       "line-height: var(--jp-code-line-height);\n",
       "\"><span style=\"color: var(--jp-warn-color2)\">CCCamera.logevent_endShutterOpen</span> <span style=\"color: var(--jp-error-color2)\">ERROR</span>: evt_endShutterOpen DDS read queue is full (100 elements); data may be lost</pre>"
      ],
      "text/plain": [
       "<IPython.core.display.HTML object>"
      ]
     },
     "metadata": {},
     "output_type": "display_data"
    },
    {
     "data": {
      "text/html": [
       "<pre style=\"margin: 0.1em;\n",
       "padding-left: 0.25em;\n",
       "border-left-style: solid;\n",
       "font-family: var(--jp-code-font-family);\n",
       "font-size: var(--jp-code-font-size);\n",
       "line-height: var(--jp-code-line-height);\n",
       "\"><span style=\"color: var(--jp-warn-color2)\">CCCamera.logevent_rebpower_PeriodicTasks_timersConfiguration</span> <span style=\"color: var(--jp-warn-color0)\">WARNING</span>: evt_rebpower_PeriodicTasks_timersConfiguration DDS read queue is filling: 22 of 100 elements</pre>"
      ],
      "text/plain": [
       "<IPython.core.display.HTML object>"
      ]
     },
     "metadata": {},
     "output_type": "display_data"
    },
    {
     "data": {
      "text/html": [
       "<pre style=\"margin: 0.1em;\n",
       "padding-left: 0.25em;\n",
       "border-left-style: solid;\n",
       "font-family: var(--jp-code-font-family);\n",
       "font-size: var(--jp-code-font-size);\n",
       "line-height: var(--jp-code-line-height);\n",
       "\"><span style=\"color: var(--jp-warn-color2)\">CCCamera.logevent_endShutterClose</span> <span style=\"color: var(--jp-error-color2)\">ERROR</span>: evt_endShutterClose DDS read queue is full (100 elements); data may be lost</pre>"
      ],
      "text/plain": [
       "<IPython.core.display.HTML object>"
      ]
     },
     "metadata": {},
     "output_type": "display_data"
    },
    {
     "data": {
      "text/html": [
       "<pre style=\"margin: 0.1em;\n",
       "padding-left: 0.25em;\n",
       "border-left-style: solid;\n",
       "font-family: var(--jp-code-font-family);\n",
       "font-size: var(--jp-code-font-size);\n",
       "line-height: var(--jp-code-line-height);\n",
       "\"><span style=\"color: var(--jp-warn-color2)\">CCCamera.logevent_rebpower_Rebps_LimitsConfiguration</span> <span style=\"color: var(--jp-warn-color0)\">WARNING</span>: evt_rebpower_Rebps_LimitsConfiguration DDS read queue is filling: 40 of 100 elements</pre>"
      ],
      "text/plain": [
       "<IPython.core.display.HTML object>"
      ]
     },
     "metadata": {},
     "output_type": "display_data"
    },
    {
     "data": {
      "text/html": [
       "<pre style=\"margin: 0.1em;\n",
       "padding-left: 0.25em;\n",
       "border-left-style: solid;\n",
       "font-family: var(--jp-code-font-family);\n",
       "font-size: var(--jp-code-font-size);\n",
       "line-height: var(--jp-code-line-height);\n",
       "\"><span style=\"color: var(--jp-warn-color2)\">CCCamera.logevent_rebpower_Rebps_LimitsConfiguration</span> <span style=\"color: var(--jp-warn-color0)\">WARNING</span>: evt_rebpower_Rebps_LimitsConfiguration DDS read queue is filling: 60 of 100 elements</pre>"
      ],
      "text/plain": [
       "<IPython.core.display.HTML object>"
      ]
     },
     "metadata": {},
     "output_type": "display_data"
    },
    {
     "data": {
      "text/html": [
       "<pre style=\"margin: 0.1em;\n",
       "padding-left: 0.25em;\n",
       "border-left-style: solid;\n",
       "font-family: var(--jp-code-font-family);\n",
       "font-size: var(--jp-code-font-size);\n",
       "line-height: var(--jp-code-line-height);\n",
       "\"><span style=\"color: var(--jp-warn-color2)\">CCCamera.logevent_rebpower_Reb_LimitsConfiguration</span> <span style=\"color: var(--jp-warn-color0)\">WARNING</span>: evt_rebpower_Reb_LimitsConfiguration DDS read queue is filling: 62 of 100 elements</pre>"
      ],
      "text/plain": [
       "<IPython.core.display.HTML object>"
      ]
     },
     "metadata": {},
     "output_type": "display_data"
    },
    {
     "data": {
      "text/html": [
       "<pre style=\"margin: 0.1em;\n",
       "padding-left: 0.25em;\n",
       "border-left-style: solid;\n",
       "font-family: var(--jp-code-font-family);\n",
       "font-size: var(--jp-code-font-size);\n",
       "line-height: var(--jp-code-line-height);\n",
       "\"><span style=\"color: var(--jp-warn-color2)\">CCCamera.logevent_vacuum_VQMonitor_LimitsConfiguration</span> <span style=\"color: var(--jp-warn-color0)\">WARNING</span>: evt_vacuum_VQMonitor_LimitsConfiguration DDS read queue is filling: 55 of 100 elements</pre>"
      ],
      "text/plain": [
       "<IPython.core.display.HTML object>"
      ]
     },
     "metadata": {},
     "output_type": "display_data"
    },
    {
     "data": {
      "text/html": [
       "<pre style=\"margin: 0.1em;\n",
       "padding-left: 0.25em;\n",
       "border-left-style: solid;\n",
       "font-family: var(--jp-code-font-family);\n",
       "font-size: var(--jp-code-font-size);\n",
       "line-height: var(--jp-code-line-height);\n",
       "\"><span style=\"color: var(--jp-warn-color2)\">CCCamera.logevent_vacuum_VQMonitor_CryoConfiguration</span> <span style=\"color: var(--jp-error-color2)\">ERROR</span>: evt_vacuum_VQMonitor_CryoConfiguration DDS read queue is full (100 elements); data may be lost</pre>"
      ],
      "text/plain": [
       "<IPython.core.display.HTML object>"
      ]
     },
     "metadata": {},
     "output_type": "display_data"
    },
    {
     "data": {
      "text/html": [
       "<pre style=\"margin: 0.1em;\n",
       "padding-left: 0.25em;\n",
       "border-left-style: solid;\n",
       "font-family: var(--jp-code-font-family);\n",
       "font-size: var(--jp-code-font-size);\n",
       "line-height: var(--jp-code-line-height);\n",
       "\"><span style=\"color: var(--jp-warn-color2)\">CCCamera.logevent_vacuum_VacPluto_DeviceConfiguration</span> <span style=\"color: var(--jp-warn-color0)\">WARNING</span>: evt_vacuum_VacPluto_DeviceConfiguration DDS read queue is filling: 26 of 100 elements</pre>"
      ],
      "text/plain": [
       "<IPython.core.display.HTML object>"
      ]
     },
     "metadata": {},
     "output_type": "display_data"
    },
    {
     "data": {
      "text/html": [
       "<pre style=\"margin: 0.1em;\n",
       "padding-left: 0.25em;\n",
       "border-left-style: solid;\n",
       "font-family: var(--jp-code-font-family);\n",
       "font-size: var(--jp-code-font-size);\n",
       "line-height: var(--jp-code-line-height);\n",
       "\"><span style=\"color: var(--jp-warn-color2)\">CCCamera.logevent_vacuum_Turbo_LimitsConfiguration</span> <span style=\"color: var(--jp-error-color2)\">ERROR</span>: evt_vacuum_Turbo_LimitsConfiguration DDS read queue is full (100 elements); data may be lost</pre>"
      ],
      "text/plain": [
       "<IPython.core.display.HTML object>"
      ]
     },
     "metadata": {},
     "output_type": "display_data"
    },
    {
     "data": {
      "text/html": [
       "<pre style=\"margin: 0.1em;\n",
       "padding-left: 0.25em;\n",
       "border-left-style: solid;\n",
       "font-family: var(--jp-code-font-family);\n",
       "font-size: var(--jp-code-font-size);\n",
       "line-height: var(--jp-code-line-height);\n",
       "\"><span style=\"color: var(--jp-warn-color2)\">CCCamera.logevent_vacuum_Cryo_CryoconConfiguration</span> <span style=\"color: var(--jp-error-color2)\">ERROR</span>: evt_vacuum_Cryo_CryoconConfiguration DDS read queue is full (100 elements); data may be lost</pre>"
      ],
      "text/plain": [
       "<IPython.core.display.HTML object>"
      ]
     },
     "metadata": {},
     "output_type": "display_data"
    },
    {
     "data": {
      "text/html": [
       "<pre style=\"margin: 0.1em;\n",
       "padding-left: 0.25em;\n",
       "border-left-style: solid;\n",
       "font-family: var(--jp-code-font-family);\n",
       "font-size: var(--jp-code-font-size);\n",
       "line-height: var(--jp-code-line-height);\n",
       "\"><span style=\"color: var(--jp-warn-color2)\">CCCamera.logevent_vacuum_Cold2_CryoconConfiguration</span> <span style=\"color: var(--jp-error-color2)\">ERROR</span>: evt_vacuum_Cold2_CryoconConfiguration DDS read queue is full (100 elements); data may be lost</pre>"
      ],
      "text/plain": [
       "<IPython.core.display.HTML object>"
      ]
     },
     "metadata": {},
     "output_type": "display_data"
    },
    {
     "data": {
      "text/html": [
       "<pre style=\"margin: 0.1em;\n",
       "padding-left: 0.25em;\n",
       "border-left-style: solid;\n",
       "font-family: var(--jp-code-font-family);\n",
       "font-size: var(--jp-code-font-size);\n",
       "line-height: var(--jp-code-line-height);\n",
       "\"><span style=\"color: var(--jp-warn-color2)\">CCCamera.logevent_startIntegration</span> <span style=\"color: var(--jp-warn-color0)\">WARNING</span>: evt_startIntegration DDS read queue is filling: 78 of 100 elements</pre>"
      ],
      "text/plain": [
       "<IPython.core.display.HTML object>"
      ]
     },
     "metadata": {},
     "output_type": "display_data"
    },
    {
     "data": {
      "text/html": [
       "<pre style=\"margin: 0.1em;\n",
       "padding-left: 0.25em;\n",
       "border-left-style: solid;\n",
       "font-family: var(--jp-code-font-family);\n",
       "font-size: var(--jp-code-font-size);\n",
       "line-height: var(--jp-code-line-height);\n",
       "\"><span style=\"color: var(--jp-warn-color2)\">CCCamera.logevent_shutterDetailedState</span> <span style=\"color: var(--jp-warn-color0)\">WARNING</span>: evt_shutterDetailedState DDS read queue is filling: 52 of 100 elements</pre>"
      ],
      "text/plain": [
       "<IPython.core.display.HTML object>"
      ]
     },
     "metadata": {},
     "output_type": "display_data"
    },
    {
     "data": {
      "text/html": [
       "<pre style=\"margin: 0.1em;\n",
       "padding-left: 0.25em;\n",
       "border-left-style: solid;\n",
       "font-family: var(--jp-code-font-family);\n",
       "font-size: var(--jp-code-font-size);\n",
       "line-height: var(--jp-code-line-height);\n",
       "\"><span style=\"color: var(--jp-warn-color2)\">CCCamera.logevent_quadbox_PeriodicTasks_timersConfiguration</span> <span style=\"color: var(--jp-warn-color0)\">WARNING</span>: evt_quadbox_PeriodicTasks_timersConfiguration DDS read queue is filling: 10 of 100 elements</pre>"
      ],
      "text/plain": [
       "<IPython.core.display.HTML object>"
      ]
     },
     "metadata": {},
     "output_type": "display_data"
    },
    {
     "data": {
      "text/html": [
       "<pre style=\"margin: 0.1em;\n",
       "padding-left: 0.25em;\n",
       "border-left-style: solid;\n",
       "font-family: var(--jp-code-font-family);\n",
       "font-size: var(--jp-code-font-size);\n",
       "line-height: var(--jp-code-line-height);\n",
       "\"><span style=\"color: var(--jp-warn-color2)\">CCCamera.logevent_quadbox_PDU_5V_QuadboxConfiguration</span> <span style=\"color: var(--jp-error-color2)\">ERROR</span>: evt_quadbox_PDU_5V_QuadboxConfiguration DDS read queue is full (100 elements); data may be lost</pre>"
      ],
      "text/plain": [
       "<IPython.core.display.HTML object>"
      ]
     },
     "metadata": {},
     "output_type": "display_data"
    },
    {
     "data": {
      "text/html": [
       "<pre style=\"margin: 0.1em;\n",
       "padding-left: 0.25em;\n",
       "border-left-style: solid;\n",
       "font-family: var(--jp-code-font-family);\n",
       "font-size: var(--jp-code-font-size);\n",
       "line-height: var(--jp-code-line-height);\n",
       "\"><span style=\"color: var(--jp-warn-color2)\">CCCamera.logevent_quadbox_REB_Bulk_PS_QuadboxConfiguration</span> <span style=\"color: var(--jp-warn-color0)\">WARNING</span>: evt_quadbox_REB_Bulk_PS_QuadboxConfiguration DDS read queue is filling: 25 of 100 elements</pre>"
      ],
      "text/plain": [
       "<IPython.core.display.HTML object>"
      ]
     },
     "metadata": {},
     "output_type": "display_data"
    },
    {
     "data": {
      "text/html": [
       "<pre style=\"margin: 0.1em;\n",
       "padding-left: 0.25em;\n",
       "border-left-style: solid;\n",
       "font-family: var(--jp-code-font-family);\n",
       "font-size: var(--jp-code-font-size);\n",
       "line-height: var(--jp-code-line-height);\n",
       "\"><span style=\"color: var(--jp-warn-color2)\">CCCamera.logevent_quadbox_PDU_5V_LimitsConfiguration</span> <span style=\"color: var(--jp-error-color2)\">ERROR</span>: evt_quadbox_PDU_5V_LimitsConfiguration DDS read queue is full (100 elements); data may be lost</pre>"
      ],
      "text/plain": [
       "<IPython.core.display.HTML object>"
      ]
     },
     "metadata": {},
     "output_type": "display_data"
    },
    {
     "data": {
      "text/html": [
       "<pre style=\"margin: 0.1em;\n",
       "padding-left: 0.25em;\n",
       "border-left-style: solid;\n",
       "font-family: var(--jp-code-font-family);\n",
       "font-size: var(--jp-code-font-size);\n",
       "line-height: var(--jp-code-line-height);\n",
       "\"><span style=\"color: var(--jp-warn-color2)\">CCCamera.logevent_image_handling_ImageHandler_FitsHandlingConfiguration</span> <span style=\"color: var(--jp-warn-color0)\">WARNING</span>: evt_image_handling_ImageHandler_FitsHandlingConfiguration DDS read queue is filling: 36 of 100 elements</pre>"
      ],
      "text/plain": [
       "<IPython.core.display.HTML object>"
      ]
     },
     "metadata": {},
     "output_type": "display_data"
    },
    {
     "data": {
      "text/html": [
       "<pre style=\"margin: 0.1em;\n",
       "padding-left: 0.25em;\n",
       "border-left-style: solid;\n",
       "font-family: var(--jp-code-font-family);\n",
       "font-size: var(--jp-code-font-size);\n",
       "line-height: var(--jp-code-line-height);\n",
       "\"><span style=\"color: var(--jp-warn-color2)\">CCCamera.logevent_imageReadoutParameters</span> <span style=\"color: var(--jp-error-color2)\">ERROR</span>: evt_imageReadoutParameters DDS read queue is full (100 elements); data may be lost</pre>"
      ],
      "text/plain": [
       "<IPython.core.display.HTML object>"
      ]
     },
     "metadata": {},
     "output_type": "display_data"
    },
    {
     "data": {
      "text/html": [
       "<pre style=\"margin: 0.1em;\n",
       "padding-left: 0.25em;\n",
       "border-left-style: solid;\n",
       "font-family: var(--jp-code-font-family);\n",
       "font-size: var(--jp-code-font-size);\n",
       "line-height: var(--jp-code-line-height);\n",
       "\"><span style=\"color: var(--jp-warn-color2)\">CCCamera.logevent_raftsDetailedState</span> <span style=\"color: var(--jp-error-color2)\">ERROR</span>: evt_raftsDetailedState DDS read queue is full (100 elements); data may be lost</pre>"
      ],
      "text/plain": [
       "<IPython.core.display.HTML object>"
      ]
     },
     "metadata": {},
     "output_type": "display_data"
    },
    {
     "data": {
      "text/html": [
       "<pre style=\"margin: 0.1em;\n",
       "padding-left: 0.25em;\n",
       "border-left-style: solid;\n",
       "font-family: var(--jp-code-font-family);\n",
       "font-size: var(--jp-code-font-size);\n",
       "line-height: var(--jp-code-line-height);\n",
       "\"><span style=\"color: var(--jp-warn-color2)\">CCCamera.logevent_image_handling_PeriodicTasks_timersConfiguration</span> <span style=\"color: var(--jp-warn-color0)\">WARNING</span>: evt_image_handling_PeriodicTasks_timersConfiguration DDS read queue is filling: 88 of 100 elements</pre>"
      ],
      "text/plain": [
       "<IPython.core.display.HTML object>"
      ]
     },
     "metadata": {},
     "output_type": "display_data"
    },
    {
     "data": {
      "text/html": [
       "<pre style=\"margin: 0.1em;\n",
       "padding-left: 0.25em;\n",
       "border-left-style: solid;\n",
       "font-family: var(--jp-code-font-family);\n",
       "font-size: var(--jp-code-font-size);\n",
       "line-height: var(--jp-code-line-height);\n",
       "\"><span style=\"color: var(--jp-warn-color2)\">CCCamera.logevent_quadbox_PDU_24VC_LimitsConfiguration</span> <span style=\"color: var(--jp-warn-color0)\">WARNING</span>: evt_quadbox_PDU_24VC_LimitsConfiguration DDS read queue is filling: 52 of 100 elements</pre>"
      ],
      "text/plain": [
       "<IPython.core.display.HTML object>"
      ]
     },
     "metadata": {},
     "output_type": "display_data"
    },
    {
     "data": {
      "text/html": [
       "<pre style=\"margin: 0.1em;\n",
       "padding-left: 0.25em;\n",
       "border-left-style: solid;\n",
       "font-family: var(--jp-code-font-family);\n",
       "font-size: var(--jp-code-font-size);\n",
       "line-height: var(--jp-code-line-height);\n",
       "\"><span style=\"color: var(--jp-warn-color2)\">CCCamera.logevent_quadbox_BFR_QuadboxConfiguration</span> <span style=\"color: var(--jp-error-color2)\">ERROR</span>: evt_quadbox_BFR_QuadboxConfiguration DDS read queue is full (100 elements); data may be lost</pre>"
      ],
      "text/plain": [
       "<IPython.core.display.HTML object>"
      ]
     },
     "metadata": {},
     "output_type": "display_data"
    },
    {
     "data": {
      "text/html": [
       "<pre style=\"margin: 0.1em;\n",
       "padding-left: 0.25em;\n",
       "border-left-style: solid;\n",
       "font-family: var(--jp-code-font-family);\n",
       "font-size: var(--jp-code-font-size);\n",
       "line-height: var(--jp-code-line-height);\n",
       "\"><span style=\"color: var(--jp-warn-color2)\">CCCamera.logevent_image_handling_ImageHandler_DAQConfiguration</span> <span style=\"color: var(--jp-error-color2)\">ERROR</span>: evt_image_handling_ImageHandler_DAQConfiguration DDS read queue is full (100 elements); data may be lost</pre>"
      ],
      "text/plain": [
       "<IPython.core.display.HTML object>"
      ]
     },
     "metadata": {},
     "output_type": "display_data"
    },
    {
     "data": {
      "text/html": [
       "<pre style=\"margin: 0.1em;\n",
       "padding-left: 0.25em;\n",
       "border-left-style: solid;\n",
       "font-family: var(--jp-code-font-family);\n",
       "font-size: var(--jp-code-font-size);\n",
       "line-height: var(--jp-code-line-height);\n",
       "\"><span style=\"color: var(--jp-warn-color2)\">CCCamera.logevent_quadbox_BFR_LimitsConfiguration</span> <span style=\"color: var(--jp-warn-color0)\">WARNING</span>: evt_quadbox_BFR_LimitsConfiguration DDS read queue is filling: 26 of 100 elements</pre>"
      ],
      "text/plain": [
       "<IPython.core.display.HTML object>"
      ]
     },
     "metadata": {},
     "output_type": "display_data"
    },
    {
     "data": {
      "text/html": [
       "<pre style=\"margin: 0.1em;\n",
       "padding-left: 0.25em;\n",
       "border-left-style: solid;\n",
       "font-family: var(--jp-code-font-family);\n",
       "font-size: var(--jp-code-font-size);\n",
       "line-height: var(--jp-code-line-height);\n",
       "\"><span style=\"color: var(--jp-warn-color2)\">CCCamera.logevent_focal_plane_SequencerConfig_DAQConfiguration</span> <span style=\"color: var(--jp-error-color2)\">ERROR</span>: evt_focal_plane_SequencerConfig_DAQConfiguration DDS read queue is full (100 elements); data may be lost</pre>"
      ],
      "text/plain": [
       "<IPython.core.display.HTML object>"
      ]
     },
     "metadata": {},
     "output_type": "display_data"
    },
    {
     "data": {
      "text/html": [
       "<pre style=\"margin: 0.1em;\n",
       "padding-left: 0.25em;\n",
       "border-left-style: solid;\n",
       "font-family: var(--jp-code-font-family);\n",
       "font-size: var(--jp-code-font-size);\n",
       "line-height: var(--jp-code-line-height);\n",
       "\"><span style=\"color: var(--jp-warn-color2)\">CCCamera.logevent_quadbox_PDU_48V_QuadboxConfiguration</span> <span style=\"color: var(--jp-error-color2)\">ERROR</span>: evt_quadbox_PDU_48V_QuadboxConfiguration DDS read queue is full (100 elements); data may be lost</pre>"
      ],
      "text/plain": [
       "<IPython.core.display.HTML object>"
      ]
     },
     "metadata": {},
     "output_type": "display_data"
    },
    {
     "data": {
      "text/html": [
       "<pre style=\"margin: 0.1em;\n",
       "padding-left: 0.25em;\n",
       "border-left-style: solid;\n",
       "font-family: var(--jp-code-font-family);\n",
       "font-size: var(--jp-code-font-size);\n",
       "line-height: var(--jp-code-line-height);\n",
       "\"><span style=\"color: var(--jp-warn-color2)\">CCCamera.logevent_quadbox_PDU_48V_LimitsConfiguration</span> <span style=\"color: var(--jp-warn-color0)\">WARNING</span>: evt_quadbox_PDU_48V_LimitsConfiguration DDS read queue is filling: 37 of 100 elements</pre>"
      ],
      "text/plain": [
       "<IPython.core.display.HTML object>"
      ]
     },
     "metadata": {},
     "output_type": "display_data"
    },
    {
     "data": {
      "text/html": [
       "<pre style=\"margin: 0.1em;\n",
       "padding-left: 0.25em;\n",
       "border-left-style: solid;\n",
       "font-family: var(--jp-code-font-family);\n",
       "font-size: var(--jp-code-font-size);\n",
       "line-height: var(--jp-code-line-height);\n",
       "\"><span style=\"color: var(--jp-warn-color2)\">CCCamera.logevent_vacuum_Cryo_LimitsConfiguration</span> <span style=\"color: var(--jp-warn-color0)\">WARNING</span>: evt_vacuum_Cryo_LimitsConfiguration DDS read queue is filling: 28 of 100 elements</pre>"
      ],
      "text/plain": [
       "<IPython.core.display.HTML object>"
      ]
     },
     "metadata": {},
     "output_type": "display_data"
    },
    {
     "data": {
      "text/html": [
       "<pre style=\"margin: 0.1em;\n",
       "padding-left: 0.25em;\n",
       "border-left-style: solid;\n",
       "font-family: var(--jp-code-font-family);\n",
       "font-size: var(--jp-code-font-size);\n",
       "line-height: var(--jp-code-line-height);\n",
       "\"><span style=\"color: var(--jp-warn-color2)\">CCCamera.logevent_vacuum_Cryo_LimitsConfiguration</span> <span style=\"color: var(--jp-warn-color0)\">WARNING</span>: evt_vacuum_Cryo_LimitsConfiguration DDS read queue is filling: 55 of 100 elements</pre>"
      ],
      "text/plain": [
       "<IPython.core.display.HTML object>"
      ]
     },
     "metadata": {},
     "output_type": "display_data"
    },
    {
     "data": {
      "text/html": [
       "<pre style=\"margin: 0.1em;\n",
       "padding-left: 0.25em;\n",
       "border-left-style: solid;\n",
       "font-family: var(--jp-code-font-family);\n",
       "font-size: var(--jp-code-font-size);\n",
       "line-height: var(--jp-code-line-height);\n",
       "\"><span style=\"color: var(--jp-warn-color2)\">CCCamera.logevent_vacuum_IonPumps_LimitsConfiguration</span> <span style=\"color: var(--jp-warn-color0)\">WARNING</span>: evt_vacuum_IonPumps_LimitsConfiguration DDS read queue is filling: 10 of 100 elements</pre>"
      ],
      "text/plain": [
       "<IPython.core.display.HTML object>"
      ]
     },
     "metadata": {},
     "output_type": "display_data"
    },
    {
     "data": {
      "text/html": [
       "<pre style=\"margin: 0.1em;\n",
       "padding-left: 0.25em;\n",
       "border-left-style: solid;\n",
       "font-family: var(--jp-code-font-family);\n",
       "font-size: var(--jp-code-font-size);\n",
       "line-height: var(--jp-code-line-height);\n",
       "\"><span style=\"color: var(--jp-warn-color2)\">CCCamera.logevent_vacuum_IonPumps_CryoConfiguration</span> <span style=\"color: var(--jp-error-color2)\">ERROR</span>: evt_vacuum_IonPumps_CryoConfiguration DDS read queue is full (100 elements); data may be lost</pre>"
      ],
      "text/plain": [
       "<IPython.core.display.HTML object>"
      ]
     },
     "metadata": {},
     "output_type": "display_data"
    },
    {
     "data": {
      "text/html": [
       "<pre style=\"margin: 0.1em;\n",
       "padding-left: 0.25em;\n",
       "border-left-style: solid;\n",
       "font-family: var(--jp-code-font-family);\n",
       "font-size: var(--jp-code-font-size);\n",
       "line-height: var(--jp-code-line-height);\n",
       "\"><span style=\"color: var(--jp-warn-color2)\">CCCamera.logevent_vacuum_PeriodicTasks_timersConfiguration</span> <span style=\"color: var(--jp-warn-color0)\">WARNING</span>: evt_vacuum_PeriodicTasks_timersConfiguration DDS read queue is filling: 25 of 100 elements</pre>"
      ],
      "text/plain": [
       "<IPython.core.display.HTML object>"
      ]
     },
     "metadata": {},
     "output_type": "display_data"
    },
    {
     "data": {
      "text/html": [
       "<pre style=\"margin: 0.1em;\n",
       "padding-left: 0.25em;\n",
       "border-left-style: solid;\n",
       "font-family: var(--jp-code-font-family);\n",
       "font-size: var(--jp-code-font-size);\n",
       "line-height: var(--jp-code-line-height);\n",
       "\"><span style=\"color: var(--jp-warn-color2)\">CCCamera.logevent_vacuum_Rtds_DeviceConfiguration</span> <span style=\"color: var(--jp-warn-color0)\">WARNING</span>: evt_vacuum_Rtds_DeviceConfiguration DDS read queue is filling: 11 of 100 elements</pre>"
      ],
      "text/plain": [
       "<IPython.core.display.HTML object>"
      ]
     },
     "metadata": {},
     "output_type": "display_data"
    },
    {
     "data": {
      "text/html": [
       "<pre style=\"margin: 0.1em;\n",
       "padding-left: 0.25em;\n",
       "border-left-style: solid;\n",
       "font-family: var(--jp-code-font-family);\n",
       "font-size: var(--jp-code-font-size);\n",
       "line-height: var(--jp-code-line-height);\n",
       "\"><span style=\"color: var(--jp-warn-color2)\">CCCamera.logevent_summaryState</span> <span style=\"color: var(--jp-warn-color0)\">WARNING</span>: evt_summaryState DDS read queue is filling: 20 of 100 elements</pre>"
      ],
      "text/plain": [
       "<IPython.core.display.HTML object>"
      ]
     },
     "metadata": {},
     "output_type": "display_data"
    },
    {
     "data": {
      "text/html": [
       "<pre style=\"margin: 0.1em;\n",
       "padding-left: 0.25em;\n",
       "border-left-style: solid;\n",
       "font-family: var(--jp-code-font-family);\n",
       "font-size: var(--jp-code-font-size);\n",
       "line-height: var(--jp-code-line-height);\n",
       "\"><span style=\"color: var(--jp-warn-color2)\">CCCamera.logevent_vacuum_Cold1_CryoconConfiguration</span> <span style=\"color: var(--jp-warn-color0)\">WARNING</span>: evt_vacuum_Cold1_CryoconConfiguration DDS read queue is filling: 24 of 100 elements</pre>"
      ],
      "text/plain": [
       "<IPython.core.display.HTML object>"
      ]
     },
     "metadata": {},
     "output_type": "display_data"
    },
    {
     "data": {
      "text/html": [
       "<pre style=\"margin: 0.1em;\n",
       "padding-left: 0.25em;\n",
       "border-left-style: solid;\n",
       "font-family: var(--jp-code-font-family);\n",
       "font-size: var(--jp-code-font-size);\n",
       "line-height: var(--jp-code-line-height);\n",
       "\"><span style=\"color: var(--jp-warn-color2)\">CCCamera.logevent_vacuum_Cold1_LimitsConfiguration</span> <span style=\"color: var(--jp-warn-color0)\">WARNING</span>: evt_vacuum_Cold1_LimitsConfiguration DDS read queue is filling: 10 of 100 elements</pre>"
      ],
      "text/plain": [
       "<IPython.core.display.HTML object>"
      ]
     },
     "metadata": {},
     "output_type": "display_data"
    },
    {
     "data": {
      "text/html": [
       "<pre style=\"margin: 0.1em;\n",
       "padding-left: 0.25em;\n",
       "border-left-style: solid;\n",
       "font-family: var(--jp-code-font-family);\n",
       "font-size: var(--jp-code-font-size);\n",
       "line-height: var(--jp-code-line-height);\n",
       "\"><span style=\"color: var(--jp-warn-color2)\">CCCamera.logevent_focal_plane_Reb_RaftsPowerConfiguration</span> <span style=\"color: var(--jp-warn-color0)\">WARNING</span>: evt_focal_plane_Reb_RaftsPowerConfiguration DDS read queue is filling: 12 of 100 elements</pre>"
      ],
      "text/plain": [
       "<IPython.core.display.HTML object>"
      ]
     },
     "metadata": {},
     "output_type": "display_data"
    },
    {
     "data": {
      "text/html": [
       "<pre style=\"margin: 0.1em;\n",
       "padding-left: 0.25em;\n",
       "border-left-style: solid;\n",
       "font-family: var(--jp-code-font-family);\n",
       "font-size: var(--jp-code-font-size);\n",
       "line-height: var(--jp-code-line-height);\n",
       "\"><span style=\"color: var(--jp-warn-color2)\">CCCamera.logevent_focal_plane_Reb_RaftsPowerConfiguration</span> <span style=\"color: var(--jp-warn-color0)\">WARNING</span>: evt_focal_plane_Reb_RaftsPowerConfiguration DDS read queue is filling: 64 of 100 elements</pre>"
      ],
      "text/plain": [
       "<IPython.core.display.HTML object>"
      ]
     },
     "metadata": {},
     "output_type": "display_data"
    },
    {
     "data": {
      "text/html": [
       "<pre style=\"margin: 0.1em;\n",
       "padding-left: 0.25em;\n",
       "border-left-style: solid;\n",
       "font-family: var(--jp-code-font-family);\n",
       "font-size: var(--jp-code-font-size);\n",
       "line-height: var(--jp-code-line-height);\n",
       "\"><span style=\"color: var(--jp-warn-color2)\">CCCamera.logevent_image_handling_Reb_FitsHandlingConfiguration</span> <span style=\"color: var(--jp-error-color2)\">ERROR</span>: evt_image_handling_Reb_FitsHandlingConfiguration DDS read queue is full (100 elements); data may be lost</pre>"
      ],
      "text/plain": [
       "<IPython.core.display.HTML object>"
      ]
     },
     "metadata": {},
     "output_type": "display_data"
    },
    {
     "data": {
      "text/html": [
       "<pre style=\"margin: 0.1em;\n",
       "padding-left: 0.25em;\n",
       "border-left-style: solid;\n",
       "font-family: var(--jp-code-font-family);\n",
       "font-size: var(--jp-code-font-size);\n",
       "line-height: var(--jp-code-line-height);\n",
       "\"><span style=\"color: var(--jp-warn-color2)\">CCCamera.logevent_focal_plane_WebHooksConfig_VisualizationConfiguration</span> <span style=\"color: var(--jp-warn-color0)\">WARNING</span>: evt_focal_plane_WebHooksConfig_VisualizationConfiguration DDS read queue is filling: 39 of 100 elements</pre>"
      ],
      "text/plain": [
       "<IPython.core.display.HTML object>"
      ]
     },
     "metadata": {},
     "output_type": "display_data"
    },
    {
     "data": {
      "text/html": [
       "<pre style=\"margin: 0.1em;\n",
       "padding-left: 0.25em;\n",
       "border-left-style: solid;\n",
       "font-family: var(--jp-code-font-family);\n",
       "font-size: var(--jp-code-font-size);\n",
       "line-height: var(--jp-code-line-height);\n",
       "\"><span style=\"color: var(--jp-warn-color2)\">CCCamera.logevent_focal_plane_SequencerConfig_SequencerConfiguration</span> <span style=\"color: var(--jp-error-color2)\">ERROR</span>: evt_focal_plane_SequencerConfig_SequencerConfiguration DDS read queue is full (100 elements); data may be lost</pre>"
      ],
      "text/plain": [
       "<IPython.core.display.HTML object>"
      ]
     },
     "metadata": {},
     "output_type": "display_data"
    },
    {
     "data": {
      "text/html": [
       "<pre style=\"margin: 0.1em;\n",
       "padding-left: 0.25em;\n",
       "border-left-style: solid;\n",
       "font-family: var(--jp-code-font-family);\n",
       "font-size: var(--jp-code-font-size);\n",
       "line-height: var(--jp-code-line-height);\n",
       "\"><span style=\"color: var(--jp-warn-color2)\">CCCamera.logevent_heartbeat</span> <span style=\"color: var(--jp-warn-color0)\">WARNING</span>: evt_heartbeat DDS read queue is filling: 62 of 100 elements</pre>"
      ],
      "text/plain": [
       "<IPython.core.display.HTML object>"
      ]
     },
     "metadata": {},
     "output_type": "display_data"
    },
    {
     "data": {
      "text/html": [
       "<pre style=\"margin: 0.1em;\n",
       "padding-left: 0.25em;\n",
       "border-left-style: solid;\n",
       "font-family: var(--jp-code-font-family);\n",
       "font-size: var(--jp-code-font-size);\n",
       "line-height: var(--jp-code-line-height);\n",
       "\"><span style=\"color: var(--jp-warn-color2)\">CCOODS.logevent_summaryState</span> <span style=\"color: var(--jp-warn-color0)\">WARNING</span>: evt_summaryState DDS read queue is filling: 39 of 100 elements</pre>"
      ],
      "text/plain": [
       "<IPython.core.display.HTML object>"
      ]
     },
     "metadata": {},
     "output_type": "display_data"
    },
    {
     "data": {
      "text/html": [
       "<pre style=\"margin: 0.1em;\n",
       "padding-left: 0.25em;\n",
       "border-left-style: solid;\n",
       "font-family: var(--jp-code-font-family);\n",
       "font-size: var(--jp-code-font-size);\n",
       "line-height: var(--jp-code-line-height);\n",
       "\"><span style=\"color: var(--jp-warn-color2)\">CCHeaderService.logevent_logMessage</span> <span style=\"color: var(--jp-error-color2)\">ERROR</span>: evt_logMessage DDS read queue is full (100 elements); data may be lost</pre>"
      ],
      "text/plain": [
       "<IPython.core.display.HTML object>"
      ]
     },
     "metadata": {},
     "output_type": "display_data"
    },
    {
     "data": {
      "text/html": [
       "<pre style=\"margin: 0.1em;\n",
       "padding-left: 0.25em;\n",
       "border-left-style: solid;\n",
       "font-family: var(--jp-code-font-family);\n",
       "font-size: var(--jp-code-font-size);\n",
       "line-height: var(--jp-code-line-height);\n",
       "\"><span style=\"color: var(--jp-warn-color2)\">CCCamera.logevent_focal_plane_Segment_LimitsConfiguration</span> <span style=\"color: var(--jp-error-color2)\">ERROR</span>: evt_focal_plane_Segment_LimitsConfiguration DDS read queue is full (100 elements); data may be lost</pre>"
      ],
      "text/plain": [
       "<IPython.core.display.HTML object>"
      ]
     },
     "metadata": {},
     "output_type": "display_data"
    },
    {
     "data": {
      "text/html": [
       "<pre style=\"margin: 0.1em;\n",
       "padding-left: 0.25em;\n",
       "border-left-style: solid;\n",
       "font-family: var(--jp-code-font-family);\n",
       "font-size: var(--jp-code-font-size);\n",
       "line-height: var(--jp-code-line-height);\n",
       "\"><span style=\"color: var(--jp-warn-color2)\">CCHeaderService.logevent_summaryState</span> <span style=\"color: var(--jp-warn-color0)\">WARNING</span>: evt_summaryState DDS read queue is filling: 39 of 100 elements</pre>"
      ],
      "text/plain": [
       "<IPython.core.display.HTML object>"
      ]
     },
     "metadata": {},
     "output_type": "display_data"
    },
    {
     "data": {
      "text/html": [
       "<pre style=\"margin: 0.1em;\n",
       "padding-left: 0.25em;\n",
       "border-left-style: solid;\n",
       "font-family: var(--jp-code-font-family);\n",
       "font-size: var(--jp-code-font-size);\n",
       "line-height: var(--jp-code-line-height);\n",
       "\"><span style=\"color: var(--jp-warn-color2)\">CCCamera.logevent_imageReadinessDetailedState</span> <span style=\"color: var(--jp-error-color2)\">ERROR</span>: evt_imageReadinessDetailedState DDS read queue is full (100 elements); data may be lost</pre>"
      ],
      "text/plain": [
       "<IPython.core.display.HTML object>"
      ]
     },
     "metadata": {},
     "output_type": "display_data"
    },
    {
     "data": {
      "text/html": [
       "<pre style=\"margin: 0.1em;\n",
       "padding-left: 0.25em;\n",
       "border-left-style: solid;\n",
       "font-family: var(--jp-code-font-family);\n",
       "font-size: var(--jp-code-font-size);\n",
       "line-height: var(--jp-code-line-height);\n",
       "\"><span style=\"color: var(--jp-warn-color2)\">CCCamera.logevent_focal_plane_Reb_timersConfiguration</span> <span style=\"color: var(--jp-error-color2)\">ERROR</span>: evt_focal_plane_Reb_timersConfiguration DDS read queue is full (100 elements); data may be lost</pre>"
      ],
      "text/plain": [
       "<IPython.core.display.HTML object>"
      ]
     },
     "metadata": {},
     "output_type": "display_data"
    },
    {
     "data": {
      "text/html": [
       "<pre style=\"margin: 0.1em;\n",
       "padding-left: 0.25em;\n",
       "border-left-style: solid;\n",
       "font-family: var(--jp-code-font-family);\n",
       "font-size: var(--jp-code-font-size);\n",
       "line-height: var(--jp-code-line-height);\n",
       "\"><span style=\"color: var(--jp-warn-color2)\">CCOODS.logevent_imageInOODS</span> <span style=\"color: var(--jp-error-color2)\">ERROR</span>: evt_imageInOODS DDS read queue is full (100 elements); data may be lost</pre>"
      ],
      "text/plain": [
       "<IPython.core.display.HTML object>"
      ]
     },
     "metadata": {},
     "output_type": "display_data"
    },
    {
     "data": {
      "text/html": [
       "<pre style=\"margin: 0.1em;\n",
       "padding-left: 0.25em;\n",
       "border-left-style: solid;\n",
       "font-family: var(--jp-code-font-family);\n",
       "font-size: var(--jp-code-font-size);\n",
       "line-height: var(--jp-code-line-height);\n",
       "\"><span style=\"color: var(--jp-warn-color2)\">CCHeaderService.logevent_largeFileObjectAvailable</span> <span style=\"color: var(--jp-error-color2)\">ERROR</span>: evt_largeFileObjectAvailable DDS read queue is full (100 elements); data may be lost</pre>"
      ],
      "text/plain": [
       "<IPython.core.display.HTML object>"
      ]
     },
     "metadata": {},
     "output_type": "display_data"
    },
    {
     "data": {
      "text/html": [
       "<pre style=\"margin: 0.1em;\n",
       "padding-left: 0.25em;\n",
       "border-left-style: solid;\n",
       "font-family: var(--jp-code-font-family);\n",
       "font-size: var(--jp-code-font-size);\n",
       "line-height: var(--jp-code-line-height);\n",
       "\"><span style=\"color: var(--jp-warn-color2)\">CCOODS.logevent_heartbeat</span> <span style=\"color: var(--jp-warn-color0)\">WARNING</span>: evt_heartbeat DDS read queue is filling: 99 of 100 elements</pre>"
      ],
      "text/plain": [
       "<IPython.core.display.HTML object>"
      ]
     },
     "metadata": {},
     "output_type": "display_data"
    },
    {
     "data": {
      "text/html": [
       "<pre style=\"margin: 0.1em;\n",
       "padding-left: 0.25em;\n",
       "border-left-style: solid;\n",
       "font-family: var(--jp-code-font-family);\n",
       "font-size: var(--jp-code-font-size);\n",
       "line-height: var(--jp-code-line-height);\n",
       "\"><span style=\"color: var(--jp-warn-color2)\">CCHeaderService.logevent_heartbeat</span> <span style=\"color: var(--jp-error-color2)\">ERROR</span>: evt_heartbeat DDS read queue is full (100 elements); data may be lost</pre>"
      ],
      "text/plain": [
       "<IPython.core.display.HTML object>"
      ]
     },
     "metadata": {},
     "output_type": "display_data"
    },
    {
     "data": {
      "text/html": [
       "<pre style=\"margin: 0.1em;\n",
       "padding-left: 0.25em;\n",
       "border-left-style: solid;\n",
       "font-family: var(--jp-code-font-family);\n",
       "font-size: var(--jp-code-font-size);\n",
       "line-height: var(--jp-code-line-height);\n",
       "\"><span style=\"color: var(--jp-warn-color2)\">CCCamera.logevent_daq_monitor_Store_StoreConfiguration</span> <span style=\"color: var(--jp-error-color2)\">ERROR</span>: evt_daq_monitor_Store_StoreConfiguration DDS read queue is full (100 elements); data may be lost</pre>"
      ],
      "text/plain": [
       "<IPython.core.display.HTML object>"
      ]
     },
     "metadata": {},
     "output_type": "display_data"
    },
    {
     "data": {
      "text/html": [
       "<pre style=\"margin: 0.1em;\n",
       "padding-left: 0.25em;\n",
       "border-left-style: solid;\n",
       "font-family: var(--jp-code-font-family);\n",
       "font-size: var(--jp-code-font-size);\n",
       "line-height: var(--jp-code-line-height);\n",
       "\"><span style=\"color: var(--jp-warn-color2)\">CCCamera.logevent_daq_monitor_Store_LimitsConfiguration</span> <span style=\"color: var(--jp-error-color2)\">ERROR</span>: evt_daq_monitor_Store_LimitsConfiguration DDS read queue is full (100 elements); data may be lost</pre>"
      ],
      "text/plain": [
       "<IPython.core.display.HTML object>"
      ]
     },
     "metadata": {},
     "output_type": "display_data"
    },
    {
     "data": {
      "text/html": [
       "<pre style=\"margin: 0.1em;\n",
       "padding-left: 0.25em;\n",
       "border-left-style: solid;\n",
       "font-family: var(--jp-code-font-family);\n",
       "font-size: var(--jp-code-font-size);\n",
       "line-height: var(--jp-code-line-height);\n",
       "\"><span style=\"color: var(--jp-warn-color2)\">CCCamera.logevent_daq_monitor_PeriodicTasks_timersConfiguration</span> <span style=\"color: var(--jp-error-color2)\">ERROR</span>: evt_daq_monitor_PeriodicTasks_timersConfiguration DDS read queue is full (100 elements); data may be lost</pre>"
      ],
      "text/plain": [
       "<IPython.core.display.HTML object>"
      ]
     },
     "metadata": {},
     "output_type": "display_data"
    },
    {
     "data": {
      "text/html": [
       "<pre style=\"margin: 0.1em;\n",
       "padding-left: 0.25em;\n",
       "border-left-style: solid;\n",
       "font-family: var(--jp-code-font-family);\n",
       "font-size: var(--jp-code-font-size);\n",
       "line-height: var(--jp-code-line-height);\n",
       "\"><span style=\"color: var(--jp-warn-color2)\">CCCamera.logevent_bonn_shutter_PeriodicTasks_timersConfiguration</span> <span style=\"color: var(--jp-error-color2)\">ERROR</span>: evt_bonn_shutter_PeriodicTasks_timersConfiguration DDS read queue is full (100 elements); data may be lost</pre>"
      ],
      "text/plain": [
       "<IPython.core.display.HTML object>"
      ]
     },
     "metadata": {},
     "output_type": "display_data"
    }
   ],
   "source": [
    "comcam = ComCam(domain=domain, log=log)"
   ]
  },
  {
   "cell_type": "code",
   "execution_count": 10,
   "id": "bfcda075-a8e7-48ea-ba41-9383400a6e29",
   "metadata": {},
   "outputs": [],
   "source": [
    "comcam.set_rem_loglevel(40)"
   ]
  },
  {
   "cell_type": "code",
   "execution_count": 11,
   "id": "1a90b750-2c26-4b07-be7a-3378dba2501f",
   "metadata": {},
   "outputs": [
    {
     "data": {
      "text/plain": [
       "[None, None, None]"
      ]
     },
     "execution_count": 11,
     "metadata": {},
     "output_type": "execute_result"
    }
   ],
   "source": [
    "await comcam.start_task"
   ]
  },
  {
   "cell_type": "code",
   "execution_count": 12,
   "id": "e7ae7f84-dd21-4fe0-9370-0471e0ec296d",
   "metadata": {},
   "outputs": [
    {
     "data": {
      "text/html": [
       "<pre style=\"margin: 0.1em;\n",
       "padding-left: 0.25em;\n",
       "border-left-style: solid;\n",
       "font-family: var(--jp-code-font-family);\n",
       "font-size: var(--jp-code-font-size);\n",
       "line-height: var(--jp-code-line-height);\n",
       "\"><span style=\"color: var(--jp-warn-color2)\">setup.ComCam</span> <span style=\"color: var(--jp-success-color0)\">DEBUG</span>: [cccamera]::[&lt;State.ENABLED: 2&gt;, &lt;State.DISABLED: 1&gt;, &lt;State.STANDBY: 5&gt;]</pre>"
      ],
      "text/plain": [
       "<IPython.core.display.HTML object>"
      ]
     },
     "metadata": {},
     "output_type": "display_data"
    },
    {
     "data": {
      "text/html": [
       "<pre style=\"margin: 0.1em;\n",
       "padding-left: 0.25em;\n",
       "border-left-style: solid;\n",
       "font-family: var(--jp-code-font-family);\n",
       "font-size: var(--jp-code-font-size);\n",
       "line-height: var(--jp-code-line-height);\n",
       "\"><span style=\"color: var(--jp-warn-color2)\">setup.ComCam</span> <span style=\"color: var(--jp-success-color0)\">DEBUG</span>: [ccheaderservice]::[&lt;State.ENABLED: 2&gt;, &lt;State.DISABLED: 1&gt;, &lt;State.STANDBY: 5&gt;]</pre>"
      ],
      "text/plain": [
       "<IPython.core.display.HTML object>"
      ]
     },
     "metadata": {},
     "output_type": "display_data"
    },
    {
     "data": {
      "text/html": [
       "<pre style=\"margin: 0.1em;\n",
       "padding-left: 0.25em;\n",
       "border-left-style: solid;\n",
       "font-family: var(--jp-code-font-family);\n",
       "font-size: var(--jp-code-font-size);\n",
       "line-height: var(--jp-code-line-height);\n",
       "\"><span style=\"color: var(--jp-warn-color2)\">setup.ComCam</span> <span style=\"color: var(--jp-success-color0)\">DEBUG</span>: [ccoods]::[&lt;State.ENABLED: 2&gt;, &lt;State.DISABLED: 1&gt;, &lt;State.STANDBY: 5&gt;]</pre>"
      ],
      "text/plain": [
       "<IPython.core.display.HTML object>"
      ]
     },
     "metadata": {},
     "output_type": "display_data"
    },
    {
     "data": {
      "text/html": [
       "<pre style=\"margin: 0.1em;\n",
       "padding-left: 0.25em;\n",
       "border-left-style: solid;\n",
       "font-family: var(--jp-code-font-family);\n",
       "font-size: var(--jp-code-font-size);\n",
       "line-height: var(--jp-code-line-height);\n",
       "\"><span style=\"color: var(--jp-warn-color2)\">setup.ComCam</span> <span style=\"color: var(--jp-info-color0)\">INFO</span>: All components in &lt;State.STANDBY: 5&gt;.</pre>"
      ],
      "text/plain": [
       "<IPython.core.display.HTML object>"
      ]
     },
     "metadata": {},
     "output_type": "display_data"
    }
   ],
   "source": [
    "await comcam.standby()"
   ]
  },
  {
   "cell_type": "code",
   "execution_count": 36,
   "id": "3bdd8353-17a8-4bc2-ab36-3318a96a10ac",
   "metadata": {},
   "outputs": [],
   "source": [
    "def print_detailed_state():\n",
    "    \n",
    "    ccs_command_state = comcam.rem.cccamera.evt_ccsCommandState.get().substate\n",
    "    detailed_state = comcam.rem.cccamera.evt_calibrationDetailedState.get().substate\n",
    "    \n",
    "    t = time.Time(utils.current_tai(), format=\"unix\", scale=\"tai\")\n",
    "    t.format = \"isot\"\n",
    "    \n",
    "    print(\n",
    "        f\"\\nComCam State: {ccs_command_state}\"\n",
    "        f\"\\nDetailed State: {detailed_state}\"\n",
    "        f\"\\nat: {t}\"\n",
    "    )"
   ]
  },
  {
   "cell_type": "markdown",
   "id": "b6094413-c2f3-49a1-b53f-83adaa8789d0",
   "metadata": {},
   "source": [
    "---\n",
    "While the SummaryState is in the OFFLINE state, send an enterControl command.\n",
    "\n",
    "The SummaryState transitions into the STANDBY state."
   ]
  },
  {
   "cell_type": "code",
   "execution_count": 13,
   "id": "7dde8ac2-6332-4aaa-bd8e-2e1b9f5d6e7b",
   "metadata": {},
   "outputs": [],
   "source": [
    "# ComCam was in the ENABLED state and we sent it to the STANDBY state.\n",
    "# Need to know where/how transition from OFFLINE to STANDBY"
   ]
  },
  {
   "cell_type": "markdown",
   "id": "8b411f4b-9489-419c-93e4-4c306e04352b",
   "metadata": {},
   "source": [
    "---\n",
    "While the SummaryState is in the STANDBY state, send a start command."
   ]
  },
  {
   "cell_type": "code",
   "execution_count": 17,
   "id": "42425bf2-1687-4913-858d-da20f234c8b5",
   "metadata": {},
   "outputs": [
    {
     "name": "stdout",
     "output_type": "stream",
     "text": [
      "State.STANDBY\n"
     ]
    }
   ],
   "source": [
    "s = await comcam.get_state(\"cccamera\")\n",
    "print(s)\n",
    "\n",
    "# We will use the higher level command `await comcam.enable()` which \n",
    "# performs all the state transitions from STANDBY to DISABLED to ENABLED.\n",
    "# So we are not doing anything on this step."
   ]
  },
  {
   "cell_type": "markdown",
   "id": "a324025d-b2cf-4922-accb-bdf601b1d7cd",
   "metadata": {},
   "source": [
    "---\n",
    "While the SummaryState is in the DISABLED state, send an enable command."
   ]
  },
  {
   "cell_type": "code",
   "execution_count": 18,
   "id": "761f878d-0cf4-4734-ae0c-b26d63548705",
   "metadata": {},
   "outputs": [
    {
     "data": {
      "text/html": [
       "<pre style=\"margin: 0.1em;\n",
       "padding-left: 0.25em;\n",
       "border-left-style: solid;\n",
       "font-family: var(--jp-code-font-family);\n",
       "font-size: var(--jp-code-font-size);\n",
       "line-height: var(--jp-code-line-height);\n",
       "\"><span style=\"color: var(--jp-warn-color2)\">setup.ComCam</span> <span style=\"color: var(--jp-info-color0)\">INFO</span>: Enabling all components</pre>"
      ],
      "text/plain": [
       "<IPython.core.display.HTML object>"
      ]
     },
     "metadata": {},
     "output_type": "display_data"
    },
    {
     "data": {
      "text/html": [
       "<pre style=\"margin: 0.1em;\n",
       "padding-left: 0.25em;\n",
       "border-left-style: solid;\n",
       "font-family: var(--jp-code-font-family);\n",
       "font-size: var(--jp-code-font-size);\n",
       "line-height: var(--jp-code-line-height);\n",
       "\"><span style=\"color: var(--jp-warn-color2)\">setup.ComCam</span> <span style=\"color: var(--jp-success-color0)\">DEBUG</span>: Expand overrides None</pre>"
      ],
      "text/plain": [
       "<IPython.core.display.HTML object>"
      ]
     },
     "metadata": {},
     "output_type": "display_data"
    },
    {
     "data": {
      "text/html": [
       "<pre style=\"margin: 0.1em;\n",
       "padding-left: 0.25em;\n",
       "border-left-style: solid;\n",
       "font-family: var(--jp-code-font-family);\n",
       "font-size: var(--jp-code-font-size);\n",
       "line-height: var(--jp-code-line-height);\n",
       "\"><span style=\"color: var(--jp-warn-color2)\">setup.ComCam</span> <span style=\"color: var(--jp-success-color0)\">DEBUG</span>: Complete overrides: {&#x27;cccamera&#x27;: &#x27;&#x27;, &#x27;ccheaderservice&#x27;: &#x27;&#x27;, &#x27;ccoods&#x27;: &#x27;&#x27;}</pre>"
      ],
      "text/plain": [
       "<IPython.core.display.HTML object>"
      ]
     },
     "metadata": {},
     "output_type": "display_data"
    },
    {
     "data": {
      "text/html": [
       "<pre style=\"margin: 0.1em;\n",
       "padding-left: 0.25em;\n",
       "border-left-style: solid;\n",
       "font-family: var(--jp-code-font-family);\n",
       "font-size: var(--jp-code-font-size);\n",
       "line-height: var(--jp-code-line-height);\n",
       "\"><span style=\"color: var(--jp-warn-color2)\">setup.ComCam</span> <span style=\"color: var(--jp-success-color0)\">DEBUG</span>: [cccamera]::[&lt;State.STANDBY: 5&gt;, &lt;State.DISABLED: 1&gt;, &lt;State.ENABLED: 2&gt;]</pre>"
      ],
      "text/plain": [
       "<IPython.core.display.HTML object>"
      ]
     },
     "metadata": {},
     "output_type": "display_data"
    },
    {
     "data": {
      "text/html": [
       "<pre style=\"margin: 0.1em;\n",
       "padding-left: 0.25em;\n",
       "border-left-style: solid;\n",
       "font-family: var(--jp-code-font-family);\n",
       "font-size: var(--jp-code-font-size);\n",
       "line-height: var(--jp-code-line-height);\n",
       "\"><span style=\"color: var(--jp-warn-color2)\">setup.ComCam</span> <span style=\"color: var(--jp-success-color0)\">DEBUG</span>: [ccheaderservice]::[&lt;State.STANDBY: 5&gt;, &lt;State.DISABLED: 1&gt;, &lt;State.ENABLED: 2&gt;]</pre>"
      ],
      "text/plain": [
       "<IPython.core.display.HTML object>"
      ]
     },
     "metadata": {},
     "output_type": "display_data"
    },
    {
     "data": {
      "text/html": [
       "<pre style=\"margin: 0.1em;\n",
       "padding-left: 0.25em;\n",
       "border-left-style: solid;\n",
       "font-family: var(--jp-code-font-family);\n",
       "font-size: var(--jp-code-font-size);\n",
       "line-height: var(--jp-code-line-height);\n",
       "\"><span style=\"color: var(--jp-warn-color2)\">setup.ComCam</span> <span style=\"color: var(--jp-success-color0)\">DEBUG</span>: [ccoods]::[&lt;State.STANDBY: 5&gt;, &lt;State.DISABLED: 1&gt;, &lt;State.ENABLED: 2&gt;]</pre>"
      ],
      "text/plain": [
       "<IPython.core.display.HTML object>"
      ]
     },
     "metadata": {},
     "output_type": "display_data"
    },
    {
     "data": {
      "text/html": [
       "<pre style=\"margin: 0.1em;\n",
       "padding-left: 0.25em;\n",
       "border-left-style: solid;\n",
       "font-family: var(--jp-code-font-family);\n",
       "font-size: var(--jp-code-font-size);\n",
       "line-height: var(--jp-code-line-height);\n",
       "\"><span style=\"color: var(--jp-warn-color2)\">setup.ComCam</span> <span style=\"color: var(--jp-info-color0)\">INFO</span>: All components in &lt;State.ENABLED: 2&gt;.</pre>"
      ],
      "text/plain": [
       "<IPython.core.display.HTML object>"
      ]
     },
     "metadata": {},
     "output_type": "display_data"
    }
   ],
   "source": [
    "await comcam.enable()"
   ]
  },
  {
   "cell_type": "markdown",
   "id": "ae4dad6e-9ca0-4e37-803f-598dfa40c3af",
   "metadata": {},
   "source": [
    "## CalibrationDetailedState\n",
    "\n",
    "Check the current state of the CalibrationDetailedState."
   ]
  },
  {
   "cell_type": "code",
   "execution_count": 44,
   "id": "8bcdce9d-f213-451e-8e23-eec3aa24fff5",
   "metadata": {},
   "outputs": [
    {
     "name": "stdout",
     "output_type": "stream",
     "text": [
      "private_revCode: 5e0e464f, private_sndStamp: 1655323860.1062264, private_rcvStamp: 1655323860.1063983, private_seqNum: 1, private_identity: CCCamera, private_origin: 86409167, substate: 2, timestampTransition: 0.0, priority: 1\n"
     ]
    }
   ],
   "source": [
    "print( comcam.rem.cccamera.evt_calibrationDetailedState.get() )"
   ]
  },
  {
   "cell_type": "code",
   "execution_count": 45,
   "id": "0ed123fc-0ffa-4858-9d67-8086d5f66f1a",
   "metadata": {},
   "outputs": [
    {
     "ename": "AssertionError",
     "evalue": "",
     "output_type": "error",
     "traceback": [
      "\u001b[0;31m---------------------------------------------------------------------------\u001b[0m",
      "\u001b[0;31mAssertionError\u001b[0m                            Traceback (most recent call last)",
      "Input \u001b[0;32mIn [45]\u001b[0m, in \u001b[0;36m<cell line: 1>\u001b[0;34m()\u001b[0m\n\u001b[0;32m----> 1\u001b[0m \u001b[38;5;28;01massert\u001b[39;00m salobj\u001b[38;5;241m.\u001b[39mState\u001b[38;5;241m.\u001b[39mDISABLED\u001b[38;5;241m.\u001b[39mvalue \u001b[38;5;241m==\u001b[39m comcam\u001b[38;5;241m.\u001b[39mrem\u001b[38;5;241m.\u001b[39mcccamera\u001b[38;5;241m.\u001b[39mevt_calibrationDetailedState\u001b[38;5;241m.\u001b[39mget()\u001b[38;5;241m.\u001b[39msubstate\n",
      "\u001b[0;31mAssertionError\u001b[0m: "
     ]
    }
   ],
   "source": [
    "assert salobj.State.DISABLED.value == comcam.rem.cccamera.evt_calibrationDetailedState.get().substate"
   ]
  },
  {
   "cell_type": "markdown",
   "id": "8c4605b8-b34b-4f26-8633-8a4b3e742a9d",
   "metadata": {},
   "source": [
    "---\n",
    "While the CalibrationDetailedState is reported to be in DISABLED state and Idle, send an enableCalibration command."
   ]
  },
  {
   "cell_type": "code",
   "execution_count": 46,
   "id": "76fed744-c63d-4676-bbbf-38033534c424",
   "metadata": {},
   "outputs": [
    {
     "ename": "AckError",
     "evalue": "msg='Command failed', ackcmd=(ackcmd private_seqNum=587915846, ack=<SalRetCode.CMD_NOPERM: -300>, error=0, result='Ack : NO Command rejected: Invalid calibration state State{CalibrationState = ENABLED}')",
     "output_type": "error",
     "traceback": [
      "\u001b[0;31m---------------------------------------------------------------------------\u001b[0m",
      "\u001b[0;31mAckError\u001b[0m                                  Traceback (most recent call last)",
      "Input \u001b[0;32mIn [46]\u001b[0m, in \u001b[0;36m<cell line: 1>\u001b[0;34m()\u001b[0m\n\u001b[0;32m----> 1\u001b[0m \u001b[38;5;28;01mawait\u001b[39;00m comcam\u001b[38;5;241m.\u001b[39mrem\u001b[38;5;241m.\u001b[39mcccamera\u001b[38;5;241m.\u001b[39mcmd_enableCalibration\u001b[38;5;241m.\u001b[39mset_start()\n",
      "File \u001b[0;32m/opt/lsst/software/stack/conda/miniconda3-py38_4.9.2/envs/lsst-scipipe-3.0.0/lib/python3.8/site-packages/lsst/ts/salobj/topics/remote_command.py:418\u001b[0m, in \u001b[0;36mRemoteCommand.set_start\u001b[0;34m(self, timeout, wait_done, **kwargs)\u001b[0m\n\u001b[1;32m    377\u001b[0m \u001b[38;5;124;03m\"\"\"Create a new ``self.data``, set zero or more fields,\u001b[39;00m\n\u001b[1;32m    378\u001b[0m \u001b[38;5;124;03mand start the command.\u001b[39;00m\n\u001b[1;32m    379\u001b[0m \n\u001b[0;32m   (...)\u001b[0m\n\u001b[1;32m    415\u001b[0m \u001b[38;5;124;03m    If ``data`` is not None and not an instance of `DataType`.\u001b[39;00m\n\u001b[1;32m    416\u001b[0m \u001b[38;5;124;03m\"\"\"\u001b[39;00m\n\u001b[1;32m    417\u001b[0m \u001b[38;5;28mself\u001b[39m\u001b[38;5;241m.\u001b[39mset(\u001b[38;5;241m*\u001b[39m\u001b[38;5;241m*\u001b[39mkwargs)\n\u001b[0;32m--> 418\u001b[0m \u001b[38;5;28;01mreturn\u001b[39;00m \u001b[38;5;28;01mawait\u001b[39;00m \u001b[38;5;28mself\u001b[39m\u001b[38;5;241m.\u001b[39mstart(timeout\u001b[38;5;241m=\u001b[39mtimeout, wait_done\u001b[38;5;241m=\u001b[39mwait_done)\n",
      "File \u001b[0;32m/opt/lsst/software/stack/conda/miniconda3-py38_4.9.2/envs/lsst-scipipe-3.0.0/lib/python3.8/site-packages/lsst/ts/salobj/topics/remote_command.py:485\u001b[0m, in \u001b[0;36mRemoteCommand.start\u001b[0;34m(self, data, timeout, wait_done)\u001b[0m\n\u001b[1;32m    481\u001b[0m cmd_info \u001b[38;5;241m=\u001b[39m CommandInfo(\n\u001b[1;32m    482\u001b[0m     remote_command\u001b[38;5;241m=\u001b[39m\u001b[38;5;28mself\u001b[39m, seq_num\u001b[38;5;241m=\u001b[39mseq_num, wait_done\u001b[38;5;241m=\u001b[39mwait_done\n\u001b[1;32m    483\u001b[0m )\n\u001b[1;32m    484\u001b[0m \u001b[38;5;28mself\u001b[39m\u001b[38;5;241m.\u001b[39msalinfo\u001b[38;5;241m.\u001b[39m_running_cmds[seq_num] \u001b[38;5;241m=\u001b[39m cmd_info\n\u001b[0;32m--> 485\u001b[0m \u001b[38;5;28;01mreturn\u001b[39;00m \u001b[38;5;28;01mawait\u001b[39;00m cmd_info\u001b[38;5;241m.\u001b[39mnext_ackcmd(timeout\u001b[38;5;241m=\u001b[39mtimeout)\n",
      "File \u001b[0;32m/opt/lsst/software/stack/conda/miniconda3-py38_4.9.2/envs/lsst-scipipe-3.0.0/lib/python3.8/site-packages/lsst/ts/salobj/topics/remote_command.py:195\u001b[0m, in \u001b[0;36mCommandInfo.next_ackcmd\u001b[0;34m(self, timeout)\u001b[0m\n\u001b[1;32m    193\u001b[0m     ackcmd \u001b[38;5;241m=\u001b[39m \u001b[38;5;28;01mawait\u001b[39;00m \u001b[38;5;28mself\u001b[39m\u001b[38;5;241m.\u001b[39m_wait_task\n\u001b[1;32m    194\u001b[0m     \u001b[38;5;28;01mif\u001b[39;00m ackcmd\u001b[38;5;241m.\u001b[39mack \u001b[38;5;129;01min\u001b[39;00m \u001b[38;5;28mself\u001b[39m\u001b[38;5;241m.\u001b[39mfailed_ack_codes:\n\u001b[0;32m--> 195\u001b[0m         \u001b[38;5;28;01mraise\u001b[39;00m base\u001b[38;5;241m.\u001b[39mAckError(msg\u001b[38;5;241m=\u001b[39m\u001b[38;5;124m\"\u001b[39m\u001b[38;5;124mCommand failed\u001b[39m\u001b[38;5;124m\"\u001b[39m, ackcmd\u001b[38;5;241m=\u001b[39mackcmd)\n\u001b[1;32m    196\u001b[0m     \u001b[38;5;28;01mreturn\u001b[39;00m ackcmd\n\u001b[1;32m    197\u001b[0m \u001b[38;5;28;01mexcept\u001b[39;00m asyncio\u001b[38;5;241m.\u001b[39mTimeoutError:\n",
      "\u001b[0;31mAckError\u001b[0m: msg='Command failed', ackcmd=(ackcmd private_seqNum=587915846, ack=<SalRetCode.CMD_NOPERM: -300>, error=0, result='Ack : NO Command rejected: Invalid calibration state State{CalibrationState = ENABLED}')"
     ]
    }
   ],
   "source": [
    "await comcam.rem.cccamera.cmd_enableCalibration.set_start()"
   ]
  },
  {
   "cell_type": "code",
   "execution_count": 47,
   "id": "678a4f12-0ea4-40f9-b157-de726c8981d7",
   "metadata": {},
   "outputs": [],
   "source": [
    "assert salobj.State.ENABLED.value == comcam.rem.cccamera.evt_calibrationDetailedState.get().substate"
   ]
  },
  {
   "cell_type": "markdown",
   "id": "919963a1-292f-41c6-a8f0-212466f793dd",
   "metadata": {},
   "source": [
    "---\n",
    "While the CalibrationDetailedState is in the ENABLED state, send a startImage command.\n",
    "\n",
    "The CalibrationDetailedState transitions into the INTEGRATING state and the  CCCamera_logevent_CalibrationDetailedState publishes INTEGRATING."
   ]
  },
  {
   "cell_type": "code",
   "execution_count": 48,
   "id": "bfa96552-0ecc-4b74-8b2d-763433aeb3b3",
   "metadata": {},
   "outputs": [
    {
     "ename": "AckError",
     "evalue": "msg='Command failed', ackcmd=(ackcmd private_seqNum=1876107798, ack=<SalRetCode.CMD_NOPERM: -300>, error=0, result='Ack : NO Command rejected: Invalid argument')",
     "output_type": "error",
     "traceback": [
      "\u001b[0;31m---------------------------------------------------------------------------\u001b[0m",
      "\u001b[0;31mAckError\u001b[0m                                  Traceback (most recent call last)",
      "Input \u001b[0;32mIn [48]\u001b[0m, in \u001b[0;36m<cell line: 1>\u001b[0;34m()\u001b[0m\n\u001b[0;32m----> 1\u001b[0m \u001b[38;5;28;01mawait\u001b[39;00m comcam\u001b[38;5;241m.\u001b[39mrem\u001b[38;5;241m.\u001b[39mcccamera\u001b[38;5;241m.\u001b[39mcmd_startImage\u001b[38;5;241m.\u001b[39mset_start(\n\u001b[1;32m      2\u001b[0m     shutter\u001b[38;5;241m=\u001b[39m\u001b[38;5;28;01mFalse\u001b[39;00m,  \u001b[38;5;66;03m# We leave the shutter closed to avoid damaging the ccds in case of long exposure\u001b[39;00m\n\u001b[1;32m      3\u001b[0m )\n\u001b[1;32m      4\u001b[0m print_detailed_state()\n\u001b[1;32m      5\u001b[0m \u001b[38;5;28;01mawait\u001b[39;00m asyncio\u001b[38;5;241m.\u001b[39msleep(\u001b[38;5;241m1\u001b[39m)\n",
      "File \u001b[0;32m/opt/lsst/software/stack/conda/miniconda3-py38_4.9.2/envs/lsst-scipipe-3.0.0/lib/python3.8/site-packages/lsst/ts/salobj/topics/remote_command.py:418\u001b[0m, in \u001b[0;36mRemoteCommand.set_start\u001b[0;34m(self, timeout, wait_done, **kwargs)\u001b[0m\n\u001b[1;32m    377\u001b[0m \u001b[38;5;124;03m\"\"\"Create a new ``self.data``, set zero or more fields,\u001b[39;00m\n\u001b[1;32m    378\u001b[0m \u001b[38;5;124;03mand start the command.\u001b[39;00m\n\u001b[1;32m    379\u001b[0m \n\u001b[0;32m   (...)\u001b[0m\n\u001b[1;32m    415\u001b[0m \u001b[38;5;124;03m    If ``data`` is not None and not an instance of `DataType`.\u001b[39;00m\n\u001b[1;32m    416\u001b[0m \u001b[38;5;124;03m\"\"\"\u001b[39;00m\n\u001b[1;32m    417\u001b[0m \u001b[38;5;28mself\u001b[39m\u001b[38;5;241m.\u001b[39mset(\u001b[38;5;241m*\u001b[39m\u001b[38;5;241m*\u001b[39mkwargs)\n\u001b[0;32m--> 418\u001b[0m \u001b[38;5;28;01mreturn\u001b[39;00m \u001b[38;5;28;01mawait\u001b[39;00m \u001b[38;5;28mself\u001b[39m\u001b[38;5;241m.\u001b[39mstart(timeout\u001b[38;5;241m=\u001b[39mtimeout, wait_done\u001b[38;5;241m=\u001b[39mwait_done)\n",
      "File \u001b[0;32m/opt/lsst/software/stack/conda/miniconda3-py38_4.9.2/envs/lsst-scipipe-3.0.0/lib/python3.8/site-packages/lsst/ts/salobj/topics/remote_command.py:485\u001b[0m, in \u001b[0;36mRemoteCommand.start\u001b[0;34m(self, data, timeout, wait_done)\u001b[0m\n\u001b[1;32m    481\u001b[0m cmd_info \u001b[38;5;241m=\u001b[39m CommandInfo(\n\u001b[1;32m    482\u001b[0m     remote_command\u001b[38;5;241m=\u001b[39m\u001b[38;5;28mself\u001b[39m, seq_num\u001b[38;5;241m=\u001b[39mseq_num, wait_done\u001b[38;5;241m=\u001b[39mwait_done\n\u001b[1;32m    483\u001b[0m )\n\u001b[1;32m    484\u001b[0m \u001b[38;5;28mself\u001b[39m\u001b[38;5;241m.\u001b[39msalinfo\u001b[38;5;241m.\u001b[39m_running_cmds[seq_num] \u001b[38;5;241m=\u001b[39m cmd_info\n\u001b[0;32m--> 485\u001b[0m \u001b[38;5;28;01mreturn\u001b[39;00m \u001b[38;5;28;01mawait\u001b[39;00m cmd_info\u001b[38;5;241m.\u001b[39mnext_ackcmd(timeout\u001b[38;5;241m=\u001b[39mtimeout)\n",
      "File \u001b[0;32m/opt/lsst/software/stack/conda/miniconda3-py38_4.9.2/envs/lsst-scipipe-3.0.0/lib/python3.8/site-packages/lsst/ts/salobj/topics/remote_command.py:195\u001b[0m, in \u001b[0;36mCommandInfo.next_ackcmd\u001b[0;34m(self, timeout)\u001b[0m\n\u001b[1;32m    193\u001b[0m     ackcmd \u001b[38;5;241m=\u001b[39m \u001b[38;5;28;01mawait\u001b[39;00m \u001b[38;5;28mself\u001b[39m\u001b[38;5;241m.\u001b[39m_wait_task\n\u001b[1;32m    194\u001b[0m     \u001b[38;5;28;01mif\u001b[39;00m ackcmd\u001b[38;5;241m.\u001b[39mack \u001b[38;5;129;01min\u001b[39;00m \u001b[38;5;28mself\u001b[39m\u001b[38;5;241m.\u001b[39mfailed_ack_codes:\n\u001b[0;32m--> 195\u001b[0m         \u001b[38;5;28;01mraise\u001b[39;00m base\u001b[38;5;241m.\u001b[39mAckError(msg\u001b[38;5;241m=\u001b[39m\u001b[38;5;124m\"\u001b[39m\u001b[38;5;124mCommand failed\u001b[39m\u001b[38;5;124m\"\u001b[39m, ackcmd\u001b[38;5;241m=\u001b[39mackcmd)\n\u001b[1;32m    196\u001b[0m     \u001b[38;5;28;01mreturn\u001b[39;00m ackcmd\n\u001b[1;32m    197\u001b[0m \u001b[38;5;28;01mexcept\u001b[39;00m asyncio\u001b[38;5;241m.\u001b[39mTimeoutError:\n",
      "\u001b[0;31mAckError\u001b[0m: msg='Command failed', ackcmd=(ackcmd private_seqNum=1876107798, ack=<SalRetCode.CMD_NOPERM: -300>, error=0, result='Ack : NO Command rejected: Invalid argument')"
     ]
    }
   ],
   "source": [
    "await comcam.rem.cccamera.cmd_startImage.set_start(\n",
    "    shutter=False,  # We leave the shutter closed to avoid damaging the ccds in case of long exposure\n",
    ")\n",
    "print_detailed_state()\n",
    "await asyncio.sleep(1)\n",
    "\n",
    "print_detailed_state()\n",
    "await comcam.rem.cccamera.cmd_discardRows.set_start(nRows=2)\n",
    "await asyncio.sleep(1)\n",
    "\n",
    "print_detailed_state()\n",
    "await comcam.rem.cccamera.cmd_discardRows.set_start(nRows=5)\n",
    "await asyncio.sleep(1)\n",
    "\n",
    "print_detailed_state()\n",
    "await comcam.rem.cccamera.cmd_stop.set_start()\n",
    "await asyncio.sleep(1)\n",
    "\n",
    "print_detailed_state()\n",
    "await comcam.rem.cccamera.cmd_endImage.set_start()\n",
    "await asyncio.sleep(1)"
   ]
  },
  {
   "cell_type": "markdown",
   "id": "3a32f7db-ba7a-4a4d-a5cc-6b3c2a2dcbb2",
   "metadata": {},
   "source": [
    "---\n",
    "While in the INTEGRATING state and the SummaryState is ENABLED, send a discardRows command of 2 rows"
   ]
  },
  {
   "cell_type": "code",
   "execution_count": null,
   "id": "7199ff11-328f-4aa2-b033-5c1c12eb1e10",
   "metadata": {},
   "outputs": [],
   "source": [
    "print_detailed_state()\n",
    "# await comcam.rem.cccamera.cmd_discardRows.set_start(nRows=2)"
   ]
  },
  {
   "cell_type": "markdown",
   "id": "85bfab40-fc22-4e73-949a-afdccde0e5d8",
   "metadata": {},
   "source": [
    "---\n",
    "While in the INTEGRATING state and the SummaryState is ENABLED, send a discardRows command of 5 rows."
   ]
  },
  {
   "cell_type": "code",
   "execution_count": 33,
   "id": "4da9d6aa-7f67-4cf8-876d-5a7a6646f162",
   "metadata": {},
   "outputs": [
    {
     "name": "stdout",
     "output_type": "stream",
     "text": [
      "2022-06-15T20:42:54.056 \n",
      "\n",
      "private_revCode: 45f4d9ea, private_sndStamp: 1655325064.191647, private_rcvStamp: 1655325064.1918113, private_seqNum: 966, private_identity: CCCamera, private_origin: 86409167, substate: 1, timestampTransition: 0.0, priority: 1 \n",
      "\n",
      "private_revCode: 5e0e464f, private_sndStamp: 1655323860.1062264, private_rcvStamp: 1655323860.1063983, private_seqNum: 1, private_identity: CCCamera, private_origin: 86409167, substate: 2, timestampTransition: 0.0, priority: 1 \n",
      "\n"
     ]
    }
   ],
   "source": [
    "print_detailed_state()\n",
    "# await comcam.rem.cccamera.cmd_discardRows.set_start(nRows=5)"
   ]
  },
  {
   "cell_type": "markdown",
   "id": "e4fbbb7b-c7ec-45fc-aad0-f2de16f81ec3",
   "metadata": {},
   "source": [
    "---\n",
    "While in the INTEGRATING state and the ccsCommandState is BUSY, send a stop command."
   ]
  },
  {
   "cell_type": "code",
   "execution_count": 35,
   "id": "1387afe9-03ef-4099-94ef-bd4bca1bad62",
   "metadata": {},
   "outputs": [
    {
     "name": "stdout",
     "output_type": "stream",
     "text": [
      "2022-06-15T20:43:13.941 \n",
      "\n",
      "private_revCode: 45f4d9ea, private_sndStamp: 1655325064.191647, private_rcvStamp: 1655325064.1918113, private_seqNum: 966, private_identity: CCCamera, private_origin: 86409167, substate: 1, timestampTransition: 0.0, priority: 1 \n",
      "\n",
      "private_revCode: 5e0e464f, private_sndStamp: 1655323860.1062264, private_rcvStamp: 1655323860.1063983, private_seqNum: 1, private_identity: CCCamera, private_origin: 86409167, substate: 2, timestampTransition: 0.0, priority: 1 \n",
      "\n"
     ]
    }
   ],
   "source": [
    "print_detailed_state()\n",
    "# await comcam.rem.cccamera.cmd_stop.set_start()"
   ]
  },
  {
   "cell_type": "markdown",
   "id": "b7760897-dff4-4ba8-a106-b2dc6b7d4bbf",
   "metadata": {},
   "source": [
    "---\n",
    "While in the INTEGRATING state and the ccsCommandState is IDLE, send an endImage command."
   ]
  },
  {
   "cell_type": "code",
   "execution_count": 38,
   "id": "62cb3f45-c9b8-49c5-863f-e7e20d7f26ab",
   "metadata": {},
   "outputs": [
    {
     "name": "stdout",
     "output_type": "stream",
     "text": [
      "\n",
      "ComCam State: 1\n",
      "Detailed State: 2\n",
      "at: 2022-06-15T20:47:40.319\n"
     ]
    }
   ],
   "source": [
    "print_detailed_state()\n",
    "# await comcam.rem.cccamera.cmd_endImage.set_start()"
   ]
  },
  {
   "cell_type": "markdown",
   "id": "37a13d34-f491-4b0f-b516-026fc61fb473",
   "metadata": {},
   "source": [
    "---\n",
    "While in the ENABLED state, send a disableCalibration command."
   ]
  },
  {
   "cell_type": "code",
   "execution_count": 40,
   "id": "86c9e9f1-d6cf-45a1-a0af-762bd9f5ec62",
   "metadata": {},
   "outputs": [
    {
     "name": "stdout",
     "output_type": "stream",
     "text": [
      "\n",
      "ComCam State: 1\n",
      "Detailed State: 2\n",
      "at: 2022-06-15T21:03:57.247\n"
     ]
    }
   ],
   "source": [
    "print_detailed_state()\n",
    "# await comcam.rem.cccamera.cmd_disableCalibration.set_start()"
   ]
  },
  {
   "cell_type": "markdown",
   "id": "c0c2ffd9-2dbf-469b-bffa-810318f95c42",
   "metadata": {},
   "source": [
    "---\n",
    "With the ShutterDetailedState in the CLOSED state, send a startImage command to open the camera shutter.\n",
    "\n",
    "- The Camera publishes a startShutterOpen event as the camera shutter starts to open\n",
    "- The ShutterDetailedState transitions from CLOSED to OPENING\n",
    "- The ImageReadinessDetailedState is in the NOT_READY state"
   ]
  },
  {
   "cell_type": "code",
   "execution_count": 41,
   "id": "5cd96f5a-0508-4ba6-8bd8-ff8f2adf0f92",
   "metadata": {},
   "outputs": [
    {
     "name": "stdout",
     "output_type": "stream",
     "text": [
      "\n",
      "ComCam State: 1\n",
      "Detailed State: 2\n",
      "at: 2022-06-15T21:07:33.365\n"
     ]
    }
   ],
   "source": [
    "print_detailed_state()\n",
    "# await comcam.rem.cccamera.cmd_startImage.set_start()"
   ]
  },
  {
   "cell_type": "markdown",
   "id": "f082705c-0b64-463f-af5e-1a6ec2281e35",
   "metadata": {},
   "source": [
    "---\n",
    "With the ShutterDetailedState in the OPENING state, wait for the camera shutter to fully open.\n",
    "\n",
    "- The Camera publishes a endShutterOpen event when the camera shutter is open\n",
    "- The ShutterDetailedState transitions from OPENING to OPEN\n",
    "- The ImageReadinessDetailedState is in the GETTING_READY state while the camera shutter is opening but transitions into the READY state when it's done"
   ]
  },
  {
   "cell_type": "markdown",
   "id": "4fafb1f9-fbae-45e9-932b-d6b9ae6da6f8",
   "metadata": {},
   "source": [
    "---\n",
    "With the ShutterDetailedState in the OPEN state, send a command to close the camera shutter.\n",
    "\n",
    "- The Camera publishes a startShutterClose event as the camera shutter starts to shut\n",
    "- The ShutterDetailedState transitions from OPEN to CLOSING"
   ]
  },
  {
   "cell_type": "markdown",
   "id": "c6fe7f56-fb3c-4aa3-bfe5-a2e7e4de6be6",
   "metadata": {},
   "source": [
    "---\n",
    "With the ShutterDetailedState in the CLOSING state, wait for the camera shutter to fully close.\n",
    "\n",
    "- The Camera publishes a endShutterClose event when the camera shutter is closed\n",
    "- The ShutterDetailedState transitions from CLOSING to CLOSED"
   ]
  },
  {
   "cell_type": "markdown",
   "id": "36303e40-4b59-4343-8fc3-f91191a5d344",
   "metadata": {},
   "source": [
    "---\n",
    "RaftsDetailedState\n",
    "- Needs_Clear\n",
    "- Clearing\n",
    "- Integrating\n",
    "- Reading_Out\n",
    "- Quiescent"
   ]
  },
  {
   "cell_type": "code",
   "execution_count": 49,
   "id": "f5c2c5f8-99c2-4c82-ae96-fc00aeca275c",
   "metadata": {},
   "outputs": [
    {
     "data": {
      "text/html": [
       "<pre style=\"margin: 0.1em;\n",
       "padding-left: 0.25em;\n",
       "border-left-style: solid;\n",
       "font-family: var(--jp-code-font-family);\n",
       "font-size: var(--jp-code-font-size);\n",
       "line-height: var(--jp-code-line-height);\n",
       "\"><span style=\"color: var(--jp-warn-color2)\">setup.ComCam</span> <span style=\"color: var(--jp-success-color0)\">DEBUG</span>: [cccamera]::[&lt;State.ENABLED: 2&gt;, &lt;State.DISABLED: 1&gt;, &lt;State.STANDBY: 5&gt;]</pre>"
      ],
      "text/plain": [
       "<IPython.core.display.HTML object>"
      ]
     },
     "metadata": {},
     "output_type": "display_data"
    },
    {
     "data": {
      "text/html": [
       "<pre style=\"margin: 0.1em;\n",
       "padding-left: 0.25em;\n",
       "border-left-style: solid;\n",
       "font-family: var(--jp-code-font-family);\n",
       "font-size: var(--jp-code-font-size);\n",
       "line-height: var(--jp-code-line-height);\n",
       "\"><span style=\"color: var(--jp-warn-color2)\">setup.ComCam</span> <span style=\"color: var(--jp-success-color0)\">DEBUG</span>: [ccheaderservice]::[&lt;State.ENABLED: 2&gt;, &lt;State.DISABLED: 1&gt;, &lt;State.STANDBY: 5&gt;]</pre>"
      ],
      "text/plain": [
       "<IPython.core.display.HTML object>"
      ]
     },
     "metadata": {},
     "output_type": "display_data"
    },
    {
     "data": {
      "text/html": [
       "<pre style=\"margin: 0.1em;\n",
       "padding-left: 0.25em;\n",
       "border-left-style: solid;\n",
       "font-family: var(--jp-code-font-family);\n",
       "font-size: var(--jp-code-font-size);\n",
       "line-height: var(--jp-code-line-height);\n",
       "\"><span style=\"color: var(--jp-warn-color2)\">setup.ComCam</span> <span style=\"color: var(--jp-success-color0)\">DEBUG</span>: [ccoods]::[&lt;State.ENABLED: 2&gt;, &lt;State.DISABLED: 1&gt;, &lt;State.STANDBY: 5&gt;]</pre>"
      ],
      "text/plain": [
       "<IPython.core.display.HTML object>"
      ]
     },
     "metadata": {},
     "output_type": "display_data"
    },
    {
     "data": {
      "text/html": [
       "<pre style=\"margin: 0.1em;\n",
       "padding-left: 0.25em;\n",
       "border-left-style: solid;\n",
       "font-family: var(--jp-code-font-family);\n",
       "font-size: var(--jp-code-font-size);\n",
       "line-height: var(--jp-code-line-height);\n",
       "\"><span style=\"color: var(--jp-warn-color2)\">setup.ComCam</span> <span style=\"color: var(--jp-info-color0)\">INFO</span>: All components in &lt;State.STANDBY: 5&gt;.</pre>"
      ],
      "text/plain": [
       "<IPython.core.display.HTML object>"
      ]
     },
     "metadata": {},
     "output_type": "display_data"
    }
   ],
   "source": [
    "await comcam.standby()"
   ]
  },
  {
   "cell_type": "code",
   "execution_count": null,
   "id": "46d2c6b6-df72-44a6-a953-aefec642e289",
   "metadata": {},
   "outputs": [],
   "source": []
  }
 ],
 "metadata": {
  "kernelspec": {
   "display_name": "LSST",
   "language": "python",
   "name": "lsst"
  },
  "language_info": {
   "codemirror_mode": {
    "name": "ipython",
    "version": 3
   },
   "file_extension": ".py",
   "mimetype": "text/x-python",
   "name": "python",
   "nbconvert_exporter": "python",
   "pygments_lexer": "ipython3",
   "version": "3.8.13"
  }
 },
 "nbformat": 4,
 "nbformat_minor": 5
}
