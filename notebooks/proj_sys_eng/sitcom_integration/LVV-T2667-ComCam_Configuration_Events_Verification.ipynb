{
 "cells": [
  {
   "cell_type": "markdown",
   "id": "1ba71da5-75a5-4d89-bb84-840cb2f09059",
   "metadata": {
    "tags": []
   },
   "source": [
    "# Test Case LVV-T2667\n",
    "\n",
    "The purpose of this test case is to verify the ComCam Events related to the configuration are published to the EFD as defined in XMLv12.0.0.\n",
    "Check that the values from the EFD are consistent with the values from the configuration file."
   ]
  },
  {
   "cell_type": "code",
   "execution_count": null,
   "id": "477e80a8-3345-40c9-b241-bb00d3c1fdcc",
   "metadata": {},
   "outputs": [],
   "source": [
    "from lsst.sitcom import vandv\n",
    "\n",
    "exec_info = vandv.ExecutionInfo()\n",
    "print(exec_info)"
   ]
  },
  {
   "cell_type": "markdown",
   "id": "ee6d5fc1-8114-4514-bed4-ff15dc061841",
   "metadata": {},
   "source": [
    "# Setup"
   ]
  },
  {
   "cell_type": "code",
   "execution_count": null,
   "id": "cc3a4c40-5c5d-45ff-8729-d312582f55fc",
   "metadata": {
    "tags": []
   },
   "outputs": [],
   "source": [
    "import asyncio\n",
    "import logging\n",
    "import os\n",
    "import yaml\n",
    "\n",
    "import astropy.units as u\n",
    "import numpy as np\n",
    "import pandas as pd\n",
    "\n",
    "from astropy.time import Time\n",
    "from datetime import datetime, timedelta\n",
    "from matplotlib import pyplot as plt\n",
    "\n",
    "from lsst.ts.observatory.control.maintel import ComCam\n",
    "from lsst.ts.observing.utilities.decorated_logger import DecoratedLogger\n",
    "from lsst_efd_client import EfdClient\n",
    "from lsst.ts import salobj"
   ]
  },
  {
   "cell_type": "markdown",
   "id": "a18d235b-2221-4e7a-aa50-2a34072ba3c1",
   "metadata": {},
   "source": [
    "The following block sets the necessary environment variables for setting up the DDS/SAL communication"
   ]
  },
  {
   "cell_type": "code",
   "execution_count": null,
   "id": "9aed0184-06b7-463f-8a43-00558cded4d6",
   "metadata": {},
   "outputs": [],
   "source": [
    "os.environ[\"LSST_DDS_HISTORYSYNC\"] = \"30\""
   ]
  },
  {
   "cell_type": "markdown",
   "id": "acd6c870-7fe8-408e-b00c-41915653622a",
   "metadata": {},
   "source": [
    "Setting up logger"
   ]
  },
  {
   "cell_type": "code",
   "execution_count": null,
   "id": "c468edd4-e263-42fe-b50a-97629c61d887",
   "metadata": {},
   "outputs": [],
   "source": [
    "logger = DecoratedLogger.get_decorated_logger()\n",
    "logger.level = logging.DEBUG"
   ]
  },
  {
   "cell_type": "markdown",
   "id": "373219ab-4c68-4969-af53-421eb62e356d",
   "metadata": {},
   "source": [
    "Getting unique index for Script"
   ]
  },
  {
   "cell_type": "code",
   "execution_count": null,
   "id": "2d91837c-889f-443d-8349-93d71f4fd391",
   "metadata": {},
   "outputs": [],
   "source": [
    "logger.info(f'Your UID is {os.getuid()}')\n",
    "index = os.getuid() * 10 + np.random.randint(0, 9)\n",
    "\n",
    "logger.info(f'The generated index is {index}')"
   ]
  },
  {
   "cell_type": "markdown",
   "id": "e34b1fd5-0cca-4e40-a916-aec7755b69cc",
   "metadata": {},
   "source": [
    "Make sure DDS Daemon is running and startup Domain"
   ]
  },
  {
   "cell_type": "code",
   "execution_count": null,
   "id": "e2aed539-bc9f-4121-98e8-b1e4e532226c",
   "metadata": {},
   "outputs": [],
   "source": [
    "domain = salobj.Domain()"
   ]
  },
  {
   "cell_type": "markdown",
   "id": "77dc5125-78ec-48b0-9be8-943098155fd9",
   "metadata": {},
   "source": [
    "Instantiate script for logging into EFD and start script task"
   ]
  },
  {
   "cell_type": "code",
   "execution_count": null,
   "id": "8f45a542-6176-477f-b9cc-9780fa89873f",
   "metadata": {},
   "outputs": [],
   "source": [
    "test_message = \"LVV-T2667 ComCam Configuration Events Verification\"\n",
    "script = salobj.Controller(\"Script\", index=index)\n",
    "await script.start_task"
   ]
  },
  {
   "cell_type": "markdown",
   "id": "57acbb5f-a059-4703-9e1a-f39b6508c6ed",
   "metadata": {},
   "source": [
    "EFD setup"
   ]
  },
  {
   "cell_type": "code",
   "execution_count": null,
   "id": "a0def604-804c-4ec8-8101-f062e19901da",
   "metadata": {},
   "outputs": [],
   "source": [
    "client = vandv.efd.create_efd_client()"
   ]
  },
  {
   "cell_type": "markdown",
   "id": "9242d76f-f8af-4c92-8e2c-de4fde37f6bd",
   "metadata": {},
   "source": [
    "ComCam Initialization"
   ]
  },
  {
   "cell_type": "code",
   "execution_count": null,
   "id": "42bfc0d2-080f-4091-be87-bd6186e7f81f",
   "metadata": {},
   "outputs": [],
   "source": [
    "comcam = ComCam(domain=domain)\n",
    "comcam.set_rem_loglevel(40)"
   ]
  },
  {
   "cell_type": "code",
   "execution_count": null,
   "id": "94d9fb6a-ddf4-47ea-a2ce-e225f863e74b",
   "metadata": {},
   "outputs": [],
   "source": [
    "await comcam.start_task"
   ]
  },
  {
   "cell_type": "code",
   "execution_count": null,
   "id": "f17df539-fe9a-48e3-a13a-4419a4b44ecb",
   "metadata": {},
   "outputs": [],
   "source": [
    "await comcam.standby()"
   ]
  },
  {
   "cell_type": "code",
   "execution_count": null,
   "id": "ae29fd8a-c0e9-425b-a621-c80ec9a4794c",
   "metadata": {},
   "outputs": [],
   "source": [
    "def evt_time_callback(evt):\n",
    "    \"\"\"Print event and time when it is received.\"\"\"\n",
    "    time_evt = datetime.utcfromtimestamp(evt.private_sndStamp-37).strftime(\"%Y-%m-%d %H:%M:%S.%f\")[:-3]\n",
    "    evt_name = str(evt.__class__).split('_')[2]\n",
    "    print(f'\\n {evt_name} logevent at {time_evt} is \\n \\t{evt}')"
   ]
  },
  {
   "cell_type": "code",
   "execution_count": null,
   "id": "048f7f7e-a743-421a-89e3-4e66e81b7f22",
   "metadata": {},
   "outputs": [],
   "source": [
    "async def check_telemetry(topic):\n",
    "    tel = await client.select_top_n(topic,'*',num=1)\n",
    "    time_tel = datetime.utcfromtimestamp(tel['private_efdStamp'][0]).strftime(\"%Y-%m-%d %H:%M:%S.%f\")[:-3]\n",
    "    print(f'Last {topic} telemetry was at {time_tel} UTC \\n \\tvs time now is {Time.now()}')"
   ]
  },
  {
   "cell_type": "markdown",
   "id": "37cad355-02db-4355-996b-56b5f3ed90ff",
   "metadata": {},
   "source": [
    "Publish in the EFD that test is starting"
   ]
  },
  {
   "cell_type": "code",
   "execution_count": null,
   "id": "07c3fb0c-5a7d-4295-9aad-2282daa2a0fb",
   "metadata": {},
   "outputs": [],
   "source": [
    "script.log.info(f'START- {test_message} -- at {Time(datetime.now())}')"
   ]
  }
 ],
 "metadata": {
  "kernelspec": {
   "display_name": "LSST",
   "language": "python",
   "name": "lsst"
  },
  "language_info": {
   "codemirror_mode": {
    "name": "ipython",
    "version": 3
   },
   "file_extension": ".py",
   "mimetype": "text/x-python",
   "name": "python",
   "nbconvert_exporter": "python",
   "pygments_lexer": "ipython3",
   "version": "3.10.4"
  }
 },
 "nbformat": 4,
 "nbformat_minor": 5
}
