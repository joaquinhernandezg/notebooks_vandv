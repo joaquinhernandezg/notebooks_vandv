{
 "cells": [
  {
   "cell_type": "markdown",
   "id": "1ba71da5-75a5-4d89-bb84-840cb2f09059",
   "metadata": {
    "tags": []
   },
   "source": [
    "# Test Case LVV-T2667\n",
    "\n",
    "The purpose of this test case is to verify the ComCam Events related to the configuration are published to the EFD as defined in XMLv12.0.0.\n",
    "Check that the values from the EFD are consistent with the values from the configuration file."
   ]
  },
  {
   "cell_type": "code",
   "execution_count": 1,
   "id": "477e80a8-3345-40c9-b241-bb00d3c1fdcc",
   "metadata": {},
   "outputs": [
    {
     "name": "stdout",
     "output_type": "stream",
     "text": [
      "\n",
      "Executed by ksiruno-lsst on 2022-08-19T16:12:16.441.\n",
      "  Running in pillan04 at tucson\n",
      "\n"
     ]
    }
   ],
   "source": [
    "from lsst.sitcom import vandv\n",
    "\n",
    "exec_info = vandv.ExecutionInfo()\n",
    "print(exec_info)"
   ]
  },
  {
   "cell_type": "markdown",
   "id": "ee6d5fc1-8114-4514-bed4-ff15dc061841",
   "metadata": {
    "tags": []
   },
   "source": [
    "# Setup"
   ]
  },
  {
   "cell_type": "code",
   "execution_count": 2,
   "id": "cc3a4c40-5c5d-45ff-8729-d312582f55fc",
   "metadata": {
    "tags": []
   },
   "outputs": [],
   "source": [
    "import asyncio\n",
    "import logging\n",
    "import os\n",
    "import yaml\n",
    "\n",
    "import astropy.units as u\n",
    "import numpy as np\n",
    "import pandas as pd\n",
    "\n",
    "from astropy.time import Time\n",
    "from datetime import datetime, timedelta\n",
    "from matplotlib import pyplot as plt\n",
    "\n",
    "from lsst.ts.observatory.control.maintel import ComCam\n",
    "from lsst_efd_client import EfdClient\n",
    "from lsst.ts import salobj"
   ]
  },
  {
   "cell_type": "markdown",
   "id": "a18d235b-2221-4e7a-aa50-2a34072ba3c1",
   "metadata": {},
   "source": [
    "The following block sets the necessary environment variables for setting up the DDS/SAL communication"
   ]
  },
  {
   "cell_type": "code",
   "execution_count": 3,
   "id": "9aed0184-06b7-463f-8a43-00558cded4d6",
   "metadata": {},
   "outputs": [],
   "source": [
    "os.environ[\"LSST_DDS_HISTORYSYNC\"] = \"30\""
   ]
  },
  {
   "cell_type": "markdown",
   "id": "acd6c870-7fe8-408e-b00c-41915653622a",
   "metadata": {},
   "source": [
    "Setting up logger"
   ]
  },
  {
   "cell_type": "code",
   "execution_count": 4,
   "id": "c468edd4-e263-42fe-b50a-97629c61d887",
   "metadata": {},
   "outputs": [],
   "source": [
    "logger = logging.getLogger(\"LVV-T2267\")\n",
    "logger.setLevel(logging.DEBUG)"
   ]
  },
  {
   "cell_type": "markdown",
   "id": "373219ab-4c68-4969-af53-421eb62e356d",
   "metadata": {},
   "source": [
    "Getting unique index for Script"
   ]
  },
  {
   "cell_type": "code",
   "execution_count": 5,
   "id": "2d91837c-889f-443d-8349-93d71f4fd391",
   "metadata": {},
   "outputs": [],
   "source": [
    "logger.info(f'Your UID is {os.getuid()}')\n",
    "index = os.getuid() * 10 + np.random.randint(0, 9)\n",
    "\n",
    "logger.info(f'The generated index is {index}')"
   ]
  },
  {
   "cell_type": "markdown",
   "id": "e34b1fd5-0cca-4e40-a916-aec7755b69cc",
   "metadata": {},
   "source": [
    "Make sure DDS Daemon is running and startup Domain"
   ]
  },
  {
   "cell_type": "code",
   "execution_count": 6,
   "id": "e2aed539-bc9f-4121-98e8-b1e4e532226c",
   "metadata": {},
   "outputs": [],
   "source": [
    "domain = salobj.Domain()"
   ]
  },
  {
   "cell_type": "markdown",
   "id": "77dc5125-78ec-48b0-9be8-943098155fd9",
   "metadata": {},
   "source": [
    "Instantiate script for logging into EFD and start script task"
   ]
  },
  {
   "cell_type": "code",
   "execution_count": 7,
   "id": "8f45a542-6176-477f-b9cc-9780fa89873f",
   "metadata": {},
   "outputs": [],
   "source": [
    "test_message = \"LVV-T2667 ComCam Configuration Events Verification\"\n",
    "script = salobj.Controller(\"Script\", index=index)\n",
    "await script.start_task"
   ]
  },
  {
   "cell_type": "markdown",
   "id": "57acbb5f-a059-4703-9e1a-f39b6508c6ed",
   "metadata": {},
   "source": [
    "EFD setup"
   ]
  },
  {
   "cell_type": "code",
   "execution_count": 8,
   "id": "a0def604-804c-4ec8-8101-f062e19901da",
   "metadata": {},
   "outputs": [],
   "source": [
    "client = vandv.efd.create_efd_client()"
   ]
  },
  {
   "cell_type": "markdown",
   "id": "9242d76f-f8af-4c92-8e2c-de4fde37f6bd",
   "metadata": {},
   "source": [
    "ComCam Initialization"
   ]
  },
  {
   "cell_type": "code",
   "execution_count": 9,
   "id": "42bfc0d2-080f-4091-be87-bd6186e7f81f",
   "metadata": {},
   "outputs": [],
   "source": [
    "comcam = ComCam(domain=domain)\n",
    "comcam.set_rem_loglevel(40)"
   ]
  },
  {
   "cell_type": "code",
   "execution_count": 10,
   "id": "94d9fb6a-ddf4-47ea-a2ce-e225f863e74b",
   "metadata": {},
   "outputs": [
    {
     "data": {
      "text/plain": [
       "[None, None, None]"
      ]
     },
     "execution_count": 10,
     "metadata": {},
     "output_type": "execute_result"
    }
   ],
   "source": [
    "await comcam.start_task"
   ]
  },
  {
   "cell_type": "code",
   "execution_count": 11,
   "id": "f17df539-fe9a-48e3-a13a-4419a4b44ecb",
   "metadata": {},
   "outputs": [],
   "source": [
    "await comcam.enable()"
   ]
  },
  {
   "cell_type": "code",
   "execution_count": 12,
   "id": "ae29fd8a-c0e9-425b-a621-c80ec9a4794c",
   "metadata": {},
   "outputs": [],
   "source": [
    "def evt_time_callback(evt):\n",
    "    \"\"\"Print event and time when it is received.\"\"\"\n",
    "    time_evt = datetime.utcfromtimestamp(evt.private_sndStamp-37).strftime(\"%Y-%m-%d %H:%M:%S.%f\")[:-3]\n",
    "    evt_name = str(evt.__class__).split('_')[2]\n",
    "    print(f'\\n {evt_name} logevent at {time_evt} is \\n \\t{evt}')"
   ]
  },
  {
   "cell_type": "code",
   "execution_count": 13,
   "id": "048f7f7e-a743-421a-89e3-4e66e81b7f22",
   "metadata": {},
   "outputs": [],
   "source": [
    "async def check_telemetry(topic):\n",
    "    tel = await client.select_top_n(topic,'*',num=1)\n",
    "    time_tel = datetime.utcfromtimestamp(tel['private_efdStamp'][0]).strftime(\"%Y-%m-%d %H:%M:%S.%f\")[:-3]\n",
    "    print(f'Last {topic} telemetry was at {time_tel} UTC \\n \\tvs time now is {Time.now()}')"
   ]
  },
  {
   "cell_type": "markdown",
   "id": "37cad355-02db-4355-996b-56b5f3ed90ff",
   "metadata": {},
   "source": [
    "Publish in the EFD that test is starting"
   ]
  },
  {
   "cell_type": "code",
   "execution_count": 14,
   "id": "07c3fb0c-5a7d-4295-9aad-2282daa2a0fb",
   "metadata": {},
   "outputs": [],
   "source": [
    "script.log.info(f'START- {test_message} -- at {Time(datetime.now())}')"
   ]
  },
  {
   "cell_type": "markdown",
   "id": "f33af78b-7bb1-4cb5-8f62-48def80d968c",
   "metadata": {},
   "source": [
    "# Start of Verification of Events"
   ]
  },
  {
   "cell_type": "markdown",
   "id": "eb4463d5-2638-4afb-9a71-7c289eead98b",
   "metadata": {
    "tags": []
   },
   "source": [
    "### Step 1 - Initial Verification of CCCamera_logevent_configurationApplied event"
   ]
  },
  {
   "cell_type": "markdown",
   "id": "820544d8-36bf-4a62-8647-ee20e91b739e",
   "metadata": {},
   "source": [
    "The events published as a result of this step will identify which specific ComCam configuration events will actually be published to the EFD. "
   ]
  },
  {
   "cell_type": "code",
   "execution_count": 15,
   "id": "6ab63f07-779f-4ca5-a37e-6aff17925284",
   "metadata": {},
   "outputs": [
    {
     "ename": "AckError",
     "evalue": "msg='Command failed', ackcmd=(ackcmd private_seqNum=1738523231, ack=<SalRetCode.CMD_NOPERM: -300>, error=0, result='Ack : NO Command not accepted in: State{SummaryState = ENABLED}')",
     "output_type": "error",
     "traceback": [
      "\u001b[0;31m---------------------------------------------------------------------------\u001b[0m",
      "\u001b[0;31mAckError\u001b[0m                                  Traceback (most recent call last)",
      "Input \u001b[0;32mIn [15]\u001b[0m, in \u001b[0;36m<cell line: 1>\u001b[0;34m()\u001b[0m\n\u001b[0;32m----> 1\u001b[0m \u001b[38;5;28;01mawait\u001b[39;00m comcam\u001b[38;5;241m.\u001b[39mrem\u001b[38;5;241m.\u001b[39mcccamera\u001b[38;5;241m.\u001b[39mcmd_start\u001b[38;5;241m.\u001b[39mset_start()\n",
      "File \u001b[0;32m/opt/lsst/software/stack/conda/miniconda3-py38_4.9.2/envs/lsst-scipipe-4.0.1/lib/python3.10/site-packages/lsst/ts/salobj/topics/remote_command.py:418\u001b[0m, in \u001b[0;36mRemoteCommand.set_start\u001b[0;34m(self, timeout, wait_done, **kwargs)\u001b[0m\n\u001b[1;32m    377\u001b[0m \u001b[38;5;124;03m\"\"\"Create a new ``self.data``, set zero or more fields,\u001b[39;00m\n\u001b[1;32m    378\u001b[0m \u001b[38;5;124;03mand start the command.\u001b[39;00m\n\u001b[1;32m    379\u001b[0m \n\u001b[0;32m   (...)\u001b[0m\n\u001b[1;32m    415\u001b[0m \u001b[38;5;124;03m    If ``data`` is not None and not an instance of `DataType`.\u001b[39;00m\n\u001b[1;32m    416\u001b[0m \u001b[38;5;124;03m\"\"\"\u001b[39;00m\n\u001b[1;32m    417\u001b[0m \u001b[38;5;28mself\u001b[39m\u001b[38;5;241m.\u001b[39mset(\u001b[38;5;241m*\u001b[39m\u001b[38;5;241m*\u001b[39mkwargs)\n\u001b[0;32m--> 418\u001b[0m \u001b[38;5;28;01mreturn\u001b[39;00m \u001b[38;5;28;01mawait\u001b[39;00m \u001b[38;5;28mself\u001b[39m\u001b[38;5;241m.\u001b[39mstart(timeout\u001b[38;5;241m=\u001b[39mtimeout, wait_done\u001b[38;5;241m=\u001b[39mwait_done)\n",
      "File \u001b[0;32m/opt/lsst/software/stack/conda/miniconda3-py38_4.9.2/envs/lsst-scipipe-4.0.1/lib/python3.10/site-packages/lsst/ts/salobj/topics/remote_command.py:485\u001b[0m, in \u001b[0;36mRemoteCommand.start\u001b[0;34m(self, data, timeout, wait_done)\u001b[0m\n\u001b[1;32m    481\u001b[0m cmd_info \u001b[38;5;241m=\u001b[39m CommandInfo(\n\u001b[1;32m    482\u001b[0m     remote_command\u001b[38;5;241m=\u001b[39m\u001b[38;5;28mself\u001b[39m, seq_num\u001b[38;5;241m=\u001b[39mseq_num, wait_done\u001b[38;5;241m=\u001b[39mwait_done\n\u001b[1;32m    483\u001b[0m )\n\u001b[1;32m    484\u001b[0m \u001b[38;5;28mself\u001b[39m\u001b[38;5;241m.\u001b[39msalinfo\u001b[38;5;241m.\u001b[39m_running_cmds[seq_num] \u001b[38;5;241m=\u001b[39m cmd_info\n\u001b[0;32m--> 485\u001b[0m \u001b[38;5;28;01mreturn\u001b[39;00m \u001b[38;5;28;01mawait\u001b[39;00m cmd_info\u001b[38;5;241m.\u001b[39mnext_ackcmd(timeout\u001b[38;5;241m=\u001b[39mtimeout)\n",
      "File \u001b[0;32m/opt/lsst/software/stack/conda/miniconda3-py38_4.9.2/envs/lsst-scipipe-4.0.1/lib/python3.10/site-packages/lsst/ts/salobj/topics/remote_command.py:195\u001b[0m, in \u001b[0;36mCommandInfo.next_ackcmd\u001b[0;34m(self, timeout)\u001b[0m\n\u001b[1;32m    193\u001b[0m     ackcmd \u001b[38;5;241m=\u001b[39m \u001b[38;5;28;01mawait\u001b[39;00m \u001b[38;5;28mself\u001b[39m\u001b[38;5;241m.\u001b[39m_wait_task\n\u001b[1;32m    194\u001b[0m     \u001b[38;5;28;01mif\u001b[39;00m ackcmd\u001b[38;5;241m.\u001b[39mack \u001b[38;5;129;01min\u001b[39;00m \u001b[38;5;28mself\u001b[39m\u001b[38;5;241m.\u001b[39mfailed_ack_codes:\n\u001b[0;32m--> 195\u001b[0m         \u001b[38;5;28;01mraise\u001b[39;00m base\u001b[38;5;241m.\u001b[39mAckError(msg\u001b[38;5;241m=\u001b[39m\u001b[38;5;124m\"\u001b[39m\u001b[38;5;124mCommand failed\u001b[39m\u001b[38;5;124m\"\u001b[39m, ackcmd\u001b[38;5;241m=\u001b[39mackcmd)\n\u001b[1;32m    196\u001b[0m     \u001b[38;5;28;01mreturn\u001b[39;00m ackcmd\n\u001b[1;32m    197\u001b[0m \u001b[38;5;28;01mexcept\u001b[39;00m asyncio\u001b[38;5;241m.\u001b[39mTimeoutError:\n",
      "\u001b[0;31mAckError\u001b[0m: msg='Command failed', ackcmd=(ackcmd private_seqNum=1738523231, ack=<SalRetCode.CMD_NOPERM: -300>, error=0, result='Ack : NO Command not accepted in: State{SummaryState = ENABLED}')"
     ]
    }
   ],
   "source": [
    "await comcam.rem.cccamera.cmd_start.set_start()"
   ]
  },
  {
   "cell_type": "code",
   "execution_count": 16,
   "id": "87c10379-5184-478d-994e-bad11c7c70fa",
   "metadata": {},
   "outputs": [
    {
     "name": "stdout",
     "output_type": "stream",
     "text": [
      "private_revCode: d6c3623d, private_sndStamp: 1660856128.2595043, private_rcvStamp: 1660925537.698603, private_seqNum: 0, private_identity: CCCamera, private_origin: 77630140, configurations: Normal, version: 1, url: https://lsst-camera-dev.slac.stanford.edu/RestFileServer/config/, schemaVersion: UNKNOWN, otherInfo: vacuum_Rtds_DevicesConfiguration,focal_plane_ImageNameService_GeneralConfiguration,bonn_shutter_PeriodicTasks_timersConfiguration,focal_plane_Reb_LimitsConfiguration,quadbox_BFR_DevicesConfiguration,focal_plane_Ccd_LimitsConfiguration,vacuum_Cold2_CryoconConfiguration,vacuum_PeriodicTasks_timersConfiguration,image_handling_ImageHandler_FitsHandlingConfiguration,bonn_shutter_Device_GeneralConfiguration,bonn_shutter_GeneralConfiguration,rebpower_Rebps_GeneralConfiguration,vacuum_Cold1_DevicesConfiguration,focal_plane_Reb_HardwareIdConfiguration,vacuum_Rtds_LimitsConfiguration,vacuum_VacuumConfiguration,quadbox_PDU_48V_DevicesConfiguration,mpm_Pluto_DevicesConfiguration,mpm_PeriodicTasks_timersConfiguration,quadbox_PDU_24VD_QuadboxConfiguration,rebpower_Rebps_buildConfiguration,focal_plane_Segment_LimitsConfiguration,vacuum_Rtds_DeviceConfiguration,fcs_StepperMotor_MotorConfiguration,quadbox_PDU_5V_DevicesConfiguration,vacuum_VQMonitor_DevicesConfiguration,focal_plane_Ccd_HardwareIdConfiguration,rebpower_PeriodicTasks_timersConfiguration,rebpower_Reb_LimitsConfiguration,vacuum_Turbo_DevicesConfiguration,bonn_shutter_Device_DevicesConfiguration,rebpower_Rebps_DevicesConfiguration,bonn_shutter_PeriodicTasks_GeneralConfiguration,rebpower_GeneralConfiguration,focal_plane_Reb_RaftsLimitsConfiguration,fcs_StepperMotor_LimitsConfiguration,focal_plane_Raft_HardwareIdConfiguration,quadbox_REB_Bulk_PS_DevicesConfiguration,focal_plane_InstrumentConfig_InstrumentConfiguration,focal_plane_Reb_RaftsPowerConfiguration,vacuum_IonPumps_LimitsConfiguration,daq_monitor_StoreConfiguration,focal_plane_Raft_RaftTempControlStatusConfiguration,focal_plane_Raft_RaftTempControlConfiguration,image_handling_Reb_FitsHandlingConfiguration,quadbox_PDU_48V_LimitsConfiguration,quadbox_PDU_24VD_LimitsConfiguration,daq_monitor_Store_StoreConfiguration,fcs_StepperMotor_DevicesConfiguration,fcs_LinearEncoder_DevicesConfiguration,focal_plane_WebHooksConfig_VisualizationConfiguration,focal_plane_SequencerConfig_DAQConfiguration,rebpower_EmergencyResponseManager_GeneralConfiguration,rebpower_Reb_GeneralConfiguration,quadbox_BFR_LimitsConfiguration,vacuum_Turbo_LimitsConfiguration,vacuum_VQMonitor_CryoConfiguration,daq_monitor_Store_LimitsConfiguration,vacuum_Cryo_CryoconConfiguration,quadbox_REB_Bulk_PS_QuadboxConfiguration,vacuum_Turbo_GeneralConfiguration,daq_monitor_Store_DevicesConfiguration,focal_plane_PeriodicTasks_GeneralConfiguration,fcs_GeneralConfiguration,daq_monitor_PeriodicTasks_timersConfiguration,focal_plane_Ccd_RaftsConfiguration,image_handling_ImageHandler_CommandsConfiguration,quadbox_PDU_48V_QuadboxConfiguration,quadbox_PDU_5V_LimitsConfiguration,bonn_shutter_Device_LimitsConfiguration,quadbox_PeriodicTasks_GeneralConfiguration,daq_monitor_Stats_StatisticsConfiguration,quadbox_BFR_QuadboxConfiguration,focal_plane_SequencerConfig_SequencerConfiguration,image_handling_PeriodicTasks_GeneralConfiguration,rebpower_Rebps_PowerConfiguration,focal_plane_PeriodicTasks_timersConfiguration,focal_plane_Reb_timersConfiguration,rebpower_Rebps_LimitsConfiguration,vacuum_VacPluto_DeviceConfiguration,vacuum_Cryo_DevicesConfiguration,quadbox_PDU_24VD_DevicesConfiguration,quadbox_PDU_5V_QuadboxConfiguration,quadbox_PeriodicTasks_timersConfiguration,focal_plane_ImageDatabaseService_GeneralConfiguration,vacuum_Cold1_LimitsConfiguration,vacuum_Cold2_LimitsConfiguration,fcs_PeriodicTasks_GeneralConfiguration,image_handling_Reb_GeneralConfiguration,vacuum_Cold2_DevicesConfiguration,fcs_LinearEncoder_GeneralConfiguration,vacuum_IonPumps_CryoConfiguration,mpm_PeriodicTasks_GeneralConfiguration,vacuum_PeriodicTasks_GeneralConfiguration,focal_plane_Reb_DevicesConfiguration,fcs_StepperMotor_GeneralConfiguration,vacuum_VQMonitor_LimitsConfiguration,quadbox_PDU_24VC_LimitsConfiguration,vacuum_Cold1_CryoconConfiguration,focal_plane_RebTotalPower_LimitsConfiguration,quadbox_PDU_24VC_QuadboxConfiguration,daq_monitor_PeriodicTasks_GeneralConfiguration,mpm_Pluto_DeviceConfiguration,fcs_PeriodicTasks_timersConfiguration,vacuum_IonPumps_DevicesConfiguration,fcs_LinearEncoder_LimitsConfiguration,vacuum_VacPluto_DevicesConfiguration,focal_plane_Reb_RaftsConfiguration,image_handling_ImageHandler_DAQConfiguration,image_handling_PeriodicTasks_timersConfiguration,quadbox_PDU_24VC_DevicesConfiguration,vacuum_Cryo_LimitsConfiguration,rebpower_PeriodicTasks_GeneralConfiguration\n"
     ]
    }
   ],
   "source": [
    "data = comcam.rem.cccamera.evt_configurationApplied.get()\n",
    "print(data)"
   ]
  },
  {
   "cell_type": "markdown",
   "id": "962eaf65-558a-4713-ae14-5d906a35aa54",
   "metadata": {
    "tags": []
   },
   "source": [
    "## Verification of Individual Configuration Events"
   ]
  },
  {
   "cell_type": "markdown",
   "id": "9c897e59-8f18-49e0-92b1-bd5849023f50",
   "metadata": {
    "tags": []
   },
   "source": [
    "### Step 2 - CCCamera_logevent_fcs_GeneralConfiguration"
   ]
  },
  {
   "cell_type": "code",
   "execution_count": 17,
   "id": "25383472-71e7-4fff-bb14-b7325dd455c1",
   "metadata": {},
   "outputs": [
    {
     "name": "stdout",
     "output_type": "stream",
     "text": [
      "None\n"
     ]
    }
   ],
   "source": [
    "data = comcam.rem.cccamera.evt_fcs_GeneralConfiguration.get()\n",
    "print(data)"
   ]
  },
  {
   "cell_type": "markdown",
   "id": "ddc79efd-1aba-4afb-bc6c-a580b19148a4",
   "metadata": {
    "tags": []
   },
   "source": [
    "### Step 3 - CCCamera_logevent_fcs_LinearEncoder_DevicesConfiguration"
   ]
  },
  {
   "cell_type": "code",
   "execution_count": 18,
   "id": "51dde943-e921-489b-94d8-158efb687a7a",
   "metadata": {},
   "outputs": [
    {
     "name": "stdout",
     "output_type": "stream",
     "text": [
      "None\n"
     ]
    }
   ],
   "source": [
    "data = comcam.rem.cccamera.evt_fcs_LinearEncoder_DevicesConfiguration.get()\n",
    "print(data)"
   ]
  },
  {
   "cell_type": "markdown",
   "id": "1fadf94f-b7d4-49ab-888b-d550eb09e117",
   "metadata": {
    "tags": []
   },
   "source": [
    "### Step 4 - CCCamera_logevent_fcs_LinearEncoder_GeneralConfiguration"
   ]
  },
  {
   "cell_type": "code",
   "execution_count": 19,
   "id": "8a2c7cd3-4369-485c-90c1-816b66b128fa",
   "metadata": {},
   "outputs": [
    {
     "name": "stdout",
     "output_type": "stream",
     "text": [
      "None\n"
     ]
    }
   ],
   "source": [
    "data = comcam.rem.cccamera.evt_fcs_LinearEncoder_GeneralConfiguration.get()\n",
    "print(data)"
   ]
  },
  {
   "cell_type": "markdown",
   "id": "80c126af-69dd-4944-a7a7-43fdea3c2888",
   "metadata": {
    "tags": []
   },
   "source": [
    "### Step 5 - CCCamera_logevent_fcs_LinearEncoder_LimitsConfiguration"
   ]
  },
  {
   "cell_type": "code",
   "execution_count": 20,
   "id": "f2f151fe-d68f-49cc-ab20-e1565889b714",
   "metadata": {},
   "outputs": [
    {
     "name": "stdout",
     "output_type": "stream",
     "text": [
      "None\n"
     ]
    }
   ],
   "source": [
    "data = comcam.rem.cccamera.evt_fcs_LinearEncoder_LimitsConfiguration.get()\n",
    "print(data)"
   ]
  },
  {
   "cell_type": "markdown",
   "id": "b8e6c525-ef6d-4e82-be46-31a5a7e2f59d",
   "metadata": {
    "tags": []
   },
   "source": [
    "### Step 6 - CCCamera_logevent_fcs_PeriodTasks_GeneralConfiguration"
   ]
  },
  {
   "cell_type": "code",
   "execution_count": 21,
   "id": "efa8265c-13e7-487e-85ed-2a1529625481",
   "metadata": {},
   "outputs": [
    {
     "name": "stdout",
     "output_type": "stream",
     "text": [
      "None\n"
     ]
    }
   ],
   "source": [
    "data = comcam.rem.cccamera.evt_fcs_PeriodicTasks_GeneralConfiguration.get()\n",
    "print(data)"
   ]
  },
  {
   "cell_type": "markdown",
   "id": "59d63d28-673f-4946-b3f7-00bfd0353547",
   "metadata": {
    "tags": []
   },
   "source": [
    "### Step 7 - CCCamera_logevent_fcs_PeriodTasks_timersConfiguration"
   ]
  },
  {
   "cell_type": "code",
   "execution_count": 22,
   "id": "9826c0fb-2f0e-4c60-a23f-c5006206655a",
   "metadata": {},
   "outputs": [
    {
     "name": "stdout",
     "output_type": "stream",
     "text": [
      "None\n"
     ]
    }
   ],
   "source": [
    "data = comcam.rem.cccamera.evt_fcs_PeriodicTasks_timersConfiguration.get()\n",
    "print(data)"
   ]
  },
  {
   "cell_type": "markdown",
   "id": "d4a66487-b707-48ce-872b-b0f827f9106d",
   "metadata": {
    "tags": []
   },
   "source": [
    "### Step 8 - CCCamera_logevent_fcs_StepperMotor_DevicesConfiguration"
   ]
  },
  {
   "cell_type": "code",
   "execution_count": 23,
   "id": "f929f456-f766-4ab9-9ea4-1e93f129c164",
   "metadata": {},
   "outputs": [
    {
     "name": "stdout",
     "output_type": "stream",
     "text": [
      "None\n"
     ]
    }
   ],
   "source": [
    "data = comcam.rem.cccamera.evt_fcs_StepperMotor_DevicesConfiguration.get()\n",
    "print(data)"
   ]
  },
  {
   "cell_type": "markdown",
   "id": "565a3013-c737-49d9-9ec8-89bca697fa71",
   "metadata": {
    "tags": []
   },
   "source": [
    "### Step 9 - CCCamera_logevent_fcs_StepperMotor_GeneralConfiguration"
   ]
  },
  {
   "cell_type": "code",
   "execution_count": 24,
   "id": "000b5cde-d32b-41e2-b516-cefab5fdca0f",
   "metadata": {},
   "outputs": [
    {
     "name": "stdout",
     "output_type": "stream",
     "text": [
      "None\n"
     ]
    }
   ],
   "source": [
    "data = comcam.rem.cccamera.evt_fcs_StepperMotor_GeneralConfiguration.get()\n",
    "print(data)"
   ]
  },
  {
   "cell_type": "markdown",
   "id": "96d1ac0d-3df9-4505-911a-a53789fdad0a",
   "metadata": {
    "tags": []
   },
   "source": [
    "### Step 10 - CCCamera_logevent_fcs_StepperMotor_LimitsConfiguration"
   ]
  },
  {
   "cell_type": "code",
   "execution_count": 25,
   "id": "a7630365-4cdb-4407-bc47-d7260c798b50",
   "metadata": {},
   "outputs": [
    {
     "name": "stdout",
     "output_type": "stream",
     "text": [
      "None\n"
     ]
    }
   ],
   "source": [
    "data = comcam.rem.cccamera.evt_fcs_StepperMotor_LimitsConfiguration.get()\n",
    "print(data)"
   ]
  },
  {
   "cell_type": "markdown",
   "id": "a79f278b-f373-4780-9233-5e91c0ec7240",
   "metadata": {
    "tags": []
   },
   "source": [
    "### Step 11 - CCCamera_logevent_fcs_StepperMotor_MotorConfiguration"
   ]
  },
  {
   "cell_type": "code",
   "execution_count": 26,
   "id": "c2da8240-874f-415c-ad9e-af5e80942c3b",
   "metadata": {},
   "outputs": [
    {
     "name": "stdout",
     "output_type": "stream",
     "text": [
      "None\n"
     ]
    }
   ],
   "source": [
    "data = comcam.rem.cccamera.evt_fcs_StepperMotor_MotorConfiguration.get()\n",
    "print(data)"
   ]
  },
  {
   "cell_type": "markdown",
   "id": "0e61fe0a-6857-4f33-9897-6758fd0b1bca",
   "metadata": {
    "tags": []
   },
   "source": [
    "### Step 12 - CCCamera_logevent_bonn_shutter_Device_DevicesConfiguration"
   ]
  },
  {
   "cell_type": "code",
   "execution_count": 27,
   "id": "3722e8fc-a4fb-4bf0-98cf-8aef5125d93b",
   "metadata": {},
   "outputs": [
    {
     "name": "stdout",
     "output_type": "stream",
     "text": [
      "None\n"
     ]
    }
   ],
   "source": [
    "data = comcam.rem.cccamera.evt_fcs_GeneralConfiguration.get()\n",
    "print(data)"
   ]
  },
  {
   "cell_type": "markdown",
   "id": "623c4e7d-6f6b-4034-b2bc-7921ee56ec36",
   "metadata": {
    "tags": []
   },
   "source": [
    "### Step 13 - CCCamera_logevent_bonn_shutter_Device_GeneralConfiguration"
   ]
  },
  {
   "cell_type": "code",
   "execution_count": 28,
   "id": "4e1b7ba1-11af-4354-a634-e1422bdc6a74",
   "metadata": {},
   "outputs": [
    {
     "name": "stdout",
     "output_type": "stream",
     "text": [
      "None\n"
     ]
    }
   ],
   "source": [
    "data = comcam.rem.cccamera.evt_bonn_shutter_Device_DevicesConfiguration.get()\n",
    "print(data)"
   ]
  },
  {
   "cell_type": "markdown",
   "id": "96966eb3-0a6c-445d-86b9-8680311c44bb",
   "metadata": {
    "tags": []
   },
   "source": [
    "### Step 14 - CCCamera_logevent_bonn_shutter_Device_LimitsConfiguration"
   ]
  },
  {
   "cell_type": "code",
   "execution_count": 29,
   "id": "b4d19441-9955-43a2-a7a8-fda3005d46b1",
   "metadata": {},
   "outputs": [
    {
     "name": "stdout",
     "output_type": "stream",
     "text": [
      "None\n"
     ]
    }
   ],
   "source": [
    "data = comcam.rem.cccamera.evt_bonn_shutter_Device_LimitsConfiguration.get()\n",
    "print(data)"
   ]
  },
  {
   "cell_type": "markdown",
   "id": "1b505225-abfc-486c-aae8-052f99317ca3",
   "metadata": {
    "tags": []
   },
   "source": [
    "### Step 15 - CCCamera_logevent_bonn_shutter_GeneralConfiguration"
   ]
  },
  {
   "cell_type": "code",
   "execution_count": 30,
   "id": "0b7c2029-b172-4ba8-a588-e98583472e67",
   "metadata": {},
   "outputs": [
    {
     "name": "stdout",
     "output_type": "stream",
     "text": [
      "None\n"
     ]
    }
   ],
   "source": [
    "data = comcam.rem.cccamera.evt_bonn_shutter_GeneralConfiguration.get()\n",
    "print(data)"
   ]
  },
  {
   "cell_type": "markdown",
   "id": "3d893ba0-4d34-44b6-9552-9bd8831a5e8e",
   "metadata": {
    "tags": []
   },
   "source": [
    "### Step 16 - CCCamera_logevent_bonn_shutter_PeriodicTasks_GeneralConfiguration"
   ]
  },
  {
   "cell_type": "code",
   "execution_count": 31,
   "id": "299b0dbf-2133-41e1-9791-c25e4e2be1de",
   "metadata": {},
   "outputs": [
    {
     "name": "stdout",
     "output_type": "stream",
     "text": [
      "None\n"
     ]
    }
   ],
   "source": [
    "data = comcam.rem.cccamera.evt_bonn_shutter_PeriodicTasks_GeneralConfiguration.get()\n",
    "print(data)"
   ]
  },
  {
   "cell_type": "markdown",
   "id": "9edce96c-9d79-464f-bb51-079a44168ce1",
   "metadata": {
    "tags": []
   },
   "source": [
    "### Step 17 - CCCamera_logevent_bonn_shutter_PeriodicTasks_timersConfiguration"
   ]
  },
  {
   "cell_type": "code",
   "execution_count": 32,
   "id": "e5703fc7-f08c-4334-b46d-888f1f4f2b5a",
   "metadata": {},
   "outputs": [
    {
     "name": "stdout",
     "output_type": "stream",
     "text": [
      "None\n"
     ]
    }
   ],
   "source": [
    "data = comcam.rem.cccamera.evt_bonn_shutter_PeriodicTasks_timersConfiguration.get()\n",
    "print(data)"
   ]
  },
  {
   "cell_type": "markdown",
   "id": "278dfe81-41b0-4ef2-93ba-b825e361db34",
   "metadata": {
    "tags": []
   },
   "source": [
    "### Step 18 - CCCamera_logevent_daq_monitor_PeriodicTasks_GeneralConfiguration"
   ]
  },
  {
   "cell_type": "code",
   "execution_count": 33,
   "id": "054da4cb-9e65-4aa2-b98d-c6bb87436867",
   "metadata": {},
   "outputs": [
    {
     "name": "stdout",
     "output_type": "stream",
     "text": [
      "private_revCode: b235fd56, private_sndStamp: 1660856128.2610133, private_rcvStamp: 1660925537.7008972, private_seqNum: 1, private_identity: CCCamera, private_origin: 77630140, version: General:DaqMonitor/defaultInitial(1), schedulers_default_nTasks: 6, schedulers_default_nThreads: 8, schedulers_monitor_update_publish_scheduler_nTasks: 2, schedulers_monitor_update_publish_scheduler_nThreads: 2\n"
     ]
    }
   ],
   "source": [
    "data = comcam.rem.cccamera.evt_daq_monitor_PeriodicTasks_GeneralConfiguration.get()\n",
    "print(data)"
   ]
  },
  {
   "cell_type": "markdown",
   "id": "4e5690b8-9787-4b8d-a935-245c9c21afec",
   "metadata": {
    "tags": []
   },
   "source": [
    "### Step 19 - CCCamera_logevent_daq_monitor_PeriodicTasks_timersConfiguration"
   ]
  },
  {
   "cell_type": "code",
   "execution_count": 34,
   "id": "d029fcae-dff8-4f8b-be3a-b302de36e295",
   "metadata": {},
   "outputs": [
    {
     "name": "stdout",
     "output_type": "stream",
     "text": [
      "private_revCode: 5976664d, private_sndStamp: 1660856128.2594376, private_rcvStamp: 1660925537.7018616, private_seqNum: 1, private_identity: CCCamera, private_origin: 77630140, version: timers:DaqMonitor/defaultInitial(5), agentmonitorservice_taskPeriodMillis: 60000, heartbeat_taskPeriodMillis: 1000, monitor_check_taskPeriodMillis: 10000, monitor_publish_taskPeriodMillis: 10000, monitor_update_taskPeriodMillis: 1000, publishstats_taskPeriodMillis: 15000, purgedaq_taskPeriodMillis: 900000, runtimeinfo_taskPeriodMillis: 60000\n"
     ]
    }
   ],
   "source": [
    "data = comcam.rem.cccamera.evt_daq_monitor_PeriodicTasks_timersConfiguration.get()\n",
    "print(data)"
   ]
  },
  {
   "cell_type": "markdown",
   "id": "de1c5666-e633-447f-91dc-91f89aedf3f8",
   "metadata": {
    "tags": []
   },
   "source": [
    "### Step 20 - CCCamera_logevent_daq_monitor_Stats_StatisticsConfiguration"
   ]
  },
  {
   "cell_type": "code",
   "execution_count": 35,
   "id": "894d34c2-700f-4c93-93b6-da28aa069ab0",
   "metadata": {},
   "outputs": [
    {
     "name": "stdout",
     "output_type": "stream",
     "text": [
      "private_revCode: 02a54fee, private_sndStamp: 1660856128.2602348, private_rcvStamp: 1660925537.702771, private_seqNum: 1, private_identity: CCCamera, private_origin: 77630140, version: Statistics:DaqMonitor/defaultInitial(5), minDiffAlertWarning: 2, minDiffLogWarning: 1, sumDriverChecks: [errors], sumDriverStats: [errors], sumFirmwareChecks: [cell_errors, link_down, link_errors, overflow_remote0, overflow_remote1, overflow_remote2, rx_errors, overflow_local0, overflow_local1, overflow_local2, tx_errors], sumFirmwareStats: [cell_errors, link_down, link_errors, overflow_remote0, overflow_remote1, overflow_remote2, rx_errors, overflow_local0, overflow_local1, overflow_local2, tx_errors], sumRdsChecks: [discards, bdi_nulls, bdi_seq_errors, bdi_overflows], sumRdsStats: [discards, no_event, bdi_nulls, bdi_seq_errors, bdi_overflows], sumRmsChecks: [unopened, in_reset, inv_tids, orphans], sumRmsStats: [unopened, in_reset, link_down, inv_tids, orphans]\n"
     ]
    }
   ],
   "source": [
    "data = comcam.rem.cccamera.evt_daq_monitor_Stats_StatisticsConfiguration.get()\n",
    "print(data)"
   ]
  },
  {
   "cell_type": "markdown",
   "id": "eeeba625-30e6-45dd-acc6-2fa97325bebd",
   "metadata": {
    "tags": []
   },
   "source": [
    "### Step 21 - CCCamera_logevent_daq_monitor_StoreConfiguration"
   ]
  },
  {
   "cell_type": "code",
   "execution_count": 36,
   "id": "258ca5ed-0ec9-47d2-b386-2e4e4aa8a1cd",
   "metadata": {},
   "outputs": [
    {
     "name": "stdout",
     "output_type": "stream",
     "text": [
      "private_revCode: 6f582825, private_sndStamp: 1660856128.2598324, private_rcvStamp: 1660925537.7035818, private_seqNum: 1, private_identity: CCCamera, private_origin: 77630140, version: Store:DaqMonitor/common(5)|DaqMonitor/comcam(1)|DaqMonitor/comcam-tucson(1), alarmPurgeFailures: 2, daqPartition: comcam\n"
     ]
    }
   ],
   "source": [
    "data = comcam.rem.cccamera.evt_daq_monitor_StoreConfiguration.get()\n",
    "print(data)"
   ]
  },
  {
   "cell_type": "markdown",
   "id": "2baa6686-8e17-4707-bcf3-714f2c1da8eb",
   "metadata": {
    "tags": []
   },
   "source": [
    "### Step 22 - CCCamera_logevent_daq_monitor_Store_DevicesConfiguration"
   ]
  },
  {
   "cell_type": "code",
   "execution_count": 37,
   "id": "3ee1ada8-5554-4f87-af13-03224d6ba6be",
   "metadata": {},
   "outputs": [
    {
     "name": "stdout",
     "output_type": "stream",
     "text": [
      "private_revCode: 30b9baa9, private_sndStamp: 1660856128.261724, private_rcvStamp: 1660925537.704369, private_seqNum: 1, private_identity: CCCamera, private_origin: 77630140, version: Devices:DaqMonitor/defaultInitial(5), disabled: False\n"
     ]
    }
   ],
   "source": [
    "data = comcam.rem.cccamera.evt_daq_monitor_Store_DevicesConfiguration.get()\n",
    "print(data)"
   ]
  },
  {
   "cell_type": "markdown",
   "id": "fce44e38-8467-40e2-b694-cc9087263816",
   "metadata": {
    "tags": []
   },
   "source": [
    "### Step 23 - CCCamera_logevent_daq_monitor_Store_LimitsConfiguration"
   ]
  },
  {
   "cell_type": "code",
   "execution_count": 38,
   "id": "15f51598-72ee-4bb2-8a4b-24d0117ec98a",
   "metadata": {},
   "outputs": [
    {
     "name": "stdout",
     "output_type": "stream",
     "text": [
      "private_revCode: fe646d75, private_sndStamp: 1660856128.2613888, private_rcvStamp: 1660925537.705301, private_seqNum: 1, private_identity: CCCamera, private_origin: 77630140, version: Limits:DaqMonitor/defaultInitial(7), capacity_warnHi: 0.0, capacity_warnLo: 0.0, capacity_limitHi: 0.0, capacity_limitLo: 0.0, freefraction_warnHi: 0.0, freefraction_warnLo: 0.15000000596046448, freefraction_limitHi: 0.0, freefraction_limitLo: 0.05000000074505806, freespace_warnHi: 0.0, freespace_warnLo: 0.0, freespace_limitHi: 0.0, freespace_limitLo: 0.0\n"
     ]
    }
   ],
   "source": [
    "data = comcam.rem.cccamera.evt_daq_monitor_Store_LimitsConfiguration.get()\n",
    "print(data)"
   ]
  },
  {
   "cell_type": "markdown",
   "id": "7ee156d7-45f7-4d5f-ab64-b1abb6b135c1",
   "metadata": {
    "tags": []
   },
   "source": [
    "### Step 24 - CCCamera_logevent_daq_monitor_Store_StoreConfiguration"
   ]
  },
  {
   "cell_type": "code",
   "execution_count": 39,
   "id": "3839ab96-6f14-4735-8def-53a5f360d12a",
   "metadata": {},
   "outputs": [
    {
     "name": "stdout",
     "output_type": "stream",
     "text": [
      "private_revCode: 96ef8831, private_sndStamp: 1660856128.2606788, private_rcvStamp: 1660925537.7061079, private_seqNum: 1, private_identity: CCCamera, private_origin: 77630140, version: Store:DaqMonitor/common(5)|DaqMonitor/comcam(1)|DaqMonitor/comcam-tucson(1), daqFolder: raw, enableAutoPurge: True, purgeTarget: 0.699999988079071, purgeThreshold: 0.800000011920929\n"
     ]
    }
   ],
   "source": [
    "data = comcam.rem.cccamera.evt_daq_monitor_Store_StoreConfiguration.get()\n",
    "print(data)"
   ]
  },
  {
   "cell_type": "markdown",
   "id": "fad3da6c-2a00-4a86-8ccb-69291daf67b8",
   "metadata": {
    "tags": []
   },
   "source": [
    "### Step 25 - CCCamera_logevent_rebpower_EmergencyResponseManager_GeneralConfiguration"
   ]
  },
  {
   "cell_type": "code",
   "execution_count": 40,
   "id": "65f5b612-c3bd-4332-9d76-3bc8a487ac4e",
   "metadata": {},
   "outputs": [
    {
     "name": "stdout",
     "output_type": "stream",
     "text": [
      "None\n"
     ]
    }
   ],
   "source": [
    "data = comcam.rem.cccamera.evt_rebpower_EmergencyResponseManager_GeneralConfiguration.get()\n",
    "print(data)"
   ]
  },
  {
   "cell_type": "markdown",
   "id": "37c0d4e0-ba46-4599-81c3-3a357d0c0b1f",
   "metadata": {
    "tags": []
   },
   "source": [
    "### Step 26 - CCCamera_logevent_rebpower_GeneralConfiguration"
   ]
  },
  {
   "cell_type": "code",
   "execution_count": 41,
   "id": "2b7c4854-c2e6-4dcc-9a62-527680e8f324",
   "metadata": {},
   "outputs": [
    {
     "name": "stdout",
     "output_type": "stream",
     "text": [
      "None\n"
     ]
    }
   ],
   "source": [
    "data = comcam.rem.cccamera.evt_rebpower_GeneralConfiguration.get()\n",
    "print(data)"
   ]
  },
  {
   "cell_type": "markdown",
   "id": "1e4c9457-aa84-437a-ad66-5a4a5f9dff6b",
   "metadata": {
    "tags": []
   },
   "source": [
    "### Step 27 - CCCamera_logevent_rebpower_PeriodicTasks_GeneralConfiguration"
   ]
  },
  {
   "cell_type": "code",
   "execution_count": 42,
   "id": "6bd7062f-023c-4bc0-b53d-6e4bad56a95b",
   "metadata": {},
   "outputs": [
    {
     "name": "stdout",
     "output_type": "stream",
     "text": [
      "None\n"
     ]
    }
   ],
   "source": [
    "data = comcam.rem.cccamera.evt_rebpower_PeriodicTasks_GeneralConfiguration.get()\n",
    "print(data)"
   ]
  },
  {
   "cell_type": "markdown",
   "id": "95e781db-4247-4059-9df9-fccfe8ba3374",
   "metadata": {
    "tags": []
   },
   "source": [
    "### Step 28 - CCCamera_logevent_rebpower_PeriodicTasks_timersConfiguration"
   ]
  },
  {
   "cell_type": "code",
   "execution_count": 43,
   "id": "66eef598-67ff-4574-9e3c-9e16857c42a0",
   "metadata": {},
   "outputs": [
    {
     "name": "stdout",
     "output_type": "stream",
     "text": [
      "None\n"
     ]
    }
   ],
   "source": [
    "data = comcam.rem.cccamera.evt_rebpower_PeriodicTasks_timersConfiguration.get()\n",
    "print(data)"
   ]
  },
  {
   "cell_type": "markdown",
   "id": "b8f215b3-16fd-41d4-b062-fb57e81d1d5d",
   "metadata": {
    "tags": []
   },
   "source": [
    "### Step 29 - CCCamera_logevent_rebpower_Reb_GeneralConfiguration"
   ]
  },
  {
   "cell_type": "code",
   "execution_count": 44,
   "id": "fb3ffbf8-c3fd-4e4a-817c-bb1b6d6f8668",
   "metadata": {},
   "outputs": [
    {
     "name": "stdout",
     "output_type": "stream",
     "text": [
      "None\n"
     ]
    }
   ],
   "source": [
    "data = comcam.rem.cccamera.evt_rebpower_Reb_GeneralConfiguration.get()\n",
    "print(data)"
   ]
  },
  {
   "cell_type": "markdown",
   "id": "92c3fb3f-3d0b-48ad-8872-1f4f05bc5d7f",
   "metadata": {
    "tags": []
   },
   "source": [
    "### Step 30 - CCCamera_logevent_rebpower_Reb_LimitsConfiguration"
   ]
  },
  {
   "cell_type": "code",
   "execution_count": 45,
   "id": "839ba079-f6b5-4204-94cd-d82c492fabfc",
   "metadata": {},
   "outputs": [
    {
     "name": "stdout",
     "output_type": "stream",
     "text": [
      "None\n"
     ]
    }
   ],
   "source": [
    "data = comcam.rem.cccamera.evt_rebpower_Reb_LimitsConfiguration.get()\n",
    "print(data)"
   ]
  },
  {
   "cell_type": "markdown",
   "id": "98ba17e6-eac1-45e7-8b63-590a5858b88a",
   "metadata": {
    "tags": []
   },
   "source": [
    "### Step 31 - CCCamera_logevent_rebpower_Rebps_DevicesConfiguration"
   ]
  },
  {
   "cell_type": "code",
   "execution_count": 46,
   "id": "85ce5f18-f00a-4b51-ad33-d1f8d224a47c",
   "metadata": {},
   "outputs": [
    {
     "name": "stdout",
     "output_type": "stream",
     "text": [
      "None\n"
     ]
    }
   ],
   "source": [
    "data = comcam.rem.cccamera.evt_rebpower_Rebps_DevicesConfiguration.get()\n",
    "print(data)"
   ]
  },
  {
   "cell_type": "markdown",
   "id": "47978edb-9aff-48bc-8a64-34cc6d08aab6",
   "metadata": {
    "tags": []
   },
   "source": [
    "### Step 32 - CCCamera_logevent_rebpower_Rebps_GeneralConfiguration"
   ]
  },
  {
   "cell_type": "code",
   "execution_count": 47,
   "id": "e39f882e-4a6e-4946-a557-83b1c32dedf5",
   "metadata": {},
   "outputs": [
    {
     "name": "stdout",
     "output_type": "stream",
     "text": [
      "None\n"
     ]
    }
   ],
   "source": [
    "data = comcam.rem.cccamera.evt_rebpower_Rebps_GeneralConfiguration.get()\n",
    "print(data)"
   ]
  },
  {
   "cell_type": "markdown",
   "id": "7adb0758-540b-4bdd-b162-50346407d631",
   "metadata": {
    "tags": []
   },
   "source": [
    "### Step 33 - CCCamera_logevent_rebpower_Rebps_LimitsConfiguration"
   ]
  },
  {
   "cell_type": "code",
   "execution_count": 48,
   "id": "e9d11ad5-f86a-4fa2-84ea-afbe7b22ec39",
   "metadata": {},
   "outputs": [
    {
     "name": "stdout",
     "output_type": "stream",
     "text": [
      "None\n"
     ]
    }
   ],
   "source": [
    "data = comcam.rem.cccamera.evt_rebpower_Rebps_LimitsConfiguration.get()\n",
    "print(data)"
   ]
  },
  {
   "cell_type": "markdown",
   "id": "80fe52d6-9770-47ae-827a-3603cde30009",
   "metadata": {
    "tags": []
   },
   "source": [
    "### Step 34 - CCCamera_logevent_rebpower_Rebps_PowerConfiguration"
   ]
  },
  {
   "cell_type": "code",
   "execution_count": 49,
   "id": "f06c0dfc-b2e0-41e3-9f7e-c9454995349e",
   "metadata": {},
   "outputs": [
    {
     "name": "stdout",
     "output_type": "stream",
     "text": [
      "None\n"
     ]
    }
   ],
   "source": [
    "data = comcam.rem.cccamera.evt_rebpower_Rebps_PowerConfiguration.get()\n",
    "print(data)"
   ]
  },
  {
   "cell_type": "markdown",
   "id": "2fc08f77-9188-441b-89c7-231d99c61226",
   "metadata": {
    "tags": []
   },
   "source": [
    "### Step 35 - CCCamera_logevent_rebpower_Rebps_buildConfiguration"
   ]
  },
  {
   "cell_type": "code",
   "execution_count": 50,
   "id": "5ebbf41c-4364-4aec-947a-16fa96a9e9bd",
   "metadata": {},
   "outputs": [
    {
     "name": "stdout",
     "output_type": "stream",
     "text": [
      "None\n"
     ]
    }
   ],
   "source": [
    "data = comcam.rem.cccamera.evt_rebpower_Rebps_buildConfiguration.get()\n",
    "print(data)"
   ]
  },
  {
   "cell_type": "markdown",
   "id": "3fbd6a4d-5cce-45d9-a7b5-89604ddcd738",
   "metadata": {
    "tags": []
   },
   "source": [
    "### Step 36 - CCCamera_logevent_vacuum_Cold1_CryoconConfiguration"
   ]
  },
  {
   "cell_type": "code",
   "execution_count": 51,
   "id": "59f1abea-6bb4-4882-9c05-1e1828847e2a",
   "metadata": {},
   "outputs": [
    {
     "name": "stdout",
     "output_type": "stream",
     "text": [
      "None\n"
     ]
    }
   ],
   "source": [
    "data = comcam.rem.cccamera.evt_vacuum_Cold1_CryoconConfiguration.get()\n",
    "print(data)"
   ]
  },
  {
   "cell_type": "markdown",
   "id": "ab081593-bc3b-4b81-8320-d48447462077",
   "metadata": {
    "tags": []
   },
   "source": [
    "### Step 37 - CCCamera_logevent_vacuum_Cold1_DevicesConfiguration"
   ]
  },
  {
   "cell_type": "code",
   "execution_count": 52,
   "id": "6d9f3b92-7055-484c-827f-e1afc8888372",
   "metadata": {},
   "outputs": [
    {
     "name": "stdout",
     "output_type": "stream",
     "text": [
      "None\n"
     ]
    }
   ],
   "source": [
    "data = comcam.rem.cccamera.evt_vacuum_Cold1_DevicesConfiguration.get()\n",
    "print(data)"
   ]
  },
  {
   "cell_type": "markdown",
   "id": "7e8fddae-5bb0-4265-9332-a1b92d9a7117",
   "metadata": {
    "tags": []
   },
   "source": [
    "### Step 38 - CCCamera_logevent_vacuum_Cold1_LimitsConfiguration"
   ]
  },
  {
   "cell_type": "code",
   "execution_count": 53,
   "id": "f4ee1c6c-3542-4ae3-9155-78c3c3c1faab",
   "metadata": {},
   "outputs": [
    {
     "name": "stdout",
     "output_type": "stream",
     "text": [
      "None\n"
     ]
    }
   ],
   "source": [
    "data = comcam.rem.cccamera.evt_vacuum_Cold1_LimitsConfiguration.get()\n",
    "print(data)"
   ]
  },
  {
   "cell_type": "markdown",
   "id": "c06d5bd8-82ae-4598-9b9f-333db7ac77ce",
   "metadata": {
    "tags": []
   },
   "source": [
    "### Step 39 - CCCamera_logevent_vacuum_Cold2_CryoconConfiguration"
   ]
  },
  {
   "cell_type": "code",
   "execution_count": 54,
   "id": "2958eaba-4ee9-4305-947c-bfc9b7cb7b70",
   "metadata": {},
   "outputs": [
    {
     "name": "stdout",
     "output_type": "stream",
     "text": [
      "None\n"
     ]
    }
   ],
   "source": [
    "data = comcam.rem.cccamera.evt_vacuum_Cold2_CryoconConfiguration.get()\n",
    "print(data)"
   ]
  },
  {
   "cell_type": "markdown",
   "id": "9ddd2206-b9a0-4ee3-9d5a-638e0b7c488a",
   "metadata": {
    "tags": []
   },
   "source": [
    "### Step 40 - CCCamera_logevent_vacuum_Cold2_DevicesConfiguration"
   ]
  },
  {
   "cell_type": "code",
   "execution_count": 55,
   "id": "b8ae2c23-a210-4fbb-be01-4aac6d73e250",
   "metadata": {},
   "outputs": [
    {
     "name": "stdout",
     "output_type": "stream",
     "text": [
      "None\n"
     ]
    }
   ],
   "source": [
    "data = comcam.rem.cccamera.evt_vacuum_Cold2_DevicesConfiguration.get()\n",
    "print(data)"
   ]
  },
  {
   "cell_type": "markdown",
   "id": "b8a44ee3-e585-493c-ac42-fb043929e3b7",
   "metadata": {
    "tags": []
   },
   "source": [
    "### Step 41 - CCCamera_logevent_vacuum_Cold2_LimitsConfiguration"
   ]
  },
  {
   "cell_type": "code",
   "execution_count": 56,
   "id": "6ecb8271-0b2d-48bf-b581-c6976e64bd3e",
   "metadata": {},
   "outputs": [
    {
     "name": "stdout",
     "output_type": "stream",
     "text": [
      "None\n"
     ]
    }
   ],
   "source": [
    "data = comcam.rem.cccamera.evt_vacuum_Cold2_LimitsConfiguration.get()\n",
    "print(data)"
   ]
  },
  {
   "cell_type": "markdown",
   "id": "1181f6d2-bc15-4b4c-9859-b7b8f8f2008b",
   "metadata": {
    "tags": []
   },
   "source": [
    "### Step 42 - CCCamera_logevent_vacuum_Cryo_CryoconConfiguration"
   ]
  },
  {
   "cell_type": "code",
   "execution_count": 57,
   "id": "5d32b29c-6f96-4489-b640-c97f25883112",
   "metadata": {},
   "outputs": [
    {
     "name": "stdout",
     "output_type": "stream",
     "text": [
      "None\n"
     ]
    }
   ],
   "source": [
    "data = comcam.rem.cccamera.evt_vacuum_Cryo_CryoconConfiguration.get()\n",
    "print(data)"
   ]
  },
  {
   "cell_type": "markdown",
   "id": "79bc52a7-b7ac-4709-8881-7cb7316b4cd7",
   "metadata": {
    "tags": []
   },
   "source": [
    "### Step 43 - CCCamera_logevent_vacuum_Cryo_DevicesConfiguration"
   ]
  },
  {
   "cell_type": "code",
   "execution_count": 58,
   "id": "1702fc95-51f3-47cf-825f-243fa602f204",
   "metadata": {},
   "outputs": [
    {
     "name": "stdout",
     "output_type": "stream",
     "text": [
      "None\n"
     ]
    }
   ],
   "source": [
    "data = comcam.rem.cccamera.evt_vacuum_Cryo_DevicesConfiguration.get()\n",
    "print(data)"
   ]
  },
  {
   "cell_type": "markdown",
   "id": "9f6b5546-3565-4d8b-82f0-a843473ca86b",
   "metadata": {
    "tags": []
   },
   "source": [
    "### Step 44 - CCCamera_logevent_vacuum_Cryo_LimitsConfiguration"
   ]
  },
  {
   "cell_type": "code",
   "execution_count": 59,
   "id": "c1a14366-1cea-4dcb-9fcf-15da6ba0e663",
   "metadata": {},
   "outputs": [
    {
     "name": "stdout",
     "output_type": "stream",
     "text": [
      "None\n"
     ]
    }
   ],
   "source": [
    "data = comcam.rem.cccamera.evt_vacuum_Cryo_LimitsConfiguration.get()\n",
    "print(data)"
   ]
  },
  {
   "cell_type": "markdown",
   "id": "61e3e7fc-5ea0-46af-b3c0-7672f880f5ca",
   "metadata": {
    "tags": []
   },
   "source": [
    "### Step 45 - CCCamera_logevent_vacuum_IonPumps_CryoConfiguration"
   ]
  },
  {
   "cell_type": "code",
   "execution_count": 60,
   "id": "7f4a31c0-a03c-43fe-86c1-0bd23f9eb0ab",
   "metadata": {},
   "outputs": [
    {
     "name": "stdout",
     "output_type": "stream",
     "text": [
      "None\n"
     ]
    }
   ],
   "source": [
    "data = comcam.rem.cccamera.evt_vacuum_IonPumps_CryoConfiguration.get()\n",
    "print(data)"
   ]
  },
  {
   "cell_type": "markdown",
   "id": "4a2f5119-08fa-4e3b-8fff-a87fb9060eb0",
   "metadata": {
    "tags": []
   },
   "source": [
    "### Step 46 - CCCamera_logevent_vacuum_IonPumps_DevicesConfiguration"
   ]
  },
  {
   "cell_type": "code",
   "execution_count": 61,
   "id": "379b8340-a425-49b8-b451-26ef85a999f1",
   "metadata": {},
   "outputs": [
    {
     "name": "stdout",
     "output_type": "stream",
     "text": [
      "None\n"
     ]
    }
   ],
   "source": [
    "data = comcam.rem.cccamera.evt_vacuum_IonPumps_DevicesConfiguration.get()\n",
    "print(data)"
   ]
  },
  {
   "cell_type": "markdown",
   "id": "193ad62f-6c9d-4e84-8a00-b99e02ed6764",
   "metadata": {
    "tags": []
   },
   "source": [
    "### Step 47 - CCCamera_logevent_vacuum_IonPumps_LimitsConfiguration"
   ]
  },
  {
   "cell_type": "code",
   "execution_count": 62,
   "id": "135d04ca-a81f-4675-ba4d-44df04d162a6",
   "metadata": {},
   "outputs": [
    {
     "name": "stdout",
     "output_type": "stream",
     "text": [
      "None\n"
     ]
    }
   ],
   "source": [
    "data = comcam.rem.cccamera.evt_vacuum_IonPumps_LimitsConfiguration.get()\n",
    "print(data)"
   ]
  },
  {
   "cell_type": "markdown",
   "id": "623b6527-a03f-47b1-b678-71c92f2d4b32",
   "metadata": {
    "tags": []
   },
   "source": [
    "### Step 48 - CCCamera_logevent_vacuum_PeriodicTasks_GeneralConfiguration"
   ]
  },
  {
   "cell_type": "code",
   "execution_count": 63,
   "id": "f243d7c1-3812-4735-ae65-73164571eea4",
   "metadata": {},
   "outputs": [
    {
     "name": "stdout",
     "output_type": "stream",
     "text": [
      "None\n"
     ]
    }
   ],
   "source": [
    "data = comcam.rem.cccamera.evt_vacuum_PeriodicTasks_GeneralConfiguration.get()\n",
    "print(data)"
   ]
  },
  {
   "cell_type": "markdown",
   "id": "c57e6490-dce6-4b76-907c-5244effdb519",
   "metadata": {
    "tags": []
   },
   "source": [
    "### Step 49 - CCCamera_logevent_vacuum_PeriodicTasks_timersConfiguration"
   ]
  },
  {
   "cell_type": "code",
   "execution_count": 64,
   "id": "fb495147-3c79-4ae5-8755-330ca5a55849",
   "metadata": {},
   "outputs": [
    {
     "name": "stdout",
     "output_type": "stream",
     "text": [
      "None\n"
     ]
    }
   ],
   "source": [
    "data = comcam.rem.cccamera.evt_vacuum_PeriodicTasks_timersConfiguration.get()\n",
    "print(data)"
   ]
  },
  {
   "cell_type": "markdown",
   "id": "552b3e4d-bf59-4f94-84f3-f07e5ca88ed3",
   "metadata": {
    "tags": []
   },
   "source": [
    "### Step 50 - CCCamera_logevent_vacuum_Rtds_DeviceConfiguration"
   ]
  },
  {
   "cell_type": "code",
   "execution_count": 65,
   "id": "831e0345-e8be-4df2-9d3a-000117b2bb53",
   "metadata": {},
   "outputs": [
    {
     "name": "stdout",
     "output_type": "stream",
     "text": [
      "None\n"
     ]
    }
   ],
   "source": [
    "data = comcam.rem.cccamera.evt_vacuum_Rtds_DeviceConfiguration.get()\n",
    "print(data)"
   ]
  },
  {
   "cell_type": "markdown",
   "id": "7c15a3dd-4af6-4914-80cc-6a5c5e8ec786",
   "metadata": {
    "tags": []
   },
   "source": [
    "### Step 51 - CCCamera_logevent_vacuum_Rtds_DevicesConfiguration"
   ]
  },
  {
   "cell_type": "code",
   "execution_count": 66,
   "id": "5db222aa-604d-4608-8e74-1f8197182e61",
   "metadata": {},
   "outputs": [
    {
     "name": "stdout",
     "output_type": "stream",
     "text": [
      "None\n"
     ]
    }
   ],
   "source": [
    "data = comcam.rem.cccamera.evt_vacuum_Rtds_DevicesConfiguration.get()\n",
    "print(data)"
   ]
  },
  {
   "cell_type": "markdown",
   "id": "efd415a6-e1ec-4e85-9893-ca06d6f6a190",
   "metadata": {
    "tags": []
   },
   "source": [
    "### Step 52 - CCCamera_logevent_vacuum_Rtds_LimitsConfiguration"
   ]
  },
  {
   "cell_type": "code",
   "execution_count": 67,
   "id": "b387cbde-7810-4520-84a0-1d22be5432d2",
   "metadata": {},
   "outputs": [
    {
     "name": "stdout",
     "output_type": "stream",
     "text": [
      "None\n"
     ]
    }
   ],
   "source": [
    "data = comcam.rem.cccamera.evt_vacuum_Rtds_LimitsConfiguration.get()\n",
    "print(data)"
   ]
  },
  {
   "cell_type": "markdown",
   "id": "cfd6105b-8f90-47ec-88ec-fbd72d6f974f",
   "metadata": {
    "tags": []
   },
   "source": [
    "### Step 53 - CCCamera_logevent_vacuum_Turbo_DevicesConfiguration"
   ]
  },
  {
   "cell_type": "code",
   "execution_count": 68,
   "id": "60ef3ce8-3ba0-4288-8eda-a9a9916d9372",
   "metadata": {},
   "outputs": [
    {
     "name": "stdout",
     "output_type": "stream",
     "text": [
      "None\n"
     ]
    }
   ],
   "source": [
    "data = comcam.rem.cccamera.evt_vacuum_Turbo_DevicesConfiguration.get()\n",
    "print(data)"
   ]
  },
  {
   "cell_type": "markdown",
   "id": "0b2b9f71-138b-40eb-ad55-32d6ccbad6d0",
   "metadata": {
    "tags": []
   },
   "source": [
    "### Step 54 - CCCamera_logevent_vacuum_Turbo_GeneralConfiguration"
   ]
  },
  {
   "cell_type": "code",
   "execution_count": 69,
   "id": "a010fd01-dac4-4ccc-941e-1fb7aed5a509",
   "metadata": {},
   "outputs": [
    {
     "name": "stdout",
     "output_type": "stream",
     "text": [
      "None\n"
     ]
    }
   ],
   "source": [
    "data = comcam.rem.cccamera.evt_vacuum_Turbo_GeneralConfiguration.get()\n",
    "print(data)"
   ]
  },
  {
   "cell_type": "markdown",
   "id": "924eb79a-1965-44cc-beb0-8dd99a027dbf",
   "metadata": {
    "tags": []
   },
   "source": [
    "### Step 55 - CCCamera_logevent_vacuum_Turbo_LimitsConfiguration"
   ]
  },
  {
   "cell_type": "code",
   "execution_count": 70,
   "id": "1cac9887-adda-4bb3-b00d-d89a99b566c0",
   "metadata": {},
   "outputs": [
    {
     "name": "stdout",
     "output_type": "stream",
     "text": [
      "None\n"
     ]
    }
   ],
   "source": [
    "data = comcam.rem.cccamera.evt_vacuum_Turbo_LimitsConfiguration.get()\n",
    "print(data)"
   ]
  },
  {
   "cell_type": "markdown",
   "id": "7a420a92-895c-40c6-88c4-eea6d78d5e19",
   "metadata": {
    "tags": []
   },
   "source": [
    "### Step 56 - CCCamera_logevent_vacuum_VQMonitor_CryoConfiguration"
   ]
  },
  {
   "cell_type": "code",
   "execution_count": 71,
   "id": "a4a0818a-557d-4c26-9142-6d2a6d3c10ae",
   "metadata": {},
   "outputs": [
    {
     "name": "stdout",
     "output_type": "stream",
     "text": [
      "None\n"
     ]
    }
   ],
   "source": [
    "data = comcam.rem.cccamera.evt_vacuum_VQMonitor_CryoConfiguration.get()\n",
    "print(data)"
   ]
  },
  {
   "cell_type": "markdown",
   "id": "ba13903f-2061-49ca-95c8-7996507f2224",
   "metadata": {
    "tags": []
   },
   "source": [
    "### Step 57 - CCCamera_logevent_vacuum_VQMonitor_DevicesConfiguration"
   ]
  },
  {
   "cell_type": "code",
   "execution_count": 72,
   "id": "d02cda52-0e2a-43a0-ab5b-618a45a4d3cb",
   "metadata": {},
   "outputs": [
    {
     "name": "stdout",
     "output_type": "stream",
     "text": [
      "None\n"
     ]
    }
   ],
   "source": [
    "data = comcam.rem.cccamera.evt_vacuum_VQMonitor_DevicesConfiguration.get()\n",
    "print(data)"
   ]
  },
  {
   "cell_type": "markdown",
   "id": "9fcf2253-d9f4-42d3-8342-2a51f4adb79e",
   "metadata": {
    "tags": []
   },
   "source": [
    "### Step 58 - CCCamera_logevent_vacuum_VQMonitor_LimitsConfiguration"
   ]
  },
  {
   "cell_type": "code",
   "execution_count": 73,
   "id": "894a9a6f-c31b-4d22-918a-5acaecbcf90b",
   "metadata": {},
   "outputs": [
    {
     "name": "stdout",
     "output_type": "stream",
     "text": [
      "None\n"
     ]
    }
   ],
   "source": [
    "data = comcam.rem.cccamera.evt_vacuum_VQMonitor_LimitsConfiguration.get()\n",
    "print(data)"
   ]
  },
  {
   "cell_type": "markdown",
   "id": "2f31c350-e1cd-47dd-9105-cbc1ade9e6d6",
   "metadata": {
    "tags": []
   },
   "source": [
    "### Step 59 - CCCamera_logevent_vacuum_VacPluto_DeviceConfiguration"
   ]
  },
  {
   "cell_type": "code",
   "execution_count": 74,
   "id": "3004599e-e3e1-48f6-bfab-e23f5f98649b",
   "metadata": {},
   "outputs": [
    {
     "name": "stdout",
     "output_type": "stream",
     "text": [
      "None\n"
     ]
    }
   ],
   "source": [
    "data = comcam.rem.cccamera.evt_vacuum_VacPluto_DeviceConfiguration.get()\n",
    "print(data)"
   ]
  },
  {
   "cell_type": "markdown",
   "id": "8f7cdd4c-3c39-4f99-b68e-77638d0dc415",
   "metadata": {
    "tags": []
   },
   "source": [
    "### Step 60 - CCCamera_logevent_vacuum_VacPluto_DevicesConfiguration"
   ]
  },
  {
   "cell_type": "code",
   "execution_count": 75,
   "id": "9e99dc5c-dc2f-42cf-a0fb-502579aeb6cf",
   "metadata": {},
   "outputs": [
    {
     "name": "stdout",
     "output_type": "stream",
     "text": [
      "None\n"
     ]
    }
   ],
   "source": [
    "data = comcam.rem.cccamera.evt_vacuum_VacPluto_DevicesConfiguration.get()\n",
    "print(data)"
   ]
  },
  {
   "cell_type": "markdown",
   "id": "9fbe84c0-2ee7-4c28-b6f9-7278d9712cd4",
   "metadata": {
    "tags": []
   },
   "source": [
    "### Step 61 - CCCamera_logevent_vacuum_VacuumConfiguration"
   ]
  },
  {
   "cell_type": "code",
   "execution_count": 76,
   "id": "ac23fd39-60f1-4a58-bb6a-54b1a264da42",
   "metadata": {},
   "outputs": [
    {
     "name": "stdout",
     "output_type": "stream",
     "text": [
      "None\n"
     ]
    }
   ],
   "source": [
    "data = comcam.rem.cccamera.evt_vacuum_VacuumConfiguration.get()\n",
    "print(data)"
   ]
  },
  {
   "cell_type": "markdown",
   "id": "7cfc516e-7649-4f69-b7a1-c738355fc472",
   "metadata": {
    "tags": []
   },
   "source": [
    "### Step 62 - CCCamera_logevent_quadbox_BFR_DevicesConfiguration"
   ]
  },
  {
   "cell_type": "code",
   "execution_count": 77,
   "id": "7e8493e8-f0e7-4f06-932d-3801e5cf42fb",
   "metadata": {},
   "outputs": [
    {
     "name": "stdout",
     "output_type": "stream",
     "text": [
      "None\n"
     ]
    }
   ],
   "source": [
    "data = comcam.rem.cccamera.evt_quadbox_BFR_DevicesConfiguration.get()\n",
    "print(data)"
   ]
  },
  {
   "cell_type": "markdown",
   "id": "c9bdd95e-0db3-43ba-b81f-7b7d3b7c6f5c",
   "metadata": {
    "tags": []
   },
   "source": [
    "### Step 63 - CCCamera_logevent_quadbox_BFR_LimitsConfiguration"
   ]
  },
  {
   "cell_type": "code",
   "execution_count": 78,
   "id": "25c2d5f0-a09f-4217-bb48-d0d4f1d4f127",
   "metadata": {},
   "outputs": [
    {
     "name": "stdout",
     "output_type": "stream",
     "text": [
      "None\n"
     ]
    }
   ],
   "source": [
    "data = comcam.rem.cccamera.evt_quadbox_BFR_LimitsConfiguration.get()\n",
    "print(data)"
   ]
  },
  {
   "cell_type": "markdown",
   "id": "9060f44c-2f04-490a-b977-bb0f46d2db68",
   "metadata": {
    "tags": []
   },
   "source": [
    "### Step 64 - CCCamera_logevent_quadbox_BFR_QuadboxConfiguration"
   ]
  },
  {
   "cell_type": "code",
   "execution_count": 79,
   "id": "29a54ca3-688b-494a-b341-b533c3b9cc53",
   "metadata": {},
   "outputs": [
    {
     "name": "stdout",
     "output_type": "stream",
     "text": [
      "None\n"
     ]
    }
   ],
   "source": [
    "data = comcam.rem.cccamera.evt_quadbox_BFR_QuadboxConfiguration.get()\n",
    "print(data)"
   ]
  },
  {
   "cell_type": "markdown",
   "id": "c3ecb583-d466-490a-b495-4a864e9a2380",
   "metadata": {
    "tags": []
   },
   "source": [
    "### Step 65 - CCCamera_logevent_quadbox_PDU_24VC_DevicesConfiguration"
   ]
  },
  {
   "cell_type": "code",
   "execution_count": 80,
   "id": "3a3e2259-0dbb-45d4-baa5-b708d764c83c",
   "metadata": {},
   "outputs": [
    {
     "name": "stdout",
     "output_type": "stream",
     "text": [
      "None\n"
     ]
    }
   ],
   "source": [
    "data = comcam.rem.cccamera.evt_quadbox_PDU_24VC_DevicesConfiguration.get()\n",
    "print(data)"
   ]
  },
  {
   "cell_type": "markdown",
   "id": "0367c767-ea8a-4ca9-a442-460aed0c2137",
   "metadata": {
    "tags": []
   },
   "source": [
    "### Step 66 - CCCamera_logevent_quadbox_PDU_24VC_LimitsConfiguration"
   ]
  },
  {
   "cell_type": "code",
   "execution_count": 81,
   "id": "5f2985e8-bd9e-4d38-b80e-f4108570f6b3",
   "metadata": {},
   "outputs": [
    {
     "name": "stdout",
     "output_type": "stream",
     "text": [
      "None\n"
     ]
    }
   ],
   "source": [
    "data = comcam.rem.cccamera.evt_quadbox_PDU_24VC_LimitsConfiguration.get()\n",
    "print(data)"
   ]
  },
  {
   "cell_type": "markdown",
   "id": "1288586f-aa39-43bd-9e0b-17df1a8084b2",
   "metadata": {
    "tags": []
   },
   "source": [
    "### Step 67 - CCCamera_logevent_quadbox_PDU_24VC_QuadboxConfiguration"
   ]
  },
  {
   "cell_type": "code",
   "execution_count": 82,
   "id": "203d1452-91e1-4f7d-9fe1-7ca70afea91e",
   "metadata": {},
   "outputs": [
    {
     "name": "stdout",
     "output_type": "stream",
     "text": [
      "None\n"
     ]
    }
   ],
   "source": [
    "data = comcam.rem.cccamera.evt_quadbox_PDU_24VC_QuadboxConfiguration.get()\n",
    "print(data)"
   ]
  },
  {
   "cell_type": "markdown",
   "id": "47e6ea8c-f4da-4fa3-8ecc-1c6647ee7910",
   "metadata": {
    "tags": []
   },
   "source": [
    "### Step 68 - CCCamera_logevent_quadbox_PDU_24VD_DevicesConfiguration"
   ]
  },
  {
   "cell_type": "code",
   "execution_count": 83,
   "id": "e5e0e5e4-749a-44b4-959b-218d11c57f55",
   "metadata": {},
   "outputs": [
    {
     "name": "stdout",
     "output_type": "stream",
     "text": [
      "None\n"
     ]
    }
   ],
   "source": [
    "data = comcam.rem.cccamera.evt_quadbox_PDU_24VD_DevicesConfiguration.get()\n",
    "print(data)"
   ]
  },
  {
   "cell_type": "markdown",
   "id": "abc49656-66f9-4840-857d-b3540c673f49",
   "metadata": {
    "tags": []
   },
   "source": [
    "### Step 69 - CCCamera_logevent_quadbox_PDU_24VD_LimitsConfiguration"
   ]
  },
  {
   "cell_type": "code",
   "execution_count": 84,
   "id": "6face838-63ad-4e0e-b809-7083cd149de0",
   "metadata": {},
   "outputs": [
    {
     "name": "stdout",
     "output_type": "stream",
     "text": [
      "None\n"
     ]
    }
   ],
   "source": [
    "data = comcam.rem.cccamera.evt_quadbox_PDU_24VD_LimitsConfiguration.get()\n",
    "print(data)"
   ]
  },
  {
   "cell_type": "markdown",
   "id": "a235c06d-f516-4e4a-a4e0-240493a938fb",
   "metadata": {
    "tags": []
   },
   "source": [
    "### Step 70 - CCCamera_logevent_quadbox_PDU_24VD_QuadboxConfiguration"
   ]
  },
  {
   "cell_type": "code",
   "execution_count": 85,
   "id": "1e55ff7b-70fd-438f-82c2-c17e760552cf",
   "metadata": {},
   "outputs": [
    {
     "name": "stdout",
     "output_type": "stream",
     "text": [
      "None\n"
     ]
    }
   ],
   "source": [
    "data = comcam.rem.cccamera.evt_quadbox_PDU_24VD_QuadboxConfiguration.get()\n",
    "print(data)"
   ]
  },
  {
   "cell_type": "markdown",
   "id": "cdeb24bd-c073-48a6-b23c-628249f0000e",
   "metadata": {
    "tags": []
   },
   "source": [
    "### Step 71 - CCCamera_logevent_quadbox_PDU_48V_DevicesConfiguration"
   ]
  },
  {
   "cell_type": "code",
   "execution_count": 86,
   "id": "e7f20dc4-673b-419a-95c1-58bea6653b1f",
   "metadata": {},
   "outputs": [
    {
     "name": "stdout",
     "output_type": "stream",
     "text": [
      "None\n"
     ]
    }
   ],
   "source": [
    "data = comcam.rem.cccamera.evt_quadbox_PDU_48V_DevicesConfiguration.get()\n",
    "print(data)"
   ]
  },
  {
   "cell_type": "markdown",
   "id": "62579bb1-b4c9-4263-a3c1-11ff4c457e77",
   "metadata": {
    "tags": []
   },
   "source": [
    "### Step 72 - CCCamera_logevent_quadbox_PDU_48V_LimitsConfiguration"
   ]
  },
  {
   "cell_type": "code",
   "execution_count": 87,
   "id": "ca483105-0166-422b-a50b-b0d01cd78425",
   "metadata": {},
   "outputs": [
    {
     "name": "stdout",
     "output_type": "stream",
     "text": [
      "None\n"
     ]
    }
   ],
   "source": [
    "data = comcam.rem.cccamera.evt_quadbox_PDU_48V_LimitsConfiguration.get()\n",
    "print(data)"
   ]
  },
  {
   "cell_type": "markdown",
   "id": "de4341bd-454d-4baa-846b-cbddac049d30",
   "metadata": {
    "tags": []
   },
   "source": [
    "### Step 73 - CCCamera_logevent_quadbox_PDU_48V_QuadboxConfiguration"
   ]
  },
  {
   "cell_type": "code",
   "execution_count": 88,
   "id": "6ec73e98-d637-4c2f-a359-23b7d1d547c2",
   "metadata": {},
   "outputs": [
    {
     "name": "stdout",
     "output_type": "stream",
     "text": [
      "None\n"
     ]
    }
   ],
   "source": [
    "data = comcam.rem.cccamera.evt_quadbox_PDU_48V_QuadboxConfiguration.get()\n",
    "print(data)"
   ]
  },
  {
   "cell_type": "markdown",
   "id": "0255667a-a7d9-4022-9f8a-41ad32031737",
   "metadata": {
    "tags": []
   },
   "source": [
    "### Step 74 - CCCamera_logevent_quadbox_PDU_5V_DevicesConfiguration"
   ]
  },
  {
   "cell_type": "code",
   "execution_count": 89,
   "id": "b7a011cc-3698-48e0-907a-5209b2e2c0b3",
   "metadata": {},
   "outputs": [
    {
     "name": "stdout",
     "output_type": "stream",
     "text": [
      "None\n"
     ]
    }
   ],
   "source": [
    "data = comcam.rem.cccamera.evt_quadbox_PDU_5V_DevicesConfiguration.get()\n",
    "print(data)"
   ]
  },
  {
   "cell_type": "markdown",
   "id": "353222eb-3c84-4fd3-a957-bf7140b4c386",
   "metadata": {
    "tags": []
   },
   "source": [
    "### Step 75 - CCCamera_logevent_quadbox_PDU_5V_LimitsConfiguration"
   ]
  },
  {
   "cell_type": "code",
   "execution_count": 90,
   "id": "5d7adc52-3b7f-4290-ab91-fd88d06ce800",
   "metadata": {},
   "outputs": [
    {
     "name": "stdout",
     "output_type": "stream",
     "text": [
      "None\n"
     ]
    }
   ],
   "source": [
    "data = comcam.rem.cccamera.evt_quadbox_PDU_5V_LimitsConfiguration.get()\n",
    "print(data)"
   ]
  },
  {
   "cell_type": "markdown",
   "id": "2c655a23-2a0c-43d4-b5fe-fc14276d040d",
   "metadata": {
    "tags": []
   },
   "source": [
    "### Step 76 - CCCamera_logevent_quadbox_PDU_5V_QuadboxConfiguration"
   ]
  },
  {
   "cell_type": "code",
   "execution_count": 91,
   "id": "8cef6130-9704-4c2a-a349-85f61f8ffcd8",
   "metadata": {},
   "outputs": [
    {
     "name": "stdout",
     "output_type": "stream",
     "text": [
      "None\n"
     ]
    }
   ],
   "source": [
    "data = comcam.rem.cccamera.evt_quadbox_PDU_5V_QuadboxConfiguration.get()\n",
    "print(data)"
   ]
  },
  {
   "cell_type": "markdown",
   "id": "45b6ff88-5833-4bb9-98c9-94ad50dce11b",
   "metadata": {
    "tags": []
   },
   "source": [
    "### Step 77 - CCCamera_logevent_quadbox_PeriodicTasks_GeneralConfiguration"
   ]
  },
  {
   "cell_type": "code",
   "execution_count": 92,
   "id": "462251bf-2c39-4598-a2cd-1c0c7018a814",
   "metadata": {},
   "outputs": [
    {
     "name": "stdout",
     "output_type": "stream",
     "text": [
      "None\n"
     ]
    }
   ],
   "source": [
    "data = comcam.rem.cccamera.evt_quadbox_PeriodicTasks_GeneralConfiguration.get()\n",
    "print(data)"
   ]
  },
  {
   "cell_type": "markdown",
   "id": "6eb4cfdd-3162-4b7f-b792-ae4254a65c29",
   "metadata": {
    "tags": []
   },
   "source": [
    "### Step 78 - CCCamera_logevent_quadbox_PeriodicTasks_timersConfiguration"
   ]
  },
  {
   "cell_type": "code",
   "execution_count": 93,
   "id": "8a5b58c0-963a-4fb4-bbc6-85378fc8fca4",
   "metadata": {},
   "outputs": [
    {
     "name": "stdout",
     "output_type": "stream",
     "text": [
      "None\n"
     ]
    }
   ],
   "source": [
    "data = comcam.rem.cccamera.evt_quadbox_PeriodicTasks_timersConfiguration.get()\n",
    "print(data)"
   ]
  },
  {
   "cell_type": "markdown",
   "id": "1b61c9d9-ad47-431c-9ac6-68ccc0e93cdb",
   "metadata": {
    "tags": []
   },
   "source": [
    "### Step 79 - CCCamera_logevent_quadbox_REB_Bulk_PS_DevicesConfiguration"
   ]
  },
  {
   "cell_type": "code",
   "execution_count": 94,
   "id": "5d0e70ef-5eb5-4fe0-8850-c1705431af80",
   "metadata": {},
   "outputs": [
    {
     "name": "stdout",
     "output_type": "stream",
     "text": [
      "None\n"
     ]
    }
   ],
   "source": [
    "data = comcam.rem.cccamera.evt_quadbox_REB_Bulk_PS_DevicesConfiguration.get()\n",
    "print(data)"
   ]
  },
  {
   "cell_type": "markdown",
   "id": "d4672847-c0e7-4b47-9204-12ca8eba0532",
   "metadata": {
    "tags": []
   },
   "source": [
    "### Step 80 - CCCamera_logevent_quadbox_REB_Bulk_PS_QuadboxConfiguration"
   ]
  },
  {
   "cell_type": "code",
   "execution_count": 95,
   "id": "022872e9-d8bd-490b-87ae-6e7031663cec",
   "metadata": {},
   "outputs": [
    {
     "name": "stdout",
     "output_type": "stream",
     "text": [
      "None\n"
     ]
    }
   ],
   "source": [
    "data = comcam.rem.cccamera.evt_quadbox_REB_Bulk_PS_QuadboxConfiguration.get()\n",
    "print(data)"
   ]
  },
  {
   "cell_type": "markdown",
   "id": "3512f6bb-45ef-4575-bfd5-5b88250cd4fe",
   "metadata": {
    "tags": []
   },
   "source": [
    "### Step 81 - CCCamera_logevent_focal_plane_Ccd_HardwareIdConfiguration"
   ]
  },
  {
   "cell_type": "code",
   "execution_count": 96,
   "id": "1d5bfb43-fdde-470b-aa87-87fc0fb73177",
   "metadata": {},
   "outputs": [
    {
     "name": "stdout",
     "output_type": "stream",
     "text": [
      "private_revCode: 17440973, private_sndStamp: 1660856129.5926528, private_rcvStamp: 1660925537.727028, private_seqNum: 1, private_identity: CCCamera, private_origin: 77630140, version: HardwareId:FocalPlane/comcam(1), location: R22S00:R22S01:R22S02:R22S10:R22S11:R22S12:R22S20:R22S21:R22S22, manSerNum: 23166, name: ITL-3800C-229\n"
     ]
    }
   ],
   "source": [
    "data = comcam.rem.cccamera.evt_focal_plane_Ccd_HardwareIdConfiguration.get()\n",
    "print(data)"
   ]
  },
  {
   "cell_type": "markdown",
   "id": "ec59fbe5-da20-4799-99c7-d44d72a300a1",
   "metadata": {
    "tags": []
   },
   "source": [
    "### Step 82 - CCCamera_logevent_focal_plane_Ccd_LimitsConfiguration"
   ]
  },
  {
   "cell_type": "code",
   "execution_count": 97,
   "id": "ec54a1d5-901f-4e33-a60c-fc0a8af3083c",
   "metadata": {},
   "outputs": [
    {
     "name": "stdout",
     "output_type": "stream",
     "text": [
      "private_revCode: 88988cb8, private_sndStamp: 1660856129.5874295, private_rcvStamp: 1660925537.7282321, private_seqNum: 1, private_identity: CCCamera, private_origin: 77630140, version: Limits:FocalPlane/comcam(7), gdv_warnHi: [20.5, 20.5, 20.5, 20.5, 20.5, 20.5, 20.5, 20.5, 20.5], gdv_warnLo: [19.5, 19.5, 19.5, 19.5, 19.5, 19.5, 19.5, 19.5, 19.5], gdv_limitHi: [21.5, 21.5, 21.5, 21.5, 21.5, 21.5, 21.5, 21.5, 21.5], gdv_limitLo: [18.5, 18.5, 18.5, 18.5, 18.5, 18.5, 18.5, 18.5, 18.5], location: R22S00:R22S01:R22S02:R22S10:R22S11:R22S12:R22S20:R22S21:R22S22, odv_warnHi: [24.5, 24.5, 24.5, 24.5, 24.5, 24.5, 24.5, 24.5, 24.5], odv_warnLo: [23.5, 23.5, 23.5, 23.5, 23.5, 23.5, 23.5, 23.5, 23.5], odv_limitHi: [25.0, 25.0, 25.0, 25.0, 25.0, 25.0, 25.0, 25.0, 25.0], odv_limitLo: [23.0, 23.0, 23.0, 23.0, 23.0, 23.0, 23.0, 23.0, 23.0], ogv_warnHi: [-1.5, -1.5, -1.5, -1.5, -1.5, -1.5, -1.5, -1.5, -1.5], ogv_warnLo: [-2.5, -2.5, -2.5, -2.5, -2.5, -2.5, -2.5, -2.5, -2.5], ogv_limitHi: [-1.0, -1.0, -1.0, -1.0, -1.0, -1.0, -1.0, -1.0, -1.0], ogv_limitLo: [-3.0, -3.0, -3.0, -3.0, -3.0, -3.0, -3.0, -3.0, -3.0], rdv_warnHi: [13.5, 13.5, 13.5, 13.5, 13.5, 13.5, 13.5, 13.5, 13.5], rdv_warnLo: [13.0, 13.0, 13.0, 13.0, 13.0, 13.0, 13.0, 13.0, 13.0], rdv_limitHi: [14.0, 14.0, 14.0, 14.0, 14.0, 14.0, 14.0, 14.0, 14.0], rdv_limitLo: [12.5, 12.5, 12.5, 12.5, 12.5, 12.5, 12.5, 12.5, 12.5], temp_warnHi: [35.0, 35.0, 35.0, 35.0, 35.0, 35.0, 35.0, 35.0, 35.0], temp_warnLo: [-110.0, -110.0, -110.0, -110.0, -110.0, -110.0, -110.0, -110.0, -110.0], temp_limitHi: [45.0, 45.0, 45.0, 45.0, 45.0, 45.0, 45.0, 45.0, 45.0], temp_limitLo: [-120.0, -120.0, -120.0, -120.0, -120.0, -120.0, -120.0, -120.0, -120.0]\n"
     ]
    }
   ],
   "source": [
    "data = comcam.rem.cccamera.evt_focal_plane_Ccd_LimitsConfiguration.get()\n",
    "print(data)"
   ]
  },
  {
   "cell_type": "markdown",
   "id": "5f02f010-5a44-40c5-bee4-f86fa8ba19c4",
   "metadata": {
    "tags": []
   },
   "source": [
    "### Step 83 - CCCamera_logevent_focal_plane_Ccd_RaftsConfiguration"
   ]
  },
  {
   "cell_type": "code",
   "execution_count": 98,
   "id": "b05a10de-097e-4bdc-a337-4e97e70568ce",
   "metadata": {},
   "outputs": [
    {
     "name": "stdout",
     "output_type": "stream",
     "text": [
      "private_revCode: 4fb6e245, private_sndStamp: 1660856129.589094, private_rcvStamp: 1660925537.728923, private_seqNum: 1, private_identity: CCCamera, private_origin: 77630140, version: Rafts:FocalPlane/comcam(6)|FocalPlane/comcam-v26(3)|FocalPlane/comcam-tucson(1), location: R22S00:R22S01:R22S02:R22S10:R22S11:R22S12:R22S20:R22S21:R22S22\n"
     ]
    }
   ],
   "source": [
    "data = comcam.rem.cccamera.evt_focal_plane_Ccd_RaftsConfiguration.get()\n",
    "print(data)"
   ]
  },
  {
   "cell_type": "markdown",
   "id": "000a2a4f-59de-489d-8953-f5883656d2c0",
   "metadata": {
    "tags": []
   },
   "source": [
    "### Step 84 - CCCamera_logevent_focal_plane_ImageDatabaseService_GeneralConfiguration"
   ]
  },
  {
   "cell_type": "code",
   "execution_count": 99,
   "id": "4a5e2c27-a58b-4a2c-ba3f-88f3e07f5c88",
   "metadata": {},
   "outputs": [
    {
     "name": "stdout",
     "output_type": "stream",
     "text": [
      "private_revCode: 0b31951e, private_sndStamp: 1660856129.5937614, private_rcvStamp: 1660925537.7296183, private_seqNum: 1, private_identity: CCCamera, private_origin: 77630140, version: General:FocalPlane/common(1)|FocalPlane/comcam(1)|FocalPlane/comcam-tucson(1), dbURL: jdbc:h2:tcp://localhost/~/comcam-database;MODE=MYSQL, enabled: True\n"
     ]
    }
   ],
   "source": [
    "data = comcam.rem.cccamera.evt_focal_plane_ImageDatabaseService_GeneralConfiguration.get()\n",
    "print(data)"
   ]
  },
  {
   "cell_type": "markdown",
   "id": "3eed7695-fa16-4044-b996-f3876666d9a2",
   "metadata": {
    "tags": []
   },
   "source": [
    "### Step 85 - CCCamera_logevent_focal_plane_ImageNameService_GeneralConfiguration"
   ]
  },
  {
   "cell_type": "code",
   "execution_count": 100,
   "id": "d0b62a00-6c34-4414-b5d2-751310f2187f",
   "metadata": {},
   "outputs": [
    {
     "name": "stdout",
     "output_type": "stream",
     "text": [
      "private_revCode: cba76f34, private_sndStamp: 1660856129.58579, private_rcvStamp: 1660925537.7303593, private_seqNum: 1, private_identity: CCCamera, private_origin: 77630140, version: General:FocalPlane/common(1)|FocalPlane/comcam(1)|FocalPlane/comcam-tucson(1), controller: CCS, dbURL: jdbc:h2:tcp://localhost/~/comcam-database;MODE=MYSQL, offset: PT12H, source: ComCam, timeZoneId: UTC\n"
     ]
    }
   ],
   "source": [
    "data = comcam.rem.cccamera.evt_focal_plane_ImageNameService_GeneralConfiguration.get()\n",
    "print(data)"
   ]
  },
  {
   "cell_type": "markdown",
   "id": "7f1d763f-a67d-4b35-b8a8-a4bd861039a9",
   "metadata": {
    "tags": []
   },
   "source": [
    "### Step 86 - CCCamera_logevent_focal_plane_InstrumentConfig_InstrumentConfiguration"
   ]
  },
  {
   "cell_type": "code",
   "execution_count": 101,
   "id": "3d252f8f-d6b1-4f31-a800-9f0f2e019fea",
   "metadata": {},
   "outputs": [
    {
     "name": "stdout",
     "output_type": "stream",
     "text": [
      "private_revCode: 86c9504b, private_sndStamp: 1660856129.5876334, private_rcvStamp: 1660925537.7310648, private_seqNum: 1, private_identity: CCCamera, private_origin: 77630140, version: Instrument:FocalPlane/comcam(1)|FocalPlane/comcam-tucson(1), instrument: COMCAM, telescope: LSST, testStand: EOCCv2_Tucson\n"
     ]
    }
   ],
   "source": [
    "data = comcam.rem.cccamera.evt_focal_plane_InstrumentConfig_InstrumentConfiguration.get()\n",
    "print(data)"
   ]
  },
  {
   "cell_type": "markdown",
   "id": "183c5baa-cbfb-496b-b320-74ebad9228fa",
   "metadata": {
    "tags": []
   },
   "source": [
    "### Step 87 - CCCamera_logevent_focal_plane_PeriodicTasks_GeneralConfiguration"
   ]
  },
  {
   "cell_type": "code",
   "execution_count": 102,
   "id": "c8b8d2d1-868c-4256-bc4a-a5ffce1195bd",
   "metadata": {},
   "outputs": [
    {
     "name": "stdout",
     "output_type": "stream",
     "text": [
      "private_revCode: 23c6ee9f, private_sndStamp: 1660856129.586031, private_rcvStamp: 1660925537.7317684, private_seqNum: 1, private_identity: CCCamera, private_origin: 77630140, version: General:FocalPlane/common(1)|FocalPlane/comcam(1)|FocalPlane/comcam-tucson(1), schedulers_default_nTasks: 4, schedulers_default_nThreads: 8, schedulers_monitor_check_scheduler_nTasks: 3, schedulers_monitor_check_scheduler_nThreads: 2, schedulers_monitor_update_publish_scheduler_nTasks: 38, schedulers_monitor_update_publish_scheduler_nThreads: 5\n"
     ]
    }
   ],
   "source": [
    "data = comcam.rem.cccamera.evt_focal_plane_PeriodicTasks_GeneralConfiguration.get()\n",
    "print(data)"
   ]
  },
  {
   "cell_type": "markdown",
   "id": "6eab18f8-4d5c-411c-b216-3d6eb6ea0e55",
   "metadata": {
    "tags": []
   },
   "source": [
    "### Step 88 - CCCamera_logevent_focal_plane_PeriodicTasks_timersConfiguration"
   ]
  },
  {
   "cell_type": "code",
   "execution_count": 103,
   "id": "23b8c469-b7aa-4684-96ef-2cbda57a1eba",
   "metadata": {},
   "outputs": [
    {
     "name": "stdout",
     "output_type": "stream",
     "text": [
      "private_revCode: 36ed36c6, private_sndStamp: 1660856129.5924764, private_rcvStamp: 1660925537.7326064, private_seqNum: 1, private_identity: CCCamera, private_origin: 77630140, version: timers:FocalPlane/comcam(1), agentmonitorservice_taskPeriodMillis: 60000, heartbeat_taskPeriodMillis: 1000, monitor_publish_taskPeriodMillis: 10000, monitor_update_taskPeriodMillis: 1000, runtimeinfo_taskPeriodMillis: 60000, tempcontrol_R22_taskPeriodMillis: 30000\n"
     ]
    }
   ],
   "source": [
    "data = comcam.rem.cccamera.evt_focal_plane_PeriodicTasks_timersConfiguration.get()\n",
    "print(data)"
   ]
  },
  {
   "cell_type": "markdown",
   "id": "9d80bbf9-17e2-4515-b941-23af9d88c55c",
   "metadata": {
    "tags": []
   },
   "source": [
    "### Step 89 - CCCamera_logevent_focal_plane_Raft_HardwareIdConfiguration"
   ]
  },
  {
   "cell_type": "code",
   "execution_count": 104,
   "id": "d7b627f8-e05f-44b7-ac41-b4cbe09039e5",
   "metadata": {},
   "outputs": [
    {
     "name": "stdout",
     "output_type": "stream",
     "text": [
      "private_revCode: 3880f097, private_sndStamp: 1660856129.585482, private_rcvStamp: 1660925537.7333167, private_seqNum: 1, private_identity: CCCamera, private_origin: 77630140, version: HardwareId:FocalPlane/comcam(1), location: R22, name: LCA-11021_RTM-031\n"
     ]
    }
   ],
   "source": [
    "data = comcam.rem.cccamera.evt_focal_plane_Raft_HardwareIdConfiguration.get()\n",
    "print(data)"
   ]
  },
  {
   "cell_type": "markdown",
   "id": "3b7217bc-2135-4461-8a38-523c2498452f",
   "metadata": {
    "tags": []
   },
   "source": [
    "### Step 90 - CCCamera_logevent_focal_plane_Raft_RaftTempControlConfiguration"
   ]
  },
  {
   "cell_type": "code",
   "execution_count": 105,
   "id": "8ce91cd9-051e-425b-9f58-d313d325cd74",
   "metadata": {},
   "outputs": [
    {
     "name": "stdout",
     "output_type": "stream",
     "text": [
      "private_revCode: 7bd41f53, private_sndStamp: 1660856129.58951, private_rcvStamp: 1660925537.7341802, private_seqNum: 1, private_identity: CCCamera, private_origin: 77630140, version: RaftTempControl:FocalPlane/comcam(2), location: R22, tempcontrol_basePower: [0.0], tempcontrol_coefD: [0.0], tempcontrol_coefI: [1.0], tempcontrol_coefP: [3.0], tempcontrol_maxInput: [100.0], tempcontrol_maxOutput: [5.599999904632568], tempcontrol_minInput: [-200.0], tempcontrol_minOutput: [0.0], tempcontrol_rebs: Reb0:Reb2, tempcontrol_setTemp: [-100.0], tempcontrol_smoothTime: [20.0], tempcontrol_tempChans: Reb0/S01/Temp:Reb1/S11/Temp, tempcontrol_timeConst: [120.0]\n"
     ]
    }
   ],
   "source": [
    "data = comcam.rem.cccamera.evt_focal_plane_Raft_RaftTempControlConfiguration.get()\n",
    "print(data)"
   ]
  },
  {
   "cell_type": "markdown",
   "id": "f89bc462-ac0e-4156-8a2c-50de67ec19b4",
   "metadata": {
    "tags": []
   },
   "source": [
    "### Step 91 - CCCamera_logevent_focal_plane_Raft_RaftTempControlStatusConfiguration"
   ]
  },
  {
   "cell_type": "code",
   "execution_count": 106,
   "id": "49f4aea1-8903-453a-9a63-601b3a7c9338",
   "metadata": {},
   "outputs": [
    {
     "name": "stdout",
     "output_type": "stream",
     "text": [
      "private_revCode: bb4b95c5, private_sndStamp: 1660856129.589286, private_rcvStamp: 1660925537.7349126, private_seqNum: 1, private_identity: CCCamera, private_origin: 77630140, version: RaftTempControlStatus:FocalPlane/comcam(1), location: R22, tempcontrol_active: [False]\n"
     ]
    }
   ],
   "source": [
    "data = comcam.rem.cccamera.evt_focal_plane_Raft_RaftTempControlStatusConfiguration.get()\n",
    "print(data)"
   ]
  },
  {
   "cell_type": "markdown",
   "id": "7069f05b-ec53-415b-aff9-7886149dbcb8",
   "metadata": {
    "tags": []
   },
   "source": [
    "### Step 92 - CCCamera_logevent_focal_plane_RennTotalPower_LimitsConfiguration"
   ]
  },
  {
   "cell_type": "code",
   "execution_count": 107,
   "id": "f8576116-5c41-47b8-9711-f296281d6d0c",
   "metadata": {},
   "outputs": [
    {
     "name": "stdout",
     "output_type": "stream",
     "text": [
      "private_revCode: 1ecff0a4, private_sndStamp: 1660856129.5899696, private_rcvStamp: 1660925537.735617, private_seqNum: 1, private_identity: CCCamera, private_origin: 77630140, version: Limits:FocalPlane/comcam(7), warnHi: 0.10000000149011612, warnLo: -0.10000000149011612, limitHi: 0.10000000149011612, limitLo: -0.10000000149011612\n"
     ]
    }
   ],
   "source": [
    "data = comcam.rem.cccamera.evt_focal_plane_RebTotalPower_LimitsConfiguration.get()\n",
    "print(data)"
   ]
  },
  {
   "cell_type": "markdown",
   "id": "d38c843c-e3c9-4c37-a544-d01079843190",
   "metadata": {
    "tags": []
   },
   "source": [
    "### Step 93 - CCCamera_logevent_focal_plane_Reb_DevicesConfiguration"
   ]
  },
  {
   "cell_type": "code",
   "execution_count": 108,
   "id": "dcff7214-b034-4a49-a046-095b671dad7f",
   "metadata": {},
   "outputs": [
    {
     "name": "stdout",
     "output_type": "stream",
     "text": [
      "private_revCode: bf654eb0, private_sndStamp: 1660856129.5896938, private_rcvStamp: 1660925537.7364156, private_seqNum: 1, private_identity: CCCamera, private_origin: 77630140, version: Devices:FocalPlane/comcam(1), disabled: [False, False, False], location: R22Reb0:R22Reb1:R22Reb2\n"
     ]
    }
   ],
   "source": [
    "data = comcam.rem.cccamera.evt_focal_plane_Reb_DevicesConfiguration.get()\n",
    "print(data)"
   ]
  },
  {
   "cell_type": "markdown",
   "id": "bc52df70-efb7-47d1-ad0f-f6b56a67be04",
   "metadata": {
    "tags": []
   },
   "source": [
    "### Step 94 - CCCamera_logevent_focal_plane_Reb_HardwareIdConfiguration"
   ]
  },
  {
   "cell_type": "code",
   "execution_count": 109,
   "id": "527469a3-043c-41f2-b152-16c3ad63532c",
   "metadata": {},
   "outputs": [
    {
     "name": "stdout",
     "output_type": "stream",
     "text": [
      "private_revCode: b8dea836, private_sndStamp: 1660856129.5889196, private_rcvStamp: 1660925537.7371142, private_seqNum: 1, private_identity: CCCamera, private_origin: 77630140, version: HardwareId:FocalPlane/comcam(1), location: R22Reb0:R22Reb1:R22Reb2, name: LCA-13574-061\n"
     ]
    }
   ],
   "source": [
    "data = comcam.rem.cccamera.evt_focal_plane_Reb_HardwareIdConfiguration.get()\n",
    "print(data)"
   ]
  },
  {
   "cell_type": "markdown",
   "id": "2a441364-ed17-4456-9f61-0a403255b34a",
   "metadata": {
    "tags": []
   },
   "source": [
    "### Step 95 - CCCamera_logevent_focal_plane_Reb_LimitsConfiguration"
   ]
  },
  {
   "cell_type": "code",
   "execution_count": 110,
   "id": "9bba94c6-b43c-4b59-89a3-cdf1f45a60e4",
   "metadata": {},
   "outputs": [
    {
     "name": "stdout",
     "output_type": "stream",
     "text": [
      "private_revCode: ca7ef8d7, private_sndStamp: 1660856129.5869896, private_rcvStamp: 1660925537.7428558, private_seqNum: 1, private_identity: CCCamera, private_origin: 77630140, version: Limits:FocalPlane/comcam(7), anai_warnHi: [700.0, 700.0, 700.0], anai_warnLo: [570.0, 570.0, 570.0], anai_limitHi: [720.0, 720.0, 720.0], anai_limitLo: [550.0, 550.0, 550.0], anav_warnHi: [8.0, 8.0, 8.0], anav_warnLo: [7.0, 7.0, 7.0], anav_limitHi: [8.5, 8.5, 8.5], anav_limitLo: [6.5, 6.5, 6.5], aspicl_Temp0_warnHi: [40.0, 40.0, 40.0], aspicl_Temp0_warnLo: [-45.0, -45.0, -45.0], aspicl_Temp0_limitHi: [45.0, 45.0, 45.0], aspicl_Temp0_limitLo: [-50.0, -50.0, -50.0], aspicl_Temp1_warnHi: [20.0, 20.0, 20.0], aspicl_Temp1_warnLo: [-45.0, -45.0, -45.0], aspicl_Temp1_limitHi: [25.0, 25.0, 25.0], aspicl_Temp1_limitLo: [-50.0, -50.0, -50.0], aspicl_Temp2_warnHi: [20.0, 20.0, 20.0], aspicl_Temp2_warnLo: [-45.0, -45.0, -45.0], aspicl_Temp2_limitHi: [25.0, 25.0, 25.0], aspicl_Temp2_limitLo: [-50.0, -50.0, -50.0], aspicu_Temp0_warnHi: [40.0, 40.0, 40.0], aspicu_Temp0_warnLo: [-45.0, -45.0, -45.0], aspicu_Temp0_limitHi: [45.0, 45.0, 45.0], aspicu_Temp0_limitLo: [-50.0, -50.0, -50.0], aspicu_Temp1_warnHi: [20.0, 20.0, 20.0], aspicu_Temp1_warnLo: [-45.0, -45.0, -45.0], aspicu_Temp1_limitHi: [25.0, 25.0, 25.0], aspicu_Temp1_limitLo: [-50.0, -50.0, -50.0], aspicu_Temp2_warnHi: [20.0, 20.0, 20.0], aspicu_Temp2_warnLo: [-45.0, -45.0, -45.0], aspicu_Temp2_limitHi: [25.0, 25.0, 25.0], aspicu_Temp2_limitLo: [-50.0, -50.0, -50.0], clkhi_warnHi: [150.0, 150.0, 150.0], clkhi_warnLo: [90.0, 90.0, 90.0], clkhi_limitHi: [150.0, 150.0, 150.0], clkhi_limitLo: [90.0, 90.0, 90.0], clkhv_warnHi: [15.5, 15.5, 15.5], clkhv_warnLo: [14.0, 14.0, 14.0], clkhv_limitHi: [16.5, 16.5, 16.5], clkhv_limitLo: [13.0, 13.0, 13.0], clkli_warnHi: [100.0, 100.0, 100.0], clkli_warnLo: [45.0, 45.0, 45.0], clkli_limitHi: [100.0, 100.0, 100.0], clkli_limitLo: [45.0, 45.0, 45.0], clklv_warnHi: [16.5, 16.5, 16.5], clklv_warnLo: [13.0, 13.0, 13.0], clklv_limitHi: [16.5, 16.5, 16.5], clklv_limitLo: [13.0, 13.0, 13.0], digi_warnHi: [600.0, 600.0, 600.0], digi_warnLo: [520.0, 520.0, 520.0], digi_limitHi: [640.0, 640.0, 640.0], digi_limitLo: [480.0, 480.0, 480.0], digv_warnHi: [5.800000190734863, 5.800000190734863, 5.800000190734863], digv_warnLo: [4.800000190734863, 4.800000190734863, 4.800000190734863], digv_limitHi: [6.0, 6.0, 6.0], digv_limitLo: [4.599999904632568, 4.599999904632568, 4.599999904632568], hvbiasswitch_warnHi: [0.10000000149011612, 0.10000000149011612, 0.10000000149011612], hvbiasswitch_warnLo: [-0.10000000149011612, -0.10000000149011612, -0.10000000149011612], hvbiasswitch_limitHi: [0.10000000149011612, 0.10000000149011612, 0.10000000149011612], hvbiasswitch_limitLo: [-0.10000000149011612, -0.10000000149011612, -0.10000000149011612], htrv_warnHi: [9.0, 9.0, 9.0], htrv_warnLo: [0.0, 0.0, 0.0], htrv_limitHi: [9.0, 9.0, 9.0], htrv_limitLo: [0.0, 0.0, 0.0], htrw_warnHi: [4.0, 4.0, 4.0], htrw_warnLo: [0.0, 0.0, 0.0], htrw_limitHi: [4.0, 4.0, 4.0], htrw_limitLo: [0.0, 0.0, 0.0], location: R22Reb0:R22Reb1:R22Reb2, odi_warnHi: [95.0, 95.0, 95.0], odi_warnLo: [85.0, 85.0, 85.0], odi_limitHi: [105.0, 105.0, 105.0], odi_limitLo: [75.0, 75.0, 75.0], odv_warnHi: [40.0, 40.0, 40.0], odv_warnLo: [37.0, 37.0, 37.0], odv_limitHi: [41.0, 41.0, 41.0], odv_limitLo: [36.0, 36.0, 36.0], pclkl_warnHi: [-6.5, -6.5, -6.5], pclkl_warnLo: [-9.5, -9.5, -9.5], pclkl_limitHi: [-6.0, -6.0, -6.0], pclkl_limitLo: [-10.0, -10.0, -10.0], pclku_warnHi: [3.5, 3.5, 3.5], pclku_warnLo: [1.0, 1.0, 1.0], pclku_limitHi: [4.0, 4.0, 4.0], pclku_limitLo: [0.5, 0.5, 0.5], power_warnHi: [16.0, 16.0, 16.0], power_warnLo: [10.0, 10.0, 10.0], power_limitHi: [17.0, 17.0, 17.0], power_limitLo: [9.0, 9.0, 9.0], rgl_warnHi: [-0.699999988079071, -0.699999988079071, -0.699999988079071], rgl_warnLo: [-2.799999952316284, -2.799999952316284, -2.799999952316284], rgl_limitHi: [-0.5, -0.5, -0.5], rgl_limitLo: [-3.0, -3.0, -3.0], rgu_warnHi: [11.0, 11.0, 11.0], rgu_warnLo: [7.0, 7.0, 7.0], rgu_limitHi: [12.0, 12.0, 12.0], rgu_limitLo: [6.0, 6.0, 6.0], rtdtemp_warnHi: [40.0, 40.0, 40.0], rtdtemp_warnLo: [-115.0, -115.0, -115.0], rtdtemp_limitHi: [45.0, 45.0, 45.0], rtdtemp_limitLo: [-120.0, -120.0, -120.0], ref05v_warnHi: [5.489999771118164, 5.489999771118164, 5.489999771118164], ref05v_warnLo: [4.909999847412109, 4.909999847412109, 4.909999847412109], ref05v_limitHi: [5.5, 5.5, 5.5], ref05v_limitLo: [4.900000095367432, 4.900000095367432, 4.900000095367432], ref125v_warnHi: [2.740000009536743, 2.740000009536743, 2.740000009536743], ref125v_warnLo: [2.4100000858306885, 2.4100000858306885, 2.4100000858306885], ref125v_limitHi: [2.75, 2.75, 2.75], ref125v_limitLo: [2.4000000953674316, 2.4000000953674316, 2.4000000953674316], ref15v_warnHi: [5.489999771118164, 5.489999771118164, 5.489999771118164], ref15v_warnLo: [4.909999847412109, 4.909999847412109, 4.909999847412109], ref15v_limitHi: [5.5, 5.5, 5.5], ref15v_limitLo: [4.900000095367432, 4.900000095367432, 4.900000095367432], ref25v_warnHi: [5.489999771118164, 5.489999771118164, 5.489999771118164], ref25v_warnLo: [4.909999847412109, 4.909999847412109, 4.909999847412109], ref25v_limitHi: [5.5, 5.5, 5.5], ref25v_limitLo: [4.900000095367432, 4.900000095367432, 4.900000095367432], refn12_warnHi: [-11.699999809265137, -11.699999809265137, -11.699999809265137], refn12_warnLo: [-12.300000190734863, -12.300000190734863, -12.300000190734863], refn12_limitHi: [-11.5, -11.5, -11.5], refn12_limitLo: [-12.5, -12.5, -12.5], refp12_warnHi: [13.899999618530273, 13.899999618530273, 13.899999618530273], refp12_warnLo: [13.199999809265137, 13.199999809265137, 13.199999809265137], refp12_limitHi: [14.100000381469727, 14.100000381469727, 14.100000381469727], refp12_limitLo: [13.0, 13.0, 13.0], sclkl_warnHi: [-3.5, -3.5, -3.5], sclkl_warnLo: [-6.5, -6.5, -6.5], sclkl_limitHi: [-3.5, -3.5, -3.5], sclkl_limitLo: [-6.5, -6.5, -6.5], sclku_warnHi: [6.5, 6.5, 6.5], sclku_warnLo: [3.5, 3.5, 3.5], sclku_limitHi: [6.5, 6.5, 6.5], sclku_limitLo: [3.5, 3.5, 3.5], temp10_warnHi: [40.0, 40.0, 40.0], temp10_warnLo: [-45.0, -45.0, -45.0], temp10_limitHi: [45.0, 45.0, 45.0], temp10_limitLo: [-50.0, -50.0, -50.0], temp1_warnHi: [20.0, 20.0, 20.0], temp1_warnLo: [-40.0, -40.0, -40.0], temp1_limitHi: [25.0, 25.0, 25.0], temp1_limitLo: [-45.0, -45.0, -45.0], temp2_warnHi: [20.0, 20.0, 20.0], temp2_warnLo: [-40.0, -40.0, -40.0], temp2_limitHi: [25.0, 25.0, 25.0], temp2_limitLo: [-45.0, -45.0, -45.0], temp3_warnHi: [40.0, 40.0, 40.0], temp3_warnLo: [-45.0, -45.0, -45.0], temp3_limitHi: [45.0, 45.0, 45.0], temp3_limitLo: [-50.0, -50.0, -50.0], temp4_warnHi: [40.0, 40.0, 40.0], temp4_warnLo: [-45.0, -45.0, -45.0], temp4_limitHi: [45.0, 45.0, 45.0], temp4_limitLo: [-50.0, -50.0, -50.0], temp5_warnHi: [40.0, 40.0, 40.0], temp5_warnLo: [-45.0, -45.0, -45.0], temp5_limitHi: [45.0, 45.0, 45.0], temp5_limitLo: [-50.0, -50.0, -50.0], temp6_warnHi: [40.0, 40.0, 40.0], temp6_warnLo: [-45.0, -45.0, -45.0], temp6_limitHi: [45.0, 45.0, 45.0], temp6_limitLo: [-50.0, -50.0, -50.0], temp7_warnHi: [40.0, 40.0, 40.0], temp7_warnLo: [-45.0, -45.0, -45.0], temp7_limitHi: [45.0, 45.0, 45.0], temp7_limitLo: [-50.0, -50.0, -50.0], temp8_warnHi: [40.0, 40.0, 40.0], temp8_warnLo: [-45.0, -45.0, -45.0], temp8_limitHi: [45.0, 45.0, 45.0], temp8_limitLo: [-50.0, -50.0, -50.0], temp9_warnHi: [40.0, 40.0, 40.0], temp9_warnLo: [-45.0, -45.0, -45.0], temp9_limitHi: [45.0, 45.0, 45.0], temp9_limitLo: [-50.0, -50.0, -50.0]\n"
     ]
    }
   ],
   "source": [
    "data = comcam.rem.cccamera.evt_focal_plane_Reb_LimitsConfiguration.get()\n",
    "print(data)"
   ]
  },
  {
   "cell_type": "markdown",
   "id": "38db1096-626a-4133-a61f-d435f4480619",
   "metadata": {
    "tags": []
   },
   "source": [
    "### Step 96 - CCCamera_logevent_focal_plane_Reb_RaftsConfiguration"
   ]
  },
  {
   "cell_type": "code",
   "execution_count": 111,
   "id": "77e88a6d-0ff8-4b21-8d62-8a634afa29c6",
   "metadata": {},
   "outputs": [
    {
     "name": "stdout",
     "output_type": "stream",
     "text": [
      "private_revCode: 8f74bb5e, private_sndStamp: 1660856129.593224, private_rcvStamp: 1660925537.744216, private_seqNum: 1, private_identity: CCCamera, private_origin: 77630140, version: Rafts:FocalPlane/comcam(6)|FocalPlane/comcam-v26(3)|FocalPlane/comcam-tucson(1), bias0_csGateP: [1.0, 1.0, 1.0], bias0_gdP: [20.0, 20.0, 20.0], bias0_odP: [26.899999618530273, 26.899999618530273, 26.899999618530273], bias0_ogP: [-2.0, -2.0, -2.0], bias0_rdP: [13.0, 13.0, 13.0], bias1_csGateP: [1.0, 1.0, 1.0], bias1_gdP: [20.0, 20.0, 20.0], bias1_odP: [26.899999618530273, 26.899999618530273, 26.899999618530273], bias1_ogP: [-2.0, -2.0, -2.0], bias1_rdP: [13.0, 13.0, 13.0], bias2_csGateP: [1.0, 1.0, 1.0], bias2_gdP: [20.0, 20.0, 20.0], bias2_odP: [26.899999618530273, 26.899999618530273, 26.899999618530273], bias2_ogP: [-2.0, -2.0, -2.0], bias2_rdP: [13.0, 13.0, 13.0], dac_pclkHighP: [2.0, 2.0, 2.0], dac_pclkLowP: [-8.0, -8.0, -8.0], dac_rgHighP: [8.0, 8.0, 8.0], dac_rgLowP: [-2.0, -2.0, -2.0], dac_sclkHighP: [5.0, 5.0, 5.0], dac_sclkLowP: [-5.0, -5.0, -5.0], disableRTDHardwareCheck: [False, False, False], location: R22Reb0:R22Reb1:R22Reb2, serialNum: [-1, -1, -1]\n"
     ]
    }
   ],
   "source": [
    "data = comcam.rem.cccamera.evt_focal_plane_Reb_RaftsConfiguration.get()\n",
    "print(data)"
   ]
  },
  {
   "cell_type": "markdown",
   "id": "1258ff20-dabc-4a8b-91e0-19707ee0fd22",
   "metadata": {
    "tags": []
   },
   "source": [
    "### Step 97 - CCCamera_logevent_focal_plane_Reb_RaftsLimitConfiguration"
   ]
  },
  {
   "cell_type": "code",
   "execution_count": 112,
   "id": "2e76b860-02d7-4317-9dee-83fe4a16e778",
   "metadata": {},
   "outputs": [
    {
     "ename": "AttributeError",
     "evalue": "'Remote' object has no attribute 'evt_focal_plane_Reb_RaftsLimitConfiguration'",
     "output_type": "error",
     "traceback": [
      "\u001b[0;31m---------------------------------------------------------------------------\u001b[0m",
      "\u001b[0;31mAttributeError\u001b[0m                            Traceback (most recent call last)",
      "Input \u001b[0;32mIn [112]\u001b[0m, in \u001b[0;36m<cell line: 1>\u001b[0;34m()\u001b[0m\n\u001b[0;32m----> 1\u001b[0m data \u001b[38;5;241m=\u001b[39m \u001b[43mcomcam\u001b[49m\u001b[38;5;241;43m.\u001b[39;49m\u001b[43mrem\u001b[49m\u001b[38;5;241;43m.\u001b[39;49m\u001b[43mcccamera\u001b[49m\u001b[38;5;241;43m.\u001b[39;49m\u001b[43mevt_focal_plane_Reb_RaftsLimitConfiguration\u001b[49m\u001b[38;5;241m.\u001b[39mget()\n\u001b[1;32m      2\u001b[0m \u001b[38;5;28mprint\u001b[39m(data)\n",
      "\u001b[0;31mAttributeError\u001b[0m: 'Remote' object has no attribute 'evt_focal_plane_Reb_RaftsLimitConfiguration'"
     ]
    }
   ],
   "source": [
    "data = comcam.rem.cccamera.evt_focal_plane_Reb_RaftsLimitConfiguration.get()\n",
    "print(data)"
   ]
  },
  {
   "cell_type": "markdown",
   "id": "6c366453-e614-493a-8eed-0099a04cfae3",
   "metadata": {
    "tags": []
   },
   "source": [
    "### Step 98 - CCCamera_logevent_focal_plane_Reb_RaftsPowerConfiguration"
   ]
  },
  {
   "cell_type": "code",
   "execution_count": 113,
   "id": "50b4266c-802a-479d-91ef-7eebe8472de4",
   "metadata": {},
   "outputs": [
    {
     "name": "stdout",
     "output_type": "stream",
     "text": [
      "private_revCode: 784008dd, private_sndStamp: 1660856129.5886908, private_rcvStamp: 1660925537.7483125, private_seqNum: 1, private_identity: CCCamera, private_origin: 77630140, version: RaftsPower:FocalPlane/comcam(4), bias0_gdCal: [1.006142497062683, 0.9993898868560791, 1.0034304857254028], bias0_gdTestVolts: [0.5, 0.5, 0.5], bias0_gdTol: [0.1599999964237213, 0.1599999964237213, 0.1599999964237213], bias0_gdValueErr: [0.20000000298023224, 0.20000000298023224, 0.20000000298023224], bias0_gdZeroErr: [0.20000000298023224, 0.20000000298023224, 0.20000000298023224], bias0_odCal: [0.9934659004211426, 0.9964314699172974, 0.9974239468574524], bias0_odIMax: [0.03999999910593033, 0.03999999910593033, 0.03999999910593033], bias0_odTol: [0.07999999821186066, 0.07999999821186066, 0.07999999821186066], bias0_odZeroErr: [0.20000000298023224, 0.20000000298023224, 0.20000000298023224], bias0_ogCal: [0.9130434989929199, 0.9222972989082336, 0.9130434989929199], bias0_ogTestVolts: [0.5, 0.5, 0.5], bias0_ogTol: [0.07999999821186066, 0.07999999821186066, 0.07999999821186066], bias0_ogValueErr: [0.20000000298023224, 0.20000000298023224, 0.20000000298023224], bias0_ogZeroErr: [0.20000000298023224, 0.20000000298023224, 0.20000000298023224], bias0_rdCal: [1.0019762516021729, 1.008238673210144, 0.9957912564277649], bias0_rdTestVolts: [0.5, 0.5, 0.5], bias0_rdTol: [0.07999999821186066, 0.07999999821186066, 0.07999999821186066], bias0_rdValueErr: [0.20000000298023224, 0.20000000298023224, 0.20000000298023224], bias0_rdZeroErr: [0.20000000298023224, 0.20000000298023224, 0.20000000298023224], bias1_gdCal: [0.9980502128601074, 0.9967141151428223, 1.006142497062683], bias1_gdTestVolts: [0.5, 0.5, 0.5], bias1_gdTol: [0.1599999964237213, 0.1599999964237213, 0.1599999964237213], bias1_gdValueErr: [0.20000000298023224, 0.20000000298023224, 0.20000000298023224], bias1_gdZeroErr: [0.20000000298023224, 0.20000000298023224, 0.20000000298023224], bias1_odCal: [0.9924812912940979, 0.9895391464233398, 0.9924812912940979], bias1_odIMax: [0.07000000029802322, 0.07000000029802322, 0.07000000029802322], bias1_odTol: [0.07999999821186066, 0.07999999821186066, 0.07999999821186066], bias1_odZeroErr: [0.20000000298023224, 0.20000000298023224, 0.20000000298023224], bias1_ogCal: [0.9222972989082336, 0.9285714030265808, 0.9130434989929199], bias1_ogTestVolts: [0.5, 0.5, 0.5], bias1_ogTol: [0.07999999821186066, 0.07999999821186066, 0.07999999821186066], bias1_ogValueErr: [0.20000000298023224, 0.20000000298023224, 0.20000000298023224], bias1_ogZeroErr: [0.20000000298023224, 0.20000000298023224, 0.20000000298023224], bias1_rdCal: [1.0103435516357422, 0.999906063079834, 1.0145797729492188], bias1_rdTestVolts: [0.5, 0.5, 0.5], bias1_rdTol: [0.07999999821186066, 0.07999999821186066, 0.07999999821186066], bias1_rdValueErr: [0.20000000298023224, 0.20000000298023224, 0.20000000298023224], bias1_rdZeroErr: [0.20000000298023224, 0.20000000298023224, 0.20000000298023224], bias2_gdCal: [1.002079963684082, 1.0007331371307373, 1.0034304857254028], bias2_gdTestVolts: [0.5, 0.5, 0.5], bias2_gdTol: [0.1599999964237213, 0.1599999964237213, 0.1599999964237213], bias2_gdValueErr: [0.20000000298023224, 0.20000000298023224, 0.20000000298023224], bias2_gdZeroErr: [0.20000000298023224, 0.20000000298023224, 0.20000000298023224], bias2_odCal: [0.9944524765014648, 0.998418390750885, 0.9974239468574524], bias2_odIMax: [0.10000000149011612, 0.10000000149011612, 0.10000000149011612], bias2_odTol: [0.07999999821186066, 0.07999999821186066, 0.07999999821186066], bias2_odZeroErr: [0.20000000298023224, 0.20000000298023224, 0.20000000298023224], bias2_ogCal: [0.9285714030265808, 0.9254237413406372, 0.9100000262260437], bias2_ogTestVolts: [0.5, 0.5, 0.5], bias2_ogTol: [0.07999999821186066, 0.07999999821186066, 0.07999999821186066], bias2_ogValueErr: [0.20000000298023224, 0.20000000298023224, 0.20000000298023224], bias2_ogZeroErr: [0.20000000298023224, 0.20000000298023224, 0.20000000298023224], bias2_rdCal: [0.9957912564277649, 1.008238673210144, 1.008238673210144], bias2_rdTestVolts: [0.5, 0.5, 0.5], bias2_rdTol: [0.07999999821186066, 0.07999999821186066, 0.07999999821186066], bias2_rdValueErr: [0.20000000298023224, 0.20000000298023224, 0.20000000298023224], bias2_rdZeroErr: [0.20000000298023224, 0.20000000298023224, 0.20000000298023224], clkhiAmin: [0.10300000011920929, 0.10300000011920929, 0.10300000011920929], clkhiQmax: [0.09300000220537186, 0.09300000220537186, 0.09300000220537186], clkliAmin: [0.05299999937415123, 0.05299999937415123, 0.05299999937415123], clkliQmax: [0.04500000178813934, 0.04500000178813934, 0.04500000178813934], dac_clkhIMax: [0.11999999731779099, 0.11999999731779099, 0.11999999731779099], dac_clklIMax: [0.05999999865889549, 0.05999999865889549, 0.05999999865889549], dac_pclkHighCal: [0.9820144176483154, 0.9680851101875305, 0.9512194991111755], dac_pclkHighTestV: [0.5, 0.5, 0.5], dac_pclkHighTol: [0.07999999821186066, 0.07999999821186066, 0.07999999821186066], dac_pclkHighValueErr: [0.20000000298023224, 0.20000000298023224, 0.20000000298023224], dac_pclkHighZeroErr: [0.20000000298023224, 0.20000000298023224, 0.20000000298023224], dac_pclkLowCal: [0.9587357044219971, 0.9680851101875305, 0.9612675905227661], dac_pclkLowTestV: [0.5, 0.5, 0.5], dac_pclkLowTol: [0.08608058840036392, 0.07999999821186066, 0.08058608323335648], dac_pclkLowValueErr: [0.20000000298023224, 0.20000000298023224, 0.20000000298023224], dac_pclkLowZeroErr: [0.20000000298023224, 0.20000000298023224, 0.20000000298023224], dac_rgHighCal: [0.9646643400192261, 0.9629629850387573, 0.9587357044219971], dac_rgHighTestV: [0.5, 0.5, 0.5], dac_rgHighTol: [0.07999999821186066, 0.07999999821186066, 0.08608058840036392], dac_rgHighValueErr: [0.20000000298023224, 0.20000000298023224, 0.20000000298023224], dac_rgHighZeroErr: [0.20000000298023224, 0.20000000298023224, 0.20000000298023224], dac_rgLowCal: [0.9680851101875305, 0.9446367025375366, 1.0186567306518555], dac_rgLowTestV: [0.5, 0.5, 0.5], dac_rgLowTol: [0.07999999821186066, 0.07999999821186066, 0.07999999821186066], dac_rgLowValueErr: [0.20000000298023224, 0.20000000298023224, 0.20000000298023224], dac_rgLowZeroErr: [0.20000000298023224, 0.20000000298023224, 0.20000000298023224], dac_sclkHighCal: [0.9763948321342468, 0.9572229981422424, 0.9492350220680237], dac_sclkHighTestV: [0.5, 0.5, 0.5], dac_sclkHighTol: [0.07999999821186066, 0.07999999821186066, 0.07999999821186066], dac_sclkHighValueErr: [0.20000000298023224, 0.20000000298023224, 0.20000000298023224], dac_sclkHighZeroErr: [0.20000000298023224, 0.20000000298023224, 0.20000000298023224], dac_sclkLowCal: [0.9763948321342468, 0.9639830589294434, 0.9439833760261536], dac_sclkLowTestV: [0.5, 0.5, 0.5], dac_sclkLowTol: [0.07999999821186066, 0.07999999821186066, 0.07999999821186066], dac_sclkLowValueErr: [0.20000000298023224, 0.20000000298023224, 0.20000000298023224], dac_sclkLowZeroErr: [0.20000000298023224, 0.20000000298023224, 0.20000000298023224], location: R22Reb0:R22Reb1:R22Reb2, maxDelta: [1.0, 1.0, 1.0], maxStep: [0.4000000059604645, 0.4000000059604645, 0.4000000059604645], minTol: [0.07999999821186066, 0.07999999821186066, 0.07999999821186066], nPowerOnPub: [15, 15, 15], odiAmin: [0.023000000044703484, 0.023000000044703484, 0.023000000044703484], odiQmax: [0.004999999888241291, 0.004999999888241291, 0.004999999888241291]\n"
     ]
    }
   ],
   "source": [
    "data = comcam.rem.cccamera.evt_focal_plane_Reb_RaftsPowerConfiguration.get()\n",
    "print(data)"
   ]
  },
  {
   "cell_type": "markdown",
   "id": "21ae35b7-8570-4569-8c9d-3b14bb8df226",
   "metadata": {
    "tags": []
   },
   "source": [
    "### Step 99 - CCCamera_logevent_focal_plane_Reb_timersConfiguration"
   ]
  },
  {
   "cell_type": "code",
   "execution_count": 114,
   "id": "54c081d8-77b9-4922-8024-415a3f47b16c",
   "metadata": {},
   "outputs": [
    {
     "name": "stdout",
     "output_type": "stream",
     "text": [
      "private_revCode: 26af5564, private_sndStamp: 1660856129.5928917, private_rcvStamp: 1660925537.749279, private_seqNum: 1, private_identity: CCCamera, private_origin: 77630140, version: timers:FocalPlane/comcam(1), location: R22Reb0:R22Reb1:R22Reb2, periodictasks_monitor_check_taskPeriodMillis: [10000, 10000, 10000], periodictasks_monitor_publish_aspicTemp_taskPeriodMillis: [10000, 10000, 10000], periodictasks_monitor_publish_biasVolt_taskPeriodMillis: [10000, 10000, 10000], periodictasks_monitor_publish_boardPower_taskPeriodMillis: [10000, 10000, 10000], periodictasks_monitor_publish_ccdCurrent_taskPeriodMillis: [10000, 10000, 10000], periodictasks_monitor_publish_rebTemp_taskPeriodMillis: [10000, 10000, 10000], periodictasks_monitor_publish_taskPeriodMillis: [10000, 10000, 10000], periodictasks_monitor_update_aspicTemp_taskPeriodMillis: [1000, 1000, 1000], periodictasks_monitor_update_biasVolt_taskPeriodMillis: [1000, 1000, 1000], periodictasks_monitor_update_boardPower_taskPeriodMillis: [1000, 1000, 1000], periodictasks_monitor_update_ccdCurrent_taskPeriodMillis: [1000, 1000, 1000], periodictasks_monitor_update_rebTemp_taskPeriodMillis: [1000, 1000, 1000], periodictasks_monitor_update_taskPeriodMillis: [1000, 1000, 1000]\n"
     ]
    }
   ],
   "source": [
    "data = comcam.rem.cccamera.evt_focal_plane_Reb_timersConfiguration.get()\n",
    "print(data)"
   ]
  },
  {
   "cell_type": "markdown",
   "id": "366c11b8-4cf7-43c4-8717-e1af95a00937",
   "metadata": {
    "tags": []
   },
   "source": [
    "### Step 100 - CCCamera_logevent_focal_plane_Segment_LimitsConfiguration"
   ]
  },
  {
   "cell_type": "code",
   "execution_count": 115,
   "id": "b69dde5b-2a05-490a-8f3b-8841e02377f8",
   "metadata": {},
   "outputs": [
    {
     "name": "stdout",
     "output_type": "stream",
     "text": [
      "private_revCode: dd97fcfd, private_sndStamp: 1660856129.5914397, private_rcvStamp: 1660925537.750529, private_seqNum: 1, private_identity: CCCamera, private_origin: 77630140, version: Limits:FocalPlane/comcam(7), i_warnHi: [1.2000000476837158, 1.2000000476837158, 1.2000000476837158, 1.2000000476837158, 1.2000000476837158, 1.2000000476837158, 1.2000000476837158, 1.2000000476837158, 1.2000000476837158, 1.2000000476837158, 1.2000000476837158, 1.2000000476837158, 1.2000000476837158, 1.2000000476837158, 1.2000000476837158, 1.2000000476837158, 1.2000000476837158, 1.2000000476837158, 1.2000000476837158, 1.2000000476837158, 1.2000000476837158, 1.2000000476837158, 1.2000000476837158, 1.2000000476837158, 1.2000000476837158, 1.2000000476837158, 1.2000000476837158, 1.2000000476837158, 1.2000000476837158, 1.2000000476837158, 1.2000000476837158, 1.2000000476837158, 1.2000000476837158, 1.2000000476837158, 1.2000000476837158, 1.2000000476837158, 1.2000000476837158, 1.2000000476837158, 1.2000000476837158, 1.2000000476837158, 1.2000000476837158, 1.2000000476837158, 1.2000000476837158, 1.2000000476837158, 1.2000000476837158, 1.2000000476837158, 1.2000000476837158, 1.2000000476837158, 1.2000000476837158, 1.2000000476837158, 1.2000000476837158, 1.2000000476837158, 1.2000000476837158, 1.2000000476837158, 1.2000000476837158, 1.2000000476837158, 1.2000000476837158, 1.2000000476837158, 1.2000000476837158, 1.2000000476837158, 1.2000000476837158, 1.2000000476837158, 1.2000000476837158, 1.2000000476837158, 1.2000000476837158, 1.2000000476837158, 1.2000000476837158, 1.2000000476837158, 1.2000000476837158, 1.2000000476837158, 1.2000000476837158, 1.2000000476837158, 1.2000000476837158, 1.2000000476837158, 1.2000000476837158, 1.2000000476837158, 1.2000000476837158, 1.2000000476837158, 1.2000000476837158, 1.2000000476837158, 1.2000000476837158, 1.2000000476837158, 1.2000000476837158, 1.2000000476837158, 1.2000000476837158, 1.2000000476837158, 1.2000000476837158, 1.2000000476837158, 1.2000000476837158, 1.2000000476837158, 1.2000000476837158, 1.2000000476837158, 1.2000000476837158, 1.2000000476837158, 1.2000000476837158, 1.2000000476837158, 1.2000000476837158, 1.2000000476837158, 1.2000000476837158, 1.2000000476837158, 1.2000000476837158, 1.2000000476837158, 1.2000000476837158, 1.2000000476837158, 1.2000000476837158, 1.2000000476837158, 1.2000000476837158, 1.2000000476837158, 1.2000000476837158, 1.2000000476837158, 1.2000000476837158, 1.2000000476837158, 1.2000000476837158, 1.2000000476837158, 1.2000000476837158, 1.2000000476837158, 1.2000000476837158, 1.2000000476837158, 1.2000000476837158, 1.2000000476837158, 1.2000000476837158, 1.2000000476837158, 1.2000000476837158, 1.2000000476837158, 1.2000000476837158, 1.2000000476837158, 1.2000000476837158, 1.2000000476837158, 1.2000000476837158, 1.2000000476837158, 1.2000000476837158, 1.2000000476837158, 1.2000000476837158, 1.2000000476837158, 1.2000000476837158, 1.2000000476837158, 1.2000000476837158, 1.2000000476837158, 1.2000000476837158, 1.2000000476837158, 1.2000000476837158, 1.2000000476837158, 1.2000000476837158, 1.2000000476837158], i_warnLo: [0.8999999761581421, 0.8999999761581421, 0.8999999761581421, 0.8999999761581421, 0.8999999761581421, 0.8999999761581421, 0.8999999761581421, 0.8999999761581421, 0.8999999761581421, 0.8999999761581421, 0.8999999761581421, 0.8999999761581421, 0.8999999761581421, 0.8999999761581421, 0.8999999761581421, 0.8999999761581421, 0.8999999761581421, 0.8999999761581421, 0.8999999761581421, 0.8999999761581421, 0.8999999761581421, 0.8999999761581421, 0.8999999761581421, 0.8999999761581421, 0.8999999761581421, 0.8999999761581421, 0.8999999761581421, 0.8999999761581421, 0.8999999761581421, 0.8999999761581421, 0.8999999761581421, 0.8999999761581421, 0.8999999761581421, 0.8999999761581421, 0.8999999761581421, 0.8999999761581421, 0.8999999761581421, 0.8999999761581421, 0.8999999761581421, 0.8999999761581421, 0.8999999761581421, 0.8999999761581421, 0.8999999761581421, 0.8999999761581421, 0.8999999761581421, 0.8999999761581421, 0.8999999761581421, 0.8999999761581421, 0.8999999761581421, 0.8999999761581421, 0.8999999761581421, 0.8999999761581421, 0.8999999761581421, 0.8999999761581421, 0.8999999761581421, 0.8999999761581421, 0.8999999761581421, 0.8999999761581421, 0.8999999761581421, 0.8999999761581421, 0.8999999761581421, 0.8999999761581421, 0.8999999761581421, 0.8999999761581421, 0.8999999761581421, 0.8999999761581421, 0.8999999761581421, 0.8999999761581421, 0.8999999761581421, 0.8999999761581421, 0.8999999761581421, 0.8999999761581421, 0.8999999761581421, 0.8999999761581421, 0.8999999761581421, 0.8999999761581421, 0.8999999761581421, 0.8999999761581421, 0.8999999761581421, 0.8999999761581421, 0.8999999761581421, 0.8999999761581421, 0.8999999761581421, 0.8999999761581421, 0.8999999761581421, 0.8999999761581421, 0.8999999761581421, 0.8999999761581421, 0.8999999761581421, 0.8999999761581421, 0.8999999761581421, 0.8999999761581421, 0.8999999761581421, 0.8999999761581421, 0.8999999761581421, 0.8999999761581421, 0.8999999761581421, 0.8999999761581421, 0.8999999761581421, 0.8999999761581421, 0.8999999761581421, 0.8999999761581421, 0.8999999761581421, 0.8999999761581421, 0.8999999761581421, 0.8999999761581421, 0.8999999761581421, 0.8999999761581421, 0.8999999761581421, 0.8999999761581421, 0.8999999761581421, 0.8999999761581421, 0.8999999761581421, 0.8999999761581421, 0.8999999761581421, 0.8999999761581421, 0.8999999761581421, 0.8999999761581421, 0.8999999761581421, 0.8999999761581421, 0.8999999761581421, 0.8999999761581421, 0.8999999761581421, 0.8999999761581421, 0.8999999761581421, 0.8999999761581421, 0.8999999761581421, 0.8999999761581421, 0.8999999761581421, 0.8999999761581421, 0.8999999761581421, 0.8999999761581421, 0.8999999761581421, 0.8999999761581421, 0.8999999761581421, 0.8999999761581421, 0.8999999761581421, 0.8999999761581421, 0.8999999761581421, 0.8999999761581421, 0.8999999761581421, 0.8999999761581421, 0.8999999761581421, 0.8999999761581421], i_limitHi: [1.2999999523162842, 1.2999999523162842, 1.2999999523162842, 1.2999999523162842, 1.2999999523162842, 1.2999999523162842, 1.2999999523162842, 1.2999999523162842, 1.2999999523162842, 1.2999999523162842, 1.2999999523162842, 1.2999999523162842, 1.2999999523162842, 1.2999999523162842, 1.2999999523162842, 1.2999999523162842, 1.2999999523162842, 1.2999999523162842, 1.2999999523162842, 1.2999999523162842, 1.2999999523162842, 1.2999999523162842, 1.2999999523162842, 1.2999999523162842, 1.2999999523162842, 1.2999999523162842, 1.2999999523162842, 1.2999999523162842, 1.2999999523162842, 1.2999999523162842, 1.2999999523162842, 1.2999999523162842, 1.2999999523162842, 1.2999999523162842, 1.2999999523162842, 1.2999999523162842, 1.2999999523162842, 1.2999999523162842, 1.2999999523162842, 1.2999999523162842, 1.2999999523162842, 1.2999999523162842, 1.2999999523162842, 1.2999999523162842, 1.2999999523162842, 1.2999999523162842, 1.2999999523162842, 1.2999999523162842, 1.2999999523162842, 1.2999999523162842, 1.2999999523162842, 1.2999999523162842, 1.2999999523162842, 1.2999999523162842, 1.2999999523162842, 1.2999999523162842, 1.2999999523162842, 1.2999999523162842, 1.2999999523162842, 1.2999999523162842, 1.2999999523162842, 1.2999999523162842, 1.2999999523162842, 1.2999999523162842, 1.2999999523162842, 1.2999999523162842, 1.2999999523162842, 1.2999999523162842, 1.2999999523162842, 1.2999999523162842, 1.2999999523162842, 1.2999999523162842, 1.2999999523162842, 1.2999999523162842, 1.2999999523162842, 1.2999999523162842, 1.2999999523162842, 1.2999999523162842, 1.2999999523162842, 1.2999999523162842, 1.2999999523162842, 1.2999999523162842, 1.2999999523162842, 1.2999999523162842, 1.2999999523162842, 1.2999999523162842, 1.2999999523162842, 1.2999999523162842, 1.2999999523162842, 1.2999999523162842, 1.2999999523162842, 1.2999999523162842, 1.2999999523162842, 1.2999999523162842, 1.2999999523162842, 1.2999999523162842, 1.2999999523162842, 1.2999999523162842, 1.2999999523162842, 1.2999999523162842, 1.2999999523162842, 1.2999999523162842, 1.2999999523162842, 1.2999999523162842, 1.2999999523162842, 1.2999999523162842, 1.2999999523162842, 1.2999999523162842, 1.2999999523162842, 1.2999999523162842, 1.2999999523162842, 1.2999999523162842, 1.2999999523162842, 1.2999999523162842, 1.2999999523162842, 1.2999999523162842, 1.2999999523162842, 1.2999999523162842, 1.2999999523162842, 1.2999999523162842, 1.2999999523162842, 1.2999999523162842, 1.2999999523162842, 1.2999999523162842, 1.2999999523162842, 1.2999999523162842, 1.2999999523162842, 1.2999999523162842, 1.2999999523162842, 1.2999999523162842, 1.2999999523162842, 1.2999999523162842, 1.2999999523162842, 1.2999999523162842, 1.2999999523162842, 1.2999999523162842, 1.2999999523162842, 1.2999999523162842, 1.2999999523162842, 1.2999999523162842, 1.2999999523162842, 1.2999999523162842, 1.2999999523162842, 1.2999999523162842], i_limitLo: [0.800000011920929, 0.800000011920929, 0.800000011920929, 0.800000011920929, 0.800000011920929, 0.800000011920929, 0.800000011920929, 0.800000011920929, 0.800000011920929, 0.800000011920929, 0.800000011920929, 0.800000011920929, 0.800000011920929, 0.800000011920929, 0.800000011920929, 0.800000011920929, 0.800000011920929, 0.800000011920929, 0.800000011920929, 0.800000011920929, 0.800000011920929, 0.800000011920929, 0.800000011920929, 0.800000011920929, 0.800000011920929, 0.800000011920929, 0.800000011920929, 0.800000011920929, 0.800000011920929, 0.800000011920929, 0.800000011920929, 0.800000011920929, 0.800000011920929, 0.800000011920929, 0.800000011920929, 0.800000011920929, 0.800000011920929, 0.800000011920929, 0.800000011920929, 0.800000011920929, 0.800000011920929, 0.800000011920929, 0.800000011920929, 0.800000011920929, 0.800000011920929, 0.800000011920929, 0.800000011920929, 0.800000011920929, 0.800000011920929, 0.800000011920929, 0.800000011920929, 0.800000011920929, 0.800000011920929, 0.800000011920929, 0.800000011920929, 0.800000011920929, 0.800000011920929, 0.800000011920929, 0.800000011920929, 0.800000011920929, 0.800000011920929, 0.800000011920929, 0.800000011920929, 0.800000011920929, 0.800000011920929, 0.800000011920929, 0.800000011920929, 0.800000011920929, 0.800000011920929, 0.800000011920929, 0.800000011920929, 0.800000011920929, 0.800000011920929, 0.800000011920929, 0.800000011920929, 0.800000011920929, 0.800000011920929, 0.800000011920929, 0.800000011920929, 0.800000011920929, 0.800000011920929, 0.800000011920929, 0.800000011920929, 0.800000011920929, 0.800000011920929, 0.800000011920929, 0.800000011920929, 0.800000011920929, 0.800000011920929, 0.800000011920929, 0.800000011920929, 0.800000011920929, 0.800000011920929, 0.800000011920929, 0.800000011920929, 0.800000011920929, 0.800000011920929, 0.800000011920929, 0.800000011920929, 0.800000011920929, 0.800000011920929, 0.800000011920929, 0.800000011920929, 0.800000011920929, 0.800000011920929, 0.800000011920929, 0.800000011920929, 0.800000011920929, 0.800000011920929, 0.800000011920929, 0.800000011920929, 0.800000011920929, 0.800000011920929, 0.800000011920929, 0.800000011920929, 0.800000011920929, 0.800000011920929, 0.800000011920929, 0.800000011920929, 0.800000011920929, 0.800000011920929, 0.800000011920929, 0.800000011920929, 0.800000011920929, 0.800000011920929, 0.800000011920929, 0.800000011920929, 0.800000011920929, 0.800000011920929, 0.800000011920929, 0.800000011920929, 0.800000011920929, 0.800000011920929, 0.800000011920929, 0.800000011920929, 0.800000011920929, 0.800000011920929, 0.800000011920929, 0.800000011920929, 0.800000011920929, 0.800000011920929, 0.800000011920929, 0.800000011920929, 0.800000011920929], location: R22S00Seg00:R22S00Seg01:R22S00Seg02:R22S00Seg03:R22S00Seg04:R22S00Seg05:R22S00Seg06:R22S00Seg07:R22S00Seg10:R22S00Seg11:R22S00Seg12:R22S00Seg13:R22S00Seg14:R22S00Seg15:R22S00Seg16:R22S00Seg17:R22S01Seg00:R22S01Seg01:R22S01Seg02:R22S01Seg03:R22S01Seg04:R22S01Seg05:R22S01Seg06:R22S01Seg07:R22S01Seg10:R22S01Seg11:R22S01Seg12:R22S01Seg13:R22S01Seg14:R22S01Seg15:R22S01Seg16:R22S01Seg17:R22S02Seg00:R22S02Seg01:R22S02Seg02:R22S02Seg03:R22S02Seg04:R22S02Seg05:R22S02Seg06:R22S02Seg07:R22S02Seg10:R22S02Seg11:R22S02Seg12:R22S02Seg13:R22S02Seg14:R22S02Seg15:R22S02Seg16:R22S02Seg17:R22S10Seg00:R22S10Seg01:R22S10Seg02:R22S10Seg03:R22S10Seg04:R22S10Seg05:R22S10Seg06:R22S10Seg07:R22S10Seg10:R22S10Seg11:R22S10Seg12:R22S10Seg13:R22S10Seg14:R22S10Seg15:R22S10Seg16:R22S10Seg17:R22S11Seg00:R22S11Seg01:R22S11Seg02:R22S11Seg03:R22S11Seg04:R22S11Seg05:R22S11Seg06:R22S11Seg07:R22S11Seg10:R22S11Seg11:R22S11Seg12:R22S11Seg13:R22S11Seg14:R22S11Seg15:R22S11Seg16:R22S11Seg17:R22S12Seg00:R22S12Seg01:R22S12Seg02:R22S12Seg03:R22S12Seg04:R22S12Seg05:R22S12Seg06:R22S12Seg07:R22S12Seg10:R22S12Seg11:R22S12Seg12:R22S12Seg13:R22S12Seg14:R22S12Seg15:R22S12Seg16:R22S12Seg17:R22S20Seg00:R22S20Seg01:R22S20Seg02:R22S20Seg03:R22S20Seg04:R22S20Seg05:R22S20Seg06:R22S20Seg07:R22S20Seg10:R22S20Seg11:R22S20Seg12:R22S20Seg13:R22S20Seg14:R22S20Seg15:R22S20Seg16:R22S20Seg17:R22S21Seg00:R22S21Seg01:R22S21Seg02:R22S21Seg03:R22S21Seg04:R22S21Seg05:R22S21Seg06:R22S21Seg07:R22S21Seg10:R22S21Seg11:R22S21Seg12:R22S21Seg13:R22S21Seg14:R22S21Seg15:R22S21Seg16:R22S21Seg17:R22S22Seg00:R22S22Seg01:R22S22Seg02:R22S22Seg03:R22S22Seg04:R22S22Seg05:R22S22Seg06:R22S22Seg07:R22S22Seg10:R22S22Seg11:R22S22Seg12:R22S22Seg13:R22S22Seg14:R22S22Seg15:R22S22Seg16:R22S22Seg17\n"
     ]
    }
   ],
   "source": [
    "data = comcam.rem.cccamera.evt_focal_plane_Segment_LimitsConfiguration.get()\n",
    "print(data)"
   ]
  },
  {
   "cell_type": "markdown",
   "id": "98c52cd3-7c6d-42c9-850e-a40beff11fb5",
   "metadata": {
    "tags": []
   },
   "source": [
    "### Step 101 - CCCamera_logevent_focal_plane_SequencerConfig_DAQConfiguration"
   ]
  },
  {
   "cell_type": "code",
   "execution_count": 116,
   "id": "3c4a57af-ca67-4381-9389-e030bbebacb8",
   "metadata": {},
   "outputs": [
    {
     "name": "stdout",
     "output_type": "stream",
     "text": [
      "private_revCode: c5603a3f, private_sndStamp: 1660856129.5922763, private_rcvStamp: 1660925537.751225, private_seqNum: 1, private_identity: CCCamera, private_origin: 77630140, version: DAQ:FocalPlane/common(1)|FocalPlane/comcam(1)|FocalPlane/comcam-tucson(2), badPixelAlarmLimit: 0, daqFolder: raw, daqPartition: comcam, emulatedDAQ: True\n"
     ]
    }
   ],
   "source": [
    "data = comcam.rem.cccamera.evt_focal_plane_SequencerConfig_DAQConfiguration.get()\n",
    "print(data)"
   ]
  },
  {
   "cell_type": "markdown",
   "id": "81f7e4e0-2fa7-45a5-9bef-7c155bbd8449",
   "metadata": {
    "tags": []
   },
   "source": [
    "### Step 102 - CCCamera_logevent_focal_plane_SequencerConfig_SequencerConfiguration"
   ]
  },
  {
   "cell_type": "code",
   "execution_count": 117,
   "id": "dd6a7d81-be41-453e-95d2-309b906a0705",
   "metadata": {},
   "outputs": [
    {
     "name": "stdout",
     "output_type": "stream",
     "text": [
      "private_revCode: 6e17d419, private_sndStamp: 1660856129.5918293, private_rcvStamp: 1660925537.7521915, private_seqNum: 1, private_identity: CCCamera, private_origin: 77630140, version: Sequencer:FocalPlane/common(1)|FocalPlane/v26(4), clearCountParameter: ClearCount, clearMain: Clear, idleFlushMain: Idle, idleFlushTimeout: 0, integrateMain: Integrate, metaDataRegisters: UnderCols:PreCols:ReadCols:PostCols:ReadCols2:OverCols:PreRows:ReadRows:PostRows:OverRows:OpFlags, overCols: -1, overRows: -1, postCols: -1, postRows: -1, preCols: -1, preRows: -1, pseudoReadMain: PseudoRead, readCols: -1, readCols2: -1, readMain: Read, readRows: -1, rowShiftForwardMain: RowShiftF, rowShiftReverseMain: RowShiftR, scanMode: False, sequencer: {E2V=FP_E2V_2s_ir2_v26.seq, ITL=FP_ITL_2s_ir2_v26.seq}, sequencerChecksums: {E2V=3099412345, ITL=980618532}, shiftCountParameter: ShiftCount, stepAfterIntegrate: False, transparentMode: -1, underCols: -1, useParallelRegisters: False\n"
     ]
    }
   ],
   "source": [
    "data = comcam.rem.cccamera.evt_focal_plane_SequencerConfig_SequencerConfiguration.get()\n",
    "print(data)"
   ]
  },
  {
   "cell_type": "markdown",
   "id": "13c19f33-34b2-4e26-a3f4-a1b3133d37ed",
   "metadata": {
    "tags": []
   },
   "source": [
    "### Step 103 - CCCamera_logevent_focal_plane_WebHooksConfig_VisualizationConfiguration"
   ]
  },
  {
   "cell_type": "code",
   "execution_count": 118,
   "id": "55e01772-a1b0-46d7-b3cd-3302198b5846",
   "metadata": {},
   "outputs": [
    {
     "name": "stdout",
     "output_type": "stream",
     "text": [
      "private_revCode: 2a160545, private_sndStamp: 1660856129.5920625, private_rcvStamp: 1660925537.7528589, private_seqNum: 1, private_identity: CCCamera, private_origin: 77630140, version: Visualization:FocalPlane/tucson(1), webHooks: []\n"
     ]
    }
   ],
   "source": [
    "data = comcam.rem.cccamera.evt_focal_plane_WebHooksConfig_VisualizationConfiguration.get()\n",
    "print(data)"
   ]
  },
  {
   "cell_type": "markdown",
   "id": "00237079-cc60-4250-9d81-e8459e9a3b61",
   "metadata": {
    "tags": []
   },
   "source": [
    "### Step 104 - CCCamera_logevent_image_handling_ImageHandler_CommandsConfiguration"
   ]
  },
  {
   "cell_type": "code",
   "execution_count": 119,
   "id": "575fb355-e3f3-4642-a752-8469cf2e0479",
   "metadata": {},
   "outputs": [
    {
     "name": "stdout",
     "output_type": "stream",
     "text": [
      "private_revCode: 2d2e2b79, private_sndStamp: 1660856128.2518587, private_rcvStamp: 1660925537.7576537, private_seqNum: 1, private_identity: CCCamera, private_origin: 77630140, version: Commands:ImageHandling/common(1)|ImageHandling/comcam(1)|ImageHandling/comcam-tucson(4), imagehandlingconfig_commands: [env; /home/srp/ccs-push/bin/ccs-push -h comcam-archiver.tu.lsst.org -c comcam -s ${DATE}/${SEQNO} -f ${FITSFILE}; export PATH=~/bin:$PATH; source ~/bin/mc-secret; push-usdf], imagehandlingconfig_currentDirectory: ., imagehandlingconfig_environment: {BUCKET=oga-test, INSTRUMENT=ComCam}, imagehandlingconfig_logDirectory: /var/log/ccs/image-handling/\n"
     ]
    }
   ],
   "source": [
    "data = comcam.rem.cccamera.evt_image_handling_ImageHandler_CommandsConfiguration.get()\n",
    "print(data)"
   ]
  },
  {
   "cell_type": "markdown",
   "id": "e29a7781-b2fe-4c8c-8ff6-1864de0a9edf",
   "metadata": {
    "tags": []
   },
   "source": [
    "### Step 105 - CCCamera_logevent_image_handling_ImageHandler_DAQConfiguration"
   ]
  },
  {
   "cell_type": "code",
   "execution_count": 120,
   "id": "e429c66c-5bc6-41a6-8565-c376f2d173c5",
   "metadata": {},
   "outputs": [
    {
     "name": "stdout",
     "output_type": "stream",
     "text": [
      "private_revCode: 63c07518, private_sndStamp: 1660856128.2544608, private_rcvStamp: 1660925537.758401, private_seqNum: 1, private_identity: CCCamera, private_origin: 77630140, version: DAQ:ImageHandling/common(1)|ImageHandling/comcam(1)|ImageHandling/comcam-tucson(1), imagehandlingconfig_badPixelAlarmLevel: 20000, imagehandlingconfig_badPixelHighThreshold: 240000, imagehandlingconfig_badPixelLowThreshold: 10000, imagehandlingconfig_badPixelWarningLevel: 0, imagehandlingconfig_checkForBadPixels: True, imagehandlingconfig_daqFolder: raw, imagehandlingconfig_daqPartition: comcam, imagehandlingconfig_daqThreads: 4, imagehandlingconfig_locations: NOTFOUND, imagehandlingconfig_useStreaming: True\n"
     ]
    }
   ],
   "source": [
    "data = comcam.rem.cccamera.evt_image_handling_ImageHandler_DAQConfiguration.get()\n",
    "print(data)"
   ]
  },
  {
   "cell_type": "markdown",
   "id": "1a37dffa-a26f-4646-90f4-8ce10b14e4cd",
   "metadata": {
    "tags": []
   },
   "source": [
    "### Step 106 - CCCamera_logevent_image_handling_ImageHandler_FitsHandlingConfiguration"
   ]
  },
  {
   "cell_type": "code",
   "execution_count": 121,
   "id": "c2cfe941-d9f6-4c13-9c54-08b56ae72c10",
   "metadata": {},
   "outputs": [
    {
     "name": "stdout",
     "output_type": "stream",
     "text": [
      "private_revCode: b0498dae, private_sndStamp: 1660856128.250922, private_rcvStamp: 1660925537.7591996, private_seqNum: 1, private_identity: CCCamera, private_origin: 77630140, version: FitsHandling:ImageHandling/common(2)|ImageHandling/comcam(4)|ImageHandling/comcam-tucson(2), imagehandlingconfig_FITSAutoSave: True, imagehandlingconfig_FITSDirectoryPattern: ${ImageDate}/${ImageName}, imagehandlingconfig_FITSFilePattern: ${ImageName}_${RaftBay}_${CCDSlot}.fits, imagehandlingconfig_FITSRootDirectory: /ccs-data/ccs-data/comcam/ccs-ipa/, imagehandlingconfig_subsystemsToClearOnNewRun: NOTFOUND, imagehandlingconfig_tempFileRelativeLocation: NOTFOUND, imagehandlingconfig_useTempFile: False, imagehandlingconfig_waitForHeaderService: AUTO\n"
     ]
    }
   ],
   "source": [
    "data = comcam.rem.cccamera.evt_image_handling_ImageHandler_FitsHandlingConfiguration.get()\n",
    "print(data)"
   ]
  },
  {
   "cell_type": "markdown",
   "id": "aaac1329-a318-4a0c-9b54-5630c56f2b7b",
   "metadata": {
    "tags": []
   },
   "source": [
    "### Step 107 - CCCamera_logevent_image_handling_PeriodicTasks_GeneralConfiguration"
   ]
  },
  {
   "cell_type": "code",
   "execution_count": 122,
   "id": "a3471f2d-dcdf-431d-acff-3b6201b7385d",
   "metadata": {},
   "outputs": [
    {
     "name": "stdout",
     "output_type": "stream",
     "text": [
      "private_revCode: 40530889, private_sndStamp: 1660856128.2534158, private_rcvStamp: 1660925537.7598903, private_seqNum: 1, private_identity: CCCamera, private_origin: 77630140, version: General:ImageHandling/comcam(10)|ImageHandling/comcam-tucson(2), schedulers_default_nTasks: 3, schedulers_default_nThreads: 8\n"
     ]
    }
   ],
   "source": [
    "data = comcam.rem.cccamera.evt_image_handling_PeriodicTasks_GeneralConfiguration.get()\n",
    "print(data)"
   ]
  },
  {
   "cell_type": "markdown",
   "id": "bab148b3-450d-4af2-964e-7a2eb3e3458b",
   "metadata": {
    "tags": []
   },
   "source": [
    "### Step 108 - CCCamera_logevent_image_handling_PeriodicTasks_timersConfiguration"
   ]
  },
  {
   "cell_type": "code",
   "execution_count": 123,
   "id": "152d3f63-0dc1-4922-ac17-b8f86670166d",
   "metadata": {},
   "outputs": [
    {
     "name": "stdout",
     "output_type": "stream",
     "text": [
      "private_revCode: 2a3445de, private_sndStamp: 1660856128.254887, private_rcvStamp: 1660925537.7605848, private_seqNum: 1, private_identity: CCCamera, private_origin: 77630140, version: timers:ImageHandling/defaultInitial(1), agentmonitorservice_taskPeriodMillis: 60000, heartbeat_taskPeriodMillis: 1000, runtimeinfo_taskPeriodMillis: 60000\n"
     ]
    }
   ],
   "source": [
    "data = comcam.rem.cccamera.evt_image_handling_PeriodicTasks_timersConfiguration.get()\n",
    "print(data)"
   ]
  },
  {
   "cell_type": "markdown",
   "id": "4f35f00e-59fc-49d5-b119-d52e9141fb53",
   "metadata": {
    "tags": []
   },
   "source": [
    "### Step 109 - CCCamera_logevent_image_handling_Reb_FitsHandlingConfiguration"
   ]
  },
  {
   "cell_type": "code",
   "execution_count": 124,
   "id": "571518b7-b638-467a-b7a1-77a376d08807",
   "metadata": {},
   "outputs": [
    {
     "name": "stdout",
     "output_type": "stream",
     "text": [
      "private_revCode: 2d11d5a3, private_sndStamp: 1660856128.2530549, private_rcvStamp: 1660925537.76138, private_seqNum: 1, private_identity: CCCamera, private_origin: 77630140, version: FitsHandling:ImageHandling/common(2)|ImageHandling/comcam(4)|ImageHandling/comcam-tucson(2), enabled: [True, True, True], location: R22Reb0:R22Reb1:R22Reb2\n"
     ]
    }
   ],
   "source": [
    "data = comcam.rem.cccamera.evt_image_handling_Reb_FitsHandlingConfiguration.get()\n",
    "print(data)"
   ]
  },
  {
   "cell_type": "markdown",
   "id": "da2a4684-4cb0-4a12-9e68-62c58e2fa5e1",
   "metadata": {
    "tags": []
   },
   "source": [
    "### Step 110 - CCCamera_logevent_image_handling_Reb_GeneralConfiguration"
   ]
  },
  {
   "cell_type": "code",
   "execution_count": 125,
   "id": "d9273c0f-a906-4b15-bcce-6671a676f39d",
   "metadata": {},
   "outputs": [
    {
     "name": "stdout",
     "output_type": "stream",
     "text": [
      "private_revCode: 6c590385, private_sndStamp: 1660856128.2512977, private_rcvStamp: 1660925537.7620585, private_seqNum: 1, private_identity: CCCamera, private_origin: 77630140, version: General:ImageHandling/comcam(10)|ImageHandling/comcam-tucson(2), fitsservice_headerFilesList: [primary, daqv4-primary:primary, ih-primary:primary, comcam-primary:primary, comcam-primary-tucson:primary, extended, header-service-primary:primary, ih-reb_cond, ih-config_cond], location: R22Reb0:R22Reb1:R22Reb2\n"
     ]
    }
   ],
   "source": [
    "data = comcam.rem.cccamera.evt_image_handling_Reb_GeneralConfiguration.get()\n",
    "print(data)"
   ]
  },
  {
   "cell_type": "markdown",
   "id": "481c0177-ff01-4264-a62c-f4e32f5a4633",
   "metadata": {
    "tags": []
   },
   "source": [
    "### Step 111 - CCCamera_logevent_mpm_PeriodTasks_GeneralConfiguration"
   ]
  },
  {
   "cell_type": "code",
   "execution_count": 126,
   "id": "bb288983-38fd-4fcb-975a-b036a09cbd15",
   "metadata": {},
   "outputs": [
    {
     "name": "stdout",
     "output_type": "stream",
     "text": [
      "None\n"
     ]
    }
   ],
   "source": [
    "data = comcam.rem.cccamera.evt_mpm_PeriodicTasks_GeneralConfiguration.get()\n",
    "print(data)"
   ]
  },
  {
   "cell_type": "markdown",
   "id": "637ee02d-2178-4f50-ac90-d6393fc35030",
   "metadata": {
    "tags": []
   },
   "source": [
    "### Step 112 - CCCamera_logevent_mpm_PeriodTasks_timersConfiguration"
   ]
  },
  {
   "cell_type": "code",
   "execution_count": 127,
   "id": "7eee8da2-cabd-4a27-b7ee-2fccf3962f41",
   "metadata": {},
   "outputs": [
    {
     "name": "stdout",
     "output_type": "stream",
     "text": [
      "None\n"
     ]
    }
   ],
   "source": [
    "data = comcam.rem.cccamera.evt_mpm_PeriodicTasks_timersConfiguration.get()\n",
    "print(data)"
   ]
  },
  {
   "cell_type": "markdown",
   "id": "992d68ff-bd39-4900-8dfd-a0db1e61906e",
   "metadata": {
    "tags": []
   },
   "source": [
    "### Step 113 - CCCamera_logevent_mpm_Pluto_DeviceConfiguration"
   ]
  },
  {
   "cell_type": "code",
   "execution_count": 128,
   "id": "83a47141-c8dd-4d94-bfbb-e31d6af50667",
   "metadata": {},
   "outputs": [
    {
     "name": "stdout",
     "output_type": "stream",
     "text": [
      "None\n"
     ]
    }
   ],
   "source": [
    "data = comcam.rem.cccamera.evt_mpm_Pluto_DeviceConfiguration.get()\n",
    "print(data)"
   ]
  },
  {
   "cell_type": "markdown",
   "id": "56291996-109e-4776-b29b-21ca19fb9c02",
   "metadata": {
    "tags": []
   },
   "source": [
    "### Step 114 - CCCamera_logevent_mpm_Pluto_DevicesConfiguration"
   ]
  },
  {
   "cell_type": "code",
   "execution_count": 129,
   "id": "f224a423-e325-4ebc-90e9-9a3405478b36",
   "metadata": {},
   "outputs": [
    {
     "name": "stdout",
     "output_type": "stream",
     "text": [
      "None\n"
     ]
    }
   ],
   "source": [
    "data = comcam.rem.cccamera.evt_mpm_Pluto_DevicesConfiguration.get()\n",
    "print(data)"
   ]
  }
 ],
 "metadata": {
  "kernelspec": {
   "display_name": "LSST",
   "language": "python",
   "name": "lsst"
  },
  "language_info": {
   "codemirror_mode": {
    "name": "ipython",
    "version": 3
   },
   "file_extension": ".py",
   "mimetype": "text/x-python",
   "name": "python",
   "nbconvert_exporter": "python",
   "pygments_lexer": "ipython3",
   "version": "3.10.4"
  }
 },
 "nbformat": 4,
 "nbformat_minor": 5
}
