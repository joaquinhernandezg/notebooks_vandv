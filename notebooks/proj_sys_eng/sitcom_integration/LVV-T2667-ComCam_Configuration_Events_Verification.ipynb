{
 "cells": [
  {
   "cell_type": "markdown",
   "id": "1ba71da5-75a5-4d89-bb84-840cb2f09059",
   "metadata": {
    "tags": []
   },
   "source": [
    "# Test Case LVV-T2667\n",
    "\n",
    "The purpose of this test case is to verify the ComCam Events related to the configuration are published to the EFD as defined in XMLv12.0.0.\n",
    "Check that the values from the EFD are consistent with the values from the configuration file."
   ]
  },
  {
   "cell_type": "code",
   "execution_count": null,
   "id": "477e80a8-3345-40c9-b241-bb00d3c1fdcc",
   "metadata": {},
   "outputs": [],
   "source": [
    "from lsst.sitcom import vandv\n",
    "\n",
    "exec_info = vandv.ExecutionInfo()\n",
    "print(exec_info)"
   ]
  },
  {
   "cell_type": "markdown",
   "id": "ee6d5fc1-8114-4514-bed4-ff15dc061841",
   "metadata": {
    "tags": []
   },
   "source": [
    "# Setup"
   ]
  },
  {
   "cell_type": "code",
   "execution_count": null,
   "id": "cc3a4c40-5c5d-45ff-8729-d312582f55fc",
   "metadata": {
    "tags": []
   },
   "outputs": [],
   "source": [
    "import asyncio\n",
    "import logging\n",
    "import os\n",
    "import yaml\n",
    "\n",
    "import astropy.units as u\n",
    "import numpy as np\n",
    "import pandas as pd\n",
    "\n",
    "from astropy.time import Time\n",
    "from datetime import datetime, timedelta\n",
    "from matplotlib import pyplot as plt\n",
    "\n",
    "from lsst.ts.observatory.control.maintel import ComCam\n",
    "from lsst.ts.observing.utilities.decorated_logger import DecoratedLogger\n",
    "from lsst_efd_client import EfdClient\n",
    "from lsst.ts import salobj"
   ]
  },
  {
   "cell_type": "markdown",
   "id": "a18d235b-2221-4e7a-aa50-2a34072ba3c1",
   "metadata": {},
   "source": [
    "The following block sets the necessary environment variables for setting up the DDS/SAL communication"
   ]
  },
  {
   "cell_type": "code",
   "execution_count": null,
   "id": "9aed0184-06b7-463f-8a43-00558cded4d6",
   "metadata": {},
   "outputs": [],
   "source": [
    "os.environ[\"LSST_DDS_HISTORYSYNC\"] = \"30\""
   ]
  },
  {
   "cell_type": "markdown",
   "id": "acd6c870-7fe8-408e-b00c-41915653622a",
   "metadata": {},
   "source": [
    "Setting up logger"
   ]
  },
  {
   "cell_type": "code",
   "execution_count": null,
   "id": "c468edd4-e263-42fe-b50a-97629c61d887",
   "metadata": {},
   "outputs": [],
   "source": [
    "logger = DecoratedLogger.get_decorated_logger()\n",
    "logger.level = logging.DEBUG"
   ]
  },
  {
   "cell_type": "markdown",
   "id": "373219ab-4c68-4969-af53-421eb62e356d",
   "metadata": {},
   "source": [
    "Getting unique index for Script"
   ]
  },
  {
   "cell_type": "code",
   "execution_count": null,
   "id": "2d91837c-889f-443d-8349-93d71f4fd391",
   "metadata": {},
   "outputs": [],
   "source": [
    "logger.info(f'Your UID is {os.getuid()}')\n",
    "index = os.getuid() * 10 + np.random.randint(0, 9)\n",
    "\n",
    "logger.info(f'The generated index is {index}')"
   ]
  },
  {
   "cell_type": "markdown",
   "id": "e34b1fd5-0cca-4e40-a916-aec7755b69cc",
   "metadata": {},
   "source": [
    "Make sure DDS Daemon is running and startup Domain"
   ]
  },
  {
   "cell_type": "code",
   "execution_count": null,
   "id": "e2aed539-bc9f-4121-98e8-b1e4e532226c",
   "metadata": {},
   "outputs": [],
   "source": [
    "domain = salobj.Domain()"
   ]
  },
  {
   "cell_type": "markdown",
   "id": "77dc5125-78ec-48b0-9be8-943098155fd9",
   "metadata": {},
   "source": [
    "Instantiate script for logging into EFD and start script task"
   ]
  },
  {
   "cell_type": "code",
   "execution_count": null,
   "id": "8f45a542-6176-477f-b9cc-9780fa89873f",
   "metadata": {},
   "outputs": [],
   "source": [
    "test_message = \"LVV-T2667 ComCam Configuration Events Verification\"\n",
    "script = salobj.Controller(\"Script\", index=index)\n",
    "await script.start_task"
   ]
  },
  {
   "cell_type": "markdown",
   "id": "57acbb5f-a059-4703-9e1a-f39b6508c6ed",
   "metadata": {},
   "source": [
    "EFD setup"
   ]
  },
  {
   "cell_type": "code",
   "execution_count": null,
   "id": "a0def604-804c-4ec8-8101-f062e19901da",
   "metadata": {},
   "outputs": [],
   "source": [
    "client = vandv.efd.create_efd_client()"
   ]
  },
  {
   "cell_type": "markdown",
   "id": "9242d76f-f8af-4c92-8e2c-de4fde37f6bd",
   "metadata": {},
   "source": [
    "ComCam Initialization"
   ]
  },
  {
   "cell_type": "code",
   "execution_count": null,
   "id": "42bfc0d2-080f-4091-be87-bd6186e7f81f",
   "metadata": {},
   "outputs": [],
   "source": [
    "comcam = ComCam(domain=domain)\n",
    "comcam.set_rem_loglevel(40)"
   ]
  },
  {
   "cell_type": "code",
   "execution_count": null,
   "id": "94d9fb6a-ddf4-47ea-a2ce-e225f863e74b",
   "metadata": {},
   "outputs": [],
   "source": [
    "await comcam.start_task"
   ]
  },
  {
   "cell_type": "code",
   "execution_count": null,
   "id": "f17df539-fe9a-48e3-a13a-4419a4b44ecb",
   "metadata": {},
   "outputs": [],
   "source": [
    "await comcam.standby()"
   ]
  },
  {
   "cell_type": "code",
   "execution_count": null,
   "id": "ae29fd8a-c0e9-425b-a621-c80ec9a4794c",
   "metadata": {},
   "outputs": [],
   "source": [
    "def evt_time_callback(evt):\n",
    "    \"\"\"Print event and time when it is received.\"\"\"\n",
    "    time_evt = datetime.utcfromtimestamp(evt.private_sndStamp-37).strftime(\"%Y-%m-%d %H:%M:%S.%f\")[:-3]\n",
    "    evt_name = str(evt.__class__).split('_')[2]\n",
    "    print(f'\\n {evt_name} logevent at {time_evt} is \\n \\t{evt}')"
   ]
  },
  {
   "cell_type": "code",
   "execution_count": null,
   "id": "048f7f7e-a743-421a-89e3-4e66e81b7f22",
   "metadata": {},
   "outputs": [],
   "source": [
    "async def check_telemetry(topic):\n",
    "    tel = await client.select_top_n(topic,'*',num=1)\n",
    "    time_tel = datetime.utcfromtimestamp(tel['private_efdStamp'][0]).strftime(\"%Y-%m-%d %H:%M:%S.%f\")[:-3]\n",
    "    print(f'Last {topic} telemetry was at {time_tel} UTC \\n \\tvs time now is {Time.now()}')"
   ]
  },
  {
   "cell_type": "markdown",
   "id": "37cad355-02db-4355-996b-56b5f3ed90ff",
   "metadata": {},
   "source": [
    "Publish in the EFD that test is starting"
   ]
  },
  {
   "cell_type": "code",
   "execution_count": null,
   "id": "07c3fb0c-5a7d-4295-9aad-2282daa2a0fb",
   "metadata": {},
   "outputs": [],
   "source": [
    "script.log.info(f'START- {test_message} -- at {Time(datetime.now())}')"
   ]
  },
  {
   "cell_type": "markdown",
   "id": "f33af78b-7bb1-4cb5-8f62-48def80d968c",
   "metadata": {},
   "source": [
    "# Start of Verification of Events"
   ]
  },
  {
   "cell_type": "markdown",
   "id": "eb4463d5-2638-4afb-9a71-7c289eead98b",
   "metadata": {
    "jp-MarkdownHeadingCollapsed": true,
    "tags": []
   },
   "source": [
    "### Step 1 - Initial Verification of CCCamera_logevent_configurationApplied event"
   ]
  },
  {
   "cell_type": "markdown",
   "id": "820544d8-36bf-4a62-8647-ee20e91b739e",
   "metadata": {},
   "source": [
    "The events published as a result of this step will identify which specific ComCam configuration events will actually be published to the EFD. "
   ]
  },
  {
   "cell_type": "code",
   "execution_count": null,
   "id": "6ab63f07-779f-4ca5-a37e-6aff17925284",
   "metadata": {},
   "outputs": [],
   "source": [
    "await comcam.rem.cccamera.cmd_start.set_start()"
   ]
  },
  {
   "cell_type": "code",
   "execution_count": null,
   "id": "87c10379-5184-478d-994e-bad11c7c70fa",
   "metadata": {},
   "outputs": [],
   "source": [
    "data = comcam.rem.ccamera.evt_configurationApplied.get()\n",
    "print(data)"
   ]
  },
  {
   "cell_type": "markdown",
   "id": "962eaf65-558a-4713-ae14-5d906a35aa54",
   "metadata": {
    "tags": []
   },
   "source": [
    "## Verification of Individual Configuration Events"
   ]
  },
  {
   "cell_type": "markdown",
   "id": "9c897e59-8f18-49e0-92b1-bd5849023f50",
   "metadata": {
    "jp-MarkdownHeadingCollapsed": true,
    "tags": []
   },
   "source": [
    "### Step 2 - CCCamera_logevent_fcs_GeneralConfiguration"
   ]
  },
  {
   "cell_type": "code",
   "execution_count": null,
   "id": "25383472-71e7-4fff-bb14-b7325dd455c1",
   "metadata": {},
   "outputs": [],
   "source": [
    "data = comcam.rem.ccamera.evt_fcs_GeneralConfiguration.get()\n",
    "print(data)"
   ]
  },
  {
   "cell_type": "markdown",
   "id": "ddc79efd-1aba-4afb-bc6c-a580b19148a4",
   "metadata": {
    "jp-MarkdownHeadingCollapsed": true,
    "tags": []
   },
   "source": [
    "### Step 3 - CCCamera_logevent_fcs_LinearEncoder_DevicesConfiguration"
   ]
  },
  {
   "cell_type": "code",
   "execution_count": null,
   "id": "51dde943-e921-489b-94d8-158efb687a7a",
   "metadata": {},
   "outputs": [],
   "source": [
    "data = comcam.rem.ccamera.evt_fcs_LinearEncoder_DevicesConfiguration.get()\n",
    "print(data)"
   ]
  },
  {
   "cell_type": "markdown",
   "id": "1fadf94f-b7d4-49ab-888b-d550eb09e117",
   "metadata": {
    "jp-MarkdownHeadingCollapsed": true,
    "tags": []
   },
   "source": [
    "### Step 4 - CCCamera_logevent_fcs_LinearEncoder_GeneralConfiguration"
   ]
  },
  {
   "cell_type": "code",
   "execution_count": null,
   "id": "8a2c7cd3-4369-485c-90c1-816b66b128fa",
   "metadata": {},
   "outputs": [],
   "source": [
    "data = comcam.rem.ccamera.evt_fcs_LinearEncoder_GeneralConfiguration.get()\n",
    "print(data)"
   ]
  },
  {
   "cell_type": "markdown",
   "id": "80c126af-69dd-4944-a7a7-43fdea3c2888",
   "metadata": {
    "jp-MarkdownHeadingCollapsed": true,
    "tags": []
   },
   "source": [
    "### Step 5 - CCCamera_logevent_fcs_LinearEncoder_LimitsConfiguration"
   ]
  },
  {
   "cell_type": "code",
   "execution_count": null,
   "id": "f2f151fe-d68f-49cc-ab20-e1565889b714",
   "metadata": {},
   "outputs": [],
   "source": [
    "data = comcam.rem.ccamera.evt_fcs_LinearEncoder_LimitsConfiguration.get()\n",
    "print(data)"
   ]
  },
  {
   "cell_type": "markdown",
   "id": "b8e6c525-ef6d-4e82-be46-31a5a7e2f59d",
   "metadata": {
    "jp-MarkdownHeadingCollapsed": true,
    "tags": []
   },
   "source": [
    "### Step 6 - CCCamera_logevent_fcs_PeriodTasks_GeneralConfiguration"
   ]
  },
  {
   "cell_type": "code",
   "execution_count": null,
   "id": "efa8265c-13e7-487e-85ed-2a1529625481",
   "metadata": {},
   "outputs": [],
   "source": [
    "data = comcam.rem.ccamera.evt_fcs_PeriodTasks_GeneralConfiguration.get()\n",
    "print(data)"
   ]
  },
  {
   "cell_type": "markdown",
   "id": "59d63d28-673f-4946-b3f7-00bfd0353547",
   "metadata": {
    "jp-MarkdownHeadingCollapsed": true,
    "tags": []
   },
   "source": [
    "### Step 7 - CCCamera_logevent_fcs_PeriodTasks_timersConfiguration"
   ]
  },
  {
   "cell_type": "code",
   "execution_count": null,
   "id": "9826c0fb-2f0e-4c60-a23f-c5006206655a",
   "metadata": {},
   "outputs": [],
   "source": [
    "data = comcam.rem.ccamera.evt_fcs_PeriodTasks_timersConfiguration.get()\n",
    "print(data)"
   ]
  },
  {
   "cell_type": "markdown",
   "id": "d4a66487-b707-48ce-872b-b0f827f9106d",
   "metadata": {
    "jp-MarkdownHeadingCollapsed": true,
    "tags": []
   },
   "source": [
    "### Step 8 - CCCamera_logevent_fcs_StepperMotor_DevicesConfiguration"
   ]
  },
  {
   "cell_type": "code",
   "execution_count": null,
   "id": "f929f456-f766-4ab9-9ea4-1e93f129c164",
   "metadata": {},
   "outputs": [],
   "source": [
    "data = comcam.rem.ccamera.evt_fcs_StepperMotor_DevicesConfiguration.get()\n",
    "print(data)"
   ]
  },
  {
   "cell_type": "markdown",
   "id": "565a3013-c737-49d9-9ec8-89bca697fa71",
   "metadata": {
    "jp-MarkdownHeadingCollapsed": true,
    "tags": []
   },
   "source": [
    "### Step 9 - CCCamera_logevent_fcs_StepperMotor_GeneralConfiguration"
   ]
  },
  {
   "cell_type": "code",
   "execution_count": null,
   "id": "000b5cde-d32b-41e2-b516-cefab5fdca0f",
   "metadata": {},
   "outputs": [],
   "source": [
    "data = comcam.rem.ccamera.evt_fcs_StepperMotor_GeneralConfiguration.get()\n",
    "print(data)"
   ]
  },
  {
   "cell_type": "markdown",
   "id": "96d1ac0d-3df9-4505-911a-a53789fdad0a",
   "metadata": {
    "jp-MarkdownHeadingCollapsed": true,
    "tags": []
   },
   "source": [
    "### Step 10 - CCCamera_logevent_fcs_StepperMotor_LimitsConfiguration"
   ]
  },
  {
   "cell_type": "code",
   "execution_count": null,
   "id": "a7630365-4cdb-4407-bc47-d7260c798b50",
   "metadata": {},
   "outputs": [],
   "source": [
    "data = comcam.rem.ccamera.evt_fcs_StepperMotor_LimitsConfiguration.get()\n",
    "print(data)"
   ]
  },
  {
   "cell_type": "markdown",
   "id": "a79f278b-f373-4780-9233-5e91c0ec7240",
   "metadata": {
    "jp-MarkdownHeadingCollapsed": true,
    "tags": []
   },
   "source": [
    "### Step 11 - CCCamera_logevent_fcs_StepperMotor_MotorConfiguration"
   ]
  },
  {
   "cell_type": "code",
   "execution_count": null,
   "id": "c2da8240-874f-415c-ad9e-af5e80942c3b",
   "metadata": {},
   "outputs": [],
   "source": [
    "data = comcam.rem.ccamera.evt_fcs_StepperMotor_MotorConfiguration.get()\n",
    "print(data)"
   ]
  },
  {
   "cell_type": "markdown",
   "id": "0e61fe0a-6857-4f33-9897-6758fd0b1bca",
   "metadata": {
    "jp-MarkdownHeadingCollapsed": true,
    "tags": []
   },
   "source": [
    "### Step 12 - CCCamera_logevent_bonn_shutter_Device_DevicesConfiguration"
   ]
  },
  {
   "cell_type": "code",
   "execution_count": null,
   "id": "3722e8fc-a4fb-4bf0-98cf-8aef5125d93b",
   "metadata": {},
   "outputs": [],
   "source": [
    "data = comcam.rem.ccamera.evt_fcs_GeneralConfiguration.get()\n",
    "print(data)"
   ]
  },
  {
   "cell_type": "markdown",
   "id": "623c4e7d-6f6b-4034-b2bc-7921ee56ec36",
   "metadata": {
    "jp-MarkdownHeadingCollapsed": true,
    "tags": []
   },
   "source": [
    "### Step 13 - CCCamera_logevent_bonn_shutter_Device_GeneralConfiguration"
   ]
  },
  {
   "cell_type": "code",
   "execution_count": null,
   "id": "4e1b7ba1-11af-4354-a634-e1422bdc6a74",
   "metadata": {},
   "outputs": [],
   "source": [
    "data = comcam.rem.ccamera.evt_bonn_shutter_Device_DevicesConfiguration.get()\n",
    "print(data)"
   ]
  },
  {
   "cell_type": "markdown",
   "id": "96966eb3-0a6c-445d-86b9-8680311c44bb",
   "metadata": {
    "jp-MarkdownHeadingCollapsed": true,
    "tags": []
   },
   "source": [
    "### Step 14 - CCCamera_logevent_bonn_shutter_Device_LimitsConfiguration"
   ]
  },
  {
   "cell_type": "code",
   "execution_count": null,
   "id": "b4d19441-9955-43a2-a7a8-fda3005d46b1",
   "metadata": {},
   "outputs": [],
   "source": [
    "data = comcam.rem.ccamera.evt_bonn_shutter_Device_LimitsConfiguration.get()\n",
    "print(data)"
   ]
  },
  {
   "cell_type": "markdown",
   "id": "1b505225-abfc-486c-aae8-052f99317ca3",
   "metadata": {
    "jp-MarkdownHeadingCollapsed": true,
    "tags": []
   },
   "source": [
    "### Step 15 - CCCamera_logevent_bonn_shutter_GeneralConfiguration"
   ]
  },
  {
   "cell_type": "code",
   "execution_count": null,
   "id": "0b7c2029-b172-4ba8-a588-e98583472e67",
   "metadata": {},
   "outputs": [],
   "source": [
    "data = comcam.rem.ccamera.evt_bonn_shutter_GeneralConfiguration.get()\n",
    "print(data)"
   ]
  },
  {
   "cell_type": "markdown",
   "id": "3d893ba0-4d34-44b6-9552-9bd8831a5e8e",
   "metadata": {
    "jp-MarkdownHeadingCollapsed": true,
    "tags": []
   },
   "source": [
    "### Step 16 - CCCamera_logevent_bonn_shutter_PeriodicTasks_GeneralConfiguration"
   ]
  },
  {
   "cell_type": "code",
   "execution_count": null,
   "id": "299b0dbf-2133-41e1-9791-c25e4e2be1de",
   "metadata": {},
   "outputs": [],
   "source": [
    "data = comcam.rem.ccamera.evt_bonn_shutter_PeriodicTasks_GeneralConfiguration.get()\n",
    "print(data)"
   ]
  },
  {
   "cell_type": "markdown",
   "id": "9edce96c-9d79-464f-bb51-079a44168ce1",
   "metadata": {
    "jp-MarkdownHeadingCollapsed": true,
    "tags": []
   },
   "source": [
    "### Step 17 - CCCamera_logevent_bonn_shutter_PeriodicTasks_timersConfiguration"
   ]
  },
  {
   "cell_type": "code",
   "execution_count": null,
   "id": "e5703fc7-f08c-4334-b46d-888f1f4f2b5a",
   "metadata": {},
   "outputs": [],
   "source": [
    "data = comcam.rem.ccamera.evt_bonn_shutter_PeriodicTasks_timersConfiguration.get()\n",
    "print(data)"
   ]
  },
  {
   "cell_type": "markdown",
   "id": "278dfe81-41b0-4ef2-93ba-b825e361db34",
   "metadata": {
    "jp-MarkdownHeadingCollapsed": true,
    "tags": []
   },
   "source": [
    "### Step 18 - CCCamera_logevent_daq_monitor_PeriodicTasks_GeneralConfiguration"
   ]
  },
  {
   "cell_type": "code",
   "execution_count": null,
   "id": "054da4cb-9e65-4aa2-b98d-c6bb87436867",
   "metadata": {},
   "outputs": [],
   "source": [
    "data = comcam.rem.ccamera.evt_daq_monitor_PeriodicTasks_GeneralConfiguration.get()\n",
    "print(data)"
   ]
  },
  {
   "cell_type": "markdown",
   "id": "4e5690b8-9787-4b8d-a935-245c9c21afec",
   "metadata": {
    "jp-MarkdownHeadingCollapsed": true,
    "tags": []
   },
   "source": [
    "### Step 19 - CCCamera_logevent_daq_monitor_PeriodicTasks_timersConfiguration"
   ]
  },
  {
   "cell_type": "code",
   "execution_count": null,
   "id": "d029fcae-dff8-4f8b-be3a-b302de36e295",
   "metadata": {},
   "outputs": [],
   "source": [
    "data = comcam.rem.ccamera.evt_daq_monitor_PeriodicTasks_timersConfiguration.get()\n",
    "print(data)"
   ]
  },
  {
   "cell_type": "markdown",
   "id": "de1c5666-e633-447f-91dc-91f89aedf3f8",
   "metadata": {
    "jp-MarkdownHeadingCollapsed": true,
    "tags": []
   },
   "source": [
    "### Step 20 - CCCamera_logevent_daq_monitor_Stats_StatisticsConfiguration"
   ]
  },
  {
   "cell_type": "code",
   "execution_count": null,
   "id": "894d34c2-700f-4c93-93b6-da28aa069ab0",
   "metadata": {},
   "outputs": [],
   "source": [
    "data = comcam.rem.ccamera.evt_daq_monitor_Stats_StatisticsConfiguration.get()\n",
    "print(data)"
   ]
  },
  {
   "cell_type": "markdown",
   "id": "eeeba625-30e6-45dd-acc6-2fa97325bebd",
   "metadata": {
    "jp-MarkdownHeadingCollapsed": true,
    "tags": []
   },
   "source": [
    "### Step 21 - CCCamera_logevent_daq_monitor_StoreConfiguration"
   ]
  },
  {
   "cell_type": "code",
   "execution_count": null,
   "id": "258ca5ed-0ec9-47d2-b386-2e4e4aa8a1cd",
   "metadata": {},
   "outputs": [],
   "source": [
    "data = comcam.rem.ccamera.evt_daq_monitor_StoreConfiguration.get()\n",
    "print(data)"
   ]
  },
  {
   "cell_type": "markdown",
   "id": "2baa6686-8e17-4707-bcf3-714f2c1da8eb",
   "metadata": {
    "jp-MarkdownHeadingCollapsed": true,
    "tags": []
   },
   "source": [
    "### Step 22 - CCCamera_logevent_daq_monitor_Store_DevicesConfiguration"
   ]
  },
  {
   "cell_type": "code",
   "execution_count": null,
   "id": "3ee1ada8-5554-4f87-af13-03224d6ba6be",
   "metadata": {},
   "outputs": [],
   "source": [
    "data = comcam.rem.ccamera.evt_daq_monitor_Store_DevicesConfiguration.get()\n",
    "print(data)"
   ]
  },
  {
   "cell_type": "markdown",
   "id": "fce44e38-8467-40e2-b694-cc9087263816",
   "metadata": {
    "jp-MarkdownHeadingCollapsed": true,
    "tags": []
   },
   "source": [
    "### Step 23 - CCCamera_logevent_daq_monitor_Store_LimitsConfiguration"
   ]
  },
  {
   "cell_type": "code",
   "execution_count": null,
   "id": "15f51598-72ee-4bb2-8a4b-24d0117ec98a",
   "metadata": {},
   "outputs": [],
   "source": [
    "data = comcam.rem.ccamera.evt_daq_monitor_Store_LimitsConfiguration.get()\n",
    "print(data)"
   ]
  },
  {
   "cell_type": "markdown",
   "id": "7ee156d7-45f7-4d5f-ab64-b1abb6b135c1",
   "metadata": {
    "jp-MarkdownHeadingCollapsed": true,
    "tags": []
   },
   "source": [
    "### Step 24 - CCCamera_logevent_daq_monitor_Store_StoreConfiguration"
   ]
  },
  {
   "cell_type": "code",
   "execution_count": null,
   "id": "3839ab96-6f14-4735-8def-53a5f360d12a",
   "metadata": {},
   "outputs": [],
   "source": [
    "data = comcam.rem.ccamera.evt_daq_monitor_Store_StoreConfiguration.get()\n",
    "print(data)"
   ]
  },
  {
   "cell_type": "markdown",
   "id": "fad3da6c-2a00-4a86-8ccb-69291daf67b8",
   "metadata": {
    "jp-MarkdownHeadingCollapsed": true,
    "tags": []
   },
   "source": [
    "### Step 25 - CCCamera_logevent_rebpower_EmergencyResponseManager_GeneralConfiguration"
   ]
  },
  {
   "cell_type": "code",
   "execution_count": null,
   "id": "65f5b612-c3bd-4332-9d76-3bc8a487ac4e",
   "metadata": {},
   "outputs": [],
   "source": [
    "data = comcam.rem.ccamera.evt_rebpower_EmergencyResponseManager_GeneralConfiguration.get()\n",
    "print(data)"
   ]
  },
  {
   "cell_type": "markdown",
   "id": "37c0d4e0-ba46-4599-81c3-3a357d0c0b1f",
   "metadata": {
    "jp-MarkdownHeadingCollapsed": true,
    "tags": []
   },
   "source": [
    "### Step 26 - CCCamera_logevent_rebpower_GeneralConfiguration"
   ]
  },
  {
   "cell_type": "code",
   "execution_count": null,
   "id": "2b7c4854-c2e6-4dcc-9a62-527680e8f324",
   "metadata": {},
   "outputs": [],
   "source": [
    "data = comcam.rem.ccamera.evt_rebpower_GeneralConfiguration.get()\n",
    "print(data)"
   ]
  },
  {
   "cell_type": "markdown",
   "id": "1e4c9457-aa84-437a-ad66-5a4a5f9dff6b",
   "metadata": {
    "jp-MarkdownHeadingCollapsed": true,
    "tags": []
   },
   "source": [
    "### Step 27 - CCCamera_logevent_rebpower_PeriodicTasks_GeneralConfiguration"
   ]
  },
  {
   "cell_type": "code",
   "execution_count": null,
   "id": "6bd7062f-023c-4bc0-b53d-6e4bad56a95b",
   "metadata": {},
   "outputs": [],
   "source": [
    "data = comcam.rem.ccamera.evt_rebpower_PeriodicTasks_GeneralConfiguration.get()\n",
    "print(data)"
   ]
  },
  {
   "cell_type": "markdown",
   "id": "95e781db-4247-4059-9df9-fccfe8ba3374",
   "metadata": {
    "jp-MarkdownHeadingCollapsed": true,
    "tags": []
   },
   "source": [
    "### Step 28 - CCCamera_logevent_rebpower_PeriodicTasks_timersConfiguration"
   ]
  },
  {
   "cell_type": "code",
   "execution_count": null,
   "id": "66eef598-67ff-4574-9e3c-9e16857c42a0",
   "metadata": {},
   "outputs": [],
   "source": [
    "data = comcam.rem.ccamera.evt_rebpower_PeriodicTasks_timersConfiguration.get()\n",
    "print(data)"
   ]
  },
  {
   "cell_type": "markdown",
   "id": "b8f215b3-16fd-41d4-b062-fb57e81d1d5d",
   "metadata": {
    "jp-MarkdownHeadingCollapsed": true,
    "tags": []
   },
   "source": [
    "### Step 29 - CCCamera_logevent_rebpower_Reb_GeneralConfiguration"
   ]
  },
  {
   "cell_type": "code",
   "execution_count": null,
   "id": "fb3ffbf8-c3fd-4e4a-817c-bb1b6d6f8668",
   "metadata": {},
   "outputs": [],
   "source": [
    "data = comcam.rem.ccamera.evt_rebpower_Reb_GeneralConfiguration.get()\n",
    "print(data)"
   ]
  },
  {
   "cell_type": "markdown",
   "id": "92c3fb3f-3d0b-48ad-8872-1f4f05bc5d7f",
   "metadata": {
    "jp-MarkdownHeadingCollapsed": true,
    "tags": []
   },
   "source": [
    "### Step 30 - CCCamera_logevent_rebpower_Reb_LimitsConfiguration"
   ]
  },
  {
   "cell_type": "code",
   "execution_count": null,
   "id": "839ba079-f6b5-4204-94cd-d82c492fabfc",
   "metadata": {},
   "outputs": [],
   "source": [
    "data = comcam.rem.ccamera.evt_rebpower_Reb_LimitsConfiguration.get()\n",
    "print(data)"
   ]
  },
  {
   "cell_type": "markdown",
   "id": "98ba17e6-eac1-45e7-8b63-590a5858b88a",
   "metadata": {
    "jp-MarkdownHeadingCollapsed": true,
    "tags": []
   },
   "source": [
    "### Step 31 - CCCamera_logevent_rebpower_Rebps_DevicesConfiguration"
   ]
  },
  {
   "cell_type": "code",
   "execution_count": null,
   "id": "85ce5f18-f00a-4b51-ad33-d1f8d224a47c",
   "metadata": {},
   "outputs": [],
   "source": [
    "data = comcam.rem.ccamera.evt_rebpower_Rebps_DevicesConfiguration.get()\n",
    "print(data)"
   ]
  },
  {
   "cell_type": "markdown",
   "id": "47978edb-9aff-48bc-8a64-34cc6d08aab6",
   "metadata": {
    "jp-MarkdownHeadingCollapsed": true,
    "tags": []
   },
   "source": [
    "### Step 32 - CCCamera_logevent_rebpower_Rebps_GeneralConfiguration"
   ]
  },
  {
   "cell_type": "code",
   "execution_count": null,
   "id": "e39f882e-4a6e-4946-a557-83b1c32dedf5",
   "metadata": {},
   "outputs": [],
   "source": [
    "data = comcam.rem.ccamera.evt_rebpower_Rebps_GeneralConfiguration.get()\n",
    "print(data)"
   ]
  },
  {
   "cell_type": "markdown",
   "id": "7adb0758-540b-4bdd-b162-50346407d631",
   "metadata": {
    "jp-MarkdownHeadingCollapsed": true,
    "tags": []
   },
   "source": [
    "### Step 33 - CCCamera_logevent_rebpower_Rebps_LimitsConfiguration"
   ]
  },
  {
   "cell_type": "code",
   "execution_count": null,
   "id": "e9d11ad5-f86a-4fa2-84ea-afbe7b22ec39",
   "metadata": {},
   "outputs": [],
   "source": [
    "data = comcam.rem.ccamera.evt_rebpower_Rebps_LimitsConfiguration.get()\n",
    "print(data)"
   ]
  },
  {
   "cell_type": "markdown",
   "id": "80fe52d6-9770-47ae-827a-3603cde30009",
   "metadata": {
    "jp-MarkdownHeadingCollapsed": true,
    "tags": []
   },
   "source": [
    "### Step 34 - CCCamera_logevent_rebpower_Rebps_PowerConfiguration"
   ]
  },
  {
   "cell_type": "code",
   "execution_count": null,
   "id": "f06c0dfc-b2e0-41e3-9f7e-c9454995349e",
   "metadata": {},
   "outputs": [],
   "source": [
    "data = comcam.rem.ccamera.evt_rebpower_Rebps_PowerConfiguration.get()\n",
    "print(data)"
   ]
  },
  {
   "cell_type": "markdown",
   "id": "2fc08f77-9188-441b-89c7-231d99c61226",
   "metadata": {
    "jp-MarkdownHeadingCollapsed": true,
    "tags": []
   },
   "source": [
    "### Step 35 - CCCamera_logevent_rebpower_Rebps_buildConfiguration"
   ]
  },
  {
   "cell_type": "code",
   "execution_count": null,
   "id": "5ebbf41c-4364-4aec-947a-16fa96a9e9bd",
   "metadata": {},
   "outputs": [],
   "source": [
    "data = comcam.rem.ccamera.evt_rebpower_Rebps_buildConfiguration.get()\n",
    "print(data)"
   ]
  },
  {
   "cell_type": "markdown",
   "id": "3fbd6a4d-5cce-45d9-a7b5-89604ddcd738",
   "metadata": {
    "jp-MarkdownHeadingCollapsed": true,
    "tags": []
   },
   "source": [
    "### Step 36 - CCCamera_logevent_vacuum_Cold1_CryoconConfiguration"
   ]
  },
  {
   "cell_type": "code",
   "execution_count": null,
   "id": "59f1abea-6bb4-4882-9c05-1e1828847e2a",
   "metadata": {},
   "outputs": [],
   "source": [
    "data = comcam.rem.ccamera.evt_vacuum_Cold1_CryoconConfiguration.get()\n",
    "print(data)"
   ]
  },
  {
   "cell_type": "markdown",
   "id": "ab081593-bc3b-4b81-8320-d48447462077",
   "metadata": {
    "jp-MarkdownHeadingCollapsed": true,
    "tags": []
   },
   "source": [
    "### Step 37 - CCCamera_logevent_vacuum_Cold1_DevicesConfiguration"
   ]
  },
  {
   "cell_type": "code",
   "execution_count": null,
   "id": "6d9f3b92-7055-484c-827f-e1afc8888372",
   "metadata": {},
   "outputs": [],
   "source": [
    "data = comcam.rem.ccamera.evt_vacuum_Cold1_DevicesConfiguration.get()\n",
    "print(data)"
   ]
  },
  {
   "cell_type": "markdown",
   "id": "7e8fddae-5bb0-4265-9332-a1b92d9a7117",
   "metadata": {
    "jp-MarkdownHeadingCollapsed": true,
    "tags": []
   },
   "source": [
    "### Step 38 - CCCamera_logevent_vacuum_Cold1_LimitsConfiguration"
   ]
  },
  {
   "cell_type": "code",
   "execution_count": null,
   "id": "f4ee1c6c-3542-4ae3-9155-78c3c3c1faab",
   "metadata": {},
   "outputs": [],
   "source": [
    "data = comcam.rem.ccamera.evt_vacuum_Cold1_LimitsConfiguration.get()\n",
    "print(data)"
   ]
  },
  {
   "cell_type": "markdown",
   "id": "c06d5bd8-82ae-4598-9b9f-333db7ac77ce",
   "metadata": {
    "jp-MarkdownHeadingCollapsed": true,
    "tags": []
   },
   "source": [
    "### Step 39 - CCCamera_logevent_vacuum_Cold2_CryoconConfiguration"
   ]
  },
  {
   "cell_type": "code",
   "execution_count": null,
   "id": "2958eaba-4ee9-4305-947c-bfc9b7cb7b70",
   "metadata": {},
   "outputs": [],
   "source": [
    "data = comcam.rem.ccamera.evt_vacuum_Cold2_CryoconConfiguration.get()\n",
    "print(data)"
   ]
  },
  {
   "cell_type": "markdown",
   "id": "9ddd2206-b9a0-4ee3-9d5a-638e0b7c488a",
   "metadata": {
    "jp-MarkdownHeadingCollapsed": true,
    "tags": []
   },
   "source": [
    "### Step 40 - CCCamera_logevent_vacuum_Cold2_DevicesConfiguration"
   ]
  },
  {
   "cell_type": "code",
   "execution_count": null,
   "id": "b8ae2c23-a210-4fbb-be01-4aac6d73e250",
   "metadata": {},
   "outputs": [],
   "source": [
    "data = comcam.rem.ccamera.evt_vacuum_Cold2_DevicesConfiguration.get()\n",
    "print(data)"
   ]
  },
  {
   "cell_type": "markdown",
   "id": "b8a44ee3-e585-493c-ac42-fb043929e3b7",
   "metadata": {
    "jp-MarkdownHeadingCollapsed": true,
    "tags": []
   },
   "source": [
    "### Step 41 - CCCamera_logevent_vacuum_Cold2_LimitsConfiguration"
   ]
  },
  {
   "cell_type": "code",
   "execution_count": null,
   "id": "6ecb8271-0b2d-48bf-b581-c6976e64bd3e",
   "metadata": {},
   "outputs": [],
   "source": [
    "data = comcam.rem.ccamera.evt_vacuum_Cold2_LimitsConfiguration.get()\n",
    "print(data)"
   ]
  },
  {
   "cell_type": "markdown",
   "id": "1181f6d2-bc15-4b4c-9859-b7b8f8f2008b",
   "metadata": {
    "jp-MarkdownHeadingCollapsed": true,
    "tags": []
   },
   "source": [
    "### Step 42 - CCCamera_logevent_vacuum_Cryo_CryoconConfiguration"
   ]
  },
  {
   "cell_type": "code",
   "execution_count": null,
   "id": "5d32b29c-6f96-4489-b640-c97f25883112",
   "metadata": {},
   "outputs": [],
   "source": [
    "data = comcam.rem.ccamera.evt_vacuum_Cryo_CryoconConfiguration.get()\n",
    "print(data)"
   ]
  },
  {
   "cell_type": "markdown",
   "id": "79bc52a7-b7ac-4709-8881-7cb7316b4cd7",
   "metadata": {
    "jp-MarkdownHeadingCollapsed": true,
    "tags": []
   },
   "source": [
    "### Step 43 - CCCamera_logevent_vacuum_Cryo_DevicesConfiguration"
   ]
  },
  {
   "cell_type": "code",
   "execution_count": null,
   "id": "1702fc95-51f3-47cf-825f-243fa602f204",
   "metadata": {},
   "outputs": [],
   "source": [
    "data = comcam.rem.ccamera.evt_vacuum_Cryo_DevicesConfiguration.get()\n",
    "print(data)"
   ]
  },
  {
   "cell_type": "markdown",
   "id": "9f6b5546-3565-4d8b-82f0-a843473ca86b",
   "metadata": {
    "jp-MarkdownHeadingCollapsed": true,
    "tags": []
   },
   "source": [
    "### Step 44 - CCCamera_logevent_vacuum_Cryo_LimitsConfiguration"
   ]
  },
  {
   "cell_type": "code",
   "execution_count": null,
   "id": "c1a14366-1cea-4dcb-9fcf-15da6ba0e663",
   "metadata": {},
   "outputs": [],
   "source": [
    "data = comcam.rem.ccamera.evt_vacuum_Cryo_LimitsConfiguration.get()\n",
    "print(data)"
   ]
  },
  {
   "cell_type": "markdown",
   "id": "61e3e7fc-5ea0-46af-b3c0-7672f880f5ca",
   "metadata": {
    "jp-MarkdownHeadingCollapsed": true,
    "tags": []
   },
   "source": [
    "### Step 45 - CCCamera_logevent_vacuum_IonPumps_CryoConfiguration"
   ]
  },
  {
   "cell_type": "code",
   "execution_count": null,
   "id": "7f4a31c0-a03c-43fe-86c1-0bd23f9eb0ab",
   "metadata": {},
   "outputs": [],
   "source": [
    "data = comcam.rem.ccamera.evt_vacuum_IonPumps_CryoConfiguration.get()\n",
    "print(data)"
   ]
  },
  {
   "cell_type": "markdown",
   "id": "4a2f5119-08fa-4e3b-8fff-a87fb9060eb0",
   "metadata": {
    "jp-MarkdownHeadingCollapsed": true,
    "tags": []
   },
   "source": [
    "### Step 46 - CCCamera_logevent_vacuum_IonPumps_DevicesConfiguration"
   ]
  },
  {
   "cell_type": "code",
   "execution_count": null,
   "id": "379b8340-a425-49b8-b451-26ef85a999f1",
   "metadata": {},
   "outputs": [],
   "source": [
    "data = comcam.rem.ccamera.evt_vacuum_IonPumps_DevicesConfiguration.get()\n",
    "print(data)"
   ]
  },
  {
   "cell_type": "markdown",
   "id": "193ad62f-6c9d-4e84-8a00-b99e02ed6764",
   "metadata": {
    "jp-MarkdownHeadingCollapsed": true,
    "tags": []
   },
   "source": [
    "### Step 47 - CCCamera_logevent_vacuum_IonPumps_LimitsConfiguration"
   ]
  },
  {
   "cell_type": "code",
   "execution_count": null,
   "id": "135d04ca-a81f-4675-ba4d-44df04d162a6",
   "metadata": {},
   "outputs": [],
   "source": [
    "data = comcam.rem.ccamera.evt_vacuum_IonPumps_LimitsConfiguration.get()\n",
    "print(data)"
   ]
  },
  {
   "cell_type": "markdown",
   "id": "623b6527-a03f-47b1-b678-71c92f2d4b32",
   "metadata": {
    "jp-MarkdownHeadingCollapsed": true,
    "tags": []
   },
   "source": [
    "### Step 48 - CCCamera_logevent_vacuum_PeriodicTasks_GeneralConfiguration"
   ]
  },
  {
   "cell_type": "code",
   "execution_count": null,
   "id": "f243d7c1-3812-4735-ae65-73164571eea4",
   "metadata": {},
   "outputs": [],
   "source": [
    "data = comcam.rem.ccamera.evt_vacuum_PeriodicTasks_GeneralConfiguration.get()\n",
    "print(data)"
   ]
  },
  {
   "cell_type": "markdown",
   "id": "c57e6490-dce6-4b76-907c-5244effdb519",
   "metadata": {
    "jp-MarkdownHeadingCollapsed": true,
    "tags": []
   },
   "source": [
    "### Step 49 - CCCamera_logevent_vacuum_PeriodicTasks_timersConfiguration"
   ]
  },
  {
   "cell_type": "code",
   "execution_count": null,
   "id": "fb495147-3c79-4ae5-8755-330ca5a55849",
   "metadata": {},
   "outputs": [],
   "source": [
    "data = comcam.rem.ccamera.evt_vacuum_PeriodicTasks_timersConfiguration.get()\n",
    "print(data)"
   ]
  },
  {
   "cell_type": "markdown",
   "id": "552b3e4d-bf59-4f94-84f3-f07e5ca88ed3",
   "metadata": {
    "jp-MarkdownHeadingCollapsed": true,
    "tags": []
   },
   "source": [
    "### Step 50 - CCCamera_logevent_vacuum_Rtds_DeviceConfiguration"
   ]
  },
  {
   "cell_type": "code",
   "execution_count": null,
   "id": "831e0345-e8be-4df2-9d3a-000117b2bb53",
   "metadata": {},
   "outputs": [],
   "source": [
    "data = comcam.rem.ccamera.evt_vacuum_Rtds_DeviceConfiguration.get()\n",
    "print(data)"
   ]
  },
  {
   "cell_type": "markdown",
   "id": "7c15a3dd-4af6-4914-80cc-6a5c5e8ec786",
   "metadata": {
    "jp-MarkdownHeadingCollapsed": true,
    "tags": []
   },
   "source": [
    "### Step 51 - CCCamera_logevent_vacuum_Rtds_DevicesConfiguration"
   ]
  },
  {
   "cell_type": "code",
   "execution_count": null,
   "id": "5db222aa-604d-4608-8e74-1f8197182e61",
   "metadata": {},
   "outputs": [],
   "source": [
    "data = comcam.rem.ccamera.evt_vacuum_Rtds_DevicesConfiguration.get()\n",
    "print(data)"
   ]
  },
  {
   "cell_type": "markdown",
   "id": "efd415a6-e1ec-4e85-9893-ca06d6f6a190",
   "metadata": {
    "jp-MarkdownHeadingCollapsed": true,
    "tags": []
   },
   "source": [
    "### Step 52 - CCCamera_logevent_vacuum_Rtds_LimitsConfiguration"
   ]
  },
  {
   "cell_type": "code",
   "execution_count": null,
   "id": "b387cbde-7810-4520-84a0-1d22be5432d2",
   "metadata": {},
   "outputs": [],
   "source": [
    "data = comcam.rem.ccamera.evt_vacuum_Rtds_LimitsConfiguration.get()\n",
    "print(data)"
   ]
  },
  {
   "cell_type": "markdown",
   "id": "cfd6105b-8f90-47ec-88ec-fbd72d6f974f",
   "metadata": {
    "jp-MarkdownHeadingCollapsed": true,
    "tags": []
   },
   "source": [
    "### Step 53 - CCCamera_logevent_vacuum_Turbo_DevicesConfiguration"
   ]
  },
  {
   "cell_type": "code",
   "execution_count": null,
   "id": "60ef3ce8-3ba0-4288-8eda-a9a9916d9372",
   "metadata": {},
   "outputs": [],
   "source": [
    "data = comcam.rem.ccamera.evt_vacuum_Turbo_DevicesConfiguration.get()\n",
    "print(data)"
   ]
  },
  {
   "cell_type": "markdown",
   "id": "0b2b9f71-138b-40eb-ad55-32d6ccbad6d0",
   "metadata": {
    "jp-MarkdownHeadingCollapsed": true,
    "tags": []
   },
   "source": [
    "### Step 54 - CCCamera_logevent_vacuum_Turbo_GeneralConfiguration"
   ]
  },
  {
   "cell_type": "code",
   "execution_count": null,
   "id": "a010fd01-dac4-4ccc-941e-1fb7aed5a509",
   "metadata": {},
   "outputs": [],
   "source": [
    "data = comcam.rem.ccamera.evt_vacuum_Turbo_GeneralConfiguration.get()\n",
    "print(data)"
   ]
  },
  {
   "cell_type": "markdown",
   "id": "924eb79a-1965-44cc-beb0-8dd99a027dbf",
   "metadata": {
    "jp-MarkdownHeadingCollapsed": true,
    "tags": []
   },
   "source": [
    "### Step 55 - CCCamera_logevent_vacuum_Turbo_LimitsConfiguration"
   ]
  },
  {
   "cell_type": "code",
   "execution_count": null,
   "id": "1cac9887-adda-4bb3-b00d-d89a99b566c0",
   "metadata": {},
   "outputs": [],
   "source": [
    "data = comcam.rem.ccamera.evt_vacuum_Turbo_LimitsConfiguration.get()\n",
    "print(data)"
   ]
  },
  {
   "cell_type": "markdown",
   "id": "7a420a92-895c-40c6-88c4-eea6d78d5e19",
   "metadata": {
    "jp-MarkdownHeadingCollapsed": true,
    "tags": []
   },
   "source": [
    "### Step 56 - CCCamera_logevent_vacuum_VQMonitor_CryoConfiguration"
   ]
  },
  {
   "cell_type": "code",
   "execution_count": null,
   "id": "a4a0818a-557d-4c26-9142-6d2a6d3c10ae",
   "metadata": {},
   "outputs": [],
   "source": [
    "data = comcam.rem.ccamera.evt_vacuum_VQMonitor_CryoConfiguration.get()\n",
    "print(data)"
   ]
  },
  {
   "cell_type": "markdown",
   "id": "ba13903f-2061-49ca-95c8-7996507f2224",
   "metadata": {
    "jp-MarkdownHeadingCollapsed": true,
    "tags": []
   },
   "source": [
    "### Step 57 - CCCamera_logevent_vacuum_VQMonitor_DevicesConfiguration"
   ]
  },
  {
   "cell_type": "code",
   "execution_count": null,
   "id": "d02cda52-0e2a-43a0-ab5b-618a45a4d3cb",
   "metadata": {},
   "outputs": [],
   "source": [
    "data = comcam.rem.ccamera.evt_vacuum_VQMonitor_DevicesConfiguration.get()\n",
    "print(data)"
   ]
  },
  {
   "cell_type": "markdown",
   "id": "9fcf2253-d9f4-42d3-8342-2a51f4adb79e",
   "metadata": {
    "jp-MarkdownHeadingCollapsed": true,
    "tags": []
   },
   "source": [
    "### Step 58 - CCCamera_logevent_vacuum_VQMonitor_LimitsConfiguration"
   ]
  },
  {
   "cell_type": "code",
   "execution_count": null,
   "id": "894a9a6f-c31b-4d22-918a-5acaecbcf90b",
   "metadata": {},
   "outputs": [],
   "source": [
    "data = comcam.rem.ccamera.evt_vacuum_VQMonitor_LimitsConfiguration.get()\n",
    "print(data)"
   ]
  },
  {
   "cell_type": "markdown",
   "id": "2f31c350-e1cd-47dd-9105-cbc1ade9e6d6",
   "metadata": {
    "jp-MarkdownHeadingCollapsed": true,
    "tags": []
   },
   "source": [
    "### Step 59 - CCCamera_logevent_vacuum_VacPluto_DeviceConfiguration"
   ]
  },
  {
   "cell_type": "code",
   "execution_count": null,
   "id": "3004599e-e3e1-48f6-bfab-e23f5f98649b",
   "metadata": {},
   "outputs": [],
   "source": [
    "data = comcam.rem.ccamera.evt_vacuum_VacPluto_DeviceConfiguration.get()\n",
    "print(data)"
   ]
  },
  {
   "cell_type": "markdown",
   "id": "8f7cdd4c-3c39-4f99-b68e-77638d0dc415",
   "metadata": {
    "jp-MarkdownHeadingCollapsed": true,
    "tags": []
   },
   "source": [
    "### Step 60 - CCCamera_logevent_vacuum_VacPluto_DevicesConfiguration"
   ]
  },
  {
   "cell_type": "code",
   "execution_count": null,
   "id": "9e99dc5c-dc2f-42cf-a0fb-502579aeb6cf",
   "metadata": {},
   "outputs": [],
   "source": [
    "data = comcam.rem.ccamera.evt_vacuum_VacPluto_DevicesConfiguration.get()\n",
    "print(data)"
   ]
  },
  {
   "cell_type": "markdown",
   "id": "9fbe84c0-2ee7-4c28-b6f9-7278d9712cd4",
   "metadata": {
    "jp-MarkdownHeadingCollapsed": true,
    "tags": []
   },
   "source": [
    "### Step 61 - CCCamera_logevent_vacuum_VacuumConfiguration"
   ]
  },
  {
   "cell_type": "code",
   "execution_count": null,
   "id": "ac23fd39-60f1-4a58-bb6a-54b1a264da42",
   "metadata": {},
   "outputs": [],
   "source": [
    "data = comcam.rem.ccamera.evt_vacuum_VacuumConfiguration.get()\n",
    "print(data)"
   ]
  },
  {
   "cell_type": "markdown",
   "id": "7cfc516e-7649-4f69-b7a1-c738355fc472",
   "metadata": {
    "jp-MarkdownHeadingCollapsed": true,
    "tags": []
   },
   "source": [
    "### Step 62 - CCCamera_logevent_quadbox_BFR_DevicesConfiguration"
   ]
  },
  {
   "cell_type": "code",
   "execution_count": null,
   "id": "7e8493e8-f0e7-4f06-932d-3801e5cf42fb",
   "metadata": {},
   "outputs": [],
   "source": [
    "data = comcam.rem.ccamera.evt_quadbox_BFR_DevicesConfiguration.get()\n",
    "print(data)"
   ]
  },
  {
   "cell_type": "markdown",
   "id": "c9bdd95e-0db3-43ba-b81f-7b7d3b7c6f5c",
   "metadata": {
    "jp-MarkdownHeadingCollapsed": true,
    "tags": []
   },
   "source": [
    "### Step 63 - CCCamera_logevent_quadbox_BFR_LimitsConfiguration"
   ]
  },
  {
   "cell_type": "code",
   "execution_count": null,
   "id": "25c2d5f0-a09f-4217-bb48-d0d4f1d4f127",
   "metadata": {},
   "outputs": [],
   "source": [
    "data = comcam.rem.ccamera.evt_quadbox_BFR_LimitsConfiguration.get()\n",
    "print(data)"
   ]
  },
  {
   "cell_type": "markdown",
   "id": "9060f44c-2f04-490a-b977-bb0f46d2db68",
   "metadata": {
    "jp-MarkdownHeadingCollapsed": true,
    "tags": []
   },
   "source": [
    "### Step 64 - CCCamera_logevent_quadbox_BFR_QuadboxConfiguration"
   ]
  },
  {
   "cell_type": "code",
   "execution_count": null,
   "id": "29a54ca3-688b-494a-b341-b533c3b9cc53",
   "metadata": {},
   "outputs": [],
   "source": [
    "data = comcam.rem.ccamera.evt_quadbox_BFR_QuadboxConfiguration.get()\n",
    "print(data)"
   ]
  },
  {
   "cell_type": "markdown",
   "id": "c3ecb583-d466-490a-b495-4a864e9a2380",
   "metadata": {
    "jp-MarkdownHeadingCollapsed": true,
    "tags": []
   },
   "source": [
    "### Step 65 - CCCamera_logevent_quadbox_PDU_24VC_DevicesConfiguration"
   ]
  },
  {
   "cell_type": "code",
   "execution_count": null,
   "id": "3a3e2259-0dbb-45d4-baa5-b708d764c83c",
   "metadata": {},
   "outputs": [],
   "source": [
    "data = comcam.rem.ccamera.evt_quadbox_PDU_24VC_DevicesConfiguration.get()\n",
    "print(data)"
   ]
  },
  {
   "cell_type": "markdown",
   "id": "0367c767-ea8a-4ca9-a442-460aed0c2137",
   "metadata": {
    "jp-MarkdownHeadingCollapsed": true,
    "tags": []
   },
   "source": [
    "### Step 66 - CCCamera_logevent_quadbox_PDU_24VC_LimitsConfiguration"
   ]
  },
  {
   "cell_type": "code",
   "execution_count": null,
   "id": "5f2985e8-bd9e-4d38-b80e-f4108570f6b3",
   "metadata": {},
   "outputs": [],
   "source": [
    "data = comcam.rem.ccamera.evt_quadbox_PDU_24VC_LimitsConfiguration.get()\n",
    "print(data)"
   ]
  },
  {
   "cell_type": "markdown",
   "id": "1288586f-aa39-43bd-9e0b-17df1a8084b2",
   "metadata": {
    "jp-MarkdownHeadingCollapsed": true,
    "tags": []
   },
   "source": [
    "### Step 67 - CCCamera_logevent_quadbox_PDU_24VC_QuadboxConfiguration"
   ]
  },
  {
   "cell_type": "code",
   "execution_count": null,
   "id": "203d1452-91e1-4f7d-9fe1-7ca70afea91e",
   "metadata": {},
   "outputs": [],
   "source": [
    "data = comcam.rem.ccamera.evt_quadbox_PDU_24VC_QuadboxConfiguration.get()\n",
    "print(data)"
   ]
  },
  {
   "cell_type": "markdown",
   "id": "47e6ea8c-f4da-4fa3-8ecc-1c6647ee7910",
   "metadata": {
    "jp-MarkdownHeadingCollapsed": true,
    "tags": []
   },
   "source": [
    "### Step 68 - CCCamera_logevent_quadbox_PDU_24VD_DevicesConfiguration"
   ]
  },
  {
   "cell_type": "code",
   "execution_count": null,
   "id": "e5e0e5e4-749a-44b4-959b-218d11c57f55",
   "metadata": {},
   "outputs": [],
   "source": [
    "data = comcam.rem.ccamera.evt_quadbox_PDU_24VD_DevicesConfiguration.get()\n",
    "print(data)"
   ]
  },
  {
   "cell_type": "markdown",
   "id": "abc49656-66f9-4840-857d-b3540c673f49",
   "metadata": {
    "jp-MarkdownHeadingCollapsed": true,
    "tags": []
   },
   "source": [
    "### Step 69 - CCCamera_logevent_quadbox_PDU_24VD_LimitsConfiguration"
   ]
  },
  {
   "cell_type": "code",
   "execution_count": null,
   "id": "6face838-63ad-4e0e-b809-7083cd149de0",
   "metadata": {},
   "outputs": [],
   "source": [
    "data = comcam.rem.ccamera.evt_quadbox_PDU_24VD_LimitsConfiguration.get()\n",
    "print(data)"
   ]
  },
  {
   "cell_type": "markdown",
   "id": "a235c06d-f516-4e4a-a4e0-240493a938fb",
   "metadata": {
    "jp-MarkdownHeadingCollapsed": true,
    "tags": []
   },
   "source": [
    "### Step 70 - CCCamera_logevent_quadbox_PDU_24VD_QuadboxConfiguration"
   ]
  },
  {
   "cell_type": "code",
   "execution_count": null,
   "id": "1e55ff7b-70fd-438f-82c2-c17e760552cf",
   "metadata": {},
   "outputs": [],
   "source": [
    "data = comcam.rem.ccamera.evt_quadbox_PDU_24VD_QuadboxConfiguration.get()\n",
    "print(data)"
   ]
  },
  {
   "cell_type": "markdown",
   "id": "cdeb24bd-c073-48a6-b23c-628249f0000e",
   "metadata": {
    "jp-MarkdownHeadingCollapsed": true,
    "tags": []
   },
   "source": [
    "### Step 71 - CCCamera_logevent_quadbox_PDU_48V_DevicesConfiguration"
   ]
  },
  {
   "cell_type": "code",
   "execution_count": null,
   "id": "e7f20dc4-673b-419a-95c1-58bea6653b1f",
   "metadata": {},
   "outputs": [],
   "source": [
    "data = comcam.rem.ccamera.evt_quadbox_PDU_48V_DevicesConfiguration.get()\n",
    "print(data)"
   ]
  },
  {
   "cell_type": "markdown",
   "id": "62579bb1-b4c9-4263-a3c1-11ff4c457e77",
   "metadata": {
    "jp-MarkdownHeadingCollapsed": true,
    "tags": []
   },
   "source": [
    "### Step 72 - CCCamera_logevent_quadbox_PDU_48V_LimitsConfiguration"
   ]
  },
  {
   "cell_type": "code",
   "execution_count": null,
   "id": "ca483105-0166-422b-a50b-b0d01cd78425",
   "metadata": {},
   "outputs": [],
   "source": [
    "data = comcam.rem.ccamera.evt_quadbox_PDU_48V_LimitsConfiguration.get()\n",
    "print(data)"
   ]
  },
  {
   "cell_type": "markdown",
   "id": "de4341bd-454d-4baa-846b-cbddac049d30",
   "metadata": {
    "jp-MarkdownHeadingCollapsed": true,
    "tags": []
   },
   "source": [
    "### Step 73 - CCCamera_logevent_quadbox_PDU_48V_QuadboxConfiguration"
   ]
  },
  {
   "cell_type": "code",
   "execution_count": null,
   "id": "6ec73e98-d637-4c2f-a359-23b7d1d547c2",
   "metadata": {},
   "outputs": [],
   "source": [
    "data = comcam.rem.ccamera.evt_quadbox_PDU_48V_QuadboxConfiguration.get()\n",
    "print(data)"
   ]
  },
  {
   "cell_type": "markdown",
   "id": "0255667a-a7d9-4022-9f8a-41ad32031737",
   "metadata": {
    "jp-MarkdownHeadingCollapsed": true,
    "tags": []
   },
   "source": [
    "### Step 74 - CCCamera_logevent_quadbox_PDU_5V_DevicesConfiguration"
   ]
  },
  {
   "cell_type": "code",
   "execution_count": null,
   "id": "b7a011cc-3698-48e0-907a-5209b2e2c0b3",
   "metadata": {},
   "outputs": [],
   "source": [
    "data = comcam.rem.ccamera.evt_quadbox_PDU_5V_DevicesConfiguration.get()\n",
    "print(data)"
   ]
  },
  {
   "cell_type": "markdown",
   "id": "353222eb-3c84-4fd3-a957-bf7140b4c386",
   "metadata": {
    "jp-MarkdownHeadingCollapsed": true,
    "tags": []
   },
   "source": [
    "### Step 75 - CCCamera_logevent_quadbox_PDU_5V_LimitsConfiguration"
   ]
  },
  {
   "cell_type": "code",
   "execution_count": null,
   "id": "5d7adc52-3b7f-4290-ab91-fd88d06ce800",
   "metadata": {},
   "outputs": [],
   "source": [
    "data = comcam.rem.ccamera.evt_quadbox_PDU_5V_LimitsConfiguration.get()\n",
    "print(data)"
   ]
  },
  {
   "cell_type": "markdown",
   "id": "2c655a23-2a0c-43d4-b5fe-fc14276d040d",
   "metadata": {
    "jp-MarkdownHeadingCollapsed": true,
    "tags": []
   },
   "source": [
    "### Step 76 - CCCamera_logevent_quadbox_PDU_5V_QuadboxConfiguration"
   ]
  },
  {
   "cell_type": "code",
   "execution_count": null,
   "id": "8cef6130-9704-4c2a-a349-85f61f8ffcd8",
   "metadata": {},
   "outputs": [],
   "source": [
    "data = comcam.rem.ccamera.evt_quadbox_PDU_5V_QuadboxConfiguration.get()\n",
    "print(data)"
   ]
  },
  {
   "cell_type": "markdown",
   "id": "45b6ff88-5833-4bb9-98c9-94ad50dce11b",
   "metadata": {
    "jp-MarkdownHeadingCollapsed": true,
    "tags": []
   },
   "source": [
    "### Step 77 - CCCamera_logevent_quadbox_PeriodicTasks_GeneralConfiguration"
   ]
  },
  {
   "cell_type": "code",
   "execution_count": null,
   "id": "462251bf-2c39-4598-a2cd-1c0c7018a814",
   "metadata": {},
   "outputs": [],
   "source": [
    "data = comcam.rem.ccamera.evt_quadbox_PeriodicTasks_GeneralConfiguration.get()\n",
    "print(data)"
   ]
  },
  {
   "cell_type": "markdown",
   "id": "6eb4cfdd-3162-4b7f-b792-ae4254a65c29",
   "metadata": {
    "jp-MarkdownHeadingCollapsed": true,
    "tags": []
   },
   "source": [
    "### Step 78 - CCCamera_logevent_quadbox_PeriodicTasks_timersConfiguration"
   ]
  },
  {
   "cell_type": "code",
   "execution_count": null,
   "id": "8a5b58c0-963a-4fb4-bbc6-85378fc8fca4",
   "metadata": {},
   "outputs": [],
   "source": [
    "data = comcam.rem.ccamera.evt_quadbox_PeriodicTasks_timersConfiguration.get()\n",
    "print(data)"
   ]
  },
  {
   "cell_type": "markdown",
   "id": "1b61c9d9-ad47-431c-9ac6-68ccc0e93cdb",
   "metadata": {
    "jp-MarkdownHeadingCollapsed": true,
    "tags": []
   },
   "source": [
    "### Step 79 - CCCamera_logevent_quadbox_REB_Bulk_PS_DevicesConfiguration"
   ]
  },
  {
   "cell_type": "code",
   "execution_count": null,
   "id": "5d0e70ef-5eb5-4fe0-8850-c1705431af80",
   "metadata": {},
   "outputs": [],
   "source": [
    "data = comcam.rem.ccamera.evt_quadbox_REB_Bulk_PS_DevicesConfiguration.get()\n",
    "print(data)"
   ]
  },
  {
   "cell_type": "markdown",
   "id": "d4672847-c0e7-4b47-9204-12ca8eba0532",
   "metadata": {
    "jp-MarkdownHeadingCollapsed": true,
    "tags": []
   },
   "source": [
    "### Step 80 - CCCamera_logevent_quadbox_REB_Bulk_PS_QuadboxConfiguration"
   ]
  },
  {
   "cell_type": "code",
   "execution_count": null,
   "id": "022872e9-d8bd-490b-87ae-6e7031663cec",
   "metadata": {},
   "outputs": [],
   "source": [
    "data = comcam.rem.ccamera.evt_quadbox_REB_Bulk_PS_QuadboxConfiguration.get()\n",
    "print(data)"
   ]
  },
  {
   "cell_type": "markdown",
   "id": "3512f6bb-45ef-4575-bfd5-5b88250cd4fe",
   "metadata": {
    "jp-MarkdownHeadingCollapsed": true,
    "tags": []
   },
   "source": [
    "### Step 81 - CCCamera_logevent_focal_plane_Ccd_HardwareIdConfiguration"
   ]
  },
  {
   "cell_type": "code",
   "execution_count": null,
   "id": "1d5bfb43-fdde-470b-aa87-87fc0fb73177",
   "metadata": {},
   "outputs": [],
   "source": [
    "data = comcam.rem.ccamera.evt_focal_plane_Ccd_HardwareIdConfiguration.get()\n",
    "print(data)"
   ]
  },
  {
   "cell_type": "markdown",
   "id": "ec59fbe5-da20-4799-99c7-d44d72a300a1",
   "metadata": {
    "jp-MarkdownHeadingCollapsed": true,
    "tags": []
   },
   "source": [
    "### Step 82 - CCCamera_logevent_focal_plane_Ccd_LimitsConfiguration"
   ]
  },
  {
   "cell_type": "code",
   "execution_count": null,
   "id": "ec54a1d5-901f-4e33-a60c-fc0a8af3083c",
   "metadata": {},
   "outputs": [],
   "source": [
    "data = comcam.rem.ccamera.evt_focal_plane_Ccd_LimitsConfiguration.get()\n",
    "print(data)"
   ]
  },
  {
   "cell_type": "markdown",
   "id": "5f02f010-5a44-40c5-bee4-f86fa8ba19c4",
   "metadata": {
    "jp-MarkdownHeadingCollapsed": true,
    "tags": []
   },
   "source": [
    "### Step 83 - CCCamera_logevent_focal_plane_Ccd_RaftsConfiguration"
   ]
  },
  {
   "cell_type": "code",
   "execution_count": null,
   "id": "b05a10de-097e-4bdc-a337-4e97e70568ce",
   "metadata": {},
   "outputs": [],
   "source": [
    "data = comcam.rem.ccamera.evt_focal_plane_Ccd_RaftsConfiguration.get()\n",
    "print(data)"
   ]
  },
  {
   "cell_type": "markdown",
   "id": "000a2a4f-59de-489d-8953-f5883656d2c0",
   "metadata": {
    "jp-MarkdownHeadingCollapsed": true,
    "tags": []
   },
   "source": [
    "### Step 84 - CCCamera_logevent_focal_plane_ImageDatabaseService_GeneralConfiguration"
   ]
  },
  {
   "cell_type": "code",
   "execution_count": null,
   "id": "4a5e2c27-a58b-4a2c-ba3f-88f3e07f5c88",
   "metadata": {},
   "outputs": [],
   "source": [
    "data = comcam.rem.ccamera.evt_focal_plane_ImageDatabaseService_GeneralConfiguration.get()\n",
    "print(data)"
   ]
  },
  {
   "cell_type": "markdown",
   "id": "3eed7695-fa16-4044-b996-f3876666d9a2",
   "metadata": {
    "jp-MarkdownHeadingCollapsed": true,
    "tags": []
   },
   "source": [
    "### Step 85 - CCCamera_logevent_focal_plane_ImageNameService_GeneralConfiguration"
   ]
  },
  {
   "cell_type": "code",
   "execution_count": null,
   "id": "d0b62a00-6c34-4414-b5d2-751310f2187f",
   "metadata": {},
   "outputs": [],
   "source": [
    "data = comcam.rem.ccamera.evt_focal_plane_ImageNameService_GeneralConfiguration.get()\n",
    "print(data)"
   ]
  },
  {
   "cell_type": "markdown",
   "id": "7f1d763f-a67d-4b35-b8a8-a4bd861039a9",
   "metadata": {
    "jp-MarkdownHeadingCollapsed": true,
    "tags": []
   },
   "source": [
    "### Step 86 - CCCamera_logevent_focal_plane_InstrumentConfig_InstrumentConfiguration"
   ]
  },
  {
   "cell_type": "code",
   "execution_count": null,
   "id": "3d252f8f-d6b1-4f31-a800-9f0f2e019fea",
   "metadata": {},
   "outputs": [],
   "source": [
    "data = comcam.rem.ccamera.evt_focal_plane_InstrumentConfig_InstrumentConfiguration.get()\n",
    "print(data)"
   ]
  },
  {
   "cell_type": "markdown",
   "id": "183c5baa-cbfb-496b-b320-74ebad9228fa",
   "metadata": {
    "jp-MarkdownHeadingCollapsed": true,
    "tags": []
   },
   "source": [
    "### Step 87 - CCCamera_logevent_focal_plane_PeriodicTasks_GeneralConfiguration"
   ]
  },
  {
   "cell_type": "code",
   "execution_count": null,
   "id": "c8b8d2d1-868c-4256-bc4a-a5ffce1195bd",
   "metadata": {},
   "outputs": [],
   "source": [
    "data = comcam.rem.ccamera.evt_focal_plane_PeriodicTasks_GeneralConfiguration.get()\n",
    "print(data)"
   ]
  },
  {
   "cell_type": "markdown",
   "id": "6eab18f8-4d5c-411c-b216-3d6eb6ea0e55",
   "metadata": {
    "jp-MarkdownHeadingCollapsed": true,
    "tags": []
   },
   "source": [
    "### Step 88 - CCCamera_logevent_focal_plane_PeriodicTasks_timersConfiguration"
   ]
  },
  {
   "cell_type": "code",
   "execution_count": null,
   "id": "23b8c469-b7aa-4684-96ef-2cbda57a1eba",
   "metadata": {},
   "outputs": [],
   "source": [
    "data = comcam.rem.ccamera.evt_focal_plane_PeriodicTasks_timersConfiguration.get()\n",
    "print(data)"
   ]
  },
  {
   "cell_type": "markdown",
   "id": "9d80bbf9-17e2-4515-b941-23af9d88c55c",
   "metadata": {
    "jp-MarkdownHeadingCollapsed": true,
    "tags": []
   },
   "source": [
    "### Step 89 - CCCamera_logevent_focal_plane_Raft_HardwareIdConfiguration"
   ]
  },
  {
   "cell_type": "code",
   "execution_count": null,
   "id": "d7b627f8-e05f-44b7-ac41-b4cbe09039e5",
   "metadata": {},
   "outputs": [],
   "source": [
    "data = comcam.rem.ccamera.evt_focal_plane_Raft_HardwareIdConfiguration.get()\n",
    "print(data)"
   ]
  },
  {
   "cell_type": "markdown",
   "id": "3b7217bc-2135-4461-8a38-523c2498452f",
   "metadata": {
    "jp-MarkdownHeadingCollapsed": true,
    "tags": []
   },
   "source": [
    "### Step 90 - CCCamera_logevent_focal_plane_Raft_RaftTempControlConfiguration"
   ]
  },
  {
   "cell_type": "code",
   "execution_count": null,
   "id": "8ce91cd9-051e-425b-9f58-d313d325cd74",
   "metadata": {},
   "outputs": [],
   "source": [
    "data = comcam.rem.ccamera.evt_focal_plane_Raft_RaftTempControlConfiguration.get()\n",
    "print(data)"
   ]
  },
  {
   "cell_type": "markdown",
   "id": "f89bc462-ac0e-4156-8a2c-50de67ec19b4",
   "metadata": {
    "jp-MarkdownHeadingCollapsed": true,
    "tags": []
   },
   "source": [
    "### Step 91 - CCCamera_logevent_focal_plane_Raft_RaftTempControlStatusConfiguration"
   ]
  },
  {
   "cell_type": "code",
   "execution_count": null,
   "id": "49f4aea1-8903-453a-9a63-601b3a7c9338",
   "metadata": {},
   "outputs": [],
   "source": [
    "data = comcam.rem.ccamera.evt_focal_plane_Raft_RaftTempControlStatusConfiguration.get()\n",
    "print(data)"
   ]
  },
  {
   "cell_type": "markdown",
   "id": "7069f05b-ec53-415b-aff9-7886149dbcb8",
   "metadata": {
    "jp-MarkdownHeadingCollapsed": true,
    "tags": []
   },
   "source": [
    "### Step 92 - CCCamera_logevent_focal_plane_RennTotalPower_LimitsConfiguration"
   ]
  },
  {
   "cell_type": "code",
   "execution_count": null,
   "id": "f8576116-5c41-47b8-9711-f296281d6d0c",
   "metadata": {},
   "outputs": [],
   "source": [
    "data = comcam.rem.ccamera.evt_focal_plane_RennTotalPower_LimitsConfiguration.get()\n",
    "print(data)"
   ]
  },
  {
   "cell_type": "markdown",
   "id": "d38c843c-e3c9-4c37-a544-d01079843190",
   "metadata": {
    "jp-MarkdownHeadingCollapsed": true,
    "tags": []
   },
   "source": [
    "### Step 93 - CCCamera_logevent_focal_plane_Reb_DevicesConfiguration"
   ]
  },
  {
   "cell_type": "code",
   "execution_count": null,
   "id": "dcff7214-b034-4a49-a046-095b671dad7f",
   "metadata": {},
   "outputs": [],
   "source": [
    "data = comcam.rem.ccamera.evt_focal_plane_Reb_DevicesConfiguration.get()\n",
    "print(data)"
   ]
  },
  {
   "cell_type": "markdown",
   "id": "bc52df70-efb7-47d1-ad0f-f6b56a67be04",
   "metadata": {
    "jp-MarkdownHeadingCollapsed": true,
    "tags": []
   },
   "source": [
    "### Step 94 - CCCamera_logevent_focal_plane_Reb_HardwareIdConfiguration"
   ]
  },
  {
   "cell_type": "code",
   "execution_count": null,
   "id": "527469a3-043c-41f2-b152-16c3ad63532c",
   "metadata": {},
   "outputs": [],
   "source": [
    "data = comcam.rem.ccamera.evt_focal_plane_Reb_HardwareIdConfiguration.get()\n",
    "print(data)"
   ]
  },
  {
   "cell_type": "markdown",
   "id": "2a441364-ed17-4456-9f61-0a403255b34a",
   "metadata": {
    "jp-MarkdownHeadingCollapsed": true,
    "tags": []
   },
   "source": [
    "### Step 95 - CCCamera_logevent_focal_plane_Reb_LimitsConfiguration"
   ]
  },
  {
   "cell_type": "code",
   "execution_count": null,
   "id": "9bba94c6-b43c-4b59-89a3-cdf1f45a60e4",
   "metadata": {},
   "outputs": [],
   "source": [
    "data = comcam.rem.ccamera.evt_focal_plane_Reb_LimitsConfiguration.get()\n",
    "print(data)"
   ]
  },
  {
   "cell_type": "markdown",
   "id": "38db1096-626a-4133-a61f-d435f4480619",
   "metadata": {
    "jp-MarkdownHeadingCollapsed": true,
    "tags": []
   },
   "source": [
    "### Step 96 - CCCamera_logevent_focal_plane_Reb_RaftsConfiguration"
   ]
  },
  {
   "cell_type": "code",
   "execution_count": null,
   "id": "77e88a6d-0ff8-4b21-8d62-8a634afa29c6",
   "metadata": {},
   "outputs": [],
   "source": [
    "data = comcam.rem.ccamera.evt_focal_plane_Reb_RaftsConfiguration.get()\n",
    "print(data)"
   ]
  },
  {
   "cell_type": "markdown",
   "id": "1258ff20-dabc-4a8b-91e0-19707ee0fd22",
   "metadata": {
    "jp-MarkdownHeadingCollapsed": true,
    "tags": []
   },
   "source": [
    "### Step 97 - CCCamera_logevent_focal_plane_Reb_RaftsLimitConfiguration"
   ]
  },
  {
   "cell_type": "code",
   "execution_count": null,
   "id": "2e76b860-02d7-4317-9dee-83fe4a16e778",
   "metadata": {},
   "outputs": [],
   "source": [
    "data = comcam.rem.ccamera.evt_focal_plane_Reb_RaftsLimitConfiguration.get()\n",
    "print(data)"
   ]
  },
  {
   "cell_type": "markdown",
   "id": "6c366453-e614-493a-8eed-0099a04cfae3",
   "metadata": {
    "jp-MarkdownHeadingCollapsed": true,
    "tags": []
   },
   "source": [
    "### Step 98 - CCCamera_logevent_focal_plane_Reb_RaftsPowerConfiguration"
   ]
  },
  {
   "cell_type": "code",
   "execution_count": null,
   "id": "50b4266c-802a-479d-91ef-7eebe8472de4",
   "metadata": {},
   "outputs": [],
   "source": [
    "data = comcam.rem.ccamera.evt_focal_plane_Reb_RaftsPowerConfiguration.get()\n",
    "print(data)"
   ]
  },
  {
   "cell_type": "markdown",
   "id": "21ae35b7-8570-4569-8c9d-3b14bb8df226",
   "metadata": {
    "jp-MarkdownHeadingCollapsed": true,
    "tags": []
   },
   "source": [
    "### Step 99 - CCCamera_logevent_focal_plane_Reb_timersConfiguration"
   ]
  },
  {
   "cell_type": "code",
   "execution_count": null,
   "id": "54c081d8-77b9-4922-8024-415a3f47b16c",
   "metadata": {},
   "outputs": [],
   "source": [
    "data = comcam.rem.ccamera.evt_focal_plane_Reb_timersConfiguration.get()\n",
    "print(data)"
   ]
  },
  {
   "cell_type": "markdown",
   "id": "366c11b8-4cf7-43c4-8717-e1af95a00937",
   "metadata": {
    "jp-MarkdownHeadingCollapsed": true,
    "tags": []
   },
   "source": [
    "### Step 100 - CCCamera_logevent_focal_plane_Segment_LimitsConfiguration"
   ]
  },
  {
   "cell_type": "code",
   "execution_count": null,
   "id": "b69dde5b-2a05-490a-8f3b-8841e02377f8",
   "metadata": {},
   "outputs": [],
   "source": [
    "data = comcam.rem.ccamera.evt_focal_plane_Segment_LimitsConfiguration.get()\n",
    "print(data)"
   ]
  },
  {
   "cell_type": "markdown",
   "id": "98c52cd3-7c6d-42c9-850e-a40beff11fb5",
   "metadata": {
    "jp-MarkdownHeadingCollapsed": true,
    "tags": []
   },
   "source": [
    "### Step 101 - CCCamera_logevent_focal_plane_SequencerConfig_DAQConfiguration"
   ]
  },
  {
   "cell_type": "code",
   "execution_count": null,
   "id": "3c4a57af-ca67-4381-9389-e030bbebacb8",
   "metadata": {},
   "outputs": [],
   "source": [
    "data = comcam.rem.ccamera.evt_focal_plane_SequencerConfig_DAQConfiguration.get()\n",
    "print(data)"
   ]
  },
  {
   "cell_type": "markdown",
   "id": "81f7e4e0-2fa7-45a5-9bef-7c155bbd8449",
   "metadata": {
    "jp-MarkdownHeadingCollapsed": true,
    "tags": []
   },
   "source": [
    "### Step 102 - CCCamera_logevent_focal_plane_SequencerConfig_SequencerConfiguration"
   ]
  },
  {
   "cell_type": "code",
   "execution_count": null,
   "id": "dd6a7d81-be41-453e-95d2-309b906a0705",
   "metadata": {},
   "outputs": [],
   "source": [
    "data = comcam.rem.ccamera.evt_focal_plane_SequencerConfig_SequencerConfiguration.get()\n",
    "print(data)"
   ]
  },
  {
   "cell_type": "markdown",
   "id": "13c19f33-34b2-4e26-a3f4-a1b3133d37ed",
   "metadata": {
    "jp-MarkdownHeadingCollapsed": true,
    "tags": []
   },
   "source": [
    "### Step 103 - CCCamera_logevent_focal_plane_WebHooksConfig_VisualizationConfiguration"
   ]
  },
  {
   "cell_type": "code",
   "execution_count": null,
   "id": "55e01772-a1b0-46d7-b3cd-3302198b5846",
   "metadata": {},
   "outputs": [],
   "source": [
    "data = comcam.rem.ccamera.evt_focal_plane_WebHooksConfig_VisualizationConfiguration.get()\n",
    "print(data)"
   ]
  },
  {
   "cell_type": "markdown",
   "id": "00237079-cc60-4250-9d81-e8459e9a3b61",
   "metadata": {
    "jp-MarkdownHeadingCollapsed": true,
    "tags": []
   },
   "source": [
    "### Step 104 - CCCamera_logevent_image_handling_ImageHandler_CommandsConfiguration"
   ]
  },
  {
   "cell_type": "code",
   "execution_count": null,
   "id": "575fb355-e3f3-4642-a752-8469cf2e0479",
   "metadata": {},
   "outputs": [],
   "source": [
    "data = comcam.rem.ccamera.evt_image_handling_ImageHandler_CommandsConfiguration.get()\n",
    "print(data)"
   ]
  },
  {
   "cell_type": "markdown",
   "id": "e29a7781-b2fe-4c8c-8ff6-1864de0a9edf",
   "metadata": {
    "jp-MarkdownHeadingCollapsed": true,
    "tags": []
   },
   "source": [
    "### Step 105 - CCCamera_logevent_image_handling_ImageHandler_DAQConfiguration"
   ]
  },
  {
   "cell_type": "code",
   "execution_count": null,
   "id": "e429c66c-5bc6-41a6-8565-c376f2d173c5",
   "metadata": {},
   "outputs": [],
   "source": [
    "data = comcam.rem.ccamera.evt_image_handling_ImageHandler_DAQConfiguration.get()\n",
    "print(data)"
   ]
  },
  {
   "cell_type": "markdown",
   "id": "1a37dffa-a26f-4646-90f4-8ce10b14e4cd",
   "metadata": {
    "jp-MarkdownHeadingCollapsed": true,
    "tags": []
   },
   "source": [
    "### Step 106 - CCCamera_logevent_image_handling_ImageHandler_FitsHandlingConfiguration"
   ]
  },
  {
   "cell_type": "code",
   "execution_count": null,
   "id": "c2cfe941-d9f6-4c13-9c54-08b56ae72c10",
   "metadata": {},
   "outputs": [],
   "source": [
    "data = comcam.rem.ccamera.evt_image_handling_ImageHandler_FitsHandlingConfiguration.get()\n",
    "print(data)"
   ]
  },
  {
   "cell_type": "markdown",
   "id": "aaac1329-a318-4a0c-9b54-5630c56f2b7b",
   "metadata": {
    "jp-MarkdownHeadingCollapsed": true,
    "tags": []
   },
   "source": [
    "### Step 107 - CCCamera_logevent_image_handling_PeriodicTasks_GeneralConfiguration"
   ]
  },
  {
   "cell_type": "code",
   "execution_count": null,
   "id": "a3471f2d-dcdf-431d-acff-3b6201b7385d",
   "metadata": {},
   "outputs": [],
   "source": [
    "data = comcam.rem.ccamera.evt_image_handling_PeriodicTasks_GeneralConfiguration.get()\n",
    "print(data)"
   ]
  },
  {
   "cell_type": "markdown",
   "id": "bab148b3-450d-4af2-964e-7a2eb3e3458b",
   "metadata": {
    "jp-MarkdownHeadingCollapsed": true,
    "tags": []
   },
   "source": [
    "### Step 108 - CCCamera_logevent_image_handling_PeriodicTasks_timersConfiguration"
   ]
  },
  {
   "cell_type": "code",
   "execution_count": null,
   "id": "152d3f63-0dc1-4922-ac17-b8f86670166d",
   "metadata": {},
   "outputs": [],
   "source": [
    "data = comcam.rem.ccamera.evt_image_handling_PeriodicTasks_timersConfiguration.get()\n",
    "print(data)"
   ]
  },
  {
   "cell_type": "markdown",
   "id": "4f35f00e-59fc-49d5-b119-d52e9141fb53",
   "metadata": {
    "jp-MarkdownHeadingCollapsed": true,
    "tags": []
   },
   "source": [
    "### Step 109 - CCCamera_logevent_image_handling_Reb_FitsHandlingConfiguration"
   ]
  },
  {
   "cell_type": "code",
   "execution_count": null,
   "id": "571518b7-b638-467a-b7a1-77a376d08807",
   "metadata": {},
   "outputs": [],
   "source": [
    "data = comcam.rem.ccamera.evt_image_handling_Reb_FitsHandlingConfiguration.get()\n",
    "print(data)"
   ]
  },
  {
   "cell_type": "markdown",
   "id": "da2a4684-4cb0-4a12-9e68-62c58e2fa5e1",
   "metadata": {
    "jp-MarkdownHeadingCollapsed": true,
    "tags": []
   },
   "source": [
    "### Step 110 - CCCamera_logevent_image_handling_Reb_GeneralConfiguration"
   ]
  },
  {
   "cell_type": "code",
   "execution_count": null,
   "id": "d9273c0f-a906-4b15-bcce-6671a676f39d",
   "metadata": {},
   "outputs": [],
   "source": [
    "data = comcam.rem.ccamera.evt_image_handling_Reb_GeneralConfiguration.get()\n",
    "print(data)"
   ]
  },
  {
   "cell_type": "markdown",
   "id": "481c0177-ff01-4264-a62c-f4e32f5a4633",
   "metadata": {
    "jp-MarkdownHeadingCollapsed": true,
    "tags": []
   },
   "source": [
    "### Step 111 - CCCamera_logevent_mpm_PeriodTasks_GeneralConfiguration"
   ]
  },
  {
   "cell_type": "code",
   "execution_count": null,
   "id": "bb288983-38fd-4fcb-975a-b036a09cbd15",
   "metadata": {},
   "outputs": [],
   "source": [
    "data = comcam.rem.ccamera.evt_mpm_PeriodTasks_GeneralConfiguration.get()\n",
    "print(data)"
   ]
  },
  {
   "cell_type": "markdown",
   "id": "637ee02d-2178-4f50-ac90-d6393fc35030",
   "metadata": {
    "jp-MarkdownHeadingCollapsed": true,
    "tags": []
   },
   "source": [
    "### Step 112 - CCCamera_logevent_mpm_PeriodTasks_timersConfiguration"
   ]
  },
  {
   "cell_type": "code",
   "execution_count": null,
   "id": "7eee8da2-cabd-4a27-b7ee-2fccf3962f41",
   "metadata": {},
   "outputs": [],
   "source": [
    "data = comcam.rem.ccamera.evt_mpm_PeriodTasks_timersConfiguration.get()\n",
    "print(data)"
   ]
  },
  {
   "cell_type": "markdown",
   "id": "992d68ff-bd39-4900-8dfd-a0db1e61906e",
   "metadata": {
    "jp-MarkdownHeadingCollapsed": true,
    "tags": []
   },
   "source": [
    "### Step 113 - CCCamera_logevent_mpm_Pluto_DeviceConfiguration"
   ]
  },
  {
   "cell_type": "code",
   "execution_count": null,
   "id": "83a47141-c8dd-4d94-bfbb-e31d6af50667",
   "metadata": {},
   "outputs": [],
   "source": [
    "data = comcam.rem.ccamera.evt_mpm_Pluto_DeviceConfiguration.get()\n",
    "print(data)"
   ]
  },
  {
   "cell_type": "markdown",
   "id": "56291996-109e-4776-b29b-21ca19fb9c02",
   "metadata": {
    "jp-MarkdownHeadingCollapsed": true,
    "tags": []
   },
   "source": [
    "### Step 114 - CCCamera_logevent_mpm_Pluto_DevicesConfiguration"
   ]
  },
  {
   "cell_type": "code",
   "execution_count": null,
   "id": "f224a423-e325-4ebc-90e9-9a3405478b36",
   "metadata": {},
   "outputs": [],
   "source": [
    "data = comcam.rem.ccamera.evt_mpm_Pluto_DevicesConfiguration.get()\n",
    "print(data)"
   ]
  }
 ],
 "metadata": {
  "kernelspec": {
   "display_name": "LSST",
   "language": "python",
   "name": "lsst"
  },
  "language_info": {
   "codemirror_mode": {
    "name": "ipython",
    "version": 3
   },
   "file_extension": ".py",
   "mimetype": "text/x-python",
   "name": "python",
   "nbconvert_exporter": "python",
   "pygments_lexer": "ipython3",
   "version": "3.10.4"
  }
 },
 "nbformat": 4,
 "nbformat_minor": 5
}
