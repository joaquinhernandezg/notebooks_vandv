{
 "cells": [
  {
   "cell_type": "markdown",
   "metadata": {},
   "source": [
    "# [LVV-T1802] - Integration of M2 Hexapod with SAL\n",
    "\n",
    "This case will verify that the integration of the M2 Hexapod with SAL.\n",
    "The blocks below represent the steps of the test case.\n",
    "\n",
    "Requirements\n",
    "* EFD\n",
    "* Hexapod(s) powered on\n",
    "* Thermal sensors attached to the six actuators of the hexapod.\n",
    "* CSC running\n",
    "\n",
    "This test will require manual verification of certain events and telemetry in the summit EFD.\n",
    "Also manual verification of appropriate temperatures for each actuator.\n",
    "\n",
    "**Make sure you run this notebook on TTS before running at the summit.**\n",
    "\n",
    "Please, see the [README] file for the requirements to run this notebook.\n",
    "\n",
    "[LVV-T1802]: https://jira.lsstcorp.org/secure/Tests.jspa#/testCase/LVV-T1802\n",
    "[README]: https://github.com/lsst-sitcom/notebooks_vandv/blob/develop/README.md"
   ]
  },
  {
   "cell_type": "markdown",
   "metadata": {},
   "source": [
    "## Setting Up Test Environment"
   ]
  },
  {
   "cell_type": "markdown",
   "metadata": {},
   "source": [
    "Before we run the tests, we want to make sure that we have all the libraries imported, remotes connected, etc."
   ]
  },
  {
   "cell_type": "code",
   "execution_count": 1,
   "metadata": {},
   "outputs": [],
   "source": [
    "test_case = \"LVV-T1802\"\n",
    "test_exec = \"LVV-EXXXX\""
   ]
  },
  {
   "cell_type": "code",
   "execution_count": 2,
   "metadata": {},
   "outputs": [
    {
     "data": {
      "text/html": [
       "<pre style=\"margin: 0.1em;\n",
       "padding-left: 0.25em;\n",
       "border-left-style: solid;\n",
       "font-family: var(--jp-code-font-family);\n",
       "font-size: var(--jp-code-font-size);\n",
       "line-height: var(--jp-code-line-height);\n",
       "\"><span style=\"color: var(--jp-warn-color2)\">lsst.ts.utils.tai</span> <span style=\"color: var(--jp-info-color0)\">INFO</span>: Update leap second table</pre>"
      ],
      "text/plain": [
       "<IPython.core.display.HTML object>"
      ]
     },
     "metadata": {},
     "output_type": "display_data"
    },
    {
     "data": {
      "text/html": [
       "<pre style=\"margin: 0.1em;\n",
       "padding-left: 0.25em;\n",
       "border-left-style: solid;\n",
       "font-family: var(--jp-code-font-family);\n",
       "font-size: var(--jp-code-font-size);\n",
       "line-height: var(--jp-code-line-height);\n",
       "\"><span style=\"color: var(--jp-warn-color2)\">lsst.ts.utils.tai</span> <span style=\"color: var(--jp-info-color0)\">INFO</span>: current_tai uses the system TAI clock</pre>"
      ],
      "text/plain": [
       "<IPython.core.display.HTML object>"
      ]
     },
     "metadata": {},
     "output_type": "display_data"
    }
   ],
   "source": [
    "import asyncio\n",
    "import logging\n",
    "import os\n",
    "import yaml\n",
    "\n",
    "import astropy.units as u\n",
    "import numpy as np\n",
    "import pandas as pd\n",
    "\n",
    "from astropy.time import Time\n",
    "from datetime import datetime, timedelta\n",
    "from matplotlib import pyplot as plt\n",
    "\n",
    "from lsst_efd_client import EfdClient\n",
    "from lsst.ts import salobj\n",
    "from lsst.ts.idl.enums import MTHexapod\n",
    "\n",
    "from lsst.sitcom import vandv"
   ]
  },
  {
   "cell_type": "code",
   "execution_count": 3,
   "metadata": {},
   "outputs": [
    {
     "name": "stdout",
     "output_type": "stream",
     "text": [
      "\n",
      "Executed by b1quint on 2022-07-07T15:35:59.264.\n",
      "  Running in pillan05 at tucson\n",
      "\n"
     ]
    }
   ],
   "source": [
    "exec_info = vandv.ExecutionInfo()\n",
    "print(exec_info)"
   ]
  },
  {
   "cell_type": "code",
   "execution_count": 4,
   "metadata": {},
   "outputs": [],
   "source": [
    "client = vandv.efd.create_efd_client()"
   ]
  },
  {
   "cell_type": "markdown",
   "metadata": {},
   "source": [
    "The following block sets the necessary environment variables for setting up the DDS/SAL communication"
   ]
  },
  {
   "cell_type": "code",
   "execution_count": 5,
   "metadata": {},
   "outputs": [],
   "source": [
    "os.environ[\"LSST_DDS_HISTORYSYNC\"] = \"30\""
   ]
  },
  {
   "cell_type": "markdown",
   "metadata": {},
   "source": [
    "This is the amount of time to wait in between a move just to make sure that the actuators are not overheating.  "
   ]
  },
  {
   "cell_type": "code",
   "execution_count": 6,
   "metadata": {},
   "outputs": [],
   "source": [
    "STD_WAIT = 39"
   ]
  },
  {
   "cell_type": "markdown",
   "metadata": {},
   "source": [
    "This sets up the logger for the test."
   ]
  },
  {
   "cell_type": "code",
   "execution_count": 7,
   "metadata": {},
   "outputs": [],
   "source": [
    "log = logging.getLogger(__name__)\n",
    "logging.basicConfig(level=logging.INFO)"
   ]
  },
  {
   "cell_type": "markdown",
   "metadata": {},
   "source": [
    "Starts a Script controller which allows putting custom messages into the EFD for later analysis."
   ]
  },
  {
   "cell_type": "code",
   "execution_count": 8,
   "metadata": {},
   "outputs": [
    {
     "data": {
      "text/html": [
       "<pre style=\"margin: 0.1em;\n",
       "padding-left: 0.25em;\n",
       "border-left-style: solid;\n",
       "font-family: var(--jp-code-font-family);\n",
       "font-size: var(--jp-code-font-size);\n",
       "line-height: var(--jp-code-line-height);\n",
       "\"><span style=\"color: var(--jp-warn-color2)\">Script</span> <span style=\"color: var(--jp-info-color0)\">INFO</span>: Disabling authlist-based command authorization</pre>"
      ],
      "text/plain": [
       "<IPython.core.display.HTML object>"
      ]
     },
     "metadata": {},
     "output_type": "display_data"
    },
    {
     "data": {
      "text/html": [
       "<pre style=\"margin: 0.1em;\n",
       "padding-left: 0.25em;\n",
       "border-left-style: solid;\n",
       "font-family: var(--jp-code-font-family);\n",
       "font-size: var(--jp-code-font-size);\n",
       "line-height: var(--jp-code-line-height);\n",
       "\"><span style=\"color: var(--jp-warn-color2)\">Script</span> <span style=\"color: var(--jp-info-color0)\">INFO</span>: Read historical data in 0.00 sec</pre>"
      ],
      "text/plain": [
       "<IPython.core.display.HTML object>"
      ]
     },
     "metadata": {},
     "output_type": "display_data"
    },
    {
     "name": "stdout",
     "output_type": "stream",
     "text": [
      "LVV-T1802 LVV-EXXXX time to start is 0:00:10.098545 [s]\n"
     ]
    }
   ],
   "source": [
    "start_time = datetime.now()\n",
    "test_message = \"M2 Hexapod Integration Test\"\n",
    "\n",
    "script = salobj.Controller(\"Script\", index=42658885)\n",
    "await asyncio.sleep(10) # May help with DDS problems; closing all other kernels may help too\n",
    "print(f\"{test_case} {test_exec} time to start is {datetime.now() - start_time} [s]\")"
   ]
  },
  {
   "cell_type": "markdown",
   "metadata": {},
   "source": [
    "This is how you start the remote for the CSC."
   ]
  },
  {
   "cell_type": "code",
   "execution_count": 9,
   "metadata": {},
   "outputs": [
    {
     "name": "stdout",
     "output_type": "stream",
     "text": [
      "<lsst.ts.salobj.domain.Domain object at 0x7f9d817bb9a0>\n"
     ]
    }
   ],
   "source": [
    "domain = salobj.Domain()\n",
    "print(domain)"
   ]
  },
  {
   "cell_type": "markdown",
   "metadata": {},
   "source": [
    "Create the remote to controle the M2 Hexapod.  \n",
    "Remember that the `index` tells if we are running the Camerea Hexapod (`1`) or the M2 Hexapod (`2`). "
   ]
  },
  {
   "cell_type": "code",
   "execution_count": 10,
   "metadata": {},
   "outputs": [
    {
     "data": {
      "text/html": [
       "<pre style=\"margin: 0.1em;\n",
       "padding-left: 0.25em;\n",
       "border-left-style: solid;\n",
       "font-family: var(--jp-code-font-family);\n",
       "font-size: var(--jp-code-font-size);\n",
       "line-height: var(--jp-code-line-height);\n",
       "\"><span style=\"color: var(--jp-warn-color2)\">MTHexapod</span> <span style=\"color: var(--jp-info-color0)\">INFO</span>: Disabling authlist-based command authorization</pre>"
      ],
      "text/plain": [
       "<IPython.core.display.HTML object>"
      ]
     },
     "metadata": {},
     "output_type": "display_data"
    },
    {
     "name": "stdout",
     "output_type": "stream",
     "text": [
      "<lsst.ts.salobj.remote.Remote object at 0x7f9d81696da0>\n"
     ]
    },
    {
     "data": {
      "text/html": [
       "<pre style=\"margin: 0.1em;\n",
       "padding-left: 0.25em;\n",
       "border-left-style: solid;\n",
       "font-family: var(--jp-code-font-family);\n",
       "font-size: var(--jp-code-font-size);\n",
       "line-height: var(--jp-code-line-height);\n",
       "\"><span style=\"color: var(--jp-warn-color2)\">MTHexapod</span> <span style=\"color: var(--jp-info-color0)\">INFO</span>: Read historical data in 0.00 sec</pre>"
      ],
      "text/plain": [
       "<IPython.core.display.HTML object>"
      ]
     },
     "metadata": {},
     "output_type": "display_data"
    }
   ],
   "source": [
    "csc_index = 2\n",
    "hexapod_csc = salobj.Remote(name=\"MTHexapod\", domain=domain, index=csc_index)\n",
    "print(hexapod_csc)"
   ]
  },
  {
   "cell_type": "markdown",
   "metadata": {},
   "source": [
    "Start the hexapod service."
   ]
  },
  {
   "cell_type": "code",
   "execution_count": 11,
   "metadata": {},
   "outputs": [],
   "source": [
    "await hexapod_csc.start_task"
   ]
  },
  {
   "cell_type": "markdown",
   "metadata": {},
   "source": [
    "Check for heartbeats."
   ]
  },
  {
   "cell_type": "code",
   "execution_count": 12,
   "metadata": {},
   "outputs": [
    {
     "data": {
      "text/plain": [
       "<ddsutil.MTHexapod_logevent_heartbeat_54bd1349 at 0x7f9d80777fa0>"
      ]
     },
     "execution_count": 12,
     "metadata": {},
     "output_type": "execute_result"
    }
   ],
   "source": [
    "await hexapod_csc.evt_heartbeat.next(flush=True, timeout=5)"
   ]
  },
  {
   "cell_type": "markdown",
   "metadata": {},
   "source": [
    "This test case also uses the Mount and the Rotator.  \n",
    "Make sure that you have them in the correct configuration (simulator/hardware and ccw-following enabled/disabled).  \n",
    "The cell below starts them:"
   ]
  },
  {
   "cell_type": "code",
   "execution_count": 114,
   "metadata": {},
   "outputs": [
    {
     "data": {
      "text/html": [
       "<pre style=\"margin: 0.1em;\n",
       "padding-left: 0.25em;\n",
       "border-left-style: solid;\n",
       "font-family: var(--jp-code-font-family);\n",
       "font-size: var(--jp-code-font-size);\n",
       "line-height: var(--jp-code-line-height);\n",
       "\"><span style=\"color: var(--jp-warn-color2)\">MTMount</span> <span style=\"color: var(--jp-info-color0)\">INFO</span>: Disabling authlist-based command authorization</pre>"
      ],
      "text/plain": [
       "<IPython.core.display.HTML object>"
      ]
     },
     "metadata": {},
     "output_type": "display_data"
    },
    {
     "data": {
      "text/html": [
       "<pre style=\"margin: 0.1em;\n",
       "padding-left: 0.25em;\n",
       "border-left-style: solid;\n",
       "font-family: var(--jp-code-font-family);\n",
       "font-size: var(--jp-code-font-size);\n",
       "line-height: var(--jp-code-line-height);\n",
       "\"><span style=\"color: var(--jp-warn-color2)\">MTMount</span> <span style=\"color: var(--jp-info-color0)\">INFO</span>: Read historical data in 0.00 sec</pre>"
      ],
      "text/plain": [
       "<IPython.core.display.HTML object>"
      ]
     },
     "metadata": {},
     "output_type": "display_data"
    }
   ],
   "source": [
    "mount = salobj.Remote(name=\"MTMount\", domain=domain)\n",
    "await asyncio.sleep(10)\n",
    "await mount.start_task"
   ]
  },
  {
   "cell_type": "code",
   "execution_count": 115,
   "metadata": {},
   "outputs": [
    {
     "data": {
      "text/html": [
       "<pre style=\"margin: 0.1em;\n",
       "padding-left: 0.25em;\n",
       "border-left-style: solid;\n",
       "font-family: var(--jp-code-font-family);\n",
       "font-size: var(--jp-code-font-size);\n",
       "line-height: var(--jp-code-line-height);\n",
       "\"><span style=\"color: var(--jp-warn-color2)\">MTRotator</span> <span style=\"color: var(--jp-info-color0)\">INFO</span>: Disabling authlist-based command authorization</pre>"
      ],
      "text/plain": [
       "<IPython.core.display.HTML object>"
      ]
     },
     "metadata": {},
     "output_type": "display_data"
    },
    {
     "data": {
      "text/html": [
       "<pre style=\"margin: 0.1em;\n",
       "padding-left: 0.25em;\n",
       "border-left-style: solid;\n",
       "font-family: var(--jp-code-font-family);\n",
       "font-size: var(--jp-code-font-size);\n",
       "line-height: var(--jp-code-line-height);\n",
       "\"><span style=\"color: var(--jp-warn-color2)\">MTRotator</span> <span style=\"color: var(--jp-info-color0)\">INFO</span>: Read historical data in 0.00 sec</pre>"
      ],
      "text/plain": [
       "<IPython.core.display.HTML object>"
      ]
     },
     "metadata": {},
     "output_type": "display_data"
    }
   ],
   "source": [
    "rotator = salobj.Remote(name=\"MTRotator\", domain=domain)\n",
    "await asyncio.sleep(10)\n",
    "await rotator.start_task"
   ]
  },
  {
   "cell_type": "markdown",
   "metadata": {},
   "source": [
    "## Running the test"
   ]
  },
  {
   "cell_type": "markdown",
   "metadata": {},
   "source": [
    "From any state send the CSC into OfflineState/AvailableState using the EUI.  \n",
    "Change the control at the EUI to `eGUI` and check that the `MTHexapod_logevent_commandableByDDS` publishes false."
   ]
  },
  {
   "cell_type": "code",
   "execution_count": 32,
   "metadata": {},
   "outputs": [
    {
     "name": "stdout",
     "output_type": "stream",
     "text": [
      "salIndex: 2, private_revCode: 43ad0ef1, private_sndStamp: 1656703672.3366728, private_rcvStamp: 1657052579.8843367, private_seqNum: 1, private_identity: MTHexapod:2, private_origin: 10906, state: True\n"
     ]
    }
   ],
   "source": [
    "e = hexapod_csc.evt_commandableByDDS.get()\n",
    "print(e)"
   ]
  },
  {
   "cell_type": "markdown",
   "metadata": {},
   "source": [
    "Now, change the control at the EUI to `DDS` and check that the `MTHexapod_logevent_commandableByDDS` publishes true."
   ]
  },
  {
   "cell_type": "code",
   "execution_count": 33,
   "metadata": {},
   "outputs": [
    {
     "name": "stdout",
     "output_type": "stream",
     "text": [
      "salIndex: 2, private_revCode: 43ad0ef1, private_sndStamp: 1656703672.3366728, private_rcvStamp: 1657052579.8843367, private_seqNum: 1, private_identity: MTHexapod:2, private_origin: 10906, state: True\n"
     ]
    }
   ],
   "source": [
    "e = hexapod_csc.evt_commandableByDDS.get()\n",
    "print(e)"
   ]
  },
  {
   "cell_type": "markdown",
   "metadata": {},
   "source": [
    "Check the transition above using the EFD."
   ]
  },
  {
   "cell_type": "code",
   "execution_count": 42,
   "metadata": {},
   "outputs": [
    {
     "name": "stdout",
     "output_type": "stream",
     "text": [
      "                                  state\n",
      "2022-07-01 19:27:15.336672+00:00   True\n",
      "2022-06-29 21:02:24.300845+00:00   True\n"
     ]
    }
   ],
   "source": [
    "df = await client.select_top_n(\n",
    "    \"lsst.sal.MTHexapod.logevent_commandableByDDS\", \n",
    "    fields=\"state\",\n",
    "    num=5,\n",
    "    index=2\n",
    ")\n",
    "\n",
    "print(df)"
   ]
  },
  {
   "cell_type": "markdown",
   "metadata": {},
   "source": [
    "--- \n",
    "Verify the TCP/IP is connected to the low level controller."
   ]
  },
  {
   "cell_type": "code",
   "execution_count": 43,
   "metadata": {},
   "outputs": [
    {
     "name": "stdout",
     "output_type": "stream",
     "text": [
      "salIndex: 2, private_revCode: c4eb7dc2, private_sndStamp: 1656703672.335658, private_rcvStamp: 1657052579.890165, private_seqNum: 1, private_identity: MTHexapod:2, private_origin: 10906, connected: True\n"
     ]
    }
   ],
   "source": [
    "e = hexapod_csc.evt_connected.get()\n",
    "print(e)"
   ]
  },
  {
   "cell_type": "code",
   "execution_count": 44,
   "metadata": {},
   "outputs": [
    {
     "name": "stdout",
     "output_type": "stream",
     "text": [
      "                                  connected\n",
      "2022-07-01 19:27:15.335658+00:00       True\n",
      "2022-07-01 16:18:41.983598+00:00      False\n",
      "2022-06-29 21:02:24.299869+00:00       True\n"
     ]
    }
   ],
   "source": [
    "df = await client.select_top_n(\n",
    "    \"lsst.sal.MTHexapod.logevent_connected\", \n",
    "    fields=\"connected\",\n",
    "    num=5,\n",
    "    index=2\n",
    ")\n",
    "\n",
    "print(df)"
   ]
  },
  {
   "cell_type": "markdown",
   "metadata": {},
   "source": [
    "--- \n",
    "Verify the __MTHexapod_logevent_configuration__ event is publishing data to the EFD."
   ]
  },
  {
   "cell_type": "code",
   "execution_count": 45,
   "metadata": {},
   "outputs": [
    {
     "name": "stdout",
     "output_type": "stream",
     "text": [
      "salIndex: 2, private_revCode: c80e4b90, private_sndStamp: 1656703672.3360224, private_rcvStamp: 1657052579.8878214, private_seqNum: 1, private_identity: MTHexapod:2, private_origin: 10906, maxXY: 10500.0, minZ: -8900.0, maxZ: 8900.0, maxUV: 0.175, minW: -0.05, maxW: 0.05, maxVelocityXY: 2000.0, maxVelocityZ: 2000.0, maxVelocityUV: 0.1146, maxVelocityW: 0.1146, pivotX: 0.0, pivotY: 0.0, pivotZ: 500000.0, maxDisplacementStrut: 14100.0, maxVelocityStrut: 500.0, accelerationStrut: 500.0\n"
     ]
    }
   ],
   "source": [
    "e = hexapod_csc.evt_configuration.get()\n",
    "print(e)"
   ]
  },
  {
   "cell_type": "code",
   "execution_count": 48,
   "metadata": {},
   "outputs": [
    {
     "name": "stdout",
     "output_type": "stream",
     "text": [
      "                                 MTHexapodID  accelerationStrut  \\\n",
      "2022-07-01 19:27:15.336022+00:00        None                500   \n",
      "\n",
      "                                  maxDisplacementStrut  maxUV  \\\n",
      "2022-07-01 19:27:15.336022+00:00                 14100  0.175   \n",
      "\n",
      "                                  maxVelocityStrut  maxVelocityUV  \\\n",
      "2022-07-01 19:27:15.336022+00:00               500         0.1146   \n",
      "\n",
      "                                  maxVelocityW  maxVelocityXY  maxVelocityZ  \\\n",
      "2022-07-01 19:27:15.336022+00:00        0.1146           2000          2000   \n",
      "\n",
      "                                  maxW  ...  priority  private_efdStamp  \\\n",
      "2022-07-01 19:27:15.336022+00:00  0.05  ...      None      1.656704e+09   \n",
      "\n",
      "                                  private_identity  private_kafkaStamp  \\\n",
      "2022-07-01 19:27:15.336022+00:00       MTHexapod:2        1.656704e+09   \n",
      "\n",
      "                                  private_origin  private_rcvStamp  \\\n",
      "2022-07-01 19:27:15.336022+00:00           10906      1.656704e+09   \n",
      "\n",
      "                                  private_revCode private_seqNum  \\\n",
      "2022-07-01 19:27:15.336022+00:00         c80e4b90              1   \n",
      "\n",
      "                                  private_sndStamp salIndex  \n",
      "2022-07-01 19:27:15.336022+00:00      1.656704e+09        2  \n",
      "\n",
      "[1 rows x 27 columns]\n"
     ]
    }
   ],
   "source": [
    "df = await client.select_top_n(\n",
    "    \"lsst.sal.MTHexapod.logevent_configuration\", \n",
    "    fields=\"*\",\n",
    "    num=1,\n",
    "    index=2\n",
    ")\n",
    "\n",
    "print(df)"
   ]
  },
  {
   "cell_type": "markdown",
   "metadata": {},
   "source": [
    "---\n",
    "Verify the __MTHexapod_logevent_interlock__ event is unengaged and publishing data to the EFD."
   ]
  },
  {
   "cell_type": "code",
   "execution_count": 49,
   "metadata": {},
   "outputs": [
    {
     "name": "stdout",
     "output_type": "stream",
     "text": [
      "salIndex: 2, private_revCode: 10ba244b, private_sndStamp: 1656703672.3367453, private_rcvStamp: 1657052579.894443, private_seqNum: 1, private_identity: MTHexapod:2, private_origin: 10906, engaged: False\n"
     ]
    }
   ],
   "source": [
    "e = hexapod_csc.evt_interlock.get()\n",
    "print(e)"
   ]
  },
  {
   "cell_type": "code",
   "execution_count": 51,
   "metadata": {},
   "outputs": [
    {
     "name": "stdout",
     "output_type": "stream",
     "text": [
      "                                  engaged\n",
      "2022-07-01 19:27:15.336745+00:00    False\n"
     ]
    }
   ],
   "source": [
    "df = await client.select_top_n(\n",
    "    \"lsst.sal.MTHexapod.logevent_interlock\", \n",
    "    fields=\"engaged\",\n",
    "    num=1,\n",
    "    index=2\n",
    ")\n",
    "\n",
    "print(df)"
   ]
  },
  {
   "cell_type": "markdown",
   "metadata": {},
   "source": [
    "---\n",
    "Hit the E-stop and verify that the __MTHexapod_logevent_interlock__ event is engaged and publishing data to the EFD."
   ]
  },
  {
   "cell_type": "code",
   "execution_count": 52,
   "metadata": {},
   "outputs": [
    {
     "name": "stdout",
     "output_type": "stream",
     "text": [
      "salIndex: 2, private_revCode: 10ba244b, private_sndStamp: 1656703672.3367453, private_rcvStamp: 1657052579.894443, private_seqNum: 1, private_identity: MTHexapod:2, private_origin: 10906, engaged: False\n"
     ]
    }
   ],
   "source": [
    "e = hexapod_csc.evt_interlock.get()\n",
    "print(e)"
   ]
  },
  {
   "cell_type": "code",
   "execution_count": 53,
   "metadata": {},
   "outputs": [
    {
     "name": "stdout",
     "output_type": "stream",
     "text": [
      "                                  engaged\n",
      "2022-07-01 19:27:15.336745+00:00    False\n"
     ]
    }
   ],
   "source": [
    "df = await client.select_top_n(\n",
    "    \"lsst.sal.MTHexapod.logevent_interlock\", \n",
    "    fields=\"engaged\",\n",
    "    num=1,\n",
    "    index=2\n",
    ")\n",
    "\n",
    "print(df)"
   ]
  },
  {
   "cell_type": "markdown",
   "metadata": {},
   "source": [
    "---\n",
    "Reset the E-stop and clear the error.  \n",
    "With the CSC in the FAULT state, issue a command to send the CSC to STANDBY using the notebook."
   ]
  },
  {
   "cell_type": "code",
   "execution_count": 55,
   "metadata": {},
   "outputs": [
    {
     "data": {
      "text/plain": [
       "[<State.ENABLED: 2>, <State.DISABLED: 1>, <State.STANDBY: 5>]"
      ]
     },
     "execution_count": 55,
     "metadata": {},
     "output_type": "execute_result"
    }
   ],
   "source": [
    "await salobj.set_summary_state(hexapod_csc, salobj.State.STANDBY)"
   ]
  },
  {
   "cell_type": "markdown",
   "metadata": {},
   "source": [
    "---\n",
    "If running at the summit, verify that the thermal sensors are connected and producing telemetry into the EFD in the __lsst.sal.ESS.temperature__ topic."
   ]
  },
  {
   "cell_type": "code",
   "execution_count": 57,
   "metadata": {},
   "outputs": [
    {
     "name": "stdout",
     "output_type": "stream",
     "text": [
      "Empty DataFrame\n",
      "Columns: []\n",
      "Index: []\n"
     ]
    }
   ],
   "source": [
    "# ToDo @b1quint: Improve this query  \n",
    "df = await client.select_top_n(\n",
    "    \"lsst.sal.ESS.temperature\",\n",
    "    fields=\"*\",\n",
    "    num=1,\n",
    ")\n",
    "\n",
    "print(df)"
   ]
  },
  {
   "cell_type": "markdown",
   "metadata": {},
   "source": [
    "---\n",
    "The following steps define what the Jupyter Notebook for this test case implements.  \n",
    "Executing the Jupyter notebook is the only actual command and control step that needs to be executed.  \n",
    "Transition the state machine into disabledState to publish telemetry.  "
   ]
  },
  {
   "cell_type": "code",
   "execution_count": 58,
   "metadata": {},
   "outputs": [
    {
     "data": {
      "text/plain": [
       "[<State.STANDBY: 5>, <State.DISABLED: 1>]"
      ]
     },
     "execution_count": 58,
     "metadata": {},
     "output_type": "execute_result"
    }
   ],
   "source": [
    "await salobj.set_summary_state(hexapod_csc, salobj.State.DISABLED)"
   ]
  },
  {
   "cell_type": "markdown",
   "metadata": {},
   "source": [
    "---\n",
    "Verify the MTHexapod_actuators telemetry is being published to the EFD with the following parameters:\n",
    "- calibrated\n",
    "- raw\n",
    "- timestamp"
   ]
  },
  {
   "cell_type": "code",
   "execution_count": 59,
   "metadata": {},
   "outputs": [
    {
     "name": "stdout",
     "output_type": "stream",
     "text": [
      "salIndex: 2, private_revCode: b120dab6, private_sndStamp: 1657054327.7495625, private_rcvStamp: 1657054327.7500246, private_seqNum: 3464001, private_identity: MTHexapod:2, private_origin: 10906, calibrated: [0.0, 0.0, 0.0, 0.0, 0.0, 0.0], raw: [0.0, 0.0, 0.0, 0.0, 0.0, 0.0], timestamp: 1657054327.7488706\n"
     ]
    }
   ],
   "source": [
    "t = hexapod_csc.tel_actuators.get()\n",
    "print(t)"
   ]
  },
  {
   "cell_type": "code",
   "execution_count": 68,
   "metadata": {},
   "outputs": [
    {
     "name": "stdout",
     "output_type": "stream",
     "text": [
      "MTHexapodID                        None\n",
      "calibrated0                         0.0\n",
      "calibrated1                         0.0\n",
      "calibrated2                         0.0\n",
      "calibrated3                         0.0\n",
      "calibrated4                         0.0\n",
      "calibrated5                         0.0\n",
      "private_efdStamp      1657054693.311704\n",
      "private_identity            MTHexapod:2\n",
      "private_kafkaStamp    1657054730.312674\n",
      "private_origin                    10906\n",
      "private_rcvStamp      1657054730.312297\n",
      "private_revCode                b120dab6\n",
      "private_seqNum                  3467985\n",
      "private_sndStamp      1657054730.311704\n",
      "raw0                                  0\n",
      "raw1                                  0\n",
      "raw2                                  0\n",
      "raw3                                  0\n",
      "raw4                                  0\n",
      "raw5                                  0\n",
      "salIndex                              2\n",
      "timestamp              1657054730.31104\n",
      "Name: 2022-07-05 20:58:13.311703+00:00, dtype: object\n"
     ]
    }
   ],
   "source": [
    "df = await client.select_top_n(\n",
    "    \"lsst.sal.MTHexapod.actuators\",\n",
    "    fields=\"*\",\n",
    "    num=5,\n",
    ")\n",
    "\n",
    "# The `index` keyword does not work in the command above. \n",
    "#  Using this to filter data from the data-frame.\n",
    "df = df[df[\"private_identity\"] == \"MTHexapod:2\"]\n",
    "print(df.iloc[0])"
   ]
  },
  {
   "cell_type": "markdown",
   "metadata": {},
   "source": [
    "---\n",
    "Verify the MTHexapod_application data is being published to the EFD with the following parameters:\n",
    "- demand\n",
    "- position\n",
    "- error"
   ]
  },
  {
   "cell_type": "code",
   "execution_count": 61,
   "metadata": {},
   "outputs": [
    {
     "name": "stdout",
     "output_type": "stream",
     "text": [
      "salIndex: 2, private_revCode: 5601ef5d, private_sndStamp: 1657054444.938285, private_rcvStamp: 1657054444.93862, private_seqNum: 3465161, private_identity: MTHexapod:2, private_origin: 10906, demand: [0.0, 0.0, 0.0, 0.0, 0.0, 0.0], position: [0.0, 0.0, 0.0, 0.0, 0.0, 0.0], error: [0.0, 0.0, 0.0, 0.0, 0.0, 0.0]\n"
     ]
    }
   ],
   "source": [
    "t = hexapod_csc.tel_application.get()\n",
    "print(t)"
   ]
  },
  {
   "cell_type": "code",
   "execution_count": 71,
   "metadata": {},
   "outputs": [
    {
     "name": "stdout",
     "output_type": "stream",
     "text": [
      "MTHexapodID                        None\n",
      "demand0                             0.0\n",
      "demand1                             0.0\n",
      "demand2                             0.0\n",
      "demand3                             0.0\n",
      "demand4                               0\n",
      "demand5                               0\n",
      "error0                              0.0\n",
      "error1                              0.0\n",
      "error2                              0.0\n",
      "error3                              0.0\n",
      "error4                              0.0\n",
      "error5                              0.0\n",
      "position0                           0.0\n",
      "position1                           0.0\n",
      "position2                           0.0\n",
      "position3                           0.0\n",
      "position4                           0.0\n",
      "position5                           0.0\n",
      "private_efdStamp      1657054757.026347\n",
      "private_identity            MTHexapod:2\n",
      "private_kafkaStamp    1657054794.029915\n",
      "private_origin                    10906\n",
      "private_rcvStamp      1657054794.026939\n",
      "private_revCode                5601ef5d\n",
      "private_seqNum                  3468615\n",
      "private_sndStamp      1657054794.026347\n",
      "salIndex                              2\n",
      "Name: 2022-07-05 20:59:17.026346+00:00, dtype: object\n"
     ]
    }
   ],
   "source": [
    "df = await client.select_top_n(\n",
    "    \"lsst.sal.MTHexapod.application\",\n",
    "    fields=\"*\",\n",
    "    num=5,\n",
    ")\n",
    "\n",
    "# The `index` keyword does not work in the command above. \n",
    "#  Using this to filter data from the data-frame.\n",
    "df = df[df[\"private_identity\"] == \"MTHexapod:2\"]\n",
    "print(df.iloc[0])"
   ]
  },
  {
   "cell_type": "markdown",
   "metadata": {},
   "source": [
    "---\n",
    "Verify the MTHexapod_electrical data is being published to the EFD with the following parameters:\n",
    "- copleyStatusWordDrive\n",
    "- copleyLatchingFaultStatus\n",
    "- motorCurrent\n",
    "- busVoltage"
   ]
  },
  {
   "cell_type": "code",
   "execution_count": 72,
   "metadata": {},
   "outputs": [
    {
     "name": "stdout",
     "output_type": "stream",
     "text": [
      "salIndex: 2, private_revCode: 2a68c000, private_sndStamp: 1657054843.9860497, private_rcvStamp: 1657054843.9865403, private_seqNum: 3469109, private_identity: MTHexapod:2, private_origin: 10906, copleyStatusWordDrive: [0, 0, 0, 0, 0, 0], copleyLatchingFaultStatus: [0, 0, 0, 0, 0, 0], motorCurrent: [0.0, 0.0, 0.0, 0.0, 0.0, 0.0], busVoltage: [100.0, 100.0, 100.0]\n"
     ]
    }
   ],
   "source": [
    "t = hexapod_csc.tel_electrical.get()\n",
    "print(t)"
   ]
  },
  {
   "cell_type": "code",
   "execution_count": 73,
   "metadata": {},
   "outputs": [
    {
     "name": "stdout",
     "output_type": "stream",
     "text": [
      "MTHexapodID                                None\n",
      "busVoltage0                                 100\n",
      "busVoltage1                                 100\n",
      "busVoltage2                                 100\n",
      "copleyLatchingFaultStatus0                    0\n",
      "copleyLatchingFaultStatus1                    0\n",
      "copleyLatchingFaultStatus2                    0\n",
      "copleyLatchingFaultStatus3                    0\n",
      "copleyLatchingFaultStatus4                    0\n",
      "copleyLatchingFaultStatus5                    0\n",
      "copleyStatusWordDrive0                        0\n",
      "copleyStatusWordDrive1                        0\n",
      "copleyStatusWordDrive2                        0\n",
      "copleyStatusWordDrive3                        0\n",
      "copleyStatusWordDrive4                        0\n",
      "copleyStatusWordDrive5                        0\n",
      "motorCurrent0                                 0\n",
      "motorCurrent1                                 0\n",
      "motorCurrent2                                 0\n",
      "motorCurrent3                                 0\n",
      "motorCurrent4                                 0\n",
      "motorCurrent5                                 0\n",
      "private_efdStamp              1657054819.012697\n",
      "private_identity                    MTHexapod:2\n",
      "private_kafkaStamp             1657054856.01485\n",
      "private_origin                            10906\n",
      "private_rcvStamp              1657054856.013249\n",
      "private_revCode                        2a68c000\n",
      "private_seqNum                          3469228\n",
      "private_sndStamp              1657054856.012697\n",
      "salIndex                                      2\n",
      "Name: 2022-07-05 21:00:19.012696+00:00, dtype: object\n"
     ]
    }
   ],
   "source": [
    "df = await client.select_top_n(\n",
    "    \"lsst.sal.MTHexapod.electrical\",\n",
    "    fields=\"*\",\n",
    "    num=5,\n",
    ")\n",
    "\n",
    "# The `index` keyword does not work in the command above. \n",
    "#  Using this to filter data from the data-frame.\n",
    "df = df[df[\"private_identity\"] == \"MTHexapod:2\"]\n",
    "print(df.iloc[0])"
   ]
  },
  {
   "cell_type": "markdown",
   "metadata": {},
   "source": [
    "### Helper functions"
   ]
  },
  {
   "cell_type": "code",
   "execution_count": 94,
   "metadata": {},
   "outputs": [],
   "source": [
    "def enabled_substate_callback(evt):\n",
    "    \"\"\"Print the enabled substate when event is received.\"\"\"\n",
    "    print(MTHexapod.EnabledSubstate(evt.enabledSubstate))"
   ]
  },
  {
   "cell_type": "code",
   "execution_count": null,
   "metadata": {},
   "outputs": [],
   "source": [
    "def in_position_callback(evt):\n",
    "    \"\"\"Print the in position event when it is received.\"\"\"\n",
    "    print(evt.in_position)"
   ]
  },
  {
   "cell_type": "code",
   "execution_count": 110,
   "metadata": {},
   "outputs": [],
   "source": [
    "def print_hexapod_position(_hex):\n",
    "    \"\"\"Print the current hexapod position\"\"\"\n",
    "    pos = _hex.tel_application.get()\n",
    "\n",
    "    print(\"Current hexapod position:\")\n",
    "    print(\"\".join([f\"{pos.position[i]:10.2f}\" for i in range(6)]))\n",
    "    print(\"\\n\")"
   ]
  },
  {
   "cell_type": "markdown",
   "metadata": {},
   "source": [
    "### Test _move_ command\n",
    "\n",
    "Test Sequence #1 - Synchronous Move Commands\n",
    "With the synchronous button enabled and in `enabled/stationary` state."
   ]
  },
  {
   "cell_type": "code",
   "execution_count": 77,
   "metadata": {},
   "outputs": [
    {
     "data": {
      "text/plain": [
       "[<State.DISABLED: 1>, <State.ENABLED: 2>]"
      ]
     },
     "execution_count": 77,
     "metadata": {},
     "output_type": "execute_result"
    }
   ],
   "source": [
    "await salobj.set_summary_state(hexapod_csc, salobj.State.ENABLED)"
   ]
  },
  {
   "cell_type": "markdown",
   "metadata": {},
   "source": [
    "Make sure that the hexapod is in `stationary`."
   ]
  },
  {
   "cell_type": "code",
   "execution_count": null,
   "metadata": {},
   "outputs": [],
   "source": [
    "await hexapod_csc.cmd_stop.set_start()"
   ]
  },
  {
   "cell_type": "code",
   "execution_count": 98,
   "metadata": {},
   "outputs": [
    {
     "name": "stdout",
     "output_type": "stream",
     "text": [
      "EnabledSubstate.STATIONARY\n"
     ]
    }
   ],
   "source": [
    "e = hexapod_csc.evt_controllerState.get()\n",
    "enabled_substate_callback(e)"
   ]
  },
  {
   "cell_type": "markdown",
   "metadata": {},
   "source": [
    "Make sure that we start our test with all the positions set to 0."
   ]
  },
  {
   "cell_type": "code",
   "execution_count": 102,
   "metadata": {},
   "outputs": [
    {
     "data": {
      "text/plain": [
       "<ddsutil.MTHexapod_ackcmd_c4d6958b at 0x7fa12583f760>"
      ]
     },
     "execution_count": 102,
     "metadata": {},
     "output_type": "execute_result"
    },
    {
     "name": "stdout",
     "output_type": "stream",
     "text": [
      "EnabledSubstate.MOVING_POINT_TO_POINT\n",
      "EnabledSubstate.STATIONARY\n"
     ]
    }
   ],
   "source": [
    "await hexapod_csc.cmd_move.set_start(x=0,y=0,z=0, u=0,v=0,w=0,sync=True)"
   ]
  },
  {
   "cell_type": "markdown",
   "metadata": {},
   "source": [
    "---\n",
    "Check the chronograph manually for the temperature sensors to be below 19C, if not wait until they are all below 19C. \n",
    "Enter in the data at the 39 second mark.\n",
    "\n",
    "|Actuator 1 (C)|Actuator 2 (C) | Actuator 3 (C) | Actuator 4 (C) | Actuator 5 (C) | Actuator 6 (C)|\n",
    "|--------------|---------------|----------------|----------------|----------------|---------------|\n",
    "| 0 | 0 | 0 | 0 | 0 | 0 |"
   ]
  },
  {
   "cell_type": "markdown",
   "metadata": {},
   "source": [
    "---\n",
    "Send a move command of (500um, -500um, 200um, 0.01deg, -0.015deg, 0deg).  \n",
    "  \n",
    "Record the corresponding DDS events that were generated.  \n",
    "  \n",
    "The `controllerState.enabledSubstate` goes to `MOVING_POINT_TO_POINT` when the move begins and `STATIONARY` when the move ends.\n",
    "An `MTHexapod_logevent_inPosition` event is generated when the move is complete."
   ]
  },
  {
   "cell_type": "code",
   "execution_count": 112,
   "metadata": {},
   "outputs": [],
   "source": [
    "# Start test\n",
    "script.log.info(f\"START - {test_message} -- {test_case} {test_exec} Test move command\")"
   ]
  },
  {
   "cell_type": "code",
   "execution_count": 112,
   "metadata": {},
   "outputs": [],
   "source": [
    "# Print the current position\n",
    "print_hexapod_position(hexapod_csc)"
   ]
  },
  {
   "cell_type": "code",
   "execution_count": null,
   "metadata": {},
   "outputs": [],
   "source": [
    "# Replace callback function that allows printing the sub-state\n",
    "hexapod_csc.evt_controllerState.callback = enabled_substate_callback                                \n",
    "\n",
    "# Move the hexapod\n",
    "await hexapod_csc.cmd_move.set_start(x=500,y=-500,z=200, u=0.01,v=-0.015,w=0,sync=True)\n",
    "\n",
    "# Wait 15 seconds\n",
    "await asyncio.sleep(15.)\n",
    "\n",
    "# Print the current position\n",
    "print_hexapod_position(hexapod_csc)"
   ]
  },
  {
   "cell_type": "code",
   "execution_count": null,
   "metadata": {},
   "outputs": [
    {
     "data": {
      "text/html": [
       "<pre style=\"margin: 0.1em;\n",
       "padding-left: 0.25em;\n",
       "border-left-style: solid;\n",
       "font-family: var(--jp-code-font-family);\n",
       "font-size: var(--jp-code-font-size);\n",
       "line-height: var(--jp-code-line-height);\n",
       "\"><span style=\"color: var(--jp-warn-color2)\">Script</span> <span style=\"color: var(--jp-info-color0)\">INFO</span>: START - M2 Hexapod Integration Test -- LVV-T1802 LVV-EXXXX Test move command</pre>"
      ],
      "text/plain": [
       "<IPython.core.display.HTML object>"
      ]
     },
     "metadata": {},
     "output_type": "display_data"
    },
    {
     "name": "stdout",
     "output_type": "stream",
     "text": [
      "Current hexapod position:\n",
      "      0.01      0.01      0.04      0.00     -0.00      0.00\n",
      "\n",
      "\n",
      "EnabledSubstate.MOVING_POINT_TO_POINT\n",
      "EnabledSubstate.STATIONARY\n",
      "Current hexapod position:\n",
      "    499.96   -499.97    200.02      0.01     -0.01      0.00\n",
      "\n",
      "\n"
     ]
    },
    {
     "data": {
      "text/html": [
       "<pre style=\"margin: 0.1em;\n",
       "padding-left: 0.25em;\n",
       "border-left-style: solid;\n",
       "font-family: var(--jp-code-font-family);\n",
       "font-size: var(--jp-code-font-size);\n",
       "line-height: var(--jp-code-line-height);\n",
       "\"><span style=\"color: var(--jp-warn-color2)\">Script</span> <span style=\"color: var(--jp-info-color0)\">INFO</span>: STOP - M2 Hexapod Integration Test -- LVV-T1802 LVV-EXXXX Test move command</pre>"
      ],
      "text/plain": [
       "<IPython.core.display.HTML object>"
      ]
     },
     "metadata": {},
     "output_type": "display_data"
    }
   ],
   "source": [
    "# End test\n",
    "script.log.info(f\"STOP - {test_message} -- {test_case} {test_exec} Test move command\")"
   ]
  },
  {
   "cell_type": "markdown",
   "metadata": {},
   "source": [
    "Wait to cool down the struts."
   ]
  },
  {
   "cell_type": "code",
   "execution_count": null,
   "metadata": {},
   "outputs": [],
   "source": [
    "await asyncio.sleep(STD_WAIT)"
   ]
  },
  {
   "cell_type": "markdown",
   "metadata": {},
   "source": [
    "---\n",
    "Check the chronograph manually for the temperature sensors to be below 19C, if not wait until they are all below 19C. Enter in the data at the 39 second mark\n",
    "\n",
    "|Actuator 1 (C)|Actuator 2 (C) | Actuator 3 (C) | Actuator 4 (C) | Actuator 5 (C) | Actuator 6 (C)|\n",
    "|--------------|---------------|----------------|----------------|----------------|---------------|\n",
    "| 0 | 0 | 0 | 0 | 0 | 0 |"
   ]
  },
  {
   "cell_type": "markdown",
   "metadata": {},
   "source": [
    "### Test _stop_ command\n",
    "\n",
    "In the enabled/stationary state, send a move command of (x=0um, y=0um, z=5000um, u=0deg, v=0deg, w=0deg)\n",
    "\n",
    "This block moves the hexapod to a large position but stops it after waiting 3 seconds."
   ]
  },
  {
   "cell_type": "code",
   "execution_count": null,
   "metadata": {},
   "outputs": [],
   "source": [
    "# Start test\n",
    "script.log.info(f\"START - {test_message} -- {test_case} {test_exec} Test stop command\")\n",
    "\n",
    "# Print the current position\n",
    "print_hexapod_position(hexapod_csc)"
   ]
  },
  {
   "cell_type": "code",
   "execution_count": null,
   "metadata": {},
   "outputs": [],
   "source": [
    "# Move the hexapod\n",
    "await hexapod_csc.cmd_move.set_start(x=0, y=0, z=5000, u=0, v=0, w=0, sync=True)\n",
    "\n",
    "# Wait 3 seconds - @Todo @b1quint: maybe we need shorter time?\n",
    "await asyncio.sleep(3)\n",
    "\n",
    "# Send the stop command\n",
    "await hexapod_csc.cmd_stop.set_start()\n",
    "\n",
    "# Wait 15 seconds\n",
    "await asyncio.sleep(15.)\n",
    "\n",
    "# Print the current position\n",
    "print_hexapod_position(hexapod_csc)"
   ]
  },
  {
   "cell_type": "code",
   "execution_count": null,
   "metadata": {},
   "outputs": [
    {
     "data": {
      "text/html": [
       "<pre style=\"margin: 0.1em;\n",
       "padding-left: 0.25em;\n",
       "border-left-style: solid;\n",
       "font-family: var(--jp-code-font-family);\n",
       "font-size: var(--jp-code-font-size);\n",
       "line-height: var(--jp-code-line-height);\n",
       "\"><span style=\"color: var(--jp-warn-color2)\">Script</span> <span style=\"color: var(--jp-info-color0)\">INFO</span>: START - M2 Hexapod Integration Test -- LVV-T1802 LVV-EXXXX Test stop command</pre>"
      ],
      "text/plain": [
       "<IPython.core.display.HTML object>"
      ]
     },
     "metadata": {},
     "output_type": "display_data"
    },
    {
     "name": "stdout",
     "output_type": "stream",
     "text": [
      "Current hexapod position:\n",
      "    500.00   -499.99    199.98      0.01     -0.02      0.00\n",
      "\n",
      "\n",
      "EnabledSubstate.MOVING_POINT_TO_POINT\n",
      "EnabledSubstate.STATIONARY\n",
      "Current hexapod position:\n",
      "     -0.02      0.01   4999.96      0.00      0.00     -0.00\n",
      "\n",
      "\n"
     ]
    },
    {
     "data": {
      "text/html": [
       "<pre style=\"margin: 0.1em;\n",
       "padding-left: 0.25em;\n",
       "border-left-style: solid;\n",
       "font-family: var(--jp-code-font-family);\n",
       "font-size: var(--jp-code-font-size);\n",
       "line-height: var(--jp-code-line-height);\n",
       "\"><span style=\"color: var(--jp-warn-color2)\">Script</span> <span style=\"color: var(--jp-info-color0)\">INFO</span>: STOP - M2 Hexapod Integration Test -- LVV-T1802 LVV-EXXXX Test stop command</pre>"
      ],
      "text/plain": [
       "<IPython.core.display.HTML object>"
      ]
     },
     "metadata": {},
     "output_type": "display_data"
    }
   ],
   "source": [
    "# End test\n",
    "script.log.info(f\"STOP - {test_message} -- {test_case} {test_exec} Test stop command\")"
   ]
  },
  {
   "cell_type": "markdown",
   "metadata": {},
   "source": [
    "Wait to cool down the struts."
   ]
  },
  {
   "cell_type": "code",
   "execution_count": null,
   "metadata": {},
   "outputs": [],
   "source": [
    "await asyncio.sleep(STD_WAIT)"
   ]
  },
  {
   "cell_type": "markdown",
   "metadata": {},
   "source": [
    "---\n",
    "Check the chronograph manually for the temperature sensors to be below 19C, if not wait until they are all below 19C. Enter in the data at the 39 second mark\n",
    "\n",
    "|Actuator 1 (C)|Actuator 2 (C) | Actuator 3 (C) | Actuator 4 (C) | Actuator 5 (C) | Actuator 6 (C)|\n",
    "|--------------|---------------|----------------|----------------|----------------|---------------|\n",
    "| 0 | 0 | 0 | 0 | 0 | 0 |"
   ]
  },
  {
   "cell_type": "markdown",
   "metadata": {},
   "source": [
    "Move back to the origin before starting a new test."
   ]
  },
  {
   "cell_type": "code",
   "execution_count": null,
   "metadata": {},
   "outputs": [],
   "source": [
    "await hexapod_csc.cmd_move.set_start(x=0, y=0, z=0, u=0, v=0, w=0, sync=True)"
   ]
  },
  {
   "cell_type": "markdown",
   "metadata": {},
   "source": [
    "Wait to cool down struts."
   ]
  },
  {
   "cell_type": "code",
   "execution_count": null,
   "metadata": {},
   "outputs": [],
   "source": [
    "await asyncio.sleep(STD_WAIT)"
   ]
  },
  {
   "cell_type": "markdown",
   "metadata": {},
   "source": [
    "### Test _setCompensationMode_ command"
   ]
  },
  {
   "cell_type": "markdown",
   "metadata": {},
   "source": [
    "The `setCompensationMode` expects information from the MTmount(elevation) and MTRotator(rotation).\n",
    "So we need to check if both are in the ENABLED state (or at least in DISABLED state) and that they are publishing the required data."
   ]
  },
  {
   "cell_type": "code",
   "execution_count": 125,
   "metadata": {},
   "outputs": [
    {
     "name": "stdout",
     "output_type": "stream",
     "text": [
      "MTMount ControllerState.ENABLED\n",
      "MTMount 90.0\n",
      "MTRotator ControllerState.ENABLED\n",
      "MTRotator -1.0175797981041224e-06\n"
     ]
    }
   ],
   "source": [
    "e = mount.evt_summaryState.get()\n",
    "print(e.private_identity, MTHexapod.ControllerState(e.summaryState))\n",
    "\n",
    "t = mount.tel_elevation.get()\n",
    "print(t.private_identity, t.actualPosition)\n",
    "\n",
    "e = rotator.evt_summaryState.get()\n",
    "print(e.private_identity, MTHexapod.ControllerState(e.summaryState))\n",
    "\n",
    "t = rotator.tel_rotation.get()\n",
    "print(t.private_identity, t.actualPosition)"
   ]
  },
  {
   "cell_type": "markdown",
   "metadata": {},
   "source": [
    "In enabled/stationary state, send a move command of (x=0um, y=0um, z=800um, u=0deg, v=0deg, w=0deg).  \n",
    "\n",
    "The hexapod is expected to move to the position (x=0um, y=0um, z=800um, u=0deg, v=0deg, w=0deg) and, since we are moving in synchronous mode, the actuators complete the move at nearly the same time."
   ]
  },
  {
   "cell_type": "code",
   "execution_count": 130,
   "metadata": {},
   "outputs": [],
   "source": [
    "# Start test\n",
    "script.log.info(f\"START - {test_message} -- {test_case} {test_exec} Test setCompensationMode command\")\n",
    "\n",
    "# Are we in compensation mode?\n",
    "await hexapod_csc.cmd_setCompensationMode.set_start(enable=False)\n",
    "e = hexapod_csc.evt_compensationMode.get()\n",
    "print(\"Compensation mode enable?\", e.enabled)\n",
    "assert e.enabled == False"
   ]
  },
  {
   "cell_type": "code",
   "execution_count": 130,
   "metadata": {},
   "outputs": [],
   "source": [
    "# Move the hexapod\n",
    "await hexapod_csc.cmd_move.set_start(x=0, y=0, z=800, u=0, v=0, w=0, sync=True)\n",
    "\n",
    "# Wait movement to complete\n",
    "await asyncio.sleep(15.)"
   ]
  },
  {
   "cell_type": "code",
   "execution_count": 130,
   "metadata": {},
   "outputs": [],
   "source": [
    "# Enable compensation mode\n",
    "await hexapod_csc.cmd_setCompensationMode.set_start(enable=True)\n",
    "e = hexapod_csc.evt_compensationMode.get()\n",
    "print(\"Compensation mode enable?\", e.enabled)\n",
    "assert e.enabled == True"
   ]
  },
  {
   "cell_type": "code",
   "execution_count": 130,
   "metadata": {},
   "outputs": [],
   "source": [
    "# Move the hexapod again - it should not move\n",
    "await hexapod_csc.cmd_move.set_start(x=0, y=0, z=800, u=0, v=0, w=0, sync=True)\n",
    "\n",
    "# Wait movement to complete\n",
    "await asyncio.sleep(15.)"
   ]
  },
  {
   "cell_type": "code",
   "execution_count": 130,
   "metadata": {},
   "outputs": [
    {
     "data": {
      "text/html": [
       "<pre style=\"margin: 0.1em;\n",
       "padding-left: 0.25em;\n",
       "border-left-style: solid;\n",
       "font-family: var(--jp-code-font-family);\n",
       "font-size: var(--jp-code-font-size);\n",
       "line-height: var(--jp-code-line-height);\n",
       "\"><span style=\"color: var(--jp-warn-color2)\">Script</span> <span style=\"color: var(--jp-info-color0)\">INFO</span>: START - M2 Hexapod Integration Test -- LVV-T1802 LVV-EXXXX Test setCompensationMode command</pre>"
      ],
      "text/plain": [
       "<IPython.core.display.HTML object>"
      ]
     },
     "metadata": {},
     "output_type": "display_data"
    },
    {
     "name": "stdout",
     "output_type": "stream",
     "text": [
      "Compensation mode enable? False\n",
      "EnabledSubstate.MOVING_POINT_TO_POINT\n",
      "EnabledSubstate.STATIONARY\n",
      "EnabledSubstate.MOVING_POINT_TO_POINT\n",
      "EnabledSubstate.STATIONARY\n",
      "Compensation mode enable? True\n",
      "EnabledSubstate.MOVING_POINT_TO_POINT\n",
      "EnabledSubstate.STATIONARY\n",
      "EnabledSubstate.MOVING_POINT_TO_POINT\n",
      "EnabledSubstate.STATIONARY\n"
     ]
    },
    {
     "data": {
      "text/html": [
       "<pre style=\"margin: 0.1em;\n",
       "padding-left: 0.25em;\n",
       "border-left-style: solid;\n",
       "font-family: var(--jp-code-font-family);\n",
       "font-size: var(--jp-code-font-size);\n",
       "line-height: var(--jp-code-line-height);\n",
       "\"><span style=\"color: var(--jp-warn-color2)\">Script</span> <span style=\"color: var(--jp-info-color0)\">INFO</span>: STOP - M2 Hexapod Integration Test -- LVV-T1802 LVV-EXXXX Test setCompensationMode command</pre>"
      ],
      "text/plain": [
       "<IPython.core.display.HTML object>"
      ]
     },
     "metadata": {},
     "output_type": "display_data"
    }
   ],
   "source": [
    "# End test\n",
    "script.log.info(f\"STOP - {test_message} -- {test_case} {test_exec} Test setCompensationMode command\")"
   ]
  },
  {
   "cell_type": "markdown",
   "metadata": {},
   "source": [
    "@bquint ToDo - bring this notebook to this repository\n",
    "\n",
    "To test the LUT compensation use: hdrass/Camera_Hexapod/hex_diagnostics.ipynb"
   ]
  },
  {
   "cell_type": "markdown",
   "metadata": {},
   "source": [
    "---\n",
    "Check the chronograph manually for the temperature sensors to be below 19C, if not wait until they are all below 19C. Enter in the data at the 39 second mark\n",
    "\n",
    "|Actuator 1 (C)|Actuator 2 (C) | Actuator 3 (C) | Actuator 4 (C) | Actuator 5 (C) | Actuator 6 (C)|\n",
    "|--------------|---------------|----------------|----------------|----------------|---------------|\n",
    "| 0 | 0 | 0 | 0 | 0 | 0 |"
   ]
  },
  {
   "cell_type": "markdown",
   "metadata": {},
   "source": [
    "Move back to the origin before starting a new test."
   ]
  },
  {
   "cell_type": "code",
   "execution_count": null,
   "metadata": {},
   "outputs": [],
   "source": [
    "await hexapod_csc.cmd_move.set_start(x=0, y=0, z=0, u=0, v=0, w=0, sync=True)"
   ]
  },
  {
   "cell_type": "markdown",
   "metadata": {},
   "source": [
    "Wait to cool down struts."
   ]
  },
  {
   "cell_type": "code",
   "execution_count": null,
   "metadata": {},
   "outputs": [],
   "source": [
    "await asyncio.sleep(STD_WAIT)"
   ]
  },
  {
   "cell_type": "markdown",
   "metadata": {},
   "source": [
    "### Test _offset_ command\n",
    "\n",
    "Synchronous Offset and Move Commands.  \n",
    "In enabled/stationary state, send a move command of `(x=500um, y=800um, z=200um, u=0deg, v=0deg, w=0deg)`"
   ]
  },
  {
   "cell_type": "code",
   "execution_count": null,
   "metadata": {},
   "outputs": [],
   "source": [
    "# Start test\n",
    "script.log.info(f\"START - {test_message} -- {test_case} {test_exec} Test offset command\")\n",
    "\n",
    "# Print the current position\n",
    "print_hexapod_position(hexapod_csc)\n",
    "\n",
    "# Move hexapod\n",
    "await hexapod_csc.cmd_move.set_start(x=500, y=800, z=200, u=0, v=0, w=0, sync=True)\n",
    "\n",
    "# Wait movement to complete\n",
    "await asyncio.sleep(10.)\n",
    "\n",
    "# Print the current position\n",
    "print_hexapod_position(hexapod_csc)\n",
    "\n",
    "# Move hexapod using offset\n",
    "await hexapod_csc.cmd_offset.set_start(x=0,y=0,z=500,u=0,v=0,w=0,sync=True)\n",
    "\n",
    "# Wait movement to complete\n",
    "await asyncio.sleep(10.)\n",
    "\n",
    "# Print the current position\n",
    "print_hexapod_position(hexapod_csc)\n",
    "\n",
    "# End test\n",
    "script.log.info(f\"STOP - {test_message} -- {test_case} {test_exec} Test offset command\")"
   ]
  },
  {
   "cell_type": "markdown",
   "metadata": {},
   "source": [
    "---\n",
    "Check the chronograph manually for the temperature sensors to be below 19C, if not wait until they are all below 19C. Enter in the data at the 39 second mark\n",
    "\n",
    "|Actuator 1 (C)|Actuator 2 (C) | Actuator 3 (C) | Actuator 4 (C) | Actuator 5 (C) | Actuator 6 (C)|\n",
    "|--------------|---------------|----------------|----------------|----------------|---------------|\n",
    "| 0 | 0 | 0 | 0 | 0 | 0 |"
   ]
  },
  {
   "cell_type": "markdown",
   "metadata": {},
   "source": [
    "Move back to the origin before starting a new test."
   ]
  },
  {
   "cell_type": "code",
   "execution_count": null,
   "metadata": {},
   "outputs": [],
   "source": [
    "await hexapod_csc.cmd_move.set_start(x=0, y=0, z=0, u=0, v=0, w=0, sync=True)"
   ]
  },
  {
   "cell_type": "markdown",
   "metadata": {},
   "source": [
    "Wait to cool down struts."
   ]
  },
  {
   "cell_type": "code",
   "execution_count": null,
   "metadata": {},
   "outputs": [],
   "source": [
    "await asyncio.sleep(STD_WAIT)"
   ]
  },
  {
   "cell_type": "markdown",
   "metadata": {},
   "source": [
    "### Test pivot command\n",
    "\n",
    "Test Sequence `setPivot` and `move` commands.\n",
    "In enabled/stationary state, send a move command of `(x=2000um, y=-3500um, z=200um, u=0.01deg, v=-0.05deg, w=0.002deg, sync=true)`"
   ]
  },
  {
   "cell_type": "code",
   "execution_count": null,
   "metadata": {},
   "outputs": [],
   "source": [
    "# Start test\n",
    "script.log.info(f\"START - {test_message} -- {test_case} {test_exec} Test set pivot point\")\n",
    "\n",
    "# Print the current position\n",
    "print_hexapod_position(hexapod_csc)"
   ]
  },
  {
   "cell_type": "code",
   "execution_count": null,
   "metadata": {},
   "outputs": [],
   "source": [
    "# Move the hexapod\n",
    "await hexapod_csc.cmd_move.set_start(x=2000, y=-3500, z=200, u=0.01, v=-0.05, w=0.002, sync=True)\n",
    "\n",
    "# Wait movement to complete\n",
    "await asyncio.sleep(10.)\n",
    "\n",
    "# Print the current position\n",
    "print_hexapod_position(hexapod_csc)"
   ]
  },
  {
   "cell_type": "code",
   "execution_count": null,
   "metadata": {},
   "outputs": [],
   "source": [
    "# Set a new Pivot point\n",
    "await hexapod_csc.cmd_setPivot.set_start(x=0, y=0, z=0)\n",
    "\n",
    "# Wait movement to complete\n",
    "await asyncio.sleep(10.)"
   ]
  },
  {
   "cell_type": "code",
   "execution_count": null,
   "metadata": {},
   "outputs": [],
   "source": [
    "# Move hexapod again\n",
    "await hexapod_csc.cmd_move.set_start(x=2000,y=-3500,z=200,u=0.01,v=-0.05,w=0.002,sync=True)\n",
    "\n",
    "# Wait movement to complete\n",
    "await asyncio.sleep(10.)\n",
    "\n",
    "# Print the current position\n",
    "print_hexapod_position(hexapod_csc)"
   ]
  },
  {
   "cell_type": "code",
   "execution_count": null,
   "metadata": {},
   "outputs": [],
   "source": [
    "# Set the pivot point back to the original value (z=0.703 m in um)\n",
    "await hexapod_csc.cmd_setPivot.set_start(x=0, y=0, z=703000)\n",
    "\n",
    "# Print the current position\n",
    "print_hexapod_position(hexapod_csc)\n",
    "\n",
    "# End test\n",
    "script.log.info(f\"STOP- {test_message} -- LVV-T1802 Test set pivot point\")"
   ]
  },
  {
   "cell_type": "markdown",
   "metadata": {},
   "source": [
    "---\n",
    "Check the chronograph manually for the temperature sensors to be below 19C, if not wait until they are all below 19C. Enter in the data at the 39 second mark\n",
    "\n",
    "|Actuator 1 (C)|Actuator 2 (C) | Actuator 3 (C) | Actuator 4 (C) | Actuator 5 (C) | Actuator 6 (C)|\n",
    "|--------------|---------------|----------------|----------------|----------------|---------------|\n",
    "| 0 | 0 | 0 | 0 | 0 | 0 |"
   ]
  },
  {
   "cell_type": "markdown",
   "metadata": {},
   "source": [
    "Move back to the origin before starting a new test."
   ]
  },
  {
   "cell_type": "code",
   "execution_count": null,
   "metadata": {},
   "outputs": [],
   "source": [
    "await hexapod_csc.cmd_move.set_start(x=0, y=0, z=0, u=0, v=0, w=0, sync=True)"
   ]
  },
  {
   "cell_type": "markdown",
   "metadata": {},
   "source": [
    "Wait to cool down struts."
   ]
  },
  {
   "cell_type": "code",
   "execution_count": null,
   "metadata": {},
   "outputs": [],
   "source": [
    "await asyncio.sleep(STD_WAIT)"
   ]
  },
  {
   "cell_type": "markdown",
   "metadata": {},
   "source": [
    "### Test _configureLimits_ command\n",
    "\n",
    "In enabled/stationary state, send a `configureLimits` command of `(12000um, -1000um, 1000um, 0.1, -0.1, 0.05)`."
   ]
  },
  {
   "cell_type": "code",
   "execution_count": 13,
   "metadata": {},
   "outputs": [],
   "source": [
    "# Start test\n",
    "script.log.info(f\"START - {test_message} -- {test_case} {test_exec} Test configureLimits\")\n",
    "\n",
    "# Try to set a new configuration - It should fail \n",
    "hexapod_csc.cmd_configureLimits.set_start(maxXY=12000, minZ=-1000, maxZ=1000, maxUV=0.1, minW=-0.1, maxW=0.05)"
   ]
  },
  {
   "cell_type": "code",
   "execution_count": 13,
   "metadata": {},
   "outputs": [],
   "source": [
    "# Try again with reasonable values\n",
    "hexapod_csc.cmd_configureLimits.set_start(maxXY=1000, minZ=-1000, maxZ=1000, maxUV=0.1, minW=-0.1, maxW=0.05)"
   ]
  },
  {
   "cell_type": "code",
   "execution_count": null,
   "metadata": {},
   "outputs": [],
   "source": [
    "# Move the hexapod\n",
    "await hexapod_csc.cmd_move.set_start(x=850, y=0, z=500, u=0, v=0, w=0, sync=True)\n",
    "\n",
    "# Wait movement to complete\n",
    "await asyncio.sleep(15.)\n",
    "\n",
    "# Print the current position\n",
    "print_hexapod_position(hexapod_csc)"
   ]
  },
  {
   "cell_type": "code",
   "execution_count": null,
   "metadata": {},
   "outputs": [],
   "source": [
    "# Move the hexapod again, the command should be rejected\n",
    "await hexapod_csc.cmd_move.set_start(x=1200, y=0, z=200, u=0, v=0, w=0, sync=True)"
   ]
  },
  {
   "cell_type": "code",
   "execution_count": null,
   "metadata": {},
   "outputs": [],
   "source": [
    "# Move the hexapod again, the command should be rejected\n",
    "await hexapod_csc.cmd_move.set_start(x=990, y=990, z=200, u=0, v=0, w=0, sync=True)"
   ]
  },
  {
   "cell_type": "code",
   "execution_count": null,
   "metadata": {},
   "outputs": [],
   "source": [
    "# Move the hexapod again, the command should be rejected\n",
    "await hexapod_csc.cmd_move.set_start(x=500, y=500, z=200, u=0, v=0.1, w=0.01, sync=True)\n",
    "\n",
    "# Wait movement to complete\n",
    "await asyncio.sleep(15.)\n",
    "\n",
    "# Print the current position\n",
    "print_hexapod_position(hexapod_csc)"
   ]
  },
  {
   "cell_type": "code",
   "execution_count": null,
   "metadata": {},
   "outputs": [],
   "source": [
    "# Start test\n",
    "script.log.info(f\"STOP - {test_message} -- {test_case} {test_exec} Test configureLimits\")"
   ]
  },
  {
   "cell_type": "markdown",
   "metadata": {},
   "source": [
    "Move back to the origin before starting a new test."
   ]
  },
  {
   "cell_type": "code",
   "execution_count": null,
   "metadata": {},
   "outputs": [],
   "source": [
    "await hexapod_csc.cmd_move.set_start(x=0, y=0, z=0, u=0, v=0, w=0, sync=True)"
   ]
  },
  {
   "cell_type": "markdown",
   "metadata": {},
   "source": [
    "### Test configureAcceleration command \n",
    "\n",
    "In enabled/stationary state, at a position of `(0, 0, 0, 0, 0, 0)` with the velocity and acceleration values set to their nominal values, send a move command of (0um, 0um, 4900um, 0 deg, 0 deg, 0 deg)."
   ]
  },
  {
   "cell_type": "code",
   "execution_count": null,
   "metadata": {},
   "outputs": [],
   "source": [
    "# Start test\n",
    "script.log.info(f\"START - {test_message} -- {test_case} {test_exec} Test configureAcceleration\")"
   ]
  },
  {
   "cell_type": "code",
   "execution_count": null,
   "metadata": {},
   "outputs": [],
   "source": [
    "# todo @bquint - add a callback to track how much time it takes to complete\n",
    "# Move the hexapod, it should take about 9s\n",
    "await hexapod_csc.cmd_move.set_start(x=0, y=0, z=4900, u=0, v=0, w=0, sync=True)\n",
    "\n",
    "# Wait movement to complete\n",
    "await asyncio.sleep(15.)"
   ]
  },
  {
   "cell_type": "code",
   "execution_count": null,
   "metadata": {},
   "outputs": [],
   "source": [
    "# Update the acceleration, the command should be rejected\n",
    "await hexapod_csc.cmd_configureAcceleration.set_start(1000)"
   ]
  },
  {
   "cell_type": "code",
   "execution_count": null,
   "metadata": {},
   "outputs": [],
   "source": [
    "# Update the acceleration, the command should be accepted\n",
    "await hexapod_csc.cmd_configureAcceleration.set_start(100)"
   ]
  },
  {
   "cell_type": "code",
   "execution_count": null,
   "metadata": {},
   "outputs": [],
   "source": [
    "# todo @bquint - add a callback to track how much time it takes to complete\n",
    "# Move the hexapod, it should take about 13s\n",
    "await hexapod_csc.cmd_move.set_start(x=0, y=0, z=0, u=0, v=0, w=0, sync=True)\n",
    "\n",
    "# Wait movement to complete\n",
    "await asyncio.sleep(15.)"
   ]
  },
  {
   "cell_type": "code",
   "execution_count": null,
   "metadata": {},
   "outputs": [],
   "source": [
    "# Update the acceleration to the nominal value\n",
    "await hexapod_csc.cmd_configureAcceleration.set_start(500)"
   ]
  },
  {
   "cell_type": "code",
   "execution_count": null,
   "metadata": {},
   "outputs": [],
   "source": [
    "# Start test\n",
    "script.log.info(f\"STOP - {test_message} -- {test_case} {test_exec} Test configureAcceleration\")"
   ]
  },
  {
   "cell_type": "markdown",
   "metadata": {},
   "source": [
    "### Test _configureVelocity_ command\n",
    "\n",
    "In enabled/stationary state, at a position of `(0, 0, 0, 0, 0, 0)`, send a `configureVelocity` command of (10000, .01, 100, .01)."
   ]
  },
  {
   "cell_type": "code",
   "execution_count": null,
   "metadata": {},
   "outputs": [],
   "source": [
    "# Start test\n",
    "script.log.info(f\"START - {test_message} -- {test_case} {test_exec} Test configureVelocity\")"
   ]
  },
  {
   "cell_type": "code",
   "execution_count": null,
   "metadata": {},
   "outputs": [],
   "source": [
    "# Change velocity\n",
    "await hexapod_csc.cmd_configureVelocity.set_start(xy=100, z=0.01, uv=200, w=0.01)"
   ]
  },
  {
   "cell_type": "code",
   "execution_count": null,
   "metadata": {},
   "outputs": [],
   "source": [
    "# todo @bquint - add a callback to track how much time it takes to complete\n",
    "# Move the hexapod, it should take ~20s to complete\n",
    "await hexapod_csc.cmd_move.set_start(x=0, y=0, z=2000, u=0, v=0, w=0, sync=True)\n",
    "\n",
    "# Wait movement to complete\n",
    "await asyncio.sleep(25.)"
   ]
  },
  {
   "cell_type": "code",
   "execution_count": null,
   "metadata": {},
   "outputs": [],
   "source": [
    "# Change velocity\n",
    "await hexapod_csc.cmd_configureVelocity.set_start(xy=100, z=0.01, uv=100, w=0.01)"
   ]
  },
  {
   "cell_type": "code",
   "execution_count": null,
   "metadata": {},
   "outputs": [],
   "source": [
    "# todo @bquint - add a callback to track how much time it takes to complete\n",
    "# Move the hexapod using the offset, it should take ~40s to complete\n",
    "await hexapod_csc.cmd_offset.set_start(x=0, y=0, z=2000, u=0, v=0, w=0, sync=True)\n",
    "\n",
    "# Wait movement to complete\n",
    "await asyncio.sleep(50.)"
   ]
  },
  {
   "cell_type": "markdown",
   "metadata": {},
   "source": [
    "## State Transition Tests\n",
    "\n",
    "The test case contains multiple steps that do not belong to a notebook. I will skip them for now. "
   ]
  },
  {
   "cell_type": "markdown",
   "metadata": {},
   "source": [
    "## Endurance Test"
   ]
  },
  {
   "cell_type": "code",
   "execution_count": null,
   "metadata": {},
   "outputs": [],
   "source": [
    "#Endurance test for the M2 hexapod. CAVE: This are very long moves. This can overheat the hexapod see.\n",
    "#LVV-T1600 for shorter moves\n",
    "\n",
    "script.log.info(f\"START- {test_message} -- LVV-T1802 Endurance Test\")\n",
    "for i in range(100):\n",
    "    await hexapod_csc.cmd_move.set_start(x=6700,y=0,z=5900,u=0,v=0.12,w=0,sync=True)\n",
    "    await asyncio.sleep(STD_WAIT)\n",
    "    await hexapod_csc.cmd_move.set_start(x=6700,y=0,z=5900,u=0,v=-0.12,w=0,sync=True)\n",
    "    await asyncio.sleep(STD_WAIT)\n",
    "    await hexapod_csc.cmd_move.set_start(x=6700,y=0,z=5900,u=0.12,v=0,w=0,sync=True)\n",
    "    await asyncio.sleep(STD_WAIT)\n",
    "    await hexapod_csc.cmd_move.set_start(x=6700,y=0,z=5900,u=-0.12,v=0,w=0,sync=True)\n",
    "    await asyncio.sleep(STD_WAIT)\n",
    "\n",
    "    await hexapod_csc.cmd_move.set_start(x=6700,y=0,z=-5900,u=0,v=0.12,w=0,sync=True)\n",
    "    await asyncio.sleep(STD_WAIT)\n",
    "    await hexapod_csc.cmd_move.set_start(x=6700,y=0,z=-5900,u=0,v=-0.12,w=0,sync=True)\n",
    "    await asyncio.sleep(STD_WAIT)\n",
    "    await hexapod_csc.cmd_move.set_start(x=6700,y=0,z=-5900,u=0.12,v=0,w=0,sync=True)\n",
    "    await asyncio.sleep(STD_WAIT)\n",
    "    await hexapod_csc.cmd_move.set_start(x=6700,y=0,z=-5900,u=-0.12,v=0,w=0,sync=True)\n",
    "    await asyncio.sleep(STD_WAIT)\n",
    "\n",
    "    await hexapod_csc.cmd_move.set_start(x=-6700,y=0,z=5900,u=0,v=0.12,w=0,sync=True)\n",
    "    await asyncio.sleep(STD_WAIT)\n",
    "    await hexapod_csc.cmd_move.set_start(x=-6700,y=0,z=5900,u=0,v=-0.12,w=0,sync=True)\n",
    "    await asyncio.sleep(STD_WAIT)\n",
    "    await hexapod_csc.cmd_move.set_start(x=-6700,y=0,z=5900,u=0.12,v=0,w=0,sync=True)\n",
    "    await asyncio.sleep(STD_WAIT)\n",
    "    await hexapod_csc.cmd_move.set_start(x=-6700,y=0,z=5900,u=-0.12,v=0,w=0,sync=True)\n",
    "    await asyncio.sleep(STD_WAIT)\n",
    "\n",
    "    await hexapod_csc.cmd_move.set_start(x=-6700,y=0,z=-5900,u=0,v=0.12,w=0,sync=True)\n",
    "    await asyncio.sleep(STD_WAIT)\n",
    "    await hexapod_csc.cmd_move.set_start(x=-6700,y=0,z=-5900,u=0,v=-0.12,w=0,sync=True)\n",
    "    await asyncio.sleep(STD_WAIT)\n",
    "    await hexapod_csc.cmd_move.set_start(x=-6700,y=0,z=-5900,u=0.12,v=0,w=0,sync=True)\n",
    "    await asyncio.sleep(STD_WAIT)\n",
    "    await hexapod_csc.cmd_move.set_start(x=-6700,y=0,z=-5900,u=-0.12,v=0,w=0,sync=True)\n",
    "    await asyncio.sleep(STD_WAIT)\n",
    "\n",
    "\n",
    "    await hexapod_csc.cmd_move.set_start(x=0,y=6700,z=5900,u=0,v=0.12,w=0,sync=True)\n",
    "    await asyncio.sleep(STD_WAIT)\n",
    "    await hexapod_csc.cmd_move.set_start(x=0,y=6700,z=5900,u=0,v=-0.12,w=0,sync=True)\n",
    "    await asyncio.sleep(STD_WAIT)\n",
    "    await hexapod_csc.cmd_move.set_start(x=0,y=6700,z=5900,u=0.12,v=0,w=0,sync=True)\n",
    "    await asyncio.sleep(STD_WAIT)\n",
    "    await hexapod_csc.cmd_move.set_start(x=0,y=6700,z=5900,u=-0.12,v=0,w=0,sync=True)\n",
    "    await asyncio.sleep(STD_WAIT)\n",
    "\n",
    "    await hexapod_csc.cmd_move.set_start(x=0,y=6700,z=-5900,u=0,v=0.12,w=0,sync=True)\n",
    "    await asyncio.sleep(STD_WAIT)\n",
    "    await hexapod_csc.cmd_move.set_start(x=0,y=6700,z=-5900,u=0,v=-0.12,w=0,sync=True)\n",
    "    await asyncio.sleep(STD_WAIT)\n",
    "    await hexapod_csc.cmd_move.set_start(x=0,y=6700,z=-5900,u=0.12,v=0,w=0,sync=True)\n",
    "    await asyncio.sleep(STD_WAIT)\n",
    "    await hexapod_csc.cmd_move.set_start(x=0,y=6700,z=-5900,u=-0.12,v=0,w=0,sync=True)\n",
    "    await asyncio.sleep(STD_WAIT)\n",
    "\n",
    "    await hexapod_csc.cmd_move.set_start(x=0,y=-6700,z=5900,u=0,v=0.12,w=0,sync=True)\n",
    "    await asyncio.sleep(STD_WAIT)\n",
    "    await hexapod_csc.cmd_move.set_start(x=0,y=-6700,z=5900,u=0,v=-0.12,w=0,sync=True)\n",
    "    await asyncio.sleep(STD_WAIT)\n",
    "    await hexapod_csc.cmd_move.set_start(x=0,y=-6700,z=5900,u=0.12,v=0,w=0,sync=True)\n",
    "    await asyncio.sleep(STD_WAIT)\n",
    "    await hexapod_csc.cmd_move.set_start(x=0,y=-6700,z=5900,u=-0.12,v=0,w=0,sync=True)\n",
    "    await asyncio.sleep(STD_WAIT)\n",
    "\n",
    "    await hexapod_csc.cmd_move.set_start(x=0,y=-6700,z=-5900,u=0,v=0.12,w=0,sync=True)\n",
    "    await asyncio.sleep(STD_WAIT)\n",
    "    await hexapod_csc.cmd_move.set_start(x=0,y=-6700,z=-5900,u=0,v=-0.12,w=0,sync=True)\n",
    "    await asyncio.sleep(STD_WAIT)\n",
    "    await hexapod_csc.cmd_move.set_start(x=0,y=-6700,z=-5900,u=0.12,v=0,w=0,sync=True)\n",
    "    await asyncio.sleep(STD_WAIT)\n",
    "    await hexapod_csc.cmd_move.set_start(x=0,y=-6700,z=-5900,u=-0.12,v=0,w=0,sync=True)\n",
    "    await asyncio.sleep(STD_WAIT)\n",
    "\n",
    "\n",
    "script.log.info(f\"STOPP- {test_message} -- LVV-T1802 Endurance Test \")"
   ]
  },
  {
   "cell_type": "code",
   "execution_count": null,
   "metadata": {},
   "outputs": [],
   "source": [
    "await salobj.set_summary_state(hexapod_csc, salobj.State.STANDBY) # Transition the CSC to Standby state"
   ]
  },
  {
   "cell_type": "code",
   "execution_count": null,
   "metadata": {},
   "outputs": [],
   "source": [
    "await domain.close() # Close the remote connection"
   ]
  }
 ],
 "metadata": {
  "kernelspec": {
   "display_name": "LSST",
   "language": "python",
   "name": "lsst"
  },
  "language_info": {
   "codemirror_mode": {
    "name": "ipython",
    "version": 3
   },
   "file_extension": ".py",
   "mimetype": "text/x-python",
   "name": "python",
   "nbconvert_exporter": "python",
   "pygments_lexer": "ipython3",
   "version": "3.10.4"
  }
 },
 "nbformat": 4,
 "nbformat_minor": 4
}
