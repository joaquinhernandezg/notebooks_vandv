{
 "cells": [
  {
   "cell_type": "markdown",
   "id": "5c65fc0f-bc50-4028-a0fb-8487fd8e6c1a",
   "metadata": {},
   "source": [
    "# AOS Observation Run - March 10th 2023\n",
    "\n",
    "This notebook contains the execution of the SITCOM-615 test described in https://jira.lsstcorp.org/browse/SITCOM-615, expected to run during the 2023-03B AuxTel Observing Run. \n",
    "                \n",
    "This test assumes you're on-target and already at the focus position. <br>\n",
    "It should be run directly after SITCOM-606"
   ]
  },
  {
   "cell_type": "markdown",
   "id": "68c7a700-8fd6-4d75-b369-2af649a9f2a8",
   "metadata": {},
   "source": [
    "-----\n",
    "## Setup"
   ]
  },
  {
   "cell_type": "markdown",
   "id": "7e10be17-700c-4520-9591-02cb7611a2ec",
   "metadata": {},
   "source": [
    "### Import libraries"
   ]
  },
  {
   "cell_type": "code",
   "execution_count": null,
   "id": "8e14fd2e-c93a-4ef4-86a5-7dcc4dcce04f",
   "metadata": {
    "tags": []
   },
   "outputs": [],
   "source": [
    "import sys\n",
    "import asyncio\n",
    "import time\n",
    "import os\n",
    "\n",
    "import numpy as np\n",
    "import logging \n",
    "import yaml\n",
    "import matplotlib.pyplot as plt\n",
    "from astropy.time import Time\n",
    "import astropy\n",
    "\n",
    "from lsst.ts import salobj\n",
    "from lsst.ts.externalscripts.auxtel.latiss_wep_align import LatissWEPAlign, LatissIntraExtraFocalData\n",
    "from lsst.ts.observatory.control.utils import RotType\n",
    "\n",
    "from lsst.ts.idl.enums.Script import ScriptState"
   ]
  },
  {
   "cell_type": "markdown",
   "id": "1113ceca-0fd3-46ed-a20b-2f950b2b622a",
   "metadata": {},
   "source": [
    "### Setting up logger"
   ]
  },
  {
   "cell_type": "code",
   "execution_count": null,
   "id": "886a4c54-b7e0-414a-979b-7ec6d79c254a",
   "metadata": {},
   "outputs": [],
   "source": [
    "logger = logging.getLogger(\"SITCOM-615\")\n",
    "logger.level = logging.DEBUG"
   ]
  },
  {
   "cell_type": "markdown",
   "id": "526343b3-78e1-48f3-8814-74d0636a4444",
   "metadata": {},
   "source": [
    "### Getting unique index for script"
   ]
  },
  {
   "cell_type": "code",
   "execution_count": null,
   "id": "94e4d66f-119f-4a3b-87fb-59cfa07477ad",
   "metadata": {},
   "outputs": [],
   "source": [
    "logger.info(f'Your UID is {os.getuid()}')\n",
    "index = os.getuid() * 10 + np.random.randint(0, 9)\n",
    "\n",
    "logger.info(f'The generated index is {index}')"
   ]
  },
  {
   "cell_type": "markdown",
   "id": "533bcc80-cb1c-4f65-9d47-d1eb9ff7a722",
   "metadata": {},
   "source": [
    "### Instantiate CWFS Script"
   ]
  },
  {
   "cell_type": "code",
   "execution_count": null,
   "id": "73b621b9-d49d-4f07-9b35-fbb8254beb4b",
   "metadata": {
    "tags": []
   },
   "outputs": [],
   "source": [
    "script = LatissIntraExtraFocalData(index=index, remotes=True)  # this essentially calls the init method\n",
    "await script.start_task"
   ]
  },
  {
   "cell_type": "markdown",
   "id": "3662037a-d691-4edd-ada4-8bd7471e3689",
   "metadata": {},
   "source": [
    "### Forward ATCS and LATISS"
   ]
  },
  {
   "cell_type": "code",
   "execution_count": null,
   "id": "534388d8-9ae8-4cab-8c32-4c281a8585f8",
   "metadata": {
    "tags": []
   },
   "outputs": [],
   "source": [
    "atcs = script.atcs\n",
    "latiss = script.latiss"
   ]
  },
  {
   "cell_type": "code",
   "execution_count": null,
   "id": "fbe4ac76-c5c6-416f-989e-5b7fc5e019f3",
   "metadata": {
    "tags": []
   },
   "outputs": [],
   "source": [
    "latiss.read_out_time"
   ]
  },
  {
   "cell_type": "markdown",
   "id": "56300b5f-cc8d-4663-b364-b086b505e702",
   "metadata": {},
   "source": [
    "### Set up script log level"
   ]
  },
  {
   "cell_type": "code",
   "execution_count": null,
   "id": "02f80095-4a07-45fa-9cff-3c960a6da132",
   "metadata": {},
   "outputs": [],
   "source": [
    "script.log.level = logging.DEBUG"
   ]
  },
  {
   "cell_type": "markdown",
   "id": "386b390b-f364-411b-8542-f8a1e5b9fbc2",
   "metadata": {
    "tags": []
   },
   "source": [
    "### Write start info into EFD"
   ]
  },
  {
   "cell_type": "code",
   "execution_count": 1,
   "id": "219d43b6-efc4-463f-8bb1-c0d9046b7d6e",
   "metadata": {
    "execution": {
     "iopub.execute_input": "2023-03-10T18:52:45.998002Z",
     "iopub.status.busy": "2023-03-10T18:52:45.997733Z",
     "iopub.status.idle": "2023-03-10T18:52:46.110657Z",
     "shell.execute_reply": "2023-03-10T18:52:46.110058Z",
     "shell.execute_reply.started": "2023-03-10T18:52:45.997984Z"
    }
   },
   "outputs": [
    {
     "ename": "NameError",
     "evalue": "name 'script' is not defined",
     "output_type": "error",
     "traceback": [
      "\u001b[0;31m---------------------------------------------------------------------------\u001b[0m",
      "\u001b[0;31mNameError\u001b[0m                                 Traceback (most recent call last)",
      "Input \u001b[0;32mIn [1]\u001b[0m, in \u001b[0;36m<cell line: 1>\u001b[0;34m()\u001b[0m\n\u001b[0;32m----> 1\u001b[0m \u001b[43mscript\u001b[49m\u001b[38;5;241m.\u001b[39mlog\u001b[38;5;241m.\u001b[39minfo(\u001b[38;5;124mf\u001b[39m\u001b[38;5;124m'\u001b[39m\u001b[38;5;124mSTART- SUMMIT-7280 Z-axis sensitivity Matrix data -- at \u001b[39m\u001b[38;5;132;01m{\u001b[39;00mTime\u001b[38;5;241m.\u001b[39mnow()\u001b[38;5;132;01m}\u001b[39;00m\u001b[38;5;124m'\u001b[39m)\n",
      "\u001b[0;31mNameError\u001b[0m: name 'script' is not defined"
     ]
    }
   ],
   "source": [
    "script.log.info(f'START- SUMMIT-7280 Z-axis sensitivity Matrix data -- at {Time.now()}')"
   ]
  },
  {
   "cell_type": "code",
   "execution_count": null,
   "id": "18f9ace6-929a-4940-8bd0-85e64cc96195",
   "metadata": {},
   "outputs": [],
   "source": [
    "def run_script(configuration):\n",
    "    await script.set_state(ScriptState.UNCONFIGURED)\n",
    "\n",
    "    config_data = script.cmd_configure.DataType()\n",
    "    config_data.config = configuration\n",
    "    await script.do_configure(config_data)\n",
    "\n",
    "    script.intra_visit_id = None\n",
    "    script.extra_visit_id = None\n",
    "    script.short_timeout = 10\n",
    "\n",
    "    group_id_data = script.cmd_setGroupId.DataType(\n",
    "    groupId=astropy.time.Time.now().isot)\n",
    "\n",
    "    await script.do_setGroupId(group_id_data)\n",
    "\n",
    "    await script.arun()"
   ]
  },
  {
   "cell_type": "markdown",
   "id": "6f8b8c28-10c1-4612-829b-b1776036513c",
   "metadata": {
    "tags": []
   },
   "source": [
    "----\n",
    "## Assess that conditions meet criteria\n",
    "Seeing must be stable and less than ~1.2 arcsec."
   ]
  },
  {
   "cell_type": "markdown",
   "id": "87807e50-5710-45e9-b4a1-da4ca450fe54",
   "metadata": {},
   "source": [
    "### Sensitivity Matrix\n",
    "\n",
    "#### Offsets x"
   ]
  },
  {
   "cell_type": "code",
   "execution_count": null,
   "id": "b1a776d9-6c66-42f6-a9f2-5fef17290c51",
   "metadata": {},
   "outputs": [],
   "source": [
    "offsets_x = np.linspace(-2.0,2.0, 10) # mm\n",
    "\n",
    "for offset_x in offsets_x:\n",
    "    configuration = yaml.safe_dump({\"filter\": \"SDSSr_65mm\", \n",
    "                                    \"grating\": 'empty_1',\n",
    "                                    \"exposure_time\": 20,\n",
    "                                    \"offset_x\": offset_x})\n",
    "    \n",
    "    await run_script(configuration)\n"
   ]
  },
  {
   "cell_type": "markdown",
   "id": "d11f9226-8d33-472c-9b28-cdc2739730ca",
   "metadata": {},
   "source": [
    "#### Offsets Y"
   ]
  },
  {
   "cell_type": "code",
   "execution_count": null,
   "id": "182f8a1c-f681-4462-b392-7ec008d3200b",
   "metadata": {},
   "outputs": [],
   "source": [
    "offsets_y = np.linspace(-2.0,2.0, 10) # mm\n",
    "\n",
    "for offset_y in offsets_y:\n",
    "    configuration = yaml.safe_dump({\"filter\": \"SDSSr_65mm\", \n",
    "                                    \"grating\": 'empty_1',\n",
    "                                    \"exposure_time\": 20,\n",
    "                                    \"program\" : \"SITCOM-615\", \n",
    "                                    \"offset_y\": offset_y})\n",
    "    await run_script(configuration)\n",
    "    "
   ]
  },
  {
   "cell_type": "code",
   "execution_count": null,
   "id": "2f6d9f5f-0fa1-4993-8925-e0de3d270770",
   "metadata": {},
   "outputs": [],
   "source": [
    "script.log.info(f'END- SITCOM-615 Z-axis sensitivity Matrix data -- at {Time.now()}')"
   ]
  }
 ],
 "metadata": {
  "kernelspec": {
   "display_name": "LSST",
   "language": "python",
   "name": "lsst"
  },
  "language_info": {
   "codemirror_mode": {
    "name": "ipython",
    "version": 3
   },
   "file_extension": ".py",
   "mimetype": "text/x-python",
   "name": "python",
   "nbconvert_exporter": "python",
   "pygments_lexer": "ipython3",
   "version": "3.10.9"
  },
  "toc-autonumbering": true,
  "toc-showmarkdowntxt": false
 },
 "nbformat": 4,
 "nbformat_minor": 5
}
