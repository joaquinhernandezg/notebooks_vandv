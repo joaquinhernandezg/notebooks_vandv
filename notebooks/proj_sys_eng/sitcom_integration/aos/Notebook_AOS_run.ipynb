{
 "cells": [
  {
   "cell_type": "code",
   "execution_count": 2,
   "id": "78622005-7d8c-452f-af9e-a359f9a9a089",
   "metadata": {
    "execution": {
     "iopub.execute_input": "2023-03-11T05:13:15.961199Z",
     "iopub.status.busy": "2023-03-11T05:13:15.960915Z",
     "iopub.status.idle": "2023-03-11T05:13:15.964373Z",
     "shell.execute_reply": "2023-03-11T05:13:15.963927Z",
     "shell.execute_reply.started": "2023-03-11T05:13:15.961170Z"
    },
    "tags": []
   },
   "outputs": [],
   "source": [
    "import yaml\n",
    "import logging\n",
    "import jsonschema\n",
    "import asyncio\n",
    "\n",
    "from lsst.ts import salobj\n",
    "from lsst.ts.observatory.control.auxtel import ATQueue\n",
    "from lsst.ts.idl.enums.ScriptQueue import Location, SalIndex\n",
    "from lsst.ts.observatory.control.auxtel.atcs import ATCS\n",
    "from lsst.ts.observatory.control.utils import RotType"
   ]
  },
  {
   "cell_type": "markdown",
   "id": "e1b753f4-0f5d-4a68-94e0-a55bb68e403a",
   "metadata": {},
   "source": [
    "## Start Auxiliary Telescope"
   ]
  },
  {
   "cell_type": "code",
   "execution_count": 4,
   "id": "72192a9a-22fb-4876-bf6d-775beea65bb1",
   "metadata": {
    "execution": {
     "iopub.execute_input": "2023-03-11T05:22:02.719363Z",
     "iopub.status.busy": "2023-03-11T05:22:02.719084Z",
     "iopub.status.idle": "2023-03-11T05:22:02.839995Z",
     "shell.execute_reply": "2023-03-11T05:22:02.839623Z",
     "shell.execute_reply.started": "2023-03-11T05:22:02.719346Z"
    },
    "tags": []
   },
   "outputs": [
    {
     "data": {
      "text/html": [
       "<pre style=\"margin: 0.1em;\n",
       "padding-left: 0.25em;\n",
       "border-left-style: solid;\n",
       "font-family: var(--jp-code-font-family);\n",
       "font-size: var(--jp-code-font-size);\n",
       "line-height: var(--jp-code-line-height);\n",
       "\"><span style=\"color: var(--jp-warn-color2)\">ScriptQueue</span> <span style=\"color: var(--jp-info-color0)\">INFO</span>: Disabling authlist-based command authorization</pre>"
      ],
      "text/plain": [
       "<IPython.core.display.HTML object>"
      ]
     },
     "metadata": {},
     "output_type": "display_data"
    },
    {
     "data": {
      "text/html": [
       "<pre style=\"margin: 0.1em;\n",
       "padding-left: 0.25em;\n",
       "border-left-style: solid;\n",
       "font-family: var(--jp-code-font-family);\n",
       "font-size: var(--jp-code-font-size);\n",
       "line-height: var(--jp-code-line-height);\n",
       "\"><span style=\"color: var(--jp-warn-color2)\">ScriptQueue</span> <span style=\"color: var(--jp-info-color0)\">INFO</span>: Read historical data in 0.00 sec</pre>"
      ],
      "text/plain": [
       "<IPython.core.display.HTML object>"
      ]
     },
     "metadata": {},
     "output_type": "display_data"
    },
    {
     "data": {
      "text/plain": [
       "[None]"
      ]
     },
     "execution_count": 4,
     "metadata": {},
     "output_type": "execute_result"
    }
   ],
   "source": [
    "domain = salobj.Domain()\n",
    "atq = ATQueue(domain = domain)\n",
    "await atq.start_task"
   ]
  },
  {
   "cell_type": "code",
   "execution_count": 5,
   "id": "986cef8d-5489-406f-ab75-de01bf93ca79",
   "metadata": {
    "execution": {
     "iopub.execute_input": "2023-03-11T05:22:09.857502Z",
     "iopub.status.busy": "2023-03-11T05:22:09.857221Z",
     "iopub.status.idle": "2023-03-11T05:22:10.350972Z",
     "shell.execute_reply": "2023-03-11T05:22:10.350558Z",
     "shell.execute_reply.started": "2023-03-11T05:22:09.857482Z"
    },
    "tags": []
   },
   "outputs": [
    {
     "data": {
      "text/html": [
       "<pre style=\"margin: 0.1em;\n",
       "padding-left: 0.25em;\n",
       "border-left-style: solid;\n",
       "font-family: var(--jp-code-font-family);\n",
       "font-size: var(--jp-code-font-size);\n",
       "line-height: var(--jp-code-line-height);\n",
       "\"><span style=\"color: var(--jp-warn-color2)\">ATMCS</span> <span style=\"color: var(--jp-info-color0)\">INFO</span>: Disabling authlist-based command authorization</pre>"
      ],
      "text/plain": [
       "<IPython.core.display.HTML object>"
      ]
     },
     "metadata": {},
     "output_type": "display_data"
    },
    {
     "data": {
      "text/html": [
       "<pre style=\"margin: 0.1em;\n",
       "padding-left: 0.25em;\n",
       "border-left-style: solid;\n",
       "font-family: var(--jp-code-font-family);\n",
       "font-size: var(--jp-code-font-size);\n",
       "line-height: var(--jp-code-line-height);\n",
       "\"><span style=\"color: var(--jp-warn-color2)\">ATPtg</span> <span style=\"color: var(--jp-info-color0)\">INFO</span>: Disabling authlist-based command authorization</pre>"
      ],
      "text/plain": [
       "<IPython.core.display.HTML object>"
      ]
     },
     "metadata": {},
     "output_type": "display_data"
    },
    {
     "data": {
      "text/html": [
       "<pre style=\"margin: 0.1em;\n",
       "padding-left: 0.25em;\n",
       "border-left-style: solid;\n",
       "font-family: var(--jp-code-font-family);\n",
       "font-size: var(--jp-code-font-size);\n",
       "line-height: var(--jp-code-line-height);\n",
       "\"><span style=\"color: var(--jp-warn-color2)\">ATAOS</span> <span style=\"color: var(--jp-info-color0)\">INFO</span>: Disabling authlist-based command authorization</pre>"
      ],
      "text/plain": [
       "<IPython.core.display.HTML object>"
      ]
     },
     "metadata": {},
     "output_type": "display_data"
    },
    {
     "data": {
      "text/html": [
       "<pre style=\"margin: 0.1em;\n",
       "padding-left: 0.25em;\n",
       "border-left-style: solid;\n",
       "font-family: var(--jp-code-font-family);\n",
       "font-size: var(--jp-code-font-size);\n",
       "line-height: var(--jp-code-line-height);\n",
       "\"><span style=\"color: var(--jp-warn-color2)\">ATPneumatics</span> <span style=\"color: var(--jp-info-color0)\">INFO</span>: Disabling authlist-based command authorization</pre>"
      ],
      "text/plain": [
       "<IPython.core.display.HTML object>"
      ]
     },
     "metadata": {},
     "output_type": "display_data"
    },
    {
     "data": {
      "text/html": [
       "<pre style=\"margin: 0.1em;\n",
       "padding-left: 0.25em;\n",
       "border-left-style: solid;\n",
       "font-family: var(--jp-code-font-family);\n",
       "font-size: var(--jp-code-font-size);\n",
       "line-height: var(--jp-code-line-height);\n",
       "\"><span style=\"color: var(--jp-warn-color2)\">ATHexapod</span> <span style=\"color: var(--jp-info-color0)\">INFO</span>: Disabling authlist-based command authorization</pre>"
      ],
      "text/plain": [
       "<IPython.core.display.HTML object>"
      ]
     },
     "metadata": {},
     "output_type": "display_data"
    },
    {
     "data": {
      "text/html": [
       "<pre style=\"margin: 0.1em;\n",
       "padding-left: 0.25em;\n",
       "border-left-style: solid;\n",
       "font-family: var(--jp-code-font-family);\n",
       "font-size: var(--jp-code-font-size);\n",
       "line-height: var(--jp-code-line-height);\n",
       "\"><span style=\"color: var(--jp-warn-color2)\">ATDome</span> <span style=\"color: var(--jp-info-color0)\">INFO</span>: Disabling authlist-based command authorization</pre>"
      ],
      "text/plain": [
       "<IPython.core.display.HTML object>"
      ]
     },
     "metadata": {},
     "output_type": "display_data"
    },
    {
     "data": {
      "text/html": [
       "<pre style=\"margin: 0.1em;\n",
       "padding-left: 0.25em;\n",
       "border-left-style: solid;\n",
       "font-family: var(--jp-code-font-family);\n",
       "font-size: var(--jp-code-font-size);\n",
       "line-height: var(--jp-code-line-height);\n",
       "\"><span style=\"color: var(--jp-warn-color2)\">ATDomeTrajectory</span> <span style=\"color: var(--jp-info-color0)\">INFO</span>: Disabling authlist-based command authorization</pre>"
      ],
      "text/plain": [
       "<IPython.core.display.HTML object>"
      ]
     },
     "metadata": {},
     "output_type": "display_data"
    },
    {
     "data": {
      "text/html": [
       "<pre style=\"margin: 0.1em;\n",
       "padding-left: 0.25em;\n",
       "border-left-style: solid;\n",
       "font-family: var(--jp-code-font-family);\n",
       "font-size: var(--jp-code-font-size);\n",
       "line-height: var(--jp-code-line-height);\n",
       "\"><span style=\"color: var(--jp-warn-color2)\">ATHexapod</span> <span style=\"color: var(--jp-info-color0)\">INFO</span>: Read historical data in 0.00 sec</pre>"
      ],
      "text/plain": [
       "<IPython.core.display.HTML object>"
      ]
     },
     "metadata": {},
     "output_type": "display_data"
    },
    {
     "data": {
      "text/html": [
       "<pre style=\"margin: 0.1em;\n",
       "padding-left: 0.25em;\n",
       "border-left-style: solid;\n",
       "font-family: var(--jp-code-font-family);\n",
       "font-size: var(--jp-code-font-size);\n",
       "line-height: var(--jp-code-line-height);\n",
       "\"><span style=\"color: var(--jp-warn-color2)\">ATDomeTrajectory</span> <span style=\"color: var(--jp-info-color0)\">INFO</span>: Read historical data in 0.01 sec</pre>"
      ],
      "text/plain": [
       "<IPython.core.display.HTML object>"
      ]
     },
     "metadata": {},
     "output_type": "display_data"
    },
    {
     "data": {
      "text/html": [
       "<pre style=\"margin: 0.1em;\n",
       "padding-left: 0.25em;\n",
       "border-left-style: solid;\n",
       "font-family: var(--jp-code-font-family);\n",
       "font-size: var(--jp-code-font-size);\n",
       "line-height: var(--jp-code-line-height);\n",
       "\"><span style=\"color: var(--jp-warn-color2)\">ATPneumatics</span> <span style=\"color: var(--jp-info-color0)\">INFO</span>: Read historical data in 0.01 sec</pre>"
      ],
      "text/plain": [
       "<IPython.core.display.HTML object>"
      ]
     },
     "metadata": {},
     "output_type": "display_data"
    },
    {
     "data": {
      "text/html": [
       "<pre style=\"margin: 0.1em;\n",
       "padding-left: 0.25em;\n",
       "border-left-style: solid;\n",
       "font-family: var(--jp-code-font-family);\n",
       "font-size: var(--jp-code-font-size);\n",
       "line-height: var(--jp-code-line-height);\n",
       "\"><span style=\"color: var(--jp-warn-color2)\">ATAOS</span> <span style=\"color: var(--jp-info-color0)\">INFO</span>: Read historical data in 0.01 sec</pre>"
      ],
      "text/plain": [
       "<IPython.core.display.HTML object>"
      ]
     },
     "metadata": {},
     "output_type": "display_data"
    },
    {
     "data": {
      "text/html": [
       "<pre style=\"margin: 0.1em;\n",
       "padding-left: 0.25em;\n",
       "border-left-style: solid;\n",
       "font-family: var(--jp-code-font-family);\n",
       "font-size: var(--jp-code-font-size);\n",
       "line-height: var(--jp-code-line-height);\n",
       "\"><span style=\"color: var(--jp-warn-color2)\">ATPtg</span> <span style=\"color: var(--jp-info-color0)\">INFO</span>: Read historical data in 0.02 sec</pre>"
      ],
      "text/plain": [
       "<IPython.core.display.HTML object>"
      ]
     },
     "metadata": {},
     "output_type": "display_data"
    },
    {
     "data": {
      "text/html": [
       "<pre style=\"margin: 0.1em;\n",
       "padding-left: 0.25em;\n",
       "border-left-style: solid;\n",
       "font-family: var(--jp-code-font-family);\n",
       "font-size: var(--jp-code-font-size);\n",
       "line-height: var(--jp-code-line-height);\n",
       "\"><span style=\"color: var(--jp-warn-color2)\">ATMCS</span> <span style=\"color: var(--jp-info-color0)\">INFO</span>: Read historical data in 0.03 sec</pre>"
      ],
      "text/plain": [
       "<IPython.core.display.HTML object>"
      ]
     },
     "metadata": {},
     "output_type": "display_data"
    },
    {
     "data": {
      "text/html": [
       "<pre style=\"margin: 0.1em;\n",
       "padding-left: 0.25em;\n",
       "border-left-style: solid;\n",
       "font-family: var(--jp-code-font-family);\n",
       "font-size: var(--jp-code-font-size);\n",
       "line-height: var(--jp-code-line-height);\n",
       "\"><span style=\"color: var(--jp-warn-color2)\">ATDome</span> <span style=\"color: var(--jp-info-color0)\">INFO</span>: Read historical data in 0.03 sec</pre>"
      ],
      "text/plain": [
       "<IPython.core.display.HTML object>"
      ]
     },
     "metadata": {},
     "output_type": "display_data"
    },
    {
     "data": {
      "text/plain": [
       "[None, None, None, None, None, None, None]"
      ]
     },
     "execution_count": 5,
     "metadata": {},
     "output_type": "execute_result"
    }
   ],
   "source": [
    "atcs = ATCS(domain)\n",
    "await atcs.start_task"
   ]
  },
  {
   "cell_type": "code",
   "execution_count": 7,
   "id": "6ffa0c22-88ef-4729-9dd7-3efe4d8d2747",
   "metadata": {
    "execution": {
     "iopub.execute_input": "2023-03-11T05:08:25.706287Z",
     "iopub.status.busy": "2023-03-11T05:08:25.705612Z",
     "iopub.status.idle": "2023-03-11T05:08:56.264457Z",
     "shell.execute_reply": "2023-03-11T05:08:56.263831Z",
     "shell.execute_reply.started": "2023-03-11T05:08:25.706265Z"
    }
   },
   "outputs": [],
   "source": [
    "await atcs.open_m1_cover()\n",
    "await atcs.open_m1_vent()"
   ]
  },
  {
   "cell_type": "code",
   "execution_count": 8,
   "id": "754f0cc9-194f-49cd-900d-7b5ff17a7950",
   "metadata": {
    "execution": {
     "iopub.execute_input": "2023-03-11T05:09:18.136256Z",
     "iopub.status.busy": "2023-03-11T05:09:18.135867Z",
     "iopub.status.idle": "2023-03-11T05:09:23.954956Z",
     "shell.execute_reply": "2023-03-11T05:09:23.954468Z",
     "shell.execute_reply.started": "2023-03-11T05:09:18.136236Z"
    }
   },
   "outputs": [
    {
     "data": {
      "text/html": [
       "<pre style=\"margin: 0.1em;\n",
       "padding-left: 0.25em;\n",
       "border-left-style: solid;\n",
       "font-family: var(--jp-code-font-family);\n",
       "font-size: var(--jp-code-font-size);\n",
       "line-height: var(--jp-code-line-height);\n",
       "\"><span style=\"color: var(--jp-warn-color2)\">ATCS</span> <span style=\"color: var(--jp-info-color0)\">INFO</span>: Enabling ATAOS corrections.</pre>"
      ],
      "text/plain": [
       "<IPython.core.display.HTML object>"
      ]
     },
     "metadata": {},
     "output_type": "display_data"
    }
   ],
   "source": [
    "await atcs.enable_ataos_corrections()"
   ]
  },
  {
   "cell_type": "code",
   "execution_count": 10,
   "id": "8bf86fef-476e-4d5a-aec8-7395083c3569",
   "metadata": {
    "execution": {
     "iopub.execute_input": "2023-03-11T05:37:50.195589Z",
     "iopub.status.busy": "2023-03-11T05:37:50.194997Z",
     "iopub.status.idle": "2023-03-11T05:37:53.945023Z",
     "shell.execute_reply": "2023-03-11T05:37:53.944440Z",
     "shell.execute_reply.started": "2023-03-11T05:37:50.195568Z"
    },
    "tags": []
   },
   "outputs": [
    {
     "data": {
      "text/plain": [
       "<ddsutil.ATAOS_ackcmd_c456254e at 0x7fa43a8b38e0>"
      ]
     },
     "execution_count": 10,
     "metadata": {},
     "output_type": "execute_result"
    }
   ],
   "source": [
    "await atcs.rem.ataos.cmd_resetOffset.set_start(axis = \"z\")"
   ]
  },
  {
   "cell_type": "markdown",
   "id": "b5869f8a-8e48-4c8d-baea-212ecb704177",
   "metadata": {},
   "source": [
    "## Align telescope"
   ]
  },
  {
   "cell_type": "code",
   "execution_count": 7,
   "id": "b3869d2b-885b-4458-8728-ef8359ea12a6",
   "metadata": {
    "execution": {
     "iopub.execute_input": "2023-03-11T05:28:06.129787Z",
     "iopub.status.busy": "2023-03-11T05:28:06.129414Z",
     "iopub.status.idle": "2023-03-11T05:28:10.709446Z",
     "shell.execute_reply": "2023-03-11T05:28:10.708913Z",
     "shell.execute_reply.started": "2023-03-11T05:28:06.129768Z"
    },
    "tags": []
   },
   "outputs": [
    {
     "data": {
      "text/html": [
       "<pre style=\"margin: 0.1em;\n",
       "padding-left: 0.25em;\n",
       "border-left-style: solid;\n",
       "font-family: var(--jp-code-font-family);\n",
       "font-size: var(--jp-code-font-size);\n",
       "line-height: var(--jp-code-line-height);\n",
       "\"><span style=\"color: var(--jp-warn-color2)\">ATQueue</span> <span style=\"color: var(--jp-info-color0)\">INFO</span>: Configuration OK!</pre>"
      ],
      "text/plain": [
       "<IPython.core.display.HTML object>"
      ]
     },
     "metadata": {},
     "output_type": "display_data"
    }
   ],
   "source": [
    "script_path = \"auxtel/latiss_wep_align.py\"\n",
    "band_filter = 'g'\n",
    "\n",
    "script_config = dict(\n",
    "    track_target = dict(\n",
    "        target_name = 'DUN 149',\n",
    "        icrs = dict(\n",
    "            ra = 13+53/60+32.71/60/60,\n",
    "            dec = -38+15/60+57.7/60/60\n",
    "        )\n",
    "    ),\n",
    "    filter = f\"SDSS{band_filter}_65mm\", \n",
    "    grating = 'empty_1',\n",
    "    exposure_time = 30,\n",
    "    reason = 'AOS_align',\n",
    "    program = 'SITCOM-682'\n",
    ")\n",
    "'''\n",
    "track_target = dict(\n",
    "    target_name = 'MWSC 1728',\n",
    "    icrs = dict(\n",
    "        ra = 148.867*24/360,\n",
    "        dec = -28.965\n",
    "    )\n",
    "),\n",
    "'''\n",
    "script_description=f\"Testing SITCOM-682 alignment\"\n",
    "\n",
    "await atq.validate_config(is_standard=False, script=script_path, config=script_config)\n",
    "\n",
    "await atq.add_external(script=script_path, config=script_config, description=script_description)"
   ]
  },
  {
   "cell_type": "markdown",
   "id": "d736b122-41a2-4a2f-880f-9e0633531021",
   "metadata": {},
   "source": [
    "## SITCOM-681 Sensitivity matrix\n"
   ]
  },
  {
   "cell_type": "code",
   "execution_count": 54,
   "id": "6a8c02b8-7f6e-45fe-a4be-4b832050b31d",
   "metadata": {
    "execution": {
     "iopub.execute_input": "2023-03-11T02:22:53.135168Z",
     "iopub.status.busy": "2023-03-11T02:22:53.134800Z",
     "iopub.status.idle": "2023-03-11T02:22:53.139093Z",
     "shell.execute_reply": "2023-03-11T02:22:53.138604Z",
     "shell.execute_reply.started": "2023-03-11T02:22:53.135150Z"
    },
    "tags": []
   },
   "outputs": [],
   "source": [
    "offsets = {\n",
    "    \"x\": np.linspace(-2.0,2.0, 10),\n",
    "    \"y\": np.linspace(-2.0,2.0, 10),\n",
    "    \"z\": np.linspace(-0.1,0.1, 10),\n",
    "    \"rx\": np.linspace(-15.0,15.0,10)/60,\n",
    "    \"ry\": np.linspace(-15.0,15.0,10)/60,\n",
    "    \"m1\": np.linspace(-12000,-4000,10),\n",
    "}"
   ]
  },
  {
   "cell_type": "code",
   "execution_count": 59,
   "id": "a935b9ca-228b-48aa-9127-00b493f76216",
   "metadata": {
    "execution": {
     "iopub.execute_input": "2023-03-11T03:00:30.931133Z",
     "iopub.status.busy": "2023-03-11T03:00:30.930862Z",
     "iopub.status.idle": "2023-03-11T03:05:22.340384Z",
     "shell.execute_reply": "2023-03-11T03:05:22.339935Z",
     "shell.execute_reply.started": "2023-03-11T03:00:30.931116Z"
    },
    "tags": []
   },
   "outputs": [
    {
     "name": "stdout",
     "output_type": "stream",
     "text": [
      "x\n"
     ]
    },
    {
     "data": {
      "text/html": [
       "<pre style=\"margin: 0.1em;\n",
       "padding-left: 0.25em;\n",
       "border-left-style: solid;\n",
       "font-family: var(--jp-code-font-family);\n",
       "font-size: var(--jp-code-font-size);\n",
       "line-height: var(--jp-code-line-height);\n",
       "\"><span style=\"color: var(--jp-warn-color2)\">ATQueue</span> <span style=\"color: var(--jp-info-color0)\">INFO</span>: Configuration OK!</pre>"
      ],
      "text/plain": [
       "<IPython.core.display.HTML object>"
      ]
     },
     "metadata": {},
     "output_type": "display_data"
    },
    {
     "data": {
      "text/html": [
       "<pre style=\"margin: 0.1em;\n",
       "padding-left: 0.25em;\n",
       "border-left-style: solid;\n",
       "font-family: var(--jp-code-font-family);\n",
       "font-size: var(--jp-code-font-size);\n",
       "line-height: var(--jp-code-line-height);\n",
       "\"><span style=\"color: var(--jp-warn-color2)\">ATQueue</span> <span style=\"color: var(--jp-info-color0)\">INFO</span>: Configuration OK!</pre>"
      ],
      "text/plain": [
       "<IPython.core.display.HTML object>"
      ]
     },
     "metadata": {},
     "output_type": "display_data"
    },
    {
     "data": {
      "text/html": [
       "<pre style=\"margin: 0.1em;\n",
       "padding-left: 0.25em;\n",
       "border-left-style: solid;\n",
       "font-family: var(--jp-code-font-family);\n",
       "font-size: var(--jp-code-font-size);\n",
       "line-height: var(--jp-code-line-height);\n",
       "\"><span style=\"color: var(--jp-warn-color2)\">ATQueue</span> <span style=\"color: var(--jp-info-color0)\">INFO</span>: Configuration OK!</pre>"
      ],
      "text/plain": [
       "<IPython.core.display.HTML object>"
      ]
     },
     "metadata": {},
     "output_type": "display_data"
    },
    {
     "data": {
      "text/html": [
       "<pre style=\"margin: 0.1em;\n",
       "padding-left: 0.25em;\n",
       "border-left-style: solid;\n",
       "font-family: var(--jp-code-font-family);\n",
       "font-size: var(--jp-code-font-size);\n",
       "line-height: var(--jp-code-line-height);\n",
       "\"><span style=\"color: var(--jp-warn-color2)\">ATQueue</span> <span style=\"color: var(--jp-info-color0)\">INFO</span>: Configuration OK!</pre>"
      ],
      "text/plain": [
       "<IPython.core.display.HTML object>"
      ]
     },
     "metadata": {},
     "output_type": "display_data"
    },
    {
     "data": {
      "text/html": [
       "<pre style=\"margin: 0.1em;\n",
       "padding-left: 0.25em;\n",
       "border-left-style: solid;\n",
       "font-family: var(--jp-code-font-family);\n",
       "font-size: var(--jp-code-font-size);\n",
       "line-height: var(--jp-code-line-height);\n",
       "\"><span style=\"color: var(--jp-warn-color2)\">ATQueue</span> <span style=\"color: var(--jp-info-color0)\">INFO</span>: Configuration OK!</pre>"
      ],
      "text/plain": [
       "<IPython.core.display.HTML object>"
      ]
     },
     "metadata": {},
     "output_type": "display_data"
    },
    {
     "data": {
      "text/html": [
       "<pre style=\"margin: 0.1em;\n",
       "padding-left: 0.25em;\n",
       "border-left-style: solid;\n",
       "font-family: var(--jp-code-font-family);\n",
       "font-size: var(--jp-code-font-size);\n",
       "line-height: var(--jp-code-line-height);\n",
       "\"><span style=\"color: var(--jp-warn-color2)\">ATQueue</span> <span style=\"color: var(--jp-info-color0)\">INFO</span>: Configuration OK!</pre>"
      ],
      "text/plain": [
       "<IPython.core.display.HTML object>"
      ]
     },
     "metadata": {},
     "output_type": "display_data"
    },
    {
     "data": {
      "text/html": [
       "<pre style=\"margin: 0.1em;\n",
       "padding-left: 0.25em;\n",
       "border-left-style: solid;\n",
       "font-family: var(--jp-code-font-family);\n",
       "font-size: var(--jp-code-font-size);\n",
       "line-height: var(--jp-code-line-height);\n",
       "\"><span style=\"color: var(--jp-warn-color2)\">ATQueue</span> <span style=\"color: var(--jp-info-color0)\">INFO</span>: Configuration OK!</pre>"
      ],
      "text/plain": [
       "<IPython.core.display.HTML object>"
      ]
     },
     "metadata": {},
     "output_type": "display_data"
    },
    {
     "data": {
      "text/html": [
       "<pre style=\"margin: 0.1em;\n",
       "padding-left: 0.25em;\n",
       "border-left-style: solid;\n",
       "font-family: var(--jp-code-font-family);\n",
       "font-size: var(--jp-code-font-size);\n",
       "line-height: var(--jp-code-line-height);\n",
       "\"><span style=\"color: var(--jp-warn-color2)\">ATQueue</span> <span style=\"color: var(--jp-info-color0)\">INFO</span>: Configuration OK!</pre>"
      ],
      "text/plain": [
       "<IPython.core.display.HTML object>"
      ]
     },
     "metadata": {},
     "output_type": "display_data"
    },
    {
     "data": {
      "text/html": [
       "<pre style=\"margin: 0.1em;\n",
       "padding-left: 0.25em;\n",
       "border-left-style: solid;\n",
       "font-family: var(--jp-code-font-family);\n",
       "font-size: var(--jp-code-font-size);\n",
       "line-height: var(--jp-code-line-height);\n",
       "\"><span style=\"color: var(--jp-warn-color2)\">ATQueue</span> <span style=\"color: var(--jp-info-color0)\">INFO</span>: Configuration OK!</pre>"
      ],
      "text/plain": [
       "<IPython.core.display.HTML object>"
      ]
     },
     "metadata": {},
     "output_type": "display_data"
    },
    {
     "data": {
      "text/html": [
       "<pre style=\"margin: 0.1em;\n",
       "padding-left: 0.25em;\n",
       "border-left-style: solid;\n",
       "font-family: var(--jp-code-font-family);\n",
       "font-size: var(--jp-code-font-size);\n",
       "line-height: var(--jp-code-line-height);\n",
       "\"><span style=\"color: var(--jp-warn-color2)\">ATQueue</span> <span style=\"color: var(--jp-info-color0)\">INFO</span>: Configuration OK!</pre>"
      ],
      "text/plain": [
       "<IPython.core.display.HTML object>"
      ]
     },
     "metadata": {},
     "output_type": "display_data"
    },
    {
     "name": "stdout",
     "output_type": "stream",
     "text": [
      "y\n"
     ]
    },
    {
     "data": {
      "text/html": [
       "<pre style=\"margin: 0.1em;\n",
       "padding-left: 0.25em;\n",
       "border-left-style: solid;\n",
       "font-family: var(--jp-code-font-family);\n",
       "font-size: var(--jp-code-font-size);\n",
       "line-height: var(--jp-code-line-height);\n",
       "\"><span style=\"color: var(--jp-warn-color2)\">ATQueue</span> <span style=\"color: var(--jp-info-color0)\">INFO</span>: Configuration OK!</pre>"
      ],
      "text/plain": [
       "<IPython.core.display.HTML object>"
      ]
     },
     "metadata": {},
     "output_type": "display_data"
    },
    {
     "data": {
      "text/html": [
       "<pre style=\"margin: 0.1em;\n",
       "padding-left: 0.25em;\n",
       "border-left-style: solid;\n",
       "font-family: var(--jp-code-font-family);\n",
       "font-size: var(--jp-code-font-size);\n",
       "line-height: var(--jp-code-line-height);\n",
       "\"><span style=\"color: var(--jp-warn-color2)\">ATQueue</span> <span style=\"color: var(--jp-info-color0)\">INFO</span>: Configuration OK!</pre>"
      ],
      "text/plain": [
       "<IPython.core.display.HTML object>"
      ]
     },
     "metadata": {},
     "output_type": "display_data"
    },
    {
     "data": {
      "text/html": [
       "<pre style=\"margin: 0.1em;\n",
       "padding-left: 0.25em;\n",
       "border-left-style: solid;\n",
       "font-family: var(--jp-code-font-family);\n",
       "font-size: var(--jp-code-font-size);\n",
       "line-height: var(--jp-code-line-height);\n",
       "\"><span style=\"color: var(--jp-warn-color2)\">ATQueue</span> <span style=\"color: var(--jp-info-color0)\">INFO</span>: Configuration OK!</pre>"
      ],
      "text/plain": [
       "<IPython.core.display.HTML object>"
      ]
     },
     "metadata": {},
     "output_type": "display_data"
    },
    {
     "data": {
      "text/html": [
       "<pre style=\"margin: 0.1em;\n",
       "padding-left: 0.25em;\n",
       "border-left-style: solid;\n",
       "font-family: var(--jp-code-font-family);\n",
       "font-size: var(--jp-code-font-size);\n",
       "line-height: var(--jp-code-line-height);\n",
       "\"><span style=\"color: var(--jp-warn-color2)\">ATQueue</span> <span style=\"color: var(--jp-info-color0)\">INFO</span>: Configuration OK!</pre>"
      ],
      "text/plain": [
       "<IPython.core.display.HTML object>"
      ]
     },
     "metadata": {},
     "output_type": "display_data"
    },
    {
     "data": {
      "text/html": [
       "<pre style=\"margin: 0.1em;\n",
       "padding-left: 0.25em;\n",
       "border-left-style: solid;\n",
       "font-family: var(--jp-code-font-family);\n",
       "font-size: var(--jp-code-font-size);\n",
       "line-height: var(--jp-code-line-height);\n",
       "\"><span style=\"color: var(--jp-warn-color2)\">ATQueue</span> <span style=\"color: var(--jp-info-color0)\">INFO</span>: Configuration OK!</pre>"
      ],
      "text/plain": [
       "<IPython.core.display.HTML object>"
      ]
     },
     "metadata": {},
     "output_type": "display_data"
    },
    {
     "data": {
      "text/html": [
       "<pre style=\"margin: 0.1em;\n",
       "padding-left: 0.25em;\n",
       "border-left-style: solid;\n",
       "font-family: var(--jp-code-font-family);\n",
       "font-size: var(--jp-code-font-size);\n",
       "line-height: var(--jp-code-line-height);\n",
       "\"><span style=\"color: var(--jp-warn-color2)\">ATQueue</span> <span style=\"color: var(--jp-info-color0)\">INFO</span>: Configuration OK!</pre>"
      ],
      "text/plain": [
       "<IPython.core.display.HTML object>"
      ]
     },
     "metadata": {},
     "output_type": "display_data"
    },
    {
     "data": {
      "text/html": [
       "<pre style=\"margin: 0.1em;\n",
       "padding-left: 0.25em;\n",
       "border-left-style: solid;\n",
       "font-family: var(--jp-code-font-family);\n",
       "font-size: var(--jp-code-font-size);\n",
       "line-height: var(--jp-code-line-height);\n",
       "\"><span style=\"color: var(--jp-warn-color2)\">ATQueue</span> <span style=\"color: var(--jp-info-color0)\">INFO</span>: Configuration OK!</pre>"
      ],
      "text/plain": [
       "<IPython.core.display.HTML object>"
      ]
     },
     "metadata": {},
     "output_type": "display_data"
    },
    {
     "data": {
      "text/html": [
       "<pre style=\"margin: 0.1em;\n",
       "padding-left: 0.25em;\n",
       "border-left-style: solid;\n",
       "font-family: var(--jp-code-font-family);\n",
       "font-size: var(--jp-code-font-size);\n",
       "line-height: var(--jp-code-line-height);\n",
       "\"><span style=\"color: var(--jp-warn-color2)\">ATQueue</span> <span style=\"color: var(--jp-info-color0)\">INFO</span>: Configuration OK!</pre>"
      ],
      "text/plain": [
       "<IPython.core.display.HTML object>"
      ]
     },
     "metadata": {},
     "output_type": "display_data"
    },
    {
     "data": {
      "text/html": [
       "<pre style=\"margin: 0.1em;\n",
       "padding-left: 0.25em;\n",
       "border-left-style: solid;\n",
       "font-family: var(--jp-code-font-family);\n",
       "font-size: var(--jp-code-font-size);\n",
       "line-height: var(--jp-code-line-height);\n",
       "\"><span style=\"color: var(--jp-warn-color2)\">ATQueue</span> <span style=\"color: var(--jp-info-color0)\">INFO</span>: Configuration OK!</pre>"
      ],
      "text/plain": [
       "<IPython.core.display.HTML object>"
      ]
     },
     "metadata": {},
     "output_type": "display_data"
    },
    {
     "data": {
      "text/html": [
       "<pre style=\"margin: 0.1em;\n",
       "padding-left: 0.25em;\n",
       "border-left-style: solid;\n",
       "font-family: var(--jp-code-font-family);\n",
       "font-size: var(--jp-code-font-size);\n",
       "line-height: var(--jp-code-line-height);\n",
       "\"><span style=\"color: var(--jp-warn-color2)\">ATQueue</span> <span style=\"color: var(--jp-info-color0)\">INFO</span>: Configuration OK!</pre>"
      ],
      "text/plain": [
       "<IPython.core.display.HTML object>"
      ]
     },
     "metadata": {},
     "output_type": "display_data"
    },
    {
     "name": "stdout",
     "output_type": "stream",
     "text": [
      "z\n"
     ]
    },
    {
     "data": {
      "text/html": [
       "<pre style=\"margin: 0.1em;\n",
       "padding-left: 0.25em;\n",
       "border-left-style: solid;\n",
       "font-family: var(--jp-code-font-family);\n",
       "font-size: var(--jp-code-font-size);\n",
       "line-height: var(--jp-code-line-height);\n",
       "\"><span style=\"color: var(--jp-warn-color2)\">ATQueue</span> <span style=\"color: var(--jp-info-color0)\">INFO</span>: Configuration OK!</pre>"
      ],
      "text/plain": [
       "<IPython.core.display.HTML object>"
      ]
     },
     "metadata": {},
     "output_type": "display_data"
    },
    {
     "data": {
      "text/html": [
       "<pre style=\"margin: 0.1em;\n",
       "padding-left: 0.25em;\n",
       "border-left-style: solid;\n",
       "font-family: var(--jp-code-font-family);\n",
       "font-size: var(--jp-code-font-size);\n",
       "line-height: var(--jp-code-line-height);\n",
       "\"><span style=\"color: var(--jp-warn-color2)\">ATQueue</span> <span style=\"color: var(--jp-info-color0)\">INFO</span>: Configuration OK!</pre>"
      ],
      "text/plain": [
       "<IPython.core.display.HTML object>"
      ]
     },
     "metadata": {},
     "output_type": "display_data"
    },
    {
     "data": {
      "text/html": [
       "<pre style=\"margin: 0.1em;\n",
       "padding-left: 0.25em;\n",
       "border-left-style: solid;\n",
       "font-family: var(--jp-code-font-family);\n",
       "font-size: var(--jp-code-font-size);\n",
       "line-height: var(--jp-code-line-height);\n",
       "\"><span style=\"color: var(--jp-warn-color2)\">ATQueue</span> <span style=\"color: var(--jp-info-color0)\">INFO</span>: Configuration OK!</pre>"
      ],
      "text/plain": [
       "<IPython.core.display.HTML object>"
      ]
     },
     "metadata": {},
     "output_type": "display_data"
    },
    {
     "data": {
      "text/html": [
       "<pre style=\"margin: 0.1em;\n",
       "padding-left: 0.25em;\n",
       "border-left-style: solid;\n",
       "font-family: var(--jp-code-font-family);\n",
       "font-size: var(--jp-code-font-size);\n",
       "line-height: var(--jp-code-line-height);\n",
       "\"><span style=\"color: var(--jp-warn-color2)\">ATQueue</span> <span style=\"color: var(--jp-info-color0)\">INFO</span>: Configuration OK!</pre>"
      ],
      "text/plain": [
       "<IPython.core.display.HTML object>"
      ]
     },
     "metadata": {},
     "output_type": "display_data"
    },
    {
     "data": {
      "text/html": [
       "<pre style=\"margin: 0.1em;\n",
       "padding-left: 0.25em;\n",
       "border-left-style: solid;\n",
       "font-family: var(--jp-code-font-family);\n",
       "font-size: var(--jp-code-font-size);\n",
       "line-height: var(--jp-code-line-height);\n",
       "\"><span style=\"color: var(--jp-warn-color2)\">ATQueue</span> <span style=\"color: var(--jp-info-color0)\">INFO</span>: Configuration OK!</pre>"
      ],
      "text/plain": [
       "<IPython.core.display.HTML object>"
      ]
     },
     "metadata": {},
     "output_type": "display_data"
    },
    {
     "data": {
      "text/html": [
       "<pre style=\"margin: 0.1em;\n",
       "padding-left: 0.25em;\n",
       "border-left-style: solid;\n",
       "font-family: var(--jp-code-font-family);\n",
       "font-size: var(--jp-code-font-size);\n",
       "line-height: var(--jp-code-line-height);\n",
       "\"><span style=\"color: var(--jp-warn-color2)\">ATQueue</span> <span style=\"color: var(--jp-info-color0)\">INFO</span>: Configuration OK!</pre>"
      ],
      "text/plain": [
       "<IPython.core.display.HTML object>"
      ]
     },
     "metadata": {},
     "output_type": "display_data"
    },
    {
     "data": {
      "text/html": [
       "<pre style=\"margin: 0.1em;\n",
       "padding-left: 0.25em;\n",
       "border-left-style: solid;\n",
       "font-family: var(--jp-code-font-family);\n",
       "font-size: var(--jp-code-font-size);\n",
       "line-height: var(--jp-code-line-height);\n",
       "\"><span style=\"color: var(--jp-warn-color2)\">ATQueue</span> <span style=\"color: var(--jp-info-color0)\">INFO</span>: Configuration OK!</pre>"
      ],
      "text/plain": [
       "<IPython.core.display.HTML object>"
      ]
     },
     "metadata": {},
     "output_type": "display_data"
    },
    {
     "data": {
      "text/html": [
       "<pre style=\"margin: 0.1em;\n",
       "padding-left: 0.25em;\n",
       "border-left-style: solid;\n",
       "font-family: var(--jp-code-font-family);\n",
       "font-size: var(--jp-code-font-size);\n",
       "line-height: var(--jp-code-line-height);\n",
       "\"><span style=\"color: var(--jp-warn-color2)\">ATQueue</span> <span style=\"color: var(--jp-info-color0)\">INFO</span>: Configuration OK!</pre>"
      ],
      "text/plain": [
       "<IPython.core.display.HTML object>"
      ]
     },
     "metadata": {},
     "output_type": "display_data"
    },
    {
     "data": {
      "text/html": [
       "<pre style=\"margin: 0.1em;\n",
       "padding-left: 0.25em;\n",
       "border-left-style: solid;\n",
       "font-family: var(--jp-code-font-family);\n",
       "font-size: var(--jp-code-font-size);\n",
       "line-height: var(--jp-code-line-height);\n",
       "\"><span style=\"color: var(--jp-warn-color2)\">ATQueue</span> <span style=\"color: var(--jp-info-color0)\">INFO</span>: Configuration OK!</pre>"
      ],
      "text/plain": [
       "<IPython.core.display.HTML object>"
      ]
     },
     "metadata": {},
     "output_type": "display_data"
    },
    {
     "data": {
      "text/html": [
       "<pre style=\"margin: 0.1em;\n",
       "padding-left: 0.25em;\n",
       "border-left-style: solid;\n",
       "font-family: var(--jp-code-font-family);\n",
       "font-size: var(--jp-code-font-size);\n",
       "line-height: var(--jp-code-line-height);\n",
       "\"><span style=\"color: var(--jp-warn-color2)\">ATQueue</span> <span style=\"color: var(--jp-info-color0)\">INFO</span>: Configuration OK!</pre>"
      ],
      "text/plain": [
       "<IPython.core.display.HTML object>"
      ]
     },
     "metadata": {},
     "output_type": "display_data"
    },
    {
     "name": "stdout",
     "output_type": "stream",
     "text": [
      "rx\n"
     ]
    },
    {
     "data": {
      "text/html": [
       "<pre style=\"margin: 0.1em;\n",
       "padding-left: 0.25em;\n",
       "border-left-style: solid;\n",
       "font-family: var(--jp-code-font-family);\n",
       "font-size: var(--jp-code-font-size);\n",
       "line-height: var(--jp-code-line-height);\n",
       "\"><span style=\"color: var(--jp-warn-color2)\">ATQueue</span> <span style=\"color: var(--jp-info-color0)\">INFO</span>: Configuration OK!</pre>"
      ],
      "text/plain": [
       "<IPython.core.display.HTML object>"
      ]
     },
     "metadata": {},
     "output_type": "display_data"
    },
    {
     "data": {
      "text/html": [
       "<pre style=\"margin: 0.1em;\n",
       "padding-left: 0.25em;\n",
       "border-left-style: solid;\n",
       "font-family: var(--jp-code-font-family);\n",
       "font-size: var(--jp-code-font-size);\n",
       "line-height: var(--jp-code-line-height);\n",
       "\"><span style=\"color: var(--jp-warn-color2)\">ATQueue</span> <span style=\"color: var(--jp-info-color0)\">INFO</span>: Configuration OK!</pre>"
      ],
      "text/plain": [
       "<IPython.core.display.HTML object>"
      ]
     },
     "metadata": {},
     "output_type": "display_data"
    },
    {
     "data": {
      "text/html": [
       "<pre style=\"margin: 0.1em;\n",
       "padding-left: 0.25em;\n",
       "border-left-style: solid;\n",
       "font-family: var(--jp-code-font-family);\n",
       "font-size: var(--jp-code-font-size);\n",
       "line-height: var(--jp-code-line-height);\n",
       "\"><span style=\"color: var(--jp-warn-color2)\">ATQueue</span> <span style=\"color: var(--jp-info-color0)\">INFO</span>: Configuration OK!</pre>"
      ],
      "text/plain": [
       "<IPython.core.display.HTML object>"
      ]
     },
     "metadata": {},
     "output_type": "display_data"
    },
    {
     "data": {
      "text/html": [
       "<pre style=\"margin: 0.1em;\n",
       "padding-left: 0.25em;\n",
       "border-left-style: solid;\n",
       "font-family: var(--jp-code-font-family);\n",
       "font-size: var(--jp-code-font-size);\n",
       "line-height: var(--jp-code-line-height);\n",
       "\"><span style=\"color: var(--jp-warn-color2)\">ATQueue</span> <span style=\"color: var(--jp-info-color0)\">INFO</span>: Configuration OK!</pre>"
      ],
      "text/plain": [
       "<IPython.core.display.HTML object>"
      ]
     },
     "metadata": {},
     "output_type": "display_data"
    },
    {
     "data": {
      "text/html": [
       "<pre style=\"margin: 0.1em;\n",
       "padding-left: 0.25em;\n",
       "border-left-style: solid;\n",
       "font-family: var(--jp-code-font-family);\n",
       "font-size: var(--jp-code-font-size);\n",
       "line-height: var(--jp-code-line-height);\n",
       "\"><span style=\"color: var(--jp-warn-color2)\">ATQueue</span> <span style=\"color: var(--jp-info-color0)\">INFO</span>: Configuration OK!</pre>"
      ],
      "text/plain": [
       "<IPython.core.display.HTML object>"
      ]
     },
     "metadata": {},
     "output_type": "display_data"
    },
    {
     "data": {
      "text/html": [
       "<pre style=\"margin: 0.1em;\n",
       "padding-left: 0.25em;\n",
       "border-left-style: solid;\n",
       "font-family: var(--jp-code-font-family);\n",
       "font-size: var(--jp-code-font-size);\n",
       "line-height: var(--jp-code-line-height);\n",
       "\"><span style=\"color: var(--jp-warn-color2)\">ATQueue</span> <span style=\"color: var(--jp-info-color0)\">INFO</span>: Configuration OK!</pre>"
      ],
      "text/plain": [
       "<IPython.core.display.HTML object>"
      ]
     },
     "metadata": {},
     "output_type": "display_data"
    },
    {
     "data": {
      "text/html": [
       "<pre style=\"margin: 0.1em;\n",
       "padding-left: 0.25em;\n",
       "border-left-style: solid;\n",
       "font-family: var(--jp-code-font-family);\n",
       "font-size: var(--jp-code-font-size);\n",
       "line-height: var(--jp-code-line-height);\n",
       "\"><span style=\"color: var(--jp-warn-color2)\">ATQueue</span> <span style=\"color: var(--jp-info-color0)\">INFO</span>: Configuration OK!</pre>"
      ],
      "text/plain": [
       "<IPython.core.display.HTML object>"
      ]
     },
     "metadata": {},
     "output_type": "display_data"
    },
    {
     "data": {
      "text/html": [
       "<pre style=\"margin: 0.1em;\n",
       "padding-left: 0.25em;\n",
       "border-left-style: solid;\n",
       "font-family: var(--jp-code-font-family);\n",
       "font-size: var(--jp-code-font-size);\n",
       "line-height: var(--jp-code-line-height);\n",
       "\"><span style=\"color: var(--jp-warn-color2)\">ATQueue</span> <span style=\"color: var(--jp-info-color0)\">INFO</span>: Configuration OK!</pre>"
      ],
      "text/plain": [
       "<IPython.core.display.HTML object>"
      ]
     },
     "metadata": {},
     "output_type": "display_data"
    },
    {
     "data": {
      "text/html": [
       "<pre style=\"margin: 0.1em;\n",
       "padding-left: 0.25em;\n",
       "border-left-style: solid;\n",
       "font-family: var(--jp-code-font-family);\n",
       "font-size: var(--jp-code-font-size);\n",
       "line-height: var(--jp-code-line-height);\n",
       "\"><span style=\"color: var(--jp-warn-color2)\">ATQueue</span> <span style=\"color: var(--jp-info-color0)\">INFO</span>: Configuration OK!</pre>"
      ],
      "text/plain": [
       "<IPython.core.display.HTML object>"
      ]
     },
     "metadata": {},
     "output_type": "display_data"
    },
    {
     "data": {
      "text/html": [
       "<pre style=\"margin: 0.1em;\n",
       "padding-left: 0.25em;\n",
       "border-left-style: solid;\n",
       "font-family: var(--jp-code-font-family);\n",
       "font-size: var(--jp-code-font-size);\n",
       "line-height: var(--jp-code-line-height);\n",
       "\"><span style=\"color: var(--jp-warn-color2)\">ATQueue</span> <span style=\"color: var(--jp-info-color0)\">INFO</span>: Configuration OK!</pre>"
      ],
      "text/plain": [
       "<IPython.core.display.HTML object>"
      ]
     },
     "metadata": {},
     "output_type": "display_data"
    },
    {
     "name": "stdout",
     "output_type": "stream",
     "text": [
      "ry\n"
     ]
    },
    {
     "data": {
      "text/html": [
       "<pre style=\"margin: 0.1em;\n",
       "padding-left: 0.25em;\n",
       "border-left-style: solid;\n",
       "font-family: var(--jp-code-font-family);\n",
       "font-size: var(--jp-code-font-size);\n",
       "line-height: var(--jp-code-line-height);\n",
       "\"><span style=\"color: var(--jp-warn-color2)\">ATQueue</span> <span style=\"color: var(--jp-info-color0)\">INFO</span>: Configuration OK!</pre>"
      ],
      "text/plain": [
       "<IPython.core.display.HTML object>"
      ]
     },
     "metadata": {},
     "output_type": "display_data"
    },
    {
     "data": {
      "text/html": [
       "<pre style=\"margin: 0.1em;\n",
       "padding-left: 0.25em;\n",
       "border-left-style: solid;\n",
       "font-family: var(--jp-code-font-family);\n",
       "font-size: var(--jp-code-font-size);\n",
       "line-height: var(--jp-code-line-height);\n",
       "\"><span style=\"color: var(--jp-warn-color2)\">ATQueue</span> <span style=\"color: var(--jp-info-color0)\">INFO</span>: Configuration OK!</pre>"
      ],
      "text/plain": [
       "<IPython.core.display.HTML object>"
      ]
     },
     "metadata": {},
     "output_type": "display_data"
    },
    {
     "data": {
      "text/html": [
       "<pre style=\"margin: 0.1em;\n",
       "padding-left: 0.25em;\n",
       "border-left-style: solid;\n",
       "font-family: var(--jp-code-font-family);\n",
       "font-size: var(--jp-code-font-size);\n",
       "line-height: var(--jp-code-line-height);\n",
       "\"><span style=\"color: var(--jp-warn-color2)\">ATQueue</span> <span style=\"color: var(--jp-info-color0)\">INFO</span>: Configuration OK!</pre>"
      ],
      "text/plain": [
       "<IPython.core.display.HTML object>"
      ]
     },
     "metadata": {},
     "output_type": "display_data"
    },
    {
     "data": {
      "text/html": [
       "<pre style=\"margin: 0.1em;\n",
       "padding-left: 0.25em;\n",
       "border-left-style: solid;\n",
       "font-family: var(--jp-code-font-family);\n",
       "font-size: var(--jp-code-font-size);\n",
       "line-height: var(--jp-code-line-height);\n",
       "\"><span style=\"color: var(--jp-warn-color2)\">ATQueue</span> <span style=\"color: var(--jp-info-color0)\">INFO</span>: Configuration OK!</pre>"
      ],
      "text/plain": [
       "<IPython.core.display.HTML object>"
      ]
     },
     "metadata": {},
     "output_type": "display_data"
    },
    {
     "data": {
      "text/html": [
       "<pre style=\"margin: 0.1em;\n",
       "padding-left: 0.25em;\n",
       "border-left-style: solid;\n",
       "font-family: var(--jp-code-font-family);\n",
       "font-size: var(--jp-code-font-size);\n",
       "line-height: var(--jp-code-line-height);\n",
       "\"><span style=\"color: var(--jp-warn-color2)\">ATQueue</span> <span style=\"color: var(--jp-info-color0)\">INFO</span>: Configuration OK!</pre>"
      ],
      "text/plain": [
       "<IPython.core.display.HTML object>"
      ]
     },
     "metadata": {},
     "output_type": "display_data"
    },
    {
     "data": {
      "text/html": [
       "<pre style=\"margin: 0.1em;\n",
       "padding-left: 0.25em;\n",
       "border-left-style: solid;\n",
       "font-family: var(--jp-code-font-family);\n",
       "font-size: var(--jp-code-font-size);\n",
       "line-height: var(--jp-code-line-height);\n",
       "\"><span style=\"color: var(--jp-warn-color2)\">ATQueue</span> <span style=\"color: var(--jp-info-color0)\">INFO</span>: Configuration OK!</pre>"
      ],
      "text/plain": [
       "<IPython.core.display.HTML object>"
      ]
     },
     "metadata": {},
     "output_type": "display_data"
    },
    {
     "data": {
      "text/html": [
       "<pre style=\"margin: 0.1em;\n",
       "padding-left: 0.25em;\n",
       "border-left-style: solid;\n",
       "font-family: var(--jp-code-font-family);\n",
       "font-size: var(--jp-code-font-size);\n",
       "line-height: var(--jp-code-line-height);\n",
       "\"><span style=\"color: var(--jp-warn-color2)\">ATQueue</span> <span style=\"color: var(--jp-info-color0)\">INFO</span>: Configuration OK!</pre>"
      ],
      "text/plain": [
       "<IPython.core.display.HTML object>"
      ]
     },
     "metadata": {},
     "output_type": "display_data"
    },
    {
     "data": {
      "text/html": [
       "<pre style=\"margin: 0.1em;\n",
       "padding-left: 0.25em;\n",
       "border-left-style: solid;\n",
       "font-family: var(--jp-code-font-family);\n",
       "font-size: var(--jp-code-font-size);\n",
       "line-height: var(--jp-code-line-height);\n",
       "\"><span style=\"color: var(--jp-warn-color2)\">ATQueue</span> <span style=\"color: var(--jp-info-color0)\">INFO</span>: Configuration OK!</pre>"
      ],
      "text/plain": [
       "<IPython.core.display.HTML object>"
      ]
     },
     "metadata": {},
     "output_type": "display_data"
    },
    {
     "data": {
      "text/html": [
       "<pre style=\"margin: 0.1em;\n",
       "padding-left: 0.25em;\n",
       "border-left-style: solid;\n",
       "font-family: var(--jp-code-font-family);\n",
       "font-size: var(--jp-code-font-size);\n",
       "line-height: var(--jp-code-line-height);\n",
       "\"><span style=\"color: var(--jp-warn-color2)\">ATQueue</span> <span style=\"color: var(--jp-info-color0)\">INFO</span>: Configuration OK!</pre>"
      ],
      "text/plain": [
       "<IPython.core.display.HTML object>"
      ]
     },
     "metadata": {},
     "output_type": "display_data"
    },
    {
     "data": {
      "text/html": [
       "<pre style=\"margin: 0.1em;\n",
       "padding-left: 0.25em;\n",
       "border-left-style: solid;\n",
       "font-family: var(--jp-code-font-family);\n",
       "font-size: var(--jp-code-font-size);\n",
       "line-height: var(--jp-code-line-height);\n",
       "\"><span style=\"color: var(--jp-warn-color2)\">ATQueue</span> <span style=\"color: var(--jp-info-color0)\">INFO</span>: Configuration OK!</pre>"
      ],
      "text/plain": [
       "<IPython.core.display.HTML object>"
      ]
     },
     "metadata": {},
     "output_type": "display_data"
    },
    {
     "name": "stdout",
     "output_type": "stream",
     "text": [
      "m1\n"
     ]
    },
    {
     "data": {
      "text/html": [
       "<pre style=\"margin: 0.1em;\n",
       "padding-left: 0.25em;\n",
       "border-left-style: solid;\n",
       "font-family: var(--jp-code-font-family);\n",
       "font-size: var(--jp-code-font-size);\n",
       "line-height: var(--jp-code-line-height);\n",
       "\"><span style=\"color: var(--jp-warn-color2)\">ATQueue</span> <span style=\"color: var(--jp-info-color0)\">INFO</span>: Configuration OK!</pre>"
      ],
      "text/plain": [
       "<IPython.core.display.HTML object>"
      ]
     },
     "metadata": {},
     "output_type": "display_data"
    },
    {
     "data": {
      "text/html": [
       "<pre style=\"margin: 0.1em;\n",
       "padding-left: 0.25em;\n",
       "border-left-style: solid;\n",
       "font-family: var(--jp-code-font-family);\n",
       "font-size: var(--jp-code-font-size);\n",
       "line-height: var(--jp-code-line-height);\n",
       "\"><span style=\"color: var(--jp-warn-color2)\">ATQueue</span> <span style=\"color: var(--jp-info-color0)\">INFO</span>: Configuration OK!</pre>"
      ],
      "text/plain": [
       "<IPython.core.display.HTML object>"
      ]
     },
     "metadata": {},
     "output_type": "display_data"
    },
    {
     "data": {
      "text/html": [
       "<pre style=\"margin: 0.1em;\n",
       "padding-left: 0.25em;\n",
       "border-left-style: solid;\n",
       "font-family: var(--jp-code-font-family);\n",
       "font-size: var(--jp-code-font-size);\n",
       "line-height: var(--jp-code-line-height);\n",
       "\"><span style=\"color: var(--jp-warn-color2)\">ATQueue</span> <span style=\"color: var(--jp-info-color0)\">INFO</span>: Configuration OK!</pre>"
      ],
      "text/plain": [
       "<IPython.core.display.HTML object>"
      ]
     },
     "metadata": {},
     "output_type": "display_data"
    },
    {
     "data": {
      "text/html": [
       "<pre style=\"margin: 0.1em;\n",
       "padding-left: 0.25em;\n",
       "border-left-style: solid;\n",
       "font-family: var(--jp-code-font-family);\n",
       "font-size: var(--jp-code-font-size);\n",
       "line-height: var(--jp-code-line-height);\n",
       "\"><span style=\"color: var(--jp-warn-color2)\">ATQueue</span> <span style=\"color: var(--jp-info-color0)\">INFO</span>: Configuration OK!</pre>"
      ],
      "text/plain": [
       "<IPython.core.display.HTML object>"
      ]
     },
     "metadata": {},
     "output_type": "display_data"
    },
    {
     "data": {
      "text/html": [
       "<pre style=\"margin: 0.1em;\n",
       "padding-left: 0.25em;\n",
       "border-left-style: solid;\n",
       "font-family: var(--jp-code-font-family);\n",
       "font-size: var(--jp-code-font-size);\n",
       "line-height: var(--jp-code-line-height);\n",
       "\"><span style=\"color: var(--jp-warn-color2)\">ATQueue</span> <span style=\"color: var(--jp-info-color0)\">INFO</span>: Configuration OK!</pre>"
      ],
      "text/plain": [
       "<IPython.core.display.HTML object>"
      ]
     },
     "metadata": {},
     "output_type": "display_data"
    },
    {
     "data": {
      "text/html": [
       "<pre style=\"margin: 0.1em;\n",
       "padding-left: 0.25em;\n",
       "border-left-style: solid;\n",
       "font-family: var(--jp-code-font-family);\n",
       "font-size: var(--jp-code-font-size);\n",
       "line-height: var(--jp-code-line-height);\n",
       "\"><span style=\"color: var(--jp-warn-color2)\">ATQueue</span> <span style=\"color: var(--jp-info-color0)\">INFO</span>: Configuration OK!</pre>"
      ],
      "text/plain": [
       "<IPython.core.display.HTML object>"
      ]
     },
     "metadata": {},
     "output_type": "display_data"
    },
    {
     "data": {
      "text/html": [
       "<pre style=\"margin: 0.1em;\n",
       "padding-left: 0.25em;\n",
       "border-left-style: solid;\n",
       "font-family: var(--jp-code-font-family);\n",
       "font-size: var(--jp-code-font-size);\n",
       "line-height: var(--jp-code-line-height);\n",
       "\"><span style=\"color: var(--jp-warn-color2)\">ATQueue</span> <span style=\"color: var(--jp-info-color0)\">INFO</span>: Configuration OK!</pre>"
      ],
      "text/plain": [
       "<IPython.core.display.HTML object>"
      ]
     },
     "metadata": {},
     "output_type": "display_data"
    },
    {
     "data": {
      "text/html": [
       "<pre style=\"margin: 0.1em;\n",
       "padding-left: 0.25em;\n",
       "border-left-style: solid;\n",
       "font-family: var(--jp-code-font-family);\n",
       "font-size: var(--jp-code-font-size);\n",
       "line-height: var(--jp-code-line-height);\n",
       "\"><span style=\"color: var(--jp-warn-color2)\">ATQueue</span> <span style=\"color: var(--jp-info-color0)\">INFO</span>: Configuration OK!</pre>"
      ],
      "text/plain": [
       "<IPython.core.display.HTML object>"
      ]
     },
     "metadata": {},
     "output_type": "display_data"
    },
    {
     "data": {
      "text/html": [
       "<pre style=\"margin: 0.1em;\n",
       "padding-left: 0.25em;\n",
       "border-left-style: solid;\n",
       "font-family: var(--jp-code-font-family);\n",
       "font-size: var(--jp-code-font-size);\n",
       "line-height: var(--jp-code-line-height);\n",
       "\"><span style=\"color: var(--jp-warn-color2)\">ATQueue</span> <span style=\"color: var(--jp-info-color0)\">INFO</span>: Configuration OK!</pre>"
      ],
      "text/plain": [
       "<IPython.core.display.HTML object>"
      ]
     },
     "metadata": {},
     "output_type": "display_data"
    },
    {
     "data": {
      "text/html": [
       "<pre style=\"margin: 0.1em;\n",
       "padding-left: 0.25em;\n",
       "border-left-style: solid;\n",
       "font-family: var(--jp-code-font-family);\n",
       "font-size: var(--jp-code-font-size);\n",
       "line-height: var(--jp-code-line-height);\n",
       "\"><span style=\"color: var(--jp-warn-color2)\">ATQueue</span> <span style=\"color: var(--jp-info-color0)\">INFO</span>: Configuration OK!</pre>"
      ],
      "text/plain": [
       "<IPython.core.display.HTML object>"
      ]
     },
     "metadata": {},
     "output_type": "display_data"
    }
   ],
   "source": [
    "script_path = \"auxtel/latiss_intra_extra_focal_data.py\"\n",
    "band_filter = 'r'\n",
    "exposure_time = 20\n",
    "\n",
    "for var, offset_list in offsets.items():\n",
    "    print(var)\n",
    "    for offset in offset_list:\n",
    "        script_config = {\n",
    "            'filter': f\"SDSS{band_filter}_65mm\", \n",
    "            'grating': 'empty_1',\n",
    "            'exposure_time': exposure_time,\n",
    "            f'offset_{var}': float(offset),\n",
    "            'reason': f'AOS_SM_offset_{var}_{offset:.3f}',\n",
    "            'program': 'SITCOM-681',\n",
    "        }\n",
    "        script_description=f\"Testing SITCOM-681 offset_{var} {offset}\"\n",
    "\n",
    "        await atq.validate_config(is_standard=False, script=script_path, config=script_config)\n",
    "\n",
    "        await atq.add_external(script=script_path, config=script_config, description=script_description)"
   ]
  },
  {
   "cell_type": "code",
   "execution_count": 43,
   "id": "362044af-ccfc-437a-aedc-f3285ac8cb27",
   "metadata": {
    "execution": {
     "iopub.execute_input": "2023-03-11T01:34:41.631027Z",
     "iopub.status.busy": "2023-03-11T01:34:41.630750Z",
     "iopub.status.idle": "2023-03-11T01:34:46.222691Z",
     "shell.execute_reply": "2023-03-11T01:34:46.222272Z",
     "shell.execute_reply.started": "2023-03-11T01:34:41.631009Z"
    },
    "tags": []
   },
   "outputs": [
    {
     "data": {
      "text/html": [
       "<pre style=\"margin: 0.1em;\n",
       "padding-left: 0.25em;\n",
       "border-left-style: solid;\n",
       "font-family: var(--jp-code-font-family);\n",
       "font-size: var(--jp-code-font-size);\n",
       "line-height: var(--jp-code-line-height);\n",
       "\"><span style=\"color: var(--jp-warn-color2)\">ATQueue</span> <span style=\"color: var(--jp-info-color0)\">INFO</span>: Configuration OK!</pre>"
      ],
      "text/plain": [
       "<IPython.core.display.HTML object>"
      ]
     },
     "metadata": {},
     "output_type": "display_data"
    }
   ],
   "source": [
    "script_path = \"auxtel/latiss_intra_extra_focal_data.py\"\n",
    "band_filter = 'r'\n",
    "exposure_time = 20\n",
    "\n",
    "script_config = dict(\n",
    "    filter = f\"SDSS{band_filter}_65mm\", \n",
    "    grating = 'empty_1',\n",
    "    take_detection_image = True,\n",
    "    exposure_time = 20,\n",
    "    reason = f'AOS_pointing_no_offset',\n",
    "    program = 'SITCOM-680'\n",
    ")\n",
    "script_description=f\"Testing SITCOM-680 pointing no offset\"\n",
    "\n",
    "await atq.validate_config(is_standard=False, script=script_path, config=script_config)\n",
    "\n",
    "await atq.add_external(script=script_path, config=script_config, description=script_description)"
   ]
  },
  {
   "cell_type": "markdown",
   "id": "ef45cc53-6946-4ff4-8b58-16089bb30ba3",
   "metadata": {},
   "source": [
    "## SITCOM-684 Medium density fields\n"
   ]
  },
  {
   "cell_type": "code",
   "execution_count": null,
   "id": "f044bf48-d2c6-445f-94c2-2ec570c97e1b",
   "metadata": {},
   "outputs": [],
   "source": [
    "target_labels = ['MWSC 1728', 'MWSC 1497', 'MWSC 1300', 'MWSC 1159', 'MWSC 1151']\n",
    "target_ra = [148.867, 127.800, 114.922, 109.252, 108.625]\n",
    "target_dec = [-28.965, -44.505, -27.295, -17.155, -21.123]"
   ]
  },
  {
   "cell_type": "code",
   "execution_count": null,
   "id": "e0fb4ac3-115d-46d1-8497-1dfbcce3c125",
   "metadata": {},
   "outputs": [],
   "source": [
    "script_path = \"auxtel/latiss_intra_extra_focal_data.py\"\n",
    "band_filter = 'r'\n",
    "\n",
    "for idx, target_name in enumerate(target_labels):\n",
    "\n",
    "    script_config = dict(\n",
    "        track_target = dict(\n",
    "            target_name = target_name,\n",
    "            icrs = dict(\n",
    "                ra = target_ra[idx]*24/360,\n",
    "                dec = target_dec[idx]\n",
    "            )\n",
    "        )\n",
    "        filter = f\"SDSS{band_filter}_65mm\", \n",
    "        grating = 'empty_1',\n",
    "        exposure_time = 20,\n",
    "        reason = 'AOS_medium_density',\n",
    "        program = 'SITCOM-684'\n",
    "    )\n",
    "    script_description=f\"Testing SITCOM-684 Medium density field analysis\"\n",
    "    \n",
    "    await atq.validate_config(is_standard=False, script=script_path, config=script_config)\n",
    "\n",
    "    await atq.add_external(script=script_path, config=script_config, description=script_description)"
   ]
  },
  {
   "cell_type": "markdown",
   "id": "3b09ce25-3055-49a8-9665-80ebde08b8ce",
   "metadata": {},
   "source": [
    "## SITCOM-683 Giant Donuts\n"
   ]
  },
  {
   "cell_type": "code",
   "execution_count": null,
   "id": "3b04ed43-442b-4326-a308-a4a846f1571f",
   "metadata": {},
   "outputs": [],
   "source": [
    "script_path = \"auxtel/latiss_intra_extra_focal_data.py\"\n",
    "band_filter = 'r'\n",
    "dz = 0.8 #default mm\n",
    "\n",
    "script_config = dict(\n",
    "    filter = f\"SDSS{band_filter}_65mm\", \n",
    "    grating = 'empty_1',\n",
    "    dz = dz,\n",
    "    reason = 'AOS_Giant_Donut',\n",
    "    program = 'SITCOM-683'\n",
    ")\n",
    "script_description=f\"Testing SITCOM-683 Giant Donuts, giant donut dz {dz} mm\"\n",
    "\n",
    "await atq.validate_config(is_standard=False, script=script_path, config=script_config)\n",
    "\n",
    "await atq.add_external(script=script_path, config=script_config, description=script_description)"
   ]
  },
  {
   "cell_type": "markdown",
   "id": "7aac85e1-4553-4d43-b6e5-3117690a602e",
   "metadata": {},
   "source": [
    "## SITCOM-685 Exposure time"
   ]
  },
  {
   "cell_type": "code",
   "execution_count": 57,
   "id": "04853dcc-831b-40c0-b8f1-b59022ec012e",
   "metadata": {
    "execution": {
     "iopub.execute_input": "2023-03-11T02:37:31.177654Z",
     "iopub.status.busy": "2023-03-11T02:37:31.177290Z",
     "iopub.status.idle": "2023-03-11T02:38:04.649877Z",
     "shell.execute_reply": "2023-03-11T02:38:04.649354Z",
     "shell.execute_reply.started": "2023-03-11T02:37:31.177635Z"
    }
   },
   "outputs": [
    {
     "data": {
      "text/html": [
       "<pre style=\"margin: 0.1em;\n",
       "padding-left: 0.25em;\n",
       "border-left-style: solid;\n",
       "font-family: var(--jp-code-font-family);\n",
       "font-size: var(--jp-code-font-size);\n",
       "line-height: var(--jp-code-line-height);\n",
       "\"><span style=\"color: var(--jp-warn-color2)\">ATQueue</span> <span style=\"color: var(--jp-info-color0)\">INFO</span>: Configuration OK!</pre>"
      ],
      "text/plain": [
       "<IPython.core.display.HTML object>"
      ]
     },
     "metadata": {},
     "output_type": "display_data"
    },
    {
     "data": {
      "text/html": [
       "<pre style=\"margin: 0.1em;\n",
       "padding-left: 0.25em;\n",
       "border-left-style: solid;\n",
       "font-family: var(--jp-code-font-family);\n",
       "font-size: var(--jp-code-font-size);\n",
       "line-height: var(--jp-code-line-height);\n",
       "\"><span style=\"color: var(--jp-warn-color2)\">ATQueue</span> <span style=\"color: var(--jp-info-color0)\">INFO</span>: Configuration OK!</pre>"
      ],
      "text/plain": [
       "<IPython.core.display.HTML object>"
      ]
     },
     "metadata": {},
     "output_type": "display_data"
    },
    {
     "data": {
      "text/html": [
       "<pre style=\"margin: 0.1em;\n",
       "padding-left: 0.25em;\n",
       "border-left-style: solid;\n",
       "font-family: var(--jp-code-font-family);\n",
       "font-size: var(--jp-code-font-size);\n",
       "line-height: var(--jp-code-line-height);\n",
       "\"><span style=\"color: var(--jp-warn-color2)\">ATQueue</span> <span style=\"color: var(--jp-info-color0)\">INFO</span>: Configuration OK!</pre>"
      ],
      "text/plain": [
       "<IPython.core.display.HTML object>"
      ]
     },
     "metadata": {},
     "output_type": "display_data"
    },
    {
     "data": {
      "text/html": [
       "<pre style=\"margin: 0.1em;\n",
       "padding-left: 0.25em;\n",
       "border-left-style: solid;\n",
       "font-family: var(--jp-code-font-family);\n",
       "font-size: var(--jp-code-font-size);\n",
       "line-height: var(--jp-code-line-height);\n",
       "\"><span style=\"color: var(--jp-warn-color2)\">ATQueue</span> <span style=\"color: var(--jp-info-color0)\">INFO</span>: Configuration OK!</pre>"
      ],
      "text/plain": [
       "<IPython.core.display.HTML object>"
      ]
     },
     "metadata": {},
     "output_type": "display_data"
    },
    {
     "data": {
      "text/html": [
       "<pre style=\"margin: 0.1em;\n",
       "padding-left: 0.25em;\n",
       "border-left-style: solid;\n",
       "font-family: var(--jp-code-font-family);\n",
       "font-size: var(--jp-code-font-size);\n",
       "line-height: var(--jp-code-line-height);\n",
       "\"><span style=\"color: var(--jp-warn-color2)\">ATQueue</span> <span style=\"color: var(--jp-info-color0)\">INFO</span>: Configuration OK!</pre>"
      ],
      "text/plain": [
       "<IPython.core.display.HTML object>"
      ]
     },
     "metadata": {},
     "output_type": "display_data"
    },
    {
     "data": {
      "text/html": [
       "<pre style=\"margin: 0.1em;\n",
       "padding-left: 0.25em;\n",
       "border-left-style: solid;\n",
       "font-family: var(--jp-code-font-family);\n",
       "font-size: var(--jp-code-font-size);\n",
       "line-height: var(--jp-code-line-height);\n",
       "\"><span style=\"color: var(--jp-warn-color2)\">ATQueue</span> <span style=\"color: var(--jp-info-color0)\">INFO</span>: Configuration OK!</pre>"
      ],
      "text/plain": [
       "<IPython.core.display.HTML object>"
      ]
     },
     "metadata": {},
     "output_type": "display_data"
    },
    {
     "data": {
      "text/html": [
       "<pre style=\"margin: 0.1em;\n",
       "padding-left: 0.25em;\n",
       "border-left-style: solid;\n",
       "font-family: var(--jp-code-font-family);\n",
       "font-size: var(--jp-code-font-size);\n",
       "line-height: var(--jp-code-line-height);\n",
       "\"><span style=\"color: var(--jp-warn-color2)\">ATQueue</span> <span style=\"color: var(--jp-info-color0)\">INFO</span>: Configuration OK!</pre>"
      ],
      "text/plain": [
       "<IPython.core.display.HTML object>"
      ]
     },
     "metadata": {},
     "output_type": "display_data"
    }
   ],
   "source": [
    "script_path = \"auxtel/latiss_intra_extra_focal_data.py\"\n",
    "band_filter = 'r'\n",
    "exposure_times = [20, 40, 60, 80, 100, 120, 160] #default s\n",
    "\n",
    "for exposure_time in exposure_times:\n",
    "    script_config = dict(\n",
    "        filter = f\"SDSS{band_filter}_65mm\", \n",
    "        grating = 'empty_1',\n",
    "        exposure_time = exposure_time,\n",
    "        reason = f'AOS_Exposure_time_{exposure_time}',\n",
    "        program = 'SITCOM-685'\n",
    "    )\n",
    "    script_description=f\"Testing SITCOM-685 exposure time {exposure_time}\"\n",
    "\n",
    "    await atq.validate_config(is_standard=False, script=script_path, config=script_config)\n",
    "\n",
    "    await atq.add_external(script=script_path, config=script_config, description=script_description)"
   ]
  },
  {
   "cell_type": "markdown",
   "id": "f15eaf85-81b1-485d-bb2b-2ce5f65d25b3",
   "metadata": {},
   "source": [
    "## SITCOM-682 Double stars"
   ]
  },
  {
   "cell_type": "code",
   "execution_count": null,
   "id": "96384a2c-dfd8-4371-b192-a61742e5fc0b",
   "metadata": {},
   "outputs": [],
   "source": [
    "targets = ['STF 956', 'S 563', 'DUN 71', 'HJ 4299', 'DUN 149', 'HJ 561']\n",
    "\n",
    "\n",
    "06h42m40.55s   +01d42m58.2s \n",
    "08h08m29.64s   -19d51m36.8s\n",
    "08h30m34.41s   -40d30m42.0s\n",
    "10h13m21.19s   -50d54m27.2s\n",
    "13h53m32.71s   -38d15m57.7s\n",
    "14h56m37.90s   -14d06m14.7s\n",
    "\n",
    "ra = 14+56/60+37.90/60/60,\n",
    "dec = -14-6/60-14.7/60/60"
   ]
  },
  {
   "cell_type": "code",
   "execution_count": 21,
   "id": "4858c2c8-61fd-4f03-8475-fecb9c977dd1",
   "metadata": {
    "execution": {
     "iopub.execute_input": "2023-03-11T06:06:04.717970Z",
     "iopub.status.busy": "2023-03-11T06:06:04.717589Z",
     "iopub.status.idle": "2023-03-11T06:06:09.325999Z",
     "shell.execute_reply": "2023-03-11T06:06:09.325502Z",
     "shell.execute_reply.started": "2023-03-11T06:06:04.717951Z"
    },
    "tags": []
   },
   "outputs": [
    {
     "data": {
      "text/html": [
       "<pre style=\"margin: 0.1em;\n",
       "padding-left: 0.25em;\n",
       "border-left-style: solid;\n",
       "font-family: var(--jp-code-font-family);\n",
       "font-size: var(--jp-code-font-size);\n",
       "line-height: var(--jp-code-line-height);\n",
       "\"><span style=\"color: var(--jp-warn-color2)\">ATQueue</span> <span style=\"color: var(--jp-info-color0)\">INFO</span>: Configuration OK!</pre>"
      ],
      "text/plain": [
       "<IPython.core.display.HTML object>"
      ]
     },
     "metadata": {},
     "output_type": "display_data"
    }
   ],
   "source": [
    "script_path = \"auxtel/latiss_intra_extra_focal_data.py\"\n",
    "band_filter = 'r'\n",
    "dz = 6 #default mm\n",
    "\n",
    "script_config = dict(\n",
    "    dz = dz,\n",
    "    filter = f\"SDSS{band_filter}_65mm\", \n",
    "    grating = 'empty_1',\n",
    "    reason = f'AOS_Giant_Donut_HJ_561_dz_{dz}mm',\n",
    "    program = 'SITCOM-683'\n",
    ")\n",
    "script_description=f\"Testing SITCOM-683 Giant Donuts\"\n",
    "\n",
    "await atq.validate_config(is_standard=False, script=script_path, config=script_config)\n",
    "\n",
    "await atq.add_external(script=script_path, config=script_config, description=script_description)"
   ]
  },
  {
   "cell_type": "code",
   "execution_count": 15,
   "id": "0644a93b-b30e-4ccf-96bb-c81416b46859",
   "metadata": {
    "execution": {
     "iopub.execute_input": "2023-03-11T05:51:55.615423Z",
     "iopub.status.busy": "2023-03-11T05:51:55.615060Z",
     "iopub.status.idle": "2023-03-11T05:51:55.619268Z",
     "shell.execute_reply": "2023-03-11T05:51:55.618736Z",
     "shell.execute_reply.started": "2023-03-11T05:51:55.615404Z"
    },
    "tags": []
   },
   "outputs": [
    {
     "data": {
      "text/plain": [
       "13.892419444444444"
      ]
     },
     "execution_count": 15,
     "metadata": {},
     "output_type": "execute_result"
    }
   ],
   "source": [
    "ra = 13+53/60+32.71/60/60,\n",
    "dec = -38-15/60-57.7/60/60"
   ]
  },
  {
   "cell_type": "code",
   "execution_count": 16,
   "id": "0290dd2d-2b20-4a0d-8880-d51e0ca0bde0",
   "metadata": {
    "execution": {
     "iopub.execute_input": "2023-03-11T05:54:01.271147Z",
     "iopub.status.busy": "2023-03-11T05:54:01.270777Z",
     "iopub.status.idle": "2023-03-11T05:54:01.275060Z",
     "shell.execute_reply": "2023-03-11T05:54:01.274575Z",
     "shell.execute_reply.started": "2023-03-11T05:54:01.271129Z"
    }
   },
   "outputs": [
    {
     "data": {
      "text/plain": [
       "-38.26602777777778"
      ]
     },
     "execution_count": 16,
     "metadata": {},
     "output_type": "execute_result"
    }
   ],
   "source": [
    "-38-15/60-57.7/60/60"
   ]
  },
  {
   "cell_type": "code",
   "execution_count": null,
   "id": "648cc574-0817-407e-b769-5ae6ed8e25ed",
   "metadata": {},
   "outputs": [],
   "source": []
  }
 ],
 "metadata": {
  "kernelspec": {
   "display_name": "LSST",
   "language": "python",
   "name": "lsst"
  },
  "language_info": {
   "codemirror_mode": {
    "name": "ipython",
    "version": 3
   },
   "file_extension": ".py",
   "mimetype": "text/x-python",
   "name": "python",
   "nbconvert_exporter": "python",
   "pygments_lexer": "ipython3",
   "version": "3.10.9"
  }
 },
 "nbformat": 4,
 "nbformat_minor": 5
}
