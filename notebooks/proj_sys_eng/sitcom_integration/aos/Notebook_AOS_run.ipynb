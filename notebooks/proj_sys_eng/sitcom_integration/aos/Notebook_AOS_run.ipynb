{
 "cells": [
  {
   "cell_type": "code",
   "execution_count": 1,
   "id": "78622005-7d8c-452f-af9e-a359f9a9a089",
   "metadata": {
    "execution": {
     "iopub.execute_input": "2023-03-10T20:21:04.572785Z",
     "iopub.status.busy": "2023-03-10T20:21:04.572655Z",
     "iopub.status.idle": "2023-03-10T20:21:07.492335Z",
     "shell.execute_reply": "2023-03-10T20:21:07.491726Z",
     "shell.execute_reply.started": "2023-03-10T20:21:04.572770Z"
    },
    "tags": []
   },
   "outputs": [
    {
     "data": {
      "text/html": [
       "<pre style=\"margin: 0.1em;\n",
       "padding-left: 0.25em;\n",
       "border-left-style: solid;\n",
       "font-family: var(--jp-code-font-family);\n",
       "font-size: var(--jp-code-font-size);\n",
       "line-height: var(--jp-code-line-height);\n",
       "\"><span style=\"color: var(--jp-warn-color2)\">lsst.ts.utils.tai</span> <span style=\"color: var(--jp-info-color0)\">INFO</span>: Update leap second table</pre>"
      ],
      "text/plain": [
       "<IPython.core.display.HTML object>"
      ]
     },
     "metadata": {},
     "output_type": "display_data"
    },
    {
     "data": {
      "text/html": [
       "<pre style=\"margin: 0.1em;\n",
       "padding-left: 0.25em;\n",
       "border-left-style: solid;\n",
       "font-family: var(--jp-code-font-family);\n",
       "font-size: var(--jp-code-font-size);\n",
       "line-height: var(--jp-code-line-height);\n",
       "\"><span style=\"color: var(--jp-warn-color2)\">lsst.ts.utils.tai</span> <span style=\"color: var(--jp-info-color0)\">INFO</span>: current_tai uses the system TAI clock</pre>"
      ],
      "text/plain": [
       "<IPython.core.display.HTML object>"
      ]
     },
     "metadata": {},
     "output_type": "display_data"
    }
   ],
   "source": [
    "import yaml\n",
    "import logging\n",
    "import jsonschema\n",
    "\n",
    "from lsst.ts import salobj\n",
    "from lsst.ts.observatory.control.auxtel import ATQueue\n",
    "from lsst.ts.idl.enums.ScriptQueue import Location, SalIndex"
   ]
  },
  {
   "cell_type": "markdown",
   "id": "e1b753f4-0f5d-4a68-94e0-a55bb68e403a",
   "metadata": {},
   "source": [
    "## Start Auxiliary Telescope"
   ]
  },
  {
   "cell_type": "code",
   "execution_count": 2,
   "id": "72192a9a-22fb-4876-bf6d-775beea65bb1",
   "metadata": {
    "execution": {
     "iopub.execute_input": "2023-03-10T20:21:07.495351Z",
     "iopub.status.busy": "2023-03-10T20:21:07.495030Z",
     "iopub.status.idle": "2023-03-10T20:21:07.520498Z",
     "shell.execute_reply": "2023-03-10T20:21:07.520024Z",
     "shell.execute_reply.started": "2023-03-10T20:21:07.495334Z"
    },
    "tags": []
   },
   "outputs": [],
   "source": [
    "domain = salobj.Domain()\n",
    "atq = ATQueue(domain = domain)\n",
    "await atq.start_task"
   ]
  },
  {
   "cell_type": "code",
   "execution_count": null,
   "id": "81d7d3c0-8278-48a7-bc05-d5f170033e7e",
   "metadata": {},
   "outputs": [],
   "source": [
    "filter_names = ['SDSSg_65mm']"
   ]
  },
  {
   "cell_type": "markdown",
   "id": "b5869f8a-8e48-4c8d-baea-212ecb704177",
   "metadata": {},
   "source": [
    "## Align telescope"
   ]
  },
  {
   "cell_type": "code",
   "execution_count": null,
   "id": "b3869d2b-885b-4458-8728-ef8359ea12a6",
   "metadata": {},
   "outputs": [],
   "source": [
    "script_path = \"auxtel/latiss_wep_align.py\"\n",
    "band_filter = 'r'\n",
    "\n",
    "script_config = dict(\n",
    "    track_target = dict(\n",
    "        target_name = 'MWSC 1728',\n",
    "        icrs = dict(\n",
    "            ra = 148.867*24/360,\n",
    "            dec = -28.965\n",
    "        )\n",
    "    )\n",
    "    filter = f\"SDSS{band_filter}_65mm\", \n",
    "    grating = 'empty_1',\n",
    "    exposure_time = 20,\n",
    "    offset_x = 0.2, \n",
    "    reason = 'AOS_align',\n",
    "    program = 'SITCOM-680'\n",
    ")\n",
    "script_description=f\"Testing SITCOM-680 offset {x_offset}\"\n",
    "\n",
    "await atq.validate_config(is_standard=False, script=script_path, config=script_config)\n",
    "\n",
    "await atq.add_external(script=script_path, config=script_config, description=script_description)"
   ]
  },
  {
   "cell_type": "markdown",
   "id": "d736b122-41a2-4a2f-880f-9e0633531021",
   "metadata": {},
   "source": [
    "## Sensitivity matrix"
   ]
  },
  {
   "cell_type": "code",
   "execution_count": 9,
   "id": "a935b9ca-228b-48aa-9127-00b493f76216",
   "metadata": {
    "execution": {
     "iopub.execute_input": "2023-03-10T20:28:09.150514Z",
     "iopub.status.busy": "2023-03-10T20:28:09.150235Z",
     "iopub.status.idle": "2023-03-10T20:28:09.153304Z",
     "shell.execute_reply": "2023-03-10T20:28:09.152927Z",
     "shell.execute_reply.started": "2023-03-10T20:28:09.150495Z"
    },
    "tags": []
   },
   "outputs": [],
   "source": [
    "for x_offset in [0.2, 0.3]:\n",
    "    script_path = \"auxtel/latiss_intra_extra_focal_data.py\"\n",
    "    script_config = dict(\n",
    "        filter = \"SDSSr_65mm\", \n",
    "        grating = 'empty_1',\n",
    "        exposure_time = 20,\n",
    "        offset_x = x_offset, \n",
    "        reason = 'AOS_SM_dx',\n",
    "        program = 'SITCOM-681'\n",
    "    )\n",
    "    script_description=f\"Testing SITCOM-681 offset {x_offset}\"\n",
    "    \n",
    "    await atq.validate_config(is_standard=False, script=script_path, config=script_config)\n",
    "\n",
    "    await atq.add_external(script=script_path, config=script_config, description=script_description)"
   ]
  },
  {
   "cell_type": "markdown",
   "id": "ef45cc53-6946-4ff4-8b58-16089bb30ba3",
   "metadata": {},
   "source": [
    "Medium density fields\n"
   ]
  },
  {
   "cell_type": "code",
   "execution_count": null,
   "id": "f044bf48-d2c6-445f-94c2-2ec570c97e1b",
   "metadata": {},
   "outputs": [],
   "source": [
    "target_labels = ['MWSC 1728', 'MWSC 1497', 'MWSC 1300', 'MWSC 1159', 'MWSC 1151']\n",
    "target_ra = [148.867, 127.800, 114.922, 109.252, 108.625]\n",
    "target_dec = [-28.965, -44.505, -27.295, -17.155, -21.123]"
   ]
  }
 ],
 "metadata": {
  "kernelspec": {
   "display_name": "LSST",
   "language": "python",
   "name": "lsst"
  },
  "language_info": {
   "codemirror_mode": {
    "name": "ipython",
    "version": 3
   },
   "file_extension": ".py",
   "mimetype": "text/x-python",
   "name": "python",
   "nbconvert_exporter": "python",
   "pygments_lexer": "ipython3",
   "version": "3.10.9"
  }
 },
 "nbformat": 4,
 "nbformat_minor": 5
}
