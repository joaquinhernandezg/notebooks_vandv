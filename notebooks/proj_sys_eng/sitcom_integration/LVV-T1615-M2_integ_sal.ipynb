{
 "cells": [
  {
   "cell_type": "markdown",
   "id": "a6659203-b09f-48af-a8ac-9d8655230f6e",
   "metadata": {},
   "source": [
    "# [LVV-1615 (v1.0)] - M2 Integration with SAL\n",
    "\n",
    "[LVV-1615 (v1.0)]: https://jira.lsstcorp.org/secure/Tests.jspa#/testCase/LVV-T1615"
   ]
  },
  {
   "cell_type": "code",
   "execution_count": 1,
   "id": "7c08c731-3a91-4ef4-8587-21a9a380bbca",
   "metadata": {},
   "outputs": [],
   "source": [
    "%load_ext autoreload\n",
    "%autoreload 2"
   ]
  },
  {
   "cell_type": "code",
   "execution_count": 2,
   "id": "591d55a2-ae4c-4749-b534-c3f7e269e04c",
   "metadata": {},
   "outputs": [
    {
     "name": "stderr",
     "output_type": "stream",
     "text": [
      "/tmp/ipykernel_21772/1665379685.py:2: DeprecationWarning: Call to deprecated function (or staticmethod) get_node. (Please use lsst.rsp.get_node())\n",
      "  nb.utils.get_node()\n"
     ]
    },
    {
     "data": {
      "text/plain": [
       "'yagan07'"
      ]
     },
     "execution_count": 2,
     "metadata": {},
     "output_type": "execute_result"
    }
   ],
   "source": [
    "import rubin_jupyter_utils.lab.notebook as nb\n",
    "nb.utils.get_node()"
   ]
  },
  {
   "cell_type": "code",
   "execution_count": 3,
   "id": "ade4bf3d-8cbb-44bc-833d-0505190c1778",
   "metadata": {},
   "outputs": [
    {
     "data": {
      "text/html": [
       "<pre style=\"margin: 0.1em;\n",
       "padding-left: 0.25em;\n",
       "border-left-style: solid;\n",
       "font-family: var(--jp-code-font-family);\n",
       "font-size: var(--jp-code-font-size);\n",
       "line-height: var(--jp-code-line-height);\n",
       "\"><span style=\"color: var(--jp-warn-color2)\">lsst.ts.utils.tai</span> <span style=\"color: var(--jp-info-color0)\">INFO</span>: Update leap second table</pre>"
      ],
      "text/plain": [
       "<IPython.core.display.HTML object>"
      ]
     },
     "metadata": {},
     "output_type": "display_data"
    },
    {
     "data": {
      "text/html": [
       "<pre style=\"margin: 0.1em;\n",
       "padding-left: 0.25em;\n",
       "border-left-style: solid;\n",
       "font-family: var(--jp-code-font-family);\n",
       "font-size: var(--jp-code-font-size);\n",
       "line-height: var(--jp-code-line-height);\n",
       "\"><span style=\"color: var(--jp-warn-color2)\">lsst.ts.utils.tai</span> <span style=\"color: var(--jp-info-color0)\">INFO</span>: current_tai uses the system TAI clock</pre>"
      ],
      "text/plain": [
       "<IPython.core.display.HTML object>"
      ]
     },
     "metadata": {},
     "output_type": "display_data"
    },
    {
     "name": "stdout",
     "output_type": "stream",
     "text": [
      "\n",
      "Executed by isotuela on 2022-06-15T15:15:36.897.\n",
      "  Running in yagan07 at summit\n",
      "\n"
     ]
    }
   ],
   "source": [
    "from lsst.sitcom import vandv\n",
    "\n",
    "exec_info = vandv.ExecutionInfo()\n",
    "print(exec_info)"
   ]
  },
  {
   "cell_type": "code",
   "execution_count": 4,
   "id": "94cd4b12-70ff-4fab-ba08-4875a66059b6",
   "metadata": {},
   "outputs": [],
   "source": [
    "import asyncio\n",
    "import os\n",
    "import yaml\n",
    "\n",
    "import astropy.units as u\n",
    "import numpy as np\n",
    "import matplotlib.pyplot as plt\n",
    "import pandas as pd\n",
    "\n",
    "from astropy import time \n",
    "from astropy.coordinates import AltAz, ICRS, EarthLocation, Angle, FK5\n",
    "from datetime import datetime, timedelta\n",
    "\n",
    "from lsst_efd_client import EfdClient\n",
    "from lsst.ts import utils, salobj\n",
    "from lsst.ts.cRIOpy import M1M3FATable\n",
    "from lsst.ts.observatory.control.maintel.mtcs import MTCS, MTCSUsages\n",
    "from lsst.ts.observatory.control import RotType\n",
    "\n",
    "import lsst.sitcom.vandv as vandv"
   ]
  },
  {
   "cell_type": "code",
   "execution_count": 5,
   "id": "6ccfe8bb-3341-49db-9813-977ae4fff3b3",
   "metadata": {},
   "outputs": [
    {
     "name": "stdout",
     "output_type": "stream",
     "text": [
      "file:///opt/lsst/software/stack/conda/miniconda3-py38_4.9.2/envs/lsst-scipipe-3.0.0/lib/python3.8/config/ospl-shmem.xml\n",
      "summit\n"
     ]
    },
    {
     "ename": "KeyError",
     "evalue": "'LSST_DDS_DOMAIN_ID'",
     "output_type": "error",
     "traceback": [
      "\u001b[0;31m---------------------------------------------------------------------------\u001b[0m",
      "\u001b[0;31mKeyError\u001b[0m                                  Traceback (most recent call last)",
      "Input \u001b[0;32mIn [5]\u001b[0m, in \u001b[0;36m<cell line: 3>\u001b[0;34m()\u001b[0m\n\u001b[1;32m      1\u001b[0m \u001b[38;5;28mprint\u001b[39m(os\u001b[38;5;241m.\u001b[39menviron[\u001b[38;5;124m\"\u001b[39m\u001b[38;5;124mOSPL_URI\u001b[39m\u001b[38;5;124m\"\u001b[39m])\n\u001b[1;32m      2\u001b[0m \u001b[38;5;28mprint\u001b[39m(os\u001b[38;5;241m.\u001b[39menviron[\u001b[38;5;124m\"\u001b[39m\u001b[38;5;124mLSST_DDS_PARTITION_PREFIX\u001b[39m\u001b[38;5;124m\"\u001b[39m])\n\u001b[0;32m----> 3\u001b[0m \u001b[38;5;28mprint\u001b[39m(\u001b[43mos\u001b[49m\u001b[38;5;241;43m.\u001b[39;49m\u001b[43menviron\u001b[49m\u001b[43m[\u001b[49m\u001b[38;5;124;43m\"\u001b[39;49m\u001b[38;5;124;43mLSST_DDS_DOMAIN_ID\u001b[39;49m\u001b[38;5;124;43m\"\u001b[39;49m\u001b[43m]\u001b[49m)\n",
      "File \u001b[0;32m/opt/lsst/software/stack/conda/miniconda3-py38_4.9.2/envs/lsst-scipipe-3.0.0/lib/python3.8/os.py:675\u001b[0m, in \u001b[0;36m_Environ.__getitem__\u001b[0;34m(self, key)\u001b[0m\n\u001b[1;32m    672\u001b[0m     value \u001b[38;5;241m=\u001b[39m \u001b[38;5;28mself\u001b[39m\u001b[38;5;241m.\u001b[39m_data[\u001b[38;5;28mself\u001b[39m\u001b[38;5;241m.\u001b[39mencodekey(key)]\n\u001b[1;32m    673\u001b[0m \u001b[38;5;28;01mexcept\u001b[39;00m \u001b[38;5;167;01mKeyError\u001b[39;00m:\n\u001b[1;32m    674\u001b[0m     \u001b[38;5;66;03m# raise KeyError with the original key value\u001b[39;00m\n\u001b[0;32m--> 675\u001b[0m     \u001b[38;5;28;01mraise\u001b[39;00m \u001b[38;5;167;01mKeyError\u001b[39;00m(key) \u001b[38;5;28;01mfrom\u001b[39;00m \u001b[38;5;28mNone\u001b[39m\n\u001b[1;32m    676\u001b[0m \u001b[38;5;28;01mreturn\u001b[39;00m \u001b[38;5;28mself\u001b[39m\u001b[38;5;241m.\u001b[39mdecodevalue(value)\n",
      "\u001b[0;31mKeyError\u001b[0m: 'LSST_DDS_DOMAIN_ID'"
     ]
    }
   ],
   "source": [
    "print(os.environ[\"OSPL_URI\"])\n",
    "print(os.environ[\"LSST_DDS_PARTITION_PREFIX\"])\n",
    "print(os.environ[\"LSST_DDS_DOMAIN_ID\"])"
   ]
  },
  {
   "cell_type": "code",
   "execution_count": 6,
   "id": "3e96b5fc-81dc-4b92-9e02-991a5e60644c",
   "metadata": {},
   "outputs": [],
   "source": [
    "logging.basicConfig(format=\"%(name)s:%(message)s\", level=logging.DEBUG)"
   ]
  },
  {
   "cell_type": "code",
   "execution_count": 7,
   "id": "f4603745-6d97-46cf-8f01-0aa4d03e0772",
   "metadata": {},
   "outputs": [],
   "source": [
    "log = logging.getLogger(\"setup\")\n",
    "log.level = logging.DEBUG"
   ]
  },
  {
   "cell_type": "code",
   "execution_count": 8,
   "id": "676a2985-9302-4483-a4e5-e5dc1786d918",
   "metadata": {},
   "outputs": [],
   "source": [
    "domain = salobj.Domain()"
   ]
  },
  {
   "cell_type": "code",
   "execution_count": 9,
   "id": "a9b26fec-9a8e-4206-9d8a-9c9c67fad352",
   "metadata": {},
   "outputs": [
    {
     "data": {
      "text/html": [
       "<pre style=\"margin: 0.1em;\n",
       "padding-left: 0.25em;\n",
       "border-left-style: solid;\n",
       "font-family: var(--jp-code-font-family);\n",
       "font-size: var(--jp-code-font-size);\n",
       "line-height: var(--jp-code-line-height);\n",
       "\"><span style=\"color: var(--jp-warn-color2)\">setup.MTCS</span> <span style=\"color: var(--jp-success-color0)\">DEBUG</span>: mtmount: Adding all resources.</pre>"
      ],
      "text/plain": [
       "<IPython.core.display.HTML object>"
      ]
     },
     "metadata": {},
     "output_type": "display_data"
    },
    {
     "data": {
      "text/html": [
       "<pre style=\"margin: 0.1em;\n",
       "padding-left: 0.25em;\n",
       "border-left-style: solid;\n",
       "font-family: var(--jp-code-font-family);\n",
       "font-size: var(--jp-code-font-size);\n",
       "line-height: var(--jp-code-line-height);\n",
       "\"><span style=\"color: var(--jp-warn-color2)\">setup.MTCS</span> <span style=\"color: var(--jp-success-color0)\">DEBUG</span>: mtptg: Adding all resources.</pre>"
      ],
      "text/plain": [
       "<IPython.core.display.HTML object>"
      ]
     },
     "metadata": {},
     "output_type": "display_data"
    },
    {
     "data": {
      "text/html": [
       "<pre style=\"margin: 0.1em;\n",
       "padding-left: 0.25em;\n",
       "border-left-style: solid;\n",
       "font-family: var(--jp-code-font-family);\n",
       "font-size: var(--jp-code-font-size);\n",
       "line-height: var(--jp-code-line-height);\n",
       "\"><span style=\"color: var(--jp-warn-color2)\">setup.MTCS</span> <span style=\"color: var(--jp-success-color0)\">DEBUG</span>: mtaos: Adding all resources.</pre>"
      ],
      "text/plain": [
       "<IPython.core.display.HTML object>"
      ]
     },
     "metadata": {},
     "output_type": "display_data"
    },
    {
     "data": {
      "text/html": [
       "<pre style=\"margin: 0.1em;\n",
       "padding-left: 0.25em;\n",
       "border-left-style: solid;\n",
       "font-family: var(--jp-code-font-family);\n",
       "font-size: var(--jp-code-font-size);\n",
       "line-height: var(--jp-code-line-height);\n",
       "\"><span style=\"color: var(--jp-warn-color2)\">setup.MTCS</span> <span style=\"color: var(--jp-success-color0)\">DEBUG</span>: mtm1m3: Adding all resources.</pre>"
      ],
      "text/plain": [
       "<IPython.core.display.HTML object>"
      ]
     },
     "metadata": {},
     "output_type": "display_data"
    },
    {
     "data": {
      "text/html": [
       "<pre style=\"margin: 0.1em;\n",
       "padding-left: 0.25em;\n",
       "border-left-style: solid;\n",
       "font-family: var(--jp-code-font-family);\n",
       "font-size: var(--jp-code-font-size);\n",
       "line-height: var(--jp-code-line-height);\n",
       "\"><span style=\"color: var(--jp-warn-color2)\">setup.MTCS</span> <span style=\"color: var(--jp-success-color0)\">DEBUG</span>: mtm2: Adding all resources.</pre>"
      ],
      "text/plain": [
       "<IPython.core.display.HTML object>"
      ]
     },
     "metadata": {},
     "output_type": "display_data"
    },
    {
     "data": {
      "text/html": [
       "<pre style=\"margin: 0.1em;\n",
       "padding-left: 0.25em;\n",
       "border-left-style: solid;\n",
       "font-family: var(--jp-code-font-family);\n",
       "font-size: var(--jp-code-font-size);\n",
       "line-height: var(--jp-code-line-height);\n",
       "\"><span style=\"color: var(--jp-warn-color2)\">setup.MTCS</span> <span style=\"color: var(--jp-success-color0)\">DEBUG</span>: mthexapod_1: Adding all resources.</pre>"
      ],
      "text/plain": [
       "<IPython.core.display.HTML object>"
      ]
     },
     "metadata": {},
     "output_type": "display_data"
    },
    {
     "data": {
      "text/html": [
       "<pre style=\"margin: 0.1em;\n",
       "padding-left: 0.25em;\n",
       "border-left-style: solid;\n",
       "font-family: var(--jp-code-font-family);\n",
       "font-size: var(--jp-code-font-size);\n",
       "line-height: var(--jp-code-line-height);\n",
       "\"><span style=\"color: var(--jp-warn-color2)\">setup.MTCS</span> <span style=\"color: var(--jp-success-color0)\">DEBUG</span>: mthexapod_2: Adding all resources.</pre>"
      ],
      "text/plain": [
       "<IPython.core.display.HTML object>"
      ]
     },
     "metadata": {},
     "output_type": "display_data"
    },
    {
     "data": {
      "text/html": [
       "<pre style=\"margin: 0.1em;\n",
       "padding-left: 0.25em;\n",
       "border-left-style: solid;\n",
       "font-family: var(--jp-code-font-family);\n",
       "font-size: var(--jp-code-font-size);\n",
       "line-height: var(--jp-code-line-height);\n",
       "\"><span style=\"color: var(--jp-warn-color2)\">setup.MTCS</span> <span style=\"color: var(--jp-success-color0)\">DEBUG</span>: mtrotator: Adding all resources.</pre>"
      ],
      "text/plain": [
       "<IPython.core.display.HTML object>"
      ]
     },
     "metadata": {},
     "output_type": "display_data"
    },
    {
     "data": {
      "text/html": [
       "<pre style=\"margin: 0.1em;\n",
       "padding-left: 0.25em;\n",
       "border-left-style: solid;\n",
       "font-family: var(--jp-code-font-family);\n",
       "font-size: var(--jp-code-font-size);\n",
       "line-height: var(--jp-code-line-height);\n",
       "\"><span style=\"color: var(--jp-warn-color2)\">setup.MTCS</span> <span style=\"color: var(--jp-success-color0)\">DEBUG</span>: mtdome: Adding all resources.</pre>"
      ],
      "text/plain": [
       "<IPython.core.display.HTML object>"
      ]
     },
     "metadata": {},
     "output_type": "display_data"
    },
    {
     "data": {
      "text/html": [
       "<pre style=\"margin: 0.1em;\n",
       "padding-left: 0.25em;\n",
       "border-left-style: solid;\n",
       "font-family: var(--jp-code-font-family);\n",
       "font-size: var(--jp-code-font-size);\n",
       "line-height: var(--jp-code-line-height);\n",
       "\"><span style=\"color: var(--jp-warn-color2)\">setup.MTCS</span> <span style=\"color: var(--jp-success-color0)\">DEBUG</span>: mtdometrajectory: Adding all resources.</pre>"
      ],
      "text/plain": [
       "<IPython.core.display.HTML object>"
      ]
     },
     "metadata": {},
     "output_type": "display_data"
    },
    {
     "data": {
      "text/html": [
       "<pre style=\"margin: 0.1em;\n",
       "padding-left: 0.25em;\n",
       "border-left-style: solid;\n",
       "font-family: var(--jp-code-font-family);\n",
       "font-size: var(--jp-code-font-size);\n",
       "line-height: var(--jp-code-line-height);\n",
       "\"><span style=\"color: var(--jp-warn-color2)\">MTHexapod</span> <span style=\"color: var(--jp-info-color0)\">INFO</span>: Read historical data in 0.20 sec</pre>"
      ],
      "text/plain": [
       "<IPython.core.display.HTML object>"
      ]
     },
     "metadata": {},
     "output_type": "display_data"
    },
    {
     "data": {
      "text/html": [
       "<pre style=\"margin: 0.1em;\n",
       "padding-left: 0.25em;\n",
       "border-left-style: solid;\n",
       "font-family: var(--jp-code-font-family);\n",
       "font-size: var(--jp-code-font-size);\n",
       "line-height: var(--jp-code-line-height);\n",
       "\"><span style=\"color: var(--jp-warn-color2)\">MTHexapod</span> <span style=\"color: var(--jp-info-color0)\">INFO</span>: Read historical data in 0.22 sec</pre>"
      ],
      "text/plain": [
       "<IPython.core.display.HTML object>"
      ]
     },
     "metadata": {},
     "output_type": "display_data"
    },
    {
     "data": {
      "text/html": [
       "<pre style=\"margin: 0.1em;\n",
       "padding-left: 0.25em;\n",
       "border-left-style: solid;\n",
       "font-family: var(--jp-code-font-family);\n",
       "font-size: var(--jp-code-font-size);\n",
       "line-height: var(--jp-code-line-height);\n",
       "\"><span style=\"color: var(--jp-warn-color2)\">MTDomeTrajectory.logevent_heartbeat</span> <span style=\"color: var(--jp-error-color2)\">ERROR</span>: evt_heartbeat DDS read queue is full (100 elements); data may be lost</pre>"
      ],
      "text/plain": [
       "<IPython.core.display.HTML object>"
      ]
     },
     "metadata": {},
     "output_type": "display_data"
    },
    {
     "data": {
      "text/html": [
       "<pre style=\"margin: 0.1em;\n",
       "padding-left: 0.25em;\n",
       "border-left-style: solid;\n",
       "font-family: var(--jp-code-font-family);\n",
       "font-size: var(--jp-code-font-size);\n",
       "line-height: var(--jp-code-line-height);\n",
       "\"><span style=\"color: var(--jp-warn-color2)\">MTM1M3.powerSupplyData</span> <span style=\"color: var(--jp-error-color2)\">ERROR</span>: tel_powerSupplyData DDS read queue is full (100 elements); data may be lost</pre>"
      ],
      "text/plain": [
       "<IPython.core.display.HTML object>"
      ]
     },
     "metadata": {},
     "output_type": "display_data"
    },
    {
     "data": {
      "text/html": [
       "<pre style=\"margin: 0.1em;\n",
       "padding-left: 0.25em;\n",
       "border-left-style: solid;\n",
       "font-family: var(--jp-code-font-family);\n",
       "font-size: var(--jp-code-font-size);\n",
       "line-height: var(--jp-code-line-height);\n",
       "\"><span style=\"color: var(--jp-warn-color2)\">MTM1M3.inclinometerData</span> <span style=\"color: var(--jp-error-color2)\">ERROR</span>: tel_inclinometerData DDS read queue is full (100 elements); data may be lost</pre>"
      ],
      "text/plain": [
       "<IPython.core.display.HTML object>"
      ]
     },
     "metadata": {},
     "output_type": "display_data"
    },
    {
     "data": {
      "text/html": [
       "<pre style=\"margin: 0.1em;\n",
       "padding-left: 0.25em;\n",
       "border-left-style: solid;\n",
       "font-family: var(--jp-code-font-family);\n",
       "font-size: var(--jp-code-font-size);\n",
       "line-height: var(--jp-code-line-height);\n",
       "\"><span style=\"color: var(--jp-warn-color2)\">MTM1M3.imsData</span> <span style=\"color: var(--jp-error-color2)\">ERROR</span>: tel_imsData DDS read queue is full (100 elements); data may be lost</pre>"
      ],
      "text/plain": [
       "<IPython.core.display.HTML object>"
      ]
     },
     "metadata": {},
     "output_type": "display_data"
    },
    {
     "data": {
      "text/html": [
       "<pre style=\"margin: 0.1em;\n",
       "padding-left: 0.25em;\n",
       "border-left-style: solid;\n",
       "font-family: var(--jp-code-font-family);\n",
       "font-size: var(--jp-code-font-size);\n",
       "line-height: var(--jp-code-line-height);\n",
       "\"><span style=\"color: var(--jp-warn-color2)\">MTM1M3.hardpointMonitorData</span> <span style=\"color: var(--jp-error-color2)\">ERROR</span>: tel_hardpointMonitorData DDS read queue is full (100 elements); data may be lost</pre>"
      ],
      "text/plain": [
       "<IPython.core.display.HTML object>"
      ]
     },
     "metadata": {},
     "output_type": "display_data"
    },
    {
     "data": {
      "text/html": [
       "<pre style=\"margin: 0.1em;\n",
       "padding-left: 0.25em;\n",
       "border-left-style: solid;\n",
       "font-family: var(--jp-code-font-family);\n",
       "font-size: var(--jp-code-font-size);\n",
       "line-height: var(--jp-code-line-height);\n",
       "\"><span style=\"color: var(--jp-warn-color2)\">MTM1M3.hardpointActuatorData</span> <span style=\"color: var(--jp-error-color2)\">ERROR</span>: tel_hardpointActuatorData DDS read queue is full (100 elements); data may be lost</pre>"
      ],
      "text/plain": [
       "<IPython.core.display.HTML object>"
      ]
     },
     "metadata": {},
     "output_type": "display_data"
    },
    {
     "data": {
      "text/html": [
       "<pre style=\"margin: 0.1em;\n",
       "padding-left: 0.25em;\n",
       "border-left-style: solid;\n",
       "font-family: var(--jp-code-font-family);\n",
       "font-size: var(--jp-code-font-size);\n",
       "line-height: var(--jp-code-line-height);\n",
       "\"><span style=\"color: var(--jp-warn-color2)\">MTM1M3.forceActuatorData</span> <span style=\"color: var(--jp-error-color2)\">ERROR</span>: tel_forceActuatorData DDS read queue is full (100 elements); data may be lost</pre>"
      ],
      "text/plain": [
       "<IPython.core.display.HTML object>"
      ]
     },
     "metadata": {},
     "output_type": "display_data"
    },
    {
     "data": {
      "text/html": [
       "<pre style=\"margin: 0.1em;\n",
       "padding-left: 0.25em;\n",
       "border-left-style: solid;\n",
       "font-family: var(--jp-code-font-family);\n",
       "font-size: var(--jp-code-font-size);\n",
       "line-height: var(--jp-code-line-height);\n",
       "\"><span style=\"color: var(--jp-warn-color2)\">MTM1M3.imsData</span> <span style=\"color: var(--jp-error-color2)\">ERROR</span>: tel_imsData DDS read queue is full (100 elements); data may be lost</pre>"
      ],
      "text/plain": [
       "<IPython.core.display.HTML object>"
      ]
     },
     "metadata": {},
     "output_type": "display_data"
    },
    {
     "data": {
      "text/html": [
       "<pre style=\"margin: 0.1em;\n",
       "padding-left: 0.25em;\n",
       "border-left-style: solid;\n",
       "font-family: var(--jp-code-font-family);\n",
       "font-size: var(--jp-code-font-size);\n",
       "line-height: var(--jp-code-line-height);\n",
       "\"><span style=\"color: var(--jp-warn-color2)\">MTM1M3.hardpointMonitorData</span> <span style=\"color: var(--jp-error-color2)\">ERROR</span>: tel_hardpointMonitorData DDS read queue is full (100 elements); data may be lost</pre>"
      ],
      "text/plain": [
       "<IPython.core.display.HTML object>"
      ]
     },
     "metadata": {},
     "output_type": "display_data"
    },
    {
     "data": {
      "text/html": [
       "<pre style=\"margin: 0.1em;\n",
       "padding-left: 0.25em;\n",
       "border-left-style: solid;\n",
       "font-family: var(--jp-code-font-family);\n",
       "font-size: var(--jp-code-font-size);\n",
       "line-height: var(--jp-code-line-height);\n",
       "\"><span style=\"color: var(--jp-warn-color2)\">MTM1M3.hardpointActuatorData</span> <span style=\"color: var(--jp-error-color2)\">ERROR</span>: tel_hardpointActuatorData DDS read queue is full (100 elements); data may be lost</pre>"
      ],
      "text/plain": [
       "<IPython.core.display.HTML object>"
      ]
     },
     "metadata": {},
     "output_type": "display_data"
    },
    {
     "data": {
      "text/html": [
       "<pre style=\"margin: 0.1em;\n",
       "padding-left: 0.25em;\n",
       "border-left-style: solid;\n",
       "font-family: var(--jp-code-font-family);\n",
       "font-size: var(--jp-code-font-size);\n",
       "line-height: var(--jp-code-line-height);\n",
       "\"><span style=\"color: var(--jp-warn-color2)\">MTM1M3.hardpointActuatorData</span> <span style=\"color: var(--jp-error-color2)\">ERROR</span>: tel_hardpointActuatorData DDS read queue is full (100 elements); data may be lost</pre>"
      ],
      "text/plain": [
       "<IPython.core.display.HTML object>"
      ]
     },
     "metadata": {},
     "output_type": "display_data"
    },
    {
     "data": {
      "text/html": [
       "<pre style=\"margin: 0.1em;\n",
       "padding-left: 0.25em;\n",
       "border-left-style: solid;\n",
       "font-family: var(--jp-code-font-family);\n",
       "font-size: var(--jp-code-font-size);\n",
       "line-height: var(--jp-code-line-height);\n",
       "\"><span style=\"color: var(--jp-warn-color2)\">MTM1M3.accelerometerData</span> <span style=\"color: var(--jp-error-color2)\">ERROR</span>: tel_accelerometerData DDS read queue is full (100 elements); data may be lost</pre>"
      ],
      "text/plain": [
       "<IPython.core.display.HTML object>"
      ]
     },
     "metadata": {},
     "output_type": "display_data"
    },
    {
     "data": {
      "text/html": [
       "<pre style=\"margin: 0.1em;\n",
       "padding-left: 0.25em;\n",
       "border-left-style: solid;\n",
       "font-family: var(--jp-code-font-family);\n",
       "font-size: var(--jp-code-font-size);\n",
       "line-height: var(--jp-code-line-height);\n",
       "\"><span style=\"color: var(--jp-warn-color2)\">MTM1M3.imsData</span> <span style=\"color: var(--jp-error-color2)\">ERROR</span>: tel_imsData DDS read queue is full (100 elements); data may be lost</pre>"
      ],
      "text/plain": [
       "<IPython.core.display.HTML object>"
      ]
     },
     "metadata": {},
     "output_type": "display_data"
    },
    {
     "data": {
      "text/html": [
       "<pre style=\"margin: 0.1em;\n",
       "padding-left: 0.25em;\n",
       "border-left-style: solid;\n",
       "font-family: var(--jp-code-font-family);\n",
       "font-size: var(--jp-code-font-size);\n",
       "line-height: var(--jp-code-line-height);\n",
       "\"><span style=\"color: var(--jp-warn-color2)\">MTM1M3.hardpointMonitorData</span> <span style=\"color: var(--jp-error-color2)\">ERROR</span>: tel_hardpointMonitorData DDS read queue is full (100 elements); data may be lost</pre>"
      ],
      "text/plain": [
       "<IPython.core.display.HTML object>"
      ]
     },
     "metadata": {},
     "output_type": "display_data"
    }
   ],
   "source": [
    "mtcs = MTCS(domain=domain, log=log)\n",
    "mtcs.set_rem_loglevel(40)"
   ]
  },
  {
   "cell_type": "code",
   "execution_count": 10,
   "id": "9702c303-2d8a-4b2d-9278-ed3292761486",
   "metadata": {},
   "outputs": [
    {
     "data": {
      "text/plain": [
       "[None, None, None, None, None, None, None, None, None, None]"
      ]
     },
     "execution_count": 10,
     "metadata": {},
     "output_type": "execute_result"
    }
   ],
   "source": [
    "await mtcs.start_task"
   ]
  },
  {
   "cell_type": "code",
   "execution_count": 11,
   "id": "fe3a2c32-2d13-49b8-bdc1-48f253f83339",
   "metadata": {},
   "outputs": [],
   "source": [
    "if exec_info.loc == \"summit\":\n",
    "    client = EfdClient(\"summit_efd\")\n",
    "elif location == \"tucson\":\n",
    "    client = EfdClient(\"tucson_teststand_efd\")\n",
    "else:\n",
    "    raise ValueError(\n",
    "        \"Location does not match any valid options {summit|tucson}\"\n",
    "    )"
   ]
  },
  {
   "cell_type": "code",
   "execution_count": 29,
   "id": "b50492ab-91fc-4f1d-875a-5d2e33e7584b",
   "metadata": {},
   "outputs": [
    {
     "data": {
      "text/html": [
       "<pre style=\"margin: 0.1em;\n",
       "padding-left: 0.25em;\n",
       "border-left-style: solid;\n",
       "font-family: var(--jp-code-font-family);\n",
       "font-size: var(--jp-code-font-size);\n",
       "line-height: var(--jp-code-line-height);\n",
       "\"><span style=\"color: var(--jp-warn-color2)\">Script</span> <span style=\"color: var(--jp-info-color0)\">INFO</span>: Read historical data in 0.00 sec</pre>"
      ],
      "text/plain": [
       "<IPython.core.display.HTML object>"
      ]
     },
     "metadata": {},
     "output_type": "display_data"
    }
   ],
   "source": [
    "index = 16151296  # Test Case + Test Execution\n",
    "\n",
    "start_time = datetime.now()\n",
    "script = salobj.Controller(\"Script\", index=index)"
   ]
  },
  {
   "cell_type": "code",
   "execution_count": 30,
   "id": "62455fdd-56ff-47a1-bd21-6e3e07a7621a",
   "metadata": {},
   "outputs": [
    {
     "data": {
      "text/html": [
       "<pre style=\"margin: 0.1em;\n",
       "padding-left: 0.25em;\n",
       "border-left-style: solid;\n",
       "font-family: var(--jp-code-font-family);\n",
       "font-size: var(--jp-code-font-size);\n",
       "line-height: var(--jp-code-line-height);\n",
       "\"><span style=\"color: var(--jp-warn-color2)\">Script</span> <span style=\"color: var(--jp-info-color0)\">INFO</span>: LVV-T1615 - LVV-E1296 - Start</pre>"
      ],
      "text/plain": [
       "<IPython.core.display.HTML object>"
      ]
     },
     "metadata": {},
     "output_type": "display_data"
    }
   ],
   "source": [
    "script.log.info(\"LVV-T1615 - LVV-E1296 - Start\")"
   ]
  },
  {
   "cell_type": "markdown",
   "id": "82f91794-c0a4-4223-8b06-11524bc8096c",
   "metadata": {},
   "source": [
    "## M2 DDS Startup Procedure"
   ]
  },
  {
   "cell_type": "markdown",
   "id": "978c1a3e-7c59-4c3d-8552-98c94b6480ca",
   "metadata": {},
   "source": [
    "---\n",
    "## Connect to https://ls.st/hexrot-vm01\n",
    "\n",
    "Make sure that you have an IPA account and that your username is part of the saluser group.\n",
    "\n",
    "Access https://ls.st/hexrot-vm01 using a browser (Firefox recommended).\n",
    "\n",
    "Log in with your account and open a terminal."
   ]
  },
  {
   "cell_type": "markdown",
   "id": "0ddedfcd-addc-4f64-81cb-a913f1a06943",
   "metadata": {},
   "source": [
    "---\n",
    "## Start MTM2 EUI\n",
    "\n",
    "Using the terminal, navigate to the /rubin/mtm2/build folder and execute runM2Cntlr.\n",
    "Use the example code below to check if there is another session before starting your own.\n",
    "If there is another session running, it is recommended that you contact the user and ask them to close it."
   ]
  },
  {
   "cell_type": "markdown",
   "id": "d73ca7a6-6a43-4f8a-b9b4-24d7bd095fa6",
   "metadata": {},
   "source": [
    "---\n",
    "## Use the chronograf to verify data is being published to the EFD."
   ]
  },
  {
   "cell_type": "markdown",
   "id": "ba70632e-ece0-4b7b-a3f8-26cd4cd5c06a",
   "metadata": {},
   "source": [
    "---\n",
    "## Transition the MTM2 CSC into DISABLED state either through LOVE or through Jupyter Notebook. "
   ]
  },
  {
   "cell_type": "markdown",
   "id": "24183b5e-f6ff-4fbf-b67d-92bfea87e031",
   "metadata": {},
   "source": [
    "--- \n",
    "Remote Control"
   ]
  },
  {
   "cell_type": "code",
   "execution_count": 13,
   "id": "9b8bbe78-6f46-49a8-898d-d98a94afe6e6",
   "metadata": {},
   "outputs": [
    {
     "name": "stdout",
     "output_type": "stream",
     "text": [
      "private_revCode: 1f79b729, private_sndStamp: 1654631347.9880934, private_rcvStamp: 1655223124.9253323, private_seqNum: 17, private_identity: MTM2, private_origin: 25375, state: True, priority: 0\n"
     ]
    }
   ],
   "source": [
    "m2_commandable_by_dds = mtcs.rem.mtm2.evt_commandableByDDS.get()\n",
    "print(m2_commandable_by_dds)"
   ]
  },
  {
   "cell_type": "markdown",
   "id": "6f4608a4-7c4c-41a4-9a8e-4453f702ed11",
   "metadata": {},
   "source": [
    "---\n",
    "Transition the MTM2 CSC into ENABLED state through LOVE."
   ]
  },
  {
   "cell_type": "code",
   "execution_count": 15,
   "id": "7cfce488-cc2b-49c3-a388-580ca788dd60",
   "metadata": {},
   "outputs": [],
   "source": [
    "import numpy as np\n",
    "axial_forces = np.zeros(72)\n",
    "axial_forces[0] = 20 # in N - This is Actuator B1 \n",
    "\n",
    "await mtcs.rem.mtm2.cmd_applyForces.set_start(axial=axial_forces)"
   ]
  },
  {
   "cell_type": "code",
   "execution_count": 20,
   "id": "19f3a4b2-6cbf-4137-b6bd-4293d82420db",
   "metadata": {},
   "outputs": [
    {
     "data": {
      "text/plain": [
       "0.00034377467707849394"
      ]
     },
     "execution_count": 20,
     "metadata": {},
     "output_type": "execute_result"
    }
   ],
   "source": [
    "np.degrees(6e-6)"
   ]
  },
  {
   "cell_type": "code",
   "execution_count": null,
   "id": "b0b3f29b-6e48-4aa2-9999-60964aabdca0",
   "metadata": {},
   "outputs": [],
   "source": [
    "start = \"2022\""
   ]
  },
  {
   "cell_type": "markdown",
   "id": "81cd7aa3-8f62-4fba-b72d-f3d0a7cfcb83",
   "metadata": {},
   "source": [
    "---\n",
    "resetForceOffsets"
   ]
  },
  {
   "cell_type": "code",
   "execution_count": 21,
   "id": "315700d4-1efb-480b-8a9e-09b3a70a926b",
   "metadata": {},
   "outputs": [
    {
     "data": {
      "text/plain": [
       "<ddsutil.MTM2_ackcmd_b60441f4 at 0x7fd75ccb5970>"
      ]
     },
     "execution_count": 21,
     "metadata": {},
     "output_type": "execute_result"
    }
   ],
   "source": [
    "await mtcs.rem.mtm2.cmd_resetForceOffsets.start()"
   ]
  },
  {
   "cell_type": "markdown",
   "id": "42f56c93-e750-4563-bc08-a2207f55238f",
   "metadata": {},
   "source": [
    "---\n",
    "Query data to the EFD"
   ]
  },
  {
   "cell_type": "code",
   "execution_count": 33,
   "id": "ed34ecbf-d07a-4f16-9a85-49f35a6db7e6",
   "metadata": {},
   "outputs": [
    {
     "name": "stdout",
     "output_type": "stream",
     "text": [
      "2022-06-14T15:35:00.000 2022-06-14T18:46:53.274\n"
     ]
    }
   ],
   "source": [
    "start = \"2022-06-14T15:35:00\"\n",
    "start = time.Time(start, format=\"isot\", scale=\"utc\")\n",
    "\n",
    "end = time.Time(utils.current_tai(), format=\"unix\", scale=\"tai\")\n",
    "end.format = \"isot\"\n",
    "\n",
    "print(start, end)"
   ]
  },
  {
   "cell_type": "code",
   "execution_count": 34,
   "id": "c13e26c7-0049-4242-b439-a9a3ce96b4eb",
   "metadata": {},
   "outputs": [
    {
     "data": {
      "text/html": [
       "<div>\n",
       "<style scoped>\n",
       "    .dataframe tbody tr th:only-of-type {\n",
       "        vertical-align: middle;\n",
       "    }\n",
       "\n",
       "    .dataframe tbody tr th {\n",
       "        vertical-align: top;\n",
       "    }\n",
       "\n",
       "    .dataframe thead th {\n",
       "        text-align: right;\n",
       "    }\n",
       "</style>\n",
       "<table border=\"1\" class=\"dataframe\">\n",
       "  <thead>\n",
       "    <tr style=\"text-align: right;\">\n",
       "      <th></th>\n",
       "      <th>applied0</th>\n",
       "      <th>applied1</th>\n",
       "      <th>applied10</th>\n",
       "      <th>applied11</th>\n",
       "      <th>applied12</th>\n",
       "      <th>applied13</th>\n",
       "      <th>applied14</th>\n",
       "      <th>applied15</th>\n",
       "      <th>applied16</th>\n",
       "      <th>applied17</th>\n",
       "      <th>...</th>\n",
       "      <th>measured8</th>\n",
       "      <th>measured9</th>\n",
       "      <th>private_efdStamp</th>\n",
       "      <th>private_identity</th>\n",
       "      <th>private_kafkaStamp</th>\n",
       "      <th>private_origin</th>\n",
       "      <th>private_rcvStamp</th>\n",
       "      <th>private_revCode</th>\n",
       "      <th>private_seqNum</th>\n",
       "      <th>private_sndStamp</th>\n",
       "    </tr>\n",
       "  </thead>\n",
       "  <tbody>\n",
       "    <tr>\n",
       "      <th>2022-06-14 16:06:13.385000+00:00</th>\n",
       "      <td>0</td>\n",
       "      <td>0</td>\n",
       "      <td>0</td>\n",
       "      <td>0</td>\n",
       "      <td>0</td>\n",
       "      <td>0</td>\n",
       "      <td>0</td>\n",
       "      <td>0</td>\n",
       "      <td>0</td>\n",
       "      <td>0</td>\n",
       "      <td>...</td>\n",
       "      <td>184.69</td>\n",
       "      <td>189.34</td>\n",
       "      <td>1.655223e+09</td>\n",
       "      <td>MTM2</td>\n",
       "      <td>1.655223e+09</td>\n",
       "      <td>25375</td>\n",
       "      <td>1.655223e+09</td>\n",
       "      <td>1af5d334</td>\n",
       "      <td>11023</td>\n",
       "      <td>1.655223e+09</td>\n",
       "    </tr>\n",
       "    <tr>\n",
       "      <th>2022-06-14 16:06:13.548000+00:00</th>\n",
       "      <td>0</td>\n",
       "      <td>0</td>\n",
       "      <td>0</td>\n",
       "      <td>0</td>\n",
       "      <td>0</td>\n",
       "      <td>0</td>\n",
       "      <td>0</td>\n",
       "      <td>0</td>\n",
       "      <td>0</td>\n",
       "      <td>0</td>\n",
       "      <td>...</td>\n",
       "      <td>184.60</td>\n",
       "      <td>189.33</td>\n",
       "      <td>1.655223e+09</td>\n",
       "      <td>MTM2</td>\n",
       "      <td>1.655223e+09</td>\n",
       "      <td>25375</td>\n",
       "      <td>1.655223e+09</td>\n",
       "      <td>1af5d334</td>\n",
       "      <td>11024</td>\n",
       "      <td>1.655223e+09</td>\n",
       "    </tr>\n",
       "    <tr>\n",
       "      <th>2022-06-14 16:06:14.396000+00:00</th>\n",
       "      <td>0</td>\n",
       "      <td>0</td>\n",
       "      <td>0</td>\n",
       "      <td>0</td>\n",
       "      <td>0</td>\n",
       "      <td>0</td>\n",
       "      <td>0</td>\n",
       "      <td>0</td>\n",
       "      <td>0</td>\n",
       "      <td>0</td>\n",
       "      <td>...</td>\n",
       "      <td>184.70</td>\n",
       "      <td>189.36</td>\n",
       "      <td>1.655223e+09</td>\n",
       "      <td>MTM2</td>\n",
       "      <td>1.655223e+09</td>\n",
       "      <td>25375</td>\n",
       "      <td>1.655223e+09</td>\n",
       "      <td>1af5d334</td>\n",
       "      <td>11025</td>\n",
       "      <td>1.655223e+09</td>\n",
       "    </tr>\n",
       "    <tr>\n",
       "      <th>2022-06-14 16:06:14.562000+00:00</th>\n",
       "      <td>0</td>\n",
       "      <td>0</td>\n",
       "      <td>0</td>\n",
       "      <td>0</td>\n",
       "      <td>0</td>\n",
       "      <td>0</td>\n",
       "      <td>0</td>\n",
       "      <td>0</td>\n",
       "      <td>0</td>\n",
       "      <td>0</td>\n",
       "      <td>...</td>\n",
       "      <td>184.75</td>\n",
       "      <td>189.30</td>\n",
       "      <td>1.655223e+09</td>\n",
       "      <td>MTM2</td>\n",
       "      <td>1.655223e+09</td>\n",
       "      <td>25375</td>\n",
       "      <td>1.655223e+09</td>\n",
       "      <td>1af5d334</td>\n",
       "      <td>11026</td>\n",
       "      <td>1.655223e+09</td>\n",
       "    </tr>\n",
       "    <tr>\n",
       "      <th>2022-06-14 16:06:14.724000+00:00</th>\n",
       "      <td>0</td>\n",
       "      <td>0</td>\n",
       "      <td>0</td>\n",
       "      <td>0</td>\n",
       "      <td>0</td>\n",
       "      <td>0</td>\n",
       "      <td>0</td>\n",
       "      <td>0</td>\n",
       "      <td>0</td>\n",
       "      <td>0</td>\n",
       "      <td>...</td>\n",
       "      <td>184.84</td>\n",
       "      <td>189.46</td>\n",
       "      <td>1.655223e+09</td>\n",
       "      <td>MTM2</td>\n",
       "      <td>1.655223e+09</td>\n",
       "      <td>25375</td>\n",
       "      <td>1.655223e+09</td>\n",
       "      <td>1af5d334</td>\n",
       "      <td>11027</td>\n",
       "      <td>1.655223e+09</td>\n",
       "    </tr>\n",
       "    <tr>\n",
       "      <th>...</th>\n",
       "      <td>...</td>\n",
       "      <td>...</td>\n",
       "      <td>...</td>\n",
       "      <td>...</td>\n",
       "      <td>...</td>\n",
       "      <td>...</td>\n",
       "      <td>...</td>\n",
       "      <td>...</td>\n",
       "      <td>...</td>\n",
       "      <td>...</td>\n",
       "      <td>...</td>\n",
       "      <td>...</td>\n",
       "      <td>...</td>\n",
       "      <td>...</td>\n",
       "      <td>...</td>\n",
       "      <td>...</td>\n",
       "      <td>...</td>\n",
       "      <td>...</td>\n",
       "      <td>...</td>\n",
       "      <td>...</td>\n",
       "      <td>...</td>\n",
       "    </tr>\n",
       "    <tr>\n",
       "      <th>2022-06-14 18:45:39.695000+00:00</th>\n",
       "      <td>0</td>\n",
       "      <td>0</td>\n",
       "      <td>0</td>\n",
       "      <td>0</td>\n",
       "      <td>0</td>\n",
       "      <td>0</td>\n",
       "      <td>0</td>\n",
       "      <td>0</td>\n",
       "      <td>0</td>\n",
       "      <td>0</td>\n",
       "      <td>...</td>\n",
       "      <td>184.66</td>\n",
       "      <td>189.10</td>\n",
       "      <td>1.655232e+09</td>\n",
       "      <td>MTM2</td>\n",
       "      <td>1.655232e+09</td>\n",
       "      <td>25375</td>\n",
       "      <td>1.655232e+09</td>\n",
       "      <td>1af5d334</td>\n",
       "      <td>12581</td>\n",
       "      <td>1.655232e+09</td>\n",
       "    </tr>\n",
       "    <tr>\n",
       "      <th>2022-06-14 18:45:43.706000+00:00</th>\n",
       "      <td>0</td>\n",
       "      <td>0</td>\n",
       "      <td>0</td>\n",
       "      <td>0</td>\n",
       "      <td>0</td>\n",
       "      <td>0</td>\n",
       "      <td>0</td>\n",
       "      <td>0</td>\n",
       "      <td>0</td>\n",
       "      <td>0</td>\n",
       "      <td>...</td>\n",
       "      <td>184.74</td>\n",
       "      <td>189.18</td>\n",
       "      <td>1.655232e+09</td>\n",
       "      <td>MTM2</td>\n",
       "      <td>1.655232e+09</td>\n",
       "      <td>25375</td>\n",
       "      <td>1.655232e+09</td>\n",
       "      <td>1af5d334</td>\n",
       "      <td>12582</td>\n",
       "      <td>1.655232e+09</td>\n",
       "    </tr>\n",
       "    <tr>\n",
       "      <th>2022-06-14 18:45:50.721000+00:00</th>\n",
       "      <td>0</td>\n",
       "      <td>0</td>\n",
       "      <td>0</td>\n",
       "      <td>0</td>\n",
       "      <td>0</td>\n",
       "      <td>0</td>\n",
       "      <td>0</td>\n",
       "      <td>0</td>\n",
       "      <td>0</td>\n",
       "      <td>0</td>\n",
       "      <td>...</td>\n",
       "      <td>184.54</td>\n",
       "      <td>188.93</td>\n",
       "      <td>1.655232e+09</td>\n",
       "      <td>MTM2</td>\n",
       "      <td>1.655232e+09</td>\n",
       "      <td>25375</td>\n",
       "      <td>1.655232e+09</td>\n",
       "      <td>1af5d334</td>\n",
       "      <td>12583</td>\n",
       "      <td>1.655232e+09</td>\n",
       "    </tr>\n",
       "    <tr>\n",
       "      <th>2022-06-14 18:45:58.741000+00:00</th>\n",
       "      <td>0</td>\n",
       "      <td>0</td>\n",
       "      <td>0</td>\n",
       "      <td>0</td>\n",
       "      <td>0</td>\n",
       "      <td>0</td>\n",
       "      <td>0</td>\n",
       "      <td>0</td>\n",
       "      <td>0</td>\n",
       "      <td>0</td>\n",
       "      <td>...</td>\n",
       "      <td>184.72</td>\n",
       "      <td>189.08</td>\n",
       "      <td>1.655232e+09</td>\n",
       "      <td>MTM2</td>\n",
       "      <td>1.655232e+09</td>\n",
       "      <td>25375</td>\n",
       "      <td>1.655232e+09</td>\n",
       "      <td>1af5d334</td>\n",
       "      <td>12584</td>\n",
       "      <td>1.655232e+09</td>\n",
       "    </tr>\n",
       "    <tr>\n",
       "      <th>2022-06-14 18:46:12.373000+00:00</th>\n",
       "      <td>0</td>\n",
       "      <td>0</td>\n",
       "      <td>0</td>\n",
       "      <td>0</td>\n",
       "      <td>0</td>\n",
       "      <td>0</td>\n",
       "      <td>0</td>\n",
       "      <td>0</td>\n",
       "      <td>0</td>\n",
       "      <td>0</td>\n",
       "      <td>...</td>\n",
       "      <td>184.87</td>\n",
       "      <td>189.11</td>\n",
       "      <td>1.655232e+09</td>\n",
       "      <td>MTM2</td>\n",
       "      <td>1.655232e+09</td>\n",
       "      <td>25375</td>\n",
       "      <td>1.655232e+09</td>\n",
       "      <td>1af5d334</td>\n",
       "      <td>12585</td>\n",
       "      <td>1.655232e+09</td>\n",
       "    </tr>\n",
       "  </tbody>\n",
       "</table>\n",
       "<p>1563 rows × 368 columns</p>\n",
       "</div>"
      ],
      "text/plain": [
       "                                  applied0  applied1  applied10  applied11  \\\n",
       "2022-06-14 16:06:13.385000+00:00         0         0          0          0   \n",
       "2022-06-14 16:06:13.548000+00:00         0         0          0          0   \n",
       "2022-06-14 16:06:14.396000+00:00         0         0          0          0   \n",
       "2022-06-14 16:06:14.562000+00:00         0         0          0          0   \n",
       "2022-06-14 16:06:14.724000+00:00         0         0          0          0   \n",
       "...                                    ...       ...        ...        ...   \n",
       "2022-06-14 18:45:39.695000+00:00         0         0          0          0   \n",
       "2022-06-14 18:45:43.706000+00:00         0         0          0          0   \n",
       "2022-06-14 18:45:50.721000+00:00         0         0          0          0   \n",
       "2022-06-14 18:45:58.741000+00:00         0         0          0          0   \n",
       "2022-06-14 18:46:12.373000+00:00         0         0          0          0   \n",
       "\n",
       "                                  applied12  applied13  applied14  applied15  \\\n",
       "2022-06-14 16:06:13.385000+00:00          0          0          0          0   \n",
       "2022-06-14 16:06:13.548000+00:00          0          0          0          0   \n",
       "2022-06-14 16:06:14.396000+00:00          0          0          0          0   \n",
       "2022-06-14 16:06:14.562000+00:00          0          0          0          0   \n",
       "2022-06-14 16:06:14.724000+00:00          0          0          0          0   \n",
       "...                                     ...        ...        ...        ...   \n",
       "2022-06-14 18:45:39.695000+00:00          0          0          0          0   \n",
       "2022-06-14 18:45:43.706000+00:00          0          0          0          0   \n",
       "2022-06-14 18:45:50.721000+00:00          0          0          0          0   \n",
       "2022-06-14 18:45:58.741000+00:00          0          0          0          0   \n",
       "2022-06-14 18:46:12.373000+00:00          0          0          0          0   \n",
       "\n",
       "                                  applied16  applied17  ...  measured8  \\\n",
       "2022-06-14 16:06:13.385000+00:00          0          0  ...     184.69   \n",
       "2022-06-14 16:06:13.548000+00:00          0          0  ...     184.60   \n",
       "2022-06-14 16:06:14.396000+00:00          0          0  ...     184.70   \n",
       "2022-06-14 16:06:14.562000+00:00          0          0  ...     184.75   \n",
       "2022-06-14 16:06:14.724000+00:00          0          0  ...     184.84   \n",
       "...                                     ...        ...  ...        ...   \n",
       "2022-06-14 18:45:39.695000+00:00          0          0  ...     184.66   \n",
       "2022-06-14 18:45:43.706000+00:00          0          0  ...     184.74   \n",
       "2022-06-14 18:45:50.721000+00:00          0          0  ...     184.54   \n",
       "2022-06-14 18:45:58.741000+00:00          0          0  ...     184.72   \n",
       "2022-06-14 18:46:12.373000+00:00          0          0  ...     184.87   \n",
       "\n",
       "                                  measured9  private_efdStamp  \\\n",
       "2022-06-14 16:06:13.385000+00:00     189.34      1.655223e+09   \n",
       "2022-06-14 16:06:13.548000+00:00     189.33      1.655223e+09   \n",
       "2022-06-14 16:06:14.396000+00:00     189.36      1.655223e+09   \n",
       "2022-06-14 16:06:14.562000+00:00     189.30      1.655223e+09   \n",
       "2022-06-14 16:06:14.724000+00:00     189.46      1.655223e+09   \n",
       "...                                     ...               ...   \n",
       "2022-06-14 18:45:39.695000+00:00     189.10      1.655232e+09   \n",
       "2022-06-14 18:45:43.706000+00:00     189.18      1.655232e+09   \n",
       "2022-06-14 18:45:50.721000+00:00     188.93      1.655232e+09   \n",
       "2022-06-14 18:45:58.741000+00:00     189.08      1.655232e+09   \n",
       "2022-06-14 18:46:12.373000+00:00     189.11      1.655232e+09   \n",
       "\n",
       "                                  private_identity  private_kafkaStamp  \\\n",
       "2022-06-14 16:06:13.385000+00:00              MTM2        1.655223e+09   \n",
       "2022-06-14 16:06:13.548000+00:00              MTM2        1.655223e+09   \n",
       "2022-06-14 16:06:14.396000+00:00              MTM2        1.655223e+09   \n",
       "2022-06-14 16:06:14.562000+00:00              MTM2        1.655223e+09   \n",
       "2022-06-14 16:06:14.724000+00:00              MTM2        1.655223e+09   \n",
       "...                                            ...                 ...   \n",
       "2022-06-14 18:45:39.695000+00:00              MTM2        1.655232e+09   \n",
       "2022-06-14 18:45:43.706000+00:00              MTM2        1.655232e+09   \n",
       "2022-06-14 18:45:50.721000+00:00              MTM2        1.655232e+09   \n",
       "2022-06-14 18:45:58.741000+00:00              MTM2        1.655232e+09   \n",
       "2022-06-14 18:46:12.373000+00:00              MTM2        1.655232e+09   \n",
       "\n",
       "                                  private_origin  private_rcvStamp  \\\n",
       "2022-06-14 16:06:13.385000+00:00           25375      1.655223e+09   \n",
       "2022-06-14 16:06:13.548000+00:00           25375      1.655223e+09   \n",
       "2022-06-14 16:06:14.396000+00:00           25375      1.655223e+09   \n",
       "2022-06-14 16:06:14.562000+00:00           25375      1.655223e+09   \n",
       "2022-06-14 16:06:14.724000+00:00           25375      1.655223e+09   \n",
       "...                                          ...               ...   \n",
       "2022-06-14 18:45:39.695000+00:00           25375      1.655232e+09   \n",
       "2022-06-14 18:45:43.706000+00:00           25375      1.655232e+09   \n",
       "2022-06-14 18:45:50.721000+00:00           25375      1.655232e+09   \n",
       "2022-06-14 18:45:58.741000+00:00           25375      1.655232e+09   \n",
       "2022-06-14 18:46:12.373000+00:00           25375      1.655232e+09   \n",
       "\n",
       "                                  private_revCode  private_seqNum  \\\n",
       "2022-06-14 16:06:13.385000+00:00         1af5d334           11023   \n",
       "2022-06-14 16:06:13.548000+00:00         1af5d334           11024   \n",
       "2022-06-14 16:06:14.396000+00:00         1af5d334           11025   \n",
       "2022-06-14 16:06:14.562000+00:00         1af5d334           11026   \n",
       "2022-06-14 16:06:14.724000+00:00         1af5d334           11027   \n",
       "...                                           ...             ...   \n",
       "2022-06-14 18:45:39.695000+00:00         1af5d334           12581   \n",
       "2022-06-14 18:45:43.706000+00:00         1af5d334           12582   \n",
       "2022-06-14 18:45:50.721000+00:00         1af5d334           12583   \n",
       "2022-06-14 18:45:58.741000+00:00         1af5d334           12584   \n",
       "2022-06-14 18:46:12.373000+00:00         1af5d334           12585   \n",
       "\n",
       "                                  private_sndStamp  \n",
       "2022-06-14 16:06:13.385000+00:00      1.655223e+09  \n",
       "2022-06-14 16:06:13.548000+00:00      1.655223e+09  \n",
       "2022-06-14 16:06:14.396000+00:00      1.655223e+09  \n",
       "2022-06-14 16:06:14.562000+00:00      1.655223e+09  \n",
       "2022-06-14 16:06:14.724000+00:00      1.655223e+09  \n",
       "...                                            ...  \n",
       "2022-06-14 18:45:39.695000+00:00      1.655232e+09  \n",
       "2022-06-14 18:45:43.706000+00:00      1.655232e+09  \n",
       "2022-06-14 18:45:50.721000+00:00      1.655232e+09  \n",
       "2022-06-14 18:45:58.741000+00:00      1.655232e+09  \n",
       "2022-06-14 18:46:12.373000+00:00      1.655232e+09  \n",
       "\n",
       "[1563 rows x 368 columns]"
      ]
     },
     "execution_count": 34,
     "metadata": {},
     "output_type": "execute_result"
    }
   ],
   "source": [
    "df = await client.select_time_series(\n",
    "    \"lsst.sal.MTM2.axialForce\", \n",
    "    fields=\"*\", \n",
    "    start=start.utc, \n",
    "    end=end.utc,\n",
    ")\n",
    "\n",
    "df"
   ]
  },
  {
   "cell_type": "code",
   "execution_count": 36,
   "id": "b0fea0a3-de52-4fda-9421-cbb3641ec6dd",
   "metadata": {},
   "outputs": [
    {
     "data": {
      "text/plain": [
       "20.626480624709636"
      ]
     },
     "execution_count": 36,
     "metadata": {},
     "output_type": "execute_result"
    }
   ],
   "source": [
    "np.degrees(100e-6) * 3600"
   ]
  },
  {
   "cell_type": "code",
   "execution_count": 37,
   "id": "e63b97fe-1e05-4804-8564-873ce7d3740d",
   "metadata": {},
   "outputs": [
    {
     "ename": "NameError",
     "evalue": "name 'x' is not defined",
     "output_type": "error",
     "traceback": [
      "\u001b[0;31m---------------------------------------------------------------------------\u001b[0m",
      "\u001b[0;31mNameError\u001b[0m                                 Traceback (most recent call last)",
      "Input \u001b[0;32mIn [37]\u001b[0m, in \u001b[0;36m<cell line: 1>\u001b[0;34m()\u001b[0m\n\u001b[0;32m----> 1\u001b[0m \u001b[38;5;28;01mawait\u001b[39;00m mtcs\u001b[38;5;241m.\u001b[39mrem\u001b[38;5;241m.\u001b[39mmtm2\u001b[38;5;241m.\u001b[39mcmd_positionMirror\u001b[38;5;241m.\u001b[39mset_start(x)\n",
      "\u001b[0;31mNameError\u001b[0m: name 'x' is not defined"
     ]
    }
   ],
   "source": []
  },
  {
   "cell_type": "code",
   "execution_count": 38,
   "id": "3326982d-c7b2-4381-9884-8f73bbf9f013",
   "metadata": {},
   "outputs": [
    {
     "data": {
      "text/plain": [
       "<ddsutil.MTM2_ackcmd_b60441f4 at 0x7fd70c3e5f40>"
      ]
     },
     "execution_count": 38,
     "metadata": {},
     "output_type": "execute_result"
    }
   ],
   "source": [
    "await mtcs.rem.mtm2.cmd_clearErrors.set_start()"
   ]
  },
  {
   "cell_type": "code",
   "execution_count": 40,
   "id": "fba870f4-4c3a-4cb3-bdd2-c47b520c520e",
   "metadata": {},
   "outputs": [
    {
     "data": {
      "text/html": [
       "<pre style=\"margin: 0.1em;\n",
       "padding-left: 0.25em;\n",
       "border-left-style: solid;\n",
       "font-family: var(--jp-code-font-family);\n",
       "font-size: var(--jp-code-font-size);\n",
       "line-height: var(--jp-code-line-height);\n",
       "\"><span style=\"color: var(--jp-warn-color2)\">setup.MTCS</span> <span style=\"color: var(--jp-success-color0)\">DEBUG</span>: [mtm2]::[&lt;State.STANDBY: 5&gt;, &lt;State.DISABLED: 1&gt;, &lt;State.ENABLED: 2&gt;]</pre>"
      ],
      "text/plain": [
       "<IPython.core.display.HTML object>"
      ]
     },
     "metadata": {},
     "output_type": "display_data"
    },
    {
     "data": {
      "text/html": [
       "<pre style=\"margin: 0.1em;\n",
       "padding-left: 0.25em;\n",
       "border-left-style: solid;\n",
       "font-family: var(--jp-code-font-family);\n",
       "font-size: var(--jp-code-font-size);\n",
       "line-height: var(--jp-code-line-height);\n",
       "\"><span style=\"color: var(--jp-warn-color2)\">setup.MTCS</span> <span style=\"color: var(--jp-info-color0)\">INFO</span>: All components in &lt;State.ENABLED: 2&gt;.</pre>"
      ],
      "text/plain": [
       "<IPython.core.display.HTML object>"
      ]
     },
     "metadata": {},
     "output_type": "display_data"
    }
   ],
   "source": [
    "await mtcs.set_state(salobj.State.ENABLED, components=[\"mtm2\"])"
   ]
  },
  {
   "cell_type": "code",
   "execution_count": 41,
   "id": "712cd081-c2fe-4558-bb3f-372c49c122ec",
   "metadata": {},
   "outputs": [
    {
     "data": {
      "text/plain": [
       "<ddsutil.MTM2_ackcmd_b60441f4 at 0x7fd70c7cae50>"
      ]
     },
     "execution_count": 41,
     "metadata": {},
     "output_type": "execute_result"
    }
   ],
   "source": [
    "await mtcs.rem.mtm2.cmd_positionMirror.set_start(x=0)"
   ]
  },
  {
   "cell_type": "code",
   "execution_count": 42,
   "id": "53d192a8-3436-4498-be94-33da861600bd",
   "metadata": {},
   "outputs": [
    {
     "data": {
      "text/plain": [
       "<ddsutil.MTM2_ackcmd_b60441f4 at 0x7fd6ea4357f0>"
      ]
     },
     "execution_count": 42,
     "metadata": {},
     "output_type": "execute_result"
    }
   ],
   "source": [
    "await mtcs.rem.mtm2.cmd_positionMirror.set_start(y=0)"
   ]
  },
  {
   "cell_type": "code",
   "execution_count": 43,
   "id": "ab77d610-92c2-4423-be67-f8b6fa212e4a",
   "metadata": {},
   "outputs": [
    {
     "data": {
      "text/plain": [
       "<ddsutil.MTM2_ackcmd_b60441f4 at 0x7fd70c1d2e80>"
      ]
     },
     "execution_count": 43,
     "metadata": {},
     "output_type": "execute_result"
    }
   ],
   "source": [
    "await mtcs.rem.mtm2.cmd_positionMirror.set_start(yRot=0)"
   ]
  },
  {
   "cell_type": "code",
   "execution_count": 44,
   "id": "429e87d6-9bd3-4aca-b10d-0c38119dec68",
   "metadata": {},
   "outputs": [
    {
     "data": {
      "text/plain": [
       "<ddsutil.MTM2_ackcmd_b60441f4 at 0x7fd70c30dbb0>"
      ]
     },
     "execution_count": 44,
     "metadata": {},
     "output_type": "execute_result"
    }
   ],
   "source": [
    "await mtcs.rem.mtm2.cmd_positionMirror.set_start(z=5)"
   ]
  },
  {
   "cell_type": "code",
   "execution_count": 45,
   "id": "aaed0f98-c912-4ab4-b422-8513de86b55e",
   "metadata": {},
   "outputs": [
    {
     "data": {
      "text/plain": [
       "<ddsutil.MTM2_ackcmd_b60441f4 at 0x7fd75cca91f0>"
      ]
     },
     "execution_count": 45,
     "metadata": {},
     "output_type": "execute_result"
    }
   ],
   "source": []
  },
  {
   "cell_type": "code",
   "execution_count": 16,
   "id": "b0aa92d4-ec27-43cc-93c3-0f895870b297",
   "metadata": {},
   "outputs": [
    {
     "name": "stdout",
     "output_type": "stream",
     "text": [
      "private_revCode: 56870c9f, private_sndStamp: 1655237829.3627574, private_rcvStamp: 1655306152.4709733, private_seqNum: 36158, private_identity: MTM2, private_origin: 25375, inPosition: False, priority: 0\n"
     ]
    }
   ],
   "source": [
    "print(mtcs.rem.mtm2.evt_m2AssemblyInPosition.get())"
   ]
  },
  {
   "cell_type": "code",
   "execution_count": null,
   "id": "ccf74aab-8454-4dcf-b60b-bd38d8305978",
   "metadata": {},
   "outputs": [],
   "source": []
  },
  {
   "cell_type": "markdown",
   "id": "a233846f-edbd-4137-ba75-789c59c9ad97",
   "metadata": {},
   "source": [
    "---\n",
    "Query events to the EFD "
   ]
  },
  {
   "cell_type": "code",
   "execution_count": 42,
   "id": "1b198a70-1337-4f1a-9142-ce98eed50c7b",
   "metadata": {},
   "outputs": [
    {
     "name": "stdout",
     "output_type": "stream",
     "text": [
      "2022-06-14T16:30:00.000 2022-06-14T17:30:00.000\n"
     ]
    }
   ],
   "source": [
    "# Define the start and end time of the \n",
    "start = \"2022-06-14T16:30:00\"\n",
    "start = time.Time(start, format=\"isot\", scale=\"utc\")\n",
    "\n",
    "end = \"2022-06-14T17:30:00\"\n",
    "end = time.Time(end, format=\"isot\", scale=\"utc\")\n",
    "\n",
    "print(start, end)"
   ]
  },
  {
   "cell_type": "markdown",
   "id": "ec32ef57-b50b-409f-9394-826a46bad43a",
   "metadata": {},
   "source": [
    "---\n",
    "M2 Assembly detailed state\n",
    "\n",
    "Verify the MTM2_logevent_detailedState event is published to the EFD."
   ]
  },
  {
   "cell_type": "code",
   "execution_count": 27,
   "id": "5b79d2a8-1b93-489a-a03b-bdcde6bba705",
   "metadata": {},
   "outputs": [
    {
     "data": {
      "text/html": [
       "<div>\n",
       "<style scoped>\n",
       "    .dataframe tbody tr th:only-of-type {\n",
       "        vertical-align: middle;\n",
       "    }\n",
       "\n",
       "    .dataframe tbody tr th {\n",
       "        vertical-align: top;\n",
       "    }\n",
       "\n",
       "    .dataframe thead th {\n",
       "        text-align: right;\n",
       "    }\n",
       "</style>\n",
       "<table border=\"1\" class=\"dataframe\">\n",
       "  <thead>\n",
       "    <tr style=\"text-align: right;\">\n",
       "      <th></th>\n",
       "    </tr>\n",
       "  </thead>\n",
       "  <tbody>\n",
       "  </tbody>\n",
       "</table>\n",
       "</div>"
      ],
      "text/plain": [
       "Empty DataFrame\n",
       "Columns: []\n",
       "Index: []"
      ]
     },
     "execution_count": 27,
     "metadata": {},
     "output_type": "execute_result"
    }
   ],
   "source": [
    "await client.select_time_series(\n",
    "    \"lsst.sal.MTM2.logevent_detailedState\", \n",
    "    fields=\"*\", \n",
    "    start=start, \n",
    "    end=end,\n",
    ")\n"
   ]
  },
  {
   "cell_type": "markdown",
   "id": "1ae3d91b-e118-4999-b22d-9dc37e0fd682",
   "metadata": {},
   "source": [
    "---\n",
    "M2 Assembly Controller State\n",
    "\n",
    "Verify the MTM2_logevent_controllerState event is published to the EFD."
   ]
  },
  {
   "cell_type": "code",
   "execution_count": 28,
   "id": "26c80210-0bff-476a-9e1b-a5f22dee11b4",
   "metadata": {},
   "outputs": [
    {
     "data": {
      "text/html": [
       "<div>\n",
       "<style scoped>\n",
       "    .dataframe tbody tr th:only-of-type {\n",
       "        vertical-align: middle;\n",
       "    }\n",
       "\n",
       "    .dataframe tbody tr th {\n",
       "        vertical-align: top;\n",
       "    }\n",
       "\n",
       "    .dataframe thead th {\n",
       "        text-align: right;\n",
       "    }\n",
       "</style>\n",
       "<table border=\"1\" class=\"dataframe\">\n",
       "  <thead>\n",
       "    <tr style=\"text-align: right;\">\n",
       "      <th></th>\n",
       "    </tr>\n",
       "  </thead>\n",
       "  <tbody>\n",
       "  </tbody>\n",
       "</table>\n",
       "</div>"
      ],
      "text/plain": [
       "Empty DataFrame\n",
       "Columns: []\n",
       "Index: []"
      ]
     },
     "execution_count": 28,
     "metadata": {},
     "output_type": "execute_result"
    }
   ],
   "source": [
    "await client.select_time_series(\n",
    "    \"lsst.sal.MTM2.logevent_controllerState\", \n",
    "    fields=\"*\", \n",
    "    start=start, \n",
    "    end=end,\n",
    ")\n"
   ]
  },
  {
   "cell_type": "markdown",
   "id": "7be722a0-e94d-4da0-a88c-7fbcc26630ee",
   "metadata": {},
   "source": [
    "---\n",
    "M2 Assembly inPosition\n",
    "\n",
    "Verify that MTM2_logevent_m2AssemblyInPosition event is published to the EFD."
   ]
  },
  {
   "cell_type": "code",
   "execution_count": 43,
   "id": "6d2c6cd6-deab-4e1a-badc-62af5d5a36c8",
   "metadata": {},
   "outputs": [
    {
     "data": {
      "text/html": [
       "<div>\n",
       "<style scoped>\n",
       "    .dataframe tbody tr th:only-of-type {\n",
       "        vertical-align: middle;\n",
       "    }\n",
       "\n",
       "    .dataframe tbody tr th {\n",
       "        vertical-align: top;\n",
       "    }\n",
       "\n",
       "    .dataframe thead th {\n",
       "        text-align: right;\n",
       "    }\n",
       "</style>\n",
       "<table border=\"1\" class=\"dataframe\">\n",
       "  <thead>\n",
       "    <tr style=\"text-align: right;\">\n",
       "      <th></th>\n",
       "      <th>inPosition</th>\n",
       "      <th>priority</th>\n",
       "      <th>private_efdStamp</th>\n",
       "      <th>private_identity</th>\n",
       "      <th>private_kafkaStamp</th>\n",
       "      <th>private_origin</th>\n",
       "      <th>private_rcvStamp</th>\n",
       "      <th>private_revCode</th>\n",
       "      <th>private_seqNum</th>\n",
       "      <th>private_sndStamp</th>\n",
       "    </tr>\n",
       "  </thead>\n",
       "  <tbody>\n",
       "    <tr>\n",
       "      <th>2022-06-14 16:30:01.325000+00:00</th>\n",
       "      <td>True</td>\n",
       "      <td>0</td>\n",
       "      <td>1.655224e+09</td>\n",
       "      <td>MTM2</td>\n",
       "      <td>1.655224e+09</td>\n",
       "      <td>25375</td>\n",
       "      <td>1.655224e+09</td>\n",
       "      <td>56870c9f</td>\n",
       "      <td>31937</td>\n",
       "      <td>1.655224e+09</td>\n",
       "    </tr>\n",
       "    <tr>\n",
       "      <th>2022-06-14 16:30:01.426000+00:00</th>\n",
       "      <td>False</td>\n",
       "      <td>0</td>\n",
       "      <td>1.655224e+09</td>\n",
       "      <td>MTM2</td>\n",
       "      <td>1.655224e+09</td>\n",
       "      <td>25375</td>\n",
       "      <td>1.655224e+09</td>\n",
       "      <td>56870c9f</td>\n",
       "      <td>31938</td>\n",
       "      <td>1.655224e+09</td>\n",
       "    </tr>\n",
       "    <tr>\n",
       "      <th>2022-06-14 16:30:01.528000+00:00</th>\n",
       "      <td>True</td>\n",
       "      <td>0</td>\n",
       "      <td>1.655224e+09</td>\n",
       "      <td>MTM2</td>\n",
       "      <td>1.655224e+09</td>\n",
       "      <td>25375</td>\n",
       "      <td>1.655224e+09</td>\n",
       "      <td>56870c9f</td>\n",
       "      <td>31939</td>\n",
       "      <td>1.655224e+09</td>\n",
       "    </tr>\n",
       "    <tr>\n",
       "      <th>2022-06-14 16:30:01.631000+00:00</th>\n",
       "      <td>False</td>\n",
       "      <td>0</td>\n",
       "      <td>1.655224e+09</td>\n",
       "      <td>MTM2</td>\n",
       "      <td>1.655224e+09</td>\n",
       "      <td>25375</td>\n",
       "      <td>1.655224e+09</td>\n",
       "      <td>56870c9f</td>\n",
       "      <td>31940</td>\n",
       "      <td>1.655224e+09</td>\n",
       "    </tr>\n",
       "    <tr>\n",
       "      <th>2022-06-14 16:30:01.732000+00:00</th>\n",
       "      <td>True</td>\n",
       "      <td>0</td>\n",
       "      <td>1.655224e+09</td>\n",
       "      <td>MTM2</td>\n",
       "      <td>1.655224e+09</td>\n",
       "      <td>25375</td>\n",
       "      <td>1.655224e+09</td>\n",
       "      <td>56870c9f</td>\n",
       "      <td>31941</td>\n",
       "      <td>1.655224e+09</td>\n",
       "    </tr>\n",
       "    <tr>\n",
       "      <th>...</th>\n",
       "      <td>...</td>\n",
       "      <td>...</td>\n",
       "      <td>...</td>\n",
       "      <td>...</td>\n",
       "      <td>...</td>\n",
       "      <td>...</td>\n",
       "      <td>...</td>\n",
       "      <td>...</td>\n",
       "      <td>...</td>\n",
       "      <td>...</td>\n",
       "    </tr>\n",
       "    <tr>\n",
       "      <th>2022-06-14 17:16:17.301000+00:00</th>\n",
       "      <td>False</td>\n",
       "      <td>0</td>\n",
       "      <td>1.655227e+09</td>\n",
       "      <td>MTM2</td>\n",
       "      <td>1.655227e+09</td>\n",
       "      <td>25375</td>\n",
       "      <td>1.655227e+09</td>\n",
       "      <td>56870c9f</td>\n",
       "      <td>34970</td>\n",
       "      <td>1.655227e+09</td>\n",
       "    </tr>\n",
       "    <tr>\n",
       "      <th>2022-06-14 17:16:17.402000+00:00</th>\n",
       "      <td>True</td>\n",
       "      <td>0</td>\n",
       "      <td>1.655227e+09</td>\n",
       "      <td>MTM2</td>\n",
       "      <td>1.655227e+09</td>\n",
       "      <td>25375</td>\n",
       "      <td>1.655227e+09</td>\n",
       "      <td>56870c9f</td>\n",
       "      <td>34971</td>\n",
       "      <td>1.655227e+09</td>\n",
       "    </tr>\n",
       "    <tr>\n",
       "      <th>2022-06-14 17:16:17.503000+00:00</th>\n",
       "      <td>False</td>\n",
       "      <td>0</td>\n",
       "      <td>1.655227e+09</td>\n",
       "      <td>MTM2</td>\n",
       "      <td>1.655227e+09</td>\n",
       "      <td>25375</td>\n",
       "      <td>1.655227e+09</td>\n",
       "      <td>56870c9f</td>\n",
       "      <td>34972</td>\n",
       "      <td>1.655227e+09</td>\n",
       "    </tr>\n",
       "    <tr>\n",
       "      <th>2022-06-14 17:19:14.252000+00:00</th>\n",
       "      <td>True</td>\n",
       "      <td>0</td>\n",
       "      <td>1.655227e+09</td>\n",
       "      <td>MTM2</td>\n",
       "      <td>1.655227e+09</td>\n",
       "      <td>25375</td>\n",
       "      <td>1.655227e+09</td>\n",
       "      <td>56870c9f</td>\n",
       "      <td>34973</td>\n",
       "      <td>1.655227e+09</td>\n",
       "    </tr>\n",
       "    <tr>\n",
       "      <th>2022-06-14 17:19:14.353000+00:00</th>\n",
       "      <td>False</td>\n",
       "      <td>0</td>\n",
       "      <td>1.655227e+09</td>\n",
       "      <td>MTM2</td>\n",
       "      <td>1.655227e+09</td>\n",
       "      <td>25375</td>\n",
       "      <td>1.655227e+09</td>\n",
       "      <td>56870c9f</td>\n",
       "      <td>34974</td>\n",
       "      <td>1.655227e+09</td>\n",
       "    </tr>\n",
       "  </tbody>\n",
       "</table>\n",
       "<p>3038 rows × 10 columns</p>\n",
       "</div>"
      ],
      "text/plain": [
       "                                  inPosition  priority  private_efdStamp  \\\n",
       "2022-06-14 16:30:01.325000+00:00        True         0      1.655224e+09   \n",
       "2022-06-14 16:30:01.426000+00:00       False         0      1.655224e+09   \n",
       "2022-06-14 16:30:01.528000+00:00        True         0      1.655224e+09   \n",
       "2022-06-14 16:30:01.631000+00:00       False         0      1.655224e+09   \n",
       "2022-06-14 16:30:01.732000+00:00        True         0      1.655224e+09   \n",
       "...                                      ...       ...               ...   \n",
       "2022-06-14 17:16:17.301000+00:00       False         0      1.655227e+09   \n",
       "2022-06-14 17:16:17.402000+00:00        True         0      1.655227e+09   \n",
       "2022-06-14 17:16:17.503000+00:00       False         0      1.655227e+09   \n",
       "2022-06-14 17:19:14.252000+00:00        True         0      1.655227e+09   \n",
       "2022-06-14 17:19:14.353000+00:00       False         0      1.655227e+09   \n",
       "\n",
       "                                 private_identity  private_kafkaStamp  \\\n",
       "2022-06-14 16:30:01.325000+00:00             MTM2        1.655224e+09   \n",
       "2022-06-14 16:30:01.426000+00:00             MTM2        1.655224e+09   \n",
       "2022-06-14 16:30:01.528000+00:00             MTM2        1.655224e+09   \n",
       "2022-06-14 16:30:01.631000+00:00             MTM2        1.655224e+09   \n",
       "2022-06-14 16:30:01.732000+00:00             MTM2        1.655224e+09   \n",
       "...                                           ...                 ...   \n",
       "2022-06-14 17:16:17.301000+00:00             MTM2        1.655227e+09   \n",
       "2022-06-14 17:16:17.402000+00:00             MTM2        1.655227e+09   \n",
       "2022-06-14 17:16:17.503000+00:00             MTM2        1.655227e+09   \n",
       "2022-06-14 17:19:14.252000+00:00             MTM2        1.655227e+09   \n",
       "2022-06-14 17:19:14.353000+00:00             MTM2        1.655227e+09   \n",
       "\n",
       "                                  private_origin  private_rcvStamp  \\\n",
       "2022-06-14 16:30:01.325000+00:00           25375      1.655224e+09   \n",
       "2022-06-14 16:30:01.426000+00:00           25375      1.655224e+09   \n",
       "2022-06-14 16:30:01.528000+00:00           25375      1.655224e+09   \n",
       "2022-06-14 16:30:01.631000+00:00           25375      1.655224e+09   \n",
       "2022-06-14 16:30:01.732000+00:00           25375      1.655224e+09   \n",
       "...                                          ...               ...   \n",
       "2022-06-14 17:16:17.301000+00:00           25375      1.655227e+09   \n",
       "2022-06-14 17:16:17.402000+00:00           25375      1.655227e+09   \n",
       "2022-06-14 17:16:17.503000+00:00           25375      1.655227e+09   \n",
       "2022-06-14 17:19:14.252000+00:00           25375      1.655227e+09   \n",
       "2022-06-14 17:19:14.353000+00:00           25375      1.655227e+09   \n",
       "\n",
       "                                 private_revCode  private_seqNum  \\\n",
       "2022-06-14 16:30:01.325000+00:00        56870c9f           31937   \n",
       "2022-06-14 16:30:01.426000+00:00        56870c9f           31938   \n",
       "2022-06-14 16:30:01.528000+00:00        56870c9f           31939   \n",
       "2022-06-14 16:30:01.631000+00:00        56870c9f           31940   \n",
       "2022-06-14 16:30:01.732000+00:00        56870c9f           31941   \n",
       "...                                          ...             ...   \n",
       "2022-06-14 17:16:17.301000+00:00        56870c9f           34970   \n",
       "2022-06-14 17:16:17.402000+00:00        56870c9f           34971   \n",
       "2022-06-14 17:16:17.503000+00:00        56870c9f           34972   \n",
       "2022-06-14 17:19:14.252000+00:00        56870c9f           34973   \n",
       "2022-06-14 17:19:14.353000+00:00        56870c9f           34974   \n",
       "\n",
       "                                  private_sndStamp  \n",
       "2022-06-14 16:30:01.325000+00:00      1.655224e+09  \n",
       "2022-06-14 16:30:01.426000+00:00      1.655224e+09  \n",
       "2022-06-14 16:30:01.528000+00:00      1.655224e+09  \n",
       "2022-06-14 16:30:01.631000+00:00      1.655224e+09  \n",
       "2022-06-14 16:30:01.732000+00:00      1.655224e+09  \n",
       "...                                            ...  \n",
       "2022-06-14 17:16:17.301000+00:00      1.655227e+09  \n",
       "2022-06-14 17:16:17.402000+00:00      1.655227e+09  \n",
       "2022-06-14 17:16:17.503000+00:00      1.655227e+09  \n",
       "2022-06-14 17:19:14.252000+00:00      1.655227e+09  \n",
       "2022-06-14 17:19:14.353000+00:00      1.655227e+09  \n",
       "\n",
       "[3038 rows x 10 columns]"
      ]
     },
     "execution_count": 43,
     "metadata": {},
     "output_type": "execute_result"
    }
   ],
   "source": [
    "await client.select_time_series(\n",
    "    \"lsst.sal.MTM2.logevent_m2AssemblyInPosition\", \n",
    "    fields=\"*\", \n",
    "    start=start, \n",
    "    end=end,\n",
    ")\n"
   ]
  },
  {
   "cell_type": "markdown",
   "id": "8d071ce5-92ee-4d8c-b577-d580a533ba34",
   "metadata": {},
   "source": [
    "---\n",
    "Temperature Events\n",
    "\n",
    "Verify the MTM2_logevent_CellTemperatureHiWarning and MTM2_logevent_temperatureOffset to the EFD"
   ]
  },
  {
   "cell_type": "code",
   "execution_count": 30,
   "id": "10233399-859f-4ae7-b9cc-acb3e988081d",
   "metadata": {},
   "outputs": [
    {
     "data": {
      "text/html": [
       "<div>\n",
       "<style scoped>\n",
       "    .dataframe tbody tr th:only-of-type {\n",
       "        vertical-align: middle;\n",
       "    }\n",
       "\n",
       "    .dataframe tbody tr th {\n",
       "        vertical-align: top;\n",
       "    }\n",
       "\n",
       "    .dataframe thead th {\n",
       "        text-align: right;\n",
       "    }\n",
       "</style>\n",
       "<table border=\"1\" class=\"dataframe\">\n",
       "  <thead>\n",
       "    <tr style=\"text-align: right;\">\n",
       "      <th></th>\n",
       "    </tr>\n",
       "  </thead>\n",
       "  <tbody>\n",
       "  </tbody>\n",
       "</table>\n",
       "</div>"
      ],
      "text/plain": [
       "Empty DataFrame\n",
       "Columns: []\n",
       "Index: []"
      ]
     },
     "execution_count": 30,
     "metadata": {},
     "output_type": "execute_result"
    }
   ],
   "source": [
    "await client.select_time_series(\n",
    "    \"lsst.sal.MTM2.logevent_CellTemperatureHiWarning\", \n",
    "    fields=\"*\", \n",
    "    start=start, \n",
    "    end=end,\n",
    ")\n"
   ]
  },
  {
   "cell_type": "code",
   "execution_count": 31,
   "id": "59f3aa7e-b025-4dfc-aa84-13f0c8d497c7",
   "metadata": {},
   "outputs": [
    {
     "data": {
      "text/html": [
       "<div>\n",
       "<style scoped>\n",
       "    .dataframe tbody tr th:only-of-type {\n",
       "        vertical-align: middle;\n",
       "    }\n",
       "\n",
       "    .dataframe tbody tr th {\n",
       "        vertical-align: top;\n",
       "    }\n",
       "\n",
       "    .dataframe thead th {\n",
       "        text-align: right;\n",
       "    }\n",
       "</style>\n",
       "<table border=\"1\" class=\"dataframe\">\n",
       "  <thead>\n",
       "    <tr style=\"text-align: right;\">\n",
       "      <th></th>\n",
       "    </tr>\n",
       "  </thead>\n",
       "  <tbody>\n",
       "  </tbody>\n",
       "</table>\n",
       "</div>"
      ],
      "text/plain": [
       "Empty DataFrame\n",
       "Columns: []\n",
       "Index: []"
      ]
     },
     "execution_count": 31,
     "metadata": {},
     "output_type": "execute_result"
    }
   ],
   "source": [
    "await client.select_time_series(\n",
    "    \"lsst.sal.MTM2.logevent_temperatureOffset\", \n",
    "    fields=\"*\", \n",
    "    start=start, \n",
    "    end=end,\n",
    ")\n"
   ]
  },
  {
   "cell_type": "code",
   "execution_count": null,
   "id": "9bd1adf5-66cb-47c8-a898-cca011e3732f",
   "metadata": {},
   "outputs": [],
   "source": [
    "---\n",
    "Interlock\n",
    "Verify the MTM2_logevent_interlock is published to the EFD."
   ]
  },
  {
   "cell_type": "code",
   "execution_count": 38,
   "id": "1ae1c326-8667-435a-b8e6-f7b6c9f812b0",
   "metadata": {},
   "outputs": [
    {
     "data": {
      "text/html": [
       "<div>\n",
       "<style scoped>\n",
       "    .dataframe tbody tr th:only-of-type {\n",
       "        vertical-align: middle;\n",
       "    }\n",
       "\n",
       "    .dataframe tbody tr th {\n",
       "        vertical-align: top;\n",
       "    }\n",
       "\n",
       "    .dataframe thead th {\n",
       "        text-align: right;\n",
       "    }\n",
       "</style>\n",
       "<table border=\"1\" class=\"dataframe\">\n",
       "  <thead>\n",
       "    <tr style=\"text-align: right;\">\n",
       "      <th></th>\n",
       "    </tr>\n",
       "  </thead>\n",
       "  <tbody>\n",
       "  </tbody>\n",
       "</table>\n",
       "</div>"
      ],
      "text/plain": [
       "Empty DataFrame\n",
       "Columns: []\n",
       "Index: []"
      ]
     },
     "execution_count": 38,
     "metadata": {},
     "output_type": "execute_result"
    }
   ],
   "source": [
    "await client.select_time_series(\n",
    "    \"lsst.sal.MTM2.logevent_interlock\", \n",
    "    fields=\"*\", \n",
    "    start=start, \n",
    "    end=end,\n",
    ")\n"
   ]
  },
  {
   "cell_type": "markdown",
   "id": "3a05c0c0-640d-4ead-8d18-ac3dc09ef229",
   "metadata": {},
   "source": [
    "---\n",
    "Jump to Step 37\n",
    "Hardpoint List\n",
    "\n",
    "Verify the MTM2_logevent_hardpointList is published to the EFD."
   ]
  },
  {
   "cell_type": "code",
   "execution_count": 40,
   "id": "affb5c3f-e9e4-4e29-80b6-87f5928c994a",
   "metadata": {},
   "outputs": [
    {
     "data": {
      "text/html": [
       "<div>\n",
       "<style scoped>\n",
       "    .dataframe tbody tr th:only-of-type {\n",
       "        vertical-align: middle;\n",
       "    }\n",
       "\n",
       "    .dataframe tbody tr th {\n",
       "        vertical-align: top;\n",
       "    }\n",
       "\n",
       "    .dataframe thead th {\n",
       "        text-align: right;\n",
       "    }\n",
       "</style>\n",
       "<table border=\"1\" class=\"dataframe\">\n",
       "  <thead>\n",
       "    <tr style=\"text-align: right;\">\n",
       "      <th></th>\n",
       "    </tr>\n",
       "  </thead>\n",
       "  <tbody>\n",
       "  </tbody>\n",
       "</table>\n",
       "</div>"
      ],
      "text/plain": [
       "Empty DataFrame\n",
       "Columns: []\n",
       "Index: []"
      ]
     },
     "execution_count": 40,
     "metadata": {},
     "output_type": "execute_result"
    }
   ],
   "source": [
    "await client.select_time_series(\n",
    "    \"lsst.sal.MTM2.logevent_hardpointList\", \n",
    "    fields=\"*\", \n",
    "    start=start, \n",
    "    end=end,\n",
    ")\n"
   ]
  },
  {
   "cell_type": "markdown",
   "id": "103b5dde-b6de-49a7-aff0-0089c9b86c3a",
   "metadata": {},
   "source": [
    "---\n",
    "Inclination Telemetry Source\n",
    "\n",
    "Verify the MTM2_logevent_inclinationTelemetrySource is published in the EFD.\n"
   ]
  },
  {
   "cell_type": "code",
   "execution_count": 41,
   "id": "d634d983-9259-4e57-99a2-a585b902fd1d",
   "metadata": {},
   "outputs": [
    {
     "data": {
      "text/html": [
       "<div>\n",
       "<style scoped>\n",
       "    .dataframe tbody tr th:only-of-type {\n",
       "        vertical-align: middle;\n",
       "    }\n",
       "\n",
       "    .dataframe tbody tr th {\n",
       "        vertical-align: top;\n",
       "    }\n",
       "\n",
       "    .dataframe thead th {\n",
       "        text-align: right;\n",
       "    }\n",
       "</style>\n",
       "<table border=\"1\" class=\"dataframe\">\n",
       "  <thead>\n",
       "    <tr style=\"text-align: right;\">\n",
       "      <th></th>\n",
       "    </tr>\n",
       "  </thead>\n",
       "  <tbody>\n",
       "  </tbody>\n",
       "</table>\n",
       "</div>"
      ],
      "text/plain": [
       "Empty DataFrame\n",
       "Columns: []\n",
       "Index: []"
      ]
     },
     "execution_count": 41,
     "metadata": {},
     "output_type": "execute_result"
    }
   ],
   "source": [
    "await client.select_time_series(\n",
    "    \"lsst.sal.MTM2.logevent_inclinationTelemetrySource\", \n",
    "    fields=\"*\", \n",
    "    start=start, \n",
    "    end=end,\n",
    ")\n"
   ]
  },
  {
   "cell_type": "markdown",
   "id": "55c57882-6e58-4fef-8672-1852570dbb12",
   "metadata": {},
   "source": [
    "Force Balance System Status\n",
    "\n",
    "Verify the MTM2_logevent_forceBalanceSystemStatus is being published to the EFD."
   ]
  },
  {
   "cell_type": "code",
   "execution_count": 44,
   "id": "8e77d592-d9ff-4025-9320-f3645d50048c",
   "metadata": {},
   "outputs": [
    {
     "data": {
      "text/html": [
       "<div>\n",
       "<style scoped>\n",
       "    .dataframe tbody tr th:only-of-type {\n",
       "        vertical-align: middle;\n",
       "    }\n",
       "\n",
       "    .dataframe tbody tr th {\n",
       "        vertical-align: top;\n",
       "    }\n",
       "\n",
       "    .dataframe thead th {\n",
       "        text-align: right;\n",
       "    }\n",
       "</style>\n",
       "<table border=\"1\" class=\"dataframe\">\n",
       "  <thead>\n",
       "    <tr style=\"text-align: right;\">\n",
       "      <th></th>\n",
       "    </tr>\n",
       "  </thead>\n",
       "  <tbody>\n",
       "  </tbody>\n",
       "</table>\n",
       "</div>"
      ],
      "text/plain": [
       "Empty DataFrame\n",
       "Columns: []\n",
       "Index: []"
      ]
     },
     "execution_count": 44,
     "metadata": {},
     "output_type": "execute_result"
    }
   ],
   "source": [
    "await client.select_time_series(\n",
    "    \"lsst.sal.MTM2.logevent_forceBalanceSystemStatus\", \n",
    "    fields=\"*\", \n",
    "    start=start, \n",
    "    end=end,\n",
    ")\n"
   ]
  },
  {
   "cell_type": "code",
   "execution_count": null,
   "id": "9d4b5173-fd86-4c17-9ace-00d05e33bc41",
   "metadata": {},
   "outputs": [],
   "source": []
  }
 ],
 "metadata": {
  "kernelspec": {
   "display_name": "LSST",
   "language": "python",
   "name": "lsst"
  },
  "language_info": {
   "codemirror_mode": {
    "name": "ipython",
    "version": 3
   },
   "file_extension": ".py",
   "mimetype": "text/x-python",
   "name": "python",
   "nbconvert_exporter": "python",
   "pygments_lexer": "ipython3",
   "version": "3.8.13"
  }
 },
 "nbformat": 4,
 "nbformat_minor": 5
}
