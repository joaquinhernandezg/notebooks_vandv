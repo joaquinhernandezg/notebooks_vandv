{
 "cells": [
  {
   "cell_type": "markdown",
   "id": "a6659203-b09f-48af-a8ac-9d8655230f6e",
   "metadata": {},
   "source": [
    "# [LVV-1615 (v1.0)] - M2 Integration with SAL\n",
    "\n",
    "This case will verify that the integration of the M2 with SAL.\n",
    "The blocks below represent the steps of the test case.\n",
    "\n",
    "Requirements\n",
    "* EFD\n",
    "* M2 powered on\n",
    "* CSC running (either simulation or hardware)\n",
    "\n",
    "This test will require manual verification of certain events and telemetry in the summit EFD.\n",
    "Also manual verification of appropriate temperatures for each actuator.\n",
    "\n",
    "**Make sure you run this notebook on TTS before running at the summit.**\n",
    "\n",
    "Please, see the [README] file for the requirements to run this notebook.\n",
    "\n",
    "[LVV-T1802]: https://jira.lsstcorp.org/secure/Tests.jspa#/testCase/LVV-T1802\n",
    "[README]: https://github.com/lsst-sitcom/notebooks_vandv/blob/develop/README.md\n",
    "\n",
    "[LVV-1615 (v1.0)]: https://jira.lsstcorp.org/secure/Tests.jspa#/testCase/LVV-T1615"
   ]
  },
  {
   "cell_type": "markdown",
   "id": "5fc5ca46-2bf0-4626-b9c2-7ac435571c64",
   "metadata": {},
   "source": [
    "## Setting Up Test Environment\n",
    "\n",
    "Before we run the tests, we want to make sure that we have all the libraries imported, remotes connected, etc."
   ]
  },
  {
   "cell_type": "code",
   "execution_count": null,
   "id": "866acbde-cf06-4015-8900-17e0782059d3",
   "metadata": {},
   "outputs": [],
   "source": [
    "test_case = \"LVV-T1615\"\n",
    "test_exec = \"LVV-EXXXX\""
   ]
  },
  {
   "cell_type": "code",
   "execution_count": null,
   "id": "7c08c731-3a91-4ef4-8587-21a9a380bbca",
   "metadata": {},
   "outputs": [],
   "source": [
    "%load_ext autoreload\n",
    "%autoreload 2\n",
    "\n",
    "import asyncio\n",
    "import os\n",
    "import yaml\n",
    "\n",
    "import astropy.units as u\n",
    "import numpy as np\n",
    "import matplotlib.pyplot as plt\n",
    "import pandas as pd\n",
    "\n",
    "from astropy import time \n",
    "from astropy.coordinates import AltAz, ICRS, EarthLocation, Angle, FK5\n",
    "from datetime import datetime, timedelta\n",
    "\n",
    "from lsst_efd_client import EfdClient\n",
    "from lsst.ts import utils, salobj\n",
    "from lsst.ts.cRIOpy import M1M3FATable\n",
    "from lsst.ts.observatory.control.maintel.mtcs import MTCS, MTCSUsages\n",
    "from lsst.ts.observatory.control import RotType\n",
    "\n",
    "import lsst.sitcom.vandv as vandv\n",
    "\n",
    "from lsst.sitcom import vandv"
   ]
  },
  {
   "cell_type": "code",
   "execution_count": null,
   "id": "ade4bf3d-8cbb-44bc-833d-0505190c1778",
   "metadata": {},
   "outputs": [],
   "source": [
    "exec_info = vandv.ExecutionInfo()\n",
    "print(exec_info)\n",
    "\n",
    "print(os.environ[\"OSPL_URI\"])\n",
    "print(os.environ[\"LSST_DDS_PARTITION_PREFIX\"])\n",
    "print(os.environ[\"LSST_DDS_DOMAIN_ID\"])"
   ]
  },
  {
   "cell_type": "markdown",
   "id": "f9d8afb2-65a6-43c0-9ef5-2330bd7760d9",
   "metadata": {},
   "source": [
    "Creates a client used to query data from the EFD."
   ]
  },
  {
   "cell_type": "code",
   "execution_count": null,
   "id": "9d502998-7568-4832-8506-73eea8f7221d",
   "metadata": {},
   "outputs": [],
   "source": [
    "client = vandv.efd.create_efd_client()"
   ]
  },
  {
   "cell_type": "markdown",
   "id": "5983ad1a-df4e-4f90-af24-2506d86c30f6",
   "metadata": {},
   "source": [
    "This sets up the logger for the test."
   ]
  },
  {
   "cell_type": "code",
   "execution_count": null,
   "id": "3e96b5fc-81dc-4b92-9e02-991a5e60644c",
   "metadata": {},
   "outputs": [],
   "source": [
    "logging.basicConfig(format=\"%(name)s:%(message)s\", level=logging.DEBUG)"
   ]
  },
  {
   "cell_type": "code",
   "execution_count": null,
   "id": "f4603745-6d97-46cf-8f01-0aa4d03e0772",
   "metadata": {},
   "outputs": [],
   "source": [
    "log = logging.getLogger(\"setup\")\n",
    "log.level = logging.DEBUG"
   ]
  },
  {
   "cell_type": "code",
   "execution_count": null,
   "id": "676a2985-9302-4483-a4e5-e5dc1786d918",
   "metadata": {},
   "outputs": [],
   "source": [
    "domain = salobj.Domain()"
   ]
  },
  {
   "cell_type": "code",
   "execution_count": null,
   "id": "52ae7748-0d71-4d1f-b20f-df21fd09b15f",
   "metadata": {},
   "outputs": [],
   "source": [
    "csc_index = 2\n",
    "hexapod_csc = salobj.Remote(name=\"MTHexapod\", domain=domain, index=csc_index)\n",
    "print(hexapod_csc)"
   ]
  },
  {
   "cell_type": "code",
   "execution_count": null,
   "id": "a9b26fec-9a8e-4206-9d8a-9c9c67fad352",
   "metadata": {},
   "outputs": [],
   "source": [
    "mtcs = MTCS(domain=domain, log=log)\n",
    "mtcs.set_rem_loglevel(40)"
   ]
  },
  {
   "cell_type": "code",
   "execution_count": null,
   "id": "9702c303-2d8a-4b2d-9278-ed3292761486",
   "metadata": {},
   "outputs": [],
   "source": [
    "await mtcs.start_task"
   ]
  },
  {
   "cell_type": "markdown",
   "id": "56a07b9b-4082-4a72-988b-5a8c96c08c6b",
   "metadata": {},
   "source": [
    "Starts a Script controller which allows putting custom messages into the EFD for later analysis."
   ]
  },
  {
   "cell_type": "code",
   "execution_count": null,
   "id": "b50492ab-91fc-4f1d-875a-5d2e33e7584b",
   "metadata": {},
   "outputs": [],
   "source": [
    "index = 16151296  # Test Case + Test Execution\n",
    "\n",
    "start_time = datetime.now()\n",
    "script = salobj.Controller(\"Script\", index=index)\n",
    "\n",
    "script.log.info(f\"START - {test_case} - {test_exec}\")"
   ]
  },
  {
   "cell_type": "markdown",
   "id": "90fb4093-a867-4424-bbfe-81c93f4bba78",
   "metadata": {},
   "source": [
    "This is how you start the remote for the CSC."
   ]
  },
  {
   "cell_type": "code",
   "execution_count": null,
   "id": "b786eb03-ac3b-4009-a0d2-85a9fd81e7b2",
   "metadata": {},
   "outputs": [],
   "source": [
    "domain = salobj.Domain()\n",
    "print(domain)"
   ]
  },
  {
   "cell_type": "markdown",
   "id": "43ef357b-b366-493d-9473-0e038b1b8401",
   "metadata": {},
   "source": [
    "Create the remote to controle the M2."
   ]
  },
  {
   "cell_type": "code",
   "execution_count": null,
   "id": "a5fce3c6-8851-42ad-afb9-b193de800e56",
   "metadata": {},
   "outputs": [],
   "source": [
    "mtm2 = salobj.Remote(name=\"MTM2\", domain=domain)\n",
    "print(mtm2)"
   ]
  },
  {
   "cell_type": "markdown",
   "id": "58bb6fa2-0500-4dd7-a0d8-6a06f561f333",
   "metadata": {},
   "source": [
    "Start the M2 service."
   ]
  },
  {
   "cell_type": "code",
   "execution_count": null,
   "id": "67fa7205-1626-47ec-a336-1eb7e7d50c83",
   "metadata": {},
   "outputs": [],
   "source": [
    "await mtm2.start_task"
   ]
  },
  {
   "cell_type": "markdown",
   "id": "5c98856c-22db-4c66-ab41-7dc99a241a23",
   "metadata": {},
   "source": [
    "Check for heartbeats."
   ]
  },
  {
   "cell_type": "code",
   "execution_count": null,
   "id": "1ea44d41-7dee-41d9-82bd-e274a9367b8c",
   "metadata": {},
   "outputs": [],
   "source": [
    "await mtm2.evt_heartbeat.next(flush=True, timeout=5)"
   ]
  },
  {
   "cell_type": "markdown",
   "id": "d4080ac2-573c-4ed1-9fcf-2dd954c3ea1c",
   "metadata": {},
   "source": [
    "At some point, MTM2 will look for the elevation value.  \n",
    "Because of this, `mtmount` needs to be in, at least, DISABLED state."
   ]
  },
  {
   "cell_type": "code",
   "execution_count": null,
   "id": "8b412421-d781-4291-bf3d-543884ff7aaa",
   "metadata": {},
   "outputs": [],
   "source": [
    "mtmount = salobj.Remote(name=\"MTMount\", domain=domain)\n",
    "await asyncio.sleep(10)\n",
    "await mtmount.start_task"
   ]
  },
  {
   "cell_type": "code",
   "execution_count": null,
   "id": "75702f1c-0949-48d3-83ff-50fcf0b927dd",
   "metadata": {},
   "outputs": [],
   "source": [
    "await salobj.set_summary_state(mtmount, salobj.State.DISABLED)"
   ]
  },
  {
   "cell_type": "markdown",
   "id": "82f91794-c0a4-4223-8b06-11524bc8096c",
   "metadata": {},
   "source": [
    "## M2 DDS Startup Procedure"
   ]
  },
  {
   "cell_type": "markdown",
   "id": "978c1a3e-7c59-4c3d-8552-98c94b6480ca",
   "metadata": {},
   "source": [
    "---\n",
    "### Connect to https://ls.st/hexrot-vm01\n",
    "\n",
    "Make sure that you have an IPA account and that your username is part of the saluser group.\n",
    "\n",
    "Access https://ls.st/hexrot-vm01 using a browser (Firefox recommended).\n",
    "\n",
    "Log in with your account and open a terminal."
   ]
  },
  {
   "cell_type": "markdown",
   "id": "0ddedfcd-addc-4f64-81cb-a913f1a06943",
   "metadata": {},
   "source": [
    "---\n",
    "### Start MTM2 EUI\n",
    "\n",
    "Using the terminal, navigate to the `/rubin/mtm2/build folder` and execute `runM2Cntlr`.  \n",
    "Use the example code below to check if there is another session before starting your own.  \n",
    "\n",
    "```\n",
    "$ ps -aux | grep runM2Cntlr\n",
    "```\n",
    "\n",
    "If there is another session running, it is recommended that you contact the user and ask them to close it."
   ]
  },
  {
   "cell_type": "markdown",
   "id": "ba70632e-ece0-4b7b-a3f8-26cd4cd5c06a",
   "metadata": {},
   "source": [
    "---\n",
    "### MTM2 to DISABLED\n",
    "\n",
    "Transition the MTM2 CSC into DISABLED state either through LOVE or through Jupyter Notebook. "
   ]
  },
  {
   "cell_type": "code",
   "execution_count": null,
   "id": "90061c18-e9af-447b-bf24-9c1d24187cc2",
   "metadata": {},
   "outputs": [],
   "source": [
    "await salobj.set_summary_state(mtm2, salobj.State.DISABLED)"
   ]
  },
  {
   "cell_type": "markdown",
   "id": "24183b5e-f6ff-4fbf-b67d-92bfea87e031",
   "metadata": {},
   "source": [
    "---\n",
    "Verify the M2 is commandable by DDS by checking the EFD.  \n",
    "The `MTM2_logevent_commandableByDDS` should publish `True`."
   ]
  },
  {
   "cell_type": "code",
   "execution_count": null,
   "id": "9b8bbe78-6f46-49a8-898d-d98a94afe6e6",
   "metadata": {},
   "outputs": [],
   "source": [
    "e = mtcs.rem.mtm2.evt_commandableByDDS.get()\n",
    "print(e)"
   ]
  },
  {
   "cell_type": "markdown",
   "id": "738fda6d-9dc7-4ed4-8c82-6e58ac3d2ac7",
   "metadata": {},
   "source": [
    "Check the event above using the EFD."
   ]
  },
  {
   "cell_type": "code",
   "execution_count": null,
   "id": "1e740f47-7a8d-4a45-8af8-5ffdcfc7da36",
   "metadata": {},
   "outputs": [],
   "source": [
    "df = await client.select_top_n(\n",
    "    \"lsst.sal.MTM2.logevent_commandableByDDS\", \n",
    "    fields=\"state\",\n",
    "    num=1,\n",
    ")\n",
    "\n",
    "print(df)"
   ]
  },
  {
   "cell_type": "markdown",
   "id": "6f4608a4-7c4c-41a4-9a8e-4453f702ed11",
   "metadata": {},
   "source": [
    "---\n",
    "Transition the MTM2 CSC into ENABLED state through LOVE. "
   ]
  },
  {
   "cell_type": "code",
   "execution_count": null,
   "id": "e6fc2118-e995-43b4-b81f-701b2e083d51",
   "metadata": {},
   "outputs": [],
   "source": [
    "await salobj.set_summary_state(mtm2, salobj.State.ENABLED)"
   ]
  },
  {
   "cell_type": "markdown",
   "id": "784127bf-32bb-42f5-9e89-f2e9cdc0e248",
   "metadata": {},
   "source": [
    "## M2 SAL Telemetry\n",
    "\n",
    "Verify M2 SAL telemetry against EUI display and the EFD.\n",
    "\n",
    "If you have been running this notebook sequencially, the items below should be already satisfied.\n",
    "- Power up the control system\n",
    "- Transition the CSC to at least disabled \n",
    "- Observe the current information in the EUI.\n",
    "\n",
    "---\n",
    "In closed loop mode, add 20N to actuator B1."
   ]
  },
  {
   "cell_type": "code",
   "execution_count": null,
   "id": "47bd18fd-985c-4448-91fa-2b4291bc3c7b",
   "metadata": {},
   "outputs": [],
   "source": [
    "axial_forces = np.zeros(72)\n",
    "axial_forces[0] = 20 # in N - This is Actuator B1 \n",
    "\n",
    "await mtcs.rem.mtm2.cmd_applyForces.set_start(axial=axial_forces)"
   ]
  },
  {
   "cell_type": "markdown",
   "id": "c1ac078d-8bad-4360-adbc-6c52cb9f6fc3",
   "metadata": {},
   "source": [
    "Perform data analysis:\n",
    "- Compare the information from the EFD with the information from the EUI.\n",
    "- Check all the events & telemetry info available, including, e.g. VMS, temperature, position sensors, etc.\n",
    "- In the same notebook, we query EFD and compare."
   ]
  },
  {
   "cell_type": "markdown",
   "id": "8b72cd79-cd63-46bc-8d76-f6901779b447",
   "metadata": {},
   "source": [
    "---\n",
    "Check the `MTM2_position` topic published to the EFD."
   ]
  },
  {
   "cell_type": "code",
   "execution_count": null,
   "id": "78a34aeb-e030-434f-94cd-dd9ead554e6c",
   "metadata": {},
   "outputs": [],
   "source": [
    "df = await client.select_top_n(\n",
    "    \"lsst.sal.MTM2.position\", \n",
    "    fields=\"*\",\n",
    "    num=1,\n",
    ")\n",
    "\n",
    "print(df)"
   ]
  },
  {
   "cell_type": "markdown",
   "id": "f522e1d8-1097-480a-a2db-4586df499167",
   "metadata": {},
   "source": [
    "---\n",
    "Check the `MTM2_axialForce` topic published to the EFD."
   ]
  },
  {
   "cell_type": "code",
   "execution_count": null,
   "id": "e5d96fda-0853-4cf0-8293-03ba685f8b28",
   "metadata": {},
   "outputs": [],
   "source": [
    "df = await client.select_top_n(\n",
    "    \"lsst.sal.MTM2.axialForce\", \n",
    "    fields=\"*\",\n",
    "    num=1,\n",
    ")\n",
    "\n",
    "print(df)"
   ]
  },
  {
   "cell_type": "markdown",
   "id": "9485a1a0-1f67-470c-bc2d-8c6228d4c7f4",
   "metadata": {},
   "source": [
    "---\n",
    "Check the `MTM2_tangentForce` topic published to the EFD."
   ]
  },
  {
   "cell_type": "code",
   "execution_count": null,
   "id": "fa3932d3-085f-42fc-8dcc-33f46b0bf56f",
   "metadata": {},
   "outputs": [],
   "source": [
    "df = await client.select_top_n(\n",
    "    \"lsst.sal.MTM2.tangentForce\", \n",
    "    fields=\"*\",\n",
    "    num=1,\n",
    ")\n",
    "\n",
    "print(df)"
   ]
  },
  {
   "cell_type": "markdown",
   "id": "8037e69b-040e-443b-821b-4ad7473088a5",
   "metadata": {},
   "source": [
    "---\n",
    "Check the `MTM2_forceBalance` topic published to the EFD."
   ]
  },
  {
   "cell_type": "code",
   "execution_count": null,
   "id": "cb603de5-df8b-4f90-9443-79874aaac0bd",
   "metadata": {},
   "outputs": [],
   "source": [
    "df = await client.select_top_n(\n",
    "    \"lsst.sal.MTM2.forceBalance\", \n",
    "    fields=\"*\",\n",
    "    num=1,\n",
    ")\n",
    "\n",
    "print(df)"
   ]
  },
  {
   "cell_type": "markdown",
   "id": "1411921c-8d59-414e-88c9-9e7d81256e94",
   "metadata": {},
   "source": [
    "---\n",
    "Check the `MTM2_netForcesTotal` topic published to the EFD."
   ]
  },
  {
   "cell_type": "code",
   "execution_count": null,
   "id": "efbe9497-5234-41da-9af0-a2da5fa0cdb9",
   "metadata": {},
   "outputs": [],
   "source": [
    "df = await client.select_top_n(\n",
    "    \"lsst.sal.MTM2.netForcesTotal\", \n",
    "    fields=\"*\",\n",
    "    num=1,\n",
    ")\n",
    "\n",
    "print(df)"
   ]
  },
  {
   "cell_type": "markdown",
   "id": "21301836-d087-43f6-81f4-3e0b9769be37",
   "metadata": {},
   "source": [
    "---\n",
    "Check the `MTM2_netMomentsTotal` topic published to the EFD."
   ]
  },
  {
   "cell_type": "code",
   "execution_count": null,
   "id": "7ab8c0ad-9222-4364-b8d2-45b4b7ff0436",
   "metadata": {},
   "outputs": [],
   "source": [
    "df = await client.select_top_n(\n",
    "    \"lsst.sal.MTM2.netMomentsTotal\", \n",
    "    fields=\"*\",\n",
    "    num=1,\n",
    ")\n",
    "\n",
    "print(df)"
   ]
  },
  {
   "cell_type": "markdown",
   "id": "d846440a-ec9b-4940-8df5-42f06b11af80",
   "metadata": {},
   "source": [
    "---\n",
    "Check the `MTM2_temperature` topic published to the EFD."
   ]
  },
  {
   "cell_type": "code",
   "execution_count": null,
   "id": "20c20c0a-1ef7-4d76-ba4f-33a2501ccb1f",
   "metadata": {},
   "outputs": [],
   "source": [
    "df = await client.select_top_n(\n",
    "    \"lsst.sal.MTM2.temperature\", \n",
    "    fields=\"*\",\n",
    "    num=1,\n",
    ")\n",
    "\n",
    "print(df)"
   ]
  },
  {
   "cell_type": "markdown",
   "id": "3a678a5a-15e3-4fc1-89bf-5a70cc438531",
   "metadata": {},
   "source": [
    "---\n",
    "Check the `MTM2_zenithAngle` topic published to the EFD."
   ]
  },
  {
   "cell_type": "code",
   "execution_count": null,
   "id": "c4e878e9-6759-4b20-9fe6-65b2f469c77a",
   "metadata": {},
   "outputs": [],
   "source": [
    "df = await client.select_top_n(\n",
    "    \"lsst.sal.MTM2.zenithAngle\", \n",
    "    fields=\"*\",\n",
    "    num=1,\n",
    ")\n",
    "\n",
    "print(df)"
   ]
  },
  {
   "cell_type": "markdown",
   "id": "f509e57f-74f7-43c3-bb24-7213d7a9f645",
   "metadata": {},
   "source": [
    "---\n",
    "Check the `MTM2_axialActutatorSteps` topic published to the EFD."
   ]
  },
  {
   "cell_type": "code",
   "execution_count": null,
   "id": "aad0af15-1386-4395-8e0e-baf773f826b3",
   "metadata": {},
   "outputs": [],
   "source": [
    "df = await client.select_top_n(\n",
    "    \"lsst.sal.MTM2.axialActutatorSteps\", \n",
    "    fields=\"*\",\n",
    "    num=1,\n",
    ")\n",
    "\n",
    "print(df)"
   ]
  },
  {
   "cell_type": "markdown",
   "id": "4fd43475-65f8-4275-9b5e-b28b8c72e679",
   "metadata": {},
   "source": [
    "---\n",
    "Check the `MTM2_tangentActuatorSteps` topic published to the EFD."
   ]
  },
  {
   "cell_type": "code",
   "execution_count": null,
   "id": "6819db3d-1d8c-481a-96b1-c34bfc0c8821",
   "metadata": {},
   "outputs": [],
   "source": [
    "df = await client.select_top_n(\n",
    "    \"lsst.sal.MTM2.tangentActuatorSteps\", \n",
    "    fields=\"*\",\n",
    "    num=1,\n",
    ")\n",
    "\n",
    "print(df)"
   ]
  },
  {
   "cell_type": "markdown",
   "id": "dc3e1fd0-60f8-4406-b249-a499c449955b",
   "metadata": {},
   "source": [
    "---\n",
    "Check the `MTM2_axialEncoderPositions` topic published to the EFD."
   ]
  },
  {
   "cell_type": "code",
   "execution_count": null,
   "id": "97865025-61d8-430c-b5b1-59306611a397",
   "metadata": {},
   "outputs": [],
   "source": [
    "df = await client.select_top_n(\n",
    "    \"lsst.sal.MTM2.axialEncoderPositions\", \n",
    "    fields=\"*\",\n",
    "    num=1,\n",
    ")\n",
    "\n",
    "print(df)"
   ]
  },
  {
   "cell_type": "markdown",
   "id": "d4179a0c-ef39-4365-954b-6efb684eaa15",
   "metadata": {},
   "source": [
    "---\n",
    "Check the `MTM2_tangentEncoderPositions` topic published to the EFD."
   ]
  },
  {
   "cell_type": "code",
   "execution_count": null,
   "id": "a9442e8f-97e0-4792-8793-ecb4110a7a6c",
   "metadata": {},
   "outputs": [],
   "source": [
    "df = await client.select_top_n(\n",
    "    \"lsst.sal.MTM2.tangentEncoderPositions\", \n",
    "    fields=\"*\",\n",
    "    num=1,\n",
    ")\n",
    "\n",
    "print(df)"
   ]
  },
  {
   "cell_type": "markdown",
   "id": "93d1c0b6-89da-491b-abb0-2b9b72dc03ac",
   "metadata": {},
   "source": [
    "---\n",
    "Check the `MTM2_ilcData` topic published to the EFD."
   ]
  },
  {
   "cell_type": "code",
   "execution_count": null,
   "id": "f84fddb7-bf0e-4643-9d47-2f209b7be596",
   "metadata": {},
   "outputs": [],
   "source": [
    "df = await client.select_top_n(\n",
    "    \"lsst.sal.MTM2.ilcData\", \n",
    "    fields=\"*\",\n",
    "    num=1,\n",
    ")\n",
    "\n",
    "print(df)"
   ]
  },
  {
   "cell_type": "markdown",
   "id": "9ec64db2-90fa-49c4-b2c5-a56751c9c579",
   "metadata": {},
   "source": [
    "---\n",
    "Check the `MTM2_powerStatus` topic published to the EFD."
   ]
  },
  {
   "cell_type": "code",
   "execution_count": null,
   "id": "dbe7b16b-a91f-4876-b2ec-632dab1a9c65",
   "metadata": {},
   "outputs": [],
   "source": [
    "df = await client.select_top_n(\n",
    "    \"lsst.sal.MTM2.powerStatus\", \n",
    "    fields=\"*\",\n",
    "    num=1,\n",
    ")\n",
    "\n",
    "print(df)"
   ]
  },
  {
   "cell_type": "markdown",
   "id": "319d1b99-075d-47e0-8b45-f98ae9b8becc",
   "metadata": {},
   "source": [
    "---\n",
    "Check the `MTM2_displacementSensors` topic published to the EFD."
   ]
  },
  {
   "cell_type": "code",
   "execution_count": null,
   "id": "9da0cafe-c07d-4d1e-8349-a0dd4c2d5579",
   "metadata": {},
   "outputs": [],
   "source": [
    "df = await client.select_top_n(\n",
    "    \"lsst.sal.MTM2.displacementSensors\", \n",
    "    fields=\"*\",\n",
    "    num=1,\n",
    ")\n",
    "\n",
    "print(df)"
   ]
  },
  {
   "cell_type": "markdown",
   "id": "55f02e94-c036-42a0-aac5-c68a3e97606a",
   "metadata": {},
   "source": [
    "---\n",
    "Check the `MTM2_positionIMS` topic published to the EFD."
   ]
  },
  {
   "cell_type": "code",
   "execution_count": null,
   "id": "f5a9c6d6-6d39-4c39-9c30-52f037cb8e85",
   "metadata": {},
   "outputs": [],
   "source": [
    "df = await client.select_top_n(\n",
    "    \"lsst.sal.MTM2.positionIMS\", \n",
    "    fields=\"*\",\n",
    "    num=1,\n",
    ")\n",
    "\n",
    "print(df)"
   ]
  },
  {
   "cell_type": "markdown",
   "id": "a33d058c-af4f-401a-94a9-edb02908e691",
   "metadata": {},
   "source": [
    "---\n",
    "Check that the GUI has been updated to match the categorization of the forces in the SAL telemetry."
   ]
  },
  {
   "cell_type": "markdown",
   "id": "c7aee303-2b34-486b-b677-54d7b1cdb93e",
   "metadata": {},
   "source": [
    "## M2 SAL Events\n",
    "\n",
    "### M2 Assembly detailed state\n",
    "\n",
    "Verify the `MTM2_logevent_detailedState` event is published to the EFD.  \n",
    "Verify that the event shows all parameters, all values are in the units as defined in the XML and all parameters have meaningful values.  "
   ]
  },
  {
   "cell_type": "code",
   "execution_count": null,
   "id": "dc398027-960d-4e6c-baae-f2c32b1fa883",
   "metadata": {},
   "outputs": [],
   "source": [
    "df = await client.select_top_n(\n",
    "    \"lsst.sal.MTM2.logevent_detailedState\", \n",
    "    fields=\"*\",\n",
    "    num=1,\n",
    ")\n",
    "\n",
    "print(df)"
   ]
  },
  {
   "cell_type": "markdown",
   "id": "82600212-2a5a-4147-8057-383479b33bce",
   "metadata": {},
   "source": [
    "### M2 Assembly Controller State\n",
    "\n",
    "Verify the `MTM2_logevent_controllerState` event is published to the EFD.  \n",
    "Verify that the event shows all parameters, all values are in the units as defined in the XML and all parameters have meaningful values.  "
   ]
  },
  {
   "cell_type": "code",
   "execution_count": null,
   "id": "3d94b1b3-d186-49cd-b325-473b3b4bd119",
   "metadata": {},
   "outputs": [],
   "source": [
    "df = await client.select_top_n(\n",
    "    \"lsst.sal.MTM2.logevent_controllerState\", \n",
    "    fields=\"*\",\n",
    "    num=1,\n",
    ")\n",
    "\n",
    "print(df)"
   ]
  },
  {
   "cell_type": "markdown",
   "id": "385d6e21-b11e-4396-8438-8b42bc7a3a10",
   "metadata": {},
   "source": [
    "### M2 Assembly inPosition\n",
    "\n",
    "Verify that `MTM2_logevent_m2AssemblyInPosition` event is published to the EFD.  \n",
    "Verify that the event shows all parameters, all values are in the units as defined in the XML and all parameters have meaningful values.  \n",
    "\n",
    "The `MTM2_logevent_m2AssemblyInPosition` event should publish `False`. "
   ]
  },
  {
   "cell_type": "code",
   "execution_count": null,
   "id": "758b0dc1-a68e-4924-b890-752b92878476",
   "metadata": {},
   "outputs": [],
   "source": [
    "df = await client.select_top_n(\n",
    "    \"lsst.sal.MTM2.logevent_m2AssemblyInPosition\", \n",
    "    fields=\"*\",\n",
    "    num=1,\n",
    ")\n",
    "\n",
    "print(df)"
   ]
  },
  {
   "cell_type": "markdown",
   "id": "e5ed12be-a526-45ba-97ee-9eee29d2cb00",
   "metadata": {},
   "source": [
    "### Temperature Events\n",
    "\n",
    "Verify the `MTM2_logevent_CellTemperatureHiWarning` and `MTM2_logevent_temperatureOffset` to the EFD.  \n",
    "Verify that the event shows all parameters, all values are in the units as defined in the XML and all parameters have meaningful values.\n",
    "\n",
    "The `MTM2_logevent_CellTemperatureHiWarning` publishes `false` and the `MTM2_logevent_temperatureOffset` is publishing values in the EFD. "
   ]
  },
  {
   "cell_type": "code",
   "execution_count": null,
   "id": "91a494d9-eb70-4f3b-9b4f-743316681fa7",
   "metadata": {},
   "outputs": [],
   "source": [
    "df = await client.select_top_n(\n",
    "    \"lsst.sal.MTM2.logevent_CellTemperatureHiWarning\", \n",
    "    fields=\"*\",\n",
    "    num=1,\n",
    ")\n",
    "\n",
    "print(df)"
   ]
  },
  {
   "cell_type": "code",
   "execution_count": null,
   "id": "30895fdb-65eb-46b4-b930-b89139a1cf65",
   "metadata": {},
   "outputs": [],
   "source": [
    "df = await client.select_top_n(\n",
    "    \"lsst.sal.MTM2.logevent_temperatureOffset\", \n",
    "    fields=\"*\",\n",
    "    num=1,\n",
    ")\n",
    "\n",
    "print(df)"
   ]
  },
  {
   "cell_type": "markdown",
   "id": "03e65c21-febf-4adc-9188-825b9a9bf4c5",
   "metadata": {},
   "source": [
    "### Interlock\n",
    "\n",
    "Verify the `MTM2_logevent_interlock` is published to the EFD.  \n",
    "Verify that the event shows all parameters, all values are in the units as defined in the XML and all parameters have meaningful values.\n",
    "\n",
    "The `MTM2_logevent_interlock` event is published. "
   ]
  },
  {
   "cell_type": "code",
   "execution_count": null,
   "id": "49cbc2ab-e25a-425a-af44-3146893af5a1",
   "metadata": {},
   "outputs": [],
   "source": [
    "df = await client.select_top_n(\n",
    "    \"lsst.sal.MTM2.logevent_interlock\", \n",
    "    fields=\"*\",\n",
    "    num=1,\n",
    ")\n",
    "\n",
    "print(df)"
   ]
  },
  {
   "cell_type": "markdown",
   "id": "f1565580-1dcc-4841-ac7c-6de1cf48f7e5",
   "metadata": {},
   "source": [
    "### TCP/IP connected\n",
    "\n",
    "<span style=\"color: firebrick\">\n",
    "    The M2 does not really detect the interlock at this moment.  <br />\n",
    "    This will be fixed in the C++ version of code.  <br /> \n",
    "    <br />\n",
    "    I guess the TCP/IP fault might not recover (if you mean the cable connects to the cRIO). <br />\n",
    "    But I might be wrong for this part. <br />\n",
    "    <br />\n",
    "</span>\n",
    "  \n",
    "Unplug the ethernet cable.  \n",
    "The system will go into `FAULT` and a `MTM2_logevent_tcpIpConnected` event is published as FALSE.  "
   ]
  },
  {
   "cell_type": "code",
   "execution_count": null,
   "id": "c178ef8f-85ab-4a1f-909f-263567552fd8",
   "metadata": {},
   "outputs": [],
   "source": [
    "df = await client.select_top_n(\n",
    "    \"lsst.sal.MTM2.logevent_tcpIpConnected\", \n",
    "    fields=\"*\",\n",
    "    num=1,\n",
    ")\n",
    "\n",
    "print(df)"
   ]
  },
  {
   "cell_type": "markdown",
   "id": "0827b3b3-50fc-41ce-9849-6c8d3e85d510",
   "metadata": {},
   "source": [
    "Plug the ethernet cable back in and try to transition from the `FAULT` state to `ENABLED` state."
   ]
  },
  {
   "cell_type": "code",
   "execution_count": null,
   "id": "29455f12-6d6d-49d0-b449-95c8f7fa0438",
   "metadata": {},
   "outputs": [],
   "source": [
    "await salobj.set_summary_state(mtm2, salobj.State.ENABLED)"
   ]
  },
  {
   "cell_type": "code",
   "execution_count": null,
   "id": "ea2cc6ff-8b16-4749-8f57-0ef0810b3234",
   "metadata": {},
   "outputs": [],
   "source": [
    "df = await client.select_top_n(\n",
    "    \"lsst.sal.MTM2.logevent_tcpIpConnected\", \n",
    "    fields=\"*\",\n",
    "    num=1,\n",
    ")\n",
    "\n",
    "print(df)"
   ]
  },
  {
   "cell_type": "markdown",
   "id": "fd6cd0c4-d1db-48af-b2e5-e8f33f2a3b0b",
   "metadata": {},
   "source": [
    "### Hardpoint List\n",
    "\n",
    "Verify the `MTM2_logevent_hardpointList` is published to the EFD.  \n",
    "Verify that the event shows all parameters, all values are in the units as defined in the XML and  all parameters have meaningful values."
   ]
  },
  {
   "cell_type": "code",
   "execution_count": null,
   "id": "454597f9-9f49-4895-b6ed-e18d9d3d11e3",
   "metadata": {},
   "outputs": [],
   "source": [
    "df = await client.select_top_n(\n",
    "    \"lsst.sal.MTM2.logevent_hardpointList\", \n",
    "    fields=\"*\",\n",
    "    num=1,\n",
    ")\n",
    "\n",
    "print(df)"
   ]
  },
  {
   "cell_type": "markdown",
   "id": "df3336b2-f114-4d36-b8d6-346e79f64221",
   "metadata": {},
   "source": [
    "### Inclination Telemetry Source\n",
    "\n",
    "Verify the `MTM2_logevent_inclinationTelemetrySource` is published in the EFD.  \n",
    "Verify that the event shows all parameters, all values are in the units as defined in the XML and all parameters have meaningful values."
   ]
  },
  {
   "cell_type": "code",
   "execution_count": null,
   "id": "895c3a1d-1508-471d-89b4-d8805b224047",
   "metadata": {},
   "outputs": [],
   "source": [
    "df = await client.select_top_n(\n",
    "    \"lsst.sal.MTM2.logevent_inclinationTelemetrySource\", \n",
    "    fields=\"*\",\n",
    "    num=1,\n",
    ")\n",
    "\n",
    "print(df)"
   ]
  },
  {
   "cell_type": "markdown",
   "id": "206107c1-085b-4099-b0b5-3e43f6f7e2e6",
   "metadata": {},
   "source": [
    "### Force Balance System Status\n",
    "\n",
    "Verify the `MTM2_logevent_forceBalanceSystemStatus` is being published to the EFD.  \n",
    "Verify that the event shows all parameters, all values are in the units as defined in the XML and all parameters have meaningful values."
   ]
  },
  {
   "cell_type": "code",
   "execution_count": null,
   "id": "cb17666e-53fb-4110-a217-8f960a4afaf4",
   "metadata": {},
   "outputs": [],
   "source": [
    "df = await client.select_top_n(\n",
    "    \"lsst.sal.MTM2.logevent_forceBalanceSystemStatus\", \n",
    "    fields=\"*\",\n",
    "    num=1,\n",
    ")\n",
    "\n",
    "print(df)"
   ]
  },
  {
   "cell_type": "markdown",
   "id": "6795e706-f03f-4479-b708-1ae5f71539bb",
   "metadata": {},
   "source": [
    "## M2 SAL Commands\n",
    "\n",
    "### ApplyForces command\n",
    "\n",
    "Before sending the ApplyForces command, take note of the force telemetry output by the EFD.  \n",
    "The force telemetry should reflect the forces applied by the LUT.  \n",
    "This will be seen as the initial condition.  \n",
    "\n",
    "---\n",
    "In the enabledState and closed-loop mode, send the `ApplyForces` command over SAL.  \n",
    "Since this command was applied previously due to a \"Test Case Import\", we will send another force.  \n",
    "\n",
    "Forces should not be applied to the axial actuators at the same time as the tangential actuators.  \n",
    "Make sure the summation of forces in the Z-direction is zero.  \n",
    "The forces applied should not be random values. As an example, apply bending modes 1-20.\n",
    "\n",
    "The force telemetry should show the combined value of forces from the initial condition and the forces commanded through SAL.  \n",
    "The difference between the force telemetry between now and the initial condition should equal the forces sent through the `ApplyForces` command"
   ]
  },
  {
   "cell_type": "code",
   "execution_count": null,
   "id": "8177f84d-8d0b-40e2-9b7d-5a5fd780372d",
   "metadata": {},
   "outputs": [],
   "source": [
    "df = await client.select_top_n(\n",
    "    \"lsst.sal.MTM2.axialForce\", \n",
    "    fields=\"*\",\n",
    "    num=1,\n",
    ")\n",
    "\n",
    "print(df)"
   ]
  },
  {
   "cell_type": "code",
   "execution_count": null,
   "id": "3bf38305-f801-4baf-b546-231cfef28a33",
   "metadata": {},
   "outputs": [],
   "source": [
    "df = await client.select_top_n(\n",
    "    \"lsst.sal.MTM2.tangentForce\", \n",
    "    fields=\"*\",\n",
    "    num=1,\n",
    ")\n",
    "\n",
    "print(df)"
   ]
  },
  {
   "cell_type": "code",
   "execution_count": null,
   "id": "8dd08d3e-1617-46ea-be87-6fe4d3fa41e3",
   "metadata": {},
   "outputs": [],
   "source": [
    "df = await client.select_top_n(\n",
    "    \"lsst.sal.MTM2.forceBalance\", \n",
    "    fields=\"*\",\n",
    "    num=1,\n",
    ")\n",
    "\n",
    "print(df)"
   ]
  },
  {
   "cell_type": "code",
   "execution_count": null,
   "id": "780fb42d-932d-4f28-8f27-bd3d5fb121c1",
   "metadata": {},
   "outputs": [],
   "source": [
    "df = await client.select_top_n(\n",
    "    \"lsst.sal.MTM2.netForcesTotal\", \n",
    "    fields=\"*\",\n",
    "    num=1,\n",
    ")\n",
    "\n",
    "print(df)"
   ]
  },
  {
   "cell_type": "code",
   "execution_count": null,
   "id": "7992b26f-19eb-4b71-b97c-109631bec0e4",
   "metadata": {},
   "outputs": [],
   "source": [
    "axial_forces = np.zeros(72)\n",
    "axial_forces[0] = 10 # in N - This is Actuator B1 \n",
    "\n",
    "await mtcs.rem.mtm2.cmd_applyForces.set_start(axial=axial_forces)"
   ]
  },
  {
   "cell_type": "code",
   "execution_count": null,
   "id": "473fa2c1-a13e-40d3-a71d-2ec73442b500",
   "metadata": {},
   "outputs": [],
   "source": [
    "df = await client.select_top_n(\n",
    "    \"lsst.sal.MTM2.axialForce\", \n",
    "    fields=\"*\",\n",
    "    num=1,\n",
    ")\n",
    "\n",
    "print(df)"
   ]
  },
  {
   "cell_type": "code",
   "execution_count": null,
   "id": "fad5b6ea-db39-4c0c-8041-45c99832bcff",
   "metadata": {},
   "outputs": [],
   "source": [
    "df = await client.select_top_n(\n",
    "    \"lsst.sal.MTM2.tangentForce\", \n",
    "    fields=\"*\",\n",
    "    num=1,\n",
    ")\n",
    "\n",
    "print(df)"
   ]
  },
  {
   "cell_type": "code",
   "execution_count": null,
   "id": "d0ddf2e3-2591-4f6e-9ca4-71fed1262718",
   "metadata": {},
   "outputs": [],
   "source": [
    "df = await client.select_top_n(\n",
    "    \"lsst.sal.MTM2.forceBalance\", \n",
    "    fields=\"*\",\n",
    "    num=1,\n",
    ")\n",
    "\n",
    "print(df)"
   ]
  },
  {
   "cell_type": "code",
   "execution_count": null,
   "id": "824a5b4f-5fb2-4dfa-9a23-1e4a091628c3",
   "metadata": {},
   "outputs": [],
   "source": [
    "df = await client.select_top_n(\n",
    "    \"lsst.sal.MTM2.netForcesTotal\", \n",
    "    fields=\"*\",\n",
    "    num=1,\n",
    ")\n",
    "\n",
    "print(df)"
   ]
  },
  {
   "cell_type": "markdown",
   "id": "81cd7aa3-8f62-4fba-b72d-f3d0a7cfcb83",
   "metadata": {},
   "source": [
    "---\n",
    "### ResetForceOffsets\n",
    "\n",
    "Send the `ResetForceOffsets` command through SAL.  \n",
    "This should be done after a successful ApplyForces command.  \n",
    "Force telemetry should show a difference from when the `ApplyForces` command was issued to after the `ResetForceOffsets` command is issued.  \n",
    "The 78 nonzero force values are now zero."
   ]
  },
  {
   "cell_type": "code",
   "execution_count": null,
   "id": "315700d4-1efb-480b-8a9e-09b3a70a926b",
   "metadata": {},
   "outputs": [],
   "source": [
    "await mtcs.rem.mtm2.cmd_resetForceOffsets.start()"
   ]
  },
  {
   "cell_type": "code",
   "execution_count": null,
   "id": "03ee3373-35b4-476d-a21a-986ee7711985",
   "metadata": {},
   "outputs": [],
   "source": [
    "df = await client.select_top_n(\n",
    "    \"lsst.sal.MTM2.axialForce\", \n",
    "    fields=\"*\",\n",
    "    num=1,\n",
    ")\n",
    "\n",
    "print(df)"
   ]
  },
  {
   "cell_type": "code",
   "execution_count": null,
   "id": "5beac7b2-5455-441b-88c3-79ae42a7d832",
   "metadata": {},
   "outputs": [],
   "source": [
    "df = await client.select_top_n(\n",
    "    \"lsst.sal.MTM2.tangentForce\", \n",
    "    fields=\"*\",\n",
    "    num=1,\n",
    ")\n",
    "\n",
    "print(df)"
   ]
  },
  {
   "cell_type": "code",
   "execution_count": null,
   "id": "c03da12c-6749-4878-a41e-acaf2c4a8adb",
   "metadata": {},
   "outputs": [],
   "source": [
    "df = await client.select_top_n(\n",
    "    \"lsst.sal.MTM2.forceBalance\", \n",
    "    fields=\"*\",\n",
    "    num=1,\n",
    ")\n",
    "\n",
    "print(df)"
   ]
  },
  {
   "cell_type": "code",
   "execution_count": null,
   "id": "db685fa4-f246-4984-8e14-769dbd3ef33c",
   "metadata": {},
   "outputs": [],
   "source": [
    "df = await client.select_top_n(\n",
    "    \"lsst.sal.MTM2.netForcesTotal\", \n",
    "    fields=\"*\",\n",
    "    num=1,\n",
    ")\n",
    "\n",
    "print(df)"
   ]
  },
  {
   "cell_type": "markdown",
   "id": "53358438-5ce2-4024-8705-0cf34384028c",
   "metadata": {},
   "source": [
    "### PositionMirror command\n",
    "\n",
    "<span style=\"color: firebrick\">\n",
    "    This is a dangerous step.  <br/>\n",
    "    This actuator can go out of the force range and will be difficult to recover.  <br/>\n",
    "    This command is an engineering command only.  <br/>\n",
    "    During observation, only the forces will be used as a measure to move the mirror.  <br/>\n",
    "    See https://jira.lsstcorp.org/secure/Tests.jspa#/testPlayer/testExecution/LVV-E1008 for the limits.  <br/><br/>\n",
    "</span>\n",
    "  \n",
    "Axis are moved individually.  \n",
    "  \n",
    "In the enabled state and closed-loop mode, send a positionMirror command of\n",
    "\n",
    "```\n",
    "P1 = (100um,0,0,0,0,0)\n",
    "P2 = (0,100um,0,0,0,0)\n",
    "P3 = (0,0,100um,0,0,0)\n",
    "P4 = (0,0,0,100urad,0,0)\n",
    "P5 = (0,0,0,0,100urad,0)\n",
    "P6 = (0,0,0,0,0,100urad)\n",
    "```\n",
    "\n",
    "Verify that the event shows all parameters, all values are in the units as defined in the XML and all parameters have meaningful values.  \n",
    "\n",
    "Note: There will be two types of telemetry - one measured by the hardpoints and one measured by the IMS.\n",
    "This specific position was selected because it should be within the limits so the `positionMirror` command can be verified without running into an error.  "
   ]
  },
  {
   "cell_type": "code",
   "execution_count": null,
   "id": "712cd081-c2fe-4558-bb3f-372c49c122ec",
   "metadata": {},
   "outputs": [],
   "source": [
    "await mtcs.rem.mtm2.cmd_positionMirror.set_start(x=100, y=0, z=0, xRot=0, yRot=0, zRot=0)"
   ]
  },
  {
   "cell_type": "code",
   "execution_count": null,
   "id": "53d192a8-3436-4498-be94-33da861600bd",
   "metadata": {},
   "outputs": [],
   "source": [
    "await mtcs.rem.mtm2.cmd_positionMirror.set_start(x=0, y=0, z=0, xRot=0, yRot=0, zRot=0)"
   ]
  },
  {
   "cell_type": "code",
   "execution_count": null,
   "id": "02dd4571-8c84-454a-acdf-dea861611073",
   "metadata": {},
   "outputs": [],
   "source": [
    "await mtcs.rem.mtm2.cmd_positionMirror.set_start(x=0, y=100, z=0, xRot=0, yRot=0, zRot=0)"
   ]
  },
  {
   "cell_type": "code",
   "execution_count": null,
   "id": "ab77d610-92c2-4423-be67-f8b6fa212e4a",
   "metadata": {},
   "outputs": [],
   "source": [
    "await mtcs.rem.mtm2.cmd_positionMirror.set_start(x=0, y=0, z=0, xRot=0, yRot=0, zRot=0)"
   ]
  },
  {
   "cell_type": "code",
   "execution_count": null,
   "id": "429e87d6-9bd3-4aca-b10d-0c38119dec68",
   "metadata": {},
   "outputs": [],
   "source": [
    "await mtcs.rem.mtm2.cmd_positionMirror.set_start(x=0, y=0, z=100, xRot=0, yRot=0, zRot=0)"
   ]
  },
  {
   "cell_type": "code",
   "execution_count": null,
   "id": "aaed0f98-c912-4ab4-b422-8513de86b55e",
   "metadata": {},
   "outputs": [],
   "source": [
    "await mtcs.rem.mtm2.cmd_positionMirror.set_start(x=0, y=0, z=0, xRot=0, yRot=0, zRot=0)"
   ]
  },
  {
   "cell_type": "code",
   "execution_count": null,
   "id": "8d141adf-d61c-4ed8-952c-7bbaeb4a1da2",
   "metadata": {},
   "outputs": [],
   "source": [
    "await mtcs.rem.mtm2.cmd_positionMirror.set_start(x=0, y=0, z=0, xRot=0.1, yRot=0, zRot=0)"
   ]
  },
  {
   "cell_type": "code",
   "execution_count": null,
   "id": "282b4dfa-442f-47d0-aed0-a437b75cd455",
   "metadata": {},
   "outputs": [],
   "source": [
    "await mtcs.rem.mtm2.cmd_positionMirror.set_start(x=0, y=0, z=0, xRot=0, yRot=0, zRot=0)"
   ]
  },
  {
   "cell_type": "code",
   "execution_count": null,
   "id": "c5cc410c-43d8-4457-aa31-abc59387c95e",
   "metadata": {},
   "outputs": [],
   "source": [
    "await mtcs.rem.mtm2.cmd_positionMirror.set_start(x=0, y=0, z=0, xRot=0, yRot=0.1, zRot=0)"
   ]
  },
  {
   "cell_type": "code",
   "execution_count": null,
   "id": "743bd172-4d7f-4316-93f2-9f2f9290a9d7",
   "metadata": {},
   "outputs": [],
   "source": [
    "await mtcs.rem.mtm2.cmd_positionMirror.set_start(x=0, y=0, z=0, xRot=0, yRot=0, zRot=0)"
   ]
  },
  {
   "cell_type": "code",
   "execution_count": null,
   "id": "91057606-3207-4cc2-bde9-9736a85d2ebe",
   "metadata": {},
   "outputs": [],
   "source": [
    "await mtcs.rem.mtm2.cmd_positionMirror.set_start(x=0, y=0, z=0, xRot=0, yRot=0, zRot=0.1)"
   ]
  },
  {
   "cell_type": "code",
   "execution_count": null,
   "id": "bb99354f-893c-4892-8409-27b8c6bc8fd9",
   "metadata": {},
   "outputs": [],
   "source": [
    "await mtcs.rem.mtm2.cmd_positionMirror.set_start(x=0, y=0, z=0, xRot=0, yRot=0, zRot=0)"
   ]
  },
  {
   "cell_type": "markdown",
   "id": "2c00612d-2fb0-47d0-8592-94ed8a44a032",
   "metadata": {},
   "source": [
    "### ClearError command\n",
    "\n",
    "<span style=\"color: firebrick\">\n",
    "    A Mechanical Engineer must be present in order to unplug the actuator.<br/>\n",
    "</span>\n",
    "\n",
    "Unplug the cable to actuator A1.  \n",
    "The M2 CSC goes into a `FAULT` state and is indicated by a red light on the EUI.  \n",
    "Plug the cable back again.  \n",
    "  \n",
    "Send a `clearErrors` command."
   ]
  },
  {
   "cell_type": "code",
   "execution_count": null,
   "id": "8335da34-aa69-4237-b24a-dd259067a467",
   "metadata": {},
   "outputs": [],
   "source": [
    "await mtm2.cmd_clearErrors.set_start()"
   ]
  },
  {
   "cell_type": "markdown",
   "id": "621fb02f-ead4-402c-bfe5-53dc2c0af507",
   "metadata": {},
   "source": [
    "The `clearErrors` command allows the system to transition out of the `FAULT` state and is able to re-enter `Enabled/closed-loop` mode."
   ]
  },
  {
   "cell_type": "markdown",
   "id": "6467fc8e-a8ad-48e6-a748-8eb7c88a70a3",
   "metadata": {},
   "source": [
    "### SwtichForceBalanceSystem command\n",
    "\n",
    "In the `ENABLED` state, send a `switchForceBalanceSystem` command to turn the FB system off.\n",
    "Verify that the event shows all parameters, all values are in the units as defined in the XML and all parameters have meaningful values.\n",
    "\n",
    "Note: The Force Balance System is on by default. \n",
    "\n",
    "- The `MTM2_command_switchForceBalanceSystem` is accepted and the FB system turns off.\n",
    "- The `MTM2_logevent_forceBalanceSystemStatus` event publishes false.\n",
    "- The event shows all parameters, all values are in the units as defined in the XML and all parameters have meaningful values"
   ]
  },
  {
   "cell_type": "code",
   "execution_count": null,
   "id": "0786ab3c-6102-4905-82bc-a8b099020309",
   "metadata": {},
   "outputs": [],
   "source": [
    "await mtm2.cmd_switchForceBalanceSystem.set_start()"
   ]
  },
  {
   "cell_type": "code",
   "execution_count": null,
   "id": "7cb8c94c-6222-4f83-a5c5-2c267cc5b018",
   "metadata": {},
   "outputs": [],
   "source": [
    "df = await client.select_top_n(\n",
    "    \"lsst.sal.MTM2.logevent_forceBalanceSystemStatus\", \n",
    "    fields=\"*\",\n",
    "    num=3, # Try to see the changes in events\n",
    ")\n",
    "\n",
    "print(df)"
   ]
  },
  {
   "cell_type": "markdown",
   "id": "a0b934c2-f894-4368-b299-2652f40e8ee2",
   "metadata": {},
   "source": [
    "In the `ENABLED` state, send a `switchForceBalanceSystem` command to turn the FB system on."
   ]
  },
  {
   "cell_type": "code",
   "execution_count": null,
   "id": "7f31b3d9-fa7a-4c23-9b5e-bf7e113c3be4",
   "metadata": {},
   "outputs": [],
   "source": [
    "await mtm2.cmd_switchForceBalanceSystem.set_start()"
   ]
  },
  {
   "cell_type": "code",
   "execution_count": null,
   "id": "405081e2-8f29-4474-845e-f04c54821035",
   "metadata": {},
   "outputs": [],
   "source": [
    "df = await client.select_top_n(\n",
    "    \"lsst.sal.MTM2.logevent_forceBalanceSystemStatus\", \n",
    "    fields=\"*\",\n",
    "    num=3, # Try to see the changes in events\n",
    ")\n",
    "\n",
    "print(df)"
   ]
  },
  {
   "cell_type": "markdown",
   "id": "ecb7a254-4a7f-40f3-95b9-5c13bff15382",
   "metadata": {},
   "source": [
    "### SetTemperatureOffset command\n",
    "\n",
    "<span style=\"color: firebrick\">\n",
    "    This will be supported in C++ version. <br />\n",
    "    <br />\n",
    "</span>\n",
    "\n",
    "In the `ENABLED` state, send a `setTemperatureOffsetcommand` with the following parameters:\n",
    "- ring\n",
    "- intake\n",
    "- exhaust\n",
    "  \n",
    "Verify that the event shows all parameters, all values are in the units as defined in the XML and all parameters have meaningful values.  \n",
    "    \n",
    "The `MTM2_command_setTemperatureOffset` is accepted and the offset of the ring temperatures is changed.  \n",
    "The `MTM2_logevent_temperatureOffset` event is updated given the new parameters.  \n",
    "The event shows all parameters, all values are in the units as defined in the XML and all parameters have meaningful values."
   ]
  },
  {
   "cell_type": "code",
   "execution_count": null,
   "id": "4bd6f6e3-3ac2-44db-8986-cd3254fcb432",
   "metadata": {},
   "outputs": [],
   "source": [
    "# todo @b1quint: check with Te-Wei for reasonable values\n",
    "# await mtm2.cmd_setTemperatureOffset.set_start(...)"
   ]
  },
  {
   "cell_type": "markdown",
   "id": "ad84064d-adec-44e9-a13c-8e61780eb91a",
   "metadata": {},
   "source": [
    "### selectInclinationSource command\n",
    "\n",
    "<span style=\"color: firebrick\">\n",
    "    This will be supported in C++ version. <br />\n",
    "    <br />\n",
    "</span>\n",
    "\n",
    "In the `ENABLED` state, send a `selectInclinationSource` command to choose the MTMount control system as the inclination source.  \n",
    "Verify that the event shows all parameters, all values are in the units as defined in the XML and all parameters have meaningful values.  \n",
    "\n",
    "**Note:** The default source is onboard.\n",
    "\n",
    "The source is changed to the MTMount Control System.  \n",
    "The `MTM2_logevent_inclinationTelemetrySource` event shows the MTMount Control system as the source.  \n",
    "The event shows all parameters, all values are in the units as defined in the XML and all parameters have meaningful values."
   ]
  },
  {
   "cell_type": "code",
   "execution_count": null,
   "id": "57b01741-f1f8-401b-99cc-71acf082ec8f",
   "metadata": {},
   "outputs": [],
   "source": [
    "# todo @b1quint: check with Te-Wei for reasonable values\n",
    "# await mtm2.cmd_selectInclinationSource.set_start(...)"
   ]
  },
  {
   "cell_type": "markdown",
   "id": "3f8cdcb6-3e1d-4fd3-942c-a0ba514cf729",
   "metadata": {},
   "source": [
    "## Wrap Up \n",
    "\n",
    "Put the relevant components back to STANDBY state."
   ]
  },
  {
   "cell_type": "code",
   "execution_count": null,
   "id": "d0f335a5-8c94-491b-9072-20481ca218c2",
   "metadata": {},
   "outputs": [],
   "source": [
    "await salobj.set_summary_state(mtm2, salobj.State.STANDBY)"
   ]
  },
  {
   "cell_type": "code",
   "execution_count": null,
   "id": "4793179b-da0a-444c-a79e-723614fd6328",
   "metadata": {},
   "outputs": [],
   "source": [
    "await salobj.set_summary_state(mtmount, salobj.State.STANDBY)"
   ]
  }
 ],
 "metadata": {
  "kernelspec": {
   "display_name": "LSST",
   "language": "python",
   "name": "lsst"
  },
  "language_info": {
   "codemirror_mode": {
    "name": "ipython",
    "version": 3
   },
   "file_extension": ".py",
   "mimetype": "text/x-python",
   "name": "python",
   "nbconvert_exporter": "python",
   "pygments_lexer": "ipython3",
   "version": "3.10.4"
  }
 },
 "nbformat": 4,
 "nbformat_minor": 5
}
