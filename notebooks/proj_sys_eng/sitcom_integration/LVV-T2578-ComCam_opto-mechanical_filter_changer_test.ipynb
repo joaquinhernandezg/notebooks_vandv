{
 "cells": [
  {
   "cell_type": "markdown",
   "metadata": {},
   "source": [
    "This notebook is to test the filter changer timing and repeatability.  In particular:\n",
    "\n",
    "The requirement: LVV-14633 LTS-508-REQ-0015-V-01: Filter Changing_1\n",
    "* Filter changer must be able to switch between filters remotely\n",
    "* Positioning requirement is given in requirement LTS-508-4\n",
    "* Filter change time: 30 s maximum\n",
    "* Repeatability of motion: < +/- 0.1 mm (TBR)\n",
    "* Filter installation positioning and reconfiguration: +/- 0.1 mm lateral, +/- 2.6 arcmin for rotation. (verified elsewhere)"
   ]
  },
  {
   "cell_type": "code",
   "execution_count": null,
   "metadata": {},
   "outputs": [],
   "source": [
    "import asyncio\n",
    "import logging\n",
    "import sys\n",
    "import os\n",
    "\n",
    "from astropy.coordinates import Angle\n",
    "from astropy.time import Time\n",
    "import astropy.units as u\n",
    "\n",
    "from lsst.ts import salobj\n",
    "from lsst.ts.observatory.control.maintel.mtcs import MTCS\n",
    "from lsst.ts.observatory.control.maintel.comcam import ComCam"
   ]
  },
  {
   "cell_type": "code",
   "execution_count": null,
   "metadata": {},
   "outputs": [],
   "source": [
    "print(os.environ[\"OSPL_URI\"])"
   ]
  },
  {
   "cell_type": "code",
   "execution_count": null,
   "metadata": {},
   "outputs": [],
   "source": [
    "os.environ[\"LSST_DDS_RESPONSIVENESS_TIMEOUT\"]=\"15s\""
   ]
  },
  {
   "cell_type": "code",
   "execution_count": null,
   "metadata": {},
   "outputs": [],
   "source": [
    "stream_handler = logging.StreamHandler(sys.stdout)\n",
    "\n",
    "logger = logging.getLogger()\n",
    "logger.addHandler(stream_handler)\n",
    "logger.level = logging.DEBUG"
   ]
  },
  {
   "cell_type": "code",
   "execution_count": null,
   "metadata": {},
   "outputs": [],
   "source": [
    "domain = salobj.Domain()\n",
    "\n",
    "await asyncio.sleep(10)\n",
    "\n",
    "comcam = ComCam(domain)\n",
    "await asyncio.gather(comcam.start_task)"
   ]
  },
  {
   "cell_type": "code",
   "execution_count": null,
   "metadata": {},
   "outputs": [],
   "source": [
    "await comcam.enable(overrides={\"cccamera\": \"Normal\",\n",
    "                              \"ccheaderservice\": None})"
   ]
  },
  {
   "cell_type": "code",
   "execution_count": null,
   "metadata": {},
   "outputs": [],
   "source": [
    "# note that we are slightly out of spec for moving positions 0 to 2 and 2 to 0 by 5.3 seconds.  \n",
    "# This might be due to the timing measurement.  Can we get get better measurments from the EFD?\n",
    "# also need to grab the positions from the linear encoder to calculate the repeatability.\n",
    "\n",
    "for i in range(0,10):\n",
    "    #get start time\n",
    "    startdate = Time.now()\n",
    "    #change filter\n",
    "    await comcam.setup_instrument(filter=filters[i % 3])\n",
    "    #get end time\n",
    "    enddate = Time.now()\n",
    "    print(\"Movement \"+str(i)+\" duration: \"+str(24*60*60*(enddate-startdate)))\n",
    "for i in range(0,11):\n",
    "    #get start time\n",
    "    startdate = Time.now()\n",
    "    #change filter\n",
    "    await comcam.setup_instrument(filter=filters[(10-i) % 3])\n",
    "    #get end time\n",
    "    enddate = Time.now()\n",
    "    print(\"Movement \"+str(10+i)+\" duration: \"+str(24*60*60*(enddate-startdate)))"
   ]
  },
  {
   "cell_type": "code",
   "execution_count": null,
   "metadata": {},
   "outputs": [],
   "source": [
    "await comcam.standby()"
   ]
  },
  {
   "cell_type": "code",
   "execution_count": null,
   "metadata": {},
   "outputs": [],
   "source": [
    "await domain.close()"
   ]
  },
  {
   "cell_type": "code",
   "execution_count": null,
   "metadata": {},
   "outputs": [],
   "source": [
    "## if state history was lost\n",
    "await comcam.rem.cccamera.cmd_start.set_start(configurationOverride=\"Normal\",timeout=10)"
   ]
  },
  {
   "cell_type": "code",
   "execution_count": null,
   "metadata": {},
   "outputs": [],
   "source": [
    "await comcam.rem.cccamera.cmd_enterControl.start(timeout=10)"
   ]
  },
  {
   "cell_type": "code",
   "execution_count": null,
   "metadata": {},
   "outputs": [],
   "source": [
    "await comcam.rem.cccamera.cmd_enable.start(timeout=10)"
   ]
  }
 ],
 "metadata": {
  "kernelspec": {
   "display_name": "LSST",
   "language": "python",
   "name": "lsst"
  },
  "language_info": {
   "codemirror_mode": {
    "name": "ipython",
    "version": 3
   },
   "file_extension": ".py",
   "mimetype": "text/x-python",
   "name": "python",
   "nbconvert_exporter": "python",
   "pygments_lexer": "ipython3",
   "version": "3.8.13"
  }
 },
 "nbformat": 4,
 "nbformat_minor": 4
}
