{
 "cells": [
  {
   "cell_type": "markdown",
   "metadata": {},
   "source": [
    "# Test Case LVV-T2578\n",
    "This notebook tests the filter changer timing and position repeatability. In particular:\n",
    "\n",
    "The requirement: LVV-14633 LTS-508-REQ-0015-V-01: Filter Changing_1\n",
    "* Filter changer must be able to switch between filters remotely\n",
    "* Positioning requirement is given in requirement LTS-508-4\n",
    "* Filter change time: 30 s maximum\n",
    "* Repeatability of motion: < +/- 0.1 mm (TBR)\n",
    "* Filter installation positioning and reconfiguration: +/- 0.1 mm lateral, +/- 2.6 arcmin for rotation. (verified elsewhere)"
   ]
  },
  {
   "cell_type": "code",
   "execution_count": null,
   "metadata": {
    "tags": []
   },
   "outputs": [],
   "source": [
    "from lsst.sitcom import vandv\n",
    "\n",
    "exec_info = vandv.ExecutionInfo()\n",
    "print(exec_info)"
   ]
  },
  {
   "cell_type": "markdown",
   "metadata": {},
   "source": [
    "## Setup"
   ]
  },
  {
   "cell_type": "code",
   "execution_count": null,
   "metadata": {},
   "outputs": [],
   "source": [
    "import asyncio\n",
    "import logging\n",
    "import os\n",
    "import yaml\n",
    "\n",
    "import astropy.units as u\n",
    "import numpy as np\n",
    "import pandas as pd\n",
    "\n",
    "from astropy.time import Time\n",
    "from datetime import datetime, timedelta\n",
    "from matplotlib import pyplot as plt\n",
    "\n",
    "from lsst.ts.observatory.control.maintel import ComCam\n",
    "from lsst.ts.observing.utilities.decorated_logger import DecoratedLogger\n",
    "from lsst_efd_client import EfdClient\n",
    "from lsst.ts import salobj"
   ]
  },
  {
   "cell_type": "markdown",
   "metadata": {},
   "source": [
    "Setting up logger"
   ]
  },
  {
   "cell_type": "code",
   "execution_count": null,
   "metadata": {},
   "outputs": [],
   "source": [
    "logger = DecoratedLogger.get_decorated_logger()\n",
    "logger.level = logging.DEBUG"
   ]
  },
  {
   "cell_type": "markdown",
   "metadata": {},
   "source": [
    "Instantiate script for logging into EFD and start script task"
   ]
  },
  {
   "cell_type": "code",
   "execution_count": null,
   "metadata": {},
   "outputs": [],
   "source": [
    "logger.info(f'Your UID is {os.getuid()}')\n",
    "index = os.getuid() * 10 + np.random.randint(0, 9)\n",
    "\n",
    "logger.info(f'The generated index is {index}')"
   ]
  },
  {
   "cell_type": "code",
   "execution_count": null,
   "metadata": {},
   "outputs": [],
   "source": [
    "test_message = \"LVV-T2578 ComCam OptoMechanical Filter Change Test\"\n",
    "script = salobj.Controller(\"Script\", index=index)\n",
    "await script.start_task"
   ]
  },
  {
   "cell_type": "markdown",
   "metadata": {},
   "source": [
    "Make sure DDS Daemon is running and startup Domain"
   ]
  },
  {
   "cell_type": "code",
   "execution_count": null,
   "metadata": {
    "tags": []
   },
   "outputs": [],
   "source": [
    "domain = salobj.Domain()"
   ]
  },
  {
   "cell_type": "markdown",
   "metadata": {},
   "source": [
    "EFD setup"
   ]
  },
  {
   "cell_type": "code",
   "execution_count": null,
   "metadata": {},
   "outputs": [],
   "source": [
    "client = vandv.efd.create_efd_client()"
   ]
  },
  {
   "cell_type": "markdown",
   "metadata": {},
   "source": [
    "ComCam initialization"
   ]
  },
  {
   "cell_type": "code",
   "execution_count": null,
   "metadata": {},
   "outputs": [],
   "source": [
    "comcam = ComCam(domain=domain)\n",
    "comcam.set_rem_loglevel(40)"
   ]
  },
  {
   "cell_type": "code",
   "execution_count": null,
   "metadata": {},
   "outputs": [],
   "source": [
    "await comcam.start_task"
   ]
  },
  {
   "cell_type": "code",
   "execution_count": null,
   "metadata": {},
   "outputs": [],
   "source": [
    "await comcam.enable()"
   ]
  },
  {
   "cell_type": "markdown",
   "metadata": {},
   "source": [
    "Publish to the EFD that LVV-T2578 test is starting "
   ]
  },
  {
   "cell_type": "code",
   "execution_count": null,
   "metadata": {},
   "outputs": [],
   "source": [
    "script.log.info(f'START- {test_message} -- at {Time.now()}')"
   ]
  },
  {
   "cell_type": "markdown",
   "metadata": {},
   "source": [
    "## Test"
   ]
  },
  {
   "cell_type": "markdown",
   "metadata": {},
   "source": [
    "Get available instrument configurations and declare `filters`. "
   ]
  },
  {
   "cell_type": "code",
   "execution_count": null,
   "metadata": {},
   "outputs": [],
   "source": [
    "filters = await comcam.get_available_instrument_setup()\n",
    "logger.info(f'Available filters are {filters}')"
   ]
  },
  {
   "cell_type": "code",
   "execution_count": null,
   "metadata": {
    "tags": []
   },
   "outputs": [],
   "source": [
    "# note that we are slightly out of spec for moving positions 0 to 2 and 2 to 0 by 5.3 seconds.  \n",
    "# This might be due to the timing measurement.  Can we get get better measurments from the EFD?\n",
    "# also need to grab the positions from the linear encoder to calculate the repeatability.\n",
    "\n",
    "# Add linear encoder filter position for each move and timing from EFD events endSetFilter - setFilter. \n",
    "\n",
    "for i in range(0,10):   \n",
    "    # Flush events\n",
    "    comcam.rem.cccamera.evt_startSetFilter.flush()\n",
    "    comcam.rem.cccamera.evt_endSetFilter.flush()\n",
    "    \n",
    "    # Get start time\n",
    "    startdate = Time.now()\n",
    "    \n",
    "    # Change Filter\n",
    "    await comcam.rem.cccamera.cmd_setFilter.set_start(name = filters[i % 3]) \n",
    "\n",
    "    # Record startSetFilter and endSetFilter events\n",
    "    setFilter = await comcam.rem.cccamera.evt_startSetFilter.next(flush=False, timeout=10)\n",
    "    #logger.info(setFilter)\n",
    "    \n",
    "    endSetFilter = await comcam.rem.cccamera.evt_endSetFilter.next(flush=False, timeout=40)\n",
    "    #logger.info(endSetFilter)\n",
    "    \n",
    "    logger.info(f'Move to Slot {endSetFilter.filterSlot} \\t Filter: {endSetFilter.filterName} \\t '\n",
    "                f'Filter Position Linear Encoder: {endSetFilter.filterPosition} [mm] \\t ------ \\t'\n",
    "                f'Duration: {endSetFilter.private_sndStamp - setFilter.private_sndStamp:0.3f} [sec]')    \n",
    "    \n",
    "    # Get end time\n",
    "    enddate = Time.now()\n",
    "    print(\"Movement \"+str(i)+\" duration: \"+str(24*60*60*(enddate-startdate))+\" sec\" )"
   ]
  },
  {
   "cell_type": "markdown",
   "metadata": {},
   "source": [
    "Switching filters in the opposite direction"
   ]
  },
  {
   "cell_type": "code",
   "execution_count": null,
   "metadata": {},
   "outputs": [],
   "source": [
    "for i in range(0,10):   \n",
    "    # Flush events\n",
    "    comcam.rem.cccamera.evt_startSetFilter.flush()\n",
    "    comcam.rem.cccamera.evt_endSetFilter.flush()\n",
    "    \n",
    "    # Get start time\n",
    "    startdate = Time.now()\n",
    "    \n",
    "    # Change Filter\n",
    "    await comcam.rem.cccamera.cmd_setFilter.set_start(name = filters[(10 - i) % 3]) \n",
    "\n",
    "    # Record startSetFilter and endSetFilter events\n",
    "\n",
    "    setFilter = await comcam.rem.cccamera.evt_startSetFilter.next(flush=False, timeout=10)\n",
    "    # logger.info(setFilter)\n",
    "    endSetFilter = await comcam.rem.cccamera.evt_endSetFilter.next(flush=False, timeout=40)\n",
    "    # logger.info(endSetFilter)\n",
    "    \n",
    "    logger.info(f'Move to Slot {endSetFilter.filterSlot} \\t Filter: {endSetFilter.filterName} \\t '\n",
    "                f'Filter Position Linear Encoder: {endSetFilter.filterPosition} [mm] \\t ------ \\t'\n",
    "                f'Duration: {endSetFilter.private_sndStamp - setFilter.private_sndStamp:0.3f} [sec]')    \n",
    "    \n",
    "    # Get end time\n",
    "    enddate = Time.now()\n",
    "    print(\"Movement \"+str(i)+\" duration: \"+str(24*60*60*(enddate-startdate)))"
   ]
  },
  {
   "cell_type": "markdown",
   "metadata": {},
   "source": [
    "## Wrap-up"
   ]
  },
  {
   "cell_type": "markdown",
   "metadata": {},
   "source": [
    "Announce the EFD that test is done "
   ]
  },
  {
   "cell_type": "code",
   "execution_count": null,
   "metadata": {},
   "outputs": [],
   "source": [
    "script.log.info(f'END- {test_message} -- at {Time.now()}')"
   ]
  },
  {
   "cell_type": "markdown",
   "metadata": {},
   "source": [
    "Transition ComCam to STANDBY and close domain. "
   ]
  },
  {
   "cell_type": "code",
   "execution_count": null,
   "metadata": {},
   "outputs": [],
   "source": [
    "await comcam.standby()"
   ]
  },
  {
   "cell_type": "code",
   "execution_count": null,
   "metadata": {},
   "outputs": [],
   "source": [
    "await domain.close()"
   ]
  }
 ],
 "metadata": {
  "kernelspec": {
   "display_name": "LSST",
   "language": "python",
   "name": "lsst"
  },
  "language_info": {
   "codemirror_mode": {
    "name": "ipython",
    "version": 3
   },
   "file_extension": ".py",
   "mimetype": "text/x-python",
   "name": "python",
   "nbconvert_exporter": "python",
   "pygments_lexer": "ipython3",
   "version": "3.10.4"
  }
 },
 "nbformat": 4,
 "nbformat_minor": 4
}
