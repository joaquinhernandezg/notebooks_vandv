{
 "cells": [
  {
   "cell_type": "markdown",
   "metadata": {},
   "source": [
    "This notebook is to test the filter changer timing and repeatability.  In particular:\n",
    "\n",
    "The requirement: LVV-14633 LTS-508-REQ-0015-V-01: Filter Changing_1\n",
    "* Filter changer must be able to switch between filters remotely\n",
    "* Positioning requirement is given in requirement LTS-508-4\n",
    "* Filter change time: 30 s maximum\n",
    "* Repeatability of motion: < +/- 0.1 mm (TBR)\n",
    "* Filter installation positioning and reconfiguration: +/- 0.1 mm lateral, +/- 2.6 arcmin for rotation. (verified elsewhere)"
   ]
  },
  {
   "cell_type": "code",
   "execution_count": 1,
   "metadata": {},
   "outputs": [
    {
     "data": {
      "text/html": [
       "<pre style=\"margin: 0.1em;\n",
       "padding-left: 0.25em;\n",
       "border-left-style: solid;\n",
       "font-family: var(--jp-code-font-family);\n",
       "font-size: var(--jp-code-font-size);\n",
       "line-height: var(--jp-code-line-height);\n",
       "\"><span style=\"color: var(--jp-warn-color2)\">lsst.ts.utils.tai</span> <span style=\"color: var(--jp-info-color0)\">INFO</span>: Update leap second table</pre>"
      ],
      "text/plain": [
       "<IPython.core.display.HTML object>"
      ]
     },
     "metadata": {},
     "output_type": "display_data"
    },
    {
     "data": {
      "text/html": [
       "<pre style=\"margin: 0.1em;\n",
       "padding-left: 0.25em;\n",
       "border-left-style: solid;\n",
       "font-family: var(--jp-code-font-family);\n",
       "font-size: var(--jp-code-font-size);\n",
       "line-height: var(--jp-code-line-height);\n",
       "\"><span style=\"color: var(--jp-warn-color2)\">lsst.ts.utils.tai</span> <span style=\"color: var(--jp-info-color0)\">INFO</span>: current_tai uses the system TAI clock</pre>"
      ],
      "text/plain": [
       "<IPython.core.display.HTML object>"
      ]
     },
     "metadata": {},
     "output_type": "display_data"
    }
   ],
   "source": [
    "import asyncio\n",
    "import logging\n",
    "import sys\n",
    "import os\n",
    "\n",
    "from astropy.coordinates import Angle\n",
    "from astropy.time import Time\n",
    "import astropy.units as u\n",
    "\n",
    "from lsst.ts import salobj\n",
    "from lsst.ts.observatory.control.maintel.mtcs import MTCS\n",
    "from lsst.ts.observatory.control.maintel.comcam import ComCam"
   ]
  },
  {
   "cell_type": "code",
   "execution_count": 2,
   "metadata": {},
   "outputs": [
    {
     "name": "stdout",
     "output_type": "stream",
     "text": [
      "file:///opt/lsst/software/stack/conda/miniconda3-py38_4.9.2/envs/lsst-scipipe-3.0.0/lib/python3.8/config/ospl-shmem-debug.xml\n"
     ]
    }
   ],
   "source": [
    "print(os.environ[\"OSPL_URI\"])"
   ]
  },
  {
   "cell_type": "code",
   "execution_count": 3,
   "metadata": {},
   "outputs": [],
   "source": [
    "os.environ[\"LSST_DDS_RESPONSIVENESS_TIMEOUT\"]=\"15s\""
   ]
  },
  {
   "cell_type": "code",
   "execution_count": 4,
   "metadata": {},
   "outputs": [],
   "source": [
    "stream_handler = logging.StreamHandler(sys.stdout)\n",
    "\n",
    "logger = logging.getLogger()\n",
    "logger.addHandler(stream_handler)\n",
    "logger.level = logging.DEBUG"
   ]
  },
  {
   "cell_type": "code",
   "execution_count": 5,
   "metadata": {},
   "outputs": [
    {
     "data": {
      "text/html": [
       "<pre style=\"margin: 0.1em;\n",
       "padding-left: 0.25em;\n",
       "border-left-style: solid;\n",
       "font-family: var(--jp-code-font-family);\n",
       "font-size: var(--jp-code-font-size);\n",
       "line-height: var(--jp-code-line-height);\n",
       "\"><span style=\"color: var(--jp-warn-color2)\">ComCam</span> <span style=\"color: var(--jp-success-color0)\">DEBUG</span>: cccamera: Adding all resources.</pre>"
      ],
      "text/plain": [
       "<IPython.core.display.HTML object>"
      ]
     },
     "metadata": {},
     "output_type": "display_data"
    },
    {
     "name": "stdout",
     "output_type": "stream",
     "text": [
      "cccamera: Adding all resources.\n"
     ]
    },
    {
     "data": {
      "text/html": [
       "<pre style=\"margin: 0.1em;\n",
       "padding-left: 0.25em;\n",
       "border-left-style: solid;\n",
       "font-family: var(--jp-code-font-family);\n",
       "font-size: var(--jp-code-font-size);\n",
       "line-height: var(--jp-code-line-height);\n",
       "\"><span style=\"color: var(--jp-warn-color2)\">CCCamera</span> <span style=\"color: var(--jp-success-color0)\">DEBUG</span>: Disabling authlist-based command authorization</pre>"
      ],
      "text/plain": [
       "<IPython.core.display.HTML object>"
      ]
     },
     "metadata": {},
     "output_type": "display_data"
    },
    {
     "name": "stdout",
     "output_type": "stream",
     "text": [
      "Disabling authlist-based command authorization\n"
     ]
    },
    {
     "data": {
      "text/html": [
       "<pre style=\"margin: 0.1em;\n",
       "padding-left: 0.25em;\n",
       "border-left-style: solid;\n",
       "font-family: var(--jp-code-font-family);\n",
       "font-size: var(--jp-code-font-size);\n",
       "line-height: var(--jp-code-line-height);\n",
       "\"><span style=\"color: var(--jp-warn-color2)\">ComCam</span> <span style=\"color: var(--jp-success-color0)\">DEBUG</span>: ccheaderservice: Adding all resources.</pre>"
      ],
      "text/plain": [
       "<IPython.core.display.HTML object>"
      ]
     },
     "metadata": {},
     "output_type": "display_data"
    },
    {
     "name": "stdout",
     "output_type": "stream",
     "text": [
      "ccheaderservice: Adding all resources.\n"
     ]
    },
    {
     "data": {
      "text/html": [
       "<pre style=\"margin: 0.1em;\n",
       "padding-left: 0.25em;\n",
       "border-left-style: solid;\n",
       "font-family: var(--jp-code-font-family);\n",
       "font-size: var(--jp-code-font-size);\n",
       "line-height: var(--jp-code-line-height);\n",
       "\"><span style=\"color: var(--jp-warn-color2)\">CCHeaderService</span> <span style=\"color: var(--jp-success-color0)\">DEBUG</span>: Disabling authlist-based command authorization</pre>"
      ],
      "text/plain": [
       "<IPython.core.display.HTML object>"
      ]
     },
     "metadata": {},
     "output_type": "display_data"
    },
    {
     "name": "stdout",
     "output_type": "stream",
     "text": [
      "Disabling authlist-based command authorization\n"
     ]
    },
    {
     "data": {
      "text/html": [
       "<pre style=\"margin: 0.1em;\n",
       "padding-left: 0.25em;\n",
       "border-left-style: solid;\n",
       "font-family: var(--jp-code-font-family);\n",
       "font-size: var(--jp-code-font-size);\n",
       "line-height: var(--jp-code-line-height);\n",
       "\"><span style=\"color: var(--jp-warn-color2)\">ComCam</span> <span style=\"color: var(--jp-success-color0)\">DEBUG</span>: ccoods: Adding all resources.</pre>"
      ],
      "text/plain": [
       "<IPython.core.display.HTML object>"
      ]
     },
     "metadata": {},
     "output_type": "display_data"
    },
    {
     "name": "stdout",
     "output_type": "stream",
     "text": [
      "ccoods: Adding all resources.\n"
     ]
    },
    {
     "data": {
      "text/html": [
       "<pre style=\"margin: 0.1em;\n",
       "padding-left: 0.25em;\n",
       "border-left-style: solid;\n",
       "font-family: var(--jp-code-font-family);\n",
       "font-size: var(--jp-code-font-size);\n",
       "line-height: var(--jp-code-line-height);\n",
       "\"><span style=\"color: var(--jp-warn-color2)\">CCOODS</span> <span style=\"color: var(--jp-success-color0)\">DEBUG</span>: Disabling authlist-based command authorization</pre>"
      ],
      "text/plain": [
       "<IPython.core.display.HTML object>"
      ]
     },
     "metadata": {},
     "output_type": "display_data"
    },
    {
     "name": "stdout",
     "output_type": "stream",
     "text": [
      "Disabling authlist-based command authorization\n"
     ]
    },
    {
     "data": {
      "text/html": [
       "<pre style=\"margin: 0.1em;\n",
       "padding-left: 0.25em;\n",
       "border-left-style: solid;\n",
       "font-family: var(--jp-code-font-family);\n",
       "font-size: var(--jp-code-font-size);\n",
       "line-height: var(--jp-code-line-height);\n",
       "\"><span style=\"color: var(--jp-warn-color2)\">CCHeaderService</span> <span style=\"color: var(--jp-info-color0)\">INFO</span>: Read historical data in 0.00 sec</pre>"
      ],
      "text/plain": [
       "<IPython.core.display.HTML object>"
      ]
     },
     "metadata": {},
     "output_type": "display_data"
    },
    {
     "name": "stdout",
     "output_type": "stream",
     "text": [
      "Read historical data in 0.00 sec\n"
     ]
    },
    {
     "data": {
      "text/html": [
       "<pre style=\"margin: 0.1em;\n",
       "padding-left: 0.25em;\n",
       "border-left-style: solid;\n",
       "font-family: var(--jp-code-font-family);\n",
       "font-size: var(--jp-code-font-size);\n",
       "line-height: var(--jp-code-line-height);\n",
       "\"><span style=\"color: var(--jp-warn-color2)\">CCHeaderService</span> <span style=\"color: var(--jp-success-color0)\">DEBUG</span>: Read 100 history items for RemoteEvent(CCHeaderService, 0, heartbeat)</pre>"
      ],
      "text/plain": [
       "<IPython.core.display.HTML object>"
      ]
     },
     "metadata": {},
     "output_type": "display_data"
    },
    {
     "name": "stdout",
     "output_type": "stream",
     "text": [
      "Read 100 history items for RemoteEvent(CCHeaderService, 0, heartbeat)\n"
     ]
    },
    {
     "data": {
      "text/html": [
       "<pre style=\"margin: 0.1em;\n",
       "padding-left: 0.25em;\n",
       "border-left-style: solid;\n",
       "font-family: var(--jp-code-font-family);\n",
       "font-size: var(--jp-code-font-size);\n",
       "line-height: var(--jp-code-line-height);\n",
       "\"><span style=\"color: var(--jp-warn-color2)\">CCHeaderService</span> <span style=\"color: var(--jp-success-color0)\">DEBUG</span>: Read 2 history items for RemoteEvent(CCHeaderService, 0, logMessage)</pre>"
      ],
      "text/plain": [
       "<IPython.core.display.HTML object>"
      ]
     },
     "metadata": {},
     "output_type": "display_data"
    },
    {
     "name": "stdout",
     "output_type": "stream",
     "text": [
      "Read 2 history items for RemoteEvent(CCHeaderService, 0, logMessage)\n"
     ]
    },
    {
     "data": {
      "text/html": [
       "<pre style=\"margin: 0.1em;\n",
       "padding-left: 0.25em;\n",
       "border-left-style: solid;\n",
       "font-family: var(--jp-code-font-family);\n",
       "font-size: var(--jp-code-font-size);\n",
       "line-height: var(--jp-code-line-height);\n",
       "\"><span style=\"color: var(--jp-warn-color2)\">CCHeaderService</span> <span style=\"color: var(--jp-success-color0)\">DEBUG</span>: Read 2 history items for RemoteEvent(CCHeaderService, 0, summaryState)</pre>"
      ],
      "text/plain": [
       "<IPython.core.display.HTML object>"
      ]
     },
     "metadata": {},
     "output_type": "display_data"
    },
    {
     "name": "stdout",
     "output_type": "stream",
     "text": [
      "Read 2 history items for RemoteEvent(CCHeaderService, 0, summaryState)\n"
     ]
    },
    {
     "data": {
      "text/html": [
       "<pre style=\"margin: 0.1em;\n",
       "padding-left: 0.25em;\n",
       "border-left-style: solid;\n",
       "font-family: var(--jp-code-font-family);\n",
       "font-size: var(--jp-code-font-size);\n",
       "line-height: var(--jp-code-line-height);\n",
       "\"><span style=\"color: var(--jp-warn-color2)\">CCOODS</span> <span style=\"color: var(--jp-info-color0)\">INFO</span>: Read historical data in 0.06 sec</pre>"
      ],
      "text/plain": [
       "<IPython.core.display.HTML object>"
      ]
     },
     "metadata": {},
     "output_type": "display_data"
    },
    {
     "name": "stdout",
     "output_type": "stream",
     "text": [
      "Read historical data in 0.06 sec\n"
     ]
    },
    {
     "data": {
      "text/html": [
       "<pre style=\"margin: 0.1em;\n",
       "padding-left: 0.25em;\n",
       "border-left-style: solid;\n",
       "font-family: var(--jp-code-font-family);\n",
       "font-size: var(--jp-code-font-size);\n",
       "line-height: var(--jp-code-line-height);\n",
       "\"><span style=\"color: var(--jp-warn-color2)\">CCOODS</span> <span style=\"color: var(--jp-success-color0)\">DEBUG</span>: Read 1 history items for RemoteEvent(CCOODS, 0, authList)</pre>"
      ],
      "text/plain": [
       "<IPython.core.display.HTML object>"
      ]
     },
     "metadata": {},
     "output_type": "display_data"
    },
    {
     "name": "stdout",
     "output_type": "stream",
     "text": [
      "Read 1 history items for RemoteEvent(CCOODS, 0, authList)\n"
     ]
    },
    {
     "data": {
      "text/html": [
       "<pre style=\"margin: 0.1em;\n",
       "padding-left: 0.25em;\n",
       "border-left-style: solid;\n",
       "font-family: var(--jp-code-font-family);\n",
       "font-size: var(--jp-code-font-size);\n",
       "line-height: var(--jp-code-line-height);\n",
       "\"><span style=\"color: var(--jp-warn-color2)\">CCOODS</span> <span style=\"color: var(--jp-success-color0)\">DEBUG</span>: Read 1 history items for RemoteEvent(CCOODS, 0, errorCode)</pre>"
      ],
      "text/plain": [
       "<IPython.core.display.HTML object>"
      ]
     },
     "metadata": {},
     "output_type": "display_data"
    },
    {
     "name": "stdout",
     "output_type": "stream",
     "text": [
      "Read 1 history items for RemoteEvent(CCOODS, 0, errorCode)\n"
     ]
    },
    {
     "data": {
      "text/html": [
       "<pre style=\"margin: 0.1em;\n",
       "padding-left: 0.25em;\n",
       "border-left-style: solid;\n",
       "font-family: var(--jp-code-font-family);\n",
       "font-size: var(--jp-code-font-size);\n",
       "line-height: var(--jp-code-line-height);\n",
       "\"><span style=\"color: var(--jp-warn-color2)\">CCOODS</span> <span style=\"color: var(--jp-success-color0)\">DEBUG</span>: Read 100 history items for RemoteEvent(CCOODS, 0, heartbeat)</pre>"
      ],
      "text/plain": [
       "<IPython.core.display.HTML object>"
      ]
     },
     "metadata": {},
     "output_type": "display_data"
    },
    {
     "name": "stdout",
     "output_type": "stream",
     "text": [
      "Read 100 history items for RemoteEvent(CCOODS, 0, heartbeat)\n"
     ]
    },
    {
     "data": {
      "text/html": [
       "<pre style=\"margin: 0.1em;\n",
       "padding-left: 0.25em;\n",
       "border-left-style: solid;\n",
       "font-family: var(--jp-code-font-family);\n",
       "font-size: var(--jp-code-font-size);\n",
       "line-height: var(--jp-code-line-height);\n",
       "\"><span style=\"color: var(--jp-warn-color2)\">CCOODS</span> <span style=\"color: var(--jp-success-color0)\">DEBUG</span>: Read 1 history items for RemoteEvent(CCOODS, 0, logLevel)</pre>"
      ],
      "text/plain": [
       "<IPython.core.display.HTML object>"
      ]
     },
     "metadata": {},
     "output_type": "display_data"
    },
    {
     "name": "stdout",
     "output_type": "stream",
     "text": [
      "Read 1 history items for RemoteEvent(CCOODS, 0, logLevel)\n"
     ]
    },
    {
     "data": {
      "text/html": [
       "<pre style=\"margin: 0.1em;\n",
       "padding-left: 0.25em;\n",
       "border-left-style: solid;\n",
       "font-family: var(--jp-code-font-family);\n",
       "font-size: var(--jp-code-font-size);\n",
       "line-height: var(--jp-code-line-height);\n",
       "\"><span style=\"color: var(--jp-warn-color2)\">CCOODS</span> <span style=\"color: var(--jp-success-color0)\">DEBUG</span>: Read 1 history items for RemoteEvent(CCOODS, 0, logMessage)</pre>"
      ],
      "text/plain": [
       "<IPython.core.display.HTML object>"
      ]
     },
     "metadata": {},
     "output_type": "display_data"
    },
    {
     "name": "stdout",
     "output_type": "stream",
     "text": [
      "Read 1 history items for RemoteEvent(CCOODS, 0, logMessage)\n"
     ]
    },
    {
     "data": {
      "text/html": [
       "<pre style=\"margin: 0.1em;\n",
       "padding-left: 0.25em;\n",
       "border-left-style: solid;\n",
       "font-family: var(--jp-code-font-family);\n",
       "font-size: var(--jp-code-font-size);\n",
       "line-height: var(--jp-code-line-height);\n",
       "\"><span style=\"color: var(--jp-warn-color2)\">CCOODS</span> <span style=\"color: var(--jp-success-color0)\">DEBUG</span>: Read 1 history items for RemoteEvent(CCOODS, 0, simulationMode)</pre>"
      ],
      "text/plain": [
       "<IPython.core.display.HTML object>"
      ]
     },
     "metadata": {},
     "output_type": "display_data"
    },
    {
     "name": "stdout",
     "output_type": "stream",
     "text": [
      "Read 1 history items for RemoteEvent(CCOODS, 0, simulationMode)\n"
     ]
    },
    {
     "data": {
      "text/html": [
       "<pre style=\"margin: 0.1em;\n",
       "padding-left: 0.25em;\n",
       "border-left-style: solid;\n",
       "font-family: var(--jp-code-font-family);\n",
       "font-size: var(--jp-code-font-size);\n",
       "line-height: var(--jp-code-line-height);\n",
       "\"><span style=\"color: var(--jp-warn-color2)\">CCOODS</span> <span style=\"color: var(--jp-success-color0)\">DEBUG</span>: Read 1 history items for RemoteEvent(CCOODS, 0, softwareVersions)</pre>"
      ],
      "text/plain": [
       "<IPython.core.display.HTML object>"
      ]
     },
     "metadata": {},
     "output_type": "display_data"
    },
    {
     "name": "stdout",
     "output_type": "stream",
     "text": [
      "Read 1 history items for RemoteEvent(CCOODS, 0, softwareVersions)\n"
     ]
    },
    {
     "data": {
      "text/html": [
       "<pre style=\"margin: 0.1em;\n",
       "padding-left: 0.25em;\n",
       "border-left-style: solid;\n",
       "font-family: var(--jp-code-font-family);\n",
       "font-size: var(--jp-code-font-size);\n",
       "line-height: var(--jp-code-line-height);\n",
       "\"><span style=\"color: var(--jp-warn-color2)\">CCOODS</span> <span style=\"color: var(--jp-success-color0)\">DEBUG</span>: Read 2 history items for RemoteEvent(CCOODS, 0, summaryState)</pre>"
      ],
      "text/plain": [
       "<IPython.core.display.HTML object>"
      ]
     },
     "metadata": {},
     "output_type": "display_data"
    },
    {
     "name": "stdout",
     "output_type": "stream",
     "text": [
      "Read 2 history items for RemoteEvent(CCOODS, 0, summaryState)\n"
     ]
    },
    {
     "data": {
      "text/html": [
       "<pre style=\"margin: 0.1em;\n",
       "padding-left: 0.25em;\n",
       "border-left-style: solid;\n",
       "font-family: var(--jp-code-font-family);\n",
       "font-size: var(--jp-code-font-size);\n",
       "line-height: var(--jp-code-line-height);\n",
       "\"><span style=\"color: var(--jp-warn-color2)\">CCCamera</span> <span style=\"color: var(--jp-info-color0)\">INFO</span>: Read historical data in 0.08 sec</pre>"
      ],
      "text/plain": [
       "<IPython.core.display.HTML object>"
      ]
     },
     "metadata": {},
     "output_type": "display_data"
    },
    {
     "name": "stdout",
     "output_type": "stream",
     "text": [
      "Read historical data in 0.08 sec\n"
     ]
    },
    {
     "data": {
      "text/html": [
       "<pre style=\"margin: 0.1em;\n",
       "padding-left: 0.25em;\n",
       "border-left-style: solid;\n",
       "font-family: var(--jp-code-font-family);\n",
       "font-size: var(--jp-code-font-size);\n",
       "line-height: var(--jp-code-line-height);\n",
       "\"><span style=\"color: var(--jp-warn-color2)\">CCCamera</span> <span style=\"color: var(--jp-success-color0)\">DEBUG</span>: Read 3 history items for RemoteEvent(CCCamera, 0, availableFilters)</pre>"
      ],
      "text/plain": [
       "<IPython.core.display.HTML object>"
      ]
     },
     "metadata": {},
     "output_type": "display_data"
    },
    {
     "name": "stdout",
     "output_type": "stream",
     "text": [
      "Read 3 history items for RemoteEvent(CCCamera, 0, availableFilters)\n"
     ]
    },
    {
     "data": {
      "text/html": [
       "<pre style=\"margin: 0.1em;\n",
       "padding-left: 0.25em;\n",
       "border-left-style: solid;\n",
       "font-family: var(--jp-code-font-family);\n",
       "font-size: var(--jp-code-font-size);\n",
       "line-height: var(--jp-code-line-height);\n",
       "\"><span style=\"color: var(--jp-warn-color2)\">CCCamera</span> <span style=\"color: var(--jp-success-color0)\">DEBUG</span>: Read 4 history items for RemoteEvent(CCCamera, 0, bonn_shutter_Device_GeneralConfiguration)</pre>"
      ],
      "text/plain": [
       "<IPython.core.display.HTML object>"
      ]
     },
     "metadata": {},
     "output_type": "display_data"
    },
    {
     "name": "stdout",
     "output_type": "stream",
     "text": [
      "Read 4 history items for RemoteEvent(CCCamera, 0, bonn_shutter_Device_GeneralConfiguration)\n"
     ]
    },
    {
     "data": {
      "text/html": [
       "<pre style=\"margin: 0.1em;\n",
       "padding-left: 0.25em;\n",
       "border-left-style: solid;\n",
       "font-family: var(--jp-code-font-family);\n",
       "font-size: var(--jp-code-font-size);\n",
       "line-height: var(--jp-code-line-height);\n",
       "\"><span style=\"color: var(--jp-warn-color2)\">CCCamera</span> <span style=\"color: var(--jp-success-color0)\">DEBUG</span>: Read 4 history items for RemoteEvent(CCCamera, 0, bonn_shutter_Device_LimitsConfiguration)</pre>"
      ],
      "text/plain": [
       "<IPython.core.display.HTML object>"
      ]
     },
     "metadata": {},
     "output_type": "display_data"
    },
    {
     "name": "stdout",
     "output_type": "stream",
     "text": [
      "Read 4 history items for RemoteEvent(CCCamera, 0, bonn_shutter_Device_LimitsConfiguration)\n"
     ]
    },
    {
     "data": {
      "text/html": [
       "<pre style=\"margin: 0.1em;\n",
       "padding-left: 0.25em;\n",
       "border-left-style: solid;\n",
       "font-family: var(--jp-code-font-family);\n",
       "font-size: var(--jp-code-font-size);\n",
       "line-height: var(--jp-code-line-height);\n",
       "\"><span style=\"color: var(--jp-warn-color2)\">CCCamera</span> <span style=\"color: var(--jp-success-color0)\">DEBUG</span>: Read 4 history items for RemoteEvent(CCCamera, 0, bonn_shutter_GeneralConfiguration)</pre>"
      ],
      "text/plain": [
       "<IPython.core.display.HTML object>"
      ]
     },
     "metadata": {},
     "output_type": "display_data"
    },
    {
     "name": "stdout",
     "output_type": "stream",
     "text": [
      "Read 4 history items for RemoteEvent(CCCamera, 0, bonn_shutter_GeneralConfiguration)\n"
     ]
    },
    {
     "data": {
      "text/html": [
       "<pre style=\"margin: 0.1em;\n",
       "padding-left: 0.25em;\n",
       "border-left-style: solid;\n",
       "font-family: var(--jp-code-font-family);\n",
       "font-size: var(--jp-code-font-size);\n",
       "line-height: var(--jp-code-line-height);\n",
       "\"><span style=\"color: var(--jp-warn-color2)\">CCCamera</span> <span style=\"color: var(--jp-success-color0)\">DEBUG</span>: Read 4 history items for RemoteEvent(CCCamera, 0, bonn_shutter_PeriodicTasks_timersConfiguration)</pre>"
      ],
      "text/plain": [
       "<IPython.core.display.HTML object>"
      ]
     },
     "metadata": {},
     "output_type": "display_data"
    },
    {
     "name": "stdout",
     "output_type": "stream",
     "text": [
      "Read 4 history items for RemoteEvent(CCCamera, 0, bonn_shutter_PeriodicTasks_timersConfiguration)\n"
     ]
    },
    {
     "data": {
      "text/html": [
       "<pre style=\"margin: 0.1em;\n",
       "padding-left: 0.25em;\n",
       "border-left-style: solid;\n",
       "font-family: var(--jp-code-font-family);\n",
       "font-size: var(--jp-code-font-size);\n",
       "line-height: var(--jp-code-line-height);\n",
       "\"><span style=\"color: var(--jp-warn-color2)\">CCCamera</span> <span style=\"color: var(--jp-success-color0)\">DEBUG</span>: Read 3 history items for RemoteEvent(CCCamera, 0, configurationApplied)</pre>"
      ],
      "text/plain": [
       "<IPython.core.display.HTML object>"
      ]
     },
     "metadata": {},
     "output_type": "display_data"
    },
    {
     "name": "stdout",
     "output_type": "stream",
     "text": [
      "Read 3 history items for RemoteEvent(CCCamera, 0, configurationApplied)\n"
     ]
    },
    {
     "data": {
      "text/html": [
       "<pre style=\"margin: 0.1em;\n",
       "padding-left: 0.25em;\n",
       "border-left-style: solid;\n",
       "font-family: var(--jp-code-font-family);\n",
       "font-size: var(--jp-code-font-size);\n",
       "line-height: var(--jp-code-line-height);\n",
       "\"><span style=\"color: var(--jp-warn-color2)\">CCCamera</span> <span style=\"color: var(--jp-success-color0)\">DEBUG</span>: Read 4 history items for RemoteEvent(CCCamera, 0, daq_monitor_PeriodicTasks_timersConfiguration)</pre>"
      ],
      "text/plain": [
       "<IPython.core.display.HTML object>"
      ]
     },
     "metadata": {},
     "output_type": "display_data"
    },
    {
     "name": "stdout",
     "output_type": "stream",
     "text": [
      "Read 4 history items for RemoteEvent(CCCamera, 0, daq_monitor_PeriodicTasks_timersConfiguration)\n"
     ]
    },
    {
     "data": {
      "text/html": [
       "<pre style=\"margin: 0.1em;\n",
       "padding-left: 0.25em;\n",
       "border-left-style: solid;\n",
       "font-family: var(--jp-code-font-family);\n",
       "font-size: var(--jp-code-font-size);\n",
       "line-height: var(--jp-code-line-height);\n",
       "\"><span style=\"color: var(--jp-warn-color2)\">CCCamera</span> <span style=\"color: var(--jp-success-color0)\">DEBUG</span>: Read 4 history items for RemoteEvent(CCCamera, 0, daq_monitor_Stats_StatisticsConfiguration)</pre>"
      ],
      "text/plain": [
       "<IPython.core.display.HTML object>"
      ]
     },
     "metadata": {},
     "output_type": "display_data"
    },
    {
     "name": "stdout",
     "output_type": "stream",
     "text": [
      "Read 4 history items for RemoteEvent(CCCamera, 0, daq_monitor_Stats_StatisticsConfiguration)\n"
     ]
    },
    {
     "data": {
      "text/html": [
       "<pre style=\"margin: 0.1em;\n",
       "padding-left: 0.25em;\n",
       "border-left-style: solid;\n",
       "font-family: var(--jp-code-font-family);\n",
       "font-size: var(--jp-code-font-size);\n",
       "line-height: var(--jp-code-line-height);\n",
       "\"><span style=\"color: var(--jp-warn-color2)\">CCCamera</span> <span style=\"color: var(--jp-success-color0)\">DEBUG</span>: Read 4 history items for RemoteEvent(CCCamera, 0, daq_monitor_Store_LimitsConfiguration)</pre>"
      ],
      "text/plain": [
       "<IPython.core.display.HTML object>"
      ]
     },
     "metadata": {},
     "output_type": "display_data"
    },
    {
     "name": "stdout",
     "output_type": "stream",
     "text": [
      "Read 4 history items for RemoteEvent(CCCamera, 0, daq_monitor_Store_LimitsConfiguration)\n"
     ]
    },
    {
     "data": {
      "text/html": [
       "<pre style=\"margin: 0.1em;\n",
       "padding-left: 0.25em;\n",
       "border-left-style: solid;\n",
       "font-family: var(--jp-code-font-family);\n",
       "font-size: var(--jp-code-font-size);\n",
       "line-height: var(--jp-code-line-height);\n",
       "\"><span style=\"color: var(--jp-warn-color2)\">CCCamera</span> <span style=\"color: var(--jp-success-color0)\">DEBUG</span>: Read 4 history items for RemoteEvent(CCCamera, 0, daq_monitor_Store_StoreConfiguration)</pre>"
      ],
      "text/plain": [
       "<IPython.core.display.HTML object>"
      ]
     },
     "metadata": {},
     "output_type": "display_data"
    },
    {
     "name": "stdout",
     "output_type": "stream",
     "text": [
      "Read 4 history items for RemoteEvent(CCCamera, 0, daq_monitor_Store_StoreConfiguration)\n"
     ]
    },
    {
     "data": {
      "text/html": [
       "<pre style=\"margin: 0.1em;\n",
       "padding-left: 0.25em;\n",
       "border-left-style: solid;\n",
       "font-family: var(--jp-code-font-family);\n",
       "font-size: var(--jp-code-font-size);\n",
       "line-height: var(--jp-code-line-height);\n",
       "\"><span style=\"color: var(--jp-warn-color2)\">CCCamera</span> <span style=\"color: var(--jp-success-color0)\">DEBUG</span>: Read 4 history items for RemoteEvent(CCCamera, 0, focalPlaneSummaryInfo)</pre>"
      ],
      "text/plain": [
       "<IPython.core.display.HTML object>"
      ]
     },
     "metadata": {},
     "output_type": "display_data"
    },
    {
     "name": "stdout",
     "output_type": "stream",
     "text": [
      "Read 4 history items for RemoteEvent(CCCamera, 0, focalPlaneSummaryInfo)\n"
     ]
    },
    {
     "data": {
      "text/html": [
       "<pre style=\"margin: 0.1em;\n",
       "padding-left: 0.25em;\n",
       "border-left-style: solid;\n",
       "font-family: var(--jp-code-font-family);\n",
       "font-size: var(--jp-code-font-size);\n",
       "line-height: var(--jp-code-line-height);\n",
       "\"><span style=\"color: var(--jp-warn-color2)\">CCCamera</span> <span style=\"color: var(--jp-success-color0)\">DEBUG</span>: Read 4 history items for RemoteEvent(CCCamera, 0, focal_plane_Ccd_HardwareIdConfiguration)</pre>"
      ],
      "text/plain": [
       "<IPython.core.display.HTML object>"
      ]
     },
     "metadata": {},
     "output_type": "display_data"
    },
    {
     "name": "stdout",
     "output_type": "stream",
     "text": [
      "Read 4 history items for RemoteEvent(CCCamera, 0, focal_plane_Ccd_HardwareIdConfiguration)\n"
     ]
    },
    {
     "data": {
      "text/html": [
       "<pre style=\"margin: 0.1em;\n",
       "padding-left: 0.25em;\n",
       "border-left-style: solid;\n",
       "font-family: var(--jp-code-font-family);\n",
       "font-size: var(--jp-code-font-size);\n",
       "line-height: var(--jp-code-line-height);\n",
       "\"><span style=\"color: var(--jp-warn-color2)\">CCCamera</span> <span style=\"color: var(--jp-success-color0)\">DEBUG</span>: Read 4 history items for RemoteEvent(CCCamera, 0, focal_plane_Ccd_LimitsConfiguration)</pre>"
      ],
      "text/plain": [
       "<IPython.core.display.HTML object>"
      ]
     },
     "metadata": {},
     "output_type": "display_data"
    },
    {
     "name": "stdout",
     "output_type": "stream",
     "text": [
      "Read 4 history items for RemoteEvent(CCCamera, 0, focal_plane_Ccd_LimitsConfiguration)\n"
     ]
    },
    {
     "data": {
      "text/html": [
       "<pre style=\"margin: 0.1em;\n",
       "padding-left: 0.25em;\n",
       "border-left-style: solid;\n",
       "font-family: var(--jp-code-font-family);\n",
       "font-size: var(--jp-code-font-size);\n",
       "line-height: var(--jp-code-line-height);\n",
       "\"><span style=\"color: var(--jp-warn-color2)\">CCCamera</span> <span style=\"color: var(--jp-success-color0)\">DEBUG</span>: Read 4 history items for RemoteEvent(CCCamera, 0, focal_plane_Ccd_RaftsConfiguration)</pre>"
      ],
      "text/plain": [
       "<IPython.core.display.HTML object>"
      ]
     },
     "metadata": {},
     "output_type": "display_data"
    },
    {
     "name": "stdout",
     "output_type": "stream",
     "text": [
      "Read 4 history items for RemoteEvent(CCCamera, 0, focal_plane_Ccd_RaftsConfiguration)\n"
     ]
    },
    {
     "data": {
      "text/html": [
       "<pre style=\"margin: 0.1em;\n",
       "padding-left: 0.25em;\n",
       "border-left-style: solid;\n",
       "font-family: var(--jp-code-font-family);\n",
       "font-size: var(--jp-code-font-size);\n",
       "line-height: var(--jp-code-line-height);\n",
       "\"><span style=\"color: var(--jp-warn-color2)\">CCCamera</span> <span style=\"color: var(--jp-success-color0)\">DEBUG</span>: Read 4 history items for RemoteEvent(CCCamera, 0, focal_plane_InstrumentConfig_InstrumentConfiguration)</pre>"
      ],
      "text/plain": [
       "<IPython.core.display.HTML object>"
      ]
     },
     "metadata": {},
     "output_type": "display_data"
    },
    {
     "name": "stdout",
     "output_type": "stream",
     "text": [
      "Read 4 history items for RemoteEvent(CCCamera, 0, focal_plane_InstrumentConfig_InstrumentConfiguration)\n"
     ]
    },
    {
     "data": {
      "text/html": [
       "<pre style=\"margin: 0.1em;\n",
       "padding-left: 0.25em;\n",
       "border-left-style: solid;\n",
       "font-family: var(--jp-code-font-family);\n",
       "font-size: var(--jp-code-font-size);\n",
       "line-height: var(--jp-code-line-height);\n",
       "\"><span style=\"color: var(--jp-warn-color2)\">CCCamera</span> <span style=\"color: var(--jp-success-color0)\">DEBUG</span>: Read 4 history items for RemoteEvent(CCCamera, 0, focal_plane_PeriodicTasks_timersConfiguration)</pre>"
      ],
      "text/plain": [
       "<IPython.core.display.HTML object>"
      ]
     },
     "metadata": {},
     "output_type": "display_data"
    },
    {
     "name": "stdout",
     "output_type": "stream",
     "text": [
      "Read 4 history items for RemoteEvent(CCCamera, 0, focal_plane_PeriodicTasks_timersConfiguration)\n"
     ]
    },
    {
     "data": {
      "text/html": [
       "<pre style=\"margin: 0.1em;\n",
       "padding-left: 0.25em;\n",
       "border-left-style: solid;\n",
       "font-family: var(--jp-code-font-family);\n",
       "font-size: var(--jp-code-font-size);\n",
       "line-height: var(--jp-code-line-height);\n",
       "\"><span style=\"color: var(--jp-warn-color2)\">CCCamera</span> <span style=\"color: var(--jp-success-color0)\">DEBUG</span>: Read 4 history items for RemoteEvent(CCCamera, 0, focal_plane_Raft_HardwareIdConfiguration)</pre>"
      ],
      "text/plain": [
       "<IPython.core.display.HTML object>"
      ]
     },
     "metadata": {},
     "output_type": "display_data"
    },
    {
     "name": "stdout",
     "output_type": "stream",
     "text": [
      "Read 4 history items for RemoteEvent(CCCamera, 0, focal_plane_Raft_HardwareIdConfiguration)\n"
     ]
    },
    {
     "data": {
      "text/html": [
       "<pre style=\"margin: 0.1em;\n",
       "padding-left: 0.25em;\n",
       "border-left-style: solid;\n",
       "font-family: var(--jp-code-font-family);\n",
       "font-size: var(--jp-code-font-size);\n",
       "line-height: var(--jp-code-line-height);\n",
       "\"><span style=\"color: var(--jp-warn-color2)\">CCCamera</span> <span style=\"color: var(--jp-success-color0)\">DEBUG</span>: Read 4 history items for RemoteEvent(CCCamera, 0, focal_plane_Raft_RaftTempControlConfiguration)</pre>"
      ],
      "text/plain": [
       "<IPython.core.display.HTML object>"
      ]
     },
     "metadata": {},
     "output_type": "display_data"
    },
    {
     "name": "stdout",
     "output_type": "stream",
     "text": [
      "Read 4 history items for RemoteEvent(CCCamera, 0, focal_plane_Raft_RaftTempControlConfiguration)\n"
     ]
    },
    {
     "data": {
      "text/html": [
       "<pre style=\"margin: 0.1em;\n",
       "padding-left: 0.25em;\n",
       "border-left-style: solid;\n",
       "font-family: var(--jp-code-font-family);\n",
       "font-size: var(--jp-code-font-size);\n",
       "line-height: var(--jp-code-line-height);\n",
       "\"><span style=\"color: var(--jp-warn-color2)\">CCCamera</span> <span style=\"color: var(--jp-success-color0)\">DEBUG</span>: Read 4 history items for RemoteEvent(CCCamera, 0, focal_plane_Raft_RaftTempControlStatusConfiguration)</pre>"
      ],
      "text/plain": [
       "<IPython.core.display.HTML object>"
      ]
     },
     "metadata": {},
     "output_type": "display_data"
    },
    {
     "name": "stdout",
     "output_type": "stream",
     "text": [
      "Read 4 history items for RemoteEvent(CCCamera, 0, focal_plane_Raft_RaftTempControlStatusConfiguration)\n"
     ]
    },
    {
     "data": {
      "text/html": [
       "<pre style=\"margin: 0.1em;\n",
       "padding-left: 0.25em;\n",
       "border-left-style: solid;\n",
       "font-family: var(--jp-code-font-family);\n",
       "font-size: var(--jp-code-font-size);\n",
       "line-height: var(--jp-code-line-height);\n",
       "\"><span style=\"color: var(--jp-warn-color2)\">CCCamera</span> <span style=\"color: var(--jp-success-color0)\">DEBUG</span>: Read 4 history items for RemoteEvent(CCCamera, 0, focal_plane_RebTotalPower_LimitsConfiguration)</pre>"
      ],
      "text/plain": [
       "<IPython.core.display.HTML object>"
      ]
     },
     "metadata": {},
     "output_type": "display_data"
    },
    {
     "name": "stdout",
     "output_type": "stream",
     "text": [
      "Read 4 history items for RemoteEvent(CCCamera, 0, focal_plane_RebTotalPower_LimitsConfiguration)\n"
     ]
    },
    {
     "data": {
      "text/html": [
       "<pre style=\"margin: 0.1em;\n",
       "padding-left: 0.25em;\n",
       "border-left-style: solid;\n",
       "font-family: var(--jp-code-font-family);\n",
       "font-size: var(--jp-code-font-size);\n",
       "line-height: var(--jp-code-line-height);\n",
       "\"><span style=\"color: var(--jp-warn-color2)\">CCCamera</span> <span style=\"color: var(--jp-success-color0)\">DEBUG</span>: Read 4 history items for RemoteEvent(CCCamera, 0, focal_plane_Reb_HardwareIdConfiguration)</pre>"
      ],
      "text/plain": [
       "<IPython.core.display.HTML object>"
      ]
     },
     "metadata": {},
     "output_type": "display_data"
    },
    {
     "name": "stdout",
     "output_type": "stream",
     "text": [
      "Read 4 history items for RemoteEvent(CCCamera, 0, focal_plane_Reb_HardwareIdConfiguration)\n"
     ]
    },
    {
     "data": {
      "text/html": [
       "<pre style=\"margin: 0.1em;\n",
       "padding-left: 0.25em;\n",
       "border-left-style: solid;\n",
       "font-family: var(--jp-code-font-family);\n",
       "font-size: var(--jp-code-font-size);\n",
       "line-height: var(--jp-code-line-height);\n",
       "\"><span style=\"color: var(--jp-warn-color2)\">CCCamera</span> <span style=\"color: var(--jp-success-color0)\">DEBUG</span>: Read 4 history items for RemoteEvent(CCCamera, 0, focal_plane_Reb_LimitsConfiguration)</pre>"
      ],
      "text/plain": [
       "<IPython.core.display.HTML object>"
      ]
     },
     "metadata": {},
     "output_type": "display_data"
    },
    {
     "name": "stdout",
     "output_type": "stream",
     "text": [
      "Read 4 history items for RemoteEvent(CCCamera, 0, focal_plane_Reb_LimitsConfiguration)\n"
     ]
    },
    {
     "data": {
      "text/html": [
       "<pre style=\"margin: 0.1em;\n",
       "padding-left: 0.25em;\n",
       "border-left-style: solid;\n",
       "font-family: var(--jp-code-font-family);\n",
       "font-size: var(--jp-code-font-size);\n",
       "line-height: var(--jp-code-line-height);\n",
       "\"><span style=\"color: var(--jp-warn-color2)\">CCCamera</span> <span style=\"color: var(--jp-success-color0)\">DEBUG</span>: Read 4 history items for RemoteEvent(CCCamera, 0, focal_plane_Reb_RaftsConfiguration)</pre>"
      ],
      "text/plain": [
       "<IPython.core.display.HTML object>"
      ]
     },
     "metadata": {},
     "output_type": "display_data"
    },
    {
     "name": "stdout",
     "output_type": "stream",
     "text": [
      "Read 4 history items for RemoteEvent(CCCamera, 0, focal_plane_Reb_RaftsConfiguration)\n"
     ]
    },
    {
     "data": {
      "text/html": [
       "<pre style=\"margin: 0.1em;\n",
       "padding-left: 0.25em;\n",
       "border-left-style: solid;\n",
       "font-family: var(--jp-code-font-family);\n",
       "font-size: var(--jp-code-font-size);\n",
       "line-height: var(--jp-code-line-height);\n",
       "\"><span style=\"color: var(--jp-warn-color2)\">CCCamera</span> <span style=\"color: var(--jp-success-color0)\">DEBUG</span>: Read 4 history items for RemoteEvent(CCCamera, 0, focal_plane_Reb_RaftsLimitsConfiguration)</pre>"
      ],
      "text/plain": [
       "<IPython.core.display.HTML object>"
      ]
     },
     "metadata": {},
     "output_type": "display_data"
    },
    {
     "name": "stdout",
     "output_type": "stream",
     "text": [
      "Read 4 history items for RemoteEvent(CCCamera, 0, focal_plane_Reb_RaftsLimitsConfiguration)\n"
     ]
    },
    {
     "data": {
      "text/html": [
       "<pre style=\"margin: 0.1em;\n",
       "padding-left: 0.25em;\n",
       "border-left-style: solid;\n",
       "font-family: var(--jp-code-font-family);\n",
       "font-size: var(--jp-code-font-size);\n",
       "line-height: var(--jp-code-line-height);\n",
       "\"><span style=\"color: var(--jp-warn-color2)\">CCCamera</span> <span style=\"color: var(--jp-success-color0)\">DEBUG</span>: Read 4 history items for RemoteEvent(CCCamera, 0, focal_plane_Reb_RaftsPowerConfiguration)</pre>"
      ],
      "text/plain": [
       "<IPython.core.display.HTML object>"
      ]
     },
     "metadata": {},
     "output_type": "display_data"
    },
    {
     "name": "stdout",
     "output_type": "stream",
     "text": [
      "Read 4 history items for RemoteEvent(CCCamera, 0, focal_plane_Reb_RaftsPowerConfiguration)\n"
     ]
    },
    {
     "data": {
      "text/html": [
       "<pre style=\"margin: 0.1em;\n",
       "padding-left: 0.25em;\n",
       "border-left-style: solid;\n",
       "font-family: var(--jp-code-font-family);\n",
       "font-size: var(--jp-code-font-size);\n",
       "line-height: var(--jp-code-line-height);\n",
       "\"><span style=\"color: var(--jp-warn-color2)\">CCCamera</span> <span style=\"color: var(--jp-success-color0)\">DEBUG</span>: Read 4 history items for RemoteEvent(CCCamera, 0, focal_plane_Reb_timersConfiguration)</pre>"
      ],
      "text/plain": [
       "<IPython.core.display.HTML object>"
      ]
     },
     "metadata": {},
     "output_type": "display_data"
    },
    {
     "name": "stdout",
     "output_type": "stream",
     "text": [
      "Read 4 history items for RemoteEvent(CCCamera, 0, focal_plane_Reb_timersConfiguration)\n"
     ]
    },
    {
     "data": {
      "text/html": [
       "<pre style=\"margin: 0.1em;\n",
       "padding-left: 0.25em;\n",
       "border-left-style: solid;\n",
       "font-family: var(--jp-code-font-family);\n",
       "font-size: var(--jp-code-font-size);\n",
       "line-height: var(--jp-code-line-height);\n",
       "\"><span style=\"color: var(--jp-warn-color2)\">CCCamera</span> <span style=\"color: var(--jp-success-color0)\">DEBUG</span>: Read 4 history items for RemoteEvent(CCCamera, 0, focal_plane_Segment_LimitsConfiguration)</pre>"
      ],
      "text/plain": [
       "<IPython.core.display.HTML object>"
      ]
     },
     "metadata": {},
     "output_type": "display_data"
    },
    {
     "name": "stdout",
     "output_type": "stream",
     "text": [
      "Read 4 history items for RemoteEvent(CCCamera, 0, focal_plane_Segment_LimitsConfiguration)\n"
     ]
    },
    {
     "data": {
      "text/html": [
       "<pre style=\"margin: 0.1em;\n",
       "padding-left: 0.25em;\n",
       "border-left-style: solid;\n",
       "font-family: var(--jp-code-font-family);\n",
       "font-size: var(--jp-code-font-size);\n",
       "line-height: var(--jp-code-line-height);\n",
       "\"><span style=\"color: var(--jp-warn-color2)\">CCCamera</span> <span style=\"color: var(--jp-success-color0)\">DEBUG</span>: Read 4 history items for RemoteEvent(CCCamera, 0, focal_plane_SequencerConfig_DAQConfiguration)</pre>"
      ],
      "text/plain": [
       "<IPython.core.display.HTML object>"
      ]
     },
     "metadata": {},
     "output_type": "display_data"
    },
    {
     "name": "stdout",
     "output_type": "stream",
     "text": [
      "Read 4 history items for RemoteEvent(CCCamera, 0, focal_plane_SequencerConfig_DAQConfiguration)\n"
     ]
    },
    {
     "data": {
      "text/html": [
       "<pre style=\"margin: 0.1em;\n",
       "padding-left: 0.25em;\n",
       "border-left-style: solid;\n",
       "font-family: var(--jp-code-font-family);\n",
       "font-size: var(--jp-code-font-size);\n",
       "line-height: var(--jp-code-line-height);\n",
       "\"><span style=\"color: var(--jp-warn-color2)\">CCCamera</span> <span style=\"color: var(--jp-success-color0)\">DEBUG</span>: Read 4 history items for RemoteEvent(CCCamera, 0, focal_plane_SequencerConfig_SequencerConfiguration)</pre>"
      ],
      "text/plain": [
       "<IPython.core.display.HTML object>"
      ]
     },
     "metadata": {},
     "output_type": "display_data"
    },
    {
     "name": "stdout",
     "output_type": "stream",
     "text": [
      "Read 4 history items for RemoteEvent(CCCamera, 0, focal_plane_SequencerConfig_SequencerConfiguration)\n"
     ]
    },
    {
     "data": {
      "text/html": [
       "<pre style=\"margin: 0.1em;\n",
       "padding-left: 0.25em;\n",
       "border-left-style: solid;\n",
       "font-family: var(--jp-code-font-family);\n",
       "font-size: var(--jp-code-font-size);\n",
       "line-height: var(--jp-code-line-height);\n",
       "\"><span style=\"color: var(--jp-warn-color2)\">CCCamera</span> <span style=\"color: var(--jp-success-color0)\">DEBUG</span>: Read 4 history items for RemoteEvent(CCCamera, 0, focal_plane_WebHooksConfig_VisualizationConfiguration)</pre>"
      ],
      "text/plain": [
       "<IPython.core.display.HTML object>"
      ]
     },
     "metadata": {},
     "output_type": "display_data"
    },
    {
     "name": "stdout",
     "output_type": "stream",
     "text": [
      "Read 4 history items for RemoteEvent(CCCamera, 0, focal_plane_WebHooksConfig_VisualizationConfiguration)\n"
     ]
    },
    {
     "data": {
      "text/html": [
       "<pre style=\"margin: 0.1em;\n",
       "padding-left: 0.25em;\n",
       "border-left-style: solid;\n",
       "font-family: var(--jp-code-font-family);\n",
       "font-size: var(--jp-code-font-size);\n",
       "line-height: var(--jp-code-line-height);\n",
       "\"><span style=\"color: var(--jp-warn-color2)\">CCCamera</span> <span style=\"color: var(--jp-success-color0)\">DEBUG</span>: Read 100 history items for RemoteEvent(CCCamera, 0, heartbeat)</pre>"
      ],
      "text/plain": [
       "<IPython.core.display.HTML object>"
      ]
     },
     "metadata": {},
     "output_type": "display_data"
    },
    {
     "name": "stdout",
     "output_type": "stream",
     "text": [
      "Read 100 history items for RemoteEvent(CCCamera, 0, heartbeat)\n"
     ]
    },
    {
     "data": {
      "text/html": [
       "<pre style=\"margin: 0.1em;\n",
       "padding-left: 0.25em;\n",
       "border-left-style: solid;\n",
       "font-family: var(--jp-code-font-family);\n",
       "font-size: var(--jp-code-font-size);\n",
       "line-height: var(--jp-code-line-height);\n",
       "\"><span style=\"color: var(--jp-warn-color2)\">CCCamera</span> <span style=\"color: var(--jp-success-color0)\">DEBUG</span>: Read 4 history items for RemoteEvent(CCCamera, 0, image_handling_ImageHandler_DAQConfiguration)</pre>"
      ],
      "text/plain": [
       "<IPython.core.display.HTML object>"
      ]
     },
     "metadata": {},
     "output_type": "display_data"
    },
    {
     "name": "stdout",
     "output_type": "stream",
     "text": [
      "Read 4 history items for RemoteEvent(CCCamera, 0, image_handling_ImageHandler_DAQConfiguration)\n"
     ]
    },
    {
     "data": {
      "text/html": [
       "<pre style=\"margin: 0.1em;\n",
       "padding-left: 0.25em;\n",
       "border-left-style: solid;\n",
       "font-family: var(--jp-code-font-family);\n",
       "font-size: var(--jp-code-font-size);\n",
       "line-height: var(--jp-code-line-height);\n",
       "\"><span style=\"color: var(--jp-warn-color2)\">CCCamera</span> <span style=\"color: var(--jp-success-color0)\">DEBUG</span>: Read 4 history items for RemoteEvent(CCCamera, 0, image_handling_ImageHandler_FitsHandlingConfiguration)</pre>"
      ],
      "text/plain": [
       "<IPython.core.display.HTML object>"
      ]
     },
     "metadata": {},
     "output_type": "display_data"
    },
    {
     "name": "stdout",
     "output_type": "stream",
     "text": [
      "Read 4 history items for RemoteEvent(CCCamera, 0, image_handling_ImageHandler_FitsHandlingConfiguration)\n"
     ]
    },
    {
     "data": {
      "text/html": [
       "<pre style=\"margin: 0.1em;\n",
       "padding-left: 0.25em;\n",
       "border-left-style: solid;\n",
       "font-family: var(--jp-code-font-family);\n",
       "font-size: var(--jp-code-font-size);\n",
       "line-height: var(--jp-code-line-height);\n",
       "\"><span style=\"color: var(--jp-warn-color2)\">CCCamera</span> <span style=\"color: var(--jp-success-color0)\">DEBUG</span>: Read 4 history items for RemoteEvent(CCCamera, 0, image_handling_PeriodicTasks_timersConfiguration)</pre>"
      ],
      "text/plain": [
       "<IPython.core.display.HTML object>"
      ]
     },
     "metadata": {},
     "output_type": "display_data"
    },
    {
     "name": "stdout",
     "output_type": "stream",
     "text": [
      "Read 4 history items for RemoteEvent(CCCamera, 0, image_handling_PeriodicTasks_timersConfiguration)\n"
     ]
    },
    {
     "data": {
      "text/html": [
       "<pre style=\"margin: 0.1em;\n",
       "padding-left: 0.25em;\n",
       "border-left-style: solid;\n",
       "font-family: var(--jp-code-font-family);\n",
       "font-size: var(--jp-code-font-size);\n",
       "line-height: var(--jp-code-line-height);\n",
       "\"><span style=\"color: var(--jp-warn-color2)\">CCCamera</span> <span style=\"color: var(--jp-success-color0)\">DEBUG</span>: Read 4 history items for RemoteEvent(CCCamera, 0, image_handling_Reb_FitsHandlingConfiguration)</pre>"
      ],
      "text/plain": [
       "<IPython.core.display.HTML object>"
      ]
     },
     "metadata": {},
     "output_type": "display_data"
    },
    {
     "name": "stdout",
     "output_type": "stream",
     "text": [
      "Read 4 history items for RemoteEvent(CCCamera, 0, image_handling_Reb_FitsHandlingConfiguration)\n"
     ]
    },
    {
     "data": {
      "text/html": [
       "<pre style=\"margin: 0.1em;\n",
       "padding-left: 0.25em;\n",
       "border-left-style: solid;\n",
       "font-family: var(--jp-code-font-family);\n",
       "font-size: var(--jp-code-font-size);\n",
       "line-height: var(--jp-code-line-height);\n",
       "\"><span style=\"color: var(--jp-warn-color2)\">CCCamera</span> <span style=\"color: var(--jp-success-color0)\">DEBUG</span>: Read 4 history items for RemoteEvent(CCCamera, 0, quadbox_BFR_LimitsConfiguration)</pre>"
      ],
      "text/plain": [
       "<IPython.core.display.HTML object>"
      ]
     },
     "metadata": {},
     "output_type": "display_data"
    },
    {
     "name": "stdout",
     "output_type": "stream",
     "text": [
      "Read 4 history items for RemoteEvent(CCCamera, 0, quadbox_BFR_LimitsConfiguration)\n"
     ]
    },
    {
     "data": {
      "text/html": [
       "<pre style=\"margin: 0.1em;\n",
       "padding-left: 0.25em;\n",
       "border-left-style: solid;\n",
       "font-family: var(--jp-code-font-family);\n",
       "font-size: var(--jp-code-font-size);\n",
       "line-height: var(--jp-code-line-height);\n",
       "\"><span style=\"color: var(--jp-warn-color2)\">CCCamera</span> <span style=\"color: var(--jp-success-color0)\">DEBUG</span>: Read 4 history items for RemoteEvent(CCCamera, 0, quadbox_BFR_QuadboxConfiguration)</pre>"
      ],
      "text/plain": [
       "<IPython.core.display.HTML object>"
      ]
     },
     "metadata": {},
     "output_type": "display_data"
    },
    {
     "name": "stdout",
     "output_type": "stream",
     "text": [
      "Read 4 history items for RemoteEvent(CCCamera, 0, quadbox_BFR_QuadboxConfiguration)\n"
     ]
    },
    {
     "data": {
      "text/html": [
       "<pre style=\"margin: 0.1em;\n",
       "padding-left: 0.25em;\n",
       "border-left-style: solid;\n",
       "font-family: var(--jp-code-font-family);\n",
       "font-size: var(--jp-code-font-size);\n",
       "line-height: var(--jp-code-line-height);\n",
       "\"><span style=\"color: var(--jp-warn-color2)\">CCCamera</span> <span style=\"color: var(--jp-success-color0)\">DEBUG</span>: Read 4 history items for RemoteEvent(CCCamera, 0, quadbox_PDU_24VC_LimitsConfiguration)</pre>"
      ],
      "text/plain": [
       "<IPython.core.display.HTML object>"
      ]
     },
     "metadata": {},
     "output_type": "display_data"
    },
    {
     "name": "stdout",
     "output_type": "stream",
     "text": [
      "Read 4 history items for RemoteEvent(CCCamera, 0, quadbox_PDU_24VC_LimitsConfiguration)\n"
     ]
    },
    {
     "data": {
      "text/html": [
       "<pre style=\"margin: 0.1em;\n",
       "padding-left: 0.25em;\n",
       "border-left-style: solid;\n",
       "font-family: var(--jp-code-font-family);\n",
       "font-size: var(--jp-code-font-size);\n",
       "line-height: var(--jp-code-line-height);\n",
       "\"><span style=\"color: var(--jp-warn-color2)\">CCCamera</span> <span style=\"color: var(--jp-success-color0)\">DEBUG</span>: Read 4 history items for RemoteEvent(CCCamera, 0, quadbox_PDU_24VC_QuadboxConfiguration)</pre>"
      ],
      "text/plain": [
       "<IPython.core.display.HTML object>"
      ]
     },
     "metadata": {},
     "output_type": "display_data"
    },
    {
     "name": "stdout",
     "output_type": "stream",
     "text": [
      "Read 4 history items for RemoteEvent(CCCamera, 0, quadbox_PDU_24VC_QuadboxConfiguration)\n"
     ]
    },
    {
     "data": {
      "text/html": [
       "<pre style=\"margin: 0.1em;\n",
       "padding-left: 0.25em;\n",
       "border-left-style: solid;\n",
       "font-family: var(--jp-code-font-family);\n",
       "font-size: var(--jp-code-font-size);\n",
       "line-height: var(--jp-code-line-height);\n",
       "\"><span style=\"color: var(--jp-warn-color2)\">CCCamera</span> <span style=\"color: var(--jp-success-color0)\">DEBUG</span>: Read 4 history items for RemoteEvent(CCCamera, 0, quadbox_PDU_24VD_LimitsConfiguration)</pre>"
      ],
      "text/plain": [
       "<IPython.core.display.HTML object>"
      ]
     },
     "metadata": {},
     "output_type": "display_data"
    },
    {
     "name": "stdout",
     "output_type": "stream",
     "text": [
      "Read 4 history items for RemoteEvent(CCCamera, 0, quadbox_PDU_24VD_LimitsConfiguration)\n"
     ]
    },
    {
     "data": {
      "text/html": [
       "<pre style=\"margin: 0.1em;\n",
       "padding-left: 0.25em;\n",
       "border-left-style: solid;\n",
       "font-family: var(--jp-code-font-family);\n",
       "font-size: var(--jp-code-font-size);\n",
       "line-height: var(--jp-code-line-height);\n",
       "\"><span style=\"color: var(--jp-warn-color2)\">CCCamera</span> <span style=\"color: var(--jp-success-color0)\">DEBUG</span>: Read 4 history items for RemoteEvent(CCCamera, 0, quadbox_PDU_24VD_QuadboxConfiguration)</pre>"
      ],
      "text/plain": [
       "<IPython.core.display.HTML object>"
      ]
     },
     "metadata": {},
     "output_type": "display_data"
    },
    {
     "name": "stdout",
     "output_type": "stream",
     "text": [
      "Read 4 history items for RemoteEvent(CCCamera, 0, quadbox_PDU_24VD_QuadboxConfiguration)\n"
     ]
    },
    {
     "data": {
      "text/html": [
       "<pre style=\"margin: 0.1em;\n",
       "padding-left: 0.25em;\n",
       "border-left-style: solid;\n",
       "font-family: var(--jp-code-font-family);\n",
       "font-size: var(--jp-code-font-size);\n",
       "line-height: var(--jp-code-line-height);\n",
       "\"><span style=\"color: var(--jp-warn-color2)\">CCCamera</span> <span style=\"color: var(--jp-success-color0)\">DEBUG</span>: Read 4 history items for RemoteEvent(CCCamera, 0, quadbox_PDU_48V_LimitsConfiguration)</pre>"
      ],
      "text/plain": [
       "<IPython.core.display.HTML object>"
      ]
     },
     "metadata": {},
     "output_type": "display_data"
    },
    {
     "name": "stdout",
     "output_type": "stream",
     "text": [
      "Read 4 history items for RemoteEvent(CCCamera, 0, quadbox_PDU_48V_LimitsConfiguration)\n"
     ]
    },
    {
     "data": {
      "text/html": [
       "<pre style=\"margin: 0.1em;\n",
       "padding-left: 0.25em;\n",
       "border-left-style: solid;\n",
       "font-family: var(--jp-code-font-family);\n",
       "font-size: var(--jp-code-font-size);\n",
       "line-height: var(--jp-code-line-height);\n",
       "\"><span style=\"color: var(--jp-warn-color2)\">CCCamera</span> <span style=\"color: var(--jp-success-color0)\">DEBUG</span>: Read 4 history items for RemoteEvent(CCCamera, 0, quadbox_PDU_48V_QuadboxConfiguration)</pre>"
      ],
      "text/plain": [
       "<IPython.core.display.HTML object>"
      ]
     },
     "metadata": {},
     "output_type": "display_data"
    },
    {
     "name": "stdout",
     "output_type": "stream",
     "text": [
      "Read 4 history items for RemoteEvent(CCCamera, 0, quadbox_PDU_48V_QuadboxConfiguration)\n"
     ]
    },
    {
     "data": {
      "text/html": [
       "<pre style=\"margin: 0.1em;\n",
       "padding-left: 0.25em;\n",
       "border-left-style: solid;\n",
       "font-family: var(--jp-code-font-family);\n",
       "font-size: var(--jp-code-font-size);\n",
       "line-height: var(--jp-code-line-height);\n",
       "\"><span style=\"color: var(--jp-warn-color2)\">CCCamera</span> <span style=\"color: var(--jp-success-color0)\">DEBUG</span>: Read 4 history items for RemoteEvent(CCCamera, 0, quadbox_PDU_5V_LimitsConfiguration)</pre>"
      ],
      "text/plain": [
       "<IPython.core.display.HTML object>"
      ]
     },
     "metadata": {},
     "output_type": "display_data"
    },
    {
     "name": "stdout",
     "output_type": "stream",
     "text": [
      "Read 4 history items for RemoteEvent(CCCamera, 0, quadbox_PDU_5V_LimitsConfiguration)\n"
     ]
    },
    {
     "data": {
      "text/html": [
       "<pre style=\"margin: 0.1em;\n",
       "padding-left: 0.25em;\n",
       "border-left-style: solid;\n",
       "font-family: var(--jp-code-font-family);\n",
       "font-size: var(--jp-code-font-size);\n",
       "line-height: var(--jp-code-line-height);\n",
       "\"><span style=\"color: var(--jp-warn-color2)\">CCCamera</span> <span style=\"color: var(--jp-success-color0)\">DEBUG</span>: Read 4 history items for RemoteEvent(CCCamera, 0, quadbox_PDU_5V_QuadboxConfiguration)</pre>"
      ],
      "text/plain": [
       "<IPython.core.display.HTML object>"
      ]
     },
     "metadata": {},
     "output_type": "display_data"
    },
    {
     "name": "stdout",
     "output_type": "stream",
     "text": [
      "Read 4 history items for RemoteEvent(CCCamera, 0, quadbox_PDU_5V_QuadboxConfiguration)\n"
     ]
    },
    {
     "data": {
      "text/html": [
       "<pre style=\"margin: 0.1em;\n",
       "padding-left: 0.25em;\n",
       "border-left-style: solid;\n",
       "font-family: var(--jp-code-font-family);\n",
       "font-size: var(--jp-code-font-size);\n",
       "line-height: var(--jp-code-line-height);\n",
       "\"><span style=\"color: var(--jp-warn-color2)\">CCCamera</span> <span style=\"color: var(--jp-success-color0)\">DEBUG</span>: Read 4 history items for RemoteEvent(CCCamera, 0, quadbox_PeriodicTasks_timersConfiguration)</pre>"
      ],
      "text/plain": [
       "<IPython.core.display.HTML object>"
      ]
     },
     "metadata": {},
     "output_type": "display_data"
    },
    {
     "name": "stdout",
     "output_type": "stream",
     "text": [
      "Read 4 history items for RemoteEvent(CCCamera, 0, quadbox_PeriodicTasks_timersConfiguration)\n"
     ]
    },
    {
     "data": {
      "text/html": [
       "<pre style=\"margin: 0.1em;\n",
       "padding-left: 0.25em;\n",
       "border-left-style: solid;\n",
       "font-family: var(--jp-code-font-family);\n",
       "font-size: var(--jp-code-font-size);\n",
       "line-height: var(--jp-code-line-height);\n",
       "\"><span style=\"color: var(--jp-warn-color2)\">CCCamera</span> <span style=\"color: var(--jp-success-color0)\">DEBUG</span>: Read 4 history items for RemoteEvent(CCCamera, 0, quadbox_REB_Bulk_PS_QuadboxConfiguration)</pre>"
      ],
      "text/plain": [
       "<IPython.core.display.HTML object>"
      ]
     },
     "metadata": {},
     "output_type": "display_data"
    },
    {
     "name": "stdout",
     "output_type": "stream",
     "text": [
      "Read 4 history items for RemoteEvent(CCCamera, 0, quadbox_REB_Bulk_PS_QuadboxConfiguration)\n"
     ]
    },
    {
     "data": {
      "text/html": [
       "<pre style=\"margin: 0.1em;\n",
       "padding-left: 0.25em;\n",
       "border-left-style: solid;\n",
       "font-family: var(--jp-code-font-family);\n",
       "font-size: var(--jp-code-font-size);\n",
       "line-height: var(--jp-code-line-height);\n",
       "\"><span style=\"color: var(--jp-warn-color2)\">CCCamera</span> <span style=\"color: var(--jp-success-color0)\">DEBUG</span>: Read 4 history items for RemoteEvent(CCCamera, 0, rebpower_PeriodicTasks_timersConfiguration)</pre>"
      ],
      "text/plain": [
       "<IPython.core.display.HTML object>"
      ]
     },
     "metadata": {},
     "output_type": "display_data"
    },
    {
     "name": "stdout",
     "output_type": "stream",
     "text": [
      "Read 4 history items for RemoteEvent(CCCamera, 0, rebpower_PeriodicTasks_timersConfiguration)\n"
     ]
    },
    {
     "data": {
      "text/html": [
       "<pre style=\"margin: 0.1em;\n",
       "padding-left: 0.25em;\n",
       "border-left-style: solid;\n",
       "font-family: var(--jp-code-font-family);\n",
       "font-size: var(--jp-code-font-size);\n",
       "line-height: var(--jp-code-line-height);\n",
       "\"><span style=\"color: var(--jp-warn-color2)\">CCCamera</span> <span style=\"color: var(--jp-success-color0)\">DEBUG</span>: Read 4 history items for RemoteEvent(CCCamera, 0, rebpower_Reb_LimitsConfiguration)</pre>"
      ],
      "text/plain": [
       "<IPython.core.display.HTML object>"
      ]
     },
     "metadata": {},
     "output_type": "display_data"
    },
    {
     "name": "stdout",
     "output_type": "stream",
     "text": [
      "Read 4 history items for RemoteEvent(CCCamera, 0, rebpower_Reb_LimitsConfiguration)\n"
     ]
    },
    {
     "data": {
      "text/html": [
       "<pre style=\"margin: 0.1em;\n",
       "padding-left: 0.25em;\n",
       "border-left-style: solid;\n",
       "font-family: var(--jp-code-font-family);\n",
       "font-size: var(--jp-code-font-size);\n",
       "line-height: var(--jp-code-line-height);\n",
       "\"><span style=\"color: var(--jp-warn-color2)\">CCCamera</span> <span style=\"color: var(--jp-success-color0)\">DEBUG</span>: Read 4 history items for RemoteEvent(CCCamera, 0, rebpower_Rebps_LimitsConfiguration)</pre>"
      ],
      "text/plain": [
       "<IPython.core.display.HTML object>"
      ]
     },
     "metadata": {},
     "output_type": "display_data"
    },
    {
     "name": "stdout",
     "output_type": "stream",
     "text": [
      "Read 4 history items for RemoteEvent(CCCamera, 0, rebpower_Rebps_LimitsConfiguration)\n"
     ]
    },
    {
     "data": {
      "text/html": [
       "<pre style=\"margin: 0.1em;\n",
       "padding-left: 0.25em;\n",
       "border-left-style: solid;\n",
       "font-family: var(--jp-code-font-family);\n",
       "font-size: var(--jp-code-font-size);\n",
       "line-height: var(--jp-code-line-height);\n",
       "\"><span style=\"color: var(--jp-warn-color2)\">CCCamera</span> <span style=\"color: var(--jp-success-color0)\">DEBUG</span>: Read 4 history items for RemoteEvent(CCCamera, 0, rebpower_Rebps_PowerConfiguration)</pre>"
      ],
      "text/plain": [
       "<IPython.core.display.HTML object>"
      ]
     },
     "metadata": {},
     "output_type": "display_data"
    },
    {
     "name": "stdout",
     "output_type": "stream",
     "text": [
      "Read 4 history items for RemoteEvent(CCCamera, 0, rebpower_Rebps_PowerConfiguration)\n"
     ]
    },
    {
     "data": {
      "text/html": [
       "<pre style=\"margin: 0.1em;\n",
       "padding-left: 0.25em;\n",
       "border-left-style: solid;\n",
       "font-family: var(--jp-code-font-family);\n",
       "font-size: var(--jp-code-font-size);\n",
       "line-height: var(--jp-code-line-height);\n",
       "\"><span style=\"color: var(--jp-warn-color2)\">CCCamera</span> <span style=\"color: var(--jp-success-color0)\">DEBUG</span>: Read 4 history items for RemoteEvent(CCCamera, 0, vacuum_Cold1_CryoconConfiguration)</pre>"
      ],
      "text/plain": [
       "<IPython.core.display.HTML object>"
      ]
     },
     "metadata": {},
     "output_type": "display_data"
    },
    {
     "name": "stdout",
     "output_type": "stream",
     "text": [
      "Read 4 history items for RemoteEvent(CCCamera, 0, vacuum_Cold1_CryoconConfiguration)\n"
     ]
    },
    {
     "data": {
      "text/html": [
       "<pre style=\"margin: 0.1em;\n",
       "padding-left: 0.25em;\n",
       "border-left-style: solid;\n",
       "font-family: var(--jp-code-font-family);\n",
       "font-size: var(--jp-code-font-size);\n",
       "line-height: var(--jp-code-line-height);\n",
       "\"><span style=\"color: var(--jp-warn-color2)\">CCCamera</span> <span style=\"color: var(--jp-success-color0)\">DEBUG</span>: Read 4 history items for RemoteEvent(CCCamera, 0, vacuum_Cold1_LimitsConfiguration)</pre>"
      ],
      "text/plain": [
       "<IPython.core.display.HTML object>"
      ]
     },
     "metadata": {},
     "output_type": "display_data"
    },
    {
     "name": "stdout",
     "output_type": "stream",
     "text": [
      "Read 4 history items for RemoteEvent(CCCamera, 0, vacuum_Cold1_LimitsConfiguration)\n"
     ]
    },
    {
     "data": {
      "text/html": [
       "<pre style=\"margin: 0.1em;\n",
       "padding-left: 0.25em;\n",
       "border-left-style: solid;\n",
       "font-family: var(--jp-code-font-family);\n",
       "font-size: var(--jp-code-font-size);\n",
       "line-height: var(--jp-code-line-height);\n",
       "\"><span style=\"color: var(--jp-warn-color2)\">CCCamera</span> <span style=\"color: var(--jp-success-color0)\">DEBUG</span>: Read 4 history items for RemoteEvent(CCCamera, 0, vacuum_Cold2_CryoconConfiguration)</pre>"
      ],
      "text/plain": [
       "<IPython.core.display.HTML object>"
      ]
     },
     "metadata": {},
     "output_type": "display_data"
    },
    {
     "name": "stdout",
     "output_type": "stream",
     "text": [
      "Read 4 history items for RemoteEvent(CCCamera, 0, vacuum_Cold2_CryoconConfiguration)\n"
     ]
    },
    {
     "data": {
      "text/html": [
       "<pre style=\"margin: 0.1em;\n",
       "padding-left: 0.25em;\n",
       "border-left-style: solid;\n",
       "font-family: var(--jp-code-font-family);\n",
       "font-size: var(--jp-code-font-size);\n",
       "line-height: var(--jp-code-line-height);\n",
       "\"><span style=\"color: var(--jp-warn-color2)\">CCCamera</span> <span style=\"color: var(--jp-success-color0)\">DEBUG</span>: Read 4 history items for RemoteEvent(CCCamera, 0, vacuum_Cold2_LimitsConfiguration)</pre>"
      ],
      "text/plain": [
       "<IPython.core.display.HTML object>"
      ]
     },
     "metadata": {},
     "output_type": "display_data"
    },
    {
     "name": "stdout",
     "output_type": "stream",
     "text": [
      "Read 4 history items for RemoteEvent(CCCamera, 0, vacuum_Cold2_LimitsConfiguration)\n"
     ]
    },
    {
     "data": {
      "text/html": [
       "<pre style=\"margin: 0.1em;\n",
       "padding-left: 0.25em;\n",
       "border-left-style: solid;\n",
       "font-family: var(--jp-code-font-family);\n",
       "font-size: var(--jp-code-font-size);\n",
       "line-height: var(--jp-code-line-height);\n",
       "\"><span style=\"color: var(--jp-warn-color2)\">CCCamera</span> <span style=\"color: var(--jp-success-color0)\">DEBUG</span>: Read 4 history items for RemoteEvent(CCCamera, 0, vacuum_Cryo_CryoconConfiguration)</pre>"
      ],
      "text/plain": [
       "<IPython.core.display.HTML object>"
      ]
     },
     "metadata": {},
     "output_type": "display_data"
    },
    {
     "name": "stdout",
     "output_type": "stream",
     "text": [
      "Read 4 history items for RemoteEvent(CCCamera, 0, vacuum_Cryo_CryoconConfiguration)\n"
     ]
    },
    {
     "data": {
      "text/html": [
       "<pre style=\"margin: 0.1em;\n",
       "padding-left: 0.25em;\n",
       "border-left-style: solid;\n",
       "font-family: var(--jp-code-font-family);\n",
       "font-size: var(--jp-code-font-size);\n",
       "line-height: var(--jp-code-line-height);\n",
       "\"><span style=\"color: var(--jp-warn-color2)\">CCCamera</span> <span style=\"color: var(--jp-success-color0)\">DEBUG</span>: Read 4 history items for RemoteEvent(CCCamera, 0, vacuum_Cryo_LimitsConfiguration)</pre>"
      ],
      "text/plain": [
       "<IPython.core.display.HTML object>"
      ]
     },
     "metadata": {},
     "output_type": "display_data"
    },
    {
     "name": "stdout",
     "output_type": "stream",
     "text": [
      "Read 4 history items for RemoteEvent(CCCamera, 0, vacuum_Cryo_LimitsConfiguration)\n"
     ]
    },
    {
     "data": {
      "text/html": [
       "<pre style=\"margin: 0.1em;\n",
       "padding-left: 0.25em;\n",
       "border-left-style: solid;\n",
       "font-family: var(--jp-code-font-family);\n",
       "font-size: var(--jp-code-font-size);\n",
       "line-height: var(--jp-code-line-height);\n",
       "\"><span style=\"color: var(--jp-warn-color2)\">CCCamera</span> <span style=\"color: var(--jp-success-color0)\">DEBUG</span>: Read 4 history items for RemoteEvent(CCCamera, 0, vacuum_IonPumps_CryoConfiguration)</pre>"
      ],
      "text/plain": [
       "<IPython.core.display.HTML object>"
      ]
     },
     "metadata": {},
     "output_type": "display_data"
    },
    {
     "name": "stdout",
     "output_type": "stream",
     "text": [
      "Read 4 history items for RemoteEvent(CCCamera, 0, vacuum_IonPumps_CryoConfiguration)\n"
     ]
    },
    {
     "data": {
      "text/html": [
       "<pre style=\"margin: 0.1em;\n",
       "padding-left: 0.25em;\n",
       "border-left-style: solid;\n",
       "font-family: var(--jp-code-font-family);\n",
       "font-size: var(--jp-code-font-size);\n",
       "line-height: var(--jp-code-line-height);\n",
       "\"><span style=\"color: var(--jp-warn-color2)\">CCCamera</span> <span style=\"color: var(--jp-success-color0)\">DEBUG</span>: Read 4 history items for RemoteEvent(CCCamera, 0, vacuum_IonPumps_LimitsConfiguration)</pre>"
      ],
      "text/plain": [
       "<IPython.core.display.HTML object>"
      ]
     },
     "metadata": {},
     "output_type": "display_data"
    },
    {
     "name": "stdout",
     "output_type": "stream",
     "text": [
      "Read 4 history items for RemoteEvent(CCCamera, 0, vacuum_IonPumps_LimitsConfiguration)\n"
     ]
    },
    {
     "data": {
      "text/html": [
       "<pre style=\"margin: 0.1em;\n",
       "padding-left: 0.25em;\n",
       "border-left-style: solid;\n",
       "font-family: var(--jp-code-font-family);\n",
       "font-size: var(--jp-code-font-size);\n",
       "line-height: var(--jp-code-line-height);\n",
       "\"><span style=\"color: var(--jp-warn-color2)\">CCCamera</span> <span style=\"color: var(--jp-success-color0)\">DEBUG</span>: Read 4 history items for RemoteEvent(CCCamera, 0, vacuum_PeriodicTasks_timersConfiguration)</pre>"
      ],
      "text/plain": [
       "<IPython.core.display.HTML object>"
      ]
     },
     "metadata": {},
     "output_type": "display_data"
    },
    {
     "name": "stdout",
     "output_type": "stream",
     "text": [
      "Read 4 history items for RemoteEvent(CCCamera, 0, vacuum_PeriodicTasks_timersConfiguration)\n"
     ]
    },
    {
     "data": {
      "text/html": [
       "<pre style=\"margin: 0.1em;\n",
       "padding-left: 0.25em;\n",
       "border-left-style: solid;\n",
       "font-family: var(--jp-code-font-family);\n",
       "font-size: var(--jp-code-font-size);\n",
       "line-height: var(--jp-code-line-height);\n",
       "\"><span style=\"color: var(--jp-warn-color2)\">CCCamera</span> <span style=\"color: var(--jp-success-color0)\">DEBUG</span>: Read 4 history items for RemoteEvent(CCCamera, 0, vacuum_Rtds_DeviceConfiguration)</pre>"
      ],
      "text/plain": [
       "<IPython.core.display.HTML object>"
      ]
     },
     "metadata": {},
     "output_type": "display_data"
    },
    {
     "name": "stdout",
     "output_type": "stream",
     "text": [
      "Read 4 history items for RemoteEvent(CCCamera, 0, vacuum_Rtds_DeviceConfiguration)\n"
     ]
    },
    {
     "data": {
      "text/html": [
       "<pre style=\"margin: 0.1em;\n",
       "padding-left: 0.25em;\n",
       "border-left-style: solid;\n",
       "font-family: var(--jp-code-font-family);\n",
       "font-size: var(--jp-code-font-size);\n",
       "line-height: var(--jp-code-line-height);\n",
       "\"><span style=\"color: var(--jp-warn-color2)\">CCCamera</span> <span style=\"color: var(--jp-success-color0)\">DEBUG</span>: Read 4 history items for RemoteEvent(CCCamera, 0, vacuum_Rtds_LimitsConfiguration)</pre>"
      ],
      "text/plain": [
       "<IPython.core.display.HTML object>"
      ]
     },
     "metadata": {},
     "output_type": "display_data"
    },
    {
     "name": "stdout",
     "output_type": "stream",
     "text": [
      "Read 4 history items for RemoteEvent(CCCamera, 0, vacuum_Rtds_LimitsConfiguration)\n"
     ]
    },
    {
     "data": {
      "text/html": [
       "<pre style=\"margin: 0.1em;\n",
       "padding-left: 0.25em;\n",
       "border-left-style: solid;\n",
       "font-family: var(--jp-code-font-family);\n",
       "font-size: var(--jp-code-font-size);\n",
       "line-height: var(--jp-code-line-height);\n",
       "\"><span style=\"color: var(--jp-warn-color2)\">CCCamera</span> <span style=\"color: var(--jp-success-color0)\">DEBUG</span>: Read 4 history items for RemoteEvent(CCCamera, 0, vacuum_Turbo_LimitsConfiguration)</pre>"
      ],
      "text/plain": [
       "<IPython.core.display.HTML object>"
      ]
     },
     "metadata": {},
     "output_type": "display_data"
    },
    {
     "name": "stdout",
     "output_type": "stream",
     "text": [
      "Read 4 history items for RemoteEvent(CCCamera, 0, vacuum_Turbo_LimitsConfiguration)\n"
     ]
    },
    {
     "data": {
      "text/html": [
       "<pre style=\"margin: 0.1em;\n",
       "padding-left: 0.25em;\n",
       "border-left-style: solid;\n",
       "font-family: var(--jp-code-font-family);\n",
       "font-size: var(--jp-code-font-size);\n",
       "line-height: var(--jp-code-line-height);\n",
       "\"><span style=\"color: var(--jp-warn-color2)\">CCCamera</span> <span style=\"color: var(--jp-success-color0)\">DEBUG</span>: Read 4 history items for RemoteEvent(CCCamera, 0, vacuum_VQMonitor_CryoConfiguration)</pre>"
      ],
      "text/plain": [
       "<IPython.core.display.HTML object>"
      ]
     },
     "metadata": {},
     "output_type": "display_data"
    },
    {
     "name": "stdout",
     "output_type": "stream",
     "text": [
      "Read 4 history items for RemoteEvent(CCCamera, 0, vacuum_VQMonitor_CryoConfiguration)\n"
     ]
    },
    {
     "data": {
      "text/html": [
       "<pre style=\"margin: 0.1em;\n",
       "padding-left: 0.25em;\n",
       "border-left-style: solid;\n",
       "font-family: var(--jp-code-font-family);\n",
       "font-size: var(--jp-code-font-size);\n",
       "line-height: var(--jp-code-line-height);\n",
       "\"><span style=\"color: var(--jp-warn-color2)\">CCCamera</span> <span style=\"color: var(--jp-success-color0)\">DEBUG</span>: Read 4 history items for RemoteEvent(CCCamera, 0, vacuum_VQMonitor_LimitsConfiguration)</pre>"
      ],
      "text/plain": [
       "<IPython.core.display.HTML object>"
      ]
     },
     "metadata": {},
     "output_type": "display_data"
    },
    {
     "name": "stdout",
     "output_type": "stream",
     "text": [
      "Read 4 history items for RemoteEvent(CCCamera, 0, vacuum_VQMonitor_LimitsConfiguration)\n"
     ]
    },
    {
     "data": {
      "text/html": [
       "<pre style=\"margin: 0.1em;\n",
       "padding-left: 0.25em;\n",
       "border-left-style: solid;\n",
       "font-family: var(--jp-code-font-family);\n",
       "font-size: var(--jp-code-font-size);\n",
       "line-height: var(--jp-code-line-height);\n",
       "\"><span style=\"color: var(--jp-warn-color2)\">CCCamera</span> <span style=\"color: var(--jp-success-color0)\">DEBUG</span>: Read 4 history items for RemoteEvent(CCCamera, 0, vacuum_VacPluto_DeviceConfiguration)</pre>"
      ],
      "text/plain": [
       "<IPython.core.display.HTML object>"
      ]
     },
     "metadata": {},
     "output_type": "display_data"
    },
    {
     "name": "stdout",
     "output_type": "stream",
     "text": [
      "Read 4 history items for RemoteEvent(CCCamera, 0, vacuum_VacPluto_DeviceConfiguration)\n"
     ]
    },
    {
     "data": {
      "text/plain": [
       "[[None, None, None]]"
      ]
     },
     "execution_count": 5,
     "metadata": {},
     "output_type": "execute_result"
    }
   ],
   "source": [
    "domain = salobj.Domain()\n",
    "\n",
    "await asyncio.sleep(10)\n",
    "\n",
    "comcam = ComCam(domain)\n",
    "await asyncio.gather(comcam.start_task)"
   ]
  },
  {
   "cell_type": "code",
   "execution_count": 14,
   "metadata": {},
   "outputs": [
    {
     "data": {
      "text/html": [
       "<pre style=\"margin: 0.1em;\n",
       "padding-left: 0.25em;\n",
       "border-left-style: solid;\n",
       "font-family: var(--jp-code-font-family);\n",
       "font-size: var(--jp-code-font-size);\n",
       "line-height: var(--jp-code-line-height);\n",
       "\"><span style=\"color: var(--jp-warn-color2)\">ComCam</span> <span style=\"color: var(--jp-info-color0)\">INFO</span>: Enabling all components</pre>"
      ],
      "text/plain": [
       "<IPython.core.display.HTML object>"
      ]
     },
     "metadata": {},
     "output_type": "display_data"
    },
    {
     "name": "stdout",
     "output_type": "stream",
     "text": [
      "Enabling all components\n"
     ]
    },
    {
     "data": {
      "text/html": [
       "<pre style=\"margin: 0.1em;\n",
       "padding-left: 0.25em;\n",
       "border-left-style: solid;\n",
       "font-family: var(--jp-code-font-family);\n",
       "font-size: var(--jp-code-font-size);\n",
       "line-height: var(--jp-code-line-height);\n",
       "\"><span style=\"color: var(--jp-warn-color2)\">ComCam</span> <span style=\"color: var(--jp-success-color0)\">DEBUG</span>: Expand overrides {&#x27;cccamera&#x27;: &#x27;Normal&#x27;, &#x27;ccheaderservice&#x27;: None}</pre>"
      ],
      "text/plain": [
       "<IPython.core.display.HTML object>"
      ]
     },
     "metadata": {},
     "output_type": "display_data"
    },
    {
     "name": "stdout",
     "output_type": "stream",
     "text": [
      "Expand overrides {'cccamera': 'Normal', 'ccheaderservice': None}\n"
     ]
    },
    {
     "data": {
      "text/html": [
       "<pre style=\"margin: 0.1em;\n",
       "padding-left: 0.25em;\n",
       "border-left-style: solid;\n",
       "font-family: var(--jp-code-font-family);\n",
       "font-size: var(--jp-code-font-size);\n",
       "line-height: var(--jp-code-line-height);\n",
       "\"><span style=\"color: var(--jp-warn-color2)\">ComCam</span> <span style=\"color: var(--jp-success-color0)\">DEBUG</span>: Complete overrides: {&#x27;cccamera&#x27;: &#x27;Normal&#x27;, &#x27;ccheaderservice&#x27;: None, &#x27;ccoods&#x27;: &#x27;&#x27;}</pre>"
      ],
      "text/plain": [
       "<IPython.core.display.HTML object>"
      ]
     },
     "metadata": {},
     "output_type": "display_data"
    },
    {
     "name": "stdout",
     "output_type": "stream",
     "text": [
      "Complete overrides: {'cccamera': 'Normal', 'ccheaderservice': None, 'ccoods': ''}\n"
     ]
    },
    {
     "data": {
      "text/html": [
       "<pre style=\"margin: 0.1em;\n",
       "padding-left: 0.25em;\n",
       "border-left-style: solid;\n",
       "font-family: var(--jp-code-font-family);\n",
       "font-size: var(--jp-code-font-size);\n",
       "line-height: var(--jp-code-line-height);\n",
       "\"><span style=\"color: var(--jp-warn-color2)\">ComCam</span> <span style=\"color: var(--jp-success-color0)\">DEBUG</span>: [cccamera]::[&lt;State.STANDBY: 5&gt;, &lt;State.DISABLED: 1&gt;, &lt;State.ENABLED: 2&gt;]</pre>"
      ],
      "text/plain": [
       "<IPython.core.display.HTML object>"
      ]
     },
     "metadata": {},
     "output_type": "display_data"
    },
    {
     "name": "stdout",
     "output_type": "stream",
     "text": [
      "[cccamera]::[<State.STANDBY: 5>, <State.DISABLED: 1>, <State.ENABLED: 2>]\n"
     ]
    },
    {
     "data": {
      "text/html": [
       "<pre style=\"margin: 0.1em;\n",
       "padding-left: 0.25em;\n",
       "border-left-style: solid;\n",
       "font-family: var(--jp-code-font-family);\n",
       "font-size: var(--jp-code-font-size);\n",
       "line-height: var(--jp-code-line-height);\n",
       "\"><span style=\"color: var(--jp-warn-color2)\">ComCam</span> <span style=\"color: var(--jp-success-color0)\">DEBUG</span>: [ccheaderservice]::[&lt;State.STANDBY: 5&gt;, &lt;State.DISABLED: 1&gt;, &lt;State.ENABLED: 2&gt;]</pre>"
      ],
      "text/plain": [
       "<IPython.core.display.HTML object>"
      ]
     },
     "metadata": {},
     "output_type": "display_data"
    },
    {
     "name": "stdout",
     "output_type": "stream",
     "text": [
      "[ccheaderservice]::[<State.STANDBY: 5>, <State.DISABLED: 1>, <State.ENABLED: 2>]\n"
     ]
    },
    {
     "data": {
      "text/html": [
       "<pre style=\"margin: 0.1em;\n",
       "padding-left: 0.25em;\n",
       "border-left-style: solid;\n",
       "font-family: var(--jp-code-font-family);\n",
       "font-size: var(--jp-code-font-size);\n",
       "line-height: var(--jp-code-line-height);\n",
       "\"><span style=\"color: var(--jp-warn-color2)\">ComCam</span> <span style=\"color: var(--jp-success-color0)\">DEBUG</span>: [ccoods]::[&lt;State.STANDBY: 5&gt;, &lt;State.DISABLED: 1&gt;, &lt;State.ENABLED: 2&gt;]</pre>"
      ],
      "text/plain": [
       "<IPython.core.display.HTML object>"
      ]
     },
     "metadata": {},
     "output_type": "display_data"
    },
    {
     "name": "stdout",
     "output_type": "stream",
     "text": [
      "[ccoods]::[<State.STANDBY: 5>, <State.DISABLED: 1>, <State.ENABLED: 2>]\n"
     ]
    },
    {
     "data": {
      "text/html": [
       "<pre style=\"margin: 0.1em;\n",
       "padding-left: 0.25em;\n",
       "border-left-style: solid;\n",
       "font-family: var(--jp-code-font-family);\n",
       "font-size: var(--jp-code-font-size);\n",
       "line-height: var(--jp-code-line-height);\n",
       "\"><span style=\"color: var(--jp-warn-color2)\">ComCam</span> <span style=\"color: var(--jp-info-color0)\">INFO</span>: All components in &lt;State.ENABLED: 2&gt;.</pre>"
      ],
      "text/plain": [
       "<IPython.core.display.HTML object>"
      ]
     },
     "metadata": {},
     "output_type": "display_data"
    },
    {
     "name": "stdout",
     "output_type": "stream",
     "text": [
      "All components in <State.ENABLED: 2>.\n"
     ]
    }
   ],
   "source": [
    "await comcam.enable(overrides={\"cccamera\": \"Normal\",\n",
    "                              \"ccheaderservice\": None})"
   ]
  },
  {
   "cell_type": "code",
   "execution_count": null,
   "metadata": {},
   "outputs": [],
   "source": [
    "group_id = f'CALSET_{date.tai.strftime(\"%Y%m%d_%H%M\")}'"
   ]
  },
  {
   "cell_type": "code",
   "execution_count": 27,
   "metadata": {},
   "outputs": [],
   "source": [
    "#get available filters\n",
    "filters=await comcam.get_available_filters()"
   ]
  },
  {
   "cell_type": "code",
   "execution_count": 16,
   "metadata": {},
   "outputs": [
    {
     "data": {
      "text/plain": [
       "'i_06'"
      ]
     },
     "execution_count": 16,
     "metadata": {},
     "output_type": "execute_result"
    }
   ],
   "source": [
    "#get current filter\n",
    "await comcam.get_current_filter()"
   ]
  },
  {
   "cell_type": "code",
   "execution_count": 41,
   "metadata": {},
   "outputs": [
    {
     "ename": "TypeError",
     "evalue": "object method can't be used in 'await' expression",
     "output_type": "error",
     "traceback": [
      "\u001b[0;31m---------------------------------------------------------------------------\u001b[0m",
      "\u001b[0;31mTypeError\u001b[0m                                 Traceback (most recent call last)",
      "Input \u001b[0;32mIn [41]\u001b[0m, in \u001b[0;36m<cell line: 1>\u001b[0;34m()\u001b[0m\n\u001b[0;32m----> 1\u001b[0m \u001b[38;5;28;01mawait\u001b[39;00m comcam\u001b[38;5;241m.\u001b[39mget_state\n",
      "\u001b[0;31mTypeError\u001b[0m: object method can't be used in 'await' expression"
     ]
    }
   ],
   "source": [
    "await comcam.log_event_endSetFilter"
   ]
  },
  {
   "cell_type": "code",
   "execution_count": 40,
   "metadata": {},
   "outputs": [
    {
     "data": {
      "text/html": [
       "<pre style=\"margin: 0.1em;\n",
       "padding-left: 0.25em;\n",
       "border-left-style: solid;\n",
       "font-family: var(--jp-code-font-family);\n",
       "font-size: var(--jp-code-font-size);\n",
       "line-height: var(--jp-code-line-height);\n",
       "\"><span style=\"color: var(--jp-warn-color2)\">ComCam</span> <span style=\"color: var(--jp-info-color0)\">INFO</span>: Filter i_06 in position.</pre>"
      ],
      "text/plain": [
       "<IPython.core.display.HTML object>"
      ]
     },
     "metadata": {},
     "output_type": "display_data"
    },
    {
     "name": "stdout",
     "output_type": "stream",
     "text": [
      "Filter i_06 in position.\n",
      "Movement 0 duration: 16.366930999999596\n"
     ]
    },
    {
     "data": {
      "text/html": [
       "<pre style=\"margin: 0.1em;\n",
       "padding-left: 0.25em;\n",
       "border-left-style: solid;\n",
       "font-family: var(--jp-code-font-family);\n",
       "font-size: var(--jp-code-font-size);\n",
       "line-height: var(--jp-code-line-height);\n",
       "\"><span style=\"color: var(--jp-warn-color2)\">ComCam</span> <span style=\"color: var(--jp-info-color0)\">INFO</span>: Filter r_03 in position.</pre>"
      ],
      "text/plain": [
       "<IPython.core.display.HTML object>"
      ]
     },
     "metadata": {},
     "output_type": "display_data"
    },
    {
     "name": "stdout",
     "output_type": "stream",
     "text": [
      "Filter r_03 in position.\n",
      "Movement 1 duration: 16.39991399999481\n"
     ]
    },
    {
     "data": {
      "text/html": [
       "<pre style=\"margin: 0.1em;\n",
       "padding-left: 0.25em;\n",
       "border-left-style: solid;\n",
       "font-family: var(--jp-code-font-family);\n",
       "font-size: var(--jp-code-font-size);\n",
       "line-height: var(--jp-code-line-height);\n",
       "\"><span style=\"color: var(--jp-warn-color2)\">ComCam</span> <span style=\"color: var(--jp-info-color0)\">INFO</span>: Filter g_07 in position.</pre>"
      ],
      "text/plain": [
       "<IPython.core.display.HTML object>"
      ]
     },
     "metadata": {},
     "output_type": "display_data"
    },
    {
     "name": "stdout",
     "output_type": "stream",
     "text": [
      "Filter g_07 in position.\n",
      "Movement 2 duration: 19.214366000000282\n"
     ]
    },
    {
     "data": {
      "text/html": [
       "<pre style=\"margin: 0.1em;\n",
       "padding-left: 0.25em;\n",
       "border-left-style: solid;\n",
       "font-family: var(--jp-code-font-family);\n",
       "font-size: var(--jp-code-font-size);\n",
       "line-height: var(--jp-code-line-height);\n",
       "\"><span style=\"color: var(--jp-warn-color2)\">ComCam</span> <span style=\"color: var(--jp-info-color0)\">INFO</span>: Filter i_06 in position.</pre>"
      ],
      "text/plain": [
       "<IPython.core.display.HTML object>"
      ]
     },
     "metadata": {},
     "output_type": "display_data"
    },
    {
     "name": "stdout",
     "output_type": "stream",
     "text": [
      "Filter i_06 in position.\n",
      "Movement 3 duration: 35.296367000002604\n"
     ]
    },
    {
     "data": {
      "text/html": [
       "<pre style=\"margin: 0.1em;\n",
       "padding-left: 0.25em;\n",
       "border-left-style: solid;\n",
       "font-family: var(--jp-code-font-family);\n",
       "font-size: var(--jp-code-font-size);\n",
       "line-height: var(--jp-code-line-height);\n",
       "\"><span style=\"color: var(--jp-warn-color2)\">ComCam</span> <span style=\"color: var(--jp-info-color0)\">INFO</span>: Filter r_03 in position.</pre>"
      ],
      "text/plain": [
       "<IPython.core.display.HTML object>"
      ]
     },
     "metadata": {},
     "output_type": "display_data"
    },
    {
     "name": "stdout",
     "output_type": "stream",
     "text": [
      "Filter r_03 in position.\n",
      "Movement 4 duration: 16.33588100000125\n"
     ]
    },
    {
     "data": {
      "text/html": [
       "<pre style=\"margin: 0.1em;\n",
       "padding-left: 0.25em;\n",
       "border-left-style: solid;\n",
       "font-family: var(--jp-code-font-family);\n",
       "font-size: var(--jp-code-font-size);\n",
       "line-height: var(--jp-code-line-height);\n",
       "\"><span style=\"color: var(--jp-warn-color2)\">ComCam</span> <span style=\"color: var(--jp-info-color0)\">INFO</span>: Filter g_07 in position.</pre>"
      ],
      "text/plain": [
       "<IPython.core.display.HTML object>"
      ]
     },
     "metadata": {},
     "output_type": "display_data"
    },
    {
     "name": "stdout",
     "output_type": "stream",
     "text": [
      "Filter g_07 in position.\n",
      "Movement 5 duration: 19.245753999997817\n"
     ]
    },
    {
     "data": {
      "text/html": [
       "<pre style=\"margin: 0.1em;\n",
       "padding-left: 0.25em;\n",
       "border-left-style: solid;\n",
       "font-family: var(--jp-code-font-family);\n",
       "font-size: var(--jp-code-font-size);\n",
       "line-height: var(--jp-code-line-height);\n",
       "\"><span style=\"color: var(--jp-warn-color2)\">ComCam</span> <span style=\"color: var(--jp-info-color0)\">INFO</span>: Filter i_06 in position.</pre>"
      ],
      "text/plain": [
       "<IPython.core.display.HTML object>"
      ]
     },
     "metadata": {},
     "output_type": "display_data"
    },
    {
     "name": "stdout",
     "output_type": "stream",
     "text": [
      "Filter i_06 in position.\n",
      "Movement 6 duration: 35.32673300000191\n"
     ]
    },
    {
     "data": {
      "text/html": [
       "<pre style=\"margin: 0.1em;\n",
       "padding-left: 0.25em;\n",
       "border-left-style: solid;\n",
       "font-family: var(--jp-code-font-family);\n",
       "font-size: var(--jp-code-font-size);\n",
       "line-height: var(--jp-code-line-height);\n",
       "\"><span style=\"color: var(--jp-warn-color2)\">ComCam</span> <span style=\"color: var(--jp-info-color0)\">INFO</span>: Filter r_03 in position.</pre>"
      ],
      "text/plain": [
       "<IPython.core.display.HTML object>"
      ]
     },
     "metadata": {},
     "output_type": "display_data"
    },
    {
     "name": "stdout",
     "output_type": "stream",
     "text": [
      "Filter r_03 in position.\n",
      "Movement 7 duration: 16.351825000006315\n"
     ]
    },
    {
     "data": {
      "text/html": [
       "<pre style=\"margin: 0.1em;\n",
       "padding-left: 0.25em;\n",
       "border-left-style: solid;\n",
       "font-family: var(--jp-code-font-family);\n",
       "font-size: var(--jp-code-font-size);\n",
       "line-height: var(--jp-code-line-height);\n",
       "\"><span style=\"color: var(--jp-warn-color2)\">ComCam</span> <span style=\"color: var(--jp-info-color0)\">INFO</span>: Filter g_07 in position.</pre>"
      ],
      "text/plain": [
       "<IPython.core.display.HTML object>"
      ]
     },
     "metadata": {},
     "output_type": "display_data"
    },
    {
     "name": "stdout",
     "output_type": "stream",
     "text": [
      "Filter g_07 in position.\n",
      "Movement 8 duration: 19.27840900000426\n"
     ]
    },
    {
     "data": {
      "text/html": [
       "<pre style=\"margin: 0.1em;\n",
       "padding-left: 0.25em;\n",
       "border-left-style: solid;\n",
       "font-family: var(--jp-code-font-family);\n",
       "font-size: var(--jp-code-font-size);\n",
       "line-height: var(--jp-code-line-height);\n",
       "\"><span style=\"color: var(--jp-warn-color2)\">ComCam</span> <span style=\"color: var(--jp-info-color0)\">INFO</span>: Filter i_06 in position.</pre>"
      ],
      "text/plain": [
       "<IPython.core.display.HTML object>"
      ]
     },
     "metadata": {},
     "output_type": "display_data"
    },
    {
     "name": "stdout",
     "output_type": "stream",
     "text": [
      "Filter i_06 in position.\n",
      "Movement 9 duration: 35.33066300000094\n"
     ]
    }
   ],
   "source": [
    "for i in range(0,10):\n",
    "    #get start time\n",
    "    startdate = Time.now()\n",
    "    #change filter\n",
    "    await comcam.setup_instrument(filter=filters[i % 3])\n",
    "    #get end time\n",
    "    enddate = Time.now()\n",
    "    print(\"Movement \"+str(i)+\" duration: \"+str(24*60*60*(enddate-startdate)))\n",
    "for i in range(0,11)\n",
    "    #get start time\n",
    "    startdate = Time.now()\n",
    "    #change filter\n",
    "    await comcam.setup_instrument(filter=filters[(10-i) % 3])\n",
    "    #get end time\n",
    "    enddate = Time.now()\n",
    "    print(\"Movement \"+str(10+i)+\" duration: \"+str(24*60*60*(enddate-startdate)))\n",
    "\n"
   ]
  },
  {
   "cell_type": "code",
   "execution_count": 12,
   "metadata": {},
   "outputs": [
    {
     "data": {
      "text/html": [
       "<pre style=\"margin: 0.1em;\n",
       "padding-left: 0.25em;\n",
       "border-left-style: solid;\n",
       "font-family: var(--jp-code-font-family);\n",
       "font-size: var(--jp-code-font-size);\n",
       "line-height: var(--jp-code-line-height);\n",
       "\"><span style=\"color: var(--jp-warn-color2)\">ComCam</span> <span style=\"color: var(--jp-error-color2)\">ERROR</span>: Unable to transition cccamera to &lt;State.STANDBY: 5&gt; NoneType: None\n",
       ".\n",
       "Traceback (most recent call last):\n",
       "  File &quot;/opt/lsst/software/stack/conda/miniconda3-py38_4.9.2/envs/lsst-scipipe-3.0.0/lib/python3.8/site-packages/lsst/ts/salobj/csc_utils.py&quot;, line 138, in set_summary_state\n",
       "    state_data = await remote.evt_summaryState.aget(timeout=timeout)  # type: ignore\n",
       "  File &quot;/opt/lsst/software/stack/conda/miniconda3-py38_4.9.2/envs/lsst-scipipe-3.0.0/lib/python3.8/site-packages/lsst/ts/salobj/topics/read_topic.py&quot;, line 532, in aget\n",
       "    await asyncio.wait_for(self._next_task, timeout=timeout)\n",
       "  File &quot;/opt/lsst/software/stack/conda/miniconda3-py38_4.9.2/envs/lsst-scipipe-3.0.0/lib/python3.8/asyncio/tasks.py&quot;, line 501, in wait_for\n",
       "    raise exceptions.TimeoutError()\n",
       "asyncio.exceptions.TimeoutError\n",
       "\n",
       "During handling of the above exception, another exception occurred:\n",
       "\n",
       "Traceback (most recent call last):\n",
       "  File &quot;/opt/lsst/software/stack/conda/miniconda3-py38_4.9.2/envs/lsst-scipipe-3.0.0/lib/python3.8/site-packages/lsst/ts/salobj/csc_utils.py&quot;, line 140, in set_summary_state\n",
       "    raise RuntimeError(f&quot;Cannot get summaryState from {remote.salinfo.name}&quot;)\n",
       "RuntimeError: Cannot get summaryState from CCCamera\n",
       "</pre>"
      ],
      "text/plain": [
       "<IPython.core.display.HTML object>"
      ]
     },
     "metadata": {},
     "output_type": "display_data"
    },
    {
     "name": "stdout",
     "output_type": "stream",
     "text": [
      "Unable to transition cccamera to <State.STANDBY: 5> NoneType: None\n",
      ".\n",
      "Traceback (most recent call last):\n",
      "  File \"/opt/lsst/software/stack/conda/miniconda3-py38_4.9.2/envs/lsst-scipipe-3.0.0/lib/python3.8/site-packages/lsst/ts/salobj/csc_utils.py\", line 138, in set_summary_state\n",
      "    state_data = await remote.evt_summaryState.aget(timeout=timeout)  # type: ignore\n",
      "  File \"/opt/lsst/software/stack/conda/miniconda3-py38_4.9.2/envs/lsst-scipipe-3.0.0/lib/python3.8/site-packages/lsst/ts/salobj/topics/read_topic.py\", line 532, in aget\n",
      "    await asyncio.wait_for(self._next_task, timeout=timeout)\n",
      "  File \"/opt/lsst/software/stack/conda/miniconda3-py38_4.9.2/envs/lsst-scipipe-3.0.0/lib/python3.8/asyncio/tasks.py\", line 501, in wait_for\n",
      "    raise exceptions.TimeoutError()\n",
      "asyncio.exceptions.TimeoutError\n",
      "\n",
      "During handling of the above exception, another exception occurred:\n",
      "\n",
      "Traceback (most recent call last):\n",
      "  File \"/opt/lsst/software/stack/conda/miniconda3-py38_4.9.2/envs/lsst-scipipe-3.0.0/lib/python3.8/site-packages/lsst/ts/salobj/csc_utils.py\", line 140, in set_summary_state\n",
      "    raise RuntimeError(f\"Cannot get summaryState from {remote.salinfo.name}\")\n",
      "RuntimeError: Cannot get summaryState from CCCamera\n",
      "\n"
     ]
    },
    {
     "data": {
      "text/html": [
       "<pre style=\"margin: 0.1em;\n",
       "padding-left: 0.25em;\n",
       "border-left-style: solid;\n",
       "font-family: var(--jp-code-font-family);\n",
       "font-size: var(--jp-code-font-size);\n",
       "line-height: var(--jp-code-line-height);\n",
       "\"><span style=\"color: var(--jp-warn-color2)\">ComCam</span> <span style=\"color: var(--jp-success-color0)\">DEBUG</span>: [ccheaderservice]::[&lt;State.ENABLED: 2&gt;, &lt;State.DISABLED: 1&gt;, &lt;State.STANDBY: 5&gt;]</pre>"
      ],
      "text/plain": [
       "<IPython.core.display.HTML object>"
      ]
     },
     "metadata": {},
     "output_type": "display_data"
    },
    {
     "name": "stdout",
     "output_type": "stream",
     "text": [
      "[ccheaderservice]::[<State.ENABLED: 2>, <State.DISABLED: 1>, <State.STANDBY: 5>]\n"
     ]
    },
    {
     "data": {
      "text/html": [
       "<pre style=\"margin: 0.1em;\n",
       "padding-left: 0.25em;\n",
       "border-left-style: solid;\n",
       "font-family: var(--jp-code-font-family);\n",
       "font-size: var(--jp-code-font-size);\n",
       "line-height: var(--jp-code-line-height);\n",
       "\"><span style=\"color: var(--jp-warn-color2)\">ComCam</span> <span style=\"color: var(--jp-success-color0)\">DEBUG</span>: [ccoods]::[&lt;State.ENABLED: 2&gt;, &lt;State.DISABLED: 1&gt;, &lt;State.STANDBY: 5&gt;]</pre>"
      ],
      "text/plain": [
       "<IPython.core.display.HTML object>"
      ]
     },
     "metadata": {},
     "output_type": "display_data"
    },
    {
     "name": "stdout",
     "output_type": "stream",
     "text": [
      "[ccoods]::[<State.ENABLED: 2>, <State.DISABLED: 1>, <State.STANDBY: 5>]\n"
     ]
    },
    {
     "ename": "RuntimeError",
     "evalue": "Failed to transition ['cccamera'] to <State.STANDBY: 5>.",
     "output_type": "error",
     "traceback": [
      "\u001b[0;31m---------------------------------------------------------------------------\u001b[0m",
      "\u001b[0;31mRuntimeError\u001b[0m                              Traceback (most recent call last)",
      "Input \u001b[0;32mIn [12]\u001b[0m, in \u001b[0;36m<cell line: 1>\u001b[0;34m()\u001b[0m\n\u001b[0;32m----> 1\u001b[0m \u001b[38;5;28;01mawait\u001b[39;00m comcam\u001b[38;5;241m.\u001b[39mstandby()\n",
      "File \u001b[0;32m~/notebooks/local_ups_db/ups_db/ts_observatory_control/python/lsst/ts/observatory/control/remote_group.py:841\u001b[0m, in \u001b[0;36mRemoteGroup.standby\u001b[0;34m(self)\u001b[0m\n\u001b[1;32m    838\u001b[0m \u001b[38;5;28;01masync\u001b[39;00m \u001b[38;5;28;01mdef\u001b[39;00m \u001b[38;5;21mstandby\u001b[39m(\u001b[38;5;28mself\u001b[39m):\n\u001b[1;32m    839\u001b[0m     \u001b[38;5;124;03m\"\"\"Put all CSCs in standby.\"\"\"\u001b[39;00m\n\u001b[0;32m--> 841\u001b[0m     \u001b[38;5;28;01mawait\u001b[39;00m \u001b[38;5;28mself\u001b[39m\u001b[38;5;241m.\u001b[39mset_state(salobj\u001b[38;5;241m.\u001b[39mState\u001b[38;5;241m.\u001b[39mSTANDBY)\n",
      "File \u001b[0;32m~/notebooks/local_ups_db/ups_db/ts_observatory_control/python/lsst/ts/observatory/control/remote_group.py:732\u001b[0m, in \u001b[0;36mRemoteGroup.set_state\u001b[0;34m(self, state, overrides, components)\u001b[0m\n\u001b[1;32m    729\u001b[0m         \u001b[38;5;28mself\u001b[39m\u001b[38;5;241m.\u001b[39mlog\u001b[38;5;241m.\u001b[39mdebug(\u001b[38;5;124mf\u001b[39m\u001b[38;5;124m\"\u001b[39m\u001b[38;5;124m[\u001b[39m\u001b[38;5;132;01m{\u001b[39;00mcomp\u001b[38;5;132;01m}\u001b[39;00m\u001b[38;5;124m]::\u001b[39m\u001b[38;5;132;01m{\u001b[39;00mret_val[i]\u001b[38;5;132;01m!r}\u001b[39;00m\u001b[38;5;124m\"\u001b[39m)\n\u001b[1;32m    731\u001b[0m \u001b[38;5;28;01mif\u001b[39;00m error_flag:\n\u001b[0;32m--> 732\u001b[0m     \u001b[38;5;28;01mraise\u001b[39;00m \u001b[38;5;167;01mRuntimeError\u001b[39;00m(\n\u001b[1;32m    733\u001b[0m         \u001b[38;5;124mf\u001b[39m\u001b[38;5;124m\"\u001b[39m\u001b[38;5;124mFailed to transition \u001b[39m\u001b[38;5;132;01m{\u001b[39;00mfailed_components\u001b[38;5;132;01m}\u001b[39;00m\u001b[38;5;124m to \u001b[39m\u001b[38;5;124m\"\u001b[39m\n\u001b[1;32m    734\u001b[0m         \u001b[38;5;124mf\u001b[39m\u001b[38;5;124m\"\u001b[39m\u001b[38;5;132;01m{\u001b[39;00msalobj\u001b[38;5;241m.\u001b[39mState(state)\u001b[38;5;132;01m!r}\u001b[39;00m\u001b[38;5;124m.\u001b[39m\u001b[38;5;124m\"\u001b[39m\n\u001b[1;32m    735\u001b[0m     )\n\u001b[1;32m    736\u001b[0m \u001b[38;5;28;01melse\u001b[39;00m:\n\u001b[1;32m    737\u001b[0m     \u001b[38;5;28mself\u001b[39m\u001b[38;5;241m.\u001b[39mlog\u001b[38;5;241m.\u001b[39minfo(\u001b[38;5;124mf\u001b[39m\u001b[38;5;124m\"\u001b[39m\u001b[38;5;124mAll components in \u001b[39m\u001b[38;5;132;01m{\u001b[39;00msalobj\u001b[38;5;241m.\u001b[39mState(state)\u001b[38;5;132;01m!r}\u001b[39;00m\u001b[38;5;124m.\u001b[39m\u001b[38;5;124m\"\u001b[39m)\n",
      "\u001b[0;31mRuntimeError\u001b[0m: Failed to transition ['cccamera'] to <State.STANDBY: 5>."
     ]
    }
   ],
   "source": [
    "await comcam.standby()"
   ]
  },
  {
   "cell_type": "code",
   "execution_count": null,
   "metadata": {},
   "outputs": [],
   "source": [
    "await domain.close()"
   ]
  },
  {
   "cell_type": "code",
   "execution_count": 9,
   "metadata": {},
   "outputs": [
    {
     "ename": "AckError",
     "evalue": "msg='Command failed', ackcmd=(ackcmd private_seqNum=1738523231, ack=<SalRetCode.CMD_NOPERM: -300>, error=0, result='Ack : NO Command not accepted in: State{SummaryState = OFFLINE}')",
     "output_type": "error",
     "traceback": [
      "\u001b[0;31m---------------------------------------------------------------------------\u001b[0m",
      "\u001b[0;31mAckError\u001b[0m                                  Traceback (most recent call last)",
      "Input \u001b[0;32mIn [9]\u001b[0m, in \u001b[0;36m<cell line: 2>\u001b[0;34m()\u001b[0m\n\u001b[1;32m      1\u001b[0m \u001b[38;5;66;03m## if state history was lost\u001b[39;00m\n\u001b[0;32m----> 2\u001b[0m \u001b[38;5;28;01mawait\u001b[39;00m comcam\u001b[38;5;241m.\u001b[39mrem\u001b[38;5;241m.\u001b[39mcccamera\u001b[38;5;241m.\u001b[39mcmd_start\u001b[38;5;241m.\u001b[39mset_start(configurationOverride\u001b[38;5;241m=\u001b[39m\u001b[38;5;124m\"\u001b[39m\u001b[38;5;124mNormal\u001b[39m\u001b[38;5;124m\"\u001b[39m,timeout\u001b[38;5;241m=\u001b[39m\u001b[38;5;241m10\u001b[39m)\n",
      "File \u001b[0;32m/opt/lsst/software/stack/conda/miniconda3-py38_4.9.2/envs/lsst-scipipe-3.0.0/lib/python3.8/site-packages/lsst/ts/salobj/topics/remote_command.py:418\u001b[0m, in \u001b[0;36mRemoteCommand.set_start\u001b[0;34m(self, timeout, wait_done, **kwargs)\u001b[0m\n\u001b[1;32m    377\u001b[0m \u001b[38;5;124;03m\"\"\"Create a new ``self.data``, set zero or more fields,\u001b[39;00m\n\u001b[1;32m    378\u001b[0m \u001b[38;5;124;03mand start the command.\u001b[39;00m\n\u001b[1;32m    379\u001b[0m \n\u001b[0;32m   (...)\u001b[0m\n\u001b[1;32m    415\u001b[0m \u001b[38;5;124;03m    If ``data`` is not None and not an instance of `DataType`.\u001b[39;00m\n\u001b[1;32m    416\u001b[0m \u001b[38;5;124;03m\"\"\"\u001b[39;00m\n\u001b[1;32m    417\u001b[0m \u001b[38;5;28mself\u001b[39m\u001b[38;5;241m.\u001b[39mset(\u001b[38;5;241m*\u001b[39m\u001b[38;5;241m*\u001b[39mkwargs)\n\u001b[0;32m--> 418\u001b[0m \u001b[38;5;28;01mreturn\u001b[39;00m \u001b[38;5;28;01mawait\u001b[39;00m \u001b[38;5;28mself\u001b[39m\u001b[38;5;241m.\u001b[39mstart(timeout\u001b[38;5;241m=\u001b[39mtimeout, wait_done\u001b[38;5;241m=\u001b[39mwait_done)\n",
      "File \u001b[0;32m/opt/lsst/software/stack/conda/miniconda3-py38_4.9.2/envs/lsst-scipipe-3.0.0/lib/python3.8/site-packages/lsst/ts/salobj/topics/remote_command.py:485\u001b[0m, in \u001b[0;36mRemoteCommand.start\u001b[0;34m(self, data, timeout, wait_done)\u001b[0m\n\u001b[1;32m    481\u001b[0m cmd_info \u001b[38;5;241m=\u001b[39m CommandInfo(\n\u001b[1;32m    482\u001b[0m     remote_command\u001b[38;5;241m=\u001b[39m\u001b[38;5;28mself\u001b[39m, seq_num\u001b[38;5;241m=\u001b[39mseq_num, wait_done\u001b[38;5;241m=\u001b[39mwait_done\n\u001b[1;32m    483\u001b[0m )\n\u001b[1;32m    484\u001b[0m \u001b[38;5;28mself\u001b[39m\u001b[38;5;241m.\u001b[39msalinfo\u001b[38;5;241m.\u001b[39m_running_cmds[seq_num] \u001b[38;5;241m=\u001b[39m cmd_info\n\u001b[0;32m--> 485\u001b[0m \u001b[38;5;28;01mreturn\u001b[39;00m \u001b[38;5;28;01mawait\u001b[39;00m cmd_info\u001b[38;5;241m.\u001b[39mnext_ackcmd(timeout\u001b[38;5;241m=\u001b[39mtimeout)\n",
      "File \u001b[0;32m/opt/lsst/software/stack/conda/miniconda3-py38_4.9.2/envs/lsst-scipipe-3.0.0/lib/python3.8/site-packages/lsst/ts/salobj/topics/remote_command.py:195\u001b[0m, in \u001b[0;36mCommandInfo.next_ackcmd\u001b[0;34m(self, timeout)\u001b[0m\n\u001b[1;32m    193\u001b[0m     ackcmd \u001b[38;5;241m=\u001b[39m \u001b[38;5;28;01mawait\u001b[39;00m \u001b[38;5;28mself\u001b[39m\u001b[38;5;241m.\u001b[39m_wait_task\n\u001b[1;32m    194\u001b[0m     \u001b[38;5;28;01mif\u001b[39;00m ackcmd\u001b[38;5;241m.\u001b[39mack \u001b[38;5;129;01min\u001b[39;00m \u001b[38;5;28mself\u001b[39m\u001b[38;5;241m.\u001b[39mfailed_ack_codes:\n\u001b[0;32m--> 195\u001b[0m         \u001b[38;5;28;01mraise\u001b[39;00m base\u001b[38;5;241m.\u001b[39mAckError(msg\u001b[38;5;241m=\u001b[39m\u001b[38;5;124m\"\u001b[39m\u001b[38;5;124mCommand failed\u001b[39m\u001b[38;5;124m\"\u001b[39m, ackcmd\u001b[38;5;241m=\u001b[39mackcmd)\n\u001b[1;32m    196\u001b[0m     \u001b[38;5;28;01mreturn\u001b[39;00m ackcmd\n\u001b[1;32m    197\u001b[0m \u001b[38;5;28;01mexcept\u001b[39;00m asyncio\u001b[38;5;241m.\u001b[39mTimeoutError:\n",
      "\u001b[0;31mAckError\u001b[0m: msg='Command failed', ackcmd=(ackcmd private_seqNum=1738523231, ack=<SalRetCode.CMD_NOPERM: -300>, error=0, result='Ack : NO Command not accepted in: State{SummaryState = OFFLINE}')"
     ]
    }
   ],
   "source": [
    "## if state history was lost\n",
    "await comcam.rem.cccamera.cmd_start.set_start(configurationOverride=\"Normal\",timeout=10)"
   ]
  },
  {
   "cell_type": "code",
   "execution_count": null,
   "metadata": {},
   "outputs": [],
   "source": []
  },
  {
   "cell_type": "code",
   "execution_count": 13,
   "metadata": {},
   "outputs": [
    {
     "data": {
      "text/plain": [
       "<ddsutil.CCCamera_ackcmd_ff5ef83c at 0x7f692bc97610>"
      ]
     },
     "execution_count": 13,
     "metadata": {},
     "output_type": "execute_result"
    }
   ],
   "source": [
    "await comcam.rem.cccamera.cmd_enterControl.start(timeout=10)"
   ]
  },
  {
   "cell_type": "code",
   "execution_count": null,
   "metadata": {},
   "outputs": [],
   "source": []
  },
  {
   "cell_type": "code",
   "execution_count": 10,
   "metadata": {},
   "outputs": [
    {
     "ename": "AckError",
     "evalue": "msg='Command failed', ackcmd=(ackcmd private_seqNum=469935177, ack=<SalRetCode.CMD_NOPERM: -300>, error=0, result='Ack : NO Command not accepted in State{SummaryState = OFFLINE}')",
     "output_type": "error",
     "traceback": [
      "\u001b[0;31m---------------------------------------------------------------------------\u001b[0m",
      "\u001b[0;31mAckError\u001b[0m                                  Traceback (most recent call last)",
      "Input \u001b[0;32mIn [10]\u001b[0m, in \u001b[0;36m<cell line: 1>\u001b[0;34m()\u001b[0m\n\u001b[0;32m----> 1\u001b[0m \u001b[38;5;28;01mawait\u001b[39;00m comcam\u001b[38;5;241m.\u001b[39mrem\u001b[38;5;241m.\u001b[39mcccamera\u001b[38;5;241m.\u001b[39mcmd_enable\u001b[38;5;241m.\u001b[39mstart(timeout\u001b[38;5;241m=\u001b[39m\u001b[38;5;241m10\u001b[39m)\n",
      "File \u001b[0;32m/opt/lsst/software/stack/conda/miniconda3-py38_4.9.2/envs/lsst-scipipe-3.0.0/lib/python3.8/site-packages/lsst/ts/salobj/topics/remote_command.py:485\u001b[0m, in \u001b[0;36mRemoteCommand.start\u001b[0;34m(self, data, timeout, wait_done)\u001b[0m\n\u001b[1;32m    481\u001b[0m cmd_info \u001b[38;5;241m=\u001b[39m CommandInfo(\n\u001b[1;32m    482\u001b[0m     remote_command\u001b[38;5;241m=\u001b[39m\u001b[38;5;28mself\u001b[39m, seq_num\u001b[38;5;241m=\u001b[39mseq_num, wait_done\u001b[38;5;241m=\u001b[39mwait_done\n\u001b[1;32m    483\u001b[0m )\n\u001b[1;32m    484\u001b[0m \u001b[38;5;28mself\u001b[39m\u001b[38;5;241m.\u001b[39msalinfo\u001b[38;5;241m.\u001b[39m_running_cmds[seq_num] \u001b[38;5;241m=\u001b[39m cmd_info\n\u001b[0;32m--> 485\u001b[0m \u001b[38;5;28;01mreturn\u001b[39;00m \u001b[38;5;28;01mawait\u001b[39;00m cmd_info\u001b[38;5;241m.\u001b[39mnext_ackcmd(timeout\u001b[38;5;241m=\u001b[39mtimeout)\n",
      "File \u001b[0;32m/opt/lsst/software/stack/conda/miniconda3-py38_4.9.2/envs/lsst-scipipe-3.0.0/lib/python3.8/site-packages/lsst/ts/salobj/topics/remote_command.py:195\u001b[0m, in \u001b[0;36mCommandInfo.next_ackcmd\u001b[0;34m(self, timeout)\u001b[0m\n\u001b[1;32m    193\u001b[0m     ackcmd \u001b[38;5;241m=\u001b[39m \u001b[38;5;28;01mawait\u001b[39;00m \u001b[38;5;28mself\u001b[39m\u001b[38;5;241m.\u001b[39m_wait_task\n\u001b[1;32m    194\u001b[0m     \u001b[38;5;28;01mif\u001b[39;00m ackcmd\u001b[38;5;241m.\u001b[39mack \u001b[38;5;129;01min\u001b[39;00m \u001b[38;5;28mself\u001b[39m\u001b[38;5;241m.\u001b[39mfailed_ack_codes:\n\u001b[0;32m--> 195\u001b[0m         \u001b[38;5;28;01mraise\u001b[39;00m base\u001b[38;5;241m.\u001b[39mAckError(msg\u001b[38;5;241m=\u001b[39m\u001b[38;5;124m\"\u001b[39m\u001b[38;5;124mCommand failed\u001b[39m\u001b[38;5;124m\"\u001b[39m, ackcmd\u001b[38;5;241m=\u001b[39mackcmd)\n\u001b[1;32m    196\u001b[0m     \u001b[38;5;28;01mreturn\u001b[39;00m ackcmd\n\u001b[1;32m    197\u001b[0m \u001b[38;5;28;01mexcept\u001b[39;00m asyncio\u001b[38;5;241m.\u001b[39mTimeoutError:\n",
      "\u001b[0;31mAckError\u001b[0m: msg='Command failed', ackcmd=(ackcmd private_seqNum=469935177, ack=<SalRetCode.CMD_NOPERM: -300>, error=0, result='Ack : NO Command not accepted in State{SummaryState = OFFLINE}')"
     ]
    }
   ],
   "source": [
    "await comcam.rem.cccamera.cmd_enable.start(timeout=10)"
   ]
  }
 ],
 "metadata": {
  "kernelspec": {
   "display_name": "LSST",
   "language": "python",
   "name": "lsst"
  },
  "language_info": {
   "codemirror_mode": {
    "name": "ipython",
    "version": 3
   },
   "file_extension": ".py",
   "mimetype": "text/x-python",
   "name": "python",
   "nbconvert_exporter": "python",
   "pygments_lexer": "ipython3",
   "version": "3.8.13"
  }
 },
 "nbformat": 4,
 "nbformat_minor": 4
}
