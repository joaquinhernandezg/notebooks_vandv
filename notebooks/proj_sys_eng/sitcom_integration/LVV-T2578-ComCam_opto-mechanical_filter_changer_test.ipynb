{
 "cells": [
  {
   "cell_type": "markdown",
   "metadata": {},
   "source": [
    "# Test Case LVV-T2578\n",
    "This notebook tests the filter changer timing and position repeatability as per https://jira.lsstcorp.org/secure/Tests.jspa#/testCase/LVV-T2578 test case. In particular:\n",
    "\n",
    "The requirement: LVV-14633 LTS-508-REQ-0015-V-01: Filter Changing_1\n",
    "* Filter changer must be able to switch between filters remotely\n",
    "* Positioning requirement is given in requirement LTS-508-4\n",
    "* Filter change time: 30 s maximum\n",
    "* Repeatability of motion: < +/- 0.1 mm (TBR)\n",
    "* Filter installation positioning and reconfiguration: +/- 0.1 mm lateral, +/- 2.6 arcmin for rotation. (verified elsewhere)\n"
   ]
  },
  {
   "cell_type": "code",
   "execution_count": null,
   "metadata": {
    "tags": []
   },
   "outputs": [],
   "source": [
    "from lsst.sitcom import vandv\n",
    "\n",
    "exec_info = vandv.ExecutionInfo()\n",
    "print(exec_info)"
   ]
  },
  {
   "cell_type": "markdown",
   "metadata": {},
   "source": [
    "## Setup"
   ]
  },
  {
   "cell_type": "code",
   "execution_count": null,
   "metadata": {},
   "outputs": [],
   "source": [
    "import asyncio\n",
    "import logging\n",
    "import os\n",
    "import yaml\n",
    "\n",
    "import astropy.units as u\n",
    "import numpy as np\n",
    "import pandas as pd\n",
    "\n",
    "from astropy.time import Time\n",
    "from datetime import datetime, timedelta\n",
    "from matplotlib import pyplot as plt\n",
    "\n",
    "from lsst.ts.observatory.control.maintel import MTCS, ComCam\n",
    "from lsst_efd_client import EfdClient\n",
    "from lsst.ts import salobj"
   ]
  },
  {
   "cell_type": "markdown",
   "metadata": {},
   "source": [
    "Setting up logger"
   ]
  },
  {
   "cell_type": "code",
   "execution_count": null,
   "metadata": {},
   "outputs": [],
   "source": [
    "logging.basicConfig(format=\"%(name)s:%(message)s\", level=logging.DEBUG)"
   ]
  },
  {
   "cell_type": "code",
   "execution_count": null,
   "metadata": {},
   "outputs": [],
   "source": [
    "logger = logging.getLogger(\"setup\")\n",
    "logger.level = logging.DEBUG"
   ]
  },
  {
   "cell_type": "markdown",
   "metadata": {},
   "source": [
    "Instantiate script for logging into EFD and start script task"
   ]
  },
  {
   "cell_type": "code",
   "execution_count": null,
   "metadata": {},
   "outputs": [],
   "source": [
    "logger.info(f'Your UID is {os.getuid()}')\n",
    "index = os.getuid() * 10 + np.random.randint(0, 9)\n",
    "\n",
    "logger.info(f'The generated index is {index}')"
   ]
  },
  {
   "cell_type": "code",
   "execution_count": null,
   "metadata": {},
   "outputs": [],
   "source": [
    "test_message = \"LVV-T2578 ComCam OptoMechanical Filter Change Test\"\n",
    "script = salobj.Controller(\"Script\", index=index)\n",
    "await script.start_task"
   ]
  },
  {
   "cell_type": "markdown",
   "metadata": {},
   "source": [
    "Create EFD client"
   ]
  },
  {
   "cell_type": "code",
   "execution_count": null,
   "metadata": {},
   "outputs": [],
   "source": [
    "client = vandv.efd.create_efd_client()"
   ]
  },
  {
   "cell_type": "markdown",
   "metadata": {},
   "source": [
    "Make sure DDS Daemon is running and startup Domain"
   ]
  },
  {
   "cell_type": "code",
   "execution_count": null,
   "metadata": {
    "tags": []
   },
   "outputs": [],
   "source": [
    "domain = salobj.Domain()"
   ]
  },
  {
   "cell_type": "markdown",
   "metadata": {},
   "source": [
    "MTCS initialization"
   ]
  },
  {
   "cell_type": "code",
   "execution_count": null,
   "metadata": {
    "tags": []
   },
   "outputs": [],
   "source": [
    "mtcs = MTCS(domain=domain, log=logger)\n",
    "mtcs.set_rem_loglevel(10)"
   ]
  },
  {
   "cell_type": "code",
   "execution_count": null,
   "metadata": {},
   "outputs": [],
   "source": [
    "await mtcs.start_task"
   ]
  },
  {
   "cell_type": "markdown",
   "metadata": {},
   "source": [
    "ComCam initialization"
   ]
  },
  {
   "cell_type": "code",
   "execution_count": null,
   "metadata": {
    "tags": []
   },
   "outputs": [],
   "source": [
    "comcam = ComCam(domain=domain)\n",
    "comcam.set_rem_loglevel(40)"
   ]
  },
  {
   "cell_type": "code",
   "execution_count": null,
   "metadata": {},
   "outputs": [],
   "source": [
    "await comcam.start_task"
   ]
  },
  {
   "cell_type": "code",
   "execution_count": null,
   "metadata": {},
   "outputs": [],
   "source": [
    "await comcam.enable()"
   ]
  },
  {
   "cell_type": "markdown",
   "metadata": {},
   "source": [
    "Helper functions to run the filter change sequence and to plot histograms and simple statistics for each filter move."
   ]
  },
  {
   "cell_type": "code",
   "execution_count": null,
   "metadata": {},
   "outputs": [],
   "source": [
    "async def run_filter_change_sequence(filters, sequence):\n",
    "    \"\"\" This function performs the filter changes sequentially as dictated by the variable `sequence`, \n",
    "    records the camera events and saves the move duration and linear encoder position in \n",
    "    a dataframe for later analysis.\n",
    "    \n",
    "    Parameters\n",
    "    ----------\n",
    "    \n",
    "    filters: list\n",
    "        Filter list as the output of the command `await comcam.get_available_instrument_setup()`\n",
    "            \n",
    "    sequence : list\n",
    "        List containing the slot numbers of the sequence of filter changes. \n",
    "        \n",
    "    \"\"\"\n",
    "    \n",
    "    move = [] \n",
    "\n",
    "    # Move to slot 0 to start sequence\n",
    "    await comcam.rem.cccamera.cmd_setFilter.set_start(name = filters[0]) \n",
    "\n",
    "    for i,val in enumerate(sequence):   \n",
    "        # Flush events\n",
    "        comcam.rem.cccamera.evt_startSetFilter.flush()\n",
    "        comcam.rem.cccamera.evt_endSetFilter.flush()\n",
    "\n",
    "        # Get start time\n",
    "        startdate = Time.now()\n",
    "\n",
    "        # Change Filter command\n",
    "        await comcam.rem.cccamera.cmd_setFilter.set_start(name = filters[val]) \n",
    "\n",
    "        # Record startSetFilter and endSetFilter events\n",
    "        setFilter = await comcam.rem.cccamera.evt_startSetFilter.next(flush=False, timeout=10)\n",
    "\n",
    "        endSetFilter = await comcam.rem.cccamera.evt_endSetFilter.next(flush=False, timeout=40)\n",
    "\n",
    "        # Duration of move based on the startSetFilter and endSetFilter events\n",
    "        duration = endSetFilter.private_sndStamp - setFilter.private_sndStamp\n",
    "\n",
    "        logger.info(f'Move to Slot {endSetFilter.filterSlot} from Slot {sequence[i-1]} \\t Filter: {endSetFilter.filterName} \\t '\n",
    "                    f'Filter Position Linear Encoder: {endSetFilter.filterPosition} [mm] \\t --- \\t'\n",
    "                    f'Duration: {duration:0.3f} [sec]')    \n",
    "\n",
    "        # Build PD entry for i move\n",
    "        move.append(\n",
    "            {\n",
    "                'ToFilterSlot': endSetFilter.filterSlot, \n",
    "                'FromFilterSlot': sequence[i-1],\n",
    "                'FilterName': endSetFilter.filterName, \n",
    "                'FilterPosition': endSetFilter.filterPosition, \n",
    "                'Duration': round(duration,3),\n",
    "            }\n",
    "        )\n",
    "\n",
    "        # Get end time\n",
    "        enddate = Time.now()\n",
    "        print(\"Movement \"+str(i)+\" duration: \"+str(24*60*60*(enddate-startdate))+\" sec\" )\n",
    "\n",
    "    df = pd.DataFrame(move)\n",
    "    return df"
   ]
  },
  {
   "cell_type": "code",
   "execution_count": null,
   "metadata": {
    "tags": []
   },
   "outputs": [],
   "source": [
    "def plot(df, column, allInOnePlot=False):\n",
    "    \"\"\"Plots the histogram and statistics (mean and std) for each filter move.  \n",
    "    \n",
    "    Parameters\n",
    "    ----------\n",
    "    \n",
    "    df: dataframe\n",
    "        Dataframe generated during the filter change test. \n",
    "        \n",
    "    column : string\n",
    "        Column from the dataframe generated during this test to plot the histograms. Options are 'Duration' (time to perform a filter change) and\n",
    "        'FilterPosition' (linear encoder of each filter slot position) \n",
    "    \n",
    "    allInOnePlot : bool\n",
    "        All histograms in a single plot. Default is False, meaning that each move will be plotted in a histogram separatedly. \n",
    "    \n",
    "    \"\"\"\n",
    "    \n",
    "    units = {'Duration':'[sec]', 'FilterPosition': '[mm]'} \n",
    "             \n",
    "        \n",
    "    if allInOnePlot:\n",
    "        plt.figure(figsize=(12,8))\n",
    "        for k,toSlot in enumerate(sequence[:int(len(sequence)/n)]):\n",
    "            fromSlot = sequence[k-1]\n",
    "            move_df = df[(df.ToFilterSlot==toSlot) & (df.FromFilterSlot==fromSlot)]\n",
    "            move_mean = move_df[column].mean()\n",
    "            move_std = move_df[column].std()\n",
    "            move_df[column].hist(bins = 1,\n",
    "                               label = f'To Slot {toSlot} from Slot {fromSlot} --- mean {move_mean:0.3f}    std {move_std:0.3f} {units[column]}')\n",
    "        plt.legend()\n",
    "        plt.xlabel(f'{column} {units[column]}')\n",
    "        plt.ylabel(\"Frequency\")\n",
    "        plt.title(f'{column} Histogram')\n",
    "    \n",
    "    else:\n",
    "        fig, axes = plt.subplots(nrows=2, ncols=3, figsize=(12,8))\n",
    "        ax = axes.flatten()\n",
    "\n",
    "        colors = plt.rcParams[\"axes.prop_cycle\"]()\n",
    "\n",
    "        for i, toSlot in enumerate(sequence[:int(len(sequence)/n)]):\n",
    "            c = next(colors)[\"color\"]    \n",
    "            fromSlot = sequence[i-1]\n",
    "            move_df = df[(df.ToFilterSlot==toSlot) & (df.FromFilterSlot==fromSlot)]\n",
    "            move_mean = move_df[column].mean()\n",
    "            move_std = move_df[column].std()\n",
    "            move_df[column].hist(ax = ax[i], bins = 10, color = c).set_title(\n",
    "                f'To Slot {toSlot} from Slot {fromSlot} \\n mean {move_mean:0.3f}    std {move_std:0.3f} {units[column]}')\n",
    "            \n",
    "            ax[i].set_xlabel(f'{column} {units[column]}')\n",
    "            ax[i].set_ylabel(\"Frequency\")\n",
    "\n",
    "        \n",
    "        fig.subplots_adjust(hspace=1)\n",
    "        fig.tight_layout()\n",
    "                   \n",
    "        \n",
    "        plt.show() "
   ]
  },
  {
   "cell_type": "markdown",
   "metadata": {},
   "source": [
    "Publish to the EFD that LVV-T2578 test is starting "
   ]
  },
  {
   "cell_type": "code",
   "execution_count": null,
   "metadata": {},
   "outputs": [],
   "source": [
    "script.log.info(f'START- {test_message} -- at {Time.now()}')"
   ]
  },
  {
   "cell_type": "markdown",
   "metadata": {},
   "source": [
    "## Test"
   ]
  },
  {
   "cell_type": "markdown",
   "metadata": {},
   "source": [
    "Get available instrument configurations and declare `filters`, number of loop executions `n` and the filter slot changing order `sequence`"
   ]
  },
  {
   "cell_type": "code",
   "execution_count": null,
   "metadata": {},
   "outputs": [],
   "source": [
    "filters = await comcam.get_available_instrument_setup()\n",
    "logger.info(f'Available filters are {filters}')"
   ]
  },
  {
   "cell_type": "code",
   "execution_count": null,
   "metadata": {},
   "outputs": [],
   "source": [
    "# Number of times to repeat the sequence below\n",
    "n = 10"
   ]
  },
  {
   "cell_type": "code",
   "execution_count": null,
   "metadata": {},
   "outputs": [],
   "source": [
    "# Declare the filter slot changing order\n",
    "sequence = [1, 2, 1, 0, 2, 0]*n"
   ]
  },
  {
   "cell_type": "markdown",
   "metadata": {},
   "source": [
    "----\n",
    "### Rotator at 0 deg"
   ]
  },
  {
   "cell_type": "code",
   "execution_count": null,
   "metadata": {},
   "outputs": [],
   "source": [
    "script.log.info(f'START- {test_message} 0 degrees -- at {Time.now()}')"
   ]
  },
  {
   "cell_type": "code",
   "execution_count": null,
   "metadata": {},
   "outputs": [],
   "source": [
    "await mtcs.move_rotator(0)"
   ]
  },
  {
   "cell_type": "code",
   "execution_count": null,
   "metadata": {},
   "outputs": [],
   "source": [
    "df_0deg = await run_filter_change_sequence(filters, sequence)\n",
    "df_0deg.name = '0 deg'"
   ]
  },
  {
   "cell_type": "code",
   "execution_count": null,
   "metadata": {},
   "outputs": [],
   "source": [
    "script.log.info(f'END- {test_message} 0 degrees -- at {Time.now()}')"
   ]
  },
  {
   "cell_type": "code",
   "execution_count": null,
   "metadata": {},
   "outputs": [],
   "source": [
    "plot(df_0deg, 'Duration', allInOnePlot=False)"
   ]
  },
  {
   "cell_type": "code",
   "execution_count": null,
   "metadata": {},
   "outputs": [],
   "source": [
    "plot(df_0deg, 'FilterPosition', allInOnePlot=False)"
   ]
  },
  {
   "cell_type": "markdown",
   "metadata": {},
   "source": [
    "---\n",
    "### Rotator at +90 deg"
   ]
  },
  {
   "cell_type": "code",
   "execution_count": null,
   "metadata": {},
   "outputs": [],
   "source": [
    "script.log.info(f'START- {test_message} with MTRotator at +90 degrees -- at {Time.now()}')"
   ]
  },
  {
   "cell_type": "code",
   "execution_count": null,
   "metadata": {},
   "outputs": [],
   "source": [
    "await mtcs.move_rotator(90)"
   ]
  },
  {
   "cell_type": "code",
   "execution_count": null,
   "metadata": {},
   "outputs": [],
   "source": [
    "df_90deg = await run_filter_change_sequence(filters, sequence)\n",
    "df_90deg.name = '90 deg'"
   ]
  },
  {
   "cell_type": "code",
   "execution_count": null,
   "metadata": {},
   "outputs": [],
   "source": [
    "plot(df_90deg, 'Duration', allInOnePlot=False)"
   ]
  },
  {
   "cell_type": "code",
   "execution_count": null,
   "metadata": {},
   "outputs": [],
   "source": [
    "plot(df_90deg, 'FilterPosition', allInOnePlot=False)"
   ]
  },
  {
   "cell_type": "code",
   "execution_count": null,
   "metadata": {},
   "outputs": [],
   "source": [
    "script.log.info(f'END- {test_message} with MTRotator at +90 degrees -- at {Time.now()}')"
   ]
  },
  {
   "cell_type": "markdown",
   "metadata": {},
   "source": [
    "---\n",
    "### Rotator at -90 deg "
   ]
  },
  {
   "cell_type": "code",
   "execution_count": null,
   "metadata": {},
   "outputs": [],
   "source": [
    "script.log.info(f'START- {test_message} with MTRotator at -90 degrees -- at {Time.now()}')"
   ]
  },
  {
   "cell_type": "code",
   "execution_count": null,
   "metadata": {},
   "outputs": [],
   "source": [
    "await mtcs.move_rotator(-90)"
   ]
  },
  {
   "cell_type": "code",
   "execution_count": null,
   "metadata": {},
   "outputs": [],
   "source": [
    "df_minus90deg = await run_filter_change_sequence(filters, sequence)\n",
    "df_minus90deg.name = '-90 deg'"
   ]
  },
  {
   "cell_type": "code",
   "execution_count": null,
   "metadata": {},
   "outputs": [],
   "source": [
    "plot(df_minus90deg, 'Duration', allInOnePlot=False)"
   ]
  },
  {
   "cell_type": "code",
   "execution_count": null,
   "metadata": {},
   "outputs": [],
   "source": [
    "plot(df_minus90deg, 'FilterPosition', allInOnePlot=False)"
   ]
  },
  {
   "cell_type": "code",
   "execution_count": null,
   "metadata": {},
   "outputs": [],
   "source": [
    "script.log.info(f'END- {test_message} with MTRotator at -90 degrees -- at {Time.now()}')"
   ]
  },
  {
   "cell_type": "markdown",
   "metadata": {
    "tags": []
   },
   "source": [
    "---\n",
    "### Move Duration Summary "
   ]
  },
  {
   "cell_type": "code",
   "execution_count": null,
   "metadata": {},
   "outputs": [],
   "source": [
    "for df in [df_0deg, df_90deg, df_minus90deg]:\n",
    "    print(f'\\n Rotator angle {df.name} \\n')\n",
    "    for i, toSlot in enumerate(sequence[:int(len(sequence)/n)]):\n",
    "        fromSlot = sequence[i-1]\n",
    "        move_df = df[(df.ToFilterSlot==toSlot) & (df.FromFilterSlot==fromSlot)]\n",
    "        move_mean = move_df['Duration'].mean()\n",
    "        move_std = move_df['Duration'].std()\n",
    "        print(f'{toSlot} <- {fromSlot}: mean {move_mean:0.3f} std {move_std:0.3f} [sec]')"
   ]
  },
  {
   "cell_type": "markdown",
   "metadata": {},
   "source": [
    "---\n",
    "### Filter Position Repeatability"
   ]
  },
  {
   "cell_type": "code",
   "execution_count": null,
   "metadata": {},
   "outputs": [],
   "source": [
    "def rms(x):\n",
    "    return np.sqrt((x**2).sum()/len(x))\n",
    "\n",
    "###!!! Replace commanded positions. Ask Brian\n",
    "commanded = {'0': -72, '1' : -0.5, '2': 71.5}\n",
    "\n",
    "for df in [df_0deg, df_90deg, df_minus90deg]:\n",
    "    print(f'\\n Rotator angle {df.name} \\n')\n",
    "    for i, toSlot in enumerate(sequence[:int(len(sequence)/n)]):\n",
    "        fromSlot = sequence[i-1]\n",
    "        move_df = df[(df.ToFilterSlot==toSlot) & (df.FromFilterSlot==fromSlot)]\n",
    "        position_mean = move_df['FilterPosition'].mean()\n",
    "        position_std = move_df['FilterPosition'].std()\n",
    "        error_rms = rms(commanded[str(toSlot)]- move_df['FilterPosition'].values)\n",
    "        print(f'{toSlot} <- {fromSlot}\\t mean {position_mean:0.3f} \\t  std {position_std:0.3f} \\t '\n",
    "              f' rms commanded - actual  \\t {error_rms:0.3f} [mm]')       "
   ]
  },
  {
   "cell_type": "markdown",
   "metadata": {},
   "source": [
    "## Wrap-up"
   ]
  },
  {
   "cell_type": "markdown",
   "metadata": {},
   "source": [
    "Announce the EFD that test is done "
   ]
  },
  {
   "cell_type": "code",
   "execution_count": null,
   "metadata": {},
   "outputs": [],
   "source": [
    "script.log.info(f'END- {test_message} -- at {Time.now()}')"
   ]
  },
  {
   "cell_type": "markdown",
   "metadata": {},
   "source": [
    "Transition ComCam to STANDBY and close domain. "
   ]
  },
  {
   "cell_type": "code",
   "execution_count": null,
   "metadata": {},
   "outputs": [],
   "source": [
    "await comcam.standby()"
   ]
  },
  {
   "cell_type": "code",
   "execution_count": null,
   "metadata": {},
   "outputs": [],
   "source": [
    "await domain.close()"
   ]
  }
 ],
 "metadata": {
  "kernelspec": {
   "display_name": "LSST",
   "language": "python",
   "name": "lsst"
  },
  "language_info": {
   "codemirror_mode": {
    "name": "ipython",
    "version": 3
   },
   "file_extension": ".py",
   "mimetype": "text/x-python",
   "name": "python",
   "nbconvert_exporter": "python",
   "pygments_lexer": "ipython3",
   "version": "3.10.4"
  }
 },
 "nbformat": 4,
 "nbformat_minor": 4
}
