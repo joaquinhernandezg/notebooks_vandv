{
 "cells": [
  {
   "cell_type": "markdown",
   "id": "ce11068e",
   "metadata": {
    "tags": []
   },
   "source": [
    "# Integrated Slew\n",
    "\n",
    "<p style=\"color: red\"> Since this notebook is so close to the one required to run LVV-T2216, I will re-run it using the slew command. This will tell us if we can slew and track while have the mirrors LUTs using the mount telemetry and what are the limitations. </p>\n",
    "\n",
    "This notebook is used to execute the [LVV-T2215 (2.0)] test script during System Spread Integration Tests on Level 3.  \n",
    "It is part of the plan [LVV-P81] and of the test cylce [LVV-C175].   \n",
    "Execution steps are separated by horizontal lines.   \n",
    "Upon completion, save the notebook and its output as a pdf file to be attached to the test execution in JIRA.\n",
    "\n",
    "History:\n",
    " - [LVV-T2215 (1.0)] has a notebook which doesn't do the slew sequence described on the test script. For this reason the version 2.0 was created.\n",
    "\n",
    " - [LVV-T2215 (2.0)] is similar to [LVV-T2290 (2.0)] test case, but without taking a ComCam image. \n",
    " \n",
    "Execution steps are separated by horizontal lines. Upon completion, save the notebook and its output as a pdf file to be attached to the test execution in JIRA. \n",
    "\n",
    "Last executed by J. Esteves 20220408\n",
    "\n",
    "[LVV-T2215 (1.0)]: https://jira.lsstcorp.org/secure/Tests.jspa#/testCase/2590\n",
    "[LVV-T2215 (2.0)]: https://jira.lsstcorp.org/secure/Tests.jspa#/testCase/LVV-T2215\n",
    "[LVV-T2290 (2.0)]: https://jira.lsstcorp.org/secure/Tests.jspa#/testCase/LVV-T2290  \n",
    "[LVV-P81]: https://jira.lsstcorp.org/secure/Tests.jspa#/testPlan/LVV-P81\n",
    "[LVV-C175]: https://jira.lsstcorp.org/secure/Tests.jspa#/testCycle/LVV-C175"
   ]
  },
  {
   "cell_type": "markdown",
   "id": "7a6661c7-bee4-4e65-b8b0-92afb6cc4989",
   "metadata": {},
   "source": [
    "---\n",
    "## Under Construction:\n",
    "\n",
    "\n",
    "Things to do:\n",
    "1. Add log info\n",
    "2. Test on Tucson \n"
   ]
  },
  {
   "cell_type": "code",
   "execution_count": null,
   "id": "bb3d4994-f3db-4bab-83cc-3da28761168d",
   "metadata": {},
   "outputs": [],
   "source": [
    "from lsst.ts import utils\n",
    "\n",
    "# Extract your name from the Jupyter Hub\n",
    "__executed_by__ = os.environ[\"JUPYTERHUB_USER\"]  \n",
    "\n",
    "# Extract execution date\n",
    "__executed_on__ = utils.astropy_time_from_tai_unix(utils.current_tai())\n",
    "__executed_on__.format = \"isot\"\n",
    "\n",
    "# This is used later to define where Butler stores the images\n",
    "summit = os.environ[\"LSST_DDS_PARTITION_PREFIX\"] == \"summit\"\n",
    "\n",
    "print(f\"\\nExecuted by {__executed_by__} on {__executed_on__}.\"\n",
    "      f\"\\n  At the summit? {summit}\")"
   ]
  },
  {
   "cell_type": "markdown",
   "id": "119eff96-965f-412e-bcf7-87bb927eb4be",
   "metadata": {},
   "source": [
    "---\n",
    "## Load all the needed libraries\n",
    "\n",
    "Using the setup procedure, get the remotes and the components ready.\n",
    "\n",
    "This includes simulators as well as real hardware when available (this will depend on when the test is conducted at NCSA or on level 3 or on the telescope):\n",
    "\n",
    "- pointing  \n",
    "- mount ( with the CCW)  \n",
    "- rotator  \n",
    "- ready M1M3: raise mirror, turn on FB, clear forces. Note that if used at level 3, we need to have M1M3 LUT use mount telemetry  \n",
    "- ready M2: turn on FB, clear forces. Note that if used at level 3, we need to have M2 LUT use mount telemetry  \n",
    "- Get cam hex Ready: check config; make sure LUT is on and has valid inputs; make sure hex is at LUT position  \n",
    "- Get M2 hex (simulator) Ready: check config; make sure LUT is on and has valid inputs; make sure hex is at LUT position  \n",
    "- Finally, get the MTAOS CSC ready  "
   ]
  },
  {
   "cell_type": "markdown",
   "id": "132f744e-400b-4efa-8df0-c31263be896f",
   "metadata": {},
   "source": [
    "***\n",
    "Run the setup.ipnyb notebook to bring all components up and in their enabled position. Check Chronograph."
   ]
  },
  {
   "cell_type": "markdown",
   "id": "3de4f66b-d5ce-4980-b57e-7650a86f57e0",
   "metadata": {},
   "source": [
    "***"
   ]
  },
  {
   "cell_type": "markdown",
   "id": "8e869d4b-5b7b-4a62-bd7f-40cb4533fc1f",
   "metadata": {},
   "source": [
    "Check Chronograph."
   ]
  },
  {
   "cell_type": "code",
   "execution_count": null,
   "id": "1865d513",
   "metadata": {},
   "outputs": [],
   "source": [
    "%load_ext autoreload\n",
    "%autoreload 2"
   ]
  },
  {
   "cell_type": "code",
   "execution_count": null,
   "id": "7b5b228a",
   "metadata": {},
   "outputs": [],
   "source": [
    "import rubin_jupyter_utils.lab.notebook as nb\n",
    "nb.utils.get_node()"
   ]
  },
  {
   "cell_type": "code",
   "execution_count": null,
   "id": "ee0e379e",
   "metadata": {},
   "outputs": [],
   "source": [
    "import os\n",
    "import sys\n",
    "import asyncio\n",
    "import logging\n",
    "import time\n",
    "\n",
    "import pandas as pd\n",
    "import numpy as np\n",
    "\n",
    "from matplotlib import pyplot as plt\n",
    "from astropy.time import Time\n",
    "from datetime import datetime, timedelta\n",
    "import pandas as pd\n",
    "\n",
    "from lsst.ts import salobj\n",
    "from lsst.ts.observatory.control.maintel import MTCS, ComCam\n",
    "from lsst.ts.observatory.control import RotType"
   ]
  },
  {
   "cell_type": "code",
   "execution_count": null,
   "id": "9b4ec348",
   "metadata": {},
   "outputs": [],
   "source": [
    "logging.basicConfig(format=\"%(name)s:%(message)s\", level=logging.DEBUG)"
   ]
  },
  {
   "cell_type": "code",
   "execution_count": null,
   "id": "5cbe1cee",
   "metadata": {},
   "outputs": [],
   "source": [
    "log = logging.getLogger(\"setup\")\n",
    "log.level = logging.DEBUG"
   ]
  },
  {
   "cell_type": "code",
   "execution_count": null,
   "id": "37ef054e",
   "metadata": {},
   "outputs": [],
   "source": [
    "domain = salobj.Domain()"
   ]
  },
  {
   "cell_type": "code",
   "execution_count": null,
   "id": "3ffca8f4",
   "metadata": {},
   "outputs": [],
   "source": [
    "mtcs = MTCS(domain=domain, log=log)\n",
    "mtcs.set_rem_loglevel(10)"
   ]
  },
  {
   "cell_type": "code",
   "execution_count": null,
   "id": "bed75413",
   "metadata": {},
   "outputs": [],
   "source": [
    "await mtcs.start_task"
   ]
  },
  {
   "cell_type": "code",
   "execution_count": null,
   "id": "10fb92ee-ca44-40b3-b0f9-a93b854bc00c",
   "metadata": {},
   "outputs": [],
   "source": [
    "async def moveMountInElevationSteps(target_el, azimuth=0, step_size=0.25, time_sleep=1):\n",
    "    \"\"\"Move the mount from the current elevation angle to the target elevation angle \n",
    "    in steps to avoid any issues whe M1M3 and/or M2 are running with the LUT using the \n",
    "    Mount instead of the inclinometer.\n",
    "    \n",
    "    This function will actually calculate the number of steps using the ceiling\n",
    "    in order to make sure that we move carefully. \n",
    "    \n",
    "    Parameters\n",
    "    ----------\n",
    "    target_el : float\n",
    "        Target elevation angle in degrees\n",
    "    azimuth : float\n",
    "        Azimuth angle in degres (default)\n",
    "    step_size : float\n",
    "        Step elevation size in degrees (default: 0.25)\n",
    "    time_sleep : float\n",
    "        Sleep time between movements (default: 1)\n",
    "        \n",
    "    Returns\n",
    "    -------\n",
    "    azimuth : float\n",
    "        Current azimuth\n",
    "    elevation : float\n",
    "        Current elevation\n",
    "    \"\"\"\n",
    "    current_el = mtcs.rem.mtmount.tel_elevation.get().actualPosition\n",
    "\n",
    "    if np.abs(current_el - target_el) < step_size:\n",
    "        print(\"Too close to move\")\n",
    "        return azimuth, current_el\n",
    "        \n",
    "    n_steps = int(np.ceil(np.abs(current_el - target_el) / step_size))\n",
    "\n",
    "    for el in np.linspace(current_el, target_el, n_steps):\n",
    "        print(f\"Moving elevation to {el:.2f} deg\")\n",
    "        await mtcs.rem.mtmount.cmd_moveToTarget.set_start(azimuth=azimuth, elevation=el)\n",
    "        time.sleep(time_sleep)\n",
    "        \n",
    "    return azimuth, el"
   ]
  },
  {
   "cell_type": "markdown",
   "id": "3e29d77c-65d8-4d22-ad46-708dcae9a571",
   "metadata": {},
   "source": [
    "---\n",
    "## Slew Sequence\n",
    "\n",
    "Exercise the telescope on elevation between 86.5º and 82.5º with 4 slews. <b> No tracking is needed </b>\n",
    "\n",
    "target_1 -> az = 180.0$^o$, el = 86.5$^o$  \n",
    "target_2 -> az = 180.0$^o$, el = 85.0$^o$  \n",
    "target_3 -> az = 180.0$^o$, el = 83.5$^o$  \n",
    "target_4 -> az = 180.0$^o$, el = 82.0$^o$  "
   ]
  },
  {
   "cell_type": "code",
   "execution_count": null,
   "id": "ff482237-b49a-49e6-90d5-00a0201d6708",
   "metadata": {},
   "outputs": [],
   "source": [
    "caution = False\n",
    "\n",
    "if not caution:\n",
    "    print(\"Slew 1: el=86.5\")\n",
    "    await mtcs.point_azel(az=180.0, el=86.5)\n",
    "\n",
    "    print(\"Slew 2: el=85.0\")\n",
    "    await mtcs.point_azel(az=180.0, el=85.0)\n",
    "\n",
    "    print(\"Slew 3: el=83.5\")\n",
    "    await mtcs.point_azel(az=180.0, el=83.5)\n",
    "\n",
    "    print(\"Slew 4: el=82.0\")\n",
    "    await mtcs.point_azel(az=180.0, el=82.0)\n",
    "    \n",
    "# await mtcs.stop_tracking()"
   ]
  },
  {
   "cell_type": "code",
   "execution_count": null,
   "id": "c253be91-45d5-40a5-9d7f-fe534d4d595f",
   "metadata": {},
   "outputs": [],
   "source": [
    "await moveMountInElevationSteps(90., azimuth=0)"
   ]
  },
  {
   "cell_type": "code",
   "execution_count": null,
   "id": "e645ebbe-b9b0-4d64-9126-4ff8892b2247",
   "metadata": {},
   "outputs": [],
   "source": [
    "await mtcs.set_state(\n",
    "    state=salobj.State.ENABLED,\n",
    "    components=[\"mtm1m3\"], \n",
    "    overrides = {\"mtm1m3\": 'Default'}\n",
    "    )"
   ]
  },
  {
   "cell_type": "code",
   "execution_count": null,
   "id": "19dcec67-b7a0-4a61-afc3-ceb1401e6725",
   "metadata": {},
   "outputs": [],
   "source": [
    "await mtcs.raise_m1m3()"
   ]
  },
  {
   "cell_type": "code",
   "execution_count": null,
   "id": "7892682c-24d8-407b-9fb4-f4205e7293bc",
   "metadata": {},
   "outputs": [],
   "source": [
    "await mtcs.enable_m1m3_balance_system()"
   ]
  },
  {
   "cell_type": "code",
   "execution_count": null,
   "id": "3e535626-af09-431b-8d75-8676eff332fc",
   "metadata": {},
   "outputs": [],
   "source": [
    "await mtcs.reset_m1m3_forces()"
   ]
  },
  {
   "cell_type": "code",
   "execution_count": null,
   "id": "f9411926-bdb8-422b-ab01-ef7ff7f428cc",
   "metadata": {},
   "outputs": [],
   "source": [
    "await moveMountInElevationSteps(85.5, azimuth=190)"
   ]
  },
  {
   "cell_type": "markdown",
   "id": "0cd30d55",
   "metadata": {},
   "source": [
    "***\n",
    "Slew to target 1:"
   ]
  },
  {
   "cell_type": "code",
   "execution_count": null,
   "id": "652f5e8a-fda0-4ce0-9350-af699ee5137e",
   "metadata": {},
   "outputs": [],
   "source": [
    "await mtcs.stop_tracking()"
   ]
  },
  {
   "cell_type": "code",
   "execution_count": null,
   "id": "8c0f1a17",
   "metadata": {},
   "outputs": [],
   "source": [
    "target = mtcs.radec_from_azel(az=180., el=85.4)\n",
    "await mtcs.slew_icrs(ra=target.ra, dec=target.dec, rot_type=RotType.Physical, rot=0)"
   ]
  },
  {
   "cell_type": "markdown",
   "id": "a4b287e0-67d0-4379-b802-40b8b8b36489",
   "metadata": {},
   "source": [
    "---\n",
    "Slew to target_2:"
   ]
  },
  {
   "cell_type": "code",
   "execution_count": null,
   "id": "583ae861-12bd-4779-9bdc-7076f5f8e222",
   "metadata": {},
   "outputs": [],
   "source": [
    "target = mtcs.radec_from_azel(az=180., el=85.2)\n",
    "await mtcs.slew_icrs(ra=target.ra, dec=target.dec, rot_type=RotType.Physical, rot=0)"
   ]
  },
  {
   "cell_type": "code",
   "execution_count": null,
   "id": "49783520-03c1-40d3-a5e8-7f2b2817fb6a",
   "metadata": {},
   "outputs": [],
   "source": [
    "target = mtcs.radec_from_azel(az=180., el=84.9)\n",
    "await mtcs.slew_icrs(ra=target.ra, dec=target.dec, rot_type=RotType.Physical, rot=0)"
   ]
  },
  {
   "cell_type": "markdown",
   "id": "4a8c5337-82fd-45a2-8de2-d63c836872a6",
   "metadata": {},
   "source": [
    "---\n",
    "Slew to target_3"
   ]
  },
  {
   "cell_type": "code",
   "execution_count": null,
   "id": "910e9297-6693-4d64-ac20-4d5678f5db4c",
   "metadata": {},
   "outputs": [],
   "source": [
    "await mtcs.point_azel(az=180.0, el=84.5)"
   ]
  },
  {
   "cell_type": "markdown",
   "id": "72e7270c-6abb-457b-8990-dd1beae418be",
   "metadata": {},
   "source": [
    "---\n",
    "Slew to target 4"
   ]
  },
  {
   "cell_type": "code",
   "execution_count": null,
   "id": "7eb89e5c-09b1-4867-a4ae-d99944d725da",
   "metadata": {},
   "outputs": [],
   "source": [
    "await mtcs.point_azel(az=180.0, el=84)"
   ]
  },
  {
   "cell_type": "code",
   "execution_count": null,
   "id": "205e25f2-5ae7-495b-a1e9-f48226e60cb5",
   "metadata": {},
   "outputs": [],
   "source": [
    "from lsst.ts.observatory.control.maintel import MTCS, ComCam\n"
   ]
  },
  {
   "cell_type": "code",
   "execution_count": null,
   "id": "04494e7f-0a1d-4149-a103-804272f29fb1",
   "metadata": {},
   "outputs": [],
   "source": [
    "comcam = ComCam(domain=domain, log=log)"
   ]
  },
  {
   "cell_type": "code",
   "execution_count": null,
   "id": "161c17fc-e1a9-47b2-8a14-f3303e4f0287",
   "metadata": {},
   "outputs": [],
   "source": [
    "comcam.set_rem_loglevel(40)"
   ]
  },
  {
   "cell_type": "code",
   "execution_count": null,
   "id": "2c341120-7192-40e1-ba3d-78242f0c2c92",
   "metadata": {},
   "outputs": [],
   "source": [
    "await comcam.start_task"
   ]
  },
  {
   "cell_type": "code",
   "execution_count": null,
   "id": "9370f11d-de12-4d1e-963a-3f133b866262",
   "metadata": {},
   "outputs": [],
   "source": [
    "await comcam.standby()"
   ]
  },
  {
   "cell_type": "code",
   "execution_count": null,
   "id": "d02d096b-bc20-42b9-93b4-0a87f28e225f",
   "metadata": {},
   "outputs": [],
   "source": [
    "await comcam.enable()"
   ]
  },
  {
   "cell_type": "code",
   "execution_count": null,
   "id": "729c7488-92a3-4175-b65a-83eeb4ef7ceb",
   "metadata": {},
   "outputs": [],
   "source": [
    "exp1 = await comcam.take_object(15)\n",
    "print(f\"Target 1 exposure: {exp1}\")"
   ]
  },
  {
   "cell_type": "markdown",
   "id": "f51d3502-6ca4-4a02-8a77-ae32b91be313",
   "metadata": {},
   "source": [
    "---\n",
    "Stop tracking to prevent hitting the Rotator soft limit."
   ]
  },
  {
   "cell_type": "code",
   "execution_count": null,
   "id": "5f82ae6f",
   "metadata": {},
   "outputs": [],
   "source": [
    "await mtcs.stop_tracking()"
   ]
  },
  {
   "cell_type": "markdown",
   "id": "2213f0f3-a619-4a25-93b4-27a6ff0a2672",
   "metadata": {},
   "source": [
    "***\n",
    "## Plot The Results\n"
   ]
  },
  {
   "cell_type": "code",
   "execution_count": null,
   "id": "039a7d46-ec17-43d0-9720-af228153ec24",
   "metadata": {},
   "outputs": [],
   "source": [
    "from lsst_efd_client import EfdClient"
   ]
  },
  {
   "cell_type": "code",
   "execution_count": null,
   "id": "14c2b38b-e58c-44f2-8344-1d91b3c94347",
   "metadata": {},
   "outputs": [],
   "source": [
    "client = EfdClient(\"summit_efd\")"
   ]
  },
  {
   "cell_type": "code",
   "execution_count": null,
   "id": "ed35b5e8-b211-46fb-a256-a70ed3fb1a3d",
   "metadata": {},
   "outputs": [],
   "source": [
    "# Fix this plot\n",
    "end = Time(datetime.now(), scale='utc')\n",
    "start = end - timedelta(seconds=1000)\n",
    "\n",
    "dfm = await client.select_time_series('lsst.sal.MTMount.elevation', 'actualPosition', start, end, 0)\n",
    "dfm1m3 = await client.select_time_series('lsst.sal.MTM1M3.logevent_appliedElevationForces', 'zForces0', start, end, 0)\n",
    "dfm2 = await client.select_time_series('lsst.sal.MTM2.axialForces', 'lutGravity0', start, end)\n",
    "dfh = await client.select_time_series('lsst.sal.MTHexapod.application', '*', start, end)\n",
    "\n",
    "idx1=dfh.MTHexapodID==1\n",
    "dfh1 = dfh[idx1]\n",
    "idx2=dfh.MTHexapodID==2\n",
    "dfh2 = dfh[idx2]\n",
    "\n",
    "fig, ax = plt.subplots(1,1, figsize=(15,4))\n",
    "plt.plot(dfm.actualPosition, '--', label='mount elevation')\n",
    "plt.plot(dfm1m3.zForces0, label='M1M3 elevation y-force 101')\n",
    "plt.plot(dfm2.lutGravity0, label='M2 elevation force B1')\n",
    "plt.plot(dfh1.position1, label='Camera hexapod y')\n",
    "plt.plot(dfh2.position1, label='M2 hexapod y')\n",
    "plt.grid()\n",
    "plt.legend()"
   ]
  },
  {
   "cell_type": "code",
   "execution_count": null,
   "id": "6f5e9d3d-0894-4331-a4e1-664e5d6d788f",
   "metadata": {},
   "outputs": [],
   "source": [
    "dfm2"
   ]
  },
  {
   "cell_type": "markdown",
   "id": "26eb67e7",
   "metadata": {},
   "source": [
    "***\n",
    "## Wrap Up and Shut Down\n",
    "\n",
    "This cell is not currently included as part of the test execution, but included here as needed to shutdown the systems"
   ]
  },
  {
   "cell_type": "code",
   "execution_count": null,
   "id": "205efdfb",
   "metadata": {},
   "outputs": [],
   "source": [
    "await mtcs.set_state(salobj.State.STANDBY, components=[\"mtaos\"])"
   ]
  },
  {
   "cell_type": "code",
   "execution_count": null,
   "id": "4422cced",
   "metadata": {},
   "outputs": [],
   "source": [
    "await mtcs.lower_m1m3()"
   ]
  },
  {
   "cell_type": "code",
   "execution_count": null,
   "id": "56bd32da",
   "metadata": {},
   "outputs": [],
   "source": [
    "await mtcs.set_state(salobj.State.STANDBY, components=[\"mtm1m3\"])"
   ]
  },
  {
   "cell_type": "code",
   "execution_count": null,
   "id": "219b074f",
   "metadata": {},
   "outputs": [],
   "source": [
    "await mtcs.set_state(salobj.State.STANDBY, components=[\"mtm2\"])"
   ]
  },
  {
   "cell_type": "code",
   "execution_count": null,
   "id": "16eafb32",
   "metadata": {},
   "outputs": [],
   "source": [
    "await mtcs.set_state(salobj.State.STANDBY, components=[\"mthexapod_1\"])"
   ]
  },
  {
   "cell_type": "code",
   "execution_count": null,
   "id": "3627f687",
   "metadata": {},
   "outputs": [],
   "source": [
    "await mtcs.set_state(salobj.State.STANDBY, components=[\"mthexapod_2\"])"
   ]
  },
  {
   "cell_type": "code",
   "execution_count": null,
   "id": "d1cfb6df",
   "metadata": {},
   "outputs": [],
   "source": [
    "await mtcs.standby()"
   ]
  },
  {
   "cell_type": "code",
   "execution_count": null,
   "id": "69099002-74ec-48c8-831f-bc24c2ffd1ca",
   "metadata": {},
   "outputs": [],
   "source": []
  }
 ],
 "metadata": {
  "kernelspec": {
   "display_name": "LSST",
   "language": "python",
   "name": "lsst"
  },
  "language_info": {
   "codemirror_mode": {
    "name": "ipython",
    "version": 3
   },
   "file_extension": ".py",
   "mimetype": "text/x-python",
   "name": "python",
   "nbconvert_exporter": "python",
   "pygments_lexer": "ipython3",
   "version": "3.8.13"
  },
  "toc-autonumbering": false
 },
 "nbformat": 4,
 "nbformat_minor": 5
}
