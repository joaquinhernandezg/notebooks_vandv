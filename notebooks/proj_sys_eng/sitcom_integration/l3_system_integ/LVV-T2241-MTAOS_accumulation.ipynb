{
 "cells": [
  {
   "cell_type": "markdown",
   "id": "591ab664",
   "metadata": {},
   "source": [
    "# [LVV-T2241 (v1.0)] MTAOS corrections accumulation\n",
    "\n",
    "This notebook is used to execute the [LVV-T2241 (v1.0)] test script during System Spread Integration Tests on Level 3.  \n",
    "Execution steps are separated by horizontal lines.   \n",
    "Upon completion, save the notebook and its output as a pdf file to be attached to the test execution in JIRA.  \n",
    "\n",
    "**Requirements:**\n",
    " - All the MT components should be enabled.\n",
    " \n",
    "**Make sure you run this notebook on TTS before running at the summit.**\n",
    "\n",
    "Please, see the [README] file for the requirements to run this notebook.\n",
    "The log messages printed in this notebook are stored in the EFD Script using the `TTTTMMDD` format, where `TTTT` are the four last digits of the test case, `MM` is the 0-padded month, and `DD` is the 0-padded day of execution.\n",
    "\n",
    "[LVV-T2241 (v1.0)]: https://jira.lsstcorp.org/secure/Tests.jspa#/testCase/LVV-T2241\n",
    "[README]: https://github.com/lsst-sitcom/notebooks_vandv/blob/develop/README.md"
   ]
  },
  {
   "cell_type": "markdown",
   "id": "6f6476a9",
   "metadata": {},
   "source": [
    "***"
   ]
  },
  {
   "cell_type": "markdown",
   "id": "b0cf9364",
   "metadata": {},
   "source": [
    "## Prepare the environment\n",
    "\n",
    "Load all the needed libraries.\n",
    "Get the remotes ready\n",
    "Code in the notebook including section: \"Check the summary state of each CSC\"."
   ]
  },
  {
   "cell_type": "code",
   "execution_count": null,
   "id": "f6b6d9c6-d8a4-4607-8b91-4f134e17a47e",
   "metadata": {},
   "outputs": [],
   "source": [
    "test_case = \"LVV-T2241\"\n",
    "test_exec = \"LVV-EXXXX\""
   ]
  },
  {
   "cell_type": "code",
   "execution_count": null,
   "id": "ef00e241",
   "metadata": {},
   "outputs": [],
   "source": [
    "%load_ext autoreload\n",
    "%autoreload 2\n",
    "\n",
    "import os\n",
    "import sys\n",
    "import asyncio\n",
    "import logging\n",
    "import time\n",
    "\n",
    "import pandas as pd\n",
    "import numpy as np\n",
    "\n",
    "from astropy.time import Time\n",
    "from datetime import datetime, timedelta\n",
    "from matplotlib import pyplot as plt\n",
    "\n",
    "from lsst.ts import salobj\n",
    "from lsst.ts.observatory.control.maintel import MTCS\n",
    "from lsst.ts.observatory.control import RotType\n",
    "\n",
    "from lsst.sitcom import vandv"
   ]
  },
  {
   "cell_type": "code",
   "execution_count": null,
   "id": "6976a239",
   "metadata": {},
   "outputs": [],
   "source": [
    "exec_info = vandv.ExecutionInfo()\n",
    "print(exec_info)"
   ]
  },
  {
   "cell_type": "markdown",
   "id": "f698b265-9700-4e38-a4c7-43e552ffe054",
   "metadata": {},
   "source": [
    "Use the `maintel/setup_mtcs.py` script in LOVE or the [LVV-T2344] to test case and notebook to setup all the main telescope components.  \n",
    "This includes simulators as well as real hardware when available (this will depend on when the test is conducted at TTS or on level 3 or on the telescope):  \n",
    "\n",
    "- pointing  \n",
    "- mount ( with the CCW)  \n",
    "- rotator  \n",
    "- ready M1M3: raise mirror, turn on FB, clear forces. Note that if used at level 3, we need to have M1M3 LUT use mount telemetry  \n",
    "- ready M2: turn on FB, clear forces. Note that if used at level 3, we need to have M2 LUT use mount telemetry  \n",
    "- Get cam hex Ready: check config; make sure LUT is on and has valid inputs; make sure hex is at LUT position  \n",
    "- Get M2 hex (simulator) Ready: check config; make sure LUT is on and has valid inputs; make sure hex is at LUT position  \n",
    "- Finally, get the MTAOS CSC ready  \n",
    "\n",
    "[LVV-T2344]: https://jira.lsstcorp.org/secure/Tests.jspa#/testCase/LVV-T2344"
   ]
  },
  {
   "cell_type": "code",
   "execution_count": null,
   "id": "8776dfda",
   "metadata": {},
   "outputs": [],
   "source": [
    "logging.basicConfig(format=\"%(asctime)s %(name)s: %(message)s\", level=logging.DEBUG)"
   ]
  },
  {
   "cell_type": "code",
   "execution_count": null,
   "id": "7b3038c6",
   "metadata": {},
   "outputs": [],
   "source": [
    "log = logging.getLogger(\"setup\")\n",
    "log.level = logging.DEBUG"
   ]
  },
  {
   "cell_type": "code",
   "execution_count": null,
   "id": "25b3b0da",
   "metadata": {},
   "outputs": [],
   "source": [
    "os.environ[\"LSST_DDS_HISTORYSYNC\"] = \"200\"\n",
    "domain = salobj.Domain()\n",
    "print(f\"My user_host is {domain.user_host!r}\\n\")"
   ]
  },
  {
   "cell_type": "code",
   "execution_count": null,
   "id": "fae46ba6",
   "metadata": {},
   "outputs": [],
   "source": [
    "mtcs = MTCS(domain=domain, log=log)\n",
    "mtcs.set_rem_loglevel(logging.ERROR)"
   ]
  },
  {
   "cell_type": "code",
   "execution_count": null,
   "id": "349e8108",
   "metadata": {},
   "outputs": [],
   "source": [
    "await mtcs.start_task"
   ]
  },
  {
   "cell_type": "markdown",
   "id": "11bc91ba-4d58-4266-ad94-876956c8aa9c",
   "metadata": {},
   "source": [
    "Run the cell below to hide all the messages related to the DDS and have a cleaner notebook."
   ]
  },
  {
   "cell_type": "code",
   "execution_count": null,
   "id": "f0e9f13c-8af0-4a45-811c-1022fb716e7e",
   "metadata": {},
   "outputs": [],
   "source": [
    "vandv.logger.add_filter_to_mtcs()"
   ]
  },
  {
   "cell_type": "markdown",
   "id": "5260e483-92eb-41e6-9f24-2253aaa7bd43",
   "metadata": {},
   "source": [
    "The `Script` CSC is used to record test checkpoints and allow to easy search in the EFD."
   ]
  },
  {
   "cell_type": "code",
   "execution_count": null,
   "id": "c5d734dc-9db2-437e-8995-f9fc4e2fa894",
   "metadata": {},
   "outputs": [],
   "source": [
    "script = salobj.Controller(\"Script\", index=vandv.get_index(test_case))\n",
    "await asyncio.sleep(10) \n",
    "\n",
    "script.start_task"
   ]
  },
  {
   "cell_type": "markdown",
   "id": "521c9d22",
   "metadata": {},
   "source": [
    "***"
   ]
  },
  {
   "cell_type": "markdown",
   "id": "7e073322",
   "metadata": {},
   "source": [
    "## Ready M1M3\n",
    "\n",
    "- Raise mirror \n",
    "- Turn on FB \n",
    "- Clear forces\n",
    "- Need to have M1M3 LUT use its inclinometer.\n",
    "\n",
    "In principle, this should be done above when running the setup notebook or the setup script."
   ]
  },
  {
   "cell_type": "code",
   "execution_count": null,
   "id": "9c0728ea-a888-4b00-ba14-79c01b8aefb6",
   "metadata": {},
   "outputs": [],
   "source": [
    "await mtcs.set_state(\n",
    "    state=salobj.State.ENABLED, \n",
    "    components=[\"mtm1m3\"],\n",
    "    overrides=dict(mtm1m3=\"Default\")\n",
    ")"
   ]
  },
  {
   "cell_type": "code",
   "execution_count": null,
   "id": "1b42637f-d22d-4c96-93cb-6214ef3f8ff7",
   "metadata": {},
   "outputs": [],
   "source": [
    "await mtcs.raise_m1m3()"
   ]
  },
  {
   "cell_type": "code",
   "execution_count": null,
   "id": "46467b15-2514-4d7e-9b81-cc583083edff",
   "metadata": {},
   "outputs": [],
   "source": [
    "await mtcs.enable_m1m3_balance_system()"
   ]
  },
  {
   "cell_type": "code",
   "execution_count": null,
   "id": "a77d2bbf-6895-482d-8191-e82e2e122178",
   "metadata": {},
   "outputs": [],
   "source": [
    "await mtcs.reset_m1m3_forces()"
   ]
  },
  {
   "cell_type": "code",
   "execution_count": null,
   "id": "0a7c85b2-cee1-4bc2-b92a-827b624edb86",
   "metadata": {},
   "outputs": [],
   "source": [
    "script.log.info(f\"{test_case} - {test_exec} - M1M3 ready\")"
   ]
  },
  {
   "cell_type": "markdown",
   "id": "ef2e7074",
   "metadata": {},
   "source": [
    "***"
   ]
  },
  {
   "cell_type": "markdown",
   "id": "a0f80213",
   "metadata": {},
   "source": [
    "## Ready M2\n",
    "- Turn on FB\n",
    "- Clear forces\n",
    "- Need to have M2 LUT use its inclinometer\n",
    "\n",
    "In principle, this should be done above when running the setup notebook or the setup script."
   ]
  },
  {
   "cell_type": "code",
   "execution_count": null,
   "id": "50c2f6c6-fc2c-424f-b556-2c9306469a5e",
   "metadata": {},
   "outputs": [],
   "source": [
    "await mtcs.set_state(\n",
    "    state=salobj.State.ENABLED, \n",
    "    components=[\"mtm2\"],\n",
    ")"
   ]
  },
  {
   "cell_type": "code",
   "execution_count": null,
   "id": "60271d98-f32d-43e0-a353-d6c29e43bfa8",
   "metadata": {},
   "outputs": [],
   "source": [
    "await mtcs.enable_m2_balance_system()"
   ]
  },
  {
   "cell_type": "code",
   "execution_count": null,
   "id": "a86dacce-4def-4de7-aaf5-8e084fcdff5c",
   "metadata": {},
   "outputs": [],
   "source": [
    "await mtcs.reset_m2_forces()"
   ]
  },
  {
   "cell_type": "code",
   "execution_count": null,
   "id": "f18521e5-f774-4f40-a2c6-91626674b5d3",
   "metadata": {},
   "outputs": [],
   "source": [
    "script.log.info(f\"{test_case} - {test_exec} - M2 ready\")"
   ]
  },
  {
   "cell_type": "markdown",
   "id": "e8d57db0",
   "metadata": {},
   "source": [
    "***"
   ]
  },
  {
   "cell_type": "markdown",
   "id": "dcfd3e3a",
   "metadata": {},
   "source": [
    "## Get CamHex ready\n",
    "- Check config; \n",
    "- Make sure LUT is on, and has valid inputs; \n",
    "- Make sure hex is at LUT position"
   ]
  },
  {
   "cell_type": "code",
   "execution_count": null,
   "id": "b84231b0-1a6f-4e48-b8f6-5bfc6d461c03",
   "metadata": {},
   "outputs": [],
   "source": [
    "await mtcs.set_state(\n",
    "    state=salobj.State.ENABLED, \n",
    "    components=[\"mthexapod_1\"],\n",
    ")"
   ]
  },
  {
   "cell_type": "code",
   "execution_count": null,
   "id": "8714635d-377f-4264-b9dd-63cc224b1df5",
   "metadata": {},
   "outputs": [],
   "source": [
    "await vandv.hexapod.get_hexapod_configuration(mtcs.rem.mthexapod_1)"
   ]
  },
  {
   "cell_type": "code",
   "execution_count": null,
   "id": "3dc609d0-e210-458d-95c0-78dcf96f6700",
   "metadata": {},
   "outputs": [],
   "source": [
    "await vandv.hexapod.check_hexapod_lut(mtcs.rem.mthexapod_1)"
   ]
  },
  {
   "cell_type": "code",
   "execution_count": null,
   "id": "e2175898-3373-40ad-b6a6-4e0225d80e5a",
   "metadata": {},
   "outputs": [],
   "source": [
    "await mtcs.reset_camera_hexapod_position()"
   ]
  },
  {
   "cell_type": "code",
   "execution_count": null,
   "id": "a2dd97ac-bd9b-4cab-9542-77aa094ac517",
   "metadata": {},
   "outputs": [],
   "source": [
    "await vandv.hexapod.print_hexapod_compensation_values(mtcs.rem.mthexapod_1)\n",
    "await vandv.hexapod.print_hexapod_position(mtcs.rem.mthexapod_1)"
   ]
  },
  {
   "cell_type": "code",
   "execution_count": null,
   "id": "46c3b8c7-9893-4294-bc27-526a2b9ff965",
   "metadata": {},
   "outputs": [],
   "source": [
    "script.log.info(f\"{test_case} - {test_exec} - CamHex ready\")"
   ]
  },
  {
   "cell_type": "markdown",
   "id": "d0dbcf1d",
   "metadata": {},
   "source": [
    "***"
   ]
  },
  {
   "cell_type": "markdown",
   "id": "f88dc8c8",
   "metadata": {},
   "source": [
    "## Get M2Hex ready \n",
    "- Check config \n",
    "- Make sure LUT is on, and has valid inputs; \n",
    "- Make sure hex is at LUT position"
   ]
  },
  {
   "cell_type": "code",
   "execution_count": null,
   "id": "24a0a98e-80fb-4936-8c75-a5d363e7b69e",
   "metadata": {},
   "outputs": [],
   "source": [
    "await mtcs.set_state(\n",
    "    state=salobj.State.ENABLED, \n",
    "    components=[\"mthexapod_2\"],\n",
    ")"
   ]
  },
  {
   "cell_type": "code",
   "execution_count": null,
   "id": "ba87515d-98e1-4d15-9070-179e6fd532f5",
   "metadata": {},
   "outputs": [],
   "source": [
    "await vandv.hexapod.get_hexapod_configuration(mtcs.rem.mthexapod_2)"
   ]
  },
  {
   "cell_type": "code",
   "execution_count": null,
   "id": "ea2a9043-29d0-4672-9352-84e354f93d92",
   "metadata": {},
   "outputs": [],
   "source": [
    "await vandv.hexapod.check_hexapod_lut(mtcs.rem.mthexapod_2)"
   ]
  },
  {
   "cell_type": "code",
   "execution_count": null,
   "id": "61ae9586-4d59-450e-9ccf-0f6d6cc22eb0",
   "metadata": {},
   "outputs": [],
   "source": [
    "await mtcs.reset_m2_hexapod_position()"
   ]
  },
  {
   "cell_type": "code",
   "execution_count": null,
   "id": "31c36f75-710f-4f65-9f81-3e4d974777e0",
   "metadata": {},
   "outputs": [],
   "source": [
    "await vandv.hexapod.print_hexapod_compensation_values(mtcs.rem.mthexapod_2)\n",
    "await vandv.hexapod.print_hexapod_position(mtcs.rem.mthexapod_2)"
   ]
  },
  {
   "cell_type": "code",
   "execution_count": null,
   "id": "a714b1d8-dcae-45f5-9df6-bc9e5be94f20",
   "metadata": {},
   "outputs": [],
   "source": [
    "script.log.info(f\"{test_case} - {test_exec} - M2Hex ready\")"
   ]
  },
  {
   "cell_type": "markdown",
   "id": "deb6d9b3",
   "metadata": {},
   "source": [
    "---\n",
    "## Slew to a target and track.\n",
    "\n",
    "Choose a target such that the rotator stays within a couple of degrees of its initial position. (az = 120º, el = 60º, rotator type = PhysicalSky, rot=1.9º)\n",
    "\n",
    "This is because the CCW might not be running (MTmount in simulation mode)."
   ]
  },
  {
   "cell_type": "code",
   "execution_count": null,
   "id": "b0d5c479",
   "metadata": {},
   "outputs": [],
   "source": [
    "target = await mtcs.find_target(el=60, az=120, mag_limit=8)\n",
    "print(target)"
   ]
  },
  {
   "cell_type": "code",
   "execution_count": null,
   "id": "7eb81386",
   "metadata": {},
   "outputs": [],
   "source": [
    "await mtcs.slew_object(target, rot_type=RotType.PhysicalSky, rot=1.9)"
   ]
  },
  {
   "cell_type": "code",
   "execution_count": null,
   "id": "f754528b-98d9-4434-a359-3f757d217adc",
   "metadata": {},
   "outputs": [],
   "source": [
    "script.log.info(f\"{test_case} - {test_exec} - Slewed to target: {target}\")"
   ]
  },
  {
   "cell_type": "markdown",
   "id": "144fe790",
   "metadata": {},
   "source": [
    "***"
   ]
  },
  {
   "cell_type": "markdown",
   "id": "f3f3739b-8ee6-44cf-8313-965c1a722e3a",
   "metadata": {},
   "source": [
    "## Calculate for 1um of z7 aberrations\n",
    "\n",
    "Add 1um of z7 to the system via OFC (only calculate corrections, do NOT issue them yet)."
   ]
  },
  {
   "cell_type": "code",
   "execution_count": null,
   "id": "1339c74d-d540-41f9-bf3c-3d3da5b51a5d",
   "metadata": {},
   "outputs": [],
   "source": [
    "script.log.info(f\"{test_case} - {test_exec} - START\")\n",
    "\n",
    "# The wavefront errors input is an array with 19 elements where the first \n",
    "#   element corresponds to z4\n",
    "wavefront_errors = np.zeros(19)\n",
    "\n",
    "# Add1 um to z7\n",
    "wavefront_errors[3] += 1.0 "
   ]
  },
  {
   "cell_type": "code",
   "execution_count": null,
   "id": "63a35aa0-784e-4443-9aed-10bcc6d91fce",
   "metadata": {},
   "outputs": [],
   "source": [
    "script.log.info(f\"{test_case} - {test_exec} - Add 1um aberration\")\n",
    "await mtcs.rem.mtaos.cmd_addAberration.set_start(wf=wavefront_errors, timeout=10)"
   ]
  },
  {
   "cell_type": "markdown",
   "id": "94412426",
   "metadata": {},
   "source": [
    "## Issue 1m z7 aberration corrections\n",
    "\n",
    "Issue the above corrections.\n",
    "Compare the corrections sent vs forces, and position changes applied."
   ]
  },
  {
   "cell_type": "code",
   "execution_count": null,
   "id": "09a5e153",
   "metadata": {},
   "outputs": [],
   "source": [
    "script.log.info(f\"{test_case} - {test_exec} - Issue 1um aberration\")\n",
    "await mtcs.rem.mtaos.cmd_issueCorrection.start(timeout=60.)"
   ]
  },
  {
   "cell_type": "markdown",
   "id": "98e25594",
   "metadata": {},
   "source": [
    "***\n",
    "## Analyse changes in the aberrations\n",
    "\n",
    "Make plots using telemetry from each component to verify the changes in the DoFs."
   ]
  },
  {
   "cell_type": "markdown",
   "id": "56fbc63b",
   "metadata": {},
   "source": [
    "***\n",
    "## Add and issue corrections\n",
    "\n",
    "Add another 1um of z7 to the system via OFC.\n",
    "Issue corrections right away.\n",
    "Compare the corrections sent vs forces, and position changes applied."
   ]
  },
  {
   "cell_type": "code",
   "execution_count": null,
   "id": "9ac96d8a",
   "metadata": {},
   "outputs": [],
   "source": [
    "script.log.info(f\"{test_case} - {test_exec} - Add extra 1um aberration\")\n",
    "await mtcs.rem.mtaos.cmd_addAberration.set_start(wf=wavefront_errors, timeout=10)\n",
    "\n",
    "script.log.info(f\"{test_case} - {test_exec} - Issue extra 1um aberration\")\n",
    "await mtcs.rem.mtaos.cmd_issueCorrection.start(timeout=60.)"
   ]
  },
  {
   "cell_type": "markdown",
   "id": "90d14c37-f0ce-4b72-9552-59b3a5bb9fb0",
   "metadata": {},
   "source": [
    "---\n",
    "## Reset corrections\n",
    "Reset the corrections using the resetCorrection command.  \n",
    "Issue corrections right away.  \n",
    "Compare the corrections sent vs forces and position changes applied (these are all expected to be zero).  "
   ]
  },
  {
   "cell_type": "code",
   "execution_count": null,
   "id": "26dc2193-7a7e-4e52-bf7e-8a62a3d96866",
   "metadata": {},
   "outputs": [],
   "source": [
    "script.log.info(f\"{test_case} - {test_exec} - Reset corrections\")\n",
    "await mtcs.rem.mtaos.cmd_resetCorrection.start(timeout=60.)\n",
    "\n",
    "script.log.info(f\"{test_case} - {test_exec} - Issue reset corrections\")\n",
    "await mtcs.rem.mtaos.cmd_issueCorrection.start(timeout=60.)"
   ]
  },
  {
   "cell_type": "markdown",
   "id": "32b34689",
   "metadata": {},
   "source": [
    "---\n",
    "## Add 2um aberration to z7\n",
    "\n",
    "Add 2um the z7 coefficient via OFC.  \n",
    "Compare the corrections sent vs forces and position changes applied.  "
   ]
  },
  {
   "cell_type": "code",
   "execution_count": null,
   "id": "1bc5625c",
   "metadata": {},
   "outputs": [],
   "source": [
    "# The wavefront errors input is an array with 19 elements where the first \n",
    "#   element corresponds to z4\n",
    "wavefront_errors = np.zeros(19)\n",
    "\n",
    "# Add1 um to z7\n",
    "wavefront_errors[3] += 2.0 \n",
    "\n",
    "script.log.info(f\"{test_case} - {test_exec} - Add 2um aberration\")\n",
    "await mtcs.rem.mtaos.cmd_addAberration.set_start(wf=wavefront_errors, timeout=10)"
   ]
  },
  {
   "cell_type": "code",
   "execution_count": null,
   "id": "dbd4fd0e",
   "metadata": {},
   "outputs": [],
   "source": [
    "script.log.info(f\"{test_case} - {test_exec} - Issue 2um aberration\")\n",
    "await mtcs.rem.mtaos.cmd_issueCorrection.start(timeout=60.)"
   ]
  },
  {
   "cell_type": "markdown",
   "id": "99a48e19",
   "metadata": {},
   "source": [
    "***\n",
    "## Stop Tracking"
   ]
  },
  {
   "cell_type": "code",
   "execution_count": null,
   "id": "ca763a73",
   "metadata": {},
   "outputs": [],
   "source": [
    "await mtcs.stop_tracking()"
   ]
  },
  {
   "cell_type": "code",
   "execution_count": null,
   "id": "45fda728-c298-42d2-93f8-99bc16f87aa8",
   "metadata": {},
   "outputs": [],
   "source": [
    "await mtcs.reset_m1m3_forces()\n",
    "await mtcs.reset_m2_forces()\n",
    "await mtcs.reset_camera_hexapod_position()\n",
    "await mtcs.reset_m2_hexapod_position()\n",
    "script.log.info(f\"{test_case} - {test_exec} - STOP\")"
   ]
  },
  {
   "cell_type": "markdown",
   "id": "c884702f",
   "metadata": {},
   "source": [
    "***\n",
    "Check that the corrections in step 10 are twice of those in step 7. This step does not currently involve running any commands in this notebook. This step must be verified using a separate noteboook. "
   ]
  },
  {
   "cell_type": "code",
   "execution_count": null,
   "id": "951661e0-974c-4dec-8c68-03b7407f01ed",
   "metadata": {},
   "outputs": [],
   "source": [
    "await mtcs.point_azel(az=0, el=80)\n",
    "await mtcs.stop_tracking()"
   ]
  },
  {
   "cell_type": "markdown",
   "id": "04633353",
   "metadata": {},
   "source": [
    "***\n",
    "Wrap up. Put each component to the following states:\n",
    "mtaos --> standby\n",
    "m1m3 --> lower mirror --> standby\n",
    "m2 --> standby\n",
    "camera hex --> standby\n",
    "m2 hex --> standby"
   ]
  },
  {
   "cell_type": "code",
   "execution_count": null,
   "id": "af21db61",
   "metadata": {},
   "outputs": [],
   "source": [
    "await mtcs.set_state(salobj.State.STANDBY, components=[\"mtaos\"])"
   ]
  },
  {
   "cell_type": "code",
   "execution_count": null,
   "id": "be5221d5",
   "metadata": {},
   "outputs": [],
   "source": [
    "await mtcs.lower_m1m3()"
   ]
  },
  {
   "cell_type": "code",
   "execution_count": null,
   "id": "28caaf13",
   "metadata": {},
   "outputs": [],
   "source": [
    "await mtcs.set_state(salobj.State.STANDBY, components=[\"mtm1m3\"])"
   ]
  },
  {
   "cell_type": "code",
   "execution_count": null,
   "id": "70237ed0",
   "metadata": {},
   "outputs": [],
   "source": [
    "await mtcs.set_state(salobj.State.STANDBY, components=[\"mtm2\"])"
   ]
  },
  {
   "cell_type": "code",
   "execution_count": null,
   "id": "72fe82b1",
   "metadata": {},
   "outputs": [],
   "source": [
    "await mtcs.set_state(salobj.State.STANDBY, components=[\"mthexapod_1\"])"
   ]
  },
  {
   "cell_type": "code",
   "execution_count": null,
   "id": "28860649",
   "metadata": {},
   "outputs": [],
   "source": [
    "await mtcs.set_state(salobj.State.STANDBY, components=[\"mthexapod_2\"])"
   ]
  },
  {
   "cell_type": "code",
   "execution_count": null,
   "id": "b6b36525",
   "metadata": {},
   "outputs": [],
   "source": [
    "await mtcs.standby()"
   ]
  }
 ],
 "metadata": {
  "kernelspec": {
   "display_name": "LSST",
   "language": "python",
   "name": "lsst"
  },
  "language_info": {
   "codemirror_mode": {
    "name": "ipython",
    "version": 3
   },
   "file_extension": ".py",
   "mimetype": "text/x-python",
   "name": "python",
   "nbconvert_exporter": "python",
   "pygments_lexer": "ipython3",
   "version": "3.10.4"
  },
  "toc-autonumbering": false,
  "toc-showcode": false,
  "toc-showmarkdowntxt": false
 },
 "nbformat": 4,
 "nbformat_minor": 5
}
