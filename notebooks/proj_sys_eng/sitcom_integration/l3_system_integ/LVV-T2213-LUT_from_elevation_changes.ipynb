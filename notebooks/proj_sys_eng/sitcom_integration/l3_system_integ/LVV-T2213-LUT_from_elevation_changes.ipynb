{
 "cells": [
  {
   "cell_type": "markdown",
   "metadata": {},
   "source": [
    "# [LVV-T2213] - Look-up Table Application from MTMount Elevation Changes\n",
    "\n",
    "This notebook was originally written by Bo Xin in the [lsst-ts/ts_notebooks] repository.  \n",
    "It is a modified version with updated commands and simplified steps.\n",
    "\n",
    "**Make sure you run this notebook on TTS before running at the summit.**\n",
    "\n",
    "Please, see the [README] file for the requirements to run this notebook.\n",
    "\n",
    "[lsst-ts/ts_notebooks]: https://github.com/lsst-ts/ts_notebooks/blob/develop/bxin/aos2comp/aos2comp.ipynb\n",
    "[LVV-T2213]: https://jira.lsstcorp.org/secure/Tests.jspa#/testCase/LVV-T2213\n",
    "[README]: https://github.com/lsst-sitcom/notebooks_vandv/blob/develop/README.md"
   ]
  },
  {
   "cell_type": "code",
   "execution_count": null,
   "metadata": {},
   "outputs": [],
   "source": [
    "test_execution = \"LVV-EXXXX\" # Updated execution"
   ]
  },
  {
   "cell_type": "code",
   "execution_count": null,
   "metadata": {},
   "outputs": [],
   "source": [
    "%load_ext autoreload\n",
    "%autoreload 2"
   ]
  },
  {
   "cell_type": "code",
   "execution_count": null,
   "metadata": {},
   "outputs": [],
   "source": [
    "from lsst.sitcom import vandv\n",
    "\n",
    "exec_info = vandv.ExecutionInfo()\n",
    "print(exec_info)"
   ]
  },
  {
   "cell_type": "markdown",
   "metadata": {},
   "source": [
    "---\n",
    "## Setup Notebook for Test\n",
    "\n",
    "- Import all libraries\n",
    "- Get the remotes ready"
   ]
  },
  {
   "cell_type": "code",
   "execution_count": null,
   "metadata": {},
   "outputs": [],
   "source": [
    "import asyncio\n",
    "import os\n",
    "import yaml\n",
    "\n",
    "import astropy.units as u\n",
    "import numpy as np\n",
    "\n",
    "from astropy import time \n",
    "from astropy.coordinates import AltAz, ICRS, EarthLocation, Angle, FK5\n",
    "from datetime import datetime, timedelta\n",
    "\n",
    "from lsst.ts import utils, salobj\n",
    "from lsst.ts.observatory.control.maintel.mtcs import MTCS, MTCSUsages\n",
    "from lsst.ts.observatory.control import RotType\n",
    "\n",
    "import lsst.sitcom.vandv as vandv"
   ]
  },
  {
   "cell_type": "code",
   "execution_count": null,
   "metadata": {},
   "outputs": [],
   "source": [
    "print(os.environ[\"OSPL_URI\"])\n",
    "print(os.environ[\"LSST_DDS_PARTITION_PREFIX\"])\n",
    "print(os.environ[\"LSST_DDS_DOMAIN_ID\"])"
   ]
  },
  {
   "cell_type": "code",
   "execution_count": null,
   "metadata": {},
   "outputs": [],
   "source": [
    "logging.basicConfig(format=\"%(name)s:%(message)s\", level=logging.DEBUG)"
   ]
  },
  {
   "cell_type": "code",
   "execution_count": null,
   "metadata": {},
   "outputs": [],
   "source": [
    "log = logging.getLogger(\"setup\")\n",
    "log.level = logging.DEBUG"
   ]
  },
  {
   "cell_type": "code",
   "execution_count": null,
   "metadata": {},
   "outputs": [],
   "source": [
    "domain = salobj.Domain()"
   ]
  },
  {
   "cell_type": "code",
   "execution_count": null,
   "metadata": {},
   "outputs": [],
   "source": [
    "mtcs = MTCS(domain=domain, log=log)\n",
    "mtcs.set_rem_loglevel(40)"
   ]
  },
  {
   "cell_type": "code",
   "execution_count": null,
   "metadata": {},
   "outputs": [],
   "source": [
    "await mtcs.start_task"
   ]
  },
  {
   "cell_type": "markdown",
   "metadata": {},
   "source": [
    "## (Not) Switching Components from Hardware to Simulator\n",
    "\n",
    "We actually found out that `mtmount-sim` is publishing wrong elevation values.  \n",
    "This causes M1M3 and M2 to go to a FAULT state because the angle between the inclinometer and the mount elevation is too large. \n",
    "Because of that, we are running this test using only `mtm2hex-sim` as a simulator.  \n",
    "Everything else is running using hardware."
   ]
  },
  {
   "cell_type": "markdown",
   "metadata": {},
   "source": [
    "## Start all the components, and put them in an enabled state.\n",
    "\n",
    "Depending on which test cycle this is being executed in, each component is either a hardware component or a simulator:\n",
    "\n",
    "- [ ] M1M3\n",
    "- [ ] M2 \n",
    "- [ ] M2 Hexapod\n",
    "- [ ] Camera Hexapod\n",
    "- [ ] MTMount\n",
    "\n",
    "The best/simplest way of doing this is running the notebook that executes the [LVV-T2344] test case.  \n",
    "This notebook puts all the components in a ENABLED state.\n",
    "\n",
    "[LVV-T2344]: https://github.com/lsst-sitcom/notebooks_vandv/blob/develop/notebooks/proj_sys_eng/sitcom_integration/l3_system_integ/LVV-T2344-Startup_mt_on_level3.ipynb"
   ]
  },
  {
   "cell_type": "code",
   "execution_count": null,
   "metadata": {},
   "outputs": [],
   "source": [
    "# Verify that all the components have heartbeats\n",
    "await mtcs.assert_liveliness()"
   ]
  },
  {
   "cell_type": "code",
   "execution_count": null,
   "metadata": {},
   "outputs": [],
   "source": [
    "# Verify that all the components are enabled\n",
    "await mtcs.assert_all_enabled()"
   ]
  },
  {
   "cell_type": "markdown",
   "metadata": {},
   "source": [
    "---\n",
    "## Move mtmount to Zenith\n",
    "\n",
    "Command the mount to elevation = 90, azimuth = 0, so that we can start m1m3 with LUT in mount telemetry mode)."
   ]
  },
  {
   "cell_type": "code",
   "execution_count": null,
   "metadata": {},
   "outputs": [],
   "source": [
    "await mtcs.stop_tracking()"
   ]
  },
  {
   "cell_type": "code",
   "execution_count": null,
   "metadata": {},
   "outputs": [],
   "source": [
    "# We are running this command because we do not want to track\n",
    "await mtcs.rem.mtmount.cmd_moveToTarget.set_start(azimuth=0, elevation=90)"
   ]
  },
  {
   "cell_type": "markdown",
   "metadata": {},
   "source": [
    "---\n",
    "## Get M1M3 Ready\n",
    "\n",
    "### M1M3 LUT use mount telemetry\n",
    "\n",
    "<p style=\"color: firebrick\"><b> When M1M3 LUT is using the mount to get the elevation, avoid changes greater than 1 deg per command and avoid going lower than 82.5 deg </b></p>\n",
    "\n",
    "1) Lower the mirror\n",
    "2) Put M1M3 into the OFFLINE state\n",
    "3) Access the m1m3-crio machine via SSH\n",
    "4) Change the UseInclinometer parameter in the file below from True to False\n",
    "   `/var/lib/ts-M1M3support/Sets/Default/1/ForceActuatorSettings.yaml`\n",
    "5) Start M1M3 back again"
   ]
  },
  {
   "cell_type": "code",
   "execution_count": null,
   "metadata": {},
   "outputs": [],
   "source": [
    "# If M1M3 is raised, make sure you lower it before setting the EUI/CSC to OFFLINE \n",
    "await mtcs.lower_m1m3()"
   ]
  },
  {
   "cell_type": "code",
   "execution_count": null,
   "metadata": {},
   "outputs": [],
   "source": [
    "# If M1M3 was enabled before, disabled it first and enabled again to start fresh\n",
    "await mtcs.set_state(salobj.State.OFFLINE, components=[\"mtm1m3\"])"
   ]
  },
  {
   "cell_type": "markdown",
   "metadata": {},
   "source": [
    "Access the `m1m3-crio` machine and edit the configuration file mentioned above to have M1M3 using the Mount Elevation instead of the Inclinometer. Restart the M1M3 CSC."
   ]
  },
  {
   "cell_type": "code",
   "execution_count": null,
   "metadata": {},
   "outputs": [],
   "source": [
    "# If M1M3 was enabled before, disabled it first and enabled again to start fresh\n",
    "await mtcs.set_state(\n",
    "    salobj.State.ENABLED, \n",
    "    components=[\"mtm1m3\"],\n",
    "    overrides=dict(mtm1m3=\"Default\"),\n",
    ")"
   ]
  },
  {
   "cell_type": "code",
   "execution_count": null,
   "metadata": {},
   "outputs": [],
   "source": [
    "# Use this command to raise M1M3\n",
    "await mtcs.raise_m1m3()"
   ]
  },
  {
   "cell_type": "code",
   "execution_count": null,
   "metadata": {},
   "outputs": [],
   "source": [
    "# Enables M1M3 Force Balance system using the hardpoints\n",
    "await mtcs.enable_m1m3_balance_system()"
   ]
  },
  {
   "cell_type": "code",
   "execution_count": null,
   "metadata": {},
   "outputs": [],
   "source": [
    "# Resets the Aberration Forces and the Active Optics Forces\n",
    "await mtcs.reset_m1m3_forces()"
   ]
  },
  {
   "cell_type": "markdown",
   "metadata": {},
   "source": [
    "## Get M2 Ready\n",
    "\n",
    "- Need to have M2 LUT use mount telemetry - See [Use of M2 EUI on Summit]\n",
    "- Turn on Force Balance system\n",
    "- Clear forces\n",
    "\n",
    "[Use of M2 EUI on Summit]: https://confluence.lsstcorp.org/display/LTS/Use+of+M2+EUI+on+Summit"
   ]
  },
  {
   "cell_type": "code",
   "execution_count": null,
   "metadata": {},
   "outputs": [],
   "source": [
    "# Disable and Enable M2 so we can assure to start fresh\n",
    "await mtcs.set_state(salobj.State.STANDBY, components=[\"mtm2\"])\n",
    "await mtcs.set_state(salobj.State.ENABLED, components=[\"mtm2\"])"
   ]
  },
  {
   "cell_type": "code",
   "execution_count": null,
   "metadata": {
    "tags": []
   },
   "outputs": [],
   "source": [
    "# Enabled M2 Force Balance system \n",
    "await mtcs.enable_m2_balance_system()"
   ]
  },
  {
   "cell_type": "code",
   "execution_count": null,
   "metadata": {},
   "outputs": [],
   "source": [
    "# Resets the Active Optics Forces\n",
    "await mtcs.reset_m2_forces()"
   ]
  },
  {
   "cell_type": "markdown",
   "metadata": {},
   "source": [
    "## Get CamHex Ready\n",
    "- Check config \n",
    "- Make sure LUT is on, and has valid inputs\n",
    "- Make sure hex is at LUT position"
   ]
  },
  {
   "cell_type": "code",
   "execution_count": null,
   "metadata": {},
   "outputs": [],
   "source": [
    "# Disable and Enable CamHex so we can assure to start fresh\n",
    "await mtcs.set_state(salobj.State.DISABLED, components=[\"mthexapod_1\"])\n",
    "await mtcs.set_state(salobj.State.ENABLED, components=[\"mthexapod_1\"])"
   ]
  },
  {
   "cell_type": "code",
   "execution_count": null,
   "metadata": {},
   "outputs": [],
   "source": [
    "# Check the configuration\n",
    "await vandv.hexapod.get_hexapod_configuration(mtcs.rem.mthexapod_1)"
   ]
  },
  {
   "cell_type": "code",
   "execution_count": null,
   "metadata": {},
   "outputs": [],
   "source": [
    "# Enable compensation mode for CamHex\n",
    "await mtcs.enable_compensation_mode(\"mthexapod_1\")"
   ]
  },
  {
   "cell_type": "code",
   "execution_count": null,
   "metadata": {},
   "outputs": [],
   "source": [
    "# Reset the Camera Hexapod position\n",
    "await mtcs.reset_camera_hexapod_position()"
   ]
  },
  {
   "cell_type": "code",
   "execution_count": null,
   "metadata": {},
   "outputs": [],
   "source": [
    "# After resetting the Camera Hexapod position, we want to make sure that \n",
    "# the compensation and non-compensation values are the same.\n",
    "await vandv.hexapod.print_hexapod_uncompensation_values(mtcs.rem.mthexapod_1)\n",
    "await vandv.hexapod.print_hexapod_compensation_values(mtcs.rem.mthexapod_1)"
   ]
  },
  {
   "cell_type": "code",
   "execution_count": null,
   "metadata": {},
   "outputs": [],
   "source": [
    "# Need to have CamHex LUT use mount telemetry\n",
    "await vandv.hexapod.check_hexapod_lut(mtcs.rem.mthexapod_1)"
   ]
  },
  {
   "cell_type": "markdown",
   "metadata": {},
   "source": [
    "## Get M2Hex Ready\n",
    "\n",
    "- Check config \n",
    "- Make sure LUT is on, and has valid inputs\n",
    "- Make sure M2Hex is at LUT position"
   ]
  },
  {
   "cell_type": "code",
   "execution_count": null,
   "metadata": {},
   "outputs": [],
   "source": [
    "# Check the configuration\n",
    "await vandv.hexapod.get_hexapod_configuration(mtcs.rem.mthexapod_2)"
   ]
  },
  {
   "cell_type": "code",
   "execution_count": null,
   "metadata": {},
   "outputs": [],
   "source": [
    "# Enable compensation mode for M2Hex\n",
    "await mtcs.enable_compensation_mode(\"mthexapod_2\")"
   ]
  },
  {
   "cell_type": "code",
   "execution_count": null,
   "metadata": {},
   "outputs": [],
   "source": [
    "# Reset the M2 Hexapod position\n",
    "await mtcs.reset_m2_hexapod_position()"
   ]
  },
  {
   "cell_type": "code",
   "execution_count": null,
   "metadata": {},
   "outputs": [],
   "source": [
    "# After resetting the Camera Hexapod position, we want to make sure that \n",
    "# the compesation and non-compensation values are the same.\n",
    "await vandv.hexapod.print_hexapod_uncompensation_values(mtcs.rem.mthexapod_2)\n",
    "await vandv.hexapod.print_hexapod_compensation_values(mtcs.rem.mthexapod_2)"
   ]
  },
  {
   "cell_type": "code",
   "execution_count": null,
   "metadata": {},
   "outputs": [],
   "source": [
    "# Need to have CamHex LUT use mount telemetry\n",
    "await vandv.hexapod.check_hexapod_lut(mtcs.rem.mthexapod_1)"
   ]
  },
  {
   "cell_type": "markdown",
   "metadata": {},
   "source": [
    "## Gather Data - Without AO\n",
    "\n",
    "  * command the mount to elevation =86 deg, azimuth = 0\n",
    "  * wait 39s\n",
    "  * command the mount to elevation = 82 deg, azimuth = 0."
   ]
  },
  {
   "cell_type": "code",
   "execution_count": null,
   "metadata": {},
   "outputs": [],
   "source": [
    "# Set this to True when you actually want to run this test\n",
    "t_start = time.Time.now()\n",
    "t_start.format = \"isot\"\n",
    "print(f\"Gathering data - without AO - Start time: {t_start.utc}\")"
   ]
  },
  {
   "cell_type": "code",
   "execution_count": null,
   "metadata": {},
   "outputs": [],
   "source": [
    "# await asyncio.sleep(39.)"
   ]
  },
  {
   "cell_type": "code",
   "execution_count": null,
   "metadata": {},
   "outputs": [],
   "source": [
    "await mtcs.rem.mtmount.cmd_moveToTarget.set_start(azimuth=0., elevation=89.5)"
   ]
  },
  {
   "cell_type": "code",
   "execution_count": null,
   "metadata": {},
   "outputs": [],
   "source": [
    "await mtcs.rem.mtmount.cmd_moveToTarget.set_start(azimuth=0., elevation=89.)"
   ]
  },
  {
   "cell_type": "code",
   "execution_count": null,
   "metadata": {},
   "outputs": [],
   "source": [
    "time_sleep = 1.\n",
    "step_size = 0.25\n",
    "\n",
    "# Safely slew from 90. to 86.5 so M1M3 and M2 do not go to a fault\n",
    "for el in np.arange(90., 86.4, -step_size):\n",
    "    print(f\"Moving elevation to {el:.2f} deg\")\n",
    "    await mtcs.rem.mtmount.cmd_moveToTarget.set_start(azimuth=0., elevation=el)\n",
    "    await asyncio.sleep(time_sleep)"
   ]
  },
  {
   "cell_type": "code",
   "execution_count": null,
   "metadata": {},
   "outputs": [],
   "source": [
    "# Slew to 86 deg\n",
    "await mtcs.rem.mtmount.cmd_moveToTarget.set_start(azimuth=0., elevation=86.)\n",
    "\n",
    "# Check that we are actually tracking\n",
    "mountStatus = await mount.evt_axesInPosition.aget(timeout=5.)\n",
    "rotStatus = await rot.evt_inPosition.aget(timeout=5.)\n",
    "trackingStatus = mountStatus.elevation and mountStatus.azimuth and rotStatus.inPosition\n",
    "print('Are we tracking?', trackingStatus)\n",
    "\n",
    "await asyncio.sleep(39.)\n",
    "\n",
    "await vandv.m1m3.plotM1M3Forces(mtcs.rem.mtm1m3)\n",
    "\n",
    "axialForces = await mtcs.rem.mtm2.tel_axialForce.aget(timeout=2)\n",
    "tangentForces = await mtcs.rem.mtm2.tel_tangentForce.aget(timeout=2)\n",
    "vandv.m2.plotM2Forces(axialForces, tangentForces)\n",
    "\n",
    "a = mtcs.rem.mthexapod_1.evt_compensationOffset.get()\n",
    "elevCoeff, tCoeff = vandv.hexapod.coeffs_from_lut(index=1)\n",
    "elev = a.elevation\n",
    "\n",
    "await vandv.hexapod.print_hexapod_position(mtcs.rem.mthexapod_1)    \n",
    "await vandv.hexapod.print_predicted_compensation(elevCoeff, elev)\n",
    "await vandv.hexapod.print_hexapod_uncompensation_values(mtcs.rem.mthexapod_1)\n",
    "await vandv.hexapod.print_hexapod_compensation_values(mtcs.rem.mthexapod_1)\n",
    "\n",
    "a = mtcs.rem.mthexapod_1.evt_compensationOffset.get()\n",
    "elevCoeff, tCoeff = vandv.hexapod.coeffs_from_lut(index=2)\n",
    "elev = a.elevation\n",
    "\n",
    "await vandv.hexapod.print_hexapod_uncompensation_values(mtcs.rem.mthexapod_2)\n",
    "await vandv.hexapod.print_predicted_compensation(elevCoeff, elev)\n",
    "await vandv.hexapod.print_hexapod_position(mtcs.rem.mthexapod_2)    \n",
    "await vandv.hexapod.print_hexapod_compensation_values(mtcs.rem.mthexapod_2)"
   ]
  },
  {
   "cell_type": "code",
   "execution_count": null,
   "metadata": {},
   "outputs": [],
   "source": [
    "# Safely slew from 86. to 83. so M1M3 and M2 do not go to a fault\n",
    "for el in [85., 84.]:\n",
    "    await mtcs.point_azel(az=0, el=el)\n",
    "    await asyncio.sleep(1)\n",
    "\n",
    "# Slew to 83 deg\n",
    "await mtcs.point_azel(az=0, el=83)\n",
    "await asyncio.sleep(39.)\n",
    "\n",
    "t_end = time.Time.now()\n",
    "t_end.format = \"isot\"\n",
    "print(f\"Gathering data - without AO - End time: {t_end.utc}\")\n",
    "\n",
    "await mtcs.stop_tracking()"
   ]
  },
  {
   "cell_type": "markdown",
   "metadata": {},
   "source": [
    "## Plot Data"
   ]
  },
  {
   "cell_type": "code",
   "execution_count": null,
   "metadata": {},
   "outputs": [],
   "source": [
    "# t_start = \"2022-06-06T16:33:47.387\"\n",
    "# t_start = time.Time(t_start, format=\"isot\", scale=\"tai\")\n",
    "\n",
    "# t_end = \"2022-06-06T16:36:25.569\"\n",
    "# t_end = time.Time(t_end, format=\"isot\", scale=\"tai\")"
   ]
  },
  {
   "cell_type": "markdown",
   "metadata": {},
   "source": [
    "## Plot Optics vs Time\n",
    "\n",
    "Plot the following as a function of time during the above process:\n",
    "\n",
    "- mount elevation\n",
    "- m1m3 actuator 101 z force\n",
    "- m2 actuator B1 force\n",
    "- camera hex y position\n",
    "- m2 hex y position"
   ]
  },
  {
   "cell_type": "code",
   "execution_count": null,
   "metadata": {},
   "outputs": [],
   "source": [
    "t_start.utc"
   ]
  },
  {
   "cell_type": "code",
   "execution_count": null,
   "metadata": {},
   "outputs": [],
   "source": [
    "df = await get_data_from_efd(\n",
    "    exec_info.loc, \n",
    "    t_start, \n",
    "    t_end)"
   ]
  },
  {
   "cell_type": "code",
   "execution_count": null,
   "metadata": {},
   "outputs": [],
   "source": [
    "df[\"elevation\"].dropna()"
   ]
  },
  {
   "cell_type": "code",
   "execution_count": null,
   "metadata": {},
   "outputs": [],
   "source": []
  },
  {
   "cell_type": "code",
   "execution_count": null,
   "metadata": {},
   "outputs": [],
   "source": [
    "fig, axs = plt.subplots(figsize=(10, 10), nrows=3, sharex=True)\n",
    "\n",
    "axs[0].plot(df[\"elevation\"].dropna(), \"k\", label=\"Mount Elevation\")\n",
    "axs[0].set_ylabel(\"Mount El\\n[deg]\")\n",
    "\n",
    "axs[1].plot(df[\"mtm2.axialForce.applied0\"].dropna(), \"C1^-\", label=\"applied\")\n",
    "axs[1].plot(df[\"mtm2.axialForce.lutGravity0\"].dropna(), \"C2v-\", label=\"Gravity LUT\")\n",
    "axs[1].set_ylabel(\"M2 Forces\\n[--]\")\n",
    "\n",
    "axs[2].plot(df[\"mthexapod_1.application.position1\"].dropna(), \"C3x-\", label=\"CamHex Y\")\n",
    "axs[2].plot(df[\"mthexapod_2.application.position1\"].dropna(), \"C4+-\", label=\"M2Hex Y\")\n",
    "axs[2].set_ylabel(\"Hexapod Position\\n[um]\")\n",
    "\n",
    "for ax in axs:\n",
    "    ax.grid(\":\", alpha=0.5)\n",
    "    ax.legend()\n",
    "\n",
    "fig.suptitle(f\"{test_execution} - M1M3/M2/Hexs/Elevation vs Time\")\n",
    "fig.tight_layout(h_pad=0.3)\n",
    "fig.patch.set_facecolor('white')   \n",
    "\n",
    "fig.savefig(f\"plots/{test_execution}_m1m3_m2_hexs_el_vs_time.png\")\n",
    "plt.show()"
   ]
  },
  {
   "cell_type": "code",
   "execution_count": null,
   "metadata": {},
   "outputs": [],
   "source": [
    "vandv.m1m3.plot_m1m3_and_elevation(df)a"
   ]
  },
  {
   "cell_type": "code",
   "execution_count": null,
   "metadata": {},
   "outputs": [],
   "source": [
    "client = EfdClient(\"summit_efd\")\n",
    "\n",
    "dfm = await client.select_time_series('lsst.sal.MTMount.elevation', '*', t_start, t_end, 1)\n",
    "dfm1m3 = await client.select_time_series('lsst.sal.MTM1M3.logevent_appliedElevationForces', '*', t_start, t_end, 1)\n",
    "dfm2 = await client.select_time_series('lsst.sal.MTM2.axialForce', '*', t_start, t_end, 1)\n",
    "dfh = await client.select_time_series('lsst.sal.MTHexapod.application', '*', t_start, t_end, 1)\n",
    "\n",
    "idx1=dfh.MTHexapodID==1\n",
    "dfh1 = dfh[idx1]\n",
    "idx2=dfh.MTHexapodID==2\n",
    "dfh2 = dfh[idx2]\n",
    "\n",
    "fig, ax = plt.subplots(1,1, figsize=(15,4))\n",
    "plt.plot(dfm.actualPosition, '--', label='mount elevation')\n",
    "# plt.plot(dfm1m3.yForces0, label='M1M3 elevation y-force 101')\n",
    "# plt.plot(dfm2.lutGravity0, label='M2 elevation force B1')\n",
    "# plt.plot(dfh1.position1, label='Camera hexapod y')\n",
    "# plt.plot(dfh2.position1, label='M2 hexapod y')\n",
    "plt.grid()\n",
    "plt.legend()"
   ]
  },
  {
   "cell_type": "markdown",
   "metadata": {},
   "source": [
    "## M1M3 Elevation Forces vs LUT\n",
    "\n",
    "Check the M1M3 elevation forces match what we expect from the implemented LUT."
   ]
  },
  {
   "cell_type": "code",
   "execution_count": null,
   "metadata": {},
   "outputs": [],
   "source": [
    "elevation = await mtcs.rem.mtmount.tel_elevation.aget(timeout=10.)\n",
    "print(elevation, \"\\n\")"
   ]
  },
  {
   "cell_type": "markdown",
   "metadata": {},
   "source": [
    "The look-up table for X has basically zeroes.  \n",
    "At least for now.  \n",
    "So it does not make much sense evaluating it now.\n",
    "\n",
    "The lut for Y has non-zeroes and zeroes values.  \n",
    "in order to compare, we can drop the zeroes components.\n",
    "\n",
    "For z, we are good. We can perform a direct comparison."
   ]
  },
  {
   "cell_type": "code",
   "execution_count": null,
   "metadata": {},
   "outputs": [],
   "source": [
    "lut_el_xforces = vandv.m1m3.lut_elevation_xforces(elevation.actualPosition)\n",
    "lut_el_yforces = vandv.m1m3.lut_elevation_yforces(elevation.actualPosition)\n",
    "lut_el_zforces = vandv.m1m3.lut_elevation_zforces(elevation.actualPosition)"
   ]
  },
  {
   "cell_type": "code",
   "execution_count": null,
   "metadata": {},
   "outputs": [],
   "source": [
    "fel = await mtcs.rem.mtm1m3.evt_appliedElevationForces.aget(timeout=10.)"
   ]
  },
  {
   "cell_type": "code",
   "execution_count": null,
   "metadata": {},
   "outputs": [],
   "source": [
    "fig, ax = plt.subplots(figsize=(15, 3))\n",
    "\n",
    "ax.plot(fel.xForces, \"C0^-\", label=\"Applied\")\n",
    "ax.set_ylabel(\"Elevation xForces [??]\")\n",
    "ax.grid(\":\", alpha=0.2)\n",
    "ax.legend()\n",
    "\n",
    "fig.suptitle(f\"{test_execution} - M1M3 Elevation Forces\")\n",
    "fig.tight_layout(h_pad=0.3)\n",
    "fig.patch.set_facecolor('white')   \n",
    "\n",
    "fig.savefig(f\"plots/{test_execution}_m1m3_fel_xForces.png\")\n",
    "plt.show()"
   ]
  },
  {
   "cell_type": "code",
   "execution_count": null,
   "metadata": {},
   "outputs": [],
   "source": [
    "fig, axs = plt.subplots(figsize=(15, 6), nrows=2, sharex=True)\n",
    "\n",
    "axs[0].plot(fel.yForces, \"C0^-\", label=\"Applied\")\n",
    "axs[0].plot(lut_el_yforces[lut_el_yforces != 0], \"C1v-\", label=\"LUT\")\n",
    "axs[0].set_ylabel(\"Elevation yForces [??]\")\n",
    "axs[0].grid(\":\", alpha=0.2)\n",
    "axs[0].legend()\n",
    "\n",
    "axs[1].plot(fel.yForces - lut_el_yforces[lut_el_yforces != 0], label=\"Applied - LUT forces\")\n",
    "axs[1].set_ylabel(\"Elefation yForces \\n difference [??]\")\n",
    "axs[1].grid(\":\", alpha=0.2)\n",
    "\n",
    "fig.suptitle(f\"{test_execution} - M1M3 Elevation yForces\")\n",
    "fig.tight_layout(h_pad=0.3)\n",
    "fig.patch.set_facecolor('white')   \n",
    "\n",
    "fig.savefig(f\"plots/{test_execution}_m1m3_fel_yForces.png\")\n",
    "plt.show()"
   ]
  },
  {
   "cell_type": "code",
   "execution_count": null,
   "metadata": {},
   "outputs": [],
   "source": [
    "fig, axs = plt.subplots(figsize=(15, 6), nrows=2, sharex=True)\n",
    "\n",
    "axs[0].plot(fel.zForces, \"C0^-\", label=\"Applied\")\n",
    "axs[0].plot(lut_el_zforces, \"C1v-\", label=\"LUT\")\n",
    "axs[0].set_ylabel(\"Elevation zForces [??]\")\n",
    "axs[0].grid(\":\", alpha=0.2)\n",
    "axs[0].legend()\n",
    "\n",
    "axs[1].plot(fel.zForces - lut_el_zforces, label=\"Applied - LUT forces\")\n",
    "axs[1].set_ylabel(\"Elefation zForces \\n difference [??]\")\n",
    "axs[1].grid(\":\", alpha=0.2)\n",
    "\n",
    "fig.suptitle(f\"{test_execution} - M1M3 Elevation zForces\")\n",
    "fig.tight_layout(h_pad=0.3)\n",
    "fig.patch.set_facecolor('white')   \n",
    "\n",
    "fig.savefig(f\"plots/{test_execution}_m1m3_fel_zForces.png\")\n",
    "plt.show()"
   ]
  },
  {
   "cell_type": "markdown",
   "metadata": {},
   "source": [
    "The following plots are extracted from Bo's Notebooks.  \n",
    "The originals are in [lsst-ts/ts_notebooks/bxin/ptg2m1m3].\n",
    "\n",
    "[lsst-ts/ts_notebooks/bxin/ptg2m1m3]: https://github.com/lsst-ts/ts_notebooks/blob/develop/bxin/ptg2m1m3/m1m3_diagnostic.ipynb"
   ]
  },
  {
   "cell_type": "markdown",
   "metadata": {},
   "source": [
    "## M2 Elevation Forces vs LUT\n",
    "\n",
    "Check the M2 elevation forces match what we expect from the implemented LUT."
   ]
  },
  {
   "cell_type": "code",
   "execution_count": null,
   "metadata": {},
   "outputs": [],
   "source": [
    "vandv.m2.plot_m2_actuators()"
   ]
  },
  {
   "cell_type": "code",
   "execution_count": null,
   "metadata": {},
   "outputs": [],
   "source": [
    "axialForces = await mtcs.rem.mtm2.tel_axialForce.aget(timeout=2)\n",
    "tangentForces = await mtcs.rem.mtm2.tel_tangentForce.aget(timeout=2)"
   ]
  },
  {
   "cell_type": "code",
   "execution_count": null,
   "metadata": {},
   "outputs": [],
   "source": [
    "vandv.m2.plotM2Forces(axialForces, tangentForces)"
   ]
  },
  {
   "cell_type": "markdown",
   "metadata": {},
   "source": [
    "## CamHex Vs LUT\n",
    "\n",
    "Check the camera hexapod LUT compensations match what we expect from the implemented LUT"
   ]
  },
  {
   "cell_type": "code",
   "execution_count": null,
   "metadata": {},
   "outputs": [],
   "source": [
    "a = mtcs.rem.mthexapod_1.evt_compensationOffset.get()\n",
    "elevCoeff, tCoeff = vandv.hexapod.coeffs_from_lut(index=1)\n",
    "elev = a.elevation\n",
    "\n",
    "await vandv.hexapod.print_hexapod_position(mtcs.rem.mthexapod_1)    \n",
    "await vandv.hexapod.print_predicted_compensation(elevCoeff, elev)\n",
    "await vandv.hexapod.print_hexapod_uncompensation_values(mtcs.rem.mthexapod_1)\n",
    "await vandv.hexapod.print_hexapod_compensation_values(mtcs.rem.mthexapod_1)"
   ]
  },
  {
   "cell_type": "markdown",
   "metadata": {},
   "source": [
    "## M2Hex vs LUT"
   ]
  },
  {
   "cell_type": "code",
   "execution_count": null,
   "metadata": {},
   "outputs": [],
   "source": [
    "a = mtcs.rem.mthexapod_1.evt_compensationOffset.get()\n",
    "elevCoeff, tCoeff = vandv.hexapod.coeffs_from_lut(index=2)\n",
    "elev = a.elevation\n",
    "\n",
    "await vandv.hexapod.print_hexapod_uncompensation_values(mtcs.rem.mthexapod_2)\n",
    "await vandv.hexapod.print_predicted_compensation(elevCoeff, elev)\n",
    "await vandv.hexapod.print_hexapod_position(mtcs.rem.mthexapod_2)    \n",
    "await vandv.hexapod.print_hexapod_compensation_values(mtcs.rem.mthexapod_2)"
   ]
  },
  {
   "cell_type": "markdown",
   "metadata": {},
   "source": [
    "### Close up"
   ]
  },
  {
   "cell_type": "code",
   "execution_count": null,
   "metadata": {},
   "outputs": [],
   "source": [
    "# Put the telescope back to the original position\n",
    "# Specially if running at TTS\n",
    "target = mtcs.radec_from_azel(az=0, el=80)\n",
    "\n",
    "await mtcs.slew_icrs(ra=target.ra, dec=target.dec, rot_type=RotType.Physical, rot=0)\n",
    "await mtcs.stop_tracking()"
   ]
  },
  {
   "cell_type": "code",
   "execution_count": null,
   "metadata": {},
   "outputs": [],
   "source": [
    "await mtcs.set_state(state=salobj.State.STANDBY, components=[\"mtaos\"])"
   ]
  },
  {
   "cell_type": "code",
   "execution_count": null,
   "metadata": {},
   "outputs": [],
   "source": [
    "await mtcs.lower_m1m3()"
   ]
  },
  {
   "cell_type": "code",
   "execution_count": null,
   "metadata": {},
   "outputs": [],
   "source": [
    "await mtcs.set_state(state=salobj.State.STANDBY, components=[\"mtm1m3\"])"
   ]
  },
  {
   "cell_type": "code",
   "execution_count": null,
   "metadata": {},
   "outputs": [],
   "source": [
    "await mtcs.set_state(state=salobj.State.STANDBY, components=[\"mtm2\"])"
   ]
  },
  {
   "cell_type": "code",
   "execution_count": null,
   "metadata": {},
   "outputs": [],
   "source": [
    "await mtcs.set_state(state=salobj.State.STANDBY, components=[\"mthexapod_1\"])"
   ]
  },
  {
   "cell_type": "code",
   "execution_count": null,
   "metadata": {},
   "outputs": [],
   "source": [
    "await mtcs.set_state(state=salobj.State.STANDBY, components=[\"mthexapod_2\"])"
   ]
  },
  {
   "cell_type": "code",
   "execution_count": null,
   "metadata": {},
   "outputs": [],
   "source": [
    "if exec_info.loc == \"summit\":\n",
    "    await mtcs.standby()\n",
    "\n",
    "else:\n",
    "    # Bring the system back to the original state\n",
    "    await mtcs.set_state(\n",
    "        state=salobj.State.ENABLED,\n",
    "        components=[\n",
    "            \"mtm1m3\", \n",
    "            \"mtm2\",\n",
    "            \"mthexapod_1\",\n",
    "            \"mthexapod_2\",\n",
    "            \"mtaos\",\n",
    "        ],\n",
    "        overrides={\n",
    "            \"mtm1m3\": \"Default\"\n",
    "        }\n",
    "    )"
   ]
  },
  {
   "cell_type": "markdown",
   "metadata": {},
   "source": [
    "## Wrap Up"
   ]
  },
  {
   "cell_type": "code",
   "execution_count": null,
   "metadata": {},
   "outputs": [],
   "source": [
    "await mtcs.lower_m1m3()"
   ]
  },
  {
   "cell_type": "code",
   "execution_count": null,
   "metadata": {
    "tags": []
   },
   "outputs": [],
   "source": [
    "await mtcs.set_state(state=salobj.State.STANDBY, components=[\"mtm1m3\", \"mtm2\", \"mthexapod_1\", \"mthexapod_2\"])"
   ]
  },
  {
   "cell_type": "code",
   "execution_count": null,
   "metadata": {},
   "outputs": [],
   "source": [
    "await mtcs.set_state(state=salobj.State.ENABLED, components=[\"mtm2\", \"mthexapod_1\", \"mthexapod_2\"])"
   ]
  }
 ],
 "metadata": {
  "kernelspec": {
   "display_name": "LSST",
   "language": "python",
   "name": "lsst"
  },
  "language_info": {
   "codemirror_mode": {
    "name": "ipython",
    "version": 3
   },
   "file_extension": ".py",
   "mimetype": "text/x-python",
   "name": "python",
   "nbconvert_exporter": "python",
   "pygments_lexer": "ipython3",
   "version": "3.10.4"
  },
  "toc-showmarkdowntxt": false
 },
 "nbformat": 4,
 "nbformat_minor": 4
}
