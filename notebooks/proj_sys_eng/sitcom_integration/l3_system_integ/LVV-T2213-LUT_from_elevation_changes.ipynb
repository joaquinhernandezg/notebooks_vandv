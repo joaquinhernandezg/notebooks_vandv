{
 "cells": [
  {
   "cell_type": "markdown",
   "metadata": {},
   "source": [
    "# [LVV-T2213] - Look-up Table Application from MTMount Elevation Changes\n",
    "\n",
    "This notebook was originally written by Bo Xin in the [lsst-ts/ts_notebooks] repository.  \n",
    "It is a modified version with updated commands and simplified steps.\n",
    "\n",
    "**Make sure you run this notebook on TTS before running at the summit.**\n",
    "\n",
    "[lsst-ts/ts_notebooks]: https://github.com/lsst-ts/ts_notebooks/blob/develop/bxin/aos2comp/aos2comp.ipynb\n",
    "[LVV-T2213]: https://jira.lsstcorp.org/secure/Tests.jspa#/testCase/LVV-T2213"
   ]
  },
  {
   "cell_type": "markdown",
   "metadata": {},
   "source": [
    "## Requirements\n",
    "\n",
    "This notebooks require some extra repositories to be installed locally so it can grab some constants and some look-up tables.  \n",
    "Here is a list of which repos are required to run this notebook:\n",
    "\n",
    "* [lsst-ts/ts_cRIOpy]\n",
    "* [lsst-ts/ts_m1m3support]\n",
    "* [lsst-ts/ts_config_mttcs]\n",
    "* [lsst-sitcom/M2_FEA]\n",
    "\n",
    "[lsst-ts/ts_cRIOpy]: https://github.com/lsst-ts/ts_cRIOpy \n",
    "[lsst-ts/ts_m1m3support]: https://github.com/lsst-ts/ts_m1m3support\n",
    "[lsst-ts/ts_config_mttcs]: https://github.com/lsst-ts/ts_config_mttcs\n",
    "[lsst-sitcom/M2_FEA]: https://github.com/lsst-sitcom/M2_FEA\n",
    "\n",
    "Since every user has a different setup, the paths might be slightly different. It is recommended to have all the repositories cloned under `$HOME/notebooks`. You might end up with many repositories and adding an extra folder with the name of the organization they belong might help to find them on GitHub later. For example, this repository would be located in `$HOME/notebooks/lsst-sitcom/notebooks_vandv`.  The paths below consider this directory structure but, of course, you are free to organize your folders as you please.\n",
    "\n",
    "In order to have the required repositories available, open a terminal and run the following commands:\n",
    "\n",
    "```\n",
    "git clone https://github.com/lsst-ts/ts_cRIOpy $HOME/notebooks/lsst-ts/ts_cRIOpy\n",
    "git clone https://github.com/lsst-ts/ts_m1m3support.git $HOME/notebooks/lsst-ts/ts_m1m3support\n",
    "git clone https://github.com/lsst-ts/ts_config_mttcs $HOME/notebooks/lsst-ts/ts_config_mttcs\n",
    "git clone https://github.com/lsst-sitcom/M2_FEA $HOME/notebooks/lsst-sitcom/M2_FEA\n",
    "```\n",
    "\n",
    "And add these lines to your `$HOME/notebooks/.user_setup` file: \n",
    "\n",
    "```\n",
    "export LSST_DDS_DOMAIN_ID=0\n",
    "setup -j notebooks_vandv -r $HOME/notebooks/lsst-sitcom/notebooks_vandv\n",
    "setup -j ts_cRIOpy -r $HOME/notebooks/lsst-ts/ts_cRIOpy\n",
    "```"
   ]
  },
  {
   "cell_type": "code",
   "execution_count": null,
   "metadata": {},
   "outputs": [],
   "source": [
    "%load_ext autoreload\n",
    "%autoreload 2"
   ]
  },
  {
   "cell_type": "code",
   "execution_count": null,
   "metadata": {},
   "outputs": [],
   "source": [
    "from lsst.sitcom import vandv\n",
    "\n",
    "exec_info = vandv.ExecutionInfo()\n",
    "print(exec_info)"
   ]
  },
  {
   "cell_type": "markdown",
   "metadata": {},
   "source": [
    "---\n",
    "## Setup Notebook for Test\n",
    "\n",
    "- Import all libraries\n",
    "- Get the remotes ready"
   ]
  },
  {
   "cell_type": "code",
   "execution_count": null,
   "metadata": {},
   "outputs": [],
   "source": [
    "test_execution = \"LVV-EXXXX\""
   ]
  },
  {
   "cell_type": "code",
   "execution_count": null,
   "metadata": {},
   "outputs": [],
   "source": [
    "import asyncio\n",
    "import os\n",
    "import yaml\n",
    "\n",
    "import astropy.units as u\n",
    "import numpy as np\n",
    "import matplotlib.pyplot as plt\n",
    "import pandas as pd\n",
    "\n",
    "from astropy import time \n",
    "from astropy.coordinates import AltAz, ICRS, EarthLocation, Angle, FK5\n",
    "from datetime import datetime, timedelta\n",
    "\n",
    "from lsst_efd_client import EfdClient\n",
    "from lsst.ts import utils, salobj\n",
    "from lsst.ts.cRIOpy import M1M3FATable\n",
    "from lsst.ts.observatory.control.maintel.mtcs import MTCS, MTCSUsages\n",
    "from lsst.ts.observatory.control import RotType\n",
    "\n",
    "import lsst.sitcom.vandv as vandv"
   ]
  },
  {
   "cell_type": "code",
   "execution_count": null,
   "metadata": {},
   "outputs": [],
   "source": [
    "print(os.environ[\"OSPL_URI\"])\n",
    "print(os.environ[\"LSST_DDS_PARTITION_PREFIX\"])\n",
    "print(os.environ[\"LSST_DDS_DOMAIN_ID\"])"
   ]
  },
  {
   "cell_type": "code",
   "execution_count": null,
   "metadata": {},
   "outputs": [],
   "source": [
    "logging.basicConfig(format=\"%(name)s:%(message)s\", level=logging.DEBUG)"
   ]
  },
  {
   "cell_type": "code",
   "execution_count": null,
   "metadata": {},
   "outputs": [],
   "source": [
    "log = logging.getLogger(\"setup\")\n",
    "log.level = logging.DEBUG"
   ]
  },
  {
   "cell_type": "code",
   "execution_count": null,
   "metadata": {},
   "outputs": [],
   "source": [
    "domain = salobj.Domain()"
   ]
  },
  {
   "cell_type": "code",
   "execution_count": null,
   "metadata": {},
   "outputs": [],
   "source": [
    "mtcs = MTCS(domain=domain, log=log)\n",
    "mtcs.set_rem_loglevel(40)"
   ]
  },
  {
   "cell_type": "code",
   "execution_count": null,
   "metadata": {},
   "outputs": [],
   "source": [
    "await mtcs.start_task"
   ]
  },
  {
   "cell_type": "markdown",
   "metadata": {},
   "source": [
    "## Helper Functions"
   ]
  },
  {
   "cell_type": "code",
   "execution_count": null,
   "metadata": {},
   "outputs": [],
   "source": [
    "async def get_data_from_efd(location, start, end):\n",
    "    \"\"\"\n",
    "    Retrieves data relevant for analysis.\n",
    "    \n",
    "    Parameters\n",
    "    ----------\n",
    "    location : str\n",
    "        In which Test Stand are you running this test?\n",
    "    start : str or datetime\n",
    "        Start of the time-window.\n",
    "    end : str or datetime \n",
    "        End of the time-window.\n",
    "    \"\"\"\n",
    "    if location == \"summit\":\n",
    "        client = EfdClient(\"summit_efd\")\n",
    "    elif location == \"tucson\":\n",
    "        client = EfdClient(\"tucson_teststand_efd\")\n",
    "    else:\n",
    "        raise ValueError(\n",
    "            \"Location does not match any valid options {summit|tucson}\"\n",
    "        )\n",
    "    \n",
    "    _df_mount_el = await client.select_time_series(\n",
    "        \"lsst.sal.MTMount.elevation\", \n",
    "        fields=\"actualPosition\", \n",
    "        start=start.utc, \n",
    "        end=end.utc,\n",
    "    )\n",
    "    \n",
    "    _df_m1m3 = await client.select_time_series(\n",
    "        \"lsst.sal.MTM1M3.forceActuatorData\",\n",
    "        fields=\"*\",\n",
    "        start=start.utc, \n",
    "        end=end.utc,\n",
    "    )\n",
    "\n",
    "    # M2 B1 \n",
    "    _df_m2 = await client.select_time_series(\n",
    "        \"lsst.sal.MTM2.axialForce\",\n",
    "        fields=\"*\",\n",
    "        start=start.utc, \n",
    "        end=end.utc,\n",
    "    )\n",
    "    \n",
    "    # CamHex Y position\n",
    "    _df_camhex = await client.select_time_series(\n",
    "        \"lsst.sal.MTHexapod.application\",\n",
    "        fields=[\n",
    "            \"position1\"\n",
    "        ],\n",
    "        index=1,\n",
    "        start=start.utc, \n",
    "        end=end.utc,\n",
    "    )\n",
    "    \n",
    "    # M2Hex Y position\n",
    "    _df_m2hex = await client.select_time_series(\n",
    "        \"lsst.sal.MTHexapod.application\",\n",
    "        fields=[\n",
    "            \"position1\"\n",
    "        ],\n",
    "        index=2,\n",
    "        start=start.utc, \n",
    "        end=end.utc,\n",
    "    )\n",
    "    \n",
    "    # Rename columns\n",
    "    _df_mount_el = _df_mount_el.rename(\n",
    "        columns={\"actualPosition\": \"elevation\"})\n",
    "    _df_m1m3 = _df_m1m3.rename(\n",
    "        columns={c: f\"mtm1m3.forceActuatorData.{c}\" for c in _df_m1m3.columns}) \n",
    "    _df_m2 = _df_m2.rename(\n",
    "        columns={c: f\"mtm2.axialForce.{c}\" for c in _df_m2.columns})\n",
    "    _df_camhex = _df_camhex.rename(\n",
    "        columns={c: f\"mthexapod_1.application.{c}\" for c in _df_camhex.columns})\n",
    "    _df_m2hex = _df_m2hex.rename(\n",
    "        columns={c: f\"mthexapod_2.application.{c}\" for c in _df_m2hex.columns})\n",
    "    \n",
    "    # Join dataframes\n",
    "    _df = _df_mount_el\n",
    "    \n",
    "    _df = pd.merge(\n",
    "        _df, \n",
    "        _df_m1m3, \n",
    "        left_index=True, \n",
    "        right_index=True, \n",
    "        how=\"outer\"\n",
    "    )\n",
    "                \n",
    "    _df = pd.merge(\n",
    "        _df, \n",
    "        _df_m2, \n",
    "        left_index=True, \n",
    "        right_index=True, \n",
    "        how=\"outer\"\n",
    "    )\n",
    "    \n",
    "    _df = pd.merge(\n",
    "        _df, \n",
    "        _df_camhex, \n",
    "        left_index=True, \n",
    "        right_index=True, \n",
    "        how=\"outer\"\n",
    "    )\n",
    "\n",
    "    _df = pd.merge(\n",
    "        _df, \n",
    "        _df_m2hex, \n",
    "        left_index=True, \n",
    "        right_index=True, \n",
    "        how=\"outer\"\n",
    "    )\n",
    "    \n",
    "    return _df"
   ]
  },
  {
   "cell_type": "markdown",
   "metadata": {},
   "source": [
    "## Start all the components, and put them in an enabled state.\n",
    "\n",
    "Depending on which test cycle this is being executed in, each component is either a hardware component or a simulator:\n",
    "\n",
    "- [ ] M1M3\n",
    "- [ ] M2 \n",
    "- [ ] M2 Hexapod\n",
    "- [ ] Camera Hexapod\n",
    "- [ ] MTMount\n",
    "\n",
    "The best/simplest way of doing this is running the notebook that executes the [LVV-T2344] test case.  \n",
    "This notebook puts all the components in a ENABLED state.\n",
    "\n",
    "[LVV-T2344]: https://github.com/lsst-sitcom/notebooks_vandv/blob/develop/notebooks/proj_sys_eng/sitcom_integration/l3_system_integ/LVV-T2344-Startup_mt_on_level3.ipynb"
   ]
  },
  {
   "cell_type": "code",
   "execution_count": null,
   "metadata": {},
   "outputs": [],
   "source": [
    "# Verify that all the components have heartbeats\n",
    "await mtcs.assert_liveliness()"
   ]
  },
  {
   "cell_type": "code",
   "execution_count": null,
   "metadata": {},
   "outputs": [],
   "source": [
    "# Verify that all the components are enabled\n",
    "await mtcs.assert_all_enabled()"
   ]
  },
  {
   "cell_type": "markdown",
   "metadata": {},
   "source": [
    "---\n",
    "## Move mtmount to Zenith\n",
    "\n",
    "Command the mount to elevation = 90, azimuth = 0, so that we can start m1m3 with LUT in mount telemetry mode)."
   ]
  },
  {
   "cell_type": "code",
   "execution_count": null,
   "metadata": {},
   "outputs": [],
   "source": [
    "await mtcs.point_azel(az=0, el=90)\n",
    "await mtcs.stop_tracking()"
   ]
  },
  {
   "cell_type": "markdown",
   "metadata": {},
   "source": [
    "---\n",
    "## Get M1M3 Ready\n",
    "\n",
    "- Raise the mirror,\n",
    "- Turn on Balance Forces,\n",
    "- Clear forces\n",
    "\n",
    "Need to have M1M3 LUT use mount telemetry."
   ]
  },
  {
   "cell_type": "code",
   "execution_count": null,
   "metadata": {},
   "outputs": [],
   "source": [
    "# If M1M3 was enabled before, disabled it first and enabled again to start fresh\n",
    "await mtcs.set_state(salobj.State.DISABLED, components=[\"mtm1m3\"])\n",
    "await mtcs.set_state(salobj.State.ENABLED, components=[\"mtm1m3\"], overrides={\"mtm1m3\": \"Default\"})"
   ]
  },
  {
   "cell_type": "code",
   "execution_count": null,
   "metadata": {},
   "outputs": [],
   "source": [
    "# If M1M3 is not raised yet, use this command to raise it.\n",
    "await mtcs.raise_m1m3()"
   ]
  },
  {
   "cell_type": "code",
   "execution_count": null,
   "metadata": {},
   "outputs": [],
   "source": [
    "# Enables M1M3 Force Balance system using the hardpoints\n",
    "await mtcs.enable_m1m3_balance_system()"
   ]
  },
  {
   "cell_type": "code",
   "execution_count": null,
   "metadata": {},
   "outputs": [],
   "source": [
    "# Resets the Aberration Forces and the Active Optics Forces\n",
    "await mtcs.reset_m1m3_forces()"
   ]
  },
  {
   "cell_type": "code",
   "execution_count": null,
   "metadata": {},
   "outputs": [],
   "source": [
    "# M1M3 LUT use mount telemetry\n",
    "# todo: how to do that? "
   ]
  },
  {
   "cell_type": "markdown",
   "metadata": {},
   "source": [
    "## Get M2 Ready\n",
    "- Turn on Force Balance system\n",
    "- Clear forces"
   ]
  },
  {
   "cell_type": "code",
   "execution_count": null,
   "metadata": {},
   "outputs": [],
   "source": [
    "# Disable and Enable M2 so we can assure to start fresh\n",
    "await mtcs.set_state(salobj.State.STANDBY, components=[\"mtm2\"])\n",
    "await mtcs.set_state(salobj.State.ENABLED, components=[\"mtm2\"])"
   ]
  },
  {
   "cell_type": "code",
   "execution_count": null,
   "metadata": {
    "tags": []
   },
   "outputs": [],
   "source": [
    "# Enabled M2 Force Balance system \n",
    "await mtcs.enable_m2_balance_system()"
   ]
  },
  {
   "cell_type": "code",
   "execution_count": null,
   "metadata": {},
   "outputs": [],
   "source": [
    "# Resets the Active Optics Forces\n",
    "await mtcs.reset_m2_forces()"
   ]
  },
  {
   "cell_type": "code",
   "execution_count": null,
   "metadata": {},
   "outputs": [],
   "source": [
    "# Need to have M2 LUT use mount telemetry\n",
    "# todo: how to do that?"
   ]
  },
  {
   "cell_type": "markdown",
   "metadata": {},
   "source": [
    "## Get CamHex Ready\n",
    "- Check config \n",
    "- Make sure LUT is on, and has valid inputs\n",
    "- Make sure hex is at LUT position"
   ]
  },
  {
   "cell_type": "code",
   "execution_count": null,
   "metadata": {},
   "outputs": [],
   "source": [
    "# Disable and Enable CamHex so we can assure to start fresh\n",
    "await mtcs.set_state(salobj.State.DISABLED, components=[\"mthexapod_1\"])\n",
    "await mtcs.set_state(salobj.State.ENABLED, components=[\"mthexapod_1\"])"
   ]
  },
  {
   "cell_type": "code",
   "execution_count": null,
   "metadata": {},
   "outputs": [],
   "source": [
    "# Check the configuration\n",
    "await vandv.hexapod.get_hexapod_configuration(mtcs.rem.mthexapod_1)"
   ]
  },
  {
   "cell_type": "code",
   "execution_count": null,
   "metadata": {},
   "outputs": [],
   "source": [
    "# Enable compensation mode for CamHex\n",
    "await mtcs.enable_compensation_mode(\"mthexapod_1\")"
   ]
  },
  {
   "cell_type": "code",
   "execution_count": null,
   "metadata": {},
   "outputs": [],
   "source": [
    "# Reset the Camera Hexapod position\n",
    "await mtcs.reset_camera_hexapod_position()"
   ]
  },
  {
   "cell_type": "code",
   "execution_count": null,
   "metadata": {},
   "outputs": [],
   "source": [
    "# After resetting the Camera Hexapod position, we want to make sure that \n",
    "# the compensation and non-compensation values are the same.\n",
    "await vandv.hexapod.print_hexapod_uncompensation_values(mtcs.rem.mthexapod_1)\n",
    "await vandv.hexapod.print_hexapod_compensation_values(mtcs.rem.mthexapod_1)"
   ]
  },
  {
   "cell_type": "code",
   "execution_count": null,
   "metadata": {},
   "outputs": [],
   "source": [
    "# Need to have CamHex LUT use mount telemetry\n",
    "await vandv.hexapod.check_hexapod_lut(mtcs.rem.mthexapod_1)"
   ]
  },
  {
   "cell_type": "markdown",
   "metadata": {},
   "source": [
    "## Get M2Hex Ready\n",
    "\n",
    "- Check config \n",
    "- Make sure LUT is on, and has valid inputs\n",
    "- Make sure M2Hex is at LUT position"
   ]
  },
  {
   "cell_type": "code",
   "execution_count": null,
   "metadata": {},
   "outputs": [],
   "source": [
    "# Check the configuration\n",
    "await vandv.hexapod.get_hexapod_configuration(mtcs.rem.mthexapod_2)"
   ]
  },
  {
   "cell_type": "code",
   "execution_count": null,
   "metadata": {},
   "outputs": [],
   "source": [
    "# Enable compensation mode for M2Hex\n",
    "await mtcs.enable_compensation_mode(\"mthexapod_2\")"
   ]
  },
  {
   "cell_type": "code",
   "execution_count": null,
   "metadata": {},
   "outputs": [],
   "source": [
    "# Reset the M2 Hexapod position\n",
    "await mtcs.reset_m2_hexapod_position()"
   ]
  },
  {
   "cell_type": "code",
   "execution_count": null,
   "metadata": {},
   "outputs": [],
   "source": [
    "# After resetting the Camera Hexapod position, we want to make sure that \n",
    "# the compesation and non-compensation values are the same.\n",
    "await vandv.hexapod.print_hexapod_uncompensation_values(mtcs.rem.mthexapod_2)\n",
    "await vandv.hexapod.print_hexapod_compensation_values(mtcs.rem.mthexapod_2)"
   ]
  },
  {
   "cell_type": "code",
   "execution_count": null,
   "metadata": {},
   "outputs": [],
   "source": [
    "# Need to have CamHex LUT use mount telemetry\n",
    "await vandv.hexapod.check_hexapod_lut(mtcs.rem.mthexapod_1)"
   ]
  },
  {
   "cell_type": "markdown",
   "metadata": {},
   "source": [
    "## Gather Data - Without AO\n",
    "\n",
    "  * command the mount to elevation =86 deg, azimuth = 0\n",
    "  * wait 39s\n",
    "  * command the mount to elevation = 82 deg, azimuth = 0."
   ]
  },
  {
   "cell_type": "code",
   "execution_count": null,
   "metadata": {},
   "outputs": [],
   "source": [
    "# Set this to True when you actually want to run this test\n",
    "if True:\n",
    "    t_start = time.Time(utils.current_tai(), format=\"unix\", scale=\"tai\")\n",
    "    t_start.format = \"isot\"\n",
    "    print(f\"Gathering data - without AO - Start time: {t_start.utc}\")\n",
    "\n",
    "    await asyncio.sleep(39.)\n",
    "\n",
    "    # Slew to 86 deg\n",
    "    await mtcs.point_azel(az=0, el=86)\n",
    "    await asyncio.sleep(39.)\n",
    "\n",
    "    # Slew to 82 deg\n",
    "    await mtcs.point_azel(az=0, el=82)\n",
    "    await asyncio.sleep(39.)\n",
    "\n",
    "    t_end = time.Time(utils.current_tai(), format=\"unix\", scale=\"tai\")\n",
    "    t_end.format = \"isot\"\n",
    "    print(f\"Gathering data - without AO - End time: {t_end.utc}\")\n",
    "    \n",
    "    await mtcs.stop_tracking()"
   ]
  },
  {
   "cell_type": "markdown",
   "metadata": {},
   "source": [
    "## Plot Data"
   ]
  },
  {
   "cell_type": "code",
   "execution_count": null,
   "metadata": {},
   "outputs": [],
   "source": [
    "# t_start = \"2022-06-06T16:33:47.387\"\n",
    "# t_start = time.Time(t_start, format=\"isot\", scale=\"tai\")\n",
    "\n",
    "# t_end = \"2022-06-06T16:36:25.569\"\n",
    "# t_end = time.Time(t_end, format=\"isot\", scale=\"tai\")"
   ]
  },
  {
   "cell_type": "markdown",
   "metadata": {},
   "source": [
    "## Plot Optics vs Time\n",
    "\n",
    "Plot the following as a function of time during the above process:\n",
    "\n",
    "- mount elevation\n",
    "- m1m3 actuator 101 z force\n",
    "- m2 actuator B1 force\n",
    "- camera hex y position\n",
    "- m2 hex y position"
   ]
  },
  {
   "cell_type": "code",
   "execution_count": null,
   "metadata": {},
   "outputs": [],
   "source": [
    "df = await get_data_from_efd(\n",
    "    exec_info.loc, \n",
    "    t_start, \n",
    "    t_end)"
   ]
  },
  {
   "cell_type": "code",
   "execution_count": null,
   "metadata": {},
   "outputs": [],
   "source": [
    "df[\"elevation\"].dropna()"
   ]
  },
  {
   "cell_type": "code",
   "execution_count": null,
   "metadata": {},
   "outputs": [],
   "source": [
    "fig, axs = plt.subplots(figsize=(10, 10), nrows=3, sharex=True)\n",
    "\n",
    "axs[0].plot(df[\"elevation\"].dropna(), \"k\", label=\"Mount Elevation\")\n",
    "axs[0].set_ylabel(\"Mount El\\n[deg]\")\n",
    "\n",
    "axs[1].plot(df[\"mtm2.axialForce.applied0\"].dropna(), \"C1^-\", label=\"applied\")\n",
    "axs[1].plot(df[\"mtm2.axialForce.lutGravity0\"].dropna(), \"C2v-\", label=\"Gravity LUT\")\n",
    "axs[1].set_ylabel(\"M2 Forces\\n[--]\")\n",
    "\n",
    "axs[2].plot(df[\"mthexapod_1.application.position1\"].dropna(), \"C3x-\", label=\"CamHex Y\")\n",
    "axs[2].plot(df[\"mthexapod_2.application.position1\"].dropna(), \"C4+-\", label=\"M2Hex Y\")\n",
    "axs[2].set_ylabel(\"Hexapod Position\\n[um]\")\n",
    "\n",
    "for ax in axs:\n",
    "    ax.grid(\":\", alpha=0.5)\n",
    "    ax.legend()\n",
    "\n",
    "fig.suptitle(f\"{test_execution} - M1M3/M2/Hexs/Elevation vs Time\")\n",
    "fig.tight_layout(h_pad=0.3)\n",
    "fig.patch.set_facecolor('white')   \n",
    "\n",
    "fig.savefig(f\"plots/{test_execution}_m1m3_m2_hexs_el_vs_time.png\")\n",
    "plt.show()"
   ]
  },
  {
   "cell_type": "code",
   "execution_count": null,
   "metadata": {},
   "outputs": [],
   "source": [
    "vandv.m1m3.plot_m1m3_and_elevation(df)"
   ]
  },
  {
   "cell_type": "markdown",
   "metadata": {},
   "source": [
    "## M1M3 Elevation Forces vs LUT\n",
    "\n",
    "Check the M1M3 elevation forces match what we expect from the implemented LUT."
   ]
  },
  {
   "cell_type": "code",
   "execution_count": null,
   "metadata": {},
   "outputs": [],
   "source": [
    "elevation = await mtcs.rem.mtmount.tel_elevation.aget(timeout=10.)\n",
    "print(elevation, \"\\n\")"
   ]
  },
  {
   "cell_type": "markdown",
   "metadata": {},
   "source": [
    "The look-up table for X has basically zeroes.  \n",
    "At least for now.  \n",
    "So it does not make much sense evaluating it now.\n",
    "\n",
    "The lut for Y has non-zeroes and zeroes values.  \n",
    "in order to compare, we can drop the zeroes components.\n",
    "\n",
    "For z, we are good. We can perform a direct comparison."
   ]
  },
  {
   "cell_type": "code",
   "execution_count": null,
   "metadata": {},
   "outputs": [],
   "source": [
    "lut_el_xforces = vandv.m1m3.lut_elevation_xforces(elevation.actualPosition)\n",
    "lut_el_yforces = vandv.m1m3.lut_elevation_yforces(elevation.actualPosition)\n",
    "lut_el_zforces = vandv.m1m3.lut_elevation_zforces(elevation.actualPosition)"
   ]
  },
  {
   "cell_type": "code",
   "execution_count": null,
   "metadata": {},
   "outputs": [],
   "source": [
    "fel = await mtcs.rem.mtm1m3.evt_appliedElevationForces.aget(timeout=10.)"
   ]
  },
  {
   "cell_type": "code",
   "execution_count": null,
   "metadata": {},
   "outputs": [],
   "source": [
    "fig, ax = plt.subplots(figsize=(15, 3))\n",
    "\n",
    "ax.plot(fel.xForces, \"C0^-\", label=\"Applied\")\n",
    "ax.set_ylabel(\"Elevation xForces [??]\")\n",
    "ax.grid(\":\", alpha=0.2)\n",
    "ax.legend()\n",
    "\n",
    "fig.suptitle(f\"{test_execution} - M1M3 Elevation Forces\")\n",
    "fig.tight_layout(h_pad=0.3)\n",
    "fig.patch.set_facecolor('white')   \n",
    "\n",
    "fig.savefig(f\"plots/{test_execution}_m1m3_fel_xForces.png\")\n",
    "plt.show()"
   ]
  },
  {
   "cell_type": "code",
   "execution_count": null,
   "metadata": {},
   "outputs": [],
   "source": [
    "fig, axs = plt.subplots(figsize=(15, 6), nrows=2, sharex=True)\n",
    "\n",
    "axs[0].plot(fel.yForces, \"C0^-\", label=\"Applied\")\n",
    "axs[0].plot(lut_el_yforces[lut_el_yforces != 0], \"C1v-\", label=\"LUT\")\n",
    "axs[0].set_ylabel(\"Elevation yForces [??]\")\n",
    "axs[0].grid(\":\", alpha=0.2)\n",
    "axs[0].legend()\n",
    "\n",
    "axs[1].plot(fel.yForces - lut_el_yforces[lut_el_yforces != 0], label=\"Applied - LUT forces\")\n",
    "axs[1].set_ylabel(\"Elefation yForces \\n difference [??]\")\n",
    "axs[1].grid(\":\", alpha=0.2)\n",
    "\n",
    "fig.suptitle(f\"{test_execution} - M1M3 Elevation yForces\")\n",
    "fig.tight_layout(h_pad=0.3)\n",
    "fig.patch.set_facecolor('white')   \n",
    "\n",
    "fig.savefig(f\"plots/{test_execution}_m1m3_fel_yForces.png\")\n",
    "plt.show()"
   ]
  },
  {
   "cell_type": "code",
   "execution_count": null,
   "metadata": {},
   "outputs": [],
   "source": [
    "fig, axs = plt.subplots(figsize=(15, 6), nrows=2, sharex=True)\n",
    "\n",
    "axs[0].plot(fel.zForces, \"C0^-\", label=\"Applied\")\n",
    "axs[0].plot(lut_el_zforces, \"C1v-\", label=\"LUT\")\n",
    "axs[0].set_ylabel(\"Elevation zForces [??]\")\n",
    "axs[0].grid(\":\", alpha=0.2)\n",
    "axs[0].legend()\n",
    "\n",
    "axs[1].plot(fel.zForces - lut_el_zforces, label=\"Applied - LUT forces\")\n",
    "axs[1].set_ylabel(\"Elefation zForces \\n difference [??]\")\n",
    "axs[1].grid(\":\", alpha=0.2)\n",
    "\n",
    "fig.suptitle(f\"{test_execution} - M1M3 Elevation zForces\")\n",
    "fig.tight_layout(h_pad=0.3)\n",
    "fig.patch.set_facecolor('white')   \n",
    "\n",
    "fig.savefig(f\"plots/{test_execution}_m1m3_fel_zForces.png\")\n",
    "plt.show()"
   ]
  },
  {
   "cell_type": "markdown",
   "metadata": {},
   "source": [
    "The following plots are extracted from Bo's Notebooks.  \n",
    "The originals are in [lsst-ts/ts_notebooks/bxin/ptg2m1m3].\n",
    "\n",
    "[lsst-ts/ts_notebooks/bxin/ptg2m1m3]: https://github.com/lsst-ts/ts_notebooks/blob/develop/bxin/ptg2m1m3/m1m3_diagnostic.ipynb"
   ]
  },
  {
   "cell_type": "code",
   "execution_count": null,
   "metadata": {},
   "outputs": [],
   "source": [
    "fel = await mtcs.rem.mtm1m3.evt_appliedElevationForces.aget(timeout=10.)\n",
    "faz = await mtcs.rem.mtm1m3.evt_appliedAzimuthForces.aget(timeout=10.)\n",
    "fth = await mtcs.rem.mtm1m3.evt_appliedThermalForces.aget(timeout=10.)\n",
    "fba = await mtcs.rem.mtm1m3.evt_appliedBalanceForces.aget(timeout=10.)\n",
    "fac = await mtcs.rem.mtm1m3.evt_appliedAccelerationForces.aget(timeout=10.)\n",
    "fve = await mtcs.rem.mtm1m3.evt_appliedVelocityForces.aget(timeout=10.)\n",
    "fst = await mtcs.rem.mtm1m3.evt_appliedStaticForces.aget(timeout=10.)\n",
    "fab = await mtcs.rem.mtm1m3.evt_appliedAberrationForces.aget(timeout=10.)\n",
    "fof = await mtcs.rem.mtm1m3.evt_appliedOffsetForces.aget(timeout=10.)\n",
    "fao = await mtcs.rem.mtm1m3.evt_appliedActiveOpticForces.aget(timeout=10.)\n",
    "fapp = await mtcs.rem.mtm1m3.evt_appliedForces.aget(timeout=10.)\n",
    "\n",
    "ftel = await mtcs.rem.mtm1m3.tel_forceActuatorData.next(flush=True, timeout=10.)"
   ]
  },
  {
   "cell_type": "code",
   "execution_count": null,
   "metadata": {},
   "outputs": [],
   "source": [
    "def plotForces(fel, fba, fst, fao):\n",
    "    \n",
    "    # Get the position of the actuators\n",
    "    fat = np.array(M1M3FATable.FATABLE)\n",
    "    xact = np.float64(fat[:, M1M3FATable.FATABLE_XPOSITION])\n",
    "    yact = np.float64(fat[:, M1M3FATable.FATABLE_YPOSITION])\n",
    "        \n",
    "    # Create the plot\n",
    "    fig, ax = plt.subplots(3,1, figsize=(15,8))\n",
    "    print(fel.xForces)\n",
    "    ax[0].plot(fel.xForces, '-o', label='elevation');\n",
    "    ax[0].plot(fba.xForces, label='FB')\n",
    "    ax[0].plot(fst.xForces, label='static')\n",
    "    ax[0].plot(ftel.xForce, '-v', label='measured')\n",
    "    ax[0].legend()\n",
    "    ax[0].set_title('XForces')\n",
    "    \n",
    "    ax[1].plot(fel.yForces, '-o', label='elevation');\n",
    "    ax[1].plot(fba.yForces, label='FB')\n",
    "    ax[1].plot(fst.yForces, label='static')\n",
    "    ax[1].plot(ftel.yForce, '-v', label='measured')\n",
    "    ax[1].legend()\n",
    "    ax[1].set_title('YForces')\n",
    "    ax[2].plot(fel.zForces, '-o', label='elevation');\n",
    "    ax[2].plot(fba.zForces, label='FB')\n",
    "    ax[2].plot(fst.zForces, label='static')\n",
    "    ax[2].plot(fao.zForces, label='AOS')\n",
    "    ax[2].plot(ftel.zForce, '-v', label='measured')\n",
    "    ax[2].set_title('ZForces')\n",
    "    ax[2].legend()\n",
    "    \n",
    "    fig2, ax=plt.subplots( 1,3, figsize = [15,4])\n",
    "    aa = np.array(fao.zForces)\n",
    "    img = ax[0].scatter(xact, yact, c=aa)\n",
    "    ax[0].axis('equal')\n",
    "    ax[0].set_title('AOS forces')\n",
    "    fig.colorbar(img, ax=ax[0])\n",
    "\n",
    "    aa = np.array(fel.zForces)\n",
    "    img = ax[1].scatter(xact, yact, c=aa)\n",
    "    ax[1].axis('equal')\n",
    "    ax[1].set_title('elevation forces')\n",
    "    fig.colorbar(img, ax=ax[1])\n",
    "    \n",
    "    aa = np.array(fst.zForces)\n",
    "    img = ax[2].scatter(xact, yact, c=aa)\n",
    "    ax[2].axis('equal')\n",
    "    ax[2].set_title('static forces')\n",
    "    fig.colorbar(img, ax=ax[2])"
   ]
  },
  {
   "cell_type": "code",
   "execution_count": null,
   "metadata": {},
   "outputs": [],
   "source": [
    "plotForces(fel, fba, fst, fao)"
   ]
  },
  {
   "cell_type": "markdown",
   "metadata": {},
   "source": [
    "## M2 Elevation Forces vs LUT\n",
    "\n",
    "Check the M2 elevation forces match what we expect from the implemented LUT."
   ]
  },
  {
   "cell_type": "code",
   "execution_count": null,
   "metadata": {},
   "outputs": [],
   "source": [
    "vandv.m2.plot_m2_actuators()"
   ]
  },
  {
   "cell_type": "code",
   "execution_count": null,
   "metadata": {},
   "outputs": [],
   "source": [
    "axialForces = await mtcs.rem.mtm2.tel_axialForce.aget(timeout=2)\n",
    "tangentForces = await mtcs.rem.mtm2.tel_tangentForce.aget(timeout=2)"
   ]
  },
  {
   "cell_type": "code",
   "execution_count": null,
   "metadata": {},
   "outputs": [],
   "source": [
    "vandv.m2.plotM2Forces(axialForces, tangentForces)"
   ]
  },
  {
   "cell_type": "markdown",
   "metadata": {},
   "source": [
    "## CamHex Vs LUT\n",
    "\n",
    "Check the camera hexapod LUT compensations match what we expect from the implemented LUT"
   ]
  },
  {
   "cell_type": "code",
   "execution_count": null,
   "metadata": {},
   "outputs": [],
   "source": [
    "a = mtcs.rem.mthexapod_1.evt_compensationOffset.get()\n",
    "elevCoeff, tCoeff = vandv.hexapod.coeffs_from_lut(index=1)\n",
    "elev = a.elevation\n",
    "\n",
    "await vandv.hexapod.print_hexapod_position(mtcs.rem.mthexapod_1)    \n",
    "await vandv.hexapod.print_predicted_compensation(elevCoeff, elev)\n",
    "await vandv.hexapod.print_hexapod_uncompensation_values(mtcs.rem.mthexapod_1)\n",
    "await vandv.hexapod.print_hexapod_compensation_values(mtcs.rem.mthexapod_1)"
   ]
  },
  {
   "cell_type": "markdown",
   "metadata": {},
   "source": [
    "## M2Hex vs LUT"
   ]
  },
  {
   "cell_type": "code",
   "execution_count": null,
   "metadata": {},
   "outputs": [],
   "source": [
    "a = mtcs.rem.mthexapod_1.evt_compensationOffset.get()\n",
    "elevCoeff, tCoeff = vandv.hexapod.coeffs_from_lut(index=2)\n",
    "elev = a.elevation\n",
    "\n",
    "await vandv.hexapod.print_hexapod_uncompensation_values(mtcs.rem.mthexapod_2)\n",
    "await vandv.hexapod.print_predicted_compensation(elevCoeff, elev)\n",
    "await vandv.hexapod.print_hexapod_position(mtcs.rem.mthexapod_2)    \n",
    "await vandv.hexapod.print_hexapod_compensation_values(mtcs.rem.mthexapod_2)"
   ]
  },
  {
   "cell_type": "markdown",
   "metadata": {},
   "source": [
    "### Close up"
   ]
  },
  {
   "cell_type": "code",
   "execution_count": null,
   "metadata": {},
   "outputs": [],
   "source": [
    "# Put the telescope back to the original position\n",
    "# Specially if running at TTS\n",
    "target = mtcs.radec_from_azel(az=0, el=80)\n",
    "\n",
    "await mtcs.slew_icrs(ra=target.ra, dec=target.dec, rot_type=RotType.Physical, rot=0)\n",
    "await mtcs.stop_tracking()"
   ]
  },
  {
   "cell_type": "code",
   "execution_count": null,
   "metadata": {},
   "outputs": [],
   "source": [
    "await mtcs.set_state(state=salobj.State.STANDBY, components=[\"mtaos\"])"
   ]
  },
  {
   "cell_type": "code",
   "execution_count": null,
   "metadata": {},
   "outputs": [],
   "source": [
    "await mtcs.lower_m1m3()"
   ]
  },
  {
   "cell_type": "code",
   "execution_count": null,
   "metadata": {},
   "outputs": [],
   "source": [
    "await mtcs.set_state(state=salobj.State.STANDBY, components=[\"mtm1m3\"])"
   ]
  },
  {
   "cell_type": "code",
   "execution_count": null,
   "metadata": {},
   "outputs": [],
   "source": [
    "await mtcs.set_state(state=salobj.State.STANDBY, components=[\"mtm2\"])"
   ]
  },
  {
   "cell_type": "code",
   "execution_count": null,
   "metadata": {},
   "outputs": [],
   "source": [
    "await mtcs.set_state(state=salobj.State.STANDBY, components=[\"mthexapod_1\"])"
   ]
  },
  {
   "cell_type": "code",
   "execution_count": null,
   "metadata": {},
   "outputs": [],
   "source": [
    "await mtcs.set_state(state=salobj.State.STANDBY, components=[\"mthexapod_2\"])"
   ]
  },
  {
   "cell_type": "code",
   "execution_count": null,
   "metadata": {},
   "outputs": [],
   "source": [
    "if exec_info.loc == \"summit\":\n",
    "    await mtcs.standby()\n",
    "\n",
    "else:\n",
    "    # Bring the system back to the original state\n",
    "    await mtcs.set_state(\n",
    "        state=salobj.State.ENABLED,\n",
    "        components=[\n",
    "            \"mtm1m3\", \n",
    "            \"mtm2\",\n",
    "            \"mthexapod_1\",\n",
    "            \"mthexapod_2\",\n",
    "            \"mtaos\",\n",
    "        ],\n",
    "        overrides={\n",
    "            \"mtm1m3\": \"Default\"\n",
    "        }\n",
    "    )"
   ]
  },
  {
   "cell_type": "markdown",
   "metadata": {},
   "source": [
    "## Wrap Up"
   ]
  },
  {
   "cell_type": "code",
   "execution_count": null,
   "metadata": {},
   "outputs": [],
   "source": [
    "await mtcs.lower_m1m3()"
   ]
  },
  {
   "cell_type": "code",
   "execution_count": null,
   "metadata": {
    "tags": []
   },
   "outputs": [],
   "source": [
    "await mtcs.set_state(state=salobj.State.STANDBY, components=[\"mtm1m3\", \"mtm2\", \"mthexapod_1\", \"mthexapod_2\"])"
   ]
  },
  {
   "cell_type": "code",
   "execution_count": null,
   "metadata": {},
   "outputs": [],
   "source": [
    "await mtcs.set_state(state=salobj.State.ENABLED, components=[\"mtm2\", \"mthexapod_1\", \"mthexapod_2\"])"
   ]
  }
 ],
 "metadata": {
  "kernelspec": {
   "display_name": "LSST",
   "language": "python",
   "name": "lsst"
  },
  "language_info": {
   "codemirror_mode": {
    "name": "ipython",
    "version": 3
   },
   "file_extension": ".py",
   "mimetype": "text/x-python",
   "name": "python",
   "nbconvert_exporter": "python",
   "pygments_lexer": "ipython3",
   "version": "3.8.13"
  },
  "toc-showmarkdowntxt": false
 },
 "nbformat": 4,
 "nbformat_minor": 4
}
