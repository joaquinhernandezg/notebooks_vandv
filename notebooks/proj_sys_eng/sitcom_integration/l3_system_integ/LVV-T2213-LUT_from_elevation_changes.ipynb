{
 "cells": [
  {
   "cell_type": "markdown",
   "metadata": {},
   "source": [
    "# [LVV-T2213] - Look-up Table Application from MTMount Elevation Changes\n",
    "\n",
    "This notebook was originally written by Bo Xin in the [lsst-ts/ts_notebooks] repository.  \n",
    "It is a modified version with updated commands and simplified steps.\n",
    "\n",
    "**Make sure you run this notebook on TTS before running at the summit.**\n",
    "\n",
    "[lsst-ts/ts_notebooks]: https://github.com/lsst-ts/ts_notebooks/blob/develop/bxin/aos2comp/aos2comp.ipynb\n",
    "[LVV-T2213]: https://jira.lsstcorp.org/secure/Tests.jspa#/testCase/LVV-T2213"
   ]
  },
  {
   "cell_type": "code",
   "execution_count": 1,
   "metadata": {},
   "outputs": [],
   "source": [
    "%load_ext autoreload\n",
    "%autoreload 2"
   ]
  },
  {
   "cell_type": "code",
   "execution_count": 2,
   "metadata": {},
   "outputs": [
    {
     "data": {
      "text/html": [
       "<pre style=\"margin: 0.1em;\n",
       "padding-left: 0.25em;\n",
       "border-left-style: solid;\n",
       "font-family: var(--jp-code-font-family);\n",
       "font-size: var(--jp-code-font-size);\n",
       "line-height: var(--jp-code-line-height);\n",
       "\"><span style=\"color: var(--jp-warn-color2)\">lsst.ts.utils.tai</span> <span style=\"color: var(--jp-info-color0)\">INFO</span>: Update leap second table</pre>"
      ],
      "text/plain": [
       "<IPython.core.display.HTML object>"
      ]
     },
     "metadata": {},
     "output_type": "display_data"
    },
    {
     "data": {
      "text/html": [
       "<pre style=\"margin: 0.1em;\n",
       "padding-left: 0.25em;\n",
       "border-left-style: solid;\n",
       "font-family: var(--jp-code-font-family);\n",
       "font-size: var(--jp-code-font-size);\n",
       "line-height: var(--jp-code-line-height);\n",
       "\"><span style=\"color: var(--jp-warn-color2)\">lsst.ts.utils.tai</span> <span style=\"color: var(--jp-info-color0)\">INFO</span>: current_tai uses the system TAI clock</pre>"
      ],
      "text/plain": [
       "<IPython.core.display.HTML object>"
      ]
     },
     "metadata": {},
     "output_type": "display_data"
    },
    {
     "name": "stdout",
     "output_type": "stream",
     "text": [
      "\n",
      "Executed by b1quint on 2022-05-27T16:07:52.640.\n",
      "  Running in pillan04 at tucson\n",
      "\n"
     ]
    }
   ],
   "source": [
    "from lsst.sitcom.vandv import info\n",
    "\n",
    "exec_info = info.ExecutionInfo()\n",
    "print(exec_info)"
   ]
  },
  {
   "cell_type": "markdown",
   "metadata": {},
   "source": [
    "---\n",
    "## Setup Notebook for Test\n",
    "\n",
    "- Import all libraries\n",
    "- Get the remotes ready"
   ]
  },
  {
   "cell_type": "code",
   "execution_count": 3,
   "metadata": {},
   "outputs": [],
   "source": [
    "import asyncio\n",
    "import os\n",
    "import yaml\n",
    "\n",
    "import astropy.units as u\n",
    "import numpy as np\n",
    "import matplotlib.pyplot as plt\n",
    "import pandas as pd\n",
    "\n",
    "from astropy.coordinates import AltAz, ICRS, EarthLocation, Angle, FK5\n",
    "from astropy.time import Time\n",
    "from datetime import datetime, timedelta\n",
    "\n",
    "from lsst_efd_client import EfdClient\n",
    "\n",
    "from lsst.ts import salobj\n",
    "from lsst.ts.observatory.control.maintel.mtcs import MTCS, MTCSUsages\n",
    "from lsst.ts.observatory.control import RotType\n",
    "from lsst.sitcom.vandv import aos_tools"
   ]
  },
  {
   "cell_type": "code",
   "execution_count": 4,
   "metadata": {},
   "outputs": [
    {
     "name": "stdout",
     "output_type": "stream",
     "text": [
      "file:///opt/lsst/software/stack/conda/miniconda3-py38_4.9.2/envs/lsst-scipipe-3.0.0/lib/python3.8/config/ospl-shmem.xml\n",
      "tucson\n",
      "0\n"
     ]
    }
   ],
   "source": [
    "print(os.environ[\"OSPL_URI\"])\n",
    "print(os.environ[\"LSST_DDS_PARTITION_PREFIX\"])\n",
    "print(os.environ[\"LSST_DDS_DOMAIN_ID\"])"
   ]
  },
  {
   "cell_type": "code",
   "execution_count": 5,
   "metadata": {},
   "outputs": [],
   "source": [
    "logging.basicConfig(format=\"%(name)s:%(message)s\", level=logging.DEBUG)"
   ]
  },
  {
   "cell_type": "code",
   "execution_count": 6,
   "metadata": {},
   "outputs": [],
   "source": [
    "log = logging.getLogger(\"setup\")\n",
    "log.level = logging.DEBUG"
   ]
  },
  {
   "cell_type": "code",
   "execution_count": 7,
   "metadata": {},
   "outputs": [],
   "source": [
    "domain = salobj.Domain()"
   ]
  },
  {
   "cell_type": "code",
   "execution_count": 8,
   "metadata": {},
   "outputs": [
    {
     "data": {
      "text/html": [
       "<pre style=\"margin: 0.1em;\n",
       "padding-left: 0.25em;\n",
       "border-left-style: solid;\n",
       "font-family: var(--jp-code-font-family);\n",
       "font-size: var(--jp-code-font-size);\n",
       "line-height: var(--jp-code-line-height);\n",
       "\"><span style=\"color: var(--jp-warn-color2)\">setup.MTCS</span> <span style=\"color: var(--jp-success-color0)\">DEBUG</span>: mtmount: Adding all resources.</pre>"
      ],
      "text/plain": [
       "<IPython.core.display.HTML object>"
      ]
     },
     "metadata": {},
     "output_type": "display_data"
    },
    {
     "data": {
      "text/html": [
       "<pre style=\"margin: 0.1em;\n",
       "padding-left: 0.25em;\n",
       "border-left-style: solid;\n",
       "font-family: var(--jp-code-font-family);\n",
       "font-size: var(--jp-code-font-size);\n",
       "line-height: var(--jp-code-line-height);\n",
       "\"><span style=\"color: var(--jp-warn-color2)\">setup.MTCS</span> <span style=\"color: var(--jp-success-color0)\">DEBUG</span>: mtptg: Adding all resources.</pre>"
      ],
      "text/plain": [
       "<IPython.core.display.HTML object>"
      ]
     },
     "metadata": {},
     "output_type": "display_data"
    },
    {
     "data": {
      "text/html": [
       "<pre style=\"margin: 0.1em;\n",
       "padding-left: 0.25em;\n",
       "border-left-style: solid;\n",
       "font-family: var(--jp-code-font-family);\n",
       "font-size: var(--jp-code-font-size);\n",
       "line-height: var(--jp-code-line-height);\n",
       "\"><span style=\"color: var(--jp-warn-color2)\">setup.MTCS</span> <span style=\"color: var(--jp-success-color0)\">DEBUG</span>: mtaos: Adding all resources.</pre>"
      ],
      "text/plain": [
       "<IPython.core.display.HTML object>"
      ]
     },
     "metadata": {},
     "output_type": "display_data"
    },
    {
     "data": {
      "text/html": [
       "<pre style=\"margin: 0.1em;\n",
       "padding-left: 0.25em;\n",
       "border-left-style: solid;\n",
       "font-family: var(--jp-code-font-family);\n",
       "font-size: var(--jp-code-font-size);\n",
       "line-height: var(--jp-code-line-height);\n",
       "\"><span style=\"color: var(--jp-warn-color2)\">setup.MTCS</span> <span style=\"color: var(--jp-success-color0)\">DEBUG</span>: mtm1m3: Adding all resources.</pre>"
      ],
      "text/plain": [
       "<IPython.core.display.HTML object>"
      ]
     },
     "metadata": {},
     "output_type": "display_data"
    },
    {
     "data": {
      "text/html": [
       "<pre style=\"margin: 0.1em;\n",
       "padding-left: 0.25em;\n",
       "border-left-style: solid;\n",
       "font-family: var(--jp-code-font-family);\n",
       "font-size: var(--jp-code-font-size);\n",
       "line-height: var(--jp-code-line-height);\n",
       "\"><span style=\"color: var(--jp-warn-color2)\">setup.MTCS</span> <span style=\"color: var(--jp-success-color0)\">DEBUG</span>: mtm2: Adding all resources.</pre>"
      ],
      "text/plain": [
       "<IPython.core.display.HTML object>"
      ]
     },
     "metadata": {},
     "output_type": "display_data"
    },
    {
     "data": {
      "text/html": [
       "<pre style=\"margin: 0.1em;\n",
       "padding-left: 0.25em;\n",
       "border-left-style: solid;\n",
       "font-family: var(--jp-code-font-family);\n",
       "font-size: var(--jp-code-font-size);\n",
       "line-height: var(--jp-code-line-height);\n",
       "\"><span style=\"color: var(--jp-warn-color2)\">setup.MTCS</span> <span style=\"color: var(--jp-success-color0)\">DEBUG</span>: mthexapod_1: Adding all resources.</pre>"
      ],
      "text/plain": [
       "<IPython.core.display.HTML object>"
      ]
     },
     "metadata": {},
     "output_type": "display_data"
    },
    {
     "data": {
      "text/html": [
       "<pre style=\"margin: 0.1em;\n",
       "padding-left: 0.25em;\n",
       "border-left-style: solid;\n",
       "font-family: var(--jp-code-font-family);\n",
       "font-size: var(--jp-code-font-size);\n",
       "line-height: var(--jp-code-line-height);\n",
       "\"><span style=\"color: var(--jp-warn-color2)\">setup.MTCS</span> <span style=\"color: var(--jp-success-color0)\">DEBUG</span>: mthexapod_2: Adding all resources.</pre>"
      ],
      "text/plain": [
       "<IPython.core.display.HTML object>"
      ]
     },
     "metadata": {},
     "output_type": "display_data"
    },
    {
     "data": {
      "text/html": [
       "<pre style=\"margin: 0.1em;\n",
       "padding-left: 0.25em;\n",
       "border-left-style: solid;\n",
       "font-family: var(--jp-code-font-family);\n",
       "font-size: var(--jp-code-font-size);\n",
       "line-height: var(--jp-code-line-height);\n",
       "\"><span style=\"color: var(--jp-warn-color2)\">setup.MTCS</span> <span style=\"color: var(--jp-success-color0)\">DEBUG</span>: mtrotator: Adding all resources.</pre>"
      ],
      "text/plain": [
       "<IPython.core.display.HTML object>"
      ]
     },
     "metadata": {},
     "output_type": "display_data"
    },
    {
     "data": {
      "text/html": [
       "<pre style=\"margin: 0.1em;\n",
       "padding-left: 0.25em;\n",
       "border-left-style: solid;\n",
       "font-family: var(--jp-code-font-family);\n",
       "font-size: var(--jp-code-font-size);\n",
       "line-height: var(--jp-code-line-height);\n",
       "\"><span style=\"color: var(--jp-warn-color2)\">setup.MTCS</span> <span style=\"color: var(--jp-success-color0)\">DEBUG</span>: mtdome: Adding all resources.</pre>"
      ],
      "text/plain": [
       "<IPython.core.display.HTML object>"
      ]
     },
     "metadata": {},
     "output_type": "display_data"
    },
    {
     "data": {
      "text/html": [
       "<pre style=\"margin: 0.1em;\n",
       "padding-left: 0.25em;\n",
       "border-left-style: solid;\n",
       "font-family: var(--jp-code-font-family);\n",
       "font-size: var(--jp-code-font-size);\n",
       "line-height: var(--jp-code-line-height);\n",
       "\"><span style=\"color: var(--jp-warn-color2)\">setup.MTCS</span> <span style=\"color: var(--jp-success-color0)\">DEBUG</span>: mtdometrajectory: Adding all resources.</pre>"
      ],
      "text/plain": [
       "<IPython.core.display.HTML object>"
      ]
     },
     "metadata": {},
     "output_type": "display_data"
    }
   ],
   "source": [
    "mtcs = MTCS(domain=domain, log=log)\n",
    "mtcs.set_rem_loglevel(40)"
   ]
  },
  {
   "cell_type": "code",
   "execution_count": 9,
   "metadata": {},
   "outputs": [
    {
     "data": {
      "text/html": [
       "<pre style=\"margin: 0.1em;\n",
       "padding-left: 0.25em;\n",
       "border-left-style: solid;\n",
       "font-family: var(--jp-code-font-family);\n",
       "font-size: var(--jp-code-font-size);\n",
       "line-height: var(--jp-code-line-height);\n",
       "\"><span style=\"color: var(--jp-warn-color2)\">MTHexapod</span> <span style=\"color: var(--jp-info-color0)\">INFO</span>: Read historical data in 0.05 sec</pre>"
      ],
      "text/plain": [
       "<IPython.core.display.HTML object>"
      ]
     },
     "metadata": {},
     "output_type": "display_data"
    },
    {
     "data": {
      "text/html": [
       "<pre style=\"margin: 0.1em;\n",
       "padding-left: 0.25em;\n",
       "border-left-style: solid;\n",
       "font-family: var(--jp-code-font-family);\n",
       "font-size: var(--jp-code-font-size);\n",
       "line-height: var(--jp-code-line-height);\n",
       "\"><span style=\"color: var(--jp-warn-color2)\">MTHexapod</span> <span style=\"color: var(--jp-info-color0)\">INFO</span>: Read historical data in 0.06 sec</pre>"
      ],
      "text/plain": [
       "<IPython.core.display.HTML object>"
      ]
     },
     "metadata": {},
     "output_type": "display_data"
    },
    {
     "data": {
      "text/plain": [
       "[None, None, None, None, None, None, None, None, None, None]"
      ]
     },
     "execution_count": 9,
     "metadata": {},
     "output_type": "execute_result"
    }
   ],
   "source": [
    "await mtcs.start_task"
   ]
  },
  {
   "cell_type": "markdown",
   "metadata": {},
   "source": [
    "## Start all the components, and put them in an enabled state.\n",
    "\n",
    "Depending on which test cycle this is being executed in, each component is either a hardware component or a simulator:\n",
    "\n",
    "- [ ] M1M3\n",
    "- [ ] M2 \n",
    "- [ ] M2 Hexapod\n",
    "- [ ] Camera Hexapod\n",
    "- [ ] MTMount\n",
    "\n",
    "The best/simplest way of doing this is running the notebook that executes the [LVV-T2344] test case.  \n",
    "This notebook puts all the components in a ENABLED state.\n",
    "\n",
    "[LVV-T2344]: https://github.com/lsst-sitcom/notebooks_vandv/blob/develop/notebooks/proj_sys_eng/sitcom_integration/l3_system_integ/LVV-T2344-Startup_mt_on_level3.ipynb"
   ]
  },
  {
   "cell_type": "code",
   "execution_count": 10,
   "metadata": {},
   "outputs": [],
   "source": [
    "# Verify that all the components have heartbeats\n",
    "await mtcs.assert_liveliness()"
   ]
  },
  {
   "cell_type": "code",
   "execution_count": 11,
   "metadata": {},
   "outputs": [],
   "source": [
    "# Verify that all the components are enabled\n",
    "await mtcs.assert_all_enabled()"
   ]
  },
  {
   "cell_type": "markdown",
   "metadata": {},
   "source": [
    "---\n",
    "## Move mtmount to Zenith\n",
    "\n",
    "Command the mount to elevation = 90, azimuth = 0, so that we can start m1m3 with LUT in mount telemetry mode)."
   ]
  },
  {
   "cell_type": "code",
   "execution_count": null,
   "metadata": {},
   "outputs": [],
   "source": [
    "await mtcs.rem.mtmount.cmd_moveToTarget.set_start(azimuth=0, elevation=90)"
   ]
  },
  {
   "cell_type": "markdown",
   "metadata": {},
   "source": [
    "---\n",
    "## Get M1M3 Ready\n",
    "\n",
    "- Raise the mirror,\n",
    "- Turn on Balance Forces,\n",
    "- Clear forces\n",
    "\n",
    "Need to have M1M3 LUT use mount telemetry."
   ]
  },
  {
   "cell_type": "code",
   "execution_count": null,
   "metadata": {},
   "outputs": [],
   "source": [
    "# If M1M3 is not raised yet, use this command to raise it.\n",
    "await mtcs.raise_m1m3()"
   ]
  },
  {
   "cell_type": "code",
   "execution_count": null,
   "metadata": {},
   "outputs": [],
   "source": [
    "# Enables M1M3 Force Balance system using the hardpoints\n",
    "await mtcs.enable_m1m3_balance_system()"
   ]
  },
  {
   "cell_type": "code",
   "execution_count": null,
   "metadata": {},
   "outputs": [],
   "source": [
    "# Resets the Aberration Forces and the Active Optics Forces\n",
    "await mtcs.reset_m1m3_forces()"
   ]
  },
  {
   "cell_type": "code",
   "execution_count": null,
   "metadata": {},
   "outputs": [],
   "source": [
    "# M1M3 LUT use mount telemetry\n",
    "# todo: how to do that? "
   ]
  },
  {
   "cell_type": "markdown",
   "metadata": {},
   "source": [
    "## Get M2 Ready\n",
    "- Turn on Force Balance system\n",
    "- Clear forces"
   ]
  },
  {
   "cell_type": "code",
   "execution_count": null,
   "metadata": {
    "tags": []
   },
   "outputs": [],
   "source": [
    "# Enabled M2 Force Balance system \n",
    "await mtcs.enable_m2_balance_system()"
   ]
  },
  {
   "cell_type": "code",
   "execution_count": null,
   "metadata": {},
   "outputs": [],
   "source": [
    "# Resets the Active Optics Forces\n",
    "await mtcs.reset_m2_forces()"
   ]
  },
  {
   "cell_type": "code",
   "execution_count": null,
   "metadata": {},
   "outputs": [],
   "source": [
    "# Need to have M2 LUT use mount telemetry\n",
    "# todo: how to do that?"
   ]
  },
  {
   "cell_type": "markdown",
   "metadata": {},
   "source": [
    "## Get CamHex Ready\n",
    "- Check config \n",
    "- Make sure LUT is on, and has valid inputs\n",
    "- Make sure hex is at LUT position"
   ]
  },
  {
   "cell_type": "code",
   "execution_count": 35,
   "metadata": {},
   "outputs": [
    {
     "name": "stdout",
     "output_type": "stream",
     "text": [
      "MTHexapodID: 1, private_revCode: 047bbc0a, private_sndStamp: 1652662975.6758816, private_rcvStamp: 1653667674.6886544, private_seqNum: 1, private_identity: MTHexapod:1, private_origin: 22691, configurations: _init.yaml, version: v0.8.1-0-g0400d07, url: file:///home/saluser/ts_config_mttcs/MTHexapod/v3, schemaVersion: v3, otherInfo: , priority: 0\n",
      "\n",
      "Pivot at (0.0, 0.0, 500000.0) microns \n",
      " maxXY = 11400.0 microns, maxZ = 13100.0 microns\n",
      " maxUV = 0.36 deg, maxW = 0.1 deg\n"
     ]
    }
   ],
   "source": [
    "# Check the configuration\n",
    "print(mtcs.rem.mthexapod_1.evt_configurationApplied.get())\n",
    "\n",
    "camhex_config = await mtcs.rem.mthexapod_1.evt_configuration.aget(timeout=10.)\n",
    "print(\n",
    "    f\"\\nPivot at ({hexaConfig.pivotX}, {hexaConfig.pivotY}, {hexaConfig.pivotZ}) microns \"\n",
    "    f\"\\n maxXY = {hexaConfig.maxXY} microns, maxZ = {hexaConfig.maxZ} microns\"\n",
    "    f\"\\n maxUV = {hexaConfig.maxUV} deg, maxW = {hexaConfig.maxW} deg\"\n",
    ")"
   ]
  },
  {
   "cell_type": "code",
   "execution_count": null,
   "metadata": {},
   "outputs": [],
   "source": [
    "# Enable compensation mode for CamHex\n",
    "await mtcs.enable_compensation_mode(\"mthexapod_1\")"
   ]
  },
  {
   "cell_type": "code",
   "execution_count": null,
   "metadata": {},
   "outputs": [],
   "source": [
    "# Reset the Camera Hexapod position\n",
    "await mtcs.reset_camera_hexapod_position()"
   ]
  },
  {
   "cell_type": "code",
   "execution_count": 36,
   "metadata": {},
   "outputs": [
    {
     "name": "stdout",
     "output_type": "stream",
     "text": [
      "Uncompensated position\n",
      "     -0.00      -0.00      29.07     -0.000000  -0.000000   0.000000    2022-05-27 08:27:05.493720576\n",
      "Compensated position\n",
      "     -0.00      -0.00      29.07      -0.000000  -0.000000   0.000000    2022-05-27 08:27:05.493976832\n"
     ]
    }
   ],
   "source": [
    "# Print Compensation Position and Uncompensation Position\n",
    "posU = await mtcs.rem.mthexapod_1.evt_uncompensatedPosition.aget(timeout=10.)\n",
    "print('Uncompensated position')\n",
    "print(\" \".join(f\"{p:10.2f}\" for p in [getattr(posU, i) for i in 'xyz']), end = '    ')\n",
    "print(\" \".join(f\"{p:10.6f}\" for p in [getattr(posU, i) for i in 'uvw']),'  ',\n",
    "     pd.to_datetime(posU.private_sndStamp, unit='s'))    \n",
    "\n",
    "posC = await mtcs.rem.mthexapod_1.evt_compensatedPosition.aget(timeout=10.)\n",
    "print('Compensated position')\n",
    "print(\" \".join(f\"{p:10.2f}\" for p in [getattr(posC, i) for i in 'xyz']), end = '     ')\n",
    "print(\" \".join(f\"{p:10.6f}\" for p in [getattr(posC, i) for i in 'uvw']),'  ',\n",
    "     pd.to_datetime(posC.private_sndStamp, unit='s'))"
   ]
  },
  {
   "cell_type": "code",
   "execution_count": 45,
   "metadata": {},
   "outputs": [
    {
     "name": "stdout",
     "output_type": "stream",
     "text": [
      "Does the hexapod has enough inputs to do LUT compensation? (If the below times out, we do not.)\n",
      "mount elevation =  80.0\n",
      "mount azimth =  0.0\n",
      "rotator angle =  0.0\n",
      "? temperature =  0.0\n",
      "x = -0.87\n",
      "y = -423.42\n",
      "z = 283.37\n",
      "u = -0.01\n",
      "v = 0.00\n",
      "w = 0.00\n"
     ]
    }
   ],
   "source": [
    "print(\"Does the hexapod has enough inputs to do LUT compensation? (If the below times out, we do not.)\")\n",
    "# Note: the target events are what the hexa CSC checks; if one is missing, the entire LUT will not be applied\n",
    "# It also needs to see an uncompensatedPosition (a move would trigger that) in order to move to the compensatedPosition\n",
    "a = await mtcs.rem.mthexapod_1.evt_compensationOffset.aget(timeout=10.)\n",
    "\n",
    "print(\"mount elevation = \", a.elevation)\n",
    "print(\"mount azimth = \", a.azimuth)\n",
    "print(\"rotator angle = \", a.rotation)\n",
    "print(\"? temperature = \", a.temperature)\n",
    "print(\"\\n\".join(f\"{i} = {getattr(a, i):.2f}\" for i in \"xyzuvw\"))"
   ]
  },
  {
   "cell_type": "markdown",
   "metadata": {},
   "source": [
    "## Get M2Hex Ready\n",
    "\n",
    "- Check config \n",
    "- Make sure LUT is on, and has valid inputs\n",
    "- Make sure M2Hex is at LUT position"
   ]
  },
  {
   "cell_type": "code",
   "execution_count": null,
   "metadata": {},
   "outputs": [],
   "source": [
    "# Check the configuration\n",
    "print(mtcs.rem.mthexapod_2.evt_configurationApplied.get())\n",
    "\n",
    "camhex_config = await mtcs.rem.mthexapod_1.evt_configuration.aget(timeout=10.)\n",
    "print(\n",
    "    f\"\\nPivot at ({hexaConfig.pivotX}, {hexaConfig.pivotY}, {hexaConfig.pivotZ}) microns \"\n",
    "    f\"\\n maxXY = {hexaConfig.maxXY} microns, maxZ = {hexaConfig.maxZ} microns\"\n",
    "    f\"\\n maxUV = {hexaConfig.maxUV} deg, maxW = {hexaConfig.maxW} deg\"\n",
    ")"
   ]
  },
  {
   "cell_type": "code",
   "execution_count": null,
   "metadata": {},
   "outputs": [],
   "source": [
    "# Enable compensation mode for M2Hex\n",
    "await mtcs.enable_compensation_mode(\"mthexapod_2\")"
   ]
  },
  {
   "cell_type": "code",
   "execution_count": null,
   "metadata": {},
   "outputs": [],
   "source": [
    "# Reset the M2 Hexapod position\n",
    "await mtcs.reset_m2_hexapod_position()"
   ]
  },
  {
   "cell_type": "code",
   "execution_count": null,
   "metadata": {},
   "outputs": [],
   "source": [
    "# Print Compensation Position and Uncompensation Position\n",
    "posU = await mtcs.rem.mthexapod_2.evt_uncompensatedPosition.aget(timeout=10.)\n",
    "print('Uncompensated position')\n",
    "print(\" \".join(f\"{p:10.2f}\" for p in [getattr(posU, i) for i in 'xyz']), end = '    ')\n",
    "print(\" \".join(f\"{p:10.6f}\" for p in [getattr(posU, i) for i in 'uvw']),'  ',\n",
    "     pd.to_datetime(posU.private_sndStamp, unit='s'))    \n",
    "\n",
    "posC = await mtcs.rem.mthexapod_2.evt_compensatedPosition.aget(timeout=10.)\n",
    "print('Compensated position')\n",
    "print(\" \".join(f\"{p:10.2f}\" for p in [getattr(posC, i) for i in 'xyz']), end = '     ')\n",
    "print(\" \".join(f\"{p:10.6f}\" for p in [getattr(posC, i) for i in 'uvw']),'  ',\n",
    "     pd.to_datetime(posC.private_sndStamp, unit='s'))"
   ]
  },
  {
   "cell_type": "code",
   "execution_count": null,
   "metadata": {},
   "outputs": [],
   "source": [
    "print(\"Does the hexapod has enough inputs to do LUT compensation? (If the below times out, we do not.)\")\n",
    "# Note: the target events are what the hexa CSC checks; if one is missing, the entire LUT will not be applied\n",
    "# It also needs to see an uncompensatedPosition (a move would trigger that) in order to move to the compensatedPosition\n",
    "a = await mtcs.rem.mthexapod_2.evt_compensationOffset.aget(timeout=10.)\n",
    "\n",
    "print(\"mount elevation = \", a.elevation)\n",
    "print(\"mount azimth = \", a.azimuth)\n",
    "print(\"rotator angle = \", a.rotation)\n",
    "print(\"? temperature = \", a.temperature)\n",
    "print(\"\\n\".join(f\"{i} = {getattr(a, i):.2f}\" for i in \"xyzuvw\"))"
   ]
  },
  {
   "cell_type": "markdown",
   "metadata": {},
   "source": [
    "## Gather Data - No AO\n",
    "\n",
    "  * command the mount to elevation =86 deg, azimuth = 0\n",
    "  * wait 39s\n",
    "  * command the mount to elevation = 82 deg, azimuth = 0."
   ]
  },
  {
   "cell_type": "code",
   "execution_count": null,
   "metadata": {},
   "outputs": [],
   "source": []
  },
  {
   "cell_type": "code",
   "execution_count": null,
   "metadata": {},
   "outputs": [],
   "source": []
  },
  {
   "cell_type": "code",
   "execution_count": null,
   "metadata": {},
   "outputs": [],
   "source": []
  },
  {
   "cell_type": "code",
   "execution_count": null,
   "metadata": {},
   "outputs": [],
   "source": []
  },
  {
   "cell_type": "code",
   "execution_count": null,
   "metadata": {},
   "outputs": [],
   "source": []
  },
  {
   "cell_type": "code",
   "execution_count": null,
   "metadata": {},
   "outputs": [],
   "source": []
  },
  {
   "cell_type": "markdown",
   "metadata": {},
   "source": [
    "### Step 1: add aberrations via OFC"
   ]
  },
  {
   "cell_type": "code",
   "execution_count": null,
   "metadata": {},
   "outputs": [],
   "source": [
    "zernikes = np.zeros(19)\n",
    "zerIdx = np.arange(4, 23)\n",
    "zernikes[7-4] = 1 #add 1um of z7\n",
    "print(zerIdx)\n",
    "print(zernikes)"
   ]
  },
  {
   "cell_type": "code",
   "execution_count": null,
   "metadata": {},
   "outputs": [],
   "source": [
    "#x0 makes sure corrections double when same aberrations are added twice\n",
    "config = {\"xref\": \"x0\"}  \n",
    "config_yaml = yaml.safe_dump(config)"
   ]
  },
  {
   "cell_type": "code",
   "execution_count": null,
   "metadata": {},
   "outputs": [],
   "source": [
    "await aos.cmd_addAberration.set_start(wf = zernikes, config=config_yaml)"
   ]
  },
  {
   "cell_type": "code",
   "execution_count": null,
   "metadata": {},
   "outputs": [],
   "source": [
    "ofc_dict =  await ofcSentApplied(aos, m1m3, m2, camhex, m2hex, make_plot = True)"
   ]
  },
  {
   "cell_type": "code",
   "execution_count": null,
   "metadata": {},
   "outputs": [],
   "source": [
    "await aos.cmd_issueCorrection.set_start() "
   ]
  },
  {
   "cell_type": "code",
   "execution_count": null,
   "metadata": {},
   "outputs": [],
   "source": [
    "ofc_dict =  await ofcSentApplied(aos, m1m3, m2, camhex, m2hex, make_plot = True)"
   ]
  },
  {
   "cell_type": "markdown",
   "metadata": {},
   "source": [
    "#### Look at telemetry to verify the changes in the DOFs"
   ]
  },
  {
   "cell_type": "code",
   "execution_count": null,
   "metadata": {},
   "outputs": [],
   "source": [
    "end = Time(datetime.now(), scale='tai')\n",
    "#end = Time('2021-05-14T18:25:30', scale = 'tai')\n",
    "start = end - timedelta(seconds=100)\n",
    "\n",
    "dfm = await client.select_time_series('lsst.sal.MTMount.elevation', '*', start, end, csc_index)\n",
    "dfm1m3 = await client.select_time_series('lsst.sal.MTM1M3.logevent_appliedActiveOpticForces', '*', start, end, csc_index)\n",
    "dfm2 = await client.select_time_series('lsst.sal.MTM2.axialForce', '*', start, end, csc_index)\n",
    "dfh = await client.select_time_series('lsst.sal.MTHexapod.logevent_uncompensatedPosition', '*', start, end, csc_index)\n",
    "\n",
    "idx1=dfh.MTHexapodID==1\n",
    "dfh1 = dfh[idx1]\n",
    "idx2=dfh.MTHexapodID==2\n",
    "dfh2 = dfh[idx2]"
   ]
  },
  {
   "cell_type": "code",
   "execution_count": null,
   "metadata": {},
   "outputs": [],
   "source": [
    "fig, ax = plt.subplots(1,1, figsize=(15,4))\n",
    "#plt.plot(dfm.actualPosition, '--', label='mount elevation')\n",
    "plt.plot(dfm1m3.zForces0*1e3, label='M1M3 aos force 101 (x1000N)')\n",
    "plt.plot(dfm2.applied0*1e2, label='M2 aos force B1 (x100N)')\n",
    "plt.plot(dfh1.y, '*', label='Camera hexapod y (microns)')\n",
    "plt.plot(dfh2.y, 'o', label='M2 hexapod y (microns)')\n",
    "plt.grid()\n",
    "plt.legend()"
   ]
  },
  {
   "cell_type": "markdown",
   "metadata": {},
   "source": [
    "### Step 2: Reset the corrections"
   ]
  },
  {
   "cell_type": "code",
   "execution_count": null,
   "metadata": {},
   "outputs": [],
   "source": [
    "await aos.cmd_resetCorrection.set_start()\n",
    "await aos.cmd_issueCorrection.set_start() "
   ]
  },
  {
   "cell_type": "code",
   "execution_count": null,
   "metadata": {},
   "outputs": [],
   "source": [
    "ofc_dict3 =  await ofcSentApplied(aos, m1m3, m2, camhex, m2hex, make_plot = True)"
   ]
  },
  {
   "cell_type": "markdown",
   "metadata": {},
   "source": [
    "### Step 3: Double the aberration, do the corrections double? yes"
   ]
  },
  {
   "cell_type": "code",
   "execution_count": null,
   "metadata": {},
   "outputs": [],
   "source": [
    "zernikes[7-4] = 2 # z7 = 2um"
   ]
  },
  {
   "cell_type": "code",
   "execution_count": null,
   "metadata": {},
   "outputs": [],
   "source": [
    "await aos.cmd_addAberration.set_start(wf = zernikes) #config=??"
   ]
  },
  {
   "cell_type": "code",
   "execution_count": null,
   "metadata": {},
   "outputs": [],
   "source": [
    "await aos.cmd_issueCorrection.set_start() "
   ]
  },
  {
   "cell_type": "code",
   "execution_count": null,
   "metadata": {},
   "outputs": [],
   "source": [
    "ofc_dict4 =  await ofcSentApplied(aos, m1m3, m2, camhex, m2hex, make_plot = True)"
   ]
  },
  {
   "cell_type": "code",
   "execution_count": null,
   "metadata": {},
   "outputs": [],
   "source": [
    "ofc_dict4['camhexC'][:5]/ofc_dict['camhexC'][:5]"
   ]
  },
  {
   "cell_type": "code",
   "execution_count": null,
   "metadata": {},
   "outputs": [],
   "source": [
    "ofc_dict4['m2hexC'][:5]/ofc_dict['m2hexC'][:5]"
   ]
  },
  {
   "cell_type": "markdown",
   "metadata": {},
   "source": [
    "### Close up"
   ]
  },
  {
   "cell_type": "code",
   "execution_count": null,
   "metadata": {},
   "outputs": [],
   "source": [
    "#if we started with enabled state, we need to put it back\n",
    "await salobj.set_summary_state(m1m3, salobj.State.ENABLED,  settingsToApply='Default')"
   ]
  },
  {
   "cell_type": "code",
   "execution_count": null,
   "metadata": {},
   "outputs": [],
   "source": [
    "await salobj.set_summary_state(m2, salobj.State.OFFLINE)"
   ]
  },
  {
   "cell_type": "code",
   "execution_count": null,
   "metadata": {},
   "outputs": [],
   "source": [
    "await salobj.set_summary_state(m1m3, salobj.State.STANDBY)"
   ]
  },
  {
   "cell_type": "code",
   "execution_count": null,
   "metadata": {},
   "outputs": [],
   "source": [
    "await salobj.set_summary_state(camhex, salobj.State.STANDBY)"
   ]
  },
  {
   "cell_type": "code",
   "execution_count": null,
   "metadata": {},
   "outputs": [],
   "source": [
    "await salobj.set_summary_state(aos, salobj.State.STANDBY)"
   ]
  },
  {
   "cell_type": "code",
   "execution_count": null,
   "metadata": {},
   "outputs": [],
   "source": [
    "await lowerM1M3(m1m3)"
   ]
  },
  {
   "cell_type": "markdown",
   "metadata": {},
   "source": [
    "### Check if the telescope is in tracking mode. If yes, need to stop stacking. \n",
    "The alternative is to check \"MT Mount status\" dash board on Chronograf. Make sure there are three \"False\"."
   ]
  },
  {
   "cell_type": "code",
   "execution_count": null,
   "metadata": {},
   "outputs": [],
   "source": [
    "mountStatus = await mount.evt_axesInPosition.aget(timeout=5.)\n",
    "rotStatus = await rot.evt_inPosition.aget(timeout=5.)\n",
    "trackingStatus = mountStatus.elevation and mountStatus.azimuth and rotStatus.inPosition\n",
    "print('Are we tracking?', trackingStatus)"
   ]
  },
  {
   "cell_type": "code",
   "execution_count": null,
   "metadata": {},
   "outputs": [],
   "source": [
    "await ptg.cmd_stopTracking.set_start(timeout=5.)"
   ]
  }
 ],
 "metadata": {
  "kernelspec": {
   "display_name": "LSST",
   "language": "python",
   "name": "lsst"
  },
  "language_info": {
   "codemirror_mode": {
    "name": "ipython",
    "version": 3
   },
   "file_extension": ".py",
   "mimetype": "text/x-python",
   "name": "python",
   "nbconvert_exporter": "python",
   "pygments_lexer": "ipython3",
   "version": "3.8.13"
  },
  "toc-showmarkdowntxt": false
 },
 "nbformat": 4,
 "nbformat_minor": 4
}
