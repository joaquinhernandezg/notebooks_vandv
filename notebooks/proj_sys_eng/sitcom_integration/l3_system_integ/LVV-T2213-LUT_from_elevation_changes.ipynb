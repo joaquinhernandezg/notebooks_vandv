{
 "cells": [
  {
   "cell_type": "markdown",
   "metadata": {},
   "source": [
    "# [LVV-T2213] - Look-up Table Application from MTMount Elevation Changes\n",
    "\n",
    "This notebook was originally written by Bo Xin in the [lsst-ts/ts_notebooks] repository.  \n",
    "It is a modified version with updated commands and simplified steps.\n",
    "\n",
    "**Make sure you run this notebook on TTS before running at the summit.**\n",
    "\n",
    "Please, see the [README] file for the requirements to run this notebook.\n",
    "\n",
    "**Requirements:**\n",
    " - All the MT components should be enabled.\n",
    " \n",
    "Please, see the [README] file for the requirements to run this notebook.  \n",
    "The log messages printed in this notebook are stored in the EFD Script using the `-TTTTMMDD` format, where `TTTT` are the four last digits of the test case, `MM` is the 0-padded month, and `DD` is the 0-padded day of execution.\n",
    "\n",
    "[lsst-ts/ts_notebooks]: https://github.com/lsst-ts/ts_notebooks/blob/develop/bxin/aos2comp/aos2comp.ipynb\n",
    "[LVV-T2213]: https://jira.lsstcorp.org/secure/Tests.jspa#/testCase/LVV-T2213\n",
    "[README]: https://github.com/lsst-sitcom/notebooks_vandv/blob/develop/README.md"
   ]
  },
  {
   "cell_type": "markdown",
   "metadata": {},
   "source": [
    "---\n",
    "## Prepare the environment\n",
    "\n",
    "Notebook preparations:\n",
    "- Log on to Nublado\n",
    "- Close the current repository using: `git clone https://github.com/lsst-sitcom/notebooks_vandv.git`\n",
    "- You can also visit some old notebooks stored in [tickets/DM-29548/bxin/aos2comp]\n",
    "- [Chronograf Dashboard]\n",
    "\n",
    "[tickets/DM-29548/bxin/aos2comp]: https://github.com/lsst-ts/ts_notebooks/tree/tickets/DM-29548/bxin/aos2comp\n",
    "[Chronograf Dashboard]: https://chronograf-summit-efd.lsst.codes/sources/1/dashboards/69?refresh=Paused&lower=now%28%29%20-%2015m"
   ]
  },
  {
   "cell_type": "code",
   "execution_count": null,
   "metadata": {},
   "outputs": [],
   "source": [
    "test_case = \"LVV-T2213\"\n",
    "test_exec = \"LVV-EXXXX\"\n",
    "safe = False"
   ]
  },
  {
   "cell_type": "code",
   "execution_count": null,
   "metadata": {},
   "outputs": [],
   "source": [
    "%load_ext autoreload\n",
    "%autoreload 2\n",
    "\n",
    "import asyncio\n",
    "import os\n",
    "import yaml\n",
    "\n",
    "import astropy.units as u\n",
    "import numpy as np\n",
    "\n",
    "from astropy.time import Time\n",
    "from astropy.coordinates import AltAz, ICRS, EarthLocation, Angle, FK5\n",
    "from datetime import datetime, timedelta\n",
    "\n",
    "from lsst.ts import utils, salobj\n",
    "from lsst.ts.observatory.control.maintel.mtcs import MTCS, MTCSUsages\n",
    "from lsst.ts.observatory.control import RotType\n",
    "\n",
    "import lsst.sitcom.vandv as vandv"
   ]
  },
  {
   "cell_type": "code",
   "execution_count": null,
   "metadata": {},
   "outputs": [],
   "source": [
    "exec_info = vandv.ExecutionInfo()\n",
    "print(exec_info)"
   ]
  },
  {
   "cell_type": "markdown",
   "metadata": {},
   "source": [
    "Use the `maintel/setup_mtcs.py` script in LOVE or the [LVV-T2344] to test case and notebook to setup all the main telescope components.  \n",
    "This includes simulators as well as real hardware when available (this will depend on when the test is conducted at TTS or on level 3 or on the telescope):  \n",
    "\n",
    "- pointing  \n",
    "- mount ( with the CCW)  \n",
    "- rotator  \n",
    "- ready M1M3: raise mirror, turn on FB, clear forces. Note that if used at level 3, we need to have M1M3 LUT use mount telemetry  \n",
    "- ready M2: turn on FB, clear forces. Note that if used at level 3, we need to have M2 LUT use mount telemetry  \n",
    "- Get cam hex Ready: check config; make sure LUT is on and has valid inputs; make sure hex is at LUT position  \n",
    "- Get M2 hex (simulator) Ready: check config; make sure LUT is on and has valid inputs; make sure hex is at LUT position  \n",
    "- Finally, get the MTAOS CSC ready  \n",
    "\n",
    "[LVV-T2344]: https://jira.lsstcorp.org/secure/Tests.jspa#/testCase/LVV-T2344"
   ]
  },
  {
   "cell_type": "code",
   "execution_count": null,
   "metadata": {},
   "outputs": [],
   "source": [
    "logging.basicConfig(format=\"%(asctime)s %(name)s: %(message)s\", level=logging.DEBUG)\n",
    "\n",
    "log = logging.getLogger(\"lvv-t2213\")\n",
    "log.level = logging.DEBUG"
   ]
  },
  {
   "cell_type": "code",
   "execution_count": null,
   "metadata": {},
   "outputs": [],
   "source": [
    "print(os.environ[\"OSPL_URI\"])\n",
    "print(os.environ[\"LSST_DDS_PARTITION_PREFIX\"])\n",
    "print(os.environ[\"LSST_DDS_DOMAIN_ID\"])\n",
    "\n",
    "os.environ[\"LSST_DDS_HISTORYSYNC\"] = \"200\"\n",
    "domain = salobj.Domain()\n",
    "\n",
    "print(f\"My user_host is {domain.user_host!r}\\n\")"
   ]
  },
  {
   "cell_type": "code",
   "execution_count": null,
   "metadata": {},
   "outputs": [],
   "source": [
    "domain = salobj.Domain()"
   ]
  },
  {
   "cell_type": "code",
   "execution_count": null,
   "metadata": {},
   "outputs": [],
   "source": [
    "mtcs = MTCS(domain=domain, log=log)\n",
    "mtcs.set_rem_loglevel(logging.ERROR)"
   ]
  },
  {
   "cell_type": "code",
   "execution_count": null,
   "metadata": {},
   "outputs": [],
   "source": [
    "await mtcs.start_task"
   ]
  },
  {
   "cell_type": "markdown",
   "metadata": {},
   "source": [
    "Run the cell below to hide all the messages related to the DDS and have a cleaner notebook."
   ]
  },
  {
   "cell_type": "code",
   "execution_count": null,
   "metadata": {},
   "outputs": [],
   "source": [
    "vandv.logger.add_filter_to_mtcs()"
   ]
  },
  {
   "cell_type": "markdown",
   "metadata": {},
   "source": [
    "The `Script` CSC is used to record test checkpoints and allow to easy search in the EFD."
   ]
  },
  {
   "cell_type": "code",
   "execution_count": null,
   "metadata": {},
   "outputs": [],
   "source": [
    "script = salobj.Controller(\"Script\", index=vandv.get_index(test_case))\n",
    "await asyncio.sleep(10) \n",
    "\n",
    "script.start_task"
   ]
  },
  {
   "cell_type": "markdown",
   "metadata": {},
   "source": [
    "## Check the components status"
   ]
  },
  {
   "cell_type": "code",
   "execution_count": null,
   "metadata": {},
   "outputs": [],
   "source": [
    "# Verify that all the components have heartbeats\n",
    "await mtcs.assert_liveliness()"
   ]
  },
  {
   "cell_type": "code",
   "execution_count": null,
   "metadata": {},
   "outputs": [],
   "source": [
    "# Verify that all the components are enabled\n",
    "await mtcs.assert_all_enabled()"
   ]
  },
  {
   "cell_type": "markdown",
   "metadata": {},
   "source": [
    "## Setting up components\n",
    "\n",
    "This tests runs in a special configuration where M1M3 and M2 use the mount telemetry instead of the inclinometer telemetry as inputs for the LUT.  \n",
    "Such configuration allows testing their LUT without moving the mirrors physically. "
   ]
  },
  {
   "cell_type": "code",
   "execution_count": null,
   "metadata": {},
   "outputs": [],
   "source": [
    "az = mtcs.rem.mtmount.tel_azimuth.get()\n",
    "el = mtcs.rem.mtmount.tel_elevation.get()\n",
    "\n",
    "print(\n",
    "    f\"Current Az/El:\\n\"\n",
    "    f\" Az: {az.actualPosition:.2f}\\n\"\n",
    "    f\" El: {el.actualPosition:.2f}\\n\"\n",
    ")"
   ]
  },
  {
   "cell_type": "code",
   "execution_count": null,
   "metadata": {},
   "outputs": [],
   "source": [
    "if safe:\n",
    "    await mtcs.point_azel(az=0, el=90)\n",
    "else:\n",
    "    await vandv.mount.moveMountInElevationSteps(mtcs.rem.mtmount, 90., azimuth=0)"
   ]
  },
  {
   "cell_type": "markdown",
   "metadata": {},
   "source": [
    "### Get M1M3 LUT subscribed to the Mount\n",
    "\n",
    "<p style=\"color: firebrick\"><b> When M1M3 LUT is using the mount to get the elevation, avoid changes greater than 1 deg per command and avoid going lower than 82.5 deg </b></p>\n",
    "\n",
    "\n",
    "- Put M1M3 in STANDBY\n",
    "- Change the configuration files to make M1M3 LUT to look at the mount elevation instead of the inclinometer.\n",
    "- Reset the M1M3 CSC\n",
    "- Put M1M3 back in ENABLED state\n",
    "- Raise the mirror, turn on FB, clear forces.\n",
    "- Check that the M1M3 LUT uses the mount telemetry."
   ]
  },
  {
   "cell_type": "code",
   "execution_count": null,
   "metadata": {},
   "outputs": [],
   "source": [
    "await mtcs.lower_m1m3()\n",
    "\n",
    "await mtcs.set_state(\n",
    "    state=salobj.State.STANDBY,\n",
    "    components=[\"mtm1m3\"], \n",
    "    overrides = {\"mtm1m3\": 'Default'}\n",
    "    )"
   ]
  },
  {
   "cell_type": "markdown",
   "metadata": {},
   "source": [
    "<div class=\"alert alert-warning\"> Change configuration. </div>"
   ]
  },
  {
   "cell_type": "code",
   "execution_count": null,
   "metadata": {},
   "outputs": [],
   "source": [
    "await mtcs.set_state(\n",
    "    state=salobj.State.ENABLED,\n",
    "    components=[\"mtm1m3\"], \n",
    "    overrides = {\"mtm1m3\": 'Default'}\n",
    "    )"
   ]
  },
  {
   "cell_type": "code",
   "execution_count": null,
   "metadata": {},
   "outputs": [],
   "source": [
    "# Ensure that we are not tracking\n",
    "await mtcs.stop_tracking()\n",
    "\n",
    "# Make sure M1M3 is raised\n",
    "await mtcs.raise_m1m3()\n",
    "\n",
    "# Make sure hardpoint corrections are enabled for M1M3\n",
    "await mtcs.enable_m1m3_balance_system()\n",
    "await asyncio.sleep(5)\n",
    "\n",
    "await mtcs.reset_m1m3_forces()\n",
    "await asyncio.sleep(5)"
   ]
  },
  {
   "cell_type": "markdown",
   "metadata": {},
   "source": [
    "### Get M2 LUT subscribed to the Mount\n",
    "\n",
    "<p style=\"color: firebrick\"><b> When M2 LUT is using the mount to get the elevation, avoid changes greater than 1 deg per command and avoid going lower than 82.5 deg </b></p>\n",
    "\n",
    "\n",
    "See [Use of M2 EUI on Summit] for further details.\n",
    "\n",
    "- Put M2 in STANDBY\n",
    "- Change the configuration files to make M2 LUT look at the mount elevation instead of the inclinometer.\n",
    "- Reset the M2 EUI.\n",
    "- Put M2 back in ENABLED state\n",
    "- Turn on FB, and clear forces.\n",
    "\n",
    "[Use of M2 EUI on Summit]: https://confluence.lsstcorp.org/display/LTS/Use+of+M2+EUI+on+Summit"
   ]
  },
  {
   "cell_type": "code",
   "execution_count": null,
   "metadata": {},
   "outputs": [],
   "source": [
    "await mtcs.set_state(\n",
    "    state=salobj.State.STANDBY,\n",
    "    components=[\"mtm2\"], \n",
    "    )"
   ]
  },
  {
   "cell_type": "markdown",
   "metadata": {},
   "source": [
    "<div class=\"alert alert-warning\"> Change configuration. </div>"
   ]
  },
  {
   "cell_type": "code",
   "execution_count": null,
   "metadata": {},
   "outputs": [],
   "source": [
    "await mtcs.set_state(\n",
    "    state=salobj.State.ENABLED,\n",
    "    components=[\"mtm2\"], \n",
    "    )"
   ]
  },
  {
   "cell_type": "code",
   "execution_count": null,
   "metadata": {},
   "outputs": [],
   "source": [
    "# Make sure hardpoint corrections are enabled for M2\n",
    "await mtcs.enable_m2_balance_system()\n",
    "await asyncio.sleep(5)\n",
    "\n",
    "await mtcs.reset_m2_forces()\n",
    "await asyncio.sleep(5)"
   ]
  },
  {
   "cell_type": "markdown",
   "metadata": {},
   "source": [
    "### Get CamHex Ready\n",
    "- Check config \n",
    "- Make sure LUT is on, and has valid inputs\n",
    "- Make sure hex is at LUT position"
   ]
  },
  {
   "cell_type": "code",
   "execution_count": null,
   "metadata": {},
   "outputs": [],
   "source": [
    "# Disable and Enable CamHex so we can assure to start fresh\n",
    "await mtcs.set_state(salobj.State.DISABLED, components=[\"mthexapod_1\"])\n",
    "await mtcs.set_state(salobj.State.ENABLED, components=[\"mthexapod_1\"])"
   ]
  },
  {
   "cell_type": "code",
   "execution_count": null,
   "metadata": {},
   "outputs": [],
   "source": [
    "# Check the configuration\n",
    "await vandv.hexapod.get_hexapod_configuration(mtcs.rem.mthexapod_1)"
   ]
  },
  {
   "cell_type": "code",
   "execution_count": null,
   "metadata": {},
   "outputs": [],
   "source": [
    "# Enable compensation mode for CamHex\n",
    "await mtcs.enable_compensation_mode(\"mthexapod_1\")"
   ]
  },
  {
   "cell_type": "code",
   "execution_count": null,
   "metadata": {},
   "outputs": [],
   "source": [
    "# Reset the Camera Hexapod position\n",
    "await mtcs.reset_camera_hexapod_position()"
   ]
  },
  {
   "cell_type": "code",
   "execution_count": null,
   "metadata": {},
   "outputs": [],
   "source": [
    "# After resetting the Camera Hexapod position, we want to make sure that \n",
    "# the compensation and non-compensation values are the same.\n",
    "await vandv.hexapod.print_hexapod_uncompensation_values(mtcs.rem.mthexapod_1)\n",
    "await vandv.hexapod.print_hexapod_compensation_values(mtcs.rem.mthexapod_1)"
   ]
  },
  {
   "cell_type": "code",
   "execution_count": null,
   "metadata": {},
   "outputs": [],
   "source": [
    "# Need to have CamHex LUT use mount telemetry\n",
    "await vandv.hexapod.check_hexapod_lut(mtcs.rem.mthexapod_1)"
   ]
  },
  {
   "cell_type": "markdown",
   "metadata": {},
   "source": [
    "### Get M2Hex Ready\n",
    "\n",
    "- Check config \n",
    "- Make sure LUT is on, and has valid inputs\n",
    "- Make sure M2Hex is at LUT position"
   ]
  },
  {
   "cell_type": "code",
   "execution_count": null,
   "metadata": {},
   "outputs": [],
   "source": [
    "# Check the configuration\n",
    "await vandv.hexapod.get_hexapod_configuration(mtcs.rem.mthexapod_2)"
   ]
  },
  {
   "cell_type": "code",
   "execution_count": null,
   "metadata": {},
   "outputs": [],
   "source": [
    "# Enable compensation mode for M2Hex\n",
    "await mtcs.enable_compensation_mode(\"mthexapod_2\")"
   ]
  },
  {
   "cell_type": "code",
   "execution_count": null,
   "metadata": {},
   "outputs": [],
   "source": [
    "# Reset the M2 Hexapod position\n",
    "await mtcs.reset_m2_hexapod_position()"
   ]
  },
  {
   "cell_type": "code",
   "execution_count": null,
   "metadata": {},
   "outputs": [],
   "source": [
    "# After resetting the Camera Hexapod position, we want to make sure that \n",
    "# the compesation and non-compensation values are the same.\n",
    "await vandv.hexapod.print_hexapod_uncompensation_values(mtcs.rem.mthexapod_2)\n",
    "await vandv.hexapod.print_hexapod_compensation_values(mtcs.rem.mthexapod_2)"
   ]
  },
  {
   "cell_type": "code",
   "execution_count": null,
   "metadata": {},
   "outputs": [],
   "source": [
    "# Need to have CamHex LUT use mount telemetry\n",
    "await vandv.hexapod.check_hexapod_lut(mtcs.rem.mthexapod_1)"
   ]
  },
  {
   "cell_type": "markdown",
   "metadata": {},
   "source": [
    "## Elevation LUT testing \n",
    "\n",
    "Since we are testing only the application of the LUT to M1M3, M2, and the hexapods,  \n",
    "we want to disable the active optics loop component of it.  \n",
    "Depending on in what configuration you are running this test, you might want to move the mount in small or large steps. \n",
    "\n",
    "  * command the mount to elevation =86 deg, azimuth = 0\n",
    "  * wait 39s\n",
    "  * command the mount to elevation = 82 deg, azimuth = 0.\n",
    "  \n",
    "**Important**: We know that the minimal stable elevation angle for a non-safe operation is 82.5 deg.  \n",
    "So we are adapting the test to ensure we can run it without diverging the control loop."
   ]
  },
  {
   "cell_type": "markdown",
   "metadata": {},
   "source": [
    "### Is it safe to move the mount in one big slew?  \n",
    "  \n",
    "If M1M3 and M2 are on Level 3 and we are running them with the LUT using the Mount Telemetry as input, it might not be safe.  \n",
    "Same if M1M3 and M2 are stuck in a fixed position.  \n",
    "The divergence between the actual gravity vector and what they are trying to compensate might cause the control loops to diverge causing unexpected behaviors.  \n",
    "In this case, move from one position to another in small steps.  \n",
    "  \n",
    "Otherwhise, it is safe to move in big slews.  "
   ]
  },
  {
   "cell_type": "code",
   "execution_count": null,
   "metadata": {},
   "outputs": [],
   "source": [
    "print(datetime.now())\n",
    "script.log.info(f\"START - {test_case} {test_exec} Elevation LUT testing - Safe? {safe}\")"
   ]
  },
  {
   "cell_type": "code",
   "execution_count": null,
   "metadata": {},
   "outputs": [],
   "source": [
    "if safe:\n",
    "    print(datetime.now())\n",
    "    script.log.info(f\"MOVING - {test_case} {test_exec} Moving to az/el = 0./86.\")\n",
    "    await mtcs.point_azel(az=0, el=86)\n",
    "    await asyncio.sleep(39.)\n",
    "    \n",
    "    print(datetime.now())\n",
    "    script.log.info(f\"MOVING - {test_case} {test_exec} Moving to az/el = 0./82.5\")\n",
    "    await mtcs.point_azel(az=0, el=82.5)\n",
    "    await asyncio.sleep(39.)\n",
    "\n",
    "else:\n",
    "    print(datetime.now())\n",
    "    script.log.info(f\"MOVING - {test_case} {test_exec} Moving to az/el = 0./86.\")\n",
    "    await vandv.mount.moveMountInElevationSteps(mtcs.rem.mtmount, 86., azimuth=0)\n",
    "    await asyncio.sleep(39.)\n",
    "    \n",
    "    print(datetime.now())\n",
    "    script.log.info(f\"MOVING - {test_case} {test_exec} Moving to az/el = 0./82.5\")\n",
    "    await vandv.mount.moveMountInElevationSteps(mtcs.rem.mtmount, 82.5, azimuth=0)\n",
    "    await asyncio.sleep(39.)"
   ]
  },
  {
   "cell_type": "code",
   "execution_count": null,
   "metadata": {},
   "outputs": [],
   "source": [
    "print(datetime.now())\n",
    "script.log.info(f\"END - {test_case} {test_exec} Elevation LUT testing - Safe? {safe}\")"
   ]
  },
  {
   "cell_type": "markdown",
   "metadata": {},
   "source": [
    "## Azimuth LUT testing\n",
    "\n",
    "We need to test the application of the LUT on M1M3, M2, and the hexapods for different Azimuth angles.  \n",
    "For this, we run:\n",
    "\n",
    "* Command the mount to elevation=84 deg, azimuth=90 deg\n",
    "* Wait for 39s\n",
    "* Command the mount to elevation=85deg, azimuth=180deg"
   ]
  },
  {
   "cell_type": "code",
   "execution_count": null,
   "metadata": {},
   "outputs": [],
   "source": [
    "print(datetime.now())\n",
    "script.log.info(f\"START - {test_case} {test_exec} Azimuth LUT testing - Safe? {safe}\")"
   ]
  },
  {
   "cell_type": "code",
   "execution_count": null,
   "metadata": {},
   "outputs": [],
   "source": [
    "if safe:\n",
    "    print(datetime.now())\n",
    "    script.log.info(f\"MOVING - {test_case} {test_exec} Moving to az/el = 90./84.\")\n",
    "    await mtcs.point_azel(az=90, el=84)\n",
    "    await asyncio.sleep(39.)\n",
    "    \n",
    "    print(datetime.now())\n",
    "    script.log.info(f\"MOVING - {test_case} {test_exec} Moving to az/el = 180./85.\")\n",
    "    await mtcs.point_azel(az=180, el=85)\n",
    "    await asyncio.sleep(39.)\n",
    "    \n",
    "else:\n",
    "    print(datetime.now())\n",
    "    script.log.info(f\"MOVING - {test_case} {test_exec} Moving to az/el = 90./84.\")\n",
    "    await vandv.mount.moveMountInElevationSteps(mtcs.rem.mtmount, 84., azimuth=90)\n",
    "    await asyncio.sleep(39.)\n",
    "    \n",
    "    print(datetime.now())\n",
    "    script.log.info(f\"MOVING - {test_case} {test_exec} Moving to az/el = 180./85.\")\n",
    "    await vandv.mount.moveMountInElevationSteps(mtcs.rem.mtmount, 85., azimuth=180)\n",
    "    await asyncio.sleep(39.)"
   ]
  },
  {
   "cell_type": "code",
   "execution_count": null,
   "metadata": {},
   "outputs": [],
   "source": [
    "print(datetime.now())\n",
    "script.log.info(f\"END - {test_case} {test_exec} Azimuth LUT testing - Safe? {safe}\")"
   ]
  },
  {
   "cell_type": "markdown",
   "metadata": {},
   "source": [
    "### Close up"
   ]
  },
  {
   "cell_type": "markdown",
   "metadata": {},
   "source": [
    "Before running this step, make sure that you put the system back in to their original state and configuration.  \n",
    "This means that M1M3 and M2 need to have their LUT using their internal inclinometer.  \n",
    "You can copy/paste the cells above to do that here or use LOVE to swich their states before changing configuration.   "
   ]
  },
  {
   "cell_type": "code",
   "execution_count": null,
   "metadata": {},
   "outputs": [],
   "source": [
    "# Put the telescope back to the original position\n",
    "# Specially if running at TTS\n",
    "if safe:\n",
    "    target = mtcs.radec_from_azel(az=0, el=80)\n",
    "    await mtcs.slew_icrs(ra=target.ra, dec=target.dec, rot_type=RotType.Physical, rot=0)\n",
    "    await mtcs.stop_tracking()\n",
    "    \n",
    "else:\n",
    "    await vandv.mount.moveMountInElevationSteps(mtcs.rem.mtmount, 80., azimuth=0.)"
   ]
  },
  {
   "cell_type": "code",
   "execution_count": null,
   "metadata": {},
   "outputs": [],
   "source": [
    "await mtcs.set_state(state=salobj.State.STANDBY, components=[\"mtaos\"])"
   ]
  },
  {
   "cell_type": "code",
   "execution_count": null,
   "metadata": {},
   "outputs": [],
   "source": [
    "await mtcs.lower_m1m3()"
   ]
  },
  {
   "cell_type": "code",
   "execution_count": null,
   "metadata": {},
   "outputs": [],
   "source": [
    "await mtcs.set_state(state=salobj.State.STANDBY, components=[\"mtm1m3\"])"
   ]
  },
  {
   "cell_type": "code",
   "execution_count": null,
   "metadata": {},
   "outputs": [],
   "source": [
    "await mtcs.set_state(state=salobj.State.STANDBY, components=[\"mtm2\"])"
   ]
  },
  {
   "cell_type": "code",
   "execution_count": null,
   "metadata": {},
   "outputs": [],
   "source": [
    "await mtcs.set_state(state=salobj.State.STANDBY, components=[\"mthexapod_1\"])"
   ]
  },
  {
   "cell_type": "code",
   "execution_count": null,
   "metadata": {},
   "outputs": [],
   "source": [
    "await mtcs.set_state(state=salobj.State.STANDBY, components=[\"mthexapod_2\"])"
   ]
  },
  {
   "cell_type": "code",
   "execution_count": null,
   "metadata": {},
   "outputs": [],
   "source": [
    "if exec_info.loc == \"summit\":\n",
    "    await mtcs.standby()\n",
    "\n",
    "else:\n",
    "    # Bring the system back to the original state\n",
    "    await mtcs.set_state(\n",
    "        state=salobj.State.ENABLED,\n",
    "        components=[\n",
    "            \"mtm1m3\", \n",
    "            \"mtm2\",\n",
    "            \"mthexapod_1\",\n",
    "            \"mthexapod_2\",\n",
    "            \"mtaos\",\n",
    "        ],\n",
    "        overrides={\n",
    "            \"mtm1m3\": \"Default\"\n",
    "        }\n",
    "    )"
   ]
  },
  {
   "cell_type": "markdown",
   "metadata": {},
   "source": [
    "## Wrap Up"
   ]
  },
  {
   "cell_type": "code",
   "execution_count": null,
   "metadata": {},
   "outputs": [],
   "source": [
    "await mtcs.lower_m1m3()"
   ]
  },
  {
   "cell_type": "code",
   "execution_count": null,
   "metadata": {
    "tags": []
   },
   "outputs": [],
   "source": [
    "await mtcs.set_state(state=salobj.State.STANDBY, components=[\"mtm1m3\", \"mtm2\", \"mthexapod_1\", \"mthexapod_2\"])"
   ]
  },
  {
   "cell_type": "code",
   "execution_count": null,
   "metadata": {},
   "outputs": [],
   "source": [
    "await mtcs.set_state(state=salobj.State.ENABLED, components=[\"mtm2\", \"mthexapod_1\", \"mthexapod_2\"])"
   ]
  }
 ],
 "metadata": {
  "kernelspec": {
   "display_name": "LSST",
   "language": "python",
   "name": "lsst"
  },
  "language_info": {
   "codemirror_mode": {
    "name": "ipython",
    "version": 3
   },
   "file_extension": ".py",
   "mimetype": "text/x-python",
   "name": "python",
   "nbconvert_exporter": "python",
   "pygments_lexer": "ipython3",
   "version": "3.10.4"
  },
  "toc-showmarkdowntxt": false
 },
 "nbformat": 4,
 "nbformat_minor": 4
}
