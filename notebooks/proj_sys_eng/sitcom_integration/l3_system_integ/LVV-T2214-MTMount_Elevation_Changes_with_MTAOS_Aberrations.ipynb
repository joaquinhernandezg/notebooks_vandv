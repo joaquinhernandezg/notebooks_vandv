{
 "cells": [
  {
   "cell_type": "markdown",
   "metadata": {},
   "source": [
    "# [LVV-T2214] - MTMount_Elevation_Changes_with_MTAOS_Aberrations\n",
    "\n",
    "This notebook was originally written by Bo Xin in the [lsst-ts/ts_notebooks] repository.  \n",
    "It is a modified version with updated commands, plots and simplified steps.\n",
    "\n",
    "**Make sure you run this notebook on TTS before running at the summit.**\n",
    "\n",
    "[lsst-ts/ts_notebooks]: https://github.com/lsst-ts/ts_notebooks/blob/develop/bxin/aos2comp/aos2comp.ipynb\n",
    "[LVV-T2214]: https://jira.lsstcorp.org/secure/Tests.jspa#/testCase/LVV-T2214"
   ]
  },
  {
   "cell_type": "markdown",
   "metadata": {},
   "source": [
    "## Setting Up Test Environment"
   ]
  },
  {
   "cell_type": "code",
   "execution_count": null,
   "metadata": {},
   "outputs": [],
   "source": [
    "test_case = \"LVV-T2216\"\n",
    "test_exec = \"LVV-EXXXX\""
   ]
  },
  {
   "cell_type": "code",
   "execution_count": null,
   "metadata": {},
   "outputs": [],
   "source": [
    "%load_ext autoreload\n",
    "%autoreload 2\n",
    "\n",
    "import os\n",
    "import sys\n",
    "import asyncio\n",
    "import logging\n",
    "import time\n",
    "\n",
    "import pandas as pd\n",
    "import numpy as np\n",
    "\n",
    "from matplotlib import pyplot as plt\n",
    "from astropy.time import Time\n",
    "from datetime import datetime, timedelta\n",
    "import pandas as pd\n",
    "\n",
    "from lsst.ts import salobj\n",
    "from lsst.ts.observatory.control.maintel import MTCS, ComCam\n",
    "from lsst.ts.observatory.control import RotType\n",
    "\n",
    "from lsst.sitcom import vandv"
   ]
  },
  {
   "cell_type": "code",
   "execution_count": null,
   "metadata": {},
   "outputs": [],
   "source": [
    "exec_info = vandv.ExecutionInfo()\n",
    "print(exec_info)"
   ]
  },
  {
   "cell_type": "markdown",
   "metadata": {},
   "source": [
    "Use the [LVV-T2214] to test case and notebook to setup all the main telescope components.  \n",
    "This includes simulators as well as real hardware when available (this will depend on when the test is conducted at TTS or on level 3 or on the telescope):  \n",
    "\n",
    "- pointing  \n",
    "- mount ( with the CCW)  \n",
    "- rotator  \n",
    "- ready M1M3: raise mirror, turn on FB, clear forces. Note that if used at level 3, we need to have M1M3 LUT use mount telemetry  \n",
    "- ready M2: turn on FB, clear forces. Note that if used at level 3, we need to have M2 LUT use mount telemetry  \n",
    "- Get cam hex Ready: check config; make sure LUT is on and has valid inputs; make sure hex is at LUT position  \n",
    "- Get M2 hex (simulator) Ready: check config; make sure LUT is on and has valid inputs; make sure hex is at LUT position  \n",
    "- Finally, get the MTAOS CSC ready  \n",
    "\n",
    "[LVV-T2214]: https://jira.lsstcorp.org/secure/Tests.jspa#/testCase/LVV-T2214"
   ]
  },
  {
   "cell_type": "code",
   "execution_count": null,
   "metadata": {},
   "outputs": [],
   "source": [
    "logging.basicConfig(format=\"%(asctime)s %(name)s: %(message)s\", level=logging.DEBUG)"
   ]
  },
  {
   "cell_type": "code",
   "execution_count": null,
   "metadata": {},
   "outputs": [],
   "source": [
    "log = logging.getLogger(\"setup\")\n",
    "log.level = logging.DEBUG"
   ]
  },
  {
   "cell_type": "code",
   "execution_count": null,
   "metadata": {},
   "outputs": [],
   "source": [
    "os.environ[\"LSST_DDS_HISTORYSYNC\"] = \"200\"\n",
    "domain = salobj.Domain()"
   ]
  },
  {
   "cell_type": "code",
   "execution_count": null,
   "metadata": {},
   "outputs": [],
   "source": [
    "mtcs = MTCS(domain=domain, log=log)\n",
    "mtcs.set_rem_loglevel(logging.ERROR)"
   ]
  },
  {
   "cell_type": "code",
   "execution_count": null,
   "metadata": {},
   "outputs": [],
   "source": [
    "await mtcs.start_task"
   ]
  },
  {
   "cell_type": "markdown",
   "metadata": {},
   "source": [
    "The cell below exposes the mount so we have a more compact code when moving the telescope carefully while M1M3 and M2 are using it to calculate their look-up tables instead of using their internal inclinometer."
   ]
  },
  {
   "cell_type": "code",
   "execution_count": null,
   "metadata": {},
   "outputs": [],
   "source": [
    "mtmount = mtcs.rem.mtmount"
   ]
  },
  {
   "cell_type": "code",
   "execution_count": null,
   "metadata": {},
   "outputs": [],
   "source": [
    "script = salobj.Controller(\"Script\", index=vandv.get_index(test_case))\n",
    "await asyncio.sleep(10) \n",
    "\n",
    "script.start_task"
   ]
  },
  {
   "cell_type": "code",
   "execution_count": null,
   "metadata": {},
   "outputs": [],
   "source": [
    "client = vandv.efd.create_efd_client()"
   ]
  },
  {
   "cell_type": "markdown",
   "metadata": {},
   "source": [
    "---\n",
    "Add a filter to all the loggers to hide the DDS read queue is filling / full."
   ]
  },
  {
   "cell_type": "code",
   "execution_count": null,
   "metadata": {},
   "outputs": [],
   "source": [
    "vandv.logger.add_filter_to_mtcs()"
   ]
  },
  {
   "cell_type": "markdown",
   "metadata": {},
   "source": [
    "## Helper Functions"
   ]
  },
  {
   "cell_type": "code",
   "execution_count": null,
   "metadata": {},
   "outputs": [],
   "source": [
    "async def get_data_from_efd(start, end):\n",
    "    \"\"\"\n",
    "    Retrieves data relevant for analysis.\n",
    "    \n",
    "    Parameters\n",
    "    ----------\n",
    "    location : str\n",
    "        In which Test Stand are you running this test?\n",
    "    start : str or datetime\n",
    "        Start of the time-window.\n",
    "    end : str or datetime \n",
    "        End of the time-window.\n",
    "    \"\"\"\n",
    "\n",
    "    \n",
    "    _df_mount_el = await client.select_time_series(\n",
    "        \"lsst.sal.MTMount.elevation\", \n",
    "        fields=\"actualPosition\", \n",
    "        start=start, \n",
    "        end=end,\n",
    "    )\n",
    "    \n",
    "    _df_m1m3_101 = await client.select_time_series(\n",
    "        \"lsst.sal.MTM1M3.forceActuatorData\",\n",
    "        fields=\"zForce101\",\n",
    "        start=start, \n",
    "        end=end,\n",
    "    )\n",
    "        \n",
    "    # M2 B1?\n",
    "    _df_m2 = await client.select_time_series(\n",
    "        \"lsst.sal.MTM2.axialForce\",\n",
    "        fields=[\n",
    "            \"applied0\",\n",
    "            \"lutGravity0\",\n",
    "            \"measured0\"\n",
    "        ],\n",
    "        start=start, \n",
    "        end=end,\n",
    "    )\n",
    "    \n",
    "    # CamHex Y position\n",
    "    _df_camhex = await client.select_time_series(\n",
    "        \"lsst.sal.MTHexapod.application\",\n",
    "        fields=[\n",
    "            \"position1\"\n",
    "        ],\n",
    "        index=1,\n",
    "        start=start, \n",
    "        end=end,\n",
    "    )\n",
    "    \n",
    "    # M2Hex Y position\n",
    "    _df_m2hex = await client.select_time_series(\n",
    "        \"lsst.sal.MTHexapod.application\",\n",
    "        fields=[\n",
    "            \"position1\"\n",
    "        ],\n",
    "        index=2,\n",
    "        start=start, \n",
    "        end=end,\n",
    "    )\n",
    "\n",
    "    # Rename columns\n",
    "    _df_mount_el.rename(columns={\"actualPosition\": \"mount_el\"}, inplace=True)\n",
    "    _df_m1m3_101.rename(columns={\"zForce101\": \"m1m3_z101\"}, inplace=True)\n",
    "    _df_m2.rename(columns={\"applied0\": \"m2b1_applied\", \"lutGravity0\": \"m2b1_gravLut\", \"measured0\": \"m2b1_measured\"}, inplace=True)\n",
    "    _df_camhex.rename(columns={\"position1\": \"camhex_y\"}, inplace=True)\n",
    "    _df_m2hex.rename(columns={\"position1\": \"m2hex_y\"}, inplace=True)\n",
    "\n",
    "    \n",
    "    # Join dataframes\n",
    "    _df = _df_mount_el\n",
    "    \n",
    "    _df = pd.merge(\n",
    "        _df, \n",
    "        _df_m1m3_101, \n",
    "        left_index=True, \n",
    "        right_index=True, \n",
    "        how=\"outer\"\n",
    "    )\n",
    "         \n",
    "    _df = pd.merge(\n",
    "        _df, \n",
    "        _df_m2, \n",
    "        left_index=True, \n",
    "        right_index=True, \n",
    "        how=\"outer\"\n",
    "    )\n",
    "    \n",
    "    _df = pd.merge(\n",
    "        _df, \n",
    "        _df_camhex, \n",
    "        left_index=True, \n",
    "        right_index=True, \n",
    "        how=\"outer\"\n",
    "    )\n",
    "\n",
    "    _df = pd.merge(\n",
    "        _df, \n",
    "        _df_m2hex, \n",
    "        left_index=True, \n",
    "        right_index=True, \n",
    "        how=\"outer\"\n",
    "    )\n",
    "    \n",
    "    return _df"
   ]
  },
  {
   "cell_type": "markdown",
   "metadata": {},
   "source": [
    "## Start all the components, and put them in an enabled state.\n",
    "\n",
    "Depending on which test cycle this is being executed in, each component is either a hardware component or a simulator:\n",
    "\n",
    "- [ ] M1M3\n",
    "- [ ] M2 \n",
    "- [ ] M2 Hexapod\n",
    "- [ ] Camera Hexapod\n",
    "- [ ] MTMount\n",
    "- [ ] MTRotator\n",
    "- [ ] MTPtg\n",
    "\n",
    "The best/simplest way of doing this is running the notebook that executes the [LVV-T2344] test case.  \n",
    "This notebook puts all the components in a ENABLED state.\n",
    "\n",
    "[LVV-T2344]: https://github.com/lsst-sitcom/notebooks_vandv/blob/develop/notebooks/proj_sys_eng/sitcom_integration/l3_system_integ/LVV-T2344-Startup_mt_on_level3.ipynb"
   ]
  },
  {
   "cell_type": "code",
   "execution_count": null,
   "metadata": {},
   "outputs": [],
   "source": [
    "# Verify that all the components have heartbeats\n",
    "await mtcs.assert_liveliness()"
   ]
  },
  {
   "cell_type": "code",
   "execution_count": null,
   "metadata": {},
   "outputs": [],
   "source": [
    "# Verify that all the components are enabled\n",
    "await mtcs.assert_all_enabled()"
   ]
  },
  {
   "cell_type": "markdown",
   "metadata": {},
   "source": [
    "---\n",
    "## Check elevation motion is smooth and no abrupt changes occur (Otherwise it faults M1M3) \n",
    "\n",
    "Do the following slew sequence, watch chronograph to make sure there is no abrupt change in elevation angle (otherwise it faults M1M3).\n",
    "\n",
    "Do 4 slews in sequence. For each slew, track for 39s, simulating a visit.\n",
    "Note: the 4 slews need to correspond to elevation angle between 86.5 deg and 82 deg. And, additional margin is needed due to tracking.\n",
    "\n",
    "Move to zenith at the end (so that we can start m1m3 with LUT in mount telemetry mode)"
   ]
  },
  {
   "cell_type": "code",
   "execution_count": null,
   "metadata": {},
   "outputs": [],
   "source": [
    "# Move to zenith position and azimuth of 210 deg. \n",
    "warnings.simplefilter(\"ignore\")\n",
    "await vandv.mount.moveMountInElevationSteps(mtmount, 89.9, azimuth=210)"
   ]
  },
  {
   "cell_type": "code",
   "execution_count": null,
   "metadata": {
    "tags": []
   },
   "outputs": [],
   "source": [
    "# We start tracking at 85.4 deg because the track fails at 85.5 deg\n",
    "\n",
    "target_elevations = [85.4, 84.4, 83.4, 82.4]\n",
    "\n",
    "t_start = Time.now()\n",
    "t_start.format = \"isot\"\n",
    "log.info(f\"Verifying Elevation Motion - Start time: {t_start}\")\n",
    "\n",
    "for _el in target_elevations:\n",
    "    time.sleep(2.)\n",
    "    az, el = await vandv.mount.moveMountInElevationSteps(mtmount, _el, azimuth=210)\n",
    "\n",
    "    target = mtcs.radec_from_azel(az=az, el=el)\n",
    "    await mtcs.slew_icrs(ra=target.ra, dec=target.dec, rot_type=RotType.Physical, rot=0)\n",
    "\n",
    "    # 39. seconds is the exposure time (2 * 15 sec) plus readout\n",
    "    time.sleep(39.)\n",
    "    await mtcs.stop_tracking()\n",
    "    \n",
    "t_end = Time.now()\n",
    "t_end.format = \"isot\"\n",
    "log.info(f\"Verifying Elevation Motion - End time: {t_end}\")"
   ]
  },
  {
   "cell_type": "code",
   "execution_count": null,
   "metadata": {},
   "outputs": [],
   "source": [
    " mtcs.rem.mtrotator.cmd_move(0)"
   ]
  },
  {
   "cell_type": "code",
   "execution_count": null,
   "metadata": {},
   "outputs": [],
   "source": [
    "# Moving back to zenith\n",
    "await vandv.mount.moveMountInElevationSteps(mtmount, 89.5, azimuth=210)"
   ]
  },
  {
   "cell_type": "markdown",
   "metadata": {},
   "source": [
    "Plot elevation vs time."
   ]
  },
  {
   "cell_type": "code",
   "execution_count": null,
   "metadata": {
    "tags": []
   },
   "outputs": [],
   "source": [
    "# Query telemetry\n",
    "df = await get_data_from_efd(\n",
    "    t_start, \n",
    "    t_end)"
   ]
  },
  {
   "cell_type": "code",
   "execution_count": null,
   "metadata": {},
   "outputs": [],
   "source": [
    "fig, axs = plt.subplots(figsize=(12, 8))\n",
    "\n",
    "axs.plot(df[\"mount_el\"].dropna(), \"k\", label=\"Mount Elevation\")\n",
    "axs.set_ylabel(\"Mount El\\n[deg]\")\n",
    "\n",
    "axs.grid(\":\", alpha=0.5)\n",
    "axs.legend()\n",
    "\n",
    "fig.suptitle(f\"{test_exec} - Elevation vs Time\")\n",
    "fig.tight_layout(h_pad=0.3)\n",
    "fig.patch.set_facecolor('white')   \n",
    "\n",
    "fig.savefig(f\"plots/{test_exec}_el_vs_time_without_aberr.png\")\n",
    "plt.show()"
   ]
  },
  {
   "cell_type": "markdown",
   "metadata": {},
   "source": [
    "---\n",
    "## Get M1M3 Ready\n",
    "\n",
    "- Raise the mirror,\n",
    "- Turn on Balance Forces,\n",
    "- Clear forces\n",
    "\n",
    "Need to have M1M3 LUT use mount telemetry."
   ]
  },
  {
   "cell_type": "code",
   "execution_count": null,
   "metadata": {},
   "outputs": [],
   "source": [
    "# If M1M3 is not raised yet, use this command to raise it.\n",
    "await mtcs.raise_m1m3()"
   ]
  },
  {
   "cell_type": "code",
   "execution_count": null,
   "metadata": {},
   "outputs": [],
   "source": [
    "# Enables M1M3 Force Balance system using the hardpoints\n",
    "await mtcs.enable_m1m3_balance_system()"
   ]
  },
  {
   "cell_type": "code",
   "execution_count": null,
   "metadata": {},
   "outputs": [],
   "source": [
    "# Resets the Aberration Forces and the Active Optics Forces\n",
    "await mtcs.reset_m1m3_forces()"
   ]
  },
  {
   "cell_type": "code",
   "execution_count": null,
   "metadata": {},
   "outputs": [],
   "source": [
    "# M1M3 LUT use mount telemetry\n",
    "# todo: how to do that? "
   ]
  },
  {
   "cell_type": "markdown",
   "metadata": {},
   "source": [
    "## Get M2 Ready\n",
    "- Turn on Force Balance system\n",
    "- Clear forces"
   ]
  },
  {
   "cell_type": "code",
   "execution_count": null,
   "metadata": {
    "tags": []
   },
   "outputs": [],
   "source": [
    "# Enabled M2 Force Balance system \n",
    "await mtcs.enable_m2_balance_system()"
   ]
  },
  {
   "cell_type": "code",
   "execution_count": null,
   "metadata": {},
   "outputs": [],
   "source": [
    "# Resets the Active Optics Forces\n",
    "await mtcs.reset_m2_forces()"
   ]
  },
  {
   "cell_type": "code",
   "execution_count": null,
   "metadata": {},
   "outputs": [],
   "source": [
    "# Need to have M2 LUT use mount telemetry\n",
    "# todo: how to do that?"
   ]
  },
  {
   "cell_type": "markdown",
   "metadata": {},
   "source": [
    "## Get CamHex Ready\n",
    "- Check config \n",
    "- Make sure LUT is on, and has valid inputs\n",
    "- Make sure hex is at LUT position"
   ]
  },
  {
   "cell_type": "code",
   "execution_count": null,
   "metadata": {},
   "outputs": [],
   "source": [
    "# Check the configuration\n",
    "await vandv.hexapod.get_hexapod_configuration(mtcs.rem.mthexapod_1)"
   ]
  },
  {
   "cell_type": "code",
   "execution_count": null,
   "metadata": {},
   "outputs": [],
   "source": [
    "# Enable compensation mode for CamHex\n",
    "await mtcs.enable_compensation_mode(\"mthexapod_1\")"
   ]
  },
  {
   "cell_type": "code",
   "execution_count": null,
   "metadata": {},
   "outputs": [],
   "source": [
    "# Reset the Camera Hexapod position\n",
    "await mtcs.reset_camera_hexapod_position()"
   ]
  },
  {
   "cell_type": "code",
   "execution_count": null,
   "metadata": {},
   "outputs": [],
   "source": [
    "# After resetting the Camera Hexapod position, we want to make sure that \n",
    "# the compesation and non-compensation values are the same.\n",
    "await vandv.hexapod.print_hexapod_uncompensation_values(mtcs.rem.mthexapod_1)\n",
    "await vandv.hexapod.print_hexapod_compensation_values(mtcs.rem.mthexapod_1)"
   ]
  },
  {
   "cell_type": "code",
   "execution_count": null,
   "metadata": {},
   "outputs": [],
   "source": [
    "# Need to have CamHex LUT use mount telemetry\n",
    "await vandv.hexapod.check_hexapod_lut(mtcs.rem.mthexapod_1)"
   ]
  },
  {
   "cell_type": "markdown",
   "metadata": {},
   "source": [
    "## Get M2Hex Ready\n",
    "\n",
    "- Check config \n",
    "- Make sure LUT is on, and has valid inputs\n",
    "- Make sure M2Hex is at LUT position"
   ]
  },
  {
   "cell_type": "code",
   "execution_count": null,
   "metadata": {},
   "outputs": [],
   "source": [
    "# Check the configuration\n",
    "await vandv.hexapod.get_hexapod_configuration(mtcs.rem.mthexapod_2)"
   ]
  },
  {
   "cell_type": "code",
   "execution_count": null,
   "metadata": {},
   "outputs": [],
   "source": [
    "# Enable compensation mode for M2Hex\n",
    "await mtcs.enable_compensation_mode(\"mthexapod_2\")"
   ]
  },
  {
   "cell_type": "code",
   "execution_count": null,
   "metadata": {},
   "outputs": [],
   "source": [
    "# Reset the M2 Hexapod position\n",
    "await mtcs.reset_m2_hexapod_position()"
   ]
  },
  {
   "cell_type": "code",
   "execution_count": null,
   "metadata": {},
   "outputs": [],
   "source": [
    "# After resetting the Camera Hexapod position, we want to make sure that \n",
    "# the compesation and non-compensation values are the same.\n",
    "await vandv.hexapod.print_hexapod_uncompensation_values(mtcs.rem.mthexapod_2)\n",
    "await vandv.hexapod.print_hexapod_compensation_values(mtcs.rem.mthexapod_2)"
   ]
  },
  {
   "cell_type": "code",
   "execution_count": null,
   "metadata": {},
   "outputs": [],
   "source": [
    "# Need to have CamHex LUT use mount telemetry\n",
    "await vandv.hexapod.check_hexapod_lut(mtcs.rem.mthexapod_1)"
   ]
  },
  {
   "cell_type": "markdown",
   "metadata": {},
   "source": [
    "---\n",
    "## Gather Data - Without Aberrations\n",
    "Do 4 slews in sequence. For each slew, track for 39s, simulating a visit.\n",
    "Note: the 4 slews need to correspond to elevation angle between 86.5 deg and 82 deg. And, additional margin is needed due to tracking."
   ]
  },
  {
   "cell_type": "code",
   "execution_count": null,
   "metadata": {},
   "outputs": [],
   "source": [
    "script.log.info(f\"START - {test_case} {test_exec} Slewing without Aberrations at {Time.now()} UTC\")"
   ]
  },
  {
   "cell_type": "code",
   "execution_count": null,
   "metadata": {
    "tags": []
   },
   "outputs": [],
   "source": [
    "# We start at 85.4 deg because the track fails at 85.5 deg\n",
    "target_elevations = [85.4, 84.4, 83.4, 82.4]\n",
    "\n",
    "t_start_without_aberr = Time.now()\n",
    "t_start_without_aberr.format = \"isot\"\n",
    "log.info(f\"Gathering data - without Aberrations - Start time: {t_start_without_aberr}\")\n",
    "\n",
    "for _el in target_elevations:\n",
    "    time.sleep(2.)\n",
    "    az, el = await vandv.mount.moveMountInElevationSteps(mtmount, _el, azimuth=210)\n",
    "\n",
    "    target = mtcs.radec_from_azel(az=az, el=el)\n",
    "    await mtcs.slew_icrs(ra=target.ra, dec=target.dec, rot_type=RotType.Physical, rot=0)\n",
    "\n",
    "    # 39. seconds is the exposure time (2 * 15 sec) plus readout\n",
    "    time.sleep(39.)\n",
    "    await mtcs.stop_tracking()\n",
    "    \n",
    "t_end_without_aberr = Time.now()\n",
    "t_end_without_aberr.format = \"isot\"\n",
    "log.info(f\"Gathering data - without Aberrations - End time: {t_end_without_aberr}\")"
   ]
  },
  {
   "cell_type": "code",
   "execution_count": null,
   "metadata": {},
   "outputs": [],
   "source": [
    "script.log.info(f\"END - {test_case} {test_exec} Slewing without Aberrations at {Time.now()}\")"
   ]
  },
  {
   "cell_type": "markdown",
   "metadata": {},
   "source": [
    "### Plot Optics vs Time\n",
    "\n",
    "Plot the following as a function of time during the above process:\n",
    "\n",
    "- mount elevation\n",
    "- m1m3 actuator 101 z force\n",
    "- m2 actuator B1 force\n",
    "- camera hex y position\n",
    "- m2 hex y position"
   ]
  },
  {
   "cell_type": "code",
   "execution_count": null,
   "metadata": {},
   "outputs": [],
   "source": [
    "print(f\"Gathering data - without Aberrations - Start time: {t_start_without_aberr}\")\n",
    "print(f\"Gathering data - without Aberrations - End time: {t_end_without_aberr}\")"
   ]
  },
  {
   "cell_type": "code",
   "execution_count": null,
   "metadata": {
    "tags": []
   },
   "outputs": [],
   "source": [
    "# Query telemetry\n",
    "df = await get_data_from_efd( \n",
    "    t_start_without_aberr, \n",
    "    t_end_without_aberr)"
   ]
  },
  {
   "cell_type": "code",
   "execution_count": null,
   "metadata": {},
   "outputs": [],
   "source": [
    "fig, axs = plt.subplots(figsize=(10, 10), nrows=4, sharex=True)\n",
    "\n",
    "axs[0].plot(df[\"mount_el\"].dropna(), \"k\", label=\"Mount Elevation\")\n",
    "axs[0].set_ylabel(\"Mount El\\n[deg]\")\n",
    "\n",
    "axs[1].plot(df[\"m1m3_z101\"].dropna(), \"C0o-\", label=\"z101\")\n",
    "axs[1].set_ylabel(\"M1M3 Forces\\n[N]\")\n",
    "\n",
    "#axs[2].plot(df[\"m2b1_measured\"].dropna(), \"C3-\", label=\"Measured\")\n",
    "axs[2].plot(df[\"m2b1_applied\"].dropna(), \"C1^-\", label=\"applied\")\n",
    "axs[2].set_ylabel(\"M2 Forces\\n[N]\")\n",
    "\n",
    "axs[3].plot(df[\"camhex_y\"].dropna(), \"C3x-\", label=\"CamHex Y\")\n",
    "axs[3].plot(df[\"m2hex_y\"].dropna(), \"C4+-\", label=\"M2Hex Y\")\n",
    "axs[3].set_ylabel(\"Hexapod Position\\n[um]\")\n",
    "\n",
    "for ax in axs:\n",
    "    ax.grid(\":\", alpha=0.5)\n",
    "    ax.legend()\n",
    "\n",
    "fig.suptitle(f\"{test_exec} - M1M3/M2/Hexs/Elevation vs Time\")\n",
    "fig.tight_layout(h_pad=0.3)\n",
    "fig.patch.set_facecolor('white')   \n",
    "\n",
    "fig.savefig(f\"plots/{test_exec}_m1m3_m2_hexs_el_vs_time_without_aberr.png\")\n",
    "plt.show()"
   ]
  },
  {
   "cell_type": "markdown",
   "metadata": {},
   "source": [
    "---\n",
    "## Gather Data - With Aberrations\n",
    "Do 4 slews in sequence.\n",
    "For each slew,\n",
    "\n",
    "2 seconds before the slew starts, use MTAOS to add some aberrations to the system. The aberrations should correspond to 1um of z4 (focus), z5(astigmatism), z7 (y-coma), and z9 (trefoil), respectively track for 39s, simulating a visit.\n",
    "\n",
    "Note: the 4 slews need to correspond to elevation angle between 86.5 deg and 82 deg. And, additional margin is needed due to tracking."
   ]
  },
  {
   "cell_type": "code",
   "execution_count": null,
   "metadata": {},
   "outputs": [],
   "source": [
    "script.log.info(f\"START - {test_case} {test_exec} Slewing with Aberrations (Reset every time) at {Time.now()} UTC\")"
   ]
  },
  {
   "cell_type": "code",
   "execution_count": null,
   "metadata": {
    "tags": []
   },
   "outputs": [],
   "source": [
    "# We start at 85.4 deg because the track fails at 85.5 deg\n",
    "target_elevations = [85.4, 84.4, 83.4, 82.4]\n",
    "aberrations = [\n",
    "    0, # z4 (focus)\n",
    "    1, # z5 (astigmatism)\n",
    "    3, # z7 (y-coma)\n",
    "    5, # z9 (trefoil)\n",
    "]\n",
    "\n",
    "await mtcs.rem.mtaos.cmd_resetCorrection.start()\n",
    "await mtcs.rem.mtaos.cmd_issueCorrection.start(timeout=60.)\n",
    "\n",
    "t_start_with_aberr = Time.now()\n",
    "t_start_with_aberr.format = \"isot\"\n",
    "log.info(f\"Gathering data - with Aberrations (reset every time) - Start time: {t_start_with_aberr}\")\n",
    "\n",
    "for _el, _ab in zip(target_elevations, aberrations):\n",
    "    \n",
    "    log.info(f\"\\n\\n\\n\\nCurrent elevation: {_el} - current aberration z{_ab + 4}\")\n",
    "\n",
    "    # the input for addAberration is an array with 19 elements representing \n",
    "    # the zernike coefficients starting at z4\n",
    "    wavefront_errors = np.zeros(19) \n",
    "    wavefront_errors[_ab] = 1.0 # um\n",
    "    await mtcs.rem.mtaos.cmd_addAberration.set_start(wf=wavefront_errors, timeout=10)\n",
    "    await mtcs.rem.mtaos.cmd_issueCorrection.start(timeout=60.)\n",
    "    time.sleep(2.)\n",
    "    \n",
    "    az, el = await vandv.mount.moveMountInElevationSteps(mtmount, _el, azimuth=210)\n",
    "\n",
    "    target = mtcs.radec_from_azel(az=az, el=el)\n",
    "    await mtcs.slew_icrs(ra=target.ra, dec=target.dec, rot_type=RotType.Physical, rot=0)\n",
    "\n",
    "    # 39. seconds is the exposure time (2 * 15 sec) plus readout\n",
    "    time.sleep(39.)\n",
    "    await mtcs.stop_tracking()\n",
    "    \n",
    "    await mtcs.rem.mtaos.cmd_resetCorrection.start()\n",
    "    await mtcs.rem.mtaos.cmd_issueCorrection.start(timeout=60.)\n",
    "    \n",
    "t_end_with_aberr = Time.now()\n",
    "t_end_with_aberr.format = \"isot\"\n",
    "log.info(f\"Gathering data - with Aberrations (reset every time) - End time: {t_end_with_aberr}\")"
   ]
  },
  {
   "cell_type": "code",
   "execution_count": null,
   "metadata": {},
   "outputs": [],
   "source": [
    "script.log.info(f\"END - {test_case} {test_exec} Slewing with Aberrations (Reset every time) at {Time.now()} UTC\")"
   ]
  },
  {
   "cell_type": "markdown",
   "metadata": {},
   "source": [
    "### Plot Optics vs Time\n",
    "\n",
    "Plot the following as a function of time during the above process:\n",
    "\n",
    "- mount elevation\n",
    "- m1m3 actuator 101 z force\n",
    "- m2 actuator B1 force\n",
    "- camera hex y position\n",
    "- m2 hex y position"
   ]
  },
  {
   "cell_type": "code",
   "execution_count": null,
   "metadata": {},
   "outputs": [],
   "source": [
    "print(f\"Gathering data - with Aberrations (reset every time) - Start time: {t_start_with_aberr}\")\n",
    "print(f\"Gathering data - with Aberrations (reset every time) - End time: {t_end_with_aberr}\")"
   ]
  },
  {
   "cell_type": "code",
   "execution_count": null,
   "metadata": {},
   "outputs": [],
   "source": [
    "# Query telemetry\n",
    "df_aberr = await get_data_from_efd( \n",
    "    t_start_with_aberr, \n",
    "    t_end_with_aberr)"
   ]
  },
  {
   "cell_type": "code",
   "execution_count": null,
   "metadata": {},
   "outputs": [],
   "source": [
    "fig, axs = plt.subplots(figsize=(10, 10), nrows=4, sharex=True)\n",
    "\n",
    "axs[0].plot(df_aberr[\"mount_el\"].dropna(), \"k\", label=\"Mount Elevation\")\n",
    "axs[0].set_ylabel(\"Mount El\\n[deg]\")\n",
    "\n",
    "axs[1].plot(df_aberr[\"m1m3_z101\"].dropna(), \"C0o-\", label=\"z101\")\n",
    "axs[1].set_ylabel(\"M1M3 Forces\\n[N]\")\n",
    "\n",
    "#axs[2].plot(df_aberr[\"m2b1_measured\"].dropna(), \"C3-\", label=\"Measured\")\n",
    "axs[2].plot(df_aberr[\"m2b1_applied\"].dropna(), \"C1^-\", label=\"applied\")\n",
    "axs[2].set_ylabel(\"M2 Forces\\n[N]\")\n",
    "\n",
    "axs[3].plot(df_aberr[\"camhex_y\"].dropna(), \"C3x-\", label=\"CamHex Y\")\n",
    "axs[3].plot(df_aberr[\"m2hex_y\"].dropna(), \"C4+-\", label=\"M2Hex Y\")\n",
    "axs[3].set_ylabel(\"Hexapod Position\\n[um]\")\n",
    "\n",
    "for ax in axs:\n",
    "    ax.grid(\":\", alpha=0.5)\n",
    "    ax.legend()\n",
    "\n",
    "fig.suptitle(f\"{test_exec} - M1M3/M2/Hexs/Elevation with Aberrations (Reset every time) vs Time\")\n",
    "fig.tight_layout(h_pad=0.3)\n",
    "fig.patch.set_facecolor('white')   \n",
    "\n",
    "fig.savefig(f\"plots/{test_exec}_m1m3_m2_hexs_el_vs_time_with_aberr_reset.png\")\n",
    "plt.show()"
   ]
  },
  {
   "cell_type": "markdown",
   "metadata": {},
   "source": [
    "## Gather Data - With Accumulated Aberrations"
   ]
  },
  {
   "cell_type": "code",
   "execution_count": null,
   "metadata": {},
   "outputs": [],
   "source": [
    "script.log.info(f\"START - {test_case} {test_exec} Slewing with Aberrations (Accumulated) at {Time.now()} UTC\")"
   ]
  },
  {
   "cell_type": "code",
   "execution_count": null,
   "metadata": {
    "tags": []
   },
   "outputs": [],
   "source": [
    "# We start at 85.4 deg because the track fails at 85.5 deg\n",
    "target_elevations = [85.4, 84.4, 83.4, 82.4]\n",
    "aberrations = [\n",
    "    0, # z4 (focus)\n",
    "    1, # z5 (astigmatism)\n",
    "    3, # z7 (y-coma)\n",
    "    5, # z9 (trefoil)\n",
    "]\n",
    "\n",
    "await mtcs.rem.mtaos.cmd_resetCorrection.start()\n",
    "await mtcs.rem.mtaos.cmd_issueCorrection.start(timeout=60.)\n",
    "\n",
    "t_start_with_aberr_acc = Time.now()\n",
    "t_start_with_aberr_acc.format = \"isot\"\n",
    "log.info(f\"Gathering data - with Aberrations Accumulated - Start time: {t_start_with_aberr_acc}\")\n",
    "\n",
    "for _el, _ab in zip(target_elevations, aberrations):\n",
    "    \n",
    "    log.info(f\"\\n\\n\\n\\nCurrent elevation: {_el} - current aberration z{_ab + 4}\")\n",
    "\n",
    "    # the input for addAberration is an array with 19 elements representing \n",
    "    # the zernike coefficients starting at z4\n",
    "    wavefront_errors = np.zeros(19) \n",
    "    wavefront_errors[_ab] = 1.0 # um\n",
    "    await mtcs.rem.mtaos.cmd_addAberration.set_start(wf=wavefront_errors, timeout=10)\n",
    "    await mtcs.rem.mtaos.cmd_issueCorrection.start(timeout=60.)\n",
    "    time.sleep(2.)\n",
    "    \n",
    "    az, el = await vandv.mount.moveMountInElevationSteps(mtmount, _el, azimuth=210)\n",
    "\n",
    "    target = mtcs.radec_from_azel(az=az, el=el)\n",
    "    await mtcs.slew_icrs(ra=target.ra, dec=target.dec, rot_type=RotType.Physical, rot=0)\n",
    "\n",
    "    # 39. seconds is the exposure time (2 * 15 sec) plus readout\n",
    "    time.sleep(39.)\n",
    "    await mtcs.stop_tracking()\n",
    "    \n",
    "t_end_with_aberr_acc = Time.now()\n",
    "t_end_with_aberr_acc.format = \"isot\"\n",
    "log.info(f\"Gathering data - with Aberrations Accumulated - End time: {t_start_with_aberr_acc}\")"
   ]
  },
  {
   "cell_type": "code",
   "execution_count": null,
   "metadata": {},
   "outputs": [],
   "source": [
    "script.log.info(f\"END - {test_case} {test_exec} Slewing with Aberrations (Accumulated) at {Time.now()} UTC\")"
   ]
  },
  {
   "cell_type": "markdown",
   "metadata": {},
   "source": [
    "### Plot Optics vs Time"
   ]
  },
  {
   "cell_type": "code",
   "execution_count": null,
   "metadata": {},
   "outputs": [],
   "source": [
    "print(f\"Gathering data - with Aberrations Accumulated - Start time: {t_start_with_aberr_acc}\")\n",
    "print(f\"Gathering data - with Aberrations Accumulated - End time: {t_end_with_aberr_acc}\")"
   ]
  },
  {
   "cell_type": "code",
   "execution_count": null,
   "metadata": {},
   "outputs": [],
   "source": [
    "# Query telemetry\n",
    "df_aberr_acc = await get_data_from_efd(\n",
    "    t_start_with_aberr_acc, \n",
    "    t_end_with_aberr_acc)"
   ]
  },
  {
   "cell_type": "code",
   "execution_count": null,
   "metadata": {},
   "outputs": [],
   "source": [
    "fig, axs = plt.subplots(figsize=(10, 10), nrows=4, sharex=True)\n",
    "\n",
    "axs[0].plot(df_aberr_acc[\"mount_el\"].dropna(), \"k\", label=\"Mount Elevation\")\n",
    "axs[0].set_ylabel(\"Mount El\\n[deg]\")\n",
    "\n",
    "axs[1].plot(df_aberr_acc[\"m1m3_z101\"].dropna(), \"C0o-\", label=\"z101\")\n",
    "axs[1].set_ylabel(\"M1M3 Forces\\n[N]\")\n",
    "\n",
    "axs[2].plot(df_aberr_acc[\"m2b1_applied\"].dropna(), \"C1^-\", label=\"applied\")\n",
    "axs[2].set_ylabel(\"M2 Forces\\n[N]\")\n",
    "\n",
    "axs[3].plot(df_aberr_acc[\"camhex_y\"].dropna(), \"C3x-\", label=\"CamHex Y\")\n",
    "axs[3].plot(df_aberr_acc[\"m2hex_y\"].dropna(), \"C4+-\", label=\"M2Hex Y\")\n",
    "axs[3].set_ylabel(\"Hexapod Position\\n[um]\")\n",
    "\n",
    "for ax in axs:\n",
    "    ax.grid(\":\", alpha=0.5)\n",
    "    ax.legend()\n",
    "\n",
    "fig.suptitle(f\"{test_exec} - M1M3/M2/Hexs/Elevation with Aberrations Accum vs Time\")\n",
    "fig.tight_layout(h_pad=0.3)\n",
    "fig.patch.set_facecolor('white')   \n",
    "\n",
    "fig.savefig(f\"plots/{test_exec}_m1m3_m2_hexs_el_vs_time_with_aberr_accum.png\")\n",
    "plt.show()"
   ]
  },
  {
   "cell_type": "markdown",
   "metadata": {
    "tags": []
   },
   "source": [
    "## Compare against the corrections sent by MTAOS. \n",
    "\n",
    "This is done in a separate notebook, LVV-T2214-plots."
   ]
  },
  {
   "cell_type": "markdown",
   "metadata": {
    "tags": []
   },
   "source": [
    "## Wrap up\n",
    "lower m1m3,\n",
    "put hardware to OFFLINE\n",
    "put all simulators to STANDBY\n",
    "done."
   ]
  },
  {
   "cell_type": "code",
   "execution_count": null,
   "metadata": {},
   "outputs": [],
   "source": [
    "# Put the telescope back to the original position\n",
    "# Specially if running at TTS\n",
    "await vandv.mount.moveMountInElevationSteps(mtmount, 80, azimuth=0)"
   ]
  },
  {
   "cell_type": "code",
   "execution_count": null,
   "metadata": {},
   "outputs": [],
   "source": [
    "await mtcs.lower_m1m3()"
   ]
  },
  {
   "cell_type": "code",
   "execution_count": null,
   "metadata": {},
   "outputs": [],
   "source": [
    "await mtcs.set_state(state=salobj.State.STANDBY, components=[\"mtm1m3\"])"
   ]
  },
  {
   "cell_type": "code",
   "execution_count": null,
   "metadata": {},
   "outputs": [],
   "source": [
    "await mtcs.set_state(state=salobj.State.STANDBY, components=[\"mtaos\"])"
   ]
  },
  {
   "cell_type": "code",
   "execution_count": null,
   "metadata": {},
   "outputs": [],
   "source": [
    "await mtcs.set_state(state=salobj.State.STANDBY, components=[\"mtm2\"])"
   ]
  },
  {
   "cell_type": "code",
   "execution_count": null,
   "metadata": {},
   "outputs": [],
   "source": [
    "await mtcs.set_state(state=salobj.State.STANDBY, components=[\"mthexapod_1\"])"
   ]
  },
  {
   "cell_type": "code",
   "execution_count": null,
   "metadata": {},
   "outputs": [],
   "source": [
    "await mtcs.set_state(state=salobj.State.STANDBY, components=[\"mthexapod_2\"])"
   ]
  },
  {
   "cell_type": "code",
   "execution_count": null,
   "metadata": {},
   "outputs": [],
   "source": [
    "if exec_info.loc == \"summit\":\n",
    "    await mtcs.standby()\n",
    "\n",
    "else:\n",
    "    # Bring the system back to the original state\n",
    "    await mtcs.set_state(\n",
    "        state=salobj.State.ENABLED,\n",
    "        components=[\n",
    "            \"mtm1m3\", \n",
    "            \"mtm2\",\n",
    "            \"mthexapod_1\",\n",
    "            \"mthexapod_2\",\n",
    "            \"mtaos\",\n",
    "        ],\n",
    "        overrides={\n",
    "            \"mtm1m3\": \"Default\"\n",
    "        }\n",
    "    )"
   ]
  }
 ],
 "metadata": {
  "kernelspec": {
   "display_name": "LSST",
   "language": "python",
   "name": "lsst"
  },
  "language_info": {
   "codemirror_mode": {
    "name": "ipython",
    "version": 3
   },
   "file_extension": ".py",
   "mimetype": "text/x-python",
   "name": "python",
   "nbconvert_exporter": "python",
   "pygments_lexer": "ipython3",
   "version": "3.10.4"
  },
  "toc-showmarkdowntxt": false
 },
 "nbformat": 4,
 "nbformat_minor": 4
}
