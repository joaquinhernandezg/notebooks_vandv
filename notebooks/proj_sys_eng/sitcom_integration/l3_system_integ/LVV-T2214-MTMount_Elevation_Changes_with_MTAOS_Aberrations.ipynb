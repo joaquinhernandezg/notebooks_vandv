{
 "cells": [
  {
   "cell_type": "markdown",
   "metadata": {},
   "source": [
    "# [LVV-T2214] - MTMount_Elevation_Changes_with_MTAOS_Aberrations\n",
    "\n",
    "This notebook was originally written by Bo Xin in the [lsst-ts/ts_notebooks] repository.  \n",
    "It is a modified version with updated commands and simplified steps.\n",
    "\n",
    "**Make sure you run this notebook on TTS before running at the summit.**\n",
    "\n",
    "[lsst-ts/ts_notebooks]: https://github.com/lsst-ts/ts_notebooks/blob/develop/bxin/aos2comp/aos2comp.ipynb\n",
    "[LVV-T2214]: https://jira.lsstcorp.org/secure/Tests.jspa#/testCase/LVV-T2214"
   ]
  },
  {
   "cell_type": "markdown",
   "metadata": {},
   "source": [
    "## Requirements\n",
    "\n",
    "This notebooks require some extra repositories to be installed locally so it can grab some constants and some look-up tables.  \n",
    "Here is a list of which repos are these:\n",
    "\n",
    "* [lsst-ts/ts_cRIOpy]\n",
    "\n",
    "[lsst-ts/ts_cRIOpy]: https://github.com/lsst-ts/ts_cRIOpy \n",
    "[lsst-ts/ts_m1m3support]: https://github.com/lsst-ts/ts_m1m3support\n",
    "\n",
    "To install them, open a terminal and run the following commands:\n",
    "\n",
    "```\n",
    "git clone https://github.com/lsst-ts/ts_cRIOpy $HOME/notebooks/lsst-ts/ts_cRIOpy\n",
    "git clone https://github.com/lsst-ts/ts_m1m3support.git $HOME/notebooks/lsst-ts/ts_m1m3support\n",
    "git clone https://github.com/lsst-ts/ts_config_mttcs $HOME/notebooks/lsst-ts/ts_config_mttcs\n",
    "git clone https://github.com/lsst-sitcom/M2_FEA $HOME/notebooks/lsst-sitcom/M2_FEA\n",
    "```\n",
    "\n",
    "And add these lines to your `$HOME/notebooks/.user_setup` file: \n",
    "\n",
    "```\n",
    "setup -j notebooks_vandv -r ~/notebooks/lsst-sitcom/notebooks_vandv\n",
    "setup -j ts_cRIOpy -r $HOME/notebooks/lsst-ts/ts_cRIOpy\n",
    "```"
   ]
  },
  {
   "cell_type": "code",
   "execution_count": null,
   "metadata": {},
   "outputs": [],
   "source": [
    "%load_ext autoreload\n",
    "%autoreload 2"
   ]
  },
  {
   "cell_type": "code",
   "execution_count": null,
   "metadata": {},
   "outputs": [],
   "source": [
    "from lsst.sitcom import vandv\n",
    "\n",
    "exec_info = vandv.ExecutionInfo()\n",
    "print(exec_info)"
   ]
  },
  {
   "cell_type": "markdown",
   "metadata": {},
   "source": [
    "---\n",
    "## Setup Notebook for Test\n",
    "\n",
    "- Import all libraries\n",
    "- Get the remotes ready"
   ]
  },
  {
   "cell_type": "code",
   "execution_count": null,
   "metadata": {},
   "outputs": [],
   "source": [
    "test_execution = \"LVV-D220620\""
   ]
  },
  {
   "cell_type": "code",
   "execution_count": null,
   "metadata": {},
   "outputs": [],
   "source": [
    "import asyncio\n",
    "import os\n",
    "import yaml\n",
    "\n",
    "import astropy.units as u\n",
    "import numpy as np\n",
    "import matplotlib.pyplot as plt\n",
    "import pandas as pd\n",
    "import time\n",
    "import warnings\n",
    "\n",
    "from astropy.time import Time, TimeDelta\n",
    "from astropy.coordinates import AltAz, ICRS, EarthLocation, Angle, FK5\n",
    "from datetime import datetime, timedelta\n",
    "\n",
    "from lsst_efd_client import EfdClient\n",
    "from lsst.ts import utils, salobj\n",
    "from lsst.ts.cRIOpy import M1M3FATable\n",
    "from lsst.ts.observatory.control.maintel.mtcs import MTCS, MTCSUsages\n",
    "from lsst.ts.observatory.control import RotType"
   ]
  },
  {
   "cell_type": "code",
   "execution_count": null,
   "metadata": {},
   "outputs": [],
   "source": [
    "c = EfdClient(\"tucson_teststand_efd\")"
   ]
  },
  {
   "cell_type": "code",
   "execution_count": null,
   "metadata": {},
   "outputs": [],
   "source": [
    "df = await c.select_top_n(\n",
    "    \"lsst.sal.MTM1M3.logevent_appliedElevationForces\", \n",
    "    fields=\"*\", \n",
    "    num=1, \n",
    "    time_cut=Time(\"2022-06-15T23:59\", format=\"isot\", scale=\"utc\") \n",
    ")\n",
    "\n",
    "print(df)"
   ]
  },
  {
   "cell_type": "code",
   "execution_count": null,
   "metadata": {},
   "outputs": [],
   "source": []
  },
  {
   "cell_type": "code",
   "execution_count": null,
   "metadata": {},
   "outputs": [],
   "source": [
    "print(os.environ.get(\"LSST_DDS_DOMAIN_ID\"))"
   ]
  },
  {
   "cell_type": "code",
   "execution_count": null,
   "metadata": {},
   "outputs": [],
   "source": [
    "print(os.environ[\"OSPL_URI\"])\n",
    "print(os.environ[\"LSST_DDS_PARTITION_PREFIX\"])\n",
    "print(os.environ.get(\"LSST_DDS_DOMAIN_ID\"))"
   ]
  },
  {
   "cell_type": "code",
   "execution_count": null,
   "metadata": {},
   "outputs": [],
   "source": [
    "logging.basicConfig(format=\"%(name)s:%(message)s\", level=logging.DEBUG)"
   ]
  },
  {
   "cell_type": "code",
   "execution_count": null,
   "metadata": {},
   "outputs": [],
   "source": [
    "log = logging.getLogger(\"setup\")\n",
    "log.level = logging.DEBUG"
   ]
  },
  {
   "cell_type": "code",
   "execution_count": null,
   "metadata": {},
   "outputs": [],
   "source": [
    "domain = salobj.Domain()"
   ]
  },
  {
   "cell_type": "code",
   "execution_count": null,
   "metadata": {
    "tags": []
   },
   "outputs": [],
   "source": [
    "mtcs = MTCS(domain=domain, log=log)\n",
    "mtcs.set_rem_loglevel(40)"
   ]
  },
  {
   "cell_type": "code",
   "execution_count": null,
   "metadata": {
    "tags": []
   },
   "outputs": [],
   "source": [
    "await mtcs.start_task"
   ]
  },
  {
   "cell_type": "code",
   "execution_count": null,
   "metadata": {},
   "outputs": [],
   "source": [
    "warnings.filterwarnings(\"ignore\", message=\".*DDS read queue.*\")"
   ]
  },
  {
   "cell_type": "markdown",
   "metadata": {},
   "source": [
    "## Helper Functions"
   ]
  },
  {
   "cell_type": "code",
   "execution_count": null,
   "metadata": {},
   "outputs": [],
   "source": [
    "async def get_data_from_efd(location, start, end):\n",
    "    \"\"\"\n",
    "    Retrieves data relevant for analysis.\n",
    "    \n",
    "    Parameters\n",
    "    ----------\n",
    "    location : str\n",
    "        In which Test Stand are you running this test?\n",
    "    start : str or datetime\n",
    "        Start of the time-window.\n",
    "    end : str or datetime \n",
    "        End of the time-window.\n",
    "    \"\"\"\n",
    "    if location == \"summit\":\n",
    "        client = EfdClient(\"summit_efd\")\n",
    "    elif location == \"tucson\":\n",
    "        client = EfdClient(\"tucson_teststand_efd\")\n",
    "    else:\n",
    "        raise ValueError(\n",
    "            \"Location does not match any valid options {summit|tucson}\"\n",
    "        )\n",
    "    \n",
    "    _df_mount_el = await client.select_time_series(\n",
    "        \"lsst.sal.MTMount.elevation\", \n",
    "        fields=\"actualPosition\", \n",
    "        start=start, \n",
    "        end=end,\n",
    "    )\n",
    "    \n",
    "    _df_m1m3_101 = await client.select_time_series(\n",
    "        \"lsst.sal.MTM1M3.forceActuatorData\",\n",
    "        fields=\"zForce101\",\n",
    "        start=start, \n",
    "        end=end,\n",
    "    )\n",
    "        \n",
    "    # M2 B1?\n",
    "    _df_m2 = await client.select_time_series(\n",
    "        \"lsst.sal.MTM2.axialForce\",\n",
    "        fields=[\n",
    "            \"applied0\",\n",
    "            \"lutGravity0\",\n",
    "            \"measured0\"\n",
    "        ],\n",
    "        start=start, \n",
    "        end=end,\n",
    "    )\n",
    "    \n",
    "    # CamHex Y position\n",
    "    _df_camhex = await client.select_time_series(\n",
    "        \"lsst.sal.MTHexapod.application\",\n",
    "        fields=[\n",
    "            \"position1\"\n",
    "        ],\n",
    "        index=1,\n",
    "        start=start, \n",
    "        end=end,\n",
    "    )\n",
    "    \n",
    "    # M2Hex Y position\n",
    "    _df_m2hex = await client.select_time_series(\n",
    "        \"lsst.sal.MTHexapod.application\",\n",
    "        fields=[\n",
    "            \"position1\"\n",
    "        ],\n",
    "        index=2,\n",
    "        start=start, \n",
    "        end=end,\n",
    "    )\n",
    "\n",
    "    # Rename columns\n",
    "    _df_mount_el.rename(columns={\"actualPosition\": \"mount_el\"}, inplace=True)\n",
    "    _df_m1m3_101.rename(columns={\"zForce101\": \"m1m3_z101\"}, inplace=True)\n",
    "    _df_m2.rename(columns={\"applied0\": \"m2b1_applied\", \"lutGravity0\": \"m2b1_gravLut\", \"measured0\": \"m2b1_measured\"}, inplace=True)\n",
    "    _df_camhex.rename(columns={\"position1\": \"camhex_y\"}, inplace=True)\n",
    "    _df_m2hex.rename(columns={\"position1\": \"m2hex_y\"}, inplace=True)\n",
    "\n",
    "    \n",
    "    # Join dataframes\n",
    "    _df = _df_mount_el\n",
    "    \n",
    "    _df = pd.merge(\n",
    "        _df, \n",
    "        _df_m1m3_101, \n",
    "        left_index=True, \n",
    "        right_index=True, \n",
    "        how=\"outer\"\n",
    "    )\n",
    "         \n",
    "    _df = pd.merge(\n",
    "        _df, \n",
    "        _df_m2, \n",
    "        left_index=True, \n",
    "        right_index=True, \n",
    "        how=\"outer\"\n",
    "    )\n",
    "    \n",
    "    _df = pd.merge(\n",
    "        _df, \n",
    "        _df_camhex, \n",
    "        left_index=True, \n",
    "        right_index=True, \n",
    "        how=\"outer\"\n",
    "    )\n",
    "\n",
    "    _df = pd.merge(\n",
    "        _df, \n",
    "        _df_m2hex, \n",
    "        left_index=True, \n",
    "        right_index=True, \n",
    "        how=\"outer\"\n",
    "    )\n",
    "    \n",
    "    return _df"
   ]
  },
  {
   "cell_type": "code",
   "execution_count": null,
   "metadata": {},
   "outputs": [],
   "source": [
    "async def moveMountInElevationSteps(target_el, azimuth=0, step_size=0.25, time_sleep=1):\n",
    "    \"\"\"Move the mount from the current elevation angle to the target elevation angle \n",
    "    in steps to avoid any issues whe M1M3 and/or M2 are running with the LUT using the \n",
    "    Mount instead of the inclinometer.\n",
    "    \n",
    "    This function will actually calculate the number of steps using the ceiling\n",
    "    in order to make sure that we move carefully. \n",
    "    \n",
    "    Parameters\n",
    "    ----------\n",
    "    target_el : float\n",
    "        Target elevation angle in degrees\n",
    "    azimuth : float\n",
    "        Azimuth angle in degres (default)\n",
    "    step_size : float\n",
    "        Step elevation size in degrees (default: 0.25)\n",
    "    time_sleep : float\n",
    "        Sleep time between movements (default: 1)\n",
    "        \n",
    "    Returns\n",
    "    -------\n",
    "    azimuth : float\n",
    "        Current azimuth\n",
    "    elevation : float\n",
    "        Current elevation\n",
    "    \"\"\"\n",
    "    current_el = mtcs.rem.mtmount.tel_elevation.get().actualPosition\n",
    "    n_steps = int(np.ceil(np.abs(current_el - target_el) / step_size))\n",
    "\n",
    "    for el in np.linspace(current_el, target_el, n_steps):\n",
    "        print(f\"Moving elevation to {el:.2f} deg\")\n",
    "        await mtcs.rem.mtmount.cmd_moveToTarget.set_start(azimuth=azimuth, elevation=el)\n",
    "        time.sleep(time_sleep)\n",
    "        \n",
    "    return azimuth, el"
   ]
  },
  {
   "cell_type": "markdown",
   "metadata": {},
   "source": [
    "## Start all the components, and put them in an enabled state.\n",
    "\n",
    "Depending on which test cycle this is being executed in, each component is either a hardware component or a simulator:\n",
    "\n",
    "- [ ] M1M3\n",
    "- [ ] M2 \n",
    "- [ ] M2 Hexapod\n",
    "- [ ] Camera Hexapod\n",
    "- [ ] MTMount\n",
    "- [ ] MTRotator\n",
    "- [ ] MTPtg\n",
    "\n",
    "The best/simplest way of doing this is running the notebook that executes the [LVV-T2344] test case.  \n",
    "This notebook puts all the components in a ENABLED state.\n",
    "\n",
    "[LVV-T2344]: https://github.com/lsst-sitcom/notebooks_vandv/blob/develop/notebooks/proj_sys_eng/sitcom_integration/l3_system_integ/LVV-T2344-Startup_mt_on_level3.ipynb"
   ]
  },
  {
   "cell_type": "code",
   "execution_count": null,
   "metadata": {},
   "outputs": [],
   "source": [
    "# Verify that all the components have heartbeats\n",
    "await mtcs.assert_liveliness()"
   ]
  },
  {
   "cell_type": "code",
   "execution_count": null,
   "metadata": {},
   "outputs": [],
   "source": [
    "# Verify that all the components are enabled\n",
    "await mtcs.assert_all_enabled()"
   ]
  },
  {
   "cell_type": "markdown",
   "metadata": {},
   "source": [
    "First we slew and track at 89.5 degrees elevation\n"
   ]
  },
  {
   "cell_type": "markdown",
   "metadata": {},
   "source": [
    "---\n",
    "## Check elevation motion is smooth and no abrupt changes occur (Otherwise it faults M1M3) \n",
    "\n",
    "Do the following slew sequence, watch chronograph to make sure there is no abrupt change in elevation angle (otherwise it faults M1M3).\n",
    "\n",
    "Do 4 slews in sequence. For each slew, track for 39s, simulating a visit.\n",
    "Note: the 4 slews need to correspond to elevation angle between 86.5 deg and 82 deg. And, additional margin is needed due to tracking.\n",
    "\n",
    "Move to zenith at the end (so that we can start m1m3 with LUT in mount telemetry mode)"
   ]
  },
  {
   "cell_type": "code",
   "execution_count": null,
   "metadata": {},
   "outputs": [],
   "source": [
    "await mtcs.stop_tracking()"
   ]
  },
  {
   "cell_type": "code",
   "execution_count": null,
   "metadata": {},
   "outputs": [],
   "source": [
    "warnings.simplefilter(\"ignore\")\n",
    "await moveMountInElevationSteps(90., azimuth=190.5)"
   ]
  },
  {
   "cell_type": "code",
   "execution_count": null,
   "metadata": {},
   "outputs": [],
   "source": []
  },
  {
   "cell_type": "code",
   "execution_count": null,
   "metadata": {
    "tags": []
   },
   "outputs": [],
   "source": [
    "t_start = Time(Time.now(), format='fits', scale='utc') \n",
    "print(f\"Gathering data - Elevation motion test - Start time: {t_start}\")\n",
    "\n",
    "az, el = await moveMountInElevationSteps(85.4, azimuth=190.5)\n",
    "\n",
    "print('Tracking first source')\n",
    "target_1 = mtcs.radec_from_azel(az=az, el=el)\n",
    "await mtcs.slew_icrs(ra=target_1.ra, dec=target_1.dec, rot_type=RotType.Physical, rot=0)\n",
    "\n",
    "time.sleep(39.)\n",
    "await mtcs.stop_tracking()"
   ]
  },
  {
   "cell_type": "code",
   "execution_count": null,
   "metadata": {},
   "outputs": [],
   "source": [
    "az, el = await moveMountInElevationSteps(84.4, azimuth=190.5)\n",
    "\n",
    "print('Tracking second source')\n",
    "target = mtcs.radec_from_azel(az=az, el=el)\n",
    "await mtcs.slew_icrs(ra=target.ra, dec=target.dec, rot_type=RotType.Physical, rot=0)\n",
    "\n",
    "time.sleep(39.)\n",
    "await mtcs.stop_tracking()"
   ]
  },
  {
   "cell_type": "code",
   "execution_count": null,
   "metadata": {},
   "outputs": [],
   "source": [
    "az, el = await moveMountInElevationSteps(83.4, azimuth=190.5)\n",
    "\n",
    "print('Tracking second source')\n",
    "target = mtcs.radec_from_azel(az=az, el=el)\n",
    "await mtcs.slew_icrs(ra=target.ra, dec=target.dec, rot_type=RotType.Physical, rot=0)\n",
    "\n",
    "time.sleep(39.)\n",
    "await mtcs.stop_tracking()"
   ]
  },
  {
   "cell_type": "code",
   "execution_count": null,
   "metadata": {},
   "outputs": [],
   "source": [
    "az, el = await moveMountInElevationSteps(82.4, azimuth=190.5)\n",
    "\n",
    "print('Tracking second source')\n",
    "target = mtcs.radec_from_azel(az=az, el=el)\n",
    "await mtcs.slew_icrs(ra=target.ra, dec=target.dec, rot_type=RotType.Physical, rot=0)\n",
    "\n",
    "time.sleep(39.)\n",
    "await mtcs.stop_tracking()"
   ]
  },
  {
   "cell_type": "code",
   "execution_count": null,
   "metadata": {},
   "outputs": [],
   "source": [
    "t_end = Time(Time.now(), format='fits', scale='utc')\n",
    "\n",
    "print(f\"Gathering data - Elevation motion test - End time: {t_end}\")"
   ]
  },
  {
   "cell_type": "code",
   "execution_count": null,
   "metadata": {},
   "outputs": [],
   "source": [
    "client = EfdClient(\"summit_efd\")"
   ]
  },
  {
   "cell_type": "code",
   "execution_count": null,
   "metadata": {},
   "outputs": [],
   "source": [
    "# Plot mount elevation as a function of time\n",
    "# Query telemetry\n",
    "dfm_elevation = await client.select_time_series('lsst.sal.MTMount.elevation', 'actualPosition', t_start.utc, t_end.utc)"
   ]
  },
  {
   "cell_type": "code",
   "execution_count": null,
   "metadata": {},
   "outputs": [],
   "source": [
    "# Plot \n",
    "fig, axs = plt.subplots(figsize=(12, 6), sharex=True)\n",
    "\n",
    "axs.plot(dfm_elevation[\"actualPosition\"].dropna(), \"k\", label=\"Mount Elevation\")\n",
    "axs.set_ylabel(\"Mount El\\n[deg]\")\n",
    "\n",
    "fig.suptitle(f\"{test_execution} - Elevation vs Time\")\n",
    "fig.tight_layout(h_pad=0.3)\n",
    "fig.patch.set_facecolor('white')   \n",
    "\n",
    "fig.savefig(f\"plots/{test_execution}_mount_el_vs_time.png\")\n",
    "plt.show()"
   ]
  },
  {
   "cell_type": "markdown",
   "metadata": {},
   "source": [
    "---\n",
    "## Get M1M3 Ready\n",
    "\n",
    "- Raise the mirror,\n",
    "- Turn on Balance Forces,\n",
    "- Clear forces\n",
    "\n",
    "Need to have M1M3 LUT use mount telemetry."
   ]
  },
  {
   "cell_type": "code",
   "execution_count": null,
   "metadata": {},
   "outputs": [],
   "source": [
    "await mtcs.set_state(salobj.State.STANDBY, components=[\"mtm1m3\"])"
   ]
  },
  {
   "cell_type": "code",
   "execution_count": null,
   "metadata": {},
   "outputs": [],
   "source": [
    "await mtcs.set_state(\n",
    "    state=salobj.State.ENABLED,\n",
    "    components=[\"mtm1m3\"], \n",
    "    overrides = {\"mtm1m3\": 'Default'}\n",
    "    )"
   ]
  },
  {
   "cell_type": "code",
   "execution_count": null,
   "metadata": {},
   "outputs": [],
   "source": [
    "# If M1M3 is not raised yet, use this command to raise it.\n",
    "await mtcs.raise_m1m3()"
   ]
  },
  {
   "cell_type": "code",
   "execution_count": null,
   "metadata": {},
   "outputs": [],
   "source": [
    "# Enables M1M3 Force Balance system using the hardpoints\n",
    "await mtcs.enable_m1m3_balance_system()"
   ]
  },
  {
   "cell_type": "code",
   "execution_count": null,
   "metadata": {},
   "outputs": [],
   "source": [
    "# Resets the Aberration Forces and the Active Optics Forces\n",
    "await mtcs.reset_m1m3_forces()"
   ]
  },
  {
   "cell_type": "code",
   "execution_count": null,
   "metadata": {},
   "outputs": [],
   "source": [
    "# M1M3 LUT use mount telemetry\n",
    "# todo: how to do that? "
   ]
  },
  {
   "cell_type": "markdown",
   "metadata": {},
   "source": [
    "## Get M2 Ready\n",
    "- Turn on Force Balance system\n",
    "- Clear forces"
   ]
  },
  {
   "cell_type": "code",
   "execution_count": null,
   "metadata": {
    "tags": []
   },
   "outputs": [],
   "source": [
    "# Enabled M2 Force Balance system \n",
    "await mtcs.enable_m2_balance_system()"
   ]
  },
  {
   "cell_type": "code",
   "execution_count": null,
   "metadata": {},
   "outputs": [],
   "source": [
    "# Resets the Active Optics Forces\n",
    "await mtcs.reset_m2_forces()"
   ]
  },
  {
   "cell_type": "code",
   "execution_count": null,
   "metadata": {},
   "outputs": [],
   "source": [
    "# Need to have M2 LUT use mount telemetry\n",
    "# todo: how to do that?"
   ]
  },
  {
   "cell_type": "markdown",
   "metadata": {},
   "source": [
    "## Get CamHex Ready\n",
    "- Check config \n",
    "- Make sure LUT is on, and has valid inputs\n",
    "- Make sure hex is at LUT position"
   ]
  },
  {
   "cell_type": "code",
   "execution_count": null,
   "metadata": {},
   "outputs": [],
   "source": [
    "# Check the configuration\n",
    "await vandv.hexapod.get_hexapod_configuration(mtcs.rem.mthexapod_1)"
   ]
  },
  {
   "cell_type": "code",
   "execution_count": null,
   "metadata": {},
   "outputs": [],
   "source": [
    "# Enable compensation mode for CamHex\n",
    "await mtcs.enable_compensation_mode(\"mthexapod_1\")"
   ]
  },
  {
   "cell_type": "code",
   "execution_count": null,
   "metadata": {},
   "outputs": [],
   "source": [
    "# Reset the Camera Hexapod position\n",
    "await mtcs.reset_camera_hexapod_position()"
   ]
  },
  {
   "cell_type": "code",
   "execution_count": null,
   "metadata": {},
   "outputs": [],
   "source": [
    "# After resetting the Camera Hexapod position, we want to make sure that \n",
    "# the compesation and non-compensation values are the same.\n",
    "await vandv.hexapod.print_hexapod_uncompensation_values(mtcs.rem.mthexapod_1)\n",
    "await vandv.hexapod.print_hexapod_compensation_values(mtcs.rem.mthexapod_1)"
   ]
  },
  {
   "cell_type": "code",
   "execution_count": null,
   "metadata": {},
   "outputs": [],
   "source": [
    "# Need to have CamHex LUT use mount telemetry\n",
    "await vandv.hexapod.check_hexapod_lut(mtcs.rem.mthexapod_1)"
   ]
  },
  {
   "cell_type": "markdown",
   "metadata": {},
   "source": [
    "## Get M2Hex Ready\n",
    "\n",
    "- Check config \n",
    "- Make sure LUT is on, and has valid inputs\n",
    "- Make sure M2Hex is at LUT position"
   ]
  },
  {
   "cell_type": "code",
   "execution_count": null,
   "metadata": {},
   "outputs": [],
   "source": [
    "# Check the configuration\n",
    "await vandv.hexapod.get_hexapod_configuration(mtcs.rem.mthexapod_2)"
   ]
  },
  {
   "cell_type": "code",
   "execution_count": null,
   "metadata": {},
   "outputs": [],
   "source": [
    "# Enable compensation mode for M2Hex\n",
    "await mtcs.enable_compensation_mode(\"mthexapod_2\")"
   ]
  },
  {
   "cell_type": "code",
   "execution_count": null,
   "metadata": {},
   "outputs": [],
   "source": [
    "# Reset the M2 Hexapod position\n",
    "await mtcs.reset_m2_hexapod_position()"
   ]
  },
  {
   "cell_type": "code",
   "execution_count": null,
   "metadata": {},
   "outputs": [],
   "source": [
    "# After resetting the Camera Hexapod position, we want to make sure that \n",
    "# the compesation and non-compensation values are the same.\n",
    "await vandv.hexapod.print_hexapod_uncompensation_values(mtcs.rem.mthexapod_2)\n",
    "await vandv.hexapod.print_hexapod_compensation_values(mtcs.rem.mthexapod_2)"
   ]
  },
  {
   "cell_type": "code",
   "execution_count": null,
   "metadata": {},
   "outputs": [],
   "source": [
    "# Need to have CamHex LUT use mount telemetry\n",
    "await vandv.hexapod.check_hexapod_lut(mtcs.rem.mthexapod_1)"
   ]
  },
  {
   "cell_type": "markdown",
   "metadata": {},
   "source": [
    "## Gather Data - Without Aberrations\n",
    "Do 4 slews in sequence. For each slew, track for 39s, simulating a visit.\n",
    "Note: the 4 slews need to correspond to elevation angle between 86.5 deg and 82 deg. And, additional margin is needed due to tracking."
   ]
  },
  {
   "cell_type": "code",
   "execution_count": null,
   "metadata": {
    "tags": []
   },
   "outputs": [],
   "source": [
    "# We start at 85.4 deg because the track fails at 85.5 deg\n",
    "target_elevations = [85.4, 84.4, 83.4, 82.4]\n",
    "\n",
    "t_start_without_aberration = Time.now()\n",
    "t_start_without_aberration.format = \"isot\"\n",
    "print(f\"Gathering data - without Aberrations - Start time: {t_start_without_aberration}\")\n",
    "\n",
    "for _el in target_elevations:\n",
    "    az, el = await moveMountInElevationSteps(_el, azimuth=190.5)\n",
    "\n",
    "    target = mtcs.radec_from_azel(az=az, el=el)\n",
    "    await mtcs.slew_icrs(ra=target.ra, dec=target.dec, rot_type=RotType.Physical, rot=0)\n",
    "\n",
    "    # 39. seconds is the exposure time (2 * 15 sec) plus readout\n",
    "    time.sleep(39.)\n",
    "    await mtcs.stop_tracking()\n",
    "    \n",
    "t_end_without_aberration = Time.now()\n",
    "t_end_without_aberration.format = \"isot\"\n",
    "print(f\"Gathering data - without Aberrations - End time: {t_end_without_aberration}\")"
   ]
  },
  {
   "cell_type": "markdown",
   "metadata": {},
   "source": [
    "### Plot Optics vs Time\n",
    "\n",
    "Plot the following as a function of time during the above process:\n",
    "\n",
    "- mount elevation\n",
    "- m1m3 actuator 101 z force\n",
    "- m2 actuator B1 force\n",
    "- camera hex y position\n",
    "- m2 hex y position"
   ]
  },
  {
   "cell_type": "code",
   "execution_count": null,
   "metadata": {},
   "outputs": [],
   "source": [
    "print(f\"Gathering data - without Aberrations - Start time: {t_start_without_aberration}\")\n",
    "print(f\"Gathering data - without Aberrations - End time: {t_end_without_aberration}\")"
   ]
  },
  {
   "cell_type": "code",
   "execution_count": null,
   "metadata": {
    "tags": []
   },
   "outputs": [],
   "source": [
    "# Query telemetry\n",
    "df = await get_data_from_efd(\n",
    "    exec_info.loc, \n",
    "    t_start_without_aberration, \n",
    "    t_end_without_aberration)"
   ]
  },
  {
   "cell_type": "code",
   "execution_count": null,
   "metadata": {},
   "outputs": [],
   "source": [
    "fig, axs = plt.subplots(figsize=(10, 10), nrows=4, sharex=True)\n",
    "\n",
    "axs[0].plot(df[\"mount_el\"].dropna(), \"k\", label=\"Mount Elevation\")\n",
    "axs[0].set_ylabel(\"Mount El\\n[deg]\")\n",
    "\n",
    "axs[1].plot(df[\"m1m3_z101\"].dropna(), \"C0o-\", label=\"z101\")\n",
    "axs[1].set_ylabel(\"M1M3 Forces\\n[--]\")\n",
    "\n",
    "# axs[2].plot(df[\"m2b1_applied\"].dropna(), \"C1-\", label=\"applied\")\n",
    "# axs[2].plot(df[\"m2b1_gravLut\"].dropna(), \"C2-\", label=\"Gravity LUT\")\n",
    "axs[2].plot(df[\"m2b1_measured\"].dropna(), \"C3-\", label=\"Measured\")\n",
    "axs[2].set_ylabel(\"M2 Forces\\n[--]\")\n",
    "\n",
    "axs[3].plot(df[\"camhex_y\"].dropna(), \"C3x-\", label=\"CamHex Y\")\n",
    "axs[3].plot(df[\"m2hex_y\"].dropna(), \"C4+-\", label=\"M2Hex Y\")\n",
    "axs[3].set_ylabel(\"Hexapod Position\\n[um]\")\n",
    "\n",
    "for ax in axs:\n",
    "    ax.grid(\":\", alpha=0.5)\n",
    "    ax.legend()\n",
    "\n",
    "fig.suptitle(f\"{test_execution} - M1M3/M2/Hexs/Elevation vs Time\")\n",
    "fig.tight_layout(h_pad=0.3)\n",
    "fig.patch.set_facecolor('white')   \n",
    "\n",
    "fig.savefig(f\"plots/{test_execution}_m1m3_m2_hexs_el_vs_time_without_aberr.png\")\n",
    "plt.show()"
   ]
  },
  {
   "cell_type": "markdown",
   "metadata": {},
   "source": [
    "## Gather Data - With Aberrations\n",
    "Do 4 slews in sequence.\n",
    "For each slew,\n",
    "\n",
    "2 seconds before the slew starts, use MTAOS to add some aberrations to the system. The aberrations should correspond to 1um of z4 (focus), z5(astigmatism), z7 (y-coma), and z9 (trefoil), respectively track for 39s, simulating a visit.\n",
    "\n",
    "Note: the 4 slews need to correspond to elevation angle between 86.5 deg and 82 deg. And, additional margin is needed due to tracking."
   ]
  },
  {
   "cell_type": "code",
   "execution_count": null,
   "metadata": {
    "tags": []
   },
   "outputs": [],
   "source": [
    "# We start at 85.4 deg because the track fails at 85.5 deg\n",
    "target_elevations = [85.4, 84.4, 83.4, 82.4]\n",
    "aberrations = [\n",
    "    0, # z4 (focus)\n",
    "    1, # z5 (astigmatism)\n",
    "    3, # z7 (y-coma)\n",
    "    5, # z9 (trefoil)\n",
    "]\n",
    "\n",
    "await mtcs.rem.mtaos.cmd_resetCorrection.start()\n",
    "await mtcs.rem.mtaos.cmd_issueCorrection.start(timeout=60.)\n",
    "\n",
    "t_start_with_aberration = Time.now()\n",
    "t_start_with_aberration.format = \"isot\"\n",
    "print(f\"Gathering data - with Aberrations (reset every time) - Start time: {t_start_with_aberration}\")\n",
    "\n",
    "for _el, _ab in zip(target_elevations, aberrations):\n",
    "    \n",
    "    print(f\"\\n\\n\\n\\nCurrent elevation: {_el} - current aberration z{_ab + 4}\")\n",
    "\n",
    "    # the input for addAberration is an array with 19 elements representing \n",
    "    # the zernike coefficients starting at z4\n",
    "    wavefront_errors = np.zeros(19) \n",
    "    wavefront_errors[_ab] = 1.0 # um\n",
    "    await mtcs.rem.mtaos.cmd_addAberration.set_start(wf=wavefront_errors, timeout=10)\n",
    "    await mtcs.rem.mtaos.cmd_issueCorrection.start(timeout=60.)\n",
    "    time.sleep(2.)\n",
    "    \n",
    "    az, el = await moveMountInElevationSteps(_el, azimuth=190.5)\n",
    "\n",
    "    target = mtcs.radec_from_azel(az=az, el=el)\n",
    "    await mtcs.slew_icrs(ra=target.ra, dec=target.dec, rot_type=RotType.Physical, rot=0)\n",
    "\n",
    "    # 39. seconds is the exposure time (2 * 15 sec) plus readout\n",
    "    time.sleep(39.)\n",
    "    await mtcs.stop_tracking()\n",
    "    \n",
    "    await mtcs.rem.mtaos.cmd_resetCorrection.start()\n",
    "    await mtcs.rem.mtaos.cmd_issueCorrection.start(timeout=60.)\n",
    "    \n",
    "t_end_with_aberration = Time.now()\n",
    "t_end_with_aberration.format = \"isot\"\n",
    "print(f\"Gathering data - with Aberrations (reset every time) - End time: {t_end_with_aberration}\")"
   ]
  },
  {
   "cell_type": "code",
   "execution_count": null,
   "metadata": {},
   "outputs": [],
   "source": [
    "print(t_start_with_aberration, t_end_with_aberration)"
   ]
  },
  {
   "cell_type": "markdown",
   "metadata": {},
   "source": [
    "### Plot Optics vs Time\n",
    "\n",
    "Plot the following as a function of time during the above process:\n",
    "\n",
    "- mount elevation\n",
    "- m1m3 actuator 101 z force\n",
    "- m2 actuator B1 force\n",
    "- camera hex y position\n",
    "- m2 hex y position"
   ]
  },
  {
   "cell_type": "code",
   "execution_count": null,
   "metadata": {},
   "outputs": [],
   "source": [
    "# Query telemetry\n",
    "df_aberr = await get_data_from_efd(\n",
    "    exec_info.loc, \n",
    "    t_start_with_aberration, \n",
    "    t_end_with_aberration)"
   ]
  },
  {
   "cell_type": "code",
   "execution_count": null,
   "metadata": {},
   "outputs": [],
   "source": [
    "fig, axs = plt.subplots(figsize=(10, 10), nrows=4, sharex=True)\n",
    "\n",
    "axs[0].plot(df_aberr[\"mount_el\"].dropna(), \"k\", label=\"Mount Elevation\")\n",
    "axs[0].set_ylabel(\"Mount El\\n[deg]\")\n",
    "\n",
    "axs[1].plot(df_aberr[\"m1m3_z101\"].dropna(), \"C0o-\", label=\"z\")\n",
    "axs[1].set_ylabel(\"M1M3 Forces\\n[--]\")\n",
    "\n",
    "# axs[2].plot(df_aberr[\"m2b1_applied\"].dropna(), \"C1^-\", label=\"applied\")\n",
    "# axs[2].plot(df_aberr[\"m2b1_gravLut\"].dropna(), \"C2v-\", label=\"Gravity LUT\")\n",
    "axs[2].plot(df_aberr[\"m2b1_measured\"].dropna(), \"C3-\", label=\"Measured\")\n",
    "axs[2].set_ylabel(\"M2 Forces\\n[--]\")\n",
    "\n",
    "axs[3].plot(df_aberr[\"camhex_y\"].dropna(), \"C3x-\", label=\"CamHex Y\")\n",
    "axs[3].plot(df_aberr[\"m2hex_y\"].dropna(), \"C4+-\", label=\"M2Hex Y\")\n",
    "axs[3].set_ylabel(\"Hexapod Position\\n[um]\")\n",
    "\n",
    "for ax in axs:\n",
    "    ax.grid(\":\", alpha=0.5)\n",
    "    ax.legend()\n",
    "\n",
    "fig.suptitle(f\"{test_execution} - M1M3/M2/Hexs/Elevation with Aberrations vs Time\")\n",
    "fig.tight_layout(h_pad=0.3)\n",
    "fig.patch.set_facecolor('white')   \n",
    "\n",
    "fig.savefig(f\"plots/{test_execution}_m1m3_m2_hexs_el_vs_time_with_aberr.png\")\n",
    "plt.show()"
   ]
  },
  {
   "cell_type": "markdown",
   "metadata": {},
   "source": [
    "## Gather Data - With Accumulated Aberrations"
   ]
  },
  {
   "cell_type": "code",
   "execution_count": null,
   "metadata": {},
   "outputs": [],
   "source": [
    "# We start at 85.4 deg because the track fails at 85.5 deg\n",
    "target_elevations = [85.4, 84.4, 83.4, 82.4]\n",
    "aberrations = [\n",
    "    0, # z4 (focus)\n",
    "    1, # z5 (astigmatism)\n",
    "    3, # z7 (y-coma)\n",
    "    5, # z9 (trefoil)\n",
    "]\n",
    "\n",
    "await mtcs.rem.mtaos.cmd_resetCorrection.start()\n",
    "await mtcs.rem.mtaos.cmd_issueCorrection.start(timeout=60.)\n",
    "\n",
    "t_start_with_acc_aberration = Time.now()\n",
    "t_start_with_acc_aberration.format = \"isot\"\n",
    "print(f\"Gathering data - with Aberrations Accumulated - Start time: {t_start_with_acc_aberration}\")\n",
    "\n",
    "for _el, _ab in zip(target_elevations, aberrations):\n",
    "    \n",
    "    print(f\"\\n\\n\\n\\nCurrent elevation: {_el} - current aberration z{_ab + 4}\")\n",
    "\n",
    "    # the input for addAberration is an array with 19 elements representing \n",
    "    # the zernike coefficients starting at z4\n",
    "    wavefront_errors = np.zeros(19) \n",
    "    wavefront_errors[_ab] = 1.0 # um\n",
    "    await mtcs.rem.mtaos.cmd_addAberration.set_start(wf=wavefront_errors, timeout=10)\n",
    "    await mtcs.rem.mtaos.cmd_issueCorrection.start(timeout=60.)\n",
    "    time.sleep(2.)\n",
    "    \n",
    "    az, el = await moveMountInElevationSteps(_el, azimuth=190.5)\n",
    "\n",
    "    target = mtcs.radec_from_azel(az=az, el=el)\n",
    "    await mtcs.slew_icrs(ra=target.ra, dec=target.dec, rot_type=RotType.Physical, rot=0)\n",
    "\n",
    "    # 39. seconds is the exposure time (2 * 15 sec) plus readout\n",
    "    time.sleep(39.)\n",
    "    await mtcs.stop_tracking()\n",
    "    \n",
    "t_end_with_acc_aberration = Time.now()\n",
    "t_end_with_acc_aberration.format = \"isot\"\n",
    "print(f\"Gathering data - with Aberrations Accumulated - End time: {t_start_with_acc_aberration}\")"
   ]
  },
  {
   "cell_type": "code",
   "execution_count": null,
   "metadata": {},
   "outputs": [],
   "source": [
    "print(f\"Gathering data - with Aberrations Accumulated - Start time: {t_start_with_acc_aberration}\")\n",
    "print(f\"Gathering data - with Aberrations Accumulated - End time: {t_end_with_acc_aberration}\")"
   ]
  },
  {
   "cell_type": "markdown",
   "metadata": {},
   "source": [
    "### Plot Optics vs Time"
   ]
  },
  {
   "cell_type": "code",
   "execution_count": null,
   "metadata": {},
   "outputs": [],
   "source": [
    "# Query telemetry\n",
    "df_aberr_acc = await get_data_from_efd(\n",
    "    exec_info.loc, \n",
    "    t_start_with_acc_aberration, \n",
    "    t_end_with_acc_aberration)"
   ]
  },
  {
   "cell_type": "code",
   "execution_count": null,
   "metadata": {},
   "outputs": [],
   "source": [
    "fig, axs = plt.subplots(figsize=(10, 10), nrows=4, sharex=True)\n",
    "\n",
    "axs[0].plot(df_aberr_acc[\"mount_el\"].dropna(), \"k\", label=\"Mount Elevation\")\n",
    "axs[0].set_ylabel(\"Mount El\\n[deg]\")\n",
    "\n",
    "axs[1].plot(df_aberr_acc[\"m1m3_z101\"].dropna(), \"C0o-\", label=\"z\")\n",
    "axs[1].set_ylabel(\"M1M3 Forces\\n[--]\")\n",
    "\n",
    "# axs[2].plot(df_aberr_acc[\"m2b1_applied\"].dropna(), \"C1^-\", label=\"applied\")\n",
    "# axs[2].plot(df_aberr_acc[\"m2b1_gravLut\"].dropna(), \"C2v-\", label=\"Gravity LUT\")\n",
    "axs[2].plot(df_aberr_acc[\"m2b1_measured\"].dropna(), \"C3-\", label=\"Measured\")\n",
    "axs[2].set_ylabel(\"M2 Forces\\n[--]\")\n",
    "\n",
    "axs[3].plot(df_aberr_acc[\"camhex_y\"].dropna(), \"C3x-\", label=\"CamHex Y\")\n",
    "axs[3].plot(df_aberr_acc[\"m2hex_y\"].dropna(), \"C4+-\", label=\"M2Hex Y\")\n",
    "axs[3].set_ylabel(\"Hexapod Position\\n[um]\")\n",
    "\n",
    "for ax in axs:\n",
    "    ax.grid(\":\", alpha=0.5)\n",
    "    ax.legend()\n",
    "\n",
    "fig.suptitle(f\"{test_execution} - M1M3/M2/Hexs/Elevation with Aberrations vs Time\")\n",
    "fig.tight_layout(h_pad=0.3)\n",
    "fig.patch.set_facecolor('white')   \n",
    "\n",
    "fig.savefig(f\"plots/{test_execution}_m1m3_m2_hexs_el_vs_time_with_aberr.png\")\n",
    "plt.show()"
   ]
  },
  {
   "cell_type": "code",
   "execution_count": null,
   "metadata": {},
   "outputs": [],
   "source": [
    "print( mtcs.rem.mtaos.evt_m2Correction.get() )"
   ]
  },
  {
   "cell_type": "code",
   "execution_count": null,
   "metadata": {},
   "outputs": [],
   "source": [
    "print( mtcs.rem.mtaos.evt_m2Correction.get() )\n",
    "await mtcs.rem.mtaos.cmd_resetCorrection.set_start()\n",
    "print( mtcs.rem.mtaos.evt_m2Correction.get() )\n",
    "\n",
    "w = np.zeros(19)\n",
    "w[0] = 1\n",
    "\n",
    "await mtcs.rem.mtaos.cmd_addAberration.set_start(wf=w)\n",
    "print( mtcs.rem.mtaos.evt_m2Correction.get() )"
   ]
  },
  {
   "cell_type": "code",
   "execution_count": null,
   "metadata": {},
   "outputs": [],
   "source": []
  },
  {
   "cell_type": "markdown",
   "metadata": {
    "tags": []
   },
   "source": [
    "## Compare against the corrections sent by MTAOS. \n",
    "\n",
    "check the force and hexapod position differences between steps 10 and 12.\n",
    "\n",
    "Compare against the corrections sent by MTAOS. They should match.\n",
    "\n",
    "M1M3 and M2 not using LUT so when no aberrations are applied, all forces are 0. "
   ]
  },
  {
   "cell_type": "markdown",
   "metadata": {},
   "source": [
    "To compare forces and hexapod positions, I will find the inPosition flag for the mount and will compare them 3 seconds after it reached position. "
   ]
  },
  {
   "cell_type": "code",
   "execution_count": null,
   "metadata": {},
   "outputs": [],
   "source": [
    "# Without aberrations\n",
    "t_start = \"2022-06-14T16:24:47.387\"\n",
    "t_start = time.Time(t_start, format=\"isot\", scale=\"utc\")\n",
    "\n",
    "t_end = \"2022-06-14T16:31:25.569\"\n",
    "t_end = time.Time(t_end, format=\"isot\", scale=\"utc\")"
   ]
  },
  {
   "cell_type": "code",
   "execution_count": null,
   "metadata": {},
   "outputs": [],
   "source": [
    "# With aberrations 2022-06-14T16:34:15.195 2022-06-14T16:38:24.966\n",
    "t_start_aberr = \"2022-06-14T16:32:47.387\"\n",
    "t_start_aberr = time.Time(t_start_aberr, format=\"isot\", scale=\"utc\")\n",
    "\n",
    "t_end_aberr = \"2022-06-14T16:38:25.966\"\n",
    "t_end_aberr = time.Time(t_end_aberr, format=\"isot\", scale=\"utc\")"
   ]
  },
  {
   "cell_type": "code",
   "execution_count": null,
   "metadata": {},
   "outputs": [],
   "source": [
    "# Axis in Position in the slews."
   ]
  },
  {
   "cell_type": "code",
   "execution_count": null,
   "metadata": {},
   "outputs": [],
   "source": [
    "inPosition_without = await client.select_time_series(\n",
    "    'lsst.sal.MTMount.logevent_elevationInPosition', \n",
    "    ['inPosition'], \n",
    "    t_start, \n",
    "    t_end\n",
    ")\n",
    "slews_without = inPosition_without[inPosition_without.inPosition == True]"
   ]
  },
  {
   "cell_type": "code",
   "execution_count": null,
   "metadata": {},
   "outputs": [],
   "source": [
    "startTracking_without = await client.select_time_series(\n",
    "    'lsst.sal.MTMount.command_startTracking', \n",
    "    ['*'], \n",
    "    t_start, \n",
    "    t_end\n",
    ")\n",
    "startTracking_without"
   ]
  },
  {
   "cell_type": "code",
   "execution_count": null,
   "metadata": {},
   "outputs": [],
   "source": [
    "inPosition_withaberr = await client.select_time_series(\n",
    "    'lsst.sal.MTMount.logevent_elevationInPosition', \n",
    "    ['inPosition'], \n",
    "    t_start_aberr, \n",
    "    t_end_aberr\n",
    ")\n",
    "slews_withaberr = inPosition_withaberr[inPosition_withaberr.inPosition == True]"
   ]
  },
  {
   "cell_type": "code",
   "execution_count": null,
   "metadata": {},
   "outputs": [],
   "source": []
  },
  {
   "cell_type": "markdown",
   "metadata": {
    "tags": []
   },
   "source": [
    "### M1 forces vs MTAOS corrections"
   ]
  },
  {
   "cell_type": "code",
   "execution_count": null,
   "metadata": {},
   "outputs": [],
   "source": [
    "line = []\n",
    "interval =0.5\n",
    "\n",
    "for k in np.arange(len(startTracking_without)):\n",
    "\n",
    "    # Query M1M3 forces 1 second before the slew command is sent\n",
    "    \n",
    "    df_m1m3_forces_withaberr = await client.select_time_series(\n",
    "        \"lsst.sal.MTM1M3.forceActuatorData\",\n",
    "        [\"zForce101\",\"zForce10\", \"zForce1\"]  ,       \n",
    "        t_start_aberr, \n",
    "        t_end_aberr\n",
    "    )\n",
    "\n",
    "    # Query M1M3 forces 2 seconds before correction is issued\n",
    "    df_m1m3_forces_without = await client.select_time_series(\n",
    "        \"lsst.sal.MTM1M3.forceActuatorData\",\n",
    "        [\"zForce101\",\"zForce10\", \"zForce1\"]  ,       \n",
    "        t_start,\n",
    "        t_end\n",
    "    )\n",
    "\n",
    "\n",
    "    df_mount_el = await client.select_time_series(\n",
    "        'lsst.sal.MTMount.elevation', 'actualPosition', \n",
    "        Time(startTracking_withaberr.index[k])-TimeDelta(1.5, format='sec'), \n",
    "        Time(startTracking_withaberr.index[k])-TimeDelta(0.5, format='sec')\n",
    "    )\n",
    "\n",
    "\n",
    "\n",
    "    # Build each line \n",
    "    line.append(\n",
    "             {'time': Time(df_m1m3_applied_corrections.index[k]),\n",
    "              'zForce101_Before': df_m1m3_forces_without.zForce101.mean(),\n",
    "              'zForce101_After': df_m1m3_forces_withaberr.zForce101.mean(),\n",
    "              'zForce10_Before': df_m1m3_forces_without.zForce10.mean(),\n",
    "              'zForce10_After': df_m1m3_forces_withaberr.zForce10.mean(),\n",
    "              'zForce1_Before': df_m1m3_forces_without.zForce1.mean(),\n",
    "              'zForce1_After': df_m1m3_forces_withaberr.zForce1.mean(),\n",
    "              \n",
    "              'corr_zForce101':df_m1m3_applied_corrections.iloc[k].zForces101,\n",
    "              'corr_zForce10':df_m1m3_applied_corrections.iloc[k].zForces10,\n",
    "              'corr_zForce1':df_m1m3_applied_corrections.iloc[k].zForces1,\n",
    "\n",
    "              'elevation' : df_mount_el.actualPosition.mean()\n",
    "             }\n",
    "         )\n",
    "    \n",
    "\n",
    "m1m3_aos = pd.DataFrame(line)"
   ]
  },
  {
   "cell_type": "code",
   "execution_count": null,
   "metadata": {},
   "outputs": [],
   "source": [
    "# Without AO- Get the M1 zForce 101 position and elevation angle X seconds after the mount reached position. \n",
    "\n",
    "line = []\n",
    "interval =10\n",
    "\n",
    "for k in np.arange(len(slews_without)):\n",
    "    inPos = Time(slews_without.index[k])\n",
    "    print(inPos)\n",
    "    t1 = inPos +  TimeDelta(interval, format='sec')\n",
    "    t2 = t1 +  TimeDelta(1, format='sec')\n",
    "    \n",
    "    df_m1m3_101 = await client.select_time_series(\n",
    "        \"lsst.sal.MTM1M3.forceActuatorData\",\n",
    "        \"zForce101\",\n",
    "        t1, \n",
    "        t2,\n",
    "    )\n",
    "    \n",
    "    df_mount_el = await client.select_time_series(\n",
    "        'lsst.sal.MTMount.elevation', 'actualPosition', \n",
    "        t1, t2)\n",
    "\n",
    "    line.append(\n",
    "        {'time': t1,\n",
    "         'zForce101': df_m1m3_101.zForce101.mean(),\n",
    "         'elevation' : df_mount_el.actualPosition.mean()\n",
    "        }\n",
    "    )\n",
    "    \n",
    "df_m1m3_without = pd.DataFrame(line)   "
   ]
  },
  {
   "cell_type": "code",
   "execution_count": null,
   "metadata": {},
   "outputs": [],
   "source": [
    "# Without AO- Get the M1 zForce 101 position and elevation angle X seconds after the mount reached position. \n",
    " \n",
    "line = []\n",
    "\n",
    "for k in np.arange(len(slews_withaberr)):\n",
    "    inPos = Time(slews_withaberr.index[k])\n",
    "    print(inPos)\n",
    "    t1 = inPos +  TimeDelta(interval, format='sec')\n",
    "    t2 = t1 +  TimeDelta(1, format='sec')\n",
    "    \n",
    "    df_m1m3_101 = await client.select_time_series(\n",
    "        \"lsst.sal.MTM1M3.forceActuatorData\",\n",
    "        \"zForce101\",\n",
    "        t1, \n",
    "        t2,\n",
    "    )\n",
    "    \n",
    "    df_mount_el = await client.select_time_series(\n",
    "        'lsst.sal.MTMount.elevation', 'actualPosition', \n",
    "        t1, t2)\n",
    "\n",
    "    line.append(\n",
    "        {'time': t1,\n",
    "         'zForce101': df_m1m3_101.zForce101.mean(),\n",
    "         'elevation' : df_mount_el.actualPosition.mean()\n",
    "        }\n",
    "    )\n",
    "    \n",
    "df_m1m3_withaberr = pd.DataFrame(line)   "
   ]
  },
  {
   "cell_type": "code",
   "execution_count": null,
   "metadata": {},
   "outputs": [],
   "source": [
    "m1m3_correction = await client.select_time_series(\n",
    "    'lsst.sal.MTAOS.logevent_m1m3Correction', \n",
    "    [f\"zForces101\"], \n",
    "    t_start_aberr, \n",
    "    t_end_aberr\n",
    ")"
   ]
  },
  {
   "cell_type": "code",
   "execution_count": null,
   "metadata": {},
   "outputs": [],
   "source": [
    "# Print force differences between aberr and nonaberr slews vs MTAOS corrections for each type of aberration\n",
    "print(\"1 um of z4 (Focus)\")\n",
    "print(f\"zForces101_diff    \\t Time ---  \\n\"\n",
    "      f\"{df_m1m3_withaberr.iloc[0].zForce101-df_m1m3_without.iloc[0].zForce101:0.5f}    \\t {df_m1m3_withaberr.iloc[0].time} \\n\"\n",
    "      f\"zForces101_corr    \\t Time  ---- MTAOS correction \\n\"\n",
    "      f\"{m1m3_correction.iloc[1].zForces101:0.5f} \\t {m1m3_correction.index[1]} \\n\")\n",
    "\n",
    "print(\"1 um of z5 (Astigmatism)\")\n",
    "print(f\"zForces101_diff    \\t Time ---  \\n\"\n",
    "      f\"{df_m1m3_withaberr.iloc[1].zForce101-df_m1m3_without.iloc[1].zForce101:0.5f}    \\t {df_m1m3_withaberr.iloc[1].time} \\n\"\n",
    "      f\"zForces101_corr    \\t Time  ---- MTAOS correction \\n\"\n",
    "      f\"{m1m3_correction.iloc[3].zForces101:0.5f} \\t {m1m3_correction.index[3]} \\n\")\n",
    "\n",
    "print(\"1 um of z7 (y-Coma)\")\n",
    "print(f\"zForces101_diff    \\t Time ---  \\n\"\n",
    "      f\"{df_m1m3_withaberr.iloc[2].zForce101-df_m1m3_without.iloc[2].zForce101:0.5f}    \\t {df_m1m3_withaberr.iloc[2].time} \\n\"\n",
    "      f\"zForces101_corr    \\t Time  ---- MTAOS correction \\n\"\n",
    "      f\"{m1m3_correction.iloc[5].zForces101:0.5f} \\t {m1m3_correction.index[5]} \\n\")\n",
    "\n",
    "print(\"1 um of z9 (Trefoil)\")\n",
    "print(f\"zForces101_diff    \\t Time ---  \\n\"\n",
    "      f\"{df_m1m3_withaberr.iloc[3].zForce101-df_m1m3_without.iloc[3].zForce101:0.5f}    \\t {df_m1m3_withaberr.iloc[3].time} \\n\"\n",
    "      f\"zForces101_corr    \\t Time  ---- MTAOS correction \\n\"\n",
    "      f\"{m1m3_correction.iloc[7].zForces101:0.5f} \\t {m1m3_correction.index[7]} \\n\")"
   ]
  },
  {
   "cell_type": "code",
   "execution_count": null,
   "metadata": {},
   "outputs": [],
   "source": [
    "m1m3_correction_applied = await client.select_time_series(\n",
    "    'lsst.sal.MTM1M3.command_applyActiveOpticForces', \n",
    "    [f\"zForces{i}\" for i in range(156)], \n",
    "    t_start_aberr.utc, \n",
    "    t_end_aberr.utc\n",
    ")"
   ]
  },
  {
   "cell_type": "code",
   "execution_count": null,
   "metadata": {},
   "outputs": [],
   "source": [
    "fig, axs = plt.subplots(2,2, figsize=(16, 8), sharex=True)\n",
    "\n",
    "axs[0,0].plot(df_m1m3_withaberr.iloc[0].zForce101-m1m3_correction.iloc[1].zForces101, \"C0o\", label=\"M1M3 ATAOS - Commanded Applied Forces \\n 1 um of z4 (Focus)\")\n",
    "axs[0,0].plot(df_m1m3_without.iloc[0].zForce101, \"C0*\", label=\"M1M3 Applied Focus\")\n",
    "\n",
    "# axs[0,1].plot(m1m3_correction.iloc[3].dropna()-m1m3_correction_applied.iloc[3].dropna(), \"C0o\", label=\"M1M3 ATAOS - Commanded Applied Forces \\n 1 um of z5 (Astigmatism)\")\n",
    "# #axs[0,1].plot(m1m3_correction_applied.iloc[1].dropna(), \"C0o\", label=\"M1M3 Applied Focus\")\n",
    "\n",
    "# axs[1,0].plot(m1m3_correction.iloc[5].dropna()-m1m3_correction_applied.iloc[5].dropna(), \"C1^-\", label=\"M1M3 ATAOS - Commanded Applied Forces \\n 1 um of z7 (y-coma)\")\n",
    "# #axs[1,0].plot(m1m3_correction_applied.iloc[2].dropna(), \"C0o\", label=\"M1M3 Applied Focus\")\n",
    "\n",
    "# axs[1,1].plot(m1m3_correction.iloc[7].dropna()-m1m3_correction_applied.iloc[7].dropna(), \"C3x-\", label=\"M1M3 ATAOS - Commanded Applied Forces \\n 1 um of z9 (Trefoil)\")\n",
    "# #axs[1,1].plot(m1m3_correction_applied.iloc[3].dropna(), \"C0o\", label=\"M1M3 Applied Focus\")\n",
    "\n",
    "for ax in axs.flat:\n",
    "    ax.grid(\":\", alpha=0.3)\n",
    "    ax.legend()\n",
    "\n",
    "fig.suptitle(f\"{test_execution} - M1M3 AOS corrections - M1M3 Commanded Apply Forces (10e3 N)\")\n",
    "fig.tight_layout(h_pad=0.3)\n",
    "fig.patch.set_facecolor('white')   \n",
    "\n",
    "fig.savefig(f\"plots/{test_execution}_m1m3_forces_vs_aos.png\")\n",
    "plt.show()"
   ]
  },
  {
   "cell_type": "markdown",
   "metadata": {},
   "source": [
    "### M2 forces vs MTAOS corrections"
   ]
  },
  {
   "cell_type": "code",
   "execution_count": null,
   "metadata": {},
   "outputs": [],
   "source": [
    " # M2 B1?\n",
    "df_m2 = await client.select_time_series(\n",
    "        \"lsst.sal.MTM2.axialForce\",\n",
    "        fields=[\n",
    "            \"applied0\",\n",
    "        ],\n",
    "        start=start, \n",
    "        end=end,\n",
    "    )"
   ]
  },
  {
   "cell_type": "code",
   "execution_count": null,
   "metadata": {},
   "outputs": [],
   "source": [
    "m2_correction = await client.select_time_series(\n",
    "    'lsst.sal.MTAOS.logevent_m2Correction', \n",
    "    [f\"zForces{i}\" for i in range(72)], \n",
    "    t_start_aberr, \n",
    "    t_end_aberr\n",
    ")\n",
    "# Change column names to match that of commanded forces, aka axial. \n",
    "m2_correction.columns = m2_correction.columns.str.replace(\"zForces\", \"axial\")"
   ]
  },
  {
   "cell_type": "code",
   "execution_count": null,
   "metadata": {},
   "outputs": [],
   "source": [
    "m2_correction_applied = await client.select_time_series(\n",
    "    'lsst.sal.MTM2.command_applyForces', \n",
    "    [f\"axial{i}\" for i in range(72)], \n",
    "    t_start_aberr, \n",
    "    t_end_aberr)"
   ]
  },
  {
   "cell_type": "code",
   "execution_count": null,
   "metadata": {},
   "outputs": [],
   "source": [
    "fig, axs = plt.subplots(2,2, figsize=(16, 8), sharex=True)\n",
    "\n",
    "axs[0,0].plot(m2_correction.iloc[1]-m2_correction_applied.iloc[1], \"C0*\", label=\"M2 ATAOS - Commanded Applied Forces \\n 1 um of z4 (Focus)\")\n",
    "#axs[0,0].plot(m1m3_correction_applied.iloc[0].dropna(), \"C0o\", label=\"M1M3 Applied Focus\")\n",
    "\n",
    "axs[0,1].plot(m2_correction.iloc[3]-m2_correction_applied.iloc[3], \"C0o\", label=\"M2 ATAOS - Commanded Applied Forces \\n 1 um of z5 (Astigmatism)\")\n",
    "#axs[0,1].plot(m1m3_correction_applied.iloc[1].dropna(), \"C0o\", label=\"M1M3 Applied Focus\")\n",
    "\n",
    "axs[1,0].plot(m2_correction.iloc[5]-m2_correction_applied.iloc[5], \"C1^-\", label=\"M2 ATAOS - Commanded Applied Forces \\n 1 um of z7 (y-coma)\")\n",
    "#axs[1,0].plot(m1m3_correction_applied.iloc[2].dropna(), \"C0o\", label=\"M1M3 Applied Focus\")\n",
    "\n",
    "axs[1,1].plot(m2_correction.iloc[7]-m2_correction_applied.iloc[7], \"C3x-\", label=\"M2 ATAOS - Commanded Applied Forces \\n 1 um of z9 (Trefoil)\")\n",
    "#axs[1,1].plot(m1m3_correction_applied.iloc[3].dropna(), \"C0o\", label=\"M1M3 Applied Focus\")\n",
    "\n",
    "for ax in axs.flat:\n",
    "    ax.grid(\":\", alpha=0.3)\n",
    "    ax.legend()\n",
    "\n",
    "fig.suptitle(f\"{test_execution} - M2 AOS corrections - M2 Commanded Apply Axial0 Force (10e2 N)\")\n",
    "fig.tight_layout(h_pad=0.3)\n",
    "fig.patch.set_facecolor('white')   \n",
    "\n",
    "fig.savefig(f\"plots/{test_execution}_m2_with_aberr.png\")\n",
    "plt.show()"
   ]
  },
  {
   "cell_type": "markdown",
   "metadata": {},
   "source": [
    "### CamHex vs MTAOS corrections"
   ]
  },
  {
   "cell_type": "code",
   "execution_count": null,
   "metadata": {},
   "outputs": [],
   "source": [
    "# Without AO- Get the CamHex position x,y,z,u,v 10 second after the mount reached position, and elevation angle.  \n",
    "\n",
    "line = []\n",
    "interval = 10\n",
    "\n",
    "for k in np.arange(len(slews_without)):\n",
    "    inPos = Time(slews_without.index[k])\n",
    "    print(inPos)\n",
    "    t1 = inPos +  TimeDelta(interval, format='sec')\n",
    "    t2 = t1 +  TimeDelta(1, format='sec')\n",
    "    \n",
    "    df_camhex = await client.select_time_series(\n",
    "        \"lsst.sal.MTHexapod.application\",\n",
    "        [\"position0\", \"position1\", \"position2\", \"position3\", \"position4\", \"position5\"],\n",
    "        t1, \n",
    "        t2,\n",
    "        index=2\n",
    "    )\n",
    "    \n",
    "    df_mount_el = await client.select_time_series(\n",
    "        'lsst.sal.MTMount.elevation', 'actualPosition', \n",
    "        t1, t2)\n",
    "\n",
    "    line.append(\n",
    "        {'time': t1,\n",
    "         'x': df_camhex.position0.mean(),\n",
    "         'y': df_camhex.position1.mean(),\n",
    "         'z': df_camhex.position2.mean(), \n",
    "         'u': df_camhex.position3.mean(),  \n",
    "         'v': df_camhex.position4.mean(),\n",
    "         'w': df_camhex.position5.mean(),\n",
    "         'elevation' : df_mount_el.actualPosition.mean()\n",
    "        }\n",
    "    )\n",
    "    \n",
    "df_camhex_without = pd.DataFrame(line)   "
   ]
  },
  {
   "cell_type": "code",
   "execution_count": null,
   "metadata": {},
   "outputs": [],
   "source": [
    "# With Aberrations- Get the CamHex position x,y,z,u,v 5 seconds after the mount reached position, and elevation angle.  \n",
    "\n",
    "line = []\n",
    "\n",
    "for k in np.arange(len(slews_withaberr)):\n",
    "    inPos = Time(slews_withaberr.index[k])\n",
    "    print(inPos)\n",
    "    t1 = inPos +  TimeDelta(interval, format='sec')\n",
    "    t2 = t1 +  TimeDelta(1, format='sec')\n",
    "    \n",
    "    df_camhex = await client.select_time_series(\n",
    "        \"lsst.sal.MTHexapod.application\",\n",
    "        [\"position0\", \"position1\", \"position2\", \"position3\", \"position4\", \"position5\"],\n",
    "        t1, \n",
    "        t2,\n",
    "        index=2\n",
    "    )\n",
    "    \n",
    "    df_mount_el = await client.select_time_series(\n",
    "        'lsst.sal.MTMount.elevation', 'actualPosition', \n",
    "        t1, t2)\n",
    "\n",
    "    line.append(\n",
    "        {'time': t1,\n",
    "         'x': df_camhex.position0.mean(),\n",
    "         'y': df_camhex.position1.mean(),\n",
    "         'z': df_camhex.position2.mean(), \n",
    "         'u': df_camhex.position3.mean(),  \n",
    "         'v': df_camhex.position4.mean(),\n",
    "         'w': df_camhex.position5.mean(),\n",
    "         'elevation' : df_mount_el.actualPosition.mean()\n",
    "        }\n",
    "    )\n",
    "    \n",
    "df_camhex_withaberr = pd.DataFrame(line)   "
   ]
  },
  {
   "cell_type": "code",
   "execution_count": null,
   "metadata": {
    "tags": []
   },
   "outputs": [],
   "source": [
    "# Get the MTAOS corrections \n",
    "cam_hexapod_correction_applied_xyz = await client.select_time_series(\n",
    "    'lsst.sal.MTHexapod.logevent_uncompensatedPosition', \n",
    "    [\"x\", \"y\", \"z\", \"MTHexapodID\"], \n",
    "    t_start_aberr, \n",
    "    t_end_aberr,\n",
    "    index=1\n",
    ")\n",
    "\n",
    "cam_hexapod_correction_applied_uv = await client.select_time_series(\n",
    "    'lsst.sal.MTHexapod.logevent_uncompensatedPosition', \n",
    "    [\"u\", \"v\", \"MTHexapodID\"], \n",
    "    t_start_aberr, \n",
    "    t_end_aberr,\n",
    "    index=1\n",
    ")"
   ]
  },
  {
   "cell_type": "code",
   "execution_count": null,
   "metadata": {
    "tags": []
   },
   "outputs": [],
   "source": [
    "cam_hexapod_correction_command_xyz = await client.select_time_series(\n",
    "    'lsst.sal.MTHexapod.command_move', \n",
    "    [\"x\", \"y\", \"z\", \"MTHexapodID\"], \n",
    "    t_start_aberr, \n",
    "    t_end_aberr,\n",
    "    index=1\n",
    ")\n",
    "\n",
    "cam_hexapod_correction_command_uv = await client.select_time_series(\n",
    "    'lsst.sal.MTHexapod.command_move', \n",
    "    [\"u\", \"v\", \"MTHexapodID\"], \n",
    "    t_start_aberr, \n",
    "    t_end_aberr,\n",
    "    index=1\n",
    ")"
   ]
  },
  {
   "cell_type": "code",
   "execution_count": null,
   "metadata": {},
   "outputs": [],
   "source": [
    "# Print camhex position differences vs MTAOS corrections for each type of aberration\n",
    "print(\"1 um of z4 (Focus)\")\n",
    "print(f\"x_diff    \\t y_diff    \\t z_diff    \\t Time \\n\"\n",
    "      f\"{df_camhex_withaberr.iloc[0].x-df_camhex_without.iloc[0].x:0.5f} \\t {df_camhex_withaberr.iloc[0].y-df_camhex_without.iloc[0].y:0.5f} \\t\"\n",
    "      f\" {df_camhex_withaberr.iloc[0].z-df_camhex_without.iloc[0].z:0.5f} \\t {df_camhex_withaberr.iloc[0].time} \\n\"\n",
    "      f\"x_corr    \\t y_corr    \\t z_corr    \\t Time  ---- MTAOS correction \\n\"\n",
    "      f\"{cam_hexapod_correction_applied_xyz.iloc[0].x:0.5f} \\t {cam_hexapod_correction_applied_xyz.iloc[0].y:0.5f} \\t {cam_hexapod_correction_applied_xyz.iloc[0].z:0.5f} \\t\"\n",
    "      f\"{cam_hexapod_correction_applied_xyz.index[0]} \\n\")\n",
    "\n",
    "print(\"1 um of z5 (Astigmatism)\")\n",
    "print(f\"x_diff    \\t y_diff    \\t z_diff    \\t Time  \\n\"\n",
    "      f\"{df_camhex_withaberr.iloc[1].x-df_camhex_without.iloc[1].x:0.5f} \\t {df_camhex_withaberr.iloc[1].y-df_camhex_without.iloc[1].y:0.5f} \\t\"\n",
    "      f\" {df_camhex_withaberr.iloc[1].z-df_camhex_without.iloc[1].z:0.5f} \\t {df_camhex_withaberr.iloc[1].time} \\n\"\n",
    "      f\"x_corr    \\t y_corr    \\t z_corr    \\t Time  ---- MTAOS correction \\n\"\n",
    "      f\"{cam_hexapod_correction_applied_xyz.iloc[2].x:0.5f} \\t {cam_hexapod_correction_applied_xyz.iloc[2].y:0.5f} \\t {cam_hexapod_correction_applied_xyz.iloc[2].z:0.5f} \\t\"\n",
    "      f\"{cam_hexapod_correction_applied_xyz.index[2]} \\n\")\n",
    "\n",
    "print(\"1 um of z7 (y-Coma)\")\n",
    "print(f\"x_diff    \\t y_diff    \\t z_diff    \\t Time  \\n\"\n",
    "      f\"{df_camhex_withaberr.iloc[2].x-df_camhex_without.iloc[2].x:0.5f} \\t {df_camhex_withaberr.iloc[2].y-df_camhex_without.iloc[2].y:0.5f} \\t\"\n",
    "      f\" {df_camhex_withaberr.iloc[2].z-df_camhex_without.iloc[2].z:0.5f} \\t {df_camhex_withaberr.iloc[2].time} \\n\"\n",
    "      f\"x_corr    \\t y_corr    \\t z_corr    \\t Time  ---- MTAOS correction \\n\"\n",
    "      f\"{cam_hexapod_correction_applied_xyz.iloc[4].x:0.5f} \\t {cam_hexapod_correction_applied_xyz.iloc[4].y:0.5f} \\t {cam_hexapod_correction_applied_xyz.iloc[4].z:0.5f} \\t\"\n",
    "      f\"{cam_hexapod_correction_applied_xyz.index[4]} \\n\")\n",
    "\n",
    "print(\"1 um of z9 (Trefoil)\")\n",
    "print(f\"x_diff    \\t y_diff    \\t z_diff    \\t Time \\n\"\n",
    "      f\"{df_camhex_withaberr.iloc[3].x-df_camhex_without.iloc[3].x:0.5f} \\t {df_camhex_withaberr.iloc[3].y-df_camhex_without.iloc[3].y:0.5f} \\t\"\n",
    "      f\" {df_camhex_withaberr.iloc[3].z-df_camhex_without.iloc[3].z:0.5f} \\t {df_camhex_withaberr.iloc[3].time} \\n\"\n",
    "      f\"x_corr    \\t y_corr    \\t z_corr    \\t Time  ---- MTAOS correction \\n\"\n",
    "      f\"{cam_hexapod_correction_applied_xyz.iloc[6].x:0.5f} \\t {cam_hexapod_correction_applied_xyz.iloc[6].y:0.5f} \\t {cam_hexapod_correction_applied_xyz.iloc[6].z:0.5f} \\t\"\n",
    "      f\"{cam_hexapod_correction_applied_xyz.index[6]} \\n\")"
   ]
  },
  {
   "cell_type": "code",
   "execution_count": null,
   "metadata": {},
   "outputs": [],
   "source": [
    "# It's difficult to compare because MTAOS and lsst.sal.MTHexapod.logevent_uncompensatedPosition are published once a second\n",
    "cam_hexapod_correction_command_xyz\n",
    "cam_hexapod_correction_applied_xyz"
   ]
  },
  {
   "cell_type": "markdown",
   "metadata": {},
   "source": [
    "### M2Hex vs MTAOS corrections"
   ]
  },
  {
   "cell_type": "code",
   "execution_count": null,
   "metadata": {
    "tags": []
   },
   "outputs": [],
   "source": [
    "m2_hexapod_correction_computed_xyz = await client.select_time_series(\n",
    "    'lsst.sal.MTAOS.logevent_m2HexapodCorrection', \n",
    "    [\"x\", \"y\", \"z\"], \n",
    "    start.utc, \n",
    "    end.utc\n",
    ")\n",
    "\n",
    "m2_hexapod_correction_computed_uv = await client.select_time_series(\n",
    "    'lsst.sal.MTAOS.logevent_m2HexapodCorrection', \n",
    "    [\"u\", \"v\"], \n",
    "    start.utc, \n",
    "    end.utc\n",
    ")"
   ]
  },
  {
   "cell_type": "code",
   "execution_count": null,
   "metadata": {
    "tags": []
   },
   "outputs": [],
   "source": [
    "m2_hexapod_correction_applied_xyz = await client.select_time_series(\n",
    "    'lsst.sal.MTHexapod.logevent_uncompensatedPosition', \n",
    "    [\"x\", \"y\", \"z\", \"MTHexapodID\"], \n",
    "    start.utc, \n",
    "    end.utc,\n",
    "    index=2\n",
    ")\n",
    "\n",
    "m2_hexapod_correction_applied_uv = await client.select_time_series(\n",
    "    'lsst.sal.MTHexapod.logevent_uncompensatedPosition', \n",
    "    [\"u\", \"v\", \"MTHexapodID\"], \n",
    "    start.utc, \n",
    "    end.utc,\n",
    "    index=2\n",
    ")"
   ]
  },
  {
   "cell_type": "code",
   "execution_count": null,
   "metadata": {
    "tags": []
   },
   "outputs": [],
   "source": [
    "m2_hexapod_correction_command_xyz = await client.select_time_series(\n",
    "    'lsst.sal.MTHexapod.command_move', \n",
    "    [\"x\", \"y\", \"z\", \"MTHexapodID\"], \n",
    "    start.utc, \n",
    "    end.utc,\n",
    "    index=2\n",
    ")\n",
    "\n",
    "m2_hexapod_correction_command_uv = await client.select_time_series(\n",
    "    'lsst.sal.MTHexapod.command_move', \n",
    "    [\"u\", \"v\", \"MTHexapodID\"], \n",
    "    start.utc, \n",
    "    end.utc,\n",
    "    index=2\n",
    ")"
   ]
  },
  {
   "cell_type": "markdown",
   "metadata": {
    "tags": []
   },
   "source": [
    "## Wrap up\n",
    "lower m1m3,\n",
    "put hardware to OFFLINE\n",
    "put all simulators to STANDBY\n",
    "done."
   ]
  },
  {
   "cell_type": "code",
   "execution_count": null,
   "metadata": {},
   "outputs": [],
   "source": [
    "# Put the telescope back to the original position\n",
    "# Specially if running at TTS\n",
    "await mtcs.point_azel(az=0, el=80)"
   ]
  },
  {
   "cell_type": "code",
   "execution_count": null,
   "metadata": {},
   "outputs": [],
   "source": [
    "await mtcs.lower_m1m3()"
   ]
  },
  {
   "cell_type": "code",
   "execution_count": null,
   "metadata": {},
   "outputs": [],
   "source": [
    "await mtcs.set_state(state=salobj.State.STANDBY, components=[\"mtm1m3\"])"
   ]
  },
  {
   "cell_type": "code",
   "execution_count": null,
   "metadata": {},
   "outputs": [],
   "source": [
    "await mtcs.set_state(state=salobj.State.STANDBY, components=[\"mtaos\"])"
   ]
  },
  {
   "cell_type": "code",
   "execution_count": null,
   "metadata": {},
   "outputs": [],
   "source": [
    "await mtcs.set_state(state=salobj.State.STANDBY, components=[\"mtm2\"])"
   ]
  },
  {
   "cell_type": "code",
   "execution_count": null,
   "metadata": {},
   "outputs": [],
   "source": [
    "await mtcs.set_state(state=salobj.State.STANDBY, components=[\"mthexapod_1\"])"
   ]
  },
  {
   "cell_type": "code",
   "execution_count": null,
   "metadata": {},
   "outputs": [],
   "source": [
    "await mtcs.set_state(state=salobj.State.STANDBY, components=[\"mthexapod_2\"])"
   ]
  },
  {
   "cell_type": "code",
   "execution_count": null,
   "metadata": {},
   "outputs": [],
   "source": [
    "if exec_info.loc == \"summit\":\n",
    "    await mtcs.standby()\n",
    "\n",
    "else:\n",
    "    # Bring the system back to the original state\n",
    "    await mtcs.set_state(\n",
    "        state=salobj.State.ENABLED,\n",
    "        components=[\n",
    "            \"mtm1m3\", \n",
    "            \"mtm2\",\n",
    "            \"mthexapod_1\",\n",
    "            \"mthexapod_2\",\n",
    "            \"mtaos\",\n",
    "        ],\n",
    "        overrides={\n",
    "            \"mtm1m3\": \"Default\"\n",
    "        }\n",
    "    )"
   ]
  },
  {
   "cell_type": "code",
   "execution_count": null,
   "metadata": {},
   "outputs": [],
   "source": []
  }
 ],
 "metadata": {
  "kernelspec": {
   "display_name": "LSST",
   "language": "python",
   "name": "lsst"
  },
  "language_info": {
   "codemirror_mode": {
    "name": "ipython",
    "version": 3
   },
   "file_extension": ".py",
   "mimetype": "text/x-python",
   "name": "python",
   "nbconvert_exporter": "python",
   "pygments_lexer": "ipython3",
   "version": "3.10.4"
  },
  "toc-showmarkdowntxt": false
 },
 "nbformat": 4,
 "nbformat_minor": 4
}
