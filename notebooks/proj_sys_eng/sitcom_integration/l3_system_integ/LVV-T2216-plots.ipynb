{
 "cells": [
  {
   "cell_type": "markdown",
   "id": "dd54f85e-a3c9-4eb5-b37f-533d27ececa3",
   "metadata": {},
   "source": [
    "# [LVV-T2216] Integrated Slew and Tracking Test - Data Analysis\n",
    "\n",
    "This notebook is used to analyse the data colleted when running the [LVV-T2216 (1.0)] test case during System Spread Integration Tests on Level 3.  \n",
    "   \n",
    "**Requirements:**\n",
    " - You should have run this test case and record the time stamps on each step.\n",
    " \n",
    "Upon completion, save the notebook and its output as a pdf file to be attached to the test execution in JIRA. \n",
    "\n",
    "**Make sure you run this notebook on TTS before running at the summit.**\n",
    "\n",
    "Please, see the [README] file for the requirements to run this notebook.\n",
    "\n",
    "[LVV-T2216]: https://jira.lsstcorp.org/secure/Tests.jspa#/testCase/LVV-T2216\n",
    "[README]: https://github.com/lsst-sitcom/notebooks_vandv/blob/develop/README.md"
   ]
  },
  {
   "cell_type": "code",
   "execution_count": null,
   "id": "8362b636-22d3-409b-9bd0-ddab4294ec82",
   "metadata": {},
   "outputs": [],
   "source": [
    "test_case = \"LVV-T2216\"\n",
    "test_exec = \"LVV-EXXXX\""
   ]
  },
  {
   "cell_type": "code",
   "execution_count": null,
   "id": "8caef44f-e7da-4abd-8160-a5776f67b883",
   "metadata": {},
   "outputs": [],
   "source": [
    "%load_ext autoreload\n",
    "%autoreload 2\n",
    "import numpy as np\n",
    "\n",
    "from astropy.time import Time\n",
    "from matplotlib import pyplot as plt\n",
    "\n",
    "from lsst.sitcom import vandv"
   ]
  },
  {
   "cell_type": "code",
   "execution_count": null,
   "id": "2df2cfb2-4fe4-4ce2-a963-359401eed120",
   "metadata": {},
   "outputs": [],
   "source": [
    "client = vandv.efd.create_efd_client()\n",
    "\n",
    "exec_info = vandv.ExecutionInfo()\n",
    "print(exec_info)"
   ]
  },
  {
   "cell_type": "markdown",
   "id": "e5c69a6f-915f-4963-87de-9e5a6b5ca8ff",
   "metadata": {},
   "source": [
    "## Slewing without LUT corrections\n",
    "\n"
   ]
  },
  {
   "cell_type": "code",
   "execution_count": null,
   "id": "92121b54-0e97-41fe-92b0-bbef54d51f09",
   "metadata": {},
   "outputs": [],
   "source": [
    "# t_start = \"2022-07-20 19:18:09.246021\"\"\n",
    "# t_end = \"2022-07-20 19:22:07.383914\""
   ]
  },
  {
   "cell_type": "code",
   "execution_count": null,
   "id": "dd29520d-e70b-4adb-b54b-dca7a7059947",
   "metadata": {},
   "outputs": [],
   "source": [
    "df = await vandv.efd.query_script_message_contains(\n",
    "    client=client, \n",
    "    contains=[test_case, test_exec, \"START\", \"Slewing without LUT\"],\n",
    "    upper_t=Time.now(),\n",
    "    lower_t=Time(\"2022-06-01 17:33\", scale=\"utc\", format=\"iso\"),\n",
    "    num=1)\n",
    "\n",
    "t_start = vandv.efd.time_pd_to_astropy(df.index[0].floor(\"1s\"))\n",
    "print(t_start, df.iloc[0][\"message\"])"
   ]
  },
  {
   "cell_type": "code",
   "execution_count": null,
   "id": "3c46fc5b-f750-43a4-8b0c-633f04173853",
   "metadata": {
    "tags": []
   },
   "outputs": [],
   "source": [
    "df = await vandv.efd.query_script_message_contains(\n",
    "    client=client, \n",
    "    contains=[test_case, test_exec, \"END\", \"Slewing without LUT\"],\n",
    "    upper_t=Time.now(),\n",
    "    lower_t=Time(\"2022-06-01 17:33\", scale=\"utc\", format=\"iso\"),\n",
    "    num=1)\n",
    "\n",
    "t_end = vandv.efd.time_pd_to_astropy(df.index[0].ceil(\"1s\"))\n",
    "print(t_end, df.iloc[0][\"message\"])"
   ]
  },
  {
   "cell_type": "code",
   "execution_count": null,
   "id": "c21f65ea-da47-4612-9846-aa9da06e7479",
   "metadata": {
    "tags": []
   },
   "outputs": [],
   "source": [
    "print(f\"Starting data analysis between\\n  {t_start}\\n    and\\n  {t_end}\")"
   ]
  },
  {
   "cell_type": "markdown",
   "id": "2cd8a712-02ce-4427-aad8-0a8c428e8100",
   "metadata": {},
   "source": [
    "### Analyse M1M3 Data"
   ]
  },
  {
   "cell_type": "code",
   "execution_count": null,
   "id": "eaaa7d8c-5c07-45f3-be20-5d0eb4482a81",
   "metadata": {},
   "outputs": [],
   "source": [
    "fad = await client.select_time_series(\n",
    "    \"lsst.sal.MTM1M3.forceActuatorData\", \n",
    "    \"*\", \n",
    "    t_start,\n",
    "    t_end)\n",
    "\n",
    "el = await client.select_time_series(\n",
    "    \"lsst.sal.MTMount.elevation\",\n",
    "    \"*\", \n",
    "    t_start,\n",
    "    t_end)\n",
    "\n",
    "fig, axs = plt.subplot_mosaic(\n",
    "    mosaic=\"A\",\n",
    "    num=\"Slew Without Correction\", \n",
    "    constrained_layout=True,\n",
    "    dpi=120,\n",
    "    figsize=(12, 4),\n",
    ")\n",
    "\n",
    "vandv.m1m3.timeline_zforces(axs[\"A\"], fad, \"zForce\", elevation=el)"
   ]
  },
  {
   "cell_type": "code",
   "execution_count": null,
   "id": "bcc01609-dc8c-48db-bcd9-f4ec15f81949",
   "metadata": {},
   "outputs": [],
   "source": [
    "fel = await client.select_time_series(\n",
    "    \"lsst.sal.MTM1M3.logevent_appliedElevationForces\", \n",
    "    \"*\", \n",
    "    t_start,\n",
    "    t_end)\n",
    "\n",
    "fba = await client.select_time_series(\n",
    "    \"lsst.sal.MTM1M3.logevent_appliedBalanceForces\", \n",
    "    \"*\",\n",
    "    t_start,\n",
    "    t_end)\n",
    "\n",
    "fst = await client.select_time_series(\n",
    "    \"lsst.sal.MTM1M3.logevent_appliedStaticForces\",\n",
    "    \"*\",\n",
    "    t_start,\n",
    "    t_end)\n",
    "\n",
    "fao = await client.select_time_series(\n",
    "    \"lsst.sal.MTM1M3.logevent_appliedActiveOpticForces\",\n",
    "    \"*\", \n",
    "    t_start,\n",
    "    t_end)\n",
    "\n",
    "series = [df.iloc[-1] for df in [fel, fba, fst, fad]]\n",
    "labels = [\n",
    "    \"appliedElevationForces\", \n",
    "    \"appliedBalanceForces\", \n",
    "    \"appliedStaticForces\",\n",
    "    \"forceActuatorData\",\n",
    "]\n",
    "\n",
    "fig, axs = plt.subplot_mosaic(\n",
    "    mosaic=\"AB\\nAB\\nCC\\nCC\",\n",
    "    num=\"Slew Without Correction - Snapshot Forces\", \n",
    "    constrained_layout=True,\n",
    "    dpi=120,\n",
    "    figsize=(9, 5),\n",
    ")\n",
    "\n",
    "vandv.m1m3.snapshot_xforces(axs[\"A\"], series, labels=labels)\n",
    "vandv.m1m3.snapshot_yforces(axs[\"B\"], series, labels=labels)\n",
    "vandv.m1m3.snapshot_zforces(axs[\"C\"], series)"
   ]
  },
  {
   "cell_type": "code",
   "execution_count": null,
   "id": "076822e7-5a31-4696-8d55-7d9787e341a5",
   "metadata": {},
   "outputs": [],
   "source": [
    "fig, axs = plt.subplot_mosaic(\n",
    "    mosaic=\"AB\\nCD\",\n",
    "    num=\"Slew Without Correction - Snapshot zForces Overview\", \n",
    "    constrained_layout=False,\n",
    "    dpi=120,\n",
    "    figsize=(10, 10),\n",
    ")\n",
    "\n",
    "vandv.m1m3.snapshot_zforces_overview(axs[\"A\"], fad.iloc[-1], title=\"forceActuatorData\")\n",
    "vandv.m1m3.snapshot_zforces_overview(axs[\"B\"], fel.iloc[-1], title=\"appliedElevationForces\")\n",
    "vandv.m1m3.snapshot_zforces_overview(axs[\"C\"], fba.iloc[-1], title=\"appliedBalanceForces\")\n",
    "vandv.m1m3.snapshot_zforces_overview(axs[\"D\"], fao.iloc[-1], title=\"appliedActiveOpticForces\")"
   ]
  },
  {
   "cell_type": "markdown",
   "id": "a5ce8872-0463-4a56-9dfd-aac8e026ab6b",
   "metadata": {},
   "source": [
    "### Analyse M2"
   ]
  },
  {
   "cell_type": "code",
   "execution_count": null,
   "id": "17a4a830-78c6-42b1-a4c8-acd2f105f4ec",
   "metadata": {},
   "outputs": [],
   "source": [
    "axf = await client.select_time_series(\n",
    "    \"lsst.sal.MTM2.axialForce\", \n",
    "    \"*\",\n",
    "    t_start,\n",
    "    t_end)\n",
    "\n",
    "taf = await client.select_time_series(\n",
    "    \"lsst.sal.MTM2.tangentForce\", \n",
    "    \"*\",\n",
    "    t_start,\n",
    "    t_end)\n",
    "\n",
    "cof = await client.select_time_series(\n",
    "    \"lsst.sal.MTM2.command_applyForces\",\n",
    "    \"*\", \n",
    "    t_start,\n",
    "    t_end)"
   ]
  },
  {
   "cell_type": "code",
   "execution_count": null,
   "id": "9e7c1858-aaa9-4eb1-8598-4e97c5ab118d",
   "metadata": {},
   "outputs": [],
   "source": [
    "fig, axs = plt.subplot_mosaic(\n",
    "    mosaic=\"A\\nB\\nC\",\n",
    "    num=\"Slew Without Correction - M2\", \n",
    "    constrained_layout=True,\n",
    "    dpi=120,\n",
    "    figsize=(12, 8),\n",
    ")\n",
    "\n",
    "_ = vandv.m2.timeline_axial_forces(axs[\"A\"], axf, elevation=el)\n",
    "_ = vandv.m2.timeline_axial_forces(axs[\"B\"], axf, elevation=el, column=\"applied\")\n",
    "_ = vandv.m2.timeline_axial_forces(axs[\"C\"], axf, elevation=el, column=\"lutGravity\")"
   ]
  },
  {
   "cell_type": "code",
   "execution_count": null,
   "id": "29a7984c-eda1-4016-8566-5e7451b87c96",
   "metadata": {},
   "outputs": [],
   "source": [
    "fig, axs = plt.subplot_mosaic(\n",
    "    mosaic=\"A\\nB\\nC\\nD\",\n",
    "    num=\"Slew Without Correction - M2\", \n",
    "    constrained_layout=True,\n",
    "    dpi=120,\n",
    "    figsize=(12, 8),\n",
    ")\n",
    "\n",
    "cols = [\n",
    "    # \"applied\", \n",
    "    # \"hardpointCorrection\", \n",
    "    \"lutGravity\", \n",
    "    # \"lutTemperature\", \n",
    "    \"measured\"\n",
    "]\n",
    "\n",
    "_ = vandv.m2.timeline_axial_forces_per_act(axs[\"A\"], axf, elevation=el, act=\"B1\", cols=cols)\n",
    "_ = vandv.m2.timeline_axial_forces_per_act(axs[\"B\"], axf, elevation=el, act=\"B8\", cols=cols)\n",
    "_ = vandv.m2.timeline_axial_forces_per_act(axs[\"C\"], axf, elevation=el, act=\"B16\", cols=cols)\n",
    "_ = vandv.m2.timeline_axial_forces_per_act(axs[\"D\"], axf, elevation=el, act=\"B24\", cols=cols)"
   ]
  },
  {
   "cell_type": "code",
   "execution_count": null,
   "id": "29f4b7e1-63ef-458f-9ffb-06737f672892",
   "metadata": {},
   "outputs": [],
   "source": [
    "fig, axs = plt.subplot_mosaic(\n",
    "    mosaic=\"ABC\",\n",
    "    num=\"Slew Without Correction - M2 All Actuators\", \n",
    "    constrained_layout=False,\n",
    "    dpi=120,\n",
    "    figsize=(12, 6),\n",
    ")\n",
    "\n",
    "_ = vandv.m2.snapshot_zforces_overview(axs[\"A\"], axf.iloc[-1], ms=150, fs=6)\n",
    "_ = vandv.m2.snapshot_zforces_overview(axs[\"B\"], axf.iloc[-1], prefix=\"lutGravity\", ms=150, fs=6)\n",
    "_ = vandv.m2.snapshot_zforces_overview(axs[\"C\"], axf.iloc[-1], prefix=\"applied\", ms=150, fs=6)"
   ]
  },
  {
   "cell_type": "markdown",
   "id": "1c3b8bcc-c0da-4bce-9aec-ad84f602c7ad",
   "metadata": {},
   "source": [
    "## Slewing with LUT corrections"
   ]
  },
  {
   "cell_type": "code",
   "execution_count": null,
   "id": "204b7802-7d4c-44b5-8565-e56af409864b",
   "metadata": {},
   "outputs": [],
   "source": [
    "t_start = \"2022-07-20 19:28:29.149291\"\n",
    "t_end = \"2022-07-20 19:32:28.344625\""
   ]
  },
  {
   "cell_type": "code",
   "execution_count": null,
   "id": "7ad15066-ebb9-432e-9c4d-1ee0007baa58",
   "metadata": {},
   "outputs": [],
   "source": [
    "df = await vandv.efd.query_script_message_contains(\n",
    "    client=client, \n",
    "    contains=[test_case, test_exec, \"START\", \"Slewing with LUT\"],\n",
    "    upper_t=Time.now(),\n",
    "    lower_t=Time(\"2022-06-01 17:33\", scale=\"utc\", format=\"iso\"),\n",
    "    num=1)\n",
    "\n",
    "t_start = vandv.efd.time_pd_to_astropy(df.index[0].floor(\"1s\"))\n",
    "print(t_start, df.iloc[0][\"message\"])"
   ]
  },
  {
   "cell_type": "code",
   "execution_count": null,
   "id": "59c43ba0-5a95-43ba-a896-dca5e636b19b",
   "metadata": {
    "tags": []
   },
   "outputs": [],
   "source": [
    "df = await vandv.efd.query_script_message_contains(\n",
    "    client=client, \n",
    "    contains=[test_case, test_exec, \"END\", \"Slewing with LUT\"],\n",
    "    upper_t=Time.now(),\n",
    "    lower_t=Time(\"2022-06-01 17:33\", scale=\"utc\", format=\"iso\"),\n",
    "    num=1)\n",
    "\n",
    "t_end = vandv.efd.time_pd_to_astropy(df.index[0].ceil(\"1s\"))\n",
    "print(t_end, df.iloc[0][\"message\"])"
   ]
  },
  {
   "cell_type": "code",
   "execution_count": null,
   "id": "1ed35d74-a664-4f5d-8474-64fce26a87b8",
   "metadata": {
    "tags": []
   },
   "outputs": [],
   "source": [
    "print(f\"Starting data analysis between\\n  {t_start}\\n    and\\n  {t_end}\")"
   ]
  },
  {
   "cell_type": "markdown",
   "id": "c4d2b6cc-598d-4973-b17c-d63b4a3d9469",
   "metadata": {},
   "source": [
    "### Analyse M1M3 Data"
   ]
  },
  {
   "cell_type": "code",
   "execution_count": null,
   "id": "bac07a59-4496-40eb-8c32-1f2ca0ce6289",
   "metadata": {},
   "outputs": [],
   "source": [
    "fad = await client.select_time_series(\n",
    "    \"lsst.sal.MTM1M3.forceActuatorData\", \n",
    "    \"*\", \n",
    "    t_start,\n",
    "    t_end)\n",
    "\n",
    "el = await client.select_time_series(\n",
    "    \"lsst.sal.MTMount.elevation\",\n",
    "    \"*\", \n",
    "    t_start,\n",
    "    t_end)\n",
    "\n",
    "fig, axs = plt.subplot_mosaic(\n",
    "    mosaic=\"A\",\n",
    "    num=\"Slew Without Correction\", \n",
    "    constrained_layout=True,\n",
    "    dpi=120,\n",
    "    figsize=(12, 4),\n",
    ")\n",
    "\n",
    "vandv.m1m3.timeline_zforces(axs[\"A\"], fad, \"zForce\", elevation=el)"
   ]
  },
  {
   "cell_type": "code",
   "execution_count": null,
   "id": "d1322831-a0b1-48c4-a679-ad8ae2d168ec",
   "metadata": {},
   "outputs": [],
   "source": [
    "fel = await client.select_time_series(\n",
    "    \"lsst.sal.MTM1M3.logevent_appliedElevationForces\", \n",
    "    \"*\", \n",
    "    t_start,\n",
    "    t_end)\n",
    "\n",
    "fba = await client.select_time_series(\n",
    "    \"lsst.sal.MTM1M3.logevent_appliedBalanceForces\", \n",
    "    \"*\",\n",
    "    t_start,\n",
    "    t_end)\n",
    "\n",
    "fst = await client.select_time_series(\n",
    "    \"lsst.sal.MTM1M3.logevent_appliedStaticForces\",\n",
    "    \"*\",\n",
    "    t_start,\n",
    "    t_end)\n",
    "\n",
    "fao = await client.select_time_series(\n",
    "    \"lsst.sal.MTM1M3.logevent_appliedActiveOpticForces\",\n",
    "    \"*\", \n",
    "    t_start,\n",
    "    t_end)\n",
    "\n",
    "series = [df.iloc[-1] for df in [fel, fba, fst, fad]]\n",
    "labels = [\n",
    "    \"appliedElevationForces\", \n",
    "    \"appliedBalanceForces\", \n",
    "    \"appliedStaticForces\",\n",
    "    \"forceActuatorData\",\n",
    "]\n",
    "\n",
    "fig, axs = plt.subplot_mosaic(\n",
    "    mosaic=\"AB\\nAB\\nCC\\nCC\",\n",
    "    num=\"Slew Without Correction - Snapshot Forces\", \n",
    "    constrained_layout=True,\n",
    "    dpi=120,\n",
    "    figsize=(9, 5),\n",
    ")\n",
    "\n",
    "vandv.m1m3.snapshot_xforces(axs[\"A\"], series, labels=labels)\n",
    "vandv.m1m3.snapshot_yforces(axs[\"B\"], series, labels=labels)\n",
    "vandv.m1m3.snapshot_zforces(axs[\"C\"], series)"
   ]
  },
  {
   "cell_type": "code",
   "execution_count": null,
   "id": "99a74cc1-9eac-4cd6-a608-37ca1b19b7d1",
   "metadata": {},
   "outputs": [],
   "source": [
    "fig, axs = plt.subplot_mosaic(\n",
    "    mosaic=\"AB\\nCD\",\n",
    "    num=\"Slew Without Correction - Snapshot zForces Overview\", \n",
    "    constrained_layout=False,\n",
    "    dpi=120,\n",
    "    figsize=(10, 10),\n",
    ")\n",
    "\n",
    "vandv.m1m3.snapshot_zforces_overview(axs[\"A\"], fad.iloc[-1], title=\"forceActuatorData\")\n",
    "vandv.m1m3.snapshot_zforces_overview(axs[\"B\"], fel.iloc[-1], title=\"appliedElevationForces\")\n",
    "vandv.m1m3.snapshot_zforces_overview(axs[\"C\"], fba.iloc[-1], title=\"appliedBalanceForces\")\n",
    "vandv.m1m3.snapshot_zforces_overview(axs[\"D\"], fao.iloc[-1], title=\"appliedActiveOpticForces\")"
   ]
  },
  {
   "cell_type": "markdown",
   "id": "7b66db04-8730-4841-b378-5149f1446826",
   "metadata": {},
   "source": [
    "### Analyse M2"
   ]
  },
  {
   "cell_type": "code",
   "execution_count": null,
   "id": "8e99ccdb-62e5-46d1-8744-8dd382e748a1",
   "metadata": {},
   "outputs": [],
   "source": [
    "axf = await client.select_time_series(\n",
    "    \"lsst.sal.MTM2.axialForce\", \n",
    "    \"*\",\n",
    "    t_start,\n",
    "    t_end)\n",
    "\n",
    "taf = await client.select_time_series(\n",
    "    \"lsst.sal.MTM2.tangentForce\", \n",
    "    \"*\",\n",
    "    t_start,\n",
    "    t_end)\n",
    "\n",
    "cof = await client.select_time_series(\n",
    "    \"lsst.sal.MTM2.command_applyForces\",\n",
    "    \"*\", \n",
    "    t_start,\n",
    "    t_end)"
   ]
  },
  {
   "cell_type": "code",
   "execution_count": null,
   "id": "ffc6f634-bf5a-4f77-9ce9-dc1bb0ec34a0",
   "metadata": {},
   "outputs": [],
   "source": [
    "fig, axs = plt.subplot_mosaic(\n",
    "    mosaic=\"A\\nB\\nC\",\n",
    "    num=\"Slew Without Correction - M2\", \n",
    "    constrained_layout=True,\n",
    "    dpi=120,\n",
    "    figsize=(12, 8),\n",
    ")\n",
    "\n",
    "_ = vandv.m2.timeline_axial_forces(axs[\"A\"], axf, elevation=el)\n",
    "_ = vandv.m2.timeline_axial_forces(axs[\"B\"], axf, elevation=el, column=\"applied\")\n",
    "_ = vandv.m2.timeline_axial_forces(axs[\"C\"], axf, elevation=el, column=\"lutGravity\")"
   ]
  },
  {
   "cell_type": "code",
   "execution_count": null,
   "id": "5f7cfc71-a6dc-4789-bc49-85b94c54aa5b",
   "metadata": {},
   "outputs": [],
   "source": [
    "fig, axs = plt.subplot_mosaic(\n",
    "    mosaic=\"A\\nB\\nC\\nD\",\n",
    "    num=\"Slew Without Correction - M2\", \n",
    "    constrained_layout=True,\n",
    "    dpi=120,\n",
    "    figsize=(12, 8),\n",
    ")\n",
    "\n",
    "cols = [\n",
    "    # \"applied\", \n",
    "    # \"hardpointCorrection\", \n",
    "    \"lutGravity\", \n",
    "    # \"lutTemperature\", \n",
    "    \"measured\"\n",
    "]\n",
    "\n",
    "_ = vandv.m2.timeline_axial_forces_per_act(axs[\"A\"], axf, elevation=el, act=\"B1\", cols=cols)\n",
    "_ = vandv.m2.timeline_axial_forces_per_act(axs[\"B\"], axf, elevation=el, act=\"B8\", cols=cols)\n",
    "_ = vandv.m2.timeline_axial_forces_per_act(axs[\"C\"], axf, elevation=el, act=\"B16\", cols=cols)\n",
    "_ = vandv.m2.timeline_axial_forces_per_act(axs[\"D\"], axf, elevation=el, act=\"B24\", cols=cols)"
   ]
  },
  {
   "cell_type": "code",
   "execution_count": null,
   "id": "b4ba75ac-6ce0-4338-a5f4-2ebb3fb027cc",
   "metadata": {},
   "outputs": [],
   "source": [
    "fig, axs = plt.subplot_mosaic(\n",
    "    mosaic=\"ABC\",\n",
    "    num=\"Slew Without Correction - M2 All Actuators\", \n",
    "    constrained_layout=False,\n",
    "    dpi=120,\n",
    "    figsize=(12, 6),\n",
    ")\n",
    "\n",
    "_ = vandv.m2.snapshot_zforces_overview(axs[\"A\"], axf.iloc[-1], ms=150, fs=6)\n",
    "_ = vandv.m2.snapshot_zforces_overview(axs[\"B\"], axf.iloc[-1], prefix=\"lutGravity\", ms=150, fs=6)\n",
    "_ = vandv.m2.snapshot_zforces_overview(axs[\"C\"], axf.iloc[-1], prefix=\"applied\", ms=150, fs=6)"
   ]
  },
  {
   "cell_type": "code",
   "execution_count": null,
   "id": "affae931-e393-42e7-a42b-6841d04361aa",
   "metadata": {},
   "outputs": [],
   "source": []
  }
 ],
 "metadata": {
  "kernelspec": {
   "display_name": "LSST",
   "language": "python",
   "name": "lsst"
  },
  "language_info": {
   "codemirror_mode": {
    "name": "ipython",
    "version": 3
   },
   "file_extension": ".py",
   "mimetype": "text/x-python",
   "name": "python",
   "nbconvert_exporter": "python",
   "pygments_lexer": "ipython3",
   "version": "3.10.4"
  }
 },
 "nbformat": 4,
 "nbformat_minor": 5
}
