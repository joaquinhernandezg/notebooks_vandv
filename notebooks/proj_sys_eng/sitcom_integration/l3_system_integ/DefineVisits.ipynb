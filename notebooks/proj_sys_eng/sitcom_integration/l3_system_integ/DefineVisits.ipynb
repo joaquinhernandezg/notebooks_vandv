{
 "cells": [
  {
   "cell_type": "code",
   "execution_count": 1,
   "id": "08292019-fda7-4199-a320-80193d18e034",
   "metadata": {
    "execution": {
     "iopub.execute_input": "2022-03-08T16:19:47.484044Z",
     "iopub.status.busy": "2022-03-08T16:19:47.483750Z",
     "iopub.status.idle": "2022-03-08T16:19:49.012565Z",
     "shell.execute_reply": "2022-03-08T16:19:49.012114Z",
     "shell.execute_reply.started": "2022-03-08T16:19:47.484001Z"
    }
   },
   "outputs": [],
   "source": [
    "from lsst.daf.butler import Butler\n",
    "from lsst.obs.base import DefineVisitsTask, Instrument\n"
   ]
  },
  {
   "cell_type": "code",
   "execution_count": 2,
   "id": "17524745-0821-4951-b194-8c5c5bfb1999",
   "metadata": {
    "execution": {
     "iopub.execute_input": "2022-03-08T16:19:49.013356Z",
     "iopub.status.busy": "2022-03-08T16:19:49.013243Z",
     "iopub.status.idle": "2022-03-08T16:19:53.723843Z",
     "shell.execute_reply": "2022-03-08T16:19:53.723324Z",
     "shell.execute_reply.started": "2022-03-08T16:19:49.013341Z"
    }
   },
   "outputs": [],
   "source": [
    "# I think we're talking about ComCam data, right?\n",
    "# This collections list would work at NCSA, but I suspect it will need adjustment\n",
    "# elsewhere. Needs to include both the raws and the `camera` dataset.\n",
    "butler = Butler(\n",
    "    \"/repo/LSSTComCam/\",\n",
    "    collections=[\"LSSTComCam/raw/all\"],\n",
    "    writeable=True\n",
    ")\n"
   ]
  },
  {
   "cell_type": "code",
   "execution_count": 3,
   "id": "fb39f16a-64e2-402e-8890-a01459e5ac28",
   "metadata": {
    "execution": {
     "iopub.execute_input": "2022-03-08T16:20:59.842181Z",
     "iopub.status.busy": "2022-03-08T16:20:59.841893Z",
     "iopub.status.idle": "2022-03-08T16:20:59.844670Z",
     "shell.execute_reply": "2022-03-08T16:20:59.844230Z",
     "shell.execute_reply.started": "2022-03-08T16:20:59.842162Z"
    }
   },
   "outputs": [],
   "source": [
    "intra_exposure_id = 2022030800001\n",
    "extra_exposure_id = 2022030800002"
   ]
  },
  {
   "cell_type": "code",
   "execution_count": 4,
   "id": "920a1990-efaa-4171-beba-e0a8e3cd9f3f",
   "metadata": {
    "execution": {
     "iopub.execute_input": "2022-03-08T16:21:00.888092Z",
     "iopub.status.busy": "2022-03-08T16:21:00.887511Z",
     "iopub.status.idle": "2022-03-08T16:21:01.027377Z",
     "shell.execute_reply": "2022-03-08T16:21:01.026904Z",
     "shell.execute_reply.started": "2022-03-08T16:21:00.888071Z"
    }
   },
   "outputs": [],
   "source": [
    "# Replace \"???\" below by a query string that corresponds to all wavefront observations.\n",
    "exposure_data_ids = set(\n",
    "    butler.registry.queryDataIds(\n",
    "        [\n",
    "            \"exposure\"\n",
    "        ], \n",
    "        where=f\"exposure IN ({intra_exposure_id}, {extra_exposure_id})\"\n",
    "    )\n",
    ")"
   ]
  },
  {
   "cell_type": "code",
   "execution_count": 5,
   "id": "fc26dec7-5478-4b3d-917c-8dc352bcdc5f",
   "metadata": {
    "execution": {
     "iopub.execute_input": "2022-03-08T16:21:10.095347Z",
     "iopub.status.busy": "2022-03-08T16:21:10.095060Z",
     "iopub.status.idle": "2022-03-08T16:21:10.100072Z",
     "shell.execute_reply": "2022-03-08T16:21:10.099690Z",
     "shell.execute_reply.started": "2022-03-08T16:21:10.095329Z"
    }
   },
   "outputs": [
    {
     "data": {
      "text/plain": [
       "{{instrument: 'LSSTComCam', exposure: 2022030800001, ...},\n",
       " {instrument: 'LSSTComCam', exposure: 2022030800002, ...}}"
      ]
     },
     "execution_count": 5,
     "metadata": {},
     "output_type": "execute_result"
    }
   ],
   "source": [
    "exposure_data_ids"
   ]
  },
  {
   "cell_type": "code",
   "execution_count": 6,
   "id": "121d4842-425b-49f8-890c-eafbf95fee20",
   "metadata": {
    "execution": {
     "iopub.execute_input": "2022-03-08T16:21:13.928948Z",
     "iopub.status.busy": "2022-03-08T16:21:13.928381Z",
     "iopub.status.idle": "2022-03-08T16:21:14.323448Z",
     "shell.execute_reply": "2022-03-08T16:21:14.322976Z",
     "shell.execute_reply.started": "2022-03-08T16:21:13.928927Z"
    }
   },
   "outputs": [],
   "source": [
    "instrument = Instrument.fromName(\"LSSTComCam\", registry=butler.registry)"
   ]
  },
  {
   "cell_type": "code",
   "execution_count": 7,
   "id": "faf49e7e-f481-4e53-a332-7707fd15926f",
   "metadata": {
    "execution": {
     "iopub.execute_input": "2022-03-08T16:21:15.577955Z",
     "iopub.status.busy": "2022-03-08T16:21:15.577656Z",
     "iopub.status.idle": "2022-03-08T16:21:15.580802Z",
     "shell.execute_reply": "2022-03-08T16:21:15.580404Z",
     "shell.execute_reply.started": "2022-03-08T16:21:15.577937Z"
    }
   },
   "outputs": [],
   "source": [
    "config = DefineVisitsTask.ConfigClass()"
   ]
  },
  {
   "cell_type": "code",
   "execution_count": 8,
   "id": "9404f654-d025-4f83-a9ad-7e01cee46aa0",
   "metadata": {
    "execution": {
     "iopub.execute_input": "2022-03-08T16:21:17.995763Z",
     "iopub.status.busy": "2022-03-08T16:21:17.995468Z",
     "iopub.status.idle": "2022-03-08T16:21:17.998699Z",
     "shell.execute_reply": "2022-03-08T16:21:17.998305Z",
     "shell.execute_reply.started": "2022-03-08T16:21:17.995745Z"
    }
   },
   "outputs": [],
   "source": [
    "instrument.applyConfigOverrides(DefineVisitsTask._DefaultName, config)"
   ]
  },
  {
   "cell_type": "code",
   "execution_count": 9,
   "id": "001a004b-f248-4bf5-b9a5-5afaaae050e5",
   "metadata": {
    "execution": {
     "iopub.execute_input": "2022-03-08T16:21:20.847394Z",
     "iopub.status.busy": "2022-03-08T16:21:20.847103Z",
     "iopub.status.idle": "2022-03-08T16:21:20.849993Z",
     "shell.execute_reply": "2022-03-08T16:21:20.849557Z",
     "shell.execute_reply.started": "2022-03-08T16:21:20.847377Z"
    }
   },
   "outputs": [],
   "source": [
    "config.groupExposures.name = \"one-to-one\""
   ]
  },
  {
   "cell_type": "code",
   "execution_count": 10,
   "id": "1ce1ea72-24ad-407b-b4d2-044b10c77319",
   "metadata": {
    "execution": {
     "iopub.execute_input": "2022-03-08T16:21:22.192787Z",
     "iopub.status.busy": "2022-03-08T16:21:22.192504Z",
     "iopub.status.idle": "2022-03-08T16:21:22.195661Z",
     "shell.execute_reply": "2022-03-08T16:21:22.195195Z",
     "shell.execute_reply.started": "2022-03-08T16:21:22.192770Z"
    }
   },
   "outputs": [],
   "source": [
    "task = DefineVisitsTask(config=config, butler=butler)"
   ]
  },
  {
   "cell_type": "code",
   "execution_count": 11,
   "id": "8ac5fa10-97b9-4061-bcc6-ec268db29aa5",
   "metadata": {
    "execution": {
     "iopub.execute_input": "2022-03-08T16:21:23.224672Z",
     "iopub.status.busy": "2022-03-08T16:21:23.224378Z",
     "iopub.status.idle": "2022-03-08T16:21:23.577479Z",
     "shell.execute_reply": "2022-03-08T16:21:23.576997Z",
     "shell.execute_reply.started": "2022-03-08T16:21:23.224654Z"
    }
   },
   "outputs": [
    {
     "data": {
      "text/html": [
       "<pre style=\"margin: 0.1em;\n",
       "padding-left: 0.25em;\n",
       "border-left-style: solid;\n",
       "font-family: var(--jp-code-font-family);\n",
       "font-size: var(--jp-code-font-size);\n",
       "line-height: var(--jp-code-line-height);\n",
       "\"><span style=\"color: var(--jp-warn-color2)\">lsst.defineVisits</span> <span style=\"color: var(--jp-info-color0)\">INFO</span>: Preprocessing data IDs.</pre>"
      ],
      "text/plain": [
       "<IPython.core.display.HTML object>"
      ]
     },
     "metadata": {},
     "output_type": "display_data"
    },
    {
     "data": {
      "text/html": [
       "<pre style=\"margin: 0.1em;\n",
       "padding-left: 0.25em;\n",
       "border-left-style: solid;\n",
       "font-family: var(--jp-code-font-family);\n",
       "font-size: var(--jp-code-font-size);\n",
       "line-height: var(--jp-code-line-height);\n",
       "\"><span style=\"color: var(--jp-warn-color2)\">lsst.defineVisits</span> <span style=\"color: var(--jp-info-color0)\">INFO</span>: Registering visit_system 0: one-to-one.</pre>"
      ],
      "text/plain": [
       "<IPython.core.display.HTML object>"
      ]
     },
     "metadata": {},
     "output_type": "display_data"
    },
    {
     "data": {
      "text/html": [
       "<pre style=\"margin: 0.1em;\n",
       "padding-left: 0.25em;\n",
       "border-left-style: solid;\n",
       "font-family: var(--jp-code-font-family);\n",
       "font-size: var(--jp-code-font-size);\n",
       "line-height: var(--jp-code-line-height);\n",
       "\"><span style=\"color: var(--jp-warn-color2)\">lsst.defineVisits</span> <span style=\"color: var(--jp-info-color0)\">INFO</span>: Grouping 2 exposure(s) into visits.</pre>"
      ],
      "text/plain": [
       "<IPython.core.display.HTML object>"
      ]
     },
     "metadata": {},
     "output_type": "display_data"
    },
    {
     "data": {
      "text/html": [
       "<pre style=\"margin: 0.1em;\n",
       "padding-left: 0.25em;\n",
       "border-left-style: solid;\n",
       "font-family: var(--jp-code-font-family);\n",
       "font-size: var(--jp-code-font-size);\n",
       "line-height: var(--jp-code-line-height);\n",
       "\"><span style=\"color: var(--jp-warn-color2)\">lsst.defineVisits</span> <span style=\"color: var(--jp-info-color0)\">INFO</span>: Computing regions and other metadata for 2 visit(s).</pre>"
      ],
      "text/plain": [
       "<IPython.core.display.HTML object>"
      ]
     },
     "metadata": {},
     "output_type": "display_data"
    }
   ],
   "source": [
    "task.run(exposure_data_ids)"
   ]
  },
  {
   "cell_type": "code",
   "execution_count": null,
   "id": "2321b5f1-4025-41a8-80d0-0c082657c984",
   "metadata": {},
   "outputs": [],
   "source": [
    "data_id = {'instrument': 'LSSTComCam', 'detector': 0, 'exposure': 2022012800009}"
   ]
  },
  {
   "cell_type": "code",
   "execution_count": null,
   "id": "015fda75-9cc8-4a46-ad73-5ed6442c66af",
   "metadata": {},
   "outputs": [],
   "source": [
    "metadata = butler.get('raw.visitInfo', dataId=data_id, collections=[\"LSSTComCam/raw/all\"])\n",
    "print(metadata)"
   ]
  },
  {
   "cell_type": "code",
   "execution_count": null,
   "id": "be7fecce-037f-4dff-b88b-9f30683599e2",
   "metadata": {},
   "outputs": [],
   "source": []
  }
 ],
 "metadata": {
  "kernelspec": {
   "display_name": "LSST",
   "language": "python",
   "name": "lsst"
  },
  "language_info": {
   "codemirror_mode": {
    "name": "ipython",
    "version": 3
   },
   "file_extension": ".py",
   "mimetype": "text/x-python",
   "name": "python",
   "nbconvert_exporter": "python",
   "pygments_lexer": "ipython3",
   "version": "3.8.12"
  }
 },
 "nbformat": 4,
 "nbformat_minor": 5
}
