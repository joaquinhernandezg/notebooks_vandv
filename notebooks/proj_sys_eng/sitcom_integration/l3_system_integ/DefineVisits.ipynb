{
 "cells": [
  {
   "cell_type": "code",
   "execution_count": 1,
   "id": "08292019-fda7-4199-a320-80193d18e034",
   "metadata": {
    "tags": []
   },
   "outputs": [
    {
     "name": "stderr",
     "output_type": "stream",
     "text": [
      "\n",
      "WARNING: version mismatch between CFITSIO header (v4.000999999999999) and linked library (v4.01).\n",
      "\n",
      "\n",
      "WARNING: version mismatch between CFITSIO header (v4.000999999999999) and linked library (v4.01).\n",
      "\n",
      "\n",
      "WARNING: version mismatch between CFITSIO header (v4.000999999999999) and linked library (v4.01).\n",
      "\n"
     ]
    }
   ],
   "source": [
    "from lsst.daf.butler import Butler\n",
    "from lsst.obs.base import DefineVisitsTask, Instrument\n"
   ]
  },
  {
   "cell_type": "code",
   "execution_count": 2,
   "id": "17524745-0821-4951-b194-8c5c5bfb1999",
   "metadata": {
    "tags": []
   },
   "outputs": [],
   "source": [
    "# I think we're talking about ComCam data, right?\n",
    "# This collections list would work at NCSA, but I suspect it will need adjustment\n",
    "# elsewhere. Needs to include both the raws and the `camera` dataset.\n",
    "butler = Butler(\n",
    "    \"/repo/LSSTComCam/\",\n",
    "    collections=[\"LSSTComCam/raw/all\"],\n",
    "    writeable=True\n",
    ")\n"
   ]
  },
  {
   "cell_type": "code",
   "execution_count": 3,
   "id": "fb39f16a-64e2-402e-8890-a01459e5ac28",
   "metadata": {
    "tags": []
   },
   "outputs": [],
   "source": [
    "intra_exposure_id = 2022061700011\n",
    "extra_exposure_id = 2022061700012"
   ]
  },
  {
   "cell_type": "code",
   "execution_count": 4,
   "id": "920a1990-efaa-4171-beba-e0a8e3cd9f3f",
   "metadata": {
    "tags": []
   },
   "outputs": [],
   "source": [
    "# Replace \"???\" below by a query string that corresponds to all wavefront observations.\n",
    "exposure_data_ids = set(\n",
    "    butler.registry.queryDataIds(\n",
    "        [\n",
    "            \"exposure\"\n",
    "        ], \n",
    "        where=f\"exposure IN ({intra_exposure_id}, {extra_exposure_id})\"\n",
    "    )\n",
    ")"
   ]
  },
  {
   "cell_type": "code",
   "execution_count": 5,
   "id": "fc26dec7-5478-4b3d-917c-8dc352bcdc5f",
   "metadata": {
    "tags": []
   },
   "outputs": [
    {
     "data": {
      "text/plain": [
       "{{instrument: 'LSSTComCam', exposure: 2022061700011, ...},\n",
       " {instrument: 'LSSTComCam', exposure: 2022061700012, ...}}"
      ]
     },
     "execution_count": 5,
     "metadata": {},
     "output_type": "execute_result"
    }
   ],
   "source": [
    "exposure_data_ids"
   ]
  },
  {
   "cell_type": "code",
   "execution_count": 6,
   "id": "121d4842-425b-49f8-890c-eafbf95fee20",
   "metadata": {
    "tags": []
   },
   "outputs": [],
   "source": [
    "instrument = Instrument.fromName(\"LSSTComCam\", registry=butler.registry)"
   ]
  },
  {
   "cell_type": "code",
   "execution_count": 7,
   "id": "faf49e7e-f481-4e53-a332-7707fd15926f",
   "metadata": {
    "tags": []
   },
   "outputs": [],
   "source": [
    "config = DefineVisitsTask.ConfigClass()"
   ]
  },
  {
   "cell_type": "code",
   "execution_count": 8,
   "id": "9404f654-d025-4f83-a9ad-7e01cee46aa0",
   "metadata": {
    "tags": []
   },
   "outputs": [],
   "source": [
    "instrument.applyConfigOverrides(DefineVisitsTask._DefaultName, config)"
   ]
  },
  {
   "cell_type": "code",
   "execution_count": 9,
   "id": "001a004b-f248-4bf5-b9a5-5afaaae050e5",
   "metadata": {
    "tags": []
   },
   "outputs": [],
   "source": [
    "config.groupExposures.name = \"one-to-one\""
   ]
  },
  {
   "cell_type": "code",
   "execution_count": 10,
   "id": "1ce1ea72-24ad-407b-b4d2-044b10c77319",
   "metadata": {
    "tags": []
   },
   "outputs": [],
   "source": [
    "task = DefineVisitsTask(config=config, butler=butler)"
   ]
  },
  {
   "cell_type": "code",
   "execution_count": 11,
   "id": "8ac5fa10-97b9-4061-bcc6-ec268db29aa5",
   "metadata": {
    "tags": []
   },
   "outputs": [
    {
     "data": {
      "text/html": [
       "<pre style=\"margin: 0.1em;\n",
       "padding-left: 0.25em;\n",
       "border-left-style: solid;\n",
       "font-family: var(--jp-code-font-family);\n",
       "font-size: var(--jp-code-font-size);\n",
       "line-height: var(--jp-code-line-height);\n",
       "\"><span style=\"color: var(--jp-warn-color2)\">lsst.defineVisits</span> <span style=\"color: var(--jp-info-color0)\">INFO</span>: Preprocessing data IDs.</pre>"
      ],
      "text/plain": [
       "<IPython.core.display.HTML object>"
      ]
     },
     "metadata": {},
     "output_type": "display_data"
    },
    {
     "data": {
      "text/html": [
       "<pre style=\"margin: 0.1em;\n",
       "padding-left: 0.25em;\n",
       "border-left-style: solid;\n",
       "font-family: var(--jp-code-font-family);\n",
       "font-size: var(--jp-code-font-size);\n",
       "line-height: var(--jp-code-line-height);\n",
       "\"><span style=\"color: var(--jp-warn-color2)\">lsst.defineVisits</span> <span style=\"color: var(--jp-info-color0)\">INFO</span>: Registering visit_system 0: one-to-one.</pre>"
      ],
      "text/plain": [
       "<IPython.core.display.HTML object>"
      ]
     },
     "metadata": {},
     "output_type": "display_data"
    },
    {
     "data": {
      "text/html": [
       "<pre style=\"margin: 0.1em;\n",
       "padding-left: 0.25em;\n",
       "border-left-style: solid;\n",
       "font-family: var(--jp-code-font-family);\n",
       "font-size: var(--jp-code-font-size);\n",
       "line-height: var(--jp-code-line-height);\n",
       "\"><span style=\"color: var(--jp-warn-color2)\">lsst.defineVisits</span> <span style=\"color: var(--jp-info-color0)\">INFO</span>: Grouping 2 exposure(s) into visits.</pre>"
      ],
      "text/plain": [
       "<IPython.core.display.HTML object>"
      ]
     },
     "metadata": {},
     "output_type": "display_data"
    },
    {
     "data": {
      "text/html": [
       "<pre style=\"margin: 0.1em;\n",
       "padding-left: 0.25em;\n",
       "border-left-style: solid;\n",
       "font-family: var(--jp-code-font-family);\n",
       "font-size: var(--jp-code-font-size);\n",
       "line-height: var(--jp-code-line-height);\n",
       "\"><span style=\"color: var(--jp-warn-color2)\">lsst.defineVisits</span> <span style=\"color: var(--jp-info-color0)\">INFO</span>: Computing regions and other metadata for 2 visit(s).</pre>"
      ],
      "text/plain": [
       "<IPython.core.display.HTML object>"
      ]
     },
     "metadata": {},
     "output_type": "display_data"
    }
   ],
   "source": [
    "task.run(exposure_data_ids)"
   ]
  },
  {
   "cell_type": "code",
   "execution_count": 14,
   "id": "2321b5f1-4025-41a8-80d0-0c082657c984",
   "metadata": {},
   "outputs": [],
   "source": [
    "data_id = {'instrument': 'LSSTComCam', 'detector': 0, 'exposure': 2022061700012}"
   ]
  },
  {
   "cell_type": "code",
   "execution_count": 15,
   "id": "015fda75-9cc8-4a46-ad73-5ed6442c66af",
   "metadata": {},
   "outputs": [
    {
     "data": {
      "text/html": [
       "<pre style=\"margin: 0.1em;\n",
       "padding-left: 0.25em;\n",
       "border-left-style: solid;\n",
       "font-family: var(--jp-code-font-family);\n",
       "font-size: var(--jp-code-font-size);\n",
       "line-height: var(--jp-code-line-height);\n",
       "\"><span style=\"color: var(--jp-warn-color2)\">lsst.obs.lsst.translators.comCam</span> <span style=\"color: var(--jp-warn-color0)\">WARNING</span>: CC_O_20220617_000012: replaced FILTER None with &quot;unknown&quot;</pre>"
      ],
      "text/plain": [
       "<IPython.core.display.HTML object>"
      ]
     },
     "metadata": {},
     "output_type": "display_data"
    },
    {
     "name": "stdout",
     "output_type": "stream",
     "text": [
      "VisitInfo(exposureId=2022061700012000, exposureTime=15, darkTime=18.1156, date=2022-06-17T19:49:23.661502482, UT1=nan, ERA=3.5422 rad, boresightRaDec=(307.0781171669, -87.4721945038), boresightAzAlt=(nan, +nan), boresightAirmass=2.1467, boresightRotAngle=8.62307e-318 rad, rotType=1, observatory=-30.2446N, -70.7494E  2663, weather=Weather(nan, nan, nan), instrumentLabel='LSSTComCam', id=2022061700012)\n"
     ]
    }
   ],
   "source": [
    "metadata = butler.get('raw.visitInfo', dataId=data_id, collections=[\"LSSTComCam/raw/all\"])\n",
    "print(metadata)"
   ]
  },
  {
   "cell_type": "code",
   "execution_count": null,
   "id": "be7fecce-037f-4dff-b88b-9f30683599e2",
   "metadata": {},
   "outputs": [],
   "source": []
  }
 ],
 "metadata": {
  "kernelspec": {
   "display_name": "LSST",
   "language": "python",
   "name": "lsst"
  },
  "language_info": {
   "codemirror_mode": {
    "name": "ipython",
    "version": 3
   },
   "file_extension": ".py",
   "mimetype": "text/x-python",
   "name": "python",
   "nbconvert_exporter": "python",
   "pygments_lexer": "ipython3",
   "version": "3.8.13"
  }
 },
 "nbformat": 4,
 "nbformat_minor": 5
}
