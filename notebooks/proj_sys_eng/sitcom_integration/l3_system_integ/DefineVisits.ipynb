{
 "cells": [
  {
   "cell_type": "code",
   "execution_count": null,
   "id": "08292019-fda7-4199-a320-80193d18e034",
   "metadata": {
    "tags": []
   },
   "outputs": [],
   "source": [
    "from lsst.daf.butler import Butler\n",
    "from lsst.obs.base import DefineVisitsTask, Instrument\n"
   ]
  },
  {
   "cell_type": "code",
   "execution_count": null,
   "id": "17524745-0821-4951-b194-8c5c5bfb1999",
   "metadata": {
    "tags": []
   },
   "outputs": [],
   "source": [
    "# I think we're talking about ComCam data, right?\n",
    "# This collections list would work at NCSA, but I suspect it will need adjustment\n",
    "# elsewhere. Needs to include both the raws and the `camera` dataset.\n",
    "butler = Butler(\n",
    "    \"/repo/LSSTComCam/\",\n",
    "    collections=[\"LSSTComCam/raw/all\"],\n",
    "    writeable=True\n",
    ")\n"
   ]
  },
  {
   "cell_type": "code",
   "execution_count": null,
   "id": "fb39f16a-64e2-402e-8890-a01459e5ac28",
   "metadata": {
    "tags": []
   },
   "outputs": [],
   "source": [
    "intra_exposure_id = 2022051300009\n",
    "extra_exposure_id = 2022051300010"
   ]
  },
  {
   "cell_type": "code",
   "execution_count": null,
   "id": "920a1990-efaa-4171-beba-e0a8e3cd9f3f",
   "metadata": {
    "tags": []
   },
   "outputs": [],
   "source": [
    "# Replace \"???\" below by a query string that corresponds to all wavefront observations.\n",
    "exposure_data_ids = set(\n",
    "    butler.registry.queryDataIds(\n",
    "        [\n",
    "            \"exposure\"\n",
    "        ], \n",
    "        where=f\"exposure IN ({intra_exposure_id}, {extra_exposure_id})\"\n",
    "    )\n",
    ")"
   ]
  },
  {
   "cell_type": "code",
   "execution_count": null,
   "id": "fc26dec7-5478-4b3d-917c-8dc352bcdc5f",
   "metadata": {
    "tags": []
   },
   "outputs": [],
   "source": [
    "exposure_data_ids"
   ]
  },
  {
   "cell_type": "code",
   "execution_count": null,
   "id": "121d4842-425b-49f8-890c-eafbf95fee20",
   "metadata": {
    "tags": []
   },
   "outputs": [],
   "source": [
    "instrument = Instrument.fromName(\"LSSTComCam\", registry=butler.registry)"
   ]
  },
  {
   "cell_type": "code",
   "execution_count": null,
   "id": "faf49e7e-f481-4e53-a332-7707fd15926f",
   "metadata": {
    "tags": []
   },
   "outputs": [],
   "source": [
    "config = DefineVisitsTask.ConfigClass()"
   ]
  },
  {
   "cell_type": "code",
   "execution_count": null,
   "id": "9404f654-d025-4f83-a9ad-7e01cee46aa0",
   "metadata": {
    "tags": []
   },
   "outputs": [],
   "source": [
    "instrument.applyConfigOverrides(DefineVisitsTask._DefaultName, config)"
   ]
  },
  {
   "cell_type": "code",
   "execution_count": null,
   "id": "001a004b-f248-4bf5-b9a5-5afaaae050e5",
   "metadata": {
    "tags": []
   },
   "outputs": [],
   "source": [
    "config.groupExposures.name = \"one-to-one\""
   ]
  },
  {
   "cell_type": "code",
   "execution_count": null,
   "id": "1ce1ea72-24ad-407b-b4d2-044b10c77319",
   "metadata": {
    "tags": []
   },
   "outputs": [],
   "source": [
    "task = DefineVisitsTask(config=config, butler=butler)"
   ]
  },
  {
   "cell_type": "code",
   "execution_count": null,
   "id": "8ac5fa10-97b9-4061-bcc6-ec268db29aa5",
   "metadata": {
    "tags": []
   },
   "outputs": [],
   "source": [
    "task.run(exposure_data_ids)"
   ]
  },
  {
   "cell_type": "code",
   "execution_count": null,
   "id": "2321b5f1-4025-41a8-80d0-0c082657c984",
   "metadata": {},
   "outputs": [],
   "source": [
    "data_id = {'instrument': 'LSSTComCam', 'detector': 0, 'exposure': 2022012800009}"
   ]
  },
  {
   "cell_type": "code",
   "execution_count": null,
   "id": "015fda75-9cc8-4a46-ad73-5ed6442c66af",
   "metadata": {},
   "outputs": [],
   "source": [
    "metadata = butler.get('raw.visitInfo', dataId=data_id, collections=[\"LSSTComCam/raw/all\"])\n",
    "print(metadata)"
   ]
  },
  {
   "cell_type": "code",
   "execution_count": null,
   "id": "be7fecce-037f-4dff-b88b-9f30683599e2",
   "metadata": {},
   "outputs": [],
   "source": []
  }
 ],
 "metadata": {
  "kernelspec": {
   "display_name": "LSST",
   "language": "python",
   "name": "lsst"
  },
  "language_info": {
   "codemirror_mode": {
    "name": "ipython",
    "version": 3
   },
   "file_extension": ".py",
   "mimetype": "text/x-python",
   "name": "python",
   "nbconvert_exporter": "python",
   "pygments_lexer": "ipython3",
   "version": "3.8.13"
  }
 },
 "nbformat": 4,
 "nbformat_minor": 5
}
