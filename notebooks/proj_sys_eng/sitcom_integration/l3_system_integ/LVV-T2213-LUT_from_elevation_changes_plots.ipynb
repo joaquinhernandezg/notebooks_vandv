{
 "cells": [
  {
   "cell_type": "markdown",
   "metadata": {},
   "source": [
    "# Plots for [LVV-T2213] LUT Application from MTMount Elevation Changes\n",
    "\n",
    "This notebook contains plots to analyze the data obtained when running the [LVV-T2213] test case. \n",
    "It is based on the notebooks originally written by Bo Xin in the [lsst-ts/ts_notebooks] repository.  \n",
    "\n",
    "Please, see the [README] file for the requirements to run this notebook.\n",
    "\n",
    "[lsst-ts/ts_notebooks]: https://github.com/lsst-ts/ts_notebooks/blob/develop/bxin/aos2comp/aos2comp.ipynb\n",
    "[LVV-T2213]: https://jira.lsstcorp.org/secure/Tests.jspa#/testCase/LVV-T2213\n",
    "[README]: https://github.com/lsst-sitcom/notebooks_vandv/blob/develop/README.md"
   ]
  },
  {
   "cell_type": "code",
   "execution_count": 1,
   "metadata": {},
   "outputs": [],
   "source": [
    "test_execution = \"LVV-EXXXX\" # Updated execution"
   ]
  },
  {
   "cell_type": "code",
   "execution_count": 2,
   "metadata": {},
   "outputs": [],
   "source": [
    "%load_ext autoreload\n",
    "%autoreload 2"
   ]
  },
  {
   "cell_type": "code",
   "execution_count": 4,
   "metadata": {},
   "outputs": [
    {
     "data": {
      "text/html": [
       "<pre style=\"margin: 0.1em;\n",
       "padding-left: 0.25em;\n",
       "border-left-style: solid;\n",
       "font-family: var(--jp-code-font-family);\n",
       "font-size: var(--jp-code-font-size);\n",
       "line-height: var(--jp-code-line-height);\n",
       "\"><span style=\"color: var(--jp-warn-color2)\">lsst.ts.utils.tai</span> <span style=\"color: var(--jp-info-color0)\">INFO</span>: Update leap second table</pre>"
      ],
      "text/plain": [
       "<IPython.core.display.HTML object>"
      ]
     },
     "metadata": {},
     "output_type": "display_data"
    },
    {
     "data": {
      "text/html": [
       "<pre style=\"margin: 0.1em;\n",
       "padding-left: 0.25em;\n",
       "border-left-style: solid;\n",
       "font-family: var(--jp-code-font-family);\n",
       "font-size: var(--jp-code-font-size);\n",
       "line-height: var(--jp-code-line-height);\n",
       "\"><span style=\"color: var(--jp-warn-color2)\">lsst.ts.utils.tai</span> <span style=\"color: var(--jp-info-color0)\">INFO</span>: current_tai uses the system TAI clock</pre>"
      ],
      "text/plain": [
       "<IPython.core.display.HTML object>"
      ]
     },
     "metadata": {},
     "output_type": "display_data"
    },
    {
     "name": "stdout",
     "output_type": "stream",
     "text": [
      "\n",
      "Executed by b1quint on 2022-06-24T13:29:09.114.\n",
      "  Running in pillan03 at tucson\n",
      "\n"
     ]
    }
   ],
   "source": [
    "from lsst.sitcom import vandv\n",
    "\n",
    "exec_info = vandv.ExecutionInfo()\n",
    "print(exec_info)"
   ]
  },
  {
   "cell_type": "markdown",
   "metadata": {},
   "source": [
    "---\n",
    "## Setup Notebook for Test\n",
    "\n",
    "- Import all libraries\n",
    "- Get the remotes ready"
   ]
  },
  {
   "cell_type": "code",
   "execution_count": 5,
   "metadata": {},
   "outputs": [],
   "source": [
    "import asyncio\n",
    "import os\n",
    "import yaml\n",
    "\n",
    "import astropy.units as u\n",
    "import numpy as np\n",
    "import matplotlib.pyplot as plt\n",
    "import pandas as pd\n",
    "\n",
    "from astropy import time \n",
    "from astropy.coordinates import AltAz, ICRS, EarthLocation, Angle, FK5\n",
    "from datetime import datetime, timedelta\n",
    "\n",
    "from lsst_efd_client import EfdClient\n",
    "from lsst.ts import utils, salobj\n",
    "from lsst.ts.cRIOpy import M1M3FATable\n",
    "from lsst.ts.observatory.control.maintel.mtcs import MTCS, MTCSUsages\n",
    "from lsst.ts.observatory.control import RotType\n",
    "\n",
    "import lsst.sitcom.vandv as vandv"
   ]
  },
  {
   "cell_type": "markdown",
   "metadata": {},
   "source": [
    "## (Not) Switching Components from Hardware to Simulator\n",
    "\n",
    "We actually found out that `mtmount-sim` is publishing wrong elevation values.  \n",
    "This causes M1M3 and M2 to go to a FAULT state because the angle between the inclinometer and the mount elevation is too large. \n",
    "Because of that, we are running this test using only `mtm2hex-sim` as a simulator.  \n",
    "Everything else is running using hardware."
   ]
  },
  {
   "cell_type": "markdown",
   "metadata": {
    "tags": []
   },
   "source": [
    "## Helper Functions"
   ]
  },
  {
   "cell_type": "code",
   "execution_count": 6,
   "metadata": {
    "jupyter": {
     "source_hidden": true
    },
    "tags": []
   },
   "outputs": [],
   "source": [
    "async def get_data_from_efd(location, start, end):\n",
    "    \"\"\"\n",
    "    Retrieves data relevant for analysis.\n",
    "    \n",
    "    Parameters\n",
    "    ----------\n",
    "    location : str\n",
    "        In which Test Stand are you running this test?\n",
    "    start : str or datetime\n",
    "        Start of the time-window.\n",
    "    end : str or datetime \n",
    "        End of the time-window.\n",
    "    \"\"\"\n",
    "    if location == \"summit\":\n",
    "        client = EfdClient(\"summit_efd\")\n",
    "    elif location == \"tucson\":\n",
    "        client = EfdClient(\"tucson_teststand_efd\")\n",
    "    else:\n",
    "        raise ValueError(\n",
    "            \"Location does not match any valid options {summit|tucson}\"\n",
    "        )\n",
    "    \n",
    "    _df_mount_el = await client.select_time_series(\n",
    "        \"lsst.sal.MTMount.elevation\", \n",
    "        fields=\"actualPosition\", \n",
    "        start=start.utc, \n",
    "        end=end.utc,\n",
    "    )\n",
    "    \n",
    "    _df_m1m3 = await client.select_time_series(\n",
    "        \"lsst.sal.MTM1M3.forceActuatorData\",\n",
    "        fields=\"*\",\n",
    "        start=start.utc, \n",
    "        end=end.utc,\n",
    "    )\n",
    "\n",
    "    # M2 B1 \n",
    "    _df_m2 = await client.select_time_series(\n",
    "        \"lsst.sal.MTM2.axialForce\",\n",
    "        fields=\"*\",\n",
    "        start=start.utc, \n",
    "        end=end.utc,\n",
    "    )\n",
    "        \n",
    "    # CamHex Y position\n",
    "    _df_camhex = await client.select_time_series(\n",
    "        \"lsst.sal.MTHexapod.application\",\n",
    "        fields=[\n",
    "            \"position1\"\n",
    "        ],\n",
    "        index=1,\n",
    "        start=start.utc, \n",
    "        end=end.utc,\n",
    "    )\n",
    "    \n",
    "    # M2Hex Y position\n",
    "    _df_m2hex = await client.select_time_series(\n",
    "        \"lsst.sal.MTHexapod.application\",\n",
    "        fields=[\n",
    "            \"position1\"\n",
    "        ],\n",
    "        index=2,\n",
    "        start=start.utc, \n",
    "        end=end.utc,\n",
    "    )\n",
    "    \n",
    "    # Rename columns\n",
    "    _df_mount_el = _df_mount_el.rename(\n",
    "        columns={\"actualPosition\": \"elevation\"})\n",
    "    _df_m1m3 = _df_m1m3.rename(\n",
    "        columns={c: f\"mtm1m3.forceActuatorData.{c}\" for c in _df_m1m3.columns}) \n",
    "    _df_m2 = _df_m2.rename(\n",
    "        columns={c: f\"mtm2.axialForce.{c}\" for c in _df_m2.columns})\n",
    "    _df_camhex = _df_camhex.rename(\n",
    "        columns={c: f\"mthexapod_1.application.{c}\" for c in _df_camhex.columns})\n",
    "    _df_m2hex = _df_m2hex.rename(\n",
    "        columns={c: f\"mthexapod_2.application.{c}\" for c in _df_m2hex.columns})\n",
    "    \n",
    "    # Join dataframes\n",
    "    _df = _df_mount_el\n",
    "    \n",
    "    _df = pd.merge(\n",
    "        _df, \n",
    "        _df_m1m3, \n",
    "        left_index=True, \n",
    "        right_index=True, \n",
    "        how=\"outer\"\n",
    "    )\n",
    "                \n",
    "    _df = pd.merge(\n",
    "        _df, \n",
    "        _df_m2, \n",
    "        left_index=True, \n",
    "        right_index=True, \n",
    "        how=\"outer\"\n",
    "    )\n",
    "    \n",
    "    _df = pd.merge(\n",
    "        _df, \n",
    "        _df_camhex, \n",
    "        left_index=True, \n",
    "        right_index=True, \n",
    "        how=\"outer\"\n",
    "    )\n",
    "\n",
    "    _df = pd.merge(\n",
    "        _df, \n",
    "        _df_m2hex, \n",
    "        left_index=True, \n",
    "        right_index=True, \n",
    "        how=\"outer\"\n",
    "    )\n",
    "    \n",
    "    return _df"
   ]
  },
  {
   "cell_type": "markdown",
   "metadata": {},
   "source": [
    "## Plot Data"
   ]
  },
  {
   "cell_type": "code",
   "execution_count": 34,
   "metadata": {},
   "outputs": [
    {
     "name": "stdout",
     "output_type": "stream",
     "text": [
      "Query lsst.sal.MTM1M3.logevent_appliedElevationForces\n",
      "Query lsst.sal.MTM1M3.logevent_appliedBalanceForces\n",
      "Query lsst.sal.MTM1M3.logevent_appliedStaticForces\n",
      "[0 0 0 0 0 0 0 0 0 0 0 0]\n"
     ]
    },
    {
     "data": {
      "image/png": "[encoded data removed]",
      "text/plain": [
       "<Figure size 1080x576 with 3 Axes>"
      ]
     },
     "metadata": {
      "needs_background": "light"
     },
     "output_type": "display_data"
    }
   ],
   "source": [
    "await vandv.m1m3.show_m1m3_forces_efd()"
   ]
  },
  {
   "cell_type": "code",
   "execution_count": null,
   "metadata": {},
   "outputs": [],
   "source": [
    "# t_start = \"2022-06-06T16:33:47.387\"\n",
    "# t_start = time.Time(t_start, format=\"isot\", scale=\"tai\")\n",
    "\n",
    "# t_end = \"2022-06-06T16:36:25.569\"\n",
    "# t_end = time.Time(t_end, format=\"isot\", scale=\"tai\")"
   ]
  },
  {
   "cell_type": "markdown",
   "metadata": {},
   "source": [
    "## Plot Optics vs Time\n",
    "\n",
    "Plot the following as a function of time during the above process:\n",
    "\n",
    "- mount elevation\n",
    "- m1m3 actuator 101 z force\n",
    "- m2 actuator B1 force\n",
    "- camera hex y position\n",
    "- m2 hex y position"
   ]
  },
  {
   "cell_type": "code",
   "execution_count": null,
   "metadata": {},
   "outputs": [],
   "source": [
    "t_start.utc"
   ]
  },
  {
   "cell_type": "code",
   "execution_count": null,
   "metadata": {},
   "outputs": [],
   "source": [
    "df = await get_data_from_efd(\n",
    "    exec_info.loc, \n",
    "    t_start, \n",
    "    t_end)"
   ]
  },
  {
   "cell_type": "code",
   "execution_count": null,
   "metadata": {},
   "outputs": [],
   "source": [
    "df[\"elevation\"].dropna()"
   ]
  },
  {
   "cell_type": "code",
   "execution_count": null,
   "metadata": {},
   "outputs": [],
   "source": []
  },
  {
   "cell_type": "code",
   "execution_count": null,
   "metadata": {},
   "outputs": [],
   "source": [
    "fig, axs = plt.subplots(figsize=(10, 10), nrows=3, sharex=True)\n",
    "\n",
    "axs[0].plot(df[\"elevation\"].dropna(), \"k\", label=\"Mount Elevation\")\n",
    "axs[0].set_ylabel(\"Mount El\\n[deg]\")\n",
    "\n",
    "axs[1].plot(df[\"mtm2.axialForce.applied0\"].dropna(), \"C1^-\", label=\"applied\")\n",
    "axs[1].plot(df[\"mtm2.axialForce.lutGravity0\"].dropna(), \"C2v-\", label=\"Gravity LUT\")\n",
    "axs[1].set_ylabel(\"M2 Forces\\n[--]\")\n",
    "\n",
    "axs[2].plot(df[\"mthexapod_1.application.position1\"].dropna(), \"C3x-\", label=\"CamHex Y\")\n",
    "axs[2].plot(df[\"mthexapod_2.application.position1\"].dropna(), \"C4+-\", label=\"M2Hex Y\")\n",
    "axs[2].set_ylabel(\"Hexapod Position\\n[um]\")\n",
    "\n",
    "for ax in axs:\n",
    "    ax.grid(\":\", alpha=0.5)\n",
    "    ax.legend()\n",
    "\n",
    "fig.suptitle(f\"{test_execution} - M1M3/M2/Hexs/Elevation vs Time\")\n",
    "fig.tight_layout(h_pad=0.3)\n",
    "fig.patch.set_facecolor('white')   \n",
    "\n",
    "fig.savefig(f\"plots/{test_execution}_m1m3_m2_hexs_el_vs_time.png\")\n",
    "plt.show()"
   ]
  },
  {
   "cell_type": "code",
   "execution_count": null,
   "metadata": {},
   "outputs": [],
   "source": [
    "vandv.m1m3.plot_m1m3_and_elevation(df)a"
   ]
  },
  {
   "cell_type": "code",
   "execution_count": null,
   "metadata": {},
   "outputs": [],
   "source": [
    "client = EfdClient(\"summit_efd\")\n",
    "\n",
    "dfm = await client.select_time_series('lsst.sal.MTMount.elevation', '*', t_start, t_end, 1)\n",
    "dfm1m3 = await client.select_time_series('lsst.sal.MTM1M3.logevent_appliedElevationForces', '*', t_start, t_end, 1)\n",
    "dfm2 = await client.select_time_series('lsst.sal.MTM2.axialForce', '*', t_start, t_end, 1)\n",
    "dfh = await client.select_time_series('lsst.sal.MTHexapod.application', '*', t_start, t_end, 1)\n",
    "\n",
    "idx1=dfh.MTHexapodID==1\n",
    "dfh1 = dfh[idx1]\n",
    "idx2=dfh.MTHexapodID==2\n",
    "dfh2 = dfh[idx2]\n",
    "\n",
    "fig, ax = plt.subplots(1,1, figsize=(15,4))\n",
    "plt.plot(dfm.actualPosition, '--', label='mount elevation')\n",
    "# plt.plot(dfm1m3.yForces0, label='M1M3 elevation y-force 101')\n",
    "# plt.plot(dfm2.lutGravity0, label='M2 elevation force B1')\n",
    "# plt.plot(dfh1.position1, label='Camera hexapod y')\n",
    "# plt.plot(dfh2.position1, label='M2 hexapod y')\n",
    "plt.grid()\n",
    "plt.legend()"
   ]
  },
  {
   "cell_type": "markdown",
   "metadata": {},
   "source": [
    "## M1M3 Elevation Forces vs LUT\n",
    "\n",
    "Check the M1M3 elevation forces match what we expect from the implemented LUT."
   ]
  },
  {
   "cell_type": "code",
   "execution_count": null,
   "metadata": {},
   "outputs": [],
   "source": [
    "elevation = await mtcs.rem.mtmount.tel_elevation.aget(timeout=10.)\n",
    "print(elevation, \"\\n\")"
   ]
  },
  {
   "cell_type": "markdown",
   "metadata": {},
   "source": [
    "The look-up table for X has basically zeroes.  \n",
    "At least for now.  \n",
    "So it does not make much sense evaluating it now.\n",
    "\n",
    "The lut for Y has non-zeroes and zeroes values.  \n",
    "in order to compare, we can drop the zeroes components.\n",
    "\n",
    "For z, we are good. We can perform a direct comparison."
   ]
  },
  {
   "cell_type": "code",
   "execution_count": null,
   "metadata": {},
   "outputs": [],
   "source": [
    "lut_el_xforces = vandv.m1m3.lut_elevation_xforces(elevation.actualPosition)\n",
    "lut_el_yforces = vandv.m1m3.lut_elevation_yforces(elevation.actualPosition)\n",
    "lut_el_zforces = vandv.m1m3.lut_elevation_zforces(elevation.actualPosition)"
   ]
  },
  {
   "cell_type": "code",
   "execution_count": null,
   "metadata": {},
   "outputs": [],
   "source": [
    "fel = await mtcs.rem.mtm1m3.evt_appliedElevationForces.aget(timeout=10.)"
   ]
  },
  {
   "cell_type": "code",
   "execution_count": null,
   "metadata": {},
   "outputs": [],
   "source": [
    "fig, ax = plt.subplots(figsize=(15, 3))\n",
    "\n",
    "ax.plot(fel.xForces, \"C0^-\", label=\"Applied\")\n",
    "ax.set_ylabel(\"Elevation xForces [??]\")\n",
    "ax.grid(\":\", alpha=0.2)\n",
    "ax.legend()\n",
    "\n",
    "fig.suptitle(f\"{test_execution} - M1M3 Elevation Forces\")\n",
    "fig.tight_layout(h_pad=0.3)\n",
    "fig.patch.set_facecolor('white')   \n",
    "\n",
    "fig.savefig(f\"plots/{test_execution}_m1m3_fel_xForces.png\")\n",
    "plt.show()"
   ]
  },
  {
   "cell_type": "code",
   "execution_count": null,
   "metadata": {},
   "outputs": [],
   "source": [
    "fig, axs = plt.subplots(figsize=(15, 6), nrows=2, sharex=True)\n",
    "\n",
    "axs[0].plot(fel.yForces, \"C0^-\", label=\"Applied\")\n",
    "axs[0].plot(lut_el_yforces[lut_el_yforces != 0], \"C1v-\", label=\"LUT\")\n",
    "axs[0].set_ylabel(\"Elevation yForces [??]\")\n",
    "axs[0].grid(\":\", alpha=0.2)\n",
    "axs[0].legend()\n",
    "\n",
    "axs[1].plot(fel.yForces - lut_el_yforces[lut_el_yforces != 0], label=\"Applied - LUT forces\")\n",
    "axs[1].set_ylabel(\"Elefation yForces \\n difference [??]\")\n",
    "axs[1].grid(\":\", alpha=0.2)\n",
    "\n",
    "fig.suptitle(f\"{test_execution} - M1M3 Elevation yForces\")\n",
    "fig.tight_layout(h_pad=0.3)\n",
    "fig.patch.set_facecolor('white')   \n",
    "\n",
    "fig.savefig(f\"plots/{test_execution}_m1m3_fel_yForces.png\")\n",
    "plt.show()"
   ]
  },
  {
   "cell_type": "code",
   "execution_count": null,
   "metadata": {},
   "outputs": [],
   "source": [
    "fig, axs = plt.subplots(figsize=(15, 6), nrows=2, sharex=True)\n",
    "\n",
    "axs[0].plot(fel.zForces, \"C0^-\", label=\"Applied\")\n",
    "axs[0].plot(lut_el_zforces, \"C1v-\", label=\"LUT\")\n",
    "axs[0].set_ylabel(\"Elevation zForces [??]\")\n",
    "axs[0].grid(\":\", alpha=0.2)\n",
    "axs[0].legend()\n",
    "\n",
    "axs[1].plot(fel.zForces - lut_el_zforces, label=\"Applied - LUT forces\")\n",
    "axs[1].set_ylabel(\"Elefation zForces \\n difference [??]\")\n",
    "axs[1].grid(\":\", alpha=0.2)\n",
    "\n",
    "fig.suptitle(f\"{test_execution} - M1M3 Elevation zForces\")\n",
    "fig.tight_layout(h_pad=0.3)\n",
    "fig.patch.set_facecolor('white')   \n",
    "\n",
    "fig.savefig(f\"plots/{test_execution}_m1m3_fel_zForces.png\")\n",
    "plt.show()"
   ]
  },
  {
   "cell_type": "markdown",
   "metadata": {},
   "source": [
    "The following plots are extracted from Bo's Notebooks.  \n",
    "The originals are in [lsst-ts/ts_notebooks/bxin/ptg2m1m3].\n",
    "\n",
    "[lsst-ts/ts_notebooks/bxin/ptg2m1m3]: https://github.com/lsst-ts/ts_notebooks/blob/develop/bxin/ptg2m1m3/m1m3_diagnostic.ipynb"
   ]
  },
  {
   "cell_type": "markdown",
   "metadata": {},
   "source": [
    "## M2 Elevation Forces vs LUT\n",
    "\n",
    "Check the M2 elevation forces match what we expect from the implemented LUT."
   ]
  },
  {
   "cell_type": "code",
   "execution_count": null,
   "metadata": {},
   "outputs": [],
   "source": [
    "vandv.m2.plot_m2_actuators()"
   ]
  },
  {
   "cell_type": "code",
   "execution_count": null,
   "metadata": {},
   "outputs": [],
   "source": [
    "axialForces = await mtcs.rem.mtm2.tel_axialForce.aget(timeout=2)\n",
    "tangentForces = await mtcs.rem.mtm2.tel_tangentForce.aget(timeout=2)"
   ]
  },
  {
   "cell_type": "code",
   "execution_count": null,
   "metadata": {},
   "outputs": [],
   "source": [
    "vandv.m2.plotM2Forces(axialForces, tangentForces)"
   ]
  },
  {
   "cell_type": "markdown",
   "metadata": {},
   "source": [
    "## CamHex Vs LUT\n",
    "\n",
    "Check the camera hexapod LUT compensations match what we expect from the implemented LUT"
   ]
  },
  {
   "cell_type": "code",
   "execution_count": null,
   "metadata": {},
   "outputs": [],
   "source": [
    "a = mtcs.rem.mthexapod_1.evt_compensationOffset.get()\n",
    "elevCoeff, tCoeff = vandv.hexapod.coeffs_from_lut(index=1)\n",
    "elev = a.elevation\n",
    "\n",
    "await vandv.hexapod.print_hexapod_position(mtcs.rem.mthexapod_1)    \n",
    "await vandv.hexapod.print_predicted_compensation(elevCoeff, elev)\n",
    "await vandv.hexapod.print_hexapod_uncompensation_values(mtcs.rem.mthexapod_1)\n",
    "await vandv.hexapod.print_hexapod_compensation_values(mtcs.rem.mthexapod_1)"
   ]
  },
  {
   "cell_type": "markdown",
   "metadata": {},
   "source": [
    "## M2Hex vs LUT"
   ]
  },
  {
   "cell_type": "code",
   "execution_count": null,
   "metadata": {},
   "outputs": [],
   "source": [
    "a = mtcs.rem.mthexapod_1.evt_compensationOffset.get()\n",
    "elevCoeff, tCoeff = vandv.hexapod.coeffs_from_lut(index=2)\n",
    "elev = a.elevation\n",
    "\n",
    "await vandv.hexapod.print_hexapod_uncompensation_values(mtcs.rem.mthexapod_2)\n",
    "await vandv.hexapod.print_predicted_compensation(elevCoeff, elev)\n",
    "await vandv.hexapod.print_hexapod_position(mtcs.rem.mthexapod_2)    \n",
    "await vandv.hexapod.print_hexapod_compensation_values(mtcs.rem.mthexapod_2)"
   ]
  },
  {
   "cell_type": "markdown",
   "metadata": {},
   "source": [
    "### Close up"
   ]
  },
  {
   "cell_type": "code",
   "execution_count": null,
   "metadata": {},
   "outputs": [],
   "source": [
    "# Put the telescope back to the original position\n",
    "# Specially if running at TTS\n",
    "target = mtcs.radec_from_azel(az=0, el=80)\n",
    "\n",
    "await mtcs.slew_icrs(ra=target.ra, dec=target.dec, rot_type=RotType.Physical, rot=0)\n",
    "await mtcs.stop_tracking()"
   ]
  },
  {
   "cell_type": "code",
   "execution_count": null,
   "metadata": {},
   "outputs": [],
   "source": [
    "await mtcs.set_state(state=salobj.State.STANDBY, components=[\"mtaos\"])"
   ]
  },
  {
   "cell_type": "code",
   "execution_count": null,
   "metadata": {},
   "outputs": [],
   "source": [
    "await mtcs.lower_m1m3()"
   ]
  },
  {
   "cell_type": "code",
   "execution_count": null,
   "metadata": {},
   "outputs": [],
   "source": [
    "await mtcs.set_state(state=salobj.State.STANDBY, components=[\"mtm1m3\"])"
   ]
  },
  {
   "cell_type": "code",
   "execution_count": null,
   "metadata": {},
   "outputs": [],
   "source": [
    "await mtcs.set_state(state=salobj.State.STANDBY, components=[\"mtm2\"])"
   ]
  },
  {
   "cell_type": "code",
   "execution_count": null,
   "metadata": {},
   "outputs": [],
   "source": [
    "await mtcs.set_state(state=salobj.State.STANDBY, components=[\"mthexapod_1\"])"
   ]
  },
  {
   "cell_type": "code",
   "execution_count": null,
   "metadata": {},
   "outputs": [],
   "source": [
    "await mtcs.set_state(state=salobj.State.STANDBY, components=[\"mthexapod_2\"])"
   ]
  },
  {
   "cell_type": "code",
   "execution_count": null,
   "metadata": {},
   "outputs": [],
   "source": [
    "if exec_info.loc == \"summit\":\n",
    "    await mtcs.standby()\n",
    "\n",
    "else:\n",
    "    # Bring the system back to the original state\n",
    "    await mtcs.set_state(\n",
    "        state=salobj.State.ENABLED,\n",
    "        components=[\n",
    "            \"mtm1m3\", \n",
    "            \"mtm2\",\n",
    "            \"mthexapod_1\",\n",
    "            \"mthexapod_2\",\n",
    "            \"mtaos\",\n",
    "        ],\n",
    "        overrides={\n",
    "            \"mtm1m3\": \"Default\"\n",
    "        }\n",
    "    )"
   ]
  },
  {
   "cell_type": "markdown",
   "metadata": {},
   "source": [
    "## Wrap Up"
   ]
  },
  {
   "cell_type": "code",
   "execution_count": null,
   "metadata": {},
   "outputs": [],
   "source": [
    "await mtcs.lower_m1m3()"
   ]
  },
  {
   "cell_type": "code",
   "execution_count": null,
   "metadata": {
    "tags": []
   },
   "outputs": [],
   "source": [
    "await mtcs.set_state(state=salobj.State.STANDBY, components=[\"mtm1m3\", \"mtm2\", \"mthexapod_1\", \"mthexapod_2\"])"
   ]
  },
  {
   "cell_type": "code",
   "execution_count": null,
   "metadata": {},
   "outputs": [],
   "source": [
    "await mtcs.set_state(state=salobj.State.ENABLED, components=[\"mtm2\", \"mthexapod_1\", \"mthexapod_2\"])"
   ]
  }
 ],
 "metadata": {
  "kernelspec": {
   "display_name": "LSST",
   "language": "python",
   "name": "lsst"
  },
  "language_info": {
   "codemirror_mode": {
    "name": "ipython",
    "version": 3
   },
   "file_extension": ".py",
   "mimetype": "text/x-python",
   "name": "python",
   "nbconvert_exporter": "python",
   "pygments_lexer": "ipython3",
   "version": "3.8.13"
  },
  "toc-showmarkdowntxt": false
 },
 "nbformat": 4,
 "nbformat_minor": 4
}
