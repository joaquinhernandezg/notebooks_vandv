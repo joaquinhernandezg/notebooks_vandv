{
 "cells": [
  {
   "cell_type": "markdown",
   "id": "ce11068e",
   "metadata": {
    "tags": []
   },
   "source": [
    "# [LVV-T2216] Integrated Slew and Tracking Test\n",
    "\n",
    "This notebook is used to execute the [LVV-T2216 (1.0)] test script during System Spread Integration Tests on Level 3.  \n",
    "Execution steps are separated by horizontal lines.   \n",
    "Upon completion, save the notebook and its output as a pdf file to be attached to the test execution in JIRA.  \n",
    "\n",
    "**Note:**\n",
    " - [LVV-T2216] is similar to [LVV-T2290 (2.0)] test case, but without taking a ComCam image.  \n",
    "   The other difference is that M1M3 and M2 are using mount data instead of their internal inclinometer.  \n",
    "   Because of this, make sure that you move the telescope in small steps and always between 82.5 deg and 86.5 deg.\n",
    "   \n",
    "**Requirements:**\n",
    " - All the MT components should be enabled.\n",
    " \n",
    "Execution steps are separated by horizontal lines.  \n",
    "Upon completion, save the notebook and its output as a pdf file to be attached to the test execution in JIRA. \n",
    "\n",
    "**Make sure you run this notebook on TTS before running at the summit.**\n",
    "\n",
    "Please, see the [README] file for the requirements to run this notebook.\n",
    "\n",
    "[LVV-T2215 (2.0)]: https://jira.lsstcorp.org/secure/Tests.jspa#/testCase/LVV-T2215\n",
    "[LVV-T2216]: https://jira.lsstcorp.org/secure/Tests.jspa#/testCase/LVV-T2216\n",
    "[LVV-T2290 (2.0)]: https://jira.lsstcorp.org/secure/Tests.jspa#/testCase/LVV-T2290  \n",
    "[README]: https://github.com/lsst-sitcom/notebooks_vandv/blob/develop/README.md"
   ]
  },
  {
   "cell_type": "markdown",
   "id": "7a6661c7-bee4-4e65-b8b0-92afb6cc4989",
   "metadata": {},
   "source": [
    "## Setting Up Test Environment\n",
    "\n",
    "Before we run the tests, we want to make sure that we have all the libraries imported, remotes connected, etc."
   ]
  },
  {
   "cell_type": "code",
   "execution_count": null,
   "id": "f69fe4e0-a475-47bc-b560-34f8d98c4ae7",
   "metadata": {},
   "outputs": [],
   "source": [
    "test_case = \"LVV-T2216\"\n",
    "test_exec = \"LVV-EXXXX\""
   ]
  },
  {
   "cell_type": "code",
   "execution_count": null,
   "id": "4de42f7a-0bcd-47c8-9d3a-ddc57e6d6db4",
   "metadata": {},
   "outputs": [],
   "source": [
    "%load_ext autoreload\n",
    "%autoreload 2\n",
    "\n",
    "import os\n",
    "import sys\n",
    "import asyncio\n",
    "import logging\n",
    "import time\n",
    "\n",
    "import pandas as pd\n",
    "import numpy as np\n",
    "\n",
    "from matplotlib import pyplot as plt\n",
    "from astropy.time import Time\n",
    "from datetime import datetime, timedelta\n",
    "import pandas as pd\n",
    "\n",
    "from lsst.ts import salobj\n",
    "from lsst.ts.observatory.control.maintel import MTCS, ComCam\n",
    "from lsst.ts.observatory.control import RotType\n",
    "\n",
    "from lsst.sitcom import vandv"
   ]
  },
  {
   "cell_type": "code",
   "execution_count": null,
   "id": "e08cfbbf-ec11-44a6-ab77-9a1183106291",
   "metadata": {},
   "outputs": [],
   "source": [
    "exec_info = vandv.ExecutionInfo()\n",
    "print(exec_info)"
   ]
  },
  {
   "cell_type": "markdown",
   "id": "95fb9002-4c53-4491-85bb-bb801966d849",
   "metadata": {},
   "source": [
    "Use the [LVV-T2344] to test case and notebook to setup all the main telescope components.  \n",
    "This includes simulators as well as real hardware when available (this will depend on when the test is conducted at TTS or on level 3 or on the telescope):  \n",
    "\n",
    "- pointing  \n",
    "- mount ( with the CCW)  \n",
    "- rotator  \n",
    "- ready M1M3: raise mirror, turn on FB, clear forces. Note that if used at level 3, we need to have M1M3 LUT use mount telemetry  \n",
    "- ready M2: turn on FB, clear forces. Note that if used at level 3, we need to have M2 LUT use mount telemetry  \n",
    "- Get cam hex Ready: check config; make sure LUT is on and has valid inputs; make sure hex is at LUT position  \n",
    "- Get M2 hex (simulator) Ready: check config; make sure LUT is on and has valid inputs; make sure hex is at LUT position  \n",
    "- Finally, get the MTAOS CSC ready  \n",
    "\n",
    "[LVV-T2344]: https://jira.lsstcorp.org/secure/Tests.jspa#/testCase/LVV-T2344"
   ]
  },
  {
   "cell_type": "code",
   "execution_count": null,
   "id": "9b4ec348",
   "metadata": {},
   "outputs": [],
   "source": [
    "logging.basicConfig(format=\"%(asctime)s %(name)s: %(message)s\", level=logging.DEBUG)"
   ]
  },
  {
   "cell_type": "code",
   "execution_count": null,
   "id": "5cbe1cee",
   "metadata": {},
   "outputs": [],
   "source": [
    "log = logging.getLogger(\"setup\")\n",
    "log.level = logging.DEBUG"
   ]
  },
  {
   "cell_type": "code",
   "execution_count": null,
   "id": "37ef054e",
   "metadata": {},
   "outputs": [],
   "source": [
    "os.environ[\"LSST_DDS_HISTORYSYNC\"] = \"200\"\n",
    "domain = salobj.Domain()"
   ]
  },
  {
   "cell_type": "code",
   "execution_count": null,
   "id": "3ffca8f4",
   "metadata": {},
   "outputs": [],
   "source": [
    "mtcs = MTCS(domain=domain, log=log)\n",
    "mtcs.set_rem_loglevel(logging.ERROR)"
   ]
  },
  {
   "cell_type": "code",
   "execution_count": null,
   "id": "bed75413",
   "metadata": {},
   "outputs": [],
   "source": [
    "await mtcs.start_task"
   ]
  },
  {
   "cell_type": "markdown",
   "id": "4fed1ffd-9a1c-4ad0-bf60-b2fe21218e87",
   "metadata": {},
   "source": [
    "The cell below exposes the mount so we have a more compact code when moving the telescope carefully while M1M3 and M2 are using it to calculate their look-up tables instead of using their internal inclinometer."
   ]
  },
  {
   "cell_type": "code",
   "execution_count": null,
   "id": "0af52d5f-623a-4ee1-87eb-d9d86c7889f7",
   "metadata": {},
   "outputs": [],
   "source": [
    "mtmount = mtcs.rem.mtmount"
   ]
  },
  {
   "cell_type": "code",
   "execution_count": null,
   "id": "d5cbd3a5-409d-4050-8e2a-7789d9bbd46a",
   "metadata": {},
   "outputs": [],
   "source": [
    "script = salobj.Controller(\"Script\", index=42658885)\n",
    "await asyncio.sleep(10) \n",
    "\n",
    "script.start_task"
   ]
  },
  {
   "cell_type": "markdown",
   "id": "78dc7c29-4e21-4f10-952f-0d238f48987d",
   "metadata": {},
   "source": [
    "## Slewing without LUT corrections\n",
    "  \n",
    "Keep M1M3 and M2 subscribing to their own inclinometer for this step.  \n",
    "  \n",
    "Do the following slew sequence, and watch the Chronograph to make sure there is no abrupt change in elevation angle (otherwise it would fault M1M3). \n",
    "This is done in anticipation of switching the M1M3 LUT from inclinometer to mount telemetry mode.  \n",
    "  \n",
    "Verify that the LUT corrections are not applied by looking at coronograph and ensuring the forces values don't change.  \n",
    "For the hexapod we compare the compensated and uncompensated values.  \n",
    "  \n",
    "Do 4 slews in sequence.  \n",
    "For each slew, track for 39s, simulating a visit.  \n",
    "  \n",
    "**Note:** \n",
    "- The 4 slews need to correspond to an elevation angle between 86.5 deg and 82 deg. \n",
    "- An additional margin is needed due to tracking.  \n",
    "- [85.4, 84.4,83.4,82.4]  \n",
    "  \n",
    "Move to zenith at the end (so that we can start M1M3 with LUT in mount telemetry mode)"
   ]
  },
  {
   "cell_type": "code",
   "execution_count": null,
   "id": "856fd235-b241-45e8-9073-c70b34ae0509",
   "metadata": {},
   "outputs": [],
   "source": [
    "await vandv.mount.moveMountInElevationSteps(mtmount, target_el=90, azimuth=0)"
   ]
  },
  {
   "cell_type": "code",
   "execution_count": null,
   "id": "a03f1c01-c482-47db-a18c-42bb78410f1b",
   "metadata": {},
   "outputs": [],
   "source": [
    "# Ensure that we are not tracking\n",
    "await mtcs.stop_tracking()\n",
    "\n",
    "# Make sure M1M3 is raised\n",
    "await mtcs.raise_m1m3()\n",
    "\n",
    "# Make sure hardpoint corrections are enabled for M1M3\n",
    "await mtcs.enable_m1m3_balance_system()\n",
    "time.sleep(5)\n",
    "\n",
    "await mtcs.reset_m1m3_forces()\n",
    "time.sleep(5)\n",
    "\n",
    "# Make sure hardpoint corrections are enabled for M2\n",
    "await mtcs.enable_m2_balance_system()\n",
    "time.sleep(5)\n",
    "\n",
    "await mtcs.reset_m2_forces()\n",
    "time.sleep(5)"
   ]
  },
  {
   "cell_type": "code",
   "execution_count": null,
   "id": "0112d0a3-0bfa-45e4-a927-4b0b589b8176",
   "metadata": {},
   "outputs": [],
   "source": [
    "print(datetime.now())\n",
    "script.log.info(f\"START - {test_case} {test_exec} Slewing without LUT\")"
   ]
  },
  {
   "cell_type": "code",
   "execution_count": null,
   "id": "04e20601-c8a7-4d9c-9a47-f0989dcb5bad",
   "metadata": {},
   "outputs": [],
   "source": [
    "target = mtcs.radec_from_azel(az=0, el=85.4)\n",
    "await mtcs.slew_icrs(ra=target.ra, dec=target.dec, rot_type=RotType.Physical, rot=0)\n",
    "\n",
    "time.sleep(39.)"
   ]
  },
  {
   "cell_type": "code",
   "execution_count": null,
   "id": "cd727c92-95c6-4fb2-9c7f-aa046e2ad7c3",
   "metadata": {},
   "outputs": [],
   "source": [
    "target = mtcs.radec_from_azel(az=0, el=84.4)\n",
    "await mtcs.slew_icrs(ra=target.ra, dec=target.dec, rot_type=RotType.Physical, rot=0)\n",
    "\n",
    "time.sleep(39.)"
   ]
  },
  {
   "cell_type": "code",
   "execution_count": null,
   "id": "23b4a1a0-123b-4310-a40b-5cdaf570fbd4",
   "metadata": {},
   "outputs": [],
   "source": [
    "target = mtcs.radec_from_azel(az=0, el=83.4)\n",
    "await mtcs.slew_icrs(ra=target.ra, dec=target.dec, rot_type=RotType.Physical, rot=0)\n",
    "\n",
    "time.sleep(39.)"
   ]
  },
  {
   "cell_type": "code",
   "execution_count": null,
   "id": "b730979e-78d4-48eb-b58a-a9cca34895bc",
   "metadata": {},
   "outputs": [],
   "source": [
    "target = mtcs.radec_from_azel(az=0, el=82.4)\n",
    "await mtcs.slew_icrs(ra=target.ra, dec=target.dec, rot_type=RotType.Physical, rot=0)\n",
    "\n",
    "time.sleep(39.)"
   ]
  },
  {
   "cell_type": "code",
   "execution_count": null,
   "id": "77628244-86e7-4053-9c75-1b64415b8039",
   "metadata": {},
   "outputs": [],
   "source": [
    "await mtcs.stop_tracking()"
   ]
  },
  {
   "cell_type": "code",
   "execution_count": null,
   "id": "eb2f37d6-6297-4de2-a7f8-a2191664b238",
   "metadata": {},
   "outputs": [],
   "source": [
    "print(datetime.now())\n",
    "script.log.info(f\"END - {test_case} {test_exec} Slewing without LUT\")"
   ]
  },
  {
   "cell_type": "markdown",
   "id": "2d079944-cb0c-41a7-b3bc-c50d046de12e",
   "metadata": {},
   "source": [
    "## Setting up components"
   ]
  },
  {
   "cell_type": "markdown",
   "id": "3e29d77c-65d8-4d22-ad46-708dcae9a571",
   "metadata": {},
   "source": [
    "### Get M1M3 LUT subscribed to the Mount\n",
    "\n",
    "- Put M1M3 in STANDBY\n",
    "- Change the configuration files to make M1M3 LUT to look at the mount elevation instead of the inclinometer.\n",
    "- Reset the M1M3 CSC\n",
    "- Put M1M3 back in ENABLED state\n",
    "- Raise the mirror, turn on FB, clear forces.\n",
    "- Check that the M1M3 LUT uses the mount telemetry."
   ]
  },
  {
   "cell_type": "code",
   "execution_count": null,
   "id": "b03abed0-b0ea-47e4-8b03-a03e72a2f433",
   "metadata": {},
   "outputs": [],
   "source": [
    "await mtcs.lower_m1m3()\n",
    "\n",
    "await mtcs.set_state(\n",
    "    state=salobj.State.STANDBY,\n",
    "    components=[\"mtm1m3\"], \n",
    "    overrides = {\"mtm1m3\": 'Default'}\n",
    "    )"
   ]
  },
  {
   "cell_type": "markdown",
   "id": "4ccd559a-d0d4-4706-8ee2-2d5e78203346",
   "metadata": {},
   "source": [
    "<div class=\"alert alert-warning\"> Change configuration. </div>"
   ]
  },
  {
   "cell_type": "code",
   "execution_count": null,
   "id": "9a836cfd-cd29-4e2b-aa3f-2392bef048d1",
   "metadata": {},
   "outputs": [],
   "source": [
    "await mtcs.set_state(\n",
    "    state=salobj.State.ENABLED,\n",
    "    components=[\"mtm1m3\"], \n",
    "    overrides = {\"mtm1m3\": 'Default'}\n",
    "    )"
   ]
  },
  {
   "cell_type": "code",
   "execution_count": null,
   "id": "19dcec67-b7a0-4a61-afc3-ceb1401e6725",
   "metadata": {},
   "outputs": [],
   "source": [
    "# Ensure that we are not tracking\n",
    "await mtcs.stop_tracking()\n",
    "\n",
    "# Make sure M1M3 is raised\n",
    "await mtcs.raise_m1m3()\n",
    "\n",
    "# Make sure hardpoint corrections are enabled for M1M3\n",
    "await mtcs.enable_m1m3_balance_system()\n",
    "time.sleep(5)\n",
    "\n",
    "await mtcs.reset_m1m3_forces()\n",
    "time.sleep(5)"
   ]
  },
  {
   "cell_type": "markdown",
   "id": "29c406c2-94f9-4d35-9453-a63007acbc32",
   "metadata": {},
   "source": [
    "### Get M2 LUT subscribed to the Mount\n",
    "\n",
    "- Put M2 in STANDBY\n",
    "- Change the configuration files to make M2 LUT look at the mount elevation instead of the inclinometer.\n",
    "- Reset the M2 EUI.\n",
    "- Put M2 back in ENABLED state\n",
    "- Turn on FB, and clear forces."
   ]
  },
  {
   "cell_type": "code",
   "execution_count": null,
   "id": "6c70bb89-dfd7-485b-baec-0637c29a03b5",
   "metadata": {},
   "outputs": [],
   "source": [
    "await mtcs.set_state(\n",
    "    state=salobj.State.STANDBY,\n",
    "    components=[\"mtm2\"], \n",
    "    )"
   ]
  },
  {
   "cell_type": "markdown",
   "id": "fe7156eb-fc6c-4285-8f2a-40aea686c7d9",
   "metadata": {},
   "source": [
    "<div class=\"alert alert-warning\"> Change configuration. </div>"
   ]
  },
  {
   "cell_type": "code",
   "execution_count": null,
   "id": "a14e6374-5946-4690-8f0e-f4a371885468",
   "metadata": {},
   "outputs": [],
   "source": [
    "await mtcs.set_state(\n",
    "    state=salobj.State.ENABLED,\n",
    "    components=[\"mtm2\"], \n",
    "    )"
   ]
  },
  {
   "cell_type": "code",
   "execution_count": null,
   "id": "3b56f74c-dcad-44aa-95e0-412dc988983c",
   "metadata": {},
   "outputs": [],
   "source": [
    "# Make sure hardpoint corrections are enabled for M2\n",
    "await mtcs.enable_m2_balance_system()\n",
    "time.sleep(5)\n",
    "\n",
    "await mtcs.reset_m2_forces()\n",
    "time.sleep(5)"
   ]
  },
  {
   "cell_type": "markdown",
   "id": "e027820e-db41-4102-aa5a-50ec6f3e883e",
   "metadata": {},
   "source": [
    "### Get CamHex ready\n",
    "- Check config\n",
    "- make sure LUT is on and has valid inputs\n",
    "- make sure the Camhex is at LUT position"
   ]
  },
  {
   "cell_type": "markdown",
   "id": "c169850b-9561-4970-a6db-18f4fc126651",
   "metadata": {},
   "source": [
    "### Get M2 hex Ready\n",
    "- Check config\n",
    "- Make sure LUT is on and has valid inputs\n",
    "- Make sure hex is at LUT position"
   ]
  },
  {
   "cell_type": "markdown",
   "id": "33396f1d-bb09-4cad-ad48-f67c0aaded47",
   "metadata": {},
   "source": [
    "## Slewing with LUT corrections using mount telemetry\n",
    "\n",
    "Do 4 slews in sequence.  \n",
    "For each slew, track for 39s, simulating a visit.  \n",
    "\n",
    "**Note:** \n",
    "- the 4 slews need to correspond to an elevation angle between 86.5 deg and 82 deg.  \n",
    "- An additional margin is needed due to tracking.  \n",
    "- [85.4, 84.4,83.4,82.4]"
   ]
  },
  {
   "cell_type": "code",
   "execution_count": null,
   "id": "839b188f-4567-4d00-9ee9-e501d10fcb22",
   "metadata": {},
   "outputs": [],
   "source": [
    "await vandv.mount.moveMountInElevationSteps(mtmount, target_el=90, azimuth=0)"
   ]
  },
  {
   "cell_type": "code",
   "execution_count": null,
   "id": "138183e1-826c-45a1-b2ab-4d39370a3d3a",
   "metadata": {},
   "outputs": [],
   "source": [
    "# Ensure that we are not tracking\n",
    "await mtcs.stop_tracking()\n",
    "\n",
    "# Make sure M1M3 is raised\n",
    "await mtcs.raise_m1m3()\n",
    "\n",
    "# Make sure hardpoint corrections are enabled for M1M3\n",
    "await mtcs.enable_m1m3_balance_system()\n",
    "time.sleep(5)\n",
    "\n",
    "await mtcs.reset_m1m3_forces()\n",
    "time.sleep(5)\n",
    "\n",
    "# Make sure hardpoint corrections are enabled for M2\n",
    "await mtcs.enable_m2_balance_system()\n",
    "time.sleep(5)\n",
    "\n",
    "await mtcs.reset_m2_forces()\n",
    "time.sleep(5)"
   ]
  },
  {
   "cell_type": "code",
   "execution_count": null,
   "id": "d3406bd9-e4dd-4602-a245-7ccbb0b3a4ef",
   "metadata": {},
   "outputs": [],
   "source": [
    "await vandv.mount.moveMountInElevationSteps(mtmount, target_el=80, azimuth=0)"
   ]
  },
  {
   "cell_type": "code",
   "execution_count": null,
   "id": "58669e29-d304-4c95-b4a0-c8276c997f3c",
   "metadata": {},
   "outputs": [],
   "source": [
    "print(datetime.now())\n",
    "script.log.info(f\"START - {test_case} {test_exec} Slewing with LUT\")"
   ]
  },
  {
   "cell_type": "code",
   "execution_count": null,
   "id": "ff482237-b49a-49e6-90d5-00a0201d6708",
   "metadata": {},
   "outputs": [],
   "source": [
    "target = mtcs.radec_from_azel(az=0, el=85.4)\n",
    "await mtcs.slew_icrs(ra=target.ra, dec=target.dec, rot_type=RotType.Physical, rot=0)\n",
    "\n",
    "time.sleep(39.)"
   ]
  },
  {
   "cell_type": "code",
   "execution_count": null,
   "id": "c253be91-45d5-40a5-9d7f-fe534d4d595f",
   "metadata": {},
   "outputs": [],
   "source": [
    "target = mtcs.radec_from_azel(az=0, el=84.4)\n",
    "await mtcs.slew_icrs(ra=target.ra, dec=target.dec, rot_type=RotType.Physical, rot=0)\n",
    "\n",
    "time.sleep(39.)"
   ]
  },
  {
   "cell_type": "code",
   "execution_count": null,
   "id": "e645ebbe-b9b0-4d64-9126-4ff8892b2247",
   "metadata": {},
   "outputs": [],
   "source": [
    "target = mtcs.radec_from_azel(az=0, el=83.4)\n",
    "await mtcs.slew_icrs(ra=target.ra, dec=target.dec, rot_type=RotType.Physical, rot=0)\n",
    "\n",
    "time.sleep(39.)"
   ]
  },
  {
   "cell_type": "code",
   "execution_count": null,
   "id": "f9411926-bdb8-422b-ab01-ef7ff7f428cc",
   "metadata": {},
   "outputs": [],
   "source": [
    "target = mtcs.radec_from_azel(az=0, el=82.4)\n",
    "await mtcs.slew_icrs(ra=target.ra, dec=target.dec, rot_type=RotType.Physical, rot=0)\n",
    "\n",
    "time.sleep(39.)"
   ]
  },
  {
   "cell_type": "code",
   "execution_count": null,
   "id": "b51bae8e-8f6a-4b66-a0d4-d4ab7322d08b",
   "metadata": {},
   "outputs": [],
   "source": [
    "await mtcs.stop_tracking()"
   ]
  },
  {
   "cell_type": "code",
   "execution_count": null,
   "id": "a74db822-ea2a-473b-b8ea-4565447b2898",
   "metadata": {},
   "outputs": [],
   "source": [
    "print(datetime.now())\n",
    "script.log.info(f\"END - {test_case} {test_exec} Slewing with LUT\")"
   ]
  },
  {
   "cell_type": "markdown",
   "id": "2213f0f3-a619-4a25-93b4-27a6ff0a2672",
   "metadata": {},
   "source": [
    "***\n",
    "## Plot The Results\n",
    "\n",
    "Use the [LVV-T2216-plots] notebook to plot the results. \n",
    "\n",
    "[LVV-T2216-plots]: https://"
   ]
  },
  {
   "cell_type": "markdown",
   "id": "26eb67e7",
   "metadata": {},
   "source": [
    "***\n",
    "## Wrap Up and Shut Down\n",
    "\n",
    "This cell is not currently included as part of the test execution, but included here as needed to shutdown the systems"
   ]
  },
  {
   "cell_type": "code",
   "execution_count": null,
   "id": "205efdfb",
   "metadata": {},
   "outputs": [],
   "source": [
    "await mtcs.set_state(salobj.State.STANDBY, components=[\"mtaos\"])"
   ]
  },
  {
   "cell_type": "code",
   "execution_count": null,
   "id": "4422cced",
   "metadata": {},
   "outputs": [],
   "source": [
    "await mtcs.lower_m1m3()"
   ]
  },
  {
   "cell_type": "code",
   "execution_count": null,
   "id": "56bd32da",
   "metadata": {},
   "outputs": [],
   "source": [
    "await mtcs.set_state(salobj.State.STANDBY, components=[\"mtm1m3\"])"
   ]
  },
  {
   "cell_type": "code",
   "execution_count": null,
   "id": "219b074f",
   "metadata": {},
   "outputs": [],
   "source": [
    "await mtcs.set_state(salobj.State.STANDBY, components=[\"mtm2\"])"
   ]
  },
  {
   "cell_type": "code",
   "execution_count": null,
   "id": "16eafb32",
   "metadata": {},
   "outputs": [],
   "source": [
    "await mtcs.set_state(salobj.State.STANDBY, components=[\"mthexapod_1\"])"
   ]
  },
  {
   "cell_type": "code",
   "execution_count": null,
   "id": "3627f687",
   "metadata": {},
   "outputs": [],
   "source": [
    "await mtcs.set_state(salobj.State.STANDBY, components=[\"mthexapod_2\"])"
   ]
  },
  {
   "cell_type": "code",
   "execution_count": null,
   "id": "d1cfb6df",
   "metadata": {},
   "outputs": [],
   "source": [
    "await mtcs.standby()"
   ]
  }
 ],
 "metadata": {
  "kernelspec": {
   "display_name": "LSST",
   "language": "python",
   "name": "lsst"
  },
  "language_info": {
   "codemirror_mode": {
    "name": "ipython",
    "version": 3
   },
   "file_extension": ".py",
   "mimetype": "text/x-python",
   "name": "python",
   "nbconvert_exporter": "python",
   "pygments_lexer": "ipython3",
   "version": "3.10.4"
  },
  "toc-autonumbering": false
 },
 "nbformat": 4,
 "nbformat_minor": 5
}
